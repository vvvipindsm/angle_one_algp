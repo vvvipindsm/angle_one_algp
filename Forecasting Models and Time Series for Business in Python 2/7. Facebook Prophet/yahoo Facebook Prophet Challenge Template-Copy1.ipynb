{
 "cells": [
  {
   "cell_type": "markdown",
   "metadata": {
    "id": "QZK36hW6M7cl"
   },
   "source": [
    "#Libraries and Data"
   ]
  },
  {
   "cell_type": "code",
   "execution_count": 1,
   "metadata": {
    "executionInfo": {
     "elapsed": 957,
     "status": "ok",
     "timestamp": 1620799968854,
     "user": {
      "displayName": "Diogo Resende",
      "photoUrl": "https://lh3.googleusercontent.com/a-/AOh14GgH4DE06-yE1oiIzCiaAURCl1Escr4LXXiaSnbSaA=s64",
      "userId": "05706604408624562002"
     },
     "user_tz": -120
    },
    "id": "xBzm1qtYNE6M"
   },
   "outputs": [
    {
     "name": "stderr",
     "output_type": "stream",
     "text": [
      "/Users/vipin/opt/anaconda3/envs/my_own/lib/python3.9/site-packages/tqdm/auto.py:21: TqdmWarning: IProgress not found. Please update jupyter and ipywidgets. See https://ipywidgets.readthedocs.io/en/stable/user_install.html\n",
      "  from .autonotebook import tqdm as notebook_tqdm\n",
      "Importing plotly failed. Interactive plots will not work.\n"
     ]
    }
   ],
   "source": [
    "#import libraries\n",
    "import numpy as np\n",
    "import pandas as pd\n",
    "import itertools\n",
    "from prophet import Prophet\n",
    "import yfinance\n"
   ]
  },
  {
   "cell_type": "code",
   "execution_count": 2,
   "metadata": {
    "colab": {
     "base_uri": "https://localhost:8080/",
     "height": 326
    },
    "executionInfo": {
     "elapsed": 480,
     "status": "ok",
     "timestamp": 1620800167663,
     "user": {
      "displayName": "Diogo Resende",
      "photoUrl": "https://lh3.googleusercontent.com/a-/AOh14GgH4DE06-yE1oiIzCiaAURCl1Escr4LXXiaSnbSaA=s64",
      "userId": "05706604408624562002"
     },
     "user_tz": -120
    },
    "id": "oA14ejKbN1L3",
    "outputId": "d5969d5f-1086-4c5e-94d6-7af7cf319cfb"
   },
   "outputs": [
    {
     "name": "stdout",
     "output_type": "stream",
     "text": [
      "[*********************100%***********************]  1 of 1 completed\n"
     ]
    },
    {
     "data": {
      "text/html": [
       "<div>\n",
       "<style scoped>\n",
       "    .dataframe tbody tr th:only-of-type {\n",
       "        vertical-align: middle;\n",
       "    }\n",
       "\n",
       "    .dataframe tbody tr th {\n",
       "        vertical-align: top;\n",
       "    }\n",
       "\n",
       "    .dataframe thead th {\n",
       "        text-align: right;\n",
       "    }\n",
       "</style>\n",
       "<table border=\"1\" class=\"dataframe\">\n",
       "  <thead>\n",
       "    <tr style=\"text-align: right;\">\n",
       "      <th></th>\n",
       "      <th>Open</th>\n",
       "      <th>High</th>\n",
       "      <th>Low</th>\n",
       "      <th>Close</th>\n",
       "      <th>Volume</th>\n",
       "    </tr>\n",
       "    <tr>\n",
       "      <th>Date</th>\n",
       "      <th></th>\n",
       "      <th></th>\n",
       "      <th></th>\n",
       "      <th></th>\n",
       "      <th></th>\n",
       "    </tr>\n",
       "  </thead>\n",
       "  <tbody>\n",
       "    <tr>\n",
       "      <th>2023-06-20</th>\n",
       "      <td>223.100006</td>\n",
       "      <td>226.350006</td>\n",
       "      <td>222.600006</td>\n",
       "      <td>224.949997</td>\n",
       "      <td>11221842</td>\n",
       "    </tr>\n",
       "    <tr>\n",
       "      <th>2023-06-21</th>\n",
       "      <td>225.250000</td>\n",
       "      <td>226.000000</td>\n",
       "      <td>222.600006</td>\n",
       "      <td>224.300003</td>\n",
       "      <td>6987933</td>\n",
       "    </tr>\n",
       "    <tr>\n",
       "      <th>2023-06-22</th>\n",
       "      <td>224.850006</td>\n",
       "      <td>225.149994</td>\n",
       "      <td>220.500000</td>\n",
       "      <td>221.100006</td>\n",
       "      <td>6857007</td>\n",
       "    </tr>\n",
       "    <tr>\n",
       "      <th>2023-06-23</th>\n",
       "      <td>222.000000</td>\n",
       "      <td>222.100006</td>\n",
       "      <td>215.699997</td>\n",
       "      <td>218.300003</td>\n",
       "      <td>10890426</td>\n",
       "    </tr>\n",
       "    <tr>\n",
       "      <th>2023-06-26</th>\n",
       "      <td>218.300003</td>\n",
       "      <td>219.350006</td>\n",
       "      <td>216.300003</td>\n",
       "      <td>218.600006</td>\n",
       "      <td>5131270</td>\n",
       "    </tr>\n",
       "  </tbody>\n",
       "</table>\n",
       "</div>"
      ],
      "text/plain": [
       "                  Open        High         Low       Close    Volume\n",
       "Date                                                                \n",
       "2023-06-20  223.100006  226.350006  222.600006  224.949997  11221842\n",
       "2023-06-21  225.250000  226.000000  222.600006  224.300003   6987933\n",
       "2023-06-22  224.850006  225.149994  220.500000  221.100006   6857007\n",
       "2023-06-23  222.000000  222.100006  215.699997  218.300003  10890426\n",
       "2023-06-26  218.300003  219.350006  216.300003  218.600006   5131270"
      ]
     },
     "execution_count": 2,
     "metadata": {},
     "output_type": "execute_result"
    }
   ],
   "source": [
    "#load the data\n",
    "\n",
    "data = yfinance.download (tickers = \"TATAPOWER.NS\",start=\"2000-03-06\",\n",
    "                               interval = \"1d\", group_by = 'ticker', auto_adjust = True)\n",
    "\n",
    "data.tail()"
   ]
  },
  {
   "cell_type": "markdown",
   "metadata": {
    "id": "6RKxpqoBOSBX"
   },
   "source": [
    "#Data preparation"
   ]
  },
  {
   "cell_type": "code",
   "execution_count": 9,
   "metadata": {
    "colab": {
     "base_uri": "https://localhost:8080/",
     "height": 79
    },
    "executionInfo": {
     "elapsed": 590,
     "status": "ok",
     "timestamp": 1620800851990,
     "user": {
      "displayName": "Diogo Resende",
      "photoUrl": "https://lh3.googleusercontent.com/a-/AOh14GgH4DE06-yE1oiIzCiaAURCl1Escr4LXXiaSnbSaA=s64",
      "userId": "05706604408624562002"
     },
     "user_tz": -120
    },
    "id": "D3FRYUauQWkz",
    "outputId": "46ccffb4-51ba-4f2f-f9d0-145549f7d4a9"
   },
   "outputs": [
    {
     "data": {
      "text/html": [
       "<div>\n",
       "<style scoped>\n",
       "    .dataframe tbody tr th:only-of-type {\n",
       "        vertical-align: middle;\n",
       "    }\n",
       "\n",
       "    .dataframe tbody tr th {\n",
       "        vertical-align: top;\n",
       "    }\n",
       "\n",
       "    .dataframe thead th {\n",
       "        text-align: right;\n",
       "    }\n",
       "</style>\n",
       "<table border=\"1\" class=\"dataframe\">\n",
       "  <thead>\n",
       "    <tr style=\"text-align: right;\">\n",
       "      <th></th>\n",
       "      <th>Open</th>\n",
       "      <th>High</th>\n",
       "      <th>Low</th>\n",
       "      <th>y</th>\n",
       "      <th>Volume</th>\n",
       "    </tr>\n",
       "    <tr>\n",
       "      <th>Date</th>\n",
       "      <th></th>\n",
       "      <th></th>\n",
       "      <th></th>\n",
       "      <th></th>\n",
       "      <th></th>\n",
       "    </tr>\n",
       "  </thead>\n",
       "  <tbody>\n",
       "    <tr>\n",
       "      <th>2023-06-26</th>\n",
       "      <td>218.300003</td>\n",
       "      <td>219.350006</td>\n",
       "      <td>216.300003</td>\n",
       "      <td>218.600006</td>\n",
       "      <td>5131270</td>\n",
       "    </tr>\n",
       "  </tbody>\n",
       "</table>\n",
       "</div>"
      ],
      "text/plain": [
       "                  Open        High         Low           y   Volume\n",
       "Date                                                               \n",
       "2023-06-26  218.300003  219.350006  216.300003  218.600006  5131270"
      ]
     },
     "execution_count": 9,
     "metadata": {},
     "output_type": "execute_result"
    }
   ],
   "source": [
    "#renaming variables\n",
    "data = data.rename(columns = {'Close': 'y',\n",
    "                          'Date': 'ds'})\n",
    "data.tail(1)"
   ]
  },
  {
   "cell_type": "markdown",
   "metadata": {
    "id": "rbI03M5DQnf7"
   },
   "source": [
    "#Holidays"
   ]
  },
  {
   "cell_type": "code",
   "execution_count": 6,
   "metadata": {
    "colab": {
     "base_uri": "https://localhost:8080/",
     "height": 110
    },
    "executionInfo": {
     "elapsed": 576,
     "status": "ok",
     "timestamp": 1620801072473,
     "user": {
      "displayName": "Diogo Resende",
      "photoUrl": "https://lh3.googleusercontent.com/a-/AOh14GgH4DE06-yE1oiIzCiaAURCl1Escr4LXXiaSnbSaA=s64",
      "userId": "05706604408624562002"
     },
     "user_tz": -120
    },
    "id": "-iN1u_ZbQo_R",
    "outputId": "1f884a87-d242-4141-f686-5ad52b11b5b0"
   },
   "outputs": [
    {
     "data": {
      "text/html": [
       "<div>\n",
       "<style scoped>\n",
       "    .dataframe tbody tr th:only-of-type {\n",
       "        vertical-align: middle;\n",
       "    }\n",
       "\n",
       "    .dataframe tbody tr th {\n",
       "        vertical-align: top;\n",
       "    }\n",
       "\n",
       "    .dataframe thead th {\n",
       "        text-align: right;\n",
       "    }\n",
       "</style>\n",
       "<table border=\"1\" class=\"dataframe\">\n",
       "  <thead>\n",
       "    <tr style=\"text-align: right;\">\n",
       "      <th></th>\n",
       "      <th>holiday</th>\n",
       "      <th>ds</th>\n",
       "      <th>lower_window</th>\n",
       "      <th>upper_window</th>\n",
       "    </tr>\n",
       "  </thead>\n",
       "  <tbody>\n",
       "    <tr>\n",
       "      <th>109</th>\n",
       "      <td>easter</td>\n",
       "      <td>2014-04-20</td>\n",
       "      <td>-5</td>\n",
       "      <td>2</td>\n",
       "    </tr>\n",
       "    <tr>\n",
       "      <th>459</th>\n",
       "      <td>easter</td>\n",
       "      <td>2015-04-05</td>\n",
       "      <td>-5</td>\n",
       "      <td>2</td>\n",
       "    </tr>\n",
       "  </tbody>\n",
       "</table>\n",
       "</div>"
      ],
      "text/plain": [
       "    holiday         ds  lower_window  upper_window\n",
       "109  easter 2014-04-20            -5             2\n",
       "459  easter 2015-04-05            -5             2"
      ]
     },
     "execution_count": 6,
     "metadata": {},
     "output_type": "execute_result"
    }
   ],
   "source": [
    "#Easter\n",
    "#easter_dates = df[df.Easter == 1].ds\n",
    "#easter = pd.DataFrame({'holiday': 'easter',\n",
    " #                      'ds': pd.to_datetime(easter_dates),\n",
    "  #                     'lower_window': -5,\n",
    "   #                    'upper_window': 2})\n",
    "#easter.head(2)"
   ]
  },
  {
   "cell_type": "code",
   "execution_count": 7,
   "metadata": {
    "colab": {
     "base_uri": "https://localhost:8080/",
     "height": 110
    },
    "executionInfo": {
     "elapsed": 940,
     "status": "ok",
     "timestamp": 1620801128316,
     "user": {
      "displayName": "Diogo Resende",
      "photoUrl": "https://lh3.googleusercontent.com/a-/AOh14GgH4DE06-yE1oiIzCiaAURCl1Escr4LXXiaSnbSaA=s64",
      "userId": "05706604408624562002"
     },
     "user_tz": -120
    },
    "id": "PhOrTqnKRcFB",
    "outputId": "9d9de58a-a936-4283-a3ea-49e4926313d5"
   },
   "outputs": [
    {
     "data": {
      "text/html": [
       "<div>\n",
       "<style scoped>\n",
       "    .dataframe tbody tr th:only-of-type {\n",
       "        vertical-align: middle;\n",
       "    }\n",
       "\n",
       "    .dataframe tbody tr th {\n",
       "        vertical-align: top;\n",
       "    }\n",
       "\n",
       "    .dataframe thead th {\n",
       "        text-align: right;\n",
       "    }\n",
       "</style>\n",
       "<table border=\"1\" class=\"dataframe\">\n",
       "  <thead>\n",
       "    <tr style=\"text-align: right;\">\n",
       "      <th></th>\n",
       "      <th>holiday</th>\n",
       "      <th>ds</th>\n",
       "      <th>lower_window</th>\n",
       "      <th>upper_window</th>\n",
       "    </tr>\n",
       "  </thead>\n",
       "  <tbody>\n",
       "    <tr>\n",
       "      <th>330</th>\n",
       "      <td>thanksgiving</td>\n",
       "      <td>2014-11-27</td>\n",
       "      <td>-5</td>\n",
       "      <td>2</td>\n",
       "    </tr>\n",
       "    <tr>\n",
       "      <th>694</th>\n",
       "      <td>thanksgiving</td>\n",
       "      <td>2015-11-26</td>\n",
       "      <td>-5</td>\n",
       "      <td>2</td>\n",
       "    </tr>\n",
       "  </tbody>\n",
       "</table>\n",
       "</div>"
      ],
      "text/plain": [
       "          holiday         ds  lower_window  upper_window\n",
       "330  thanksgiving 2014-11-27            -5             2\n",
       "694  thanksgiving 2015-11-26            -5             2"
      ]
     },
     "execution_count": 7,
     "metadata": {},
     "output_type": "execute_result"
    }
   ],
   "source": [
    "#Thanksgiving\n",
    "#thanksgiving_dates = df[df.Thanksgiving == 1].ds\n",
    "#thanksgiving = pd.DataFrame({'holiday': 'thanksgiving',\n",
    " #                      'ds': pd.to_datetime(thanksgiving_dates),\n",
    "  #                     'lower_window': -5,\n",
    "   #                    'upper_window': 2})\n",
    "#thanksgiving.head(2)"
   ]
  },
  {
   "cell_type": "code",
   "execution_count": 8,
   "metadata": {
    "colab": {
     "base_uri": "https://localhost:8080/",
     "height": 478
    },
    "executionInfo": {
     "elapsed": 662,
     "status": "ok",
     "timestamp": 1620801208217,
     "user": {
      "displayName": "Diogo Resende",
      "photoUrl": "https://lh3.googleusercontent.com/a-/AOh14GgH4DE06-yE1oiIzCiaAURCl1Escr4LXXiaSnbSaA=s64",
      "userId": "05706604408624562002"
     },
     "user_tz": -120
    },
    "id": "cmcQZKjgRp06",
    "outputId": "99cc14ca-205d-4306-9aeb-d9148565598c"
   },
   "outputs": [
    {
     "data": {
      "text/html": [
       "<div>\n",
       "<style scoped>\n",
       "    .dataframe tbody tr th:only-of-type {\n",
       "        vertical-align: middle;\n",
       "    }\n",
       "\n",
       "    .dataframe tbody tr th {\n",
       "        vertical-align: top;\n",
       "    }\n",
       "\n",
       "    .dataframe thead th {\n",
       "        text-align: right;\n",
       "    }\n",
       "</style>\n",
       "<table border=\"1\" class=\"dataframe\">\n",
       "  <thead>\n",
       "    <tr style=\"text-align: right;\">\n",
       "      <th></th>\n",
       "      <th>holiday</th>\n",
       "      <th>ds</th>\n",
       "      <th>lower_window</th>\n",
       "      <th>upper_window</th>\n",
       "    </tr>\n",
       "  </thead>\n",
       "  <tbody>\n",
       "    <tr>\n",
       "      <th>109</th>\n",
       "      <td>easter</td>\n",
       "      <td>2014-04-20</td>\n",
       "      <td>-5</td>\n",
       "      <td>2</td>\n",
       "    </tr>\n",
       "    <tr>\n",
       "      <th>459</th>\n",
       "      <td>easter</td>\n",
       "      <td>2015-04-05</td>\n",
       "      <td>-5</td>\n",
       "      <td>2</td>\n",
       "    </tr>\n",
       "    <tr>\n",
       "      <th>816</th>\n",
       "      <td>easter</td>\n",
       "      <td>2016-03-27</td>\n",
       "      <td>-5</td>\n",
       "      <td>2</td>\n",
       "    </tr>\n",
       "    <tr>\n",
       "      <th>1201</th>\n",
       "      <td>easter</td>\n",
       "      <td>2017-04-16</td>\n",
       "      <td>-5</td>\n",
       "      <td>2</td>\n",
       "    </tr>\n",
       "    <tr>\n",
       "      <th>1551</th>\n",
       "      <td>easter</td>\n",
       "      <td>2018-04-01</td>\n",
       "      <td>-5</td>\n",
       "      <td>2</td>\n",
       "    </tr>\n",
       "    <tr>\n",
       "      <th>1936</th>\n",
       "      <td>easter</td>\n",
       "      <td>2019-04-21</td>\n",
       "      <td>-5</td>\n",
       "      <td>2</td>\n",
       "    </tr>\n",
       "    <tr>\n",
       "      <th>2293</th>\n",
       "      <td>easter</td>\n",
       "      <td>2020-04-12</td>\n",
       "      <td>-5</td>\n",
       "      <td>2</td>\n",
       "    </tr>\n",
       "    <tr>\n",
       "      <th>330</th>\n",
       "      <td>thanksgiving</td>\n",
       "      <td>2014-11-27</td>\n",
       "      <td>-5</td>\n",
       "      <td>2</td>\n",
       "    </tr>\n",
       "    <tr>\n",
       "      <th>694</th>\n",
       "      <td>thanksgiving</td>\n",
       "      <td>2015-11-26</td>\n",
       "      <td>-5</td>\n",
       "      <td>2</td>\n",
       "    </tr>\n",
       "    <tr>\n",
       "      <th>1058</th>\n",
       "      <td>thanksgiving</td>\n",
       "      <td>2016-11-24</td>\n",
       "      <td>-5</td>\n",
       "      <td>2</td>\n",
       "    </tr>\n",
       "    <tr>\n",
       "      <th>1422</th>\n",
       "      <td>thanksgiving</td>\n",
       "      <td>2017-11-23</td>\n",
       "      <td>-5</td>\n",
       "      <td>2</td>\n",
       "    </tr>\n",
       "    <tr>\n",
       "      <th>1786</th>\n",
       "      <td>thanksgiving</td>\n",
       "      <td>2018-11-22</td>\n",
       "      <td>-5</td>\n",
       "      <td>2</td>\n",
       "    </tr>\n",
       "    <tr>\n",
       "      <th>2157</th>\n",
       "      <td>thanksgiving</td>\n",
       "      <td>2019-11-28</td>\n",
       "      <td>-5</td>\n",
       "      <td>2</td>\n",
       "    </tr>\n",
       "    <tr>\n",
       "      <th>2521</th>\n",
       "      <td>thanksgiving</td>\n",
       "      <td>2020-11-26</td>\n",
       "      <td>-5</td>\n",
       "      <td>2</td>\n",
       "    </tr>\n",
       "  </tbody>\n",
       "</table>\n",
       "</div>"
      ],
      "text/plain": [
       "           holiday         ds  lower_window  upper_window\n",
       "109         easter 2014-04-20            -5             2\n",
       "459         easter 2015-04-05            -5             2\n",
       "816         easter 2016-03-27            -5             2\n",
       "1201        easter 2017-04-16            -5             2\n",
       "1551        easter 2018-04-01            -5             2\n",
       "1936        easter 2019-04-21            -5             2\n",
       "2293        easter 2020-04-12            -5             2\n",
       "330   thanksgiving 2014-11-27            -5             2\n",
       "694   thanksgiving 2015-11-26            -5             2\n",
       "1058  thanksgiving 2016-11-24            -5             2\n",
       "1422  thanksgiving 2017-11-23            -5             2\n",
       "1786  thanksgiving 2018-11-22            -5             2\n",
       "2157  thanksgiving 2019-11-28            -5             2\n",
       "2521  thanksgiving 2020-11-26            -5             2"
      ]
     },
     "execution_count": 8,
     "metadata": {},
     "output_type": "execute_result"
    }
   ],
   "source": [
    "#combining holidays\n",
    "#holidays = pd.concat([easter, thanksgiving])\n",
    "#holidays"
   ]
  },
  {
   "cell_type": "code",
   "execution_count": 10,
   "metadata": {},
   "outputs": [],
   "source": [
    "\n",
    "df['ds'] = pd.to_datetime(data.index.values,\n",
    "                          format = \"%Y-%m-%d\")"
   ]
  },
  {
   "cell_type": "code",
   "execution_count": 23,
   "metadata": {},
   "outputs": [
    {
     "data": {
      "text/plain": [
       "5819"
      ]
     },
     "execution_count": 23,
     "metadata": {},
     "output_type": "execute_result"
    }
   ],
   "source": [
    "len(df)"
   ]
  },
  {
   "cell_type": "markdown",
   "metadata": {
    "id": "eOzPNoRySOA5"
   },
   "source": [
    "#Prophet"
   ]
  },
  {
   "cell_type": "code",
   "execution_count": 14,
   "metadata": {
    "colab": {
     "base_uri": "https://localhost:8080/"
    },
    "executionInfo": {
     "elapsed": 7506,
     "status": "ok",
     "timestamp": 1620801393802,
     "user": {
      "displayName": "Diogo Resende",
      "photoUrl": "https://lh3.googleusercontent.com/a-/AOh14GgH4DE06-yE1oiIzCiaAURCl1Escr4LXXiaSnbSaA=s64",
      "userId": "05706604408624562002"
     },
     "user_tz": -120
    },
    "id": "Ai7zk9f7SPVK",
    "outputId": "a0db788b-c3f3-4130-c35a-665e0983f86f"
   },
   "outputs": [
    {
     "name": "stderr",
     "output_type": "stream",
     "text": [
      "18:31:35 - cmdstanpy - INFO - Chain [1] start processing\n",
      "18:31:48 - cmdstanpy - INFO - Chain [1] done processing\n"
     ]
    },
    {
     "data": {
      "text/plain": [
       "<prophet.forecaster.Prophet at 0x7fbd071e6760>"
      ]
     },
     "execution_count": 14,
     "metadata": {},
     "output_type": "execute_result"
    }
   ],
   "source": [
    "m = Prophet(\n",
    "            #holidays = holidays,\n",
    "            seasonality_mode = 'multiplicative',\n",
    "            seasonality_prior_scale = 10,\n",
    "            changepoint_prior_scale = 0.05,\n",
    "            holidays_prior_scale = 10)\n",
    "#m.add_regressor('Christmas')\n",
    "m.fit(df)"
   ]
  },
  {
   "cell_type": "code",
   "execution_count": 24,
   "metadata": {
    "colab": {
     "base_uri": "https://localhost:8080/"
    },
    "executionInfo": {
     "elapsed": 40953,
     "status": "ok",
     "timestamp": 1620801499462,
     "user": {
      "displayName": "Diogo Resende",
      "photoUrl": "https://lh3.googleusercontent.com/a-/AOh14GgH4DE06-yE1oiIzCiaAURCl1Escr4LXXiaSnbSaA=s64",
      "userId": "05706604408624562002"
     },
     "user_tz": -120
    },
    "id": "F2FDXiJsSqfr",
    "outputId": "a5b8fb41-ae30-4bb3-f5c9-8e854be71939"
   },
   "outputs": [
    {
     "name": "stderr",
     "output_type": "stream",
     "text": [
      "Importing plotly failed. Interactive plots will not work.\n",
      "Importing plotly failed. Interactive plots will not work.\n",
      "Importing plotly failed. Interactive plots will not work.\n",
      "Importing plotly failed. Interactive plots will not work.\n",
      "18:56:55 - cmdstanpy - INFO - Chain [1] start processing\n",
      "18:56:55 - cmdstanpy - INFO - Chain [1] start processing\n",
      "18:56:55 - cmdstanpy - INFO - Chain [1] start processing\n",
      "18:56:55 - cmdstanpy - INFO - Chain [1] start processing\n",
      "18:57:03 - cmdstanpy - INFO - Chain [1] done processing\n",
      "18:57:04 - cmdstanpy - INFO - Chain [1] start processing\n",
      "18:57:08 - cmdstanpy - INFO - Chain [1] done processing\n",
      "18:57:08 - cmdstanpy - INFO - Chain [1] start processing\n",
      "18:57:09 - cmdstanpy - INFO - Chain [1] done processing\n",
      "18:57:09 - cmdstanpy - INFO - Chain [1] start processing\n",
      "18:57:10 - cmdstanpy - INFO - Chain [1] done processing\n",
      "18:57:10 - cmdstanpy - INFO - Chain [1] start processing\n",
      "18:57:20 - cmdstanpy - INFO - Chain [1] done processing\n",
      "18:57:20 - cmdstanpy - INFO - Chain [1] start processing\n",
      "18:57:24 - cmdstanpy - INFO - Chain [1] done processing\n",
      "18:57:25 - cmdstanpy - INFO - Chain [1] done processing\n",
      "18:57:25 - cmdstanpy - INFO - Chain [1] done processing\n",
      "18:57:25 - cmdstanpy - INFO - Chain [1] start processing\n",
      "18:57:25 - cmdstanpy - INFO - Chain [1] start processing\n",
      "18:57:25 - cmdstanpy - INFO - Chain [1] start processing\n",
      "18:57:34 - cmdstanpy - INFO - Chain [1] done processing\n",
      "18:57:34 - cmdstanpy - INFO - Chain [1] start processing\n",
      "18:57:34 - cmdstanpy - INFO - Chain [1] done processing\n",
      "18:57:35 - cmdstanpy - INFO - Chain [1] start processing\n",
      "18:57:39 - cmdstanpy - INFO - Chain [1] done processing\n",
      "18:57:40 - cmdstanpy - INFO - Chain [1] done processing\n",
      "18:57:40 - cmdstanpy - INFO - Chain [1] start processing\n",
      "18:57:40 - cmdstanpy - INFO - Chain [1] start processing\n",
      "18:57:47 - cmdstanpy - INFO - Chain [1] done processing\n",
      "18:57:48 - cmdstanpy - INFO - Chain [1] done processing\n",
      "18:57:48 - cmdstanpy - INFO - Chain [1] start processing\n",
      "18:57:49 - cmdstanpy - INFO - Chain [1] start processing\n",
      "18:57:56 - cmdstanpy - INFO - Chain [1] done processing\n",
      "18:57:56 - cmdstanpy - INFO - Chain [1] done processing\n",
      "18:57:56 - cmdstanpy - INFO - Chain [1] start processing\n",
      "18:57:57 - cmdstanpy - INFO - Chain [1] done processing\n",
      "18:57:57 - cmdstanpy - INFO - Chain [1] start processing\n",
      "18:57:57 - cmdstanpy - INFO - Chain [1] start processing\n",
      "18:58:01 - cmdstanpy - INFO - Chain [1] done processing\n",
      "18:58:01 - cmdstanpy - INFO - Chain [1] start processing\n",
      "18:58:06 - cmdstanpy - INFO - Chain [1] done processing\n",
      "18:58:07 - cmdstanpy - INFO - Chain [1] start processing\n",
      "18:58:10 - cmdstanpy - INFO - Chain [1] done processing\n",
      "18:58:11 - cmdstanpy - INFO - Chain [1] start processing\n",
      "18:58:12 - cmdstanpy - INFO - Chain [1] done processing\n",
      "18:58:12 - cmdstanpy - INFO - Chain [1] start processing\n",
      "18:58:15 - cmdstanpy - INFO - Chain [1] done processing\n",
      "18:58:15 - cmdstanpy - INFO - Chain [1] start processing\n",
      "18:58:21 - cmdstanpy - INFO - Chain [1] done processing\n",
      "18:58:21 - cmdstanpy - INFO - Chain [1] done processing\n",
      "18:58:22 - cmdstanpy - INFO - Chain [1] start processing\n",
      "18:58:22 - cmdstanpy - INFO - Chain [1] start processing\n",
      "18:58:24 - cmdstanpy - INFO - Chain [1] done processing\n",
      "18:58:25 - cmdstanpy - INFO - Chain [1] start processing\n",
      "18:58:25 - cmdstanpy - INFO - Chain [1] done processing\n",
      "18:58:26 - cmdstanpy - INFO - Chain [1] start processing\n",
      "18:58:34 - cmdstanpy - INFO - Chain [1] done processing\n",
      "18:58:35 - cmdstanpy - INFO - Chain [1] start processing\n",
      "18:58:36 - cmdstanpy - INFO - Chain [1] done processing\n",
      "18:58:37 - cmdstanpy - INFO - Chain [1] start processing\n",
      "18:58:40 - cmdstanpy - INFO - Chain [1] done processing\n",
      "18:58:41 - cmdstanpy - INFO - Chain [1] start processing\n",
      "18:58:42 - cmdstanpy - INFO - Chain [1] done processing\n",
      "18:58:43 - cmdstanpy - INFO - Chain [1] start processing\n",
      "18:58:47 - cmdstanpy - INFO - Chain [1] done processing\n",
      "18:58:48 - cmdstanpy - INFO - Chain [1] start processing\n",
      "18:58:56 - cmdstanpy - INFO - Chain [1] done processing\n",
      "18:58:56 - cmdstanpy - INFO - Chain [1] start processing\n",
      "18:58:56 - cmdstanpy - INFO - Chain [1] done processing\n",
      "18:58:57 - cmdstanpy - INFO - Chain [1] start processing\n",
      "18:59:02 - cmdstanpy - INFO - Chain [1] done processing\n",
      "18:59:02 - cmdstanpy - INFO - Chain [1] done processing\n",
      "18:59:03 - cmdstanpy - INFO - Chain [1] start processing\n",
      "18:59:03 - cmdstanpy - INFO - Chain [1] start processing\n",
      "18:59:08 - cmdstanpy - INFO - Chain [1] done processing\n",
      "18:59:09 - cmdstanpy - INFO - Chain [1] start processing\n",
      "18:59:11 - cmdstanpy - INFO - Chain [1] done processing\n",
      "18:59:12 - cmdstanpy - INFO - Chain [1] start processing\n",
      "18:59:17 - cmdstanpy - INFO - Chain [1] done processing\n",
      "18:59:17 - cmdstanpy - INFO - Chain [1] done processing\n",
      "18:59:17 - cmdstanpy - INFO - Chain [1] done processing\n",
      "18:59:17 - cmdstanpy - INFO - Chain [1] start processing\n",
      "18:59:18 - cmdstanpy - INFO - Chain [1] start processing\n",
      "18:59:18 - cmdstanpy - INFO - Chain [1] start processing\n",
      "18:59:26 - cmdstanpy - INFO - Chain [1] done processing\n",
      "18:59:27 - cmdstanpy - INFO - Chain [1] start processing\n",
      "18:59:28 - cmdstanpy - INFO - Chain [1] done processing\n",
      "18:59:28 - cmdstanpy - INFO - Chain [1] start processing\n",
      "18:59:29 - cmdstanpy - INFO - Chain [1] done processing\n",
      "18:59:29 - cmdstanpy - INFO - Chain [1] start processing\n",
      "18:59:32 - cmdstanpy - INFO - Chain [1] done processing\n",
      "18:59:33 - cmdstanpy - INFO - Chain [1] start processing\n",
      "18:59:40 - cmdstanpy - INFO - Chain [1] done processing\n",
      "18:59:40 - cmdstanpy - INFO - Chain [1] start processing\n",
      "18:59:42 - cmdstanpy - INFO - Chain [1] done processing\n",
      "18:59:43 - cmdstanpy - INFO - Chain [1] done processing\n",
      "18:59:43 - cmdstanpy - INFO - Chain [1] start processing\n",
      "18:59:43 - cmdstanpy - INFO - Chain [1] done processing\n",
      "18:59:43 - cmdstanpy - INFO - Chain [1] start processing\n",
      "18:59:44 - cmdstanpy - INFO - Chain [1] start processing\n",
      "18:59:48 - cmdstanpy - INFO - Chain [1] done processing\n",
      "18:59:48 - cmdstanpy - INFO - Chain [1] done processing\n",
      "18:59:48 - cmdstanpy - INFO - Chain [1] start processing\n",
      "18:59:49 - cmdstanpy - INFO - Chain [1] done processing\n",
      "18:59:49 - cmdstanpy - INFO - Chain [1] start processing\n",
      "18:59:49 - cmdstanpy - INFO - Chain [1] start processing\n",
      "18:59:51 - cmdstanpy - INFO - Chain [1] done processing\n",
      "18:59:51 - cmdstanpy - INFO - Chain [1] done processing\n",
      "18:59:52 - cmdstanpy - INFO - Chain [1] done processing\n",
      "18:59:52 - cmdstanpy - INFO - Chain [1] start processing\n",
      "18:59:52 - cmdstanpy - INFO - Chain [1] start processing\n",
      "18:59:52 - cmdstanpy - INFO - Chain [1] start processing\n",
      "18:59:53 - cmdstanpy - INFO - Chain [1] done processing\n",
      "18:59:54 - cmdstanpy - INFO - Chain [1] done processing\n",
      "18:59:54 - cmdstanpy - INFO - Chain [1] start processing\n",
      "18:59:54 - cmdstanpy - INFO - Chain [1] start processing\n",
      "18:59:56 - cmdstanpy - INFO - Chain [1] done processing\n",
      "18:59:56 - cmdstanpy - INFO - Chain [1] start processing\n",
      "18:59:57 - cmdstanpy - INFO - Chain [1] done processing\n",
      "18:59:58 - cmdstanpy - INFO - Chain [1] start processing\n",
      "18:59:59 - cmdstanpy - INFO - Chain [1] done processing\n",
      "18:59:59 - cmdstanpy - INFO - Chain [1] start processing\n",
      "19:00:01 - cmdstanpy - INFO - Chain [1] done processing\n",
      "19:00:02 - cmdstanpy - INFO - Chain [1] start processing\n",
      "19:00:04 - cmdstanpy - INFO - Chain [1] done processing\n",
      "19:00:05 - cmdstanpy - INFO - Chain [1] start processing\n",
      "19:00:08 - cmdstanpy - INFO - Chain [1] done processing\n",
      "19:00:09 - cmdstanpy - INFO - Chain [1] start processing\n",
      "19:00:10 - cmdstanpy - INFO - Chain [1] done processing\n",
      "19:00:11 - cmdstanpy - INFO - Chain [1] start processing\n",
      "19:00:14 - cmdstanpy - INFO - Chain [1] done processing\n",
      "19:00:15 - cmdstanpy - INFO - Chain [1] start processing\n",
      "19:00:19 - cmdstanpy - INFO - Chain [1] done processing\n",
      "19:00:19 - cmdstanpy - INFO - Chain [1] done processing\n",
      "19:00:19 - cmdstanpy - INFO - Chain [1] start processing\n",
      "19:00:20 - cmdstanpy - INFO - Chain [1] start processing\n",
      "19:00:30 - cmdstanpy - INFO - Chain [1] done processing\n",
      "19:00:30 - cmdstanpy - INFO - Chain [1] start processing\n",
      "19:00:31 - cmdstanpy - INFO - Chain [1] done processing\n",
      "19:00:32 - cmdstanpy - INFO - Chain [1] start processing\n",
      "19:00:38 - cmdstanpy - INFO - Chain [1] done processing\n"
     ]
    },
    {
     "name": "stderr",
     "output_type": "stream",
     "text": [
      "19:00:39 - cmdstanpy - INFO - Chain [1] start processing\n",
      "19:00:39 - cmdstanpy - INFO - Chain [1] done processing\n",
      "19:00:39 - cmdstanpy - INFO - Chain [1] start processing\n",
      "19:00:40 - cmdstanpy - INFO - Chain [1] done processing\n",
      "19:00:41 - cmdstanpy - INFO - Chain [1] start processing\n",
      "19:00:48 - cmdstanpy - INFO - Chain [1] done processing\n",
      "19:00:48 - cmdstanpy - INFO - Chain [1] done processing\n",
      "19:00:49 - cmdstanpy - INFO - Chain [1] start processing\n",
      "19:00:49 - cmdstanpy - INFO - Chain [1] start processing\n",
      "19:00:51 - cmdstanpy - INFO - Chain [1] done processing\n",
      "19:00:51 - cmdstanpy - INFO - Chain [1] start processing\n",
      "19:00:57 - cmdstanpy - INFO - Chain [1] done processing\n",
      "19:00:57 - cmdstanpy - INFO - Chain [1] done processing\n",
      "19:00:57 - cmdstanpy - INFO - Chain [1] done processing\n",
      "19:00:57 - cmdstanpy - INFO - Chain [1] start processing\n",
      "19:00:57 - cmdstanpy - INFO - Chain [1] start processing\n",
      "19:00:57 - cmdstanpy - INFO - Chain [1] done processing\n",
      "19:00:57 - cmdstanpy - INFO - Chain [1] start processing\n",
      "19:00:58 - cmdstanpy - INFO - Chain [1] start processing\n",
      "19:01:02 - cmdstanpy - INFO - Chain [1] done processing\n",
      "19:01:03 - cmdstanpy - INFO - Chain [1] start processing\n",
      "19:01:05 - cmdstanpy - INFO - Chain [1] done processing\n",
      "19:01:06 - cmdstanpy - INFO - Chain [1] done processing\n",
      "19:01:06 - cmdstanpy - INFO - Chain [1] start processing\n",
      "19:01:06 - cmdstanpy - INFO - Chain [1] start processing\n",
      "19:01:09 - cmdstanpy - INFO - Chain [1] done processing\n",
      "19:01:10 - cmdstanpy - INFO - Chain [1] start processing\n",
      "19:01:12 - cmdstanpy - INFO - Chain [1] done processing\n",
      "19:01:13 - cmdstanpy - INFO - Chain [1] start processing\n",
      "19:01:14 - cmdstanpy - INFO - Chain [1] done processing\n",
      "19:01:15 - cmdstanpy - INFO - Chain [1] start processing\n",
      "19:01:17 - cmdstanpy - INFO - Chain [1] done processing\n",
      "19:01:18 - cmdstanpy - INFO - Chain [1] start processing\n",
      "19:01:33 - cmdstanpy - INFO - Chain [1] done processing\n",
      "19:01:34 - cmdstanpy - INFO - Chain [1] start processing\n",
      "19:01:36 - cmdstanpy - INFO - Chain [1] done processing\n",
      "19:01:37 - cmdstanpy - INFO - Chain [1] start processing\n",
      "19:01:39 - cmdstanpy - INFO - Chain [1] done processing\n",
      "19:01:39 - cmdstanpy - INFO - Chain [1] start processing\n",
      "19:01:41 - cmdstanpy - INFO - Chain [1] done processing\n",
      "19:01:42 - cmdstanpy - INFO - Chain [1] start processing\n",
      "19:01:50 - cmdstanpy - INFO - Chain [1] done processing\n",
      "19:01:50 - cmdstanpy - INFO - Chain [1] done processing\n",
      "19:01:50 - cmdstanpy - INFO - Chain [1] start processing\n",
      "19:01:51 - cmdstanpy - INFO - Chain [1] start processing\n",
      "19:01:58 - cmdstanpy - INFO - Chain [1] done processing\n",
      "19:01:59 - cmdstanpy - INFO - Chain [1] start processing\n",
      "19:02:01 - cmdstanpy - INFO - Chain [1] done processing\n",
      "19:02:02 - cmdstanpy - INFO - Chain [1] start processing\n",
      "19:02:07 - cmdstanpy - INFO - Chain [1] done processing\n",
      "19:02:08 - cmdstanpy - INFO - Chain [1] start processing\n",
      "19:02:11 - cmdstanpy - INFO - Chain [1] done processing\n",
      "19:02:11 - cmdstanpy - INFO - Chain [1] start processing\n",
      "19:02:21 - cmdstanpy - INFO - Chain [1] done processing\n",
      "19:02:21 - cmdstanpy - INFO - Chain [1] start processing\n",
      "19:02:25 - cmdstanpy - INFO - Chain [1] done processing\n",
      "19:02:26 - cmdstanpy - INFO - Chain [1] start processing\n",
      "19:02:31 - cmdstanpy - INFO - Chain [1] done processing\n",
      "19:02:32 - cmdstanpy - INFO - Chain [1] start processing\n",
      "19:02:33 - cmdstanpy - INFO - Chain [1] done processing\n",
      "19:02:34 - cmdstanpy - INFO - Chain [1] start processing\n",
      "19:02:35 - cmdstanpy - INFO - Chain [1] done processing\n",
      "19:02:36 - cmdstanpy - INFO - Chain [1] start processing\n",
      "19:02:43 - cmdstanpy - INFO - Chain [1] done processing\n",
      "19:02:44 - cmdstanpy - INFO - Chain [1] start processing\n",
      "19:02:53 - cmdstanpy - INFO - Chain [1] done processing\n",
      "19:02:54 - cmdstanpy - INFO - Chain [1] done processing\n",
      "19:02:54 - cmdstanpy - INFO - Chain [1] start processing\n",
      "19:02:54 - cmdstanpy - INFO - Chain [1] start processing\n",
      "19:02:57 - cmdstanpy - INFO - Chain [1] done processing\n",
      "19:02:57 - cmdstanpy - INFO - Chain [1] start processing\n",
      "19:03:07 - cmdstanpy - INFO - Chain [1] done processing\n",
      "19:03:08 - cmdstanpy - INFO - Chain [1] start processing\n",
      "19:03:10 - cmdstanpy - INFO - Chain [1] done processing\n",
      "19:03:11 - cmdstanpy - INFO - Chain [1] start processing\n"
     ]
    },
    {
     "ename": "KeyboardInterrupt",
     "evalue": "",
     "output_type": "error",
     "traceback": [
      "\u001b[0;31m---------------------------------------------------------------------------\u001b[0m",
      "\u001b[0;31mKeyboardInterrupt\u001b[0m                         Traceback (most recent call last)",
      "Cell \u001b[0;32mIn[24], line 3\u001b[0m\n\u001b[1;32m      1\u001b[0m \u001b[38;5;66;03m#CV\u001b[39;00m\n\u001b[1;32m      2\u001b[0m \u001b[38;5;28;01mfrom\u001b[39;00m \u001b[38;5;21;01mprophet\u001b[39;00m\u001b[38;5;21;01m.\u001b[39;00m\u001b[38;5;21;01mdiagnostics\u001b[39;00m \u001b[38;5;28;01mimport\u001b[39;00m cross_validation\n\u001b[0;32m----> 3\u001b[0m df_cv \u001b[38;5;241m=\u001b[39m \u001b[43mcross_validation\u001b[49m\u001b[43m(\u001b[49m\u001b[43mm\u001b[49m\u001b[43m,\u001b[49m\n\u001b[1;32m      4\u001b[0m \u001b[43m                         \u001b[49m\u001b[43mhorizon\u001b[49m\u001b[43m \u001b[49m\u001b[38;5;241;43m=\u001b[39;49m\u001b[43m \u001b[49m\u001b[38;5;124;43m'\u001b[39;49m\u001b[38;5;124;43m31 days\u001b[39;49m\u001b[38;5;124;43m'\u001b[39;49m\u001b[43m,\u001b[49m\n\u001b[1;32m      5\u001b[0m \u001b[43m                         \u001b[49m\u001b[43minitial\u001b[49m\u001b[43m \u001b[49m\u001b[38;5;241;43m=\u001b[39;49m\u001b[43m \u001b[49m\u001b[38;5;124;43m'\u001b[39;49m\u001b[38;5;124;43m2400 days\u001b[39;49m\u001b[38;5;124;43m'\u001b[39;49m\u001b[43m,\u001b[49m\n\u001b[1;32m      6\u001b[0m \u001b[43m                         \u001b[49m\u001b[43mparallel\u001b[49m\u001b[43m \u001b[49m\u001b[38;5;241;43m=\u001b[39;49m\u001b[43m \u001b[49m\u001b[38;5;124;43m\"\u001b[39;49m\u001b[38;5;124;43mprocesses\u001b[39;49m\u001b[38;5;124;43m\"\u001b[39;49m\u001b[43m)\u001b[49m\n",
      "File \u001b[0;32m~/opt/anaconda3/envs/my_own/lib/python3.9/site-packages/prophet/diagnostics.py:205\u001b[0m, in \u001b[0;36mcross_validation\u001b[0;34m(model, horizon, period, initial, parallel, cutoffs, disable_tqdm)\u001b[0m\n\u001b[1;32m    199\u001b[0m     predicts \u001b[38;5;241m=\u001b[39m [\n\u001b[1;32m    200\u001b[0m         single_cutoff_forecast(df, model, cutoff, horizon, predict_columns) \n\u001b[1;32m    201\u001b[0m         \u001b[38;5;28;01mfor\u001b[39;00m cutoff \u001b[38;5;129;01min\u001b[39;00m (tqdm(cutoffs) \u001b[38;5;28;01mif\u001b[39;00m \u001b[38;5;129;01mnot\u001b[39;00m disable_tqdm \u001b[38;5;28;01melse\u001b[39;00m cutoffs)\n\u001b[1;32m    202\u001b[0m     ]\n\u001b[1;32m    204\u001b[0m \u001b[38;5;66;03m# Combine all predicted pd.DataFrame into one pd.DataFrame\u001b[39;00m\n\u001b[0;32m--> 205\u001b[0m \u001b[38;5;28;01mreturn\u001b[39;00m \u001b[43mpd\u001b[49m\u001b[38;5;241;43m.\u001b[39;49m\u001b[43mconcat\u001b[49m\u001b[43m(\u001b[49m\u001b[43mpredicts\u001b[49m\u001b[43m,\u001b[49m\u001b[43m \u001b[49m\u001b[43maxis\u001b[49m\u001b[38;5;241;43m=\u001b[39;49m\u001b[38;5;241;43m0\u001b[39;49m\u001b[43m)\u001b[49m\u001b[38;5;241m.\u001b[39mreset_index(drop\u001b[38;5;241m=\u001b[39m\u001b[38;5;28;01mTrue\u001b[39;00m)\n",
      "File \u001b[0;32m~/opt/anaconda3/envs/my_own/lib/python3.9/site-packages/pandas/core/reshape/concat.py:372\u001b[0m, in \u001b[0;36mconcat\u001b[0;34m(objs, axis, join, ignore_index, keys, levels, names, verify_integrity, sort, copy)\u001b[0m\n\u001b[1;32m    369\u001b[0m \u001b[38;5;28;01melif\u001b[39;00m copy \u001b[38;5;129;01mand\u001b[39;00m using_copy_on_write():\n\u001b[1;32m    370\u001b[0m     copy \u001b[38;5;241m=\u001b[39m \u001b[38;5;28;01mFalse\u001b[39;00m\n\u001b[0;32m--> 372\u001b[0m op \u001b[38;5;241m=\u001b[39m \u001b[43m_Concatenator\u001b[49m\u001b[43m(\u001b[49m\n\u001b[1;32m    373\u001b[0m \u001b[43m    \u001b[49m\u001b[43mobjs\u001b[49m\u001b[43m,\u001b[49m\n\u001b[1;32m    374\u001b[0m \u001b[43m    \u001b[49m\u001b[43maxis\u001b[49m\u001b[38;5;241;43m=\u001b[39;49m\u001b[43maxis\u001b[49m\u001b[43m,\u001b[49m\n\u001b[1;32m    375\u001b[0m \u001b[43m    \u001b[49m\u001b[43mignore_index\u001b[49m\u001b[38;5;241;43m=\u001b[39;49m\u001b[43mignore_index\u001b[49m\u001b[43m,\u001b[49m\n\u001b[1;32m    376\u001b[0m \u001b[43m    \u001b[49m\u001b[43mjoin\u001b[49m\u001b[38;5;241;43m=\u001b[39;49m\u001b[43mjoin\u001b[49m\u001b[43m,\u001b[49m\n\u001b[1;32m    377\u001b[0m \u001b[43m    \u001b[49m\u001b[43mkeys\u001b[49m\u001b[38;5;241;43m=\u001b[39;49m\u001b[43mkeys\u001b[49m\u001b[43m,\u001b[49m\n\u001b[1;32m    378\u001b[0m \u001b[43m    \u001b[49m\u001b[43mlevels\u001b[49m\u001b[38;5;241;43m=\u001b[39;49m\u001b[43mlevels\u001b[49m\u001b[43m,\u001b[49m\n\u001b[1;32m    379\u001b[0m \u001b[43m    \u001b[49m\u001b[43mnames\u001b[49m\u001b[38;5;241;43m=\u001b[39;49m\u001b[43mnames\u001b[49m\u001b[43m,\u001b[49m\n\u001b[1;32m    380\u001b[0m \u001b[43m    \u001b[49m\u001b[43mverify_integrity\u001b[49m\u001b[38;5;241;43m=\u001b[39;49m\u001b[43mverify_integrity\u001b[49m\u001b[43m,\u001b[49m\n\u001b[1;32m    381\u001b[0m \u001b[43m    \u001b[49m\u001b[43mcopy\u001b[49m\u001b[38;5;241;43m=\u001b[39;49m\u001b[43mcopy\u001b[49m\u001b[43m,\u001b[49m\n\u001b[1;32m    382\u001b[0m \u001b[43m    \u001b[49m\u001b[43msort\u001b[49m\u001b[38;5;241;43m=\u001b[39;49m\u001b[43msort\u001b[49m\u001b[43m,\u001b[49m\n\u001b[1;32m    383\u001b[0m \u001b[43m\u001b[49m\u001b[43m)\u001b[49m\n\u001b[1;32m    385\u001b[0m \u001b[38;5;28;01mreturn\u001b[39;00m op\u001b[38;5;241m.\u001b[39mget_result()\n",
      "File \u001b[0;32m~/opt/anaconda3/envs/my_own/lib/python3.9/site-packages/pandas/core/reshape/concat.py:426\u001b[0m, in \u001b[0;36m_Concatenator.__init__\u001b[0;34m(self, objs, axis, join, keys, levels, names, ignore_index, verify_integrity, copy, sort)\u001b[0m\n\u001b[1;32m    424\u001b[0m     objs \u001b[38;5;241m=\u001b[39m [objs[k] \u001b[38;5;28;01mfor\u001b[39;00m k \u001b[38;5;129;01min\u001b[39;00m keys]\n\u001b[1;32m    425\u001b[0m \u001b[38;5;28;01melse\u001b[39;00m:\n\u001b[0;32m--> 426\u001b[0m     objs \u001b[38;5;241m=\u001b[39m \u001b[38;5;28;43mlist\u001b[39;49m\u001b[43m(\u001b[49m\u001b[43mobjs\u001b[49m\u001b[43m)\u001b[49m\n\u001b[1;32m    428\u001b[0m \u001b[38;5;28;01mif\u001b[39;00m \u001b[38;5;28mlen\u001b[39m(objs) \u001b[38;5;241m==\u001b[39m \u001b[38;5;241m0\u001b[39m:\n\u001b[1;32m    429\u001b[0m     \u001b[38;5;28;01mraise\u001b[39;00m \u001b[38;5;167;01mValueError\u001b[39;00m(\u001b[38;5;124m\"\u001b[39m\u001b[38;5;124mNo objects to concatenate\u001b[39m\u001b[38;5;124m\"\u001b[39m)\n",
      "File \u001b[0;32m~/opt/anaconda3/envs/my_own/lib/python3.9/concurrent/futures/process.py:562\u001b[0m, in \u001b[0;36m_chain_from_iterable_of_lists\u001b[0;34m(iterable)\u001b[0m\n\u001b[1;32m    556\u001b[0m \u001b[38;5;28;01mdef\u001b[39;00m \u001b[38;5;21m_chain_from_iterable_of_lists\u001b[39m(iterable):\n\u001b[1;32m    557\u001b[0m \u001b[38;5;250m    \u001b[39m\u001b[38;5;124;03m\"\"\"\u001b[39;00m\n\u001b[1;32m    558\u001b[0m \u001b[38;5;124;03m    Specialized implementation of itertools.chain.from_iterable.\u001b[39;00m\n\u001b[1;32m    559\u001b[0m \u001b[38;5;124;03m    Each item in *iterable* should be a list.  This function is\u001b[39;00m\n\u001b[1;32m    560\u001b[0m \u001b[38;5;124;03m    careful not to keep references to yielded objects.\u001b[39;00m\n\u001b[1;32m    561\u001b[0m \u001b[38;5;124;03m    \"\"\"\u001b[39;00m\n\u001b[0;32m--> 562\u001b[0m     \u001b[38;5;28;01mfor\u001b[39;00m element \u001b[38;5;129;01min\u001b[39;00m iterable:\n\u001b[1;32m    563\u001b[0m         element\u001b[38;5;241m.\u001b[39mreverse()\n\u001b[1;32m    564\u001b[0m         \u001b[38;5;28;01mwhile\u001b[39;00m element:\n",
      "File \u001b[0;32m~/opt/anaconda3/envs/my_own/lib/python3.9/concurrent/futures/_base.py:609\u001b[0m, in \u001b[0;36mExecutor.map.<locals>.result_iterator\u001b[0;34m()\u001b[0m\n\u001b[1;32m    606\u001b[0m \u001b[38;5;28;01mwhile\u001b[39;00m fs:\n\u001b[1;32m    607\u001b[0m     \u001b[38;5;66;03m# Careful not to keep a reference to the popped future\u001b[39;00m\n\u001b[1;32m    608\u001b[0m     \u001b[38;5;28;01mif\u001b[39;00m timeout \u001b[38;5;129;01mis\u001b[39;00m \u001b[38;5;28;01mNone\u001b[39;00m:\n\u001b[0;32m--> 609\u001b[0m         \u001b[38;5;28;01myield\u001b[39;00m \u001b[43mfs\u001b[49m\u001b[38;5;241;43m.\u001b[39;49m\u001b[43mpop\u001b[49m\u001b[43m(\u001b[49m\u001b[43m)\u001b[49m\u001b[38;5;241;43m.\u001b[39;49m\u001b[43mresult\u001b[49m\u001b[43m(\u001b[49m\u001b[43m)\u001b[49m\n\u001b[1;32m    610\u001b[0m     \u001b[38;5;28;01melse\u001b[39;00m:\n\u001b[1;32m    611\u001b[0m         \u001b[38;5;28;01myield\u001b[39;00m fs\u001b[38;5;241m.\u001b[39mpop()\u001b[38;5;241m.\u001b[39mresult(end_time \u001b[38;5;241m-\u001b[39m time\u001b[38;5;241m.\u001b[39mmonotonic())\n",
      "File \u001b[0;32m~/opt/anaconda3/envs/my_own/lib/python3.9/concurrent/futures/_base.py:441\u001b[0m, in \u001b[0;36mFuture.result\u001b[0;34m(self, timeout)\u001b[0m\n\u001b[1;32m    438\u001b[0m \u001b[38;5;28;01melif\u001b[39;00m \u001b[38;5;28mself\u001b[39m\u001b[38;5;241m.\u001b[39m_state \u001b[38;5;241m==\u001b[39m FINISHED:\n\u001b[1;32m    439\u001b[0m     \u001b[38;5;28;01mreturn\u001b[39;00m \u001b[38;5;28mself\u001b[39m\u001b[38;5;241m.\u001b[39m__get_result()\n\u001b[0;32m--> 441\u001b[0m \u001b[38;5;28;43mself\u001b[39;49m\u001b[38;5;241;43m.\u001b[39;49m\u001b[43m_condition\u001b[49m\u001b[38;5;241;43m.\u001b[39;49m\u001b[43mwait\u001b[49m\u001b[43m(\u001b[49m\u001b[43mtimeout\u001b[49m\u001b[43m)\u001b[49m\n\u001b[1;32m    443\u001b[0m \u001b[38;5;28;01mif\u001b[39;00m \u001b[38;5;28mself\u001b[39m\u001b[38;5;241m.\u001b[39m_state \u001b[38;5;129;01min\u001b[39;00m [CANCELLED, CANCELLED_AND_NOTIFIED]:\n\u001b[1;32m    444\u001b[0m     \u001b[38;5;28;01mraise\u001b[39;00m CancelledError()\n",
      "File \u001b[0;32m~/opt/anaconda3/envs/my_own/lib/python3.9/threading.py:312\u001b[0m, in \u001b[0;36mCondition.wait\u001b[0;34m(self, timeout)\u001b[0m\n\u001b[1;32m    310\u001b[0m \u001b[38;5;28;01mtry\u001b[39;00m:    \u001b[38;5;66;03m# restore state no matter what (e.g., KeyboardInterrupt)\u001b[39;00m\n\u001b[1;32m    311\u001b[0m     \u001b[38;5;28;01mif\u001b[39;00m timeout \u001b[38;5;129;01mis\u001b[39;00m \u001b[38;5;28;01mNone\u001b[39;00m:\n\u001b[0;32m--> 312\u001b[0m         \u001b[43mwaiter\u001b[49m\u001b[38;5;241;43m.\u001b[39;49m\u001b[43macquire\u001b[49m\u001b[43m(\u001b[49m\u001b[43m)\u001b[49m\n\u001b[1;32m    313\u001b[0m         gotit \u001b[38;5;241m=\u001b[39m \u001b[38;5;28;01mTrue\u001b[39;00m\n\u001b[1;32m    314\u001b[0m     \u001b[38;5;28;01melse\u001b[39;00m:\n",
      "\u001b[0;31mKeyboardInterrupt\u001b[0m: "
     ]
    }
   ],
   "source": [
    "#CV\n",
    "from prophet.diagnostics import cross_validation\n",
    "df_cv = cross_validation(m,\n",
    "                         horizon = '31 days',\n",
    "                         initial = '2400 days',\n",
    "                         parallel = \"processes\"\n",
    "                        )"
   ]
  },
  {
   "cell_type": "code",
   "execution_count": 16,
   "metadata": {
    "colab": {
     "base_uri": "https://localhost:8080/"
    },
    "executionInfo": {
     "elapsed": 545,
     "status": "ok",
     "timestamp": 1620801575027,
     "user": {
      "displayName": "Diogo Resende",
      "photoUrl": "https://lh3.googleusercontent.com/a-/AOh14GgH4DE06-yE1oiIzCiaAURCl1Escr4LXXiaSnbSaA=s64",
      "userId": "05706604408624562002"
     },
     "user_tz": -120
    },
    "id": "Y6K6RT3lTFaW",
    "outputId": "83c9329a-2957-48e5-95e9-bb6f4209ef55"
   },
   "outputs": [
    {
     "ename": "NameError",
     "evalue": "name 'df_cv' is not defined",
     "output_type": "error",
     "traceback": [
      "\u001b[0;31m---------------------------------------------------------------------------\u001b[0m",
      "\u001b[0;31mNameError\u001b[0m                                 Traceback (most recent call last)",
      "Cell \u001b[0;32mIn[16], line 3\u001b[0m\n\u001b[1;32m      1\u001b[0m \u001b[38;5;66;03m#assess model\u001b[39;00m\n\u001b[1;32m      2\u001b[0m \u001b[38;5;28;01mfrom\u001b[39;00m \u001b[38;5;21;01msklearn\u001b[39;00m\u001b[38;5;21;01m.\u001b[39;00m\u001b[38;5;21;01mmetrics\u001b[39;00m \u001b[38;5;28;01mimport\u001b[39;00m mean_absolute_error\n\u001b[0;32m----> 3\u001b[0m mean_absolute_error(\u001b[43mdf_cv\u001b[49m\u001b[38;5;241m.\u001b[39myhat, df_cv\u001b[38;5;241m.\u001b[39my)\n",
      "\u001b[0;31mNameError\u001b[0m: name 'df_cv' is not defined"
     ]
    },
    {
     "name": "stderr",
     "output_type": "stream",
     "text": [
      "18:53:34 - cmdstanpy - INFO - Chain [1] done processing\n",
      "18:53:39 - cmdstanpy - INFO - Chain [1] done processing\n",
      "18:53:40 - cmdstanpy - INFO - Chain [1] done processing\n",
      "18:53:43 - cmdstanpy - INFO - Chain [1] done processing\n"
     ]
    }
   ],
   "source": [
    "#assess model\n",
    "from sklearn.metrics import mean_absolute_error\n",
    "mean_absolute_error(df_cv.yhat, df_cv.y)"
   ]
  },
  {
   "cell_type": "markdown",
   "metadata": {
    "id": "JhIn5mlcTblC"
   },
   "source": [
    "#Hyperparameter tuning"
   ]
  },
  {
   "cell_type": "code",
   "execution_count": 22,
   "metadata": {
    "executionInfo": {
     "elapsed": 562,
     "status": "ok",
     "timestamp": 1620801766809,
     "user": {
      "displayName": "Diogo Resende",
      "photoUrl": "https://lh3.googleusercontent.com/a-/AOh14GgH4DE06-yE1oiIzCiaAURCl1Escr4LXXiaSnbSaA=s64",
      "userId": "05706604408624562002"
     },
     "user_tz": -120
    },
    "id": "z4wv9KH5Tn8d"
   },
   "outputs": [],
   "source": [
    "#PArameters\n",
    "from sklearn.model_selection import ParameterGrid\n",
    "param_grid = {'seasonality_prior_scale': [10, 20],\n",
    "                'changepoint_prior_scale': [0.05, 0.1],\n",
    "            'holidays_prior_scale': [10, 20]}\n",
    "grid = ParameterGrid(param_grid)"
   ]
  },
  {
   "cell_type": "code",
   "execution_count": 14,
   "metadata": {
    "id": "ka5ZAlOBUE-x"
   },
   "outputs": [
    {
     "name": "stderr",
     "output_type": "stream",
     "text": [
      "16:32:46 - cmdstanpy - INFO - Chain [1] start processing\n",
      "16:32:48 - cmdstanpy - INFO - Chain [1] done processing\n",
      "Importing plotly failed. Interactive plots will not work.\n",
      "Importing plotly failed. Interactive plots will not work.\n",
      "Importing plotly failed. Interactive plots will not work.\n",
      "Importing plotly failed. Interactive plots will not work.\n",
      "16:32:51 - cmdstanpy - INFO - Chain [1] start processing\n",
      "16:32:51 - cmdstanpy - INFO - Chain [1] start processing\n",
      "16:32:51 - cmdstanpy - INFO - Chain [1] start processing\n",
      "16:32:51 - cmdstanpy - INFO - Chain [1] start processing\n",
      "16:32:58 - cmdstanpy - INFO - Chain [1] done processing\n",
      "16:32:59 - cmdstanpy - INFO - Chain [1] done processing\n",
      "16:32:59 - cmdstanpy - INFO - Chain [1] done processing\n",
      "16:32:59 - cmdstanpy - INFO - Chain [1] done processing\n",
      "16:32:59 - cmdstanpy - INFO - Chain [1] start processing\n",
      "16:33:00 - cmdstanpy - INFO - Chain [1] start processing\n",
      "16:33:00 - cmdstanpy - INFO - Chain [1] start processing\n",
      "16:33:05 - cmdstanpy - INFO - Chain [1] done processing\n",
      "16:33:06 - cmdstanpy - INFO - Chain [1] done processing\n",
      "16:33:07 - cmdstanpy - INFO - Chain [1] done processing\n",
      "16:33:07 - cmdstanpy - INFO - Chain [1] start processing\n",
      "16:33:10 - cmdstanpy - INFO - Chain [1] done processing\n",
      "Importing plotly failed. Interactive plots will not work.\n",
      "Importing plotly failed. Interactive plots will not work.\n",
      "Importing plotly failed. Interactive plots will not work.\n",
      "Importing plotly failed. Interactive plots will not work.\n",
      "16:33:12 - cmdstanpy - INFO - Chain [1] start processing\n",
      "16:33:12 - cmdstanpy - INFO - Chain [1] start processing\n",
      "16:33:12 - cmdstanpy - INFO - Chain [1] start processing\n",
      "16:33:12 - cmdstanpy - INFO - Chain [1] start processing\n",
      "16:33:20 - cmdstanpy - INFO - Chain [1] done processing\n",
      "16:33:21 - cmdstanpy - INFO - Chain [1] done processing\n",
      "16:33:21 - cmdstanpy - INFO - Chain [1] done processing\n",
      "16:33:21 - cmdstanpy - INFO - Chain [1] start processing\n",
      "16:33:21 - cmdstanpy - INFO - Chain [1] done processing\n",
      "16:33:22 - cmdstanpy - INFO - Chain [1] start processing\n",
      "16:33:22 - cmdstanpy - INFO - Chain [1] start processing\n",
      "16:33:27 - cmdstanpy - INFO - Chain [1] done processing\n",
      "16:33:28 - cmdstanpy - INFO - Chain [1] done processing\n",
      "16:33:28 - cmdstanpy - INFO - Chain [1] done processing\n",
      "16:33:29 - cmdstanpy - INFO - Chain [1] start processing\n",
      "16:33:31 - cmdstanpy - INFO - Chain [1] done processing\n",
      "Importing plotly failed. Interactive plots will not work.\n",
      "Importing plotly failed. Interactive plots will not work.\n",
      "Importing plotly failed. Interactive plots will not work.\n",
      "Importing plotly failed. Interactive plots will not work.\n",
      "16:33:33 - cmdstanpy - INFO - Chain [1] start processing\n",
      "16:33:34 - cmdstanpy - INFO - Chain [1] start processing\n",
      "16:33:34 - cmdstanpy - INFO - Chain [1] start processing\n",
      "16:33:34 - cmdstanpy - INFO - Chain [1] start processing\n",
      "16:33:41 - cmdstanpy - INFO - Chain [1] done processing\n",
      "16:33:41 - cmdstanpy - INFO - Chain [1] done processing\n",
      "16:33:42 - cmdstanpy - INFO - Chain [1] start processing\n",
      "16:33:42 - cmdstanpy - INFO - Chain [1] done processing\n",
      "16:33:42 - cmdstanpy - INFO - Chain [1] done processing\n",
      "16:33:42 - cmdstanpy - INFO - Chain [1] start processing\n",
      "16:33:43 - cmdstanpy - INFO - Chain [1] start processing\n",
      "16:33:49 - cmdstanpy - INFO - Chain [1] done processing\n",
      "16:33:49 - cmdstanpy - INFO - Chain [1] done processing\n",
      "16:33:49 - cmdstanpy - INFO - Chain [1] done processing\n",
      "16:33:50 - cmdstanpy - INFO - Chain [1] start processing\n",
      "16:33:52 - cmdstanpy - INFO - Chain [1] done processing\n",
      "Importing plotly failed. Interactive plots will not work.\n",
      "Importing plotly failed. Interactive plots will not work.\n",
      "Importing plotly failed. Interactive plots will not work.\n",
      "Importing plotly failed. Interactive plots will not work.\n",
      "16:33:55 - cmdstanpy - INFO - Chain [1] start processing\n",
      "16:33:55 - cmdstanpy - INFO - Chain [1] start processing\n",
      "16:33:55 - cmdstanpy - INFO - Chain [1] start processing\n",
      "16:33:55 - cmdstanpy - INFO - Chain [1] start processing\n",
      "16:34:03 - cmdstanpy - INFO - Chain [1] done processing\n",
      "16:34:04 - cmdstanpy - INFO - Chain [1] done processing\n",
      "16:34:04 - cmdstanpy - INFO - Chain [1] done processing\n",
      "16:34:05 - cmdstanpy - INFO - Chain [1] start processing\n",
      "16:34:05 - cmdstanpy - INFO - Chain [1] start processing\n",
      "16:34:05 - cmdstanpy - INFO - Chain [1] start processing\n",
      "16:34:06 - cmdstanpy - INFO - Chain [1] done processing\n",
      "16:34:11 - cmdstanpy - INFO - Chain [1] done processing\n",
      "16:34:11 - cmdstanpy - INFO - Chain [1] done processing\n",
      "16:34:12 - cmdstanpy - INFO - Chain [1] done processing\n",
      "16:34:13 - cmdstanpy - INFO - Chain [1] start processing\n",
      "16:34:16 - cmdstanpy - INFO - Chain [1] done processing\n",
      "Importing plotly failed. Interactive plots will not work.\n",
      "Importing plotly failed. Interactive plots will not work.\n",
      "Importing plotly failed. Interactive plots will not work.\n",
      "Importing plotly failed. Interactive plots will not work.\n",
      "16:34:18 - cmdstanpy - INFO - Chain [1] start processing\n",
      "16:34:18 - cmdstanpy - INFO - Chain [1] start processing\n",
      "16:34:18 - cmdstanpy - INFO - Chain [1] start processing\n",
      "16:34:18 - cmdstanpy - INFO - Chain [1] start processing\n",
      "16:34:26 - cmdstanpy - INFO - Chain [1] done processing\n",
      "16:34:26 - cmdstanpy - INFO - Chain [1] done processing\n",
      "16:34:26 - cmdstanpy - INFO - Chain [1] done processing\n",
      "16:34:27 - cmdstanpy - INFO - Chain [1] done processing\n",
      "16:34:27 - cmdstanpy - INFO - Chain [1] start processing\n",
      "16:34:27 - cmdstanpy - INFO - Chain [1] start processing\n",
      "16:34:27 - cmdstanpy - INFO - Chain [1] start processing\n",
      "16:34:32 - cmdstanpy - INFO - Chain [1] done processing\n",
      "16:34:33 - cmdstanpy - INFO - Chain [1] done processing\n",
      "16:34:33 - cmdstanpy - INFO - Chain [1] done processing\n",
      "16:34:33 - cmdstanpy - INFO - Chain [1] start processing\n",
      "16:34:35 - cmdstanpy - INFO - Chain [1] done processing\n",
      "Importing plotly failed. Interactive plots will not work.\n",
      "Importing plotly failed. Interactive plots will not work.\n",
      "Importing plotly failed. Interactive plots will not work.\n",
      "Importing plotly failed. Interactive plots will not work.\n",
      "16:34:37 - cmdstanpy - INFO - Chain [1] start processing\n",
      "16:34:37 - cmdstanpy - INFO - Chain [1] start processing\n",
      "16:34:37 - cmdstanpy - INFO - Chain [1] start processing\n",
      "16:34:37 - cmdstanpy - INFO - Chain [1] start processing\n",
      "16:34:44 - cmdstanpy - INFO - Chain [1] done processing\n",
      "16:34:45 - cmdstanpy - INFO - Chain [1] done processing\n",
      "16:34:45 - cmdstanpy - INFO - Chain [1] done processing\n",
      "16:34:45 - cmdstanpy - INFO - Chain [1] start processing\n",
      "16:34:46 - cmdstanpy - INFO - Chain [1] start processing\n",
      "16:34:46 - cmdstanpy - INFO - Chain [1] start processing\n",
      "16:34:46 - cmdstanpy - INFO - Chain [1] done processing\n",
      "16:34:51 - cmdstanpy - INFO - Chain [1] done processing\n",
      "16:34:51 - cmdstanpy - INFO - Chain [1] done processing\n",
      "16:34:52 - cmdstanpy - INFO - Chain [1] done processing\n",
      "16:34:52 - cmdstanpy - INFO - Chain [1] start processing\n",
      "16:34:55 - cmdstanpy - INFO - Chain [1] done processing\n",
      "Importing plotly failed. Interactive plots will not work.\n",
      "Importing plotly failed. Interactive plots will not work.\n",
      "Importing plotly failed. Interactive plots will not work.\n",
      "Importing plotly failed. Interactive plots will not work.\n",
      "16:34:57 - cmdstanpy - INFO - Chain [1] start processing\n",
      "16:34:57 - cmdstanpy - INFO - Chain [1] start processing\n",
      "16:34:57 - cmdstanpy - INFO - Chain [1] start processing\n",
      "16:34:57 - cmdstanpy - INFO - Chain [1] start processing\n",
      "16:35:05 - cmdstanpy - INFO - Chain [1] done processing\n",
      "16:35:05 - cmdstanpy - INFO - Chain [1] done processing\n",
      "16:35:06 - cmdstanpy - INFO - Chain [1] done processing\n",
      "16:35:06 - cmdstanpy - INFO - Chain [1] done processing\n",
      "16:35:06 - cmdstanpy - INFO - Chain [1] start processing\n",
      "16:35:06 - cmdstanpy - INFO - Chain [1] start processing\n",
      "16:35:06 - cmdstanpy - INFO - Chain [1] start processing\n",
      "16:35:10 - cmdstanpy - INFO - Chain [1] done processing\n",
      "16:35:11 - cmdstanpy - INFO - Chain [1] done processing\n",
      "16:35:11 - cmdstanpy - INFO - Chain [1] done processing\n",
      "16:35:12 - cmdstanpy - INFO - Chain [1] start processing\n",
      "16:35:14 - cmdstanpy - INFO - Chain [1] done processing\n",
      "Importing plotly failed. Interactive plots will not work.\n",
      "Importing plotly failed. Interactive plots will not work.\n",
      "Importing plotly failed. Interactive plots will not work.\n",
      "Importing plotly failed. Interactive plots will not work.\n"
     ]
    },
    {
     "name": "stderr",
     "output_type": "stream",
     "text": [
      "16:35:16 - cmdstanpy - INFO - Chain [1] start processing\n",
      "16:35:16 - cmdstanpy - INFO - Chain [1] start processing\n",
      "16:35:16 - cmdstanpy - INFO - Chain [1] start processing\n",
      "16:35:17 - cmdstanpy - INFO - Chain [1] start processing\n",
      "16:35:23 - cmdstanpy - INFO - Chain [1] done processing\n",
      "16:35:24 - cmdstanpy - INFO - Chain [1] start processing\n",
      "16:35:24 - cmdstanpy - INFO - Chain [1] done processing\n",
      "16:35:25 - cmdstanpy - INFO - Chain [1] done processing\n",
      "16:35:25 - cmdstanpy - INFO - Chain [1] done processing\n",
      "16:35:25 - cmdstanpy - INFO - Chain [1] start processing\n",
      "16:35:26 - cmdstanpy - INFO - Chain [1] start processing\n",
      "16:35:30 - cmdstanpy - INFO - Chain [1] done processing\n",
      "16:35:30 - cmdstanpy - INFO - Chain [1] done processing\n",
      "16:35:31 - cmdstanpy - INFO - Chain [1] done processing\n"
     ]
    }
   ],
   "source": [
    "#Tuning  \n",
    "mae = []\n",
    "for params in grid:\n",
    "  #build model\n",
    "  m = Prophet(holidays = holidays,\n",
    "            seasonality_mode = 'multiplicative',\n",
    "            seasonality_prior_scale = params['seasonality_prior_scale'],\n",
    "            changepoint_prior_scale = params['changepoint_prior_scale'],\n",
    "            holidays_prior_scale = params['holidays_prior_scale'])\n",
    "  m.add_regressor('Christmas')\n",
    "  m.fit(df)\n",
    "\n",
    "  #CV\n",
    "  df_cv = cross_validation(m,\n",
    "                         horizon = '31 days',\n",
    "                         initial = '2400 days',\n",
    "                         parallel = \"processes\")\n",
    "\n",
    "  #Gather the results\n",
    "  error = mean_absolute_error(df_cv.yhat, df_cv.y)\n",
    "  mae.append(error)"
   ]
  },
  {
   "cell_type": "code",
   "execution_count": 15,
   "metadata": {
    "colab": {
     "base_uri": "https://localhost:8080/"
    },
    "executionInfo": {
     "elapsed": 567,
     "status": "ok",
     "timestamp": 1620802361602,
     "user": {
      "displayName": "Diogo Resende",
      "photoUrl": "https://lh3.googleusercontent.com/a-/AOh14GgH4DE06-yE1oiIzCiaAURCl1Escr4LXXiaSnbSaA=s64",
      "userId": "05706604408624562002"
     },
     "user_tz": -120
    },
    "id": "X-0LAk7rWKH1",
    "outputId": "b897c3ef-f5fd-423c-cc4f-70e70ef647a9"
   },
   "outputs": [
    {
     "name": "stdout",
     "output_type": "stream",
     "text": [
      "{'seasonality_prior_scale': 20, 'holidays_prior_scale': 20, 'changepoint_prior_scale': 0.1}\n"
     ]
    }
   ],
   "source": [
    "#gather best parameters\n",
    "best_params = grid[np.argmin(mae)]\n",
    "print(best_params)"
   ]
  }
 ],
 "metadata": {
  "colab": {
   "authorship_tag": "ABX9TyNebBL7Ojp5dZaNxMKr95Jx",
   "mount_file_id": "1adY0-eFLonlYIOIfIljnsLv-27hM4vTW",
   "name": "Facebook Prophet Challenge Template.ipynb",
   "provenance": []
  },
  "kernelspec": {
   "display_name": "Python 3 (ipykernel)",
   "language": "python",
   "name": "python3"
  },
  "language_info": {
   "codemirror_mode": {
    "name": "ipython",
    "version": 3
   },
   "file_extension": ".py",
   "mimetype": "text/x-python",
   "name": "python",
   "nbconvert_exporter": "python",
   "pygments_lexer": "ipython3",
   "version": "3.9.16"
  }
 },
 "nbformat": 4,
 "nbformat_minor": 1
}
