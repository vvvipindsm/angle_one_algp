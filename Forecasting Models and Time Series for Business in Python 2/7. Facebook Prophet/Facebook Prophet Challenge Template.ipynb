{
 "cells": [
  {
   "cell_type": "markdown",
   "metadata": {
    "id": "QZK36hW6M7cl"
   },
   "source": [
    "#Libraries and Data"
   ]
  },
  {
   "cell_type": "code",
   "execution_count": 1,
   "metadata": {
    "executionInfo": {
     "elapsed": 957,
     "status": "ok",
     "timestamp": 1620799968854,
     "user": {
      "displayName": "Diogo Resende",
      "photoUrl": "https://lh3.googleusercontent.com/a-/AOh14GgH4DE06-yE1oiIzCiaAURCl1Escr4LXXiaSnbSaA=s64",
      "userId": "05706604408624562002"
     },
     "user_tz": -120
    },
    "id": "xBzm1qtYNE6M"
   },
   "outputs": [
    {
     "name": "stderr",
     "output_type": "stream",
     "text": [
      "/Users/vipin/opt/anaconda3/envs/my_own/lib/python3.9/site-packages/tqdm/auto.py:21: TqdmWarning: IProgress not found. Please update jupyter and ipywidgets. See https://ipywidgets.readthedocs.io/en/stable/user_install.html\n",
      "  from .autonotebook import tqdm as notebook_tqdm\n",
      "Importing plotly failed. Interactive plots will not work.\n"
     ]
    }
   ],
   "source": [
    "#import libraries\n",
    "import numpy as np\n",
    "import pandas as pd\n",
    "import itertools\n",
    "from prophet import Prophet\n",
    "import yfinance\n"
   ]
  },
  {
   "cell_type": "code",
   "execution_count": 2,
   "metadata": {
    "colab": {
     "base_uri": "https://localhost:8080/",
     "height": 326
    },
    "executionInfo": {
     "elapsed": 480,
     "status": "ok",
     "timestamp": 1620800167663,
     "user": {
      "displayName": "Diogo Resende",
      "photoUrl": "https://lh3.googleusercontent.com/a-/AOh14GgH4DE06-yE1oiIzCiaAURCl1Escr4LXXiaSnbSaA=s64",
      "userId": "05706604408624562002"
     },
     "user_tz": -120
    },
    "id": "oA14ejKbN1L3",
    "outputId": "d5969d5f-1086-4c5e-94d6-7af7cf319cfb"
   },
   "outputs": [
    {
     "name": "stdout",
     "output_type": "stream",
     "text": [
      "[*********************100%***********************]  1 of 1 completed\n"
     ]
    },
    {
     "data": {
      "text/html": [
       "<div>\n",
       "<style scoped>\n",
       "    .dataframe tbody tr th:only-of-type {\n",
       "        vertical-align: middle;\n",
       "    }\n",
       "\n",
       "    .dataframe tbody tr th {\n",
       "        vertical-align: top;\n",
       "    }\n",
       "\n",
       "    .dataframe thead th {\n",
       "        text-align: right;\n",
       "    }\n",
       "</style>\n",
       "<table border=\"1\" class=\"dataframe\">\n",
       "  <thead>\n",
       "    <tr style=\"text-align: right;\">\n",
       "      <th></th>\n",
       "      <th>Open</th>\n",
       "      <th>High</th>\n",
       "      <th>Low</th>\n",
       "      <th>Close</th>\n",
       "      <th>Volume</th>\n",
       "    </tr>\n",
       "    <tr>\n",
       "      <th>Date</th>\n",
       "      <th></th>\n",
       "      <th></th>\n",
       "      <th></th>\n",
       "      <th></th>\n",
       "      <th></th>\n",
       "    </tr>\n",
       "  </thead>\n",
       "  <tbody>\n",
       "    <tr>\n",
       "      <th>2023-07-05</th>\n",
       "      <td>220.949997</td>\n",
       "      <td>223.750000</td>\n",
       "      <td>220.550003</td>\n",
       "      <td>221.699997</td>\n",
       "      <td>5879342</td>\n",
       "    </tr>\n",
       "    <tr>\n",
       "      <th>2023-07-06</th>\n",
       "      <td>225.000000</td>\n",
       "      <td>230.300003</td>\n",
       "      <td>223.550003</td>\n",
       "      <td>229.600006</td>\n",
       "      <td>30885511</td>\n",
       "    </tr>\n",
       "    <tr>\n",
       "      <th>2023-07-07</th>\n",
       "      <td>229.800003</td>\n",
       "      <td>232.350006</td>\n",
       "      <td>226.100006</td>\n",
       "      <td>228.000000</td>\n",
       "      <td>16592198</td>\n",
       "    </tr>\n",
       "    <tr>\n",
       "      <th>2023-07-10</th>\n",
       "      <td>229.250000</td>\n",
       "      <td>229.250000</td>\n",
       "      <td>224.649994</td>\n",
       "      <td>225.000000</td>\n",
       "      <td>7143637</td>\n",
       "    </tr>\n",
       "    <tr>\n",
       "      <th>2023-07-12</th>\n",
       "      <td>226.250000</td>\n",
       "      <td>227.250000</td>\n",
       "      <td>225.199997</td>\n",
       "      <td>226.300003</td>\n",
       "      <td>7362493</td>\n",
       "    </tr>\n",
       "  </tbody>\n",
       "</table>\n",
       "</div>"
      ],
      "text/plain": [
       "                  Open        High         Low       Close    Volume\n",
       "Date                                                                \n",
       "2023-07-05  220.949997  223.750000  220.550003  221.699997   5879342\n",
       "2023-07-06  225.000000  230.300003  223.550003  229.600006  30885511\n",
       "2023-07-07  229.800003  232.350006  226.100006  228.000000  16592198\n",
       "2023-07-10  229.250000  229.250000  224.649994  225.000000   7143637\n",
       "2023-07-12  226.250000  227.250000  225.199997  226.300003   7362493"
      ]
     },
     "execution_count": 2,
     "metadata": {},
     "output_type": "execute_result"
    }
   ],
   "source": [
    "#load the data\n",
    "data = yfinance.download (tickers = \"TATAPOWER.NS\",start=\"2010-03-06\",\n",
    "                               interval = \"1d\", group_by = 'ticker', auto_adjust = True)\n",
    "\n",
    "data.tail()\n",
    "#data = pd.read_csv(\"DHS_Daily_Report_2020.csv\")\n",
    "#data.head()"
   ]
  },
  {
   "cell_type": "code",
   "execution_count": 5,
   "metadata": {},
   "outputs": [],
   "source": [
    "df = pd.DataFrame()\n",
    "\n",
    "df['ds'] = pd.to_datetime(data.index.values,\n",
    "                          format = \"%Y-%m-%d\")\n",
    "df['y'] = data[\"Close\"]\n",
    "# df['pe'] = nifty_pe['P/E'].values"
   ]
  },
  {
   "cell_type": "code",
   "execution_count": 6,
   "metadata": {},
   "outputs": [
    {
     "data": {
      "text/html": [
       "<div>\n",
       "<style scoped>\n",
       "    .dataframe tbody tr th:only-of-type {\n",
       "        vertical-align: middle;\n",
       "    }\n",
       "\n",
       "    .dataframe tbody tr th {\n",
       "        vertical-align: top;\n",
       "    }\n",
       "\n",
       "    .dataframe thead th {\n",
       "        text-align: right;\n",
       "    }\n",
       "</style>\n",
       "<table border=\"1\" class=\"dataframe\">\n",
       "  <thead>\n",
       "    <tr style=\"text-align: right;\">\n",
       "      <th></th>\n",
       "      <th>ds</th>\n",
       "      <th>y</th>\n",
       "    </tr>\n",
       "  </thead>\n",
       "  <tbody>\n",
       "    <tr>\n",
       "      <th>0</th>\n",
       "      <td>2010-03-08</td>\n",
       "      <td>NaN</td>\n",
       "    </tr>\n",
       "    <tr>\n",
       "      <th>1</th>\n",
       "      <td>2010-03-09</td>\n",
       "      <td>NaN</td>\n",
       "    </tr>\n",
       "    <tr>\n",
       "      <th>2</th>\n",
       "      <td>2010-03-10</td>\n",
       "      <td>NaN</td>\n",
       "    </tr>\n",
       "    <tr>\n",
       "      <th>3</th>\n",
       "      <td>2010-03-11</td>\n",
       "      <td>NaN</td>\n",
       "    </tr>\n",
       "    <tr>\n",
       "      <th>4</th>\n",
       "      <td>2010-03-12</td>\n",
       "      <td>NaN</td>\n",
       "    </tr>\n",
       "    <tr>\n",
       "      <th>...</th>\n",
       "      <td>...</td>\n",
       "      <td>...</td>\n",
       "    </tr>\n",
       "    <tr>\n",
       "      <th>3291</th>\n",
       "      <td>2023-07-05</td>\n",
       "      <td>NaN</td>\n",
       "    </tr>\n",
       "    <tr>\n",
       "      <th>3292</th>\n",
       "      <td>2023-07-06</td>\n",
       "      <td>NaN</td>\n",
       "    </tr>\n",
       "    <tr>\n",
       "      <th>3293</th>\n",
       "      <td>2023-07-07</td>\n",
       "      <td>NaN</td>\n",
       "    </tr>\n",
       "    <tr>\n",
       "      <th>3294</th>\n",
       "      <td>2023-07-10</td>\n",
       "      <td>NaN</td>\n",
       "    </tr>\n",
       "    <tr>\n",
       "      <th>3295</th>\n",
       "      <td>2023-07-12</td>\n",
       "      <td>NaN</td>\n",
       "    </tr>\n",
       "  </tbody>\n",
       "</table>\n",
       "<p>3296 rows × 2 columns</p>\n",
       "</div>"
      ],
      "text/plain": [
       "             ds   y\n",
       "0    2010-03-08 NaN\n",
       "1    2010-03-09 NaN\n",
       "2    2010-03-10 NaN\n",
       "3    2010-03-11 NaN\n",
       "4    2010-03-12 NaN\n",
       "...         ...  ..\n",
       "3291 2023-07-05 NaN\n",
       "3292 2023-07-06 NaN\n",
       "3293 2023-07-07 NaN\n",
       "3294 2023-07-10 NaN\n",
       "3295 2023-07-12 NaN\n",
       "\n",
       "[3296 rows x 2 columns]"
      ]
     },
     "execution_count": 6,
     "metadata": {},
     "output_type": "execute_result"
    }
   ],
   "source": [
    "df"
   ]
  },
  {
   "cell_type": "markdown",
   "metadata": {
    "id": "6RKxpqoBOSBX"
   },
   "source": [
    "#Data preparation"
   ]
  },
  {
   "cell_type": "code",
   "execution_count": 5,
   "metadata": {
    "colab": {
     "base_uri": "https://localhost:8080/"
    },
    "executionInfo": {
     "elapsed": 713,
     "status": "ok",
     "timestamp": 1620800321512,
     "user": {
      "displayName": "Diogo Resende",
      "photoUrl": "https://lh3.googleusercontent.com/a-/AOh14GgH4DE06-yE1oiIzCiaAURCl1Escr4LXXiaSnbSaA=s64",
      "userId": "05706604408624562002"
     },
     "user_tz": -120
    },
    "id": "o55_2auGOUm6",
    "outputId": "23139e02-7db7-4d67-df69-0c89630a67e5"
   },
   "outputs": [
    {
     "ename": "AttributeError",
     "evalue": "'DataFrame' object has no attribute 'Date'",
     "output_type": "error",
     "traceback": [
      "\u001b[0;31m---------------------------------------------------------------------------\u001b[0m",
      "\u001b[0;31mAttributeError\u001b[0m                            Traceback (most recent call last)",
      "Cell \u001b[0;32mIn[5], line 2\u001b[0m\n\u001b[1;32m      1\u001b[0m \u001b[38;5;66;03m#transform the date variable\u001b[39;00m\n\u001b[0;32m----> 2\u001b[0m data\u001b[38;5;241m.\u001b[39mDate \u001b[38;5;241m=\u001b[39m pd\u001b[38;5;241m.\u001b[39mto_datetime(\u001b[43mdata\u001b[49m\u001b[38;5;241;43m.\u001b[39;49m\u001b[43mDate\u001b[49m, \u001b[38;5;28mformat\u001b[39m \u001b[38;5;241m=\u001b[39m \u001b[38;5;124m\"\u001b[39m\u001b[38;5;124m%\u001b[39m\u001b[38;5;124mm/\u001b[39m\u001b[38;5;132;01m%d\u001b[39;00m\u001b[38;5;124m/\u001b[39m\u001b[38;5;124m%\u001b[39m\u001b[38;5;124mY\u001b[39m\u001b[38;5;124m\"\u001b[39m)\n\u001b[1;32m      3\u001b[0m data\u001b[38;5;241m.\u001b[39mDate\n",
      "File \u001b[0;32m~/opt/anaconda3/envs/my_own/lib/python3.9/site-packages/pandas/core/generic.py:5989\u001b[0m, in \u001b[0;36mNDFrame.__getattr__\u001b[0;34m(self, name)\u001b[0m\n\u001b[1;32m   5982\u001b[0m \u001b[38;5;28;01mif\u001b[39;00m (\n\u001b[1;32m   5983\u001b[0m     name \u001b[38;5;129;01mnot\u001b[39;00m \u001b[38;5;129;01min\u001b[39;00m \u001b[38;5;28mself\u001b[39m\u001b[38;5;241m.\u001b[39m_internal_names_set\n\u001b[1;32m   5984\u001b[0m     \u001b[38;5;129;01mand\u001b[39;00m name \u001b[38;5;129;01mnot\u001b[39;00m \u001b[38;5;129;01min\u001b[39;00m \u001b[38;5;28mself\u001b[39m\u001b[38;5;241m.\u001b[39m_metadata\n\u001b[1;32m   5985\u001b[0m     \u001b[38;5;129;01mand\u001b[39;00m name \u001b[38;5;129;01mnot\u001b[39;00m \u001b[38;5;129;01min\u001b[39;00m \u001b[38;5;28mself\u001b[39m\u001b[38;5;241m.\u001b[39m_accessors\n\u001b[1;32m   5986\u001b[0m     \u001b[38;5;129;01mand\u001b[39;00m \u001b[38;5;28mself\u001b[39m\u001b[38;5;241m.\u001b[39m_info_axis\u001b[38;5;241m.\u001b[39m_can_hold_identifiers_and_holds_name(name)\n\u001b[1;32m   5987\u001b[0m ):\n\u001b[1;32m   5988\u001b[0m     \u001b[38;5;28;01mreturn\u001b[39;00m \u001b[38;5;28mself\u001b[39m[name]\n\u001b[0;32m-> 5989\u001b[0m \u001b[38;5;28;01mreturn\u001b[39;00m \u001b[38;5;28;43mobject\u001b[39;49m\u001b[38;5;241;43m.\u001b[39;49m\u001b[38;5;21;43m__getattribute__\u001b[39;49m\u001b[43m(\u001b[49m\u001b[38;5;28;43mself\u001b[39;49m\u001b[43m,\u001b[49m\u001b[43m \u001b[49m\u001b[43mname\u001b[49m\u001b[43m)\u001b[49m\n",
      "\u001b[0;31mAttributeError\u001b[0m: 'DataFrame' object has no attribute 'Date'"
     ]
    }
   ],
   "source": [
    "#transform the date variable\n",
    "data.Date = pd.to_datetime(data.Date, format = \"%m/%d/%Y\")\n",
    "data.Date"
   ]
  },
  {
   "cell_type": "code",
   "execution_count": 4,
   "metadata": {
    "colab": {
     "base_uri": "https://localhost:8080/",
     "height": 202
    },
    "executionInfo": {
     "elapsed": 696,
     "status": "ok",
     "timestamp": 1620800545963,
     "user": {
      "displayName": "Diogo Resende",
      "photoUrl": "https://lh3.googleusercontent.com/a-/AOh14GgH4DE06-yE1oiIzCiaAURCl1Escr4LXXiaSnbSaA=s64",
      "userId": "05706604408624562002"
     },
     "user_tz": -120
    },
    "id": "eJqdPy0TOnzn",
    "outputId": "ceb0058d-12da-455c-800c-ac89a9bcc2f9"
   },
   "outputs": [
    {
     "data": {
      "text/html": [
       "<div>\n",
       "<style scoped>\n",
       "    .dataframe tbody tr th:only-of-type {\n",
       "        vertical-align: middle;\n",
       "    }\n",
       "\n",
       "    .dataframe tbody tr th {\n",
       "        vertical-align: top;\n",
       "    }\n",
       "\n",
       "    .dataframe thead th {\n",
       "        text-align: right;\n",
       "    }\n",
       "</style>\n",
       "<table border=\"1\" class=\"dataframe\">\n",
       "  <thead>\n",
       "    <tr style=\"text-align: right;\">\n",
       "      <th></th>\n",
       "      <th>Date</th>\n",
       "      <th>Total Individuals in Shelter</th>\n",
       "      <th>Easter</th>\n",
       "      <th>Thanksgiving</th>\n",
       "      <th>Christmas</th>\n",
       "    </tr>\n",
       "  </thead>\n",
       "  <tbody>\n",
       "    <tr>\n",
       "      <th>0</th>\n",
       "      <td>2014-01-01</td>\n",
       "      <td>50689</td>\n",
       "      <td>0</td>\n",
       "      <td>0</td>\n",
       "      <td>0</td>\n",
       "    </tr>\n",
       "    <tr>\n",
       "      <th>1</th>\n",
       "      <td>2014-01-02</td>\n",
       "      <td>50797</td>\n",
       "      <td>0</td>\n",
       "      <td>0</td>\n",
       "      <td>0</td>\n",
       "    </tr>\n",
       "    <tr>\n",
       "      <th>2</th>\n",
       "      <td>2014-01-03</td>\n",
       "      <td>50954</td>\n",
       "      <td>0</td>\n",
       "      <td>0</td>\n",
       "      <td>0</td>\n",
       "    </tr>\n",
       "    <tr>\n",
       "      <th>3</th>\n",
       "      <td>2014-01-04</td>\n",
       "      <td>50957</td>\n",
       "      <td>0</td>\n",
       "      <td>0</td>\n",
       "      <td>0</td>\n",
       "    </tr>\n",
       "    <tr>\n",
       "      <th>4</th>\n",
       "      <td>2014-01-05</td>\n",
       "      <td>50957</td>\n",
       "      <td>0</td>\n",
       "      <td>0</td>\n",
       "      <td>0</td>\n",
       "    </tr>\n",
       "  </tbody>\n",
       "</table>\n",
       "</div>"
      ],
      "text/plain": [
       "        Date  Total Individuals in Shelter  Easter  Thanksgiving  Christmas\n",
       "0 2014-01-01                         50689       0             0          0\n",
       "1 2014-01-02                         50797       0             0          0\n",
       "2 2014-01-03                         50954       0             0          0\n",
       "3 2014-01-04                         50957       0             0          0\n",
       "4 2014-01-05                         50957       0             0          0"
      ]
     },
     "execution_count": 4,
     "metadata": {},
     "output_type": "execute_result"
    }
   ],
   "source": [
    "#final dataset\n",
    "#df = data.loc[data.Date <= \"2020-12-01\",\n",
    " #             [\"Date\", \"Total Individuals in Shelter\",\n",
    "  #             \"Easter\", \"Thanksgiving\", \"Christmas\"]]\n",
    "#df.head()              "
   ]
  },
  {
   "cell_type": "code",
   "execution_count": 5,
   "metadata": {
    "colab": {
     "base_uri": "https://localhost:8080/",
     "height": 79
    },
    "executionInfo": {
     "elapsed": 590,
     "status": "ok",
     "timestamp": 1620800851990,
     "user": {
      "displayName": "Diogo Resende",
      "photoUrl": "https://lh3.googleusercontent.com/a-/AOh14GgH4DE06-yE1oiIzCiaAURCl1Escr4LXXiaSnbSaA=s64",
      "userId": "05706604408624562002"
     },
     "user_tz": -120
    },
    "id": "D3FRYUauQWkz",
    "outputId": "46ccffb4-51ba-4f2f-f9d0-145549f7d4a9"
   },
   "outputs": [
    {
     "data": {
      "text/html": [
       "<div>\n",
       "<style scoped>\n",
       "    .dataframe tbody tr th:only-of-type {\n",
       "        vertical-align: middle;\n",
       "    }\n",
       "\n",
       "    .dataframe tbody tr th {\n",
       "        vertical-align: top;\n",
       "    }\n",
       "\n",
       "    .dataframe thead th {\n",
       "        text-align: right;\n",
       "    }\n",
       "</style>\n",
       "<table border=\"1\" class=\"dataframe\">\n",
       "  <thead>\n",
       "    <tr style=\"text-align: right;\">\n",
       "      <th></th>\n",
       "      <th>ds</th>\n",
       "      <th>y</th>\n",
       "      <th>Easter</th>\n",
       "      <th>Thanksgiving</th>\n",
       "      <th>Christmas</th>\n",
       "    </tr>\n",
       "  </thead>\n",
       "  <tbody>\n",
       "    <tr>\n",
       "      <th>0</th>\n",
       "      <td>2014-01-01</td>\n",
       "      <td>50689</td>\n",
       "      <td>0</td>\n",
       "      <td>0</td>\n",
       "      <td>0</td>\n",
       "    </tr>\n",
       "  </tbody>\n",
       "</table>\n",
       "</div>"
      ],
      "text/plain": [
       "          ds      y  Easter  Thanksgiving  Christmas\n",
       "0 2014-01-01  50689       0             0          0"
      ]
     },
     "execution_count": 5,
     "metadata": {},
     "output_type": "execute_result"
    }
   ],
   "source": [
    "#renaming variables\n",
    "df = df.rename(columns = {'Total Individuals in Shelter': 'y',\n",
    "                          'Date': 'ds'})\n",
    "df.head(1)"
   ]
  },
  {
   "cell_type": "markdown",
   "metadata": {
    "id": "rbI03M5DQnf7"
   },
   "source": [
    "#Holidays"
   ]
  },
  {
   "cell_type": "code",
   "execution_count": 6,
   "metadata": {
    "colab": {
     "base_uri": "https://localhost:8080/",
     "height": 110
    },
    "executionInfo": {
     "elapsed": 576,
     "status": "ok",
     "timestamp": 1620801072473,
     "user": {
      "displayName": "Diogo Resende",
      "photoUrl": "https://lh3.googleusercontent.com/a-/AOh14GgH4DE06-yE1oiIzCiaAURCl1Escr4LXXiaSnbSaA=s64",
      "userId": "05706604408624562002"
     },
     "user_tz": -120
    },
    "id": "-iN1u_ZbQo_R",
    "outputId": "1f884a87-d242-4141-f686-5ad52b11b5b0"
   },
   "outputs": [
    {
     "data": {
      "text/html": [
       "<div>\n",
       "<style scoped>\n",
       "    .dataframe tbody tr th:only-of-type {\n",
       "        vertical-align: middle;\n",
       "    }\n",
       "\n",
       "    .dataframe tbody tr th {\n",
       "        vertical-align: top;\n",
       "    }\n",
       "\n",
       "    .dataframe thead th {\n",
       "        text-align: right;\n",
       "    }\n",
       "</style>\n",
       "<table border=\"1\" class=\"dataframe\">\n",
       "  <thead>\n",
       "    <tr style=\"text-align: right;\">\n",
       "      <th></th>\n",
       "      <th>holiday</th>\n",
       "      <th>ds</th>\n",
       "      <th>lower_window</th>\n",
       "      <th>upper_window</th>\n",
       "    </tr>\n",
       "  </thead>\n",
       "  <tbody>\n",
       "    <tr>\n",
       "      <th>109</th>\n",
       "      <td>easter</td>\n",
       "      <td>2014-04-20</td>\n",
       "      <td>-5</td>\n",
       "      <td>2</td>\n",
       "    </tr>\n",
       "    <tr>\n",
       "      <th>459</th>\n",
       "      <td>easter</td>\n",
       "      <td>2015-04-05</td>\n",
       "      <td>-5</td>\n",
       "      <td>2</td>\n",
       "    </tr>\n",
       "  </tbody>\n",
       "</table>\n",
       "</div>"
      ],
      "text/plain": [
       "    holiday         ds  lower_window  upper_window\n",
       "109  easter 2014-04-20            -5             2\n",
       "459  easter 2015-04-05            -5             2"
      ]
     },
     "execution_count": 6,
     "metadata": {},
     "output_type": "execute_result"
    }
   ],
   "source": [
    "#Easter\n",
    "easter_dates = df[df.Easter == 1].ds\n",
    "easter = pd.DataFrame({'holiday': 'easter',\n",
    "                       'ds': pd.to_datetime(easter_dates),\n",
    "                       'lower_window': -5,\n",
    "                       'upper_window': 2})\n",
    "easter.head(2)"
   ]
  },
  {
   "cell_type": "code",
   "execution_count": 7,
   "metadata": {
    "colab": {
     "base_uri": "https://localhost:8080/",
     "height": 110
    },
    "executionInfo": {
     "elapsed": 940,
     "status": "ok",
     "timestamp": 1620801128316,
     "user": {
      "displayName": "Diogo Resende",
      "photoUrl": "https://lh3.googleusercontent.com/a-/AOh14GgH4DE06-yE1oiIzCiaAURCl1Escr4LXXiaSnbSaA=s64",
      "userId": "05706604408624562002"
     },
     "user_tz": -120
    },
    "id": "PhOrTqnKRcFB",
    "outputId": "9d9de58a-a936-4283-a3ea-49e4926313d5"
   },
   "outputs": [
    {
     "data": {
      "text/html": [
       "<div>\n",
       "<style scoped>\n",
       "    .dataframe tbody tr th:only-of-type {\n",
       "        vertical-align: middle;\n",
       "    }\n",
       "\n",
       "    .dataframe tbody tr th {\n",
       "        vertical-align: top;\n",
       "    }\n",
       "\n",
       "    .dataframe thead th {\n",
       "        text-align: right;\n",
       "    }\n",
       "</style>\n",
       "<table border=\"1\" class=\"dataframe\">\n",
       "  <thead>\n",
       "    <tr style=\"text-align: right;\">\n",
       "      <th></th>\n",
       "      <th>holiday</th>\n",
       "      <th>ds</th>\n",
       "      <th>lower_window</th>\n",
       "      <th>upper_window</th>\n",
       "    </tr>\n",
       "  </thead>\n",
       "  <tbody>\n",
       "    <tr>\n",
       "      <th>330</th>\n",
       "      <td>thanksgiving</td>\n",
       "      <td>2014-11-27</td>\n",
       "      <td>-5</td>\n",
       "      <td>2</td>\n",
       "    </tr>\n",
       "    <tr>\n",
       "      <th>694</th>\n",
       "      <td>thanksgiving</td>\n",
       "      <td>2015-11-26</td>\n",
       "      <td>-5</td>\n",
       "      <td>2</td>\n",
       "    </tr>\n",
       "  </tbody>\n",
       "</table>\n",
       "</div>"
      ],
      "text/plain": [
       "          holiday         ds  lower_window  upper_window\n",
       "330  thanksgiving 2014-11-27            -5             2\n",
       "694  thanksgiving 2015-11-26            -5             2"
      ]
     },
     "execution_count": 7,
     "metadata": {},
     "output_type": "execute_result"
    }
   ],
   "source": [
    "#Thanksgiving\n",
    "thanksgiving_dates = df[df.Thanksgiving == 1].ds\n",
    "thanksgiving = pd.DataFrame({'holiday': 'thanksgiving',\n",
    "                       'ds': pd.to_datetime(thanksgiving_dates),\n",
    "                       'lower_window': -5,\n",
    "                       'upper_window': 2})\n",
    "thanksgiving.head(2)"
   ]
  },
  {
   "cell_type": "code",
   "execution_count": 8,
   "metadata": {
    "colab": {
     "base_uri": "https://localhost:8080/",
     "height": 478
    },
    "executionInfo": {
     "elapsed": 662,
     "status": "ok",
     "timestamp": 1620801208217,
     "user": {
      "displayName": "Diogo Resende",
      "photoUrl": "https://lh3.googleusercontent.com/a-/AOh14GgH4DE06-yE1oiIzCiaAURCl1Escr4LXXiaSnbSaA=s64",
      "userId": "05706604408624562002"
     },
     "user_tz": -120
    },
    "id": "cmcQZKjgRp06",
    "outputId": "99cc14ca-205d-4306-9aeb-d9148565598c"
   },
   "outputs": [
    {
     "data": {
      "text/html": [
       "<div>\n",
       "<style scoped>\n",
       "    .dataframe tbody tr th:only-of-type {\n",
       "        vertical-align: middle;\n",
       "    }\n",
       "\n",
       "    .dataframe tbody tr th {\n",
       "        vertical-align: top;\n",
       "    }\n",
       "\n",
       "    .dataframe thead th {\n",
       "        text-align: right;\n",
       "    }\n",
       "</style>\n",
       "<table border=\"1\" class=\"dataframe\">\n",
       "  <thead>\n",
       "    <tr style=\"text-align: right;\">\n",
       "      <th></th>\n",
       "      <th>holiday</th>\n",
       "      <th>ds</th>\n",
       "      <th>lower_window</th>\n",
       "      <th>upper_window</th>\n",
       "    </tr>\n",
       "  </thead>\n",
       "  <tbody>\n",
       "    <tr>\n",
       "      <th>109</th>\n",
       "      <td>easter</td>\n",
       "      <td>2014-04-20</td>\n",
       "      <td>-5</td>\n",
       "      <td>2</td>\n",
       "    </tr>\n",
       "    <tr>\n",
       "      <th>459</th>\n",
       "      <td>easter</td>\n",
       "      <td>2015-04-05</td>\n",
       "      <td>-5</td>\n",
       "      <td>2</td>\n",
       "    </tr>\n",
       "    <tr>\n",
       "      <th>816</th>\n",
       "      <td>easter</td>\n",
       "      <td>2016-03-27</td>\n",
       "      <td>-5</td>\n",
       "      <td>2</td>\n",
       "    </tr>\n",
       "    <tr>\n",
       "      <th>1201</th>\n",
       "      <td>easter</td>\n",
       "      <td>2017-04-16</td>\n",
       "      <td>-5</td>\n",
       "      <td>2</td>\n",
       "    </tr>\n",
       "    <tr>\n",
       "      <th>1551</th>\n",
       "      <td>easter</td>\n",
       "      <td>2018-04-01</td>\n",
       "      <td>-5</td>\n",
       "      <td>2</td>\n",
       "    </tr>\n",
       "    <tr>\n",
       "      <th>1936</th>\n",
       "      <td>easter</td>\n",
       "      <td>2019-04-21</td>\n",
       "      <td>-5</td>\n",
       "      <td>2</td>\n",
       "    </tr>\n",
       "    <tr>\n",
       "      <th>2293</th>\n",
       "      <td>easter</td>\n",
       "      <td>2020-04-12</td>\n",
       "      <td>-5</td>\n",
       "      <td>2</td>\n",
       "    </tr>\n",
       "    <tr>\n",
       "      <th>330</th>\n",
       "      <td>thanksgiving</td>\n",
       "      <td>2014-11-27</td>\n",
       "      <td>-5</td>\n",
       "      <td>2</td>\n",
       "    </tr>\n",
       "    <tr>\n",
       "      <th>694</th>\n",
       "      <td>thanksgiving</td>\n",
       "      <td>2015-11-26</td>\n",
       "      <td>-5</td>\n",
       "      <td>2</td>\n",
       "    </tr>\n",
       "    <tr>\n",
       "      <th>1058</th>\n",
       "      <td>thanksgiving</td>\n",
       "      <td>2016-11-24</td>\n",
       "      <td>-5</td>\n",
       "      <td>2</td>\n",
       "    </tr>\n",
       "    <tr>\n",
       "      <th>1422</th>\n",
       "      <td>thanksgiving</td>\n",
       "      <td>2017-11-23</td>\n",
       "      <td>-5</td>\n",
       "      <td>2</td>\n",
       "    </tr>\n",
       "    <tr>\n",
       "      <th>1786</th>\n",
       "      <td>thanksgiving</td>\n",
       "      <td>2018-11-22</td>\n",
       "      <td>-5</td>\n",
       "      <td>2</td>\n",
       "    </tr>\n",
       "    <tr>\n",
       "      <th>2157</th>\n",
       "      <td>thanksgiving</td>\n",
       "      <td>2019-11-28</td>\n",
       "      <td>-5</td>\n",
       "      <td>2</td>\n",
       "    </tr>\n",
       "    <tr>\n",
       "      <th>2521</th>\n",
       "      <td>thanksgiving</td>\n",
       "      <td>2020-11-26</td>\n",
       "      <td>-5</td>\n",
       "      <td>2</td>\n",
       "    </tr>\n",
       "  </tbody>\n",
       "</table>\n",
       "</div>"
      ],
      "text/plain": [
       "           holiday         ds  lower_window  upper_window\n",
       "109         easter 2014-04-20            -5             2\n",
       "459         easter 2015-04-05            -5             2\n",
       "816         easter 2016-03-27            -5             2\n",
       "1201        easter 2017-04-16            -5             2\n",
       "1551        easter 2018-04-01            -5             2\n",
       "1936        easter 2019-04-21            -5             2\n",
       "2293        easter 2020-04-12            -5             2\n",
       "330   thanksgiving 2014-11-27            -5             2\n",
       "694   thanksgiving 2015-11-26            -5             2\n",
       "1058  thanksgiving 2016-11-24            -5             2\n",
       "1422  thanksgiving 2017-11-23            -5             2\n",
       "1786  thanksgiving 2018-11-22            -5             2\n",
       "2157  thanksgiving 2019-11-28            -5             2\n",
       "2521  thanksgiving 2020-11-26            -5             2"
      ]
     },
     "execution_count": 8,
     "metadata": {},
     "output_type": "execute_result"
    }
   ],
   "source": [
    "#combining holidays\n",
    "holidays = pd.concat([easter, thanksgiving])\n",
    "holidays"
   ]
  },
  {
   "cell_type": "markdown",
   "metadata": {
    "id": "eOzPNoRySOA5"
   },
   "source": [
    "#Prophet"
   ]
  },
  {
   "cell_type": "code",
   "execution_count": 9,
   "metadata": {
    "colab": {
     "base_uri": "https://localhost:8080/"
    },
    "executionInfo": {
     "elapsed": 7506,
     "status": "ok",
     "timestamp": 1620801393802,
     "user": {
      "displayName": "Diogo Resende",
      "photoUrl": "https://lh3.googleusercontent.com/a-/AOh14GgH4DE06-yE1oiIzCiaAURCl1Escr4LXXiaSnbSaA=s64",
      "userId": "05706604408624562002"
     },
     "user_tz": -120
    },
    "id": "Ai7zk9f7SPVK",
    "outputId": "a0db788b-c3f3-4130-c35a-665e0983f86f"
   },
   "outputs": [
    {
     "name": "stderr",
     "output_type": "stream",
     "text": [
      "16:31:39 - cmdstanpy - INFO - Chain [1] start processing\n",
      "16:31:42 - cmdstanpy - INFO - Chain [1] done processing\n"
     ]
    },
    {
     "data": {
      "text/plain": [
       "<prophet.forecaster.Prophet at 0x7fb8152cf850>"
      ]
     },
     "execution_count": 9,
     "metadata": {},
     "output_type": "execute_result"
    }
   ],
   "source": [
    "m = Prophet(holidays = holidays,\n",
    "            seasonality_mode = 'multiplicative',\n",
    "            seasonality_prior_scale = 10,\n",
    "            changepoint_prior_scale = 0.05,\n",
    "            holidays_prior_scale = 10)\n",
    "m.add_regressor('Christmas')\n",
    "m.fit(df)"
   ]
  },
  {
   "cell_type": "code",
   "execution_count": 11,
   "metadata": {
    "colab": {
     "base_uri": "https://localhost:8080/"
    },
    "executionInfo": {
     "elapsed": 40953,
     "status": "ok",
     "timestamp": 1620801499462,
     "user": {
      "displayName": "Diogo Resende",
      "photoUrl": "https://lh3.googleusercontent.com/a-/AOh14GgH4DE06-yE1oiIzCiaAURCl1Escr4LXXiaSnbSaA=s64",
      "userId": "05706604408624562002"
     },
     "user_tz": -120
    },
    "id": "F2FDXiJsSqfr",
    "outputId": "a5b8fb41-ae30-4bb3-f5c9-8e854be71939"
   },
   "outputs": [
    {
     "name": "stderr",
     "output_type": "stream",
     "text": [
      "Importing plotly failed. Interactive plots will not work.\n",
      "Importing plotly failed. Interactive plots will not work.\n",
      "Importing plotly failed. Interactive plots will not work.\n",
      "Importing plotly failed. Interactive plots will not work.\n",
      "16:32:06 - cmdstanpy - INFO - Chain [1] start processing\n",
      "16:32:06 - cmdstanpy - INFO - Chain [1] start processing\n",
      "16:32:06 - cmdstanpy - INFO - Chain [1] start processing\n",
      "16:32:06 - cmdstanpy - INFO - Chain [1] start processing\n",
      "16:32:13 - cmdstanpy - INFO - Chain [1] done processing\n",
      "16:32:14 - cmdstanpy - INFO - Chain [1] done processing\n",
      "16:32:14 - cmdstanpy - INFO - Chain [1] done processing\n",
      "16:32:14 - cmdstanpy - INFO - Chain [1] done processing\n",
      "16:32:15 - cmdstanpy - INFO - Chain [1] start processing\n",
      "16:32:15 - cmdstanpy - INFO - Chain [1] start processing\n",
      "16:32:15 - cmdstanpy - INFO - Chain [1] start processing\n",
      "16:32:20 - cmdstanpy - INFO - Chain [1] done processing\n",
      "16:32:21 - cmdstanpy - INFO - Chain [1] done processing\n",
      "16:32:21 - cmdstanpy - INFO - Chain [1] done processing\n"
     ]
    }
   ],
   "source": [
    "#CV\n",
    "from prophet.diagnostics import cross_validation\n",
    "df_cv = cross_validation(m,\n",
    "                         horizon = '31 days',\n",
    "                         initial = '2400 days',\n",
    "                         parallel = \"processes\")"
   ]
  },
  {
   "cell_type": "code",
   "execution_count": 12,
   "metadata": {
    "colab": {
     "base_uri": "https://localhost:8080/"
    },
    "executionInfo": {
     "elapsed": 545,
     "status": "ok",
     "timestamp": 1620801575027,
     "user": {
      "displayName": "Diogo Resende",
      "photoUrl": "https://lh3.googleusercontent.com/a-/AOh14GgH4DE06-yE1oiIzCiaAURCl1Escr4LXXiaSnbSaA=s64",
      "userId": "05706604408624562002"
     },
     "user_tz": -120
    },
    "id": "Y6K6RT3lTFaW",
    "outputId": "83c9329a-2957-48e5-95e9-bb6f4209ef55"
   },
   "outputs": [
    {
     "data": {
      "text/plain": [
       "1996.4039732500853"
      ]
     },
     "execution_count": 12,
     "metadata": {},
     "output_type": "execute_result"
    }
   ],
   "source": [
    "#assess model\n",
    "from sklearn.metrics import mean_absolute_error\n",
    "mean_absolute_error(df_cv.yhat, df_cv.y)"
   ]
  },
  {
   "cell_type": "markdown",
   "metadata": {
    "id": "JhIn5mlcTblC"
   },
   "source": [
    "#Hyperparameter tuning"
   ]
  },
  {
   "cell_type": "code",
   "execution_count": 13,
   "metadata": {
    "executionInfo": {
     "elapsed": 562,
     "status": "ok",
     "timestamp": 1620801766809,
     "user": {
      "displayName": "Diogo Resende",
      "photoUrl": "https://lh3.googleusercontent.com/a-/AOh14GgH4DE06-yE1oiIzCiaAURCl1Escr4LXXiaSnbSaA=s64",
      "userId": "05706604408624562002"
     },
     "user_tz": -120
    },
    "id": "z4wv9KH5Tn8d"
   },
   "outputs": [],
   "source": [
    "#PArameters\n",
    "from sklearn.model_selection import ParameterGrid\n",
    "param_grid = {'seasonality_prior_scale': [10, 20],\n",
    "            'changepoint_prior_scale': [0.05, 0.1],\n",
    "            'holidays_prior_scale': [10, 20]}\n",
    "grid = ParameterGrid(param_grid)"
   ]
  },
  {
   "cell_type": "code",
   "execution_count": 14,
   "metadata": {
    "id": "ka5ZAlOBUE-x"
   },
   "outputs": [
    {
     "name": "stderr",
     "output_type": "stream",
     "text": [
      "16:32:46 - cmdstanpy - INFO - Chain [1] start processing\n",
      "16:32:48 - cmdstanpy - INFO - Chain [1] done processing\n",
      "Importing plotly failed. Interactive plots will not work.\n",
      "Importing plotly failed. Interactive plots will not work.\n",
      "Importing plotly failed. Interactive plots will not work.\n",
      "Importing plotly failed. Interactive plots will not work.\n",
      "16:32:51 - cmdstanpy - INFO - Chain [1] start processing\n",
      "16:32:51 - cmdstanpy - INFO - Chain [1] start processing\n",
      "16:32:51 - cmdstanpy - INFO - Chain [1] start processing\n",
      "16:32:51 - cmdstanpy - INFO - Chain [1] start processing\n",
      "16:32:58 - cmdstanpy - INFO - Chain [1] done processing\n",
      "16:32:59 - cmdstanpy - INFO - Chain [1] done processing\n",
      "16:32:59 - cmdstanpy - INFO - Chain [1] done processing\n",
      "16:32:59 - cmdstanpy - INFO - Chain [1] done processing\n",
      "16:32:59 - cmdstanpy - INFO - Chain [1] start processing\n",
      "16:33:00 - cmdstanpy - INFO - Chain [1] start processing\n",
      "16:33:00 - cmdstanpy - INFO - Chain [1] start processing\n",
      "16:33:05 - cmdstanpy - INFO - Chain [1] done processing\n",
      "16:33:06 - cmdstanpy - INFO - Chain [1] done processing\n",
      "16:33:07 - cmdstanpy - INFO - Chain [1] done processing\n",
      "16:33:07 - cmdstanpy - INFO - Chain [1] start processing\n",
      "16:33:10 - cmdstanpy - INFO - Chain [1] done processing\n",
      "Importing plotly failed. Interactive plots will not work.\n",
      "Importing plotly failed. Interactive plots will not work.\n",
      "Importing plotly failed. Interactive plots will not work.\n",
      "Importing plotly failed. Interactive plots will not work.\n",
      "16:33:12 - cmdstanpy - INFO - Chain [1] start processing\n",
      "16:33:12 - cmdstanpy - INFO - Chain [1] start processing\n",
      "16:33:12 - cmdstanpy - INFO - Chain [1] start processing\n",
      "16:33:12 - cmdstanpy - INFO - Chain [1] start processing\n",
      "16:33:20 - cmdstanpy - INFO - Chain [1] done processing\n",
      "16:33:21 - cmdstanpy - INFO - Chain [1] done processing\n",
      "16:33:21 - cmdstanpy - INFO - Chain [1] done processing\n",
      "16:33:21 - cmdstanpy - INFO - Chain [1] start processing\n",
      "16:33:21 - cmdstanpy - INFO - Chain [1] done processing\n",
      "16:33:22 - cmdstanpy - INFO - Chain [1] start processing\n",
      "16:33:22 - cmdstanpy - INFO - Chain [1] start processing\n",
      "16:33:27 - cmdstanpy - INFO - Chain [1] done processing\n",
      "16:33:28 - cmdstanpy - INFO - Chain [1] done processing\n",
      "16:33:28 - cmdstanpy - INFO - Chain [1] done processing\n",
      "16:33:29 - cmdstanpy - INFO - Chain [1] start processing\n",
      "16:33:31 - cmdstanpy - INFO - Chain [1] done processing\n",
      "Importing plotly failed. Interactive plots will not work.\n",
      "Importing plotly failed. Interactive plots will not work.\n",
      "Importing plotly failed. Interactive plots will not work.\n",
      "Importing plotly failed. Interactive plots will not work.\n",
      "16:33:33 - cmdstanpy - INFO - Chain [1] start processing\n",
      "16:33:34 - cmdstanpy - INFO - Chain [1] start processing\n",
      "16:33:34 - cmdstanpy - INFO - Chain [1] start processing\n",
      "16:33:34 - cmdstanpy - INFO - Chain [1] start processing\n",
      "16:33:41 - cmdstanpy - INFO - Chain [1] done processing\n",
      "16:33:41 - cmdstanpy - INFO - Chain [1] done processing\n",
      "16:33:42 - cmdstanpy - INFO - Chain [1] start processing\n",
      "16:33:42 - cmdstanpy - INFO - Chain [1] done processing\n",
      "16:33:42 - cmdstanpy - INFO - Chain [1] done processing\n",
      "16:33:42 - cmdstanpy - INFO - Chain [1] start processing\n",
      "16:33:43 - cmdstanpy - INFO - Chain [1] start processing\n",
      "16:33:49 - cmdstanpy - INFO - Chain [1] done processing\n",
      "16:33:49 - cmdstanpy - INFO - Chain [1] done processing\n",
      "16:33:49 - cmdstanpy - INFO - Chain [1] done processing\n",
      "16:33:50 - cmdstanpy - INFO - Chain [1] start processing\n",
      "16:33:52 - cmdstanpy - INFO - Chain [1] done processing\n",
      "Importing plotly failed. Interactive plots will not work.\n",
      "Importing plotly failed. Interactive plots will not work.\n",
      "Importing plotly failed. Interactive plots will not work.\n",
      "Importing plotly failed. Interactive plots will not work.\n",
      "16:33:55 - cmdstanpy - INFO - Chain [1] start processing\n",
      "16:33:55 - cmdstanpy - INFO - Chain [1] start processing\n",
      "16:33:55 - cmdstanpy - INFO - Chain [1] start processing\n",
      "16:33:55 - cmdstanpy - INFO - Chain [1] start processing\n",
      "16:34:03 - cmdstanpy - INFO - Chain [1] done processing\n",
      "16:34:04 - cmdstanpy - INFO - Chain [1] done processing\n",
      "16:34:04 - cmdstanpy - INFO - Chain [1] done processing\n",
      "16:34:05 - cmdstanpy - INFO - Chain [1] start processing\n",
      "16:34:05 - cmdstanpy - INFO - Chain [1] start processing\n",
      "16:34:05 - cmdstanpy - INFO - Chain [1] start processing\n",
      "16:34:06 - cmdstanpy - INFO - Chain [1] done processing\n",
      "16:34:11 - cmdstanpy - INFO - Chain [1] done processing\n",
      "16:34:11 - cmdstanpy - INFO - Chain [1] done processing\n",
      "16:34:12 - cmdstanpy - INFO - Chain [1] done processing\n",
      "16:34:13 - cmdstanpy - INFO - Chain [1] start processing\n",
      "16:34:16 - cmdstanpy - INFO - Chain [1] done processing\n",
      "Importing plotly failed. Interactive plots will not work.\n",
      "Importing plotly failed. Interactive plots will not work.\n",
      "Importing plotly failed. Interactive plots will not work.\n",
      "Importing plotly failed. Interactive plots will not work.\n",
      "16:34:18 - cmdstanpy - INFO - Chain [1] start processing\n",
      "16:34:18 - cmdstanpy - INFO - Chain [1] start processing\n",
      "16:34:18 - cmdstanpy - INFO - Chain [1] start processing\n",
      "16:34:18 - cmdstanpy - INFO - Chain [1] start processing\n",
      "16:34:26 - cmdstanpy - INFO - Chain [1] done processing\n",
      "16:34:26 - cmdstanpy - INFO - Chain [1] done processing\n",
      "16:34:26 - cmdstanpy - INFO - Chain [1] done processing\n",
      "16:34:27 - cmdstanpy - INFO - Chain [1] done processing\n",
      "16:34:27 - cmdstanpy - INFO - Chain [1] start processing\n",
      "16:34:27 - cmdstanpy - INFO - Chain [1] start processing\n",
      "16:34:27 - cmdstanpy - INFO - Chain [1] start processing\n",
      "16:34:32 - cmdstanpy - INFO - Chain [1] done processing\n",
      "16:34:33 - cmdstanpy - INFO - Chain [1] done processing\n",
      "16:34:33 - cmdstanpy - INFO - Chain [1] done processing\n",
      "16:34:33 - cmdstanpy - INFO - Chain [1] start processing\n",
      "16:34:35 - cmdstanpy - INFO - Chain [1] done processing\n",
      "Importing plotly failed. Interactive plots will not work.\n",
      "Importing plotly failed. Interactive plots will not work.\n",
      "Importing plotly failed. Interactive plots will not work.\n",
      "Importing plotly failed. Interactive plots will not work.\n",
      "16:34:37 - cmdstanpy - INFO - Chain [1] start processing\n",
      "16:34:37 - cmdstanpy - INFO - Chain [1] start processing\n",
      "16:34:37 - cmdstanpy - INFO - Chain [1] start processing\n",
      "16:34:37 - cmdstanpy - INFO - Chain [1] start processing\n",
      "16:34:44 - cmdstanpy - INFO - Chain [1] done processing\n",
      "16:34:45 - cmdstanpy - INFO - Chain [1] done processing\n",
      "16:34:45 - cmdstanpy - INFO - Chain [1] done processing\n",
      "16:34:45 - cmdstanpy - INFO - Chain [1] start processing\n",
      "16:34:46 - cmdstanpy - INFO - Chain [1] start processing\n",
      "16:34:46 - cmdstanpy - INFO - Chain [1] start processing\n",
      "16:34:46 - cmdstanpy - INFO - Chain [1] done processing\n",
      "16:34:51 - cmdstanpy - INFO - Chain [1] done processing\n",
      "16:34:51 - cmdstanpy - INFO - Chain [1] done processing\n",
      "16:34:52 - cmdstanpy - INFO - Chain [1] done processing\n",
      "16:34:52 - cmdstanpy - INFO - Chain [1] start processing\n",
      "16:34:55 - cmdstanpy - INFO - Chain [1] done processing\n",
      "Importing plotly failed. Interactive plots will not work.\n",
      "Importing plotly failed. Interactive plots will not work.\n",
      "Importing plotly failed. Interactive plots will not work.\n",
      "Importing plotly failed. Interactive plots will not work.\n",
      "16:34:57 - cmdstanpy - INFO - Chain [1] start processing\n",
      "16:34:57 - cmdstanpy - INFO - Chain [1] start processing\n",
      "16:34:57 - cmdstanpy - INFO - Chain [1] start processing\n",
      "16:34:57 - cmdstanpy - INFO - Chain [1] start processing\n",
      "16:35:05 - cmdstanpy - INFO - Chain [1] done processing\n",
      "16:35:05 - cmdstanpy - INFO - Chain [1] done processing\n",
      "16:35:06 - cmdstanpy - INFO - Chain [1] done processing\n",
      "16:35:06 - cmdstanpy - INFO - Chain [1] done processing\n",
      "16:35:06 - cmdstanpy - INFO - Chain [1] start processing\n",
      "16:35:06 - cmdstanpy - INFO - Chain [1] start processing\n",
      "16:35:06 - cmdstanpy - INFO - Chain [1] start processing\n",
      "16:35:10 - cmdstanpy - INFO - Chain [1] done processing\n",
      "16:35:11 - cmdstanpy - INFO - Chain [1] done processing\n",
      "16:35:11 - cmdstanpy - INFO - Chain [1] done processing\n",
      "16:35:12 - cmdstanpy - INFO - Chain [1] start processing\n",
      "16:35:14 - cmdstanpy - INFO - Chain [1] done processing\n",
      "Importing plotly failed. Interactive plots will not work.\n",
      "Importing plotly failed. Interactive plots will not work.\n",
      "Importing plotly failed. Interactive plots will not work.\n",
      "Importing plotly failed. Interactive plots will not work.\n"
     ]
    },
    {
     "name": "stderr",
     "output_type": "stream",
     "text": [
      "16:35:16 - cmdstanpy - INFO - Chain [1] start processing\n",
      "16:35:16 - cmdstanpy - INFO - Chain [1] start processing\n",
      "16:35:16 - cmdstanpy - INFO - Chain [1] start processing\n",
      "16:35:17 - cmdstanpy - INFO - Chain [1] start processing\n",
      "16:35:23 - cmdstanpy - INFO - Chain [1] done processing\n",
      "16:35:24 - cmdstanpy - INFO - Chain [1] start processing\n",
      "16:35:24 - cmdstanpy - INFO - Chain [1] done processing\n",
      "16:35:25 - cmdstanpy - INFO - Chain [1] done processing\n",
      "16:35:25 - cmdstanpy - INFO - Chain [1] done processing\n",
      "16:35:25 - cmdstanpy - INFO - Chain [1] start processing\n",
      "16:35:26 - cmdstanpy - INFO - Chain [1] start processing\n",
      "16:35:30 - cmdstanpy - INFO - Chain [1] done processing\n",
      "16:35:30 - cmdstanpy - INFO - Chain [1] done processing\n",
      "16:35:31 - cmdstanpy - INFO - Chain [1] done processing\n"
     ]
    }
   ],
   "source": [
    "#Tuning  \n",
    "mae = []\n",
    "for params in grid:\n",
    "  #build model\n",
    "  m = Prophet(holidays = holidays,\n",
    "            seasonality_mode = 'multiplicative',\n",
    "            seasonality_prior_scale = params['seasonality_prior_scale'],\n",
    "            changepoint_prior_scale = params['changepoint_prior_scale'],\n",
    "            holidays_prior_scale = params['holidays_prior_scale'])\n",
    "  m.add_regressor('Christmas')\n",
    "  m.fit(df)\n",
    "\n",
    "  #CV\n",
    "  df_cv = cross_validation(m,\n",
    "                         horizon = '31 days',\n",
    "                         initial = '2400 days',\n",
    "                         parallel = \"processes\")\n",
    "\n",
    "  #Gather the results\n",
    "  error = mean_absolute_error(df_cv.yhat, df_cv.y)\n",
    "  mae.append(error)"
   ]
  },
  {
   "cell_type": "code",
   "execution_count": 15,
   "metadata": {
    "colab": {
     "base_uri": "https://localhost:8080/"
    },
    "executionInfo": {
     "elapsed": 567,
     "status": "ok",
     "timestamp": 1620802361602,
     "user": {
      "displayName": "Diogo Resende",
      "photoUrl": "https://lh3.googleusercontent.com/a-/AOh14GgH4DE06-yE1oiIzCiaAURCl1Escr4LXXiaSnbSaA=s64",
      "userId": "05706604408624562002"
     },
     "user_tz": -120
    },
    "id": "X-0LAk7rWKH1",
    "outputId": "b897c3ef-f5fd-423c-cc4f-70e70ef647a9"
   },
   "outputs": [
    {
     "name": "stdout",
     "output_type": "stream",
     "text": [
      "{'seasonality_prior_scale': 20, 'holidays_prior_scale': 20, 'changepoint_prior_scale': 0.1}\n"
     ]
    }
   ],
   "source": [
    "#gather best parameters\n",
    "best_params = grid[np.argmin(mae)]\n",
    "print(best_params)"
   ]
  }
 ],
 "metadata": {
  "colab": {
   "authorship_tag": "ABX9TyNebBL7Ojp5dZaNxMKr95Jx",
   "mount_file_id": "1adY0-eFLonlYIOIfIljnsLv-27hM4vTW",
   "name": "Facebook Prophet Challenge Template.ipynb",
   "provenance": []
  },
  "kernelspec": {
   "display_name": "Python 3 (ipykernel)",
   "language": "python",
   "name": "python3"
  },
  "language_info": {
   "codemirror_mode": {
    "name": "ipython",
    "version": 3
   },
   "file_extension": ".py",
   "mimetype": "text/x-python",
   "name": "python",
   "nbconvert_exporter": "python",
   "pygments_lexer": "ipython3",
   "version": "3.9.16"
  }
 },
 "nbformat": 4,
 "nbformat_minor": 1
}
