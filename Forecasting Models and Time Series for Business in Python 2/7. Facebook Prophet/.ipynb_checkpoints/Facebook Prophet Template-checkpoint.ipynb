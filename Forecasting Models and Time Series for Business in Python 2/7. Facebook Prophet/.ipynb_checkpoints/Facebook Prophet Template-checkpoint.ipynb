{
 "cells": [
  {
   "cell_type": "markdown",
   "metadata": {
    "id": "KziJ91gPrZO3"
   },
   "source": [
    "# Import libraries and data\n"
   ]
  },
  {
   "cell_type": "code",
   "execution_count": 1,
   "metadata": {
    "id": "nJQoK7c4r3SR"
   },
   "outputs": [
    {
     "ename": "ModuleNotFoundError",
     "evalue": "No module named 'fbprophet'",
     "output_type": "error",
     "traceback": [
      "\u001b[0;31m---------------------------------------------------------------------------\u001b[0m",
      "\u001b[0;31mModuleNotFoundError\u001b[0m                       Traceback (most recent call last)",
      "Cell \u001b[0;32mIn[1], line 3\u001b[0m\n\u001b[1;32m      1\u001b[0m \u001b[38;5;66;03m#import libraries\u001b[39;00m\n\u001b[1;32m      2\u001b[0m \u001b[38;5;28;01mimport\u001b[39;00m \u001b[38;5;21;01mitertools\u001b[39;00m\n\u001b[0;32m----> 3\u001b[0m \u001b[38;5;28;01mfrom\u001b[39;00m \u001b[38;5;21;01mfbprophet\u001b[39;00m \u001b[38;5;28;01mimport\u001b[39;00m Prophet\n\u001b[1;32m      4\u001b[0m \u001b[38;5;28;01mimport\u001b[39;00m \u001b[38;5;21;01mpandas\u001b[39;00m \u001b[38;5;28;01mas\u001b[39;00m \u001b[38;5;21;01mpd\u001b[39;00m\n\u001b[1;32m      5\u001b[0m \u001b[38;5;28;01mimport\u001b[39;00m \u001b[38;5;21;01mnumpy\u001b[39;00m \u001b[38;5;28;01mas\u001b[39;00m \u001b[38;5;21;01mnp\u001b[39;00m\n",
      "\u001b[0;31mModuleNotFoundError\u001b[0m: No module named 'fbprophet'"
     ]
    }
   ],
   "source": [
    "#import libraries\n",
    "import itertools\n",
    "from fbprophet import Prophet\n",
    "import pandas as pd\n",
    "import numpy as np"
   ]
  },
  {
   "cell_type": "code",
   "execution_count": null,
   "metadata": {
    "colab": {
     "base_uri": "https://localhost:8080/",
     "height": 116
    },
    "executionInfo": {
     "elapsed": 906,
     "status": "ok",
     "timestamp": 1620457526216,
     "user": {
      "displayName": "Diogo Resende",
      "photoUrl": "https://lh3.googleusercontent.com/a-/AOh14GgH4DE06-yE1oiIzCiaAURCl1Escr4LXXiaSnbSaA=s64",
      "userId": "05706604408624562002"
     },
     "user_tz": -120
    },
    "id": "kYo4C4W5sbSv",
    "outputId": "c6c6c6f4-de91-4544-9a08-675a50518ed0"
   },
   "outputs": [
    {
     "data": {
      "text/html": [
       "<div>\n",
       "<style scoped>\n",
       "    .dataframe tbody tr th:only-of-type {\n",
       "        vertical-align: middle;\n",
       "    }\n",
       "\n",
       "    .dataframe tbody tr th {\n",
       "        vertical-align: top;\n",
       "    }\n",
       "\n",
       "    .dataframe thead th {\n",
       "        text-align: right;\n",
       "    }\n",
       "</style>\n",
       "<table border=\"1\" class=\"dataframe\">\n",
       "  <thead>\n",
       "    <tr style=\"text-align: right;\">\n",
       "      <th></th>\n",
       "      <th>instant</th>\n",
       "      <th>dteday</th>\n",
       "      <th>season</th>\n",
       "      <th>yr</th>\n",
       "      <th>mnth</th>\n",
       "      <th>holiday</th>\n",
       "      <th>weekday</th>\n",
       "      <th>workingday</th>\n",
       "      <th>weathersit</th>\n",
       "      <th>temp</th>\n",
       "      <th>atemp</th>\n",
       "      <th>hum</th>\n",
       "      <th>windspeed</th>\n",
       "      <th>casual</th>\n",
       "      <th>registered</th>\n",
       "      <th>cnt</th>\n",
       "    </tr>\n",
       "  </thead>\n",
       "  <tbody>\n",
       "    <tr>\n",
       "      <th>0</th>\n",
       "      <td>1</td>\n",
       "      <td>2011-01-01</td>\n",
       "      <td>1</td>\n",
       "      <td>0</td>\n",
       "      <td>1</td>\n",
       "      <td>0</td>\n",
       "      <td>6</td>\n",
       "      <td>0</td>\n",
       "      <td>2</td>\n",
       "      <td>0.344167</td>\n",
       "      <td>0.363625</td>\n",
       "      <td>0.805833</td>\n",
       "      <td>0.160446</td>\n",
       "      <td>331</td>\n",
       "      <td>654</td>\n",
       "      <td>985</td>\n",
       "    </tr>\n",
       "  </tbody>\n",
       "</table>\n",
       "</div>"
      ],
      "text/plain": [
       "   instant      dteday  season  yr  ...  windspeed  casual  registered  cnt\n",
       "0        1  2011-01-01       1   0  ...   0.160446     331         654  985\n",
       "\n",
       "[1 rows x 16 columns]"
      ]
     },
     "execution_count": 3,
     "metadata": {
      "tags": []
     },
     "output_type": "execute_result"
    }
   ],
   "source": [
    "#get the data\n",
    "data = pd.read_csv(\"../Daily Bike Sharing.csv\")\n",
    "data.head(1)"
   ]
  },
  {
   "cell_type": "code",
   "execution_count": null,
   "metadata": {
    "colab": {
     "base_uri": "https://localhost:8080/",
     "height": 79
    },
    "executionInfo": {
     "elapsed": 550,
     "status": "ok",
     "timestamp": 1620457556727,
     "user": {
      "displayName": "Diogo Resende",
      "photoUrl": "https://lh3.googleusercontent.com/a-/AOh14GgH4DE06-yE1oiIzCiaAURCl1Escr4LXXiaSnbSaA=s64",
      "userId": "05706604408624562002"
     },
     "user_tz": -120
    },
    "id": "QPEJCVShvlyi",
    "outputId": "5c8da0df-3614-4d52-c4f2-f9a51306e040"
   },
   "outputs": [
    {
     "data": {
      "text/html": [
       "<div>\n",
       "<style scoped>\n",
       "    .dataframe tbody tr th:only-of-type {\n",
       "        vertical-align: middle;\n",
       "    }\n",
       "\n",
       "    .dataframe tbody tr th {\n",
       "        vertical-align: top;\n",
       "    }\n",
       "\n",
       "    .dataframe thead th {\n",
       "        text-align: right;\n",
       "    }\n",
       "</style>\n",
       "<table border=\"1\" class=\"dataframe\">\n",
       "  <thead>\n",
       "    <tr style=\"text-align: right;\">\n",
       "      <th></th>\n",
       "      <th>dteday</th>\n",
       "      <th>cnt</th>\n",
       "      <th>holiday</th>\n",
       "      <th>workingday</th>\n",
       "      <th>weathersit</th>\n",
       "      <th>temp</th>\n",
       "      <th>atemp</th>\n",
       "      <th>hum</th>\n",
       "      <th>windspeed</th>\n",
       "    </tr>\n",
       "  </thead>\n",
       "  <tbody>\n",
       "    <tr>\n",
       "      <th>0</th>\n",
       "      <td>2011-01-01</td>\n",
       "      <td>985</td>\n",
       "      <td>0</td>\n",
       "      <td>0</td>\n",
       "      <td>2</td>\n",
       "      <td>0.344167</td>\n",
       "      <td>0.363625</td>\n",
       "      <td>0.805833</td>\n",
       "      <td>0.160446</td>\n",
       "    </tr>\n",
       "  </tbody>\n",
       "</table>\n",
       "</div>"
      ],
      "text/plain": [
       "       dteday  cnt  holiday  ...     atemp       hum  windspeed\n",
       "0  2011-01-01  985        0  ...  0.363625  0.805833   0.160446\n",
       "\n",
       "[1 rows x 9 columns]"
      ]
     },
     "execution_count": 4,
     "metadata": {
      "tags": []
     },
     "output_type": "execute_result"
    }
   ],
   "source": [
    "#select variables\n",
    "dataset = data.loc[:, [\"dteday\",\"cnt\", \"holiday\", \"workingday\", \"weathersit\",\n",
    "                       \"temp\", \"atemp\", \"hum\", \"windspeed\"]]\n",
    "dataset.head(1)                       "
   ]
  },
  {
   "cell_type": "markdown",
   "metadata": {
    "id": "IK3ssLEvw9iy"
   },
   "source": [
    "#Data Transformation"
   ]
  },
  {
   "cell_type": "code",
   "execution_count": null,
   "metadata": {
    "colab": {
     "base_uri": "https://localhost:8080/"
    },
    "executionInfo": {
     "elapsed": 650,
     "status": "ok",
     "timestamp": 1620457848669,
     "user": {
      "displayName": "Diogo Resende",
      "photoUrl": "https://lh3.googleusercontent.com/a-/AOh14GgH4DE06-yE1oiIzCiaAURCl1Escr4LXXiaSnbSaA=s64",
      "userId": "05706604408624562002"
     },
     "user_tz": -120
    },
    "id": "m97pL8abzw3-",
    "outputId": "ba941074-7d8f-4b19-e15d-a5142a171e79"
   },
   "outputs": [
    {
     "data": {
      "text/plain": [
       "0     2011-01-01\n",
       "1     2011-01-02\n",
       "2     2011-01-03\n",
       "3     2011-01-04\n",
       "4     2011-01-05\n",
       "         ...    \n",
       "726   2012-12-27\n",
       "727   2012-12-28\n",
       "728   2012-12-29\n",
       "729   2012-12-30\n",
       "730   2012-12-31\n",
       "Name: dteday, Length: 731, dtype: datetime64[ns]"
      ]
     },
     "execution_count": 7,
     "metadata": {
      "tags": []
     },
     "output_type": "execute_result"
    }
   ],
   "source": [
    "#Date variable\n",
    "dataset.dteday = pd.to_datetime(dataset.dteday,\n",
    "                                format = \"%Y-%m-%d\")\n",
    "dataset.dteday"
   ]
  },
  {
   "cell_type": "code",
   "execution_count": null,
   "metadata": {
    "colab": {
     "base_uri": "https://localhost:8080/",
     "height": 79
    },
    "executionInfo": {
     "elapsed": 513,
     "status": "ok",
     "timestamp": 1620458047356,
     "user": {
      "displayName": "Diogo Resende",
      "photoUrl": "https://lh3.googleusercontent.com/a-/AOh14GgH4DE06-yE1oiIzCiaAURCl1Escr4LXXiaSnbSaA=s64",
      "userId": "05706604408624562002"
     },
     "user_tz": -120
    },
    "id": "95mCg5Eyw8Ym",
    "outputId": "51f312b9-943b-43b8-898b-284541acd677"
   },
   "outputs": [
    {
     "data": {
      "text/html": [
       "<div>\n",
       "<style scoped>\n",
       "    .dataframe tbody tr th:only-of-type {\n",
       "        vertical-align: middle;\n",
       "    }\n",
       "\n",
       "    .dataframe tbody tr th {\n",
       "        vertical-align: top;\n",
       "    }\n",
       "\n",
       "    .dataframe thead th {\n",
       "        text-align: right;\n",
       "    }\n",
       "</style>\n",
       "<table border=\"1\" class=\"dataframe\">\n",
       "  <thead>\n",
       "    <tr style=\"text-align: right;\">\n",
       "      <th></th>\n",
       "      <th>ds</th>\n",
       "      <th>y</th>\n",
       "      <th>holiday</th>\n",
       "      <th>workingday</th>\n",
       "      <th>weathersit</th>\n",
       "      <th>temp</th>\n",
       "      <th>atemp</th>\n",
       "      <th>hum</th>\n",
       "      <th>windspeed</th>\n",
       "    </tr>\n",
       "  </thead>\n",
       "  <tbody>\n",
       "    <tr>\n",
       "      <th>0</th>\n",
       "      <td>2011-01-01</td>\n",
       "      <td>985</td>\n",
       "      <td>0</td>\n",
       "      <td>0</td>\n",
       "      <td>2</td>\n",
       "      <td>0.344167</td>\n",
       "      <td>0.363625</td>\n",
       "      <td>0.805833</td>\n",
       "      <td>0.160446</td>\n",
       "    </tr>\n",
       "  </tbody>\n",
       "</table>\n",
       "</div>"
      ],
      "text/plain": [
       "          ds    y  holiday  workingday  ...      temp     atemp       hum  windspeed\n",
       "0 2011-01-01  985        0           0  ...  0.344167  0.363625  0.805833   0.160446\n",
       "\n",
       "[1 rows x 9 columns]"
      ]
     },
     "execution_count": 8,
     "metadata": {
      "tags": []
     },
     "output_type": "execute_result"
    }
   ],
   "source": [
    "#renaming variable\n",
    "dataset = dataset.rename(columns = {'cnt' : 'y'})\n",
    "dataset = dataset.rename(columns = {'dteday' : 'ds'})\n",
    "dataset.head(1)"
   ]
  },
  {
   "cell_type": "markdown",
   "metadata": {
    "id": "QEoBDeiO3e3o"
   },
   "source": [
    "#holidays"
   ]
  },
  {
   "cell_type": "code",
   "execution_count": null,
   "metadata": {
    "colab": {
     "base_uri": "https://localhost:8080/",
     "height": 203
    },
    "executionInfo": {
     "elapsed": 647,
     "status": "ok",
     "timestamp": 1620458974592,
     "user": {
      "displayName": "Diogo Resende",
      "photoUrl": "https://lh3.googleusercontent.com/a-/AOh14GgH4DE06-yE1oiIzCiaAURCl1Escr4LXXiaSnbSaA=s64",
      "userId": "05706604408624562002"
     },
     "user_tz": -120
    },
    "id": "TLfN3NR43i2z",
    "outputId": "5a0097eb-105a-4e63-9c29-d2111ac8d8e1"
   },
   "outputs": [
    {
     "data": {
      "text/html": [
       "<div>\n",
       "<style scoped>\n",
       "    .dataframe tbody tr th:only-of-type {\n",
       "        vertical-align: middle;\n",
       "    }\n",
       "\n",
       "    .dataframe tbody tr th {\n",
       "        vertical-align: top;\n",
       "    }\n",
       "\n",
       "    .dataframe thead th {\n",
       "        text-align: right;\n",
       "    }\n",
       "</style>\n",
       "<table border=\"1\" class=\"dataframe\">\n",
       "  <thead>\n",
       "    <tr style=\"text-align: right;\">\n",
       "      <th></th>\n",
       "      <th>holiday</th>\n",
       "      <th>ds</th>\n",
       "      <th>lower_window</th>\n",
       "      <th>upper_window</th>\n",
       "    </tr>\n",
       "  </thead>\n",
       "  <tbody>\n",
       "    <tr>\n",
       "      <th>16</th>\n",
       "      <td>holi</td>\n",
       "      <td>2011-01-17</td>\n",
       "      <td>-3</td>\n",
       "      <td>1</td>\n",
       "    </tr>\n",
       "    <tr>\n",
       "      <th>51</th>\n",
       "      <td>holi</td>\n",
       "      <td>2011-02-21</td>\n",
       "      <td>-3</td>\n",
       "      <td>1</td>\n",
       "    </tr>\n",
       "    <tr>\n",
       "      <th>104</th>\n",
       "      <td>holi</td>\n",
       "      <td>2011-04-15</td>\n",
       "      <td>-3</td>\n",
       "      <td>1</td>\n",
       "    </tr>\n",
       "    <tr>\n",
       "      <th>149</th>\n",
       "      <td>holi</td>\n",
       "      <td>2011-05-30</td>\n",
       "      <td>-3</td>\n",
       "      <td>1</td>\n",
       "    </tr>\n",
       "    <tr>\n",
       "      <th>184</th>\n",
       "      <td>holi</td>\n",
       "      <td>2011-07-04</td>\n",
       "      <td>-3</td>\n",
       "      <td>1</td>\n",
       "    </tr>\n",
       "  </tbody>\n",
       "</table>\n",
       "</div>"
      ],
      "text/plain": [
       "    holiday         ds  lower_window  upper_window\n",
       "16     holi 2011-01-17            -3             1\n",
       "51     holi 2011-02-21            -3             1\n",
       "104    holi 2011-04-15            -3             1\n",
       "149    holi 2011-05-30            -3             1\n",
       "184    holi 2011-07-04            -3             1"
      ]
     },
     "execution_count": 13,
     "metadata": {
      "tags": []
     },
     "output_type": "execute_result"
    }
   ],
   "source": [
    "holiday_dates = dataset[dataset.holiday == 1].ds\n",
    "holidays = pd.DataFrame({'holiday' : 'holi',\n",
    "                         'ds': pd.to_datetime(holiday_dates),\n",
    "                         'lower_window': -3,\n",
    "                         'upper_window': 1})\n",
    "holidays.head()"
   ]
  },
  {
   "cell_type": "code",
   "execution_count": null,
   "metadata": {
    "colab": {
     "base_uri": "https://localhost:8080/",
     "height": 79
    },
    "executionInfo": {
     "elapsed": 578,
     "status": "ok",
     "timestamp": 1620459174819,
     "user": {
      "displayName": "Diogo Resende",
      "photoUrl": "https://lh3.googleusercontent.com/a-/AOh14GgH4DE06-yE1oiIzCiaAURCl1Escr4LXXiaSnbSaA=s64",
      "userId": "05706604408624562002"
     },
     "user_tz": -120
    },
    "id": "yG94an804-y7",
    "outputId": "c18c88a4-7067-4917-c946-5eee70fe7816"
   },
   "outputs": [
    {
     "data": {
      "text/html": [
       "<div>\n",
       "<style scoped>\n",
       "    .dataframe tbody tr th:only-of-type {\n",
       "        vertical-align: middle;\n",
       "    }\n",
       "\n",
       "    .dataframe tbody tr th {\n",
       "        vertical-align: top;\n",
       "    }\n",
       "\n",
       "    .dataframe thead th {\n",
       "        text-align: right;\n",
       "    }\n",
       "</style>\n",
       "<table border=\"1\" class=\"dataframe\">\n",
       "  <thead>\n",
       "    <tr style=\"text-align: right;\">\n",
       "      <th></th>\n",
       "      <th>ds</th>\n",
       "      <th>y</th>\n",
       "      <th>workingday</th>\n",
       "      <th>weathersit</th>\n",
       "      <th>temp</th>\n",
       "      <th>atemp</th>\n",
       "      <th>hum</th>\n",
       "      <th>windspeed</th>\n",
       "    </tr>\n",
       "  </thead>\n",
       "  <tbody>\n",
       "    <tr>\n",
       "      <th>0</th>\n",
       "      <td>2011-01-01</td>\n",
       "      <td>985</td>\n",
       "      <td>0</td>\n",
       "      <td>2</td>\n",
       "      <td>0.344167</td>\n",
       "      <td>0.363625</td>\n",
       "      <td>0.805833</td>\n",
       "      <td>0.160446</td>\n",
       "    </tr>\n",
       "  </tbody>\n",
       "</table>\n",
       "</div>"
      ],
      "text/plain": [
       "          ds    y  workingday  ...     atemp       hum  windspeed\n",
       "0 2011-01-01  985           0  ...  0.363625  0.805833   0.160446\n",
       "\n",
       "[1 rows x 8 columns]"
      ]
     },
     "execution_count": 14,
     "metadata": {
      "tags": []
     },
     "output_type": "execute_result"
    }
   ],
   "source": [
    "#removing holiday column\n",
    "dataset = dataset.drop(columns = \"holiday\")\n",
    "dataset.head(1)"
   ]
  },
  {
   "cell_type": "markdown",
   "metadata": {
    "id": "yc4bHuUuEX_u"
   },
   "source": [
    "#Training and Test Set"
   ]
  },
  {
   "cell_type": "code",
   "execution_count": null,
   "metadata": {
    "colab": {
     "base_uri": "https://localhost:8080/",
     "height": 79
    },
    "executionInfo": {
     "elapsed": 553,
     "status": "ok",
     "timestamp": 1620459195490,
     "user": {
      "displayName": "Diogo Resende",
      "photoUrl": "https://lh3.googleusercontent.com/a-/AOh14GgH4DE06-yE1oiIzCiaAURCl1Escr4LXXiaSnbSaA=s64",
      "userId": "05706604408624562002"
     },
     "user_tz": -120
    },
    "id": "f4CyGbspEaYF",
    "outputId": "4e34c3ec-e4f5-44c9-cbee-9fa885da9c57"
   },
   "outputs": [
    {
     "data": {
      "text/html": [
       "<div>\n",
       "<style scoped>\n",
       "    .dataframe tbody tr th:only-of-type {\n",
       "        vertical-align: middle;\n",
       "    }\n",
       "\n",
       "    .dataframe tbody tr th {\n",
       "        vertical-align: top;\n",
       "    }\n",
       "\n",
       "    .dataframe thead th {\n",
       "        text-align: right;\n",
       "    }\n",
       "</style>\n",
       "<table border=\"1\" class=\"dataframe\">\n",
       "  <thead>\n",
       "    <tr style=\"text-align: right;\">\n",
       "      <th></th>\n",
       "      <th>ds</th>\n",
       "      <th>y</th>\n",
       "      <th>workingday</th>\n",
       "      <th>weathersit</th>\n",
       "      <th>temp</th>\n",
       "      <th>atemp</th>\n",
       "      <th>hum</th>\n",
       "      <th>windspeed</th>\n",
       "    </tr>\n",
       "  </thead>\n",
       "  <tbody>\n",
       "    <tr>\n",
       "      <th>730</th>\n",
       "      <td>2012-12-31</td>\n",
       "      <td>2729</td>\n",
       "      <td>1</td>\n",
       "      <td>2</td>\n",
       "      <td>0.215833</td>\n",
       "      <td>0.223487</td>\n",
       "      <td>0.5775</td>\n",
       "      <td>0.154846</td>\n",
       "    </tr>\n",
       "  </tbody>\n",
       "</table>\n",
       "</div>"
      ],
      "text/plain": [
       "            ds     y  workingday  ...     atemp     hum  windspeed\n",
       "730 2012-12-31  2729           1  ...  0.223487  0.5775   0.154846\n",
       "\n",
       "[1 rows x 8 columns]"
      ]
     },
     "execution_count": 15,
     "metadata": {
      "tags": []
     },
     "output_type": "execute_result"
    }
   ],
   "source": [
    "#Training and test set\n",
    "test_days = 31\n",
    "training_set = dataset.iloc[:-test_days, :]\n",
    "test_set = dataset.iloc[-test_days:, :]\n",
    "test_set.tail(1)"
   ]
  },
  {
   "cell_type": "markdown",
   "metadata": {
    "id": "g3q5LU6OMgRM"
   },
   "source": [
    "#Facebook Prophet"
   ]
  },
  {
   "cell_type": "code",
   "execution_count": null,
   "metadata": {
    "colab": {
     "base_uri": "https://localhost:8080/"
    },
    "executionInfo": {
     "elapsed": 956,
     "status": "ok",
     "timestamp": 1620460119204,
     "user": {
      "displayName": "Diogo Resende",
      "photoUrl": "https://lh3.googleusercontent.com/a-/AOh14GgH4DE06-yE1oiIzCiaAURCl1Escr4LXXiaSnbSaA=s64",
      "userId": "05706604408624562002"
     },
     "user_tz": -120
    },
    "id": "BZN87GKaMq1u",
    "outputId": "c483f5f1-7911-4086-b8a4-f3f610b8385e"
   },
   "outputs": [
    {
     "data": {
      "text/plain": [
       "<fbprophet.forecaster.Prophet at 0x7f153c378610>"
      ]
     },
     "execution_count": 17,
     "metadata": {
      "tags": []
     },
     "output_type": "execute_result"
    }
   ],
   "source": [
    "#Facebook Prophet model\n",
    "m = Prophet(growth = \"linear\",\n",
    "            yearly_seasonality = True,\n",
    "            weekly_seasonality = True,\n",
    "            daily_seasonality = False,\n",
    "            holidays = holidays,\n",
    "            seasonality_mode = \"multiplicative\",\n",
    "            seasonality_prior_scale = 10,\n",
    "            holidays_prior_scale = 10,\n",
    "            changepoint_prior_scale = 0.05)\n",
    "m.add_regressor('workingday')\n",
    "m.add_regressor('weathersit')\n",
    "m.add_regressor('temp')\n",
    "m.add_regressor('atemp')\n",
    "m.add_regressor('hum')\n",
    "m.add_regressor('windspeed')\n",
    "m.fit(training_set)"
   ]
  },
  {
   "cell_type": "markdown",
   "metadata": {
    "id": "RkhwjVhvALrS"
   },
   "source": [
    "#forecasting "
   ]
  },
  {
   "cell_type": "code",
   "execution_count": null,
   "metadata": {
    "colab": {
     "base_uri": "https://localhost:8080/",
     "height": 79
    },
    "executionInfo": {
     "elapsed": 652,
     "status": "ok",
     "timestamp": 1620461295044,
     "user": {
      "displayName": "Diogo Resende",
      "photoUrl": "https://lh3.googleusercontent.com/a-/AOh14GgH4DE06-yE1oiIzCiaAURCl1Escr4LXXiaSnbSaA=s64",
      "userId": "05706604408624562002"
     },
     "user_tz": -120
    },
    "id": "kUy9IWbnAPG4",
    "outputId": "2564adf1-7245-4394-f613-ed09d0c6ddc9"
   },
   "outputs": [
    {
     "data": {
      "text/html": [
       "<div>\n",
       "<style scoped>\n",
       "    .dataframe tbody tr th:only-of-type {\n",
       "        vertical-align: middle;\n",
       "    }\n",
       "\n",
       "    .dataframe tbody tr th {\n",
       "        vertical-align: top;\n",
       "    }\n",
       "\n",
       "    .dataframe thead th {\n",
       "        text-align: right;\n",
       "    }\n",
       "</style>\n",
       "<table border=\"1\" class=\"dataframe\">\n",
       "  <thead>\n",
       "    <tr style=\"text-align: right;\">\n",
       "      <th></th>\n",
       "      <th>ds</th>\n",
       "    </tr>\n",
       "  </thead>\n",
       "  <tbody>\n",
       "    <tr>\n",
       "      <th>730</th>\n",
       "      <td>2012-12-31</td>\n",
       "    </tr>\n",
       "  </tbody>\n",
       "</table>\n",
       "</div>"
      ],
      "text/plain": [
       "            ds\n",
       "730 2012-12-31"
      ]
     },
     "execution_count": 22,
     "metadata": {
      "tags": []
     },
     "output_type": "execute_result"
    }
   ],
   "source": [
    "#Create Future Dataframe\n",
    "future = m.make_future_dataframe(periods = len(test_set),\n",
    "                                 freq = \"D\")\n",
    "future.tail(1)"
   ]
  },
  {
   "cell_type": "code",
   "execution_count": null,
   "metadata": {
    "colab": {
     "base_uri": "https://localhost:8080/",
     "height": 203
    },
    "executionInfo": {
     "elapsed": 554,
     "status": "ok",
     "timestamp": 1620461299396,
     "user": {
      "displayName": "Diogo Resende",
      "photoUrl": "https://lh3.googleusercontent.com/a-/AOh14GgH4DE06-yE1oiIzCiaAURCl1Escr4LXXiaSnbSaA=s64",
      "userId": "05706604408624562002"
     },
     "user_tz": -120
    },
    "id": "AD3ezqzkAUBu",
    "outputId": "8a51631e-6611-4533-bd81-1bb6377db60b"
   },
   "outputs": [
    {
     "data": {
      "text/html": [
       "<div>\n",
       "<style scoped>\n",
       "    .dataframe tbody tr th:only-of-type {\n",
       "        vertical-align: middle;\n",
       "    }\n",
       "\n",
       "    .dataframe tbody tr th {\n",
       "        vertical-align: top;\n",
       "    }\n",
       "\n",
       "    .dataframe thead th {\n",
       "        text-align: right;\n",
       "    }\n",
       "</style>\n",
       "<table border=\"1\" class=\"dataframe\">\n",
       "  <thead>\n",
       "    <tr style=\"text-align: right;\">\n",
       "      <th></th>\n",
       "      <th>ds</th>\n",
       "      <th>workingday</th>\n",
       "      <th>weathersit</th>\n",
       "      <th>temp</th>\n",
       "      <th>atemp</th>\n",
       "      <th>hum</th>\n",
       "      <th>windspeed</th>\n",
       "    </tr>\n",
       "  </thead>\n",
       "  <tbody>\n",
       "    <tr>\n",
       "      <th>726</th>\n",
       "      <td>2012-12-27</td>\n",
       "      <td>1</td>\n",
       "      <td>2</td>\n",
       "      <td>0.254167</td>\n",
       "      <td>0.226642</td>\n",
       "      <td>0.652917</td>\n",
       "      <td>0.350133</td>\n",
       "    </tr>\n",
       "    <tr>\n",
       "      <th>727</th>\n",
       "      <td>2012-12-28</td>\n",
       "      <td>1</td>\n",
       "      <td>2</td>\n",
       "      <td>0.253333</td>\n",
       "      <td>0.255046</td>\n",
       "      <td>0.590000</td>\n",
       "      <td>0.155471</td>\n",
       "    </tr>\n",
       "    <tr>\n",
       "      <th>728</th>\n",
       "      <td>2012-12-29</td>\n",
       "      <td>0</td>\n",
       "      <td>2</td>\n",
       "      <td>0.253333</td>\n",
       "      <td>0.242400</td>\n",
       "      <td>0.752917</td>\n",
       "      <td>0.124383</td>\n",
       "    </tr>\n",
       "    <tr>\n",
       "      <th>729</th>\n",
       "      <td>2012-12-30</td>\n",
       "      <td>0</td>\n",
       "      <td>1</td>\n",
       "      <td>0.255833</td>\n",
       "      <td>0.231700</td>\n",
       "      <td>0.483333</td>\n",
       "      <td>0.350754</td>\n",
       "    </tr>\n",
       "    <tr>\n",
       "      <th>730</th>\n",
       "      <td>2012-12-31</td>\n",
       "      <td>1</td>\n",
       "      <td>2</td>\n",
       "      <td>0.215833</td>\n",
       "      <td>0.223487</td>\n",
       "      <td>0.577500</td>\n",
       "      <td>0.154846</td>\n",
       "    </tr>\n",
       "  </tbody>\n",
       "</table>\n",
       "</div>"
      ],
      "text/plain": [
       "            ds  workingday  weathersit      temp     atemp       hum  windspeed\n",
       "726 2012-12-27           1           2  0.254167  0.226642  0.652917   0.350133\n",
       "727 2012-12-28           1           2  0.253333  0.255046  0.590000   0.155471\n",
       "728 2012-12-29           0           2  0.253333  0.242400  0.752917   0.124383\n",
       "729 2012-12-30           0           1  0.255833  0.231700  0.483333   0.350754\n",
       "730 2012-12-31           1           2  0.215833  0.223487  0.577500   0.154846"
      ]
     },
     "execution_count": 23,
     "metadata": {
      "tags": []
     },
     "output_type": "execute_result"
    }
   ],
   "source": [
    "#merge regressors\n",
    "future = pd.concat([future, dataset.iloc[:,2:]],\n",
    "                   axis = 1)\n",
    "future.tail()"
   ]
  },
  {
   "cell_type": "code",
   "execution_count": null,
   "metadata": {
    "colab": {
     "base_uri": "https://localhost:8080/",
     "height": 308
    },
    "executionInfo": {
     "elapsed": 3921,
     "status": "ok",
     "timestamp": 1620461455397,
     "user": {
      "displayName": "Diogo Resende",
      "photoUrl": "https://lh3.googleusercontent.com/a-/AOh14GgH4DE06-yE1oiIzCiaAURCl1Escr4LXXiaSnbSaA=s64",
      "userId": "05706604408624562002"
     },
     "user_tz": -120
    },
    "id": "RyuxN99lBxw_",
    "outputId": "e4371e97-0a09-4653-a1b3-094d62c1c41a"
   },
   "outputs": [
    {
     "data": {
      "text/html": [
       "<div>\n",
       "<style scoped>\n",
       "    .dataframe tbody tr th:only-of-type {\n",
       "        vertical-align: middle;\n",
       "    }\n",
       "\n",
       "    .dataframe tbody tr th {\n",
       "        vertical-align: top;\n",
       "    }\n",
       "\n",
       "    .dataframe thead th {\n",
       "        text-align: right;\n",
       "    }\n",
       "</style>\n",
       "<table border=\"1\" class=\"dataframe\">\n",
       "  <thead>\n",
       "    <tr style=\"text-align: right;\">\n",
       "      <th></th>\n",
       "      <th>ds</th>\n",
       "      <th>trend</th>\n",
       "      <th>yhat_lower</th>\n",
       "      <th>yhat_upper</th>\n",
       "      <th>trend_lower</th>\n",
       "      <th>trend_upper</th>\n",
       "      <th>atemp</th>\n",
       "      <th>atemp_lower</th>\n",
       "      <th>atemp_upper</th>\n",
       "      <th>extra_regressors_multiplicative</th>\n",
       "      <th>extra_regressors_multiplicative_lower</th>\n",
       "      <th>extra_regressors_multiplicative_upper</th>\n",
       "      <th>holi</th>\n",
       "      <th>holi_lower</th>\n",
       "      <th>holi_upper</th>\n",
       "      <th>holidays</th>\n",
       "      <th>holidays_lower</th>\n",
       "      <th>holidays_upper</th>\n",
       "      <th>hum</th>\n",
       "      <th>hum_lower</th>\n",
       "      <th>hum_upper</th>\n",
       "      <th>multiplicative_terms</th>\n",
       "      <th>multiplicative_terms_lower</th>\n",
       "      <th>multiplicative_terms_upper</th>\n",
       "      <th>temp</th>\n",
       "      <th>temp_lower</th>\n",
       "      <th>temp_upper</th>\n",
       "      <th>weathersit</th>\n",
       "      <th>weathersit_lower</th>\n",
       "      <th>weathersit_upper</th>\n",
       "      <th>weekly</th>\n",
       "      <th>weekly_lower</th>\n",
       "      <th>weekly_upper</th>\n",
       "      <th>windspeed</th>\n",
       "      <th>windspeed_lower</th>\n",
       "      <th>windspeed_upper</th>\n",
       "      <th>workingday</th>\n",
       "      <th>workingday_lower</th>\n",
       "      <th>workingday_upper</th>\n",
       "      <th>yearly</th>\n",
       "      <th>yearly_lower</th>\n",
       "      <th>yearly_upper</th>\n",
       "      <th>additive_terms</th>\n",
       "      <th>additive_terms_lower</th>\n",
       "      <th>additive_terms_upper</th>\n",
       "      <th>yhat</th>\n",
       "    </tr>\n",
       "  </thead>\n",
       "  <tbody>\n",
       "    <tr>\n",
       "      <th>0</th>\n",
       "      <td>2011-01-01</td>\n",
       "      <td>1769.772678</td>\n",
       "      <td>81.176004</td>\n",
       "      <td>1850.734512</td>\n",
       "      <td>1769.772678</td>\n",
       "      <td>1769.772678</td>\n",
       "      <td>-0.040365</td>\n",
       "      <td>-0.040365</td>\n",
       "      <td>-0.040365</td>\n",
       "      <td>-0.302165</td>\n",
       "      <td>-0.302165</td>\n",
       "      <td>-0.302165</td>\n",
       "      <td>0.0</td>\n",
       "      <td>0.0</td>\n",
       "      <td>0.0</td>\n",
       "      <td>0.0</td>\n",
       "      <td>0.0</td>\n",
       "      <td>0.0</td>\n",
       "      <td>-0.077872</td>\n",
       "      <td>-0.077872</td>\n",
       "      <td>-0.077872</td>\n",
       "      <td>-0.434181</td>\n",
       "      <td>-0.434181</td>\n",
       "      <td>-0.434181</td>\n",
       "      <td>-0.116852</td>\n",
       "      <td>-0.116852</td>\n",
       "      <td>-0.116852</td>\n",
       "      <td>-0.088891</td>\n",
       "      <td>-0.088891</td>\n",
       "      <td>-0.088891</td>\n",
       "      <td>0.137857</td>\n",
       "      <td>0.137857</td>\n",
       "      <td>0.137857</td>\n",
       "      <td>0.021816</td>\n",
       "      <td>0.021816</td>\n",
       "      <td>0.021816</td>\n",
       "      <td>0.000000</td>\n",
       "      <td>0.000000</td>\n",
       "      <td>0.000000</td>\n",
       "      <td>-0.269873</td>\n",
       "      <td>-0.269873</td>\n",
       "      <td>-0.269873</td>\n",
       "      <td>0.0</td>\n",
       "      <td>0.0</td>\n",
       "      <td>0.0</td>\n",
       "      <td>1001.370943</td>\n",
       "    </tr>\n",
       "    <tr>\n",
       "      <th>1</th>\n",
       "      <td>2011-01-02</td>\n",
       "      <td>1779.063833</td>\n",
       "      <td>-180.281151</td>\n",
       "      <td>1732.383772</td>\n",
       "      <td>1779.063833</td>\n",
       "      <td>1779.063833</td>\n",
       "      <td>-0.043763</td>\n",
       "      <td>-0.043763</td>\n",
       "      <td>-0.043763</td>\n",
       "      <td>-0.307456</td>\n",
       "      <td>-0.307456</td>\n",
       "      <td>-0.307456</td>\n",
       "      <td>0.0</td>\n",
       "      <td>0.0</td>\n",
       "      <td>0.0</td>\n",
       "      <td>0.0</td>\n",
       "      <td>0.0</td>\n",
       "      <td>0.0</td>\n",
       "      <td>-0.030492</td>\n",
       "      <td>-0.030492</td>\n",
       "      <td>-0.030492</td>\n",
       "      <td>-0.538477</td>\n",
       "      <td>-0.538477</td>\n",
       "      <td>-0.538477</td>\n",
       "      <td>-0.102648</td>\n",
       "      <td>-0.102648</td>\n",
       "      <td>-0.102648</td>\n",
       "      <td>-0.088891</td>\n",
       "      <td>-0.088891</td>\n",
       "      <td>-0.088891</td>\n",
       "      <td>0.031150</td>\n",
       "      <td>0.031150</td>\n",
       "      <td>0.031150</td>\n",
       "      <td>-0.041662</td>\n",
       "      <td>-0.041662</td>\n",
       "      <td>-0.041662</td>\n",
       "      <td>0.000000</td>\n",
       "      <td>0.000000</td>\n",
       "      <td>0.000000</td>\n",
       "      <td>-0.262171</td>\n",
       "      <td>-0.262171</td>\n",
       "      <td>-0.262171</td>\n",
       "      <td>0.0</td>\n",
       "      <td>0.0</td>\n",
       "      <td>0.0</td>\n",
       "      <td>821.078221</td>\n",
       "    </tr>\n",
       "    <tr>\n",
       "      <th>2</th>\n",
       "      <td>2011-01-03</td>\n",
       "      <td>1788.354988</td>\n",
       "      <td>169.578989</td>\n",
       "      <td>2002.975684</td>\n",
       "      <td>1788.354988</td>\n",
       "      <td>1788.354988</td>\n",
       "      <td>-0.100238</td>\n",
       "      <td>-0.100238</td>\n",
       "      <td>-0.100238</td>\n",
       "      <td>-0.089659</td>\n",
       "      <td>-0.089659</td>\n",
       "      <td>-0.089659</td>\n",
       "      <td>0.0</td>\n",
       "      <td>0.0</td>\n",
       "      <td>0.0</td>\n",
       "      <td>0.0</td>\n",
       "      <td>0.0</td>\n",
       "      <td>0.0</td>\n",
       "      <td>0.081244</td>\n",
       "      <td>0.081244</td>\n",
       "      <td>0.081244</td>\n",
       "      <td>-0.401218</td>\n",
       "      <td>-0.401218</td>\n",
       "      <td>-0.401218</td>\n",
       "      <td>-0.225574</td>\n",
       "      <td>-0.225574</td>\n",
       "      <td>-0.225574</td>\n",
       "      <td>0.055479</td>\n",
       "      <td>0.055479</td>\n",
       "      <td>0.055479</td>\n",
       "      <td>-0.058369</td>\n",
       "      <td>-0.058369</td>\n",
       "      <td>-0.058369</td>\n",
       "      <td>-0.041497</td>\n",
       "      <td>-0.041497</td>\n",
       "      <td>-0.041497</td>\n",
       "      <td>0.140926</td>\n",
       "      <td>0.140926</td>\n",
       "      <td>0.140926</td>\n",
       "      <td>-0.253190</td>\n",
       "      <td>-0.253190</td>\n",
       "      <td>-0.253190</td>\n",
       "      <td>0.0</td>\n",
       "      <td>0.0</td>\n",
       "      <td>0.0</td>\n",
       "      <td>1070.835160</td>\n",
       "    </tr>\n",
       "    <tr>\n",
       "      <th>3</th>\n",
       "      <td>2011-01-04</td>\n",
       "      <td>1797.646143</td>\n",
       "      <td>294.161665</td>\n",
       "      <td>2102.656281</td>\n",
       "      <td>1797.646143</td>\n",
       "      <td>1797.646143</td>\n",
       "      <td>-0.092431</td>\n",
       "      <td>-0.092431</td>\n",
       "      <td>-0.092431</td>\n",
       "      <td>-0.081880</td>\n",
       "      <td>-0.081880</td>\n",
       "      <td>-0.081880</td>\n",
       "      <td>0.0</td>\n",
       "      <td>0.0</td>\n",
       "      <td>0.0</td>\n",
       "      <td>0.0</td>\n",
       "      <td>0.0</td>\n",
       "      <td>0.0</td>\n",
       "      <td>0.015120</td>\n",
       "      <td>0.015120</td>\n",
       "      <td>0.015120</td>\n",
       "      <td>-0.354696</td>\n",
       "      <td>-0.354696</td>\n",
       "      <td>-0.354696</td>\n",
       "      <td>-0.222899</td>\n",
       "      <td>-0.222899</td>\n",
       "      <td>-0.222899</td>\n",
       "      <td>0.055479</td>\n",
       "      <td>0.055479</td>\n",
       "      <td>0.055479</td>\n",
       "      <td>-0.029766</td>\n",
       "      <td>-0.029766</td>\n",
       "      <td>-0.029766</td>\n",
       "      <td>0.021924</td>\n",
       "      <td>0.021924</td>\n",
       "      <td>0.021924</td>\n",
       "      <td>0.140926</td>\n",
       "      <td>0.140926</td>\n",
       "      <td>0.140926</td>\n",
       "      <td>-0.243050</td>\n",
       "      <td>-0.243050</td>\n",
       "      <td>-0.243050</td>\n",
       "      <td>0.0</td>\n",
       "      <td>0.0</td>\n",
       "      <td>0.0</td>\n",
       "      <td>1160.027885</td>\n",
       "    </tr>\n",
       "    <tr>\n",
       "      <th>4</th>\n",
       "      <td>2011-01-05</td>\n",
       "      <td>1806.937298</td>\n",
       "      <td>369.993336</td>\n",
       "      <td>2189.293919</td>\n",
       "      <td>1806.937298</td>\n",
       "      <td>1806.937298</td>\n",
       "      <td>-0.086538</td>\n",
       "      <td>-0.086538</td>\n",
       "      <td>-0.086538</td>\n",
       "      <td>-0.009069</td>\n",
       "      <td>-0.009069</td>\n",
       "      <td>-0.009069</td>\n",
       "      <td>0.0</td>\n",
       "      <td>0.0</td>\n",
       "      <td>0.0</td>\n",
       "      <td>0.0</td>\n",
       "      <td>0.0</td>\n",
       "      <td>0.0</td>\n",
       "      <td>0.081381</td>\n",
       "      <td>0.081381</td>\n",
       "      <td>0.081381</td>\n",
       "      <td>-0.278127</td>\n",
       "      <td>-0.278127</td>\n",
       "      <td>-0.278127</td>\n",
       "      <td>-0.203070</td>\n",
       "      <td>-0.203070</td>\n",
       "      <td>-0.203070</td>\n",
       "      <td>0.055479</td>\n",
       "      <td>0.055479</td>\n",
       "      <td>0.055479</td>\n",
       "      <td>-0.037166</td>\n",
       "      <td>-0.037166</td>\n",
       "      <td>-0.037166</td>\n",
       "      <td>0.002754</td>\n",
       "      <td>0.002754</td>\n",
       "      <td>0.002754</td>\n",
       "      <td>0.140926</td>\n",
       "      <td>0.140926</td>\n",
       "      <td>0.140926</td>\n",
       "      <td>-0.231892</td>\n",
       "      <td>-0.231892</td>\n",
       "      <td>-0.231892</td>\n",
       "      <td>0.0</td>\n",
       "      <td>0.0</td>\n",
       "      <td>0.0</td>\n",
       "      <td>1304.379336</td>\n",
       "    </tr>\n",
       "  </tbody>\n",
       "</table>\n",
       "</div>"
      ],
      "text/plain": [
       "          ds        trend  ...  additive_terms_upper         yhat\n",
       "0 2011-01-01  1769.772678  ...                   0.0  1001.370943\n",
       "1 2011-01-02  1779.063833  ...                   0.0   821.078221\n",
       "2 2011-01-03  1788.354988  ...                   0.0  1070.835160\n",
       "3 2011-01-04  1797.646143  ...                   0.0  1160.027885\n",
       "4 2011-01-05  1806.937298  ...                   0.0  1304.379336\n",
       "\n",
       "[5 rows x 46 columns]"
      ]
     },
     "execution_count": 24,
     "metadata": {
      "tags": []
     },
     "output_type": "execute_result"
    }
   ],
   "source": [
    "#forecast\n",
    "forecast = m.predict(future)\n",
    "forecast.head()"
   ]
  },
  {
   "cell_type": "code",
   "execution_count": null,
   "metadata": {
    "colab": {
     "base_uri": "https://localhost:8080/"
    },
    "executionInfo": {
     "elapsed": 561,
     "status": "ok",
     "timestamp": 1620461608878,
     "user": {
      "displayName": "Diogo Resende",
      "photoUrl": "https://lh3.googleusercontent.com/a-/AOh14GgH4DE06-yE1oiIzCiaAURCl1Escr4LXXiaSnbSaA=s64",
      "userId": "05706604408624562002"
     },
     "user_tz": -120
    },
    "id": "6tKDYKmSNbfi",
    "outputId": "ac9d3f35-bd1a-46f6-8d1c-8f17a5e0c336"
   },
   "outputs": [
    {
     "data": {
      "text/plain": [
       "700    4167.349549\n",
       "701    3510.435332\n",
       "702    5693.334762\n",
       "703    5691.181422\n",
       "704    5390.360945\n",
       "Name: prophet, dtype: float64"
      ]
     },
     "execution_count": 25,
     "metadata": {
      "tags": []
     },
     "output_type": "execute_result"
    }
   ],
   "source": [
    "#predictions\n",
    "predictions_prophet = forecast.yhat[-test_days:].rename(\"prophet\")\n",
    "predictions_prophet[:5]"
   ]
  },
  {
   "cell_type": "markdown",
   "metadata": {
    "id": "DX2v9j_tEaIF"
   },
   "source": [
    "#Visualization"
   ]
  },
  {
   "cell_type": "code",
   "execution_count": null,
   "metadata": {
    "colab": {
     "base_uri": "https://localhost:8080/",
     "height": 441
    },
    "executionInfo": {
     "elapsed": 1235,
     "status": "ok",
     "timestamp": 1620462167420,
     "user": {
      "displayName": "Diogo Resende",
      "photoUrl": "https://lh3.googleusercontent.com/a-/AOh14GgH4DE06-yE1oiIzCiaAURCl1Escr4LXXiaSnbSaA=s64",
      "userId": "05706604408624562002"
     },
     "user_tz": -120
    },
    "id": "HraC5uGSOs0f",
    "outputId": "180e471f-60f9-48db-8d6f-e623c0bff22f"
   },
   "outputs": [
    {
     "data": {
      "image/png": "[encoded data removed]",
      "text/plain": [
       "<Figure size 720x432 with 1 Axes>"
      ]
     },
     "metadata": {
      "tags": []
     },
     "output_type": "display_data"
    }
   ],
   "source": [
    "#visualization forecast\n",
    "m.plot(forecast);"
   ]
  },
  {
   "cell_type": "code",
   "execution_count": null,
   "metadata": {
    "colab": {
     "base_uri": "https://localhost:8080/",
     "height": 1000
    },
    "executionInfo": {
     "elapsed": 2261,
     "status": "ok",
     "timestamp": 1620462284516,
     "user": {
      "displayName": "Diogo Resende",
      "photoUrl": "https://lh3.googleusercontent.com/a-/AOh14GgH4DE06-yE1oiIzCiaAURCl1Escr4LXXiaSnbSaA=s64",
      "userId": "05706604408624562002"
     },
     "user_tz": -120
    },
    "id": "iAmMt0igE8iM",
    "outputId": "66ed96c7-9183-48f6-a986-b78f21ce0571"
   },
   "outputs": [
    {
     "data": {
      "image/png": "[encoded data removed]",
      "text/plain": [
       "<Figure size 648x1080 with 5 Axes>"
      ]
     },
     "metadata": {
      "tags": []
     },
     "output_type": "display_data"
    }
   ],
   "source": [
    "#plot components\n",
    "m.plot_components(forecast);"
   ]
  },
  {
   "cell_type": "markdown",
   "metadata": {
    "id": "iKFJVffn9_Ei"
   },
   "source": [
    "#Model assessment"
   ]
  },
  {
   "cell_type": "code",
   "execution_count": null,
   "metadata": {
    "colab": {
     "base_uri": "https://localhost:8080/"
    },
    "executionInfo": {
     "elapsed": 562,
     "status": "ok",
     "timestamp": 1620462579513,
     "user": {
      "displayName": "Diogo Resende",
      "photoUrl": "https://lh3.googleusercontent.com/a-/AOh14GgH4DE06-yE1oiIzCiaAURCl1Escr4LXXiaSnbSaA=s64",
      "userId": "05706604408624562002"
     },
     "user_tz": -120
    },
    "id": "j7t9ftji-HCZ",
    "outputId": "e6a3c8fe-d7d4-4f1e-dc59-78c13b08802a"
   },
   "outputs": [
    {
     "name": "stdout",
     "output_type": "stream",
     "text": [
      "862.0\n",
      "1029.0\n"
     ]
    }
   ],
   "source": [
    "#MAE and RMSE\n",
    "from sklearn.metrics import mean_squared_error, mean_absolute_error\n",
    "print(round(mean_absolute_error(test_set['y'], predictions_prophet),0))\n",
    "print(round(np.sqrt(mean_squared_error(test_set['y'], predictions_prophet)), 0))"
   ]
  },
  {
   "cell_type": "code",
   "execution_count": null,
   "metadata": {
    "colab": {
     "base_uri": "https://localhost:8080/"
    },
    "executionInfo": {
     "elapsed": 582,
     "status": "ok",
     "timestamp": 1620462591618,
     "user": {
      "displayName": "Diogo Resende",
      "photoUrl": "https://lh3.googleusercontent.com/a-/AOh14GgH4DE06-yE1oiIzCiaAURCl1Escr4LXXiaSnbSaA=s64",
      "userId": "05706604408624562002"
     },
     "user_tz": -120
    },
    "id": "qBiDRfr0AZH_",
    "outputId": "301f9206-4d71-4d6c-990d-0a6777c87a6e"
   },
   "outputs": [
    {
     "data": {
      "text/plain": [
       "34.565240593000624"
      ]
     },
     "execution_count": 32,
     "metadata": {
      "tags": []
     },
     "output_type": "execute_result"
    }
   ],
   "source": [
    "#MAPE function\n",
    "def MAPE(y_true, y_pred):\n",
    "  y_true, y_pred = np.array(y_true), np.array(y_pred)\n",
    "  return np.mean(np.abs((y_true - y_pred) / y_true)) * 100\n",
    "MAPE(test_set['y'], predictions_prophet)"
   ]
  },
  {
   "cell_type": "markdown",
   "metadata": {
    "id": "RRY9EQ18NB9N"
   },
   "source": [
    "# Cross-Validation"
   ]
  },
  {
   "cell_type": "code",
   "execution_count": null,
   "metadata": {
    "colab": {
     "base_uri": "https://localhost:8080/",
     "height": 237
    },
    "executionInfo": {
     "elapsed": 18169,
     "status": "ok",
     "timestamp": 1620464539097,
     "user": {
      "displayName": "Diogo Resende",
      "photoUrl": "https://lh3.googleusercontent.com/a-/AOh14GgH4DE06-yE1oiIzCiaAURCl1Escr4LXXiaSnbSaA=s64",
      "userId": "05706604408624562002"
     },
     "user_tz": -120
    },
    "id": "q9OUIg3qNGZ2",
    "outputId": "297c30c6-2b50-406c-c731-17d8f46a127b"
   },
   "outputs": [
    {
     "name": "stderr",
     "output_type": "stream",
     "text": [
      "INFO:fbprophet:Making 9 forecasts with cutoffs between 2012-06-28 00:00:00 and 2012-10-30 00:00:00\n",
      "INFO:fbprophet:Applying in parallel with <concurrent.futures.process.ProcessPoolExecutor object at 0x7f153cc7b9d0>\n"
     ]
    },
    {
     "data": {
      "text/html": [
       "<div>\n",
       "<style scoped>\n",
       "    .dataframe tbody tr th:only-of-type {\n",
       "        vertical-align: middle;\n",
       "    }\n",
       "\n",
       "    .dataframe tbody tr th {\n",
       "        vertical-align: top;\n",
       "    }\n",
       "\n",
       "    .dataframe thead th {\n",
       "        text-align: right;\n",
       "    }\n",
       "</style>\n",
       "<table border=\"1\" class=\"dataframe\">\n",
       "  <thead>\n",
       "    <tr style=\"text-align: right;\">\n",
       "      <th></th>\n",
       "      <th>ds</th>\n",
       "      <th>yhat</th>\n",
       "      <th>yhat_lower</th>\n",
       "      <th>yhat_upper</th>\n",
       "      <th>y</th>\n",
       "      <th>cutoff</th>\n",
       "    </tr>\n",
       "  </thead>\n",
       "  <tbody>\n",
       "    <tr>\n",
       "      <th>0</th>\n",
       "      <td>2012-06-29</td>\n",
       "      <td>8172.944767</td>\n",
       "      <td>7436.929354</td>\n",
       "      <td>8924.652915</td>\n",
       "      <td>5463</td>\n",
       "      <td>2012-06-28</td>\n",
       "    </tr>\n",
       "    <tr>\n",
       "      <th>1</th>\n",
       "      <td>2012-06-30</td>\n",
       "      <td>7246.974342</td>\n",
       "      <td>6478.944806</td>\n",
       "      <td>8016.908051</td>\n",
       "      <td>5687</td>\n",
       "      <td>2012-06-28</td>\n",
       "    </tr>\n",
       "    <tr>\n",
       "      <th>2</th>\n",
       "      <td>2012-07-01</td>\n",
       "      <td>7453.023794</td>\n",
       "      <td>6646.973019</td>\n",
       "      <td>8233.289180</td>\n",
       "      <td>5531</td>\n",
       "      <td>2012-06-28</td>\n",
       "    </tr>\n",
       "    <tr>\n",
       "      <th>3</th>\n",
       "      <td>2012-07-02</td>\n",
       "      <td>6782.814616</td>\n",
       "      <td>6045.777295</td>\n",
       "      <td>7557.547883</td>\n",
       "      <td>6227</td>\n",
       "      <td>2012-06-28</td>\n",
       "    </tr>\n",
       "    <tr>\n",
       "      <th>4</th>\n",
       "      <td>2012-07-03</td>\n",
       "      <td>7459.327240</td>\n",
       "      <td>6686.154542</td>\n",
       "      <td>8243.446781</td>\n",
       "      <td>6660</td>\n",
       "      <td>2012-06-28</td>\n",
       "    </tr>\n",
       "  </tbody>\n",
       "</table>\n",
       "</div>"
      ],
      "text/plain": [
       "          ds         yhat   yhat_lower   yhat_upper     y     cutoff\n",
       "0 2012-06-29  8172.944767  7436.929354  8924.652915  5463 2012-06-28\n",
       "1 2012-06-30  7246.974342  6478.944806  8016.908051  5687 2012-06-28\n",
       "2 2012-07-01  7453.023794  6646.973019  8233.289180  5531 2012-06-28\n",
       "3 2012-07-02  6782.814616  6045.777295  7557.547883  6227 2012-06-28\n",
       "4 2012-07-03  7459.327240  6686.154542  8243.446781  6660 2012-06-28"
      ]
     },
     "execution_count": 33,
     "metadata": {
      "tags": []
     },
     "output_type": "execute_result"
    }
   ],
   "source": [
    "#CV\n",
    "from fbprophet.diagnostics import cross_validation\n",
    "df_cv = cross_validation(m,\n",
    "                         horizon = '31 days',\n",
    "                         initial = '540 days',\n",
    "                         parallel = \"processes\")\n",
    "df_cv.head()"
   ]
  },
  {
   "cell_type": "code",
   "execution_count": null,
   "metadata": {
    "colab": {
     "base_uri": "https://localhost:8080/"
    },
    "executionInfo": {
     "elapsed": 513,
     "status": "ok",
     "timestamp": 1620465176436,
     "user": {
      "displayName": "Diogo Resende",
      "photoUrl": "https://lh3.googleusercontent.com/a-/AOh14GgH4DE06-yE1oiIzCiaAURCl1Escr4LXXiaSnbSaA=s64",
      "userId": "05706604408624562002"
     },
     "user_tz": -120
    },
    "id": "E4e8hA2kOBKS",
    "outputId": "b7f2da30-5035-4a78-9387-2fbea7a07526"
   },
   "outputs": [
    {
     "name": "stdout",
     "output_type": "stream",
     "text": [
      "1012.0\n",
      "1270.0\n"
     ]
    },
    {
     "data": {
      "text/plain": [
       "125.45185353878381"
      ]
     },
     "execution_count": 38,
     "metadata": {
      "tags": []
     },
     "output_type": "execute_result"
    }
   ],
   "source": [
    "#MAE and RMSE\n",
    "print(round(mean_absolute_error(df_cv['y'], df_cv['yhat']),0))\n",
    "print(round(np.sqrt(mean_squared_error(df_cv['y'], df_cv['yhat'])), 0))\n",
    "print(MAPE(df_cv['y'], df_cv['yhat']))"
   ]
  },
  {
   "cell_type": "markdown",
   "metadata": {
    "id": "4282ZZM4RerY"
   },
   "source": [
    "#Hyperparameter tuning"
   ]
  },
  {
   "cell_type": "code",
   "execution_count": null,
   "metadata": {
    "colab": {
     "base_uri": "https://localhost:8080/"
    },
    "executionInfo": {
     "elapsed": 479,
     "status": "ok",
     "timestamp": 1620465778506,
     "user": {
      "displayName": "Diogo Resende",
      "photoUrl": "https://lh3.googleusercontent.com/a-/AOh14GgH4DE06-yE1oiIzCiaAURCl1Escr4LXXiaSnbSaA=s64",
      "userId": "05706604408624562002"
     },
     "user_tz": -120
    },
    "id": "vm59n5H2RhSh",
    "outputId": "b4791cba-3719-4259-8e8d-319a9fb77ece"
   },
   "outputs": [
    {
     "data": {
      "text/plain": [
       "[{'changepoint_prior_scale': 0.01,\n",
       "  'holidays_prior_scale': 5,\n",
       "  'seasonality_prior_scale': 5},\n",
       " {'changepoint_prior_scale': 0.01,\n",
       "  'holidays_prior_scale': 5,\n",
       "  'seasonality_prior_scale': 10},\n",
       " {'changepoint_prior_scale': 0.01,\n",
       "  'holidays_prior_scale': 5,\n",
       "  'seasonality_prior_scale': 20}]"
      ]
     },
     "execution_count": 40,
     "metadata": {
      "tags": []
     },
     "output_type": "execute_result"
    }
   ],
   "source": [
    "#Parameter grid\n",
    "from sklearn.model_selection import ParameterGrid\n",
    "param_grid = {'seasonality_prior_scale': [5, 10, 20],\n",
    "              'changepoint_prior_scale': [0.01, 0.05, 0.1],\n",
    "              'holidays_prior_scale': [5, 10, 20]}\n",
    "grid = ParameterGrid(param_grid)\n",
    "list(grid)[:3]            "
   ]
  },
  {
   "cell_type": "code",
   "execution_count": null,
   "metadata": {
    "id": "S9FfGXKzy_SV"
   },
   "outputs": [],
   "source": [
    "#Hyper parameter tuning\n",
    "rmse = []\n",
    "for params in grid:\n",
    "  #build model\n",
    "  m = Prophet(growth = \"linear\",\n",
    "            yearly_seasonality = True,\n",
    "            weekly_seasonality = True,\n",
    "            daily_seasonality = False,\n",
    "            holidays = holidays,\n",
    "            seasonality_mode = \"multiplicative\",\n",
    "            seasonality_prior_scale = params['seasonality_prior_scale'],\n",
    "            holidays_prior_scale = params['holidays_prior_scale'],\n",
    "            changepoint_prior_scale = params['changepoint_prior_scale'])\n",
    "  m.add_regressor('workingday')\n",
    "  m.add_regressor('weathersit')\n",
    "  m.add_regressor('temp')\n",
    "  m.add_regressor('atemp')\n",
    "  m.add_regressor('hum')\n",
    "  m.add_regressor('windspeed')\n",
    "  m.fit(training_set)\n",
    "\n",
    "  #cross-validation\n",
    "  df_cv = cross_validation(m,\n",
    "                         horizon = '31 days',\n",
    "                         initial = '540 days',\n",
    "                         parallel = \"processes\")\n",
    "  \n",
    "  #gather the results\n",
    "  error = np.sqrt(mean_squared_error(df_cv['y'], \n",
    "                                     df_cv['yhat']))\n",
    "  rmse.append(error)"
   ]
  },
  {
   "cell_type": "code",
   "execution_count": 43,
   "metadata": {
    "colab": {
     "base_uri": "https://localhost:8080/"
    },
    "executionInfo": {
     "elapsed": 549,
     "status": "ok",
     "timestamp": 1620475489909,
     "user": {
      "displayName": "Diogo Resende",
      "photoUrl": "https://lh3.googleusercontent.com/a-/AOh14GgH4DE06-yE1oiIzCiaAURCl1Escr4LXXiaSnbSaA=s64",
      "userId": "05706604408624562002"
     },
     "user_tz": -120
    },
    "id": "po8slJpo3IIZ",
    "outputId": "8e034a4b-6a0f-49e1-eb6a-4a609d8fb6fd"
   },
   "outputs": [
    {
     "name": "stdout",
     "output_type": "stream",
     "text": [
      "{'seasonality_prior_scale': 20, 'holidays_prior_scale': 20, 'changepoint_prior_scale': 0.01}\n"
     ]
    }
   ],
   "source": [
    "#best parameters\n",
    "best_params = grid[np.argmin(rmse)]\n",
    "print(best_params)"
   ]
  },
  {
   "cell_type": "markdown",
   "metadata": {
    "id": "vV8RzQzZ4DOD"
   },
   "source": [
    "#Final Prophet Model"
   ]
  },
  {
   "cell_type": "code",
   "execution_count": 45,
   "metadata": {
    "colab": {
     "base_uri": "https://localhost:8080/"
    },
    "executionInfo": {
     "elapsed": 915,
     "status": "ok",
     "timestamp": 1620475872363,
     "user": {
      "displayName": "Diogo Resende",
      "photoUrl": "https://lh3.googleusercontent.com/a-/AOh14GgH4DE06-yE1oiIzCiaAURCl1Escr4LXXiaSnbSaA=s64",
      "userId": "05706604408624562002"
     },
     "user_tz": -120
    },
    "id": "imNu1dMH4Fhe",
    "outputId": "0f02c11d-8886-434a-99d4-1b68f225f2c0"
   },
   "outputs": [
    {
     "data": {
      "text/plain": [
       "<fbprophet.forecaster.Prophet at 0x7f15312c0f50>"
      ]
     },
     "execution_count": 45,
     "metadata": {
      "tags": []
     },
     "output_type": "execute_result"
    }
   ],
   "source": [
    "#build model\n",
    "m = Prophet(growth = \"linear\",\n",
    "          yearly_seasonality = True,\n",
    "          weekly_seasonality = True,\n",
    "          daily_seasonality = False,\n",
    "          holidays = holidays,\n",
    "          seasonality_mode = \"multiplicative\",\n",
    "          seasonality_prior_scale = best_params['seasonality_prior_scale'],\n",
    "          holidays_prior_scale = best_params['holidays_prior_scale'],\n",
    "          changepoint_prior_scale = best_params['changepoint_prior_scale'])\n",
    "m.add_regressor('workingday')\n",
    "m.add_regressor('weathersit')\n",
    "m.add_regressor('temp')\n",
    "m.add_regressor('atemp')\n",
    "m.add_regressor('hum')\n",
    "m.add_regressor('windspeed')\n",
    "m.fit(training_set)"
   ]
  },
  {
   "cell_type": "code",
   "execution_count": 46,
   "metadata": {
    "colab": {
     "base_uri": "https://localhost:8080/",
     "height": 79
    },
    "executionInfo": {
     "elapsed": 613,
     "status": "ok",
     "timestamp": 1620475878561,
     "user": {
      "displayName": "Diogo Resende",
      "photoUrl": "https://lh3.googleusercontent.com/a-/AOh14GgH4DE06-yE1oiIzCiaAURCl1Escr4LXXiaSnbSaA=s64",
      "userId": "05706604408624562002"
     },
     "user_tz": -120
    },
    "id": "rHVlUDnU4h1H",
    "outputId": "ac94e36a-427f-4a8b-c288-b95282d43d41"
   },
   "outputs": [
    {
     "data": {
      "text/html": [
       "<div>\n",
       "<style scoped>\n",
       "    .dataframe tbody tr th:only-of-type {\n",
       "        vertical-align: middle;\n",
       "    }\n",
       "\n",
       "    .dataframe tbody tr th {\n",
       "        vertical-align: top;\n",
       "    }\n",
       "\n",
       "    .dataframe thead th {\n",
       "        text-align: right;\n",
       "    }\n",
       "</style>\n",
       "<table border=\"1\" class=\"dataframe\">\n",
       "  <thead>\n",
       "    <tr style=\"text-align: right;\">\n",
       "      <th></th>\n",
       "      <th>ds</th>\n",
       "      <th>workingday</th>\n",
       "      <th>weathersit</th>\n",
       "      <th>temp</th>\n",
       "      <th>atemp</th>\n",
       "      <th>hum</th>\n",
       "      <th>windspeed</th>\n",
       "    </tr>\n",
       "  </thead>\n",
       "  <tbody>\n",
       "    <tr>\n",
       "      <th>730</th>\n",
       "      <td>2012-12-31</td>\n",
       "      <td>1</td>\n",
       "      <td>2</td>\n",
       "      <td>0.215833</td>\n",
       "      <td>0.223487</td>\n",
       "      <td>0.5775</td>\n",
       "      <td>0.154846</td>\n",
       "    </tr>\n",
       "  </tbody>\n",
       "</table>\n",
       "</div>"
      ],
      "text/plain": [
       "            ds  workingday  weathersit      temp     atemp     hum  windspeed\n",
       "730 2012-12-31           1           2  0.215833  0.223487  0.5775   0.154846"
      ]
     },
     "execution_count": 46,
     "metadata": {
      "tags": []
     },
     "output_type": "execute_result"
    }
   ],
   "source": [
    "#Create Future Dataframe\n",
    "future = m.make_future_dataframe(periods = len(test_set),\n",
    "                                 freq = \"D\")\n",
    "future = pd.concat([future, dataset.iloc[:,2:]],\n",
    "                   axis = 1)\n",
    "future.tail(1)"
   ]
  },
  {
   "cell_type": "code",
   "execution_count": 47,
   "metadata": {
    "colab": {
     "base_uri": "https://localhost:8080/",
     "height": 308
    },
    "executionInfo": {
     "elapsed": 4035,
     "status": "ok",
     "timestamp": 1620475891074,
     "user": {
      "displayName": "Diogo Resende",
      "photoUrl": "https://lh3.googleusercontent.com/a-/AOh14GgH4DE06-yE1oiIzCiaAURCl1Escr4LXXiaSnbSaA=s64",
      "userId": "05706604408624562002"
     },
     "user_tz": -120
    },
    "id": "yzCb8d494lTh",
    "outputId": "258fa025-9429-48cd-a23b-0838974c643d"
   },
   "outputs": [
    {
     "data": {
      "text/html": [
       "<div>\n",
       "<style scoped>\n",
       "    .dataframe tbody tr th:only-of-type {\n",
       "        vertical-align: middle;\n",
       "    }\n",
       "\n",
       "    .dataframe tbody tr th {\n",
       "        vertical-align: top;\n",
       "    }\n",
       "\n",
       "    .dataframe thead th {\n",
       "        text-align: right;\n",
       "    }\n",
       "</style>\n",
       "<table border=\"1\" class=\"dataframe\">\n",
       "  <thead>\n",
       "    <tr style=\"text-align: right;\">\n",
       "      <th></th>\n",
       "      <th>ds</th>\n",
       "      <th>trend</th>\n",
       "      <th>yhat_lower</th>\n",
       "      <th>yhat_upper</th>\n",
       "      <th>trend_lower</th>\n",
       "      <th>trend_upper</th>\n",
       "      <th>atemp</th>\n",
       "      <th>atemp_lower</th>\n",
       "      <th>atemp_upper</th>\n",
       "      <th>extra_regressors_multiplicative</th>\n",
       "      <th>extra_regressors_multiplicative_lower</th>\n",
       "      <th>extra_regressors_multiplicative_upper</th>\n",
       "      <th>holi</th>\n",
       "      <th>holi_lower</th>\n",
       "      <th>holi_upper</th>\n",
       "      <th>holidays</th>\n",
       "      <th>holidays_lower</th>\n",
       "      <th>holidays_upper</th>\n",
       "      <th>hum</th>\n",
       "      <th>hum_lower</th>\n",
       "      <th>hum_upper</th>\n",
       "      <th>multiplicative_terms</th>\n",
       "      <th>multiplicative_terms_lower</th>\n",
       "      <th>multiplicative_terms_upper</th>\n",
       "      <th>temp</th>\n",
       "      <th>temp_lower</th>\n",
       "      <th>temp_upper</th>\n",
       "      <th>weathersit</th>\n",
       "      <th>weathersit_lower</th>\n",
       "      <th>weathersit_upper</th>\n",
       "      <th>weekly</th>\n",
       "      <th>weekly_lower</th>\n",
       "      <th>weekly_upper</th>\n",
       "      <th>windspeed</th>\n",
       "      <th>windspeed_lower</th>\n",
       "      <th>windspeed_upper</th>\n",
       "      <th>workingday</th>\n",
       "      <th>workingday_lower</th>\n",
       "      <th>workingday_upper</th>\n",
       "      <th>yearly</th>\n",
       "      <th>yearly_lower</th>\n",
       "      <th>yearly_upper</th>\n",
       "      <th>additive_terms</th>\n",
       "      <th>additive_terms_lower</th>\n",
       "      <th>additive_terms_upper</th>\n",
       "      <th>yhat</th>\n",
       "    </tr>\n",
       "  </thead>\n",
       "  <tbody>\n",
       "    <tr>\n",
       "      <th>0</th>\n",
       "      <td>2011-01-01</td>\n",
       "      <td>2428.959073</td>\n",
       "      <td>247.494540</td>\n",
       "      <td>2215.052054</td>\n",
       "      <td>2428.959073</td>\n",
       "      <td>2428.959073</td>\n",
       "      <td>-0.055485</td>\n",
       "      <td>-0.055485</td>\n",
       "      <td>-0.055485</td>\n",
       "      <td>-0.279300</td>\n",
       "      <td>-0.279300</td>\n",
       "      <td>-0.279300</td>\n",
       "      <td>0.0</td>\n",
       "      <td>0.0</td>\n",
       "      <td>0.0</td>\n",
       "      <td>0.0</td>\n",
       "      <td>0.0</td>\n",
       "      <td>0.0</td>\n",
       "      <td>-0.070485</td>\n",
       "      <td>-0.070485</td>\n",
       "      <td>-0.070485</td>\n",
       "      <td>-0.483167</td>\n",
       "      <td>-0.483167</td>\n",
       "      <td>-0.483167</td>\n",
       "      <td>-0.089004</td>\n",
       "      <td>-0.089004</td>\n",
       "      <td>-0.089004</td>\n",
       "      <td>-0.084177</td>\n",
       "      <td>-0.084177</td>\n",
       "      <td>-0.084177</td>\n",
       "      <td>0.058168</td>\n",
       "      <td>0.058168</td>\n",
       "      <td>0.058168</td>\n",
       "      <td>0.019851</td>\n",
       "      <td>0.019851</td>\n",
       "      <td>0.019851</td>\n",
       "      <td>0.000000</td>\n",
       "      <td>0.000000</td>\n",
       "      <td>0.000000</td>\n",
       "      <td>-0.262035</td>\n",
       "      <td>-0.262035</td>\n",
       "      <td>-0.262035</td>\n",
       "      <td>0.0</td>\n",
       "      <td>0.0</td>\n",
       "      <td>0.0</td>\n",
       "      <td>1255.366957</td>\n",
       "    </tr>\n",
       "    <tr>\n",
       "      <th>1</th>\n",
       "      <td>2011-01-02</td>\n",
       "      <td>2434.578651</td>\n",
       "      <td>66.334944</td>\n",
       "      <td>2017.974775</td>\n",
       "      <td>2434.578651</td>\n",
       "      <td>2434.578651</td>\n",
       "      <td>-0.060155</td>\n",
       "      <td>-0.060155</td>\n",
       "      <td>-0.060155</td>\n",
       "      <td>-0.288027</td>\n",
       "      <td>-0.288027</td>\n",
       "      <td>-0.288027</td>\n",
       "      <td>0.0</td>\n",
       "      <td>0.0</td>\n",
       "      <td>0.0</td>\n",
       "      <td>0.0</td>\n",
       "      <td>0.0</td>\n",
       "      <td>0.0</td>\n",
       "      <td>-0.027599</td>\n",
       "      <td>-0.027599</td>\n",
       "      <td>-0.027599</td>\n",
       "      <td>-0.585264</td>\n",
       "      <td>-0.585264</td>\n",
       "      <td>-0.585264</td>\n",
       "      <td>-0.078185</td>\n",
       "      <td>-0.078185</td>\n",
       "      <td>-0.078185</td>\n",
       "      <td>-0.084177</td>\n",
       "      <td>-0.084177</td>\n",
       "      <td>-0.084177</td>\n",
       "      <td>-0.041308</td>\n",
       "      <td>-0.041308</td>\n",
       "      <td>-0.041308</td>\n",
       "      <td>-0.037911</td>\n",
       "      <td>-0.037911</td>\n",
       "      <td>-0.037911</td>\n",
       "      <td>0.000000</td>\n",
       "      <td>0.000000</td>\n",
       "      <td>0.000000</td>\n",
       "      <td>-0.255930</td>\n",
       "      <td>-0.255930</td>\n",
       "      <td>-0.255930</td>\n",
       "      <td>0.0</td>\n",
       "      <td>0.0</td>\n",
       "      <td>0.0</td>\n",
       "      <td>1009.706277</td>\n",
       "    </tr>\n",
       "    <tr>\n",
       "      <th>2</th>\n",
       "      <td>2011-01-03</td>\n",
       "      <td>2440.198229</td>\n",
       "      <td>360.302557</td>\n",
       "      <td>2302.885025</td>\n",
       "      <td>2440.198229</td>\n",
       "      <td>2440.198229</td>\n",
       "      <td>-0.137785</td>\n",
       "      <td>-0.137785</td>\n",
       "      <td>-0.137785</td>\n",
       "      <td>-0.188057</td>\n",
       "      <td>-0.188057</td>\n",
       "      <td>-0.188057</td>\n",
       "      <td>0.0</td>\n",
       "      <td>0.0</td>\n",
       "      <td>0.0</td>\n",
       "      <td>0.0</td>\n",
       "      <td>0.0</td>\n",
       "      <td>0.0</td>\n",
       "      <td>0.073537</td>\n",
       "      <td>0.073537</td>\n",
       "      <td>0.073537</td>\n",
       "      <td>-0.462290</td>\n",
       "      <td>-0.462290</td>\n",
       "      <td>-0.462290</td>\n",
       "      <td>-0.171815</td>\n",
       "      <td>-0.171815</td>\n",
       "      <td>-0.171815</td>\n",
       "      <td>0.052537</td>\n",
       "      <td>0.052537</td>\n",
       "      <td>0.052537</td>\n",
       "      <td>-0.025655</td>\n",
       "      <td>-0.025655</td>\n",
       "      <td>-0.025655</td>\n",
       "      <td>-0.037760</td>\n",
       "      <td>-0.037760</td>\n",
       "      <td>-0.037760</td>\n",
       "      <td>0.033228</td>\n",
       "      <td>0.033228</td>\n",
       "      <td>0.033228</td>\n",
       "      <td>-0.248577</td>\n",
       "      <td>-0.248577</td>\n",
       "      <td>-0.248577</td>\n",
       "      <td>0.0</td>\n",
       "      <td>0.0</td>\n",
       "      <td>0.0</td>\n",
       "      <td>1312.120106</td>\n",
       "    </tr>\n",
       "    <tr>\n",
       "      <th>3</th>\n",
       "      <td>2011-01-04</td>\n",
       "      <td>2445.817807</td>\n",
       "      <td>497.189696</td>\n",
       "      <td>2393.323514</td>\n",
       "      <td>2445.817807</td>\n",
       "      <td>2445.817807</td>\n",
       "      <td>-0.127053</td>\n",
       "      <td>-0.127053</td>\n",
       "      <td>-0.127053</td>\n",
       "      <td>-0.177430</td>\n",
       "      <td>-0.177430</td>\n",
       "      <td>-0.177430</td>\n",
       "      <td>0.0</td>\n",
       "      <td>0.0</td>\n",
       "      <td>0.0</td>\n",
       "      <td>0.0</td>\n",
       "      <td>0.0</td>\n",
       "      <td>0.0</td>\n",
       "      <td>0.013686</td>\n",
       "      <td>0.013686</td>\n",
       "      <td>0.013686</td>\n",
       "      <td>-0.418997</td>\n",
       "      <td>-0.418997</td>\n",
       "      <td>-0.418997</td>\n",
       "      <td>-0.169778</td>\n",
       "      <td>-0.169778</td>\n",
       "      <td>-0.169778</td>\n",
       "      <td>0.052537</td>\n",
       "      <td>0.052537</td>\n",
       "      <td>0.052537</td>\n",
       "      <td>-0.001477</td>\n",
       "      <td>-0.001477</td>\n",
       "      <td>-0.001477</td>\n",
       "      <td>0.019950</td>\n",
       "      <td>0.019950</td>\n",
       "      <td>0.019950</td>\n",
       "      <td>0.033228</td>\n",
       "      <td>0.033228</td>\n",
       "      <td>0.033228</td>\n",
       "      <td>-0.240090</td>\n",
       "      <td>-0.240090</td>\n",
       "      <td>-0.240090</td>\n",
       "      <td>0.0</td>\n",
       "      <td>0.0</td>\n",
       "      <td>0.0</td>\n",
       "      <td>1421.028542</td>\n",
       "    </tr>\n",
       "    <tr>\n",
       "      <th>4</th>\n",
       "      <td>2011-01-05</td>\n",
       "      <td>2451.437386</td>\n",
       "      <td>668.061234</td>\n",
       "      <td>2552.083772</td>\n",
       "      <td>2451.437386</td>\n",
       "      <td>2451.437386</td>\n",
       "      <td>-0.118953</td>\n",
       "      <td>-0.118953</td>\n",
       "      <td>-0.118953</td>\n",
       "      <td>-0.111696</td>\n",
       "      <td>-0.111696</td>\n",
       "      <td>-0.111696</td>\n",
       "      <td>0.0</td>\n",
       "      <td>0.0</td>\n",
       "      <td>0.0</td>\n",
       "      <td>0.0</td>\n",
       "      <td>0.0</td>\n",
       "      <td>0.0</td>\n",
       "      <td>0.073660</td>\n",
       "      <td>0.073660</td>\n",
       "      <td>0.073660</td>\n",
       "      <td>-0.347872</td>\n",
       "      <td>-0.347872</td>\n",
       "      <td>-0.347872</td>\n",
       "      <td>-0.154674</td>\n",
       "      <td>-0.154674</td>\n",
       "      <td>-0.154674</td>\n",
       "      <td>0.052537</td>\n",
       "      <td>0.052537</td>\n",
       "      <td>0.052537</td>\n",
       "      <td>-0.005576</td>\n",
       "      <td>-0.005576</td>\n",
       "      <td>-0.005576</td>\n",
       "      <td>0.002506</td>\n",
       "      <td>0.002506</td>\n",
       "      <td>0.002506</td>\n",
       "      <td>0.033228</td>\n",
       "      <td>0.033228</td>\n",
       "      <td>0.033228</td>\n",
       "      <td>-0.230600</td>\n",
       "      <td>-0.230600</td>\n",
       "      <td>-0.230600</td>\n",
       "      <td>0.0</td>\n",
       "      <td>0.0</td>\n",
       "      <td>0.0</td>\n",
       "      <td>1598.652066</td>\n",
       "    </tr>\n",
       "  </tbody>\n",
       "</table>\n",
       "</div>"
      ],
      "text/plain": [
       "          ds        trend  ...  additive_terms_upper         yhat\n",
       "0 2011-01-01  2428.959073  ...                   0.0  1255.366957\n",
       "1 2011-01-02  2434.578651  ...                   0.0  1009.706277\n",
       "2 2011-01-03  2440.198229  ...                   0.0  1312.120106\n",
       "3 2011-01-04  2445.817807  ...                   0.0  1421.028542\n",
       "4 2011-01-05  2451.437386  ...                   0.0  1598.652066\n",
       "\n",
       "[5 rows x 46 columns]"
      ]
     },
     "execution_count": 47,
     "metadata": {
      "tags": []
     },
     "output_type": "execute_result"
    }
   ],
   "source": [
    "#forecast\n",
    "forecast = m.predict(future)\n",
    "forecast.head()"
   ]
  },
  {
   "cell_type": "code",
   "execution_count": 48,
   "metadata": {
    "colab": {
     "base_uri": "https://localhost:8080/"
    },
    "executionInfo": {
     "elapsed": 567,
     "status": "ok",
     "timestamp": 1620475979065,
     "user": {
      "displayName": "Diogo Resende",
      "photoUrl": "https://lh3.googleusercontent.com/a-/AOh14GgH4DE06-yE1oiIzCiaAURCl1Escr4LXXiaSnbSaA=s64",
      "userId": "05706604408624562002"
     },
     "user_tz": -120
    },
    "id": "N8t0FS_B4y8v",
    "outputId": "68ad7a5a-742c-4b04-d22c-ea95e17e9b10"
   },
   "outputs": [
    {
     "data": {
      "text/plain": [
       "ds\n",
       "2012-12-01    4123.671979\n",
       "2012-12-02    3497.119336\n",
       "2012-12-03    5626.701226\n",
       "2012-12-04    5608.114449\n",
       "2012-12-05    5319.873924\n",
       "Name: prophet_tuned, dtype: float64"
      ]
     },
     "execution_count": 48,
     "metadata": {
      "tags": []
     },
     "output_type": "execute_result"
    }
   ],
   "source": [
    "#extract predictions\n",
    "predictions_prophet_tuned = forecast.yhat[-test_days:].rename(\"prophet_tuned\")\n",
    "predictions_prophet_tuned.index = test_set[\"ds\"]\n",
    "predictions_prophet_tuned.head()"
   ]
  },
  {
   "cell_type": "markdown",
   "metadata": {
    "id": "xM4rHhXmBzY5"
   },
   "source": [
    "#export forecasts"
   ]
  },
  {
   "cell_type": "code",
   "execution_count": 49,
   "metadata": {
    "colab": {
     "base_uri": "https://localhost:8080/"
    },
    "executionInfo": {
     "elapsed": 577,
     "status": "ok",
     "timestamp": 1620476014476,
     "user": {
      "displayName": "Diogo Resende",
      "photoUrl": "https://lh3.googleusercontent.com/a-/AOh14GgH4DE06-yE1oiIzCiaAURCl1Escr4LXXiaSnbSaA=s64",
      "userId": "05706604408624562002"
     },
     "user_tz": -120
    },
    "id": "h2-rQ5UpB1po",
    "outputId": "5301b214-29e7-40a6-eb74-e9b97064ca40"
   },
   "outputs": [
    {
     "name": "stdout",
     "output_type": "stream",
     "text": [
      "/content/drive/MyDrive/Forecasting Models and Time Series for Business in Python/0. Ensemble\n"
     ]
    }
   ],
   "source": [
    "%cd /content/drive/MyDrive/Forecasting Models and Time Series for Business in Python/0. Ensemble"
   ]
  },
  {
   "cell_type": "code",
   "execution_count": 50,
   "metadata": {
    "executionInfo": {
     "elapsed": 542,
     "status": "ok",
     "timestamp": 1620476019313,
     "user": {
      "displayName": "Diogo Resende",
      "photoUrl": "https://lh3.googleusercontent.com/a-/AOh14GgH4DE06-yE1oiIzCiaAURCl1Escr4LXXiaSnbSaA=s64",
      "userId": "05706604408624562002"
     },
     "user_tz": -120
    },
    "id": "sI_C2NcfB-pV"
   },
   "outputs": [],
   "source": [
    "predictions_prophet_tuned.to_csv('predictions_prophet_tuned.csv', index = True)"
   ]
  }
 ],
 "metadata": {
  "colab": {
   "authorship_tag": "ABX9TyPB+wsoeDK+Lff5FK8Mp1f8",
   "mount_file_id": "1Qs8FwjHlz06McUuYWNtA8LRu3vWZz6P4",
   "name": "Facebook Prophet Template.ipynb",
   "provenance": []
  },
  "kernelspec": {
   "display_name": "Python 3 (ipykernel)",
   "language": "python",
   "name": "python3"
  },
  "language_info": {
   "codemirror_mode": {
    "name": "ipython",
    "version": 3
   },
   "file_extension": ".py",
   "mimetype": "text/x-python",
   "name": "python",
   "nbconvert_exporter": "python",
   "pygments_lexer": "ipython3",
   "version": "3.9.16"
  }
 },
 "nbformat": 4,
 "nbformat_minor": 1
}
