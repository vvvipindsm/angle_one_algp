{
 "cells": [
  {
   "cell_type": "markdown",
   "metadata": {
    "id": "KziJ91gPrZO3"
   },
   "source": [
    "# Import libraries and data\n"
   ]
  },
  {
   "cell_type": "code",
   "execution_count": 60,
   "metadata": {
    "id": "nJQoK7c4r3SR"
   },
   "outputs": [],
   "source": [
    "#import libraries\n",
    "import itertools\n",
    "from prophet import Prophet\n",
    "import pandas as pd\n",
    "import numpy as np\n",
    "import yfinance"
   ]
  },
  {
   "cell_type": "code",
   "execution_count": 61,
   "metadata": {
    "colab": {
     "base_uri": "https://localhost:8080/",
     "height": 116
    },
    "executionInfo": {
     "elapsed": 906,
     "status": "ok",
     "timestamp": 1620457526216,
     "user": {
      "displayName": "Diogo Resende",
      "photoUrl": "https://lh3.googleusercontent.com/a-/AOh14GgH4DE06-yE1oiIzCiaAURCl1Escr4LXXiaSnbSaA=s64",
      "userId": "05706604408624562002"
     },
     "user_tz": -120
    },
    "id": "kYo4C4W5sbSv",
    "outputId": "c6c6c6f4-de91-4544-9a08-675a50518ed0"
   },
   "outputs": [
    {
     "name": "stdout",
     "output_type": "stream",
     "text": [
      "[*********************100%***********************]  1 of 1 completed\n"
     ]
    },
    {
     "data": {
      "text/html": [
       "<div>\n",
       "<style scoped>\n",
       "    .dataframe tbody tr th:only-of-type {\n",
       "        vertical-align: middle;\n",
       "    }\n",
       "\n",
       "    .dataframe tbody tr th {\n",
       "        vertical-align: top;\n",
       "    }\n",
       "\n",
       "    .dataframe thead th {\n",
       "        text-align: right;\n",
       "    }\n",
       "</style>\n",
       "<table border=\"1\" class=\"dataframe\">\n",
       "  <thead>\n",
       "    <tr style=\"text-align: right;\">\n",
       "      <th></th>\n",
       "      <th>Open</th>\n",
       "      <th>High</th>\n",
       "      <th>Low</th>\n",
       "      <th>Close</th>\n",
       "      <th>Volume</th>\n",
       "      <th>ds</th>\n",
       "    </tr>\n",
       "    <tr>\n",
       "      <th>Date</th>\n",
       "      <th></th>\n",
       "      <th></th>\n",
       "      <th></th>\n",
       "      <th></th>\n",
       "      <th></th>\n",
       "      <th></th>\n",
       "    </tr>\n",
       "  </thead>\n",
       "  <tbody>\n",
       "    <tr>\n",
       "      <th>2023-07-07</th>\n",
       "      <td>541.000000</td>\n",
       "      <td>543.750000</td>\n",
       "      <td>535.000000</td>\n",
       "      <td>538.700012</td>\n",
       "      <td>166062</td>\n",
       "      <td>2023-07-07</td>\n",
       "    </tr>\n",
       "    <tr>\n",
       "      <th>2023-07-10</th>\n",
       "      <td>539.849976</td>\n",
       "      <td>549.950012</td>\n",
       "      <td>535.400024</td>\n",
       "      <td>546.349976</td>\n",
       "      <td>329748</td>\n",
       "      <td>2023-07-10</td>\n",
       "    </tr>\n",
       "    <tr>\n",
       "      <th>2023-07-11</th>\n",
       "      <td>550.000000</td>\n",
       "      <td>554.200012</td>\n",
       "      <td>542.849976</td>\n",
       "      <td>545.500000</td>\n",
       "      <td>522239</td>\n",
       "      <td>2023-07-11</td>\n",
       "    </tr>\n",
       "    <tr>\n",
       "      <th>2023-07-12</th>\n",
       "      <td>559.000000</td>\n",
       "      <td>623.000000</td>\n",
       "      <td>556.650024</td>\n",
       "      <td>583.200012</td>\n",
       "      <td>8440159</td>\n",
       "      <td>2023-07-12</td>\n",
       "    </tr>\n",
       "    <tr>\n",
       "      <th>2023-07-13</th>\n",
       "      <td>588.750000</td>\n",
       "      <td>591.700012</td>\n",
       "      <td>570.049988</td>\n",
       "      <td>572.000000</td>\n",
       "      <td>550124</td>\n",
       "      <td>2023-07-13</td>\n",
       "    </tr>\n",
       "  </tbody>\n",
       "</table>\n",
       "</div>"
      ],
      "text/plain": [
       "                  Open        High         Low       Close   Volume         ds\n",
       "Date                                                                          \n",
       "2023-07-07  541.000000  543.750000  535.000000  538.700012   166062 2023-07-07\n",
       "2023-07-10  539.849976  549.950012  535.400024  546.349976   329748 2023-07-10\n",
       "2023-07-11  550.000000  554.200012  542.849976  545.500000   522239 2023-07-11\n",
       "2023-07-12  559.000000  623.000000  556.650024  583.200012  8440159 2023-07-12\n",
       "2023-07-13  588.750000  591.700012  570.049988  572.000000   550124 2023-07-13"
      ]
     },
     "execution_count": 61,
     "metadata": {},
     "output_type": "execute_result"
    }
   ],
   "source": [
    "#get the data\n",
    "#data = pd.read_csv(\"../Daily Bike Sharing.csv\")\n",
    "#data.head(1)\n",
    "stock_name = \"ELGIEQUIP\"\n",
    "data = yfinance.download (tickers = \"{}.NS\".format(stock_name),start=\"2015-03-16\",\n",
    "                               interval = \"1d\", group_by = 'ticker', auto_adjust = True)\n",
    "\n",
    "data[\"ds\"] = data.index\n",
    "data.tail()"
   ]
  },
  {
   "cell_type": "code",
   "execution_count": 62,
   "metadata": {
    "colab": {
     "base_uri": "https://localhost:8080/",
     "height": 79
    },
    "executionInfo": {
     "elapsed": 550,
     "status": "ok",
     "timestamp": 1620457556727,
     "user": {
      "displayName": "Diogo Resende",
      "photoUrl": "https://lh3.googleusercontent.com/a-/AOh14GgH4DE06-yE1oiIzCiaAURCl1Escr4LXXiaSnbSaA=s64",
      "userId": "05706604408624562002"
     },
     "user_tz": -120
    },
    "id": "QPEJCVShvlyi",
    "outputId": "5c8da0df-3614-4d52-c4f2-f9a51306e040"
   },
   "outputs": [
    {
     "name": "stdout",
     "output_type": "stream",
     "text": [
      "Len: 2058\n"
     ]
    }
   ],
   "source": [
    "\n",
    "df = data.reset_index()\n",
    "print(\"Len:\",len(df))"
   ]
  },
  {
   "cell_type": "code",
   "execution_count": 63,
   "metadata": {},
   "outputs": [],
   "source": [
    "training_set = df.iloc[:1500, 1:2].values\n",
    "test_set = df.iloc[1500:, 1:2].values"
   ]
  },
  {
   "cell_type": "code",
   "execution_count": 64,
   "metadata": {},
   "outputs": [
    {
     "name": "stdout",
     "output_type": "stream",
     "text": [
      "Len of Trainset : 1500 Length of test set : 558 Col : [[ 70.14223036]\n",
      " [ 68.41435755]\n",
      " [ 67.52707985]\n",
      " ...\n",
      " [205.30219305]\n",
      " [188.03286182]\n",
      " [186.05356954]]\n"
     ]
    }
   ],
   "source": [
    "print(\"Len of Trainset :\",len(training_set),\"Length of test set :\",len(test_set),\"Col :\",training_set)"
   ]
  },
  {
   "cell_type": "code",
   "execution_count": 65,
   "metadata": {},
   "outputs": [],
   "source": [
    "from sklearn.preprocessing import MinMaxScaler\n",
    "sc = MinMaxScaler(feature_range=(0,1))\n",
    "training_set_scaled = sc.fit_transform(training_set)"
   ]
  },
  {
   "cell_type": "code",
   "execution_count": null,
   "metadata": {},
   "outputs": [],
   "source": []
  },
  {
   "cell_type": "code",
   "execution_count": null,
   "metadata": {},
   "outputs": [],
   "source": []
  },
  {
   "cell_type": "code",
   "execution_count": null,
   "metadata": {},
   "outputs": [],
   "source": []
  }
 ],
 "metadata": {
  "colab": {
   "authorship_tag": "ABX9TyPB+wsoeDK+Lff5FK8Mp1f8",
   "mount_file_id": "1Qs8FwjHlz06McUuYWNtA8LRu3vWZz6P4",
   "name": "Facebook Prophet Template.ipynb",
   "provenance": []
  },
  "kernelspec": {
   "display_name": "Python 3 (ipykernel)",
   "language": "python",
   "name": "python3"
  },
  "language_info": {
   "codemirror_mode": {
    "name": "ipython",
    "version": 3
   },
   "file_extension": ".py",
   "mimetype": "text/x-python",
   "name": "python",
   "nbconvert_exporter": "python",
   "pygments_lexer": "ipython3",
   "version": "3.9.16"
  }
 },
 "nbformat": 4,
 "nbformat_minor": 1
}
