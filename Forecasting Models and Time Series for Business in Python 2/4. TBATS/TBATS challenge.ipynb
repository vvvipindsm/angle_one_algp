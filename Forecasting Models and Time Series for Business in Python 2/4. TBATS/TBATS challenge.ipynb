{
 "cells": [
  {
   "cell_type": "markdown",
   "metadata": {
    "id": "dahDiHVjZiV8"
   },
   "source": [
    "#Libraries and data"
   ]
  },
  {
   "cell_type": "code",
   "execution_count": 1,
   "metadata": {
    "id": "dI0KyOfaYKDZ"
   },
   "outputs": [
    {
     "name": "stdout",
     "output_type": "stream",
     "text": [
      "Requirement already satisfied: tbats in /Users/vipin/anaconda3/lib/python3.10/site-packages (1.1.3)\n",
      "Requirement already satisfied: pmdarima in /Users/vipin/anaconda3/lib/python3.10/site-packages (from tbats) (2.0.3)\n",
      "Requirement already satisfied: scipy in /Users/vipin/anaconda3/lib/python3.10/site-packages (from tbats) (1.10.0)\n",
      "Requirement already satisfied: numpy in /Users/vipin/anaconda3/lib/python3.10/site-packages (from tbats) (1.23.5)\n",
      "Requirement already satisfied: scikit-learn in /Users/vipin/anaconda3/lib/python3.10/site-packages (from tbats) (1.2.1)\n",
      "Requirement already satisfied: urllib3 in /Users/vipin/anaconda3/lib/python3.10/site-packages (from pmdarima->tbats) (1.26.14)\n",
      "Requirement already satisfied: setuptools!=50.0.0,>=38.6.0 in /Users/vipin/anaconda3/lib/python3.10/site-packages (from pmdarima->tbats) (65.6.3)\n",
      "Requirement already satisfied: pandas>=0.19 in /Users/vipin/anaconda3/lib/python3.10/site-packages (from pmdarima->tbats) (1.5.3)\n",
      "Requirement already satisfied: statsmodels>=0.13.2 in /Users/vipin/anaconda3/lib/python3.10/site-packages (from pmdarima->tbats) (0.13.5)\n",
      "Requirement already satisfied: Cython!=0.29.18,!=0.29.31,>=0.29 in /Users/vipin/anaconda3/lib/python3.10/site-packages (from pmdarima->tbats) (0.29.35)\n",
      "Requirement already satisfied: joblib>=0.11 in /Users/vipin/anaconda3/lib/python3.10/site-packages (from pmdarima->tbats) (1.1.1)\n",
      "Requirement already satisfied: threadpoolctl>=2.0.0 in /Users/vipin/anaconda3/lib/python3.10/site-packages (from scikit-learn->tbats) (2.2.0)\n",
      "Requirement already satisfied: python-dateutil>=2.8.1 in /Users/vipin/anaconda3/lib/python3.10/site-packages (from pandas>=0.19->pmdarima->tbats) (2.8.2)\n",
      "Requirement already satisfied: pytz>=2020.1 in /Users/vipin/anaconda3/lib/python3.10/site-packages (from pandas>=0.19->pmdarima->tbats) (2022.7)\n",
      "Requirement already satisfied: packaging>=21.3 in /Users/vipin/anaconda3/lib/python3.10/site-packages (from statsmodels>=0.13.2->pmdarima->tbats) (22.0)\n",
      "Requirement already satisfied: patsy>=0.5.2 in /Users/vipin/anaconda3/lib/python3.10/site-packages (from statsmodels>=0.13.2->pmdarima->tbats) (0.5.3)\n",
      "Requirement already satisfied: six in /Users/vipin/anaconda3/lib/python3.10/site-packages (from patsy>=0.5.2->statsmodels>=0.13.2->pmdarima->tbats) (1.16.0)\n"
     ]
    }
   ],
   "source": [
    "!pip install tbats"
   ]
  },
  {
   "cell_type": "code",
   "execution_count": 2,
   "metadata": {
    "id": "NIVqOiSSZp6f"
   },
   "outputs": [],
   "source": [
    "import pandas as pd"
   ]
  },
  {
   "cell_type": "code",
   "execution_count": 3,
   "metadata": {
    "id": "snjZypn3aObm"
   },
   "outputs": [
    {
     "data": {
      "text/html": [
       "<div>\n",
       "<style scoped>\n",
       "    .dataframe tbody tr th:only-of-type {\n",
       "        vertical-align: middle;\n",
       "    }\n",
       "\n",
       "    .dataframe tbody tr th {\n",
       "        vertical-align: top;\n",
       "    }\n",
       "\n",
       "    .dataframe thead th {\n",
       "        text-align: right;\n",
       "    }\n",
       "</style>\n",
       "<table border=\"1\" class=\"dataframe\">\n",
       "  <thead>\n",
       "    <tr style=\"text-align: right;\">\n",
       "      <th></th>\n",
       "      <th>AveragePerDay</th>\n",
       "    </tr>\n",
       "    <tr>\n",
       "      <th>WeekBeginning</th>\n",
       "      <th></th>\n",
       "    </tr>\n",
       "  </thead>\n",
       "  <tbody>\n",
       "    <tr>\n",
       "      <th>3/1/2016</th>\n",
       "      <td>235</td>\n",
       "    </tr>\n",
       "    <tr>\n",
       "      <th>10/1/2016</th>\n",
       "      <td>231</td>\n",
       "    </tr>\n",
       "    <tr>\n",
       "      <th>17/01/2016</th>\n",
       "      <td>233</td>\n",
       "    </tr>\n",
       "    <tr>\n",
       "      <th>24/01/2016</th>\n",
       "      <td>224</td>\n",
       "    </tr>\n",
       "    <tr>\n",
       "      <th>31/01/2016</th>\n",
       "      <td>224</td>\n",
       "    </tr>\n",
       "  </tbody>\n",
       "</table>\n",
       "</div>"
      ],
      "text/plain": [
       "               AveragePerDay\n",
       "WeekBeginning               \n",
       "3/1/2016                 235\n",
       "10/1/2016                231\n",
       "17/01/2016               233\n",
       "24/01/2016               224\n",
       "31/01/2016               224"
      ]
     },
     "execution_count": 3,
     "metadata": {},
     "output_type": "execute_result"
    }
   ],
   "source": [
    "df = pd.read_csv(\"./daily-footfall.csv\", \n",
    "                 index_col=\"WeekBeginning\")\n",
    "df.head()"
   ]
  },
  {
   "cell_type": "code",
   "execution_count": 4,
   "metadata": {
    "id": "HJXXdcjliknx"
   },
   "outputs": [
    {
     "data": {
      "text/plain": [
       "DatetimeIndex(['2016-01-03', '2016-01-10', '2016-01-17', '2016-01-24',\n",
       "               '2016-01-31', '2016-02-07', '2016-02-14', '2016-02-21',\n",
       "               '2016-02-28', '2016-03-06',\n",
       "               ...\n",
       "               '2017-10-22', '2017-10-29', '2017-11-05', '2017-11-12',\n",
       "               '2017-11-19', '2017-11-26', '2017-12-03', '2017-12-10',\n",
       "               '2017-12-17', '2017-12-24'],\n",
       "              dtype='datetime64[ns]', name='WeekBeginning', length=103, freq=None)"
      ]
     },
     "execution_count": 4,
     "metadata": {},
     "output_type": "execute_result"
    }
   ],
   "source": [
    "df.index = pd.to_datetime(df.index, \n",
    "                          format = \"%d/%m/%Y\")\n",
    "df.index"
   ]
  },
  {
   "cell_type": "code",
   "execution_count": 5,
   "metadata": {
    "id": "R5pVmo_scbHz"
   },
   "outputs": [
    {
     "data": {
      "text/plain": [
       "DatetimeIndex(['2016-01-03', '2016-01-10', '2016-01-17', '2016-01-24',\n",
       "               '2016-01-31', '2016-02-07', '2016-02-14', '2016-02-21',\n",
       "               '2016-02-28', '2016-03-06',\n",
       "               ...\n",
       "               '2017-10-22', '2017-10-29', '2017-11-05', '2017-11-12',\n",
       "               '2017-11-19', '2017-11-26', '2017-12-03', '2017-12-10',\n",
       "               '2017-12-17', '2017-12-24'],\n",
       "              dtype='datetime64[ns]', name='WeekBeginning', length=104, freq='W-SUN')"
      ]
     },
     "execution_count": 5,
     "metadata": {},
     "output_type": "execute_result"
    }
   ],
   "source": [
    "df = df.asfreq(\"W-SUN\")\n",
    "df.index"
   ]
  },
  {
   "cell_type": "markdown",
   "metadata": {
    "id": "YReYfhkDdKA6"
   },
   "source": [
    "#Visualization"
   ]
  },
  {
   "cell_type": "code",
   "execution_count": 6,
   "metadata": {
    "id": "au09vm9laWvl"
   },
   "outputs": [
    {
     "data": {
      "text/plain": [
       "<Axes: xlabel='WeekBeginning'>"
      ]
     },
     "execution_count": 6,
     "metadata": {},
     "output_type": "execute_result"
    },
    {
     "data": {
      "image/png": "[encoded data removed]",
      "text/plain": [
       "<Figure size 1200x800 with 1 Axes>"
      ]
     },
     "metadata": {},
     "output_type": "display_data"
    }
   ],
   "source": [
    "#Visualization\n",
    "df.plot(figsize = (12,8))"
   ]
  },
  {
   "cell_type": "code",
   "execution_count": 7,
   "metadata": {
    "id": "QjJYcmoIlcXG"
   },
   "outputs": [],
   "source": [
    "df = df.fillna(method='ffill')"
   ]
  },
  {
   "cell_type": "code",
   "execution_count": 8,
   "metadata": {
    "id": "of06atnKjfol"
   },
   "outputs": [
    {
     "data": {
      "text/html": [
       "<div>\n",
       "<style scoped>\n",
       "    .dataframe tbody tr th:only-of-type {\n",
       "        vertical-align: middle;\n",
       "    }\n",
       "\n",
       "    .dataframe tbody tr th {\n",
       "        vertical-align: top;\n",
       "    }\n",
       "\n",
       "    .dataframe thead th {\n",
       "        text-align: right;\n",
       "    }\n",
       "</style>\n",
       "<table border=\"1\" class=\"dataframe\">\n",
       "  <thead>\n",
       "    <tr style=\"text-align: right;\">\n",
       "      <th></th>\n",
       "      <th>AveragePerDay</th>\n",
       "    </tr>\n",
       "    <tr>\n",
       "      <th>WeekBeginning</th>\n",
       "      <th></th>\n",
       "    </tr>\n",
       "  </thead>\n",
       "  <tbody>\n",
       "    <tr>\n",
       "      <th>2016-01-03</th>\n",
       "      <td>235.0</td>\n",
       "    </tr>\n",
       "    <tr>\n",
       "      <th>2016-01-10</th>\n",
       "      <td>231.0</td>\n",
       "    </tr>\n",
       "    <tr>\n",
       "      <th>2016-01-17</th>\n",
       "      <td>233.0</td>\n",
       "    </tr>\n",
       "    <tr>\n",
       "      <th>2016-01-24</th>\n",
       "      <td>224.0</td>\n",
       "    </tr>\n",
       "    <tr>\n",
       "      <th>2016-01-31</th>\n",
       "      <td>224.0</td>\n",
       "    </tr>\n",
       "  </tbody>\n",
       "</table>\n",
       "</div>"
      ],
      "text/plain": [
       "               AveragePerDay\n",
       "WeekBeginning               \n",
       "2016-01-03             235.0\n",
       "2016-01-10             231.0\n",
       "2016-01-17             233.0\n",
       "2016-01-24             224.0\n",
       "2016-01-31             224.0"
      ]
     },
     "execution_count": 8,
     "metadata": {},
     "output_type": "execute_result"
    }
   ],
   "source": [
    "#training and test set\n",
    "test_days = 5\n",
    "training_set = df.iloc[:-test_days,:]\n",
    "test_set = df.iloc[-test_days:,:]\n",
    "training_set.head()"
   ]
  },
  {
   "cell_type": "code",
   "execution_count": 9,
   "metadata": {
    "id": "MsO_rhwEj5zt"
   },
   "outputs": [
    {
     "ename": "ModuleNotFoundError",
     "evalue": "No module named 'tbats'",
     "output_type": "error",
     "traceback": [
      "\u001b[0;31m---------------------------------------------------------------------------\u001b[0m",
      "\u001b[0;31mModuleNotFoundError\u001b[0m                       Traceback (most recent call last)",
      "Cell \u001b[0;32mIn[9], line 2\u001b[0m\n\u001b[1;32m      1\u001b[0m \u001b[38;5;66;03m#TBATS\u001b[39;00m\n\u001b[0;32m----> 2\u001b[0m \u001b[38;5;28;01mfrom\u001b[39;00m \u001b[38;5;21;01mtbats\u001b[39;00m \u001b[38;5;28;01mimport\u001b[39;00m TBATS\n\u001b[1;32m      3\u001b[0m model \u001b[38;5;241m=\u001b[39m TBATS(\n\u001b[1;32m      4\u001b[0m     seasonal_periods\u001b[38;5;241m=\u001b[39m[\u001b[38;5;241m52\u001b[39m])\u001b[38;5;241m.\u001b[39mfit(\n\u001b[1;32m      5\u001b[0m     training_set\u001b[38;5;241m.\u001b[39mAveragePerDay)\n",
      "\u001b[0;31mModuleNotFoundError\u001b[0m: No module named 'tbats'"
     ]
    }
   ],
   "source": [
    "#TBATS\n",
    "from tbats import TBATS\n",
    "model = TBATS(\n",
    "    seasonal_periods=[52]).fit(\n",
    "    training_set.AveragePerDay)"
   ]
  },
  {
   "cell_type": "code",
   "execution_count": null,
   "metadata": {
    "id": "riIReH-UkCvz"
   },
   "outputs": [],
   "source": [
    "#predictions\n",
    "predictions_tbats = pd.Series(\n",
    "    model.forecast(len(test_set))).rename(\"TBATS\")\n",
    "predictions_tbats.index = test_set.index\n",
    "predictions_tbats.head()"
   ]
  },
  {
   "cell_type": "code",
   "execution_count": null,
   "metadata": {
    "id": "43Dzo8xnlw1R"
   },
   "outputs": [],
   "source": [
    "#plotting\n",
    "training_set.AveragePerDay.plot(figsize=(12,8), \n",
    "                                legend = True)\n",
    "test_set.AveragePerDay.plot(legend = True)\n",
    "predictions_tbats.plot(legend = True)"
   ]
  },
  {
   "cell_type": "code",
   "execution_count": null,
   "metadata": {
    "id": "fcaXS9W_mTZq"
   },
   "outputs": [],
   "source": [
    "#accuracy assessment\n",
    "from sklearn.metrics import mean_squared_error\n",
    "import numpy as np\n",
    "np.sqrt(mean_squared_error(test_set['y'], \n",
    "                           predictions_tbats))"
   ]
  }
 ],
 "metadata": {
  "colab": {
   "authorship_tag": "ABX9TyPStxXo6B79GufwzJIbL8se",
   "mount_file_id": "1p42FZL8SjgenpD7QlCiqxwQM0M8en8-o",
   "name": "TBATS challenge.ipynb",
   "provenance": []
  },
  "kernelspec": {
   "display_name": "Python 3 (ipykernel)",
   "language": "python",
   "name": "python3"
  },
  "language_info": {
   "codemirror_mode": {
    "name": "ipython",
    "version": 3
   },
   "file_extension": ".py",
   "mimetype": "text/x-python",
   "name": "python",
   "nbconvert_exporter": "python",
   "pygments_lexer": "ipython3",
   "version": "3.9.16"
  }
 },
 "nbformat": 4,
 "nbformat_minor": 1
}
