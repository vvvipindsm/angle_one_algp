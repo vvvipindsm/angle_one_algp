{
 "cells": [
  {
   "cell_type": "markdown",
   "metadata": {
    "id": "KziJ91gPrZO3"
   },
   "source": [
    "# Import libraries and data\n"
   ]
  },
  {
   "cell_type": "code",
   "execution_count": 1,
   "metadata": {
    "colab": {
     "base_uri": "https://localhost:8080/"
    },
    "executionInfo": {
     "elapsed": 3519,
     "status": "ok",
     "timestamp": 1619759949430,
     "user": {
      "displayName": "Diogo Resende",
      "photoUrl": "https://lh3.googleusercontent.com/a-/AOh14GgH4DE06-yE1oiIzCiaAURCl1Escr4LXXiaSnbSaA=s64",
      "userId": "05706604408624562002"
     },
     "user_tz": -120
    },
    "id": "DkDaPkHaNEcj",
    "outputId": "6691f4b8-3c2c-4ff7-ba6f-cb28862709d0"
   },
   "outputs": [
    {
     "name": "stdout",
     "output_type": "stream",
     "text": [
      "Collecting pmdarima\n",
      "  Downloading pmdarima-2.0.3-cp39-cp39-macosx_10_9_x86_64.whl (608 kB)\n",
      "\u001b[2K     \u001b[90m━━━━━━━━━━━━━━━━━━━━━━━━━━━━━━━━━━━━━\u001b[0m \u001b[32m608.4/608.4 kB\u001b[0m \u001b[31m697.7 kB/s\u001b[0m eta \u001b[36m0:00:00\u001b[0m00:01\u001b[0m00:01\u001b[0m\n",
      "\u001b[?25hRequirement already satisfied: joblib>=0.11 in /Users/vipin/opt/anaconda3/envs/my_own/lib/python3.9/site-packages (from pmdarima) (1.2.0)\n",
      "Requirement already satisfied: Cython!=0.29.18,!=0.29.31,>=0.29 in /Users/vipin/opt/anaconda3/envs/my_own/lib/python3.9/site-packages (from pmdarima) (0.29.35)\n",
      "Requirement already satisfied: numpy>=1.21.2 in /Users/vipin/opt/anaconda3/envs/my_own/lib/python3.9/site-packages (from pmdarima) (1.24.3)\n",
      "Requirement already satisfied: pandas>=0.19 in /Users/vipin/opt/anaconda3/envs/my_own/lib/python3.9/site-packages (from pmdarima) (2.0.2)\n",
      "Requirement already satisfied: scikit-learn>=0.22 in /Users/vipin/opt/anaconda3/envs/my_own/lib/python3.9/site-packages (from pmdarima) (1.3.0)\n",
      "Requirement already satisfied: scipy>=1.3.2 in /Users/vipin/opt/anaconda3/envs/my_own/lib/python3.9/site-packages (from pmdarima) (1.10.1)\n",
      "Requirement already satisfied: statsmodels>=0.13.2 in /Users/vipin/opt/anaconda3/envs/my_own/lib/python3.9/site-packages (from pmdarima) (0.14.0)\n",
      "Requirement already satisfied: urllib3 in /Users/vipin/opt/anaconda3/envs/my_own/lib/python3.9/site-packages (from pmdarima) (1.26.16)\n",
      "Requirement already satisfied: setuptools!=50.0.0,>=38.6.0 in /Users/vipin/opt/anaconda3/envs/my_own/lib/python3.9/site-packages (from pmdarima) (67.8.0)\n",
      "Requirement already satisfied: python-dateutil>=2.8.2 in /Users/vipin/opt/anaconda3/envs/my_own/lib/python3.9/site-packages (from pandas>=0.19->pmdarima) (2.8.2)\n",
      "Requirement already satisfied: pytz>=2020.1 in /Users/vipin/opt/anaconda3/envs/my_own/lib/python3.9/site-packages (from pandas>=0.19->pmdarima) (2022.7)\n",
      "Requirement already satisfied: tzdata>=2022.1 in /Users/vipin/opt/anaconda3/envs/my_own/lib/python3.9/site-packages (from pandas>=0.19->pmdarima) (2023.3)\n",
      "Requirement already satisfied: threadpoolctl>=2.0.0 in /Users/vipin/opt/anaconda3/envs/my_own/lib/python3.9/site-packages (from scikit-learn>=0.22->pmdarima) (3.1.0)\n",
      "Requirement already satisfied: patsy>=0.5.2 in /Users/vipin/opt/anaconda3/envs/my_own/lib/python3.9/site-packages (from statsmodels>=0.13.2->pmdarima) (0.5.3)\n",
      "Requirement already satisfied: packaging>=21.3 in /Users/vipin/opt/anaconda3/envs/my_own/lib/python3.9/site-packages (from statsmodels>=0.13.2->pmdarima) (23.0)\n",
      "Requirement already satisfied: six in /Users/vipin/opt/anaconda3/envs/my_own/lib/python3.9/site-packages (from patsy>=0.5.2->statsmodels>=0.13.2->pmdarima) (1.16.0)\n",
      "Installing collected packages: pmdarima\n",
      "Successfully installed pmdarima-2.0.3\n"
     ]
    }
   ],
   "source": [
    "!pip install pmdarima"
   ]
  },
  {
   "cell_type": "code",
   "execution_count": 2,
   "metadata": {
    "colab": {
     "base_uri": "https://localhost:8080/"
    },
    "executionInfo": {
     "elapsed": 3501,
     "status": "ok",
     "timestamp": 1619759949432,
     "user": {
      "displayName": "Diogo Resende",
      "photoUrl": "https://lh3.googleusercontent.com/a-/AOh14GgH4DE06-yE1oiIzCiaAURCl1Escr4LXXiaSnbSaA=s64",
      "userId": "05706604408624562002"
     },
     "user_tz": -120
    },
    "id": "ZUi3LzkirGZH",
    "outputId": "0e0dd04d-c485-4368-879c-100ce873d5a0"
   },
   "outputs": [
    {
     "name": "stdout",
     "output_type": "stream",
     "text": [
      "/content/drive/MyDrive/Forecasting Models and Time Series for Business in Python\n"
     ]
    }
   ],
   "source": [
    "%cd /content/drive/MyDrive/Forecasting Models and Time Series for Business in Python"
   ]
  },
  {
   "cell_type": "code",
   "execution_count": 3,
   "metadata": {
    "executionInfo": {
     "elapsed": 3491,
     "status": "ok",
     "timestamp": 1619759949433,
     "user": {
      "displayName": "Diogo Resende",
      "photoUrl": "https://lh3.googleusercontent.com/a-/AOh14GgH4DE06-yE1oiIzCiaAURCl1Escr4LXXiaSnbSaA=s64",
      "userId": "05706604408624562002"
     },
     "user_tz": -120
    },
    "id": "nJQoK7c4r3SR"
   },
   "outputs": [],
   "source": [
    "#import libraries\n",
    "import pandas as pd\n",
    "import numpy as np\n",
    "import yfinance\n"
   ]
  },
  {
   "cell_type": "code",
   "execution_count": 42,
   "metadata": {
    "colab": {
     "base_uri": "https://localhost:8080/",
     "height": 0
    },
    "executionInfo": {
     "elapsed": 3479,
     "status": "ok",
     "timestamp": 1619759949436,
     "user": {
      "displayName": "Diogo Resende",
      "photoUrl": "https://lh3.googleusercontent.com/a-/AOh14GgH4DE06-yE1oiIzCiaAURCl1Escr4LXXiaSnbSaA=s64",
      "userId": "05706604408624562002"
     },
     "user_tz": -120
    },
    "id": "kYo4C4W5sbSv",
    "outputId": "b22dc67a-2103-42ea-b1e5-00cb6f3b9ea3"
   },
   "outputs": [
    {
     "name": "stdout",
     "output_type": "stream",
     "text": [
      "[*********************100%***********************]  1 of 1 completed\n"
     ]
    },
    {
     "data": {
      "text/html": [
       "<div>\n",
       "<style scoped>\n",
       "    .dataframe tbody tr th:only-of-type {\n",
       "        vertical-align: middle;\n",
       "    }\n",
       "\n",
       "    .dataframe tbody tr th {\n",
       "        vertical-align: top;\n",
       "    }\n",
       "\n",
       "    .dataframe thead th {\n",
       "        text-align: right;\n",
       "    }\n",
       "</style>\n",
       "<table border=\"1\" class=\"dataframe\">\n",
       "  <thead>\n",
       "    <tr style=\"text-align: right;\">\n",
       "      <th></th>\n",
       "      <th>Open</th>\n",
       "      <th>High</th>\n",
       "      <th>Low</th>\n",
       "      <th>Close</th>\n",
       "      <th>Volume</th>\n",
       "    </tr>\n",
       "    <tr>\n",
       "      <th>Date</th>\n",
       "      <th></th>\n",
       "      <th></th>\n",
       "      <th></th>\n",
       "      <th></th>\n",
       "      <th></th>\n",
       "    </tr>\n",
       "  </thead>\n",
       "  <tbody>\n",
       "    <tr>\n",
       "      <th>2023-07-10</th>\n",
       "      <td>101.000000</td>\n",
       "      <td>101.449997</td>\n",
       "      <td>97.099998</td>\n",
       "      <td>97.400002</td>\n",
       "      <td>24042759</td>\n",
       "    </tr>\n",
       "    <tr>\n",
       "      <th>2023-07-11</th>\n",
       "      <td>97.800003</td>\n",
       "      <td>98.900002</td>\n",
       "      <td>96.900002</td>\n",
       "      <td>98.099998</td>\n",
       "      <td>17508261</td>\n",
       "    </tr>\n",
       "    <tr>\n",
       "      <th>2023-07-12</th>\n",
       "      <td>98.250000</td>\n",
       "      <td>99.349998</td>\n",
       "      <td>97.699997</td>\n",
       "      <td>97.900002</td>\n",
       "      <td>14979586</td>\n",
       "    </tr>\n",
       "    <tr>\n",
       "      <th>2023-07-13</th>\n",
       "      <td>98.400002</td>\n",
       "      <td>98.699997</td>\n",
       "      <td>96.000000</td>\n",
       "      <td>96.199997</td>\n",
       "      <td>11491737</td>\n",
       "    </tr>\n",
       "    <tr>\n",
       "      <th>2023-07-14</th>\n",
       "      <td>96.500000</td>\n",
       "      <td>97.650002</td>\n",
       "      <td>95.800003</td>\n",
       "      <td>96.449997</td>\n",
       "      <td>18942597</td>\n",
       "    </tr>\n",
       "  </tbody>\n",
       "</table>\n",
       "</div>"
      ],
      "text/plain": [
       "                  Open        High        Low      Close    Volume\n",
       "Date                                                              \n",
       "2023-07-10  101.000000  101.449997  97.099998  97.400002  24042759\n",
       "2023-07-11   97.800003   98.900002  96.900002  98.099998  17508261\n",
       "2023-07-12   98.250000   99.349998  97.699997  97.900002  14979586\n",
       "2023-07-13   98.400002   98.699997  96.000000  96.199997  11491737\n",
       "2023-07-14   96.500000   97.650002  95.800003  96.449997  18942597"
      ]
     },
     "execution_count": 42,
     "metadata": {},
     "output_type": "execute_result"
    }
   ],
   "source": [
    "#get the data\n",
    "#data = pd.read_csv(\"Daily Bike Sharing.csv\", \n",
    "  #                 index_col = \"dteday\", \n",
    "               \n",
    " #                  parse_dates = True)\n",
    "#data.head(1)\n",
    "\n",
    "#load the data\n",
    "\n",
    "data = yfinance.download (tickers = \"IOC.NS\",start=\"2010-03-06\",\n",
    "                               interval = \"1d\", group_by = 'ticker', auto_adjust = True)\n",
    "\n",
    "data.tail()"
   ]
  },
  {
   "cell_type": "code",
   "execution_count": 43,
   "metadata": {},
   "outputs": [],
   "source": [
    "data[\"Date\"] = data.index"
   ]
  },
  {
   "cell_type": "markdown",
   "metadata": {
    "id": "IK3ssLEvw9iy"
   },
   "source": [
    "#Data Transformation"
   ]
  },
  {
   "cell_type": "code",
   "execution_count": 44,
   "metadata": {
    "colab": {
     "base_uri": "https://localhost:8080/",
     "height": 0
    },
    "executionInfo": {
     "elapsed": 1536,
     "status": "ok",
     "timestamp": 1619759949439,
     "user": {
      "displayName": "Diogo Resende",
      "photoUrl": "https://lh3.googleusercontent.com/a-/AOh14GgH4DE06-yE1oiIzCiaAURCl1Escr4LXXiaSnbSaA=s64",
      "userId": "05706604408624562002"
     },
     "user_tz": -120
    },
    "id": "95mCg5Eyw8Ym",
    "outputId": "1b1e6bec-1e09-4a5b-ef1d-00ae50bcbd63"
   },
   "outputs": [
    {
     "data": {
      "text/html": [
       "<div>\n",
       "<style scoped>\n",
       "    .dataframe tbody tr th:only-of-type {\n",
       "        vertical-align: middle;\n",
       "    }\n",
       "\n",
       "    .dataframe tbody tr th {\n",
       "        vertical-align: top;\n",
       "    }\n",
       "\n",
       "    .dataframe thead th {\n",
       "        text-align: right;\n",
       "    }\n",
       "</style>\n",
       "<table border=\"1\" class=\"dataframe\">\n",
       "  <thead>\n",
       "    <tr style=\"text-align: right;\">\n",
       "      <th></th>\n",
       "      <th>Open</th>\n",
       "      <th>High</th>\n",
       "      <th>Low</th>\n",
       "      <th>y</th>\n",
       "      <th>Volume</th>\n",
       "      <th>Date</th>\n",
       "    </tr>\n",
       "    <tr>\n",
       "      <th>Date</th>\n",
       "      <th></th>\n",
       "      <th></th>\n",
       "      <th></th>\n",
       "      <th></th>\n",
       "      <th></th>\n",
       "      <th></th>\n",
       "    </tr>\n",
       "  </thead>\n",
       "  <tbody>\n",
       "    <tr>\n",
       "      <th>2010-03-08</th>\n",
       "      <td>27.545255</td>\n",
       "      <td>27.607465</td>\n",
       "      <td>27.203105</td>\n",
       "      <td>27.340855</td>\n",
       "      <td>3420936</td>\n",
       "      <td>2010-03-08</td>\n",
       "    </tr>\n",
       "  </tbody>\n",
       "</table>\n",
       "</div>"
      ],
      "text/plain": [
       "                 Open       High        Low          y   Volume       Date\n",
       "Date                                                                      \n",
       "2010-03-08  27.545255  27.607465  27.203105  27.340855  3420936 2010-03-08"
      ]
     },
     "execution_count": 44,
     "metadata": {},
     "output_type": "execute_result"
    }
   ],
   "source": [
    "#renaming variable\n",
    "data = data.rename(columns = {'Close' : 'y'})\n",
    "data.head(1)"
   ]
  },
  {
   "cell_type": "code",
   "execution_count": 45,
   "metadata": {
    "colab": {
     "base_uri": "https://localhost:8080/"
    },
    "executionInfo": {
     "elapsed": 1524,
     "status": "ok",
     "timestamp": 1619759949442,
     "user": {
      "displayName": "Diogo Resende",
      "photoUrl": "https://lh3.googleusercontent.com/a-/AOh14GgH4DE06-yE1oiIzCiaAURCl1Escr4LXXiaSnbSaA=s64",
      "userId": "05706604408624562002"
     },
     "user_tz": -120
    },
    "id": "XvtrxMiCx1xB",
    "outputId": "81575ac1-d85b-43c6-cabc-33bb51bd4a8e"
   },
   "outputs": [
    {
     "data": {
      "text/plain": [
       "DatetimeIndex(['2010-03-08', '2010-03-09', '2010-03-10', '2010-03-11',\n",
       "               '2010-03-12', '2010-03-15', '2010-03-16', '2010-03-17',\n",
       "               '2010-03-18', '2010-03-19',\n",
       "               ...\n",
       "               '2023-07-03', '2023-07-04', '2023-07-05', '2023-07-06',\n",
       "               '2023-07-07', '2023-07-10', '2023-07-11', '2023-07-12',\n",
       "               '2023-07-13', '2023-07-14'],\n",
       "              dtype='datetime64[ns]', name='Date', length=3485, freq='B')"
      ]
     },
     "execution_count": 45,
     "metadata": {},
     "output_type": "execute_result"
    }
   ],
   "source": [
    "#index\n",
    "data = data.asfreq(\"B\")\n",
    "data.index"
   ]
  },
  {
   "cell_type": "markdown",
   "metadata": {
    "id": "UOFXXpN0zJzG"
   },
   "source": [
    "#Visualization"
   ]
  },
  {
   "cell_type": "code",
   "execution_count": 46,
   "metadata": {
    "colab": {
     "base_uri": "https://localhost:8080/",
     "height": 0
    },
    "executionInfo": {
     "elapsed": 1398,
     "status": "ok",
     "timestamp": 1619759951614,
     "user": {
      "displayName": "Diogo Resende",
      "photoUrl": "https://lh3.googleusercontent.com/a-/AOh14GgH4DE06-yE1oiIzCiaAURCl1Escr4LXXiaSnbSaA=s64",
      "userId": "05706604408624562002"
     },
     "user_tz": -120
    },
    "id": "daOe0kTjzMPY",
    "outputId": "8c79be35-767b-436b-dbf8-2f3bc0955af2"
   },
   "outputs": [
    {
     "data": {
      "text/plain": [
       "<Axes: xlabel='Date'>"
      ]
     },
     "execution_count": 46,
     "metadata": {},
     "output_type": "execute_result"
    },
    {
     "data": {
      "image/png": "[encoded data removed]",
      "text/plain": [
       "<Figure size 1000x700 with 1 Axes>"
      ]
     },
     "metadata": {},
     "output_type": "display_data"
    }
   ],
   "source": [
    "#viz\n",
    "data[\"y\"].plot(figsize = (10, 7), legend = True)"
   ]
  },
  {
   "cell_type": "code",
   "execution_count": 47,
   "metadata": {},
   "outputs": [],
   "source": [
    "data = data.dropna()"
   ]
  },
  {
   "cell_type": "markdown",
   "metadata": {
    "id": "1cOd-V7cPb1T"
   },
   "source": [
    "#Stationarity"
   ]
  },
  {
   "cell_type": "code",
   "execution_count": 48,
   "metadata": {
    "colab": {
     "base_uri": "https://localhost:8080/"
    },
    "executionInfo": {
     "elapsed": 994,
     "status": "ok",
     "timestamp": 1619759953172,
     "user": {
      "displayName": "Diogo Resende",
      "photoUrl": "https://lh3.googleusercontent.com/a-/AOh14GgH4DE06-yE1oiIzCiaAURCl1Escr4LXXiaSnbSaA=s64",
      "userId": "05706604408624562002"
     },
     "user_tz": -120
    },
    "id": "IZ4TNgLXPeS_",
    "outputId": "93314c08-f067-46de-f22b-3a6cf350f8ae"
   },
   "outputs": [
    {
     "name": "stdout",
     "output_type": "stream",
     "text": [
      "Augmented Dickey Fuller p-value: 0.790022\n"
     ]
    }
   ],
   "source": [
    "#Stationarity\n",
    "from statsmodels.tsa.stattools import adfuller\n",
    "stationarity = adfuller(data['y'])\n",
    "print('Augmented Dickey Fuller p-value: %F' % stationarity[1])"
   ]
  },
  {
   "cell_type": "markdown",
   "metadata": {
    "id": "yc4bHuUuEX_u"
   },
   "source": [
    "#Training and Test Set"
   ]
  },
  {
   "cell_type": "code",
   "execution_count": 49,
   "metadata": {
    "colab": {
     "base_uri": "https://localhost:8080/",
     "height": 110
    },
    "executionInfo": {
     "elapsed": 634,
     "status": "ok",
     "timestamp": 1619759955449,
     "user": {
      "displayName": "Diogo Resende",
      "photoUrl": "https://lh3.googleusercontent.com/a-/AOh14GgH4DE06-yE1oiIzCiaAURCl1Escr4LXXiaSnbSaA=s64",
      "userId": "05706604408624562002"
     },
     "user_tz": -120
    },
    "id": "f4CyGbspEaYF",
    "outputId": "3cc31479-46c1-4f2f-e3de-b520a8bdb2d1"
   },
   "outputs": [
    {
     "data": {
      "text/html": [
       "<div>\n",
       "<style scoped>\n",
       "    .dataframe tbody tr th:only-of-type {\n",
       "        vertical-align: middle;\n",
       "    }\n",
       "\n",
       "    .dataframe tbody tr th {\n",
       "        vertical-align: top;\n",
       "    }\n",
       "\n",
       "    .dataframe thead th {\n",
       "        text-align: right;\n",
       "    }\n",
       "</style>\n",
       "<table border=\"1\" class=\"dataframe\">\n",
       "  <thead>\n",
       "    <tr style=\"text-align: right;\">\n",
       "      <th></th>\n",
       "      <th>Open</th>\n",
       "      <th>High</th>\n",
       "      <th>Low</th>\n",
       "      <th>y</th>\n",
       "      <th>Volume</th>\n",
       "      <th>Date</th>\n",
       "    </tr>\n",
       "    <tr>\n",
       "      <th>Date</th>\n",
       "      <th></th>\n",
       "      <th></th>\n",
       "      <th></th>\n",
       "      <th></th>\n",
       "      <th></th>\n",
       "      <th></th>\n",
       "    </tr>\n",
       "  </thead>\n",
       "  <tbody>\n",
       "    <tr>\n",
       "      <th>2023-07-14</th>\n",
       "      <td>96.5</td>\n",
       "      <td>97.650002</td>\n",
       "      <td>95.800003</td>\n",
       "      <td>96.449997</td>\n",
       "      <td>18942597.0</td>\n",
       "      <td>2023-07-14</td>\n",
       "    </tr>\n",
       "  </tbody>\n",
       "</table>\n",
       "</div>"
      ],
      "text/plain": [
       "            Open       High        Low          y      Volume       Date\n",
       "Date                                                                    \n",
       "2023-07-14  96.5  97.650002  95.800003  96.449997  18942597.0 2023-07-14"
      ]
     },
     "execution_count": 49,
     "metadata": {},
     "output_type": "execute_result"
    }
   ],
   "source": [
    "#Training and test set\n",
    "test_days = 760\n",
    "training_set = data.iloc[:-test_days, :]\n",
    "test_set = data.iloc[-test_days:, :]\n",
    "test_set.tail(1)"
   ]
  },
  {
   "cell_type": "markdown",
   "metadata": {
    "id": "g3q5LU6OMgRM"
   },
   "source": [
    "#Forecasting Model"
   ]
  },
  {
   "cell_type": "code",
   "execution_count": 50,
   "metadata": {
    "colab": {
     "base_uri": "https://localhost:8080/",
     "height": 234
    },
    "executionInfo": {
     "elapsed": 534,
     "status": "ok",
     "timestamp": 1619760229448,
     "user": {
      "displayName": "Diogo Resende",
      "photoUrl": "https://lh3.googleusercontent.com/a-/AOh14GgH4DE06-yE1oiIzCiaAURCl1Escr4LXXiaSnbSaA=s64",
      "userId": "05706604408624562002"
     },
     "user_tz": -120
    },
    "id": "rLlQVbLJHMbX",
    "outputId": "c716c2d1-ab2d-4019-8031-86564ce18f56"
   },
   "outputs": [
    {
     "data": {
      "text/html": [
       "<div>\n",
       "<style scoped>\n",
       "    .dataframe tbody tr th:only-of-type {\n",
       "        vertical-align: middle;\n",
       "    }\n",
       "\n",
       "    .dataframe tbody tr th {\n",
       "        vertical-align: top;\n",
       "    }\n",
       "\n",
       "    .dataframe thead th {\n",
       "        text-align: right;\n",
       "    }\n",
       "</style>\n",
       "<table border=\"1\" class=\"dataframe\">\n",
       "  <thead>\n",
       "    <tr style=\"text-align: right;\">\n",
       "      <th></th>\n",
       "      <th>High</th>\n",
       "      <th>Low</th>\n",
       "      <th>y</th>\n",
       "      <th>Volume</th>\n",
       "      <th>Date</th>\n",
       "    </tr>\n",
       "    <tr>\n",
       "      <th>Date</th>\n",
       "      <th></th>\n",
       "      <th></th>\n",
       "      <th></th>\n",
       "      <th></th>\n",
       "      <th></th>\n",
       "    </tr>\n",
       "  </thead>\n",
       "  <tbody>\n",
       "    <tr>\n",
       "      <th>2020-06-25</th>\n",
       "      <td>46.968016</td>\n",
       "      <td>45.155402</td>\n",
       "      <td>45.341995</td>\n",
       "      <td>38596161.0</td>\n",
       "      <td>2020-06-25</td>\n",
       "    </tr>\n",
       "    <tr>\n",
       "      <th>2020-06-26</th>\n",
       "      <td>47.954291</td>\n",
       "      <td>45.715178</td>\n",
       "      <td>47.527794</td>\n",
       "      <td>69744400.0</td>\n",
       "      <td>2020-06-26</td>\n",
       "    </tr>\n",
       "    <tr>\n",
       "      <th>2020-06-29</th>\n",
       "      <td>48.354138</td>\n",
       "      <td>46.115024</td>\n",
       "      <td>46.434898</td>\n",
       "      <td>32176755.0</td>\n",
       "      <td>2020-06-29</td>\n",
       "    </tr>\n",
       "    <tr>\n",
       "      <th>2020-06-30</th>\n",
       "      <td>47.154610</td>\n",
       "      <td>45.182060</td>\n",
       "      <td>45.501934</td>\n",
       "      <td>24516958.0</td>\n",
       "      <td>2020-06-30</td>\n",
       "    </tr>\n",
       "    <tr>\n",
       "      <th>2020-07-01</th>\n",
       "      <td>45.928432</td>\n",
       "      <td>44.942157</td>\n",
       "      <td>45.661869</td>\n",
       "      <td>21495316.0</td>\n",
       "      <td>2020-07-01</td>\n",
       "    </tr>\n",
       "  </tbody>\n",
       "</table>\n",
       "</div>"
      ],
      "text/plain": [
       "                 High        Low          y      Volume       Date\n",
       "Date                                                              \n",
       "2020-06-25  46.968016  45.155402  45.341995  38596161.0 2020-06-25\n",
       "2020-06-26  47.954291  45.715178  47.527794  69744400.0 2020-06-26\n",
       "2020-06-29  48.354138  46.115024  46.434898  32176755.0 2020-06-29\n",
       "2020-06-30  47.154610  45.182060  45.501934  24516958.0 2020-06-30\n",
       "2020-07-01  45.928432  44.942157  45.661869  21495316.0 2020-07-01"
      ]
     },
     "execution_count": 50,
     "metadata": {},
     "output_type": "execute_result"
    }
   ],
   "source": [
    "#exogenous variables\n",
    "train_exog = training_set.iloc[:,1:]\n",
    "test_exog = test_set.iloc[:,1:]\n",
    "test_exog.head()"
   ]
  },
  {
   "cell_type": "code",
   "execution_count": 51,
   "metadata": {},
   "outputs": [],
   "source": [
    "test_exog = test_exog.drop(\"Date\",axis=1)\n",
    "train_exog = train_exog.drop(\"Date\",axis=1)"
   ]
  },
  {
   "cell_type": "code",
   "execution_count": 61,
   "metadata": {},
   "outputs": [],
   "source": [
    "test_exog = test_exog.drop([\"y\",\"Low\",\"High\"],axis=1)\n",
    "train_exog = train_exog.drop([\"y\",\"Low\",\"High\"],axis=1)"
   ]
  },
  {
   "cell_type": "code",
   "execution_count": 67,
   "metadata": {},
   "outputs": [],
   "source": [
    "return_train  = training_set['y'].pct_change()"
   ]
  },
  {
   "cell_type": "code",
   "execution_count": 69,
   "metadata": {},
   "outputs": [],
   "source": [
    "return_train = return_train.dropna()"
   ]
  },
  {
   "cell_type": "code",
   "execution_count": 70,
   "metadata": {
    "executionInfo": {
     "elapsed": 650,
     "status": "ok",
     "timestamp": 1619760031480,
     "user": {
      "displayName": "Diogo Resende",
      "photoUrl": "https://lh3.googleusercontent.com/a-/AOh14GgH4DE06-yE1oiIzCiaAURCl1Escr4LXXiaSnbSaA=s64",
      "userId": "05706604408624562002"
     },
     "user_tz": -120
    },
    "id": "VE2R918XMksb"
   },
   "outputs": [],
   "source": [
    "#Libraries\n",
    "from pmdarima import auto_arima"
   ]
  },
  {
   "cell_type": "code",
   "execution_count": 62,
   "metadata": {
    "executionInfo": {
     "elapsed": 286834,
     "status": "ok",
     "timestamp": 1619760563493,
     "user": {
      "displayName": "Diogo Resende",
      "photoUrl": "https://lh3.googleusercontent.com/a-/AOh14GgH4DE06-yE1oiIzCiaAURCl1Escr4LXXiaSnbSaA=s64",
      "userId": "05706604408624562002"
     },
     "user_tz": -120
    },
    "id": "uxiFggF0PCbr"
   },
   "outputs": [
    {
     "name": "stderr",
     "output_type": "stream",
     "text": [
      "/Users/vipin/opt/anaconda3/envs/my_own/lib/python3.9/site-packages/statsmodels/tsa/statespace/sarimax.py:1899: RuntimeWarning: divide by zero encountered in reciprocal\n",
      "  return np.roots(self.polynomial_reduced_ar)**-1\n",
      "/Users/vipin/opt/anaconda3/envs/my_own/lib/python3.9/site-packages/statsmodels/tsa/statespace/sarimax.py:1906: RuntimeWarning: divide by zero encountered in reciprocal\n",
      "  return np.roots(self.polynomial_reduced_ma)**-1\n"
     ]
    }
   ],
   "source": [
    "#forecasting model\n",
    "model = auto_arima(y = return_train,\n",
    "                   X = train_exog,\n",
    "                   m = 7,\n",
    "                   seasonal = True,\n",
    "                   stepwise = False)"
   ]
  },
  {
   "cell_type": "code",
   "execution_count": 63,
   "metadata": {
    "colab": {
     "base_uri": "https://localhost:8080/",
     "height": 588
    },
    "executionInfo": {
     "elapsed": 798,
     "status": "ok",
     "timestamp": 1619760689512,
     "user": {
      "displayName": "Diogo Resende",
      "photoUrl": "https://lh3.googleusercontent.com/a-/AOh14GgH4DE06-yE1oiIzCiaAURCl1Escr4LXXiaSnbSaA=s64",
      "userId": "05706604408624562002"
     },
     "user_tz": -120
    },
    "id": "05pcsFIZQn7-",
    "outputId": "e8ff8abf-605a-4551-fa84-7b7ba5bc7e44"
   },
   "outputs": [
    {
     "data": {
      "text/html": [
       "<table class=\"simpletable\">\n",
       "<caption>SARIMAX Results</caption>\n",
       "<tr>\n",
       "  <th>Dep. Variable:</th>           <td>y</td>        <th>  No. Observations:  </th>   <td>2537</td>   \n",
       "</tr>\n",
       "<tr>\n",
       "  <th>Model:</th>           <td>SARIMAX(0, 1, 2)</td> <th>  Log Likelihood     </th> <td>-3711.078</td>\n",
       "</tr>\n",
       "<tr>\n",
       "  <th>Date:</th>            <td>Fri, 14 Jul 2023</td> <th>  AIC                </th> <td>7432.156</td> \n",
       "</tr>\n",
       "<tr>\n",
       "  <th>Time:</th>                <td>17:16:01</td>     <th>  BIC                </th> <td>7461.348</td> \n",
       "</tr>\n",
       "<tr>\n",
       "  <th>Sample:</th>                  <td>0</td>        <th>  HQIC               </th> <td>7442.747</td> \n",
       "</tr>\n",
       "<tr>\n",
       "  <th></th>                      <td> - 2537</td>     <th>                     </th>     <td> </td>    \n",
       "</tr>\n",
       "<tr>\n",
       "  <th>Covariance Type:</th>        <td>opg</td>       <th>                     </th>     <td> </td>    \n",
       "</tr>\n",
       "</table>\n",
       "<table class=\"simpletable\">\n",
       "<tr>\n",
       "      <td></td>         <th>coef</th>     <th>std err</th>      <th>z</th>      <th>P>|z|</th>  <th>[0.025</th>    <th>0.975]</th>  \n",
       "</tr>\n",
       "<tr>\n",
       "  <th>intercept</th> <td>    0.0081</td> <td>    0.020</td> <td>    0.395</td> <td> 0.693</td> <td>   -0.032</td> <td>    0.048</td>\n",
       "</tr>\n",
       "<tr>\n",
       "  <th>Volume</th>    <td> 7.408e-09</td> <td> 8.48e-10</td> <td>    8.734</td> <td> 0.000</td> <td> 5.75e-09</td> <td> 9.07e-09</td>\n",
       "</tr>\n",
       "<tr>\n",
       "  <th>ma.L1</th>     <td>    0.0205</td> <td>    0.010</td> <td>    2.048</td> <td> 0.041</td> <td>    0.001</td> <td>    0.040</td>\n",
       "</tr>\n",
       "<tr>\n",
       "  <th>ma.L2</th>     <td>   -0.0739</td> <td>    0.014</td> <td>   -5.233</td> <td> 0.000</td> <td>   -0.102</td> <td>   -0.046</td>\n",
       "</tr>\n",
       "<tr>\n",
       "  <th>sigma2</th>    <td>    1.0961</td> <td>    0.015</td> <td>   72.361</td> <td> 0.000</td> <td>    1.066</td> <td>    1.126</td>\n",
       "</tr>\n",
       "</table>\n",
       "<table class=\"simpletable\">\n",
       "<tr>\n",
       "  <th>Ljung-Box (L1) (Q):</th>     <td>0.00</td> <th>  Jarque-Bera (JB):  </th> <td>11498.32</td>\n",
       "</tr>\n",
       "<tr>\n",
       "  <th>Prob(Q):</th>                <td>1.00</td> <th>  Prob(JB):          </th>   <td>0.00</td>  \n",
       "</tr>\n",
       "<tr>\n",
       "  <th>Heteroskedasticity (H):</th> <td>8.39</td> <th>  Skew:              </th>   <td>-0.65</td> \n",
       "</tr>\n",
       "<tr>\n",
       "  <th>Prob(H) (two-sided):</th>    <td>0.00</td> <th>  Kurtosis:          </th>   <td>13.35</td> \n",
       "</tr>\n",
       "</table><br/><br/>Warnings:<br/>[1] Covariance matrix calculated using the outer product of gradients (complex-step).<br/>[2] Covariance matrix is singular or near-singular, with condition number 9.17e+14. Standard errors may be unstable."
      ],
      "text/latex": [
       "\\begin{center}\n",
       "\\begin{tabular}{lclc}\n",
       "\\toprule\n",
       "\\textbf{Dep. Variable:}          &        y         & \\textbf{  No. Observations:  } &    2537     \\\\\n",
       "\\textbf{Model:}                  & SARIMAX(0, 1, 2) & \\textbf{  Log Likelihood     } & -3711.078   \\\\\n",
       "\\textbf{Date:}                   & Fri, 14 Jul 2023 & \\textbf{  AIC                } &  7432.156   \\\\\n",
       "\\textbf{Time:}                   &     17:16:01     & \\textbf{  BIC                } &  7461.348   \\\\\n",
       "\\textbf{Sample:}                 &        0         & \\textbf{  HQIC               } &  7442.747   \\\\\n",
       "\\textbf{}                        &      - 2537      & \\textbf{                     } &             \\\\\n",
       "\\textbf{Covariance Type:}        &       opg        & \\textbf{                     } &             \\\\\n",
       "\\bottomrule\n",
       "\\end{tabular}\n",
       "\\begin{tabular}{lcccccc}\n",
       "                   & \\textbf{coef} & \\textbf{std err} & \\textbf{z} & \\textbf{P$> |$z$|$} & \\textbf{[0.025} & \\textbf{0.975]}  \\\\\n",
       "\\midrule\n",
       "\\textbf{intercept} &       0.0081  &        0.020     &     0.395  &         0.693        &       -0.032    &        0.048     \\\\\n",
       "\\textbf{Volume}    &    7.408e-09  &     8.48e-10     &     8.734  &         0.000        &     5.75e-09    &     9.07e-09     \\\\\n",
       "\\textbf{ma.L1}     &       0.0205  &        0.010     &     2.048  &         0.041        &        0.001    &        0.040     \\\\\n",
       "\\textbf{ma.L2}     &      -0.0739  &        0.014     &    -5.233  &         0.000        &       -0.102    &       -0.046     \\\\\n",
       "\\textbf{sigma2}    &       1.0961  &        0.015     &    72.361  &         0.000        &        1.066    &        1.126     \\\\\n",
       "\\bottomrule\n",
       "\\end{tabular}\n",
       "\\begin{tabular}{lclc}\n",
       "\\textbf{Ljung-Box (L1) (Q):}     & 0.00 & \\textbf{  Jarque-Bera (JB):  } & 11498.32  \\\\\n",
       "\\textbf{Prob(Q):}                & 1.00 & \\textbf{  Prob(JB):          } &   0.00    \\\\\n",
       "\\textbf{Heteroskedasticity (H):} & 8.39 & \\textbf{  Skew:              } &  -0.65    \\\\\n",
       "\\textbf{Prob(H) (two-sided):}    & 0.00 & \\textbf{  Kurtosis:          } &  13.35    \\\\\n",
       "\\bottomrule\n",
       "\\end{tabular}\n",
       "%\\caption{SARIMAX Results}\n",
       "\\end{center}\n",
       "\n",
       "Warnings: \\newline\n",
       " [1] Covariance matrix calculated using the outer product of gradients (complex-step). \\newline\n",
       " [2] Covariance matrix is singular or near-singular, with condition number 9.17e+14. Standard errors may be unstable."
      ],
      "text/plain": [
       "<class 'statsmodels.iolib.summary.Summary'>\n",
       "\"\"\"\n",
       "                               SARIMAX Results                                \n",
       "==============================================================================\n",
       "Dep. Variable:                      y   No. Observations:                 2537\n",
       "Model:               SARIMAX(0, 1, 2)   Log Likelihood               -3711.078\n",
       "Date:                Fri, 14 Jul 2023   AIC                           7432.156\n",
       "Time:                        17:16:01   BIC                           7461.348\n",
       "Sample:                             0   HQIC                          7442.747\n",
       "                               - 2537                                         \n",
       "Covariance Type:                  opg                                         \n",
       "==============================================================================\n",
       "                 coef    std err          z      P>|z|      [0.025      0.975]\n",
       "------------------------------------------------------------------------------\n",
       "intercept      0.0081      0.020      0.395      0.693      -0.032       0.048\n",
       "Volume      7.408e-09   8.48e-10      8.734      0.000    5.75e-09    9.07e-09\n",
       "ma.L1          0.0205      0.010      2.048      0.041       0.001       0.040\n",
       "ma.L2         -0.0739      0.014     -5.233      0.000      -0.102      -0.046\n",
       "sigma2         1.0961      0.015     72.361      0.000       1.066       1.126\n",
       "===================================================================================\n",
       "Ljung-Box (L1) (Q):                   0.00   Jarque-Bera (JB):             11498.32\n",
       "Prob(Q):                              1.00   Prob(JB):                         0.00\n",
       "Heteroskedasticity (H):               8.39   Skew:                            -0.65\n",
       "Prob(H) (two-sided):                  0.00   Kurtosis:                        13.35\n",
       "===================================================================================\n",
       "\n",
       "Warnings:\n",
       "[1] Covariance matrix calculated using the outer product of gradients (complex-step).\n",
       "[2] Covariance matrix is singular or near-singular, with condition number 9.17e+14. Standard errors may be unstable.\n",
       "\"\"\""
      ]
     },
     "execution_count": 63,
     "metadata": {},
     "output_type": "execute_result"
    }
   ],
   "source": [
    "#summary\n",
    "model.summary()"
   ]
  },
  {
   "cell_type": "code",
   "execution_count": 64,
   "metadata": {},
   "outputs": [
    {
     "data": {
      "text/html": [
       "<div>\n",
       "<style scoped>\n",
       "    .dataframe tbody tr th:only-of-type {\n",
       "        vertical-align: middle;\n",
       "    }\n",
       "\n",
       "    .dataframe tbody tr th {\n",
       "        vertical-align: top;\n",
       "    }\n",
       "\n",
       "    .dataframe thead th {\n",
       "        text-align: right;\n",
       "    }\n",
       "</style>\n",
       "<table border=\"1\" class=\"dataframe\">\n",
       "  <thead>\n",
       "    <tr style=\"text-align: right;\">\n",
       "      <th></th>\n",
       "      <th>Volume</th>\n",
       "    </tr>\n",
       "    <tr>\n",
       "      <th>Date</th>\n",
       "      <th></th>\n",
       "    </tr>\n",
       "  </thead>\n",
       "  <tbody>\n",
       "    <tr>\n",
       "      <th>2020-06-25</th>\n",
       "      <td>38596161.0</td>\n",
       "    </tr>\n",
       "    <tr>\n",
       "      <th>2020-06-26</th>\n",
       "      <td>69744400.0</td>\n",
       "    </tr>\n",
       "    <tr>\n",
       "      <th>2020-06-29</th>\n",
       "      <td>32176755.0</td>\n",
       "    </tr>\n",
       "    <tr>\n",
       "      <th>2020-06-30</th>\n",
       "      <td>24516958.0</td>\n",
       "    </tr>\n",
       "    <tr>\n",
       "      <th>2020-07-01</th>\n",
       "      <td>21495316.0</td>\n",
       "    </tr>\n",
       "    <tr>\n",
       "      <th>...</th>\n",
       "      <td>...</td>\n",
       "    </tr>\n",
       "    <tr>\n",
       "      <th>2023-07-10</th>\n",
       "      <td>24042759.0</td>\n",
       "    </tr>\n",
       "    <tr>\n",
       "      <th>2023-07-11</th>\n",
       "      <td>17508261.0</td>\n",
       "    </tr>\n",
       "    <tr>\n",
       "      <th>2023-07-12</th>\n",
       "      <td>14979586.0</td>\n",
       "    </tr>\n",
       "    <tr>\n",
       "      <th>2023-07-13</th>\n",
       "      <td>11491737.0</td>\n",
       "    </tr>\n",
       "    <tr>\n",
       "      <th>2023-07-14</th>\n",
       "      <td>18942597.0</td>\n",
       "    </tr>\n",
       "  </tbody>\n",
       "</table>\n",
       "<p>760 rows × 1 columns</p>\n",
       "</div>"
      ],
      "text/plain": [
       "                Volume\n",
       "Date                  \n",
       "2020-06-25  38596161.0\n",
       "2020-06-26  69744400.0\n",
       "2020-06-29  32176755.0\n",
       "2020-06-30  24516958.0\n",
       "2020-07-01  21495316.0\n",
       "...                ...\n",
       "2023-07-10  24042759.0\n",
       "2023-07-11  17508261.0\n",
       "2023-07-12  14979586.0\n",
       "2023-07-13  11491737.0\n",
       "2023-07-14  18942597.0\n",
       "\n",
       "[760 rows x 1 columns]"
      ]
     },
     "execution_count": 64,
     "metadata": {},
     "output_type": "execute_result"
    }
   ],
   "source": [
    "test_exog"
   ]
  },
  {
   "cell_type": "code",
   "execution_count": 65,
   "metadata": {
    "colab": {
     "base_uri": "https://localhost:8080/"
    },
    "executionInfo": {
     "elapsed": 550,
     "status": "ok",
     "timestamp": 1619760894056,
     "user": {
      "displayName": "Diogo Resende",
      "photoUrl": "https://lh3.googleusercontent.com/a-/AOh14GgH4DE06-yE1oiIzCiaAURCl1Escr4LXXiaSnbSaA=s64",
      "userId": "05706604408624562002"
     },
     "user_tz": -120
    },
    "id": "6tKDYKmSNbfi",
    "outputId": "1ed0eef5-4bf4-4976-d3d3-74372d92e736"
   },
   "outputs": [
    {
     "name": "stderr",
     "output_type": "stream",
     "text": [
      "/Users/vipin/opt/anaconda3/envs/my_own/lib/python3.9/site-packages/statsmodels/tsa/base/tsa_model.py:836: ValueWarning: No supported index is available. Prediction results will be given with an integer index beginning at `start`.\n",
      "  return get_prediction_index(\n",
      "/Users/vipin/opt/anaconda3/envs/my_own/lib/python3.9/site-packages/statsmodels/tsa/base/tsa_model.py:836: FutureWarning: No supported index is available. In the next version, calling this method in a model without a supported index will result in an exception.\n",
      "  return get_prediction_index(\n"
     ]
    },
    {
     "data": {
      "text/plain": [
       "Date\n",
       "2020-06-25    46.335632\n",
       "2020-06-26    46.654767\n",
       "2020-06-29    46.384529\n",
       "2020-06-30    46.335840\n",
       "2020-07-01    46.321510\n",
       "                ...    \n",
       "2023-07-10    52.388659\n",
       "2023-07-11    52.348307\n",
       "2023-07-12    52.337629\n",
       "2023-07-13    52.319845\n",
       "2023-07-14    52.383093\n",
       "Name: SARIMAX, Length: 760, dtype: float64"
      ]
     },
     "execution_count": 65,
     "metadata": {},
     "output_type": "execute_result"
    }
   ],
   "source": [
    "#predictions\n",
    "predictions_sarimax = pd.Series(model.predict(n_periods= test_days,\n",
    "                              X = test_exog)).rename(\"SARIMAX\")\n",
    "predictions_sarimax.index = test_set.index                              \n",
    "predictions_sarimax"
   ]
  },
  {
   "cell_type": "code",
   "execution_count": 66,
   "metadata": {
    "colab": {
     "base_uri": "https://localhost:8080/",
     "height": 417
    },
    "executionInfo": {
     "elapsed": 1148,
     "status": "ok",
     "timestamp": 1619760979982,
     "user": {
      "displayName": "Diogo Resende",
      "photoUrl": "https://lh3.googleusercontent.com/a-/AOh14GgH4DE06-yE1oiIzCiaAURCl1Escr4LXXiaSnbSaA=s64",
      "userId": "05706604408624562002"
     },
     "user_tz": -120
    },
    "id": "HraC5uGSOs0f",
    "outputId": "da41c5d8-3544-4179-f215-b9c7a6159e64"
   },
   "outputs": [
    {
     "data": {
      "text/plain": [
       "<Axes: xlabel='Date'>"
      ]
     },
     "execution_count": 66,
     "metadata": {},
     "output_type": "execute_result"
    },
    {
     "data": {
      "image/png": "[encoded data removed]",
      "text/plain": [
       "<Figure size 900x600 with 1 Axes>"
      ]
     },
     "metadata": {},
     "output_type": "display_data"
    }
   ],
   "source": [
    "#visualization\n",
    "training_set['y']['2012-07-01':].plot(figsize = (9,6), legend = True)\n",
    "test_set['y'].plot(legend = True)\n",
    "predictions_sarimax.plot(legend = True)"
   ]
  },
  {
   "cell_type": "markdown",
   "metadata": {
    "id": "iKFJVffn9_Ei"
   },
   "source": [
    "#Model assessment"
   ]
  },
  {
   "cell_type": "code",
   "execution_count": 36,
   "metadata": {
    "colab": {
     "base_uri": "https://localhost:8080/"
    },
    "executionInfo": {
     "elapsed": 638,
     "status": "ok",
     "timestamp": 1619761018203,
     "user": {
      "displayName": "Diogo Resende",
      "photoUrl": "https://lh3.googleusercontent.com/a-/AOh14GgH4DE06-yE1oiIzCiaAURCl1Escr4LXXiaSnbSaA=s64",
      "userId": "05706604408624562002"
     },
     "user_tz": -120
    },
    "id": "j7t9ftji-HCZ",
    "outputId": "19b7049c-139c-416c-8351-28b0da25c12c"
   },
   "outputs": [
    {
     "name": "stdout",
     "output_type": "stream",
     "text": [
      "0.0\n",
      "0.0\n"
     ]
    }
   ],
   "source": [
    "#MAE and RMSE\n",
    "from sklearn.metrics import mean_squared_error, mean_absolute_error\n",
    "print(round(mean_absolute_error(test_set['y'], predictions_sarimax),0))\n",
    "print(round(np.sqrt(mean_squared_error(test_set['y'], predictions_sarimax)), 0))"
   ]
  },
  {
   "cell_type": "code",
   "execution_count": 37,
   "metadata": {
    "colab": {
     "base_uri": "https://localhost:8080/"
    },
    "executionInfo": {
     "elapsed": 632,
     "status": "ok",
     "timestamp": 1619761033802,
     "user": {
      "displayName": "Diogo Resende",
      "photoUrl": "https://lh3.googleusercontent.com/a-/AOh14GgH4DE06-yE1oiIzCiaAURCl1Escr4LXXiaSnbSaA=s64",
      "userId": "05706604408624562002"
     },
     "user_tz": -120
    },
    "id": "qBiDRfr0AZH_",
    "outputId": "96dfcaf3-296d-4852-a4a9-7fd1b2eebb88"
   },
   "outputs": [
    {
     "data": {
      "text/plain": [
       "5.597056091334673e-10"
      ]
     },
     "execution_count": 37,
     "metadata": {},
     "output_type": "execute_result"
    }
   ],
   "source": [
    "#MAPE function\n",
    "def MAPE(y_true, y_pred):\n",
    "  y_true, y_pred = np.array(y_true), np.array(y_pred)\n",
    "  return np.mean(np.abs((y_true - y_pred) / y_true)) * 100\n",
    "MAPE(test_set['y'], predictions_sarimax)"
   ]
  },
  {
   "cell_type": "markdown",
   "metadata": {
    "id": "xM4rHhXmBzY5"
   },
   "source": [
    "#export forecasts"
   ]
  },
  {
   "cell_type": "code",
   "execution_count": 22,
   "metadata": {
    "colab": {
     "base_uri": "https://localhost:8080/"
    },
    "executionInfo": {
     "elapsed": 764,
     "status": "ok",
     "timestamp": 1619761124305,
     "user": {
      "displayName": "Diogo Resende",
      "photoUrl": "https://lh3.googleusercontent.com/a-/AOh14GgH4DE06-yE1oiIzCiaAURCl1Escr4LXXiaSnbSaA=s64",
      "userId": "05706604408624562002"
     },
     "user_tz": -120
    },
    "id": "h2-rQ5UpB1po",
    "outputId": "d283c76d-86c9-4359-8b69-39a89ef09f4a"
   },
   "outputs": [
    {
     "name": "stdout",
     "output_type": "stream",
     "text": [
      "/content/drive/MyDrive/Forecasting Models and Time Series for Business in Python/0. Ensemble\n"
     ]
    }
   ],
   "source": [
    "%cd /content/drive/MyDrive/Forecasting Models and Time Series for Business in Python/0. Ensemble"
   ]
  },
  {
   "cell_type": "code",
   "execution_count": 23,
   "metadata": {
    "executionInfo": {
     "elapsed": 679,
     "status": "ok",
     "timestamp": 1619761140713,
     "user": {
      "displayName": "Diogo Resende",
      "photoUrl": "https://lh3.googleusercontent.com/a-/AOh14GgH4DE06-yE1oiIzCiaAURCl1Escr4LXXiaSnbSaA=s64",
      "userId": "05706604408624562002"
     },
     "user_tz": -120
    },
    "id": "sI_C2NcfB-pV"
   },
   "outputs": [],
   "source": [
    "predictions_sarimax.to_csv('predictions_sarimax.csv', index = True)"
   ]
  }
 ],
 "metadata": {
  "colab": {
   "authorship_tag": "ABX9TyNQMlppkffPv/KiCCzHYsd5",
   "mount_file_id": "1ZiPLFaQ5dfiVDx27-OKhj6bpBfgtem_w",
   "name": "SARIMAX Template.ipynb",
   "provenance": []
  },
  "kernelspec": {
   "display_name": "Python 3 (ipykernel)",
   "language": "python",
   "name": "python3"
  },
  "language_info": {
   "codemirror_mode": {
    "name": "ipython",
    "version": 3
   },
   "file_extension": ".py",
   "mimetype": "text/x-python",
   "name": "python",
   "nbconvert_exporter": "python",
   "pygments_lexer": "ipython3",
   "version": "3.9.16"
  }
 },
 "nbformat": 4,
 "nbformat_minor": 1
}
