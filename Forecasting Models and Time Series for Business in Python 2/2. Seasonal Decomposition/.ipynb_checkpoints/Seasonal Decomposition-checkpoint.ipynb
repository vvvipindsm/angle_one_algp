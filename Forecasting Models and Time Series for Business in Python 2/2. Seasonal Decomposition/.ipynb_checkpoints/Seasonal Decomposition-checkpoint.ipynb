{
 "cells": [
  {
   "cell_type": "markdown",
   "metadata": {
    "id": "KziJ91gPrZO3"
   },
   "source": [
    "# Import libraries and data\n"
   ]
  },
  {
   "cell_type": "code",
   "execution_count": null,
   "metadata": {
    "id": "ZUi3LzkirGZH"
   },
   "outputs": [],
   "source": [
    "%cd /content/drive/MyDrive/Forecasting Models and Time Series for Business in Python"
   ]
  },
  {
   "cell_type": "code",
   "execution_count": 2,
   "metadata": {
    "executionInfo": {
     "elapsed": 578,
     "status": "ok",
     "timestamp": 1619443413299,
     "user": {
      "displayName": "Diogo Resende",
      "photoUrl": "https://lh3.googleusercontent.com/a-/AOh14GgH4DE06-yE1oiIzCiaAURCl1Escr4LXXiaSnbSaA=s64",
      "userId": "05706604408624562002"
     },
     "user_tz": -120
    },
    "id": "nJQoK7c4r3SR"
   },
   "outputs": [],
   "source": [
    "#import libraries\n",
    "import pandas as pd\n",
    "import numpy as np"
   ]
  },
  {
   "cell_type": "code",
   "execution_count": null,
   "metadata": {
    "id": "kYo4C4W5sbSv"
   },
   "outputs": [],
   "source": [
    "#get the data\n",
    "data = pd.read_csv(\"Daily Bike Sharing.csv\", \n",
    "                   index_col = \"dteday\", \n",
    "                   parse_dates = True)\n",
    "data.head(1)"
   ]
  },
  {
   "cell_type": "code",
   "execution_count": null,
   "metadata": {
    "id": "QPEJCVShvlyi"
   },
   "outputs": [],
   "source": [
    "#select variables\n",
    "dataset = data.loc[:, [\"cnt\", \"holiday\", \"workingday\", \"weathersit\",\n",
    "                       \"temp\", \"atemp\", \"hum\", \"windspeed\"]]\n",
    "dataset.head(1)                       "
   ]
  },
  {
   "cell_type": "markdown",
   "metadata": {
    "id": "IK3ssLEvw9iy"
   },
   "source": [
    "#Data Transformation"
   ]
  },
  {
   "cell_type": "code",
   "execution_count": null,
   "metadata": {
    "id": "95mCg5Eyw8Ym"
   },
   "outputs": [],
   "source": [
    "#renaming variable\n",
    "dataset = dataset.rename(columns = {'cnt' : 'y'})\n",
    "dataset.head(1)"
   ]
  },
  {
   "cell_type": "code",
   "execution_count": null,
   "metadata": {
    "id": "XvtrxMiCx1xB"
   },
   "outputs": [],
   "source": [
    "#index\n",
    "dataset = dataset.asfreq(\"D\")\n",
    "dataset.index"
   ]
  },
  {
   "cell_type": "markdown",
   "metadata": {
    "id": "UOFXXpN0zJzG"
   },
   "source": [
    "#Visualization"
   ]
  },
  {
   "cell_type": "code",
   "execution_count": null,
   "metadata": {
    "id": "daOe0kTjzMPY"
   },
   "outputs": [],
   "source": [
    "#viz\n",
    "dataset[\"y\"].plot(figsize = (10, 7), legend = True)"
   ]
  },
  {
   "cell_type": "markdown",
   "metadata": {
    "id": "1u9qbt3qWcIa"
   },
   "source": [
    "#Seasonal Decomposition"
   ]
  },
  {
   "cell_type": "code",
   "execution_count": 11,
   "metadata": {
    "executionInfo": {
     "elapsed": 1274,
     "status": "ok",
     "timestamp": 1619443589692,
     "user": {
      "displayName": "Diogo Resende",
      "photoUrl": "https://lh3.googleusercontent.com/a-/AOh14GgH4DE06-yE1oiIzCiaAURCl1Escr4LXXiaSnbSaA=s64",
      "userId": "05706604408624562002"
     },
     "user_tz": -120
    },
    "id": "PLV_Tvm3Wezm"
   },
   "outputs": [],
   "source": [
    "#Decomposition\n",
    "from statsmodels.tsa.seasonal import seasonal_decompose\n",
    "decomposition = seasonal_decompose(dataset['y'], \n",
    "                                   model = 'multiplicative', \n",
    "                                   freq = 365)\n",
    "decomposition.plot();"
   ]
  },
  {
   "cell_type": "code",
   "execution_count": null,
   "metadata": {
    "id": "_L3Elfz6W-8Q"
   },
   "outputs": [],
   "source": [
    "#seasonality graphs\n",
    "from statsmodels.graphics.tsaplots import month_plot, quarter_plot\n",
    "month_plot(dataset['y'].resample(rule = 'MS').mean())\n",
    "quarter_plot(dataset['y'].resample(rule = 'Q').mean());"
   ]
  }
 ],
 "metadata": {
  "colab": {
   "authorship_tag": "ABX9TyMHQTZMllzhgqvM03QqKhtY",
   "collapsed_sections": [],
   "mount_file_id": "19lZxGorBdS7Ty5atWmJgP_dqU01GKKCB",
   "name": "Seasonal Decomposition.ipynb",
   "provenance": []
  },
  "kernelspec": {
   "display_name": "Python 3 (ipykernel)",
   "language": "python",
   "name": "python3"
  },
  "language_info": {
   "codemirror_mode": {
    "name": "ipython",
    "version": 3
   },
   "file_extension": ".py",
   "mimetype": "text/x-python",
   "name": "python",
   "nbconvert_exporter": "python",
   "pygments_lexer": "ipython3",
   "version": "3.9.16"
  }
 },
 "nbformat": 4,
 "nbformat_minor": 1
}
