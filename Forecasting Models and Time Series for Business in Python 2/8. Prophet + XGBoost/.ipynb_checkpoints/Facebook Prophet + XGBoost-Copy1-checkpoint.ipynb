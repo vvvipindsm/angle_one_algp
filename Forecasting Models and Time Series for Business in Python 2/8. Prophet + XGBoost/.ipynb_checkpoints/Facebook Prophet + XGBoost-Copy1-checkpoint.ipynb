{
 "cells": [
  {
   "cell_type": "markdown",
   "metadata": {
    "id": "QZK36hW6M7cl"
   },
   "source": [
    "#Libraries and Data"
   ]
  },
  {
   "cell_type": "code",
   "execution_count": 74,
   "metadata": {
    "executionInfo": {
     "elapsed": 2554,
     "status": "ok",
     "timestamp": 1621008666318,
     "user": {
      "displayName": "Diogo Resende",
      "photoUrl": "https://lh3.googleusercontent.com/a-/AOh14GgH4DE06-yE1oiIzCiaAURCl1Escr4LXXiaSnbSaA=s64",
      "userId": "05706604408624562002"
     },
     "user_tz": -120
    },
    "id": "xBzm1qtYNE6M"
   },
   "outputs": [],
   "source": [
    "#import libraries\n",
    "import numpy as np\n",
    "import pandas as pd\n",
    "import itertools\n",
    "from prophet import Prophet\n",
    "import yfinance\n",
    "import pickle\n",
    "from ta import add_all_ta_features\n"
   ]
  },
  {
   "cell_type": "code",
   "execution_count": 79,
   "metadata": {},
   "outputs": [
    {
     "name": "stdout",
     "output_type": "stream",
     "text": [
      "[*********************100%***********************]  1 of 1 completed\n"
     ]
    },
    {
     "data": {
      "text/html": [
       "<div>\n",
       "<style scoped>\n",
       "    .dataframe tbody tr th:only-of-type {\n",
       "        vertical-align: middle;\n",
       "    }\n",
       "\n",
       "    .dataframe tbody tr th {\n",
       "        vertical-align: top;\n",
       "    }\n",
       "\n",
       "    .dataframe thead th {\n",
       "        text-align: right;\n",
       "    }\n",
       "</style>\n",
       "<table border=\"1\" class=\"dataframe\">\n",
       "  <thead>\n",
       "    <tr style=\"text-align: right;\">\n",
       "      <th></th>\n",
       "      <th>Open</th>\n",
       "      <th>High</th>\n",
       "      <th>Low</th>\n",
       "      <th>Close</th>\n",
       "      <th>Volume</th>\n",
       "    </tr>\n",
       "    <tr>\n",
       "      <th>Date</th>\n",
       "      <th></th>\n",
       "      <th></th>\n",
       "      <th></th>\n",
       "      <th></th>\n",
       "      <th></th>\n",
       "    </tr>\n",
       "  </thead>\n",
       "  <tbody>\n",
       "    <tr>\n",
       "      <th>2023-07-07</th>\n",
       "      <td>229.800003</td>\n",
       "      <td>232.350006</td>\n",
       "      <td>226.100006</td>\n",
       "      <td>228.000000</td>\n",
       "      <td>16592198</td>\n",
       "    </tr>\n",
       "    <tr>\n",
       "      <th>2023-07-10</th>\n",
       "      <td>229.250000</td>\n",
       "      <td>229.250000</td>\n",
       "      <td>224.649994</td>\n",
       "      <td>225.000000</td>\n",
       "      <td>7143637</td>\n",
       "    </tr>\n",
       "    <tr>\n",
       "      <th>2023-07-11</th>\n",
       "      <td>226.000000</td>\n",
       "      <td>226.850006</td>\n",
       "      <td>224.699997</td>\n",
       "      <td>225.500000</td>\n",
       "      <td>5156417</td>\n",
       "    </tr>\n",
       "    <tr>\n",
       "      <th>2023-07-12</th>\n",
       "      <td>226.250000</td>\n",
       "      <td>227.250000</td>\n",
       "      <td>225.199997</td>\n",
       "      <td>226.300003</td>\n",
       "      <td>7366992</td>\n",
       "    </tr>\n",
       "    <tr>\n",
       "      <th>2023-07-13</th>\n",
       "      <td>227.000000</td>\n",
       "      <td>227.199997</td>\n",
       "      <td>220.899994</td>\n",
       "      <td>222.149994</td>\n",
       "      <td>9362010</td>\n",
       "    </tr>\n",
       "  </tbody>\n",
       "</table>\n",
       "</div>"
      ],
      "text/plain": [
       "                  Open        High         Low       Close    Volume\n",
       "Date                                                                \n",
       "2023-07-07  229.800003  232.350006  226.100006  228.000000  16592198\n",
       "2023-07-10  229.250000  229.250000  224.649994  225.000000   7143637\n",
       "2023-07-11  226.000000  226.850006  224.699997  225.500000   5156417\n",
       "2023-07-12  226.250000  227.250000  225.199997  226.300003   7366992\n",
       "2023-07-13  227.000000  227.199997  220.899994  222.149994   9362010"
      ]
     },
     "execution_count": 79,
     "metadata": {},
     "output_type": "execute_result"
    }
   ],
   "source": [
    "#load the data\n",
    "\n",
    "data = yfinance.download (tickers = \"TATAPOWER.NS\",start=\"2017-03-06\",\n",
    "                               interval = \"1d\", group_by = 'ticker', auto_adjust = True)\n",
    "\n",
    "data.tail()"
   ]
  },
  {
   "cell_type": "markdown",
   "metadata": {
    "id": "6RKxpqoBOSBX"
   },
   "source": [
    "#Data preparation"
   ]
  },
  {
   "cell_type": "code",
   "execution_count": 80,
   "metadata": {
    "colab": {
     "base_uri": "https://localhost:8080/"
    },
    "executionInfo": {
     "elapsed": 843,
     "status": "ok",
     "timestamp": 1621008673660,
     "user": {
      "displayName": "Diogo Resende",
      "photoUrl": "https://lh3.googleusercontent.com/a-/AOh14GgH4DE06-yE1oiIzCiaAURCl1Escr4LXXiaSnbSaA=s64",
      "userId": "05706604408624562002"
     },
     "user_tz": -120
    },
    "id": "o55_2auGOUm6",
    "outputId": "7b72e62e-b26c-451e-c930-f7e794b87c23"
   },
   "outputs": [],
   "source": [
    "#transform the date variable\n",
    "data[\"Date\"] = pd.to_datetime(data.index, format = \"%m/%d/%Y\")\n"
   ]
  },
  {
   "cell_type": "code",
   "execution_count": 81,
   "metadata": {
    "colab": {
     "base_uri": "https://localhost:8080/",
     "height": 79
    },
    "executionInfo": {
     "elapsed": 744,
     "status": "ok",
     "timestamp": 1621008692325,
     "user": {
      "displayName": "Diogo Resende",
      "photoUrl": "https://lh3.googleusercontent.com/a-/AOh14GgH4DE06-yE1oiIzCiaAURCl1Escr4LXXiaSnbSaA=s64",
      "userId": "05706604408624562002"
     },
     "user_tz": -120
    },
    "id": "D3FRYUauQWkz",
    "outputId": "96122dd3-0ca2-496a-e72d-a04c87425033"
   },
   "outputs": [],
   "source": [
    "#renaming variables\n",
    "data[\"y\"] = data[\"Close\"]\n",
    "data = data.rename(columns = {\n",
    "                     'Date': 'ds'})\n",
    "data.head(10)\n",
    "data = data.reset_index()"
   ]
  },
  {
   "cell_type": "markdown",
   "metadata": {
    "id": "rbI03M5DQnf7"
   },
   "source": [
    "#Holidays"
   ]
  },
  {
   "cell_type": "code",
   "execution_count": 5,
   "metadata": {
    "colab": {
     "base_uri": "https://localhost:8080/",
     "height": 110
    },
    "executionInfo": {
     "elapsed": 900,
     "status": "ok",
     "timestamp": 1621008697487,
     "user": {
      "displayName": "Diogo Resende",
      "photoUrl": "https://lh3.googleusercontent.com/a-/AOh14GgH4DE06-yE1oiIzCiaAURCl1Escr4LXXiaSnbSaA=s64",
      "userId": "05706604408624562002"
     },
     "user_tz": -120
    },
    "id": "-iN1u_ZbQo_R",
    "outputId": "d90092f1-2873-4863-87cb-a967ca8aba9f"
   },
   "outputs": [],
   "source": [
    "#Easter\n",
    "#easter_dates = df[df.Easter == 1].ds\n",
    "#easter = pd.DataFrame({'holiday': 'easter',\n",
    "#                      'ds': pd.to_datetime(easter_dates),\n",
    "#                      'lower_window': -5,\n",
    "#                      'upper_window': 2})\n",
    "#easter.head(2)"
   ]
  },
  {
   "cell_type": "code",
   "execution_count": 6,
   "metadata": {
    "colab": {
     "base_uri": "https://localhost:8080/",
     "height": 110
    },
    "executionInfo": {
     "elapsed": 807,
     "status": "ok",
     "timestamp": 1621008701180,
     "user": {
      "displayName": "Diogo Resende",
      "photoUrl": "https://lh3.googleusercontent.com/a-/AOh14GgH4DE06-yE1oiIzCiaAURCl1Escr4LXXiaSnbSaA=s64",
      "userId": "05706604408624562002"
     },
     "user_tz": -120
    },
    "id": "PhOrTqnKRcFB",
    "outputId": "9ea09216-88c5-45e1-9de3-98ab6f27514c"
   },
   "outputs": [],
   "source": [
    "#Thanksgiving\n",
    "#thanksgiving_dates = df[df.Thanksgiving == 1].ds\n",
    "#thanksgiving = pd.DataFrame({'holiday': 'thanksgiving',\n",
    " #                      'ds': pd.to_datetime(thanksgiving_dates),\n",
    "  #                     'lower_window': -5,\n",
    "   #                    'upper_window': 2})\n",
    "#thanksgiving.head(2)"
   ]
  },
  {
   "cell_type": "code",
   "execution_count": 7,
   "metadata": {
    "colab": {
     "base_uri": "https://localhost:8080/",
     "height": 478
    },
    "executionInfo": {
     "elapsed": 735,
     "status": "ok",
     "timestamp": 1621008705120,
     "user": {
      "displayName": "Diogo Resende",
      "photoUrl": "https://lh3.googleusercontent.com/a-/AOh14GgH4DE06-yE1oiIzCiaAURCl1Escr4LXXiaSnbSaA=s64",
      "userId": "05706604408624562002"
     },
     "user_tz": -120
    },
    "id": "cmcQZKjgRp06",
    "outputId": "ae9ef015-e043-4654-d9a5-7d5a61f71a03"
   },
   "outputs": [],
   "source": [
    "#combining holidays\n",
    "#holidays = pd.concat([easter, thanksgiving])\n",
    "#holidays"
   ]
  },
  {
   "cell_type": "code",
   "execution_count": 125,
   "metadata": {},
   "outputs": [
    {
     "name": "stderr",
     "output_type": "stream",
     "text": [
      "/Users/vipin/opt/anaconda3/envs/my_own/lib/python3.9/site-packages/ta/trend.py:780: RuntimeWarning: invalid value encountered in scalar divide\n",
      "  dip[idx] = 100 * (self._dip[idx] / value)\n",
      "/Users/vipin/opt/anaconda3/envs/my_own/lib/python3.9/site-packages/ta/trend.py:785: RuntimeWarning: invalid value encountered in scalar divide\n",
      "  din[idx] = 100 * (self._din[idx] / value)\n"
     ]
    }
   ],
   "source": [
    "data  = add_all_ta_features(data, open=\"Open\", high=\"High\", low=\"Low\", close=\"Close\", volume=\"Volume\", fillna=True)\n"
   ]
  },
  {
   "cell_type": "code",
   "execution_count": 126,
   "metadata": {
    "executionInfo": {
     "elapsed": 789,
     "status": "ok",
     "timestamp": 1621008765383,
     "user": {
      "displayName": "Diogo Resende",
      "photoUrl": "https://lh3.googleusercontent.com/a-/AOh14GgH4DE06-yE1oiIzCiaAURCl1Escr4LXXiaSnbSaA=s64",
      "userId": "05706604408624562002"
     },
     "user_tz": -120
    },
    "id": "-ReDePNYpfSD"
   },
   "outputs": [],
   "source": [
    "#create training and test set\n",
    "test_days = 360\n",
    "training_set = data.iloc[:-test_days,:]\n",
    "test_set = data.iloc[-test_days:,:]"
   ]
  },
  {
   "cell_type": "code",
   "execution_count": 127,
   "metadata": {},
   "outputs": [
    {
     "data": {
      "text/html": [
       "<div>\n",
       "<style scoped>\n",
       "    .dataframe tbody tr th:only-of-type {\n",
       "        vertical-align: middle;\n",
       "    }\n",
       "\n",
       "    .dataframe tbody tr th {\n",
       "        vertical-align: top;\n",
       "    }\n",
       "\n",
       "    .dataframe thead th {\n",
       "        text-align: right;\n",
       "    }\n",
       "</style>\n",
       "<table border=\"1\" class=\"dataframe\">\n",
       "  <thead>\n",
       "    <tr style=\"text-align: right;\">\n",
       "      <th></th>\n",
       "      <th>Date</th>\n",
       "      <th>Open</th>\n",
       "      <th>High</th>\n",
       "      <th>Low</th>\n",
       "      <th>Close</th>\n",
       "      <th>Volume</th>\n",
       "      <th>ds</th>\n",
       "      <th>y</th>\n",
       "      <th>volume_adi</th>\n",
       "      <th>volume_obv</th>\n",
       "      <th>...</th>\n",
       "      <th>momentum_ppo</th>\n",
       "      <th>momentum_ppo_signal</th>\n",
       "      <th>momentum_ppo_hist</th>\n",
       "      <th>momentum_pvo</th>\n",
       "      <th>momentum_pvo_signal</th>\n",
       "      <th>momentum_pvo_hist</th>\n",
       "      <th>momentum_kama</th>\n",
       "      <th>others_dr</th>\n",
       "      <th>others_dlr</th>\n",
       "      <th>others_cr</th>\n",
       "    </tr>\n",
       "  </thead>\n",
       "  <tbody>\n",
       "    <tr>\n",
       "      <th>0</th>\n",
       "      <td>2017-03-06</td>\n",
       "      <td>68.984702</td>\n",
       "      <td>69.615659</td>\n",
       "      <td>68.900575</td>\n",
       "      <td>69.363274</td>\n",
       "      <td>4706563</td>\n",
       "      <td>2017-03-06</td>\n",
       "      <td>69.363274</td>\n",
       "      <td>1.384243e+06</td>\n",
       "      <td>4706563</td>\n",
       "      <td>...</td>\n",
       "      <td>0.000000</td>\n",
       "      <td>0.000000</td>\n",
       "      <td>0.000000</td>\n",
       "      <td>0.000000</td>\n",
       "      <td>0.000000</td>\n",
       "      <td>0.000000</td>\n",
       "      <td>69.363274</td>\n",
       "      <td>-37.731092</td>\n",
       "      <td>0.000000</td>\n",
       "      <td>0.000000</td>\n",
       "    </tr>\n",
       "    <tr>\n",
       "      <th>1</th>\n",
       "      <td>2017-03-07</td>\n",
       "      <td>69.741839</td>\n",
       "      <td>70.456923</td>\n",
       "      <td>69.573580</td>\n",
       "      <td>69.825966</td>\n",
       "      <td>7309780</td>\n",
       "      <td>2017-03-07</td>\n",
       "      <td>69.825966</td>\n",
       "      <td>-1.748489e+06</td>\n",
       "      <td>12016343</td>\n",
       "      <td>...</td>\n",
       "      <td>0.053186</td>\n",
       "      <td>0.010637</td>\n",
       "      <td>0.042549</td>\n",
       "      <td>4.238566</td>\n",
       "      <td>0.847713</td>\n",
       "      <td>3.390853</td>\n",
       "      <td>69.566075</td>\n",
       "      <td>0.667057</td>\n",
       "      <td>0.664842</td>\n",
       "      <td>0.667057</td>\n",
       "    </tr>\n",
       "    <tr>\n",
       "      <th>2</th>\n",
       "      <td>2017-03-08</td>\n",
       "      <td>70.036294</td>\n",
       "      <td>70.120421</td>\n",
       "      <td>68.942632</td>\n",
       "      <td>69.068825</td>\n",
       "      <td>3008752</td>\n",
       "      <td>2017-03-08</td>\n",
       "      <td>69.068825</td>\n",
       "      <td>-4.112503e+06</td>\n",
       "      <td>9007591</td>\n",
       "      <td>...</td>\n",
       "      <td>0.007220</td>\n",
       "      <td>0.009954</td>\n",
       "      <td>-0.002734</td>\n",
       "      <td>0.523082</td>\n",
       "      <td>0.782787</td>\n",
       "      <td>-0.259705</td>\n",
       "      <td>69.351318</td>\n",
       "      <td>-1.084326</td>\n",
       "      <td>-1.090248</td>\n",
       "      <td>-0.424503</td>\n",
       "    </tr>\n",
       "    <tr>\n",
       "      <th>3</th>\n",
       "      <td>2017-03-09</td>\n",
       "      <td>68.984686</td>\n",
       "      <td>69.531517</td>\n",
       "      <td>68.564048</td>\n",
       "      <td>69.152939</td>\n",
       "      <td>4968194</td>\n",
       "      <td>2017-03-09</td>\n",
       "      <td>69.152939</td>\n",
       "      <td>-3.032495e+06</td>\n",
       "      <td>13975785</td>\n",
       "      <td>...</td>\n",
       "      <td>-0.019223</td>\n",
       "      <td>0.004118</td>\n",
       "      <td>-0.023341</td>\n",
       "      <td>0.790092</td>\n",
       "      <td>0.784248</td>\n",
       "      <td>0.005844</td>\n",
       "      <td>69.264738</td>\n",
       "      <td>0.121783</td>\n",
       "      <td>0.121709</td>\n",
       "      <td>-0.303237</td>\n",
       "    </tr>\n",
       "    <tr>\n",
       "      <th>4</th>\n",
       "      <td>2017-03-10</td>\n",
       "      <td>69.237079</td>\n",
       "      <td>69.994223</td>\n",
       "      <td>68.395802</td>\n",
       "      <td>68.942627</td>\n",
       "      <td>1925931</td>\n",
       "      <td>2017-03-10</td>\n",
       "      <td>68.942627</td>\n",
       "      <td>-3.640692e+06</td>\n",
       "      <td>12049854</td>\n",
       "      <td>...</td>\n",
       "      <td>-0.063940</td>\n",
       "      <td>-0.009493</td>\n",
       "      <td>-0.054447</td>\n",
       "      <td>-4.280216</td>\n",
       "      <td>-0.228645</td>\n",
       "      <td>-4.051571</td>\n",
       "      <td>69.110726</td>\n",
       "      <td>-0.304126</td>\n",
       "      <td>-0.304589</td>\n",
       "      <td>-0.606440</td>\n",
       "    </tr>\n",
       "    <tr>\n",
       "      <th>...</th>\n",
       "      <td>...</td>\n",
       "      <td>...</td>\n",
       "      <td>...</td>\n",
       "      <td>...</td>\n",
       "      <td>...</td>\n",
       "      <td>...</td>\n",
       "      <td>...</td>\n",
       "      <td>...</td>\n",
       "      <td>...</td>\n",
       "      <td>...</td>\n",
       "      <td>...</td>\n",
       "      <td>...</td>\n",
       "      <td>...</td>\n",
       "      <td>...</td>\n",
       "      <td>...</td>\n",
       "      <td>...</td>\n",
       "      <td>...</td>\n",
       "      <td>...</td>\n",
       "      <td>...</td>\n",
       "      <td>...</td>\n",
       "      <td>...</td>\n",
       "    </tr>\n",
       "    <tr>\n",
       "      <th>1207</th>\n",
       "      <td>2022-01-21</td>\n",
       "      <td>241.598281</td>\n",
       "      <td>246.512810</td>\n",
       "      <td>234.472213</td>\n",
       "      <td>237.814087</td>\n",
       "      <td>35507032</td>\n",
       "      <td>2022-01-21</td>\n",
       "      <td>237.814087</td>\n",
       "      <td>1.110350e+08</td>\n",
       "      <td>4564387284</td>\n",
       "      <td>...</td>\n",
       "      <td>2.650096</td>\n",
       "      <td>2.031511</td>\n",
       "      <td>0.618585</td>\n",
       "      <td>-2.511247</td>\n",
       "      <td>-9.474715</td>\n",
       "      <td>6.963468</td>\n",
       "      <td>238.362980</td>\n",
       "      <td>-2.694555</td>\n",
       "      <td>-2.731523</td>\n",
       "      <td>242.853032</td>\n",
       "    </tr>\n",
       "    <tr>\n",
       "      <th>1208</th>\n",
       "      <td>2022-01-24</td>\n",
       "      <td>238.354697</td>\n",
       "      <td>239.681626</td>\n",
       "      <td>222.726499</td>\n",
       "      <td>225.626068</td>\n",
       "      <td>43279408</td>\n",
       "      <td>2022-01-24</td>\n",
       "      <td>225.626068</td>\n",
       "      <td>8.255839e+07</td>\n",
       "      <td>4521107876</td>\n",
       "      <td>...</td>\n",
       "      <td>2.107775</td>\n",
       "      <td>2.046763</td>\n",
       "      <td>0.061011</td>\n",
       "      <td>0.281809</td>\n",
       "      <td>-7.523411</td>\n",
       "      <td>7.805220</td>\n",
       "      <td>238.263286</td>\n",
       "      <td>-5.125020</td>\n",
       "      <td>-5.261016</td>\n",
       "      <td>225.281747</td>\n",
       "    </tr>\n",
       "    <tr>\n",
       "      <th>1209</th>\n",
       "      <td>2022-01-25</td>\n",
       "      <td>222.382469</td>\n",
       "      <td>236.732901</td>\n",
       "      <td>219.188024</td>\n",
       "      <td>234.717941</td>\n",
       "      <td>39449718</td>\n",
       "      <td>2022-01-25</td>\n",
       "      <td>234.717941</td>\n",
       "      <td>1.129468e+08</td>\n",
       "      <td>4560557594</td>\n",
       "      <td>...</td>\n",
       "      <td>1.969074</td>\n",
       "      <td>2.031226</td>\n",
       "      <td>-0.062152</td>\n",
       "      <td>1.506523</td>\n",
       "      <td>-5.717424</td>\n",
       "      <td>7.223947</td>\n",
       "      <td>238.213228</td>\n",
       "      <td>4.029620</td>\n",
       "      <td>3.950548</td>\n",
       "      <td>238.389365</td>\n",
       "    </tr>\n",
       "    <tr>\n",
       "      <th>1210</th>\n",
       "      <td>2022-01-27</td>\n",
       "      <td>231.474343</td>\n",
       "      <td>238.207255</td>\n",
       "      <td>228.525625</td>\n",
       "      <td>236.929474</td>\n",
       "      <td>35920383</td>\n",
       "      <td>2022-01-27</td>\n",
       "      <td>236.929474</td>\n",
       "      <td>1.393857e+08</td>\n",
       "      <td>4596477977</td>\n",
       "      <td>...</td>\n",
       "      <td>1.913199</td>\n",
       "      <td>2.007620</td>\n",
       "      <td>-0.094421</td>\n",
       "      <td>1.627137</td>\n",
       "      <td>-4.248512</td>\n",
       "      <td>5.875649</td>\n",
       "      <td>238.201100</td>\n",
       "      <td>0.942209</td>\n",
       "      <td>0.937797</td>\n",
       "      <td>241.577699</td>\n",
       "    </tr>\n",
       "    <tr>\n",
       "      <th>1211</th>\n",
       "      <td>2022-01-28</td>\n",
       "      <td>240.517072</td>\n",
       "      <td>245.726476</td>\n",
       "      <td>238.698705</td>\n",
       "      <td>239.878189</td>\n",
       "      <td>34523855</td>\n",
       "      <td>2022-01-28</td>\n",
       "      <td>239.878189</td>\n",
       "      <td>1.164502e+08</td>\n",
       "      <td>4631001832</td>\n",
       "      <td>...</td>\n",
       "      <td>1.947338</td>\n",
       "      <td>1.995564</td>\n",
       "      <td>-0.048226</td>\n",
       "      <td>1.383929</td>\n",
       "      <td>-3.122024</td>\n",
       "      <td>4.505953</td>\n",
       "      <td>238.211277</td>\n",
       "      <td>1.244554</td>\n",
       "      <td>1.236873</td>\n",
       "      <td>245.828818</td>\n",
       "    </tr>\n",
       "  </tbody>\n",
       "</table>\n",
       "<p>1212 rows × 94 columns</p>\n",
       "</div>"
      ],
      "text/plain": [
       "           Date        Open        High         Low       Close    Volume  \\\n",
       "0    2017-03-06   68.984702   69.615659   68.900575   69.363274   4706563   \n",
       "1    2017-03-07   69.741839   70.456923   69.573580   69.825966   7309780   \n",
       "2    2017-03-08   70.036294   70.120421   68.942632   69.068825   3008752   \n",
       "3    2017-03-09   68.984686   69.531517   68.564048   69.152939   4968194   \n",
       "4    2017-03-10   69.237079   69.994223   68.395802   68.942627   1925931   \n",
       "...         ...         ...         ...         ...         ...       ...   \n",
       "1207 2022-01-21  241.598281  246.512810  234.472213  237.814087  35507032   \n",
       "1208 2022-01-24  238.354697  239.681626  222.726499  225.626068  43279408   \n",
       "1209 2022-01-25  222.382469  236.732901  219.188024  234.717941  39449718   \n",
       "1210 2022-01-27  231.474343  238.207255  228.525625  236.929474  35920383   \n",
       "1211 2022-01-28  240.517072  245.726476  238.698705  239.878189  34523855   \n",
       "\n",
       "             ds           y    volume_adi  volume_obv  ...  momentum_ppo  \\\n",
       "0    2017-03-06   69.363274  1.384243e+06     4706563  ...      0.000000   \n",
       "1    2017-03-07   69.825966 -1.748489e+06    12016343  ...      0.053186   \n",
       "2    2017-03-08   69.068825 -4.112503e+06     9007591  ...      0.007220   \n",
       "3    2017-03-09   69.152939 -3.032495e+06    13975785  ...     -0.019223   \n",
       "4    2017-03-10   68.942627 -3.640692e+06    12049854  ...     -0.063940   \n",
       "...         ...         ...           ...         ...  ...           ...   \n",
       "1207 2022-01-21  237.814087  1.110350e+08  4564387284  ...      2.650096   \n",
       "1208 2022-01-24  225.626068  8.255839e+07  4521107876  ...      2.107775   \n",
       "1209 2022-01-25  234.717941  1.129468e+08  4560557594  ...      1.969074   \n",
       "1210 2022-01-27  236.929474  1.393857e+08  4596477977  ...      1.913199   \n",
       "1211 2022-01-28  239.878189  1.164502e+08  4631001832  ...      1.947338   \n",
       "\n",
       "      momentum_ppo_signal  momentum_ppo_hist  momentum_pvo  \\\n",
       "0                0.000000           0.000000      0.000000   \n",
       "1                0.010637           0.042549      4.238566   \n",
       "2                0.009954          -0.002734      0.523082   \n",
       "3                0.004118          -0.023341      0.790092   \n",
       "4               -0.009493          -0.054447     -4.280216   \n",
       "...                   ...                ...           ...   \n",
       "1207             2.031511           0.618585     -2.511247   \n",
       "1208             2.046763           0.061011      0.281809   \n",
       "1209             2.031226          -0.062152      1.506523   \n",
       "1210             2.007620          -0.094421      1.627137   \n",
       "1211             1.995564          -0.048226      1.383929   \n",
       "\n",
       "      momentum_pvo_signal  momentum_pvo_hist  momentum_kama  others_dr  \\\n",
       "0                0.000000           0.000000      69.363274 -37.731092   \n",
       "1                0.847713           3.390853      69.566075   0.667057   \n",
       "2                0.782787          -0.259705      69.351318  -1.084326   \n",
       "3                0.784248           0.005844      69.264738   0.121783   \n",
       "4               -0.228645          -4.051571      69.110726  -0.304126   \n",
       "...                   ...                ...            ...        ...   \n",
       "1207            -9.474715           6.963468     238.362980  -2.694555   \n",
       "1208            -7.523411           7.805220     238.263286  -5.125020   \n",
       "1209            -5.717424           7.223947     238.213228   4.029620   \n",
       "1210            -4.248512           5.875649     238.201100   0.942209   \n",
       "1211            -3.122024           4.505953     238.211277   1.244554   \n",
       "\n",
       "      others_dlr   others_cr  \n",
       "0       0.000000    0.000000  \n",
       "1       0.664842    0.667057  \n",
       "2      -1.090248   -0.424503  \n",
       "3       0.121709   -0.303237  \n",
       "4      -0.304589   -0.606440  \n",
       "...          ...         ...  \n",
       "1207   -2.731523  242.853032  \n",
       "1208   -5.261016  225.281747  \n",
       "1209    3.950548  238.389365  \n",
       "1210    0.937797  241.577699  \n",
       "1211    1.236873  245.828818  \n",
       "\n",
       "[1212 rows x 94 columns]"
      ]
     },
     "execution_count": 127,
     "metadata": {},
     "output_type": "execute_result"
    }
   ],
   "source": [
    "training_set"
   ]
  },
  {
   "cell_type": "markdown",
   "metadata": {
    "id": "eOzPNoRySOA5"
   },
   "source": [
    "#Prophet"
   ]
  },
  {
   "cell_type": "code",
   "execution_count": 133,
   "metadata": {
    "colab": {
     "base_uri": "https://localhost:8080/"
    },
    "executionInfo": {
     "elapsed": 8952,
     "status": "ok",
     "timestamp": 1621008811464,
     "user": {
      "displayName": "Diogo Resende",
      "photoUrl": "https://lh3.googleusercontent.com/a-/AOh14GgH4DE06-yE1oiIzCiaAURCl1Escr4LXXiaSnbSaA=s64",
      "userId": "05706604408624562002"
     },
     "user_tz": -120
    },
    "id": "Ai7zk9f7SPVK",
    "outputId": "8bcef281-3d36-49f1-9c8b-c875beeb5658"
   },
   "outputs": [
    {
     "name": "stderr",
     "output_type": "stream",
     "text": [
      "16:00:16 - cmdstanpy - INFO - Chain [1] start processing\n",
      "16:00:17 - cmdstanpy - INFO - Chain [1] done processing\n"
     ]
    },
    {
     "data": {
      "text/plain": [
       "<prophet.forecaster.Prophet at 0x7fb427c70a60>"
      ]
     },
     "execution_count": 133,
     "metadata": {},
     "output_type": "execute_result"
    }
   ],
   "source": [
    "m = Prophet(\n",
    "            #holidays = holidays,\n",
    "            #seasonality_mode = 'multiplicative',\n",
    "            #seasonality_prior_scale = 20,\n",
    "           # changepoint_prior_scale = 0.1,\n",
    "           # holidays_prior_scale = 10\n",
    "           )\n",
    "m.add_regressor('volume_adi')\n",
    "m.add_regressor('volume_obv')\n",
    "m.add_regressor('volume_cmf')\n",
    "m.add_regressor('others_dr')\n",
    "m.add_regressor('volume_adi')\n",
    "m.fit(training_set)\n"
   ]
  },
  {
   "cell_type": "code",
   "execution_count": 20,
   "metadata": {
    "executionInfo": {
     "elapsed": 761,
     "status": "ok",
     "timestamp": 1621009466455,
     "user": {
      "displayName": "Diogo Resende",
      "photoUrl": "https://lh3.googleusercontent.com/a-/AOh14GgH4DE06-yE1oiIzCiaAURCl1Escr4LXXiaSnbSaA=s64",
      "userId": "05706604408624562002"
     },
     "user_tz": -120
    },
    "id": "vuYkMgKqsNiD"
   },
   "outputs": [],
   "source": [
    "#create future df\n",
    "#future = m.make_future_dataframe(periods = test_days,\n",
    " #                                freq = \"D\")"
   ]
  },
  {
   "cell_type": "code",
   "execution_count": 134,
   "metadata": {
    "executionInfo": {
     "elapsed": 938,
     "status": "ok",
     "timestamp": 1621009506406,
     "user": {
      "displayName": "Diogo Resende",
      "photoUrl": "https://lh3.googleusercontent.com/a-/AOh14GgH4DE06-yE1oiIzCiaAURCl1Escr4LXXiaSnbSaA=s64",
      "userId": "05706604408624562002"
     },
     "user_tz": -120
    },
    "id": "8-cqw_0isYEP"
   },
   "outputs": [],
   "source": [
    "future = pd.DataFrame({\"ds\" : data.ds})"
   ]
  },
  {
   "cell_type": "code",
   "execution_count": 136,
   "metadata": {
    "colab": {
     "base_uri": "https://localhost:8080/",
     "height": 309
    },
    "executionInfo": {
     "elapsed": 5052,
     "status": "ok",
     "timestamp": 1621009541010,
     "user": {
      "displayName": "Diogo Resende",
      "photoUrl": "https://lh3.googleusercontent.com/a-/AOh14GgH4DE06-yE1oiIzCiaAURCl1Escr4LXXiaSnbSaA=s64",
      "userId": "05706604408624562002"
     },
     "user_tz": -120
    },
    "id": "NaKE6JkDshxm",
    "outputId": "4c7aac39-520e-4944-a77b-e1d903925a7d"
   },
   "outputs": [
    {
     "data": {
      "text/html": [
       "<div>\n",
       "<style scoped>\n",
       "    .dataframe tbody tr th:only-of-type {\n",
       "        vertical-align: middle;\n",
       "    }\n",
       "\n",
       "    .dataframe tbody tr th {\n",
       "        vertical-align: top;\n",
       "    }\n",
       "\n",
       "    .dataframe thead th {\n",
       "        text-align: right;\n",
       "    }\n",
       "</style>\n",
       "<table border=\"1\" class=\"dataframe\">\n",
       "  <thead>\n",
       "    <tr style=\"text-align: right;\">\n",
       "      <th></th>\n",
       "      <th>ds</th>\n",
       "      <th>trend</th>\n",
       "      <th>yhat_lower</th>\n",
       "      <th>yhat_upper</th>\n",
       "      <th>trend_lower</th>\n",
       "      <th>trend_upper</th>\n",
       "      <th>additive_terms</th>\n",
       "      <th>additive_terms_lower</th>\n",
       "      <th>additive_terms_upper</th>\n",
       "      <th>extra_regressors_additive</th>\n",
       "      <th>...</th>\n",
       "      <th>weekly</th>\n",
       "      <th>weekly_lower</th>\n",
       "      <th>weekly_upper</th>\n",
       "      <th>yearly</th>\n",
       "      <th>yearly_lower</th>\n",
       "      <th>yearly_upper</th>\n",
       "      <th>multiplicative_terms</th>\n",
       "      <th>multiplicative_terms_lower</th>\n",
       "      <th>multiplicative_terms_upper</th>\n",
       "      <th>yhat</th>\n",
       "    </tr>\n",
       "  </thead>\n",
       "  <tbody>\n",
       "    <tr>\n",
       "      <th>1567</th>\n",
       "      <td>2023-07-07</td>\n",
       "      <td>119.571828</td>\n",
       "      <td>189.646703</td>\n",
       "      <td>431.612094</td>\n",
       "      <td>-4.946987</td>\n",
       "      <td>237.792175</td>\n",
       "      <td>193.534632</td>\n",
       "      <td>193.534632</td>\n",
       "      <td>193.534632</td>\n",
       "      <td>205.444107</td>\n",
       "      <td>...</td>\n",
       "      <td>-0.259086</td>\n",
       "      <td>-0.259086</td>\n",
       "      <td>-0.259086</td>\n",
       "      <td>-11.650390</td>\n",
       "      <td>-11.650390</td>\n",
       "      <td>-11.650390</td>\n",
       "      <td>0.0</td>\n",
       "      <td>0.0</td>\n",
       "      <td>0.0</td>\n",
       "      <td>313.106459</td>\n",
       "    </tr>\n",
       "    <tr>\n",
       "      <th>1568</th>\n",
       "      <td>2023-07-10</td>\n",
       "      <td>119.962927</td>\n",
       "      <td>189.171972</td>\n",
       "      <td>433.301701</td>\n",
       "      <td>-4.852364</td>\n",
       "      <td>238.756769</td>\n",
       "      <td>192.990301</td>\n",
       "      <td>192.990301</td>\n",
       "      <td>192.990301</td>\n",
       "      <td>204.779111</td>\n",
       "      <td>...</td>\n",
       "      <td>-0.169430</td>\n",
       "      <td>-0.169430</td>\n",
       "      <td>-0.169430</td>\n",
       "      <td>-11.619379</td>\n",
       "      <td>-11.619379</td>\n",
       "      <td>-11.619379</td>\n",
       "      <td>0.0</td>\n",
       "      <td>0.0</td>\n",
       "      <td>0.0</td>\n",
       "      <td>312.953228</td>\n",
       "    </tr>\n",
       "    <tr>\n",
       "      <th>1569</th>\n",
       "      <td>2023-07-11</td>\n",
       "      <td>120.093294</td>\n",
       "      <td>189.415466</td>\n",
       "      <td>433.916098</td>\n",
       "      <td>-4.959604</td>\n",
       "      <td>239.452837</td>\n",
       "      <td>193.531143</td>\n",
       "      <td>193.531143</td>\n",
       "      <td>193.531143</td>\n",
       "      <td>205.300531</td>\n",
       "      <td>...</td>\n",
       "      <td>-0.184206</td>\n",
       "      <td>-0.184206</td>\n",
       "      <td>-0.184206</td>\n",
       "      <td>-11.585182</td>\n",
       "      <td>-11.585182</td>\n",
       "      <td>-11.585182</td>\n",
       "      <td>0.0</td>\n",
       "      <td>0.0</td>\n",
       "      <td>0.0</td>\n",
       "      <td>313.624437</td>\n",
       "    </tr>\n",
       "    <tr>\n",
       "      <th>1570</th>\n",
       "      <td>2023-07-12</td>\n",
       "      <td>120.223660</td>\n",
       "      <td>188.856017</td>\n",
       "      <td>433.536663</td>\n",
       "      <td>-5.066843</td>\n",
       "      <td>240.120650</td>\n",
       "      <td>194.098283</td>\n",
       "      <td>194.098283</td>\n",
       "      <td>194.098283</td>\n",
       "      <td>205.702812</td>\n",
       "      <td>...</td>\n",
       "      <td>-0.066951</td>\n",
       "      <td>-0.066951</td>\n",
       "      <td>-0.066951</td>\n",
       "      <td>-11.537578</td>\n",
       "      <td>-11.537578</td>\n",
       "      <td>-11.537578</td>\n",
       "      <td>0.0</td>\n",
       "      <td>0.0</td>\n",
       "      <td>0.0</td>\n",
       "      <td>314.321943</td>\n",
       "    </tr>\n",
       "    <tr>\n",
       "      <th>1571</th>\n",
       "      <td>2023-07-13</td>\n",
       "      <td>120.354027</td>\n",
       "      <td>188.095084</td>\n",
       "      <td>433.052166</td>\n",
       "      <td>-5.174083</td>\n",
       "      <td>240.569173</td>\n",
       "      <td>192.777447</td>\n",
       "      <td>192.777447</td>\n",
       "      <td>192.777447</td>\n",
       "      <td>204.406526</td>\n",
       "      <td>...</td>\n",
       "      <td>-0.153109</td>\n",
       "      <td>-0.153109</td>\n",
       "      <td>-0.153109</td>\n",
       "      <td>-11.475970</td>\n",
       "      <td>-11.475970</td>\n",
       "      <td>-11.475970</td>\n",
       "      <td>0.0</td>\n",
       "      <td>0.0</td>\n",
       "      <td>0.0</td>\n",
       "      <td>313.131474</td>\n",
       "    </tr>\n",
       "  </tbody>\n",
       "</table>\n",
       "<p>5 rows × 34 columns</p>\n",
       "</div>"
      ],
      "text/plain": [
       "             ds       trend  yhat_lower  yhat_upper  trend_lower  trend_upper  \\\n",
       "1567 2023-07-07  119.571828  189.646703  431.612094    -4.946987   237.792175   \n",
       "1568 2023-07-10  119.962927  189.171972  433.301701    -4.852364   238.756769   \n",
       "1569 2023-07-11  120.093294  189.415466  433.916098    -4.959604   239.452837   \n",
       "1570 2023-07-12  120.223660  188.856017  433.536663    -5.066843   240.120650   \n",
       "1571 2023-07-13  120.354027  188.095084  433.052166    -5.174083   240.569173   \n",
       "\n",
       "      additive_terms  additive_terms_lower  additive_terms_upper  \\\n",
       "1567      193.534632            193.534632            193.534632   \n",
       "1568      192.990301            192.990301            192.990301   \n",
       "1569      193.531143            193.531143            193.531143   \n",
       "1570      194.098283            194.098283            194.098283   \n",
       "1571      192.777447            192.777447            192.777447   \n",
       "\n",
       "      extra_regressors_additive  ...    weekly  weekly_lower  weekly_upper  \\\n",
       "1567                 205.444107  ... -0.259086     -0.259086     -0.259086   \n",
       "1568                 204.779111  ... -0.169430     -0.169430     -0.169430   \n",
       "1569                 205.300531  ... -0.184206     -0.184206     -0.184206   \n",
       "1570                 205.702812  ... -0.066951     -0.066951     -0.066951   \n",
       "1571                 204.406526  ... -0.153109     -0.153109     -0.153109   \n",
       "\n",
       "         yearly  yearly_lower  yearly_upper  multiplicative_terms  \\\n",
       "1567 -11.650390    -11.650390    -11.650390                   0.0   \n",
       "1568 -11.619379    -11.619379    -11.619379                   0.0   \n",
       "1569 -11.585182    -11.585182    -11.585182                   0.0   \n",
       "1570 -11.537578    -11.537578    -11.537578                   0.0   \n",
       "1571 -11.475970    -11.475970    -11.475970                   0.0   \n",
       "\n",
       "      multiplicative_terms_lower  multiplicative_terms_upper        yhat  \n",
       "1567                         0.0                         0.0  313.106459  \n",
       "1568                         0.0                         0.0  312.953228  \n",
       "1569                         0.0                         0.0  313.624437  \n",
       "1570                         0.0                         0.0  314.321943  \n",
       "1571                         0.0                         0.0  313.131474  \n",
       "\n",
       "[5 rows x 34 columns]"
      ]
     },
     "execution_count": 136,
     "metadata": {},
     "output_type": "execute_result"
    }
   ],
   "source": [
    "#forecast\n",
    "forecast = m.predict(data)\n",
    "forecast.tail()"
   ]
  },
  {
   "cell_type": "code",
   "execution_count": 137,
   "metadata": {},
   "outputs": [],
   "source": [
    "data = data.reset_index(level=None, drop=False, inplace=False, col_level=0, col_fill='')\n",
    "data = data.drop(\"index\",axis=1)"
   ]
  },
  {
   "cell_type": "code",
   "execution_count": 140,
   "metadata": {
    "colab": {
     "base_uri": "https://localhost:8080/",
     "height": 79
    },
    "executionInfo": {
     "elapsed": 789,
     "status": "ok",
     "timestamp": 1621009743333,
     "user": {
      "displayName": "Diogo Resende",
      "photoUrl": "https://lh3.googleusercontent.com/a-/AOh14GgH4DE06-yE1oiIzCiaAURCl1Escr4LXXiaSnbSaA=s64",
      "userId": "05706604408624562002"
     },
     "user_tz": -120
    },
    "id": "cHnEk0cMsrfG",
    "outputId": "0e18baad-9e68-4f94-bc48-c6509130f361"
   },
   "outputs": [
    {
     "data": {
      "text/html": [
       "<div>\n",
       "<style scoped>\n",
       "    .dataframe tbody tr th:only-of-type {\n",
       "        vertical-align: middle;\n",
       "    }\n",
       "\n",
       "    .dataframe tbody tr th {\n",
       "        vertical-align: top;\n",
       "    }\n",
       "\n",
       "    .dataframe thead th {\n",
       "        text-align: right;\n",
       "    }\n",
       "</style>\n",
       "<table border=\"1\" class=\"dataframe\">\n",
       "  <thead>\n",
       "    <tr style=\"text-align: right;\">\n",
       "      <th></th>\n",
       "      <th>Date</th>\n",
       "      <th>Open</th>\n",
       "      <th>High</th>\n",
       "      <th>Low</th>\n",
       "      <th>Close</th>\n",
       "      <th>Volume</th>\n",
       "      <th>ds</th>\n",
       "      <th>y</th>\n",
       "      <th>volume_adi</th>\n",
       "      <th>volume_obv</th>\n",
       "      <th>...</th>\n",
       "      <th>momentum_pvo_hist</th>\n",
       "      <th>momentum_kama</th>\n",
       "      <th>others_dr</th>\n",
       "      <th>others_dlr</th>\n",
       "      <th>others_cr</th>\n",
       "      <th>trend</th>\n",
       "      <th>weekly</th>\n",
       "      <th>multiplicative_terms</th>\n",
       "      <th>trend_upper</th>\n",
       "      <th>trend_lower</th>\n",
       "    </tr>\n",
       "  </thead>\n",
       "  <tbody>\n",
       "    <tr>\n",
       "      <th>0</th>\n",
       "      <td>2017-03-06</td>\n",
       "      <td>68.984702</td>\n",
       "      <td>69.615659</td>\n",
       "      <td>68.900575</td>\n",
       "      <td>69.363274</td>\n",
       "      <td>4706563</td>\n",
       "      <td>2017-03-06</td>\n",
       "      <td>69.363274</td>\n",
       "      <td>1.384243e+06</td>\n",
       "      <td>4706563</td>\n",
       "      <td>...</td>\n",
       "      <td>0.0</td>\n",
       "      <td>69.363274</td>\n",
       "      <td>-37.731092</td>\n",
       "      <td>0.0</td>\n",
       "      <td>0.0</td>\n",
       "      <td>111.563533</td>\n",
       "      <td>-0.16943</td>\n",
       "      <td>0.0</td>\n",
       "      <td>111.563533</td>\n",
       "      <td>111.563533</td>\n",
       "    </tr>\n",
       "  </tbody>\n",
       "</table>\n",
       "<p>1 rows × 99 columns</p>\n",
       "</div>"
      ],
      "text/plain": [
       "        Date       Open       High        Low      Close   Volume         ds  \\\n",
       "0 2017-03-06  68.984702  69.615659  68.900575  69.363274  4706563 2017-03-06   \n",
       "\n",
       "           y    volume_adi  volume_obv  ...  momentum_pvo_hist  momentum_kama  \\\n",
       "0  69.363274  1.384243e+06     4706563  ...                0.0      69.363274   \n",
       "\n",
       "   others_dr  others_dlr  others_cr       trend   weekly  \\\n",
       "0 -37.731092         0.0        0.0  111.563533 -0.16943   \n",
       "\n",
       "   multiplicative_terms  trend_upper  trend_lower  \n",
       "0                   0.0   111.563533   111.563533  \n",
       "\n",
       "[1 rows x 99 columns]"
      ]
     },
     "execution_count": 140,
     "metadata": {},
     "output_type": "execute_result"
    }
   ],
   "source": [
    "#get some variables\n",
    "prophet_variables = forecast.loc[:, [\"trend\", \"weekly\",  \"multiplicative_terms\",\"trend_upper\",\"trend_lower\"]]\n",
    "df_xgb = pd.concat([data, prophet_variables], axis = 1)\n",
    "df_xgb.head(1)"
   ]
  },
  {
   "cell_type": "code",
   "execution_count": 141,
   "metadata": {},
   "outputs": [
    {
     "name": "stderr",
     "output_type": "stream",
     "text": [
      "/Users/vipin/opt/anaconda3/envs/my_own/lib/python3.9/site-packages/ta/trend.py:780: RuntimeWarning: invalid value encountered in scalar divide\n",
      "  dip[idx] = 100 * (self._dip[idx] / value)\n",
      "/Users/vipin/opt/anaconda3/envs/my_own/lib/python3.9/site-packages/ta/trend.py:785: RuntimeWarning: invalid value encountered in scalar divide\n",
      "  din[idx] = 100 * (self._din[idx] / value)\n"
     ]
    }
   ],
   "source": [
    "df_xgb  = add_all_ta_features(df_xgb, open=\"Open\", high=\"High\", low=\"Low\", close=\"Close\", volume=\"Volume\", fillna=True)\n"
   ]
  },
  {
   "cell_type": "markdown",
   "metadata": {
    "id": "lNUb5oO-tir_"
   },
   "source": [
    "#XGBoost preparation"
   ]
  },
  {
   "cell_type": "code",
   "execution_count": 142,
   "metadata": {
    "executionInfo": {
     "elapsed": 444,
     "status": "ok",
     "timestamp": 1621009798336,
     "user": {
      "displayName": "Diogo Resende",
      "photoUrl": "https://lh3.googleusercontent.com/a-/AOh14GgH4DE06-yE1oiIzCiaAURCl1Escr4LXXiaSnbSaA=s64",
      "userId": "05706604408624562002"
     },
     "user_tz": -120
    },
    "id": "YCd0qohrtkae"
   },
   "outputs": [],
   "source": [
    "#create training and test set\n",
    "test_days = 360\n",
    "training_set = df_xgb.iloc[:-test_days,:]\n",
    "test_set = df_xgb.iloc[-test_days:,:]"
   ]
  },
  {
   "cell_type": "code",
   "execution_count": 143,
   "metadata": {
    "executionInfo": {
     "elapsed": 801,
     "status": "ok",
     "timestamp": 1621009908956,
     "user": {
      "displayName": "Diogo Resende",
      "photoUrl": "https://lh3.googleusercontent.com/a-/AOh14GgH4DE06-yE1oiIzCiaAURCl1Escr4LXXiaSnbSaA=s64",
      "userId": "05706604408624562002"
     },
     "user_tz": -120
    },
    "id": "Hy7FFj2UtpKo"
   },
   "outputs": [],
   "source": [
    "#isolate X and y\n",
    "y_train = training_set.y\n",
    "y_test = test_set.y \n",
    "X_train = training_set.iloc[:, 2:]\n",
    "X_test = test_set.iloc[:, 2:]"
   ]
  },
  {
   "cell_type": "code",
   "execution_count": 95,
   "metadata": {},
   "outputs": [
    {
     "data": {
      "text/html": [
       "<div>\n",
       "<style scoped>\n",
       "    .dataframe tbody tr th:only-of-type {\n",
       "        vertical-align: middle;\n",
       "    }\n",
       "\n",
       "    .dataframe tbody tr th {\n",
       "        vertical-align: top;\n",
       "    }\n",
       "\n",
       "    .dataframe thead th {\n",
       "        text-align: right;\n",
       "    }\n",
       "</style>\n",
       "<table border=\"1\" class=\"dataframe\">\n",
       "  <thead>\n",
       "    <tr style=\"text-align: right;\">\n",
       "      <th></th>\n",
       "      <th>High</th>\n",
       "      <th>Low</th>\n",
       "      <th>Close</th>\n",
       "      <th>Volume</th>\n",
       "      <th>ds</th>\n",
       "      <th>y</th>\n",
       "      <th>trend</th>\n",
       "      <th>weekly</th>\n",
       "      <th>multiplicative_terms</th>\n",
       "      <th>volume_adi</th>\n",
       "      <th>...</th>\n",
       "      <th>momentum_ppo</th>\n",
       "      <th>momentum_ppo_signal</th>\n",
       "      <th>momentum_ppo_hist</th>\n",
       "      <th>momentum_pvo</th>\n",
       "      <th>momentum_pvo_signal</th>\n",
       "      <th>momentum_pvo_hist</th>\n",
       "      <th>momentum_kama</th>\n",
       "      <th>others_dr</th>\n",
       "      <th>others_dlr</th>\n",
       "      <th>others_cr</th>\n",
       "    </tr>\n",
       "  </thead>\n",
       "  <tbody>\n",
       "    <tr>\n",
       "      <th>1212</th>\n",
       "      <td>245.284180</td>\n",
       "      <td>241.106830</td>\n",
       "      <td>241.844009</td>\n",
       "      <td>24939671</td>\n",
       "      <td>2022-01-31</td>\n",
       "      <td>241.844009</td>\n",
       "      <td>225.505231</td>\n",
       "      <td>2.505387</td>\n",
       "      <td>0.0</td>\n",
       "      <td>1.003128e+08</td>\n",
       "      <td>...</td>\n",
       "      <td>2.017382</td>\n",
       "      <td>1.999928</td>\n",
       "      <td>0.017455</td>\n",
       "      <td>-1.060474</td>\n",
       "      <td>-2.709714</td>\n",
       "      <td>1.649239</td>\n",
       "      <td>238.235608</td>\n",
       "      <td>0.819508</td>\n",
       "      <td>0.816168</td>\n",
       "      <td>248.662912</td>\n",
       "    </tr>\n",
       "    <tr>\n",
       "      <th>1213</th>\n",
       "      <td>252.017078</td>\n",
       "      <td>240.615378</td>\n",
       "      <td>245.579056</td>\n",
       "      <td>74185275</td>\n",
       "      <td>2022-02-01</td>\n",
       "      <td>245.579056</td>\n",
       "      <td>225.942104</td>\n",
       "      <td>2.467283</td>\n",
       "      <td>0.0</td>\n",
       "      <td>9.071994e+07</td>\n",
       "      <td>...</td>\n",
       "      <td>2.173547</td>\n",
       "      <td>2.034651</td>\n",
       "      <td>0.138895</td>\n",
       "      <td>7.937710</td>\n",
       "      <td>-0.580229</td>\n",
       "      <td>8.517939</td>\n",
       "      <td>238.289150</td>\n",
       "      <td>1.544403</td>\n",
       "      <td>1.532599</td>\n",
       "      <td>254.047672</td>\n",
       "    </tr>\n",
       "    <tr>\n",
       "      <th>1214</th>\n",
       "      <td>250.641019</td>\n",
       "      <td>244.989309</td>\n",
       "      <td>246.316238</td>\n",
       "      <td>25162901</td>\n",
       "      <td>2022-02-02</td>\n",
       "      <td>246.316238</td>\n",
       "      <td>226.378978</td>\n",
       "      <td>2.732191</td>\n",
       "      <td>0.0</td>\n",
       "      <td>7.737272e+07</td>\n",
       "      <td>...</td>\n",
       "      <td>2.293464</td>\n",
       "      <td>2.086414</td>\n",
       "      <td>0.207050</td>\n",
       "      <td>4.297494</td>\n",
       "      <td>0.395316</td>\n",
       "      <td>3.902178</td>\n",
       "      <td>238.622704</td>\n",
       "      <td>0.300181</td>\n",
       "      <td>0.299732</td>\n",
       "      <td>255.110458</td>\n",
       "    </tr>\n",
       "    <tr>\n",
       "      <th>1215</th>\n",
       "      <td>250.051263</td>\n",
       "      <td>245.038452</td>\n",
       "      <td>248.527771</td>\n",
       "      <td>27724870</td>\n",
       "      <td>2022-02-03</td>\n",
       "      <td>248.527771</td>\n",
       "      <td>226.815851</td>\n",
       "      <td>2.715499</td>\n",
       "      <td>0.0</td>\n",
       "      <td>8.824532e+07</td>\n",
       "      <td>...</td>\n",
       "      <td>2.432681</td>\n",
       "      <td>2.155667</td>\n",
       "      <td>0.277014</td>\n",
       "      <td>1.847718</td>\n",
       "      <td>0.685796</td>\n",
       "      <td>1.161922</td>\n",
       "      <td>238.780145</td>\n",
       "      <td>0.897843</td>\n",
       "      <td>0.893836</td>\n",
       "      <td>258.298791</td>\n",
       "    </tr>\n",
       "    <tr>\n",
       "      <th>1216</th>\n",
       "      <td>253.491440</td>\n",
       "      <td>248.675207</td>\n",
       "      <td>250.002136</td>\n",
       "      <td>39309420</td>\n",
       "      <td>2022-02-04</td>\n",
       "      <td>250.002136</td>\n",
       "      <td>227.252725</td>\n",
       "      <td>2.293671</td>\n",
       "      <td>0.0</td>\n",
       "      <td>7.059632e+07</td>\n",
       "      <td>...</td>\n",
       "      <td>2.560248</td>\n",
       "      <td>2.236583</td>\n",
       "      <td>0.323665</td>\n",
       "      <td>2.445951</td>\n",
       "      <td>1.037827</td>\n",
       "      <td>1.408124</td>\n",
       "      <td>239.008661</td>\n",
       "      <td>0.593240</td>\n",
       "      <td>0.591487</td>\n",
       "      <td>260.424362</td>\n",
       "    </tr>\n",
       "    <tr>\n",
       "      <th>...</th>\n",
       "      <td>...</td>\n",
       "      <td>...</td>\n",
       "      <td>...</td>\n",
       "      <td>...</td>\n",
       "      <td>...</td>\n",
       "      <td>...</td>\n",
       "      <td>...</td>\n",
       "      <td>...</td>\n",
       "      <td>...</td>\n",
       "      <td>...</td>\n",
       "      <td>...</td>\n",
       "      <td>...</td>\n",
       "      <td>...</td>\n",
       "      <td>...</td>\n",
       "      <td>...</td>\n",
       "      <td>...</td>\n",
       "      <td>...</td>\n",
       "      <td>...</td>\n",
       "      <td>...</td>\n",
       "      <td>...</td>\n",
       "      <td>...</td>\n",
       "    </tr>\n",
       "    <tr>\n",
       "      <th>1567</th>\n",
       "      <td>232.350006</td>\n",
       "      <td>226.100006</td>\n",
       "      <td>228.000000</td>\n",
       "      <td>16592198</td>\n",
       "      <td>2023-07-07</td>\n",
       "      <td>228.000000</td>\n",
       "      <td>453.553256</td>\n",
       "      <td>2.293671</td>\n",
       "      <td>0.0</td>\n",
       "      <td>-2.037085e+08</td>\n",
       "      <td>...</td>\n",
       "      <td>1.472041</td>\n",
       "      <td>1.443494</td>\n",
       "      <td>0.028547</td>\n",
       "      <td>14.181697</td>\n",
       "      <td>-1.676153</td>\n",
       "      <td>15.857850</td>\n",
       "      <td>221.131214</td>\n",
       "      <td>-0.696867</td>\n",
       "      <td>-0.699306</td>\n",
       "      <td>228.704209</td>\n",
       "    </tr>\n",
       "    <tr>\n",
       "      <th>1568</th>\n",
       "      <td>229.250000</td>\n",
       "      <td>224.649994</td>\n",
       "      <td>225.000000</td>\n",
       "      <td>7143637</td>\n",
       "      <td>2023-07-10</td>\n",
       "      <td>225.000000</td>\n",
       "      <td>454.863877</td>\n",
       "      <td>2.505387</td>\n",
       "      <td>0.0</td>\n",
       "      <td>-2.097650e+08</td>\n",
       "      <td>...</td>\n",
       "      <td>1.432846</td>\n",
       "      <td>1.441365</td>\n",
       "      <td>-0.008519</td>\n",
       "      <td>10.019252</td>\n",
       "      <td>0.662928</td>\n",
       "      <td>9.356324</td>\n",
       "      <td>221.442765</td>\n",
       "      <td>-1.315789</td>\n",
       "      <td>-1.324523</td>\n",
       "      <td>224.379154</td>\n",
       "    </tr>\n",
       "    <tr>\n",
       "      <th>1569</th>\n",
       "      <td>226.850006</td>\n",
       "      <td>224.699997</td>\n",
       "      <td>225.500000</td>\n",
       "      <td>5156417</td>\n",
       "      <td>2023-07-11</td>\n",
       "      <td>225.500000</td>\n",
       "      <td>455.300750</td>\n",
       "      <td>2.467283</td>\n",
       "      <td>0.0</td>\n",
       "      <td>-2.110841e+08</td>\n",
       "      <td>...</td>\n",
       "      <td>1.403432</td>\n",
       "      <td>1.433778</td>\n",
       "      <td>-0.030346</td>\n",
       "      <td>4.939055</td>\n",
       "      <td>1.518154</td>\n",
       "      <td>3.420902</td>\n",
       "      <td>221.779041</td>\n",
       "      <td>0.222222</td>\n",
       "      <td>0.221976</td>\n",
       "      <td>225.099996</td>\n",
       "    </tr>\n",
       "    <tr>\n",
       "      <th>1570</th>\n",
       "      <td>227.250000</td>\n",
       "      <td>225.199997</td>\n",
       "      <td>226.300003</td>\n",
       "      <td>7366992</td>\n",
       "      <td>2023-07-12</td>\n",
       "      <td>226.300003</td>\n",
       "      <td>455.737624</td>\n",
       "      <td>2.732191</td>\n",
       "      <td>0.0</td>\n",
       "      <td>-2.105450e+08</td>\n",
       "      <td>...</td>\n",
       "      <td>1.392655</td>\n",
       "      <td>1.425554</td>\n",
       "      <td>-0.032898</td>\n",
       "      <td>2.557142</td>\n",
       "      <td>1.725951</td>\n",
       "      <td>0.831191</td>\n",
       "      <td>222.161683</td>\n",
       "      <td>0.354769</td>\n",
       "      <td>0.354141</td>\n",
       "      <td>226.253349</td>\n",
       "    </tr>\n",
       "    <tr>\n",
       "      <th>1571</th>\n",
       "      <td>227.199997</td>\n",
       "      <td>220.899994</td>\n",
       "      <td>222.149994</td>\n",
       "      <td>9362010</td>\n",
       "      <td>2023-07-13</td>\n",
       "      <td>222.149994</td>\n",
       "      <td>456.174498</td>\n",
       "      <td>2.715499</td>\n",
       "      <td>0.0</td>\n",
       "      <td>-2.161919e+08</td>\n",
       "      <td>...</td>\n",
       "      <td>1.220168</td>\n",
       "      <td>1.384476</td>\n",
       "      <td>-0.164308</td>\n",
       "      <td>2.334531</td>\n",
       "      <td>1.847667</td>\n",
       "      <td>0.486863</td>\n",
       "      <td>222.161451</td>\n",
       "      <td>-1.833853</td>\n",
       "      <td>-1.850876</td>\n",
       "      <td>220.270342</td>\n",
       "    </tr>\n",
       "  </tbody>\n",
       "</table>\n",
       "<p>360 rows × 95 columns</p>\n",
       "</div>"
      ],
      "text/plain": [
       "            High         Low       Close    Volume         ds           y  \\\n",
       "1212  245.284180  241.106830  241.844009  24939671 2022-01-31  241.844009   \n",
       "1213  252.017078  240.615378  245.579056  74185275 2022-02-01  245.579056   \n",
       "1214  250.641019  244.989309  246.316238  25162901 2022-02-02  246.316238   \n",
       "1215  250.051263  245.038452  248.527771  27724870 2022-02-03  248.527771   \n",
       "1216  253.491440  248.675207  250.002136  39309420 2022-02-04  250.002136   \n",
       "...          ...         ...         ...       ...        ...         ...   \n",
       "1567  232.350006  226.100006  228.000000  16592198 2023-07-07  228.000000   \n",
       "1568  229.250000  224.649994  225.000000   7143637 2023-07-10  225.000000   \n",
       "1569  226.850006  224.699997  225.500000   5156417 2023-07-11  225.500000   \n",
       "1570  227.250000  225.199997  226.300003   7366992 2023-07-12  226.300003   \n",
       "1571  227.199997  220.899994  222.149994   9362010 2023-07-13  222.149994   \n",
       "\n",
       "           trend    weekly  multiplicative_terms    volume_adi  ...  \\\n",
       "1212  225.505231  2.505387                   0.0  1.003128e+08  ...   \n",
       "1213  225.942104  2.467283                   0.0  9.071994e+07  ...   \n",
       "1214  226.378978  2.732191                   0.0  7.737272e+07  ...   \n",
       "1215  226.815851  2.715499                   0.0  8.824532e+07  ...   \n",
       "1216  227.252725  2.293671                   0.0  7.059632e+07  ...   \n",
       "...          ...       ...                   ...           ...  ...   \n",
       "1567  453.553256  2.293671                   0.0 -2.037085e+08  ...   \n",
       "1568  454.863877  2.505387                   0.0 -2.097650e+08  ...   \n",
       "1569  455.300750  2.467283                   0.0 -2.110841e+08  ...   \n",
       "1570  455.737624  2.732191                   0.0 -2.105450e+08  ...   \n",
       "1571  456.174498  2.715499                   0.0 -2.161919e+08  ...   \n",
       "\n",
       "      momentum_ppo  momentum_ppo_signal  momentum_ppo_hist  momentum_pvo  \\\n",
       "1212      2.017382             1.999928           0.017455     -1.060474   \n",
       "1213      2.173547             2.034651           0.138895      7.937710   \n",
       "1214      2.293464             2.086414           0.207050      4.297494   \n",
       "1215      2.432681             2.155667           0.277014      1.847718   \n",
       "1216      2.560248             2.236583           0.323665      2.445951   \n",
       "...            ...                  ...                ...           ...   \n",
       "1567      1.472041             1.443494           0.028547     14.181697   \n",
       "1568      1.432846             1.441365          -0.008519     10.019252   \n",
       "1569      1.403432             1.433778          -0.030346      4.939055   \n",
       "1570      1.392655             1.425554          -0.032898      2.557142   \n",
       "1571      1.220168             1.384476          -0.164308      2.334531   \n",
       "\n",
       "      momentum_pvo_signal  momentum_pvo_hist  momentum_kama  others_dr  \\\n",
       "1212            -2.709714           1.649239     238.235608   0.819508   \n",
       "1213            -0.580229           8.517939     238.289150   1.544403   \n",
       "1214             0.395316           3.902178     238.622704   0.300181   \n",
       "1215             0.685796           1.161922     238.780145   0.897843   \n",
       "1216             1.037827           1.408124     239.008661   0.593240   \n",
       "...                   ...                ...            ...        ...   \n",
       "1567            -1.676153          15.857850     221.131214  -0.696867   \n",
       "1568             0.662928           9.356324     221.442765  -1.315789   \n",
       "1569             1.518154           3.420902     221.779041   0.222222   \n",
       "1570             1.725951           0.831191     222.161683   0.354769   \n",
       "1571             1.847667           0.486863     222.161451  -1.833853   \n",
       "\n",
       "      others_dlr   others_cr  \n",
       "1212    0.816168  248.662912  \n",
       "1213    1.532599  254.047672  \n",
       "1214    0.299732  255.110458  \n",
       "1215    0.893836  258.298791  \n",
       "1216    0.591487  260.424362  \n",
       "...          ...         ...  \n",
       "1567   -0.699306  228.704209  \n",
       "1568   -1.324523  224.379154  \n",
       "1569    0.221976  225.099996  \n",
       "1570    0.354141  226.253349  \n",
       "1571   -1.850876  220.270342  \n",
       "\n",
       "[360 rows x 95 columns]"
      ]
     },
     "execution_count": 95,
     "metadata": {},
     "output_type": "execute_result"
    }
   ],
   "source": [
    "X_test"
   ]
  },
  {
   "cell_type": "code",
   "execution_count": 144,
   "metadata": {},
   "outputs": [],
   "source": [
    "X_train = X_train.drop(columns=[\"ds\"])\n",
    "X_test = X_test.drop(columns=[\"ds\"])\n"
   ]
  },
  {
   "cell_type": "code",
   "execution_count": 97,
   "metadata": {},
   "outputs": [
    {
     "data": {
      "text/plain": [
       "0        69.363274\n",
       "1        69.825966\n",
       "2        69.068825\n",
       "3        69.152939\n",
       "4        68.942627\n",
       "           ...    \n",
       "1207    237.814087\n",
       "1208    225.626068\n",
       "1209    234.717941\n",
       "1210    236.929474\n",
       "1211    239.878189\n",
       "Name: y, Length: 1212, dtype: float64"
      ]
     },
     "execution_count": 97,
     "metadata": {},
     "output_type": "execute_result"
    }
   ],
   "source": [
    "y_train"
   ]
  },
  {
   "cell_type": "code",
   "execution_count": 145,
   "metadata": {
    "executionInfo": {
     "elapsed": 810,
     "status": "ok",
     "timestamp": 1621009964124,
     "user": {
      "displayName": "Diogo Resende",
      "photoUrl": "https://lh3.googleusercontent.com/a-/AOh14GgH4DE06-yE1oiIzCiaAURCl1Escr4LXXiaSnbSaA=s64",
      "userId": "05706604408624562002"
     },
     "user_tz": -120
    },
    "id": "N4DVh8ykuEzD"
   },
   "outputs": [],
   "source": [
    "#Matrices\n",
    "import xgboost as xgb\n",
    "Train = xgb.DMatrix(X_train, label = y_train)\n",
    "Test = xgb.DMatrix(X_test, label = y_test)"
   ]
  },
  {
   "cell_type": "code",
   "execution_count": 146,
   "metadata": {
    "executionInfo": {
     "elapsed": 755,
     "status": "ok",
     "timestamp": 1621010148513,
     "user": {
      "displayName": "Diogo Resende",
      "photoUrl": "https://lh3.googleusercontent.com/a-/AOh14GgH4DE06-yE1oiIzCiaAURCl1Escr4LXXiaSnbSaA=s64",
      "userId": "05706604408624562002"
     },
     "user_tz": -120
    },
    "id": "jMsbDX7huRjC"
   },
   "outputs": [],
   "source": [
    "#set the parameters\n",
    "parameters = {\n",
    "              'learning_rate': 0.3,\n",
    "              'max_depth': 40,\n",
    "              'colsample_bytree': 1,\n",
    "              'subsample': 1,\n",
    "              'min_child_weight' : 1,\n",
    "              'gamma': 0,\n",
    "              'random_state': 1600,\n",
    "              'eval_metric': \"rmse\",\n",
    "              '': \"reg:squarederror\"}"
   ]
  },
  {
   "cell_type": "code",
   "execution_count": null,
   "metadata": {},
   "outputs": [],
   "source": [
    "param_grid = {\n",
    "    'learning_rate': [0.3,0.1, 0.01, 0.001],\n",
    "     'colsample_bytree': [1,2,3,4],\n",
    "    'subsample': [1,2,3,4],\n",
    "        'min_child_weight': [1,2,3,4],\n",
    "        'eval_metric': [\"rmse\",\"rmse\",\"rmse\",\"rmse\"],\n",
    "        'objective': [\"reg:squarederror\",\"reg:squarederror\",\"reg:squarederror\",\"reg:squarederror\"],\n",
    "\n",
    "     'max_depth': [0.3,0.1, 0.01, 0.001],\n",
    "     'gamma': [0,1,1,1],\n",
    "     'random_state': [1600,2000,2000,200],\n",
    "\n",
    "              \n",
    "\n",
    "}"
   ]
  },
  {
   "cell_type": "markdown",
   "metadata": {
    "id": "r_NPjTwvvAFw"
   },
   "source": [
    "#XGBoost"
   ]
  },
  {
   "cell_type": "code",
   "execution_count": 147,
   "metadata": {
    "colab": {
     "base_uri": "https://localhost:8080/"
    },
    "executionInfo": {
     "elapsed": 1270,
     "status": "ok",
     "timestamp": 1621010214611,
     "user": {
      "displayName": "Diogo Resende",
      "photoUrl": "https://lh3.googleusercontent.com/a-/AOh14GgH4DE06-yE1oiIzCiaAURCl1Escr4LXXiaSnbSaA=s64",
      "userId": "05706604408624562002"
     },
     "user_tz": -120
    },
    "id": "tbfqPArxu-lW",
    "outputId": "b813ebd1-a6fc-477b-9c35-86f6f2484af1"
   },
   "outputs": [
    {
     "name": "stdout",
     "output_type": "stream",
     "text": [
      "[0]\ty-rmse:154.35687\n",
      "[1]\ty-rmse:108.19089\n",
      "[2]\ty-rmse:75.80794\n",
      "[3]\ty-rmse:54.76425\n",
      "[4]\ty-rmse:40.06477\n",
      "[5]\ty-rmse:29.04727\n",
      "[6]\ty-rmse:21.32551\n",
      "[7]\ty-rmse:16.09486\n",
      "[8]\ty-rmse:12.32697\n",
      "[9]\ty-rmse:9.73708\n",
      "[10]\ty-rmse:8.28791\n",
      "[11]\ty-rmse:7.09916\n",
      "[12]\ty-rmse:6.36925\n",
      "[13]\ty-rmse:5.94705\n",
      "[14]\ty-rmse:5.62521\n",
      "[15]\ty-rmse:5.34235\n",
      "[16]\ty-rmse:5.13634\n",
      "[17]\ty-rmse:4.92787\n",
      "[18]\ty-rmse:4.77536\n",
      "[19]\ty-rmse:4.65153\n",
      "[20]\ty-rmse:4.54989\n",
      "[21]\ty-rmse:4.47121\n",
      "[22]\ty-rmse:4.39484\n",
      "[23]\ty-rmse:4.33009\n",
      "[24]\ty-rmse:4.27122\n",
      "[25]\ty-rmse:4.22708\n",
      "[26]\ty-rmse:4.18677\n",
      "[27]\ty-rmse:4.15322\n",
      "[28]\ty-rmse:4.12511\n",
      "[29]\ty-rmse:4.10620\n",
      "[30]\ty-rmse:4.09029\n",
      "[31]\ty-rmse:4.07622\n",
      "[32]\ty-rmse:4.06411\n",
      "[33]\ty-rmse:4.05408\n",
      "[34]\ty-rmse:4.04566\n",
      "[35]\ty-rmse:4.03910\n",
      "[36]\ty-rmse:4.03353\n",
      "[37]\ty-rmse:4.02881\n",
      "[38]\ty-rmse:4.02477\n",
      "[39]\ty-rmse:4.02121\n",
      "[40]\ty-rmse:4.01834\n",
      "[41]\ty-rmse:4.01591\n",
      "[42]\ty-rmse:4.01387\n",
      "[43]\ty-rmse:4.01210\n",
      "[44]\ty-rmse:4.01054\n",
      "[45]\ty-rmse:4.00922\n",
      "[46]\ty-rmse:4.00809\n",
      "[47]\ty-rmse:4.00714\n",
      "[48]\ty-rmse:4.00633\n",
      "[49]\ty-rmse:4.00566\n",
      "[50]\ty-rmse:4.00510\n",
      "[51]\ty-rmse:4.00461\n",
      "[52]\ty-rmse:4.00420\n",
      "[53]\ty-rmse:4.00385\n",
      "[54]\ty-rmse:4.00354\n",
      "[55]\ty-rmse:4.00329\n",
      "[56]\ty-rmse:4.00308\n",
      "[57]\ty-rmse:4.00290\n",
      "[58]\ty-rmse:4.00274\n",
      "[59]\ty-rmse:4.00261\n",
      "[60]\ty-rmse:4.00250\n",
      "[61]\ty-rmse:4.00240\n",
      "[62]\ty-rmse:4.00232\n",
      "[63]\ty-rmse:4.00225\n",
      "[64]\ty-rmse:4.00220\n",
      "[65]\ty-rmse:4.00215\n",
      "[66]\ty-rmse:4.00210\n",
      "[67]\ty-rmse:4.00207\n",
      "[68]\ty-rmse:4.00207\n",
      "[69]\ty-rmse:4.00204\n",
      "[70]\ty-rmse:4.00204\n",
      "[71]\ty-rmse:4.00204\n",
      "[72]\ty-rmse:4.00204\n",
      "[73]\ty-rmse:4.00204\n",
      "[74]\ty-rmse:4.00204\n",
      "[75]\ty-rmse:4.00204\n",
      "[76]\ty-rmse:4.00204\n",
      "[77]\ty-rmse:4.00204\n",
      "[78]\ty-rmse:4.00204\n",
      "[79]\ty-rmse:4.00204\n"
     ]
    }
   ],
   "source": [
    "model = xgb.train(params = parameters,\n",
    "                  dtrain = Train,\n",
    "                  num_boost_round = 80,\n",
    "                  evals = [(Test, \"y\")])"
   ]
  },
  {
   "cell_type": "code",
   "execution_count": 148,
   "metadata": {},
   "outputs": [
    {
     "name": "stdout",
     "output_type": "stream",
     "text": [
      "{'High': 759.0, 'Low': 226.0, 'Close': 535.0, 'Volume': 455.0, 'volume_adi': 242.0, 'volume_obv': 238.0, 'volume_cmf': 231.0, 'volume_fi': 140.0, 'volume_em': 259.0, 'volume_sma_em': 197.0, 'volume_vpt': 197.0, 'volume_vwap': 70.0, 'volume_mfi': 151.0, 'volume_nvi': 120.0, 'volatility_bbm': 58.0, 'volatility_bbh': 67.0, 'volatility_bbl': 77.0, 'volatility_bbw': 130.0, 'volatility_bbp': 90.0, 'volatility_kcc': 43.0, 'volatility_kch': 29.0, 'volatility_kcl': 20.0, 'volatility_kcw': 126.0, 'volatility_kcp': 104.0, 'volatility_dcl': 11.0, 'volatility_dch': 6.0, 'volatility_dcm': 7.0, 'volatility_dcw': 82.0, 'volatility_dcp': 127.0, 'volatility_atr': 88.0, 'volatility_ui': 88.0, 'trend_macd': 44.0, 'trend_macd_signal': 42.0, 'trend_macd_diff': 72.0, 'trend_sma_fast': 16.0, 'trend_sma_slow': 20.0, 'trend_ema_fast': 13.0, 'trend_ema_slow': 11.0, 'trend_vortex_ind_pos': 110.0, 'trend_vortex_ind_neg': 82.0, 'trend_vortex_ind_diff': 37.0, 'trend_trix': 78.0, 'trend_mass_index': 93.0, 'trend_dpo': 193.0, 'trend_kst': 32.0, 'trend_kst_sig': 78.0, 'trend_kst_diff': 101.0, 'trend_ichimoku_conv': 29.0, 'trend_ichimoku_base': 8.0, 'trend_ichimoku_a': 8.0, 'trend_ichimoku_b': 12.0, 'trend_stc': 72.0, 'trend_adx': 78.0, 'trend_adx_pos': 84.0, 'trend_adx_neg': 87.0, 'trend_cci': 110.0, 'trend_visual_ichimoku_a': 46.0, 'trend_visual_ichimoku_b': 16.0, 'trend_aroon_up': 47.0, 'trend_aroon_down': 54.0, 'trend_aroon_ind': 32.0, 'trend_psar_up': 20.0, 'trend_psar_down': 17.0, 'trend_psar_up_indicator': 10.0, 'trend_psar_down_indicator': 6.0, 'momentum_rsi': 44.0, 'momentum_stoch_rsi': 65.0, 'momentum_stoch_rsi_k': 92.0, 'momentum_stoch_rsi_d': 80.0, 'momentum_tsi': 32.0, 'momentum_uo': 125.0, 'momentum_stoch': 68.0, 'momentum_stoch_signal': 107.0, 'momentum_ao': 47.0, 'momentum_roc': 104.0, 'momentum_ppo': 17.0, 'momentum_ppo_signal': 9.0, 'momentum_ppo_hist': 36.0, 'momentum_pvo': 127.0, 'momentum_pvo_signal': 71.0, 'momentum_pvo_hist': 147.0, 'momentum_kama': 23.0, 'others_dr': 208.0, 'others_dlr': 7.0, 'trend': 57.0, 'weekly': 126.0}\n"
     ]
    }
   ],
   "source": [
    "dir(model)\n",
    "print(model.get_score()) "
   ]
  },
  {
   "cell_type": "code",
   "execution_count": 149,
   "metadata": {},
   "outputs": [],
   "source": [
    "#forecasting\n",
    "predictions = pd.Series(model.predict(Test), name = \"XGBoost\")\n",
    "predictions.index  =test_set.ds"
   ]
  },
  {
   "cell_type": "markdown",
   "metadata": {
    "id": "chgYCCqhvmiW"
   },
   "source": [
    "#VIZ and assessment"
   ]
  },
  {
   "cell_type": "code",
   "execution_count": 150,
   "metadata": {
    "executionInfo": {
     "elapsed": 752,
     "status": "ok",
     "timestamp": 1621010365844,
     "user": {
      "displayName": "Diogo Resende",
      "photoUrl": "https://lh3.googleusercontent.com/a-/AOh14GgH4DE06-yE1oiIzCiaAURCl1Escr4LXXiaSnbSaA=s64",
      "userId": "05706604408624562002"
     },
     "user_tz": -120
    },
    "id": "R8azMDH1vkxr"
   },
   "outputs": [],
   "source": [
    "#Visualization\n",
    "training_set.index = training_set.ds\n",
    "test_set.index = test_set.ds"
   ]
  },
  {
   "cell_type": "code",
   "execution_count": 151,
   "metadata": {
    "colab": {
     "base_uri": "https://localhost:8080/",
     "height": 417
    },
    "executionInfo": {
     "elapsed": 1600,
     "status": "ok",
     "timestamp": 1621010431951,
     "user": {
      "displayName": "Diogo Resende",
      "photoUrl": "https://lh3.googleusercontent.com/a-/AOh14GgH4DE06-yE1oiIzCiaAURCl1Escr4LXXiaSnbSaA=s64",
      "userId": "05706604408624562002"
     },
     "user_tz": -120
    },
    "id": "KmUOTBaYvzQV",
    "outputId": "0ef89d8d-377d-43d6-fd82-62bf6f46c01e"
   },
   "outputs": [
    {
     "data": {
      "text/plain": [
       "<Axes: xlabel='ds'>"
      ]
     },
     "execution_count": 151,
     "metadata": {},
     "output_type": "execute_result"
    },
    {
     "data": {
      "image/png": "[encoded data removed]",
      "text/plain": [
       "<Figure size 900x600 with 1 Axes>"
      ]
     },
     "metadata": {},
     "output_type": "display_data"
    }
   ],
   "source": [
    "training_set.y['2022-01-01':].plot(figsize = (9,6), legend = True)\n",
    "test_set.y.plot(legend = True)\n",
    "predictions.plot(legend = True)"
   ]
  },
  {
   "cell_type": "code",
   "execution_count": 152,
   "metadata": {
    "colab": {
     "base_uri": "https://localhost:8080/"
    },
    "executionInfo": {
     "elapsed": 972,
     "status": "ok",
     "timestamp": 1621010535824,
     "user": {
      "displayName": "Diogo Resende",
      "photoUrl": "https://lh3.googleusercontent.com/a-/AOh14GgH4DE06-yE1oiIzCiaAURCl1Escr4LXXiaSnbSaA=s64",
      "userId": "05706604408624562002"
     },
     "user_tz": -120
    },
    "id": "cWiOhRX-wJjT",
    "outputId": "8ae1a6f5-be12-4e69-e6ff-ccbacf38dca0"
   },
   "outputs": [
    {
     "data": {
      "text/plain": [
       "1.0377654668134304"
      ]
     },
     "execution_count": 152,
     "metadata": {},
     "output_type": "execute_result"
    }
   ],
   "source": [
    "#MAPE\n",
    "def MAPE(y_true, y_pred):\n",
    "  y_true, y_pred = np.array(y_true), np.array(y_pred)\n",
    "  return np.mean(np.abs((y_true - y_pred) / y_true)) * 100\n",
    "MAPE(test_set.y, predictions)"
   ]
  },
  {
   "cell_type": "markdown",
   "metadata": {},
   "source": [
    "#Future\n",
    "\n"
   ]
  }
 ],
 "metadata": {
  "colab": {
   "authorship_tag": "ABX9TyONf4Fw76cQlH82pdR3h9Fa",
   "mount_file_id": "182alF94XmFPfm3NMnYKs4Tu9b-3DTW7y",
   "name": "Facebook Prophet + XGBoost Challenge Template.ipynb",
   "provenance": []
  },
  "kernelspec": {
   "display_name": "Python 3 (ipykernel)",
   "language": "python",
   "name": "python3"
  },
  "language_info": {
   "codemirror_mode": {
    "name": "ipython",
    "version": 3
   },
   "file_extension": ".py",
   "mimetype": "text/x-python",
   "name": "python",
   "nbconvert_exporter": "python",
   "pygments_lexer": "ipython3",
   "version": "3.9.16"
  }
 },
 "nbformat": 4,
 "nbformat_minor": 1
}
