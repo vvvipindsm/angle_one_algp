{
 "cells": [
  {
   "cell_type": "markdown",
   "metadata": {
    "id": "KziJ91gPrZO3"
   },
   "source": [
    "# Import libraries and data\n"
   ]
  },
  {
   "cell_type": "code",
   "execution_count": 1,
   "metadata": {
    "colab": {
     "base_uri": "https://localhost:8080/"
    },
    "executionInfo": {
     "elapsed": 521,
     "status": "ok",
     "timestamp": 1620714137503,
     "user": {
      "displayName": "Diogo Resende",
      "photoUrl": "https://lh3.googleusercontent.com/a-/AOh14GgH4DE06-yE1oiIzCiaAURCl1Escr4LXXiaSnbSaA=s64",
      "userId": "05706604408624562002"
     },
     "user_tz": -120
    },
    "id": "ZUi3LzkirGZH",
    "outputId": "5253325f-cd03-47a6-fb87-b0b3acd4d1cb"
   },
   "outputs": [
    {
     "name": "stdout",
     "output_type": "stream",
     "text": [
      "/content/drive/MyDrive/Forecasting Models and Time Series for Business in Python\n"
     ]
    }
   ],
   "source": [
    "%cd /content/drive/MyDrive/Forecasting Models and Time Series for Business in Python"
   ]
  },
  {
   "cell_type": "code",
   "execution_count": 2,
   "metadata": {
    "executionInfo": {
     "elapsed": 2928,
     "status": "ok",
     "timestamp": 1620714153166,
     "user": {
      "displayName": "Diogo Resende",
      "photoUrl": "https://lh3.googleusercontent.com/a-/AOh14GgH4DE06-yE1oiIzCiaAURCl1Escr4LXXiaSnbSaA=s64",
      "userId": "05706604408624562002"
     },
     "user_tz": -120
    },
    "id": "nJQoK7c4r3SR"
   },
   "outputs": [],
   "source": [
    "#import libraries\n",
    "import xgboost as xgb\n",
    "import itertools\n",
    "from fbprophet import Prophet\n",
    "import pandas as pd\n",
    "import numpy as np"
   ]
  },
  {
   "cell_type": "code",
   "execution_count": 3,
   "metadata": {
    "colab": {
     "base_uri": "https://localhost:8080/",
     "height": 116
    },
    "executionInfo": {
     "elapsed": 1010,
     "status": "ok",
     "timestamp": 1620714157801,
     "user": {
      "displayName": "Diogo Resende",
      "photoUrl": "https://lh3.googleusercontent.com/a-/AOh14GgH4DE06-yE1oiIzCiaAURCl1Escr4LXXiaSnbSaA=s64",
      "userId": "05706604408624562002"
     },
     "user_tz": -120
    },
    "id": "kYo4C4W5sbSv",
    "outputId": "f20e266a-097a-4088-bf81-7832803fb12c"
   },
   "outputs": [
    {
     "data": {
      "text/html": [
       "<div>\n",
       "<style scoped>\n",
       "    .dataframe tbody tr th:only-of-type {\n",
       "        vertical-align: middle;\n",
       "    }\n",
       "\n",
       "    .dataframe tbody tr th {\n",
       "        vertical-align: top;\n",
       "    }\n",
       "\n",
       "    .dataframe thead th {\n",
       "        text-align: right;\n",
       "    }\n",
       "</style>\n",
       "<table border=\"1\" class=\"dataframe\">\n",
       "  <thead>\n",
       "    <tr style=\"text-align: right;\">\n",
       "      <th></th>\n",
       "      <th>instant</th>\n",
       "      <th>dteday</th>\n",
       "      <th>season</th>\n",
       "      <th>yr</th>\n",
       "      <th>mnth</th>\n",
       "      <th>holiday</th>\n",
       "      <th>weekday</th>\n",
       "      <th>workingday</th>\n",
       "      <th>weathersit</th>\n",
       "      <th>temp</th>\n",
       "      <th>atemp</th>\n",
       "      <th>hum</th>\n",
       "      <th>windspeed</th>\n",
       "      <th>casual</th>\n",
       "      <th>registered</th>\n",
       "      <th>cnt</th>\n",
       "    </tr>\n",
       "  </thead>\n",
       "  <tbody>\n",
       "    <tr>\n",
       "      <th>0</th>\n",
       "      <td>1</td>\n",
       "      <td>2011-01-01</td>\n",
       "      <td>1</td>\n",
       "      <td>0</td>\n",
       "      <td>1</td>\n",
       "      <td>0</td>\n",
       "      <td>6</td>\n",
       "      <td>0</td>\n",
       "      <td>2</td>\n",
       "      <td>0.344167</td>\n",
       "      <td>0.363625</td>\n",
       "      <td>0.805833</td>\n",
       "      <td>0.160446</td>\n",
       "      <td>331</td>\n",
       "      <td>654</td>\n",
       "      <td>985</td>\n",
       "    </tr>\n",
       "  </tbody>\n",
       "</table>\n",
       "</div>"
      ],
      "text/plain": [
       "   instant      dteday  season  yr  ...  windspeed  casual  registered  cnt\n",
       "0        1  2011-01-01       1   0  ...   0.160446     331         654  985\n",
       "\n",
       "[1 rows x 16 columns]"
      ]
     },
     "execution_count": 3,
     "metadata": {
      "tags": []
     },
     "output_type": "execute_result"
    }
   ],
   "source": [
    "#get the data\n",
    "data = pd.read_csv(\"Daily Bike Sharing.csv\")\n",
    "data.head(1)"
   ]
  },
  {
   "cell_type": "code",
   "execution_count": 4,
   "metadata": {
    "colab": {
     "base_uri": "https://localhost:8080/",
     "height": 79
    },
    "executionInfo": {
     "elapsed": 756,
     "status": "ok",
     "timestamp": 1620714165742,
     "user": {
      "displayName": "Diogo Resende",
      "photoUrl": "https://lh3.googleusercontent.com/a-/AOh14GgH4DE06-yE1oiIzCiaAURCl1Escr4LXXiaSnbSaA=s64",
      "userId": "05706604408624562002"
     },
     "user_tz": -120
    },
    "id": "QPEJCVShvlyi",
    "outputId": "8826926c-681f-469b-d6d3-807b1dae526c"
   },
   "outputs": [
    {
     "data": {
      "text/html": [
       "<div>\n",
       "<style scoped>\n",
       "    .dataframe tbody tr th:only-of-type {\n",
       "        vertical-align: middle;\n",
       "    }\n",
       "\n",
       "    .dataframe tbody tr th {\n",
       "        vertical-align: top;\n",
       "    }\n",
       "\n",
       "    .dataframe thead th {\n",
       "        text-align: right;\n",
       "    }\n",
       "</style>\n",
       "<table border=\"1\" class=\"dataframe\">\n",
       "  <thead>\n",
       "    <tr style=\"text-align: right;\">\n",
       "      <th></th>\n",
       "      <th>dteday</th>\n",
       "      <th>cnt</th>\n",
       "      <th>holiday</th>\n",
       "      <th>workingday</th>\n",
       "      <th>weathersit</th>\n",
       "      <th>temp</th>\n",
       "      <th>atemp</th>\n",
       "      <th>hum</th>\n",
       "      <th>windspeed</th>\n",
       "    </tr>\n",
       "  </thead>\n",
       "  <tbody>\n",
       "    <tr>\n",
       "      <th>0</th>\n",
       "      <td>2011-01-01</td>\n",
       "      <td>985</td>\n",
       "      <td>0</td>\n",
       "      <td>0</td>\n",
       "      <td>2</td>\n",
       "      <td>0.344167</td>\n",
       "      <td>0.363625</td>\n",
       "      <td>0.805833</td>\n",
       "      <td>0.160446</td>\n",
       "    </tr>\n",
       "  </tbody>\n",
       "</table>\n",
       "</div>"
      ],
      "text/plain": [
       "       dteday  cnt  holiday  ...     atemp       hum  windspeed\n",
       "0  2011-01-01  985        0  ...  0.363625  0.805833   0.160446\n",
       "\n",
       "[1 rows x 9 columns]"
      ]
     },
     "execution_count": 4,
     "metadata": {
      "tags": []
     },
     "output_type": "execute_result"
    }
   ],
   "source": [
    "#select variables\n",
    "dataset = data.loc[:, [\"dteday\",\"cnt\", \"holiday\", \"workingday\", \"weathersit\",\n",
    "                       \"temp\", \"atemp\", \"hum\", \"windspeed\"]]\n",
    "dataset.head(1)                       "
   ]
  },
  {
   "cell_type": "markdown",
   "metadata": {
    "id": "IK3ssLEvw9iy"
   },
   "source": [
    "#Data Transformation"
   ]
  },
  {
   "cell_type": "code",
   "execution_count": 5,
   "metadata": {
    "colab": {
     "base_uri": "https://localhost:8080/"
    },
    "executionInfo": {
     "elapsed": 500,
     "status": "ok",
     "timestamp": 1620714178108,
     "user": {
      "displayName": "Diogo Resende",
      "photoUrl": "https://lh3.googleusercontent.com/a-/AOh14GgH4DE06-yE1oiIzCiaAURCl1Escr4LXXiaSnbSaA=s64",
      "userId": "05706604408624562002"
     },
     "user_tz": -120
    },
    "id": "m97pL8abzw3-",
    "outputId": "b81f2123-1f6d-4000-da7f-2da926838c43"
   },
   "outputs": [
    {
     "data": {
      "text/plain": [
       "0     2011-01-01\n",
       "1     2011-01-02\n",
       "2     2011-01-03\n",
       "3     2011-01-04\n",
       "4     2011-01-05\n",
       "         ...    \n",
       "726   2012-12-27\n",
       "727   2012-12-28\n",
       "728   2012-12-29\n",
       "729   2012-12-30\n",
       "730   2012-12-31\n",
       "Name: dteday, Length: 731, dtype: datetime64[ns]"
      ]
     },
     "execution_count": 5,
     "metadata": {
      "tags": []
     },
     "output_type": "execute_result"
    }
   ],
   "source": [
    "#Date variable\n",
    "dataset.dteday = pd.to_datetime(dataset.dteday,\n",
    "                                format = \"%Y-%m-%d\")\n",
    "dataset.dteday"
   ]
  },
  {
   "cell_type": "code",
   "execution_count": 6,
   "metadata": {
    "colab": {
     "base_uri": "https://localhost:8080/",
     "height": 79
    },
    "executionInfo": {
     "elapsed": 434,
     "status": "ok",
     "timestamp": 1620714183627,
     "user": {
      "displayName": "Diogo Resende",
      "photoUrl": "https://lh3.googleusercontent.com/a-/AOh14GgH4DE06-yE1oiIzCiaAURCl1Escr4LXXiaSnbSaA=s64",
      "userId": "05706604408624562002"
     },
     "user_tz": -120
    },
    "id": "95mCg5Eyw8Ym",
    "outputId": "d29d1127-13f8-4094-d2a9-088fb8651714"
   },
   "outputs": [
    {
     "data": {
      "text/html": [
       "<div>\n",
       "<style scoped>\n",
       "    .dataframe tbody tr th:only-of-type {\n",
       "        vertical-align: middle;\n",
       "    }\n",
       "\n",
       "    .dataframe tbody tr th {\n",
       "        vertical-align: top;\n",
       "    }\n",
       "\n",
       "    .dataframe thead th {\n",
       "        text-align: right;\n",
       "    }\n",
       "</style>\n",
       "<table border=\"1\" class=\"dataframe\">\n",
       "  <thead>\n",
       "    <tr style=\"text-align: right;\">\n",
       "      <th></th>\n",
       "      <th>ds</th>\n",
       "      <th>y</th>\n",
       "      <th>holiday</th>\n",
       "      <th>workingday</th>\n",
       "      <th>weathersit</th>\n",
       "      <th>temp</th>\n",
       "      <th>atemp</th>\n",
       "      <th>hum</th>\n",
       "      <th>windspeed</th>\n",
       "    </tr>\n",
       "  </thead>\n",
       "  <tbody>\n",
       "    <tr>\n",
       "      <th>0</th>\n",
       "      <td>2011-01-01</td>\n",
       "      <td>985</td>\n",
       "      <td>0</td>\n",
       "      <td>0</td>\n",
       "      <td>2</td>\n",
       "      <td>0.344167</td>\n",
       "      <td>0.363625</td>\n",
       "      <td>0.805833</td>\n",
       "      <td>0.160446</td>\n",
       "    </tr>\n",
       "  </tbody>\n",
       "</table>\n",
       "</div>"
      ],
      "text/plain": [
       "          ds    y  holiday  workingday  ...      temp     atemp       hum  windspeed\n",
       "0 2011-01-01  985        0           0  ...  0.344167  0.363625  0.805833   0.160446\n",
       "\n",
       "[1 rows x 9 columns]"
      ]
     },
     "execution_count": 6,
     "metadata": {
      "tags": []
     },
     "output_type": "execute_result"
    }
   ],
   "source": [
    "#renaming variable\n",
    "dataset = dataset.rename(columns = {'cnt' : 'y'})\n",
    "dataset = dataset.rename(columns = {'dteday' : 'ds'})\n",
    "dataset.head(1)"
   ]
  },
  {
   "cell_type": "markdown",
   "metadata": {
    "id": "QEoBDeiO3e3o"
   },
   "source": [
    "#holidays"
   ]
  },
  {
   "cell_type": "code",
   "execution_count": 7,
   "metadata": {
    "colab": {
     "base_uri": "https://localhost:8080/",
     "height": 203
    },
    "executionInfo": {
     "elapsed": 711,
     "status": "ok",
     "timestamp": 1620714199764,
     "user": {
      "displayName": "Diogo Resende",
      "photoUrl": "https://lh3.googleusercontent.com/a-/AOh14GgH4DE06-yE1oiIzCiaAURCl1Escr4LXXiaSnbSaA=s64",
      "userId": "05706604408624562002"
     },
     "user_tz": -120
    },
    "id": "TLfN3NR43i2z",
    "outputId": "c0008258-433f-4131-d441-6acb2e27a09a"
   },
   "outputs": [
    {
     "data": {
      "text/html": [
       "<div>\n",
       "<style scoped>\n",
       "    .dataframe tbody tr th:only-of-type {\n",
       "        vertical-align: middle;\n",
       "    }\n",
       "\n",
       "    .dataframe tbody tr th {\n",
       "        vertical-align: top;\n",
       "    }\n",
       "\n",
       "    .dataframe thead th {\n",
       "        text-align: right;\n",
       "    }\n",
       "</style>\n",
       "<table border=\"1\" class=\"dataframe\">\n",
       "  <thead>\n",
       "    <tr style=\"text-align: right;\">\n",
       "      <th></th>\n",
       "      <th>holiday</th>\n",
       "      <th>ds</th>\n",
       "      <th>lower_window</th>\n",
       "      <th>upper_window</th>\n",
       "    </tr>\n",
       "  </thead>\n",
       "  <tbody>\n",
       "    <tr>\n",
       "      <th>16</th>\n",
       "      <td>holi</td>\n",
       "      <td>2011-01-17</td>\n",
       "      <td>-3</td>\n",
       "      <td>1</td>\n",
       "    </tr>\n",
       "    <tr>\n",
       "      <th>51</th>\n",
       "      <td>holi</td>\n",
       "      <td>2011-02-21</td>\n",
       "      <td>-3</td>\n",
       "      <td>1</td>\n",
       "    </tr>\n",
       "    <tr>\n",
       "      <th>104</th>\n",
       "      <td>holi</td>\n",
       "      <td>2011-04-15</td>\n",
       "      <td>-3</td>\n",
       "      <td>1</td>\n",
       "    </tr>\n",
       "    <tr>\n",
       "      <th>149</th>\n",
       "      <td>holi</td>\n",
       "      <td>2011-05-30</td>\n",
       "      <td>-3</td>\n",
       "      <td>1</td>\n",
       "    </tr>\n",
       "    <tr>\n",
       "      <th>184</th>\n",
       "      <td>holi</td>\n",
       "      <td>2011-07-04</td>\n",
       "      <td>-3</td>\n",
       "      <td>1</td>\n",
       "    </tr>\n",
       "  </tbody>\n",
       "</table>\n",
       "</div>"
      ],
      "text/plain": [
       "    holiday         ds  lower_window  upper_window\n",
       "16     holi 2011-01-17            -3             1\n",
       "51     holi 2011-02-21            -3             1\n",
       "104    holi 2011-04-15            -3             1\n",
       "149    holi 2011-05-30            -3             1\n",
       "184    holi 2011-07-04            -3             1"
      ]
     },
     "execution_count": 7,
     "metadata": {
      "tags": []
     },
     "output_type": "execute_result"
    }
   ],
   "source": [
    "holiday_dates = dataset[dataset.holiday == 1].ds\n",
    "holidays = pd.DataFrame({'holiday' : 'holi',\n",
    "                         'ds': pd.to_datetime(holiday_dates),\n",
    "                         'lower_window': -3,\n",
    "                         'upper_window': 1})\n",
    "holidays.head()"
   ]
  },
  {
   "cell_type": "code",
   "execution_count": 8,
   "metadata": {
    "colab": {
     "base_uri": "https://localhost:8080/",
     "height": 79
    },
    "executionInfo": {
     "elapsed": 812,
     "status": "ok",
     "timestamp": 1620714218943,
     "user": {
      "displayName": "Diogo Resende",
      "photoUrl": "https://lh3.googleusercontent.com/a-/AOh14GgH4DE06-yE1oiIzCiaAURCl1Escr4LXXiaSnbSaA=s64",
      "userId": "05706604408624562002"
     },
     "user_tz": -120
    },
    "id": "yG94an804-y7",
    "outputId": "7a4bfc94-4095-49cb-f7af-c2e8d6902208"
   },
   "outputs": [
    {
     "data": {
      "text/html": [
       "<div>\n",
       "<style scoped>\n",
       "    .dataframe tbody tr th:only-of-type {\n",
       "        vertical-align: middle;\n",
       "    }\n",
       "\n",
       "    .dataframe tbody tr th {\n",
       "        vertical-align: top;\n",
       "    }\n",
       "\n",
       "    .dataframe thead th {\n",
       "        text-align: right;\n",
       "    }\n",
       "</style>\n",
       "<table border=\"1\" class=\"dataframe\">\n",
       "  <thead>\n",
       "    <tr style=\"text-align: right;\">\n",
       "      <th></th>\n",
       "      <th>ds</th>\n",
       "      <th>y</th>\n",
       "      <th>workingday</th>\n",
       "      <th>weathersit</th>\n",
       "      <th>temp</th>\n",
       "      <th>atemp</th>\n",
       "      <th>hum</th>\n",
       "      <th>windspeed</th>\n",
       "    </tr>\n",
       "  </thead>\n",
       "  <tbody>\n",
       "    <tr>\n",
       "      <th>0</th>\n",
       "      <td>2011-01-01</td>\n",
       "      <td>985</td>\n",
       "      <td>0</td>\n",
       "      <td>2</td>\n",
       "      <td>0.344167</td>\n",
       "      <td>0.363625</td>\n",
       "      <td>0.805833</td>\n",
       "      <td>0.160446</td>\n",
       "    </tr>\n",
       "  </tbody>\n",
       "</table>\n",
       "</div>"
      ],
      "text/plain": [
       "          ds    y  workingday  ...     atemp       hum  windspeed\n",
       "0 2011-01-01  985           0  ...  0.363625  0.805833   0.160446\n",
       "\n",
       "[1 rows x 8 columns]"
      ]
     },
     "execution_count": 8,
     "metadata": {
      "tags": []
     },
     "output_type": "execute_result"
    }
   ],
   "source": [
    "#removing holiday column\n",
    "dataset = dataset.drop(columns = \"holiday\")\n",
    "dataset.head(1)"
   ]
  },
  {
   "cell_type": "markdown",
   "metadata": {
    "id": "yc4bHuUuEX_u"
   },
   "source": [
    "#Training and Test Set"
   ]
  },
  {
   "cell_type": "code",
   "execution_count": 9,
   "metadata": {
    "colab": {
     "base_uri": "https://localhost:8080/",
     "height": 79
    },
    "executionInfo": {
     "elapsed": 480,
     "status": "ok",
     "timestamp": 1620714223550,
     "user": {
      "displayName": "Diogo Resende",
      "photoUrl": "https://lh3.googleusercontent.com/a-/AOh14GgH4DE06-yE1oiIzCiaAURCl1Escr4LXXiaSnbSaA=s64",
      "userId": "05706604408624562002"
     },
     "user_tz": -120
    },
    "id": "f4CyGbspEaYF",
    "outputId": "e5ce64ea-67b9-4f1b-c719-61d8519ffa21"
   },
   "outputs": [
    {
     "data": {
      "text/html": [
       "<div>\n",
       "<style scoped>\n",
       "    .dataframe tbody tr th:only-of-type {\n",
       "        vertical-align: middle;\n",
       "    }\n",
       "\n",
       "    .dataframe tbody tr th {\n",
       "        vertical-align: top;\n",
       "    }\n",
       "\n",
       "    .dataframe thead th {\n",
       "        text-align: right;\n",
       "    }\n",
       "</style>\n",
       "<table border=\"1\" class=\"dataframe\">\n",
       "  <thead>\n",
       "    <tr style=\"text-align: right;\">\n",
       "      <th></th>\n",
       "      <th>ds</th>\n",
       "      <th>y</th>\n",
       "      <th>workingday</th>\n",
       "      <th>weathersit</th>\n",
       "      <th>temp</th>\n",
       "      <th>atemp</th>\n",
       "      <th>hum</th>\n",
       "      <th>windspeed</th>\n",
       "    </tr>\n",
       "  </thead>\n",
       "  <tbody>\n",
       "    <tr>\n",
       "      <th>730</th>\n",
       "      <td>2012-12-31</td>\n",
       "      <td>2729</td>\n",
       "      <td>1</td>\n",
       "      <td>2</td>\n",
       "      <td>0.215833</td>\n",
       "      <td>0.223487</td>\n",
       "      <td>0.5775</td>\n",
       "      <td>0.154846</td>\n",
       "    </tr>\n",
       "  </tbody>\n",
       "</table>\n",
       "</div>"
      ],
      "text/plain": [
       "            ds     y  workingday  ...     atemp     hum  windspeed\n",
       "730 2012-12-31  2729           1  ...  0.223487  0.5775   0.154846\n",
       "\n",
       "[1 rows x 8 columns]"
      ]
     },
     "execution_count": 9,
     "metadata": {
      "tags": []
     },
     "output_type": "execute_result"
    }
   ],
   "source": [
    "#Training and test set\n",
    "test_days = 31\n",
    "training_set = dataset.iloc[:-test_days, :]\n",
    "test_set = dataset.iloc[-test_days:, :]\n",
    "test_set.tail(1)"
   ]
  },
  {
   "cell_type": "markdown",
   "metadata": {
    "id": "g3q5LU6OMgRM"
   },
   "source": [
    "#Facebook Prophet"
   ]
  },
  {
   "cell_type": "code",
   "execution_count": 10,
   "metadata": {
    "colab": {
     "base_uri": "https://localhost:8080/"
    },
    "executionInfo": {
     "elapsed": 2712,
     "status": "ok",
     "timestamp": 1620714271017,
     "user": {
      "displayName": "Diogo Resende",
      "photoUrl": "https://lh3.googleusercontent.com/a-/AOh14GgH4DE06-yE1oiIzCiaAURCl1Escr4LXXiaSnbSaA=s64",
      "userId": "05706604408624562002"
     },
     "user_tz": -120
    },
    "id": "BZN87GKaMq1u",
    "outputId": "357bf01b-512d-44b8-adce-a50c7e59cbda"
   },
   "outputs": [
    {
     "data": {
      "text/plain": [
       "<fbprophet.forecaster.Prophet at 0x7f23809bd350>"
      ]
     },
     "execution_count": 10,
     "metadata": {
      "tags": []
     },
     "output_type": "execute_result"
    }
   ],
   "source": [
    "#Facebook Prophet model\n",
    "m = Prophet(growth = \"linear\",\n",
    "            yearly_seasonality = True,\n",
    "            weekly_seasonality = True,\n",
    "            daily_seasonality = False,\n",
    "            holidays = holidays,\n",
    "            seasonality_mode = \"multiplicative\",\n",
    "            seasonality_prior_scale = 20,\n",
    "            holidays_prior_scale = 20,\n",
    "            changepoint_prior_scale = 0.01)\n",
    "m.add_regressor('workingday')\n",
    "m.add_regressor('weathersit')\n",
    "m.add_regressor('temp')\n",
    "m.add_regressor('atemp')\n",
    "m.add_regressor('hum')\n",
    "m.add_regressor('windspeed')\n",
    "m.fit(training_set)"
   ]
  },
  {
   "cell_type": "markdown",
   "metadata": {
    "id": "RkhwjVhvALrS"
   },
   "source": [
    "#forecasting "
   ]
  },
  {
   "cell_type": "code",
   "execution_count": 11,
   "metadata": {
    "colab": {
     "base_uri": "https://localhost:8080/",
     "height": 79
    },
    "executionInfo": {
     "elapsed": 482,
     "status": "ok",
     "timestamp": 1620714290144,
     "user": {
      "displayName": "Diogo Resende",
      "photoUrl": "https://lh3.googleusercontent.com/a-/AOh14GgH4DE06-yE1oiIzCiaAURCl1Escr4LXXiaSnbSaA=s64",
      "userId": "05706604408624562002"
     },
     "user_tz": -120
    },
    "id": "kUy9IWbnAPG4",
    "outputId": "abbcd79c-436c-4d27-e2c6-323c353b8910"
   },
   "outputs": [
    {
     "data": {
      "text/html": [
       "<div>\n",
       "<style scoped>\n",
       "    .dataframe tbody tr th:only-of-type {\n",
       "        vertical-align: middle;\n",
       "    }\n",
       "\n",
       "    .dataframe tbody tr th {\n",
       "        vertical-align: top;\n",
       "    }\n",
       "\n",
       "    .dataframe thead th {\n",
       "        text-align: right;\n",
       "    }\n",
       "</style>\n",
       "<table border=\"1\" class=\"dataframe\">\n",
       "  <thead>\n",
       "    <tr style=\"text-align: right;\">\n",
       "      <th></th>\n",
       "      <th>ds</th>\n",
       "    </tr>\n",
       "  </thead>\n",
       "  <tbody>\n",
       "    <tr>\n",
       "      <th>730</th>\n",
       "      <td>2012-12-31</td>\n",
       "    </tr>\n",
       "  </tbody>\n",
       "</table>\n",
       "</div>"
      ],
      "text/plain": [
       "            ds\n",
       "730 2012-12-31"
      ]
     },
     "execution_count": 11,
     "metadata": {
      "tags": []
     },
     "output_type": "execute_result"
    }
   ],
   "source": [
    "#Create Future Dataframe\n",
    "future = m.make_future_dataframe(periods = len(test_set),\n",
    "                                 freq = \"D\")\n",
    "future.tail(1)"
   ]
  },
  {
   "cell_type": "code",
   "execution_count": 12,
   "metadata": {
    "colab": {
     "base_uri": "https://localhost:8080/",
     "height": 203
    },
    "executionInfo": {
     "elapsed": 659,
     "status": "ok",
     "timestamp": 1620714299284,
     "user": {
      "displayName": "Diogo Resende",
      "photoUrl": "https://lh3.googleusercontent.com/a-/AOh14GgH4DE06-yE1oiIzCiaAURCl1Escr4LXXiaSnbSaA=s64",
      "userId": "05706604408624562002"
     },
     "user_tz": -120
    },
    "id": "AD3ezqzkAUBu",
    "outputId": "e337cb9f-f05d-4a83-ec0d-57e61a465b85"
   },
   "outputs": [
    {
     "data": {
      "text/html": [
       "<div>\n",
       "<style scoped>\n",
       "    .dataframe tbody tr th:only-of-type {\n",
       "        vertical-align: middle;\n",
       "    }\n",
       "\n",
       "    .dataframe tbody tr th {\n",
       "        vertical-align: top;\n",
       "    }\n",
       "\n",
       "    .dataframe thead th {\n",
       "        text-align: right;\n",
       "    }\n",
       "</style>\n",
       "<table border=\"1\" class=\"dataframe\">\n",
       "  <thead>\n",
       "    <tr style=\"text-align: right;\">\n",
       "      <th></th>\n",
       "      <th>ds</th>\n",
       "      <th>workingday</th>\n",
       "      <th>weathersit</th>\n",
       "      <th>temp</th>\n",
       "      <th>atemp</th>\n",
       "      <th>hum</th>\n",
       "      <th>windspeed</th>\n",
       "    </tr>\n",
       "  </thead>\n",
       "  <tbody>\n",
       "    <tr>\n",
       "      <th>726</th>\n",
       "      <td>2012-12-27</td>\n",
       "      <td>1</td>\n",
       "      <td>2</td>\n",
       "      <td>0.254167</td>\n",
       "      <td>0.226642</td>\n",
       "      <td>0.652917</td>\n",
       "      <td>0.350133</td>\n",
       "    </tr>\n",
       "    <tr>\n",
       "      <th>727</th>\n",
       "      <td>2012-12-28</td>\n",
       "      <td>1</td>\n",
       "      <td>2</td>\n",
       "      <td>0.253333</td>\n",
       "      <td>0.255046</td>\n",
       "      <td>0.590000</td>\n",
       "      <td>0.155471</td>\n",
       "    </tr>\n",
       "    <tr>\n",
       "      <th>728</th>\n",
       "      <td>2012-12-29</td>\n",
       "      <td>0</td>\n",
       "      <td>2</td>\n",
       "      <td>0.253333</td>\n",
       "      <td>0.242400</td>\n",
       "      <td>0.752917</td>\n",
       "      <td>0.124383</td>\n",
       "    </tr>\n",
       "    <tr>\n",
       "      <th>729</th>\n",
       "      <td>2012-12-30</td>\n",
       "      <td>0</td>\n",
       "      <td>1</td>\n",
       "      <td>0.255833</td>\n",
       "      <td>0.231700</td>\n",
       "      <td>0.483333</td>\n",
       "      <td>0.350754</td>\n",
       "    </tr>\n",
       "    <tr>\n",
       "      <th>730</th>\n",
       "      <td>2012-12-31</td>\n",
       "      <td>1</td>\n",
       "      <td>2</td>\n",
       "      <td>0.215833</td>\n",
       "      <td>0.223487</td>\n",
       "      <td>0.577500</td>\n",
       "      <td>0.154846</td>\n",
       "    </tr>\n",
       "  </tbody>\n",
       "</table>\n",
       "</div>"
      ],
      "text/plain": [
       "            ds  workingday  weathersit      temp     atemp       hum  windspeed\n",
       "726 2012-12-27           1           2  0.254167  0.226642  0.652917   0.350133\n",
       "727 2012-12-28           1           2  0.253333  0.255046  0.590000   0.155471\n",
       "728 2012-12-29           0           2  0.253333  0.242400  0.752917   0.124383\n",
       "729 2012-12-30           0           1  0.255833  0.231700  0.483333   0.350754\n",
       "730 2012-12-31           1           2  0.215833  0.223487  0.577500   0.154846"
      ]
     },
     "execution_count": 12,
     "metadata": {
      "tags": []
     },
     "output_type": "execute_result"
    }
   ],
   "source": [
    "#merge regressors\n",
    "future = pd.concat([future, dataset.iloc[:,2:]],\n",
    "                   axis = 1)\n",
    "future.tail()"
   ]
  },
  {
   "cell_type": "code",
   "execution_count": 13,
   "metadata": {
    "colab": {
     "base_uri": "https://localhost:8080/",
     "height": 308
    },
    "executionInfo": {
     "elapsed": 4237,
     "status": "ok",
     "timestamp": 1620714312312,
     "user": {
      "displayName": "Diogo Resende",
      "photoUrl": "https://lh3.googleusercontent.com/a-/AOh14GgH4DE06-yE1oiIzCiaAURCl1Escr4LXXiaSnbSaA=s64",
      "userId": "05706604408624562002"
     },
     "user_tz": -120
    },
    "id": "RyuxN99lBxw_",
    "outputId": "691792dd-d32a-45a6-9fb5-24f514c59f90"
   },
   "outputs": [
    {
     "data": {
      "text/html": [
       "<div>\n",
       "<style scoped>\n",
       "    .dataframe tbody tr th:only-of-type {\n",
       "        vertical-align: middle;\n",
       "    }\n",
       "\n",
       "    .dataframe tbody tr th {\n",
       "        vertical-align: top;\n",
       "    }\n",
       "\n",
       "    .dataframe thead th {\n",
       "        text-align: right;\n",
       "    }\n",
       "</style>\n",
       "<table border=\"1\" class=\"dataframe\">\n",
       "  <thead>\n",
       "    <tr style=\"text-align: right;\">\n",
       "      <th></th>\n",
       "      <th>ds</th>\n",
       "      <th>trend</th>\n",
       "      <th>yhat_lower</th>\n",
       "      <th>yhat_upper</th>\n",
       "      <th>trend_lower</th>\n",
       "      <th>trend_upper</th>\n",
       "      <th>atemp</th>\n",
       "      <th>atemp_lower</th>\n",
       "      <th>atemp_upper</th>\n",
       "      <th>extra_regressors_multiplicative</th>\n",
       "      <th>extra_regressors_multiplicative_lower</th>\n",
       "      <th>extra_regressors_multiplicative_upper</th>\n",
       "      <th>holi</th>\n",
       "      <th>holi_lower</th>\n",
       "      <th>holi_upper</th>\n",
       "      <th>holidays</th>\n",
       "      <th>holidays_lower</th>\n",
       "      <th>holidays_upper</th>\n",
       "      <th>hum</th>\n",
       "      <th>hum_lower</th>\n",
       "      <th>hum_upper</th>\n",
       "      <th>multiplicative_terms</th>\n",
       "      <th>multiplicative_terms_lower</th>\n",
       "      <th>multiplicative_terms_upper</th>\n",
       "      <th>temp</th>\n",
       "      <th>temp_lower</th>\n",
       "      <th>temp_upper</th>\n",
       "      <th>weathersit</th>\n",
       "      <th>weathersit_lower</th>\n",
       "      <th>weathersit_upper</th>\n",
       "      <th>weekly</th>\n",
       "      <th>weekly_lower</th>\n",
       "      <th>weekly_upper</th>\n",
       "      <th>windspeed</th>\n",
       "      <th>windspeed_lower</th>\n",
       "      <th>windspeed_upper</th>\n",
       "      <th>workingday</th>\n",
       "      <th>workingday_lower</th>\n",
       "      <th>workingday_upper</th>\n",
       "      <th>yearly</th>\n",
       "      <th>yearly_lower</th>\n",
       "      <th>yearly_upper</th>\n",
       "      <th>additive_terms</th>\n",
       "      <th>additive_terms_lower</th>\n",
       "      <th>additive_terms_upper</th>\n",
       "      <th>yhat</th>\n",
       "    </tr>\n",
       "  </thead>\n",
       "  <tbody>\n",
       "    <tr>\n",
       "      <th>0</th>\n",
       "      <td>2011-01-01</td>\n",
       "      <td>2428.959073</td>\n",
       "      <td>222.633419</td>\n",
       "      <td>2219.733906</td>\n",
       "      <td>2428.959073</td>\n",
       "      <td>2428.959073</td>\n",
       "      <td>-0.055485</td>\n",
       "      <td>-0.055485</td>\n",
       "      <td>-0.055485</td>\n",
       "      <td>-0.279300</td>\n",
       "      <td>-0.279300</td>\n",
       "      <td>-0.279300</td>\n",
       "      <td>0.0</td>\n",
       "      <td>0.0</td>\n",
       "      <td>0.0</td>\n",
       "      <td>0.0</td>\n",
       "      <td>0.0</td>\n",
       "      <td>0.0</td>\n",
       "      <td>-0.070485</td>\n",
       "      <td>-0.070485</td>\n",
       "      <td>-0.070485</td>\n",
       "      <td>-0.483167</td>\n",
       "      <td>-0.483167</td>\n",
       "      <td>-0.483167</td>\n",
       "      <td>-0.089004</td>\n",
       "      <td>-0.089004</td>\n",
       "      <td>-0.089004</td>\n",
       "      <td>-0.084177</td>\n",
       "      <td>-0.084177</td>\n",
       "      <td>-0.084177</td>\n",
       "      <td>0.058168</td>\n",
       "      <td>0.058168</td>\n",
       "      <td>0.058168</td>\n",
       "      <td>0.019851</td>\n",
       "      <td>0.019851</td>\n",
       "      <td>0.019851</td>\n",
       "      <td>0.000000</td>\n",
       "      <td>0.000000</td>\n",
       "      <td>0.000000</td>\n",
       "      <td>-0.262035</td>\n",
       "      <td>-0.262035</td>\n",
       "      <td>-0.262035</td>\n",
       "      <td>0.0</td>\n",
       "      <td>0.0</td>\n",
       "      <td>0.0</td>\n",
       "      <td>1255.366957</td>\n",
       "    </tr>\n",
       "    <tr>\n",
       "      <th>1</th>\n",
       "      <td>2011-01-02</td>\n",
       "      <td>2434.578651</td>\n",
       "      <td>46.373431</td>\n",
       "      <td>1975.128624</td>\n",
       "      <td>2434.578651</td>\n",
       "      <td>2434.578651</td>\n",
       "      <td>-0.060155</td>\n",
       "      <td>-0.060155</td>\n",
       "      <td>-0.060155</td>\n",
       "      <td>-0.288027</td>\n",
       "      <td>-0.288027</td>\n",
       "      <td>-0.288027</td>\n",
       "      <td>0.0</td>\n",
       "      <td>0.0</td>\n",
       "      <td>0.0</td>\n",
       "      <td>0.0</td>\n",
       "      <td>0.0</td>\n",
       "      <td>0.0</td>\n",
       "      <td>-0.027599</td>\n",
       "      <td>-0.027599</td>\n",
       "      <td>-0.027599</td>\n",
       "      <td>-0.585264</td>\n",
       "      <td>-0.585264</td>\n",
       "      <td>-0.585264</td>\n",
       "      <td>-0.078185</td>\n",
       "      <td>-0.078185</td>\n",
       "      <td>-0.078185</td>\n",
       "      <td>-0.084177</td>\n",
       "      <td>-0.084177</td>\n",
       "      <td>-0.084177</td>\n",
       "      <td>-0.041308</td>\n",
       "      <td>-0.041308</td>\n",
       "      <td>-0.041308</td>\n",
       "      <td>-0.037911</td>\n",
       "      <td>-0.037911</td>\n",
       "      <td>-0.037911</td>\n",
       "      <td>0.000000</td>\n",
       "      <td>0.000000</td>\n",
       "      <td>0.000000</td>\n",
       "      <td>-0.255930</td>\n",
       "      <td>-0.255930</td>\n",
       "      <td>-0.255930</td>\n",
       "      <td>0.0</td>\n",
       "      <td>0.0</td>\n",
       "      <td>0.0</td>\n",
       "      <td>1009.706277</td>\n",
       "    </tr>\n",
       "    <tr>\n",
       "      <th>2</th>\n",
       "      <td>2011-01-03</td>\n",
       "      <td>2440.198229</td>\n",
       "      <td>384.066357</td>\n",
       "      <td>2268.729344</td>\n",
       "      <td>2440.198229</td>\n",
       "      <td>2440.198229</td>\n",
       "      <td>-0.137785</td>\n",
       "      <td>-0.137785</td>\n",
       "      <td>-0.137785</td>\n",
       "      <td>-0.188057</td>\n",
       "      <td>-0.188057</td>\n",
       "      <td>-0.188057</td>\n",
       "      <td>0.0</td>\n",
       "      <td>0.0</td>\n",
       "      <td>0.0</td>\n",
       "      <td>0.0</td>\n",
       "      <td>0.0</td>\n",
       "      <td>0.0</td>\n",
       "      <td>0.073537</td>\n",
       "      <td>0.073537</td>\n",
       "      <td>0.073537</td>\n",
       "      <td>-0.462290</td>\n",
       "      <td>-0.462290</td>\n",
       "      <td>-0.462290</td>\n",
       "      <td>-0.171815</td>\n",
       "      <td>-0.171815</td>\n",
       "      <td>-0.171815</td>\n",
       "      <td>0.052537</td>\n",
       "      <td>0.052537</td>\n",
       "      <td>0.052537</td>\n",
       "      <td>-0.025655</td>\n",
       "      <td>-0.025655</td>\n",
       "      <td>-0.025655</td>\n",
       "      <td>-0.037760</td>\n",
       "      <td>-0.037760</td>\n",
       "      <td>-0.037760</td>\n",
       "      <td>0.033228</td>\n",
       "      <td>0.033228</td>\n",
       "      <td>0.033228</td>\n",
       "      <td>-0.248577</td>\n",
       "      <td>-0.248577</td>\n",
       "      <td>-0.248577</td>\n",
       "      <td>0.0</td>\n",
       "      <td>0.0</td>\n",
       "      <td>0.0</td>\n",
       "      <td>1312.120106</td>\n",
       "    </tr>\n",
       "    <tr>\n",
       "      <th>3</th>\n",
       "      <td>2011-01-04</td>\n",
       "      <td>2445.817807</td>\n",
       "      <td>510.264658</td>\n",
       "      <td>2417.792074</td>\n",
       "      <td>2445.817807</td>\n",
       "      <td>2445.817807</td>\n",
       "      <td>-0.127053</td>\n",
       "      <td>-0.127053</td>\n",
       "      <td>-0.127053</td>\n",
       "      <td>-0.177430</td>\n",
       "      <td>-0.177430</td>\n",
       "      <td>-0.177430</td>\n",
       "      <td>0.0</td>\n",
       "      <td>0.0</td>\n",
       "      <td>0.0</td>\n",
       "      <td>0.0</td>\n",
       "      <td>0.0</td>\n",
       "      <td>0.0</td>\n",
       "      <td>0.013686</td>\n",
       "      <td>0.013686</td>\n",
       "      <td>0.013686</td>\n",
       "      <td>-0.418997</td>\n",
       "      <td>-0.418997</td>\n",
       "      <td>-0.418997</td>\n",
       "      <td>-0.169778</td>\n",
       "      <td>-0.169778</td>\n",
       "      <td>-0.169778</td>\n",
       "      <td>0.052537</td>\n",
       "      <td>0.052537</td>\n",
       "      <td>0.052537</td>\n",
       "      <td>-0.001477</td>\n",
       "      <td>-0.001477</td>\n",
       "      <td>-0.001477</td>\n",
       "      <td>0.019950</td>\n",
       "      <td>0.019950</td>\n",
       "      <td>0.019950</td>\n",
       "      <td>0.033228</td>\n",
       "      <td>0.033228</td>\n",
       "      <td>0.033228</td>\n",
       "      <td>-0.240090</td>\n",
       "      <td>-0.240090</td>\n",
       "      <td>-0.240090</td>\n",
       "      <td>0.0</td>\n",
       "      <td>0.0</td>\n",
       "      <td>0.0</td>\n",
       "      <td>1421.028542</td>\n",
       "    </tr>\n",
       "    <tr>\n",
       "      <th>4</th>\n",
       "      <td>2011-01-05</td>\n",
       "      <td>2451.437386</td>\n",
       "      <td>642.496537</td>\n",
       "      <td>2542.458811</td>\n",
       "      <td>2451.437386</td>\n",
       "      <td>2451.437386</td>\n",
       "      <td>-0.118953</td>\n",
       "      <td>-0.118953</td>\n",
       "      <td>-0.118953</td>\n",
       "      <td>-0.111696</td>\n",
       "      <td>-0.111696</td>\n",
       "      <td>-0.111696</td>\n",
       "      <td>0.0</td>\n",
       "      <td>0.0</td>\n",
       "      <td>0.0</td>\n",
       "      <td>0.0</td>\n",
       "      <td>0.0</td>\n",
       "      <td>0.0</td>\n",
       "      <td>0.073660</td>\n",
       "      <td>0.073660</td>\n",
       "      <td>0.073660</td>\n",
       "      <td>-0.347872</td>\n",
       "      <td>-0.347872</td>\n",
       "      <td>-0.347872</td>\n",
       "      <td>-0.154674</td>\n",
       "      <td>-0.154674</td>\n",
       "      <td>-0.154674</td>\n",
       "      <td>0.052537</td>\n",
       "      <td>0.052537</td>\n",
       "      <td>0.052537</td>\n",
       "      <td>-0.005576</td>\n",
       "      <td>-0.005576</td>\n",
       "      <td>-0.005576</td>\n",
       "      <td>0.002506</td>\n",
       "      <td>0.002506</td>\n",
       "      <td>0.002506</td>\n",
       "      <td>0.033228</td>\n",
       "      <td>0.033228</td>\n",
       "      <td>0.033228</td>\n",
       "      <td>-0.230600</td>\n",
       "      <td>-0.230600</td>\n",
       "      <td>-0.230600</td>\n",
       "      <td>0.0</td>\n",
       "      <td>0.0</td>\n",
       "      <td>0.0</td>\n",
       "      <td>1598.652066</td>\n",
       "    </tr>\n",
       "  </tbody>\n",
       "</table>\n",
       "</div>"
      ],
      "text/plain": [
       "          ds        trend  ...  additive_terms_upper         yhat\n",
       "0 2011-01-01  2428.959073  ...                   0.0  1255.366957\n",
       "1 2011-01-02  2434.578651  ...                   0.0  1009.706277\n",
       "2 2011-01-03  2440.198229  ...                   0.0  1312.120106\n",
       "3 2011-01-04  2445.817807  ...                   0.0  1421.028542\n",
       "4 2011-01-05  2451.437386  ...                   0.0  1598.652066\n",
       "\n",
       "[5 rows x 46 columns]"
      ]
     },
     "execution_count": 13,
     "metadata": {
      "tags": []
     },
     "output_type": "execute_result"
    }
   ],
   "source": [
    "#forecast\n",
    "forecast = m.predict(future)\n",
    "forecast.head()"
   ]
  },
  {
   "cell_type": "markdown",
   "metadata": {
    "id": "m37hSKVRM3gQ"
   },
   "source": [
    "#XGBoost preparation"
   ]
  },
  {
   "cell_type": "code",
   "execution_count": 14,
   "metadata": {
    "colab": {
     "base_uri": "https://localhost:8080/",
     "height": 203
    },
    "executionInfo": {
     "elapsed": 519,
     "status": "ok",
     "timestamp": 1620716307400,
     "user": {
      "displayName": "Diogo Resende",
      "photoUrl": "https://lh3.googleusercontent.com/a-/AOh14GgH4DE06-yE1oiIzCiaAURCl1Escr4LXXiaSnbSaA=s64",
      "userId": "05706604408624562002"
     },
     "user_tz": -120
    },
    "id": "tj7sRLcpM6RE",
    "outputId": "da6d7c7a-91a6-40e2-e9d5-bfde806cd2b8"
   },
   "outputs": [
    {
     "data": {
      "text/html": [
       "<div>\n",
       "<style scoped>\n",
       "    .dataframe tbody tr th:only-of-type {\n",
       "        vertical-align: middle;\n",
       "    }\n",
       "\n",
       "    .dataframe tbody tr th {\n",
       "        vertical-align: top;\n",
       "    }\n",
       "\n",
       "    .dataframe thead th {\n",
       "        text-align: right;\n",
       "    }\n",
       "</style>\n",
       "<table border=\"1\" class=\"dataframe\">\n",
       "  <thead>\n",
       "    <tr style=\"text-align: right;\">\n",
       "      <th></th>\n",
       "      <th>ds</th>\n",
       "      <th>y</th>\n",
       "      <th>workingday</th>\n",
       "      <th>weathersit</th>\n",
       "      <th>temp</th>\n",
       "      <th>atemp</th>\n",
       "      <th>hum</th>\n",
       "      <th>windspeed</th>\n",
       "      <th>trend</th>\n",
       "      <th>holi</th>\n",
       "      <th>weekly</th>\n",
       "      <th>yearly</th>\n",
       "    </tr>\n",
       "  </thead>\n",
       "  <tbody>\n",
       "    <tr>\n",
       "      <th>0</th>\n",
       "      <td>2011-01-01</td>\n",
       "      <td>985</td>\n",
       "      <td>0</td>\n",
       "      <td>2</td>\n",
       "      <td>0.344167</td>\n",
       "      <td>0.363625</td>\n",
       "      <td>0.805833</td>\n",
       "      <td>0.160446</td>\n",
       "      <td>2428.959073</td>\n",
       "      <td>0.0</td>\n",
       "      <td>0.058168</td>\n",
       "      <td>-0.262035</td>\n",
       "    </tr>\n",
       "    <tr>\n",
       "      <th>1</th>\n",
       "      <td>2011-01-02</td>\n",
       "      <td>801</td>\n",
       "      <td>0</td>\n",
       "      <td>2</td>\n",
       "      <td>0.363478</td>\n",
       "      <td>0.353739</td>\n",
       "      <td>0.696087</td>\n",
       "      <td>0.248539</td>\n",
       "      <td>2434.578651</td>\n",
       "      <td>0.0</td>\n",
       "      <td>-0.041308</td>\n",
       "      <td>-0.255930</td>\n",
       "    </tr>\n",
       "    <tr>\n",
       "      <th>2</th>\n",
       "      <td>2011-01-03</td>\n",
       "      <td>1349</td>\n",
       "      <td>1</td>\n",
       "      <td>1</td>\n",
       "      <td>0.196364</td>\n",
       "      <td>0.189405</td>\n",
       "      <td>0.437273</td>\n",
       "      <td>0.248309</td>\n",
       "      <td>2440.198229</td>\n",
       "      <td>0.0</td>\n",
       "      <td>-0.025655</td>\n",
       "      <td>-0.248577</td>\n",
       "    </tr>\n",
       "    <tr>\n",
       "      <th>3</th>\n",
       "      <td>2011-01-04</td>\n",
       "      <td>1562</td>\n",
       "      <td>1</td>\n",
       "      <td>1</td>\n",
       "      <td>0.200000</td>\n",
       "      <td>0.212122</td>\n",
       "      <td>0.590435</td>\n",
       "      <td>0.160296</td>\n",
       "      <td>2445.817807</td>\n",
       "      <td>0.0</td>\n",
       "      <td>-0.001477</td>\n",
       "      <td>-0.240090</td>\n",
       "    </tr>\n",
       "    <tr>\n",
       "      <th>4</th>\n",
       "      <td>2011-01-05</td>\n",
       "      <td>1600</td>\n",
       "      <td>1</td>\n",
       "      <td>1</td>\n",
       "      <td>0.226957</td>\n",
       "      <td>0.229270</td>\n",
       "      <td>0.436957</td>\n",
       "      <td>0.186900</td>\n",
       "      <td>2451.437386</td>\n",
       "      <td>0.0</td>\n",
       "      <td>-0.005576</td>\n",
       "      <td>-0.230600</td>\n",
       "    </tr>\n",
       "  </tbody>\n",
       "</table>\n",
       "</div>"
      ],
      "text/plain": [
       "          ds     y  workingday  ...  holi    weekly    yearly\n",
       "0 2011-01-01   985           0  ...   0.0  0.058168 -0.262035\n",
       "1 2011-01-02   801           0  ...   0.0 -0.041308 -0.255930\n",
       "2 2011-01-03  1349           1  ...   0.0 -0.025655 -0.248577\n",
       "3 2011-01-04  1562           1  ...   0.0 -0.001477 -0.240090\n",
       "4 2011-01-05  1600           1  ...   0.0 -0.005576 -0.230600\n",
       "\n",
       "[5 rows x 12 columns]"
      ]
     },
     "execution_count": 14,
     "metadata": {
      "tags": []
     },
     "output_type": "execute_result"
    }
   ],
   "source": [
    "prophet_variables = forecast.loc[:, [\"trend\", \"holi\", \"weekly\", \"yearly\"]]\n",
    "df_xgb = pd.concat([dataset, prophet_variables], axis = 1)\n",
    "df_xgb.head()"
   ]
  },
  {
   "cell_type": "code",
   "execution_count": 15,
   "metadata": {
    "colab": {
     "base_uri": "https://localhost:8080/",
     "height": 79
    },
    "executionInfo": {
     "elapsed": 613,
     "status": "ok",
     "timestamp": 1620720239782,
     "user": {
      "displayName": "Diogo Resende",
      "photoUrl": "https://lh3.googleusercontent.com/a-/AOh14GgH4DE06-yE1oiIzCiaAURCl1Escr4LXXiaSnbSaA=s64",
      "userId": "05706604408624562002"
     },
     "user_tz": -120
    },
    "id": "c4yXjPCNcxOx",
    "outputId": "0e0bcaf7-8819-433f-ccb2-a9b3edc03b9f"
   },
   "outputs": [
    {
     "data": {
      "text/html": [
       "<div>\n",
       "<style scoped>\n",
       "    .dataframe tbody tr th:only-of-type {\n",
       "        vertical-align: middle;\n",
       "    }\n",
       "\n",
       "    .dataframe tbody tr th {\n",
       "        vertical-align: top;\n",
       "    }\n",
       "\n",
       "    .dataframe thead th {\n",
       "        text-align: right;\n",
       "    }\n",
       "</style>\n",
       "<table border=\"1\" class=\"dataframe\">\n",
       "  <thead>\n",
       "    <tr style=\"text-align: right;\">\n",
       "      <th></th>\n",
       "      <th>ds</th>\n",
       "      <th>y</th>\n",
       "      <th>workingday</th>\n",
       "      <th>weathersit</th>\n",
       "      <th>temp</th>\n",
       "      <th>atemp</th>\n",
       "      <th>hum</th>\n",
       "      <th>windspeed</th>\n",
       "      <th>trend</th>\n",
       "      <th>holi</th>\n",
       "      <th>weekly</th>\n",
       "      <th>yearly</th>\n",
       "    </tr>\n",
       "  </thead>\n",
       "  <tbody>\n",
       "    <tr>\n",
       "      <th>730</th>\n",
       "      <td>2012-12-31</td>\n",
       "      <td>2729</td>\n",
       "      <td>1</td>\n",
       "      <td>2</td>\n",
       "      <td>0.215833</td>\n",
       "      <td>0.223487</td>\n",
       "      <td>0.5775</td>\n",
       "      <td>0.154846</td>\n",
       "      <td>6422.673967</td>\n",
       "      <td>0.0</td>\n",
       "      <td>-0.025655</td>\n",
       "      <td>-0.264591</td>\n",
       "    </tr>\n",
       "  </tbody>\n",
       "</table>\n",
       "</div>"
      ],
      "text/plain": [
       "            ds     y  workingday  ...  holi    weekly    yearly\n",
       "730 2012-12-31  2729           1  ...   0.0 -0.025655 -0.264591\n",
       "\n",
       "[1 rows x 12 columns]"
      ]
     },
     "execution_count": 15,
     "metadata": {
      "tags": []
     },
     "output_type": "execute_result"
    }
   ],
   "source": [
    "#Training and test set\n",
    "test_days = 31\n",
    "training_set = df_xgb.iloc[:-test_days, :]\n",
    "test_set = df_xgb.iloc[-test_days:, :]\n",
    "test_set.tail(1)"
   ]
  },
  {
   "cell_type": "code",
   "execution_count": 16,
   "metadata": {
    "executionInfo": {
     "elapsed": 540,
     "status": "ok",
     "timestamp": 1620720443776,
     "user": {
      "displayName": "Diogo Resende",
      "photoUrl": "https://lh3.googleusercontent.com/a-/AOh14GgH4DE06-yE1oiIzCiaAURCl1Escr4LXXiaSnbSaA=s64",
      "userId": "05706604408624562002"
     },
     "user_tz": -120
    },
    "id": "l651tskTdeZi"
   },
   "outputs": [],
   "source": [
    "#isolate X and Y\n",
    "y_train = training_set.y\n",
    "y_test = test_set.y\n",
    "X_train = training_set.iloc[:, 2:]\n",
    "X_test = test_set.iloc[:, 2:]"
   ]
  },
  {
   "cell_type": "code",
   "execution_count": 19,
   "metadata": {
    "executionInfo": {
     "elapsed": 988,
     "status": "ok",
     "timestamp": 1620723741682,
     "user": {
      "displayName": "Diogo Resende",
      "photoUrl": "https://lh3.googleusercontent.com/a-/AOh14GgH4DE06-yE1oiIzCiaAURCl1Escr4LXXiaSnbSaA=s64",
      "userId": "05706604408624562002"
     },
     "user_tz": -120
    },
    "id": "BJgTzOa-eM4Z"
   },
   "outputs": [],
   "source": [
    "#create XGBoost Matrices\n",
    "Train = xgb.DMatrix(data = X_train, label = y_train)\n",
    "Test = xgb.DMatrix(data = X_test, label = y_test)"
   ]
  },
  {
   "cell_type": "markdown",
   "metadata": {
    "id": "l3R9szl2oyKp"
   },
   "source": [
    "#XGBoost"
   ]
  },
  {
   "cell_type": "code",
   "execution_count": 21,
   "metadata": {
    "executionInfo": {
     "elapsed": 491,
     "status": "ok",
     "timestamp": 1620723773527,
     "user": {
      "displayName": "Diogo Resende",
      "photoUrl": "https://lh3.googleusercontent.com/a-/AOh14GgH4DE06-yE1oiIzCiaAURCl1Escr4LXXiaSnbSaA=s64",
      "userId": "05706604408624562002"
     },
     "user_tz": -120
    },
    "id": "ThYwUI8io0PT"
   },
   "outputs": [],
   "source": [
    "#Set the parameters\n",
    "parameters = {'learning_rate': 0.1,\n",
    "              'max_depth': 3,\n",
    "              'colsample_bytree': 1,\n",
    "              'subsample': 1,\n",
    "              'min_child_weight': 1,\n",
    "              'gamma': 1,\n",
    "              'random_state': 1502,\n",
    "              'eval_metric': \"rmse\",\n",
    "              'objective': \"reg:squarederror\"}"
   ]
  },
  {
   "cell_type": "code",
   "execution_count": 22,
   "metadata": {
    "colab": {
     "base_uri": "https://localhost:8080/"
    },
    "executionInfo": {
     "elapsed": 756,
     "status": "ok",
     "timestamp": 1620723789207,
     "user": {
      "displayName": "Diogo Resende",
      "photoUrl": "https://lh3.googleusercontent.com/a-/AOh14GgH4DE06-yE1oiIzCiaAURCl1Escr4LXXiaSnbSaA=s64",
      "userId": "05706604408624562002"
     },
     "user_tz": -120
    },
    "id": "QsMvSryvp1aT",
    "outputId": "0205c4ad-9582-42ed-b4c7-9e6ff997dd6c"
   },
   "outputs": [
    {
     "name": "stdout",
     "output_type": "stream",
     "text": [
      "[0]\ty-rmse:3891.59\n",
      "[15]\ty-rmse:1607.49\n",
      "[30]\ty-rmse:1368.37\n",
      "[45]\ty-rmse:1290.71\n",
      "[60]\ty-rmse:1252.2\n",
      "[75]\ty-rmse:1212.15\n",
      "[90]\ty-rmse:1199.75\n",
      "[99]\ty-rmse:1179.15\n"
     ]
    }
   ],
   "source": [
    "#XGBoost Model\n",
    "model = xgb.train(params = parameters,\n",
    "                  dtrain = Train,\n",
    "                  num_boost_round = 100,\n",
    "                  evals = [(Test, \"y\")],\n",
    "                  verbose_eval = 15)"
   ]
  },
  {
   "cell_type": "markdown",
   "metadata": {
    "id": "qa3z-DOOrWCI"
   },
   "source": [
    "#Forecasting and Visualization"
   ]
  },
  {
   "cell_type": "code",
   "execution_count": 26,
   "metadata": {
    "colab": {
     "base_uri": "https://localhost:8080/"
    },
    "executionInfo": {
     "elapsed": 584,
     "status": "ok",
     "timestamp": 1620724111430,
     "user": {
      "displayName": "Diogo Resende",
      "photoUrl": "https://lh3.googleusercontent.com/a-/AOh14GgH4DE06-yE1oiIzCiaAURCl1Escr4LXXiaSnbSaA=s64",
      "userId": "05706604408624562002"
     },
     "user_tz": -120
    },
    "id": "aA0kA_jXrZsz",
    "outputId": "15f1cd9b-0e9f-48cf-de81-8866f3281fef"
   },
   "outputs": [
    {
     "data": {
      "text/plain": [
       "ds\n",
       "2012-12-01    4020.162598\n",
       "2012-12-02    3019.301025\n",
       "Name: XGBoost, dtype: float32"
      ]
     },
     "execution_count": 26,
     "metadata": {
      "tags": []
     },
     "output_type": "execute_result"
    }
   ],
   "source": [
    "#Forecasting\n",
    "predictions_xgb = pd.Series(model.predict(Test), name = \"XGBoost\")\n",
    "predictions_xgb.index = test_set.ds\n",
    "predictions_xgb[:2]"
   ]
  },
  {
   "cell_type": "code",
   "execution_count": 27,
   "metadata": {
    "executionInfo": {
     "elapsed": 490,
     "status": "ok",
     "timestamp": 1620724250104,
     "user": {
      "displayName": "Diogo Resende",
      "photoUrl": "https://lh3.googleusercontent.com/a-/AOh14GgH4DE06-yE1oiIzCiaAURCl1Escr4LXXiaSnbSaA=s64",
      "userId": "05706604408624562002"
     },
     "user_tz": -120
    },
    "id": "nSy2f9SGsI4m"
   },
   "outputs": [],
   "source": [
    "#set up index\n",
    "training_set.index = training_set.ds\n",
    "test_set.index = test_set.ds"
   ]
  },
  {
   "cell_type": "code",
   "execution_count": 31,
   "metadata": {
    "colab": {
     "base_uri": "https://localhost:8080/",
     "height": 417
    },
    "executionInfo": {
     "elapsed": 1037,
     "status": "ok",
     "timestamp": 1620724356202,
     "user": {
      "displayName": "Diogo Resende",
      "photoUrl": "https://lh3.googleusercontent.com/a-/AOh14GgH4DE06-yE1oiIzCiaAURCl1Escr4LXXiaSnbSaA=s64",
      "userId": "05706604408624562002"
     },
     "user_tz": -120
    },
    "id": "EyLSCESbsX4w",
    "outputId": "e7b75ea4-d54e-42e7-82f3-94f88dc3f44f"
   },
   "outputs": [
    {
     "data": {
      "text/plain": [
       "<matplotlib.axes._subplots.AxesSubplot at 0x7f236fb72ad0>"
      ]
     },
     "execution_count": 31,
     "metadata": {
      "tags": []
     },
     "output_type": "execute_result"
    },
    {
     "data": {
      "image/png": "[encoded data removed]",
      "text/plain": [
       "<Figure size 648x432 with 1 Axes>"
      ]
     },
     "metadata": {
      "needs_background": "light",
      "tags": []
     },
     "output_type": "display_data"
    }
   ],
   "source": [
    "#Viz\n",
    "training_set.y['2012-07-01':].plot(figsize = (9,6), legend = True)\n",
    "test_set.y.plot(legend = True)\n",
    "predictions_xgb.plot(legend = True)"
   ]
  },
  {
   "cell_type": "markdown",
   "metadata": {
    "id": "iKFJVffn9_Ei"
   },
   "source": [
    "#Model assessment"
   ]
  },
  {
   "cell_type": "code",
   "execution_count": 32,
   "metadata": {
    "colab": {
     "base_uri": "https://localhost:8080/"
    },
    "executionInfo": {
     "elapsed": 486,
     "status": "ok",
     "timestamp": 1620724474200,
     "user": {
      "displayName": "Diogo Resende",
      "photoUrl": "https://lh3.googleusercontent.com/a-/AOh14GgH4DE06-yE1oiIzCiaAURCl1Escr4LXXiaSnbSaA=s64",
      "userId": "05706604408624562002"
     },
     "user_tz": -120
    },
    "id": "j7t9ftji-HCZ",
    "outputId": "8379a4e9-c86a-4618-f5d1-5e33d5a7e022"
   },
   "outputs": [
    {
     "name": "stdout",
     "output_type": "stream",
     "text": [
      "954.0\n",
      "1179.0\n"
     ]
    }
   ],
   "source": [
    "#MAE and RMSE\n",
    "from sklearn.metrics import mean_squared_error, mean_absolute_error\n",
    "print(round(mean_absolute_error(test_set['y'], predictions_xgb),0))\n",
    "print(round(np.sqrt(mean_squared_error(test_set['y'], predictions_xgb)), 0))"
   ]
  },
  {
   "cell_type": "code",
   "execution_count": 33,
   "metadata": {
    "colab": {
     "base_uri": "https://localhost:8080/"
    },
    "executionInfo": {
     "elapsed": 499,
     "status": "ok",
     "timestamp": 1620724491179,
     "user": {
      "displayName": "Diogo Resende",
      "photoUrl": "https://lh3.googleusercontent.com/a-/AOh14GgH4DE06-yE1oiIzCiaAURCl1Escr4LXXiaSnbSaA=s64",
      "userId": "05706604408624562002"
     },
     "user_tz": -120
    },
    "id": "qBiDRfr0AZH_",
    "outputId": "fa244840-32be-49bf-8e67-1a9cd0e8037b"
   },
   "outputs": [
    {
     "data": {
      "text/plain": [
       "45.99199599293936"
      ]
     },
     "execution_count": 33,
     "metadata": {
      "tags": []
     },
     "output_type": "execute_result"
    }
   ],
   "source": [
    "#MAPE function\n",
    "def MAPE(y_true, y_pred):\n",
    "  y_true, y_pred = np.array(y_true), np.array(y_pred)\n",
    "  return np.mean(np.abs((y_true - y_pred) / y_true)) * 100\n",
    "MAPE(test_set['y'], predictions_xgb)"
   ]
  },
  {
   "cell_type": "markdown",
   "metadata": {
    "id": "xM4rHhXmBzY5"
   },
   "source": [
    "#export forecasts"
   ]
  },
  {
   "cell_type": "code",
   "execution_count": 34,
   "metadata": {
    "colab": {
     "base_uri": "https://localhost:8080/"
    },
    "executionInfo": {
     "elapsed": 430,
     "status": "ok",
     "timestamp": 1620724532142,
     "user": {
      "displayName": "Diogo Resende",
      "photoUrl": "https://lh3.googleusercontent.com/a-/AOh14GgH4DE06-yE1oiIzCiaAURCl1Escr4LXXiaSnbSaA=s64",
      "userId": "05706604408624562002"
     },
     "user_tz": -120
    },
    "id": "h2-rQ5UpB1po",
    "outputId": "dc0352ee-8784-4796-c10d-fa7b39e8f9b9"
   },
   "outputs": [
    {
     "name": "stdout",
     "output_type": "stream",
     "text": [
      "/content/drive/MyDrive/Forecasting Models and Time Series for Business in Python/0. Ensemble\n"
     ]
    }
   ],
   "source": [
    "%cd /content/drive/MyDrive/Forecasting Models and Time Series for Business in Python/0. Ensemble"
   ]
  },
  {
   "cell_type": "code",
   "execution_count": 35,
   "metadata": {
    "executionInfo": {
     "elapsed": 481,
     "status": "ok",
     "timestamp": 1620724536044,
     "user": {
      "displayName": "Diogo Resende",
      "photoUrl": "https://lh3.googleusercontent.com/a-/AOh14GgH4DE06-yE1oiIzCiaAURCl1Escr4LXXiaSnbSaA=s64",
      "userId": "05706604408624562002"
     },
     "user_tz": -120
    },
    "id": "sI_C2NcfB-pV"
   },
   "outputs": [],
   "source": [
    "predictions_xgb.to_csv('predictions_xgb.csv', index = True)"
   ]
  }
 ],
 "metadata": {
  "colab": {
   "authorship_tag": "ABX9TyN74EZxib/jeDmrxWMHw5PU",
   "mount_file_id": "182xgrJ9QmaJxsoiApDGPQqBxlh8W8_H2",
   "name": "Facebook Prophet + XGBoost Template.ipynb",
   "provenance": []
  },
  "kernelspec": {
   "display_name": "Python 3 (ipykernel)",
   "language": "python",
   "name": "python3"
  },
  "language_info": {
   "codemirror_mode": {
    "name": "ipython",
    "version": 3
   },
   "file_extension": ".py",
   "mimetype": "text/x-python",
   "name": "python",
   "nbconvert_exporter": "python",
   "pygments_lexer": "ipython3",
   "version": "3.9.16"
  }
 },
 "nbformat": 4,
 "nbformat_minor": 1
}
