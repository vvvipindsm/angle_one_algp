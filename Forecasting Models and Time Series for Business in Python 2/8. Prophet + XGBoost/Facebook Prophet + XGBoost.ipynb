{
 "cells": [
  {
   "cell_type": "markdown",
   "metadata": {
    "id": "QZK36hW6M7cl"
   },
   "source": [
    "#Libraries and Data"
   ]
  },
  {
   "cell_type": "code",
   "execution_count": 33,
   "metadata": {
    "executionInfo": {
     "elapsed": 2554,
     "status": "ok",
     "timestamp": 1621008666318,
     "user": {
      "displayName": "Diogo Resende",
      "photoUrl": "https://lh3.googleusercontent.com/a-/AOh14GgH4DE06-yE1oiIzCiaAURCl1Escr4LXXiaSnbSaA=s64",
      "userId": "05706604408624562002"
     },
     "user_tz": -120
    },
    "id": "xBzm1qtYNE6M"
   },
   "outputs": [],
   "source": [
    "#import libraries\n",
    "import numpy as np\n",
    "import pandas as pd\n",
    "import itertools\n",
    "from prophet import Prophet\n",
    "import yfinance\n",
    "import pickle\n"
   ]
  },
  {
   "cell_type": "code",
   "execution_count": 2,
   "metadata": {},
   "outputs": [
    {
     "name": "stdout",
     "output_type": "stream",
     "text": [
      "[*********************100%***********************]  1 of 1 completed\n"
     ]
    },
    {
     "data": {
      "text/html": [
       "<div>\n",
       "<style scoped>\n",
       "    .dataframe tbody tr th:only-of-type {\n",
       "        vertical-align: middle;\n",
       "    }\n",
       "\n",
       "    .dataframe tbody tr th {\n",
       "        vertical-align: top;\n",
       "    }\n",
       "\n",
       "    .dataframe thead th {\n",
       "        text-align: right;\n",
       "    }\n",
       "</style>\n",
       "<table border=\"1\" class=\"dataframe\">\n",
       "  <thead>\n",
       "    <tr style=\"text-align: right;\">\n",
       "      <th></th>\n",
       "      <th>Open</th>\n",
       "      <th>High</th>\n",
       "      <th>Low</th>\n",
       "      <th>Close</th>\n",
       "      <th>Volume</th>\n",
       "    </tr>\n",
       "    <tr>\n",
       "      <th>Date</th>\n",
       "      <th></th>\n",
       "      <th></th>\n",
       "      <th></th>\n",
       "      <th></th>\n",
       "      <th></th>\n",
       "    </tr>\n",
       "  </thead>\n",
       "  <tbody>\n",
       "    <tr>\n",
       "      <th>2023-06-22</th>\n",
       "      <td>224.850006</td>\n",
       "      <td>225.149994</td>\n",
       "      <td>220.500000</td>\n",
       "      <td>221.100006</td>\n",
       "      <td>6857007</td>\n",
       "    </tr>\n",
       "    <tr>\n",
       "      <th>2023-06-23</th>\n",
       "      <td>222.000000</td>\n",
       "      <td>222.100006</td>\n",
       "      <td>215.699997</td>\n",
       "      <td>218.300003</td>\n",
       "      <td>10890426</td>\n",
       "    </tr>\n",
       "    <tr>\n",
       "      <th>2023-06-26</th>\n",
       "      <td>218.300003</td>\n",
       "      <td>219.350006</td>\n",
       "      <td>216.300003</td>\n",
       "      <td>218.600006</td>\n",
       "      <td>5136478</td>\n",
       "    </tr>\n",
       "    <tr>\n",
       "      <th>2023-06-27</th>\n",
       "      <td>218.899994</td>\n",
       "      <td>220.500000</td>\n",
       "      <td>218.600006</td>\n",
       "      <td>219.250000</td>\n",
       "      <td>4694432</td>\n",
       "    </tr>\n",
       "    <tr>\n",
       "      <th>2023-06-28</th>\n",
       "      <td>219.949997</td>\n",
       "      <td>220.949997</td>\n",
       "      <td>217.550003</td>\n",
       "      <td>218.649994</td>\n",
       "      <td>8340649</td>\n",
       "    </tr>\n",
       "  </tbody>\n",
       "</table>\n",
       "</div>"
      ],
      "text/plain": [
       "                  Open        High         Low       Close    Volume\n",
       "Date                                                                \n",
       "2023-06-22  224.850006  225.149994  220.500000  221.100006   6857007\n",
       "2023-06-23  222.000000  222.100006  215.699997  218.300003  10890426\n",
       "2023-06-26  218.300003  219.350006  216.300003  218.600006   5136478\n",
       "2023-06-27  218.899994  220.500000  218.600006  219.250000   4694432\n",
       "2023-06-28  219.949997  220.949997  217.550003  218.649994   8340649"
      ]
     },
     "execution_count": 2,
     "metadata": {},
     "output_type": "execute_result"
    }
   ],
   "source": [
    "#load the data\n",
    "\n",
    "data = yfinance.download (tickers = \"TATAPOWER.NS\",start=\"2000-03-06\",\n",
    "                               interval = \"1d\", group_by = 'ticker', auto_adjust = True)\n",
    "\n",
    "data.tail()"
   ]
  },
  {
   "cell_type": "markdown",
   "metadata": {
    "id": "6RKxpqoBOSBX"
   },
   "source": [
    "#Data preparation"
   ]
  },
  {
   "cell_type": "code",
   "execution_count": 3,
   "metadata": {
    "colab": {
     "base_uri": "https://localhost:8080/"
    },
    "executionInfo": {
     "elapsed": 843,
     "status": "ok",
     "timestamp": 1621008673660,
     "user": {
      "displayName": "Diogo Resende",
      "photoUrl": "https://lh3.googleusercontent.com/a-/AOh14GgH4DE06-yE1oiIzCiaAURCl1Escr4LXXiaSnbSaA=s64",
      "userId": "05706604408624562002"
     },
     "user_tz": -120
    },
    "id": "o55_2auGOUm6",
    "outputId": "7b72e62e-b26c-451e-c930-f7e794b87c23"
   },
   "outputs": [
    {
     "data": {
      "text/plain": [
       "Date\n",
       "2000-03-06   2000-03-06\n",
       "2000-03-07   2000-03-07\n",
       "2000-03-08   2000-03-08\n",
       "2000-03-09   2000-03-09\n",
       "2000-03-10   2000-03-10\n",
       "                ...    \n",
       "2023-06-22   2023-06-22\n",
       "2023-06-23   2023-06-23\n",
       "2023-06-26   2023-06-26\n",
       "2023-06-27   2023-06-27\n",
       "2023-06-28   2023-06-28\n",
       "Name: Data, Length: 5821, dtype: datetime64[ns]"
      ]
     },
     "execution_count": 3,
     "metadata": {},
     "output_type": "execute_result"
    }
   ],
   "source": [
    "#transform the date variable\n",
    "data[\"Data\"] = pd.to_datetime(data.index, format = \"%m/%d/%Y\")\n",
    "data.Data"
   ]
  },
  {
   "cell_type": "code",
   "execution_count": 4,
   "metadata": {
    "colab": {
     "base_uri": "https://localhost:8080/",
     "height": 79
    },
    "executionInfo": {
     "elapsed": 744,
     "status": "ok",
     "timestamp": 1621008692325,
     "user": {
      "displayName": "Diogo Resende",
      "photoUrl": "https://lh3.googleusercontent.com/a-/AOh14GgH4DE06-yE1oiIzCiaAURCl1Escr4LXXiaSnbSaA=s64",
      "userId": "05706604408624562002"
     },
     "user_tz": -120
    },
    "id": "D3FRYUauQWkz",
    "outputId": "96122dd3-0ca2-496a-e72d-a04c87425033"
   },
   "outputs": [
    {
     "data": {
      "text/html": [
       "<div>\n",
       "<style scoped>\n",
       "    .dataframe tbody tr th:only-of-type {\n",
       "        vertical-align: middle;\n",
       "    }\n",
       "\n",
       "    .dataframe tbody tr th {\n",
       "        vertical-align: top;\n",
       "    }\n",
       "\n",
       "    .dataframe thead th {\n",
       "        text-align: right;\n",
       "    }\n",
       "</style>\n",
       "<table border=\"1\" class=\"dataframe\">\n",
       "  <thead>\n",
       "    <tr style=\"text-align: right;\">\n",
       "      <th></th>\n",
       "      <th>Open</th>\n",
       "      <th>High</th>\n",
       "      <th>Low</th>\n",
       "      <th>y</th>\n",
       "      <th>Volume</th>\n",
       "      <th>ds</th>\n",
       "    </tr>\n",
       "    <tr>\n",
       "      <th>Date</th>\n",
       "      <th></th>\n",
       "      <th></th>\n",
       "      <th></th>\n",
       "      <th></th>\n",
       "      <th></th>\n",
       "      <th></th>\n",
       "    </tr>\n",
       "  </thead>\n",
       "  <tbody>\n",
       "    <tr>\n",
       "      <th>2000-03-06</th>\n",
       "      <td>4.450512</td>\n",
       "      <td>4.528395</td>\n",
       "      <td>4.227986</td>\n",
       "      <td>4.280836</td>\n",
       "      <td>493866</td>\n",
       "      <td>2000-03-06</td>\n",
       "    </tr>\n",
       "    <tr>\n",
       "      <th>2000-03-07</th>\n",
       "      <td>4.280836</td>\n",
       "      <td>4.339248</td>\n",
       "      <td>4.008242</td>\n",
       "      <td>4.211296</td>\n",
       "      <td>759074</td>\n",
       "      <td>2000-03-07</td>\n",
       "    </tr>\n",
       "    <tr>\n",
       "      <th>2000-03-08</th>\n",
       "      <td>4.353157</td>\n",
       "      <td>4.428259</td>\n",
       "      <td>4.005460</td>\n",
       "      <td>4.019369</td>\n",
       "      <td>393941</td>\n",
       "      <td>2000-03-08</td>\n",
       "    </tr>\n",
       "    <tr>\n",
       "      <th>2000-03-09</th>\n",
       "      <td>4.005459</td>\n",
       "      <td>4.058309</td>\n",
       "      <td>3.922011</td>\n",
       "      <td>4.033275</td>\n",
       "      <td>489390</td>\n",
       "      <td>2000-03-09</td>\n",
       "    </tr>\n",
       "    <tr>\n",
       "      <th>2000-03-10</th>\n",
       "      <td>4.005460</td>\n",
       "      <td>4.144538</td>\n",
       "      <td>3.922013</td>\n",
       "      <td>3.958174</td>\n",
       "      <td>493006</td>\n",
       "      <td>2000-03-10</td>\n",
       "    </tr>\n",
       "    <tr>\n",
       "      <th>2000-03-13</th>\n",
       "      <td>3.844129</td>\n",
       "      <td>3.949829</td>\n",
       "      <td>3.671672</td>\n",
       "      <td>3.696706</td>\n",
       "      <td>247943</td>\n",
       "      <td>2000-03-13</td>\n",
       "    </tr>\n",
       "    <tr>\n",
       "      <th>2000-03-14</th>\n",
       "      <td>3.504778</td>\n",
       "      <td>3.782935</td>\n",
       "      <td>3.504778</td>\n",
       "      <td>3.746774</td>\n",
       "      <td>965402</td>\n",
       "      <td>2000-03-14</td>\n",
       "    </tr>\n",
       "    <tr>\n",
       "      <th>2000-03-15</th>\n",
       "      <td>3.833003</td>\n",
       "      <td>3.941484</td>\n",
       "      <td>3.727303</td>\n",
       "      <td>3.810750</td>\n",
       "      <td>368542</td>\n",
       "      <td>2000-03-15</td>\n",
       "    </tr>\n",
       "    <tr>\n",
       "      <th>2000-03-16</th>\n",
       "      <td>3.780153</td>\n",
       "      <td>3.805187</td>\n",
       "      <td>3.702270</td>\n",
       "      <td>3.727303</td>\n",
       "      <td>536052</td>\n",
       "      <td>2000-03-16</td>\n",
       "    </tr>\n",
       "    <tr>\n",
       "      <th>2000-03-17</th>\n",
       "      <td>3.727303</td>\n",
       "      <td>3.727303</td>\n",
       "      <td>3.727303</td>\n",
       "      <td>3.727303</td>\n",
       "      <td>0</td>\n",
       "      <td>2000-03-17</td>\n",
       "    </tr>\n",
       "  </tbody>\n",
       "</table>\n",
       "</div>"
      ],
      "text/plain": [
       "                Open      High       Low         y  Volume         ds\n",
       "Date                                                                 \n",
       "2000-03-06  4.450512  4.528395  4.227986  4.280836  493866 2000-03-06\n",
       "2000-03-07  4.280836  4.339248  4.008242  4.211296  759074 2000-03-07\n",
       "2000-03-08  4.353157  4.428259  4.005460  4.019369  393941 2000-03-08\n",
       "2000-03-09  4.005459  4.058309  3.922011  4.033275  489390 2000-03-09\n",
       "2000-03-10  4.005460  4.144538  3.922013  3.958174  493006 2000-03-10\n",
       "2000-03-13  3.844129  3.949829  3.671672  3.696706  247943 2000-03-13\n",
       "2000-03-14  3.504778  3.782935  3.504778  3.746774  965402 2000-03-14\n",
       "2000-03-15  3.833003  3.941484  3.727303  3.810750  368542 2000-03-15\n",
       "2000-03-16  3.780153  3.805187  3.702270  3.727303  536052 2000-03-16\n",
       "2000-03-17  3.727303  3.727303  3.727303  3.727303       0 2000-03-17"
      ]
     },
     "execution_count": 4,
     "metadata": {},
     "output_type": "execute_result"
    }
   ],
   "source": [
    "#renaming variables\n",
    "data = data.rename(columns = {'Close': 'y',\n",
    "                     'Data': 'ds'})\n",
    "data.head(10)"
   ]
  },
  {
   "cell_type": "markdown",
   "metadata": {
    "id": "rbI03M5DQnf7"
   },
   "source": [
    "#Holidays"
   ]
  },
  {
   "cell_type": "code",
   "execution_count": 5,
   "metadata": {
    "colab": {
     "base_uri": "https://localhost:8080/",
     "height": 110
    },
    "executionInfo": {
     "elapsed": 900,
     "status": "ok",
     "timestamp": 1621008697487,
     "user": {
      "displayName": "Diogo Resende",
      "photoUrl": "https://lh3.googleusercontent.com/a-/AOh14GgH4DE06-yE1oiIzCiaAURCl1Escr4LXXiaSnbSaA=s64",
      "userId": "05706604408624562002"
     },
     "user_tz": -120
    },
    "id": "-iN1u_ZbQo_R",
    "outputId": "d90092f1-2873-4863-87cb-a967ca8aba9f"
   },
   "outputs": [],
   "source": [
    "#Easter\n",
    "#easter_dates = df[df.Easter == 1].ds\n",
    "#easter = pd.DataFrame({'holiday': 'easter',\n",
    "#                      'ds': pd.to_datetime(easter_dates),\n",
    "#                      'lower_window': -5,\n",
    "#                      'upper_window': 2})\n",
    "#easter.head(2)"
   ]
  },
  {
   "cell_type": "code",
   "execution_count": 6,
   "metadata": {
    "colab": {
     "base_uri": "https://localhost:8080/",
     "height": 110
    },
    "executionInfo": {
     "elapsed": 807,
     "status": "ok",
     "timestamp": 1621008701180,
     "user": {
      "displayName": "Diogo Resende",
      "photoUrl": "https://lh3.googleusercontent.com/a-/AOh14GgH4DE06-yE1oiIzCiaAURCl1Escr4LXXiaSnbSaA=s64",
      "userId": "05706604408624562002"
     },
     "user_tz": -120
    },
    "id": "PhOrTqnKRcFB",
    "outputId": "9ea09216-88c5-45e1-9de3-98ab6f27514c"
   },
   "outputs": [],
   "source": [
    "#Thanksgiving\n",
    "#thanksgiving_dates = df[df.Thanksgiving == 1].ds\n",
    "#thanksgiving = pd.DataFrame({'holiday': 'thanksgiving',\n",
    " #                      'ds': pd.to_datetime(thanksgiving_dates),\n",
    "  #                     'lower_window': -5,\n",
    "   #                    'upper_window': 2})\n",
    "#thanksgiving.head(2)"
   ]
  },
  {
   "cell_type": "code",
   "execution_count": 7,
   "metadata": {
    "colab": {
     "base_uri": "https://localhost:8080/",
     "height": 478
    },
    "executionInfo": {
     "elapsed": 735,
     "status": "ok",
     "timestamp": 1621008705120,
     "user": {
      "displayName": "Diogo Resende",
      "photoUrl": "https://lh3.googleusercontent.com/a-/AOh14GgH4DE06-yE1oiIzCiaAURCl1Escr4LXXiaSnbSaA=s64",
      "userId": "05706604408624562002"
     },
     "user_tz": -120
    },
    "id": "cmcQZKjgRp06",
    "outputId": "ae9ef015-e043-4654-d9a5-7d5a61f71a03"
   },
   "outputs": [],
   "source": [
    "#combining holidays\n",
    "#holidays = pd.concat([easter, thanksgiving])\n",
    "#holidays"
   ]
  },
  {
   "cell_type": "code",
   "execution_count": 8,
   "metadata": {
    "executionInfo": {
     "elapsed": 789,
     "status": "ok",
     "timestamp": 1621008765383,
     "user": {
      "displayName": "Diogo Resende",
      "photoUrl": "https://lh3.googleusercontent.com/a-/AOh14GgH4DE06-yE1oiIzCiaAURCl1Escr4LXXiaSnbSaA=s64",
      "userId": "05706604408624562002"
     },
     "user_tz": -120
    },
    "id": "-ReDePNYpfSD"
   },
   "outputs": [],
   "source": [
    "#create training and test set\n",
    "test_days = 2000\n",
    "training_set = data.iloc[:-test_days,:]\n",
    "test_set = data.iloc[-test_days:,:]"
   ]
  },
  {
   "cell_type": "markdown",
   "metadata": {
    "id": "eOzPNoRySOA5"
   },
   "source": [
    "#Prophet"
   ]
  },
  {
   "cell_type": "code",
   "execution_count": 9,
   "metadata": {
    "colab": {
     "base_uri": "https://localhost:8080/"
    },
    "executionInfo": {
     "elapsed": 8952,
     "status": "ok",
     "timestamp": 1621008811464,
     "user": {
      "displayName": "Diogo Resende",
      "photoUrl": "https://lh3.googleusercontent.com/a-/AOh14GgH4DE06-yE1oiIzCiaAURCl1Escr4LXXiaSnbSaA=s64",
      "userId": "05706604408624562002"
     },
     "user_tz": -120
    },
    "id": "Ai7zk9f7SPVK",
    "outputId": "8bcef281-3d36-49f1-9c8b-c875beeb5658"
   },
   "outputs": [
    {
     "name": "stderr",
     "output_type": "stream",
     "text": [
      "13:45:55 - cmdstanpy - INFO - Chain [1] start processing\n",
      "13:46:06 - cmdstanpy - INFO - Chain [1] done processing\n"
     ]
    },
    {
     "data": {
      "text/plain": [
       "<prophet.forecaster.Prophet at 0x7fa33604d520>"
      ]
     },
     "execution_count": 9,
     "metadata": {},
     "output_type": "execute_result"
    }
   ],
   "source": [
    "m = Prophet(\n",
    "            #holidays = holidays,\n",
    "            seasonality_mode = 'multiplicative',\n",
    "            seasonality_prior_scale = 20,\n",
    "            changepoint_prior_scale = 0.1,\n",
    "           # holidays_prior_scale = 10\n",
    "           )\n",
    "#m.add_regressor('Christmas')\n",
    "m.fit(training_set)"
   ]
  },
  {
   "cell_type": "code",
   "execution_count": 10,
   "metadata": {
    "executionInfo": {
     "elapsed": 761,
     "status": "ok",
     "timestamp": 1621009466455,
     "user": {
      "displayName": "Diogo Resende",
      "photoUrl": "https://lh3.googleusercontent.com/a-/AOh14GgH4DE06-yE1oiIzCiaAURCl1Escr4LXXiaSnbSaA=s64",
      "userId": "05706604408624562002"
     },
     "user_tz": -120
    },
    "id": "vuYkMgKqsNiD"
   },
   "outputs": [],
   "source": [
    "#create future df\n",
    "future = m.make_future_dataframe(periods = test_days,\n",
    "                                 freq = \"D\")"
   ]
  },
  {
   "cell_type": "code",
   "execution_count": 11,
   "metadata": {
    "executionInfo": {
     "elapsed": 938,
     "status": "ok",
     "timestamp": 1621009506406,
     "user": {
      "displayName": "Diogo Resende",
      "photoUrl": "https://lh3.googleusercontent.com/a-/AOh14GgH4DE06-yE1oiIzCiaAURCl1Escr4LXXiaSnbSaA=s64",
      "userId": "05706604408624562002"
     },
     "user_tz": -120
    },
    "id": "8-cqw_0isYEP"
   },
   "outputs": [],
   "source": [
    "future = pd.concat([future], axis = 1)"
   ]
  },
  {
   "cell_type": "code",
   "execution_count": 12,
   "metadata": {
    "colab": {
     "base_uri": "https://localhost:8080/",
     "height": 309
    },
    "executionInfo": {
     "elapsed": 5052,
     "status": "ok",
     "timestamp": 1621009541010,
     "user": {
      "displayName": "Diogo Resende",
      "photoUrl": "https://lh3.googleusercontent.com/a-/AOh14GgH4DE06-yE1oiIzCiaAURCl1Escr4LXXiaSnbSaA=s64",
      "userId": "05706604408624562002"
     },
     "user_tz": -120
    },
    "id": "NaKE6JkDshxm",
    "outputId": "4c7aac39-520e-4944-a77b-e1d903925a7d"
   },
   "outputs": [
    {
     "data": {
      "text/html": [
       "<div>\n",
       "<style scoped>\n",
       "    .dataframe tbody tr th:only-of-type {\n",
       "        vertical-align: middle;\n",
       "    }\n",
       "\n",
       "    .dataframe tbody tr th {\n",
       "        vertical-align: top;\n",
       "    }\n",
       "\n",
       "    .dataframe thead th {\n",
       "        text-align: right;\n",
       "    }\n",
       "</style>\n",
       "<table border=\"1\" class=\"dataframe\">\n",
       "  <thead>\n",
       "    <tr style=\"text-align: right;\">\n",
       "      <th></th>\n",
       "      <th>ds</th>\n",
       "      <th>trend</th>\n",
       "      <th>yhat_lower</th>\n",
       "      <th>yhat_upper</th>\n",
       "      <th>trend_lower</th>\n",
       "      <th>trend_upper</th>\n",
       "      <th>multiplicative_terms</th>\n",
       "      <th>multiplicative_terms_lower</th>\n",
       "      <th>multiplicative_terms_upper</th>\n",
       "      <th>weekly</th>\n",
       "      <th>weekly_lower</th>\n",
       "      <th>weekly_upper</th>\n",
       "      <th>yearly</th>\n",
       "      <th>yearly_lower</th>\n",
       "      <th>yearly_upper</th>\n",
       "      <th>additive_terms</th>\n",
       "      <th>additive_terms_lower</th>\n",
       "      <th>additive_terms_upper</th>\n",
       "      <th>yhat</th>\n",
       "    </tr>\n",
       "  </thead>\n",
       "  <tbody>\n",
       "    <tr>\n",
       "      <th>5816</th>\n",
       "      <td>2020-11-11</td>\n",
       "      <td>7.290245</td>\n",
       "      <td>-469.805053</td>\n",
       "      <td>561.290585</td>\n",
       "      <td>-67.435811</td>\n",
       "      <td>81.987309</td>\n",
       "      <td>5.899855</td>\n",
       "      <td>5.899855</td>\n",
       "      <td>5.899855</td>\n",
       "      <td>5.870651</td>\n",
       "      <td>5.870651</td>\n",
       "      <td>5.870651</td>\n",
       "      <td>0.029203</td>\n",
       "      <td>0.029203</td>\n",
       "      <td>0.029203</td>\n",
       "      <td>0.0</td>\n",
       "      <td>0.0</td>\n",
       "      <td>0.0</td>\n",
       "      <td>50.301629</td>\n",
       "    </tr>\n",
       "    <tr>\n",
       "      <th>5817</th>\n",
       "      <td>2020-11-12</td>\n",
       "      <td>7.289064</td>\n",
       "      <td>-466.308128</td>\n",
       "      <td>564.292656</td>\n",
       "      <td>-67.473305</td>\n",
       "      <td>82.113463</td>\n",
       "      <td>5.895623</td>\n",
       "      <td>5.895623</td>\n",
       "      <td>5.895623</td>\n",
       "      <td>5.878510</td>\n",
       "      <td>5.878510</td>\n",
       "      <td>5.878510</td>\n",
       "      <td>0.017113</td>\n",
       "      <td>0.017113</td>\n",
       "      <td>0.017113</td>\n",
       "      <td>0.0</td>\n",
       "      <td>0.0</td>\n",
       "      <td>0.0</td>\n",
       "      <td>50.262636</td>\n",
       "    </tr>\n",
       "    <tr>\n",
       "      <th>5818</th>\n",
       "      <td>2020-11-13</td>\n",
       "      <td>7.287884</td>\n",
       "      <td>-469.217091</td>\n",
       "      <td>568.738580</td>\n",
       "      <td>-67.519703</td>\n",
       "      <td>82.239617</td>\n",
       "      <td>5.874943</td>\n",
       "      <td>5.874943</td>\n",
       "      <td>5.874943</td>\n",
       "      <td>5.869123</td>\n",
       "      <td>5.869123</td>\n",
       "      <td>5.869123</td>\n",
       "      <td>0.005821</td>\n",
       "      <td>0.005821</td>\n",
       "      <td>0.005821</td>\n",
       "      <td>0.0</td>\n",
       "      <td>0.0</td>\n",
       "      <td>0.0</td>\n",
       "      <td>50.103788</td>\n",
       "    </tr>\n",
       "    <tr>\n",
       "      <th>5819</th>\n",
       "      <td>2020-11-14</td>\n",
       "      <td>7.286703</td>\n",
       "      <td>-1126.855708</td>\n",
       "      <td>926.923222</td>\n",
       "      <td>-67.574324</td>\n",
       "      <td>82.365198</td>\n",
       "      <td>-14.678555</td>\n",
       "      <td>-14.678555</td>\n",
       "      <td>-14.678555</td>\n",
       "      <td>-14.673993</td>\n",
       "      <td>-14.673993</td>\n",
       "      <td>-14.673993</td>\n",
       "      <td>-0.004562</td>\n",
       "      <td>-0.004562</td>\n",
       "      <td>-0.004562</td>\n",
       "      <td>0.0</td>\n",
       "      <td>0.0</td>\n",
       "      <td>0.0</td>\n",
       "      <td>-99.671573</td>\n",
       "    </tr>\n",
       "    <tr>\n",
       "      <th>5820</th>\n",
       "      <td>2020-11-15</td>\n",
       "      <td>7.285523</td>\n",
       "      <td>-1119.098194</td>\n",
       "      <td>929.568493</td>\n",
       "      <td>-67.628944</td>\n",
       "      <td>82.488815</td>\n",
       "      <td>-14.687940</td>\n",
       "      <td>-14.687940</td>\n",
       "      <td>-14.687940</td>\n",
       "      <td>-14.673988</td>\n",
       "      <td>-14.673988</td>\n",
       "      <td>-14.673988</td>\n",
       "      <td>-0.013951</td>\n",
       "      <td>-0.013951</td>\n",
       "      <td>-0.013951</td>\n",
       "      <td>0.0</td>\n",
       "      <td>0.0</td>\n",
       "      <td>0.0</td>\n",
       "      <td>-99.723793</td>\n",
       "    </tr>\n",
       "  </tbody>\n",
       "</table>\n",
       "</div>"
      ],
      "text/plain": [
       "             ds     trend   yhat_lower  yhat_upper  trend_lower  trend_upper  \\\n",
       "5816 2020-11-11  7.290245  -469.805053  561.290585   -67.435811    81.987309   \n",
       "5817 2020-11-12  7.289064  -466.308128  564.292656   -67.473305    82.113463   \n",
       "5818 2020-11-13  7.287884  -469.217091  568.738580   -67.519703    82.239617   \n",
       "5819 2020-11-14  7.286703 -1126.855708  926.923222   -67.574324    82.365198   \n",
       "5820 2020-11-15  7.285523 -1119.098194  929.568493   -67.628944    82.488815   \n",
       "\n",
       "      multiplicative_terms  multiplicative_terms_lower  \\\n",
       "5816              5.899855                    5.899855   \n",
       "5817              5.895623                    5.895623   \n",
       "5818              5.874943                    5.874943   \n",
       "5819            -14.678555                  -14.678555   \n",
       "5820            -14.687940                  -14.687940   \n",
       "\n",
       "      multiplicative_terms_upper     weekly  weekly_lower  weekly_upper  \\\n",
       "5816                    5.899855   5.870651      5.870651      5.870651   \n",
       "5817                    5.895623   5.878510      5.878510      5.878510   \n",
       "5818                    5.874943   5.869123      5.869123      5.869123   \n",
       "5819                  -14.678555 -14.673993    -14.673993    -14.673993   \n",
       "5820                  -14.687940 -14.673988    -14.673988    -14.673988   \n",
       "\n",
       "        yearly  yearly_lower  yearly_upper  additive_terms  \\\n",
       "5816  0.029203      0.029203      0.029203             0.0   \n",
       "5817  0.017113      0.017113      0.017113             0.0   \n",
       "5818  0.005821      0.005821      0.005821             0.0   \n",
       "5819 -0.004562     -0.004562     -0.004562             0.0   \n",
       "5820 -0.013951     -0.013951     -0.013951             0.0   \n",
       "\n",
       "      additive_terms_lower  additive_terms_upper       yhat  \n",
       "5816                   0.0                   0.0  50.301629  \n",
       "5817                   0.0                   0.0  50.262636  \n",
       "5818                   0.0                   0.0  50.103788  \n",
       "5819                   0.0                   0.0 -99.671573  \n",
       "5820                   0.0                   0.0 -99.723793  "
      ]
     },
     "execution_count": 12,
     "metadata": {},
     "output_type": "execute_result"
    }
   ],
   "source": [
    "#forecast\n",
    "forecast = m.predict(future)\n",
    "forecast.tail()"
   ]
  },
  {
   "cell_type": "code",
   "execution_count": 13,
   "metadata": {},
   "outputs": [
    {
     "data": {
      "text/html": [
       "<div>\n",
       "<style scoped>\n",
       "    .dataframe tbody tr th:only-of-type {\n",
       "        vertical-align: middle;\n",
       "    }\n",
       "\n",
       "    .dataframe tbody tr th {\n",
       "        vertical-align: top;\n",
       "    }\n",
       "\n",
       "    .dataframe thead th {\n",
       "        text-align: right;\n",
       "    }\n",
       "</style>\n",
       "<table border=\"1\" class=\"dataframe\">\n",
       "  <thead>\n",
       "    <tr style=\"text-align: right;\">\n",
       "      <th></th>\n",
       "      <th>Date</th>\n",
       "      <th>Open</th>\n",
       "      <th>High</th>\n",
       "      <th>Low</th>\n",
       "      <th>y</th>\n",
       "      <th>Volume</th>\n",
       "      <th>ds</th>\n",
       "    </tr>\n",
       "  </thead>\n",
       "  <tbody>\n",
       "    <tr>\n",
       "      <th>0</th>\n",
       "      <td>2000-03-06</td>\n",
       "      <td>4.450512</td>\n",
       "      <td>4.528395</td>\n",
       "      <td>4.227986</td>\n",
       "      <td>4.280836</td>\n",
       "      <td>493866</td>\n",
       "      <td>2000-03-06</td>\n",
       "    </tr>\n",
       "    <tr>\n",
       "      <th>1</th>\n",
       "      <td>2000-03-07</td>\n",
       "      <td>4.280836</td>\n",
       "      <td>4.339248</td>\n",
       "      <td>4.008242</td>\n",
       "      <td>4.211296</td>\n",
       "      <td>759074</td>\n",
       "      <td>2000-03-07</td>\n",
       "    </tr>\n",
       "    <tr>\n",
       "      <th>2</th>\n",
       "      <td>2000-03-08</td>\n",
       "      <td>4.353157</td>\n",
       "      <td>4.428259</td>\n",
       "      <td>4.005460</td>\n",
       "      <td>4.019369</td>\n",
       "      <td>393941</td>\n",
       "      <td>2000-03-08</td>\n",
       "    </tr>\n",
       "    <tr>\n",
       "      <th>3</th>\n",
       "      <td>2000-03-09</td>\n",
       "      <td>4.005459</td>\n",
       "      <td>4.058309</td>\n",
       "      <td>3.922011</td>\n",
       "      <td>4.033275</td>\n",
       "      <td>489390</td>\n",
       "      <td>2000-03-09</td>\n",
       "    </tr>\n",
       "    <tr>\n",
       "      <th>4</th>\n",
       "      <td>2000-03-10</td>\n",
       "      <td>4.005460</td>\n",
       "      <td>4.144538</td>\n",
       "      <td>3.922013</td>\n",
       "      <td>3.958174</td>\n",
       "      <td>493006</td>\n",
       "      <td>2000-03-10</td>\n",
       "    </tr>\n",
       "    <tr>\n",
       "      <th>...</th>\n",
       "      <td>...</td>\n",
       "      <td>...</td>\n",
       "      <td>...</td>\n",
       "      <td>...</td>\n",
       "      <td>...</td>\n",
       "      <td>...</td>\n",
       "      <td>...</td>\n",
       "    </tr>\n",
       "    <tr>\n",
       "      <th>5816</th>\n",
       "      <td>2023-06-22</td>\n",
       "      <td>224.850006</td>\n",
       "      <td>225.149994</td>\n",
       "      <td>220.500000</td>\n",
       "      <td>221.100006</td>\n",
       "      <td>6857007</td>\n",
       "      <td>2023-06-22</td>\n",
       "    </tr>\n",
       "    <tr>\n",
       "      <th>5817</th>\n",
       "      <td>2023-06-23</td>\n",
       "      <td>222.000000</td>\n",
       "      <td>222.100006</td>\n",
       "      <td>215.699997</td>\n",
       "      <td>218.300003</td>\n",
       "      <td>10890426</td>\n",
       "      <td>2023-06-23</td>\n",
       "    </tr>\n",
       "    <tr>\n",
       "      <th>5818</th>\n",
       "      <td>2023-06-26</td>\n",
       "      <td>218.300003</td>\n",
       "      <td>219.350006</td>\n",
       "      <td>216.300003</td>\n",
       "      <td>218.600006</td>\n",
       "      <td>5136478</td>\n",
       "      <td>2023-06-26</td>\n",
       "    </tr>\n",
       "    <tr>\n",
       "      <th>5819</th>\n",
       "      <td>2023-06-27</td>\n",
       "      <td>218.899994</td>\n",
       "      <td>220.500000</td>\n",
       "      <td>218.600006</td>\n",
       "      <td>219.250000</td>\n",
       "      <td>4694432</td>\n",
       "      <td>2023-06-27</td>\n",
       "    </tr>\n",
       "    <tr>\n",
       "      <th>5820</th>\n",
       "      <td>2023-06-28</td>\n",
       "      <td>219.949997</td>\n",
       "      <td>220.949997</td>\n",
       "      <td>217.550003</td>\n",
       "      <td>218.649994</td>\n",
       "      <td>8340649</td>\n",
       "      <td>2023-06-28</td>\n",
       "    </tr>\n",
       "  </tbody>\n",
       "</table>\n",
       "<p>5821 rows × 7 columns</p>\n",
       "</div>"
      ],
      "text/plain": [
       "           Date        Open        High         Low           y    Volume  \\\n",
       "0    2000-03-06    4.450512    4.528395    4.227986    4.280836    493866   \n",
       "1    2000-03-07    4.280836    4.339248    4.008242    4.211296    759074   \n",
       "2    2000-03-08    4.353157    4.428259    4.005460    4.019369    393941   \n",
       "3    2000-03-09    4.005459    4.058309    3.922011    4.033275    489390   \n",
       "4    2000-03-10    4.005460    4.144538    3.922013    3.958174    493006   \n",
       "...         ...         ...         ...         ...         ...       ...   \n",
       "5816 2023-06-22  224.850006  225.149994  220.500000  221.100006   6857007   \n",
       "5817 2023-06-23  222.000000  222.100006  215.699997  218.300003  10890426   \n",
       "5818 2023-06-26  218.300003  219.350006  216.300003  218.600006   5136478   \n",
       "5819 2023-06-27  218.899994  220.500000  218.600006  219.250000   4694432   \n",
       "5820 2023-06-28  219.949997  220.949997  217.550003  218.649994   8340649   \n",
       "\n",
       "             ds  \n",
       "0    2000-03-06  \n",
       "1    2000-03-07  \n",
       "2    2000-03-08  \n",
       "3    2000-03-09  \n",
       "4    2000-03-10  \n",
       "...         ...  \n",
       "5816 2023-06-22  \n",
       "5817 2023-06-23  \n",
       "5818 2023-06-26  \n",
       "5819 2023-06-27  \n",
       "5820 2023-06-28  \n",
       "\n",
       "[5821 rows x 7 columns]"
      ]
     },
     "execution_count": 13,
     "metadata": {},
     "output_type": "execute_result"
    }
   ],
   "source": [
    "data = data.reset_index(level=None, drop=False, inplace=False, col_level=0, col_fill='')\n",
    "data"
   ]
  },
  {
   "cell_type": "code",
   "execution_count": 14,
   "metadata": {
    "colab": {
     "base_uri": "https://localhost:8080/",
     "height": 79
    },
    "executionInfo": {
     "elapsed": 789,
     "status": "ok",
     "timestamp": 1621009743333,
     "user": {
      "displayName": "Diogo Resende",
      "photoUrl": "https://lh3.googleusercontent.com/a-/AOh14GgH4DE06-yE1oiIzCiaAURCl1Escr4LXXiaSnbSaA=s64",
      "userId": "05706604408624562002"
     },
     "user_tz": -120
    },
    "id": "cHnEk0cMsrfG",
    "outputId": "0e18baad-9e68-4f94-bc48-c6509130f361"
   },
   "outputs": [
    {
     "data": {
      "text/html": [
       "<div>\n",
       "<style scoped>\n",
       "    .dataframe tbody tr th:only-of-type {\n",
       "        vertical-align: middle;\n",
       "    }\n",
       "\n",
       "    .dataframe tbody tr th {\n",
       "        vertical-align: top;\n",
       "    }\n",
       "\n",
       "    .dataframe thead th {\n",
       "        text-align: right;\n",
       "    }\n",
       "</style>\n",
       "<table border=\"1\" class=\"dataframe\">\n",
       "  <thead>\n",
       "    <tr style=\"text-align: right;\">\n",
       "      <th></th>\n",
       "      <th>Date</th>\n",
       "      <th>Open</th>\n",
       "      <th>High</th>\n",
       "      <th>Low</th>\n",
       "      <th>y</th>\n",
       "      <th>Volume</th>\n",
       "      <th>ds</th>\n",
       "      <th>trend</th>\n",
       "      <th>weekly</th>\n",
       "      <th>multiplicative_terms</th>\n",
       "    </tr>\n",
       "  </thead>\n",
       "  <tbody>\n",
       "    <tr>\n",
       "      <th>0</th>\n",
       "      <td>2000-03-06</td>\n",
       "      <td>4.450512</td>\n",
       "      <td>4.528395</td>\n",
       "      <td>4.227986</td>\n",
       "      <td>4.280836</td>\n",
       "      <td>493866</td>\n",
       "      <td>2000-03-06</td>\n",
       "      <td>0.45701</td>\n",
       "      <td>5.876794</td>\n",
       "      <td>5.690522</td>\n",
       "    </tr>\n",
       "  </tbody>\n",
       "</table>\n",
       "</div>"
      ],
      "text/plain": [
       "        Date      Open      High       Low         y  Volume         ds  \\\n",
       "0 2000-03-06  4.450512  4.528395  4.227986  4.280836  493866 2000-03-06   \n",
       "\n",
       "     trend    weekly  multiplicative_terms  \n",
       "0  0.45701  5.876794              5.690522  "
      ]
     },
     "execution_count": 14,
     "metadata": {},
     "output_type": "execute_result"
    }
   ],
   "source": [
    "#get some variables\n",
    "prophet_variables = forecast.loc[:, [\"trend\", \"weekly\",  \"multiplicative_terms\"]]\n",
    "df_xgb = pd.concat([data, prophet_variables], axis = 1)\n",
    "df_xgb.head(1)"
   ]
  },
  {
   "cell_type": "markdown",
   "metadata": {
    "id": "lNUb5oO-tir_"
   },
   "source": [
    "#XGBoost preparation"
   ]
  },
  {
   "cell_type": "code",
   "execution_count": 15,
   "metadata": {
    "executionInfo": {
     "elapsed": 444,
     "status": "ok",
     "timestamp": 1621009798336,
     "user": {
      "displayName": "Diogo Resende",
      "photoUrl": "https://lh3.googleusercontent.com/a-/AOh14GgH4DE06-yE1oiIzCiaAURCl1Escr4LXXiaSnbSaA=s64",
      "userId": "05706604408624562002"
     },
     "user_tz": -120
    },
    "id": "YCd0qohrtkae"
   },
   "outputs": [],
   "source": [
    "#create training and test set\n",
    "test_days = 100\n",
    "training_set = df_xgb.iloc[:-test_days,:]\n",
    "test_set = df_xgb.iloc[-test_days:,:]"
   ]
  },
  {
   "cell_type": "code",
   "execution_count": 16,
   "metadata": {
    "executionInfo": {
     "elapsed": 801,
     "status": "ok",
     "timestamp": 1621009908956,
     "user": {
      "displayName": "Diogo Resende",
      "photoUrl": "https://lh3.googleusercontent.com/a-/AOh14GgH4DE06-yE1oiIzCiaAURCl1Escr4LXXiaSnbSaA=s64",
      "userId": "05706604408624562002"
     },
     "user_tz": -120
    },
    "id": "Hy7FFj2UtpKo"
   },
   "outputs": [],
   "source": [
    "#isolate X and y\n",
    "y_train = training_set.y\n",
    "y_test = test_set.y \n",
    "X_train = training_set.iloc[:, 2:]\n",
    "X_test = test_set.iloc[:, 2:]"
   ]
  },
  {
   "cell_type": "code",
   "execution_count": 17,
   "metadata": {},
   "outputs": [],
   "source": [
    "X_train = X_train.drop(columns=[\"ds\"])\n",
    "X_test = X_test.drop(columns=[\"ds\"])\n"
   ]
  },
  {
   "cell_type": "code",
   "execution_count": 18,
   "metadata": {
    "executionInfo": {
     "elapsed": 810,
     "status": "ok",
     "timestamp": 1621009964124,
     "user": {
      "displayName": "Diogo Resende",
      "photoUrl": "https://lh3.googleusercontent.com/a-/AOh14GgH4DE06-yE1oiIzCiaAURCl1Escr4LXXiaSnbSaA=s64",
      "userId": "05706604408624562002"
     },
     "user_tz": -120
    },
    "id": "N4DVh8ykuEzD"
   },
   "outputs": [],
   "source": [
    "#Matrices\n",
    "import xgboost as xgb\n",
    "Train = xgb.DMatrix(X_train, label = y_train)\n",
    "Test = xgb.DMatrix(X_test, label = y_test)"
   ]
  },
  {
   "cell_type": "code",
   "execution_count": 19,
   "metadata": {
    "executionInfo": {
     "elapsed": 755,
     "status": "ok",
     "timestamp": 1621010148513,
     "user": {
      "displayName": "Diogo Resende",
      "photoUrl": "https://lh3.googleusercontent.com/a-/AOh14GgH4DE06-yE1oiIzCiaAURCl1Escr4LXXiaSnbSaA=s64",
      "userId": "05706604408624562002"
     },
     "user_tz": -120
    },
    "id": "jMsbDX7huRjC"
   },
   "outputs": [],
   "source": [
    "#set the parameters\n",
    "parameters = {'learning_rate': 0.3,\n",
    "              'max_depth': 6,\n",
    "              'colsample_bytree': 1,\n",
    "              'subsample': 1,\n",
    "              'min_child_weight' : 1,\n",
    "              'gamma': 0,\n",
    "              'random_state': 1502,\n",
    "              'eval_metric': \"rmse\",\n",
    "              'objective': \"reg:squarederror\"}"
   ]
  },
  {
   "cell_type": "markdown",
   "metadata": {
    "id": "r_NPjTwvvAFw"
   },
   "source": [
    "#XGBoost"
   ]
  },
  {
   "cell_type": "code",
   "execution_count": 20,
   "metadata": {
    "colab": {
     "base_uri": "https://localhost:8080/"
    },
    "executionInfo": {
     "elapsed": 1270,
     "status": "ok",
     "timestamp": 1621010214611,
     "user": {
      "displayName": "Diogo Resende",
      "photoUrl": "https://lh3.googleusercontent.com/a-/AOh14GgH4DE06-yE1oiIzCiaAURCl1Escr4LXXiaSnbSaA=s64",
      "userId": "05706604408624562002"
     },
     "user_tz": -120
    },
    "id": "tbfqPArxu-lW",
    "outputId": "b813ebd1-a6fc-477b-9c35-86f6f2484af1"
   },
   "outputs": [
    {
     "name": "stdout",
     "output_type": "stream",
     "text": [
      "[0]\ty-rmse:137.88615\n",
      "[1]\ty-rmse:96.44007\n",
      "[2]\ty-rmse:67.80927\n",
      "[3]\ty-rmse:47.45825\n",
      "[4]\ty-rmse:33.00327\n",
      "[5]\ty-rmse:23.34675\n",
      "[6]\ty-rmse:16.36136\n",
      "[7]\ty-rmse:11.53651\n",
      "[8]\ty-rmse:8.56421\n",
      "[9]\ty-rmse:7.19553\n",
      "[10]\ty-rmse:5.95740\n",
      "[11]\ty-rmse:5.11811\n",
      "[12]\ty-rmse:4.40659\n",
      "[13]\ty-rmse:3.78623\n",
      "[14]\ty-rmse:3.54831\n",
      "[15]\ty-rmse:3.30384\n",
      "[16]\ty-rmse:3.20261\n",
      "[17]\ty-rmse:3.13747\n",
      "[18]\ty-rmse:2.97729\n",
      "[19]\ty-rmse:2.95024\n",
      "[20]\ty-rmse:2.92357\n",
      "[21]\ty-rmse:2.90294\n",
      "[22]\ty-rmse:2.89143\n",
      "[23]\ty-rmse:2.87357\n",
      "[24]\ty-rmse:2.86973\n",
      "[25]\ty-rmse:2.86744\n",
      "[26]\ty-rmse:2.78604\n",
      "[27]\ty-rmse:2.78224\n",
      "[28]\ty-rmse:2.78188\n",
      "[29]\ty-rmse:2.77216\n",
      "[30]\ty-rmse:2.76994\n",
      "[31]\ty-rmse:2.77762\n",
      "[32]\ty-rmse:2.78046\n",
      "[33]\ty-rmse:2.77950\n",
      "[34]\ty-rmse:2.77937\n",
      "[35]\ty-rmse:2.77773\n",
      "[36]\ty-rmse:2.77813\n",
      "[37]\ty-rmse:2.78129\n",
      "[38]\ty-rmse:2.78176\n",
      "[39]\ty-rmse:2.73511\n"
     ]
    }
   ],
   "source": [
    "model = xgb.train(params = parameters,\n",
    "                  dtrain = Train,\n",
    "                  num_boost_round = 40,\n",
    "                  evals = [(Test, \"y\")])"
   ]
  },
  {
   "cell_type": "code",
   "execution_count": 39,
   "metadata": {},
   "outputs": [
    {
     "name": "stdout",
     "output_type": "stream",
     "text": [
      "<_io.BufferedWriter name='prophet_model.pkl'>\n"
     ]
    }
   ],
   "source": [
    "model_path = 'prophet_model.pkl'\n",
    "# Save the model to the specified path\n",
    "with open(model_path, 'wb') as f:\n",
    "    print(f)\n",
    "    pickle.dump(model, f)"
   ]
  },
  {
   "cell_type": "code",
   "execution_count": 41,
   "metadata": {},
   "outputs": [
    {
     "name": "stdout",
     "output_type": "stream",
     "text": [
      "<xgboost.core.Booster object at 0x7fa31e6e7a90>\n"
     ]
    }
   ],
   "source": [
    "with open('prophet_model.pkl', 'rb') as f:\n",
    "    loaded_model = pickle.load(f)\n",
    "    print(loaded_model)\n"
   ]
  },
  {
   "cell_type": "code",
   "execution_count": 37,
   "metadata": {},
   "outputs": [
    {
     "name": "stdout",
     "output_type": "stream",
     "text": [
      "['/bin/bash: -c: line 1: syntax error: unexpected end of file']\n"
     ]
    }
   ],
   "source": [
    "#f_predictions = pd.Series(model.predict(Future), name = \"XGBoost\")\n",
    "#f_predictions\n"
   ]
  },
  {
   "cell_type": "code",
   "execution_count": 24,
   "metadata": {},
   "outputs": [],
   "source": [
    "#forecasting\n",
    "predictions = pd.Series(model.predict(Test), name = \"XGBoost\")\n",
    "predictions.index  =test_set.ds"
   ]
  },
  {
   "cell_type": "markdown",
   "metadata": {
    "id": "chgYCCqhvmiW"
   },
   "source": [
    "#VIZ and assessment"
   ]
  },
  {
   "cell_type": "code",
   "execution_count": 25,
   "metadata": {
    "executionInfo": {
     "elapsed": 752,
     "status": "ok",
     "timestamp": 1621010365844,
     "user": {
      "displayName": "Diogo Resende",
      "photoUrl": "https://lh3.googleusercontent.com/a-/AOh14GgH4DE06-yE1oiIzCiaAURCl1Escr4LXXiaSnbSaA=s64",
      "userId": "05706604408624562002"
     },
     "user_tz": -120
    },
    "id": "R8azMDH1vkxr"
   },
   "outputs": [],
   "source": [
    "#Visualization\n",
    "training_set.index = training_set.ds\n",
    "test_set.index = test_set.ds"
   ]
  },
  {
   "cell_type": "code",
   "execution_count": 26,
   "metadata": {
    "colab": {
     "base_uri": "https://localhost:8080/",
     "height": 417
    },
    "executionInfo": {
     "elapsed": 1600,
     "status": "ok",
     "timestamp": 1621010431951,
     "user": {
      "displayName": "Diogo Resende",
      "photoUrl": "https://lh3.googleusercontent.com/a-/AOh14GgH4DE06-yE1oiIzCiaAURCl1Escr4LXXiaSnbSaA=s64",
      "userId": "05706604408624562002"
     },
     "user_tz": -120
    },
    "id": "KmUOTBaYvzQV",
    "outputId": "0ef89d8d-377d-43d6-fd82-62bf6f46c01e"
   },
   "outputs": [
    {
     "data": {
      "text/plain": [
       "<Axes: xlabel='ds'>"
      ]
     },
     "execution_count": 26,
     "metadata": {},
     "output_type": "execute_result"
    },
    {
     "data": {
      "image/png": "[encoded data removed]",
      "text/plain": [
       "<Figure size 900x600 with 1 Axes>"
      ]
     },
     "metadata": {},
     "output_type": "display_data"
    }
   ],
   "source": [
    "training_set.y['2020-01-01':].plot(figsize = (9,6), legend = True)\n",
    "test_set.y.plot(legend = True)\n",
    "predictions.plot(legend = True)"
   ]
  },
  {
   "cell_type": "code",
   "execution_count": 27,
   "metadata": {
    "colab": {
     "base_uri": "https://localhost:8080/"
    },
    "executionInfo": {
     "elapsed": 972,
     "status": "ok",
     "timestamp": 1621010535824,
     "user": {
      "displayName": "Diogo Resende",
      "photoUrl": "https://lh3.googleusercontent.com/a-/AOh14GgH4DE06-yE1oiIzCiaAURCl1Escr4LXXiaSnbSaA=s64",
      "userId": "05706604408624562002"
     },
     "user_tz": -120
    },
    "id": "cWiOhRX-wJjT",
    "outputId": "8ae1a6f5-be12-4e69-e6ff-ccbacf38dca0"
   },
   "outputs": [
    {
     "data": {
      "text/plain": [
       "0.8678856943128023"
      ]
     },
     "execution_count": 27,
     "metadata": {},
     "output_type": "execute_result"
    }
   ],
   "source": [
    "#MAPE\n",
    "def MAPE(y_true, y_pred):\n",
    "  y_true, y_pred = np.array(y_true), np.array(y_pred)\n",
    "  return np.mean(np.abs((y_true - y_pred) / y_true)) * 100\n",
    "MAPE(test_set.y, predictions)"
   ]
  },
  {
   "cell_type": "markdown",
   "metadata": {},
   "source": [
    "#Future\n",
    "\n"
   ]
  },
  {
   "cell_type": "code",
   "execution_count": 28,
   "metadata": {},
   "outputs": [],
   "source": [
    "# Create a dictionary with data\n",
    "data = {\n",
    "            'High': [4.123123],\n",
    "    'Low': [4.123123],\n",
    "    'y': [210.935516],\n",
    "    'Volume': [4.123123],\n",
    "        'trend': [8.12313],\n",
    "        'weekly': [4.123123],\n",
    "            'multiplicative_terms': [4.444],\n",
    "                \n",
    "\n",
    "                \n",
    "                }\n",
    "\n",
    "# Create a new DataFrame object\n",
    "df = pd.DataFrame(data)\n"
   ]
  },
  {
   "cell_type": "code",
   "execution_count": 29,
   "metadata": {},
   "outputs": [
    {
     "data": {
      "text/plain": [
       "0    153.933731\n",
       "Name: XGBoost, dtype: float32"
      ]
     },
     "execution_count": 29,
     "metadata": {},
     "output_type": "execute_result"
    }
   ],
   "source": [
    "Future = xgb.DMatrix(df, label = df.y)\n",
    "f_predictions = pd.Series(model.predict(Future), name = \"XGBoost\")\n",
    "f_predictions"
   ]
  }
 ],
 "metadata": {
  "colab": {
   "authorship_tag": "ABX9TyONf4Fw76cQlH82pdR3h9Fa",
   "mount_file_id": "182alF94XmFPfm3NMnYKs4Tu9b-3DTW7y",
   "name": "Facebook Prophet + XGBoost Challenge Template.ipynb",
   "provenance": []
  },
  "kernelspec": {
   "display_name": "Python 3 (ipykernel)",
   "language": "python",
   "name": "python3"
  },
  "language_info": {
   "codemirror_mode": {
    "name": "ipython",
    "version": 3
   },
   "file_extension": ".py",
   "mimetype": "text/x-python",
   "name": "python",
   "nbconvert_exporter": "python",
   "pygments_lexer": "ipython3",
   "version": "3.9.16"
  }
 },
 "nbformat": 4,
 "nbformat_minor": 1
}
