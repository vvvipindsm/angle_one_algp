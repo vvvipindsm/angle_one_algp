{
 "cells": [
  {
   "cell_type": "markdown",
   "id": "bf64a4aa",
   "metadata": {},
   "source": [
    "### Case Study"
   ]
  },
  {
   "cell_type": "markdown",
   "id": "fdad9608",
   "metadata": {},
   "source": [
    "Continuation on from the previous notebook, we are now going to take a very basic moving average cross-over strategy and see if we can improve upon the returns by selecting only favourable HMM states which are generated as out-of-sample data for maximum caution.\n",
    "\n",
    "We will also see how a quick backtest can be constructed and Equity curves along with Sharpe Ratios etc created."
   ]
  },
  {
   "cell_type": "markdown",
   "id": "e1abbf9e",
   "metadata": {},
   "source": [
    "### Imports"
   ]
  },
  {
   "cell_type": "markdown",
   "id": "b97c0207",
   "metadata": {},
   "source": [
    "### Structure Data"
   ]
  },
  {
   "cell_type": "code",
   "execution_count": 1,
   "id": "a4ff2ad2",
   "metadata": {},
   "outputs": [],
   "source": [
    "import pandas as pd\n",
    "import numpy as np\n",
    "\n",
    "from pyhhmm.gaussian import GaussianHMM\n",
    "from pyhhmm.gaussian import GaussianHMM\n",
    "\n",
    "import matplotlib.pyplot as plt   \n",
    "\n",
    "import yfinance"
   ]
  },
  {
   "cell_type": "code",
   "execution_count": 2,
   "id": "eb544055",
   "metadata": {},
   "outputs": [
    {
     "name": "stdout",
     "output_type": "stream",
     "text": [
      "[*********************100%***********************]  1 of 1 completed\n"
     ]
    }
   ],
   "source": [
    "# Data Extraction\n",
    "start_date = \"2017-01-1\"\n",
    "end_date = \"2022-06-1\"\n",
    "symbol = \"SPY\"\n",
    "data = yfinance.download(tickers = \"TATAMOTORS.NS\",start=\"2000-03-06\",\n",
    "                               interval = \"1d\", group_by = 'ticker', auto_adjust = True)\n",
    "\n",
    "\n",
    "\n",
    "    data = data[[\"Open\", \"High\", \"Low\", \"Close\",\"Volume\"]]\n"
   ]
  },
  {
   "cell_type": "code",
   "execution_count": 3,
   "id": "dbe8e79d",
   "metadata": {},
   "outputs": [
    {
     "name": "stdout",
     "output_type": "stream",
     "text": [
      "Length:  5815\n"
     ]
    },
    {
     "data": {
      "text/html": [
       "<div>\n",
       "<style scoped>\n",
       "    .dataframe tbody tr th:only-of-type {\n",
       "        vertical-align: middle;\n",
       "    }\n",
       "\n",
       "    .dataframe tbody tr th {\n",
       "        vertical-align: top;\n",
       "    }\n",
       "\n",
       "    .dataframe thead th {\n",
       "        text-align: right;\n",
       "    }\n",
       "</style>\n",
       "<table border=\"1\" class=\"dataframe\">\n",
       "  <thead>\n",
       "    <tr style=\"text-align: right;\">\n",
       "      <th></th>\n",
       "      <th>Open</th>\n",
       "      <th>High</th>\n",
       "      <th>Low</th>\n",
       "      <th>Close</th>\n",
       "      <th>Volume</th>\n",
       "      <th>Returns</th>\n",
       "      <th>Range</th>\n",
       "    </tr>\n",
       "    <tr>\n",
       "      <th>Date</th>\n",
       "      <th></th>\n",
       "      <th></th>\n",
       "      <th></th>\n",
       "      <th></th>\n",
       "      <th></th>\n",
       "      <th></th>\n",
       "      <th></th>\n",
       "    </tr>\n",
       "  </thead>\n",
       "  <tbody>\n",
       "    <tr>\n",
       "      <th>2000-03-07</th>\n",
       "      <td>19.751292</td>\n",
       "      <td>21.209848</td>\n",
       "      <td>19.751292</td>\n",
       "      <td>20.070351</td>\n",
       "      <td>5675894</td>\n",
       "      <td>-0.047928</td>\n",
       "      <td>0.073846</td>\n",
       "    </tr>\n",
       "    <tr>\n",
       "      <th>2000-03-08</th>\n",
       "      <td>20.359024</td>\n",
       "      <td>20.374217</td>\n",
       "      <td>18.991626</td>\n",
       "      <td>19.371460</td>\n",
       "      <td>3117111</td>\n",
       "      <td>-0.034822</td>\n",
       "      <td>0.072800</td>\n",
       "    </tr>\n",
       "    <tr>\n",
       "      <th>2000-03-09</th>\n",
       "      <td>19.447426</td>\n",
       "      <td>20.921177</td>\n",
       "      <td>19.173947</td>\n",
       "      <td>20.921177</td>\n",
       "      <td>3438151</td>\n",
       "      <td>0.080000</td>\n",
       "      <td>0.091125</td>\n",
       "    </tr>\n",
       "    <tr>\n",
       "      <th>2000-03-10</th>\n",
       "      <td>19.751294</td>\n",
       "      <td>21.270623</td>\n",
       "      <td>19.333477</td>\n",
       "      <td>19.660133</td>\n",
       "      <td>3519688</td>\n",
       "      <td>-0.060276</td>\n",
       "      <td>0.100196</td>\n",
       "    </tr>\n",
       "    <tr>\n",
       "      <th>2000-03-13</th>\n",
       "      <td>20.039967</td>\n",
       "      <td>20.267866</td>\n",
       "      <td>18.163594</td>\n",
       "      <td>18.285141</td>\n",
       "      <td>3513948</td>\n",
       "      <td>-0.069938</td>\n",
       "      <td>0.115851</td>\n",
       "    </tr>\n",
       "  </tbody>\n",
       "</table>\n",
       "</div>"
      ],
      "text/plain": [
       "                 Open       High        Low      Close   Volume   Returns  \\\n",
       "Date                                                                        \n",
       "2000-03-07  19.751292  21.209848  19.751292  20.070351  5675894 -0.047928   \n",
       "2000-03-08  20.359024  20.374217  18.991626  19.371460  3117111 -0.034822   \n",
       "2000-03-09  19.447426  20.921177  19.173947  20.921177  3438151  0.080000   \n",
       "2000-03-10  19.751294  21.270623  19.333477  19.660133  3519688 -0.060276   \n",
       "2000-03-13  20.039967  20.267866  18.163594  18.285141  3513948 -0.069938   \n",
       "\n",
       "               Range  \n",
       "Date                  \n",
       "2000-03-07  0.073846  \n",
       "2000-03-08  0.072800  \n",
       "2000-03-09  0.091125  \n",
       "2000-03-10  0.100196  \n",
       "2000-03-13  0.115851  "
      ]
     },
     "execution_count": 3,
     "metadata": {},
     "output_type": "execute_result"
    }
   ],
   "source": [
    "# Add Returns and Range\n",
    "df = data.copy()\n",
    "df[\"Returns\"] = (df[\"Close\"] / df[\"Close\"].shift(1)) - 1\n",
    "df[\"Range\"] = (df[\"High\"] / df[\"Low\"]) - 1\n",
    "df.dropna(inplace=True)\n",
    "print(\"Length: \", len(df))\n",
    "df.head()"
   ]
  },
  {
   "cell_type": "code",
   "execution_count": 4,
   "id": "3a3f105f",
   "metadata": {},
   "outputs": [],
   "source": [
    "# Add Moving Average\n",
    "df[\"MA_12\"] = df[\"Close\"].rolling(window=12).mean()\n",
    "df[\"MA_21\"] = df[\"Close\"].rolling(window=21).mean()"
   ]
  },
  {
   "cell_type": "code",
   "execution_count": 5,
   "id": "f0482185",
   "metadata": {},
   "outputs": [
    {
     "name": "stdout",
     "output_type": "stream",
     "text": [
      "Train Length:  500\n",
      "Test Length:  5315\n",
      "X_train From:  2000-03-07 00:00:00\n",
      "X_train To:  2002-02-04 00:00:00\n",
      "X_test From:  2002-02-05 00:00:00\n",
      "X_test To:  2023-06-16 00:00:00\n"
     ]
    }
   ],
   "source": [
    "# Structure Data\n",
    "X_train = df[[\"Returns\", \"Range\"]].iloc[:500]\n",
    "X_test = df[[\"Returns\", \"Range\"]].iloc[500:]\n",
    "save_df = df.iloc[500:]\n",
    "\n",
    "print(\"Train Length: \", len(X_train))\n",
    "print(\"Test Length: \", len(X_test))\n",
    "print(\"X_train From: \", X_train.head(1).index.item())\n",
    "print(\"X_train To: \", X_train.tail(1).index.item())\n",
    "print(\"X_test From: \", X_test.head(1).index.item())\n",
    "print(\"X_test To: \", X_test.tail(1).index.item())"
   ]
  },
  {
   "cell_type": "markdown",
   "id": "e7d99158",
   "metadata": {},
   "source": [
    "### Train HMM"
   ]
  },
  {
   "cell_type": "code",
   "execution_count": 6,
   "id": "5289b9ae",
   "metadata": {},
   "outputs": [
    {
     "name": "stderr",
     "output_type": "stream",
     "text": [
      "/Users/vipin/opt/anaconda3/envs/my_own/lib/python3.9/site-packages/sklearn/cluster/_kmeans.py:870: FutureWarning: The default value of `n_init` will change from 10 to 'auto' in 1.4. Set the value of `n_init` explicitly to suppress the warning\n",
      "  warnings.warn(\n"
     ]
    },
    {
     "data": {
      "text/plain": [
       "array([3, 3, 0, 3, 3, 0, 0, 0, 0, 0], dtype=int32)"
      ]
     },
     "execution_count": 6,
     "metadata": {},
     "output_type": "execute_result"
    }
   ],
   "source": [
    "# Train HMM\n",
    "model = GaussianHMM(n_states=4, covariance_type='full', n_emissions=2)\n",
    "model.train([np.array(X_train.values)])\n",
    "model.predict([X_train.values])[0][:10]"
   ]
  },
  {
   "cell_type": "code",
   "execution_count": 7,
   "id": "23746516",
   "metadata": {},
   "outputs": [
    {
     "data": {
      "text/html": [
       "<div>\n",
       "<style scoped>\n",
       "    .dataframe tbody tr th:only-of-type {\n",
       "        vertical-align: middle;\n",
       "    }\n",
       "\n",
       "    .dataframe tbody tr th {\n",
       "        vertical-align: top;\n",
       "    }\n",
       "\n",
       "    .dataframe thead th {\n",
       "        text-align: right;\n",
       "    }\n",
       "</style>\n",
       "<table border=\"1\" class=\"dataframe\">\n",
       "  <thead>\n",
       "    <tr style=\"text-align: right;\">\n",
       "      <th></th>\n",
       "      <th>Open</th>\n",
       "      <th>Close</th>\n",
       "      <th>Volume</th>\n",
       "      <th>Returns</th>\n",
       "      <th>Range</th>\n",
       "      <th>MA_12</th>\n",
       "      <th>MA_21</th>\n",
       "      <th>HMM</th>\n",
       "    </tr>\n",
       "    <tr>\n",
       "      <th>Date</th>\n",
       "      <th></th>\n",
       "      <th></th>\n",
       "      <th></th>\n",
       "      <th></th>\n",
       "      <th></th>\n",
       "      <th></th>\n",
       "      <th></th>\n",
       "      <th></th>\n",
       "    </tr>\n",
       "  </thead>\n",
       "  <tbody>\n",
       "    <tr>\n",
       "      <th>2002-02-05</th>\n",
       "      <td>19.382665</td>\n",
       "      <td>19.227913</td>\n",
       "      <td>2824475</td>\n",
       "      <td>-0.025490</td>\n",
       "      <td>0.030426</td>\n",
       "      <td>18.884235</td>\n",
       "      <td>18.415834</td>\n",
       "      <td>3</td>\n",
       "    </tr>\n",
       "    <tr>\n",
       "      <th>2002-02-06</th>\n",
       "      <td>19.467776</td>\n",
       "      <td>20.906969</td>\n",
       "      <td>20857112</td>\n",
       "      <td>0.087324</td>\n",
       "      <td>0.123254</td>\n",
       "      <td>19.122811</td>\n",
       "      <td>18.677807</td>\n",
       "      <td>0</td>\n",
       "    </tr>\n",
       "    <tr>\n",
       "      <th>2002-02-07</th>\n",
       "      <td>21.046249</td>\n",
       "      <td>21.525978</td>\n",
       "      <td>19469390</td>\n",
       "      <td>0.029608</td>\n",
       "      <td>0.075075</td>\n",
       "      <td>19.360097</td>\n",
       "      <td>18.954887</td>\n",
       "      <td>0</td>\n",
       "    </tr>\n",
       "    <tr>\n",
       "      <th>2002-02-08</th>\n",
       "      <td>21.649777</td>\n",
       "      <td>20.922443</td>\n",
       "      <td>7875595</td>\n",
       "      <td>-0.028038</td>\n",
       "      <td>0.045776</td>\n",
       "      <td>19.503243</td>\n",
       "      <td>19.165275</td>\n",
       "      <td>1</td>\n",
       "    </tr>\n",
       "    <tr>\n",
       "      <th>2002-02-11</th>\n",
       "      <td>21.789057</td>\n",
       "      <td>22.725306</td>\n",
       "      <td>16251136</td>\n",
       "      <td>0.086169</td>\n",
       "      <td>0.080000</td>\n",
       "      <td>19.831446</td>\n",
       "      <td>19.425774</td>\n",
       "      <td>0</td>\n",
       "    </tr>\n",
       "  </tbody>\n",
       "</table>\n",
       "</div>"
      ],
      "text/plain": [
       "                 Open      Close    Volume   Returns     Range      MA_12  \\\n",
       "Date                                                                        \n",
       "2002-02-05  19.382665  19.227913   2824475 -0.025490  0.030426  18.884235   \n",
       "2002-02-06  19.467776  20.906969  20857112  0.087324  0.123254  19.122811   \n",
       "2002-02-07  21.046249  21.525978  19469390  0.029608  0.075075  19.360097   \n",
       "2002-02-08  21.649777  20.922443   7875595 -0.028038  0.045776  19.503243   \n",
       "2002-02-11  21.789057  22.725306  16251136  0.086169  0.080000  19.831446   \n",
       "\n",
       "                MA_21  HMM  \n",
       "Date                        \n",
       "2002-02-05  18.415834    3  \n",
       "2002-02-06  18.677807    0  \n",
       "2002-02-07  18.954887    0  \n",
       "2002-02-08  19.165275    1  \n",
       "2002-02-11  19.425774    0  "
      ]
     },
     "execution_count": 7,
     "metadata": {},
     "output_type": "execute_result"
    }
   ],
   "source": [
    "# Make Prediction on Test Data\n",
    "df_main = save_df.copy()\n",
    "df_main.drop(columns=[\"High\", \"Low\"], inplace=True)\n",
    "\n",
    "hmm_results = model.predict([X_test.values])[0]\n",
    "df_main[\"HMM\"] = hmm_results\n",
    "df_main.head()"
   ]
  },
  {
   "cell_type": "code",
   "execution_count": null,
   "id": "32ac109b",
   "metadata": {},
   "outputs": [],
   "source": []
  },
  {
   "cell_type": "markdown",
   "id": "d86676a1",
   "metadata": {},
   "source": [
    "### Run Backtest"
   ]
  },
  {
   "cell_type": "code",
   "execution_count": 8,
   "id": "9314180e",
   "metadata": {},
   "outputs": [],
   "source": [
    "# Add MA Signals\n",
    "df_main.loc[df_main[\"MA_12\"] > df_main[\"MA_21\"], \"MA_Signal\"] = 1\n",
    "df_main.loc[df_main[\"MA_12\"] <= df_main[\"MA_21\"], \"MA_Signal\"] = 0"
   ]
  },
  {
   "cell_type": "code",
   "execution_count": 9,
   "id": "b2099627",
   "metadata": {},
   "outputs": [],
   "source": [
    "# Add HMM Signals\n",
    "favourable_states = [0, 1]\n",
    "hmm_values = df_main[\"HMM\"].values\n",
    "hmm_values = [1 if x in favourable_states else 0 for x in hmm_values]\n",
    "df_main[\"HMM_Signal\"] = hmm_values"
   ]
  },
  {
   "cell_type": "code",
   "execution_count": 10,
   "id": "97bb42c7",
   "metadata": {},
   "outputs": [],
   "source": [
    "# Add Combined Signal\n",
    "df_main[\"Main_Signal\"] = 0\n",
    "df_main.loc[(df_main[\"MA_Signal\"] == 1) & (df_main[\"HMM_Signal\"] == 1), \"Main_Signal\"] = 1\n",
    "df_main[\"Main_Signal\"] = df_main[\"Main_Signal\"].shift(1)"
   ]
  },
  {
   "cell_type": "code",
   "execution_count": 11,
   "id": "418d4b5f",
   "metadata": {},
   "outputs": [],
   "source": [
    "# Benchmark Returns\n",
    "df_main[\"lrets_bench\"] = np.log(df_main[\"Close\"] / df_main[\"Close\"].shift(1))\n",
    "df_main[\"bench_prod\"] = df_main[\"lrets_bench\"].cumsum()\n",
    "df_main[\"bench_prod_exp\"] = np.exp(df_main[\"bench_prod\"]) - 1"
   ]
  },
  {
   "cell_type": "code",
   "execution_count": 12,
   "id": "1d94f2a3",
   "metadata": {},
   "outputs": [],
   "source": [
    "# Strategy Returns\n",
    "df_main[\"lrets_strat\"] = np.log(df_main[\"Open\"].shift(-1) / df_main[\"Open\"]) * df_main[\"Main_Signal\"]\n",
    "df_main[\"lrets_prod\"] = df_main[\"lrets_strat\"].cumsum()\n",
    "df_main[\"strat_prod_exp\"] = np.exp(df_main[\"lrets_prod\"]) - 1"
   ]
  },
  {
   "cell_type": "code",
   "execution_count": 13,
   "id": "da290628",
   "metadata": {},
   "outputs": [
    {
     "data": {
      "text/html": [
       "<div>\n",
       "<style scoped>\n",
       "    .dataframe tbody tr th:only-of-type {\n",
       "        vertical-align: middle;\n",
       "    }\n",
       "\n",
       "    .dataframe tbody tr th {\n",
       "        vertical-align: top;\n",
       "    }\n",
       "\n",
       "    .dataframe thead th {\n",
       "        text-align: right;\n",
       "    }\n",
       "</style>\n",
       "<table border=\"1\" class=\"dataframe\">\n",
       "  <thead>\n",
       "    <tr style=\"text-align: right;\">\n",
       "      <th></th>\n",
       "      <th>Open</th>\n",
       "      <th>Close</th>\n",
       "      <th>Volume</th>\n",
       "      <th>Returns</th>\n",
       "      <th>Range</th>\n",
       "      <th>MA_12</th>\n",
       "      <th>MA_21</th>\n",
       "      <th>HMM</th>\n",
       "      <th>MA_Signal</th>\n",
       "      <th>HMM_Signal</th>\n",
       "      <th>Main_Signal</th>\n",
       "      <th>lrets_bench</th>\n",
       "      <th>bench_prod</th>\n",
       "      <th>bench_prod_exp</th>\n",
       "      <th>lrets_strat</th>\n",
       "      <th>lrets_prod</th>\n",
       "      <th>strat_prod_exp</th>\n",
       "    </tr>\n",
       "    <tr>\n",
       "      <th>Date</th>\n",
       "      <th></th>\n",
       "      <th></th>\n",
       "      <th></th>\n",
       "      <th></th>\n",
       "      <th></th>\n",
       "      <th></th>\n",
       "      <th></th>\n",
       "      <th></th>\n",
       "      <th></th>\n",
       "      <th></th>\n",
       "      <th></th>\n",
       "      <th></th>\n",
       "      <th></th>\n",
       "      <th></th>\n",
       "      <th></th>\n",
       "      <th></th>\n",
       "      <th></th>\n",
       "    </tr>\n",
       "  </thead>\n",
       "  <tbody>\n",
       "    <tr>\n",
       "      <th>2023-06-09</th>\n",
       "      <td>564.400024</td>\n",
       "      <td>562.299988</td>\n",
       "      <td>9361533</td>\n",
       "      <td>0.004645</td>\n",
       "      <td>0.012784</td>\n",
       "      <td>538.575002</td>\n",
       "      <td>530.997623</td>\n",
       "      <td>2</td>\n",
       "      <td>1.0</td>\n",
       "      <td>0</td>\n",
       "      <td>1.0</td>\n",
       "      <td>0.004635</td>\n",
       "      <td>3.375672</td>\n",
       "      <td>28.243943</td>\n",
       "      <td>0.004596</td>\n",
       "      <td>5.099763</td>\n",
       "      <td>162.983022</td>\n",
       "    </tr>\n",
       "    <tr>\n",
       "      <th>2023-06-12</th>\n",
       "      <td>567.000000</td>\n",
       "      <td>564.150024</td>\n",
       "      <td>7599572</td>\n",
       "      <td>0.003290</td>\n",
       "      <td>0.014715</td>\n",
       "      <td>542.683339</td>\n",
       "      <td>533.292861</td>\n",
       "      <td>1</td>\n",
       "      <td>1.0</td>\n",
       "      <td>1</td>\n",
       "      <td>0.0</td>\n",
       "      <td>0.003285</td>\n",
       "      <td>3.378957</td>\n",
       "      <td>28.340159</td>\n",
       "      <td>0.000000</td>\n",
       "      <td>5.099763</td>\n",
       "      <td>162.983022</td>\n",
       "    </tr>\n",
       "    <tr>\n",
       "      <th>2023-06-13</th>\n",
       "      <td>567.700012</td>\n",
       "      <td>562.200012</td>\n",
       "      <td>12845897</td>\n",
       "      <td>-0.003457</td>\n",
       "      <td>0.018368</td>\n",
       "      <td>546.329173</td>\n",
       "      <td>534.785720</td>\n",
       "      <td>2</td>\n",
       "      <td>1.0</td>\n",
       "      <td>0</td>\n",
       "      <td>1.0</td>\n",
       "      <td>-0.003463</td>\n",
       "      <td>3.375495</td>\n",
       "      <td>28.238743</td>\n",
       "      <td>-0.002999</td>\n",
       "      <td>5.096764</td>\n",
       "      <td>162.491965</td>\n",
       "    </tr>\n",
       "    <tr>\n",
       "      <th>2023-06-14</th>\n",
       "      <td>566.000000</td>\n",
       "      <td>570.299988</td>\n",
       "      <td>12713256</td>\n",
       "      <td>0.014408</td>\n",
       "      <td>0.012766</td>\n",
       "      <td>550.400004</td>\n",
       "      <td>537.126195</td>\n",
       "      <td>1</td>\n",
       "      <td>1.0</td>\n",
       "      <td>1</td>\n",
       "      <td>0.0</td>\n",
       "      <td>0.014305</td>\n",
       "      <td>3.389799</td>\n",
       "      <td>28.660005</td>\n",
       "      <td>0.000000</td>\n",
       "      <td>5.096764</td>\n",
       "      <td>162.491965</td>\n",
       "    </tr>\n",
       "    <tr>\n",
       "      <th>2023-06-15</th>\n",
       "      <td>571.799988</td>\n",
       "      <td>568.450012</td>\n",
       "      <td>12475759</td>\n",
       "      <td>-0.003244</td>\n",
       "      <td>0.012770</td>\n",
       "      <td>554.537506</td>\n",
       "      <td>539.647624</td>\n",
       "      <td>2</td>\n",
       "      <td>1.0</td>\n",
       "      <td>0</td>\n",
       "      <td>1.0</td>\n",
       "      <td>-0.003249</td>\n",
       "      <td>3.386550</td>\n",
       "      <td>28.563792</td>\n",
       "      <td>-0.003767</td>\n",
       "      <td>5.092997</td>\n",
       "      <td>161.877236</td>\n",
       "    </tr>\n",
       "  </tbody>\n",
       "</table>\n",
       "</div>"
      ],
      "text/plain": [
       "                  Open       Close    Volume   Returns     Range       MA_12  \\\n",
       "Date                                                                           \n",
       "2023-06-09  564.400024  562.299988   9361533  0.004645  0.012784  538.575002   \n",
       "2023-06-12  567.000000  564.150024   7599572  0.003290  0.014715  542.683339   \n",
       "2023-06-13  567.700012  562.200012  12845897 -0.003457  0.018368  546.329173   \n",
       "2023-06-14  566.000000  570.299988  12713256  0.014408  0.012766  550.400004   \n",
       "2023-06-15  571.799988  568.450012  12475759 -0.003244  0.012770  554.537506   \n",
       "\n",
       "                 MA_21  HMM  MA_Signal  HMM_Signal  Main_Signal  lrets_bench  \\\n",
       "Date                                                                           \n",
       "2023-06-09  530.997623    2        1.0           0          1.0     0.004635   \n",
       "2023-06-12  533.292861    1        1.0           1          0.0     0.003285   \n",
       "2023-06-13  534.785720    2        1.0           0          1.0    -0.003463   \n",
       "2023-06-14  537.126195    1        1.0           1          0.0     0.014305   \n",
       "2023-06-15  539.647624    2        1.0           0          1.0    -0.003249   \n",
       "\n",
       "            bench_prod  bench_prod_exp  lrets_strat  lrets_prod  \\\n",
       "Date                                                              \n",
       "2023-06-09    3.375672       28.243943     0.004596    5.099763   \n",
       "2023-06-12    3.378957       28.340159     0.000000    5.099763   \n",
       "2023-06-13    3.375495       28.238743    -0.002999    5.096764   \n",
       "2023-06-14    3.389799       28.660005     0.000000    5.096764   \n",
       "2023-06-15    3.386550       28.563792    -0.003767    5.092997   \n",
       "\n",
       "            strat_prod_exp  \n",
       "Date                        \n",
       "2023-06-09      162.983022  \n",
       "2023-06-12      162.983022  \n",
       "2023-06-13      162.491965  \n",
       "2023-06-14      162.491965  \n",
       "2023-06-15      161.877236  "
      ]
     },
     "execution_count": 13,
     "metadata": {},
     "output_type": "execute_result"
    }
   ],
   "source": [
    "# Review Results Table\n",
    "df_main.dropna(inplace=True)\n",
    "df_main.tail()"
   ]
  },
  {
   "cell_type": "markdown",
   "id": "f2633ff5",
   "metadata": {},
   "source": [
    "### Calculate Metrics"
   ]
  },
  {
   "cell_type": "code",
   "execution_count": 14,
   "id": "18b5b297",
   "metadata": {},
   "outputs": [],
   "source": [
    "# Sharpe Ratio Function\n",
    "def sharpe_ratio(returns_series):\n",
    "    N = 255\n",
    "    NSQRT = np.sqrt(N)\n",
    "    rf = 0.01\n",
    "    mean = returns_series.mean() * N\n",
    "    sigma = returns_series.std() * NSQRT\n",
    "    sharpe_ratio = round((mean - rf) / sigma, 2)\n",
    "    return sharpe_ratio"
   ]
  },
  {
   "cell_type": "code",
   "execution_count": 15,
   "id": "f241e439",
   "metadata": {},
   "outputs": [],
   "source": [
    "# Metrics\n",
    "bench_rets = round(df_main[\"bench_prod_exp\"].values[-1] * 100, 1)\n",
    "strat_rets = round(df_main[\"strat_prod_exp\"].values[-1] * 100, 1)\n",
    "\n",
    "bench_sharpe = sharpe_ratio(df_main[\"lrets_bench\"].values)\n",
    "strat_sharpe = sharpe_ratio(df_main[\"lrets_strat\"].values)"
   ]
  },
  {
   "cell_type": "code",
   "execution_count": 16,
   "id": "271cc940",
   "metadata": {},
   "outputs": [
    {
     "name": "stdout",
     "output_type": "stream",
     "text": [
      "Returns Benchmark: 2856.4%\n",
      "Returns Strategy: 16187.7%\n",
      "---- ---- ---- ---- ---- ----\n",
      "Sharpe Benchmark: 0.35\n",
      "Sharpe Strategy: 0.95\n"
     ]
    }
   ],
   "source": [
    "# Print Metrics\n",
    "print(f\"Returns Benchmark: {bench_rets}%\")\n",
    "print(f\"Returns Strategy: {strat_rets}%\")\n",
    "print(\"---- ---- ---- ---- ---- ----\")\n",
    "print(f\"Sharpe Benchmark: {bench_sharpe}\")\n",
    "print(f\"Sharpe Strategy: {strat_sharpe}\")"
   ]
  },
  {
   "cell_type": "markdown",
   "id": "b494dc6a",
   "metadata": {},
   "source": [
    "### Plot Results"
   ]
  },
  {
   "cell_type": "code",
   "execution_count": 17,
   "id": "9c2c03e3",
   "metadata": {},
   "outputs": [
    {
     "data": {
      "image/png": "[encoded data removed]",
      "text/plain": [
       "<Figure size 1800x1000 with 1 Axes>"
      ]
     },
     "metadata": {},
     "output_type": "display_data"
    }
   ],
   "source": [
    "# Plot Equity Curves\n",
    "fig = plt.figure(figsize = (18, 10))\n",
    "plt.plot(df_main[\"bench_prod_exp\"])\n",
    "plt.plot(df_main[\"strat_prod_exp\"])\n",
    "plt.show()"
   ]
  },
  {
   "cell_type": "markdown",
   "id": "fcff1dc2",
   "metadata": {},
   "source": [
    "### Save Data"
   ]
  },
  {
   "cell_type": "code",
   "execution_count": 18,
   "id": "3f4c70ef",
   "metadata": {},
   "outputs": [],
   "source": [
    "# Save Data\n",
    "df_main.to_csv(\"data/HMM-SPY.csv\")"
   ]
  },
  {
   "cell_type": "markdown",
   "id": "3a93ca0d",
   "metadata": {},
   "source": [
    "### Conclusion"
   ]
  },
  {
   "cell_type": "markdown",
   "id": "ddc70509",
   "metadata": {},
   "source": [
    "It is clear that the moving average cross-over strategy performs vastly better in both returns and Sharpe Ratio, when trading only in favourable hidden states determined by the Hidden Markov Model unsupervised learning method.\n",
    "\n",
    "CAUTION: Backtesting is fraught with areas of inconsitency. The price assumptions made in our strategy for backtesting are highly unlikely going to be like prices based on a real trading environment. \"Backtesting is not a research tool. Feature Importance is\". - Marcos Lopez De Prado (Author of Advances in Financial Machine Learning)."
   ]
  }
 ],
 "metadata": {
  "kernelspec": {
   "display_name": "Python 3 (ipykernel)",
   "language": "python",
   "name": "python3"
  },
  "language_info": {
   "codemirror_mode": {
    "name": "ipython",
    "version": 3
   },
   "file_extension": ".py",
   "mimetype": "text/x-python",
   "name": "python",
   "nbconvert_exporter": "python",
   "pygments_lexer": "ipython3",
   "version": "3.9.16"
  }
 },
 "nbformat": 4,
 "nbformat_minor": 5
}
