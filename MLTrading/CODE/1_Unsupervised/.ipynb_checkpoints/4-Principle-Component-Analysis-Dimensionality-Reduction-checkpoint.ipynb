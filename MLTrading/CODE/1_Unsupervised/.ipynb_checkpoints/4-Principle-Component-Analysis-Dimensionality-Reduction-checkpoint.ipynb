{
 "cells": [
  {
   "cell_type": "markdown",
   "id": "2f7aba52",
   "metadata": {},
   "source": [
    "### Case Study"
   ]
  },
  {
   "cell_type": "markdown",
   "id": "c1d1b8b9",
   "metadata": {},
   "source": [
    "The VIX is a measure of the implied volatility for the S&P500. The higher the \"Close\" of the VIX, the higher the uncertainty in the market. Fortunately, there are ways of capitlizing on the predictability of the VIX. Being able to predict implied volatility for the market with any degree of certainty better than 50/50 can give an options trader of ETF trader (VIX tracking ETF's) an edge.\n",
    "\n",
    "There could be many, many features that impact whether a stock price goes up or down. Predicting directionality for stocks, the VIX, commodities, FX etc represents a huge potential gain for every small percentage increment in forecast ability.\n",
    "\n",
    "However, having so many features allows room for noise and can create adverse impacts to your supervised learning. Therefore, we will explore deplying PCA (Principle Component Analysis) as a tool to find useful information within a vast array of indicators and features to help with our supervised learning later on.\n",
    "\n",
    "PCA can equally be extremely good at helping to understand correlations too and further study on PCS (based on articles and papers below) is encorouged."
   ]
  },
  {
   "cell_type": "markdown",
   "id": "44b4b74f",
   "metadata": {},
   "source": [
    "### Imports"
   ]
  },
  {
   "cell_type": "code",
   "execution_count": 6,
   "id": "23d0372c",
   "metadata": {},
   "outputs": [],
   "source": [
    "# Remove unwanted warnings\n",
    "import warnings\n",
    "warnings.simplefilter(action='ignore', category=FutureWarning)\n",
    "warnings.simplefilter(action='ignore', category=RuntimeWarning)\n",
    "\n",
    "# Data Management\n",
    "import pandas as pd\n",
    "import numpy as np\n",
    "\n",
    "from ta import add_all_ta_features\n",
    "\n",
    "# Statistics\n",
    "from statsmodels.tsa.stattools import adfuller\n",
    "\n",
    "# Unsupervised Machine Learning\n",
    "from sklearn.decomposition import PCA\n",
    "\n",
    "# Supervised Machine Learning\n",
    "from sklearn.preprocessing import StandardScaler\n",
    "from sklearn.model_selection import train_test_split\n",
    "from sklearn.ensemble import RandomForestClassifier\n",
    "from sklearn.metrics import accuracy_score\n",
    "from sklearn.metrics import precision_score\n",
    "\n",
    "# Reporting\n",
    "import matplotlib.pyplot as plt\n",
    "import yfinance"
   ]
  },
  {
   "cell_type": "markdown",
   "id": "339f3702",
   "metadata": {},
   "source": [
    "### Initial Data Extraction"
   ]
  },
  {
   "cell_type": "code",
   "execution_count": 8,
   "id": "91083209",
   "metadata": {},
   "outputs": [
    {
     "name": "stdout",
     "output_type": "stream",
     "text": [
      "[*********************100%***********************]  1 of 1 completed\n"
     ]
    },
    {
     "data": {
      "text/html": [
       "<div>\n",
       "<style scoped>\n",
       "    .dataframe tbody tr th:only-of-type {\n",
       "        vertical-align: middle;\n",
       "    }\n",
       "\n",
       "    .dataframe tbody tr th {\n",
       "        vertical-align: top;\n",
       "    }\n",
       "\n",
       "    .dataframe thead th {\n",
       "        text-align: right;\n",
       "    }\n",
       "</style>\n",
       "<table border=\"1\" class=\"dataframe\">\n",
       "  <thead>\n",
       "    <tr style=\"text-align: right;\">\n",
       "      <th></th>\n",
       "      <th>Open</th>\n",
       "      <th>High</th>\n",
       "      <th>Low</th>\n",
       "      <th>Close</th>\n",
       "      <th>Volume</th>\n",
       "    </tr>\n",
       "    <tr>\n",
       "      <th>Date</th>\n",
       "      <th></th>\n",
       "      <th></th>\n",
       "      <th></th>\n",
       "      <th></th>\n",
       "      <th></th>\n",
       "    </tr>\n",
       "  </thead>\n",
       "  <tbody>\n",
       "    <tr>\n",
       "      <th>2000-03-06</th>\n",
       "      <td>21.255430</td>\n",
       "      <td>22.174625</td>\n",
       "      <td>20.678084</td>\n",
       "      <td>21.080708</td>\n",
       "      <td>8897556</td>\n",
       "    </tr>\n",
       "    <tr>\n",
       "      <th>2000-03-07</th>\n",
       "      <td>19.751294</td>\n",
       "      <td>21.209850</td>\n",
       "      <td>19.751294</td>\n",
       "      <td>20.070353</td>\n",
       "      <td>5675894</td>\n",
       "    </tr>\n",
       "    <tr>\n",
       "      <th>2000-03-08</th>\n",
       "      <td>20.359026</td>\n",
       "      <td>20.374219</td>\n",
       "      <td>18.991628</td>\n",
       "      <td>19.371462</td>\n",
       "      <td>3117111</td>\n",
       "    </tr>\n",
       "    <tr>\n",
       "      <th>2000-03-09</th>\n",
       "      <td>19.447429</td>\n",
       "      <td>20.921181</td>\n",
       "      <td>19.173950</td>\n",
       "      <td>20.921181</td>\n",
       "      <td>3438151</td>\n",
       "    </tr>\n",
       "    <tr>\n",
       "      <th>2000-03-10</th>\n",
       "      <td>19.751294</td>\n",
       "      <td>21.270623</td>\n",
       "      <td>19.333477</td>\n",
       "      <td>19.660133</td>\n",
       "      <td>3519688</td>\n",
       "    </tr>\n",
       "  </tbody>\n",
       "</table>\n",
       "</div>"
      ],
      "text/plain": [
       "                 Open       High        Low      Close   Volume\n",
       "Date                                                           \n",
       "2000-03-06  21.255430  22.174625  20.678084  21.080708  8897556\n",
       "2000-03-07  19.751294  21.209850  19.751294  20.070353  5675894\n",
       "2000-03-08  20.359026  20.374219  18.991628  19.371462  3117111\n",
       "2000-03-09  19.447429  20.921181  19.173950  20.921181  3438151\n",
       "2000-03-10  19.751294  21.270623  19.333477  19.660133  3519688"
      ]
     },
     "execution_count": 8,
     "metadata": {},
     "output_type": "execute_result"
    }
   ],
   "source": [
    "# Data Extraction\n",
    "start_date = \"2017-01-01\"\n",
    "end_date = \"2022-06-01\"\n",
    "symbol = \"^VIX\"\n",
    "df = yfinance.download(tickers = \"TATAMOTORS.NS\",start=\"2000-03-06\",\n",
    "                               interval = \"1d\", group_by = 'ticker', auto_adjust = True)\n",
    "\n",
    "\n",
    "\n",
    "df = df[[\"Open\", \"High\", \"Low\", \"Close\",\"Volume\"]]\n",
    "df.head()"
   ]
  },
  {
   "cell_type": "code",
   "execution_count": 9,
   "id": "f478c54f",
   "metadata": {},
   "outputs": [],
   "source": [
    "# Add TA\n",
    "df = add_all_ta_features(df, open=\"Open\", high=\"High\", low=\"Low\", close=\"Close\", volume=\"Volume\", fillna=True)"
   ]
  },
  {
   "cell_type": "markdown",
   "id": "3d287d20",
   "metadata": {},
   "source": [
    "### Data Preprocessing - Stationarity"
   ]
  },
  {
   "cell_type": "code",
   "execution_count": 10,
   "id": "306d5a74",
   "metadata": {},
   "outputs": [
    {
     "name": "stdout",
     "output_type": "stream",
     "text": [
      "Non-Stationary Features Found: 31\n"
     ]
    }
   ],
   "source": [
    "# Identify non-stationary columns\n",
    "non_stationaries = []\n",
    "for col in df.columns:\n",
    "    dftest = adfuller(df[col].values)\n",
    "    p_value = dftest[1]\n",
    "    t_test = dftest[0] < dftest[4][\"1%\"]\n",
    "    if p_value > 0.05 or not t_test:\n",
    "        non_stationaries.append(col)\n",
    "print(f\"Non-Stationary Features Found: {len(non_stationaries)}\")"
   ]
  },
  {
   "cell_type": "code",
   "execution_count": 12,
   "id": "2ca5bc27",
   "metadata": {},
   "outputs": [],
   "source": [
    "# Convert non-stationaries to stationary\n",
    "df_stationary = df.copy()\n",
    "df_stationary[non_stationaries] = df_stationary[non_stationaries].pct_change()\n",
    "df_stationary = df_stationary.iloc[1:]"
   ]
  },
  {
   "cell_type": "code",
   "execution_count": 13,
   "id": "53b760a8",
   "metadata": {},
   "outputs": [],
   "source": [
    "# Find NaN Rows\n",
    "na_list = df_stationary.columns[df_stationary.isna().any().tolist()]\n",
    "df_stationary.drop(columns=na_list, inplace=True)"
   ]
  },
  {
   "cell_type": "code",
   "execution_count": 14,
   "id": "5882ede1",
   "metadata": {},
   "outputs": [
    {
     "data": {
      "text/html": [
       "<div>\n",
       "<style scoped>\n",
       "    .dataframe tbody tr th:only-of-type {\n",
       "        vertical-align: middle;\n",
       "    }\n",
       "\n",
       "    .dataframe tbody tr th {\n",
       "        vertical-align: top;\n",
       "    }\n",
       "\n",
       "    .dataframe thead th {\n",
       "        text-align: right;\n",
       "    }\n",
       "</style>\n",
       "<table border=\"1\" class=\"dataframe\">\n",
       "  <thead>\n",
       "    <tr style=\"text-align: right;\">\n",
       "      <th></th>\n",
       "      <th>Open</th>\n",
       "      <th>High</th>\n",
       "      <th>Low</th>\n",
       "      <th>Close</th>\n",
       "      <th>Volume</th>\n",
       "      <th>volume_adi</th>\n",
       "      <th>volume_obv</th>\n",
       "      <th>volume_cmf</th>\n",
       "      <th>volume_fi</th>\n",
       "      <th>volume_em</th>\n",
       "      <th>...</th>\n",
       "      <th>momentum_ppo</th>\n",
       "      <th>momentum_ppo_signal</th>\n",
       "      <th>momentum_ppo_hist</th>\n",
       "      <th>momentum_pvo</th>\n",
       "      <th>momentum_pvo_signal</th>\n",
       "      <th>momentum_pvo_hist</th>\n",
       "      <th>momentum_kama</th>\n",
       "      <th>others_dr</th>\n",
       "      <th>others_dlr</th>\n",
       "      <th>others_cr</th>\n",
       "    </tr>\n",
       "    <tr>\n",
       "      <th>Date</th>\n",
       "      <th></th>\n",
       "      <th></th>\n",
       "      <th></th>\n",
       "      <th></th>\n",
       "      <th></th>\n",
       "      <th></th>\n",
       "      <th></th>\n",
       "      <th></th>\n",
       "      <th></th>\n",
       "      <th></th>\n",
       "      <th></th>\n",
       "      <th></th>\n",
       "      <th></th>\n",
       "      <th></th>\n",
       "      <th></th>\n",
       "      <th></th>\n",
       "      <th></th>\n",
       "      <th></th>\n",
       "      <th></th>\n",
       "      <th></th>\n",
       "      <th></th>\n",
       "    </tr>\n",
       "  </thead>\n",
       "  <tbody>\n",
       "    <tr>\n",
       "      <th>2000-03-07</th>\n",
       "      <td>-0.070765</td>\n",
       "      <td>-0.043508</td>\n",
       "      <td>-0.044820</td>\n",
       "      <td>-0.047928</td>\n",
       "      <td>5675894</td>\n",
       "      <td>0.776805</td>\n",
       "      <td>-0.637916</td>\n",
       "      <td>-0.501098</td>\n",
       "      <td>-5.734668e+06</td>\n",
       "      <td>-24.304148</td>\n",
       "      <td>...</td>\n",
       "      <td>-0.383693</td>\n",
       "      <td>-0.076739</td>\n",
       "      <td>-0.306955</td>\n",
       "      <td>-2.968024</td>\n",
       "      <td>-0.593605</td>\n",
       "      <td>-2.374419</td>\n",
       "      <td>-0.020329</td>\n",
       "      <td>-4.792795</td>\n",
       "      <td>-4.911456</td>\n",
       "      <td>0.000000</td>\n",
       "    </tr>\n",
       "    <tr>\n",
       "      <th>2000-03-08</th>\n",
       "      <td>0.030769</td>\n",
       "      <td>-0.039398</td>\n",
       "      <td>-0.038462</td>\n",
       "      <td>-0.034822</td>\n",
       "      <td>3117111</td>\n",
       "      <td>0.192313</td>\n",
       "      <td>-0.967547</td>\n",
       "      <td>-0.492191</td>\n",
       "      <td>-5.226647e+06</td>\n",
       "      <td>-35.379604</td>\n",
       "      <td>...</td>\n",
       "      <td>-0.950827</td>\n",
       "      <td>-0.251556</td>\n",
       "      <td>-0.699270</td>\n",
       "      <td>-7.995984</td>\n",
       "      <td>-2.074081</td>\n",
       "      <td>-5.921904</td>\n",
       "      <td>-0.027394</td>\n",
       "      <td>-3.482204</td>\n",
       "      <td>-3.544278</td>\n",
       "      <td>0.691728</td>\n",
       "    </tr>\n",
       "    <tr>\n",
       "      <th>2000-03-09</th>\n",
       "      <td>-0.044776</td>\n",
       "      <td>0.026846</td>\n",
       "      <td>0.009600</td>\n",
       "      <td>0.080000</td>\n",
       "      <td>3438151</td>\n",
       "      <td>-0.394866</td>\n",
       "      <td>32.884917</td>\n",
       "      <td>-0.249375</td>\n",
       "      <td>-3.718816e+06</td>\n",
       "      <td>18.530703</td>\n",
       "      <td>...</td>\n",
       "      <td>-0.790547</td>\n",
       "      <td>-0.359355</td>\n",
       "      <td>-0.431193</td>\n",
       "      <td>-11.933436</td>\n",
       "      <td>-4.045952</td>\n",
       "      <td>-7.887484</td>\n",
       "      <td>0.017681</td>\n",
       "      <td>8.000010</td>\n",
       "      <td>7.696113</td>\n",
       "      <td>-0.906668</td>\n",
       "    </tr>\n",
       "    <tr>\n",
       "      <th>2000-03-10</th>\n",
       "      <td>0.015625</td>\n",
       "      <td>0.016703</td>\n",
       "      <td>0.008320</td>\n",
       "      <td>-0.060276</td>\n",
       "      <td>3519688</td>\n",
       "      <td>0.442715</td>\n",
       "      <td>-0.993504</td>\n",
       "      <td>-0.308403</td>\n",
       "      <td>-3.821627e+06</td>\n",
       "      <td>14.006191</td>\n",
       "      <td>...</td>\n",
       "      <td>-1.142644</td>\n",
       "      <td>-0.516012</td>\n",
       "      <td>-0.626631</td>\n",
       "      <td>-15.138343</td>\n",
       "      <td>-6.264430</td>\n",
       "      <td>-8.873913</td>\n",
       "      <td>-0.016407</td>\n",
       "      <td>-6.027611</td>\n",
       "      <td>-6.216918</td>\n",
       "      <td>7.904924</td>\n",
       "    </tr>\n",
       "    <tr>\n",
       "      <th>2000-03-13</th>\n",
       "      <td>0.014615</td>\n",
       "      <td>-0.047143</td>\n",
       "      <td>-0.060511</td>\n",
       "      <td>-0.069938</td>\n",
       "      <td>3513948</td>\n",
       "      <td>0.408860</td>\n",
       "      <td>-152.687408</td>\n",
       "      <td>-0.380282</td>\n",
       "      <td>-3.965917e+06</td>\n",
       "      <td>-65.052666</td>\n",
       "      <td>...</td>\n",
       "      <td>-1.947619</td>\n",
       "      <td>-0.802334</td>\n",
       "      <td>-1.145285</td>\n",
       "      <td>-17.788603</td>\n",
       "      <td>-8.569265</td>\n",
       "      <td>-9.219338</td>\n",
       "      <td>-0.039115</td>\n",
       "      <td>-6.993820</td>\n",
       "      <td>-7.250424</td>\n",
       "      <td>0.967914</td>\n",
       "    </tr>\n",
       "  </tbody>\n",
       "</table>\n",
       "<p>5 rows × 90 columns</p>\n",
       "</div>"
      ],
      "text/plain": [
       "                Open      High       Low     Close   Volume  volume_adi  \\\n",
       "Date                                                                      \n",
       "2000-03-07 -0.070765 -0.043508 -0.044820 -0.047928  5675894    0.776805   \n",
       "2000-03-08  0.030769 -0.039398 -0.038462 -0.034822  3117111    0.192313   \n",
       "2000-03-09 -0.044776  0.026846  0.009600  0.080000  3438151   -0.394866   \n",
       "2000-03-10  0.015625  0.016703  0.008320 -0.060276  3519688    0.442715   \n",
       "2000-03-13  0.014615 -0.047143 -0.060511 -0.069938  3513948    0.408860   \n",
       "\n",
       "            volume_obv  volume_cmf     volume_fi  volume_em  ...  \\\n",
       "Date                                                         ...   \n",
       "2000-03-07   -0.637916   -0.501098 -5.734668e+06 -24.304148  ...   \n",
       "2000-03-08   -0.967547   -0.492191 -5.226647e+06 -35.379604  ...   \n",
       "2000-03-09   32.884917   -0.249375 -3.718816e+06  18.530703  ...   \n",
       "2000-03-10   -0.993504   -0.308403 -3.821627e+06  14.006191  ...   \n",
       "2000-03-13 -152.687408   -0.380282 -3.965917e+06 -65.052666  ...   \n",
       "\n",
       "            momentum_ppo  momentum_ppo_signal  momentum_ppo_hist  \\\n",
       "Date                                                               \n",
       "2000-03-07     -0.383693            -0.076739          -0.306955   \n",
       "2000-03-08     -0.950827            -0.251556          -0.699270   \n",
       "2000-03-09     -0.790547            -0.359355          -0.431193   \n",
       "2000-03-10     -1.142644            -0.516012          -0.626631   \n",
       "2000-03-13     -1.947619            -0.802334          -1.145285   \n",
       "\n",
       "            momentum_pvo  momentum_pvo_signal  momentum_pvo_hist  \\\n",
       "Date                                                               \n",
       "2000-03-07     -2.968024            -0.593605          -2.374419   \n",
       "2000-03-08     -7.995984            -2.074081          -5.921904   \n",
       "2000-03-09    -11.933436            -4.045952          -7.887484   \n",
       "2000-03-10    -15.138343            -6.264430          -8.873913   \n",
       "2000-03-13    -17.788603            -8.569265          -9.219338   \n",
       "\n",
       "            momentum_kama  others_dr  others_dlr  others_cr  \n",
       "Date                                                         \n",
       "2000-03-07      -0.020329  -4.792795   -4.911456   0.000000  \n",
       "2000-03-08      -0.027394  -3.482204   -3.544278   0.691728  \n",
       "2000-03-09       0.017681   8.000010    7.696113  -0.906668  \n",
       "2000-03-10      -0.016407  -6.027611   -6.216918   7.904924  \n",
       "2000-03-13      -0.039115  -6.993820   -7.250424   0.967914  \n",
       "\n",
       "[5 rows x 90 columns]"
      ]
     },
     "execution_count": 14,
     "metadata": {},
     "output_type": "execute_result"
    }
   ],
   "source": [
    "# Handle inf values\n",
    "df_stationary.replace([np.inf, -np.inf], 0, inplace=True)\n",
    "df_stationary.head()"
   ]
  },
  {
   "cell_type": "markdown",
   "id": "46f532a5",
   "metadata": {},
   "source": [
    "### Data Preprocessing - Scaling and Target Setting"
   ]
  },
  {
   "cell_type": "code",
   "execution_count": 17,
   "id": "016e14d3",
   "metadata": {},
   "outputs": [],
   "source": [
    "# Set Target (for Supervised ML later on)\n",
    "df_stationary[\"TARGET\"] = -1\n",
    "df_stationary.loc[df_stationary[\"Close\"].shift(-1) > df_stationary[\"Close\"], \"TARGET\"] = 1\n",
    "df_stationary.dropna(inplace=True)"
   ]
  },
  {
   "cell_type": "code",
   "execution_count": 18,
   "id": "2a0b2c5d",
   "metadata": {},
   "outputs": [],
   "source": [
    "# Split Target from Featureset\n",
    "X = df_stationary.iloc[:, :-1]\n",
    "y = df_stationary.iloc[:, -1]"
   ]
  },
  {
   "cell_type": "code",
   "execution_count": 19,
   "id": "678f80f5",
   "metadata": {},
   "outputs": [],
   "source": [
    "# Feature Scaling\n",
    "df_sc = df_stationary.copy()\n",
    "X_fs = StandardScaler().fit_transform(X)"
   ]
  },
  {
   "cell_type": "code",
   "execution_count": 20,
   "id": "23b28081",
   "metadata": {},
   "outputs": [],
   "source": [
    "# Train Test Split\n",
    "X_train, X_test, y_train, y_test = train_test_split(X_fs, y, test_size=0.7, random_state=42)"
   ]
  },
  {
   "cell_type": "markdown",
   "id": "152ffbef",
   "metadata": {},
   "source": [
    "### Unsupervised ML - PCA Dimensionality Reduction"
   ]
  },
  {
   "cell_type": "code",
   "execution_count": 21,
   "id": "1a87da28",
   "metadata": {},
   "outputs": [],
   "source": [
    "# PCA\n",
    "n_components = 8\n",
    "pca = PCA(n_components=n_components)\n",
    "pca_result = pca.fit(X_train)\n",
    "X_train_pca = pca_result.transform(X_train)\n",
    "X_test_pca = pca_result.transform(X_test)"
   ]
  },
  {
   "cell_type": "code",
   "execution_count": 22,
   "id": "10a9a987",
   "metadata": {},
   "outputs": [
    {
     "name": "stdout",
     "output_type": "stream",
     "text": [
      "Variance of each component:  [0.35823091 0.09734725 0.06040582 0.04920198 0.04119422 0.03281246\n",
      " 0.02736102 0.02467922]\n",
      "\n",
      " Total Variance Explained:  69.12\n"
     ]
    }
   ],
   "source": [
    "# Calculate the variance explained by Principle Components\n",
    "print(\"Variance of each component: \", pca.explained_variance_ratio_)\n",
    "print(\"\\n Total Variance Explained: \", round(sum(list(pca.explained_variance_ratio_)) * 100, 2))"
   ]
  },
  {
   "cell_type": "code",
   "execution_count": 23,
   "id": "5d715175",
   "metadata": {},
   "outputs": [
    {
     "data": {
      "text/plain": [
       "['PC_0', 'PC_1', 'PC_2', 'PC_3', 'PC_4', 'PC_5', 'PC_6', 'PC_7']"
      ]
     },
     "execution_count": 23,
     "metadata": {},
     "output_type": "execute_result"
    }
   ],
   "source": [
    "# Create columns\n",
    "pca_cols = []\n",
    "for i in range(n_components):\n",
    "    pca_cols.append(f\"PC_{i}\")\n",
    "pca_cols"
   ]
  },
  {
   "cell_type": "code",
   "execution_count": 24,
   "id": "a1d1ea9d",
   "metadata": {},
   "outputs": [
    {
     "data": {
      "text/html": [
       "<div>\n",
       "<style scoped>\n",
       "    .dataframe tbody tr th:only-of-type {\n",
       "        vertical-align: middle;\n",
       "    }\n",
       "\n",
       "    .dataframe tbody tr th {\n",
       "        vertical-align: top;\n",
       "    }\n",
       "\n",
       "    .dataframe thead th {\n",
       "        text-align: right;\n",
       "    }\n",
       "</style>\n",
       "<table border=\"1\" class=\"dataframe\">\n",
       "  <thead>\n",
       "    <tr style=\"text-align: right;\">\n",
       "      <th></th>\n",
       "      <th>PC_0</th>\n",
       "      <th>PC_1</th>\n",
       "      <th>PC_2</th>\n",
       "      <th>PC_3</th>\n",
       "      <th>PC_4</th>\n",
       "      <th>PC_5</th>\n",
       "      <th>PC_6</th>\n",
       "      <th>PC_7</th>\n",
       "    </tr>\n",
       "  </thead>\n",
       "  <tbody>\n",
       "    <tr>\n",
       "      <th>0</th>\n",
       "      <td>1.395956</td>\n",
       "      <td>-0.547738</td>\n",
       "      <td>1.513856</td>\n",
       "      <td>0.232587</td>\n",
       "      <td>-0.367149</td>\n",
       "      <td>1.235481</td>\n",
       "      <td>-0.608128</td>\n",
       "      <td>0.007656</td>\n",
       "    </tr>\n",
       "    <tr>\n",
       "      <th>1</th>\n",
       "      <td>8.178573</td>\n",
       "      <td>-0.080240</td>\n",
       "      <td>2.065536</td>\n",
       "      <td>-0.117479</td>\n",
       "      <td>0.569568</td>\n",
       "      <td>-1.114624</td>\n",
       "      <td>1.045925</td>\n",
       "      <td>0.254812</td>\n",
       "    </tr>\n",
       "    <tr>\n",
       "      <th>2</th>\n",
       "      <td>-2.870543</td>\n",
       "      <td>-4.267936</td>\n",
       "      <td>-0.737960</td>\n",
       "      <td>1.006674</td>\n",
       "      <td>-1.558105</td>\n",
       "      <td>1.670236</td>\n",
       "      <td>-0.552207</td>\n",
       "      <td>0.082128</td>\n",
       "    </tr>\n",
       "    <tr>\n",
       "      <th>3</th>\n",
       "      <td>-0.885145</td>\n",
       "      <td>-1.040994</td>\n",
       "      <td>1.575335</td>\n",
       "      <td>0.385154</td>\n",
       "      <td>-0.217433</td>\n",
       "      <td>0.659370</td>\n",
       "      <td>-0.416061</td>\n",
       "      <td>-0.465636</td>\n",
       "    </tr>\n",
       "    <tr>\n",
       "      <th>4</th>\n",
       "      <td>0.319061</td>\n",
       "      <td>-0.403194</td>\n",
       "      <td>0.207116</td>\n",
       "      <td>-0.293662</td>\n",
       "      <td>0.734121</td>\n",
       "      <td>1.187643</td>\n",
       "      <td>1.382706</td>\n",
       "      <td>-0.597998</td>\n",
       "    </tr>\n",
       "  </tbody>\n",
       "</table>\n",
       "</div>"
      ],
      "text/plain": [
       "       PC_0      PC_1      PC_2      PC_3      PC_4      PC_5      PC_6  \\\n",
       "0  1.395956 -0.547738  1.513856  0.232587 -0.367149  1.235481 -0.608128   \n",
       "1  8.178573 -0.080240  2.065536 -0.117479  0.569568 -1.114624  1.045925   \n",
       "2 -2.870543 -4.267936 -0.737960  1.006674 -1.558105  1.670236 -0.552207   \n",
       "3 -0.885145 -1.040994  1.575335  0.385154 -0.217433  0.659370 -0.416061   \n",
       "4  0.319061 -0.403194  0.207116 -0.293662  0.734121  1.187643  1.382706   \n",
       "\n",
       "       PC_7  \n",
       "0  0.007656  \n",
       "1  0.254812  \n",
       "2  0.082128  \n",
       "3 -0.465636  \n",
       "4 -0.597998  "
      ]
     },
     "execution_count": 24,
     "metadata": {},
     "output_type": "execute_result"
    }
   ],
   "source": [
    "# Create and View DataFrame\n",
    "df_pca = pd.DataFrame(data=X_train_pca, columns=pca_cols)\n",
    "df_pca.head()"
   ]
  },
  {
   "cell_type": "code",
   "execution_count": 25,
   "id": "96d0b69e",
   "metadata": {},
   "outputs": [
    {
     "data": {
      "image/png": "[encoded data removed]",
      "text/plain": [
       "<Figure size 1200x1000 with 1 Axes>"
      ]
     },
     "metadata": {},
     "output_type": "display_data"
    }
   ],
   "source": [
    "# Visualize Principle Components with Scatter Plot\n",
    "fig = plt.figure(figsize=(12, 10))\n",
    "ax = fig.add_subplot(1,1,1)\n",
    "col_1 = \"PC_2\"\n",
    "col_2 = \"PC_7\"\n",
    "ax.set_xlabel(f\"{col_1}_ Principle Component\", fontsize=15)\n",
    "ax.set_ylabel(f\"{col_2}_ Principle Component\", fontsize=15)\n",
    "ax.set_title(\"PCA on Training Dataset\", fontsize=20)\n",
    "\n",
    "targets = [-1, 1]\n",
    "colors = ['b', 'g']\n",
    "for target, color in zip(targets, colors):\n",
    "    indices_to_keep = y_train == target\n",
    "    indices_to_keep = list(indices_to_keep)\n",
    "    ax.scatter(df_pca.loc[indices_to_keep, col_1],\n",
    "               df_pca.loc[indices_to_keep, col_2],\n",
    "               c = color,\n",
    "               s=50)\n",
    "ax.legend(targets)\n",
    "ax.grid()"
   ]
  },
  {
   "cell_type": "markdown",
   "id": "e4127102",
   "metadata": {},
   "source": [
    "### Supervised ML - Random Forest Classification"
   ]
  },
  {
   "cell_type": "code",
   "execution_count": 26,
   "id": "ce3f0210",
   "metadata": {},
   "outputs": [
    {
     "name": "stdout",
     "output_type": "stream",
     "text": [
      "Test Accuracy: 0.728322279538197\n",
      "Test Precision: 0.7084888059701493\n"
     ]
    }
   ],
   "source": [
    "classifier = RandomForestClassifier(n_estimators=12, max_depth=2, random_state=0)\n",
    "classifier.fit(X_train, y_train)\n",
    "y_pred = classifier.predict(X_test)\n",
    "accuracy = accuracy_score(y_test, y_pred)\n",
    "precision = precision_score(y_test, y_pred)\n",
    "print(f\"Test Accuracy: {accuracy}\")\n",
    "print(f\"Test Precision: {precision}\")"
   ]
  },
  {
   "cell_type": "code",
   "execution_count": 27,
   "id": "5c73e15a",
   "metadata": {},
   "outputs": [
    {
     "data": {
      "text/plain": [
       "array([[0.36014305, 0.63985695],\n",
       "       [0.69346198, 0.30653802],\n",
       "       [0.59394369, 0.40605631],\n",
       "       ...,\n",
       "       [0.50068976, 0.49931024],\n",
       "       [0.3185511 , 0.6814489 ],\n",
       "       [0.58401955, 0.41598045]])"
      ]
     },
     "execution_count": 27,
     "metadata": {},
     "output_type": "execute_result"
    }
   ],
   "source": [
    "y_pred_proba = classifier.predict_proba(X_test)\n",
    "y_pred_proba"
   ]
  },
  {
   "cell_type": "code",
   "execution_count": 28,
   "id": "21709847",
   "metadata": {},
   "outputs": [],
   "source": [
    "# Test for Overfitting\n",
    "train_scores, test_scores = list(), list()\n",
    "values = [i for i in range(1, 200)]\n",
    "for i in values:\n",
    "    classifier = RandomForestClassifier(n_estimators=i, max_depth=2, random_state=0)\n",
    "    classifier.fit(X_train, y_train)\n",
    "    \n",
    "    # Training Data\n",
    "    y_train_pred = classifier.predict(X_train)\n",
    "    accuracy_train = accuracy_score(y_train, y_train_pred)\n",
    "    train_scores.append(accuracy_train)\n",
    "    \n",
    "    # Test Data\n",
    "    y_test_pred = classifier.predict(X_test)\n",
    "    accuracy_test = accuracy_score(y_test, y_test_pred)\n",
    "    test_scores.append(accuracy_test)"
   ]
  },
  {
   "cell_type": "code",
   "execution_count": 29,
   "id": "df954346",
   "metadata": {},
   "outputs": [
    {
     "data": {
      "image/png": "[encoded data removed]",
      "text/plain": [
       "<Figure size 640x480 with 1 Axes>"
      ]
     },
     "metadata": {},
     "output_type": "display_data"
    }
   ],
   "source": [
    "# Plot Results\n",
    "plt.plot(train_scores)\n",
    "plt.plot(test_scores)\n",
    "plt.show()"
   ]
  },
  {
   "cell_type": "markdown",
   "id": "f4486b59",
   "metadata": {},
   "source": [
    "### Conclusion"
   ]
  },
  {
   "cell_type": "markdown",
   "id": "c39ee733",
   "metadata": {},
   "source": [
    "We have seen that by introducing PCA, we can dramatically reduce the amount of data required to train our supervised machine learning model (in this case Random Forest). One could further explore information provided by PCA by running K-Means clusters on the PCA data to find certain regimes in the data.\n",
    "\n",
    "This is the fun part about machine learning, there are many ways to combine methods in the aim to optimize your strategy."
   ]
  },
  {
   "cell_type": "markdown",
   "id": "9aae8402",
   "metadata": {},
   "source": [
    "### Useful Resources and Reading"
   ]
  },
  {
   "cell_type": "markdown",
   "id": "5a0e8826",
   "metadata": {},
   "source": [
    "Use Case in Correlation for Stock Analysis: https://python.plainenglish.io/applying-pca-to-stocks-fbad2e51573f\n",
    "\n",
    "Understanding the VIX: https://www.investopedia.com/stock-analysis/2012/4-ways-to-trade-the-vix-vxx-vxz-tvix-xxv0504.aspx\n",
    "\n",
    "Using PCA in Forex Trading: \n",
    "https://deanstreetlab.github.io/papers/papers/FX%20Trading/Using%20a%20Principal%20Component%20Analysis%20for%20Multi-Currencies-Trading%20in%20the%20Foreign%20Exchange%20Market.pdf"
   ]
  },
  {
   "cell_type": "code",
   "execution_count": null,
   "id": "c9a98539",
   "metadata": {},
   "outputs": [],
   "source": []
  }
 ],
 "metadata": {
  "kernelspec": {
   "display_name": "Python 3 (ipykernel)",
   "language": "python",
   "name": "python3"
  },
  "language_info": {
   "codemirror_mode": {
    "name": "ipython",
    "version": 3
   },
   "file_extension": ".py",
   "mimetype": "text/x-python",
   "name": "python",
   "nbconvert_exporter": "python",
   "pygments_lexer": "ipython3",
   "version": "3.9.16"
  }
 },
 "nbformat": 4,
 "nbformat_minor": 5
}
