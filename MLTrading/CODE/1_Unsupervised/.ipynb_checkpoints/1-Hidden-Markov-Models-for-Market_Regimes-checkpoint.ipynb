{
 "cells": [
  {
   "cell_type": "markdown",
   "id": "65ad176b",
   "metadata": {},
   "source": [
    "### Case Study"
   ]
  },
  {
   "cell_type": "markdown",
   "id": "2a4028a5",
   "metadata": {},
   "source": [
    "Many strategies can be highly profitable depending on whether you are in an upward trending, downward trending or oscillating market. However, how can you tell what market you are in and in addition do this without an subjective bias?\n",
    "\n",
    "Hidden Markov Models allow us to determine any number of states we like, given inputs such as returns and volatility (or any inputs of your choosing), to help ascertain what state - or regime - the market is in. This is part of a type of analysis known as Regime identification."
   ]
  },
  {
   "cell_type": "markdown",
   "id": "2195863e",
   "metadata": {},
   "source": [
    "### Imports"
   ]
  },
  {
   "cell_type": "code",
   "execution_count": 1,
   "id": "a0b3e65c",
   "metadata": {},
   "outputs": [
    {
     "name": "stderr",
     "output_type": "stream",
     "text": [
      "/Users/vipin/opt/anaconda3/envs/my_own/lib/python3.9/site-packages/fix_yahoo_finance/__init__.py:0: DeprecationWarning: \n",
      "\n",
      "*** `fix_yahoo_finance` was renamed to `yfinance`. ***\n",
      "Please install and use `yfinance` directly using `pip install yfinance -U`\n",
      "\n",
      "More information: https://github.com/ranaroussi/yfinance\n",
      "\n"
     ]
    }
   ],
   "source": [
    "\n",
    "import pandas as pd\n",
    "import numpy as np\n",
    "\n",
    "from pyhhmm.gaussian import GaussianHMM\n",
    "\n",
    "\n",
    "import matplotlib.pyplot as plt\n",
    "import fix_yahoo_finance\n",
    "import yfinance"
   ]
  },
  {
   "cell_type": "markdown",
   "id": "bf480094",
   "metadata": {},
   "source": [
    "### Data Management"
   ]
  },
  {
   "cell_type": "code",
   "execution_count": 2,
   "id": "3bd8b57c",
   "metadata": {},
   "outputs": [
    {
     "name": "stdout",
     "output_type": "stream",
     "text": [
      "[*********************100%***********************]  1 of 1 completed\n"
     ]
    }
   ],
   "source": [
    "# Data Extraction\n",
    "start_date = \"2017-01-1\"\n",
    "end_date = \"2022-06-1\"\n",
    "symbol = \"SPY\"\n",
    "#[OLECTRA,\"LT\",\"CONCOR\",\"ELGIEQUIP\",\"IOC\",\"BEL\",\"TATAELXSI\",\"^NSEI\"]\n",
    "stock_name = \"IOC.NS\"\n",
    "\n",
    "data = yfinance.download(tickers = stock_name,start=\"2010-03-06\",\n",
    "                               interval = \"1d\", group_by = 'ticker', auto_adjust = True)\n",
    "\n",
    "\n",
    "\n",
    "data = data[[\"Open\", \"High\", \"Low\", \"Close\",\"Volume\"]]\n"
   ]
  },
  {
   "cell_type": "code",
   "execution_count": 18,
   "id": "3c5b9a47",
   "metadata": {},
   "outputs": [
    {
     "data": {
      "text/html": [
       "<div>\n",
       "<style scoped>\n",
       "    .dataframe tbody tr th:only-of-type {\n",
       "        vertical-align: middle;\n",
       "    }\n",
       "\n",
       "    .dataframe tbody tr th {\n",
       "        vertical-align: top;\n",
       "    }\n",
       "\n",
       "    .dataframe thead th {\n",
       "        text-align: right;\n",
       "    }\n",
       "</style>\n",
       "<table border=\"1\" class=\"dataframe\">\n",
       "  <thead>\n",
       "    <tr style=\"text-align: right;\">\n",
       "      <th></th>\n",
       "      <th>Open</th>\n",
       "      <th>High</th>\n",
       "      <th>Low</th>\n",
       "      <th>Close</th>\n",
       "      <th>Volume</th>\n",
       "      <th>Returns</th>\n",
       "      <th>Range</th>\n",
       "    </tr>\n",
       "    <tr>\n",
       "      <th>Date</th>\n",
       "      <th></th>\n",
       "      <th></th>\n",
       "      <th></th>\n",
       "      <th></th>\n",
       "      <th></th>\n",
       "      <th></th>\n",
       "      <th></th>\n",
       "    </tr>\n",
       "  </thead>\n",
       "  <tbody>\n",
       "    <tr>\n",
       "      <th>2000-03-07</th>\n",
       "      <td>3.403754</td>\n",
       "      <td>3.403754</td>\n",
       "      <td>3.174288</td>\n",
       "      <td>3.305274</td>\n",
       "      <td>689184</td>\n",
       "      <td>-0.031381</td>\n",
       "      <td>0.072289</td>\n",
       "    </tr>\n",
       "    <tr>\n",
       "      <th>2000-03-08</th>\n",
       "      <td>3.308142</td>\n",
       "      <td>3.336825</td>\n",
       "      <td>3.155165</td>\n",
       "      <td>3.218268</td>\n",
       "      <td>368766</td>\n",
       "      <td>-0.026323</td>\n",
       "      <td>0.057576</td>\n",
       "    </tr>\n",
       "    <tr>\n",
       "      <th>2000-03-09</th>\n",
       "      <td>3.155164</td>\n",
       "      <td>3.440085</td>\n",
       "      <td>3.121700</td>\n",
       "      <td>3.325352</td>\n",
       "      <td>666198</td>\n",
       "      <td>0.033274</td>\n",
       "      <td>0.101991</td>\n",
       "    </tr>\n",
       "    <tr>\n",
       "      <th>2000-03-10</th>\n",
       "      <td>3.269898</td>\n",
       "      <td>3.346387</td>\n",
       "      <td>3.231654</td>\n",
       "      <td>3.282328</td>\n",
       "      <td>456822</td>\n",
       "      <td>-0.012938</td>\n",
       "      <td>0.035503</td>\n",
       "    </tr>\n",
       "    <tr>\n",
       "      <th>2000-03-13</th>\n",
       "      <td>3.250776</td>\n",
       "      <td>3.289021</td>\n",
       "      <td>3.099711</td>\n",
       "      <td>3.178112</td>\n",
       "      <td>441126</td>\n",
       "      <td>-0.031751</td>\n",
       "      <td>0.061073</td>\n",
       "    </tr>\n",
       "  </tbody>\n",
       "</table>\n",
       "</div>"
      ],
      "text/plain": [
       "                Open      High       Low     Close  Volume   Returns     Range\n",
       "Date                                                                          \n",
       "2000-03-07  3.403754  3.403754  3.174288  3.305274  689184 -0.031381  0.072289\n",
       "2000-03-08  3.308142  3.336825  3.155165  3.218268  368766 -0.026323  0.057576\n",
       "2000-03-09  3.155164  3.440085  3.121700  3.325352  666198  0.033274  0.101991\n",
       "2000-03-10  3.269898  3.346387  3.231654  3.282328  456822 -0.012938  0.035503\n",
       "2000-03-13  3.250776  3.289021  3.099711  3.178112  441126 -0.031751  0.061073"
      ]
     },
     "execution_count": 18,
     "metadata": {},
     "output_type": "execute_result"
    }
   ],
   "source": [
    "# Add Returns and Range\n",
    "df = data.copy()\n",
    "df[\"Returns\"] = (df[\"Close\"] / df[\"Close\"].shift(1)) - 1\n",
    "df[\"Range\"] = (df[\"High\"] / df[\"Low\"]) - 1\n",
    "df.dropna(inplace=True)\n",
    "df.head()"
   ]
  },
  {
   "cell_type": "code",
   "execution_count": 22,
   "id": "257e5cd2",
   "metadata": {},
   "outputs": [
    {
     "data": {
      "text/html": [
       "<div>\n",
       "<style scoped>\n",
       "    .dataframe tbody tr th:only-of-type {\n",
       "        vertical-align: middle;\n",
       "    }\n",
       "\n",
       "    .dataframe tbody tr th {\n",
       "        vertical-align: top;\n",
       "    }\n",
       "\n",
       "    .dataframe thead th {\n",
       "        text-align: right;\n",
       "    }\n",
       "</style>\n",
       "<table border=\"1\" class=\"dataframe\">\n",
       "  <thead>\n",
       "    <tr style=\"text-align: right;\">\n",
       "      <th></th>\n",
       "      <th>Returns</th>\n",
       "      <th>Range</th>\n",
       "    </tr>\n",
       "    <tr>\n",
       "      <th>Date</th>\n",
       "      <th></th>\n",
       "      <th></th>\n",
       "    </tr>\n",
       "  </thead>\n",
       "  <tbody>\n",
       "    <tr>\n",
       "      <th>2023-06-30</th>\n",
       "      <td>0.021824</td>\n",
       "      <td>0.014341</td>\n",
       "    </tr>\n",
       "    <tr>\n",
       "      <th>2023-07-03</th>\n",
       "      <td>0.043264</td>\n",
       "      <td>0.052574</td>\n",
       "    </tr>\n",
       "    <tr>\n",
       "      <th>2023-07-04</th>\n",
       "      <td>-0.006299</td>\n",
       "      <td>0.021728</td>\n",
       "    </tr>\n",
       "    <tr>\n",
       "      <th>2023-07-05</th>\n",
       "      <td>0.008980</td>\n",
       "      <td>0.024625</td>\n",
       "    </tr>\n",
       "    <tr>\n",
       "      <th>2023-07-06</th>\n",
       "      <td>0.032461</td>\n",
       "      <td>0.029167</td>\n",
       "    </tr>\n",
       "  </tbody>\n",
       "</table>\n",
       "</div>"
      ],
      "text/plain": [
       "             Returns     Range\n",
       "Date                          \n",
       "2023-06-30  0.021824  0.014341\n",
       "2023-07-03  0.043264  0.052574\n",
       "2023-07-04 -0.006299  0.021728\n",
       "2023-07-05  0.008980  0.024625\n",
       "2023-07-06  0.032461  0.029167"
      ]
     },
     "execution_count": 22,
     "metadata": {},
     "output_type": "execute_result"
    }
   ],
   "source": [
    "# Structure Data\n",
    "df = df.replace([np.inf, -np.inf], np.nan)\n",
    "df = df.dropna()\n",
    "inf_mask = np.isinf(df)\n",
    "\n",
    "# Filter the Series to exclude Inf values\n",
    "df = df[~inf_mask]\n",
    "\n",
    "X_train = df[[\"Returns\", \"Range\"]]\n",
    "X_train.tail()"
   ]
  },
  {
   "cell_type": "code",
   "execution_count": 21,
   "id": "6c6e1a5b",
   "metadata": {},
   "outputs": [
    {
     "name": "stdout",
     "output_type": "stream",
     "text": [
      "                 Open       High        Low      Close    Volume   Returns  \\\n",
      "Date                                                                         \n",
      "2000-03-07   3.403754   3.403754   3.174288   3.305274    689184 -0.031381   \n",
      "2000-03-08   3.308142   3.336825   3.155165   3.218268    368766 -0.026323   \n",
      "2000-03-09   3.155164   3.440085   3.121700   3.325352    666198  0.033274   \n",
      "2000-03-10   3.269898   3.346387   3.231654   3.282328    456822 -0.012938   \n",
      "2000-03-13   3.250776   3.289021   3.099711   3.178112    441126 -0.031751   \n",
      "...               ...        ...        ...        ...       ...       ...   \n",
      "2023-06-30  90.949997  91.949997  90.650002  91.300003  12595671  0.021824   \n",
      "2023-07-03  91.599998  96.099998  91.300003  95.250000  32972732  0.043264   \n",
      "2023-07-04  96.000000  96.400002  94.349998  94.650002  11918401 -0.006299   \n",
      "2023-07-05  95.150002  95.699997  93.400002  95.500000  14283796  0.008980   \n",
      "2023-07-06  96.000000  98.800003  96.000000  98.599998  32778334  0.032461   \n",
      "\n",
      "               Range  \n",
      "Date                  \n",
      "2000-03-07  0.072289  \n",
      "2000-03-08  0.057576  \n",
      "2000-03-09  0.101991  \n",
      "2000-03-10  0.035503  \n",
      "2000-03-13  0.061073  \n",
      "...              ...  \n",
      "2023-06-30  0.014341  \n",
      "2023-07-03  0.052574  \n",
      "2023-07-04  0.021728  \n",
      "2023-07-05  0.024625  \n",
      "2023-07-06  0.029167  \n",
      "\n",
      "[5825 rows x 7 columns]\n"
     ]
    }
   ],
   "source": []
  },
  {
   "cell_type": "markdown",
   "id": "221fc31e",
   "metadata": {},
   "source": [
    "### HMM Learning"
   ]
  },
  {
   "cell_type": "code",
   "execution_count": 23,
   "id": "112f7d54",
   "metadata": {},
   "outputs": [
    {
     "name": "stderr",
     "output_type": "stream",
     "text": [
      "/Users/vipin/opt/anaconda3/envs/my_own/lib/python3.9/site-packages/sklearn/cluster/_kmeans.py:1412: FutureWarning: The default value of `n_init` will change from 10 to 'auto' in 1.4. Set the value of `n_init` explicitly to suppress the warning\n",
      "  super()._check_params_vs_input(X, default_n_init=10)\n",
      "/Users/vipin/opt/anaconda3/envs/my_own/lib/python3.9/site-packages/pyhhmm/gaussian.py:328: RuntimeWarning: divide by zero encountered in divide\n",
      "  covars_new = (self.covars_prior + cv_num) / (\n"
     ]
    },
    {
     "ename": "LinAlgError",
     "evalue": "Array must not contain infs or NaNs",
     "output_type": "error",
     "traceback": [
      "\u001b[0;31m---------------------------------------------------------------------------\u001b[0m",
      "\u001b[0;31mLinAlgError\u001b[0m                               Traceback (most recent call last)",
      "Cell \u001b[0;32mIn[23], line 3\u001b[0m\n\u001b[1;32m      1\u001b[0m \u001b[38;5;66;03m# Train Model\u001b[39;00m\n\u001b[1;32m      2\u001b[0m model \u001b[38;5;241m=\u001b[39m GaussianHMM(n_states\u001b[38;5;241m=\u001b[39m\u001b[38;5;241m4\u001b[39m, covariance_type\u001b[38;5;241m=\u001b[39m\u001b[38;5;124m'\u001b[39m\u001b[38;5;124mfull\u001b[39m\u001b[38;5;124m'\u001b[39m, n_emissions\u001b[38;5;241m=\u001b[39m\u001b[38;5;241m2\u001b[39m)\n\u001b[0;32m----> 3\u001b[0m \u001b[43mmodel\u001b[49m\u001b[38;5;241;43m.\u001b[39;49m\u001b[43mtrain\u001b[49m\u001b[43m(\u001b[49m\u001b[43m[\u001b[49m\u001b[43mnp\u001b[49m\u001b[38;5;241;43m.\u001b[39;49m\u001b[43marray\u001b[49m\u001b[43m(\u001b[49m\u001b[43mX_train\u001b[49m\u001b[38;5;241;43m.\u001b[39;49m\u001b[43mvalues\u001b[49m\u001b[43m)\u001b[49m\u001b[43m]\u001b[49m\u001b[43m)\u001b[49m\n",
      "File \u001b[0;32m~/opt/anaconda3/envs/my_own/lib/python3.9/site-packages/pyhhmm/base.py:283\u001b[0m, in \u001b[0;36mBaseHMM.train\u001b[0;34m(self, obs_sequences, n_init, n_iter, conv_thresh, conv_iter, ignore_conv_crit, plot_log_likelihood, no_init, n_processes, print_every)\u001b[0m\n\u001b[1;32m    280\u001b[0m \u001b[38;5;28;01mif\u001b[39;00m \u001b[38;5;28mself\u001b[39m\u001b[38;5;241m.\u001b[39mverbose:\n\u001b[1;32m    281\u001b[0m     \u001b[38;5;28mprint\u001b[39m(\u001b[38;5;124m'\u001b[39m\u001b[38;5;124mInitialisation \u001b[39m\u001b[38;5;124m'\u001b[39m \u001b[38;5;241m+\u001b[39m \u001b[38;5;28mstr\u001b[39m(init \u001b[38;5;241m+\u001b[39m \u001b[38;5;241m1\u001b[39m))\n\u001b[0;32m--> 283\u001b[0m n_model, logL \u001b[38;5;241m=\u001b[39m \u001b[38;5;28;43mself\u001b[39;49m\u001b[38;5;241;43m.\u001b[39;49m\u001b[43m_train\u001b[49m\u001b[43m(\u001b[49m\n\u001b[1;32m    284\u001b[0m \u001b[43m    \u001b[49m\u001b[43mobs_sequences\u001b[49m\u001b[43m,\u001b[49m\n\u001b[1;32m    285\u001b[0m \u001b[43m    \u001b[49m\u001b[43mn_processes\u001b[49m\u001b[38;5;241;43m=\u001b[39;49m\u001b[43mn_processes\u001b[49m\u001b[43m,\u001b[49m\n\u001b[1;32m    286\u001b[0m \u001b[43m    \u001b[49m\u001b[43mn_iter\u001b[49m\u001b[38;5;241;43m=\u001b[39;49m\u001b[43mn_iter\u001b[49m\u001b[43m,\u001b[49m\n\u001b[1;32m    287\u001b[0m \u001b[43m    \u001b[49m\u001b[43mconv_thresh\u001b[49m\u001b[38;5;241;43m=\u001b[39;49m\u001b[43mconv_thresh\u001b[49m\u001b[43m,\u001b[49m\n\u001b[1;32m    288\u001b[0m \u001b[43m    \u001b[49m\u001b[43mconv_iter\u001b[49m\u001b[38;5;241;43m=\u001b[39;49m\u001b[43mconv_iter\u001b[49m\u001b[43m,\u001b[49m\n\u001b[1;32m    289\u001b[0m \u001b[43m    \u001b[49m\u001b[43mplot_log_likelihood\u001b[49m\u001b[38;5;241;43m=\u001b[39;49m\u001b[43mplot_log_likelihood\u001b[49m\u001b[43m,\u001b[49m\n\u001b[1;32m    290\u001b[0m \u001b[43m    \u001b[49m\u001b[43mignore_conv_crit\u001b[49m\u001b[38;5;241;43m=\u001b[39;49m\u001b[43mignore_conv_crit\u001b[49m\u001b[43m,\u001b[49m\n\u001b[1;32m    291\u001b[0m \u001b[43m    \u001b[49m\u001b[43mprint_every\u001b[49m\u001b[38;5;241;43m=\u001b[39;49m\u001b[43mprint_every\u001b[49m\u001b[43m,\u001b[49m\n\u001b[1;32m    292\u001b[0m \u001b[43m    \u001b[49m\u001b[43mno_init\u001b[49m\u001b[38;5;241;43m=\u001b[39;49m\u001b[43mno_init\u001b[49m\n\u001b[1;32m    293\u001b[0m \u001b[43m\u001b[49m\u001b[43m)\u001b[49m\n\u001b[1;32m    294\u001b[0m new_models\u001b[38;5;241m.\u001b[39mappend(n_model)\n\u001b[1;32m    295\u001b[0m log_likelihoods\u001b[38;5;241m.\u001b[39mappend(logL)\n",
      "File \u001b[0;32m~/opt/anaconda3/envs/my_own/lib/python3.9/site-packages/pyhhmm/base.py:645\u001b[0m, in \u001b[0;36mBaseHMM._train\u001b[0;34m(self, obs_sequences, n_iter, conv_thresh, conv_iter, ignore_conv_crit, plot_log_likelihood, no_init, print_every, n_processes, return_log_likelihoods)\u001b[0m\n\u001b[1;32m    641\u001b[0m \u001b[38;5;28;01mfor\u001b[39;00m it \u001b[38;5;129;01min\u001b[39;00m \u001b[38;5;28mrange\u001b[39m(n_iter):\n\u001b[1;32m    642\u001b[0m \n\u001b[1;32m    643\u001b[0m     \u001b[38;5;66;03m# if train without multiprocessing\u001b[39;00m\n\u001b[1;32m    644\u001b[0m     \u001b[38;5;28;01mif\u001b[39;00m n_processes \u001b[38;5;129;01mis\u001b[39;00m \u001b[38;5;28;01mNone\u001b[39;00m:\n\u001b[0;32m--> 645\u001b[0m         stats, curr_log_likelihood \u001b[38;5;241m=\u001b[39m \u001b[38;5;28;43mself\u001b[39;49m\u001b[38;5;241;43m.\u001b[39;49m\u001b[43m_compute_intermediate_values\u001b[49m\u001b[43m(\u001b[49m\n\u001b[1;32m    646\u001b[0m \u001b[43m            \u001b[49m\u001b[43mobs_sequences\u001b[49m\n\u001b[1;32m    647\u001b[0m \u001b[43m        \u001b[49m\u001b[43m)\u001b[49m\n\u001b[1;32m    648\u001b[0m     \u001b[38;5;28;01melse\u001b[39;00m:\n\u001b[1;32m    649\u001b[0m         \u001b[38;5;66;03m# split up observation sequences between the processes\u001b[39;00m\n\u001b[1;32m    650\u001b[0m         n_splits \u001b[38;5;241m=\u001b[39m \u001b[38;5;28mint\u001b[39m(np\u001b[38;5;241m.\u001b[39mceil(\u001b[38;5;28mlen\u001b[39m(obs_sequences) \u001b[38;5;241m/\u001b[39m n_processes))\n",
      "File \u001b[0;32m~/opt/anaconda3/envs/my_own/lib/python3.9/site-packages/pyhhmm/base.py:739\u001b[0m, in \u001b[0;36mBaseHMM._compute_intermediate_values\u001b[0;34m(self, obs_sequences)\u001b[0m\n\u001b[1;32m    736\u001b[0m curr_log_likelihood \u001b[38;5;241m=\u001b[39m \u001b[38;5;241m0\u001b[39m\n\u001b[1;32m    738\u001b[0m \u001b[38;5;28;01mfor\u001b[39;00m obs_seq \u001b[38;5;129;01min\u001b[39;00m obs_sequences:\n\u001b[0;32m--> 739\u001b[0m     B_map \u001b[38;5;241m=\u001b[39m \u001b[38;5;28;43mself\u001b[39;49m\u001b[38;5;241;43m.\u001b[39;49m\u001b[43m_map_B\u001b[49m\u001b[43m(\u001b[49m\u001b[43mobs_seq\u001b[49m\u001b[43m)\u001b[49m\n\u001b[1;32m    741\u001b[0m     \u001b[38;5;66;03m# calculate the log likelihood of the previous model\u001b[39;00m\n\u001b[1;32m    742\u001b[0m     \u001b[38;5;66;03m# we compute the P(O|model) for the set of old parameters\u001b[39;00m\n\u001b[1;32m    743\u001b[0m     log_likelihood \u001b[38;5;241m=\u001b[39m \u001b[38;5;28mself\u001b[39m\u001b[38;5;241m.\u001b[39mforward(obs_seq, B_map)\n",
      "File \u001b[0;32m~/opt/anaconda3/envs/my_own/lib/python3.9/site-packages/pyhhmm/gaussian.py:370\u001b[0m, in \u001b[0;36mGaussianHMM._map_B\u001b[0;34m(self, obs_seq)\u001b[0m\n\u001b[1;32m    368\u001b[0m         \u001b[38;5;28;01melse\u001b[39;00m:\n\u001b[1;32m    369\u001b[0m             obs \u001b[38;5;241m=\u001b[39m obs_seq[t]\n\u001b[0;32m--> 370\u001b[0m         B_map[j][t] \u001b[38;5;241m=\u001b[39m \u001b[38;5;28;43mself\u001b[39;49m\u001b[38;5;241;43m.\u001b[39;49m\u001b[43m_pdf\u001b[49m\u001b[43m(\u001b[49m\u001b[43mobs\u001b[49m\u001b[43m,\u001b[49m\u001b[43m \u001b[49m\u001b[38;5;28;43mself\u001b[39;49m\u001b[38;5;241;43m.\u001b[39;49m\u001b[43mmeans\u001b[49m\u001b[43m[\u001b[49m\u001b[43mj\u001b[49m\u001b[43m]\u001b[49m\u001b[43m,\u001b[49m\u001b[43m \u001b[49m\u001b[38;5;28;43mself\u001b[39;49m\u001b[38;5;241;43m.\u001b[39;49m\u001b[43mcovars\u001b[49m\u001b[43m[\u001b[49m\u001b[43mj\u001b[49m\u001b[43m]\u001b[49m\u001b[43m)\u001b[49m\n\u001b[1;32m    371\u001b[0m \u001b[38;5;28;01mreturn\u001b[39;00m B_map\n",
      "File \u001b[0;32m~/opt/anaconda3/envs/my_own/lib/python3.9/site-packages/pyhhmm/gaussian.py:471\u001b[0m, in \u001b[0;36mGaussianHMM._pdf\u001b[0;34m(self, x, mean, covar)\u001b[0m\n\u001b[1;32m    459\u001b[0m \u001b[38;5;28;01mdef\u001b[39;00m \u001b[38;5;21m_pdf\u001b[39m(\u001b[38;5;28mself\u001b[39m, x, mean, covar):\n\u001b[1;32m    460\u001b[0m \u001b[38;5;250m    \u001b[39m\u001b[38;5;124;03m\"\"\"Multivariate Gaussian PDF function. \u001b[39;00m\n\u001b[1;32m    461\u001b[0m \n\u001b[1;32m    462\u001b[0m \u001b[38;5;124;03m    :param x: a multivariate sample \u001b[39;00m\n\u001b[0;32m   (...)\u001b[0m\n\u001b[1;32m    469\u001b[0m \u001b[38;5;124;03m    :rtype: float\u001b[39;00m\n\u001b[1;32m    470\u001b[0m \u001b[38;5;124;03m    \"\"\"\u001b[39;00m\n\u001b[0;32m--> 471\u001b[0m     \u001b[38;5;28;01mif\u001b[39;00m \u001b[38;5;129;01mnot\u001b[39;00m np\u001b[38;5;241m.\u001b[39mall(\u001b[43mnp\u001b[49m\u001b[38;5;241;43m.\u001b[39;49m\u001b[43mlinalg\u001b[49m\u001b[38;5;241;43m.\u001b[39;49m\u001b[43meigvals\u001b[49m\u001b[43m(\u001b[49m\u001b[43mcovar\u001b[49m\u001b[43m)\u001b[49m \u001b[38;5;241m>\u001b[39m \u001b[38;5;241m0\u001b[39m):\n\u001b[1;32m    472\u001b[0m         covar \u001b[38;5;241m=\u001b[39m covar \u001b[38;5;241m+\u001b[39m \u001b[38;5;28mself\u001b[39m\u001b[38;5;241m.\u001b[39mmin_covar \u001b[38;5;241m*\u001b[39m np\u001b[38;5;241m.\u001b[39meye(\u001b[38;5;28mself\u001b[39m\u001b[38;5;241m.\u001b[39mn_emissions)\n\u001b[1;32m    473\u001b[0m     \u001b[38;5;28;01mreturn\u001b[39;00m multivariate_normal\u001b[38;5;241m.\u001b[39mpdf(x, mean\u001b[38;5;241m=\u001b[39mmean, cov\u001b[38;5;241m=\u001b[39mcovar, allow_singular\u001b[38;5;241m=\u001b[39m\u001b[38;5;28;01mTrue\u001b[39;00m)\n",
      "File \u001b[0;32m<__array_function__ internals>:200\u001b[0m, in \u001b[0;36meigvals\u001b[0;34m(*args, **kwargs)\u001b[0m\n",
      "File \u001b[0;32m~/opt/anaconda3/envs/my_own/lib/python3.9/site-packages/numpy/linalg/linalg.py:1043\u001b[0m, in \u001b[0;36meigvals\u001b[0;34m(a)\u001b[0m\n\u001b[1;32m   1041\u001b[0m _assert_stacked_2d(a)\n\u001b[1;32m   1042\u001b[0m _assert_stacked_square(a)\n\u001b[0;32m-> 1043\u001b[0m \u001b[43m_assert_finite\u001b[49m\u001b[43m(\u001b[49m\u001b[43ma\u001b[49m\u001b[43m)\u001b[49m\n\u001b[1;32m   1044\u001b[0m t, result_t \u001b[38;5;241m=\u001b[39m _commonType(a)\n\u001b[1;32m   1046\u001b[0m extobj \u001b[38;5;241m=\u001b[39m get_linalg_error_extobj(\n\u001b[1;32m   1047\u001b[0m     _raise_linalgerror_eigenvalues_nonconvergence)\n",
      "File \u001b[0;32m~/opt/anaconda3/envs/my_own/lib/python3.9/site-packages/numpy/linalg/linalg.py:195\u001b[0m, in \u001b[0;36m_assert_finite\u001b[0;34m(*arrays)\u001b[0m\n\u001b[1;32m    193\u001b[0m \u001b[38;5;28;01mfor\u001b[39;00m a \u001b[38;5;129;01min\u001b[39;00m arrays:\n\u001b[1;32m    194\u001b[0m     \u001b[38;5;28;01mif\u001b[39;00m \u001b[38;5;129;01mnot\u001b[39;00m isfinite(a)\u001b[38;5;241m.\u001b[39mall():\n\u001b[0;32m--> 195\u001b[0m         \u001b[38;5;28;01mraise\u001b[39;00m LinAlgError(\u001b[38;5;124m\"\u001b[39m\u001b[38;5;124mArray must not contain infs or NaNs\u001b[39m\u001b[38;5;124m\"\u001b[39m)\n",
      "\u001b[0;31mLinAlgError\u001b[0m: Array must not contain infs or NaNs"
     ]
    }
   ],
   "source": [
    "# Train Model\n",
    "model = GaussianHMM(n_states=4, covariance_type='full', n_emissions=2)\n",
    "model.train([np.array(X_train.values)])"
   ]
  },
  {
   "cell_type": "code",
   "execution_count": null,
   "id": "9127c7e9",
   "metadata": {},
   "outputs": [],
   "source": [
    "# Check Results\n",
    "hidden_states = model.predict([X_train.values])[0]\n",
    "print(hidden_states[:40])\n",
    "len(hidden_states)"
   ]
  },
  {
   "cell_type": "code",
   "execution_count": null,
   "id": "731a5ff4",
   "metadata": {},
   "outputs": [],
   "source": [
    "# Regime state means for each feature\n",
    "model.means"
   ]
  },
  {
   "cell_type": "code",
   "execution_count": null,
   "id": "e746c3f2",
   "metadata": {},
   "outputs": [],
   "source": [
    "# Regime state covars for each feature\n",
    "model.covars"
   ]
  },
  {
   "cell_type": "markdown",
   "id": "9180c723",
   "metadata": {},
   "source": [
    "### Data Visualization"
   ]
  },
  {
   "cell_type": "code",
   "execution_count": null,
   "id": "e43f0eb8",
   "metadata": {},
   "outputs": [],
   "source": [
    "# Structure the prices for plotting\n",
    "i = 0\n",
    "labels_0 = []\n",
    "labels_1 = []\n",
    "labels_2 = []\n",
    "labels_3 = []\n",
    "prices = df[\"Close\"].values.astype(float)\n",
    "print(\"Correct number of rows: \", len(prices) == len(hidden_states))\n",
    "for s in hidden_states:\n",
    "    if s == 0:\n",
    "        labels_0.append(prices[i])\n",
    "        labels_1.append(float('nan'))\n",
    "        labels_2.append(float('nan'))\n",
    "        labels_3.append(float('nan'))\n",
    "    if s == 1:\n",
    "        labels_0.append(float('nan'))\n",
    "        labels_1.append(prices[i])\n",
    "        labels_2.append(float('nan'))\n",
    "        labels_3.append(float('nan'))\n",
    "    if s == 2:\n",
    "        labels_0.append(float('nan'))\n",
    "        labels_1.append(float('nan'))\n",
    "        labels_2.append(prices[i])\n",
    "        labels_3.append(float('nan'))\n",
    "    if s == 3:\n",
    "        labels_0.append(float('nan'))\n",
    "        labels_1.append(float('nan'))\n",
    "        labels_2.append(float('nan'))\n",
    "        labels_3.append(prices[i])\n",
    "    i += 1"
   ]
  },
  {
   "cell_type": "code",
   "execution_count": null,
   "id": "743cd96e",
   "metadata": {},
   "outputs": [],
   "source": [
    "# Plot Chart\n",
    "fig = plt.figure(figsize= (18, 8))\n",
    "plt.plot(labels_0, color=\"green\")\n",
    "plt.plot(labels_1, color=\"red\")\n",
    "plt.plot(labels_2, color=\"orange\")\n",
    "plt.plot(labels_3, color=\"black\")\n",
    "plt.show()"
   ]
  },
  {
   "cell_type": "markdown",
   "id": "6bbeec1c",
   "metadata": {},
   "source": [
    "### Conclusion"
   ]
  },
  {
   "cell_type": "markdown",
   "id": "2c95a23f",
   "metadata": {},
   "source": [
    "Although work is still yet to be done in the following notebook, we can cleary see from the chart above, that the Hidden Markov Model has been able to identify market regimes based on returns and volatility behaviour."
   ]
  },
  {
   "cell_type": "markdown",
   "id": "4b39b06e",
   "metadata": {},
   "source": [
    "### Useful Resources"
   ]
  },
  {
   "cell_type": "markdown",
   "id": "430a1628",
   "metadata": {},
   "source": [
    "HMM Colab Version with Backtest: https://colab.research.google.com/drive/12qzR8SrhfhQDBImKYQqUKdj6n60E9jNp?usp=sharing"
   ]
  }
 ],
 "metadata": {
  "kernelspec": {
   "display_name": "Python 3 (ipykernel)",
   "language": "python",
   "name": "python3"
  },
  "language_info": {
   "codemirror_mode": {
    "name": "ipython",
    "version": 3
   },
   "file_extension": ".py",
   "mimetype": "text/x-python",
   "name": "python",
   "nbconvert_exporter": "python",
   "pygments_lexer": "ipython3",
   "version": "3.9.16"
  }
 },
 "nbformat": 4,
 "nbformat_minor": 5
}
