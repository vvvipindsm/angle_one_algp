{
 "cells": [
  {
   "cell_type": "markdown",
   "id": "ecc77eb2",
   "metadata": {},
   "source": [
    "### Imports"
   ]
  },
  {
   "cell_type": "code",
   "execution_count": 1,
   "id": "0110bcc8",
   "metadata": {},
   "outputs": [],
   "source": [
    "import pandas as pd\n",
    "import numpy as np\n",
    "from numpy import cumsum, log, polyfit, sqrt, std, subtract\n",
    "import sklearn.mixture as mix\n",
    "\n",
    "import matplotlib.pyplot as plt\n",
    "\n",
    "# Efficiency Testing Libraries\n",
    "from statsmodels.tsa.stattools import bds\n",
    "from statsmodels.sandbox.stats.runs import runstest_1samp\n",
    "from statsmodels.tsa.stattools import adfuller\n",
    "import scipy.stats as sps\n",
    "import yfinance"
   ]
  },
  {
   "cell_type": "markdown",
   "id": "f060f645",
   "metadata": {},
   "source": [
    "### Data Extraction"
   ]
  },
  {
   "cell_type": "code",
   "execution_count": 2,
   "id": "63241b21",
   "metadata": {},
   "outputs": [
    {
     "name": "stdout",
     "output_type": "stream",
     "text": [
      "[*********************100%***********************]  1 of 1 completed\n"
     ]
    },
    {
     "data": {
      "text/html": [
       "<div>\n",
       "<style scoped>\n",
       "    .dataframe tbody tr th:only-of-type {\n",
       "        vertical-align: middle;\n",
       "    }\n",
       "\n",
       "    .dataframe tbody tr th {\n",
       "        vertical-align: top;\n",
       "    }\n",
       "\n",
       "    .dataframe thead th {\n",
       "        text-align: right;\n",
       "    }\n",
       "</style>\n",
       "<table border=\"1\" class=\"dataframe\">\n",
       "  <thead>\n",
       "    <tr style=\"text-align: right;\">\n",
       "      <th></th>\n",
       "      <th>Open</th>\n",
       "      <th>High</th>\n",
       "      <th>Low</th>\n",
       "      <th>Close</th>\n",
       "      <th>Volume</th>\n",
       "      <th>Returns</th>\n",
       "    </tr>\n",
       "    <tr>\n",
       "      <th>Date</th>\n",
       "      <th></th>\n",
       "      <th></th>\n",
       "      <th></th>\n",
       "      <th></th>\n",
       "      <th></th>\n",
       "      <th></th>\n",
       "    </tr>\n",
       "  </thead>\n",
       "  <tbody>\n",
       "    <tr>\n",
       "      <th>2005-10-20</th>\n",
       "      <td>138.319246</td>\n",
       "      <td>139.651142</td>\n",
       "      <td>125.690959</td>\n",
       "      <td>127.644402</td>\n",
       "      <td>39078530</td>\n",
       "      <td>-0.066320</td>\n",
       "    </tr>\n",
       "    <tr>\n",
       "      <th>2005-10-21</th>\n",
       "      <td>125.345658</td>\n",
       "      <td>137.135349</td>\n",
       "      <td>125.345658</td>\n",
       "      <td>132.962097</td>\n",
       "      <td>25623135</td>\n",
       "      <td>0.041660</td>\n",
       "    </tr>\n",
       "    <tr>\n",
       "      <th>2005-10-24</th>\n",
       "      <td>135.556822</td>\n",
       "      <td>136.148779</td>\n",
       "      <td>127.920661</td>\n",
       "      <td>129.035492</td>\n",
       "      <td>11125060</td>\n",
       "      <td>-0.029532</td>\n",
       "    </tr>\n",
       "  </tbody>\n",
       "</table>\n",
       "</div>"
      ],
      "text/plain": [
       "                  Open        High         Low       Close    Volume   Returns\n",
       "Date                                                                          \n",
       "2005-10-20  138.319246  139.651142  125.690959  127.644402  39078530 -0.066320\n",
       "2005-10-21  125.345658  137.135349  125.345658  132.962097  25623135  0.041660\n",
       "2005-10-24  135.556822  136.148779  127.920661  129.035492  11125060 -0.029532"
      ]
     },
     "execution_count": 2,
     "metadata": {},
     "output_type": "execute_result"
    }
   ],
   "source": [
    "# Data Extraction\n",
    "start_date = \"2017-01-1\"\n",
    "end_date = \"2023-06-1\"\n",
    "symbol = \"SPY\"\n",
    "\n",
    "df = yfinance.download(tickers = \"SUZLON.NS\",start=\"2000-03-06\",\n",
    "                               interval = \"1d\", group_by = 'ticker', auto_adjust = True)\n",
    "\n",
    "df = df[[\"Open\", \"High\", \"Low\", \"Close\",\"Volume\"]]\n",
    "\n",
    "df.head()\n",
    "df[\"Returns\"] = df[\"Close\"] / df[\"Close\"].shift(1) - 1\n",
    "df.dropna(inplace=True)\n",
    "df.head(3)"
   ]
  },
  {
   "cell_type": "code",
   "execution_count": 3,
   "id": "2d129007",
   "metadata": {},
   "outputs": [],
   "source": [
    "# Returns extraction\n",
    "returns = df[\"Returns\"].values.astype(float)"
   ]
  },
  {
   "cell_type": "markdown",
   "id": "286fc3e6",
   "metadata": {},
   "source": [
    "### Runs Test"
   ]
  },
  {
   "cell_type": "markdown",
   "id": "7ef83799",
   "metadata": {},
   "source": [
    "Base standard test for randomness based on linearity"
   ]
  },
  {
   "cell_type": "code",
   "execution_count": 4,
   "id": "34881200",
   "metadata": {},
   "outputs": [],
   "source": [
    "# Convert Returns into binary outcomes\n",
    "returns_binary = [ 1 if x >= 0 else 0 for x in returns]"
   ]
  },
  {
   "cell_type": "code",
   "execution_count": 5,
   "id": "377ed416",
   "metadata": {},
   "outputs": [
    {
     "name": "stdout",
     "output_type": "stream",
     "text": [
      "Z-Statistic a statistical measurement that describes a value's relationship to the mean of a group of values. 0 near to mean: 0.14\n",
      "P-Value: 0.888\n",
      "Reject Null: False\n",
      "Observable Runs Exceeds Excpected Runs by: 0.14 Standard Deviations\n",
      "Random\n"
     ]
    }
   ],
   "source": [
    "(z_stat, p_value) = runstest_1samp(returns_binary[:10], correction=False)\n",
    "z_stat = round(z_stat, 3)\n",
    "p_value = round(p_value, 3)\n",
    "is_reject_runs = True if p_value < 0.05 else False\n",
    "print(f\"Z-Statistic a statistical measurement that describes a value's relationship to the mean of a group of values. 0 near to mean: {z_stat}\")\n",
    "print(f\"P-Value: {p_value}\")\n",
    "print(f\"Reject Null: {is_reject_runs}\")\n",
    "print(f\"Observable Runs Exceeds Excpected Runs by: {z_stat} Standard Deviations\")\n",
    "print(\"Not Random\") if is_reject_runs else print(\"Random\")"
   ]
  },
  {
   "cell_type": "markdown",
   "id": "0a84e097",
   "metadata": {},
   "source": [
    "### BDS Test"
   ]
  },
  {
   "cell_type": "markdown",
   "id": "44d016c6",
   "metadata": {},
   "source": [
    "Testing for chaos and nonlinearity. Considered as your last line of defence as takes into account non-linear dependancies after running other efficiency tests."
   ]
  },
  {
   "cell_type": "code",
   "execution_count": 6,
   "id": "fdaccb67",
   "metadata": {},
   "outputs": [
    {
     "name": "stdout",
     "output_type": "stream",
     "text": [
      "BDS Test Statistic:  2.605\n",
      "BDS P-Value:  0.009\n",
      "Not Random\n"
     ]
    }
   ],
   "source": [
    "bds_test = bds(returns[-500:], distance=2)\n",
    "bds_stat = float(bds_test[0])\n",
    "pvalue = float(bds_test[1])\n",
    "print(\"BDS Test Statistic: \", round(bds_stat, 3))\n",
    "print(\"BDS P-Value: \", round(pvalue, 3))\n",
    "print(\"Not Random\") if pvalue < 0.05 else print(\"Random\")"
   ]
  },
  {
   "cell_type": "markdown",
   "id": "0d7dfaca",
   "metadata": {},
   "source": [
    "### Hurst Exponent"
   ]
  },
  {
   "cell_type": "markdown",
   "id": "5593b9ea",
   "metadata": {},
   "source": [
    "\"Whether a market tends to trend, mean revert, or is just random is valuable information for a trader. While the Hurst exponent isn't an entry signal in and of itself, it can serve as a filter on top of a system. Given that market regimes can shift over time to favor one approach or the other, overlaying your model with a Hurst filter could help prevent your algorithm from buying a breakout in a mean reverting market or shorting ahead of a pullback when the market is moving to new highs.\" - *Find Your Best Market to Trade With the Hurst Exponent (referenced below)*\n",
    "\n",
    "If Hurst = 0.5, then the market is random.\n",
    "\n",
    "If Hurst > 0.5, then there is evidence of a trending market.\n",
    "\n",
    "If Hurst < 0.5, then there is evidence of a mean reverting market."
   ]
  },
  {
   "cell_type": "code",
   "execution_count": 7,
   "id": "52a60fc4",
   "metadata": {},
   "outputs": [],
   "source": [
    "def hurst(ts, min_lag=1, max_lag=100):\n",
    "    lags = range(min_lag, max_lag)\n",
    "    tau = [sqrt(std(subtract(ts[lag:], ts[:-lag]))) for lag in lags]\n",
    "    poly = polyfit(log(lags), log(tau), 1)\n",
    "    return poly[0]*2.0"
   ]
  },
  {
   "cell_type": "code",
   "execution_count": 10,
   "id": "d8ad3dfa",
   "metadata": {},
   "outputs": [
    {
     "name": "stdout",
     "output_type": "stream",
     "text": [
      "market Trend : UpTrend ,hurst value : 0.5204681692826308\n"
     ]
    }
   ],
   "source": [
    "prices = df[\"Close\"].values\n",
    "hurst_res = hurst(prices)\n",
    "status = \"sidewise\"\n",
    "if(hurst_res < 0.5):\n",
    "    status = \"DownTrend\"\n",
    "else:\n",
    "    status = \"UpTrend\"\n",
    "print(\"market Trend :\",status,\",hurst value :\",hurst_res)"
   ]
  },
  {
   "cell_type": "markdown",
   "id": "348942b8",
   "metadata": {},
   "source": [
    "### AD Fuller Test for Stationarity"
   ]
  },
  {
   "cell_type": "code",
   "execution_count": 9,
   "id": "73bf2d87",
   "metadata": {},
   "outputs": [
    {
     "name": "stdout",
     "output_type": "stream",
     "text": [
      "0.0 True\n",
      "If < 0.05 and True then we can reject the null hypothesis and conclude that the index is stationary\n"
     ]
    }
   ],
   "source": [
    "dftest = adfuller(returns)\n",
    "p_value = dftest[1]\n",
    "t_test = dftest[0] < dftest[4][\"1%\"]\n",
    "print(p_value, t_test)\n",
    "print(\"If < 0.05 and True then we can reject the null hypothesis and conclude that the index is stationary\")"
   ]
  },
  {
   "cell_type": "markdown",
   "id": "c54a40d3",
   "metadata": {},
   "source": [
    "### Resources and Useful References"
   ]
  },
  {
   "cell_type": "markdown",
   "id": "6a07acbd",
   "metadata": {},
   "source": [
    "NEDL YouTube Channel - Hurst Exponent: https://www.youtube.com/watch?v=l08LICz8Ink\n",
    "\n",
    "NEDL YouTube Channel - Dynamic Hurst Exponent: https://www.youtube.com/watch?v=v0sivj2wGcA\n",
    "\n",
    "Hurst Exponent Coding: https://raposa.trade/blog/find-your-best-market-to-trade-with-the-hurst-exponent/\n",
    "\n",
    "More Hurst Exponent Coding: https://www.quantstart.com/articles/Basics-of-Statistical-Mean-Reversion-Testing/"
   ]
  },
  {
   "cell_type": "code",
   "execution_count": null,
   "id": "52a89fc6",
   "metadata": {},
   "outputs": [],
   "source": []
  }
 ],
 "metadata": {
  "kernelspec": {
   "display_name": "Python 3 (ipykernel)",
   "language": "python",
   "name": "python3"
  },
  "language_info": {
   "codemirror_mode": {
    "name": "ipython",
    "version": 3
   },
   "file_extension": ".py",
   "mimetype": "text/x-python",
   "name": "python",
   "nbconvert_exporter": "python",
   "pygments_lexer": "ipython3",
   "version": "3.9.16"
  }
 },
 "nbformat": 4,
 "nbformat_minor": 5
}
