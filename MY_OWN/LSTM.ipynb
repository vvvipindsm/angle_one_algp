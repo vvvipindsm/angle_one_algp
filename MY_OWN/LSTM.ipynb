{
 "cells": [
  {
   "cell_type": "code",
   "execution_count": 2,
   "id": "6f2a58d6",
   "metadata": {},
   "outputs": [],
   "source": [
    "import pandas as pd\n",
    "import numpy as np\n",
    "import pandas as pd\n",
    "import xgboost\n",
    "from sklearn.model_selection import train_test_split\n",
    "from sklearn.model_selection import GridSearchCV\n",
    "from sklearn.metrics import roc_auc_score\n",
    "import matplotlib.pyplot as plt"
   ]
  },
  {
   "cell_type": "code",
   "execution_count": 3,
   "id": "f8bbefe3",
   "metadata": {},
   "outputs": [],
   "source": [
    "df = pd.read_csv(\"./stock_historical_data/{}.csv\".format(\"LT.NS\"))\n",
    "df.set_index(\"Date\", inplace=True)\n",
    "df[\"date\"] = df.index"
   ]
  },
  {
   "cell_type": "code",
   "execution_count": 65,
   "id": "9b101cf2",
   "metadata": {},
   "outputs": [],
   "source": [
    "new_df = pd.DataFrame(df.Close)\n",
    "new_df.reset_index(inplace=True)"
   ]
  },
  {
   "cell_type": "code",
   "execution_count": 67,
   "id": "3f87082d",
   "metadata": {},
   "outputs": [
    {
     "data": {
      "text/html": [
       "<div>\n",
       "<style scoped>\n",
       "    .dataframe tbody tr th:only-of-type {\n",
       "        vertical-align: middle;\n",
       "    }\n",
       "\n",
       "    .dataframe tbody tr th {\n",
       "        vertical-align: top;\n",
       "    }\n",
       "\n",
       "    .dataframe thead th {\n",
       "        text-align: right;\n",
       "    }\n",
       "</style>\n",
       "<table border=\"1\" class=\"dataframe\">\n",
       "  <thead>\n",
       "    <tr style=\"text-align: right;\">\n",
       "      <th></th>\n",
       "      <th>Close</th>\n",
       "    </tr>\n",
       "  </thead>\n",
       "  <tbody>\n",
       "    <tr>\n",
       "      <th>0</th>\n",
       "      <td>1226.583862</td>\n",
       "    </tr>\n",
       "    <tr>\n",
       "      <th>1</th>\n",
       "      <td>1259.684326</td>\n",
       "    </tr>\n",
       "    <tr>\n",
       "      <th>2</th>\n",
       "      <td>1250.086548</td>\n",
       "    </tr>\n",
       "    <tr>\n",
       "      <th>3</th>\n",
       "      <td>1232.951172</td>\n",
       "    </tr>\n",
       "    <tr>\n",
       "      <th>4</th>\n",
       "      <td>1236.462646</td>\n",
       "    </tr>\n",
       "    <tr>\n",
       "      <th>...</th>\n",
       "      <td>...</td>\n",
       "    </tr>\n",
       "    <tr>\n",
       "      <th>885</th>\n",
       "      <td>2560.899902</td>\n",
       "    </tr>\n",
       "    <tr>\n",
       "      <th>886</th>\n",
       "      <td>2646.250000</td>\n",
       "    </tr>\n",
       "    <tr>\n",
       "      <th>887</th>\n",
       "      <td>2660.199951</td>\n",
       "    </tr>\n",
       "    <tr>\n",
       "      <th>888</th>\n",
       "      <td>2649.550049</td>\n",
       "    </tr>\n",
       "    <tr>\n",
       "      <th>889</th>\n",
       "      <td>2681.350098</td>\n",
       "    </tr>\n",
       "  </tbody>\n",
       "</table>\n",
       "<p>890 rows × 1 columns</p>\n",
       "</div>"
      ],
      "text/plain": [
       "           Close\n",
       "0    1226.583862\n",
       "1    1259.684326\n",
       "2    1250.086548\n",
       "3    1232.951172\n",
       "4    1236.462646\n",
       "..           ...\n",
       "885  2560.899902\n",
       "886  2646.250000\n",
       "887  2660.199951\n",
       "888  2649.550049\n",
       "889  2681.350098\n",
       "\n",
       "[890 rows x 1 columns]"
      ]
     },
     "execution_count": 67,
     "metadata": {},
     "output_type": "execute_result"
    }
   ],
   "source": [
    "new_df = new_df.drop(\"Date\",axis=1)"
   ]
  },
  {
   "cell_type": "code",
   "execution_count": 68,
   "id": "4017c991",
   "metadata": {},
   "outputs": [],
   "source": [
    "#scaling fream\n",
    "from sklearn.preprocessing import MinMaxScaler\n",
    "scaler=MinMaxScaler(feature_range=(0,1))\n",
    "new_df = scaler.fit_transform(np.array(new_df).reshape(-1,1))"
   ]
  },
  {
   "cell_type": "code",
   "execution_count": 69,
   "id": "bd1f850c",
   "metadata": {},
   "outputs": [],
   "source": [
    "##splitting dataset into train and test split\n",
    "training_size = int(len(new_df)*0.8)\n",
    "test_size     = len(new_df) - training_size\n",
    "train_data,test_data = new_df[0:training_size,:],new_df[training_size:len(new_df),:1]"
   ]
  },
  {
   "cell_type": "code",
   "execution_count": 106,
   "id": "2053bb7c",
   "metadata": {},
   "outputs": [
    {
     "data": {
      "text/plain": [
       "((890, 1), (712, 1), (178, 1))"
      ]
     },
     "execution_count": 106,
     "metadata": {},
     "output_type": "execute_result"
    }
   ],
   "source": [
    "new_df.shape,train_data.shape,test_data.shape"
   ]
  },
  {
   "cell_type": "code",
   "execution_count": 70,
   "id": "86e2d900",
   "metadata": {},
   "outputs": [
    {
     "data": {
      "text/plain": [
       "((712, 1), (178, 1))"
      ]
     },
     "execution_count": 70,
     "metadata": {},
     "output_type": "execute_result"
    }
   ],
   "source": [
    "train_data.shape , test_data.shape"
   ]
  },
  {
   "cell_type": "code",
   "execution_count": 71,
   "id": "a0975fb4",
   "metadata": {},
   "outputs": [],
   "source": [
    "import numpy\n",
    "# convert an array of values into a dataset matrix\n",
    "def create_dataset(dataset, time_step=1):\n",
    "    dataX, dataY = [], []\n",
    "    for i in range(len(dataset)-time_step-1):\n",
    "        a = dataset[i:(i+time_step), 0]   \n",
    "        dataX.append(a)\n",
    "        dataY.append(dataset[(i+time_step)+1][0])\n",
    "\n",
    "    return numpy.array(dataX), numpy.array(dataY)"
   ]
  },
  {
   "cell_type": "code",
   "execution_count": 86,
   "id": "141bb98e",
   "metadata": {},
   "outputs": [],
   "source": [
    "# reshape into X=t,t+1,t+2,t+3 and Y=t+4\n",
    "time_step = 100\n",
    "X_train, y_train = create_dataset(train_data, time_step)\n",
    "X_test, ytest    = create_dataset(test_data, time_step)"
   ]
  },
  {
   "cell_type": "code",
   "execution_count": 87,
   "id": "3eca9617",
   "metadata": {},
   "outputs": [
    {
     "data": {
      "text/plain": [
       "((611, 100), (611,), (77, 100), (77,))"
      ]
     },
     "execution_count": 87,
     "metadata": {},
     "output_type": "execute_result"
    }
   ],
   "source": [
    "X_train.shape,y_train.shape,X_test.shape,ytest.shape"
   ]
  },
  {
   "cell_type": "code",
   "execution_count": 88,
   "id": "d8445b5d",
   "metadata": {},
   "outputs": [],
   "source": [
    "# reshape input to be [samples, time steps, features] which is required for LSTM\n",
    "X_train = X_train.reshape(X_train.shape[0],X_train.shape[1] , 1)\n",
    "X_test = X_test.reshape(X_test.shape[0],X_test.shape[1] , 1)"
   ]
  },
  {
   "cell_type": "code",
   "execution_count": 89,
   "id": "06cfc801",
   "metadata": {},
   "outputs": [
    {
     "data": {
      "text/plain": [
       "(77, 100, 1)"
      ]
     },
     "execution_count": 89,
     "metadata": {},
     "output_type": "execute_result"
    }
   ],
   "source": [
    "X_test.shape"
   ]
  },
  {
   "cell_type": "code",
   "execution_count": 90,
   "id": "8cff5254",
   "metadata": {},
   "outputs": [],
   "source": [
    "### Create the Stacked LSTM model\n",
    "from tensorflow.keras.models import Sequential\n",
    "from tensorflow.keras.layers import Dense\n",
    "from tensorflow.keras.layers import LSTM"
   ]
  },
  {
   "cell_type": "code",
   "execution_count": 91,
   "id": "a7c8be1d",
   "metadata": {},
   "outputs": [],
   "source": [
    "model=Sequential()\n",
    "model.add(LSTM(50,return_sequences=True,input_shape=(100,1)))\n",
    "model.add(LSTM(50,return_sequences=True))\n",
    "model.add(LSTM(50))\n",
    "model.add(Dense(1))\n",
    "\n",
    "model.compile(loss='mean_squared_error',optimizer='adam')"
   ]
  },
  {
   "cell_type": "code",
   "execution_count": 92,
   "id": "bd1269c6",
   "metadata": {},
   "outputs": [
    {
     "name": "stdout",
     "output_type": "stream",
     "text": [
      "Model: \"sequential_3\"\n",
      "_________________________________________________________________\n",
      " Layer (type)                Output Shape              Param #   \n",
      "=================================================================\n",
      " lstm_9 (LSTM)               (None, 100, 50)           10400     \n",
      "                                                                 \n",
      " lstm_10 (LSTM)              (None, 100, 50)           20200     \n",
      "                                                                 \n",
      " lstm_11 (LSTM)              (None, 50)                20200     \n",
      "                                                                 \n",
      " dense_3 (Dense)             (None, 1)                 51        \n",
      "                                                                 \n",
      "=================================================================\n",
      "Total params: 50851 (198.64 KB)\n",
      "Trainable params: 50851 (198.64 KB)\n",
      "Non-trainable params: 0 (0.00 Byte)\n",
      "_________________________________________________________________\n"
     ]
    }
   ],
   "source": [
    "model.summary()"
   ]
  },
  {
   "cell_type": "code",
   "execution_count": 93,
   "id": "4ede7334",
   "metadata": {},
   "outputs": [
    {
     "name": "stdout",
     "output_type": "stream",
     "text": [
      "Epoch 1/2\n",
      "10/10 [==============================] - 9s 298ms/step - loss: 0.0473 - val_loss: 0.0458\n",
      "Epoch 2/2\n",
      "10/10 [==============================] - 2s 155ms/step - loss: 0.0092 - val_loss: 0.0100\n"
     ]
    },
    {
     "data": {
      "text/plain": [
       "<keras.src.callbacks.History at 0x7ff58db936a0>"
      ]
     },
     "execution_count": 93,
     "metadata": {},
     "output_type": "execute_result"
    }
   ],
   "source": [
    "model.fit(X_train,y_train,validation_data=(X_test,ytest),epochs=2,batch_size=64,verbose=1)"
   ]
  },
  {
   "cell_type": "code",
   "execution_count": 94,
   "id": "9836d7ec",
   "metadata": {},
   "outputs": [],
   "source": [
    "import tensorflow as tf"
   ]
  },
  {
   "cell_type": "code",
   "execution_count": 95,
   "id": "e7c99cc3",
   "metadata": {},
   "outputs": [
    {
     "name": "stdout",
     "output_type": "stream",
     "text": [
      "20/20 [==============================] - 2s 44ms/step\n",
      "3/3 [==============================] - 0s 42ms/step\n"
     ]
    }
   ],
   "source": [
    "### Lets Do the prediction and check performance metrics\n",
    "train_predict =  model.predict(X_train)\n",
    "test_predict  =  model.predict(X_test)"
   ]
  },
  {
   "cell_type": "code",
   "execution_count": 96,
   "id": "1999a35c",
   "metadata": {},
   "outputs": [],
   "source": [
    "##Transformback to original form\n",
    "train_predict = scaler.inverse_transform(train_predict)\n",
    "test_predict  = scaler.inverse_transform(test_predict)"
   ]
  },
  {
   "cell_type": "code",
   "execution_count": 120,
   "id": "7bead721",
   "metadata": {},
   "outputs": [
    {
     "data": {
      "text/plain": [
       "array([[2105.519 ],\n",
       "       [2107.3484],\n",
       "       [2109.9988],\n",
       "       [2113.3213],\n",
       "       [2117.0164],\n",
       "       [2120.6663],\n",
       "       [2124.0535],\n",
       "       [2127.068 ],\n",
       "       [2129.7205],\n",
       "       [2131.9417],\n",
       "       [2133.7903],\n",
       "       [2135.4006],\n",
       "       [2136.9807],\n",
       "       [2138.76  ],\n",
       "       [2141.095 ],\n",
       "       [2144.179 ],\n",
       "       [2147.8909],\n",
       "       [2152.0984],\n",
       "       [2156.7493],\n",
       "       [2161.6746],\n",
       "       [2166.7686],\n",
       "       [2171.8704],\n",
       "       [2176.2961],\n",
       "       [2179.6694],\n",
       "       [2181.9817],\n",
       "       [2183.2014],\n",
       "       [2183.377 ],\n",
       "       [2182.4863],\n",
       "       [2180.6448],\n",
       "       [2178.136 ],\n",
       "       [2175.0913],\n",
       "       [2171.6072],\n",
       "       [2167.8965],\n",
       "       [2164.1775],\n",
       "       [2160.6182],\n",
       "       [2157.2556],\n",
       "       [2154.0996],\n",
       "       [2151.1702],\n",
       "       [2148.6018],\n",
       "       [2146.5964],\n",
       "       [2145.256 ],\n",
       "       [2144.7578],\n",
       "       [2145.2222],\n",
       "       [2146.7178],\n",
       "       [2149.061 ],\n",
       "       [2152.1362],\n",
       "       [2155.7852],\n",
       "       [2159.8716],\n",
       "       [2164.2725],\n",
       "       [2168.8542],\n",
       "       [2173.5684],\n",
       "       [2178.3892],\n",
       "       [2183.3533],\n",
       "       [2188.2986],\n",
       "       [2193.063 ],\n",
       "       [2197.5957],\n",
       "       [2201.8506],\n",
       "       [2206.2002],\n",
       "       [2210.6619],\n",
       "       [2215.2534],\n",
       "       [2219.9766],\n",
       "       [2224.8625],\n",
       "       [2229.692 ],\n",
       "       [2234.2886],\n",
       "       [2238.713 ],\n",
       "       [2242.8726],\n",
       "       [2246.703 ],\n",
       "       [2250.2725],\n",
       "       [2253.5906],\n",
       "       [2256.6912],\n",
       "       [2259.6753],\n",
       "       [2262.5571],\n",
       "       [2265.7722],\n",
       "       [2269.534 ],\n",
       "       [2273.6738],\n",
       "       [2278.4429],\n",
       "       [2283.895 ]], dtype=float32)"
      ]
     },
     "execution_count": 120,
     "metadata": {},
     "output_type": "execute_result"
    }
   ],
   "source": [
    "test_predict"
   ]
  },
  {
   "cell_type": "code",
   "execution_count": 117,
   "id": "0b39de45",
   "metadata": {},
   "outputs": [
    {
     "data": {
      "text/plain": [
       "((688, 1), (611, 1))"
      ]
     },
     "execution_count": 117,
     "metadata": {},
     "output_type": "execute_result"
    }
   ],
   "source": [
    "train_predict.shape,test_predict.shape\n",
    "result = np.concatenate((train_predict, test_predict), axis=0)\n",
    "result.shape,train_predict.shape"
   ]
  },
  {
   "cell_type": "code",
   "execution_count": 97,
   "id": "2b3553fa",
   "metadata": {},
   "outputs": [
    {
     "data": {
      "text/plain": [
       "1610.970422069533"
      ]
     },
     "execution_count": 97,
     "metadata": {},
     "output_type": "execute_result"
    }
   ],
   "source": [
    "### Calculate RMSE performance metrics\n",
    "import math\n",
    "from sklearn.metrics import mean_squared_error\n",
    "math.sqrt(mean_squared_error(y_train,train_predict))"
   ]
  },
  {
   "cell_type": "code",
   "execution_count": 98,
   "id": "cb8d18fc",
   "metadata": {},
   "outputs": [
    {
     "data": {
      "text/plain": [
       "2178.715635093586"
      ]
     },
     "execution_count": 98,
     "metadata": {},
     "output_type": "execute_result"
    }
   ],
   "source": [
    "### Test Data RMSE\n",
    "math.sqrt(mean_squared_error(ytest,test_predict))"
   ]
  },
  {
   "cell_type": "code",
   "execution_count": 119,
   "id": "8cbbef6e",
   "metadata": {},
   "outputs": [
    {
     "data": {
      "image/png": "[encoded data removed]",
      "text/plain": [
       "<Figure size 640x480 with 1 Axes>"
      ]
     },
     "metadata": {},
     "output_type": "display_data"
    }
   ],
   "source": [
    "### Plotting \n",
    "# shift train predictions for plotting\n",
    "look_back=100\n",
    "#trainPredictPlot = numpy.empty_like(df1)\n",
    "#trainPredictPlot[:, :] = np.nan\n",
    "#trainPredictPlot[look_back:len(train_predict)+look_back, :] = train_predict\n",
    "# shift test predictions for plotting\n",
    "#testPredictPlot = numpy.empty_like(df1)\n",
    "#testPredictPlot[:, :] = numpy.nan\n",
    "#testPredictPlot[len(train_predict)+(look_back*2)+1:len(df1)-1, :] = test_predict\n",
    "# plot baseline and predictions\n",
    "plt.plot(scaler.inverse_transform(new_df))\n",
    "plt.plot(result)\n",
    "#plt.plot(train_predict)\n",
    "plt.show()"
   ]
  },
  {
   "cell_type": "code",
   "execution_count": 110,
   "id": "a10056bf",
   "metadata": {},
   "outputs": [
    {
     "data": {
      "text/plain": [
       "((890, 1), (890, 1), (890, 1))"
      ]
     },
     "execution_count": 110,
     "metadata": {},
     "output_type": "execute_result"
    }
   ],
   "source": [
    "new_df.shape,trainPredictPlot.shape,testPredictPlot.shape"
   ]
  }
 ],
 "metadata": {
  "kernelspec": {
   "display_name": "Python 3 (ipykernel)",
   "language": "python",
   "name": "python3"
  },
  "language_info": {
   "codemirror_mode": {
    "name": "ipython",
    "version": 3
   },
   "file_extension": ".py",
   "mimetype": "text/x-python",
   "name": "python",
   "nbconvert_exporter": "python",
   "pygments_lexer": "ipython3",
   "version": "3.9.16"
  }
 },
 "nbformat": 4,
 "nbformat_minor": 5
}
