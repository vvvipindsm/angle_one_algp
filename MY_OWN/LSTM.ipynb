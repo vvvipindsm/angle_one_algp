{
 "cells": [
  {
   "cell_type": "code",
   "execution_count": 1,
   "id": "6f2a58d6",
   "metadata": {},
   "outputs": [],
   "source": [
    "import pandas as pd\n",
    "import numpy as np\n",
    "import pandas as pd\n",
    "\n",
    "import xgboost\n",
    "from sklearn.model_selection import train_test_split\n",
    "from sklearn.model_selection import GridSearchCV\n",
    "from sklearn.metrics import roc_auc_score\n",
    "\n",
    "import matplotlib.pyplot as plt"
   ]
  },
  {
   "cell_type": "code",
   "execution_count": 2,
   "id": "f8bbefe3",
   "metadata": {},
   "outputs": [],
   "source": [
    "df = pd.read_csv(\"./stock_historical_data/{}.csv\".format(\"LT.NS\"))\n",
    "df.set_index(\"Date\", inplace=True)\n",
    "df[\"date\"] = df.index"
   ]
  },
  {
   "cell_type": "code",
   "execution_count": 3,
   "id": "67fb1ed0",
   "metadata": {},
   "outputs": [
    {
     "data": {
      "text/html": [
       "<div>\n",
       "<style scoped>\n",
       "    .dataframe tbody tr th:only-of-type {\n",
       "        vertical-align: middle;\n",
       "    }\n",
       "\n",
       "    .dataframe tbody tr th {\n",
       "        vertical-align: top;\n",
       "    }\n",
       "\n",
       "    .dataframe thead th {\n",
       "        text-align: right;\n",
       "    }\n",
       "</style>\n",
       "<table border=\"1\" class=\"dataframe\">\n",
       "  <thead>\n",
       "    <tr style=\"text-align: right;\">\n",
       "      <th></th>\n",
       "      <th>Open</th>\n",
       "      <th>High</th>\n",
       "      <th>Low</th>\n",
       "      <th>Close</th>\n",
       "      <th>Volume</th>\n",
       "      <th>date</th>\n",
       "    </tr>\n",
       "    <tr>\n",
       "      <th>Date</th>\n",
       "      <th></th>\n",
       "      <th></th>\n",
       "      <th></th>\n",
       "      <th></th>\n",
       "      <th></th>\n",
       "      <th></th>\n",
       "    </tr>\n",
       "  </thead>\n",
       "  <tbody>\n",
       "    <tr>\n",
       "      <th>2005-01-03</th>\n",
       "      <td>87.692411</td>\n",
       "      <td>87.692411</td>\n",
       "      <td>84.764939</td>\n",
       "      <td>85.743690</td>\n",
       "      <td>3338964</td>\n",
       "      <td>2005-01-03</td>\n",
       "    </tr>\n",
       "    <tr>\n",
       "      <th>2005-01-04</th>\n",
       "      <td>86.024586</td>\n",
       "      <td>86.814608</td>\n",
       "      <td>85.322347</td>\n",
       "      <td>85.515465</td>\n",
       "      <td>1394550</td>\n",
       "      <td>2005-01-04</td>\n",
       "    </tr>\n",
       "    <tr>\n",
       "      <th>2005-01-05</th>\n",
       "      <td>85.585686</td>\n",
       "      <td>87.253506</td>\n",
       "      <td>83.110280</td>\n",
       "      <td>84.203148</td>\n",
       "      <td>3575070</td>\n",
       "      <td>2005-01-05</td>\n",
       "    </tr>\n",
       "    <tr>\n",
       "      <th>2005-01-06</th>\n",
       "      <td>84.260203</td>\n",
       "      <td>84.268978</td>\n",
       "      <td>82.206147</td>\n",
       "      <td>82.508987</td>\n",
       "      <td>1900755</td>\n",
       "      <td>2005-01-06</td>\n",
       "    </tr>\n",
       "    <tr>\n",
       "      <th>2005-01-07</th>\n",
       "      <td>82.601173</td>\n",
       "      <td>86.024597</td>\n",
       "      <td>82.601173</td>\n",
       "      <td>85.541809</td>\n",
       "      <td>2619549</td>\n",
       "      <td>2005-01-07</td>\n",
       "    </tr>\n",
       "    <tr>\n",
       "      <th>...</th>\n",
       "      <td>...</td>\n",
       "      <td>...</td>\n",
       "      <td>...</td>\n",
       "      <td>...</td>\n",
       "      <td>...</td>\n",
       "      <td>...</td>\n",
       "    </tr>\n",
       "    <tr>\n",
       "      <th>2023-07-12</th>\n",
       "      <td>2480.300049</td>\n",
       "      <td>2485.949951</td>\n",
       "      <td>2451.100098</td>\n",
       "      <td>2472.500000</td>\n",
       "      <td>1081811</td>\n",
       "      <td>2023-07-12</td>\n",
       "    </tr>\n",
       "    <tr>\n",
       "      <th>2023-07-12</th>\n",
       "      <td>2480.300049</td>\n",
       "      <td>2485.949951</td>\n",
       "      <td>2451.100098</td>\n",
       "      <td>2454.649902</td>\n",
       "      <td>1320558</td>\n",
       "      <td>2023-07-12</td>\n",
       "    </tr>\n",
       "    <tr>\n",
       "      <th>2023-07-12</th>\n",
       "      <td>2480.300049</td>\n",
       "      <td>2485.949951</td>\n",
       "      <td>2451.100098</td>\n",
       "      <td>2455.649902</td>\n",
       "      <td>1439041</td>\n",
       "      <td>2023-07-12</td>\n",
       "    </tr>\n",
       "    <tr>\n",
       "      <th>2023-07-13</th>\n",
       "      <td>2466.000000</td>\n",
       "      <td>2484.899902</td>\n",
       "      <td>2446.250000</td>\n",
       "      <td>2450.149902</td>\n",
       "      <td>1141414</td>\n",
       "      <td>2023-07-13</td>\n",
       "    </tr>\n",
       "    <tr>\n",
       "      <th>2023-07-14</th>\n",
       "      <td>2450.250000</td>\n",
       "      <td>2477.050049</td>\n",
       "      <td>2448.649902</td>\n",
       "      <td>2472.250000</td>\n",
       "      <td>845437</td>\n",
       "      <td>2023-07-14</td>\n",
       "    </tr>\n",
       "  </tbody>\n",
       "</table>\n",
       "<p>4577 rows × 6 columns</p>\n",
       "</div>"
      ],
      "text/plain": [
       "                   Open         High          Low        Close   Volume  \\\n",
       "Date                                                                      \n",
       "2005-01-03    87.692411    87.692411    84.764939    85.743690  3338964   \n",
       "2005-01-04    86.024586    86.814608    85.322347    85.515465  1394550   \n",
       "2005-01-05    85.585686    87.253506    83.110280    84.203148  3575070   \n",
       "2005-01-06    84.260203    84.268978    82.206147    82.508987  1900755   \n",
       "2005-01-07    82.601173    86.024597    82.601173    85.541809  2619549   \n",
       "...                 ...          ...          ...          ...      ...   \n",
       "2023-07-12  2480.300049  2485.949951  2451.100098  2472.500000  1081811   \n",
       "2023-07-12  2480.300049  2485.949951  2451.100098  2454.649902  1320558   \n",
       "2023-07-12  2480.300049  2485.949951  2451.100098  2455.649902  1439041   \n",
       "2023-07-13  2466.000000  2484.899902  2446.250000  2450.149902  1141414   \n",
       "2023-07-14  2450.250000  2477.050049  2448.649902  2472.250000   845437   \n",
       "\n",
       "                  date  \n",
       "Date                    \n",
       "2005-01-03  2005-01-03  \n",
       "2005-01-04  2005-01-04  \n",
       "2005-01-05  2005-01-05  \n",
       "2005-01-06  2005-01-06  \n",
       "2005-01-07  2005-01-07  \n",
       "...                ...  \n",
       "2023-07-12  2023-07-12  \n",
       "2023-07-12  2023-07-12  \n",
       "2023-07-12  2023-07-12  \n",
       "2023-07-13  2023-07-13  \n",
       "2023-07-14  2023-07-14  \n",
       "\n",
       "[4577 rows x 6 columns]"
      ]
     },
     "execution_count": 3,
     "metadata": {},
     "output_type": "execute_result"
    }
   ],
   "source": [
    "df"
   ]
  },
  {
   "cell_type": "code",
   "execution_count": 3,
   "id": "ca283920",
   "metadata": {},
   "outputs": [],
   "source": [
    "target = []\n",
    "for i in range(0,len(df)):\n",
    "    if df.iloc[i].Open > df.iloc[i].Close:\n",
    "        target.append(0)\n",
    "    else:\n",
    "        target.append(1)\n",
    "df[\"target\"] = target"
   ]
  },
  {
   "cell_type": "code",
   "execution_count": 4,
   "id": "be905e05",
   "metadata": {},
   "outputs": [
    {
     "data": {
      "text/plain": [
       "((3661, 6), (916, 6), (3661,), (916,))"
      ]
     },
     "execution_count": 4,
     "metadata": {},
     "output_type": "execute_result"
    }
   ],
   "source": [
    "var_colums = [c for c in df.columns if c not in ['date','']]\n",
    "X = df.loc[:, var_colums]\n",
    "y = df.loc[:, 'target']\n",
    "\n",
    "X_train, X_valid, y_train, y_valid = train_test_split(X, y, test_size=0.2)\n",
    "X_train.shape, X_valid.shape, y_train.shape, y_valid.shape"
   ]
  },
  {
   "cell_type": "code",
   "execution_count": 5,
   "id": "9b101cf2",
   "metadata": {},
   "outputs": [],
   "source": [
    "df1 = pd.DataFrame(df.Close)\n",
    "df1.reset_index(inplace=True)"
   ]
  },
  {
   "cell_type": "code",
   "execution_count": 6,
   "id": "3f87082d",
   "metadata": {},
   "outputs": [
    {
     "data": {
      "text/html": [
       "<div>\n",
       "<style scoped>\n",
       "    .dataframe tbody tr th:only-of-type {\n",
       "        vertical-align: middle;\n",
       "    }\n",
       "\n",
       "    .dataframe tbody tr th {\n",
       "        vertical-align: top;\n",
       "    }\n",
       "\n",
       "    .dataframe thead th {\n",
       "        text-align: right;\n",
       "    }\n",
       "</style>\n",
       "<table border=\"1\" class=\"dataframe\">\n",
       "  <thead>\n",
       "    <tr style=\"text-align: right;\">\n",
       "      <th></th>\n",
       "      <th>Close</th>\n",
       "    </tr>\n",
       "  </thead>\n",
       "  <tbody>\n",
       "    <tr>\n",
       "      <th>0</th>\n",
       "      <td>85.743690</td>\n",
       "    </tr>\n",
       "    <tr>\n",
       "      <th>1</th>\n",
       "      <td>85.515465</td>\n",
       "    </tr>\n",
       "    <tr>\n",
       "      <th>2</th>\n",
       "      <td>84.203148</td>\n",
       "    </tr>\n",
       "    <tr>\n",
       "      <th>3</th>\n",
       "      <td>82.508987</td>\n",
       "    </tr>\n",
       "    <tr>\n",
       "      <th>4</th>\n",
       "      <td>85.541809</td>\n",
       "    </tr>\n",
       "    <tr>\n",
       "      <th>...</th>\n",
       "      <td>...</td>\n",
       "    </tr>\n",
       "    <tr>\n",
       "      <th>4572</th>\n",
       "      <td>2472.500000</td>\n",
       "    </tr>\n",
       "    <tr>\n",
       "      <th>4573</th>\n",
       "      <td>2454.649902</td>\n",
       "    </tr>\n",
       "    <tr>\n",
       "      <th>4574</th>\n",
       "      <td>2455.649902</td>\n",
       "    </tr>\n",
       "    <tr>\n",
       "      <th>4575</th>\n",
       "      <td>2450.149902</td>\n",
       "    </tr>\n",
       "    <tr>\n",
       "      <th>4576</th>\n",
       "      <td>2472.250000</td>\n",
       "    </tr>\n",
       "  </tbody>\n",
       "</table>\n",
       "<p>4577 rows × 1 columns</p>\n",
       "</div>"
      ],
      "text/plain": [
       "            Close\n",
       "0       85.743690\n",
       "1       85.515465\n",
       "2       84.203148\n",
       "3       82.508987\n",
       "4       85.541809\n",
       "...           ...\n",
       "4572  2472.500000\n",
       "4573  2454.649902\n",
       "4574  2455.649902\n",
       "4575  2450.149902\n",
       "4576  2472.250000\n",
       "\n",
       "[4577 rows x 1 columns]"
      ]
     },
     "execution_count": 6,
     "metadata": {},
     "output_type": "execute_result"
    }
   ],
   "source": [
    "df1 = df1.drop(\"Date\",axis=1)\n",
    "df1"
   ]
  },
  {
   "cell_type": "code",
   "execution_count": 7,
   "id": "4017c991",
   "metadata": {},
   "outputs": [],
   "source": [
    "from sklearn.preprocessing import MinMaxScaler\n",
    "scaler=MinMaxScaler(feature_range=(0,1))\n",
    "df1=scaler.fit_transform(np.array(df1).reshape(-1,1))"
   ]
  },
  {
   "cell_type": "code",
   "execution_count": 8,
   "id": "bd1f850c",
   "metadata": {},
   "outputs": [],
   "source": [
    "##splitting dataset into train and test split\n",
    "training_size=int(len(df1)*0.8)\n",
    "test_size=len(df1)-training_size\n",
    "train_data,test_data=df1[0:training_size,:],df1[training_size:len(df1),:1]"
   ]
  },
  {
   "cell_type": "code",
   "execution_count": 9,
   "id": "86e2d900",
   "metadata": {},
   "outputs": [
    {
     "data": {
      "text/plain": [
       "((3661, 1), (916, 1))"
      ]
     },
     "execution_count": 9,
     "metadata": {},
     "output_type": "execute_result"
    }
   ],
   "source": [
    "train_data.shape , test_data.shape"
   ]
  },
  {
   "cell_type": "code",
   "execution_count": 10,
   "id": "a0975fb4",
   "metadata": {},
   "outputs": [],
   "source": [
    "import numpy\n",
    "# convert an array of values into a dataset matrix\n",
    "def create_dataset(dataset, time_step=1):\n",
    "    dataX, dataY = [], []\n",
    "    for i in range(len(dataset)-time_step-1):\n",
    "        a = dataset[i:(i+time_step), 0]   ###i=0, 0,1,2,3-----99   100 \n",
    "        dataX.append(a)\n",
    "        dataY.append(dataset[i + time_step, 0])\n",
    "    return numpy.array(dataX), numpy.array(dataY)"
   ]
  },
  {
   "cell_type": "code",
   "execution_count": 11,
   "id": "141bb98e",
   "metadata": {},
   "outputs": [],
   "source": [
    "# reshape into X=t,t+1,t+2,t+3 and Y=t+4\n",
    "time_step = 100\n",
    "X_train, y_train = create_dataset(train_data, time_step)\n",
    "X_test, ytest = create_dataset(test_data, time_step)"
   ]
  },
  {
   "cell_type": "code",
   "execution_count": 12,
   "id": "3eca9617",
   "metadata": {},
   "outputs": [
    {
     "name": "stdout",
     "output_type": "stream",
     "text": [
      "(3560, 100)\n",
      "(3560,)\n"
     ]
    },
    {
     "data": {
      "text/plain": [
       "(None, None)"
      ]
     },
     "execution_count": 12,
     "metadata": {},
     "output_type": "execute_result"
    }
   ],
   "source": [
    "print(X_train.shape), print(y_train.shape)\n"
   ]
  },
  {
   "cell_type": "code",
   "execution_count": 13,
   "id": "d8445b5d",
   "metadata": {},
   "outputs": [],
   "source": [
    "# reshape input to be [samples, time steps, features] which is required for LSTM\n",
    "X_train =X_train.reshape(X_train.shape[0],X_train.shape[1] , 1)\n",
    "X_test = X_test.reshape(X_test.shape[0],X_test.shape[1] , 1)"
   ]
  },
  {
   "cell_type": "code",
   "execution_count": 14,
   "id": "8cff5254",
   "metadata": {},
   "outputs": [
    {
     "name": "stderr",
     "output_type": "stream",
     "text": [
      "2023-07-18 14:38:55.621349: I tensorflow/core/platform/cpu_feature_guard.cc:182] This TensorFlow binary is optimized to use available CPU instructions in performance-critical operations.\n",
      "To enable the following instructions: AVX2 FMA, in other operations, rebuild TensorFlow with the appropriate compiler flags.\n"
     ]
    }
   ],
   "source": [
    "### Create the Stacked LSTM model\n",
    "from tensorflow.keras.models import Sequential\n",
    "from tensorflow.keras.layers import Dense\n",
    "from tensorflow.keras.layers import LSTM"
   ]
  },
  {
   "cell_type": "code",
   "execution_count": 15,
   "id": "a7c8be1d",
   "metadata": {},
   "outputs": [],
   "source": [
    "model=Sequential()\n",
    "model.add(LSTM(50,return_sequences=True,input_shape=(100,1)))\n",
    "model.add(LSTM(50,return_sequences=True))\n",
    "model.add(LSTM(50))\n",
    "model.add(Dense(1))\n",
    "model.compile(loss='mean_squared_error',optimizer='adam')"
   ]
  },
  {
   "cell_type": "code",
   "execution_count": 16,
   "id": "bd1269c6",
   "metadata": {},
   "outputs": [
    {
     "name": "stdout",
     "output_type": "stream",
     "text": [
      "Model: \"sequential\"\n",
      "_________________________________________________________________\n",
      " Layer (type)                Output Shape              Param #   \n",
      "=================================================================\n",
      " lstm (LSTM)                 (None, 100, 50)           10400     \n",
      "                                                                 \n",
      " lstm_1 (LSTM)               (None, 100, 50)           20200     \n",
      "                                                                 \n",
      " lstm_2 (LSTM)               (None, 50)                20200     \n",
      "                                                                 \n",
      " dense (Dense)               (None, 1)                 51        \n",
      "                                                                 \n",
      "=================================================================\n",
      "Total params: 50851 (198.64 KB)\n",
      "Trainable params: 50851 (198.64 KB)\n",
      "Non-trainable params: 0 (0.00 Byte)\n",
      "_________________________________________________________________\n"
     ]
    }
   ],
   "source": [
    "model.summary()"
   ]
  },
  {
   "cell_type": "code",
   "execution_count": 17,
   "id": "4ede7334",
   "metadata": {},
   "outputs": [
    {
     "name": "stdout",
     "output_type": "stream",
     "text": [
      "Epoch 1/40\n",
      "56/56 [==============================] - 17s 193ms/step - loss: 0.0082 - val_loss: 0.0045\n",
      "Epoch 2/40\n",
      "56/56 [==============================] - 8s 150ms/step - loss: 3.5067e-04 - val_loss: 8.6392e-04\n",
      "Epoch 3/40\n",
      "56/56 [==============================] - 9s 153ms/step - loss: 2.9290e-04 - val_loss: 8.1675e-04\n",
      "Epoch 4/40\n",
      "56/56 [==============================] - 9s 160ms/step - loss: 2.7896e-04 - val_loss: 0.0011\n",
      "Epoch 5/40\n",
      "56/56 [==============================] - 9s 159ms/step - loss: 2.5769e-04 - val_loss: 8.3846e-04\n",
      "Epoch 6/40\n",
      "56/56 [==============================] - 9s 156ms/step - loss: 2.4750e-04 - val_loss: 8.8010e-04\n",
      "Epoch 7/40\n",
      "56/56 [==============================] - 9s 163ms/step - loss: 2.3257e-04 - val_loss: 7.7478e-04\n",
      "Epoch 8/40\n",
      "56/56 [==============================] - 9s 168ms/step - loss: 2.2843e-04 - val_loss: 6.2056e-04\n",
      "Epoch 9/40\n",
      "56/56 [==============================] - 9s 161ms/step - loss: 2.1564e-04 - val_loss: 6.5917e-04\n",
      "Epoch 10/40\n",
      "56/56 [==============================] - 9s 164ms/step - loss: 2.1064e-04 - val_loss: 6.9898e-04\n",
      "Epoch 11/40\n",
      "56/56 [==============================] - 9s 160ms/step - loss: 1.9779e-04 - val_loss: 6.2150e-04\n",
      "Epoch 12/40\n",
      "56/56 [==============================] - 9s 160ms/step - loss: 1.9007e-04 - val_loss: 7.1615e-04\n",
      "Epoch 13/40\n",
      "56/56 [==============================] - 9s 156ms/step - loss: 1.8777e-04 - val_loss: 6.1644e-04\n",
      "Epoch 14/40\n",
      "56/56 [==============================] - 10s 170ms/step - loss: 1.8490e-04 - val_loss: 8.6460e-04\n",
      "Epoch 15/40\n",
      "56/56 [==============================] - 9s 165ms/step - loss: 1.6962e-04 - val_loss: 6.3968e-04\n",
      "Epoch 16/40\n",
      "56/56 [==============================] - 10s 175ms/step - loss: 1.7357e-04 - val_loss: 4.4114e-04\n",
      "Epoch 17/40\n",
      "56/56 [==============================] - 9s 162ms/step - loss: 1.5908e-04 - val_loss: 6.8235e-04\n",
      "Epoch 18/40\n",
      "56/56 [==============================] - 9s 167ms/step - loss: 1.4835e-04 - val_loss: 4.7624e-04\n",
      "Epoch 19/40\n",
      "56/56 [==============================] - 9s 168ms/step - loss: 1.4231e-04 - val_loss: 4.1507e-04\n",
      "Epoch 20/40\n",
      "56/56 [==============================] - 9s 156ms/step - loss: 1.5898e-04 - val_loss: 5.0913e-04\n",
      "Epoch 21/40\n",
      "56/56 [==============================] - 9s 161ms/step - loss: 1.4709e-04 - val_loss: 3.4703e-04\n",
      "Epoch 22/40\n",
      "56/56 [==============================] - 9s 158ms/step - loss: 1.6149e-04 - val_loss: 3.2873e-04\n",
      "Epoch 23/40\n",
      "56/56 [==============================] - 9s 158ms/step - loss: 1.2194e-04 - val_loss: 4.1495e-04\n",
      "Epoch 24/40\n",
      "56/56 [==============================] - 9s 160ms/step - loss: 1.1832e-04 - val_loss: 2.9558e-04\n",
      "Epoch 25/40\n",
      "56/56 [==============================] - 9s 167ms/step - loss: 1.1737e-04 - val_loss: 3.7325e-04\n",
      "Epoch 26/40\n",
      "56/56 [==============================] - 10s 171ms/step - loss: 1.1115e-04 - val_loss: 2.9087e-04\n",
      "Epoch 27/40\n",
      "56/56 [==============================] - 9s 162ms/step - loss: 1.1541e-04 - val_loss: 5.8196e-04\n",
      "Epoch 28/40\n",
      "56/56 [==============================] - 10s 170ms/step - loss: 1.0788e-04 - val_loss: 2.3755e-04\n",
      "Epoch 29/40\n",
      "56/56 [==============================] - 9s 158ms/step - loss: 9.6471e-05 - val_loss: 2.5393e-04\n",
      "Epoch 30/40\n",
      "56/56 [==============================] - 10s 170ms/step - loss: 1.0046e-04 - val_loss: 5.5421e-04\n",
      "Epoch 31/40\n",
      "56/56 [==============================] - 9s 165ms/step - loss: 1.1498e-04 - val_loss: 3.1661e-04\n",
      "Epoch 32/40\n",
      "56/56 [==============================] - 9s 158ms/step - loss: 9.1144e-05 - val_loss: 4.8951e-04\n",
      "Epoch 33/40\n",
      "56/56 [==============================] - 9s 168ms/step - loss: 8.6065e-05 - val_loss: 2.0928e-04\n",
      "Epoch 34/40\n",
      "56/56 [==============================] - 9s 159ms/step - loss: 7.8481e-05 - val_loss: 1.8798e-04\n",
      "Epoch 35/40\n",
      "56/56 [==============================] - 9s 164ms/step - loss: 7.3918e-05 - val_loss: 1.9246e-04\n",
      "Epoch 36/40\n",
      "56/56 [==============================] - 9s 162ms/step - loss: 7.7816e-05 - val_loss: 2.3496e-04\n",
      "Epoch 37/40\n",
      "56/56 [==============================] - 9s 168ms/step - loss: 7.2204e-05 - val_loss: 1.8785e-04\n",
      "Epoch 38/40\n",
      "56/56 [==============================] - 9s 160ms/step - loss: 7.6234e-05 - val_loss: 1.6602e-04\n",
      "Epoch 39/40\n",
      "56/56 [==============================] - 9s 155ms/step - loss: 6.6288e-05 - val_loss: 2.8837e-04\n",
      "Epoch 40/40\n",
      "56/56 [==============================] - 9s 156ms/step - loss: 8.3126e-05 - val_loss: 2.4966e-04\n"
     ]
    },
    {
     "data": {
      "text/plain": [
       "<keras.src.callbacks.History at 0x7fa4ed24c4f0>"
      ]
     },
     "execution_count": 17,
     "metadata": {},
     "output_type": "execute_result"
    }
   ],
   "source": [
    "model.fit(X_train,y_train,validation_data=(X_test,ytest),epochs=40,batch_size=64,verbose=1)\n"
   ]
  },
  {
   "cell_type": "code",
   "execution_count": 18,
   "id": "9836d7ec",
   "metadata": {},
   "outputs": [],
   "source": [
    "import tensorflow as tf\n"
   ]
  },
  {
   "cell_type": "code",
   "execution_count": 19,
   "id": "e7c99cc3",
   "metadata": {},
   "outputs": [
    {
     "name": "stdout",
     "output_type": "stream",
     "text": [
      "112/112 [==============================] - 5s 36ms/step\n",
      "26/26 [==============================] - 1s 36ms/step\n"
     ]
    }
   ],
   "source": [
    "### Lets Do the prediction and check performance metrics\n",
    "train_predict=model.predict(X_train)\n",
    "test_predict=model.predict(X_test)"
   ]
  },
  {
   "cell_type": "code",
   "execution_count": 20,
   "id": "1999a35c",
   "metadata": {},
   "outputs": [],
   "source": [
    "##Transformback to original form\n",
    "train_predict=scaler.inverse_transform(train_predict)\n",
    "test_predict=scaler.inverse_transform(test_predict)"
   ]
  },
  {
   "cell_type": "code",
   "execution_count": 21,
   "id": "2b3553fa",
   "metadata": {},
   "outputs": [
    {
     "data": {
      "text/plain": [
       "770.4044784355085"
      ]
     },
     "execution_count": 21,
     "metadata": {},
     "output_type": "execute_result"
    }
   ],
   "source": [
    "### Calculate RMSE performance metrics\n",
    "import math\n",
    "from sklearn.metrics import mean_squared_error\n",
    "math.sqrt(mean_squared_error(y_train,train_predict))"
   ]
  },
  {
   "cell_type": "code",
   "execution_count": 22,
   "id": "cb8d18fc",
   "metadata": {},
   "outputs": [
    {
     "data": {
      "text/plain": [
       "1693.3970126138113"
      ]
     },
     "execution_count": 22,
     "metadata": {},
     "output_type": "execute_result"
    }
   ],
   "source": [
    "### Test Data RMSE\n",
    "math.sqrt(mean_squared_error(ytest,test_predict))"
   ]
  },
  {
   "cell_type": "code",
   "execution_count": 23,
   "id": "8cbbef6e",
   "metadata": {},
   "outputs": [
    {
     "data": {
      "image/png": "[encoded data removed]",
      "text/plain": [
       "<Figure size 640x480 with 1 Axes>"
      ]
     },
     "metadata": {},
     "output_type": "display_data"
    }
   ],
   "source": [
    "### Plotting \n",
    "# shift train predictions for plotting\n",
    "look_back=100\n",
    "trainPredictPlot = numpy.empty_like(df1)\n",
    "trainPredictPlot[:, :] = np.nan\n",
    "trainPredictPlot[look_back:len(train_predict)+look_back, :] = train_predict\n",
    "# shift test predictions for plotting\n",
    "testPredictPlot = numpy.empty_like(df1)\n",
    "testPredictPlot[:, :] = numpy.nan\n",
    "testPredictPlot[len(train_predict)+(look_back*2)+1:len(df1)-1, :] = test_predict\n",
    "# plot baseline and predictions\n",
    "plt.plot(scaler.inverse_transform(df1))\n",
    "plt.plot(trainPredictPlot)\n",
    "plt.plot(testPredictPlot)\n",
    "plt.show()"
   ]
  }
 ],
 "metadata": {
  "kernelspec": {
   "display_name": "Python 3 (ipykernel)",
   "language": "python",
   "name": "python3"
  },
  "language_info": {
   "codemirror_mode": {
    "name": "ipython",
    "version": 3
   },
   "file_extension": ".py",
   "mimetype": "text/x-python",
   "name": "python",
   "nbconvert_exporter": "python",
   "pygments_lexer": "ipython3",
   "version": "3.9.16"
  }
 },
 "nbformat": 4,
 "nbformat_minor": 5
}
