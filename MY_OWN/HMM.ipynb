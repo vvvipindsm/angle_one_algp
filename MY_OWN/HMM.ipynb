{
 "cells": [
  {
   "cell_type": "markdown",
   "id": "65ad176b",
   "metadata": {},
   "source": [
    "### Case Study"
   ]
  },
  {
   "cell_type": "markdown",
   "id": "2a4028a5",
   "metadata": {},
   "source": [
    "Many strategies can be highly profitable depending on whether you are in an upward trending, downward trending or oscillating market. However, how can you tell what market you are in and in addition do this without an subjective bias?\n",
    "\n",
    "Hidden Markov Models allow us to determine any number of states we like, given inputs such as returns and volatility (or any inputs of your choosing), to help ascertain what state - or regime - the market is in. This is part of a type of analysis known as Regime identification."
   ]
  },
  {
   "cell_type": "markdown",
   "id": "2195863e",
   "metadata": {},
   "source": [
    "### Imports"
   ]
  },
  {
   "cell_type": "code",
   "execution_count": 3,
   "id": "a0b3e65c",
   "metadata": {},
   "outputs": [],
   "source": [
    "\n",
    "import pandas as pd\n",
    "import numpy as np\n",
    "\n",
    "from pyhhmm.gaussian import GaussianHMM\n",
    "from ta.volatility import AverageTrueRange\n",
    "\n",
    "\n",
    "import matplotlib.pyplot as plt\n",
    "import fix_yahoo_finance\n",
    "import yfinance"
   ]
  },
  {
   "cell_type": "markdown",
   "id": "bf480094",
   "metadata": {},
   "source": [
    "### Data Management"
   ]
  },
  {
   "cell_type": "code",
   "execution_count": 2,
   "id": "3bd8b57c",
   "metadata": {},
   "outputs": [
    {
     "name": "stdout",
     "output_type": "stream",
     "text": [
      "[*********************100%***********************]  1 of 1 completed\n"
     ]
    }
   ],
   "source": [
    "# Data Extraction\n",
    "start_date = \"2017-01-1\"\n",
    "end_date = \"2022-06-1\"\n",
    "symbol = \"SPY\"\n",
    "\n",
    "data = yfinance.download(tickers = \"IOC.NS\",start=\"2010-03-06\",\n",
    "                               interval = \"1d\", group_by = 'ticker', auto_adjust = True)\n",
    "\n",
    "\n",
    "\n",
    "data = data[[\"Open\", \"High\", \"Low\", \"Close\",\"Volume\"]]\n"
   ]
  },
  {
   "cell_type": "code",
   "execution_count": 5,
   "id": "3c5b9a47",
   "metadata": {},
   "outputs": [
    {
     "data": {
      "text/html": [
       "<div>\n",
       "<style scoped>\n",
       "    .dataframe tbody tr th:only-of-type {\n",
       "        vertical-align: middle;\n",
       "    }\n",
       "\n",
       "    .dataframe tbody tr th {\n",
       "        vertical-align: top;\n",
       "    }\n",
       "\n",
       "    .dataframe thead th {\n",
       "        text-align: right;\n",
       "    }\n",
       "</style>\n",
       "<table border=\"1\" class=\"dataframe\">\n",
       "  <thead>\n",
       "    <tr style=\"text-align: right;\">\n",
       "      <th></th>\n",
       "      <th>Open</th>\n",
       "      <th>High</th>\n",
       "      <th>Low</th>\n",
       "      <th>Close</th>\n",
       "      <th>Volume</th>\n",
       "      <th>Returns</th>\n",
       "      <th>Range</th>\n",
       "    </tr>\n",
       "    <tr>\n",
       "      <th>Date</th>\n",
       "      <th></th>\n",
       "      <th></th>\n",
       "      <th></th>\n",
       "      <th></th>\n",
       "      <th></th>\n",
       "      <th></th>\n",
       "      <th></th>\n",
       "    </tr>\n",
       "  </thead>\n",
       "  <tbody>\n",
       "    <tr>\n",
       "      <th>2010-03-09</th>\n",
       "      <td>27.425285</td>\n",
       "      <td>27.505267</td>\n",
       "      <td>27.029813</td>\n",
       "      <td>27.140902</td>\n",
       "      <td>2820648</td>\n",
       "      <td>-0.007313</td>\n",
       "      <td>0.017590</td>\n",
       "    </tr>\n",
       "    <tr>\n",
       "      <th>2010-03-10</th>\n",
       "      <td>26.980928</td>\n",
       "      <td>27.274201</td>\n",
       "      <td>26.887615</td>\n",
       "      <td>27.176443</td>\n",
       "      <td>2508072</td>\n",
       "      <td>0.001310</td>\n",
       "      <td>0.014378</td>\n",
       "    </tr>\n",
       "    <tr>\n",
       "      <th>2010-03-11</th>\n",
       "      <td>27.283088</td>\n",
       "      <td>27.460829</td>\n",
       "      <td>26.798747</td>\n",
       "      <td>27.043140</td>\n",
       "      <td>3387942</td>\n",
       "      <td>-0.004905</td>\n",
       "      <td>0.024706</td>\n",
       "    </tr>\n",
       "    <tr>\n",
       "      <th>2010-03-12</th>\n",
       "      <td>27.105348</td>\n",
       "      <td>27.149782</td>\n",
       "      <td>26.847624</td>\n",
       "      <td>26.994261</td>\n",
       "      <td>1900506</td>\n",
       "      <td>-0.001807</td>\n",
       "      <td>0.011255</td>\n",
       "    </tr>\n",
       "    <tr>\n",
       "      <th>2010-03-15</th>\n",
       "      <td>27.016477</td>\n",
       "      <td>27.087574</td>\n",
       "      <td>26.216647</td>\n",
       "      <td>26.425493</td>\n",
       "      <td>2753304</td>\n",
       "      <td>-0.021070</td>\n",
       "      <td>0.033220</td>\n",
       "    </tr>\n",
       "  </tbody>\n",
       "</table>\n",
       "</div>"
      ],
      "text/plain": [
       "                 Open       High        Low      Close   Volume   Returns  \\\n",
       "Date                                                                        \n",
       "2010-03-09  27.425285  27.505267  27.029813  27.140902  2820648 -0.007313   \n",
       "2010-03-10  26.980928  27.274201  26.887615  27.176443  2508072  0.001310   \n",
       "2010-03-11  27.283088  27.460829  26.798747  27.043140  3387942 -0.004905   \n",
       "2010-03-12  27.105348  27.149782  26.847624  26.994261  1900506 -0.001807   \n",
       "2010-03-15  27.016477  27.087574  26.216647  26.425493  2753304 -0.021070   \n",
       "\n",
       "               Range  \n",
       "Date                  \n",
       "2010-03-09  0.017590  \n",
       "2010-03-10  0.014378  \n",
       "2010-03-11  0.024706  \n",
       "2010-03-12  0.011255  \n",
       "2010-03-15  0.033220  "
      ]
     },
     "execution_count": 5,
     "metadata": {},
     "output_type": "execute_result"
    }
   ],
   "source": [
    "# Add Returns and Range\n",
    "df = data.copy()\n",
    "df[\"Returns\"] = (df[\"Close\"] / df[\"Close\"].shift(1)) - 1\n",
    "df[\"Range\"] = (df[\"High\"] / df[\"Low\"]) - 1\n",
    "df.dropna(inplace=True)\n",
    "df.head()"
   ]
  },
  {
   "cell_type": "code",
   "execution_count": 8,
   "id": "fab78f59",
   "metadata": {},
   "outputs": [],
   "source": [
    "atr = AverageTrueRange(high=df['High'], low=df['Low'], close=df['Close'], window=14)\n",
    "df['atr'] = atr.average_true_range()"
   ]
  },
  {
   "cell_type": "code",
   "execution_count": 10,
   "id": "257e5cd2",
   "metadata": {},
   "outputs": [
    {
     "data": {
      "text/html": [
       "<div>\n",
       "<style scoped>\n",
       "    .dataframe tbody tr th:only-of-type {\n",
       "        vertical-align: middle;\n",
       "    }\n",
       "\n",
       "    .dataframe tbody tr th {\n",
       "        vertical-align: top;\n",
       "    }\n",
       "\n",
       "    .dataframe thead th {\n",
       "        text-align: right;\n",
       "    }\n",
       "</style>\n",
       "<table border=\"1\" class=\"dataframe\">\n",
       "  <thead>\n",
       "    <tr style=\"text-align: right;\">\n",
       "      <th></th>\n",
       "      <th>Returns</th>\n",
       "      <th>atr</th>\n",
       "    </tr>\n",
       "    <tr>\n",
       "      <th>Date</th>\n",
       "      <th></th>\n",
       "      <th></th>\n",
       "    </tr>\n",
       "  </thead>\n",
       "  <tbody>\n",
       "    <tr>\n",
       "      <th>2023-07-03</th>\n",
       "      <td>0.043264</td>\n",
       "      <td>1.710533</td>\n",
       "    </tr>\n",
       "    <tr>\n",
       "      <th>2023-07-04</th>\n",
       "      <td>-0.006299</td>\n",
       "      <td>1.734781</td>\n",
       "    </tr>\n",
       "    <tr>\n",
       "      <th>2023-07-05</th>\n",
       "      <td>0.008980</td>\n",
       "      <td>1.775153</td>\n",
       "    </tr>\n",
       "    <tr>\n",
       "      <th>2023-07-06</th>\n",
       "      <td>0.032461</td>\n",
       "      <td>1.884071</td>\n",
       "    </tr>\n",
       "    <tr>\n",
       "      <th>2023-07-07</th>\n",
       "      <td>0.006085</td>\n",
       "      <td>1.938781</td>\n",
       "    </tr>\n",
       "  </tbody>\n",
       "</table>\n",
       "</div>"
      ],
      "text/plain": [
       "             Returns       atr\n",
       "Date                          \n",
       "2023-07-03  0.043264  1.710533\n",
       "2023-07-04 -0.006299  1.734781\n",
       "2023-07-05  0.008980  1.775153\n",
       "2023-07-06  0.032461  1.884071\n",
       "2023-07-07  0.006085  1.938781"
      ]
     },
     "execution_count": 10,
     "metadata": {},
     "output_type": "execute_result"
    }
   ],
   "source": [
    "# Structure Data\n",
    "X_train = df[[\"Returns\", \"atr\"]]\n",
    "X_train.tail()"
   ]
  },
  {
   "cell_type": "markdown",
   "id": "221fc31e",
   "metadata": {},
   "source": [
    "### HMM Learning"
   ]
  },
  {
   "cell_type": "code",
   "execution_count": 12,
   "id": "112f7d54",
   "metadata": {},
   "outputs": [
    {
     "name": "stderr",
     "output_type": "stream",
     "text": [
      "/Users/vipin/opt/anaconda3/envs/my_own/lib/python3.9/site-packages/sklearn/cluster/_kmeans.py:1412: FutureWarning: The default value of `n_init` will change from 10 to 'auto' in 1.4. Set the value of `n_init` explicitly to suppress the warning\n",
      "  super()._check_params_vs_input(X, default_n_init=10)\n"
     ]
    },
    {
     "name": "stdout",
     "output_type": "stream",
     "text": [
      "[2 2 2 2 2 2 2 2 2 2 2 2 2 2 2 2 2 2 2 2 2 2 2 2 2 2 2 2 2 2 2 2 2 2 2 2 2\n",
      " 2 2 2]\n",
      "Correct number of rows:  True\n"
     ]
    },
    {
     "data": {
      "image/png": "[encoded data removed]",
      "text/plain": [
       "<Figure size 1800x800 with 1 Axes>"
      ]
     },
     "metadata": {},
     "output_type": "display_data"
    }
   ],
   "source": [
    "# Train Model\n",
    "model = GaussianHMM(n_states=3, covariance_type='full', n_emissions=2)\n",
    "model.train([np.array(X_train.values)])\n",
    "# Check Results\n",
    "hidden_states = model.predict([X_train.values])[0]\n",
    "print(hidden_states[:40])\n",
    "len(hidden_states)\n",
    "model.means\n",
    "model.covars\n",
    "# Structure the prices for plotting\n",
    "i = 0\n",
    "labels_0 = []\n",
    "labels_1 = []\n",
    "labels_2 = []\n",
    "labels_3 = []\n",
    "prices = df[\"Close\"].values.astype(float)\n",
    "print(\"Correct number of rows: \", len(prices) == len(hidden_states))\n",
    "for s in hidden_states:\n",
    "    if s == 0:\n",
    "        labels_0.append(prices[i])\n",
    "        labels_1.append(float('nan'))\n",
    "        labels_2.append(float('nan'))\n",
    "        labels_3.append(float('nan'))\n",
    "    if s == 1:\n",
    "        labels_0.append(float('nan'))\n",
    "        labels_1.append(prices[i])\n",
    "        labels_2.append(float('nan'))\n",
    "        labels_3.append(float('nan'))\n",
    "    if s == 2:\n",
    "        labels_0.append(float('nan'))\n",
    "        labels_1.append(float('nan'))\n",
    "        labels_2.append(prices[i])\n",
    "        labels_3.append(float('nan'))\n",
    "    if s == 3:\n",
    "        labels_0.append(float('nan'))\n",
    "        labels_1.append(float('nan'))\n",
    "        labels_2.append(float('nan'))\n",
    "        labels_3.append(prices[i])\n",
    "    i += 1\n",
    "# Plot Chart\n",
    "fig = plt.figure(figsize= (18, 8))\n",
    "plt.plot(labels_0, color=\"green\")\n",
    "plt.plot(labels_1, color=\"red\")\n",
    "plt.plot(labels_2, color=\"orange\")\n",
    "plt.plot(labels_3, color=\"black\")\n",
    "plt.show()"
   ]
  },
  {
   "cell_type": "markdown",
   "id": "9180c723",
   "metadata": {},
   "source": [
    "### Data Visualization"
   ]
  },
  {
   "cell_type": "markdown",
   "id": "6bbeec1c",
   "metadata": {},
   "source": [
    "### Conclusion"
   ]
  },
  {
   "cell_type": "markdown",
   "id": "2c95a23f",
   "metadata": {},
   "source": [
    "Although work is still yet to be done in the following notebook, we can cleary see from the chart above, that the Hidden Markov Model has been able to identify market regimes based on returns and volatility behaviour."
   ]
  },
  {
   "cell_type": "markdown",
   "id": "4b39b06e",
   "metadata": {},
   "source": [
    "### Useful Resources"
   ]
  },
  {
   "cell_type": "markdown",
   "id": "430a1628",
   "metadata": {},
   "source": [
    "HMM Colab Version with Backtest: https://colab.research.google.com/drive/12qzR8SrhfhQDBImKYQqUKdj6n60E9jNp?usp=sharing"
   ]
  }
 ],
 "metadata": {
  "kernelspec": {
   "display_name": "Python 3 (ipykernel)",
   "language": "python",
   "name": "python3"
  },
  "language_info": {
   "codemirror_mode": {
    "name": "ipython",
    "version": 3
   },
   "file_extension": ".py",
   "mimetype": "text/x-python",
   "name": "python",
   "nbconvert_exporter": "python",
   "pygments_lexer": "ipython3",
   "version": "3.9.16"
  }
 },
 "nbformat": 4,
 "nbformat_minor": 5
}
