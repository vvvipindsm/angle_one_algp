{
 "cells": [
  {
   "cell_type": "code",
   "execution_count": 9,
   "id": "23d0372c",
   "metadata": {},
   "outputs": [],
   "source": [
    "from sklearn.model_selection import GridSearchCV\n",
    "from stratmanager import StrategyManager\n",
    "\n",
    "# Data Management\n",
    "import pandas as pd\n",
    "import numpy as np\n",
    "from ta.momentum import RSIIndicator\n",
    "\n",
    "from ta import add_all_ta_features\n",
    "import ta\n",
    "\n",
    "# Statistics\n",
    "from statsmodels.tsa.stattools import adfuller\n",
    "\n",
    "# Unsupervised Machine Learning\n",
    "from sklearn.decomposition import PCA\n",
    "\n",
    "# Supervised Machine Learning\n",
    "from sklearn.preprocessing import StandardScaler\n",
    "from sklearn.model_selection import train_test_split\n",
    "from sklearn.ensemble import RandomForestClassifier,GradientBoostingClassifier,StackingClassifier\n",
    "from sklearn.metrics import accuracy_score\n",
    "from sklearn.linear_model import LogisticRegression\n",
    "\n",
    "from sklearn.metrics import precision_score\n",
    "import pickle \n",
    "from datetime import datetime\n",
    "\n",
    "\n",
    "# Reporting\n",
    "import matplotlib.pyplot as plt\n",
    "import yfinance\n",
    "from sklearn.tree import plot_tree\n",
    "def print_results(results):\n",
    "    print('BEST PARAMS: {}\\n'.format(results.best_params_))\n",
    "    means = results.cv_results_['mean_test_score']\n",
    "    stds = results.cv_results_['std_test_score']\n",
    "    for mean, std, params in zip(means, stds, results.cv_results_['params']):\n",
    "        print('{} (+/-{}) for {}'.format(round(mean, 3), round(std * 2, 3), params))"
   ]
  },
  {
   "cell_type": "code",
   "execution_count": 8,
   "id": "69a926df",
   "metadata": {},
   "outputs": [
    {
     "name": "stdout",
     "output_type": "stream",
     "text": [
      "[*********************100%***********************]  1 of 1 completed\n"
     ]
    }
   ],
   "source": [
    "stock_name = \"TATACONSUM.NS\"\n",
    "df = yfinance.download (tickers = \"{}\".format(stock_name),start=\"2017-01-01\",\n",
    "                              interval = \"1d\", group_by = 'ticker', auto_adjust = True)\n"
   ]
  },
  {
   "cell_type": "code",
   "execution_count": 3,
   "id": "ed3013c8",
   "metadata": {},
   "outputs": [],
   "source": [
    "#df = add_all_ta_features(df, open=\"Open\", high=\"High\", low=\"Low\", close=\"Close\", volume=\"Volume\", fillna=True)"
   ]
  },
  {
   "cell_type": "code",
   "execution_count": 16,
   "id": "4a3e533a",
   "metadata": {},
   "outputs": [],
   "source": [
    "df.describe()\n",
    "df[\"Returns\"] = df[\"Close\"].pct_change()\n",
    "\n",
    "df[\"RSI\"] =  RSIIndicator(close=df[\"Close\"], window=14).rsi()\n",
    "df[\"Range\"] = df[\"High\"] / df[\"Low\"] - 1\n",
    "df[\"MA_50\"] = df[\"Close\"].rolling(window=50).mean()\n",
    "df[\"MA_20\"] = df[\"Close\"].rolling(window=20).mean()\n",
    "df[\"MA_200\"] = df[\"Close\"].rolling(window=200).mean()\n",
    "df[\"Avg_Range\"] = df[\"Range\"].rolling(window=30).mean()\n",
    "df['OBV'] = ta.volume.on_balance_volume(df['Close'], df['Volume'])\n",
    "\n",
    "\n",
    "df['date'] = pd.to_datetime(df.index)\n",
    "df.set_index(\"date\", inplace=True)\n",
    "df[\"TARGET\"] = -1\n",
    "df.loc[df[\"Close\"].shift(-1) > df[\"Close\"], \"TARGET\"] = 1\n",
    "df.dropna(inplace=True)"
   ]
  },
  {
   "cell_type": "code",
   "execution_count": 17,
   "id": "09c2e2c3",
   "metadata": {},
   "outputs": [
    {
     "name": "stdout",
     "output_type": "stream",
     "text": [
      "Non-Stationary Features Found: 8\n"
     ]
    }
   ],
   "source": [
    "# Identify non-stationary columns\n",
    "df = df.dropna()\n",
    "non_stationaries = []\n",
    "for col in df.columns:\n",
    "    if col != \"volatility_bbli\" and col !=\"Date\":\n",
    "        #print(col)\n",
    "        dftest = adfuller(df[col].values)\n",
    "        p_value = dftest[1]\n",
    "        t_test = dftest[0] < dftest[4][\"1%\"]\n",
    "        if p_value > 0.05 or not t_test:\n",
    "            non_stationaries.append(col)\n",
    "            \n",
    "print(f\"Non-Stationary Features Found: {len(non_stationaries)}\")\n",
    "\n",
    "df_stationary = df.copy()\n",
    "df_stationary[non_stationaries] = df_stationary[non_stationaries].pct_change()\n",
    "df_stationary = df_stationary.iloc[1:]\n",
    "\n",
    "\n",
    "# Find NaN Rows\n",
    "na_list = df_stationary.columns[df_stationary.isna().any().tolist()]\n",
    "df_stationary.drop(columns=na_list, inplace=True)\n",
    "\n",
    "\n",
    "# Handle inf values\n",
    "df_stationary.replace([np.inf, -np.inf], 0, inplace=True)\n",
    "df_stationary.head()\n",
    "\n",
    "df_stationary = df_stationary.reset_index()\n",
    "\n",
    "\n",
    "df_stationary = df_stationary.drop(\"date\",axis=1)\n"
   ]
  },
  {
   "cell_type": "code",
   "execution_count": 18,
   "id": "048bc0af",
   "metadata": {},
   "outputs": [],
   "source": [
    "# Split Target from Featureset\n",
    "X = df_stationary.iloc[:, :-1]\n",
    "y = df_stationary.iloc[:, -1]\n",
    "\n",
    "# Feature Scaling\n",
    "df_sc = df_stationary.copy()\n",
    "X_fs = StandardScaler().fit_transform(X)\n",
    "\n",
    "X_train, X_test, y_train, y_test = train_test_split(X_fs, y, test_size=0.2, random_state=42)"
   ]
  },
  {
   "cell_type": "code",
   "execution_count": 19,
   "id": "3f34d375",
   "metadata": {},
   "outputs": [
    {
     "data": {
      "text/plain": [
       "{'cv': None,\n",
       " 'estimators': [('rf', RandomForestClassifier()),\n",
       "  ('gb', GradientBoostingClassifier())],\n",
       " 'final_estimator': None,\n",
       " 'n_jobs': None,\n",
       " 'passthrough': False,\n",
       " 'stack_method': 'auto',\n",
       " 'verbose': 0,\n",
       " 'rf': RandomForestClassifier(),\n",
       " 'gb': GradientBoostingClassifier(),\n",
       " 'rf__bootstrap': True,\n",
       " 'rf__ccp_alpha': 0.0,\n",
       " 'rf__class_weight': None,\n",
       " 'rf__criterion': 'gini',\n",
       " 'rf__max_depth': None,\n",
       " 'rf__max_features': 'sqrt',\n",
       " 'rf__max_leaf_nodes': None,\n",
       " 'rf__max_samples': None,\n",
       " 'rf__min_impurity_decrease': 0.0,\n",
       " 'rf__min_samples_leaf': 1,\n",
       " 'rf__min_samples_split': 2,\n",
       " 'rf__min_weight_fraction_leaf': 0.0,\n",
       " 'rf__n_estimators': 100,\n",
       " 'rf__n_jobs': None,\n",
       " 'rf__oob_score': False,\n",
       " 'rf__random_state': None,\n",
       " 'rf__verbose': 0,\n",
       " 'rf__warm_start': False,\n",
       " 'gb__ccp_alpha': 0.0,\n",
       " 'gb__criterion': 'friedman_mse',\n",
       " 'gb__init': None,\n",
       " 'gb__learning_rate': 0.1,\n",
       " 'gb__loss': 'log_loss',\n",
       " 'gb__max_depth': 3,\n",
       " 'gb__max_features': None,\n",
       " 'gb__max_leaf_nodes': None,\n",
       " 'gb__min_impurity_decrease': 0.0,\n",
       " 'gb__min_samples_leaf': 1,\n",
       " 'gb__min_samples_split': 2,\n",
       " 'gb__min_weight_fraction_leaf': 0.0,\n",
       " 'gb__n_estimators': 100,\n",
       " 'gb__n_iter_no_change': None,\n",
       " 'gb__random_state': None,\n",
       " 'gb__subsample': 1.0,\n",
       " 'gb__tol': 0.0001,\n",
       " 'gb__validation_fraction': 0.1,\n",
       " 'gb__verbose': 0,\n",
       " 'gb__warm_start': False}"
      ]
     },
     "execution_count": 19,
     "metadata": {},
     "output_type": "execute_result"
    }
   ],
   "source": [
    "gb = RandomForestClassifier()\n",
    "estimators = [\n",
    "    ('rf', RandomForestClassifier()),\n",
    "    ('gb', GradientBoostingClassifier())]\n",
    "sc = StackingClassifier(estimators=estimators)\n",
    "sc.get_params()\n"
   ]
  },
  {
   "cell_type": "code",
   "execution_count": 20,
   "id": "3f7bbd25",
   "metadata": {},
   "outputs": [
    {
     "name": "stdout",
     "output_type": "stream",
     "text": [
      "BEST PARAMS: {'final_estimator': LogisticRegression(C=10), 'gb__n_estimators': 250, 'passthrough': False, 'rf__n_estimators': 50}\n",
      "\n",
      "0.517 (+/-0.033) for {'final_estimator': LogisticRegression(C=10), 'gb__n_estimators': 250, 'passthrough': True, 'rf__n_estimators': 50}\n",
      "0.53 (+/-0.019) for {'final_estimator': LogisticRegression(C=10), 'gb__n_estimators': 250, 'passthrough': False, 'rf__n_estimators': 50}\n"
     ]
    }
   ],
   "source": [
    "parameters = {\n",
    "    'gb__n_estimators': [250],\n",
    "    'rf__n_estimators': [50],\n",
    "    'final_estimator': [ LogisticRegression(C=10)],\n",
    "    'passthrough': [True, False]\n",
    "}\n",
    "cv = GridSearchCV(sc, parameters, cv=5)\n",
    "cv.fit(X_train,y_train)\n",
    "\n",
    "print_results(cv)"
   ]
  },
  {
   "cell_type": "code",
   "execution_count": 22,
   "id": "b0f54c37",
   "metadata": {},
   "outputs": [],
   "source": [
    "parameters = {\n",
    "    'n_estimators': [5, 12, 250, 500],\n",
    "    'max_depth': [1,3],\n",
    "    \"random_state\": [45]\n",
    "}\n",
    "#cv = GridSearchCV(gb, parameters, cv=5)\n",
    "#cv.fit(X_train,y_train)\n",
    "#print_results(cv)\n"
   ]
  },
  {
   "cell_type": "code",
   "execution_count": 24,
   "id": "476e404f",
   "metadata": {},
   "outputs": [
    {
     "name": "stdout",
     "output_type": "stream",
     "text": [
      "Test Accuracy: 0.506993006993007\n",
      "Test Precision: 0.5174418604651163\n",
      "out of  286  : Correct : (145, 3) Error (141, 3)\n",
      "Filter of  218 Correct : (113, 3) Error (105, 3)\n"
     ]
    }
   ],
   "source": [
    "classifier = cv.best_estimator_\n",
    "y_prob = classifier.predict_proba(X_test)\n",
    "y_pred = classifier.predict(X_test)\n",
    "\n",
    "accuracy = accuracy_score(y_test, y_pred)\n",
    "precision = precision_score(y_test, y_pred)\n",
    "print(f\"Test Accuracy: {accuracy}\")\n",
    "print(f\"Test Precision: {precision}\")\n",
    "high = []\n",
    "for prob in y_prob:\n",
    "    if(prob[0] > prob[1]):\n",
    "        high.append(prob[0])\n",
    "    else:\n",
    "        high.append(prob[1])\n",
    "analysis = pd.DataFrame({ \"predic\" : y_pred, \"y_test\":y_test,\"prob\":high})\n",
    "correct = analysis[analysis[\"predic\"] == analysis[\"y_test\"]]\n",
    "error = analysis[analysis[\"predic\"] != analysis[\"y_test\"]]\n",
    "\n",
    "print(\"out of \",analysis.shape[0],\" :\",\"Correct :\",correct.shape,\"Error\",error.shape)\n",
    "limit = 0.51\n",
    "filterd_full = analysis[analysis[\"prob\"] > limit ]\n",
    "\n",
    "correct_filter = filterd_full[filterd_full[\"predic\"] == filterd_full[\"y_test\"]]\n",
    "error_filter = filterd_full[filterd_full[\"predic\"] != filterd_full[\"y_test\"]]\n",
    "\n",
    "print(\"Filter of \",filterd_full.shape[0],\"Correct :\",correct_filter.shape,\"Error\",error_filter.shape)"
   ]
  },
  {
   "cell_type": "code",
   "execution_count": 11,
   "id": "a9d60b91",
   "metadata": {},
   "outputs": [
    {
     "ename": "AttributeError",
     "evalue": "'StackingClassifier' object has no attribute 'feature_importances_'",
     "output_type": "error",
     "traceback": [
      "\u001b[0;31m---------------------------------------------------------------------------\u001b[0m",
      "\u001b[0;31mAttributeError\u001b[0m                            Traceback (most recent call last)",
      "Cell \u001b[0;32mIn[11], line 4\u001b[0m\n\u001b[1;32m      2\u001b[0m fig \u001b[38;5;241m=\u001b[39m plt\u001b[38;5;241m.\u001b[39mfigure(figsize\u001b[38;5;241m=\u001b[39m(\u001b[38;5;241m22\u001b[39m, \u001b[38;5;241m5\u001b[39m))\n\u001b[1;32m      3\u001b[0m importance_labels \u001b[38;5;241m=\u001b[39m X\u001b[38;5;241m.\u001b[39mcolumns\n\u001b[0;32m----> 4\u001b[0m importance_features \u001b[38;5;241m=\u001b[39m \u001b[43mclassifier\u001b[49m\u001b[38;5;241;43m.\u001b[39;49m\u001b[43mfeature_importances_\u001b[49m\n\u001b[1;32m      5\u001b[0m plt\u001b[38;5;241m.\u001b[39mbar(importance_labels, importance_features)\n\u001b[1;32m      6\u001b[0m plt\u001b[38;5;241m.\u001b[39mshow()\n",
      "\u001b[0;31mAttributeError\u001b[0m: 'StackingClassifier' object has no attribute 'feature_importances_'"
     ]
    },
    {
     "data": {
      "text/plain": [
       "<Figure size 2200x500 with 0 Axes>"
      ]
     },
     "metadata": {},
     "output_type": "display_data"
    }
   ],
   "source": [
    "# Plot Feature Importances\n",
    "fig = plt.figure(figsize=(22, 5))\n",
    "importance_labels = X.columns\n",
    "importance_features = classifier.feature_importances_\n",
    "plt.bar(importance_labels, importance_features)\n",
    "plt.show()"
   ]
  },
  {
   "cell_type": "code",
   "execution_count": null,
   "id": "e9d10e62",
   "metadata": {},
   "outputs": [],
   "source": [
    "# Select Best Features\n",
    "recommended_feature_labels = importance_features.mean()\n",
    "i = 0\n",
    "recommended_feature_labels = []\n",
    "recommended_feature_score = []\n",
    "for fi in importance_features:\n",
    "    if fi > mean_feature_importance:\n",
    "        recommended_feature_labels.append(importance_labels[i])\n",
    "        recommended_feature_score.append(fi)\n",
    "    i += 1"
   ]
  },
  {
   "cell_type": "code",
   "execution_count": null,
   "id": "48e94f76",
   "metadata": {},
   "outputs": [],
   "source": [
    "fig, ax = plt.subplots(figsize=(35, 6))\n",
    "\n",
    "ax.bar(recommended_feature_labels, recommended_feature_score)\n",
    "fig.show()"
   ]
  },
  {
   "cell_type": "code",
   "execution_count": null,
   "id": "a5391664",
   "metadata": {},
   "outputs": [],
   "source": [
    "individual_tree = classifier.estimators_[0]"
   ]
  },
  {
   "cell_type": "code",
   "execution_count": null,
   "id": "9129f442",
   "metadata": {},
   "outputs": [],
   "source": [
    "individual_tree"
   ]
  },
  {
   "cell_type": "code",
   "execution_count": null,
   "id": "849069f4",
   "metadata": {},
   "outputs": [],
   "source": [
    "plt.figure(figsize=(12, 8))\n",
    "plot_tree(individual_tree, filled=True,feature_names= list(X.columns),class_names=list('Target'))\n",
    "plt.show()"
   ]
  },
  {
   "cell_type": "code",
   "execution_count": null,
   "id": "4d3683bf",
   "metadata": {},
   "outputs": [],
   "source": []
  },
  {
   "cell_type": "code",
   "execution_count": null,
   "id": "9139a3ca",
   "metadata": {},
   "outputs": [],
   "source": []
  }
 ],
 "metadata": {
  "kernelspec": {
   "display_name": "Python 3 (ipykernel)",
   "language": "python",
   "name": "python3"
  },
  "language_info": {
   "codemirror_mode": {
    "name": "ipython",
    "version": 3
   },
   "file_extension": ".py",
   "mimetype": "text/x-python",
   "name": "python",
   "nbconvert_exporter": "python",
   "pygments_lexer": "ipython3",
   "version": "3.9.16"
  },
  "vscode": {
   "interpreter": {
    "hash": "31f2aee4e71d21fbe5cf8b01ff0e069b9275f58929596ceb00d14d90e3e16cd6"
   }
  }
 },
 "nbformat": 4,
 "nbformat_minor": 5
}
