{
 "cells": [
  {
   "cell_type": "code",
   "execution_count": 1,
   "id": "23d0372c",
   "metadata": {},
   "outputs": [],
   "source": [
    "# Remove unwanted warnings\n",
    "import warnings\n",
    "warnings.simplefilter(action='ignore', category=FutureWarning)\n",
    "warnings.simplefilter(action='ignore', category=RuntimeWarning)\n",
    "\n",
    "# Data Management\n",
    "import pandas as pd\n",
    "import numpy as np\n",
    "\n",
    "from ta import add_all_ta_features\n",
    "\n",
    "# Statistics\n",
    "from statsmodels.tsa.stattools import adfuller\n",
    "\n",
    "# Unsupervised Machine Learning\n",
    "from sklearn.decomposition import PCA\n",
    "\n",
    "# Supervised Machine Learning\n",
    "from sklearn.preprocessing import StandardScaler\n",
    "from sklearn.model_selection import train_test_split\n",
    "from sklearn.ensemble import RandomForestClassifier\n",
    "from sklearn.metrics import accuracy_score\n",
    "from sklearn.metrics import precision_score\n",
    "import pickle \n",
    "from datetime import datetime\n",
    "\n",
    "\n",
    "# Reporting\n",
    "import matplotlib.pyplot as plt\n",
    "import yfinance"
   ]
  },
  {
   "cell_type": "code",
   "execution_count": 4,
   "id": "69a926df",
   "metadata": {},
   "outputs": [],
   "source": [
    "df = pd.read_csv(\"./stock_historical_data/{}.csv\".format(\"LT.NS\"))\n",
    "#df.set_index(\"Datetime\", inplace=True)\n",
    "#df[\"date\"] = df.index"
   ]
  },
  {
   "cell_type": "code",
   "execution_count": 5,
   "id": "0932a014",
   "metadata": {},
   "outputs": [],
   "source": [
    "df_d = pd.read_csv(\"./stock_historical_data/{}.csv\".format(\"LT.NS\"))\n",
    "df_d.set_index(\"Date\", inplace=True)\n",
    "df_d[\"date\"] = df_d.index"
   ]
  },
  {
   "cell_type": "code",
   "execution_count": 33,
   "id": "632a4fd4",
   "metadata": {},
   "outputs": [
    {
     "data": {
      "text/plain": [
       "4577"
      ]
     },
     "execution_count": 33,
     "metadata": {},
     "output_type": "execute_result"
    }
   ],
   "source": [
    "len(df)"
   ]
  },
  {
   "cell_type": "code",
   "execution_count": 8,
   "id": "73ac3e41",
   "metadata": {},
   "outputs": [],
   "source": [
    "df = add_all_ta_features(df, open=\"Open\", high=\"High\", low=\"Low\", close=\"Close\", volume=\"Volume\", fillna=True)"
   ]
  },
  {
   "cell_type": "code",
   "execution_count": 10,
   "id": "1fa0cd73",
   "metadata": {},
   "outputs": [],
   "source": [
    "#df['date'] = pd.to_datetime(df.index)\n",
    "#df.set_index(\"date\", inplace=True)\n",
    "df[\"TARGET\"] = -1\n",
    "df.loc[df[\"Close\"].shift(-1) > df[\"Close\"], \"TARGET\"] = 1\n",
    "df.dropna(inplace=True)"
   ]
  },
  {
   "cell_type": "code",
   "execution_count": 11,
   "id": "7e547dde",
   "metadata": {},
   "outputs": [],
   "source": [
    "df = df.dropna()"
   ]
  },
  {
   "cell_type": "code",
   "execution_count": 13,
   "id": "09c2e2c3",
   "metadata": {},
   "outputs": [
    {
     "name": "stdout",
     "output_type": "stream",
     "text": [
      "Open\n",
      "High\n",
      "Low\n",
      "Close\n",
      "Volume\n",
      "volume_adi\n",
      "volume_obv\n",
      "volume_cmf\n",
      "volume_fi\n",
      "volume_em\n",
      "volume_sma_em\n",
      "volume_vpt\n",
      "volume_vwap\n",
      "volume_mfi\n",
      "volume_nvi\n",
      "volatility_bbm\n",
      "volatility_bbh\n",
      "volatility_bbl\n",
      "volatility_bbw\n",
      "volatility_bbp\n",
      "volatility_bbhi\n",
      "volatility_bbli\n",
      "volatility_kcc\n",
      "volatility_kch\n",
      "volatility_kcl\n",
      "volatility_kcw\n",
      "volatility_kcp\n",
      "volatility_kchi\n",
      "volatility_kcli\n",
      "volatility_dcl\n",
      "volatility_dch\n",
      "volatility_dcm\n",
      "volatility_dcw\n",
      "volatility_dcp\n",
      "volatility_atr\n",
      "volatility_ui\n",
      "trend_macd\n",
      "trend_macd_signal\n",
      "trend_macd_diff\n",
      "trend_sma_fast\n",
      "trend_sma_slow\n",
      "trend_ema_fast\n",
      "trend_ema_slow\n",
      "trend_vortex_ind_pos\n",
      "trend_vortex_ind_neg\n",
      "trend_vortex_ind_diff\n",
      "trend_trix\n",
      "trend_mass_index\n",
      "trend_dpo\n",
      "trend_kst\n",
      "trend_kst_sig\n",
      "trend_kst_diff\n",
      "trend_ichimoku_conv\n",
      "trend_ichimoku_base\n",
      "trend_ichimoku_a\n",
      "trend_ichimoku_b\n",
      "trend_stc\n",
      "trend_adx\n",
      "trend_adx_pos\n",
      "trend_adx_neg\n",
      "trend_cci\n",
      "trend_visual_ichimoku_a\n",
      "trend_visual_ichimoku_b\n",
      "trend_aroon_up\n",
      "trend_aroon_down\n",
      "trend_aroon_ind\n",
      "trend_psar_up\n",
      "trend_psar_down\n",
      "trend_psar_up_indicator\n",
      "trend_psar_down_indicator\n",
      "momentum_rsi\n",
      "momentum_stoch_rsi\n",
      "momentum_stoch_rsi_k\n",
      "momentum_stoch_rsi_d\n",
      "momentum_tsi\n",
      "momentum_uo\n",
      "momentum_stoch\n",
      "momentum_stoch_signal\n",
      "momentum_wr\n",
      "momentum_ao\n",
      "momentum_roc\n",
      "momentum_ppo\n",
      "momentum_ppo_signal\n",
      "momentum_ppo_hist\n",
      "momentum_pvo\n",
      "momentum_pvo_signal\n",
      "momentum_pvo_hist\n",
      "momentum_kama\n",
      "others_dr\n",
      "others_dlr\n",
      "others_cr\n",
      "TARGET\n",
      "Non-Stationary Features Found: 31\n"
     ]
    }
   ],
   "source": [
    "# Identify non-stationary columns\n",
    "\n",
    "non_stationaries = []\n",
    "for col in df.columns:\n",
    "    if col != \"volatility_bbli\" and col !=\"Date\":\n",
    "        #print(col)\n",
    "        dftest = adfuller(df[col].values)\n",
    "        p_value = dftest[1]\n",
    "        t_test = dftest[0] < dftest[4][\"1%\"]\n",
    "        if p_value > 0.05 or not t_test:\n",
    "            non_stationaries.append(col)\n",
    "print(f\"Non-Stationary Features Found: {len(non_stationaries)}\")"
   ]
  },
  {
   "cell_type": "code",
   "execution_count": 22,
   "id": "998a0fd9",
   "metadata": {},
   "outputs": [],
   "source": [
    "df_stationary = df.copy()\n",
    "df_stationary[non_stationaries] = df_stationary[non_stationaries].pct_change()\n",
    "df_stationary = df_stationary.iloc[1:]"
   ]
  },
  {
   "cell_type": "code",
   "execution_count": 37,
   "id": "944e5b42",
   "metadata": {},
   "outputs": [],
   "source": [
    "# Find NaN Rows\n",
    "na_list = df_stationary.columns[df_stationary.isna().any().tolist()]\n",
    "df_stationary.drop(columns=na_list, inplace=True)"
   ]
  },
  {
   "cell_type": "code",
   "execution_count": 38,
   "id": "4fedc2a3",
   "metadata": {},
   "outputs": [
    {
     "data": {
      "text/html": [
       "<div>\n",
       "<style scoped>\n",
       "    .dataframe tbody tr th:only-of-type {\n",
       "        vertical-align: middle;\n",
       "    }\n",
       "\n",
       "    .dataframe tbody tr th {\n",
       "        vertical-align: top;\n",
       "    }\n",
       "\n",
       "    .dataframe thead th {\n",
       "        text-align: right;\n",
       "    }\n",
       "</style>\n",
       "<table border=\"1\" class=\"dataframe\">\n",
       "  <thead>\n",
       "    <tr style=\"text-align: right;\">\n",
       "      <th></th>\n",
       "      <th>Open</th>\n",
       "      <th>High</th>\n",
       "      <th>Low</th>\n",
       "      <th>Close</th>\n",
       "      <th>Volume</th>\n",
       "      <th>volume_adi</th>\n",
       "      <th>volume_obv</th>\n",
       "      <th>volume_cmf</th>\n",
       "      <th>volume_fi</th>\n",
       "      <th>volume_em</th>\n",
       "      <th>...</th>\n",
       "      <th>momentum_ppo_signal</th>\n",
       "      <th>momentum_ppo_hist</th>\n",
       "      <th>momentum_pvo</th>\n",
       "      <th>momentum_pvo_signal</th>\n",
       "      <th>momentum_pvo_hist</th>\n",
       "      <th>momentum_kama</th>\n",
       "      <th>others_dr</th>\n",
       "      <th>others_dlr</th>\n",
       "      <th>others_cr</th>\n",
       "      <th>TARGET</th>\n",
       "    </tr>\n",
       "  </thead>\n",
       "  <tbody>\n",
       "    <tr>\n",
       "      <th>1</th>\n",
       "      <td>-0.019019</td>\n",
       "      <td>-0.010010</td>\n",
       "      <td>0.006576</td>\n",
       "      <td>-0.002662</td>\n",
       "      <td>1394550</td>\n",
       "      <td>0.934281</td>\n",
       "      <td>-0.417659</td>\n",
       "      <td>-0.452078</td>\n",
       "      <td>-3.182722e+05</td>\n",
       "      <td>-17.142200</td>\n",
       "      <td>...</td>\n",
       "      <td>-0.004247</td>\n",
       "      <td>-0.016990</td>\n",
       "      <td>-4.854873</td>\n",
       "      <td>-0.970975</td>\n",
       "      <td>-3.883898</td>\n",
       "      <td>-0.001198</td>\n",
       "      <td>-0.266172</td>\n",
       "      <td>-0.266527</td>\n",
       "      <td>0.000000</td>\n",
       "      <td>-1</td>\n",
       "    </tr>\n",
       "    <tr>\n",
       "      <th>2</th>\n",
       "      <td>-0.005102</td>\n",
       "      <td>0.005056</td>\n",
       "      <td>-0.025926</td>\n",
       "      <td>-0.015346</td>\n",
       "      <td>3575070</td>\n",
       "      <td>0.789312</td>\n",
       "      <td>-1.838636</td>\n",
       "      <td>-0.460846</td>\n",
       "      <td>-9.430368e+05</td>\n",
       "      <td>-102.748193</td>\n",
       "      <td>...</td>\n",
       "      <td>-0.035390</td>\n",
       "      <td>-0.124571</td>\n",
       "      <td>-3.131235</td>\n",
       "      <td>-1.403027</td>\n",
       "      <td>-1.728209</td>\n",
       "      <td>-0.007333</td>\n",
       "      <td>-1.534596</td>\n",
       "      <td>-1.546493</td>\n",
       "      <td>5.750084</td>\n",
       "      <td>-1</td>\n",
       "    </tr>\n",
       "    <tr>\n",
       "      <th>3</th>\n",
       "      <td>-0.015487</td>\n",
       "      <td>-0.034205</td>\n",
       "      <td>-0.010879</td>\n",
       "      <td>-0.020120</td>\n",
       "      <td>1900755</td>\n",
       "      <td>0.350658</td>\n",
       "      <td>1.165638</td>\n",
       "      <td>-0.506560</td>\n",
       "      <td>-1.268344e+06</td>\n",
       "      <td>-211.012188</td>\n",
       "      <td>...</td>\n",
       "      <td>-0.113473</td>\n",
       "      <td>-0.312330</td>\n",
       "      <td>-6.107935</td>\n",
       "      <td>-2.344008</td>\n",
       "      <td>-3.763927</td>\n",
       "      <td>-0.012761</td>\n",
       "      <td>-2.011992</td>\n",
       "      <td>-2.032508</td>\n",
       "      <td>1.099717</td>\n",
       "      <td>1</td>\n",
       "    </tr>\n",
       "    <tr>\n",
       "      <th>4</th>\n",
       "      <td>-0.019689</td>\n",
       "      <td>0.020834</td>\n",
       "      <td>0.004805</td>\n",
       "      <td>0.036757</td>\n",
       "      <td>2619549</td>\n",
       "      <td>-0.363658</td>\n",
       "      <td>-0.741785</td>\n",
       "      <td>-0.256525</td>\n",
       "      <td>4.779480e+04</td>\n",
       "      <td>140.531174</td>\n",
       "      <td>...</td>\n",
       "      <td>-0.159877</td>\n",
       "      <td>-0.185619</td>\n",
       "      <td>-6.537163</td>\n",
       "      <td>-3.182639</td>\n",
       "      <td>-3.354523</td>\n",
       "      <td>0.008519</td>\n",
       "      <td>3.675747</td>\n",
       "      <td>3.609803</td>\n",
       "      <td>-0.937589</td>\n",
       "      <td>-1</td>\n",
       "    </tr>\n",
       "    <tr>\n",
       "      <th>5</th>\n",
       "      <td>0.037194</td>\n",
       "      <td>0.010051</td>\n",
       "      <td>0.031031</td>\n",
       "      <td>-0.001847</td>\n",
       "      <td>1226736</td>\n",
       "      <td>0.277914</td>\n",
       "      <td>1.345309</td>\n",
       "      <td>-0.299206</td>\n",
       "      <td>1.327294e+04</td>\n",
       "      <td>240.984626</td>\n",
       "      <td>...</td>\n",
       "      <td>-0.186592</td>\n",
       "      <td>-0.106860</td>\n",
       "      <td>-10.822481</td>\n",
       "      <td>-4.710608</td>\n",
       "      <td>-6.111873</td>\n",
       "      <td>0.003872</td>\n",
       "      <td>-0.184737</td>\n",
       "      <td>-0.184908</td>\n",
       "      <td>0.782775</td>\n",
       "      <td>-1</td>\n",
       "    </tr>\n",
       "  </tbody>\n",
       "</table>\n",
       "<p>5 rows × 92 columns</p>\n",
       "</div>"
      ],
      "text/plain": [
       "       Open      High       Low     Close   Volume  volume_adi  volume_obv  \\\n",
       "1 -0.019019 -0.010010  0.006576 -0.002662  1394550    0.934281   -0.417659   \n",
       "2 -0.005102  0.005056 -0.025926 -0.015346  3575070    0.789312   -1.838636   \n",
       "3 -0.015487 -0.034205 -0.010879 -0.020120  1900755    0.350658    1.165638   \n",
       "4 -0.019689  0.020834  0.004805  0.036757  2619549   -0.363658   -0.741785   \n",
       "5  0.037194  0.010051  0.031031 -0.001847  1226736    0.277914    1.345309   \n",
       "\n",
       "   volume_cmf     volume_fi   volume_em  ...  momentum_ppo_signal  \\\n",
       "1   -0.452078 -3.182722e+05  -17.142200  ...            -0.004247   \n",
       "2   -0.460846 -9.430368e+05 -102.748193  ...            -0.035390   \n",
       "3   -0.506560 -1.268344e+06 -211.012188  ...            -0.113473   \n",
       "4   -0.256525  4.779480e+04  140.531174  ...            -0.159877   \n",
       "5   -0.299206  1.327294e+04  240.984626  ...            -0.186592   \n",
       "\n",
       "   momentum_ppo_hist  momentum_pvo  momentum_pvo_signal  momentum_pvo_hist  \\\n",
       "1          -0.016990     -4.854873            -0.970975          -3.883898   \n",
       "2          -0.124571     -3.131235            -1.403027          -1.728209   \n",
       "3          -0.312330     -6.107935            -2.344008          -3.763927   \n",
       "4          -0.185619     -6.537163            -3.182639          -3.354523   \n",
       "5          -0.106860    -10.822481            -4.710608          -6.111873   \n",
       "\n",
       "   momentum_kama  others_dr  others_dlr  others_cr  TARGET  \n",
       "1      -0.001198  -0.266172   -0.266527   0.000000      -1  \n",
       "2      -0.007333  -1.534596   -1.546493   5.750084      -1  \n",
       "3      -0.012761  -2.011992   -2.032508   1.099717       1  \n",
       "4       0.008519   3.675747    3.609803  -0.937589      -1  \n",
       "5       0.003872  -0.184737   -0.184908   0.782775      -1  \n",
       "\n",
       "[5 rows x 92 columns]"
      ]
     },
     "execution_count": 38,
     "metadata": {},
     "output_type": "execute_result"
    }
   ],
   "source": [
    "# Handle inf values\n",
    "df_stationary.replace([np.inf, -np.inf], 0, inplace=True)\n",
    "df_stationary.head()"
   ]
  },
  {
   "cell_type": "code",
   "execution_count": 57,
   "id": "58d73686",
   "metadata": {},
   "outputs": [],
   "source": [
    "# Set Target (for Supervised ML later on)\n",
    "#df_stationary[\"TARGET\"] = -1\n",
    "#df_stationary.loc[df_stationary[\"Close\"].shift(-1) > df_stationary[\"Close\"], \"TARGET\"] = 1\n",
    "#df_stationary.dropna(inplace=True)"
   ]
  },
  {
   "cell_type": "code",
   "execution_count": 39,
   "id": "7274c2cd",
   "metadata": {},
   "outputs": [
    {
     "ename": "KeyError",
     "evalue": "\"['Date'] not found in axis\"",
     "output_type": "error",
     "traceback": [
      "\u001b[0;31m---------------------------------------------------------------------------\u001b[0m",
      "\u001b[0;31mKeyError\u001b[0m                                  Traceback (most recent call last)",
      "Cell \u001b[0;32mIn[39], line 1\u001b[0m\n\u001b[0;32m----> 1\u001b[0m df_stationary \u001b[38;5;241m=\u001b[39m \u001b[43mdf_stationary\u001b[49m\u001b[38;5;241;43m.\u001b[39;49m\u001b[43mdrop\u001b[49m\u001b[43m(\u001b[49m\u001b[38;5;124;43m\"\u001b[39;49m\u001b[38;5;124;43mDate\u001b[39;49m\u001b[38;5;124;43m\"\u001b[39;49m\u001b[43m,\u001b[49m\u001b[43maxis\u001b[49m\u001b[38;5;241;43m=\u001b[39;49m\u001b[38;5;241;43m1\u001b[39;49m\u001b[43m)\u001b[49m\n",
      "File \u001b[0;32m~/opt/anaconda3/envs/my_own/lib/python3.9/site-packages/pandas/core/frame.py:5258\u001b[0m, in \u001b[0;36mDataFrame.drop\u001b[0;34m(self, labels, axis, index, columns, level, inplace, errors)\u001b[0m\n\u001b[1;32m   5110\u001b[0m \u001b[38;5;28;01mdef\u001b[39;00m \u001b[38;5;21mdrop\u001b[39m(\n\u001b[1;32m   5111\u001b[0m     \u001b[38;5;28mself\u001b[39m,\n\u001b[1;32m   5112\u001b[0m     labels: IndexLabel \u001b[38;5;241m=\u001b[39m \u001b[38;5;28;01mNone\u001b[39;00m,\n\u001b[0;32m   (...)\u001b[0m\n\u001b[1;32m   5119\u001b[0m     errors: IgnoreRaise \u001b[38;5;241m=\u001b[39m \u001b[38;5;124m\"\u001b[39m\u001b[38;5;124mraise\u001b[39m\u001b[38;5;124m\"\u001b[39m,\n\u001b[1;32m   5120\u001b[0m ) \u001b[38;5;241m-\u001b[39m\u001b[38;5;241m>\u001b[39m DataFrame \u001b[38;5;241m|\u001b[39m \u001b[38;5;28;01mNone\u001b[39;00m:\n\u001b[1;32m   5121\u001b[0m \u001b[38;5;250m    \u001b[39m\u001b[38;5;124;03m\"\"\"\u001b[39;00m\n\u001b[1;32m   5122\u001b[0m \u001b[38;5;124;03m    Drop specified labels from rows or columns.\u001b[39;00m\n\u001b[1;32m   5123\u001b[0m \n\u001b[0;32m   (...)\u001b[0m\n\u001b[1;32m   5256\u001b[0m \u001b[38;5;124;03m            weight  1.0     0.8\u001b[39;00m\n\u001b[1;32m   5257\u001b[0m \u001b[38;5;124;03m    \"\"\"\u001b[39;00m\n\u001b[0;32m-> 5258\u001b[0m     \u001b[38;5;28;01mreturn\u001b[39;00m \u001b[38;5;28;43msuper\u001b[39;49m\u001b[43m(\u001b[49m\u001b[43m)\u001b[49m\u001b[38;5;241;43m.\u001b[39;49m\u001b[43mdrop\u001b[49m\u001b[43m(\u001b[49m\n\u001b[1;32m   5259\u001b[0m \u001b[43m        \u001b[49m\u001b[43mlabels\u001b[49m\u001b[38;5;241;43m=\u001b[39;49m\u001b[43mlabels\u001b[49m\u001b[43m,\u001b[49m\n\u001b[1;32m   5260\u001b[0m \u001b[43m        \u001b[49m\u001b[43maxis\u001b[49m\u001b[38;5;241;43m=\u001b[39;49m\u001b[43maxis\u001b[49m\u001b[43m,\u001b[49m\n\u001b[1;32m   5261\u001b[0m \u001b[43m        \u001b[49m\u001b[43mindex\u001b[49m\u001b[38;5;241;43m=\u001b[39;49m\u001b[43mindex\u001b[49m\u001b[43m,\u001b[49m\n\u001b[1;32m   5262\u001b[0m \u001b[43m        \u001b[49m\u001b[43mcolumns\u001b[49m\u001b[38;5;241;43m=\u001b[39;49m\u001b[43mcolumns\u001b[49m\u001b[43m,\u001b[49m\n\u001b[1;32m   5263\u001b[0m \u001b[43m        \u001b[49m\u001b[43mlevel\u001b[49m\u001b[38;5;241;43m=\u001b[39;49m\u001b[43mlevel\u001b[49m\u001b[43m,\u001b[49m\n\u001b[1;32m   5264\u001b[0m \u001b[43m        \u001b[49m\u001b[43minplace\u001b[49m\u001b[38;5;241;43m=\u001b[39;49m\u001b[43minplace\u001b[49m\u001b[43m,\u001b[49m\n\u001b[1;32m   5265\u001b[0m \u001b[43m        \u001b[49m\u001b[43merrors\u001b[49m\u001b[38;5;241;43m=\u001b[39;49m\u001b[43merrors\u001b[49m\u001b[43m,\u001b[49m\n\u001b[1;32m   5266\u001b[0m \u001b[43m    \u001b[49m\u001b[43m)\u001b[49m\n",
      "File \u001b[0;32m~/opt/anaconda3/envs/my_own/lib/python3.9/site-packages/pandas/core/generic.py:4549\u001b[0m, in \u001b[0;36mNDFrame.drop\u001b[0;34m(self, labels, axis, index, columns, level, inplace, errors)\u001b[0m\n\u001b[1;32m   4547\u001b[0m \u001b[38;5;28;01mfor\u001b[39;00m axis, labels \u001b[38;5;129;01min\u001b[39;00m axes\u001b[38;5;241m.\u001b[39mitems():\n\u001b[1;32m   4548\u001b[0m     \u001b[38;5;28;01mif\u001b[39;00m labels \u001b[38;5;129;01mis\u001b[39;00m \u001b[38;5;129;01mnot\u001b[39;00m \u001b[38;5;28;01mNone\u001b[39;00m:\n\u001b[0;32m-> 4549\u001b[0m         obj \u001b[38;5;241m=\u001b[39m \u001b[43mobj\u001b[49m\u001b[38;5;241;43m.\u001b[39;49m\u001b[43m_drop_axis\u001b[49m\u001b[43m(\u001b[49m\u001b[43mlabels\u001b[49m\u001b[43m,\u001b[49m\u001b[43m \u001b[49m\u001b[43maxis\u001b[49m\u001b[43m,\u001b[49m\u001b[43m \u001b[49m\u001b[43mlevel\u001b[49m\u001b[38;5;241;43m=\u001b[39;49m\u001b[43mlevel\u001b[49m\u001b[43m,\u001b[49m\u001b[43m \u001b[49m\u001b[43merrors\u001b[49m\u001b[38;5;241;43m=\u001b[39;49m\u001b[43merrors\u001b[49m\u001b[43m)\u001b[49m\n\u001b[1;32m   4551\u001b[0m \u001b[38;5;28;01mif\u001b[39;00m inplace:\n\u001b[1;32m   4552\u001b[0m     \u001b[38;5;28mself\u001b[39m\u001b[38;5;241m.\u001b[39m_update_inplace(obj)\n",
      "File \u001b[0;32m~/opt/anaconda3/envs/my_own/lib/python3.9/site-packages/pandas/core/generic.py:4591\u001b[0m, in \u001b[0;36mNDFrame._drop_axis\u001b[0;34m(self, labels, axis, level, errors, only_slice)\u001b[0m\n\u001b[1;32m   4589\u001b[0m         new_axis \u001b[38;5;241m=\u001b[39m axis\u001b[38;5;241m.\u001b[39mdrop(labels, level\u001b[38;5;241m=\u001b[39mlevel, errors\u001b[38;5;241m=\u001b[39merrors)\n\u001b[1;32m   4590\u001b[0m     \u001b[38;5;28;01melse\u001b[39;00m:\n\u001b[0;32m-> 4591\u001b[0m         new_axis \u001b[38;5;241m=\u001b[39m \u001b[43maxis\u001b[49m\u001b[38;5;241;43m.\u001b[39;49m\u001b[43mdrop\u001b[49m\u001b[43m(\u001b[49m\u001b[43mlabels\u001b[49m\u001b[43m,\u001b[49m\u001b[43m \u001b[49m\u001b[43merrors\u001b[49m\u001b[38;5;241;43m=\u001b[39;49m\u001b[43merrors\u001b[49m\u001b[43m)\u001b[49m\n\u001b[1;32m   4592\u001b[0m     indexer \u001b[38;5;241m=\u001b[39m axis\u001b[38;5;241m.\u001b[39mget_indexer(new_axis)\n\u001b[1;32m   4594\u001b[0m \u001b[38;5;66;03m# Case for non-unique axis\u001b[39;00m\n\u001b[1;32m   4595\u001b[0m \u001b[38;5;28;01melse\u001b[39;00m:\n",
      "File \u001b[0;32m~/opt/anaconda3/envs/my_own/lib/python3.9/site-packages/pandas/core/indexes/base.py:6696\u001b[0m, in \u001b[0;36mIndex.drop\u001b[0;34m(self, labels, errors)\u001b[0m\n\u001b[1;32m   6694\u001b[0m \u001b[38;5;28;01mif\u001b[39;00m mask\u001b[38;5;241m.\u001b[39many():\n\u001b[1;32m   6695\u001b[0m     \u001b[38;5;28;01mif\u001b[39;00m errors \u001b[38;5;241m!=\u001b[39m \u001b[38;5;124m\"\u001b[39m\u001b[38;5;124mignore\u001b[39m\u001b[38;5;124m\"\u001b[39m:\n\u001b[0;32m-> 6696\u001b[0m         \u001b[38;5;28;01mraise\u001b[39;00m \u001b[38;5;167;01mKeyError\u001b[39;00m(\u001b[38;5;124mf\u001b[39m\u001b[38;5;124m\"\u001b[39m\u001b[38;5;132;01m{\u001b[39;00m\u001b[38;5;28mlist\u001b[39m(labels[mask])\u001b[38;5;132;01m}\u001b[39;00m\u001b[38;5;124m not found in axis\u001b[39m\u001b[38;5;124m\"\u001b[39m)\n\u001b[1;32m   6697\u001b[0m     indexer \u001b[38;5;241m=\u001b[39m indexer[\u001b[38;5;241m~\u001b[39mmask]\n\u001b[1;32m   6698\u001b[0m \u001b[38;5;28;01mreturn\u001b[39;00m \u001b[38;5;28mself\u001b[39m\u001b[38;5;241m.\u001b[39mdelete(indexer)\n",
      "\u001b[0;31mKeyError\u001b[0m: \"['Date'] not found in axis\""
     ]
    }
   ],
   "source": [
    "df_stationary = df_stationary.drop(\"Date\",axis=1)"
   ]
  },
  {
   "cell_type": "code",
   "execution_count": 40,
   "id": "048bc0af",
   "metadata": {},
   "outputs": [],
   "source": [
    "# Split Target from Featureset\n",
    "X = df_stationary.iloc[:, :-1]\n",
    "y = df_stationary.iloc[:, -1]"
   ]
  },
  {
   "cell_type": "code",
   "execution_count": null,
   "id": "741e2aa2",
   "metadata": {},
   "outputs": [],
   "source": [
    "df"
   ]
  },
  {
   "cell_type": "code",
   "execution_count": 41,
   "id": "2a451a82",
   "metadata": {},
   "outputs": [],
   "source": [
    "# Feature Scaling\n",
    "df_sc = df_stationary.copy()\n",
    "X_fs = StandardScaler().fit_transform(X)"
   ]
  },
  {
   "cell_type": "code",
   "execution_count": 28,
   "id": "cc690feb",
   "metadata": {},
   "outputs": [],
   "source": [
    "X_train, X_test, y_train, y_test = train_test_split(X_fs, y, test_size=0.7, random_state=42)"
   ]
  },
  {
   "cell_type": "code",
   "execution_count": 42,
   "id": "04bdd8eb",
   "metadata": {},
   "outputs": [
    {
     "name": "stdout",
     "output_type": "stream",
     "text": [
      "Test Accuracy: 0.5171660424469413\n",
      "Test Precision: 0.5092592592592593\n"
     ]
    }
   ],
   "source": [
    "classifier = RandomForestClassifier(n_estimators=12, max_depth=2, random_state=0)\n",
    "classifier.fit(X_train, y_train)\n",
    "y_pred = classifier.predict(X_test)\n",
    "accuracy = accuracy_score(y_test, y_pred)\n",
    "precision = precision_score(y_test, y_pred)\n",
    "print(f\"Test Accuracy: {accuracy}\")\n",
    "print(f\"Test Precision: {precision}\")"
   ]
  },
  {
   "cell_type": "code",
   "execution_count": 30,
   "id": "a9d60b91",
   "metadata": {},
   "outputs": [
    {
     "data": {
      "image/png": "[encoded data removed]",
      "text/plain": [
       "<Figure size 2200x500 with 1 Axes>"
      ]
     },
     "metadata": {},
     "output_type": "display_data"
    }
   ],
   "source": [
    "# Plot Feature Importances\n",
    "fig = plt.figure(figsize=(22, 5))\n",
    "importance_labels = X.columns\n",
    "importance_features = classifier.feature_importances_\n",
    "plt.bar(importance_labels, importance_features)\n",
    "plt.show()"
   ]
  },
  {
   "cell_type": "code",
   "execution_count": 31,
   "id": "e9d10e62",
   "metadata": {},
   "outputs": [],
   "source": [
    "# Select Best Features\n",
    "mean_feature_importance = importance_features.mean()\n",
    "i = 0\n",
    "recommended_feature_labels = []\n",
    "recommended_feature_score = []\n",
    "for fi in importance_features:\n",
    "    if fi > mean_feature_importance:\n",
    "        recommended_feature_labels.append(importance_labels[i])\n",
    "        recommended_feature_score.append(fi)\n",
    "    i += 1"
   ]
  },
  {
   "cell_type": "code",
   "execution_count": 32,
   "id": "48e94f76",
   "metadata": {},
   "outputs": [
    {
     "name": "stderr",
     "output_type": "stream",
     "text": [
      "/var/folders/4_/_fbkdkz531s_92lxx_c_x6n00000gn/T/ipykernel_1295/3002898103.py:4: UserWarning: Matplotlib is currently using module://matplotlib_inline.backend_inline, which is a non-GUI backend, so cannot show the figure.\n",
      "  fig.show()\n"
     ]
    },
    {
     "data": {
      "image/png": "[encoded data removed]",
      "text/plain": [
       "<Figure size 3500x600 with 1 Axes>"
      ]
     },
     "metadata": {},
     "output_type": "display_data"
    }
   ],
   "source": [
    "fig, ax = plt.subplots(figsize=(35, 6))\n",
    "\n",
    "ax.bar(recommended_feature_labels, recommended_feature_score)\n",
    "fig.show()"
   ]
  },
  {
   "cell_type": "code",
   "execution_count": null,
   "id": "849069f4",
   "metadata": {},
   "outputs": [],
   "source": []
  },
  {
   "cell_type": "code",
   "execution_count": null,
   "id": "4d3683bf",
   "metadata": {},
   "outputs": [],
   "source": []
  }
 ],
 "metadata": {
  "kernelspec": {
   "display_name": "Python 3 (ipykernel)",
   "language": "python",
   "name": "python3"
  },
  "language_info": {
   "codemirror_mode": {
    "name": "ipython",
    "version": 3
   },
   "file_extension": ".py",
   "mimetype": "text/x-python",
   "name": "python",
   "nbconvert_exporter": "python",
   "pygments_lexer": "ipython3",
   "version": "3.9.16"
  }
 },
 "nbformat": 4,
 "nbformat_minor": 5
}
