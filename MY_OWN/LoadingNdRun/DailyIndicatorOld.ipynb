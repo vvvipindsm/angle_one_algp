{
 "cells": [
  {
   "cell_type": "markdown",
   "metadata": {
    "id": "QZK36hW6M7cl"
   },
   "source": [
    "#Libraries and Data"
   ]
  },
  {
   "cell_type": "code",
   "execution_count": 1,
   "metadata": {
    "executionInfo": {
     "elapsed": 2554,
     "status": "ok",
     "timestamp": 1621008666318,
     "user": {
      "displayName": "Diogo Resende",
      "photoUrl": "https://lh3.googleusercontent.com/a-/AOh14GgH4DE06-yE1oiIzCiaAURCl1Escr4LXXiaSnbSaA=s64",
      "userId": "05706604408624562002"
     },
     "user_tz": -120
    },
    "id": "xBzm1qtYNE6M"
   },
   "outputs": [
    {
     "name": "stderr",
     "output_type": "stream",
     "text": [
      "/Users/vipin/opt/anaconda3/envs/my_own/lib/python3.9/site-packages/tqdm/auto.py:21: TqdmWarning: IProgress not found. Please update jupyter and ipywidgets. See https://ipywidgets.readthedocs.io/en/stable/user_install.html\n",
      "  from .autonotebook import tqdm as notebook_tqdm\n",
      "Importing plotly failed. Interactive plots will not work.\n"
     ]
    }
   ],
   "source": [
    "#import libraries\n",
    "import numpy as np\n",
    "import pandas as pd\n",
    "import itertools\n",
    "from prophet import Prophet\n",
    "import yfinance\n",
    "import pickle\n",
    "import xgboost as xgb\n",
    "from datetime import datetime\n",
    "from ta import add_all_ta_features\n",
    "\n",
    "from dataProcessing import DataProcessing\n",
    "# Remove Future Warnings\n",
    "import warnings\n",
    "warnings.simplefilter(action='ignore', category=FutureWarning)\n",
    "from statsmodels.tsa.stattools import adfuller\n",
    "from sklearn.preprocessing import StandardScaler\n",
    "\n",
    "\n",
    "\n",
    "\n",
    "from sklearn.model_selection import train_test_split\n",
    "\n",
    "# Machine Learning\n",
    "from xgboost import XGBClassifier\n",
    "from sklearn.model_selection import RandomizedSearchCV, cross_val_score\n",
    "from sklearn.model_selection import RepeatedStratifiedKFold\n",
    "\n",
    "# Evaluation\n",
    "from sklearn.metrics import precision_score\n",
    "\n"
   ]
  },
  {
   "cell_type": "code",
   "execution_count": 2,
   "metadata": {},
   "outputs": [],
   "source": [
    "def load_and_setup_data(sybmol):\n",
    "    df = pd.read_csv(\"../stock_historical_data/{}.csv\".format(sybmol))\n",
    "  #  df.set_index(\"Date\", inplace=True)\n",
    "   # new_data = pd.DataFrame(input_data)\n",
    "   # new_data.set_index(\"Date\", inplace=True)\n",
    "    #concatenated_df = pd.concat([df,new_data])\n",
    "    return df\n",
    "\n",
    "def fetch_stock_data(tickers):\n",
    "    data = yfinance.download(tickers,period='1d')\n",
    "    return data\n",
    "    "
   ]
  },
  {
   "cell_type": "code",
   "execution_count": 8,
   "metadata": {
    "scrolled": true
   },
   "outputs": [
    {
     "name": "stdout",
     "output_type": "stream",
     "text": [
      "[*********************100%***********************]  16 of 16 completed\n",
      "OLECTRA.NS\n"
     ]
    },
    {
     "name": "stderr",
     "output_type": "stream",
     "text": [
      "/Users/vipin/opt/anaconda3/envs/my_own/lib/python3.9/site-packages/ta/trend.py:780: RuntimeWarning: invalid value encountered in scalar divide\n",
      "  dip[idx] = 100 * (self._dip[idx] / value)\n",
      "/Users/vipin/opt/anaconda3/envs/my_own/lib/python3.9/site-packages/ta/trend.py:785: RuntimeWarning: invalid value encountered in scalar divide\n",
      "  din[idx] = 100 * (self._din[idx] / value)\n"
     ]
    },
    {
     "name": "stdout",
     "output_type": "stream",
     "text": [
      "50.550213708854585\n",
      "CONCOR.NS\n"
     ]
    },
    {
     "name": "stderr",
     "output_type": "stream",
     "text": [
      "/Users/vipin/opt/anaconda3/envs/my_own/lib/python3.9/site-packages/ta/trend.py:780: RuntimeWarning: invalid value encountered in scalar divide\n",
      "  dip[idx] = 100 * (self._dip[idx] / value)\n",
      "/Users/vipin/opt/anaconda3/envs/my_own/lib/python3.9/site-packages/ta/trend.py:785: RuntimeWarning: invalid value encountered in scalar divide\n",
      "  din[idx] = 100 * (self._din[idx] / value)\n"
     ]
    },
    {
     "name": "stdout",
     "output_type": "stream",
     "text": [
      "36.347914136726374\n",
      "ELGIEQUIP.NS\n"
     ]
    },
    {
     "name": "stderr",
     "output_type": "stream",
     "text": [
      "/Users/vipin/opt/anaconda3/envs/my_own/lib/python3.9/site-packages/ta/trend.py:780: RuntimeWarning: invalid value encountered in scalar divide\n",
      "  dip[idx] = 100 * (self._dip[idx] / value)\n",
      "/Users/vipin/opt/anaconda3/envs/my_own/lib/python3.9/site-packages/ta/trend.py:785: RuntimeWarning: invalid value encountered in scalar divide\n",
      "  din[idx] = 100 * (self._din[idx] / value)\n"
     ]
    },
    {
     "name": "stdout",
     "output_type": "stream",
     "text": [
      "59.303653618305205\n",
      "IOC.NS\n"
     ]
    },
    {
     "name": "stderr",
     "output_type": "stream",
     "text": [
      "/Users/vipin/opt/anaconda3/envs/my_own/lib/python3.9/site-packages/ta/trend.py:780: RuntimeWarning: invalid value encountered in scalar divide\n",
      "  dip[idx] = 100 * (self._dip[idx] / value)\n",
      "/Users/vipin/opt/anaconda3/envs/my_own/lib/python3.9/site-packages/ta/trend.py:785: RuntimeWarning: invalid value encountered in scalar divide\n",
      "  din[idx] = 100 * (self._din[idx] / value)\n"
     ]
    },
    {
     "name": "stdout",
     "output_type": "stream",
     "text": [
      "22.857362283163976\n",
      "BEL.NS\n"
     ]
    },
    {
     "name": "stderr",
     "output_type": "stream",
     "text": [
      "/Users/vipin/opt/anaconda3/envs/my_own/lib/python3.9/site-packages/ta/trend.py:780: RuntimeWarning: invalid value encountered in scalar divide\n",
      "  dip[idx] = 100 * (self._dip[idx] / value)\n",
      "/Users/vipin/opt/anaconda3/envs/my_own/lib/python3.9/site-packages/ta/trend.py:785: RuntimeWarning: invalid value encountered in scalar divide\n",
      "  din[idx] = 100 * (self._din[idx] / value)\n"
     ]
    },
    {
     "name": "stdout",
     "output_type": "stream",
     "text": [
      "53.088129648708446\n",
      "TATAELXSI.NS\n"
     ]
    },
    {
     "name": "stderr",
     "output_type": "stream",
     "text": [
      "/Users/vipin/opt/anaconda3/envs/my_own/lib/python3.9/site-packages/ta/trend.py:780: RuntimeWarning: invalid value encountered in scalar divide\n",
      "  dip[idx] = 100 * (self._dip[idx] / value)\n",
      "/Users/vipin/opt/anaconda3/envs/my_own/lib/python3.9/site-packages/ta/trend.py:785: RuntimeWarning: invalid value encountered in scalar divide\n",
      "  din[idx] = 100 * (self._din[idx] / value)\n"
     ]
    },
    {
     "name": "stdout",
     "output_type": "stream",
     "text": [
      "52.46694507833567\n",
      "^NSEI\n"
     ]
    },
    {
     "name": "stderr",
     "output_type": "stream",
     "text": [
      "/Users/vipin/opt/anaconda3/envs/my_own/lib/python3.9/site-packages/ta/trend.py:780: RuntimeWarning: invalid value encountered in scalar divide\n",
      "  dip[idx] = 100 * (self._dip[idx] / value)\n",
      "/Users/vipin/opt/anaconda3/envs/my_own/lib/python3.9/site-packages/ta/trend.py:785: RuntimeWarning: invalid value encountered in scalar divide\n",
      "  din[idx] = 100 * (self._din[idx] / value)\n"
     ]
    },
    {
     "name": "stdout",
     "output_type": "stream",
     "text": [
      "43.861396704726104\n",
      "HDFCBANK.NS\n"
     ]
    },
    {
     "name": "stderr",
     "output_type": "stream",
     "text": [
      "/Users/vipin/opt/anaconda3/envs/my_own/lib/python3.9/site-packages/ta/trend.py:780: RuntimeWarning: invalid value encountered in scalar divide\n",
      "  dip[idx] = 100 * (self._dip[idx] / value)\n",
      "/Users/vipin/opt/anaconda3/envs/my_own/lib/python3.9/site-packages/ta/trend.py:785: RuntimeWarning: invalid value encountered in scalar divide\n",
      "  din[idx] = 100 * (self._din[idx] / value)\n"
     ]
    },
    {
     "name": "stdout",
     "output_type": "stream",
     "text": [
      "62.76924375138604\n",
      "TATAMOTORS.NS\n"
     ]
    },
    {
     "name": "stderr",
     "output_type": "stream",
     "text": [
      "/Users/vipin/opt/anaconda3/envs/my_own/lib/python3.9/site-packages/ta/trend.py:780: RuntimeWarning: invalid value encountered in scalar divide\n",
      "  dip[idx] = 100 * (self._dip[idx] / value)\n",
      "/Users/vipin/opt/anaconda3/envs/my_own/lib/python3.9/site-packages/ta/trend.py:785: RuntimeWarning: invalid value encountered in scalar divide\n",
      "  din[idx] = 100 * (self._din[idx] / value)\n"
     ]
    },
    {
     "name": "stdout",
     "output_type": "stream",
     "text": [
      "50.814555136767424\n",
      "SBIN.NS\n"
     ]
    },
    {
     "name": "stderr",
     "output_type": "stream",
     "text": [
      "/Users/vipin/opt/anaconda3/envs/my_own/lib/python3.9/site-packages/ta/trend.py:780: RuntimeWarning: invalid value encountered in scalar divide\n",
      "  dip[idx] = 100 * (self._dip[idx] / value)\n",
      "/Users/vipin/opt/anaconda3/envs/my_own/lib/python3.9/site-packages/ta/trend.py:785: RuntimeWarning: invalid value encountered in scalar divide\n",
      "  din[idx] = 100 * (self._din[idx] / value)\n"
     ]
    },
    {
     "name": "stdout",
     "output_type": "stream",
     "text": [
      "31.778225164859602\n",
      "TCS.NS\n"
     ]
    },
    {
     "name": "stderr",
     "output_type": "stream",
     "text": [
      "/Users/vipin/opt/anaconda3/envs/my_own/lib/python3.9/site-packages/ta/trend.py:780: RuntimeWarning: invalid value encountered in scalar divide\n",
      "  dip[idx] = 100 * (self._dip[idx] / value)\n",
      "/Users/vipin/opt/anaconda3/envs/my_own/lib/python3.9/site-packages/ta/trend.py:785: RuntimeWarning: invalid value encountered in scalar divide\n",
      "  din[idx] = 100 * (self._din[idx] / value)\n"
     ]
    },
    {
     "name": "stdout",
     "output_type": "stream",
     "text": [
      "61.20204489459886\n",
      "TITAN.NS\n"
     ]
    },
    {
     "name": "stderr",
     "output_type": "stream",
     "text": [
      "/Users/vipin/opt/anaconda3/envs/my_own/lib/python3.9/site-packages/ta/trend.py:780: RuntimeWarning: invalid value encountered in scalar divide\n",
      "  dip[idx] = 100 * (self._dip[idx] / value)\n",
      "/Users/vipin/opt/anaconda3/envs/my_own/lib/python3.9/site-packages/ta/trend.py:785: RuntimeWarning: invalid value encountered in scalar divide\n",
      "  din[idx] = 100 * (self._din[idx] / value)\n"
     ]
    },
    {
     "name": "stdout",
     "output_type": "stream",
     "text": [
      "54.947274441470086\n",
      "SUNPHARMA.BO\n"
     ]
    },
    {
     "name": "stderr",
     "output_type": "stream",
     "text": [
      "/Users/vipin/opt/anaconda3/envs/my_own/lib/python3.9/site-packages/ta/trend.py:780: RuntimeWarning: invalid value encountered in scalar divide\n",
      "  dip[idx] = 100 * (self._dip[idx] / value)\n",
      "/Users/vipin/opt/anaconda3/envs/my_own/lib/python3.9/site-packages/ta/trend.py:785: RuntimeWarning: invalid value encountered in scalar divide\n",
      "  din[idx] = 100 * (self._din[idx] / value)\n"
     ]
    },
    {
     "name": "stdout",
     "output_type": "stream",
     "text": [
      "87.56813827234876\n",
      "TECHM.NS\n"
     ]
    },
    {
     "name": "stderr",
     "output_type": "stream",
     "text": [
      "/Users/vipin/opt/anaconda3/envs/my_own/lib/python3.9/site-packages/ta/trend.py:780: RuntimeWarning: invalid value encountered in scalar divide\n",
      "  dip[idx] = 100 * (self._dip[idx] / value)\n",
      "/Users/vipin/opt/anaconda3/envs/my_own/lib/python3.9/site-packages/ta/trend.py:785: RuntimeWarning: invalid value encountered in scalar divide\n",
      "  din[idx] = 100 * (self._din[idx] / value)\n"
     ]
    },
    {
     "name": "stdout",
     "output_type": "stream",
     "text": [
      "81.14443304882514\n",
      "ASIANPAINT.NS\n"
     ]
    },
    {
     "name": "stderr",
     "output_type": "stream",
     "text": [
      "/Users/vipin/opt/anaconda3/envs/my_own/lib/python3.9/site-packages/ta/trend.py:780: RuntimeWarning: invalid value encountered in scalar divide\n",
      "  dip[idx] = 100 * (self._dip[idx] / value)\n",
      "/Users/vipin/opt/anaconda3/envs/my_own/lib/python3.9/site-packages/ta/trend.py:785: RuntimeWarning: invalid value encountered in scalar divide\n",
      "  din[idx] = 100 * (self._din[idx] / value)\n"
     ]
    },
    {
     "name": "stdout",
     "output_type": "stream",
     "text": [
      "23.830528145114602\n",
      "TATACONSUM.NS\n"
     ]
    },
    {
     "name": "stderr",
     "output_type": "stream",
     "text": [
      "/Users/vipin/opt/anaconda3/envs/my_own/lib/python3.9/site-packages/ta/trend.py:780: RuntimeWarning: invalid value encountered in scalar divide\n",
      "  dip[idx] = 100 * (self._dip[idx] / value)\n",
      "/Users/vipin/opt/anaconda3/envs/my_own/lib/python3.9/site-packages/ta/trend.py:785: RuntimeWarning: invalid value encountered in scalar divide\n",
      "  din[idx] = 100 * (self._din[idx] / value)\n"
     ]
    },
    {
     "name": "stdout",
     "output_type": "stream",
     "text": [
      "35.63127202400083\n",
      "[['01-08-2023', -1, 1, 'indicator', 'OLECTRA', 1158.449951171875, 50.55], ['01-08-2023', 1, 1, 'indicator', 'CONCOR', 693.5499877929688, 36.35], ['01-08-2023', -1, 1, 'indicator', 'ELGIEQUIP', 539.7000122070312, 59.3], ['01-08-2023', 1, 1, 'indicator', 'IOC', 94.0, 22.86], ['01-08-2023', -1, 1, 'indicator', 'BEL', 130.4499969482422, 53.09], ['01-08-2023', -1, 1, 'indicator', 'TATAELXSI', 7185.0498046875, 52.47], ['01-08-2023', 1, 1, 'indicator', 'NSEI', 19733.55078125, 43.86], ['01-08-2023', -1, 1, 'indicator', 'HDFCBANK', 1662.25, 62.77], ['01-08-2023', -1, 1, 'indicator', 'TATAMOTORS', 643.6500244140625, 50.81], ['01-08-2023', 1, 1, 'indicator', 'SBIN', 611.8499755859375, 31.78], ['01-08-2023', -1, 1, 'indicator', 'TCS', 3452.050048828125, 61.2], ['01-08-2023', -1, 1, 'indicator', 'TITAN', 3001.89990234375, 54.95], ['01-08-2023', -1, 1, 'indicator', 'SUNPHARMA.BO', 1143.6500244140625, 87.57], ['01-08-2023', -1, 1, 'indicator', 'TECHM', 1143.5, 81.14], ['01-08-2023', 1, 1, 'indicator', 'ASIANPAINT', 3342.949951171875, 23.83], ['01-08-2023', 1, 1, 'indicator', 'TATACONSUM', 856.75, 35.63]]\n"
     ]
    }
   ],
   "source": [
    "#symbols = [\"CONCOR.NS\",\"ELGIEQUIP.NS\"]\n",
    "symbols = [\"OLECTRA.NS\",\"CONCOR.NS\",\"ELGIEQUIP.NS\",\"IOC.NS\",\"BEL.NS\",\"TATAELXSI.NS\",\"^NSEI\",\"HDFCBANK.NS\",\"TATAMOTORS.NS\",\"SBIN.NS\",\"TCS.NS\",\"TITAN.NS\",\"SUNPHARMA.BO\",\"TECHM.NS\", \"ASIANPAINT.NS\",\"TATACONSUM.NS\"]\n",
    "\n",
    "#symbols = [\"^NSEI\",\"BEL.NS\"]\n",
    "\n",
    "Icdate = 0\n",
    "Iresult = 1\n",
    "IisClassification = 2\n",
    "Imodel = 3\n",
    "Istock = 4\n",
    "Iclose = 5\n",
    "Iprob = 6\n",
    "  # Add the tickers you want to fetch data for\n",
    "loaded_models = {}\n",
    "result = []\n",
    "\n",
    "final_result = {}\n",
    "final_target = {}\n",
    "stock_data = fetch_stock_data(symbols)\n",
    "#print(stock_data)\n",
    "finaldata = {}\n",
    "current_date = datetime.now().strftime(\"%d-%m-%Y\")\n",
    "\n",
    "for symbol in symbols:\n",
    "    stock_name = symbol\n",
    "    print(stock_name)\n",
    "    if symbol == \"^NSEI\":\n",
    "        stock_name = \"NSEI\"\n",
    " \n",
    "    data = load_and_setup_data(symbol)\n",
    "    data = data[[\"Open\", \"High\", \"Low\", \"Close\",\"Volume\"]]\n",
    "    data['weekday'] =pd.to_datetime(data.index).dayofweek\n",
    "   # data.to_csv(f\"../stock_historical_data/{symbol}.csv\")\n",
    "    data = add_all_ta_features(data, open=\"Open\", high=\"High\", low=\"Low\", close=\"Close\", volume=\"Volume\", fillna=True)\n",
    " \n",
    "    # Find NaN Rows\n",
    "    #na_list = data.columns[data.isna().any().tolist()]\n",
    "   # data.drop(columns=na_list, inplace=True)\n",
    "    # Handle inf values\n",
    "    data.replace([np.inf, -np.inf], np.nan, inplace=True)\n",
    "    data.dropna(axis=1, inplace=True)\n",
    "    #data = data.drop(['volatility_kchi','volatility_kcli'], axis=1)\n",
    "\n",
    "    #df_stationary.head()\n",
    "   # print(data)\n",
    "    non_stationaries = []\n",
    "    for col in data.columns:\n",
    "        if col != \"volatility_kchi\" and col != \"volatility_kcli\" and col != \"weekday\":\n",
    "            #print(col)\n",
    "            dftest = adfuller(data[col].values)\n",
    "            p_value = dftest[1]\n",
    "            t_test = dftest[0] < dftest[4][\"1%\"]\n",
    "            if p_value > 0.05 or not t_test:\n",
    "                non_stationaries.append(col)\n",
    "    \n",
    "    df_stationary = data.copy()\n",
    "    \n",
    " \n",
    "  \n",
    "    loaded_model = {}\n",
    "    feature_item = {}\n",
    "    with open('../TrainedModel/indicator/{}_model_2.pkl'.format(symbol), 'rb') as f:\n",
    "        loaded_model = pickle.load(f)\n",
    "    with open('../TrainedModel/indicator/{}_features.txt'.format(symbol), 'rb') as f:\n",
    "        feature_item = pickle.load(f)\n",
    "   # print(feature_item,symbol,len(feature_item))\n",
    "    #print(\"point zero :\" ,len(df_stationary.columns))\n",
    "\n",
    "    df_stationary[non_stationaries] = df_stationary[non_stationaries].pct_change()\n",
    "    df_stationary = df_stationary.iloc[1:]\n",
    "    # Find NaN Rows\n",
    "    na_list = df_stationary.columns[df_stationary.isna().any().tolist()]\n",
    "    \n",
    "    df_stationary.drop(columns=na_list, inplace=True)\n",
    "    #print(feature_item)\n",
    "    #print(\"point one :\" ,len(df_stationary.columns))\n",
    "    df_stationary = df_stationary[feature_item]\n",
    "    #print(\"point two :\" ,len(df_stationary.columns))\n",
    "\n",
    "#    print(df_stationary)\n",
    "    df_stationary = df_stationary.iloc[1:]\n",
    "    \n",
    "    df_stationary[np.isinf(df_stationary)] = np.nan  # Replace inf with NaN\n",
    "    df_stationary = df_stationary.dropna()\n",
    "    #print(\"point three\",len(df_stationary.columns),symbol)\n",
    "    has_inf = \"no inf data\"\n",
    "    if np.isinf(df_stationary).any().any():\n",
    "        has_inf = \"has inf data\"\n",
    "    df_stationary.replace(np.inf, np.nan, inplace=True)\n",
    "    df_stationary.dropna(inplace=True)\n",
    "\n",
    "        \n",
    "    #print(\"check infifty value in\",has_inf)\n",
    "   # print(symbol,\" :\",len(df_stationary.columns),len(feature_item))\n",
    "    finaldata[symbol] = df_stationary \n",
    "    df_stationary = StandardScaler().fit_transform(df_stationary)\n",
    "    y_pred = loaded_model.predict(df_stationary)\n",
    "    y_pred = loaded_model.predict(df_stationary)\n",
    "\n",
    "    #print(\"got result\",symbol)\n",
    "    # Specify Target\n",
    "\n",
    "    #final training\n",
    "    loaded_models[symbol] = loaded_model\n",
    "    stock_name_only = stock_name.replace(\".NS\",\"\")\n",
    "   \n",
    "    train_yhat = loaded_model.predict(df_stationary[-1:])\n",
    "    train_yhat_proba = loaded_model.predict_proba(df_stationary[-1:])\n",
    "    greater = 0\n",
    "    one = train_yhat_proba[0][0]\n",
    "    two = train_yhat_proba[0][1]\n",
    "    if one > two:\n",
    "        greater = one*100\n",
    "    else:\n",
    "        greater = one*100\n",
    "    print(greater)\n",
    "    final_result[symbol] = [current_date,train_yhat[0],1,'indicator',stock_name_only,stock_data.head(1).Close[symbol].values[0],round(greater,2)]\n",
    "    result.append([current_date,train_yhat[0],1,'indicator',stock_name_only,stock_data.head(1).Close[symbol].values[0],round(greater,2)])\n",
    "\n",
    "print(result)\n"
   ]
  },
  {
   "cell_type": "code",
   "execution_count": 9,
   "metadata": {},
   "outputs": [
    {
     "data": {
      "text/plain": [
       "{'data': [{'cdate': '01-08-2023',\n",
       "   'result': '-1',\n",
       "   'pre_close': '1158.449951171875',\n",
       "   'isClassification': 1,\n",
       "   'model': 'indicator',\n",
       "   'stock': 'OLECTRA',\n",
       "   'prob': '50.55'},\n",
       "  {'cdate': '01-08-2023',\n",
       "   'result': '1',\n",
       "   'pre_close': '693.5499877929688',\n",
       "   'isClassification': 1,\n",
       "   'model': 'indicator',\n",
       "   'stock': 'CONCOR',\n",
       "   'prob': '36.35'},\n",
       "  {'cdate': '01-08-2023',\n",
       "   'result': '-1',\n",
       "   'pre_close': '539.7000122070312',\n",
       "   'isClassification': 1,\n",
       "   'model': 'indicator',\n",
       "   'stock': 'ELGIEQUIP',\n",
       "   'prob': '59.3'},\n",
       "  {'cdate': '01-08-2023',\n",
       "   'result': '1',\n",
       "   'pre_close': '94.0',\n",
       "   'isClassification': 1,\n",
       "   'model': 'indicator',\n",
       "   'stock': 'IOC',\n",
       "   'prob': '22.86'},\n",
       "  {'cdate': '01-08-2023',\n",
       "   'result': '-1',\n",
       "   'pre_close': '130.4499969482422',\n",
       "   'isClassification': 1,\n",
       "   'model': 'indicator',\n",
       "   'stock': 'BEL',\n",
       "   'prob': '53.09'},\n",
       "  {'cdate': '01-08-2023',\n",
       "   'result': '-1',\n",
       "   'pre_close': '7185.0498046875',\n",
       "   'isClassification': 1,\n",
       "   'model': 'indicator',\n",
       "   'stock': 'TATAELXSI',\n",
       "   'prob': '52.47'},\n",
       "  {'cdate': '01-08-2023',\n",
       "   'result': '1',\n",
       "   'pre_close': '19733.55078125',\n",
       "   'isClassification': 1,\n",
       "   'model': 'indicator',\n",
       "   'stock': 'NSEI',\n",
       "   'prob': '43.86'},\n",
       "  {'cdate': '01-08-2023',\n",
       "   'result': '-1',\n",
       "   'pre_close': '1662.25',\n",
       "   'isClassification': 1,\n",
       "   'model': 'indicator',\n",
       "   'stock': 'HDFCBANK',\n",
       "   'prob': '62.77'},\n",
       "  {'cdate': '01-08-2023',\n",
       "   'result': '-1',\n",
       "   'pre_close': '643.6500244140625',\n",
       "   'isClassification': 1,\n",
       "   'model': 'indicator',\n",
       "   'stock': 'TATAMOTORS',\n",
       "   'prob': '50.81'},\n",
       "  {'cdate': '01-08-2023',\n",
       "   'result': '1',\n",
       "   'pre_close': '611.8499755859375',\n",
       "   'isClassification': 1,\n",
       "   'model': 'indicator',\n",
       "   'stock': 'SBIN',\n",
       "   'prob': '31.78'},\n",
       "  {'cdate': '01-08-2023',\n",
       "   'result': '-1',\n",
       "   'pre_close': '3452.050048828125',\n",
       "   'isClassification': 1,\n",
       "   'model': 'indicator',\n",
       "   'stock': 'TCS',\n",
       "   'prob': '61.2'},\n",
       "  {'cdate': '01-08-2023',\n",
       "   'result': '-1',\n",
       "   'pre_close': '3001.89990234375',\n",
       "   'isClassification': 1,\n",
       "   'model': 'indicator',\n",
       "   'stock': 'TITAN',\n",
       "   'prob': '54.95'},\n",
       "  {'cdate': '01-08-2023',\n",
       "   'result': '-1',\n",
       "   'pre_close': '1143.6500244140625',\n",
       "   'isClassification': 1,\n",
       "   'model': 'indicator',\n",
       "   'stock': 'SUNPHARMA.BO',\n",
       "   'prob': '87.57'},\n",
       "  {'cdate': '01-08-2023',\n",
       "   'result': '-1',\n",
       "   'pre_close': '1143.5',\n",
       "   'isClassification': 1,\n",
       "   'model': 'indicator',\n",
       "   'stock': 'TECHM',\n",
       "   'prob': '81.14'},\n",
       "  {'cdate': '01-08-2023',\n",
       "   'result': '1',\n",
       "   'pre_close': '3342.949951171875',\n",
       "   'isClassification': 1,\n",
       "   'model': 'indicator',\n",
       "   'stock': 'ASIANPAINT',\n",
       "   'prob': '23.83'},\n",
       "  {'cdate': '01-08-2023',\n",
       "   'result': '1',\n",
       "   'pre_close': '856.75',\n",
       "   'isClassification': 1,\n",
       "   'model': 'indicator',\n",
       "   'stock': 'TATACONSUM',\n",
       "   'prob': '35.63'}]}"
      ]
     },
     "execution_count": 9,
     "metadata": {},
     "output_type": "execute_result"
    }
   ],
   "source": [
    "\n",
    "dataa = { \"data\":[]} \n",
    "\n",
    "for res in result:\n",
    "    dataa[\"data\"].append({ \n",
    "            \"cdate\": res[Icdate],\n",
    "            \"result\": str(res[Iresult]),\n",
    "            \"pre_close\" : str(res[Iclose]),            \n",
    "            \"isClassification\": res[IisClassification],\n",
    "            \"model\": res[Imodel],\n",
    "            \"stock\": res[Istock],\n",
    "            \"prob\": str(res[Iprob]),\n",
    "    })\n",
    "    \n",
    "dataa"
   ]
  },
  {
   "cell_type": "code",
   "execution_count": 10,
   "metadata": {},
   "outputs": [
    {
     "name": "stdout",
     "output_type": "stream",
     "text": [
      "200\n",
      "<Response [200]>\n"
     ]
    }
   ],
   "source": [
    "import requests\n",
    "import json\n",
    "\n",
    "url = \"https://website-development-kerala.com/api_214124524/ai_model_daily_runner.php\"\n",
    "\n",
    "response = requests.post(url, json=dataa)\n",
    "print(response.status_code)\n",
    "print(response)"
   ]
  },
  {
   "cell_type": "code",
   "execution_count": null,
   "metadata": {},
   "outputs": [],
   "source": [
    "#final_target"
   ]
  },
  {
   "cell_type": "code",
   "execution_count": null,
   "metadata": {},
   "outputs": [],
   "source": [
    "for symbol in symbols:\n",
    "  \n",
    "    # Set Target (for Supervised ML later on)\n",
    "    finaldata[symbol][\"TARGET\"] = -1\n",
    "    finaldata[symbol].loc[finaldata[symbol][\"Close\"].shift(-1) > finaldata[symbol][\"Close\"], \"TARGET\"] = 1\n",
    "    finaldata[symbol].dropna(inplace=True)\n",
    "    #print(finaldata)\n",
    "    df_tar = finaldata[symbol][[\"TARGET\"]]\n",
    "    df_stationar = StandardScaler().fit_transform(finaldata[symbol].iloc[:, :-1])\n",
    "   # print(df_tar)\n",
    "\n",
    "    retrained_model = loaded_models[symbol].fit(df_stationar,df_tar)\n",
    "    print(df_stationar)\n",
    "    with open('../TrainedModel/indicator/{}_model_2.pkl'.format(symbol), 'wb') as f:\n",
    "        pickle.dump(retrained_model, f)\n"
   ]
  }
 ],
 "metadata": {
  "colab": {
   "authorship_tag": "ABX9TyONf4Fw76cQlH82pdR3h9Fa",
   "mount_file_id": "182alF94XmFPfm3NMnYKs4Tu9b-3DTW7y",
   "name": "Facebook Prophet + XGBoost Challenge Template.ipynb",
   "provenance": []
  },
  "kernelspec": {
   "display_name": "Python 3 (ipykernel)",
   "language": "python",
   "name": "python3"
  },
  "language_info": {
   "codemirror_mode": {
    "name": "ipython",
    "version": 3
   },
   "file_extension": ".py",
   "mimetype": "text/x-python",
   "name": "python",
   "nbconvert_exporter": "python",
   "pygments_lexer": "ipython3",
   "version": "3.9.16"
  }
 },
 "nbformat": 4,
 "nbformat_minor": 1
}
