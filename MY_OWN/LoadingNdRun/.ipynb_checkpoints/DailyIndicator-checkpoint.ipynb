{
 "cells": [
  {
   "cell_type": "markdown",
   "metadata": {
    "id": "QZK36hW6M7cl"
   },
   "source": [
    "#Libraries and Data"
   ]
  },
  {
   "cell_type": "code",
   "execution_count": 1,
   "metadata": {
    "executionInfo": {
     "elapsed": 2554,
     "status": "ok",
     "timestamp": 1621008666318,
     "user": {
      "displayName": "Diogo Resende",
      "photoUrl": "https://lh3.googleusercontent.com/a-/AOh14GgH4DE06-yE1oiIzCiaAURCl1Escr4LXXiaSnbSaA=s64",
      "userId": "05706604408624562002"
     },
     "user_tz": -120
    },
    "id": "xBzm1qtYNE6M"
   },
   "outputs": [
    {
     "name": "stderr",
     "output_type": "stream",
     "text": [
      "/Users/vipin/opt/anaconda3/envs/my_own/lib/python3.9/site-packages/tqdm/auto.py:21: TqdmWarning: IProgress not found. Please update jupyter and ipywidgets. See https://ipywidgets.readthedocs.io/en/stable/user_install.html\n",
      "  from .autonotebook import tqdm as notebook_tqdm\n",
      "Importing plotly failed. Interactive plots will not work.\n"
     ]
    }
   ],
   "source": [
    "#import libraries\n",
    "import numpy as np\n",
    "import pandas as pd\n",
    "import itertools\n",
    "from prophet import Prophet\n",
    "import yfinance\n",
    "import pickle\n",
    "import xgboost as xgb\n",
    "from datetime import datetime\n",
    "from ta import add_all_ta_features\n",
    "\n",
    "from dataProcessing import DataProcessing\n",
    "# Remove Future Warnings\n",
    "import warnings\n",
    "warnings.simplefilter(action='ignore', category=FutureWarning)\n",
    "from statsmodels.tsa.stattools import adfuller\n",
    "from sklearn.preprocessing import StandardScaler\n",
    "\n",
    "\n",
    "\n",
    "\n",
    "from sklearn.model_selection import train_test_split\n",
    "\n",
    "# Machine Learning\n",
    "from xgboost import XGBClassifier\n",
    "from sklearn.model_selection import RandomizedSearchCV, cross_val_score\n",
    "from sklearn.model_selection import RepeatedStratifiedKFold\n",
    "\n",
    "# Evaluation\n",
    "from sklearn.metrics import precision_score\n",
    "\n",
    "# Reporting\n",
    "import matplotlib.pyplot as plt"
   ]
  },
  {
   "cell_type": "code",
   "execution_count": 2,
   "metadata": {},
   "outputs": [],
   "source": [
    "def load_and_setup_data(sybmol,input_data):\n",
    "    df = pd.read_csv(\"../stock_historical_data/{}.csv\".format(sybmol))\n",
    "  #  df.set_index(\"Date\", inplace=True)\n",
    "    new_data = pd.DataFrame(input_data)\n",
    "    new_data.set_index(\"Date\", inplace=True)\n",
    "    #concatenated_df = pd.concat([df,new_data])\n",
    "    return df\n",
    "\n",
    "def fetch_stock_data(tickers):\n",
    "    data = yfinance.download(tickers,period='1d')\n",
    "    return data\n",
    "    "
   ]
  },
  {
   "cell_type": "code",
   "execution_count": 3,
   "metadata": {
    "scrolled": true
   },
   "outputs": [
    {
     "name": "stdout",
     "output_type": "stream",
     "text": [
      "[*********************100%***********************]  2 of 2 completed\n"
     ]
    },
    {
     "name": "stderr",
     "output_type": "stream",
     "text": [
      "/Users/vipin/opt/anaconda3/envs/my_own/lib/python3.9/site-packages/ta/trend.py:780: RuntimeWarning: invalid value encountered in scalar divide\n",
      "  dip[idx] = 100 * (self._dip[idx] / value)\n",
      "/Users/vipin/opt/anaconda3/envs/my_own/lib/python3.9/site-packages/ta/trend.py:785: RuntimeWarning: invalid value encountered in scalar divide\n",
      "  din[idx] = 100 * (self._din[idx] / value)\n"
     ]
    },
    {
     "name": "stdout",
     "output_type": "stream",
     "text": [
      "point three 14 CONCOR.NS\n",
      "20.222552902824965\n"
     ]
    },
    {
     "name": "stderr",
     "output_type": "stream",
     "text": [
      "/Users/vipin/opt/anaconda3/envs/my_own/lib/python3.9/site-packages/ta/trend.py:780: RuntimeWarning: invalid value encountered in scalar divide\n",
      "  dip[idx] = 100 * (self._dip[idx] / value)\n",
      "/Users/vipin/opt/anaconda3/envs/my_own/lib/python3.9/site-packages/ta/trend.py:785: RuntimeWarning: invalid value encountered in scalar divide\n",
      "  din[idx] = 100 * (self._din[idx] / value)\n"
     ]
    },
    {
     "name": "stdout",
     "output_type": "stream",
     "text": [
      "point three 14 ELGIEQUIP.NS\n",
      "37.77146053486274\n",
      "[['08-07-2023', 1, 1, 'indicator', 'CONCOR', 670.6500244140625, 20.22], ['08-07-2023', 1, 1, 'indicator', 'ELGIEQUIP', 538.7000122070312, 37.77]]\n"
     ]
    }
   ],
   "source": [
    "symbols = [\"CONCOR.NS\",\"ELGIEQUIP.NS\"]\n",
    "#symbols = [\"OLECTRA.NS\",\"CONCOR.NS\",\"ELGIEQUIP.NS\",\"IOC.NS\",\"BEL.NS\",\"TATAELXSI.NS\",\"^NSEI\"]\n",
    "\n",
    "\n",
    "Icdate = 0\n",
    "Iresult = 1\n",
    "IisClassification = 2\n",
    "Imodel = 3\n",
    "Istock = 4\n",
    "Iclose = 5\n",
    "Iprob = 6\n",
    "  # Add the tickers you want to fetch data for\n",
    "loaded_models = {}\n",
    "result = []\n",
    "\n",
    "final_result = {}\n",
    "final_target = {}\n",
    "stock_data = fetch_stock_data(symbols)\n",
    "#print(stock_data)\n",
    "finaldata = {}\n",
    "current_date = datetime.now().strftime(\"%d-%m-%Y\")\n",
    "\n",
    "for symbol in symbols:\n",
    "    stock_name = symbol\n",
    "    if symbol == \"^NSEI\":\n",
    "        stock_name = \"NSEI\"\n",
    " \n",
    "    input_data = {\n",
    "                    # \"Open\" : stock_data.head(1).Open[ticker].values[0],\n",
    "                    \"Open\" : [stock_data.head(1).Open[symbol].values[0]],\n",
    "                    \"Close\" : [stock_data.head(1).Close[symbol].values[0]],\n",
    "                    \"High\" : [stock_data.head(1).High[symbol].values[0]],\n",
    "                    \"Low\" : [stock_data.head(1).Low[symbol].values[0]], \n",
    "                    \"Volume\" : [stock_data.head(1).Volume[symbol].values[0]],\n",
    "                    \"Date\":[np.datetime_as_string(stock_data.index, unit='D')[0]]\n",
    "    }\n",
    "    #print(input_data)\n",
    "    data = load_and_setup_data(symbol,input_data)\n",
    "    data = data[[\"Open\", \"High\", \"Low\", \"Close\",\"Volume\"]]\n",
    "\n",
    "   # data.to_csv(f\"../stock_historical_data/{symbol}.csv\")\n",
    "    data = add_all_ta_features(data, open=\"Open\", high=\"High\", low=\"Low\", close=\"Close\", volume=\"Volume\", fillna=True)\n",
    "    # Find NaN Rows\n",
    "    #na_list = data.columns[data.isna().any().tolist()]\n",
    "   # data.drop(columns=na_list, inplace=True)\n",
    "    # Handle inf values\n",
    "    data.replace([np.inf, -np.inf], np.nan, inplace=True)\n",
    "    data.dropna(axis=1, inplace=True)\n",
    "    #data = data.drop(['volatility_kchi','volatility_kcli'], axis=1)\n",
    "\n",
    "    #df_stationary.head()\n",
    "   # print(data)\n",
    "    non_stationaries = []\n",
    "    for col in data.columns:\n",
    "        if col != \"volatility_kchi\" and col != \"volatility_kcli\":\n",
    "            dftest = adfuller(data[col].values)\n",
    "            p_value = dftest[1]\n",
    "            t_test = dftest[0] < dftest[4][\"1%\"]\n",
    "            if p_value > 0.05 or not t_test:\n",
    "                non_stationaries.append(col)\n",
    "    \n",
    "    df_stationary = data.copy()\n",
    "    \n",
    " \n",
    "  \n",
    "    loaded_model = {}\n",
    "    feature_item = {}\n",
    "    with open('../TrainedModel/indicator/{}_model_2.pkl'.format(symbol), 'rb') as f:\n",
    "        loaded_model = pickle.load(f)\n",
    "    with open('../TrainedModel/indicator/{}_features.txt'.format(symbol), 'rb') as f:\n",
    "        feature_item = pickle.load(f)\n",
    "   # print(feature_item,symbol,len(feature_item))\n",
    "    #print(\"point zero :\" ,len(df_stationary.columns))\n",
    "\n",
    "    df_stationary[non_stationaries] = df_stationary[non_stationaries].pct_change()\n",
    "    df_stationary = df_stationary.iloc[1:]\n",
    "    # Find NaN Rows\n",
    "    na_list = df_stationary.columns[df_stationary.isna().any().tolist()]\n",
    "    df_stationary.drop(columns=na_list, inplace=True)\n",
    "    \n",
    "    #print(\"point one :\" ,len(df_stationary.columns))\n",
    "    df_stationary = df_stationary[feature_item]\n",
    "    #print(\"point two :\" ,len(df_stationary.columns))\n",
    "\n",
    "#    print(df_stationary)\n",
    "    df_stationary = df_stationary.iloc[1:]\n",
    "    \n",
    "    df_stationary[np.isinf(df_stationary)] = np.nan  # Replace inf with NaN\n",
    "    df_stationary = df_stationary.dropna()\n",
    "    print(\"point three\",len(df_stationary.columns),symbol)\n",
    "    has_inf = \"no inf data\"\n",
    "    if np.isinf(df_stationary).any().any():\n",
    "        has_inf = \"has inf data\"\n",
    "    df_stationary.replace(np.inf, np.nan, inplace=True)\n",
    "    df_stationary.dropna(inplace=True)\n",
    "\n",
    "        \n",
    "    #print(\"check infifty value in\",has_inf)\n",
    "   # print(symbol,\" :\",len(df_stationary.columns),len(feature_item))\n",
    "    finaldata[symbol] = df_stationary \n",
    "    df_stationary = StandardScaler().fit_transform(df_stationary)\n",
    "    y_pred = loaded_model.predict(df_stationary)\n",
    "    y_pred = loaded_model.predict(df_stationary)\n",
    "\n",
    "    #print(\"got result\",symbol)\n",
    "    # Specify Target\n",
    "\n",
    "    #final training\n",
    "    loaded_models[symbol] = loaded_model\n",
    "    stock_name_only = stock_name.replace(\".NS\",\"\")\n",
    "   \n",
    "    train_yhat = loaded_model.predict(df_stationary[-1:])\n",
    "    train_yhat_proba = loaded_model.predict_proba(df_stationary[-1:])\n",
    "    greater = 0\n",
    "    one = train_yhat_proba[0][0]\n",
    "    two = train_yhat_proba[0][1]\n",
    "    if one > two:\n",
    "        greater = one*100\n",
    "    else:\n",
    "        greater = one*100\n",
    "    print(greater)\n",
    "    final_result[symbol] = [current_date,train_yhat[0],1,'indicator',stock_name_only,stock_data.head(1).Close[symbol].values[0],round(greater,2)]\n",
    "    result.append([current_date,train_yhat[0],1,'indicator',stock_name_only,stock_data.head(1).Close[symbol].values[0],round(greater,2)])\n",
    "\n",
    "print(result)\n"
   ]
  },
  {
   "cell_type": "code",
   "execution_count": 4,
   "metadata": {},
   "outputs": [
    {
     "data": {
      "text/plain": [
       "{'data': [{'cdate': '08-07-2023',\n",
       "   'result': '1',\n",
       "   'pre_close': '670.6500244140625',\n",
       "   'isClassification': 1,\n",
       "   'model': 'indicator',\n",
       "   'stock': 'CONCOR',\n",
       "   'prob': '20.22'},\n",
       "  {'cdate': '08-07-2023',\n",
       "   'result': '1',\n",
       "   'pre_close': '538.7000122070312',\n",
       "   'isClassification': 1,\n",
       "   'model': 'indicator',\n",
       "   'stock': 'ELGIEQUIP',\n",
       "   'prob': '37.77'}]}"
      ]
     },
     "execution_count": 4,
     "metadata": {},
     "output_type": "execute_result"
    }
   ],
   "source": [
    "\n",
    "dataa = { \"data\":[]} \n",
    "\n",
    "for res in result:\n",
    "    dataa[\"data\"].append({ \n",
    "            \"cdate\": res[Icdate],\n",
    "            \"result\": str(res[Iresult]),\n",
    "            \"pre_close\" : str(res[Iclose]),            \n",
    "            \"isClassification\": res[IisClassification],\n",
    "            \"model\": res[Imodel],\n",
    "            \"stock\": res[Istock],\n",
    "            \"prob\": str(res[Iprob]),\n",
    "    })\n",
    "    \n",
    "dataa"
   ]
  },
  {
   "cell_type": "code",
   "execution_count": 35,
   "metadata": {},
   "outputs": [
    {
     "name": "stdout",
     "output_type": "stream",
     "text": [
      "200\n",
      "<Response [200]>\n"
     ]
    }
   ],
   "source": [
    "import requests\n",
    "import json\n",
    "\n",
    "url = \"https://website-development-kerala.com/api_214124524/ai_model_daily_runner.php\"\n",
    "\n",
    "response = requests.post(url, json=dataa)\n",
    "print(response.status_code)\n",
    "print(response)"
   ]
  },
  {
   "cell_type": "code",
   "execution_count": 36,
   "metadata": {},
   "outputs": [
    {
     "data": {
      "text/plain": [
       "{}"
      ]
     },
     "execution_count": 36,
     "metadata": {},
     "output_type": "execute_result"
    }
   ],
   "source": [
    "#final_target"
   ]
  },
  {
   "cell_type": "code",
   "execution_count": 11,
   "metadata": {},
   "outputs": [
    {
     "name": "stderr",
     "output_type": "stream",
     "text": [
      "/Users/vipin/opt/anaconda3/envs/my_own/lib/python3.9/site-packages/sklearn/base.py:1151: DataConversionWarning: A column-vector y was passed when a 1d array was expected. Please change the shape of y to (n_samples,), for example using ravel().\n",
      "  return fit_method(estimator, *args, **kwargs)\n"
     ]
    },
    {
     "name": "stdout",
     "output_type": "stream",
     "text": [
      "[[-0.31428264 -0.02744056  0.09215209 ... -0.02744056 -0.01738112\n",
      "  -0.01709641]\n",
      " [-0.56167828 -0.36886506 -0.15656718 ... -0.36886506 -0.44388428\n",
      "   0.68235988]\n",
      " [-0.4368701  -0.5032231   0.01959147 ... -0.5032231  -0.61329172\n",
      "   0.44787221]\n",
      " ...\n",
      " [ 0.06939993  0.29835383  0.01982563 ...  0.29835383  0.38437113\n",
      "  -0.01067312]\n",
      " [ 0.43331612  0.62427664  0.01974788 ...  0.62427664  0.78130371\n",
      "  -0.00131855]\n",
      " [-0.20441999 -0.75016398  0.02033948 ... -0.75016398 -0.92700636\n",
      "  -0.04076564]]\n"
     ]
    },
    {
     "name": "stderr",
     "output_type": "stream",
     "text": [
      "/Users/vipin/opt/anaconda3/envs/my_own/lib/python3.9/site-packages/sklearn/base.py:1151: DataConversionWarning: A column-vector y was passed when a 1d array was expected. Please change the shape of y to (n_samples,), for example using ravel().\n",
      "  return fit_method(estimator, *args, **kwargs)\n"
     ]
    },
    {
     "name": "stdout",
     "output_type": "stream",
     "text": [
      "[[-6.21295226e-01 -1.68842650e+00  5.11592643e+01 ... -1.30402938e+00\n",
      "  -1.68842650e+00 -1.79636167e+00]\n",
      " [-1.30826745e+00 -1.70721296e-01  4.51737066e+00 ... -1.30402938e+00\n",
      "  -1.70721296e-01 -1.63778151e-01]\n",
      " [-4.16647424e-02 -2.35723593e-01  1.31675944e+00 ... -1.30402938e+00\n",
      "  -2.35723593e-01 -2.32107777e-01]\n",
      " ...\n",
      " [ 1.39595337e-01  5.36911872e-02 -5.64312258e-03 ... -3.88517055e-01\n",
      "   5.36911872e-02  7.10654712e-02]\n",
      " [-2.62791150e-01 -1.04993518e-01 -2.07362000e-02 ... -6.65080619e-01\n",
      "  -1.04993518e-01 -9.48260821e-02]\n",
      " [-5.26709843e-02 -9.31367179e-02 -2.22743846e-02 ... -9.00761033e-01\n",
      "  -9.31367179e-02 -8.24026061e-02]]\n"
     ]
    }
   ],
   "source": [
    "for symbol in symbols:\n",
    "  \n",
    "    # Set Target (for Supervised ML later on)\n",
    "    finaldata[symbol][\"TARGET\"] = -1\n",
    "    finaldata[symbol].loc[finaldata[symbol][\"Close\"].shift(-1) > finaldata[symbol][\"Close\"], \"TARGET\"] = 1\n",
    "    finaldata[symbol].dropna(inplace=True)\n",
    "    #print(finaldata)\n",
    "    df_tar = finaldata[symbol][[\"TARGET\"]]\n",
    "    df_stationar = StandardScaler().fit_transform(finaldata[symbol].iloc[:, :-1])\n",
    "   # print(df_tar)\n",
    "\n",
    "    retrained_model = loaded_models[symbol].fit(df_stationar,df_tar)\n",
    "    print(df_stationar)\n",
    "    with open('../TrainedModel/indicator/{}_model_2.pkl'.format(symbol), 'wb') as f:\n",
    "        pickle.dump(retrained_model, f)\n"
   ]
  }
 ],
 "metadata": {
  "colab": {
   "authorship_tag": "ABX9TyONf4Fw76cQlH82pdR3h9Fa",
   "mount_file_id": "182alF94XmFPfm3NMnYKs4Tu9b-3DTW7y",
   "name": "Facebook Prophet + XGBoost Challenge Template.ipynb",
   "provenance": []
  },
  "kernelspec": {
   "display_name": "Python 3 (ipykernel)",
   "language": "python",
   "name": "python3"
  },
  "language_info": {
   "codemirror_mode": {
    "name": "ipython",
    "version": 3
   },
   "file_extension": ".py",
   "mimetype": "text/x-python",
   "name": "python",
   "nbconvert_exporter": "python",
   "pygments_lexer": "ipython3",
   "version": "3.9.16"
  }
 },
 "nbformat": 4,
 "nbformat_minor": 1
}
