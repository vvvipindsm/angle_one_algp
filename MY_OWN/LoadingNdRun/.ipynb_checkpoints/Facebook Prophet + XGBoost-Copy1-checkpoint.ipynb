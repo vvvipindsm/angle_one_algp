{
 "cells": [
  {
   "cell_type": "markdown",
   "metadata": {
    "id": "QZK36hW6M7cl"
   },
   "source": [
    "#Libraries and Data"
   ]
  },
  {
   "cell_type": "code",
   "execution_count": 85,
   "metadata": {
    "executionInfo": {
     "elapsed": 2554,
     "status": "ok",
     "timestamp": 1621008666318,
     "user": {
      "displayName": "Diogo Resende",
      "photoUrl": "https://lh3.googleusercontent.com/a-/AOh14GgH4DE06-yE1oiIzCiaAURCl1Escr4LXXiaSnbSaA=s64",
      "userId": "05706604408624562002"
     },
     "user_tz": -120
    },
    "id": "xBzm1qtYNE6M"
   },
   "outputs": [],
   "source": [
    "#import libraries\n",
    "import numpy as np\n",
    "import pandas as pd\n",
    "import itertools\n",
    "from prophet import Prophet\n",
    "import yfinance\n",
    "import pickle\n",
    "import xgboost as xgb\n",
    "from datetime import datetime"
   ]
  },
  {
   "cell_type": "code",
   "execution_count": null,
   "metadata": {},
   "outputs": [],
   "source": [
    "def fbprobetModel(stock_name,input_data):\n",
    "    input_data[\"High\"]\n",
    "    # Load the saved model from the file\n",
    "    loaded_model = {}\n",
    "    with open('../TrainedModel/prophet/{}_prophet_model_1.pkl'.format(stock_name), 'rb') as f:\n",
    "        loaded_model = pickle.load(f)\n",
    "    \n",
    "    # Load the saved model from the file\n",
    "    loaded_model_prophet = {}\n",
    "    with open('../TrainedModel/prophet/{}prophet_model_2.pkl'.format(stock_name), 'rb') as f:\n",
    "        loaded_model_prophet = pickle.load(f)\n",
    "    \n",
    "    data = {\n",
    "    'ds' : [input_data[\"ds\"]]\n",
    "     }\n",
    "\n",
    "    # Create a new DataFrame object\n",
    "    data_fr = pd.DataFrame(data)\n",
    "    data_fr.head()\n",
    "    \n",
    "    forecast = loaded_model_prophet.predict(data_fr)\n",
    "    forecast\n",
    "    \n",
    "    #get some variables\n",
    "    df_xgb = forecast.loc[:, [\"trend\", \"weekly\",  \"multiplicative_terms\",\"yhat\"]]\n",
    "    # Create a dictionary with data\n",
    "    data = {\n",
    "        'High': [input_data[\"High\"]],\n",
    "        'Low': [input_data[\"Low\"]],\n",
    "        'y': [input_data[\"Close\"]],\n",
    "        'Volume': [input_data[\"Volume\"]],\n",
    "        'trend': df_xgb.head(1).trend.values,\n",
    "        'weekly':df_xgb.head(1).weekly.values,\n",
    "        'multiplicative_terms': df_xgb.head(1).multiplicative_terms.values,\n",
    "    }\n",
    "\n",
    "    # Create a new DataFrame object\n",
    "    df = pd.DataFrame(data)\n",
    "    Future = xgb.DMatrix(df, label = df.y)\n",
    "\n",
    "    f_predictions = pd.Series(loaded_model.predict(Future), name = \"XGBoost\")\n",
    "    return f_predictions\n"
   ]
  },
  {
   "cell_type": "code",
   "execution_count": 21,
   "metadata": {},
   "outputs": [],
   "source": [
    "def fetch_stock_data(tickers):\n",
    "    data = yfinance.download(tickers,period='1d')\n",
    "    return data"
   ]
  },
  {
   "cell_type": "code",
   "execution_count": 23,
   "metadata": {},
   "outputs": [
    {
     "name": "stdout",
     "output_type": "stream",
     "text": [
      "[*********************100%***********************]  7 of 7 completed\n",
      "           Adj Close                                                   \\\n",
      "              BEL.NS   CONCOR.NS ELGIEQUIP.NS     IOC.NS        LT.NS   \n",
      "Date                                                                    \n",
      "2023-06-30    125.75  661.799988   541.599976  91.300003  2475.550049   \n",
      "\n",
      "                                      Close                           ...  \\\n",
      "            OLECTRA.NS TATAELXSI.NS  BEL.NS   CONCOR.NS ELGIEQUIP.NS  ...   \n",
      "Date                                                                  ...   \n",
      "2023-06-30  972.200012       7588.5  125.75  661.799988   541.599976  ...   \n",
      "\n",
      "              Open                            Volume                         \\\n",
      "             LT.NS OLECTRA.NS TATAELXSI.NS    BEL.NS CONCOR.NS ELGIEQUIP.NS   \n",
      "Date                                                                          \n",
      "2023-06-30  2420.0      960.5       7623.0  27965021    580733       511615   \n",
      "\n",
      "                                                       \n",
      "              IOC.NS    LT.NS OLECTRA.NS TATAELXSI.NS  \n",
      "Date                                                   \n",
      "2023-06-30  12581625  2690469    3391180       139310  \n",
      "\n",
      "[1 rows x 42 columns]\n"
     ]
    }
   ],
   "source": [
    "tickers = [\"OLECTRA.NS\",\"LT.NS\",\"CONCOR.NS\",\"ELGIEQUIP.NS\",\"IOC.NS\",\"BEL.NS\",\"TATAELXSI.NS\"]\n",
    "  # Add the tickers you want to fetch data for\n",
    "stock_data = fetch_stock_data(tickers)\n"
   ]
  },
  {
   "cell_type": "code",
   "execution_count": 92,
   "metadata": {},
   "outputs": [
    {
     "name": "stdout",
     "output_type": "stream",
     "text": [
      "1006.8499755859375\n",
      "0    971.651428\n",
      "Name: XGBoost, dtype: float32\n",
      "2483.5\n",
      "0    2470.361328\n",
      "Name: XGBoost, dtype: float32\n",
      "663.5999755859375\n",
      "0    662.865906\n",
      "Name: XGBoost, dtype: float32\n",
      "545.0\n",
      "0    545.674683\n",
      "Name: XGBoost, dtype: float32\n",
      "91.94999694824219\n",
      "0    91.842064\n",
      "Name: XGBoost, dtype: float32\n",
      "126.69999694824219\n",
      "0    125.674614\n",
      "Name: XGBoost, dtype: float32\n",
      "7686.14990234375\n",
      "0    7769.513672\n",
      "Name: XGBoost, dtype: float32\n",
      "[['02-07-2023', 971.6514, 0, 'prophet', 'OLECTRA'], ['02-07-2023', 2470.3613, 0, 'prophet', 'LT'], ['02-07-2023', 662.8659, 0, 'prophet', 'CONCOR'], ['02-07-2023', 545.6747, 0, 'prophet', 'ELGIEQUIP'], ['02-07-2023', 91.842064, 0, 'prophet', 'IOC'], ['02-07-2023', 125.674614, 0, 'prophet', 'BEL'], ['02-07-2023', 7769.5137, 0, 'prophet', 'TATAELXSI']]\n"
     ]
    }
   ],
   "source": [
    "\n",
    "result = []\n",
    "Icdate = 0\n",
    "Iresult = 1\n",
    "IisClassification = 2\n",
    "Imodel = 3\n",
    "Istock = 4\n",
    "\n",
    "current_date = datetime.now().strftime(\"%d-%m-%Y\")\n",
    "\n",
    "for ticker in tickers:\n",
    "    print(stock_data.head(1).High[ticker].values[0])\n",
    "    input_data = {\n",
    "                    \"Close\" : stock_data.head(1).High[ticker].values[0],\n",
    "                    \"High\" : stock_data.head(1).High[ticker].values[0],\n",
    "                    \"Low\" : stock_data.head(1).Low[ticker].values[0], \n",
    "                    \"Volume\" : stock_data.head(1).Volume[ticker].values[0],\n",
    "                    \"ds\":np.datetime_as_string(stock_data.index, unit='D')[0]\n",
    "                }\n",
    "    \n",
    "    \n",
    "    stock_name_only = ticker.replace(\".NS\",\"\")\n",
    "    model_result  = fbprobetModel(stock_name_only,input_data)\n",
    "    print(model_result)\n",
    "    result.append([current_date,model_result[0],0,'prophet',stock_name_only])\n"
   ]
  },
  {
   "cell_type": "code",
   "execution_count": 108,
   "metadata": {},
   "outputs": [
    {
     "data": {
      "text/plain": [
       "{'data': [{'cdate': '02-07-2023',\n",
       "   'result': '971.6514',\n",
       "   'isClassification': 0,\n",
       "   'model': 'prophet',\n",
       "   'stock': 'OLECTRA'},\n",
       "  {'cdate': '02-07-2023',\n",
       "   'result': '2470.3613',\n",
       "   'isClassification': 0,\n",
       "   'model': 'prophet',\n",
       "   'stock': 'LT'},\n",
       "  {'cdate': '02-07-2023',\n",
       "   'result': '662.8659',\n",
       "   'isClassification': 0,\n",
       "   'model': 'prophet',\n",
       "   'stock': 'CONCOR'},\n",
       "  {'cdate': '02-07-2023',\n",
       "   'result': '545.6747',\n",
       "   'isClassification': 0,\n",
       "   'model': 'prophet',\n",
       "   'stock': 'ELGIEQUIP'},\n",
       "  {'cdate': '02-07-2023',\n",
       "   'result': '91.842064',\n",
       "   'isClassification': 0,\n",
       "   'model': 'prophet',\n",
       "   'stock': 'IOC'},\n",
       "  {'cdate': '02-07-2023',\n",
       "   'result': '125.674614',\n",
       "   'isClassification': 0,\n",
       "   'model': 'prophet',\n",
       "   'stock': 'BEL'},\n",
       "  {'cdate': '02-07-2023',\n",
       "   'result': '7769.5137',\n",
       "   'isClassification': 0,\n",
       "   'model': 'prophet',\n",
       "   'stock': 'TATAELXSI'}]}"
      ]
     },
     "execution_count": 108,
     "metadata": {},
     "output_type": "execute_result"
    }
   ],
   "source": [
    "dataa = { \"data\":[]} \n",
    "for res in result:\n",
    "    dataa[\"data\"].append({  \"cdate\": res[Icdate],\n",
    "            \"result\": str(res[Iresult]),\n",
    "            \"isClassification\": res[IisClassification],\n",
    "            \"model\": res[Imodel],\n",
    "            \"stock\": res[Istock]})"
   ]
  },
  {
   "cell_type": "code",
   "execution_count": 110,
   "metadata": {},
   "outputs": [
    {
     "name": "stdout",
     "output_type": "stream",
     "text": [
      "200\n",
      "<Response [200]>\n"
     ]
    }
   ],
   "source": [
    "import requests\n",
    "import json\n",
    "\n",
    "url = \"https://website-development-kerala.com/api_214124524/ai_model_daily_runner.php\"\n",
    "\n",
    "response = requests.post(url, json=dataa)\n",
    "print(response.status_code)\n",
    "print(response)"
   ]
  }
 ],
 "metadata": {
  "colab": {
   "authorship_tag": "ABX9TyONf4Fw76cQlH82pdR3h9Fa",
   "mount_file_id": "182alF94XmFPfm3NMnYKs4Tu9b-3DTW7y",
   "name": "Facebook Prophet + XGBoost Challenge Template.ipynb",
   "provenance": []
  },
  "kernelspec": {
   "display_name": "Python 3 (ipykernel)",
   "language": "python",
   "name": "python3"
  },
  "language_info": {
   "codemirror_mode": {
    "name": "ipython",
    "version": 3
   },
   "file_extension": ".py",
   "mimetype": "text/x-python",
   "name": "python",
   "nbconvert_exporter": "python",
   "pygments_lexer": "ipython3",
   "version": "3.9.16"
  }
 },
 "nbformat": 4,
 "nbformat_minor": 1
}
