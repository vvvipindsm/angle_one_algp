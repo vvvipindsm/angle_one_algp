{
 "cells": [
  {
   "cell_type": "markdown",
   "metadata": {
    "id": "QZK36hW6M7cl"
   },
   "source": [
    "#Libraries and Data"
   ]
  },
  {
   "cell_type": "code",
   "execution_count": 1,
   "metadata": {
    "executionInfo": {
     "elapsed": 2554,
     "status": "ok",
     "timestamp": 1621008666318,
     "user": {
      "displayName": "Diogo Resende",
      "photoUrl": "https://lh3.googleusercontent.com/a-/AOh14GgH4DE06-yE1oiIzCiaAURCl1Escr4LXXiaSnbSaA=s64",
      "userId": "05706604408624562002"
     },
     "user_tz": -120
    },
    "id": "xBzm1qtYNE6M"
   },
   "outputs": [
    {
     "name": "stderr",
     "output_type": "stream",
     "text": [
      "/Users/vipin/opt/anaconda3/envs/my_own/lib/python3.9/site-packages/tqdm/auto.py:21: TqdmWarning: IProgress not found. Please update jupyter and ipywidgets. See https://ipywidgets.readthedocs.io/en/stable/user_install.html\n",
      "  from .autonotebook import tqdm as notebook_tqdm\n",
      "Importing plotly failed. Interactive plots will not work.\n"
     ]
    }
   ],
   "source": [
    "#import libraries\n",
    "import numpy as np\n",
    "import pandas as pd\n",
    "import itertools\n",
    "from prophet import Prophet\n",
    "import yfinance\n",
    "import pickle\n",
    "from ta import add_all_ta_features\n",
    "from sklearn.model_selection import GridSearchCV\n",
    "from sklearn.preprocessing import StandardScaler\n",
    "from statsmodels.tsa.stattools import adfuller\n",
    "from matplotlib.pylab import rcParams\n",
    "from sklearn import tree\n",
    "from sklearn.metrics import roc_auc_score\n",
    "import matplotlib.pyplot as plt\n"
   ]
  },
  {
   "cell_type": "code",
   "execution_count": 2,
   "metadata": {},
   "outputs": [],
   "source": [
    "#load the data\n",
    "\n",
    "#data = yfinance.download (tickers = \"TATAPOWER.NS\",start=\"2017-03-06\",\n",
    " #                              interval = \"1d\", group_by = 'ticker', auto_adjust = True)\n",
    "\n",
    "#data.tail()\n",
    "#[\"RELI\",\"HDFCBANK.NS\",\"TATAMOTORS.NS\",\"SBIN.NS\",\"TATAMOTORS.NS\",\"TCS.NS\",\"TITAN.NS\",\"SUNPHARMA.BO\",\"TECHM.NS\",\n",
    "# \"ASIANPAINT.NS\",\"TATACONSUM.NS\"]\n",
    "symbol = \"OLECTRA.BO\"\n",
    "#[\"OLECTRA.NS\",\"LT.NS\",\"CONCOR.NS\",\"ELGIEQUIP.NS\",\"IOC.NS\",\"BEL.NS\",\"TATAELXSI.NS\",\"^NSEI\"]\n",
    "data = pd.read_csv(\"../stock_historical_data/{}.csv\".format(symbol))\n",
    "data.set_index(\"Date\", inplace=True)"
   ]
  },
  {
   "cell_type": "code",
   "execution_count": 3,
   "metadata": {},
   "outputs": [
    {
     "data": {
      "text/plain": [
       "Index(['2010-01-04', '2010-01-05', '2010-01-06', '2010-01-07', '2010-01-08',\n",
       "       '2010-01-11', '2010-01-12', '2010-01-13', '2010-01-14', '2010-01-15',\n",
       "       ...\n",
       "       '2023-06-21', '2023-06-22', '2023-06-23', '2023-06-26', '2023-06-27',\n",
       "       '2023-06-28', '2023-06-30', '2023-07-07', '2023-07-10', '2023-07-14'],\n",
       "      dtype='object', name='Date', length=3325)"
      ]
     },
     "execution_count": 3,
     "metadata": {},
     "output_type": "execute_result"
    }
   ],
   "source": [
    "data.index"
   ]
  },
  {
   "cell_type": "markdown",
   "metadata": {
    "id": "6RKxpqoBOSBX"
   },
   "source": [
    "#Data preparation"
   ]
  },
  {
   "cell_type": "code",
   "execution_count": 4,
   "metadata": {
    "colab": {
     "base_uri": "https://localhost:8080/"
    },
    "executionInfo": {
     "elapsed": 843,
     "status": "ok",
     "timestamp": 1621008673660,
     "user": {
      "displayName": "Diogo Resende",
      "photoUrl": "https://lh3.googleusercontent.com/a-/AOh14GgH4DE06-yE1oiIzCiaAURCl1Escr4LXXiaSnbSaA=s64",
      "userId": "05706604408624562002"
     },
     "user_tz": -120
    },
    "id": "o55_2auGOUm6",
    "outputId": "7b72e62e-b26c-451e-c930-f7e794b87c23"
   },
   "outputs": [],
   "source": [
    "#transform the date variable\n",
    "data[\"Date\"] = pd.to_datetime(data.index)\n"
   ]
  },
  {
   "cell_type": "code",
   "execution_count": 5,
   "metadata": {
    "colab": {
     "base_uri": "https://localhost:8080/",
     "height": 79
    },
    "executionInfo": {
     "elapsed": 744,
     "status": "ok",
     "timestamp": 1621008692325,
     "user": {
      "displayName": "Diogo Resende",
      "photoUrl": "https://lh3.googleusercontent.com/a-/AOh14GgH4DE06-yE1oiIzCiaAURCl1Escr4LXXiaSnbSaA=s64",
      "userId": "05706604408624562002"
     },
     "user_tz": -120
    },
    "id": "D3FRYUauQWkz",
    "outputId": "96122dd3-0ca2-496a-e72d-a04c87425033"
   },
   "outputs": [],
   "source": [
    "#renaming variables\n",
    "data[\"y\"] = data[\"Close\"]\n",
    "data = data.rename(columns = {\n",
    "                     'Date': 'ds'})\n",
    "data.head(10)\n",
    "data = data.reset_index()"
   ]
  },
  {
   "cell_type": "markdown",
   "metadata": {
    "id": "rbI03M5DQnf7"
   },
   "source": [
    "#Holidays"
   ]
  },
  {
   "cell_type": "code",
   "execution_count": 6,
   "metadata": {},
   "outputs": [
    {
     "name": "stderr",
     "output_type": "stream",
     "text": [
      "/Users/vipin/opt/anaconda3/envs/my_own/lib/python3.9/site-packages/ta/trend.py:780: RuntimeWarning: invalid value encountered in scalar divide\n",
      "  dip[idx] = 100 * (self._dip[idx] / value)\n",
      "/Users/vipin/opt/anaconda3/envs/my_own/lib/python3.9/site-packages/ta/trend.py:785: RuntimeWarning: invalid value encountered in scalar divide\n",
      "  din[idx] = 100 * (self._din[idx] / value)\n"
     ]
    }
   ],
   "source": [
    "data  = add_all_ta_features(data, open=\"Open\", high=\"High\", low=\"Low\", close=\"Close\", volume=\"Volume\", fillna=True)"
   ]
  },
  {
   "cell_type": "code",
   "execution_count": 7,
   "metadata": {
    "executionInfo": {
     "elapsed": 789,
     "status": "ok",
     "timestamp": 1621008765383,
     "user": {
      "displayName": "Diogo Resende",
      "photoUrl": "https://lh3.googleusercontent.com/a-/AOh14GgH4DE06-yE1oiIzCiaAURCl1Escr4LXXiaSnbSaA=s64",
      "userId": "05706604408624562002"
     },
     "user_tz": -120
    },
    "id": "-ReDePNYpfSD"
   },
   "outputs": [],
   "source": [
    "#create training and test set\n",
    "test_days = 60\n",
    "training_set = data.iloc[:-test_days,:]\n",
    "test_set = data.iloc[-test_days:,:]"
   ]
  },
  {
   "cell_type": "code",
   "execution_count": 8,
   "metadata": {},
   "outputs": [
    {
     "data": {
      "text/html": [
       "<div>\n",
       "<style scoped>\n",
       "    .dataframe tbody tr th:only-of-type {\n",
       "        vertical-align: middle;\n",
       "    }\n",
       "\n",
       "    .dataframe tbody tr th {\n",
       "        vertical-align: top;\n",
       "    }\n",
       "\n",
       "    .dataframe thead th {\n",
       "        text-align: right;\n",
       "    }\n",
       "</style>\n",
       "<table border=\"1\" class=\"dataframe\">\n",
       "  <thead>\n",
       "    <tr style=\"text-align: right;\">\n",
       "      <th></th>\n",
       "      <th>Date</th>\n",
       "      <th>Open</th>\n",
       "      <th>High</th>\n",
       "      <th>Low</th>\n",
       "      <th>Close</th>\n",
       "      <th>Volume</th>\n",
       "      <th>ds</th>\n",
       "      <th>y</th>\n",
       "      <th>volume_adi</th>\n",
       "      <th>volume_obv</th>\n",
       "      <th>...</th>\n",
       "      <th>momentum_ppo</th>\n",
       "      <th>momentum_ppo_signal</th>\n",
       "      <th>momentum_ppo_hist</th>\n",
       "      <th>momentum_pvo</th>\n",
       "      <th>momentum_pvo_signal</th>\n",
       "      <th>momentum_pvo_hist</th>\n",
       "      <th>momentum_kama</th>\n",
       "      <th>others_dr</th>\n",
       "      <th>others_dlr</th>\n",
       "      <th>others_cr</th>\n",
       "    </tr>\n",
       "  </thead>\n",
       "  <tbody>\n",
       "    <tr>\n",
       "      <th>0</th>\n",
       "      <td>2010-01-04</td>\n",
       "      <td>134.570376</td>\n",
       "      <td>135.357857</td>\n",
       "      <td>131.507980</td>\n",
       "      <td>131.954224</td>\n",
       "      <td>99480</td>\n",
       "      <td>2010-01-04</td>\n",
       "      <td>131.954224</td>\n",
       "      <td>-7.641833e+04</td>\n",
       "      <td>99480</td>\n",
       "      <td>...</td>\n",
       "      <td>0.000000</td>\n",
       "      <td>0.000000</td>\n",
       "      <td>0.000000</td>\n",
       "      <td>0.000000</td>\n",
       "      <td>0.000000</td>\n",
       "      <td>0.000000</td>\n",
       "      <td>131.954224</td>\n",
       "      <td>-76.588236</td>\n",
       "      <td>0.000000</td>\n",
       "      <td>0.000000</td>\n",
       "    </tr>\n",
       "    <tr>\n",
       "      <th>1</th>\n",
       "      <td>2010-01-05</td>\n",
       "      <td>133.782930</td>\n",
       "      <td>136.495343</td>\n",
       "      <td>132.251732</td>\n",
       "      <td>135.948486</td>\n",
       "      <td>148210</td>\n",
       "      <td>2010-01-05</td>\n",
       "      <td>135.948486</td>\n",
       "      <td>3.359326e+04</td>\n",
       "      <td>247690</td>\n",
       "      <td>...</td>\n",
       "      <td>0.240930</td>\n",
       "      <td>0.048186</td>\n",
       "      <td>0.192744</td>\n",
       "      <td>3.770790</td>\n",
       "      <td>0.754158</td>\n",
       "      <td>3.016632</td>\n",
       "      <td>133.436111</td>\n",
       "      <td>3.027006</td>\n",
       "      <td>2.982097</td>\n",
       "      <td>3.027006</td>\n",
       "    </tr>\n",
       "    <tr>\n",
       "      <th>2</th>\n",
       "      <td>2010-01-06</td>\n",
       "      <td>136.591558</td>\n",
       "      <td>137.895255</td>\n",
       "      <td>134.045392</td>\n",
       "      <td>137.256531</td>\n",
       "      <td>177430</td>\n",
       "      <td>2010-01-06</td>\n",
       "      <td>137.256531</td>\n",
       "      <td>1.521490e+05</td>\n",
       "      <td>425120</td>\n",
       "      <td>...</td>\n",
       "      <td>0.504433</td>\n",
       "      <td>0.139436</td>\n",
       "      <td>0.364998</td>\n",
       "      <td>8.489730</td>\n",
       "      <td>2.301272</td>\n",
       "      <td>6.188457</td>\n",
       "      <td>134.851307</td>\n",
       "      <td>0.962162</td>\n",
       "      <td>0.957563</td>\n",
       "      <td>4.018293</td>\n",
       "    </tr>\n",
       "    <tr>\n",
       "      <th>3</th>\n",
       "      <td>2010-01-07</td>\n",
       "      <td>136.495329</td>\n",
       "      <td>137.807784</td>\n",
       "      <td>133.870418</td>\n",
       "      <td>134.920380</td>\n",
       "      <td>122270</td>\n",
       "      <td>2010-01-07</td>\n",
       "      <td>134.920380</td>\n",
       "      <td>9.508952e+04</td>\n",
       "      <td>302850</td>\n",
       "      <td>...</td>\n",
       "      <td>0.564416</td>\n",
       "      <td>0.224432</td>\n",
       "      <td>0.339984</td>\n",
       "      <td>8.112387</td>\n",
       "      <td>3.463495</td>\n",
       "      <td>4.648892</td>\n",
       "      <td>134.877031</td>\n",
       "      <td>-1.702033</td>\n",
       "      <td>-1.716684</td>\n",
       "      <td>2.247867</td>\n",
       "    </tr>\n",
       "    <tr>\n",
       "      <th>4</th>\n",
       "      <td>2010-01-08</td>\n",
       "      <td>135.191609</td>\n",
       "      <td>140.432684</td>\n",
       "      <td>135.191609</td>\n",
       "      <td>137.768402</td>\n",
       "      <td>340780</td>\n",
       "      <td>2010-01-08</td>\n",
       "      <td>137.768402</td>\n",
       "      <td>8.940090e+04</td>\n",
       "      <td>643630</td>\n",
       "      <td>...</td>\n",
       "      <td>0.774425</td>\n",
       "      <td>0.334430</td>\n",
       "      <td>0.439995</td>\n",
       "      <td>20.487892</td>\n",
       "      <td>6.868375</td>\n",
       "      <td>13.619517</td>\n",
       "      <td>135.958477</td>\n",
       "      <td>2.110891</td>\n",
       "      <td>2.088921</td>\n",
       "      <td>4.406209</td>\n",
       "    </tr>\n",
       "    <tr>\n",
       "      <th>...</th>\n",
       "      <td>...</td>\n",
       "      <td>...</td>\n",
       "      <td>...</td>\n",
       "      <td>...</td>\n",
       "      <td>...</td>\n",
       "      <td>...</td>\n",
       "      <td>...</td>\n",
       "      <td>...</td>\n",
       "      <td>...</td>\n",
       "      <td>...</td>\n",
       "      <td>...</td>\n",
       "      <td>...</td>\n",
       "      <td>...</td>\n",
       "      <td>...</td>\n",
       "      <td>...</td>\n",
       "      <td>...</td>\n",
       "      <td>...</td>\n",
       "      <td>...</td>\n",
       "      <td>...</td>\n",
       "      <td>...</td>\n",
       "      <td>...</td>\n",
       "    </tr>\n",
       "    <tr>\n",
       "      <th>3260</th>\n",
       "      <td>2023-03-27</td>\n",
       "      <td>980.049988</td>\n",
       "      <td>991.000000</td>\n",
       "      <td>963.950012</td>\n",
       "      <td>983.950012</td>\n",
       "      <td>79013</td>\n",
       "      <td>2023-03-27</td>\n",
       "      <td>983.950012</td>\n",
       "      <td>-8.726704e+07</td>\n",
       "      <td>22477699</td>\n",
       "      <td>...</td>\n",
       "      <td>-0.346361</td>\n",
       "      <td>-0.802875</td>\n",
       "      <td>0.456514</td>\n",
       "      <td>-14.108738</td>\n",
       "      <td>-19.187212</td>\n",
       "      <td>5.078474</td>\n",
       "      <td>967.702366</td>\n",
       "      <td>1.146179</td>\n",
       "      <td>1.139660</td>\n",
       "      <td>645.675269</td>\n",
       "    </tr>\n",
       "    <tr>\n",
       "      <th>3261</th>\n",
       "      <td>2023-03-28</td>\n",
       "      <td>984.049988</td>\n",
       "      <td>987.500000</td>\n",
       "      <td>976.299988</td>\n",
       "      <td>984.200012</td>\n",
       "      <td>26652</td>\n",
       "      <td>2023-03-28</td>\n",
       "      <td>984.200012</td>\n",
       "      <td>-8.725610e+07</td>\n",
       "      <td>22504351</td>\n",
       "      <td>...</td>\n",
       "      <td>-0.192651</td>\n",
       "      <td>-0.680830</td>\n",
       "      <td>0.488179</td>\n",
       "      <td>-15.681423</td>\n",
       "      <td>-18.486054</td>\n",
       "      <td>2.804632</td>\n",
       "      <td>968.927709</td>\n",
       "      <td>0.025408</td>\n",
       "      <td>0.025405</td>\n",
       "      <td>645.864729</td>\n",
       "    </tr>\n",
       "    <tr>\n",
       "      <th>3262</th>\n",
       "      <td>2023-03-29</td>\n",
       "      <td>978.000000</td>\n",
       "      <td>996.650024</td>\n",
       "      <td>978.000000</td>\n",
       "      <td>990.700012</td>\n",
       "      <td>57947</td>\n",
       "      <td>2023-03-29</td>\n",
       "      <td>990.700012</td>\n",
       "      <td>-8.723512e+07</td>\n",
       "      <td>22562298</td>\n",
       "      <td>...</td>\n",
       "      <td>-0.016960</td>\n",
       "      <td>-0.548056</td>\n",
       "      <td>0.531096</td>\n",
       "      <td>-10.435440</td>\n",
       "      <td>-16.875931</td>\n",
       "      <td>6.440492</td>\n",
       "      <td>971.899990</td>\n",
       "      <td>0.660435</td>\n",
       "      <td>0.658264</td>\n",
       "      <td>650.790679</td>\n",
       "    </tr>\n",
       "    <tr>\n",
       "      <th>3263</th>\n",
       "      <td>2023-03-31</td>\n",
       "      <td>992.049988</td>\n",
       "      <td>994.500000</td>\n",
       "      <td>981.299988</td>\n",
       "      <td>983.099976</td>\n",
       "      <td>24667</td>\n",
       "      <td>2023-03-31</td>\n",
       "      <td>983.099976</td>\n",
       "      <td>-8.725306e+07</td>\n",
       "      <td>22537631</td>\n",
       "      <td>...</td>\n",
       "      <td>0.058407</td>\n",
       "      <td>-0.426764</td>\n",
       "      <td>0.485170</td>\n",
       "      <td>-12.845000</td>\n",
       "      <td>-16.069745</td>\n",
       "      <td>3.224745</td>\n",
       "      <td>972.357000</td>\n",
       "      <td>-0.767138</td>\n",
       "      <td>-0.770096</td>\n",
       "      <td>645.031079</td>\n",
       "    </tr>\n",
       "    <tr>\n",
       "      <th>3264</th>\n",
       "      <td>2023-04-03</td>\n",
       "      <td>982.000000</td>\n",
       "      <td>987.950012</td>\n",
       "      <td>976.299988</td>\n",
       "      <td>977.900024</td>\n",
       "      <td>35505</td>\n",
       "      <td>2023-04-03</td>\n",
       "      <td>977.900024</td>\n",
       "      <td>-8.727882e+07</td>\n",
       "      <td>22502126</td>\n",
       "      <td>...</td>\n",
       "      <td>0.074213</td>\n",
       "      <td>-0.326568</td>\n",
       "      <td>0.400781</td>\n",
       "      <td>-12.476292</td>\n",
       "      <td>-15.351055</td>\n",
       "      <td>2.874763</td>\n",
       "      <td>972.707929</td>\n",
       "      <td>-0.528934</td>\n",
       "      <td>-0.530338</td>\n",
       "      <td>641.090355</td>\n",
       "    </tr>\n",
       "  </tbody>\n",
       "</table>\n",
       "<p>3265 rows × 94 columns</p>\n",
       "</div>"
      ],
      "text/plain": [
       "            Date        Open        High         Low       Close  Volume  \\\n",
       "0     2010-01-04  134.570376  135.357857  131.507980  131.954224   99480   \n",
       "1     2010-01-05  133.782930  136.495343  132.251732  135.948486  148210   \n",
       "2     2010-01-06  136.591558  137.895255  134.045392  137.256531  177430   \n",
       "3     2010-01-07  136.495329  137.807784  133.870418  134.920380  122270   \n",
       "4     2010-01-08  135.191609  140.432684  135.191609  137.768402  340780   \n",
       "...          ...         ...         ...         ...         ...     ...   \n",
       "3260  2023-03-27  980.049988  991.000000  963.950012  983.950012   79013   \n",
       "3261  2023-03-28  984.049988  987.500000  976.299988  984.200012   26652   \n",
       "3262  2023-03-29  978.000000  996.650024  978.000000  990.700012   57947   \n",
       "3263  2023-03-31  992.049988  994.500000  981.299988  983.099976   24667   \n",
       "3264  2023-04-03  982.000000  987.950012  976.299988  977.900024   35505   \n",
       "\n",
       "             ds           y    volume_adi  volume_obv  ...  momentum_ppo  \\\n",
       "0    2010-01-04  131.954224 -7.641833e+04       99480  ...      0.000000   \n",
       "1    2010-01-05  135.948486  3.359326e+04      247690  ...      0.240930   \n",
       "2    2010-01-06  137.256531  1.521490e+05      425120  ...      0.504433   \n",
       "3    2010-01-07  134.920380  9.508952e+04      302850  ...      0.564416   \n",
       "4    2010-01-08  137.768402  8.940090e+04      643630  ...      0.774425   \n",
       "...         ...         ...           ...         ...  ...           ...   \n",
       "3260 2023-03-27  983.950012 -8.726704e+07    22477699  ...     -0.346361   \n",
       "3261 2023-03-28  984.200012 -8.725610e+07    22504351  ...     -0.192651   \n",
       "3262 2023-03-29  990.700012 -8.723512e+07    22562298  ...     -0.016960   \n",
       "3263 2023-03-31  983.099976 -8.725306e+07    22537631  ...      0.058407   \n",
       "3264 2023-04-03  977.900024 -8.727882e+07    22502126  ...      0.074213   \n",
       "\n",
       "      momentum_ppo_signal  momentum_ppo_hist  momentum_pvo  \\\n",
       "0                0.000000           0.000000      0.000000   \n",
       "1                0.048186           0.192744      3.770790   \n",
       "2                0.139436           0.364998      8.489730   \n",
       "3                0.224432           0.339984      8.112387   \n",
       "4                0.334430           0.439995     20.487892   \n",
       "...                   ...                ...           ...   \n",
       "3260            -0.802875           0.456514    -14.108738   \n",
       "3261            -0.680830           0.488179    -15.681423   \n",
       "3262            -0.548056           0.531096    -10.435440   \n",
       "3263            -0.426764           0.485170    -12.845000   \n",
       "3264            -0.326568           0.400781    -12.476292   \n",
       "\n",
       "      momentum_pvo_signal  momentum_pvo_hist  momentum_kama  others_dr  \\\n",
       "0                0.000000           0.000000     131.954224 -76.588236   \n",
       "1                0.754158           3.016632     133.436111   3.027006   \n",
       "2                2.301272           6.188457     134.851307   0.962162   \n",
       "3                3.463495           4.648892     134.877031  -1.702033   \n",
       "4                6.868375          13.619517     135.958477   2.110891   \n",
       "...                   ...                ...            ...        ...   \n",
       "3260           -19.187212           5.078474     967.702366   1.146179   \n",
       "3261           -18.486054           2.804632     968.927709   0.025408   \n",
       "3262           -16.875931           6.440492     971.899990   0.660435   \n",
       "3263           -16.069745           3.224745     972.357000  -0.767138   \n",
       "3264           -15.351055           2.874763     972.707929  -0.528934   \n",
       "\n",
       "      others_dlr   others_cr  \n",
       "0       0.000000    0.000000  \n",
       "1       2.982097    3.027006  \n",
       "2       0.957563    4.018293  \n",
       "3      -1.716684    2.247867  \n",
       "4       2.088921    4.406209  \n",
       "...          ...         ...  \n",
       "3260    1.139660  645.675269  \n",
       "3261    0.025405  645.864729  \n",
       "3262    0.658264  650.790679  \n",
       "3263   -0.770096  645.031079  \n",
       "3264   -0.530338  641.090355  \n",
       "\n",
       "[3265 rows x 94 columns]"
      ]
     },
     "execution_count": 8,
     "metadata": {},
     "output_type": "execute_result"
    }
   ],
   "source": [
    "training_set"
   ]
  },
  {
   "cell_type": "markdown",
   "metadata": {
    "id": "eOzPNoRySOA5"
   },
   "source": [
    "#Prophet"
   ]
  },
  {
   "cell_type": "code",
   "execution_count": 9,
   "metadata": {
    "colab": {
     "base_uri": "https://localhost:8080/"
    },
    "executionInfo": {
     "elapsed": 8952,
     "status": "ok",
     "timestamp": 1621008811464,
     "user": {
      "displayName": "Diogo Resende",
      "photoUrl": "https://lh3.googleusercontent.com/a-/AOh14GgH4DE06-yE1oiIzCiaAURCl1Escr4LXXiaSnbSaA=s64",
      "userId": "05706604408624562002"
     },
     "user_tz": -120
    },
    "id": "Ai7zk9f7SPVK",
    "outputId": "8bcef281-3d36-49f1-9c8b-c875beeb5658"
   },
   "outputs": [
    {
     "name": "stderr",
     "output_type": "stream",
     "text": [
      "08:49:14 - cmdstanpy - INFO - Chain [1] start processing\n",
      "08:49:18 - cmdstanpy - INFO - Chain [1] done processing\n"
     ]
    },
    {
     "data": {
      "text/plain": [
       "<prophet.forecaster.Prophet at 0x7f99cac384c0>"
      ]
     },
     "execution_count": 9,
     "metadata": {},
     "output_type": "execute_result"
    }
   ],
   "source": [
    "m = Prophet(\n",
    "            #holidays = holidays,\n",
    "            #seasonality_mode = 'multiplicative',\n",
    "            #seasonality_prior_scale = 20,\n",
    "           # changepoint_prior_scale = 0.1,\n",
    "           # holidays_prior_scale = 10\n",
    "           )\n",
    "m.add_regressor('volume_adi')\n",
    "m.add_regressor('volume_obv')\n",
    "m.add_regressor('volume_cmf')\n",
    "m.add_regressor('others_dr')\n",
    "m.add_regressor('volume_adi')\n",
    "m.fit(training_set)\n"
   ]
  },
  {
   "cell_type": "code",
   "execution_count": 10,
   "metadata": {
    "executionInfo": {
     "elapsed": 938,
     "status": "ok",
     "timestamp": 1621009506406,
     "user": {
      "displayName": "Diogo Resende",
      "photoUrl": "https://lh3.googleusercontent.com/a-/AOh14GgH4DE06-yE1oiIzCiaAURCl1Escr4LXXiaSnbSaA=s64",
      "userId": "05706604408624562002"
     },
     "user_tz": -120
    },
    "id": "8-cqw_0isYEP"
   },
   "outputs": [],
   "source": [
    "future = pd.DataFrame({\"ds\" : data.ds})"
   ]
  },
  {
   "cell_type": "code",
   "execution_count": 11,
   "metadata": {
    "colab": {
     "base_uri": "https://localhost:8080/",
     "height": 309
    },
    "executionInfo": {
     "elapsed": 5052,
     "status": "ok",
     "timestamp": 1621009541010,
     "user": {
      "displayName": "Diogo Resende",
      "photoUrl": "https://lh3.googleusercontent.com/a-/AOh14GgH4DE06-yE1oiIzCiaAURCl1Escr4LXXiaSnbSaA=s64",
      "userId": "05706604408624562002"
     },
     "user_tz": -120
    },
    "id": "NaKE6JkDshxm",
    "outputId": "4c7aac39-520e-4944-a77b-e1d903925a7d"
   },
   "outputs": [
    {
     "data": {
      "text/html": [
       "<div>\n",
       "<style scoped>\n",
       "    .dataframe tbody tr th:only-of-type {\n",
       "        vertical-align: middle;\n",
       "    }\n",
       "\n",
       "    .dataframe tbody tr th {\n",
       "        vertical-align: top;\n",
       "    }\n",
       "\n",
       "    .dataframe thead th {\n",
       "        text-align: right;\n",
       "    }\n",
       "</style>\n",
       "<table border=\"1\" class=\"dataframe\">\n",
       "  <thead>\n",
       "    <tr style=\"text-align: right;\">\n",
       "      <th></th>\n",
       "      <th>ds</th>\n",
       "      <th>trend</th>\n",
       "      <th>yhat_lower</th>\n",
       "      <th>yhat_upper</th>\n",
       "      <th>trend_lower</th>\n",
       "      <th>trend_upper</th>\n",
       "      <th>additive_terms</th>\n",
       "      <th>additive_terms_lower</th>\n",
       "      <th>additive_terms_upper</th>\n",
       "      <th>extra_regressors_additive</th>\n",
       "      <th>...</th>\n",
       "      <th>weekly</th>\n",
       "      <th>weekly_lower</th>\n",
       "      <th>weekly_upper</th>\n",
       "      <th>yearly</th>\n",
       "      <th>yearly_lower</th>\n",
       "      <th>yearly_upper</th>\n",
       "      <th>multiplicative_terms</th>\n",
       "      <th>multiplicative_terms_lower</th>\n",
       "      <th>multiplicative_terms_upper</th>\n",
       "      <th>yhat</th>\n",
       "    </tr>\n",
       "  </thead>\n",
       "  <tbody>\n",
       "    <tr>\n",
       "      <th>3320</th>\n",
       "      <td>2023-06-28</td>\n",
       "      <td>1311.199963</td>\n",
       "      <td>1025.291779</td>\n",
       "      <td>1097.968503</td>\n",
       "      <td>1303.513747</td>\n",
       "      <td>1317.334834</td>\n",
       "      <td>-248.767018</td>\n",
       "      <td>-248.767018</td>\n",
       "      <td>-248.767018</td>\n",
       "      <td>-243.393501</td>\n",
       "      <td>...</td>\n",
       "      <td>3.699505</td>\n",
       "      <td>3.699505</td>\n",
       "      <td>3.699505</td>\n",
       "      <td>-9.073022</td>\n",
       "      <td>-9.073022</td>\n",
       "      <td>-9.073022</td>\n",
       "      <td>0.0</td>\n",
       "      <td>0.0</td>\n",
       "      <td>0.0</td>\n",
       "      <td>1062.432946</td>\n",
       "    </tr>\n",
       "    <tr>\n",
       "      <th>3321</th>\n",
       "      <td>2023-06-30</td>\n",
       "      <td>1312.143681</td>\n",
       "      <td>1049.355653</td>\n",
       "      <td>1126.527899</td>\n",
       "      <td>1304.240674</td>\n",
       "      <td>1318.572444</td>\n",
       "      <td>-223.839078</td>\n",
       "      <td>-223.839078</td>\n",
       "      <td>-223.839078</td>\n",
       "      <td>-219.582479</td>\n",
       "      <td>...</td>\n",
       "      <td>3.061282</td>\n",
       "      <td>3.061282</td>\n",
       "      <td>3.061282</td>\n",
       "      <td>-7.317881</td>\n",
       "      <td>-7.317881</td>\n",
       "      <td>-7.317881</td>\n",
       "      <td>0.0</td>\n",
       "      <td>0.0</td>\n",
       "      <td>0.0</td>\n",
       "      <td>1088.304602</td>\n",
       "    </tr>\n",
       "    <tr>\n",
       "      <th>3322</th>\n",
       "      <td>2023-07-07</td>\n",
       "      <td>1315.446691</td>\n",
       "      <td>1052.146484</td>\n",
       "      <td>1127.301321</td>\n",
       "      <td>1307.182198</td>\n",
       "      <td>1322.160082</td>\n",
       "      <td>-223.388157</td>\n",
       "      <td>-223.388157</td>\n",
       "      <td>-223.388157</td>\n",
       "      <td>-224.504718</td>\n",
       "      <td>...</td>\n",
       "      <td>3.061282</td>\n",
       "      <td>3.061282</td>\n",
       "      <td>3.061282</td>\n",
       "      <td>-1.944720</td>\n",
       "      <td>-1.944720</td>\n",
       "      <td>-1.944720</td>\n",
       "      <td>0.0</td>\n",
       "      <td>0.0</td>\n",
       "      <td>0.0</td>\n",
       "      <td>1092.058534</td>\n",
       "    </tr>\n",
       "    <tr>\n",
       "      <th>3323</th>\n",
       "      <td>2023-07-10</td>\n",
       "      <td>1316.862267</td>\n",
       "      <td>1058.199589</td>\n",
       "      <td>1136.668446</td>\n",
       "      <td>1308.185573</td>\n",
       "      <td>1323.784217</td>\n",
       "      <td>-218.831656</td>\n",
       "      <td>-218.831656</td>\n",
       "      <td>-218.831656</td>\n",
       "      <td>-221.826200</td>\n",
       "      <td>...</td>\n",
       "      <td>3.324801</td>\n",
       "      <td>3.324801</td>\n",
       "      <td>3.324801</td>\n",
       "      <td>-0.330257</td>\n",
       "      <td>-0.330257</td>\n",
       "      <td>-0.330257</td>\n",
       "      <td>0.0</td>\n",
       "      <td>0.0</td>\n",
       "      <td>0.0</td>\n",
       "      <td>1098.030611</td>\n",
       "    </tr>\n",
       "    <tr>\n",
       "      <th>3324</th>\n",
       "      <td>2023-07-14</td>\n",
       "      <td>1318.749702</td>\n",
       "      <td>1062.750751</td>\n",
       "      <td>1138.745714</td>\n",
       "      <td>1309.515763</td>\n",
       "      <td>1325.976424</td>\n",
       "      <td>-216.206481</td>\n",
       "      <td>-216.206481</td>\n",
       "      <td>-216.206481</td>\n",
       "      <td>-220.480860</td>\n",
       "      <td>...</td>\n",
       "      <td>3.061282</td>\n",
       "      <td>3.061282</td>\n",
       "      <td>3.061282</td>\n",
       "      <td>1.213098</td>\n",
       "      <td>1.213098</td>\n",
       "      <td>1.213098</td>\n",
       "      <td>0.0</td>\n",
       "      <td>0.0</td>\n",
       "      <td>0.0</td>\n",
       "      <td>1102.543221</td>\n",
       "    </tr>\n",
       "  </tbody>\n",
       "</table>\n",
       "<p>5 rows × 34 columns</p>\n",
       "</div>"
      ],
      "text/plain": [
       "             ds        trend   yhat_lower   yhat_upper  trend_lower  \\\n",
       "3320 2023-06-28  1311.199963  1025.291779  1097.968503  1303.513747   \n",
       "3321 2023-06-30  1312.143681  1049.355653  1126.527899  1304.240674   \n",
       "3322 2023-07-07  1315.446691  1052.146484  1127.301321  1307.182198   \n",
       "3323 2023-07-10  1316.862267  1058.199589  1136.668446  1308.185573   \n",
       "3324 2023-07-14  1318.749702  1062.750751  1138.745714  1309.515763   \n",
       "\n",
       "      trend_upper  additive_terms  additive_terms_lower  additive_terms_upper  \\\n",
       "3320  1317.334834     -248.767018           -248.767018           -248.767018   \n",
       "3321  1318.572444     -223.839078           -223.839078           -223.839078   \n",
       "3322  1322.160082     -223.388157           -223.388157           -223.388157   \n",
       "3323  1323.784217     -218.831656           -218.831656           -218.831656   \n",
       "3324  1325.976424     -216.206481           -216.206481           -216.206481   \n",
       "\n",
       "      extra_regressors_additive  ...    weekly  weekly_lower  weekly_upper  \\\n",
       "3320                -243.393501  ...  3.699505      3.699505      3.699505   \n",
       "3321                -219.582479  ...  3.061282      3.061282      3.061282   \n",
       "3322                -224.504718  ...  3.061282      3.061282      3.061282   \n",
       "3323                -221.826200  ...  3.324801      3.324801      3.324801   \n",
       "3324                -220.480860  ...  3.061282      3.061282      3.061282   \n",
       "\n",
       "        yearly  yearly_lower  yearly_upper  multiplicative_terms  \\\n",
       "3320 -9.073022     -9.073022     -9.073022                   0.0   \n",
       "3321 -7.317881     -7.317881     -7.317881                   0.0   \n",
       "3322 -1.944720     -1.944720     -1.944720                   0.0   \n",
       "3323 -0.330257     -0.330257     -0.330257                   0.0   \n",
       "3324  1.213098      1.213098      1.213098                   0.0   \n",
       "\n",
       "      multiplicative_terms_lower  multiplicative_terms_upper         yhat  \n",
       "3320                         0.0                         0.0  1062.432946  \n",
       "3321                         0.0                         0.0  1088.304602  \n",
       "3322                         0.0                         0.0  1092.058534  \n",
       "3323                         0.0                         0.0  1098.030611  \n",
       "3324                         0.0                         0.0  1102.543221  \n",
       "\n",
       "[5 rows x 34 columns]"
      ]
     },
     "execution_count": 11,
     "metadata": {},
     "output_type": "execute_result"
    }
   ],
   "source": [
    "#forecast\n",
    "forecast = m.predict(data)\n",
    "forecast.tail()"
   ]
  },
  {
   "cell_type": "code",
   "execution_count": 12,
   "metadata": {},
   "outputs": [
    {
     "data": {
      "image/png": "[encoded data removed]",
      "text/plain": [
       "<Figure size 1000x600 with 1 Axes>"
      ]
     },
     "metadata": {},
     "output_type": "display_data"
    }
   ],
   "source": [
    "m.plot(forecast);"
   ]
  },
  {
   "cell_type": "code",
   "execution_count": 12,
   "metadata": {},
   "outputs": [],
   "source": [
    "data = data.reset_index(level=None, drop=False, inplace=False, col_level=0, col_fill='')\n",
    "data = data.drop(\"index\",axis=1)"
   ]
  },
  {
   "cell_type": "code",
   "execution_count": 13,
   "metadata": {
    "colab": {
     "base_uri": "https://localhost:8080/",
     "height": 79
    },
    "executionInfo": {
     "elapsed": 789,
     "status": "ok",
     "timestamp": 1621009743333,
     "user": {
      "displayName": "Diogo Resende",
      "photoUrl": "https://lh3.googleusercontent.com/a-/AOh14GgH4DE06-yE1oiIzCiaAURCl1Escr4LXXiaSnbSaA=s64",
      "userId": "05706604408624562002"
     },
     "user_tz": -120
    },
    "id": "cHnEk0cMsrfG",
    "outputId": "0e18baad-9e68-4f94-bc48-c6509130f361"
   },
   "outputs": [
    {
     "data": {
      "text/html": [
       "<div>\n",
       "<style scoped>\n",
       "    .dataframe tbody tr th:only-of-type {\n",
       "        vertical-align: middle;\n",
       "    }\n",
       "\n",
       "    .dataframe tbody tr th {\n",
       "        vertical-align: top;\n",
       "    }\n",
       "\n",
       "    .dataframe thead th {\n",
       "        text-align: right;\n",
       "    }\n",
       "</style>\n",
       "<table border=\"1\" class=\"dataframe\">\n",
       "  <thead>\n",
       "    <tr style=\"text-align: right;\">\n",
       "      <th></th>\n",
       "      <th>Date</th>\n",
       "      <th>Open</th>\n",
       "      <th>High</th>\n",
       "      <th>Low</th>\n",
       "      <th>Close</th>\n",
       "      <th>Volume</th>\n",
       "      <th>ds</th>\n",
       "      <th>y</th>\n",
       "      <th>volume_adi</th>\n",
       "      <th>volume_obv</th>\n",
       "      <th>...</th>\n",
       "      <th>momentum_pvo_hist</th>\n",
       "      <th>momentum_kama</th>\n",
       "      <th>others_dr</th>\n",
       "      <th>others_dlr</th>\n",
       "      <th>others_cr</th>\n",
       "      <th>trend</th>\n",
       "      <th>weekly</th>\n",
       "      <th>multiplicative_terms</th>\n",
       "      <th>trend_upper</th>\n",
       "      <th>trend_lower</th>\n",
       "    </tr>\n",
       "  </thead>\n",
       "  <tbody>\n",
       "    <tr>\n",
       "      <th>0</th>\n",
       "      <td>2010-01-04</td>\n",
       "      <td>134.570376</td>\n",
       "      <td>135.357857</td>\n",
       "      <td>131.50798</td>\n",
       "      <td>131.954224</td>\n",
       "      <td>99480</td>\n",
       "      <td>2010-01-04</td>\n",
       "      <td>131.954224</td>\n",
       "      <td>-76418.333674</td>\n",
       "      <td>99480</td>\n",
       "      <td>...</td>\n",
       "      <td>0.0</td>\n",
       "      <td>131.954224</td>\n",
       "      <td>-76.588236</td>\n",
       "      <td>0.0</td>\n",
       "      <td>0.0</td>\n",
       "      <td>-12.87514</td>\n",
       "      <td>3.324801</td>\n",
       "      <td>0.0</td>\n",
       "      <td>-12.87514</td>\n",
       "      <td>-12.87514</td>\n",
       "    </tr>\n",
       "  </tbody>\n",
       "</table>\n",
       "<p>1 rows × 99 columns</p>\n",
       "</div>"
      ],
      "text/plain": [
       "         Date        Open        High        Low       Close  Volume  \\\n",
       "0  2010-01-04  134.570376  135.357857  131.50798  131.954224   99480   \n",
       "\n",
       "          ds           y    volume_adi  volume_obv  ...  momentum_pvo_hist  \\\n",
       "0 2010-01-04  131.954224 -76418.333674       99480  ...                0.0   \n",
       "\n",
       "   momentum_kama  others_dr  others_dlr  others_cr     trend    weekly  \\\n",
       "0     131.954224 -76.588236         0.0        0.0 -12.87514  3.324801   \n",
       "\n",
       "   multiplicative_terms  trend_upper  trend_lower  \n",
       "0                   0.0    -12.87514    -12.87514  \n",
       "\n",
       "[1 rows x 99 columns]"
      ]
     },
     "execution_count": 13,
     "metadata": {},
     "output_type": "execute_result"
    }
   ],
   "source": [
    "#get some variables\n",
    "prophet_variables = forecast.loc[:, [\"trend\", \"weekly\",  \"multiplicative_terms\",\"trend_upper\",\"trend_lower\"]]\n",
    "df_xgb = pd.concat([data, prophet_variables], axis = 1)\n",
    "df_xgb.head(1)"
   ]
  },
  {
   "cell_type": "code",
   "execution_count": 14,
   "metadata": {},
   "outputs": [
    {
     "name": "stderr",
     "output_type": "stream",
     "text": [
      "/Users/vipin/opt/anaconda3/envs/my_own/lib/python3.9/site-packages/ta/trend.py:780: RuntimeWarning: invalid value encountered in scalar divide\n",
      "  dip[idx] = 100 * (self._dip[idx] / value)\n",
      "/Users/vipin/opt/anaconda3/envs/my_own/lib/python3.9/site-packages/ta/trend.py:785: RuntimeWarning: invalid value encountered in scalar divide\n",
      "  din[idx] = 100 * (self._din[idx] / value)\n"
     ]
    }
   ],
   "source": [
    "df_xgb  = add_all_ta_features(df_xgb, open=\"Open\", high=\"High\", low=\"Low\", close=\"Close\", volume=\"Volume\", fillna=True)\n"
   ]
  },
  {
   "cell_type": "code",
   "execution_count": 15,
   "metadata": {},
   "outputs": [
    {
     "name": "stdout",
     "output_type": "stream",
     "text": [
      "Non-Stationary Features Found: 35\n"
     ]
    }
   ],
   "source": [
    "    \n",
    "non_stationaries = []\n",
    "for col in df_xgb.columns:\n",
    "    if col != \"multiplicative_terms\" and col != \"Date\" and col != \"ds\" :\n",
    "        #print(col)\n",
    "        dftest = adfuller(df_xgb[col].values)\n",
    "        p_value = dftest[1]\n",
    "        t_test = dftest[0] < dftest[4][\"1%\"]\n",
    "        if p_value > 0.05 or not t_test:\n",
    "            non_stationaries.append(col)\n",
    "print(f\"Non-Stationary Features Found: {len(non_stationaries)}\")"
   ]
  },
  {
   "cell_type": "code",
   "execution_count": 16,
   "metadata": {},
   "outputs": [
    {
     "data": {
      "text/html": [
       "<div>\n",
       "<style scoped>\n",
       "    .dataframe tbody tr th:only-of-type {\n",
       "        vertical-align: middle;\n",
       "    }\n",
       "\n",
       "    .dataframe tbody tr th {\n",
       "        vertical-align: top;\n",
       "    }\n",
       "\n",
       "    .dataframe thead th {\n",
       "        text-align: right;\n",
       "    }\n",
       "</style>\n",
       "<table border=\"1\" class=\"dataframe\">\n",
       "  <thead>\n",
       "    <tr style=\"text-align: right;\">\n",
       "      <th></th>\n",
       "      <th>Open</th>\n",
       "      <th>High</th>\n",
       "      <th>Low</th>\n",
       "      <th>Close</th>\n",
       "      <th>Volume</th>\n",
       "      <th>y</th>\n",
       "      <th>volume_adi</th>\n",
       "      <th>volume_obv</th>\n",
       "      <th>volume_cmf</th>\n",
       "      <th>volume_fi</th>\n",
       "      <th>...</th>\n",
       "      <th>momentum_pvo_hist</th>\n",
       "      <th>momentum_kama</th>\n",
       "      <th>others_dr</th>\n",
       "      <th>others_dlr</th>\n",
       "      <th>others_cr</th>\n",
       "      <th>trend</th>\n",
       "      <th>weekly</th>\n",
       "      <th>multiplicative_terms</th>\n",
       "      <th>trend_upper</th>\n",
       "      <th>trend_lower</th>\n",
       "    </tr>\n",
       "  </thead>\n",
       "  <tbody>\n",
       "    <tr>\n",
       "      <th>0</th>\n",
       "      <td>134.570376</td>\n",
       "      <td>135.357857</td>\n",
       "      <td>131.507980</td>\n",
       "      <td>131.954224</td>\n",
       "      <td>99480</td>\n",
       "      <td>131.954224</td>\n",
       "      <td>-7.641833e+04</td>\n",
       "      <td>99480</td>\n",
       "      <td>-0.768178</td>\n",
       "      <td>0.000000e+00</td>\n",
       "      <td>...</td>\n",
       "      <td>0.000000</td>\n",
       "      <td>131.954224</td>\n",
       "      <td>-76.588236</td>\n",
       "      <td>0.000000</td>\n",
       "      <td>0.000000</td>\n",
       "      <td>-12.875140</td>\n",
       "      <td>3.324801</td>\n",
       "      <td>0.0</td>\n",
       "      <td>-12.875140</td>\n",
       "      <td>-12.875140</td>\n",
       "    </tr>\n",
       "    <tr>\n",
       "      <th>1</th>\n",
       "      <td>133.782930</td>\n",
       "      <td>136.495343</td>\n",
       "      <td>132.251732</td>\n",
       "      <td>135.948486</td>\n",
       "      <td>148210</td>\n",
       "      <td>135.948486</td>\n",
       "      <td>3.359326e+04</td>\n",
       "      <td>247690</td>\n",
       "      <td>0.135626</td>\n",
       "      <td>5.919897e+05</td>\n",
       "      <td>...</td>\n",
       "      <td>3.016632</td>\n",
       "      <td>133.436111</td>\n",
       "      <td>3.027006</td>\n",
       "      <td>2.982097</td>\n",
       "      <td>3.027006</td>\n",
       "      <td>-12.781513</td>\n",
       "      <td>2.844692</td>\n",
       "      <td>0.0</td>\n",
       "      <td>-12.781513</td>\n",
       "      <td>-12.781513</td>\n",
       "    </tr>\n",
       "    <tr>\n",
       "      <th>2</th>\n",
       "      <td>136.591558</td>\n",
       "      <td>137.895255</td>\n",
       "      <td>134.045392</td>\n",
       "      <td>137.256531</td>\n",
       "      <td>177430</td>\n",
       "      <td>137.256531</td>\n",
       "      <td>1.521490e+05</td>\n",
       "      <td>425120</td>\n",
       "      <td>0.357897</td>\n",
       "      <td>5.405749e+05</td>\n",
       "      <td>...</td>\n",
       "      <td>6.188457</td>\n",
       "      <td>134.851307</td>\n",
       "      <td>0.962162</td>\n",
       "      <td>0.957563</td>\n",
       "      <td>4.018293</td>\n",
       "      <td>-12.687885</td>\n",
       "      <td>3.699505</td>\n",
       "      <td>0.0</td>\n",
       "      <td>-12.687885</td>\n",
       "      <td>-12.687885</td>\n",
       "    </tr>\n",
       "    <tr>\n",
       "      <th>3</th>\n",
       "      <td>136.495329</td>\n",
       "      <td>137.807784</td>\n",
       "      <td>133.870418</td>\n",
       "      <td>134.920380</td>\n",
       "      <td>122270</td>\n",
       "      <td>134.920380</td>\n",
       "      <td>9.508952e+04</td>\n",
       "      <td>302850</td>\n",
       "      <td>0.173714</td>\n",
       "      <td>4.225440e+05</td>\n",
       "      <td>...</td>\n",
       "      <td>4.648892</td>\n",
       "      <td>134.877031</td>\n",
       "      <td>-1.702033</td>\n",
       "      <td>-1.716684</td>\n",
       "      <td>2.247867</td>\n",
       "      <td>-12.594258</td>\n",
       "      <td>3.274159</td>\n",
       "      <td>0.0</td>\n",
       "      <td>-12.594258</td>\n",
       "      <td>-12.594258</td>\n",
       "    </tr>\n",
       "    <tr>\n",
       "      <th>4</th>\n",
       "      <td>135.191609</td>\n",
       "      <td>140.432684</td>\n",
       "      <td>135.191609</td>\n",
       "      <td>137.768402</td>\n",
       "      <td>340780</td>\n",
       "      <td>137.768402</td>\n",
       "      <td>8.940090e+04</td>\n",
       "      <td>643630</td>\n",
       "      <td>0.100657</td>\n",
       "      <td>5.008305e+05</td>\n",
       "      <td>...</td>\n",
       "      <td>13.619517</td>\n",
       "      <td>135.958477</td>\n",
       "      <td>2.110891</td>\n",
       "      <td>2.088921</td>\n",
       "      <td>4.406209</td>\n",
       "      <td>-12.500631</td>\n",
       "      <td>3.061282</td>\n",
       "      <td>0.0</td>\n",
       "      <td>-12.500631</td>\n",
       "      <td>-12.500631</td>\n",
       "    </tr>\n",
       "    <tr>\n",
       "      <th>...</th>\n",
       "      <td>...</td>\n",
       "      <td>...</td>\n",
       "      <td>...</td>\n",
       "      <td>...</td>\n",
       "      <td>...</td>\n",
       "      <td>...</td>\n",
       "      <td>...</td>\n",
       "      <td>...</td>\n",
       "      <td>...</td>\n",
       "      <td>...</td>\n",
       "      <td>...</td>\n",
       "      <td>...</td>\n",
       "      <td>...</td>\n",
       "      <td>...</td>\n",
       "      <td>...</td>\n",
       "      <td>...</td>\n",
       "      <td>...</td>\n",
       "      <td>...</td>\n",
       "      <td>...</td>\n",
       "      <td>...</td>\n",
       "      <td>...</td>\n",
       "    </tr>\n",
       "    <tr>\n",
       "      <th>3320</th>\n",
       "      <td>1000.950012</td>\n",
       "      <td>1025.199951</td>\n",
       "      <td>995.299988</td>\n",
       "      <td>1022.400024</td>\n",
       "      <td>64379</td>\n",
       "      <td>1022.400024</td>\n",
       "      <td>-8.726204e+07</td>\n",
       "      <td>22382624</td>\n",
       "      <td>0.037887</td>\n",
       "      <td>2.277197e+05</td>\n",
       "      <td>...</td>\n",
       "      <td>-1.853087</td>\n",
       "      <td>995.049709</td>\n",
       "      <td>2.066488</td>\n",
       "      <td>2.045426</td>\n",
       "      <td>674.814171</td>\n",
       "      <td>1311.199963</td>\n",
       "      <td>3.699505</td>\n",
       "      <td>0.0</td>\n",
       "      <td>1317.334834</td>\n",
       "      <td>1303.513747</td>\n",
       "    </tr>\n",
       "    <tr>\n",
       "      <th>3321</th>\n",
       "      <td>995.049988</td>\n",
       "      <td>1056.000000</td>\n",
       "      <td>995.049988</td>\n",
       "      <td>1051.400024</td>\n",
       "      <td>1169702</td>\n",
       "      <td>1051.400024</td>\n",
       "      <td>-8.626889e+07</td>\n",
       "      <td>23552326</td>\n",
       "      <td>0.324262</td>\n",
       "      <td>5.041097e+06</td>\n",
       "      <td>...</td>\n",
       "      <td>26.413589</td>\n",
       "      <td>1009.629965</td>\n",
       "      <td>2.836463</td>\n",
       "      <td>2.796980</td>\n",
       "      <td>696.791490</td>\n",
       "      <td>1312.143681</td>\n",
       "      <td>3.061282</td>\n",
       "      <td>0.0</td>\n",
       "      <td>1318.572444</td>\n",
       "      <td>1304.240674</td>\n",
       "    </tr>\n",
       "    <tr>\n",
       "      <th>3322</th>\n",
       "      <td>1039.949951</td>\n",
       "      <td>1051.000000</td>\n",
       "      <td>1028.349976</td>\n",
       "      <td>1035.500000</td>\n",
       "      <td>61772</td>\n",
       "      <td>1035.500000</td>\n",
       "      <td>-8.629166e+07</td>\n",
       "      <td>23490554</td>\n",
       "      <td>0.306610</td>\n",
       "      <td>4.180629e+06</td>\n",
       "      <td>...</td>\n",
       "      <td>11.661491</td>\n",
       "      <td>1012.475602</td>\n",
       "      <td>-1.512272</td>\n",
       "      <td>-1.523823</td>\n",
       "      <td>684.741838</td>\n",
       "      <td>1315.446691</td>\n",
       "      <td>3.061282</td>\n",
       "      <td>0.0</td>\n",
       "      <td>1322.160082</td>\n",
       "      <td>1307.182198</td>\n",
       "    </tr>\n",
       "    <tr>\n",
       "      <th>3323</th>\n",
       "      <td>1035.500000</td>\n",
       "      <td>1050.900024</td>\n",
       "      <td>1032.099976</td>\n",
       "      <td>1046.050049</td>\n",
       "      <td>27294</td>\n",
       "      <td>1046.050049</td>\n",
       "      <td>-8.627845e+07</td>\n",
       "      <td>23517848</td>\n",
       "      <td>0.312468</td>\n",
       "      <td>3.624532e+06</td>\n",
       "      <td>...</td>\n",
       "      <td>0.069822</td>\n",
       "      <td>1016.282500</td>\n",
       "      <td>1.018836</td>\n",
       "      <td>1.013681</td>\n",
       "      <td>692.737072</td>\n",
       "      <td>1316.862267</td>\n",
       "      <td>3.324801</td>\n",
       "      <td>0.0</td>\n",
       "      <td>1323.784217</td>\n",
       "      <td>1308.185573</td>\n",
       "    </tr>\n",
       "    <tr>\n",
       "      <th>3324</th>\n",
       "      <td>1077.050049</td>\n",
       "      <td>1079.349976</td>\n",
       "      <td>1064.849976</td>\n",
       "      <td>1072.400024</td>\n",
       "      <td>33392</td>\n",
       "      <td>1072.400024</td>\n",
       "      <td>-8.627707e+07</td>\n",
       "      <td>23551240</td>\n",
       "      <td>0.303711</td>\n",
       "      <td>3.232439e+06</td>\n",
       "      <td>...</td>\n",
       "      <td>-8.047080</td>\n",
       "      <td>1029.440752</td>\n",
       "      <td>2.518998</td>\n",
       "      <td>2.487794</td>\n",
       "      <td>712.706100</td>\n",
       "      <td>1318.749702</td>\n",
       "      <td>3.061282</td>\n",
       "      <td>0.0</td>\n",
       "      <td>1325.976424</td>\n",
       "      <td>1309.515763</td>\n",
       "    </tr>\n",
       "  </tbody>\n",
       "</table>\n",
       "<p>3325 rows × 97 columns</p>\n",
       "</div>"
      ],
      "text/plain": [
       "             Open         High          Low        Close   Volume  \\\n",
       "0      134.570376   135.357857   131.507980   131.954224    99480   \n",
       "1      133.782930   136.495343   132.251732   135.948486   148210   \n",
       "2      136.591558   137.895255   134.045392   137.256531   177430   \n",
       "3      136.495329   137.807784   133.870418   134.920380   122270   \n",
       "4      135.191609   140.432684   135.191609   137.768402   340780   \n",
       "...           ...          ...          ...          ...      ...   \n",
       "3320  1000.950012  1025.199951   995.299988  1022.400024    64379   \n",
       "3321   995.049988  1056.000000   995.049988  1051.400024  1169702   \n",
       "3322  1039.949951  1051.000000  1028.349976  1035.500000    61772   \n",
       "3323  1035.500000  1050.900024  1032.099976  1046.050049    27294   \n",
       "3324  1077.050049  1079.349976  1064.849976  1072.400024    33392   \n",
       "\n",
       "                y    volume_adi  volume_obv  volume_cmf     volume_fi  ...  \\\n",
       "0      131.954224 -7.641833e+04       99480   -0.768178  0.000000e+00  ...   \n",
       "1      135.948486  3.359326e+04      247690    0.135626  5.919897e+05  ...   \n",
       "2      137.256531  1.521490e+05      425120    0.357897  5.405749e+05  ...   \n",
       "3      134.920380  9.508952e+04      302850    0.173714  4.225440e+05  ...   \n",
       "4      137.768402  8.940090e+04      643630    0.100657  5.008305e+05  ...   \n",
       "...           ...           ...         ...         ...           ...  ...   \n",
       "3320  1022.400024 -8.726204e+07    22382624    0.037887  2.277197e+05  ...   \n",
       "3321  1051.400024 -8.626889e+07    23552326    0.324262  5.041097e+06  ...   \n",
       "3322  1035.500000 -8.629166e+07    23490554    0.306610  4.180629e+06  ...   \n",
       "3323  1046.050049 -8.627845e+07    23517848    0.312468  3.624532e+06  ...   \n",
       "3324  1072.400024 -8.627707e+07    23551240    0.303711  3.232439e+06  ...   \n",
       "\n",
       "      momentum_pvo_hist  momentum_kama  others_dr  others_dlr   others_cr  \\\n",
       "0              0.000000     131.954224 -76.588236    0.000000    0.000000   \n",
       "1              3.016632     133.436111   3.027006    2.982097    3.027006   \n",
       "2              6.188457     134.851307   0.962162    0.957563    4.018293   \n",
       "3              4.648892     134.877031  -1.702033   -1.716684    2.247867   \n",
       "4             13.619517     135.958477   2.110891    2.088921    4.406209   \n",
       "...                 ...            ...        ...         ...         ...   \n",
       "3320          -1.853087     995.049709   2.066488    2.045426  674.814171   \n",
       "3321          26.413589    1009.629965   2.836463    2.796980  696.791490   \n",
       "3322          11.661491    1012.475602  -1.512272   -1.523823  684.741838   \n",
       "3323           0.069822    1016.282500   1.018836    1.013681  692.737072   \n",
       "3324          -8.047080    1029.440752   2.518998    2.487794  712.706100   \n",
       "\n",
       "            trend    weekly  multiplicative_terms  trend_upper  trend_lower  \n",
       "0      -12.875140  3.324801                   0.0   -12.875140   -12.875140  \n",
       "1      -12.781513  2.844692                   0.0   -12.781513   -12.781513  \n",
       "2      -12.687885  3.699505                   0.0   -12.687885   -12.687885  \n",
       "3      -12.594258  3.274159                   0.0   -12.594258   -12.594258  \n",
       "4      -12.500631  3.061282                   0.0   -12.500631   -12.500631  \n",
       "...           ...       ...                   ...          ...          ...  \n",
       "3320  1311.199963  3.699505                   0.0  1317.334834  1303.513747  \n",
       "3321  1312.143681  3.061282                   0.0  1318.572444  1304.240674  \n",
       "3322  1315.446691  3.061282                   0.0  1322.160082  1307.182198  \n",
       "3323  1316.862267  3.324801                   0.0  1323.784217  1308.185573  \n",
       "3324  1318.749702  3.061282                   0.0  1325.976424  1309.515763  \n",
       "\n",
       "[3325 rows x 97 columns]"
      ]
     },
     "execution_count": 16,
     "metadata": {},
     "output_type": "execute_result"
    }
   ],
   "source": [
    "df_stationary = df_xgb.copy()\n",
    "\n",
    "df_stationary = df_stationary.drop(columns=[\"Date\",\"ds\"])\n",
    "df_stationary"
   ]
  },
  {
   "cell_type": "code",
   "execution_count": 17,
   "metadata": {},
   "outputs": [],
   "source": [
    "df_stationary[non_stationaries] = df_stationary[non_stationaries].pct_change()"
   ]
  },
  {
   "cell_type": "markdown",
   "metadata": {
    "id": "lNUb5oO-tir_"
   },
   "source": [
    "#XGBoost preparation"
   ]
  },
  {
   "cell_type": "code",
   "execution_count": 18,
   "metadata": {
    "executionInfo": {
     "elapsed": 444,
     "status": "ok",
     "timestamp": 1621009798336,
     "user": {
      "displayName": "Diogo Resende",
      "photoUrl": "https://lh3.googleusercontent.com/a-/AOh14GgH4DE06-yE1oiIzCiaAURCl1Escr4LXXiaSnbSaA=s64",
      "userId": "05706604408624562002"
     },
     "user_tz": -120
    },
    "id": "YCd0qohrtkae"
   },
   "outputs": [],
   "source": [
    "#create training and test set\n",
    "test_days = 360\n",
    "training_set = df_xgb.iloc[:-test_days,:]\n",
    "test_set = df_xgb.iloc[-test_days:,:]\n"
   ]
  },
  {
   "cell_type": "code",
   "execution_count": 19,
   "metadata": {},
   "outputs": [],
   "source": [
    "train_y_c = []\n",
    "for i in range(0,len(training_set)):\n",
    "    if training_set.iloc[i].Open > training_set.iloc[i].Close:\n",
    "        train_y_c.append(0)\n",
    "    else:\n",
    "        train_y_c.append(1)\n",
    "\n"
   ]
  },
  {
   "cell_type": "code",
   "execution_count": 20,
   "metadata": {},
   "outputs": [],
   "source": [
    "test_y_c = []\n",
    "for j in range(0,len(test_set)):\n",
    "    if test_set.iloc[j].Open > test_set.iloc[j].Close:\n",
    "        test_y_c.append(0)\n",
    "    else:\n",
    "        test_y_c.append(1)\n",
    "        \n"
   ]
  },
  {
   "cell_type": "code",
   "execution_count": 21,
   "metadata": {},
   "outputs": [],
   "source": [
    "#isolate X and y\n",
    "y_train = train_y_c\n",
    "y_test = test_y_c \n",
    "\n",
    "X_train = training_set.iloc[:, 2:]\n",
    "\n",
    "X_test = test_set.iloc[:, 2:]\n"
   ]
  },
  {
   "cell_type": "code",
   "execution_count": 22,
   "metadata": {},
   "outputs": [],
   "source": [
    "X_train = X_train.drop(columns=[\"ds\"])\n",
    "X_test = X_test.drop(columns=[\"ds\"])"
   ]
  },
  {
   "cell_type": "code",
   "execution_count": 23,
   "metadata": {},
   "outputs": [],
   "source": [
    "import xgboost as xgb\n"
   ]
  },
  {
   "cell_type": "code",
   "execution_count": 24,
   "metadata": {},
   "outputs": [],
   "source": [
    "model_xgboost = xgb.XGBClassifier(learning_rate=0.1,\n",
    "                                      min_child_weight=1,\n",
    "                                      gamma=0,\n",
    "                                      max_depth=5,\n",
    "                                      n_estimators=5000,\n",
    "                                      subsample=0.5,\n",
    "                                      colsample_bytree=0.5,\n",
    "                                      eval_metric='auc',\n",
    "                                      verbosity=1)\n"
   ]
  },
  {
   "cell_type": "code",
   "execution_count": 26,
   "metadata": {},
   "outputs": [],
   "source": [
    "#y_train_pred = model_xgboost.predict_proba(X_train)[:,1]\n",
    "#y_valid_pred = model_xgboost.predict_proba(X_test)[:,1]\n",
    "\n",
    "#print(\"AUC Train: {:.4f}\\nAUC Valid: {:.4f}\".format(roc_auc_score(y_train, y_train_pred),\n",
    " #                                                   roc_auc_score(y_test, y_valid_pred)))"
   ]
  },
  {
   "cell_type": "code",
   "execution_count": 25,
   "metadata": {
    "executionInfo": {
     "elapsed": 801,
     "status": "ok",
     "timestamp": 1621009908956,
     "user": {
      "displayName": "Diogo Resende",
      "photoUrl": "https://lh3.googleusercontent.com/a-/AOh14GgH4DE06-yE1oiIzCiaAURCl1Escr4LXXiaSnbSaA=s64",
      "userId": "05706604408624562002"
     },
     "user_tz": -120
    },
    "id": "Hy7FFj2UtpKo"
   },
   "outputs": [
    {
     "name": "stdout",
     "output_type": "stream",
     "text": [
      "16\n"
     ]
    },
    {
     "data": {
      "text/plain": [
       "{'learning_rate': [0.02, 0.01],\n",
       " 'max_depth': [2, 3],\n",
       " 'n_estimators': [1000, 3000],\n",
       " 'min_child_weight': [0.8, 1]}"
      ]
     },
     "execution_count": 25,
     "metadata": {},
     "output_type": "execute_result"
    }
   ],
   "source": [
    "learning_rate_list = [0.02, 0.01]\n",
    "max_depth_list = [2, 3, ]\n",
    "n_estimators_list = [1000,  3000]\n",
    "colsample_bytree = [ 0.5, 1]\n",
    "sample_tree = [ 0.8, 1]\n",
    "min_child_weight = [0.8,1]\n",
    "\n",
    "params_dict = {\"learning_rate\": learning_rate_list,\n",
    "               \"max_depth\": max_depth_list,\n",
    "               \"n_estimators\": n_estimators_list,\n",
    "               # \"colsample_bytree\" : colsample_bytree,\n",
    "               #\"subsample\" :  sample_tree,\n",
    "               \"min_child_weight\" :min_child_weight\n",
    "              }\n",
    "\n",
    "num_combinations = 1\n",
    "for v in params_dict.values(): num_combinations *= len(v) \n",
    "\n",
    "print(num_combinations)\n",
    "params_dict\n"
   ]
  },
  {
   "cell_type": "code",
   "execution_count": 26,
   "metadata": {},
   "outputs": [
    {
     "name": "stderr",
     "output_type": "stream",
     "text": [
      "/Users/vipin/opt/anaconda3/envs/my_own/lib/python3.9/site-packages/xgboost/sklearn.py:1395: UserWarning: `use_label_encoder` is deprecated in 1.7.0.\n",
      "  warnings.warn(\"`use_label_encoder` is deprecated in 1.7.0.\")\n",
      "/Users/vipin/opt/anaconda3/envs/my_own/lib/python3.9/site-packages/xgboost/sklearn.py:1395: UserWarning: `use_label_encoder` is deprecated in 1.7.0.\n",
      "  warnings.warn(\"`use_label_encoder` is deprecated in 1.7.0.\")\n",
      "/Users/vipin/opt/anaconda3/envs/my_own/lib/python3.9/site-packages/xgboost/sklearn.py:1395: UserWarning: `use_label_encoder` is deprecated in 1.7.0.\n",
      "  warnings.warn(\"`use_label_encoder` is deprecated in 1.7.0.\")\n"
     ]
    },
    {
     "name": "stdout",
     "output_type": "stream",
     "text": [
      "Fitting 2 folds for each of 16 candidates, totalling 32 fits\n",
      "[CV 1/2] END learning_rate=0.02, max_depth=2, min_child_weight=0.8, n_estimators=1000;, score=(train=0.994, test=0.930) total time=   4.9s\n"
     ]
    },
    {
     "name": "stderr",
     "output_type": "stream",
     "text": [
      "/Users/vipin/opt/anaconda3/envs/my_own/lib/python3.9/site-packages/xgboost/sklearn.py:1395: UserWarning: `use_label_encoder` is deprecated in 1.7.0.\n",
      "  warnings.warn(\"`use_label_encoder` is deprecated in 1.7.0.\")\n"
     ]
    },
    {
     "name": "stdout",
     "output_type": "stream",
     "text": [
      "[CV 2/2] END learning_rate=0.02, max_depth=2, min_child_weight=0.8, n_estimators=1000;, score=(train=0.986, test=0.957) total time=   4.7s\n"
     ]
    },
    {
     "name": "stderr",
     "output_type": "stream",
     "text": [
      "/Users/vipin/opt/anaconda3/envs/my_own/lib/python3.9/site-packages/xgboost/sklearn.py:1395: UserWarning: `use_label_encoder` is deprecated in 1.7.0.\n",
      "  warnings.warn(\"`use_label_encoder` is deprecated in 1.7.0.\")\n"
     ]
    },
    {
     "name": "stdout",
     "output_type": "stream",
     "text": [
      "[CV 1/2] END learning_rate=0.02, max_depth=2, min_child_weight=0.8, n_estimators=3000;, score=(train=1.000, test=0.924) total time=  13.7s\n"
     ]
    },
    {
     "name": "stderr",
     "output_type": "stream",
     "text": [
      "/Users/vipin/opt/anaconda3/envs/my_own/lib/python3.9/site-packages/xgboost/sklearn.py:1395: UserWarning: `use_label_encoder` is deprecated in 1.7.0.\n",
      "  warnings.warn(\"`use_label_encoder` is deprecated in 1.7.0.\")\n"
     ]
    },
    {
     "name": "stdout",
     "output_type": "stream",
     "text": [
      "[CV 2/2] END learning_rate=0.02, max_depth=2, min_child_weight=0.8, n_estimators=3000;, score=(train=1.000, test=0.953) total time=  15.3s\n"
     ]
    },
    {
     "name": "stderr",
     "output_type": "stream",
     "text": [
      "/Users/vipin/opt/anaconda3/envs/my_own/lib/python3.9/site-packages/xgboost/sklearn.py:1395: UserWarning: `use_label_encoder` is deprecated in 1.7.0.\n",
      "  warnings.warn(\"`use_label_encoder` is deprecated in 1.7.0.\")\n"
     ]
    },
    {
     "name": "stdout",
     "output_type": "stream",
     "text": [
      "[CV 1/2] END learning_rate=0.02, max_depth=2, min_child_weight=1, n_estimators=1000;, score=(train=0.994, test=0.930) total time=   4.8s\n"
     ]
    },
    {
     "name": "stderr",
     "output_type": "stream",
     "text": [
      "/Users/vipin/opt/anaconda3/envs/my_own/lib/python3.9/site-packages/xgboost/sklearn.py:1395: UserWarning: `use_label_encoder` is deprecated in 1.7.0.\n",
      "  warnings.warn(\"`use_label_encoder` is deprecated in 1.7.0.\")\n"
     ]
    },
    {
     "name": "stdout",
     "output_type": "stream",
     "text": [
      "[CV 2/2] END learning_rate=0.02, max_depth=2, min_child_weight=1, n_estimators=1000;, score=(train=0.986, test=0.956) total time=   4.9s\n"
     ]
    },
    {
     "name": "stderr",
     "output_type": "stream",
     "text": [
      "/Users/vipin/opt/anaconda3/envs/my_own/lib/python3.9/site-packages/xgboost/sklearn.py:1395: UserWarning: `use_label_encoder` is deprecated in 1.7.0.\n",
      "  warnings.warn(\"`use_label_encoder` is deprecated in 1.7.0.\")\n"
     ]
    },
    {
     "name": "stdout",
     "output_type": "stream",
     "text": [
      "[CV 1/2] END learning_rate=0.02, max_depth=2, min_child_weight=1, n_estimators=3000;, score=(train=1.000, test=0.925) total time=  14.6s\n"
     ]
    },
    {
     "name": "stderr",
     "output_type": "stream",
     "text": [
      "/Users/vipin/opt/anaconda3/envs/my_own/lib/python3.9/site-packages/xgboost/sklearn.py:1395: UserWarning: `use_label_encoder` is deprecated in 1.7.0.\n",
      "  warnings.warn(\"`use_label_encoder` is deprecated in 1.7.0.\")\n"
     ]
    },
    {
     "name": "stdout",
     "output_type": "stream",
     "text": [
      "[CV 2/2] END learning_rate=0.02, max_depth=2, min_child_weight=1, n_estimators=3000;, score=(train=1.000, test=0.952) total time=  15.1s\n"
     ]
    },
    {
     "name": "stderr",
     "output_type": "stream",
     "text": [
      "/Users/vipin/opt/anaconda3/envs/my_own/lib/python3.9/site-packages/xgboost/sklearn.py:1395: UserWarning: `use_label_encoder` is deprecated in 1.7.0.\n",
      "  warnings.warn(\"`use_label_encoder` is deprecated in 1.7.0.\")\n"
     ]
    },
    {
     "name": "stdout",
     "output_type": "stream",
     "text": [
      "[CV 1/2] END learning_rate=0.02, max_depth=3, min_child_weight=0.8, n_estimators=1000;, score=(train=1.000, test=0.932) total time=   6.9s\n"
     ]
    },
    {
     "name": "stderr",
     "output_type": "stream",
     "text": [
      "/Users/vipin/opt/anaconda3/envs/my_own/lib/python3.9/site-packages/xgboost/sklearn.py:1395: UserWarning: `use_label_encoder` is deprecated in 1.7.0.\n",
      "  warnings.warn(\"`use_label_encoder` is deprecated in 1.7.0.\")\n"
     ]
    },
    {
     "name": "stdout",
     "output_type": "stream",
     "text": [
      "[CV 2/2] END learning_rate=0.02, max_depth=3, min_child_weight=0.8, n_estimators=1000;, score=(train=0.999, test=0.955) total time=   7.7s\n"
     ]
    },
    {
     "name": "stderr",
     "output_type": "stream",
     "text": [
      "/Users/vipin/opt/anaconda3/envs/my_own/lib/python3.9/site-packages/xgboost/sklearn.py:1395: UserWarning: `use_label_encoder` is deprecated in 1.7.0.\n",
      "  warnings.warn(\"`use_label_encoder` is deprecated in 1.7.0.\")\n"
     ]
    },
    {
     "name": "stdout",
     "output_type": "stream",
     "text": [
      "[CV 1/2] END learning_rate=0.02, max_depth=3, min_child_weight=0.8, n_estimators=3000;, score=(train=1.000, test=0.928) total time=  20.4s\n"
     ]
    },
    {
     "name": "stderr",
     "output_type": "stream",
     "text": [
      "/Users/vipin/opt/anaconda3/envs/my_own/lib/python3.9/site-packages/xgboost/sklearn.py:1395: UserWarning: `use_label_encoder` is deprecated in 1.7.0.\n",
      "  warnings.warn(\"`use_label_encoder` is deprecated in 1.7.0.\")\n"
     ]
    },
    {
     "name": "stdout",
     "output_type": "stream",
     "text": [
      "[CV 2/2] END learning_rate=0.02, max_depth=3, min_child_weight=0.8, n_estimators=3000;, score=(train=1.000, test=0.955) total time=  21.2s\n"
     ]
    },
    {
     "name": "stderr",
     "output_type": "stream",
     "text": [
      "/Users/vipin/opt/anaconda3/envs/my_own/lib/python3.9/site-packages/xgboost/sklearn.py:1395: UserWarning: `use_label_encoder` is deprecated in 1.7.0.\n",
      "  warnings.warn(\"`use_label_encoder` is deprecated in 1.7.0.\")\n"
     ]
    },
    {
     "name": "stdout",
     "output_type": "stream",
     "text": [
      "[CV 1/2] END learning_rate=0.02, max_depth=3, min_child_weight=1, n_estimators=1000;, score=(train=1.000, test=0.931) total time=   6.7s\n"
     ]
    },
    {
     "name": "stderr",
     "output_type": "stream",
     "text": [
      "/Users/vipin/opt/anaconda3/envs/my_own/lib/python3.9/site-packages/xgboost/sklearn.py:1395: UserWarning: `use_label_encoder` is deprecated in 1.7.0.\n",
      "  warnings.warn(\"`use_label_encoder` is deprecated in 1.7.0.\")\n"
     ]
    },
    {
     "name": "stdout",
     "output_type": "stream",
     "text": [
      "[CV 2/2] END learning_rate=0.02, max_depth=3, min_child_weight=1, n_estimators=1000;, score=(train=0.999, test=0.957) total time=   6.8s\n"
     ]
    },
    {
     "name": "stderr",
     "output_type": "stream",
     "text": [
      "/Users/vipin/opt/anaconda3/envs/my_own/lib/python3.9/site-packages/xgboost/sklearn.py:1395: UserWarning: `use_label_encoder` is deprecated in 1.7.0.\n",
      "  warnings.warn(\"`use_label_encoder` is deprecated in 1.7.0.\")\n"
     ]
    },
    {
     "name": "stdout",
     "output_type": "stream",
     "text": [
      "[CV 1/2] END learning_rate=0.02, max_depth=3, min_child_weight=1, n_estimators=3000;, score=(train=1.000, test=0.928) total time=  20.3s\n"
     ]
    },
    {
     "name": "stderr",
     "output_type": "stream",
     "text": [
      "/Users/vipin/opt/anaconda3/envs/my_own/lib/python3.9/site-packages/xgboost/sklearn.py:1395: UserWarning: `use_label_encoder` is deprecated in 1.7.0.\n",
      "  warnings.warn(\"`use_label_encoder` is deprecated in 1.7.0.\")\n"
     ]
    },
    {
     "name": "stdout",
     "output_type": "stream",
     "text": [
      "[CV 2/2] END learning_rate=0.02, max_depth=3, min_child_weight=1, n_estimators=3000;, score=(train=1.000, test=0.956) total time=  20.2s\n"
     ]
    },
    {
     "name": "stderr",
     "output_type": "stream",
     "text": [
      "/Users/vipin/opt/anaconda3/envs/my_own/lib/python3.9/site-packages/xgboost/sklearn.py:1395: UserWarning: `use_label_encoder` is deprecated in 1.7.0.\n",
      "  warnings.warn(\"`use_label_encoder` is deprecated in 1.7.0.\")\n"
     ]
    },
    {
     "name": "stdout",
     "output_type": "stream",
     "text": [
      "[CV 1/2] END learning_rate=0.01, max_depth=2, min_child_weight=0.8, n_estimators=1000;, score=(train=0.985, test=0.933) total time=   4.9s\n"
     ]
    },
    {
     "name": "stderr",
     "output_type": "stream",
     "text": [
      "/Users/vipin/opt/anaconda3/envs/my_own/lib/python3.9/site-packages/xgboost/sklearn.py:1395: UserWarning: `use_label_encoder` is deprecated in 1.7.0.\n",
      "  warnings.warn(\"`use_label_encoder` is deprecated in 1.7.0.\")\n"
     ]
    },
    {
     "name": "stdout",
     "output_type": "stream",
     "text": [
      "[CV 2/2] END learning_rate=0.01, max_depth=2, min_child_weight=0.8, n_estimators=1000;, score=(train=0.971, test=0.958) total time=   5.1s\n"
     ]
    },
    {
     "name": "stderr",
     "output_type": "stream",
     "text": [
      "/Users/vipin/opt/anaconda3/envs/my_own/lib/python3.9/site-packages/xgboost/sklearn.py:1395: UserWarning: `use_label_encoder` is deprecated in 1.7.0.\n",
      "  warnings.warn(\"`use_label_encoder` is deprecated in 1.7.0.\")\n"
     ]
    },
    {
     "name": "stdout",
     "output_type": "stream",
     "text": [
      "[CV 1/2] END learning_rate=0.01, max_depth=2, min_child_weight=0.8, n_estimators=3000;, score=(train=0.998, test=0.927) total time=  15.4s\n"
     ]
    },
    {
     "name": "stderr",
     "output_type": "stream",
     "text": [
      "/Users/vipin/opt/anaconda3/envs/my_own/lib/python3.9/site-packages/xgboost/sklearn.py:1395: UserWarning: `use_label_encoder` is deprecated in 1.7.0.\n",
      "  warnings.warn(\"`use_label_encoder` is deprecated in 1.7.0.\")\n"
     ]
    },
    {
     "name": "stdout",
     "output_type": "stream",
     "text": [
      "[CV 2/2] END learning_rate=0.01, max_depth=2, min_child_weight=0.8, n_estimators=3000;, score=(train=0.994, test=0.955) total time=  14.2s\n"
     ]
    },
    {
     "name": "stderr",
     "output_type": "stream",
     "text": [
      "/Users/vipin/opt/anaconda3/envs/my_own/lib/python3.9/site-packages/xgboost/sklearn.py:1395: UserWarning: `use_label_encoder` is deprecated in 1.7.0.\n",
      "  warnings.warn(\"`use_label_encoder` is deprecated in 1.7.0.\")\n"
     ]
    },
    {
     "name": "stdout",
     "output_type": "stream",
     "text": [
      "[CV 1/2] END learning_rate=0.01, max_depth=2, min_child_weight=1, n_estimators=1000;, score=(train=0.985, test=0.933) total time=   5.5s\n"
     ]
    },
    {
     "name": "stderr",
     "output_type": "stream",
     "text": [
      "/Users/vipin/opt/anaconda3/envs/my_own/lib/python3.9/site-packages/xgboost/sklearn.py:1395: UserWarning: `use_label_encoder` is deprecated in 1.7.0.\n",
      "  warnings.warn(\"`use_label_encoder` is deprecated in 1.7.0.\")\n"
     ]
    },
    {
     "name": "stdout",
     "output_type": "stream",
     "text": [
      "[CV 2/2] END learning_rate=0.01, max_depth=2, min_child_weight=1, n_estimators=1000;, score=(train=0.971, test=0.958) total time=   4.7s\n"
     ]
    },
    {
     "name": "stderr",
     "output_type": "stream",
     "text": [
      "/Users/vipin/opt/anaconda3/envs/my_own/lib/python3.9/site-packages/xgboost/sklearn.py:1395: UserWarning: `use_label_encoder` is deprecated in 1.7.0.\n",
      "  warnings.warn(\"`use_label_encoder` is deprecated in 1.7.0.\")\n"
     ]
    },
    {
     "name": "stdout",
     "output_type": "stream",
     "text": [
      "[CV 1/2] END learning_rate=0.01, max_depth=2, min_child_weight=1, n_estimators=3000;, score=(train=0.998, test=0.927) total time=  14.6s\n"
     ]
    },
    {
     "name": "stderr",
     "output_type": "stream",
     "text": [
      "/Users/vipin/opt/anaconda3/envs/my_own/lib/python3.9/site-packages/xgboost/sklearn.py:1395: UserWarning: `use_label_encoder` is deprecated in 1.7.0.\n",
      "  warnings.warn(\"`use_label_encoder` is deprecated in 1.7.0.\")\n"
     ]
    },
    {
     "name": "stdout",
     "output_type": "stream",
     "text": [
      "[CV 2/2] END learning_rate=0.01, max_depth=2, min_child_weight=1, n_estimators=3000;, score=(train=0.994, test=0.955) total time=  14.8s\n"
     ]
    },
    {
     "name": "stderr",
     "output_type": "stream",
     "text": [
      "/Users/vipin/opt/anaconda3/envs/my_own/lib/python3.9/site-packages/xgboost/sklearn.py:1395: UserWarning: `use_label_encoder` is deprecated in 1.7.0.\n",
      "  warnings.warn(\"`use_label_encoder` is deprecated in 1.7.0.\")\n"
     ]
    },
    {
     "name": "stdout",
     "output_type": "stream",
     "text": [
      "[CV 1/2] END learning_rate=0.01, max_depth=3, min_child_weight=0.8, n_estimators=1000;, score=(train=0.996, test=0.932) total time=   7.3s\n"
     ]
    },
    {
     "name": "stderr",
     "output_type": "stream",
     "text": [
      "/Users/vipin/opt/anaconda3/envs/my_own/lib/python3.9/site-packages/xgboost/sklearn.py:1395: UserWarning: `use_label_encoder` is deprecated in 1.7.0.\n",
      "  warnings.warn(\"`use_label_encoder` is deprecated in 1.7.0.\")\n"
     ]
    },
    {
     "name": "stdout",
     "output_type": "stream",
     "text": [
      "[CV 2/2] END learning_rate=0.01, max_depth=3, min_child_weight=0.8, n_estimators=1000;, score=(train=0.989, test=0.959) total time=   6.9s\n"
     ]
    },
    {
     "name": "stderr",
     "output_type": "stream",
     "text": [
      "/Users/vipin/opt/anaconda3/envs/my_own/lib/python3.9/site-packages/xgboost/sklearn.py:1395: UserWarning: `use_label_encoder` is deprecated in 1.7.0.\n",
      "  warnings.warn(\"`use_label_encoder` is deprecated in 1.7.0.\")\n"
     ]
    },
    {
     "name": "stdout",
     "output_type": "stream",
     "text": [
      "[CV 1/2] END learning_rate=0.01, max_depth=3, min_child_weight=0.8, n_estimators=3000;, score=(train=1.000, test=0.932) total time=  20.7s\n"
     ]
    },
    {
     "name": "stderr",
     "output_type": "stream",
     "text": [
      "/Users/vipin/opt/anaconda3/envs/my_own/lib/python3.9/site-packages/xgboost/sklearn.py:1395: UserWarning: `use_label_encoder` is deprecated in 1.7.0.\n",
      "  warnings.warn(\"`use_label_encoder` is deprecated in 1.7.0.\")\n"
     ]
    },
    {
     "name": "stdout",
     "output_type": "stream",
     "text": [
      "[CV 2/2] END learning_rate=0.01, max_depth=3, min_child_weight=0.8, n_estimators=3000;, score=(train=1.000, test=0.957) total time=  21.4s\n"
     ]
    },
    {
     "name": "stderr",
     "output_type": "stream",
     "text": [
      "/Users/vipin/opt/anaconda3/envs/my_own/lib/python3.9/site-packages/xgboost/sklearn.py:1395: UserWarning: `use_label_encoder` is deprecated in 1.7.0.\n",
      "  warnings.warn(\"`use_label_encoder` is deprecated in 1.7.0.\")\n"
     ]
    },
    {
     "name": "stdout",
     "output_type": "stream",
     "text": [
      "[CV 1/2] END learning_rate=0.01, max_depth=3, min_child_weight=1, n_estimators=1000;, score=(train=0.996, test=0.932) total time=   6.7s\n"
     ]
    },
    {
     "name": "stderr",
     "output_type": "stream",
     "text": [
      "/Users/vipin/opt/anaconda3/envs/my_own/lib/python3.9/site-packages/xgboost/sklearn.py:1395: UserWarning: `use_label_encoder` is deprecated in 1.7.0.\n",
      "  warnings.warn(\"`use_label_encoder` is deprecated in 1.7.0.\")\n"
     ]
    },
    {
     "name": "stdout",
     "output_type": "stream",
     "text": [
      "[CV 2/2] END learning_rate=0.01, max_depth=3, min_child_weight=1, n_estimators=1000;, score=(train=0.989, test=0.958) total time=   6.8s\n"
     ]
    },
    {
     "name": "stderr",
     "output_type": "stream",
     "text": [
      "/Users/vipin/opt/anaconda3/envs/my_own/lib/python3.9/site-packages/xgboost/sklearn.py:1395: UserWarning: `use_label_encoder` is deprecated in 1.7.0.\n",
      "  warnings.warn(\"`use_label_encoder` is deprecated in 1.7.0.\")\n"
     ]
    },
    {
     "name": "stdout",
     "output_type": "stream",
     "text": [
      "[CV 1/2] END learning_rate=0.01, max_depth=3, min_child_weight=1, n_estimators=3000;, score=(train=1.000, test=0.931) total time=  21.7s\n"
     ]
    },
    {
     "name": "stderr",
     "output_type": "stream",
     "text": [
      "/Users/vipin/opt/anaconda3/envs/my_own/lib/python3.9/site-packages/xgboost/sklearn.py:1395: UserWarning: `use_label_encoder` is deprecated in 1.7.0.\n",
      "  warnings.warn(\"`use_label_encoder` is deprecated in 1.7.0.\")\n"
     ]
    },
    {
     "name": "stdout",
     "output_type": "stream",
     "text": [
      "[CV 2/2] END learning_rate=0.01, max_depth=3, min_child_weight=1, n_estimators=3000;, score=(train=1.000, test=0.956) total time=  21.0s\n"
     ]
    },
    {
     "name": "stderr",
     "output_type": "stream",
     "text": [
      "/Users/vipin/opt/anaconda3/envs/my_own/lib/python3.9/site-packages/xgboost/sklearn.py:1395: UserWarning: `use_label_encoder` is deprecated in 1.7.0.\n",
      "  warnings.warn(\"`use_label_encoder` is deprecated in 1.7.0.\")\n"
     ]
    },
    {
     "data": {
      "text/html": [
       "<style>#sk-container-id-1 {color: black;}#sk-container-id-1 pre{padding: 0;}#sk-container-id-1 div.sk-toggleable {background-color: white;}#sk-container-id-1 label.sk-toggleable__label {cursor: pointer;display: block;width: 100%;margin-bottom: 0;padding: 0.3em;box-sizing: border-box;text-align: center;}#sk-container-id-1 label.sk-toggleable__label-arrow:before {content: \"▸\";float: left;margin-right: 0.25em;color: #696969;}#sk-container-id-1 label.sk-toggleable__label-arrow:hover:before {color: black;}#sk-container-id-1 div.sk-estimator:hover label.sk-toggleable__label-arrow:before {color: black;}#sk-container-id-1 div.sk-toggleable__content {max-height: 0;max-width: 0;overflow: hidden;text-align: left;background-color: #f0f8ff;}#sk-container-id-1 div.sk-toggleable__content pre {margin: 0.2em;color: black;border-radius: 0.25em;background-color: #f0f8ff;}#sk-container-id-1 input.sk-toggleable__control:checked~div.sk-toggleable__content {max-height: 200px;max-width: 100%;overflow: auto;}#sk-container-id-1 input.sk-toggleable__control:checked~label.sk-toggleable__label-arrow:before {content: \"▾\";}#sk-container-id-1 div.sk-estimator input.sk-toggleable__control:checked~label.sk-toggleable__label {background-color: #d4ebff;}#sk-container-id-1 div.sk-label input.sk-toggleable__control:checked~label.sk-toggleable__label {background-color: #d4ebff;}#sk-container-id-1 input.sk-hidden--visually {border: 0;clip: rect(1px 1px 1px 1px);clip: rect(1px, 1px, 1px, 1px);height: 1px;margin: -1px;overflow: hidden;padding: 0;position: absolute;width: 1px;}#sk-container-id-1 div.sk-estimator {font-family: monospace;background-color: #f0f8ff;border: 1px dotted black;border-radius: 0.25em;box-sizing: border-box;margin-bottom: 0.5em;}#sk-container-id-1 div.sk-estimator:hover {background-color: #d4ebff;}#sk-container-id-1 div.sk-parallel-item::after {content: \"\";width: 100%;border-bottom: 1px solid gray;flex-grow: 1;}#sk-container-id-1 div.sk-label:hover label.sk-toggleable__label {background-color: #d4ebff;}#sk-container-id-1 div.sk-serial::before {content: \"\";position: absolute;border-left: 1px solid gray;box-sizing: border-box;top: 0;bottom: 0;left: 50%;z-index: 0;}#sk-container-id-1 div.sk-serial {display: flex;flex-direction: column;align-items: center;background-color: white;padding-right: 0.2em;padding-left: 0.2em;position: relative;}#sk-container-id-1 div.sk-item {position: relative;z-index: 1;}#sk-container-id-1 div.sk-parallel {display: flex;align-items: stretch;justify-content: center;background-color: white;position: relative;}#sk-container-id-1 div.sk-item::before, #sk-container-id-1 div.sk-parallel-item::before {content: \"\";position: absolute;border-left: 1px solid gray;box-sizing: border-box;top: 0;bottom: 0;left: 50%;z-index: -1;}#sk-container-id-1 div.sk-parallel-item {display: flex;flex-direction: column;z-index: 1;position: relative;background-color: white;}#sk-container-id-1 div.sk-parallel-item:first-child::after {align-self: flex-end;width: 50%;}#sk-container-id-1 div.sk-parallel-item:last-child::after {align-self: flex-start;width: 50%;}#sk-container-id-1 div.sk-parallel-item:only-child::after {width: 0;}#sk-container-id-1 div.sk-dashed-wrapped {border: 1px dashed gray;margin: 0 0.4em 0.5em 0.4em;box-sizing: border-box;padding-bottom: 0.4em;background-color: white;}#sk-container-id-1 div.sk-label label {font-family: monospace;font-weight: bold;display: inline-block;line-height: 1.2em;}#sk-container-id-1 div.sk-label-container {text-align: center;}#sk-container-id-1 div.sk-container {/* jupyter's `normalize.less` sets `[hidden] { display: none; }` but bootstrap.min.css set `[hidden] { display: none !important; }` so we also need the `!important` here to be able to override the default hidden behavior on the sphinx rendered scikit-learn.org. See: https://github.com/scikit-learn/scikit-learn/issues/21755 */display: inline-block !important;position: relative;}#sk-container-id-1 div.sk-text-repr-fallback {display: none;}</style><div id=\"sk-container-id-1\" class=\"sk-top-container\"><div class=\"sk-text-repr-fallback\"><pre>GridSearchCV(cv=2,\n",
       "             estimator=XGBClassifier(base_score=None, booster=None,\n",
       "                                     callbacks=None, colsample_bylevel=None,\n",
       "                                     colsample_bynode=None,\n",
       "                                     colsample_bytree=None,\n",
       "                                     early_stopping_rounds=None,\n",
       "                                     enable_categorical=False,\n",
       "                                     eval_metric=&#x27;auc&#x27;, feature_types=None,\n",
       "                                     gamma=None, gpu_id=None, grow_policy=None,\n",
       "                                     importance_type=None,\n",
       "                                     interaction_constraints=None,\n",
       "                                     learning_rate=None...\n",
       "                                     max_leaves=None, min_child_weight=None,\n",
       "                                     missing=nan, monotone_constraints=None,\n",
       "                                     n_estimators=100, n_jobs=None,\n",
       "                                     num_parallel_tree=None, predictor=None,\n",
       "                                     random_state=None, ...),\n",
       "             param_grid={&#x27;learning_rate&#x27;: [0.02, 0.01], &#x27;max_depth&#x27;: [2, 3],\n",
       "                         &#x27;min_child_weight&#x27;: [0.8, 1],\n",
       "                         &#x27;n_estimators&#x27;: [1000, 3000]},\n",
       "             return_train_score=True,\n",
       "             scoring=&lt;function my_roc_auc_score at 0x7f99b6208dc0&gt;, verbose=4)</pre><b>In a Jupyter environment, please rerun this cell to show the HTML representation or trust the notebook. <br />On GitHub, the HTML representation is unable to render, please try loading this page with nbviewer.org.</b></div><div class=\"sk-container\" hidden><div class=\"sk-item sk-dashed-wrapped\"><div class=\"sk-label-container\"><div class=\"sk-label sk-toggleable\"><input class=\"sk-toggleable__control sk-hidden--visually\" id=\"sk-estimator-id-1\" type=\"checkbox\" ><label for=\"sk-estimator-id-1\" class=\"sk-toggleable__label sk-toggleable__label-arrow\">GridSearchCV</label><div class=\"sk-toggleable__content\"><pre>GridSearchCV(cv=2,\n",
       "             estimator=XGBClassifier(base_score=None, booster=None,\n",
       "                                     callbacks=None, colsample_bylevel=None,\n",
       "                                     colsample_bynode=None,\n",
       "                                     colsample_bytree=None,\n",
       "                                     early_stopping_rounds=None,\n",
       "                                     enable_categorical=False,\n",
       "                                     eval_metric=&#x27;auc&#x27;, feature_types=None,\n",
       "                                     gamma=None, gpu_id=None, grow_policy=None,\n",
       "                                     importance_type=None,\n",
       "                                     interaction_constraints=None,\n",
       "                                     learning_rate=None...\n",
       "                                     max_leaves=None, min_child_weight=None,\n",
       "                                     missing=nan, monotone_constraints=None,\n",
       "                                     n_estimators=100, n_jobs=None,\n",
       "                                     num_parallel_tree=None, predictor=None,\n",
       "                                     random_state=None, ...),\n",
       "             param_grid={&#x27;learning_rate&#x27;: [0.02, 0.01], &#x27;max_depth&#x27;: [2, 3],\n",
       "                         &#x27;min_child_weight&#x27;: [0.8, 1],\n",
       "                         &#x27;n_estimators&#x27;: [1000, 3000]},\n",
       "             return_train_score=True,\n",
       "             scoring=&lt;function my_roc_auc_score at 0x7f99b6208dc0&gt;, verbose=4)</pre></div></div></div><div class=\"sk-parallel\"><div class=\"sk-parallel-item\"><div class=\"sk-item\"><div class=\"sk-label-container\"><div class=\"sk-label sk-toggleable\"><input class=\"sk-toggleable__control sk-hidden--visually\" id=\"sk-estimator-id-2\" type=\"checkbox\" ><label for=\"sk-estimator-id-2\" class=\"sk-toggleable__label sk-toggleable__label-arrow\">estimator: XGBClassifier</label><div class=\"sk-toggleable__content\"><pre>XGBClassifier(base_score=None, booster=None, callbacks=None,\n",
       "              colsample_bylevel=None, colsample_bynode=None,\n",
       "              colsample_bytree=None, early_stopping_rounds=None,\n",
       "              enable_categorical=False, eval_metric=&#x27;auc&#x27;, feature_types=None,\n",
       "              gamma=None, gpu_id=None, grow_policy=None, importance_type=None,\n",
       "              interaction_constraints=None, learning_rate=None, max_bin=None,\n",
       "              max_cat_threshold=None, max_cat_to_onehot=None,\n",
       "              max_delta_step=None, max_depth=None, max_leaves=None,\n",
       "              min_child_weight=None, missing=nan, monotone_constraints=None,\n",
       "              n_estimators=100, n_jobs=None, num_parallel_tree=None,\n",
       "              predictor=None, random_state=None, ...)</pre></div></div></div><div class=\"sk-serial\"><div class=\"sk-item\"><div class=\"sk-estimator sk-toggleable\"><input class=\"sk-toggleable__control sk-hidden--visually\" id=\"sk-estimator-id-3\" type=\"checkbox\" ><label for=\"sk-estimator-id-3\" class=\"sk-toggleable__label sk-toggleable__label-arrow\">XGBClassifier</label><div class=\"sk-toggleable__content\"><pre>XGBClassifier(base_score=None, booster=None, callbacks=None,\n",
       "              colsample_bylevel=None, colsample_bynode=None,\n",
       "              colsample_bytree=None, early_stopping_rounds=None,\n",
       "              enable_categorical=False, eval_metric=&#x27;auc&#x27;, feature_types=None,\n",
       "              gamma=None, gpu_id=None, grow_policy=None, importance_type=None,\n",
       "              interaction_constraints=None, learning_rate=None, max_bin=None,\n",
       "              max_cat_threshold=None, max_cat_to_onehot=None,\n",
       "              max_delta_step=None, max_depth=None, max_leaves=None,\n",
       "              min_child_weight=None, missing=nan, monotone_constraints=None,\n",
       "              n_estimators=100, n_jobs=None, num_parallel_tree=None,\n",
       "              predictor=None, random_state=None, ...)</pre></div></div></div></div></div></div></div></div></div></div>"
      ],
      "text/plain": [
       "GridSearchCV(cv=2,\n",
       "             estimator=XGBClassifier(base_score=None, booster=None,\n",
       "                                     callbacks=None, colsample_bylevel=None,\n",
       "                                     colsample_bynode=None,\n",
       "                                     colsample_bytree=None,\n",
       "                                     early_stopping_rounds=None,\n",
       "                                     enable_categorical=False,\n",
       "                                     eval_metric='auc', feature_types=None,\n",
       "                                     gamma=None, gpu_id=None, grow_policy=None,\n",
       "                                     importance_type=None,\n",
       "                                     interaction_constraints=None,\n",
       "                                     learning_rate=None...\n",
       "                                     max_leaves=None, min_child_weight=None,\n",
       "                                     missing=nan, monotone_constraints=None,\n",
       "                                     n_estimators=100, n_jobs=None,\n",
       "                                     num_parallel_tree=None, predictor=None,\n",
       "                                     random_state=None, ...),\n",
       "             param_grid={'learning_rate': [0.02, 0.01], 'max_depth': [2, 3],\n",
       "                         'min_child_weight': [0.8, 1],\n",
       "                         'n_estimators': [1000, 3000]},\n",
       "             return_train_score=True,\n",
       "             scoring=<function my_roc_auc_score at 0x7f99b6208dc0>, verbose=4)"
      ]
     },
     "execution_count": 26,
     "metadata": {},
     "output_type": "execute_result"
    }
   ],
   "source": [
    "def my_roc_auc_score(model, X, y): return roc_auc_score(y, model.predict_proba(X)[:,1])\n",
    "\n",
    "model_xgboost_hp = GridSearchCV(estimator=xgb.XGBClassifier(\n",
    "                                                            eval_metric='auc',\n",
    "                                                                use_label_encoder=False),\n",
    "                                param_grid=params_dict,\n",
    "                                cv=2,\n",
    "                                scoring=my_roc_auc_score,\n",
    "                                return_train_score=True,\n",
    "                                verbose=4)\n",
    "\n",
    "model_xgboost_hp.fit(X_train, y_train)"
   ]
  },
  {
   "cell_type": "code",
   "execution_count": 27,
   "metadata": {},
   "outputs": [
    {
     "data": {
      "text/html": [
       "<div>\n",
       "<style scoped>\n",
       "    .dataframe tbody tr th:only-of-type {\n",
       "        vertical-align: middle;\n",
       "    }\n",
       "\n",
       "    .dataframe tbody tr th {\n",
       "        vertical-align: top;\n",
       "    }\n",
       "\n",
       "    .dataframe thead th {\n",
       "        text-align: right;\n",
       "    }\n",
       "</style>\n",
       "<table border=\"1\" class=\"dataframe\">\n",
       "  <thead>\n",
       "    <tr style=\"text-align: right;\">\n",
       "      <th></th>\n",
       "      <th>rank_test_score</th>\n",
       "      <th>mean_test_score</th>\n",
       "      <th>mean_train_score</th>\n",
       "      <th>param_learning_rate</th>\n",
       "      <th>param_max_depth</th>\n",
       "      <th>param_n_estimators</th>\n",
       "    </tr>\n",
       "  </thead>\n",
       "  <tbody>\n",
       "    <tr>\n",
       "      <th>10</th>\n",
       "      <td>1</td>\n",
       "      <td>0.945415</td>\n",
       "      <td>0.978351</td>\n",
       "      <td>0.01</td>\n",
       "      <td>2</td>\n",
       "      <td>1000</td>\n",
       "    </tr>\n",
       "    <tr>\n",
       "      <th>12</th>\n",
       "      <td>2</td>\n",
       "      <td>0.945361</td>\n",
       "      <td>0.992569</td>\n",
       "      <td>0.01</td>\n",
       "      <td>3</td>\n",
       "      <td>1000</td>\n",
       "    </tr>\n",
       "    <tr>\n",
       "      <th>8</th>\n",
       "      <td>3</td>\n",
       "      <td>0.945216</td>\n",
       "      <td>0.978348</td>\n",
       "      <td>0.01</td>\n",
       "      <td>2</td>\n",
       "      <td>1000</td>\n",
       "    </tr>\n",
       "    <tr>\n",
       "      <th>14</th>\n",
       "      <td>4</td>\n",
       "      <td>0.945169</td>\n",
       "      <td>0.992542</td>\n",
       "      <td>0.01</td>\n",
       "      <td>3</td>\n",
       "      <td>1000</td>\n",
       "    </tr>\n",
       "    <tr>\n",
       "      <th>13</th>\n",
       "      <td>5</td>\n",
       "      <td>0.944168</td>\n",
       "      <td>0.999996</td>\n",
       "      <td>0.01</td>\n",
       "      <td>3</td>\n",
       "      <td>3000</td>\n",
       "    </tr>\n",
       "    <tr>\n",
       "      <th>6</th>\n",
       "      <td>6</td>\n",
       "      <td>0.943801</td>\n",
       "      <td>0.999549</td>\n",
       "      <td>0.02</td>\n",
       "      <td>3</td>\n",
       "      <td>1000</td>\n",
       "    </tr>\n",
       "    <tr>\n",
       "      <th>4</th>\n",
       "      <td>7</td>\n",
       "      <td>0.943429</td>\n",
       "      <td>0.999580</td>\n",
       "      <td>0.02</td>\n",
       "      <td>3</td>\n",
       "      <td>1000</td>\n",
       "    </tr>\n",
       "    <tr>\n",
       "      <th>15</th>\n",
       "      <td>8</td>\n",
       "      <td>0.943386</td>\n",
       "      <td>0.999996</td>\n",
       "      <td>0.01</td>\n",
       "      <td>3</td>\n",
       "      <td>3000</td>\n",
       "    </tr>\n",
       "    <tr>\n",
       "      <th>0</th>\n",
       "      <td>9</td>\n",
       "      <td>0.943088</td>\n",
       "      <td>0.990358</td>\n",
       "      <td>0.02</td>\n",
       "      <td>2</td>\n",
       "      <td>1000</td>\n",
       "    </tr>\n",
       "    <tr>\n",
       "      <th>2</th>\n",
       "      <td>10</td>\n",
       "      <td>0.943013</td>\n",
       "      <td>0.990165</td>\n",
       "      <td>0.02</td>\n",
       "      <td>2</td>\n",
       "      <td>1000</td>\n",
       "    </tr>\n",
       "    <tr>\n",
       "      <th>7</th>\n",
       "      <td>11</td>\n",
       "      <td>0.942074</td>\n",
       "      <td>1.000000</td>\n",
       "      <td>0.02</td>\n",
       "      <td>3</td>\n",
       "      <td>3000</td>\n",
       "    </tr>\n",
       "    <tr>\n",
       "      <th>11</th>\n",
       "      <td>12</td>\n",
       "      <td>0.941310</td>\n",
       "      <td>0.995792</td>\n",
       "      <td>0.01</td>\n",
       "      <td>2</td>\n",
       "      <td>3000</td>\n",
       "    </tr>\n",
       "    <tr>\n",
       "      <th>5</th>\n",
       "      <td>13</td>\n",
       "      <td>0.941252</td>\n",
       "      <td>1.000000</td>\n",
       "      <td>0.02</td>\n",
       "      <td>3</td>\n",
       "      <td>3000</td>\n",
       "    </tr>\n",
       "    <tr>\n",
       "      <th>9</th>\n",
       "      <td>14</td>\n",
       "      <td>0.940918</td>\n",
       "      <td>0.995899</td>\n",
       "      <td>0.01</td>\n",
       "      <td>2</td>\n",
       "      <td>3000</td>\n",
       "    </tr>\n",
       "    <tr>\n",
       "      <th>3</th>\n",
       "      <td>15</td>\n",
       "      <td>0.938604</td>\n",
       "      <td>0.999787</td>\n",
       "      <td>0.02</td>\n",
       "      <td>2</td>\n",
       "      <td>3000</td>\n",
       "    </tr>\n",
       "    <tr>\n",
       "      <th>1</th>\n",
       "      <td>16</td>\n",
       "      <td>0.938397</td>\n",
       "      <td>0.999795</td>\n",
       "      <td>0.02</td>\n",
       "      <td>2</td>\n",
       "      <td>3000</td>\n",
       "    </tr>\n",
       "  </tbody>\n",
       "</table>\n",
       "</div>"
      ],
      "text/plain": [
       "    rank_test_score  mean_test_score  mean_train_score param_learning_rate  \\\n",
       "10                1         0.945415          0.978351                0.01   \n",
       "12                2         0.945361          0.992569                0.01   \n",
       "8                 3         0.945216          0.978348                0.01   \n",
       "14                4         0.945169          0.992542                0.01   \n",
       "13                5         0.944168          0.999996                0.01   \n",
       "6                 6         0.943801          0.999549                0.02   \n",
       "4                 7         0.943429          0.999580                0.02   \n",
       "15                8         0.943386          0.999996                0.01   \n",
       "0                 9         0.943088          0.990358                0.02   \n",
       "2                10         0.943013          0.990165                0.02   \n",
       "7                11         0.942074          1.000000                0.02   \n",
       "11               12         0.941310          0.995792                0.01   \n",
       "5                13         0.941252          1.000000                0.02   \n",
       "9                14         0.940918          0.995899                0.01   \n",
       "3                15         0.938604          0.999787                0.02   \n",
       "1                16         0.938397          0.999795                0.02   \n",
       "\n",
       "   param_max_depth param_n_estimators  \n",
       "10               2               1000  \n",
       "12               3               1000  \n",
       "8                2               1000  \n",
       "14               3               1000  \n",
       "13               3               3000  \n",
       "6                3               1000  \n",
       "4                3               1000  \n",
       "15               3               3000  \n",
       "0                2               1000  \n",
       "2                2               1000  \n",
       "7                3               3000  \n",
       "11               2               3000  \n",
       "5                3               3000  \n",
       "9                2               3000  \n",
       "3                2               3000  \n",
       "1                2               3000  "
      ]
     },
     "execution_count": 27,
     "metadata": {},
     "output_type": "execute_result"
    }
   ],
   "source": [
    "df_cv_results = pd.DataFrame(model_xgboost_hp.cv_results_)\n",
    "df_cv_results = df_cv_results[['rank_test_score','mean_test_score','mean_train_score',\n",
    "                               'param_learning_rate', 'param_max_depth', 'param_n_estimators']]\n",
    "df_cv_results.sort_values(by='rank_test_score', inplace=True)\n",
    "df_cv_results"
   ]
  },
  {
   "cell_type": "code",
   "execution_count": 28,
   "metadata": {},
   "outputs": [
    {
     "data": {
      "text/plain": [
       "Text(0.5, 1.0, 'Performance wrt # of Trees and Depth')"
      ]
     },
     "execution_count": 28,
     "metadata": {},
     "output_type": "execute_result"
    },
    {
     "data": {
      "image/png": "[encoded data removed]",
      "text/plain": [
       "<Figure size 1000x500 with 1 Axes>"
      ]
     },
     "metadata": {},
     "output_type": "display_data"
    }
   ],
   "source": [
    "# First sort by number of estimators as that would be x-axis\n",
    "df_cv_results.sort_values(by='param_n_estimators', inplace=True)\n",
    "\n",
    "# Find values of AUC for learning rate of 0.05 and different values of depth\n",
    "lr_d2 = df_cv_results.loc[(df_cv_results['param_learning_rate']==0.05) & (df_cv_results['param_max_depth']==2),:]\n",
    "lr_d3 = df_cv_results.loc[(df_cv_results['param_learning_rate']==0.05) & (df_cv_results['param_max_depth']==3),:]\n",
    "lr_d5 = df_cv_results.loc[(df_cv_results['param_learning_rate']==0.05) & (df_cv_results['param_max_depth']==5),:]\n",
    "lr_d7 = df_cv_results.loc[(df_cv_results['param_learning_rate']==0.05) & (df_cv_results['param_max_depth']==7),:]\n",
    "\n",
    "# Let us plot now\n",
    "fig, ax = plt.subplots(figsize=(10,5))\n",
    "lr_d2.plot(x='param_n_estimators', y='mean_test_score', label='Depth=2', ax=ax)\n",
    "lr_d3.plot(x='param_n_estimators', y='mean_test_score', label='Depth=3', ax=ax)\n",
    "lr_d5.plot(x='param_n_estimators', y='mean_test_score', label='Depth=5', ax=ax)\n",
    "lr_d7.plot(x='param_n_estimators', y='mean_test_score', label='Depth=7', ax=ax)\n",
    "plt.ylabel('Mean Validation AUC')\n",
    "plt.title('Performance wrt # of Trees and Depth')"
   ]
  },
  {
   "cell_type": "code",
   "execution_count": 29,
   "metadata": {},
   "outputs": [
    {
     "data": {
      "text/plain": [
       "Text(0.5, 1.0, 'Performance wrt learning rate')"
      ]
     },
     "execution_count": 29,
     "metadata": {},
     "output_type": "execute_result"
    },
    {
     "data": {
      "image/png": "[encoded data removed]",
      "text/plain": [
       "<Figure size 1000x500 with 1 Axes>"
      ]
     },
     "metadata": {},
     "output_type": "display_data"
    }
   ],
   "source": [
    "# First sort by learning rate as that would be x-axis\n",
    "df_cv_results.sort_values(by='param_learning_rate', inplace=True)\n",
    "\n",
    "# Find values of AUC for learning rate of 0.05 and different values of depth\n",
    "lr_t3k_d2 = df_cv_results.loc[(df_cv_results['param_n_estimators']==500) & (df_cv_results['param_max_depth']==2),:]\n",
    "\n",
    "# Let us plot now\n",
    "fig, ax = plt.subplots(figsize=(10,5))\n",
    "lr_t3k_d2.plot(x='param_learning_rate', y='mean_test_score', label='Depth=2, Trees=3000', ax=ax)\n",
    "plt.ylabel('Mean Validation AUC')\n",
    "plt.title('Performance wrt learning rate')"
   ]
  },
  {
   "cell_type": "code",
   "execution_count": 30,
   "metadata": {},
   "outputs": [
    {
     "data": {
      "text/plain": [
       "rank_test_score              16\n",
       "mean_test_score        0.938397\n",
       "mean_train_score       0.999795\n",
       "param_learning_rate        0.02\n",
       "param_max_depth               2\n",
       "param_n_estimators         3000\n",
       "Name: 1, dtype: object"
      ]
     },
     "execution_count": 30,
     "metadata": {},
     "output_type": "execute_result"
    }
   ],
   "source": [
    "df_cv_results.iloc[-1]"
   ]
  },
  {
   "cell_type": "code",
   "execution_count": 31,
   "metadata": {},
   "outputs": [],
   "source": [
    "test =False\n",
    "if test == True:\n",
    "    lr = 0.2\n",
    "    max_depth = 2\n",
    "    n_estimators = 2000\n",
    "    subsample = 1\n",
    "    colsample_bytree = 1\n",
    "else:\n",
    "    lr = df_cv_results.iloc[-1].param_learning_rate\n",
    "    max_depth = df_cv_results.iloc[-1].param_max_depth\n",
    "    n_estimators = df_cv_results.iloc[-1].param_n_estimators\n",
    "    subsample = 1\n",
    "    colsample_bytree = 1\n",
    "    "
   ]
  },
  {
   "cell_type": "code",
   "execution_count": 32,
   "metadata": {},
   "outputs": [
    {
     "name": "stdout",
     "output_type": "stream",
     "text": [
      "[0]\tvalidation_0-auc:0.93618\tvalidation_1-auc:0.87944\n",
      "[1]\tvalidation_0-auc:0.93618\tvalidation_1-auc:0.87944\n",
      "[2]\tvalidation_0-auc:0.93949\tvalidation_1-auc:0.88754\n",
      "[3]\tvalidation_0-auc:0.93981\tvalidation_1-auc:0.88733\n",
      "[4]\tvalidation_0-auc:0.93994\tvalidation_1-auc:0.88776\n",
      "[5]\tvalidation_0-auc:0.93994\tvalidation_1-auc:0.88776\n"
     ]
    },
    {
     "name": "stderr",
     "output_type": "stream",
     "text": [
      "/Users/vipin/opt/anaconda3/envs/my_own/lib/python3.9/site-packages/xgboost/sklearn.py:1395: UserWarning: `use_label_encoder` is deprecated in 1.7.0.\n",
      "  warnings.warn(\"`use_label_encoder` is deprecated in 1.7.0.\")\n",
      "/Users/vipin/opt/anaconda3/envs/my_own/lib/python3.9/site-packages/xgboost/sklearn.py:835: UserWarning: `early_stopping_rounds` in `fit` method is deprecated for better compatibility with scikit-learn, use `early_stopping_rounds` in constructor or`set_params` instead.\n",
      "  warnings.warn(\n"
     ]
    },
    {
     "name": "stdout",
     "output_type": "stream",
     "text": [
      "[6]\tvalidation_0-auc:0.94061\tvalidation_1-auc:0.88696\n",
      "[7]\tvalidation_0-auc:0.94061\tvalidation_1-auc:0.88696\n",
      "[8]\tvalidation_0-auc:0.94061\tvalidation_1-auc:0.88696\n",
      "[9]\tvalidation_0-auc:0.94061\tvalidation_1-auc:0.88696\n",
      "[10]\tvalidation_0-auc:0.94061\tvalidation_1-auc:0.88696\n",
      "[11]\tvalidation_0-auc:0.94061\tvalidation_1-auc:0.88696\n",
      "[12]\tvalidation_0-auc:0.94061\tvalidation_1-auc:0.88696\n",
      "[13]\tvalidation_0-auc:0.94061\tvalidation_1-auc:0.88696\n"
     ]
    },
    {
     "data": {
      "text/html": [
       "<style>#sk-container-id-2 {color: black;}#sk-container-id-2 pre{padding: 0;}#sk-container-id-2 div.sk-toggleable {background-color: white;}#sk-container-id-2 label.sk-toggleable__label {cursor: pointer;display: block;width: 100%;margin-bottom: 0;padding: 0.3em;box-sizing: border-box;text-align: center;}#sk-container-id-2 label.sk-toggleable__label-arrow:before {content: \"▸\";float: left;margin-right: 0.25em;color: #696969;}#sk-container-id-2 label.sk-toggleable__label-arrow:hover:before {color: black;}#sk-container-id-2 div.sk-estimator:hover label.sk-toggleable__label-arrow:before {color: black;}#sk-container-id-2 div.sk-toggleable__content {max-height: 0;max-width: 0;overflow: hidden;text-align: left;background-color: #f0f8ff;}#sk-container-id-2 div.sk-toggleable__content pre {margin: 0.2em;color: black;border-radius: 0.25em;background-color: #f0f8ff;}#sk-container-id-2 input.sk-toggleable__control:checked~div.sk-toggleable__content {max-height: 200px;max-width: 100%;overflow: auto;}#sk-container-id-2 input.sk-toggleable__control:checked~label.sk-toggleable__label-arrow:before {content: \"▾\";}#sk-container-id-2 div.sk-estimator input.sk-toggleable__control:checked~label.sk-toggleable__label {background-color: #d4ebff;}#sk-container-id-2 div.sk-label input.sk-toggleable__control:checked~label.sk-toggleable__label {background-color: #d4ebff;}#sk-container-id-2 input.sk-hidden--visually {border: 0;clip: rect(1px 1px 1px 1px);clip: rect(1px, 1px, 1px, 1px);height: 1px;margin: -1px;overflow: hidden;padding: 0;position: absolute;width: 1px;}#sk-container-id-2 div.sk-estimator {font-family: monospace;background-color: #f0f8ff;border: 1px dotted black;border-radius: 0.25em;box-sizing: border-box;margin-bottom: 0.5em;}#sk-container-id-2 div.sk-estimator:hover {background-color: #d4ebff;}#sk-container-id-2 div.sk-parallel-item::after {content: \"\";width: 100%;border-bottom: 1px solid gray;flex-grow: 1;}#sk-container-id-2 div.sk-label:hover label.sk-toggleable__label {background-color: #d4ebff;}#sk-container-id-2 div.sk-serial::before {content: \"\";position: absolute;border-left: 1px solid gray;box-sizing: border-box;top: 0;bottom: 0;left: 50%;z-index: 0;}#sk-container-id-2 div.sk-serial {display: flex;flex-direction: column;align-items: center;background-color: white;padding-right: 0.2em;padding-left: 0.2em;position: relative;}#sk-container-id-2 div.sk-item {position: relative;z-index: 1;}#sk-container-id-2 div.sk-parallel {display: flex;align-items: stretch;justify-content: center;background-color: white;position: relative;}#sk-container-id-2 div.sk-item::before, #sk-container-id-2 div.sk-parallel-item::before {content: \"\";position: absolute;border-left: 1px solid gray;box-sizing: border-box;top: 0;bottom: 0;left: 50%;z-index: -1;}#sk-container-id-2 div.sk-parallel-item {display: flex;flex-direction: column;z-index: 1;position: relative;background-color: white;}#sk-container-id-2 div.sk-parallel-item:first-child::after {align-self: flex-end;width: 50%;}#sk-container-id-2 div.sk-parallel-item:last-child::after {align-self: flex-start;width: 50%;}#sk-container-id-2 div.sk-parallel-item:only-child::after {width: 0;}#sk-container-id-2 div.sk-dashed-wrapped {border: 1px dashed gray;margin: 0 0.4em 0.5em 0.4em;box-sizing: border-box;padding-bottom: 0.4em;background-color: white;}#sk-container-id-2 div.sk-label label {font-family: monospace;font-weight: bold;display: inline-block;line-height: 1.2em;}#sk-container-id-2 div.sk-label-container {text-align: center;}#sk-container-id-2 div.sk-container {/* jupyter's `normalize.less` sets `[hidden] { display: none; }` but bootstrap.min.css set `[hidden] { display: none !important; }` so we also need the `!important` here to be able to override the default hidden behavior on the sphinx rendered scikit-learn.org. See: https://github.com/scikit-learn/scikit-learn/issues/21755 */display: inline-block !important;position: relative;}#sk-container-id-2 div.sk-text-repr-fallback {display: none;}</style><div id=\"sk-container-id-2\" class=\"sk-top-container\"><div class=\"sk-text-repr-fallback\"><pre>XGBClassifier(base_score=None, booster=None, callbacks=None,\n",
       "              colsample_bylevel=None, colsample_bynode=None, colsample_bytree=1,\n",
       "              early_stopping_rounds=None, enable_categorical=False,\n",
       "              eval_metric=&#x27;auc&#x27;, feature_types=None, gamma=None, gpu_id=None,\n",
       "              grow_policy=None, importance_type=None,\n",
       "              interaction_constraints=None, learning_rate=0.02, max_bin=None,\n",
       "              max_cat_threshold=None, max_cat_to_onehot=None,\n",
       "              max_delta_step=None, max_depth=2, max_leaves=None,\n",
       "              min_child_weight=None, missing=nan, monotone_constraints=None,\n",
       "              n_estimators=3000, n_jobs=None, num_parallel_tree=None,\n",
       "              predictor=None, random_state=None, ...)</pre><b>In a Jupyter environment, please rerun this cell to show the HTML representation or trust the notebook. <br />On GitHub, the HTML representation is unable to render, please try loading this page with nbviewer.org.</b></div><div class=\"sk-container\" hidden><div class=\"sk-item\"><div class=\"sk-estimator sk-toggleable\"><input class=\"sk-toggleable__control sk-hidden--visually\" id=\"sk-estimator-id-4\" type=\"checkbox\" checked><label for=\"sk-estimator-id-4\" class=\"sk-toggleable__label sk-toggleable__label-arrow\">XGBClassifier</label><div class=\"sk-toggleable__content\"><pre>XGBClassifier(base_score=None, booster=None, callbacks=None,\n",
       "              colsample_bylevel=None, colsample_bynode=None, colsample_bytree=1,\n",
       "              early_stopping_rounds=None, enable_categorical=False,\n",
       "              eval_metric=&#x27;auc&#x27;, feature_types=None, gamma=None, gpu_id=None,\n",
       "              grow_policy=None, importance_type=None,\n",
       "              interaction_constraints=None, learning_rate=0.02, max_bin=None,\n",
       "              max_cat_threshold=None, max_cat_to_onehot=None,\n",
       "              max_delta_step=None, max_depth=2, max_leaves=None,\n",
       "              min_child_weight=None, missing=nan, monotone_constraints=None,\n",
       "              n_estimators=3000, n_jobs=None, num_parallel_tree=None,\n",
       "              predictor=None, random_state=None, ...)</pre></div></div></div></div></div>"
      ],
      "text/plain": [
       "XGBClassifier(base_score=None, booster=None, callbacks=None,\n",
       "              colsample_bylevel=None, colsample_bynode=None, colsample_bytree=1,\n",
       "              early_stopping_rounds=None, enable_categorical=False,\n",
       "              eval_metric='auc', feature_types=None, gamma=None, gpu_id=None,\n",
       "              grow_policy=None, importance_type=None,\n",
       "              interaction_constraints=None, learning_rate=0.02, max_bin=None,\n",
       "              max_cat_threshold=None, max_cat_to_onehot=None,\n",
       "              max_delta_step=None, max_depth=2, max_leaves=None,\n",
       "              min_child_weight=None, missing=nan, monotone_constraints=None,\n",
       "              n_estimators=3000, n_jobs=None, num_parallel_tree=None,\n",
       "              predictor=None, random_state=None, ...)"
      ]
     },
     "execution_count": 32,
     "metadata": {},
     "output_type": "execute_result"
    }
   ],
   "source": [
    "model_xgboost_fin = xgb.XGBClassifier(learning_rate=lr,\n",
    "                                          max_depth= max_depth,\n",
    "                                          n_estimators= n_estimators,\n",
    "                                          subsample= subsample,\n",
    "                                          colsample_bytree = colsample_bytree,\n",
    "                                          eval_metric='auc',\n",
    "                                          verbosity=1,\n",
    "                                          use_label_encoder=False)\n",
    "\n",
    "# Passing both training and validation dataset as we want to plot AUC for both\n",
    "eval_set = [(X_train, y_train),(X_test, y_test)]\n",
    "\n",
    "model_xgboost_fin.fit(X_train,\n",
    "                  y_train,\n",
    "                  early_stopping_rounds=10,\n",
    "                  eval_set=eval_set,\n",
    "                  verbose=True)"
   ]
  },
  {
   "cell_type": "code",
   "execution_count": 33,
   "metadata": {},
   "outputs": [
    {
     "name": "stdout",
     "output_type": "stream",
     "text": [
      "AUC Train: 0.9399\n",
      "AUC Valid: 0.8878\n"
     ]
    }
   ],
   "source": [
    "y_train_pred = model_xgboost_fin.predict_proba(X_train)[:,1]\n",
    "y_valid_pred = model_xgboost_fin.predict_proba(X_test)[:,1]\n",
    "\n",
    "print(\"AUC Train: {:.4f}\\nAUC Valid: {:.4f}\".format(roc_auc_score(y_train, y_train_pred),\n",
    "                                                    roc_auc_score(y_test, y_valid_pred)))"
   ]
  },
  {
   "cell_type": "code",
   "execution_count": 34,
   "metadata": {},
   "outputs": [
    {
     "data": {
      "image/png": "[encoded data removed]",
      "text/plain": [
       "<Figure size 1500x500 with 1 Axes>"
      ]
     },
     "metadata": {},
     "output_type": "display_data"
    }
   ],
   "source": [
    "evaluation_results = model_xgboost_fin.evals_result()\n",
    "\n",
    "# Index into each key to find AUC values for training and validation data after each tree\n",
    "train_auc_tree = evaluation_results['validation_0']['auc']\n",
    "valid_auc_tree = evaluation_results['validation_1']['auc']\n",
    "\n",
    "\n",
    "# Plotting Section\n",
    "plt.figure(figsize=(15,5))\n",
    "\n",
    "plt.plot(train_auc_tree, label='Train')\n",
    "plt.plot(valid_auc_tree, label='valid')\n",
    "\n",
    "plt.title(\"Train and validation AUC as number of trees increase\")\n",
    "plt.xlabel(\"Trees\")\n",
    "plt.ylabel(\"AUC\")\n",
    "plt.legend(loc='lower right')\n",
    "plt.show()"
   ]
  },
  {
   "cell_type": "code",
   "execution_count": 35,
   "metadata": {},
   "outputs": [
    {
     "data": {
      "text/html": [
       "<div>\n",
       "<style scoped>\n",
       "    .dataframe tbody tr th:only-of-type {\n",
       "        vertical-align: middle;\n",
       "    }\n",
       "\n",
       "    .dataframe tbody tr th {\n",
       "        vertical-align: top;\n",
       "    }\n",
       "\n",
       "    .dataframe thead th {\n",
       "        text-align: right;\n",
       "    }\n",
       "</style>\n",
       "<table border=\"1\" class=\"dataframe\">\n",
       "  <thead>\n",
       "    <tr style=\"text-align: right;\">\n",
       "      <th></th>\n",
       "      <th>Variable</th>\n",
       "      <th>Importance</th>\n",
       "    </tr>\n",
       "  </thead>\n",
       "  <tbody>\n",
       "    <tr>\n",
       "      <th>88</th>\n",
       "      <td>others_dr</td>\n",
       "      <td>1.0</td>\n",
       "    </tr>\n",
       "    <tr>\n",
       "      <th>0</th>\n",
       "      <td>High</td>\n",
       "      <td>0.0</td>\n",
       "    </tr>\n",
       "    <tr>\n",
       "      <th>60</th>\n",
       "      <td>trend_cci</td>\n",
       "      <td>0.0</td>\n",
       "    </tr>\n",
       "    <tr>\n",
       "      <th>69</th>\n",
       "      <td>trend_psar_down_indicator</td>\n",
       "      <td>0.0</td>\n",
       "    </tr>\n",
       "    <tr>\n",
       "      <th>68</th>\n",
       "      <td>trend_psar_up_indicator</td>\n",
       "      <td>0.0</td>\n",
       "    </tr>\n",
       "    <tr>\n",
       "      <th>67</th>\n",
       "      <td>trend_psar_down</td>\n",
       "      <td>0.0</td>\n",
       "    </tr>\n",
       "    <tr>\n",
       "      <th>66</th>\n",
       "      <td>trend_psar_up</td>\n",
       "      <td>0.0</td>\n",
       "    </tr>\n",
       "    <tr>\n",
       "      <th>65</th>\n",
       "      <td>trend_aroon_ind</td>\n",
       "      <td>0.0</td>\n",
       "    </tr>\n",
       "    <tr>\n",
       "      <th>64</th>\n",
       "      <td>trend_aroon_down</td>\n",
       "      <td>0.0</td>\n",
       "    </tr>\n",
       "    <tr>\n",
       "      <th>63</th>\n",
       "      <td>trend_aroon_up</td>\n",
       "      <td>0.0</td>\n",
       "    </tr>\n",
       "    <tr>\n",
       "      <th>62</th>\n",
       "      <td>trend_visual_ichimoku_b</td>\n",
       "      <td>0.0</td>\n",
       "    </tr>\n",
       "    <tr>\n",
       "      <th>61</th>\n",
       "      <td>trend_visual_ichimoku_a</td>\n",
       "      <td>0.0</td>\n",
       "    </tr>\n",
       "    <tr>\n",
       "      <th>59</th>\n",
       "      <td>trend_adx_neg</td>\n",
       "      <td>0.0</td>\n",
       "    </tr>\n",
       "    <tr>\n",
       "      <th>71</th>\n",
       "      <td>momentum_stoch_rsi</td>\n",
       "      <td>0.0</td>\n",
       "    </tr>\n",
       "    <tr>\n",
       "      <th>58</th>\n",
       "      <td>trend_adx_pos</td>\n",
       "      <td>0.0</td>\n",
       "    </tr>\n",
       "    <tr>\n",
       "      <th>57</th>\n",
       "      <td>trend_adx</td>\n",
       "      <td>0.0</td>\n",
       "    </tr>\n",
       "    <tr>\n",
       "      <th>56</th>\n",
       "      <td>trend_stc</td>\n",
       "      <td>0.0</td>\n",
       "    </tr>\n",
       "    <tr>\n",
       "      <th>55</th>\n",
       "      <td>trend_ichimoku_b</td>\n",
       "      <td>0.0</td>\n",
       "    </tr>\n",
       "    <tr>\n",
       "      <th>54</th>\n",
       "      <td>trend_ichimoku_a</td>\n",
       "      <td>0.0</td>\n",
       "    </tr>\n",
       "    <tr>\n",
       "      <th>53</th>\n",
       "      <td>trend_ichimoku_base</td>\n",
       "      <td>0.0</td>\n",
       "    </tr>\n",
       "  </tbody>\n",
       "</table>\n",
       "</div>"
      ],
      "text/plain": [
       "                     Variable  Importance\n",
       "88                  others_dr         1.0\n",
       "0                        High         0.0\n",
       "60                  trend_cci         0.0\n",
       "69  trend_psar_down_indicator         0.0\n",
       "68    trend_psar_up_indicator         0.0\n",
       "67            trend_psar_down         0.0\n",
       "66              trend_psar_up         0.0\n",
       "65            trend_aroon_ind         0.0\n",
       "64           trend_aroon_down         0.0\n",
       "63             trend_aroon_up         0.0\n",
       "62    trend_visual_ichimoku_b         0.0\n",
       "61    trend_visual_ichimoku_a         0.0\n",
       "59              trend_adx_neg         0.0\n",
       "71         momentum_stoch_rsi         0.0\n",
       "58              trend_adx_pos         0.0\n",
       "57                  trend_adx         0.0\n",
       "56                  trend_stc         0.0\n",
       "55           trend_ichimoku_b         0.0\n",
       "54           trend_ichimoku_a         0.0\n",
       "53        trend_ichimoku_base         0.0"
      ]
     },
     "execution_count": 35,
     "metadata": {},
     "output_type": "execute_result"
    }
   ],
   "source": [
    "df_var_imp = pd.DataFrame({\"Variable\": X_test.columns,\n",
    "                           \"Importance\": model_xgboost_fin.feature_importances_}) \\\n",
    "                        .sort_values(by='Importance', ascending=False)\n",
    "df_var_imp[:20]"
   ]
  },
  {
   "cell_type": "code",
   "execution_count": 36,
   "metadata": {
    "executionInfo": {
     "elapsed": 752,
     "status": "ok",
     "timestamp": 1621010365844,
     "user": {
      "displayName": "Diogo Resende",
      "photoUrl": "https://lh3.googleusercontent.com/a-/AOh14GgH4DE06-yE1oiIzCiaAURCl1Escr4LXXiaSnbSaA=s64",
      "userId": "05706604408624562002"
     },
     "user_tz": -120
    },
    "id": "R8azMDH1vkxr"
   },
   "outputs": [],
   "source": [
    "#Visualization\n",
    "training_set.index = training_set.ds\n",
    "test_set.index = test_set.ds"
   ]
  },
  {
   "cell_type": "code",
   "execution_count": 37,
   "metadata": {},
   "outputs": [
    {
     "data": {
      "image/png": "[encoded data removed]",
      "text/plain": [
       "<Figure size 1200x1200 with 1 Axes>"
      ]
     },
     "metadata": {},
     "output_type": "display_data"
    }
   ],
   "source": [
    "rcParams[\"figure.figsize\"] = 100, 50\n",
    "dir(model_xgboost_fin)\n",
    "tree_index = 0  # Index of the tree you want to plot\n",
    "fig, ax = plt.subplots(figsize=(12, 12))\n",
    "xgb.plot_tree(model_xgboost_fin, num_trees=tree_index, ax=ax)\n",
    "plt.show()"
   ]
  },
  {
   "cell_type": "code",
   "execution_count": 38,
   "metadata": {},
   "outputs": [],
   "source": [
    "# Save the trained model to a file\n",
    "\n",
    "with open('../TrainedModel/xg/{}_model_2.pkl'.format(symbol), 'wb') as f:\n",
    "    pickle.dump(model_xgboost_fin, f)"
   ]
  },
  {
   "cell_type": "code",
   "execution_count": 39,
   "metadata": {},
   "outputs": [],
   "source": [
    "# Save the trained model to a file\n",
    "\n",
    "with open('../TrainedModel/xg/{}_model_phrophet.pkl'.format(symbol), 'wb') as f:\n",
    "    pickle.dump(m, f)"
   ]
  }
 ],
 "metadata": {
  "colab": {
   "authorship_tag": "ABX9TyONf4Fw76cQlH82pdR3h9Fa",
   "mount_file_id": "182alF94XmFPfm3NMnYKs4Tu9b-3DTW7y",
   "name": "Facebook Prophet + XGBoost Challenge Template.ipynb",
   "provenance": []
  },
  "kernelspec": {
   "display_name": "Python 3 (ipykernel)",
   "language": "python",
   "name": "python3"
  },
  "language_info": {
   "codemirror_mode": {
    "name": "ipython",
    "version": 3
   },
   "file_extension": ".py",
   "mimetype": "text/x-python",
   "name": "python",
   "nbconvert_exporter": "python",
   "pygments_lexer": "ipython3",
   "version": "3.9.16"
  }
 },
 "nbformat": 4,
 "nbformat_minor": 1
}
