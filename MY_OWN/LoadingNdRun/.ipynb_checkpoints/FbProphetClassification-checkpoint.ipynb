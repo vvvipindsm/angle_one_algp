{
 "cells": [
  {
   "cell_type": "markdown",
   "metadata": {
    "id": "QZK36hW6M7cl"
   },
   "source": [
    "#Libraries and Data"
   ]
  },
  {
   "cell_type": "code",
   "execution_count": 1,
   "metadata": {
    "executionInfo": {
     "elapsed": 2554,
     "status": "ok",
     "timestamp": 1621008666318,
     "user": {
      "displayName": "Diogo Resende",
      "photoUrl": "https://lh3.googleusercontent.com/a-/AOh14GgH4DE06-yE1oiIzCiaAURCl1Escr4LXXiaSnbSaA=s64",
      "userId": "05706604408624562002"
     },
     "user_tz": -120
    },
    "id": "xBzm1qtYNE6M"
   },
   "outputs": [
    {
     "name": "stderr",
     "output_type": "stream",
     "text": [
      "/Users/vipin/opt/anaconda3/envs/my_own/lib/python3.9/site-packages/tqdm/auto.py:21: TqdmWarning: IProgress not found. Please update jupyter and ipywidgets. See https://ipywidgets.readthedocs.io/en/stable/user_install.html\n",
      "  from .autonotebook import tqdm as notebook_tqdm\n",
      "Importing plotly failed. Interactive plots will not work.\n"
     ]
    }
   ],
   "source": [
    "#import libraries\n",
    "import numpy as np\n",
    "import pandas as pd\n",
    "import itertools\n",
    "from prophet import Prophet\n",
    "import yfinance\n",
    "import pickle\n",
    "from ta import add_all_ta_features\n",
    "from sklearn.model_selection import GridSearchCV\n",
    "from sklearn.preprocessing import StandardScaler\n",
    "from statsmodels.tsa.stattools import adfuller\n",
    "from matplotlib.pylab import rcParams\n",
    "from sklearn import tree\n",
    "from sklearn.metrics import roc_auc_score\n",
    "import matplotlib.pyplot as plt\n"
   ]
  },
  {
   "cell_type": "code",
   "execution_count": 2,
   "metadata": {},
   "outputs": [],
   "source": [
    "#load the data\n",
    "\n",
    "#data = yfinance.download (tickers = \"TATAPOWER.NS\",start=\"2017-03-06\",\n",
    " #                              interval = \"1d\", group_by = 'ticker', auto_adjust = True)\n",
    "\n",
    "#data.tail()\n",
    "#[\"RELI\",\"HDFCBANK.NS\",\"TATAMOTORS.NS\",\"SBIN.NS\",\"TATAMOTORS.NS\",\"TCS.NS\",\"TITAN.NS\",\"SUNPHARMA.BO\",\"TECHM.NS\",\n",
    "# \"ASIANPAINT.NS\",\"TATACONSUM.NS\"]\n",
    "symbol = \"^NSEI\"\n",
    "#[\"OLECTRA.NS\",\"LT.NS\",\"CONCOR.NS\",\"ELGIEQUIP.NS\",\"IOC.NS\",\"BEL.NS\",\"TATAELXSI.NS\",\"^NSEI\"]\n",
    "data = pd.read_csv(\"../stock_historical_data/{}.csv\".format(symbol))\n",
    "data.set_index(\"Date\", inplace=True)"
   ]
  },
  {
   "cell_type": "code",
   "execution_count": 3,
   "metadata": {},
   "outputs": [
    {
     "data": {
      "text/plain": [
       "Index(['2007-09-17', '2007-09-18', '2007-09-19', '2007-09-20', '2007-09-21',\n",
       "       '2007-09-24', '2007-09-25', '2007-09-26', '2007-09-27', '2007-09-28',\n",
       "       ...\n",
       "       '2023-07-07', '2023-07-10', '2023-07-11', '2023-07-12', '2023-07-12',\n",
       "       '2023-07-12', '2023-07-13', '2023-07-14', '2023-07-14', '2023-07-14'],\n",
       "      dtype='object', name='Date', length=3883)"
      ]
     },
     "execution_count": 3,
     "metadata": {},
     "output_type": "execute_result"
    }
   ],
   "source": [
    "data.index"
   ]
  },
  {
   "cell_type": "markdown",
   "metadata": {
    "id": "6RKxpqoBOSBX"
   },
   "source": [
    "#Data preparation"
   ]
  },
  {
   "cell_type": "code",
   "execution_count": 4,
   "metadata": {
    "colab": {
     "base_uri": "https://localhost:8080/"
    },
    "executionInfo": {
     "elapsed": 843,
     "status": "ok",
     "timestamp": 1621008673660,
     "user": {
      "displayName": "Diogo Resende",
      "photoUrl": "https://lh3.googleusercontent.com/a-/AOh14GgH4DE06-yE1oiIzCiaAURCl1Escr4LXXiaSnbSaA=s64",
      "userId": "05706604408624562002"
     },
     "user_tz": -120
    },
    "id": "o55_2auGOUm6",
    "outputId": "7b72e62e-b26c-451e-c930-f7e794b87c23"
   },
   "outputs": [],
   "source": [
    "#transform the date variable\n",
    "data[\"Date\"] = pd.to_datetime(data.index)\n"
   ]
  },
  {
   "cell_type": "code",
   "execution_count": 5,
   "metadata": {
    "colab": {
     "base_uri": "https://localhost:8080/",
     "height": 79
    },
    "executionInfo": {
     "elapsed": 744,
     "status": "ok",
     "timestamp": 1621008692325,
     "user": {
      "displayName": "Diogo Resende",
      "photoUrl": "https://lh3.googleusercontent.com/a-/AOh14GgH4DE06-yE1oiIzCiaAURCl1Escr4LXXiaSnbSaA=s64",
      "userId": "05706604408624562002"
     },
     "user_tz": -120
    },
    "id": "D3FRYUauQWkz",
    "outputId": "96122dd3-0ca2-496a-e72d-a04c87425033"
   },
   "outputs": [],
   "source": [
    "#renaming variables\n",
    "data[\"y\"] = data[\"Close\"]\n",
    "data = data.rename(columns = {\n",
    "                     'Date': 'ds'})\n",
    "data.head(10)\n",
    "data = data.reset_index()"
   ]
  },
  {
   "cell_type": "markdown",
   "metadata": {
    "id": "rbI03M5DQnf7"
   },
   "source": [
    "#Holidays"
   ]
  },
  {
   "cell_type": "code",
   "execution_count": 6,
   "metadata": {},
   "outputs": [
    {
     "name": "stderr",
     "output_type": "stream",
     "text": [
      "/Users/vipin/opt/anaconda3/envs/my_own/lib/python3.9/site-packages/ta/trend.py:780: RuntimeWarning: invalid value encountered in scalar divide\n",
      "  dip[idx] = 100 * (self._dip[idx] / value)\n",
      "/Users/vipin/opt/anaconda3/envs/my_own/lib/python3.9/site-packages/ta/trend.py:785: RuntimeWarning: invalid value encountered in scalar divide\n",
      "  din[idx] = 100 * (self._din[idx] / value)\n"
     ]
    }
   ],
   "source": [
    "data  = add_all_ta_features(data, open=\"Open\", high=\"High\", low=\"Low\", close=\"Close\", volume=\"Volume\", fillna=True)"
   ]
  },
  {
   "cell_type": "code",
   "execution_count": 7,
   "metadata": {
    "executionInfo": {
     "elapsed": 789,
     "status": "ok",
     "timestamp": 1621008765383,
     "user": {
      "displayName": "Diogo Resende",
      "photoUrl": "https://lh3.googleusercontent.com/a-/AOh14GgH4DE06-yE1oiIzCiaAURCl1Escr4LXXiaSnbSaA=s64",
      "userId": "05706604408624562002"
     },
     "user_tz": -120
    },
    "id": "-ReDePNYpfSD"
   },
   "outputs": [],
   "source": [
    "#create training and test set\n",
    "test_days = 60\n",
    "training_set = data.iloc[:-test_days,:]\n",
    "test_set = data.iloc[-test_days:,:]"
   ]
  },
  {
   "cell_type": "code",
   "execution_count": 8,
   "metadata": {},
   "outputs": [
    {
     "data": {
      "text/html": [
       "<div>\n",
       "<style scoped>\n",
       "    .dataframe tbody tr th:only-of-type {\n",
       "        vertical-align: middle;\n",
       "    }\n",
       "\n",
       "    .dataframe tbody tr th {\n",
       "        vertical-align: top;\n",
       "    }\n",
       "\n",
       "    .dataframe thead th {\n",
       "        text-align: right;\n",
       "    }\n",
       "</style>\n",
       "<table border=\"1\" class=\"dataframe\">\n",
       "  <thead>\n",
       "    <tr style=\"text-align: right;\">\n",
       "      <th></th>\n",
       "      <th>Date</th>\n",
       "      <th>Open</th>\n",
       "      <th>High</th>\n",
       "      <th>Low</th>\n",
       "      <th>Close</th>\n",
       "      <th>Volume</th>\n",
       "      <th>ds</th>\n",
       "      <th>y</th>\n",
       "      <th>volume_adi</th>\n",
       "      <th>volume_obv</th>\n",
       "      <th>...</th>\n",
       "      <th>momentum_ppo</th>\n",
       "      <th>momentum_ppo_signal</th>\n",
       "      <th>momentum_ppo_hist</th>\n",
       "      <th>momentum_pvo</th>\n",
       "      <th>momentum_pvo_signal</th>\n",
       "      <th>momentum_pvo_hist</th>\n",
       "      <th>momentum_kama</th>\n",
       "      <th>others_dr</th>\n",
       "      <th>others_dlr</th>\n",
       "      <th>others_cr</th>\n",
       "    </tr>\n",
       "  </thead>\n",
       "  <tbody>\n",
       "    <tr>\n",
       "      <th>0</th>\n",
       "      <td>2007-09-17</td>\n",
       "      <td>4518.450195</td>\n",
       "      <td>4549.049805</td>\n",
       "      <td>4482.850098</td>\n",
       "      <td>4494.649902</td>\n",
       "      <td>0</td>\n",
       "      <td>2007-09-17</td>\n",
       "      <td>4494.649902</td>\n",
       "      <td>-0.000000e+00</td>\n",
       "      <td>0</td>\n",
       "      <td>...</td>\n",
       "      <td>0.000000</td>\n",
       "      <td>0.000000</td>\n",
       "      <td>0.000000</td>\n",
       "      <td>0.000000</td>\n",
       "      <td>0.000000</td>\n",
       "      <td>0.000000</td>\n",
       "      <td>4494.649902</td>\n",
       "      <td>-50.000411</td>\n",
       "      <td>0.000000</td>\n",
       "      <td>0.000000</td>\n",
       "    </tr>\n",
       "    <tr>\n",
       "      <th>1</th>\n",
       "      <td>2007-09-18</td>\n",
       "      <td>4494.100098</td>\n",
       "      <td>4551.799805</td>\n",
       "      <td>4481.549805</td>\n",
       "      <td>4546.200195</td>\n",
       "      <td>0</td>\n",
       "      <td>2007-09-18</td>\n",
       "      <td>4546.200195</td>\n",
       "      <td>0.000000e+00</td>\n",
       "      <td>0</td>\n",
       "      <td>...</td>\n",
       "      <td>0.091415</td>\n",
       "      <td>0.018283</td>\n",
       "      <td>0.073132</td>\n",
       "      <td>0.000000</td>\n",
       "      <td>0.000000</td>\n",
       "      <td>0.000000</td>\n",
       "      <td>4516.715946</td>\n",
       "      <td>1.146926</td>\n",
       "      <td>1.140398</td>\n",
       "      <td>1.146926</td>\n",
       "    </tr>\n",
       "    <tr>\n",
       "      <th>2</th>\n",
       "      <td>2007-09-19</td>\n",
       "      <td>4550.250000</td>\n",
       "      <td>4739.000000</td>\n",
       "      <td>4550.250000</td>\n",
       "      <td>4732.350098</td>\n",
       "      <td>0</td>\n",
       "      <td>2007-09-19</td>\n",
       "      <td>4732.350098</td>\n",
       "      <td>0.000000e+00</td>\n",
       "      <td>0</td>\n",
       "      <td>...</td>\n",
       "      <td>0.490209</td>\n",
       "      <td>0.112668</td>\n",
       "      <td>0.377541</td>\n",
       "      <td>0.000000</td>\n",
       "      <td>0.000000</td>\n",
       "      <td>0.000000</td>\n",
       "      <td>4605.963404</td>\n",
       "      <td>4.094626</td>\n",
       "      <td>4.013017</td>\n",
       "      <td>5.288514</td>\n",
       "    </tr>\n",
       "    <tr>\n",
       "      <th>3</th>\n",
       "      <td>2007-09-20</td>\n",
       "      <td>4734.850098</td>\n",
       "      <td>4760.850098</td>\n",
       "      <td>4721.149902</td>\n",
       "      <td>4747.549805</td>\n",
       "      <td>0</td>\n",
       "      <td>2007-09-20</td>\n",
       "      <td>4747.549805</td>\n",
       "      <td>0.000000e+00</td>\n",
       "      <td>0</td>\n",
       "      <td>...</td>\n",
       "      <td>0.821073</td>\n",
       "      <td>0.254349</td>\n",
       "      <td>0.566723</td>\n",
       "      <td>0.000000</td>\n",
       "      <td>0.000000</td>\n",
       "      <td>0.000000</td>\n",
       "      <td>4664.368713</td>\n",
       "      <td>0.321187</td>\n",
       "      <td>0.320673</td>\n",
       "      <td>5.626687</td>\n",
       "    </tr>\n",
       "    <tr>\n",
       "      <th>4</th>\n",
       "      <td>2007-09-21</td>\n",
       "      <td>4752.950195</td>\n",
       "      <td>4855.700195</td>\n",
       "      <td>4733.700195</td>\n",
       "      <td>4837.549805</td>\n",
       "      <td>0</td>\n",
       "      <td>2007-09-21</td>\n",
       "      <td>4837.549805</td>\n",
       "      <td>0.000000e+00</td>\n",
       "      <td>0</td>\n",
       "      <td>...</td>\n",
       "      <td>1.224682</td>\n",
       "      <td>0.448416</td>\n",
       "      <td>0.776266</td>\n",
       "      <td>0.000000</td>\n",
       "      <td>0.000000</td>\n",
       "      <td>0.000000</td>\n",
       "      <td>4733.773643</td>\n",
       "      <td>1.895715</td>\n",
       "      <td>1.877970</td>\n",
       "      <td>7.629068</td>\n",
       "    </tr>\n",
       "    <tr>\n",
       "      <th>...</th>\n",
       "      <td>...</td>\n",
       "      <td>...</td>\n",
       "      <td>...</td>\n",
       "      <td>...</td>\n",
       "      <td>...</td>\n",
       "      <td>...</td>\n",
       "      <td>...</td>\n",
       "      <td>...</td>\n",
       "      <td>...</td>\n",
       "      <td>...</td>\n",
       "      <td>...</td>\n",
       "      <td>...</td>\n",
       "      <td>...</td>\n",
       "      <td>...</td>\n",
       "      <td>...</td>\n",
       "      <td>...</td>\n",
       "      <td>...</td>\n",
       "      <td>...</td>\n",
       "      <td>...</td>\n",
       "      <td>...</td>\n",
       "      <td>...</td>\n",
       "    </tr>\n",
       "    <tr>\n",
       "      <th>3818</th>\n",
       "      <td>2023-04-19</td>\n",
       "      <td>17653.349609</td>\n",
       "      <td>17666.150391</td>\n",
       "      <td>17579.849609</td>\n",
       "      <td>17618.750000</td>\n",
       "      <td>281500</td>\n",
       "      <td>2023-04-19</td>\n",
       "      <td>17618.750000</td>\n",
       "      <td>3.425443e+07</td>\n",
       "      <td>55691000</td>\n",
       "      <td>...</td>\n",
       "      <td>0.505476</td>\n",
       "      <td>0.181100</td>\n",
       "      <td>0.324376</td>\n",
       "      <td>2.198453</td>\n",
       "      <td>0.132265</td>\n",
       "      <td>2.066188</td>\n",
       "      <td>17677.796117</td>\n",
       "      <td>-0.234428</td>\n",
       "      <td>-0.234704</td>\n",
       "      <td>291.993823</td>\n",
       "    </tr>\n",
       "    <tr>\n",
       "      <th>3819</th>\n",
       "      <td>2023-04-20</td>\n",
       "      <td>17638.599609</td>\n",
       "      <td>17684.449219</td>\n",
       "      <td>17584.349609</td>\n",
       "      <td>17624.449219</td>\n",
       "      <td>215100</td>\n",
       "      <td>2023-04-20</td>\n",
       "      <td>17624.449219</td>\n",
       "      <td>3.421167e+07</td>\n",
       "      <td>55906100</td>\n",
       "      <td>...</td>\n",
       "      <td>0.490856</td>\n",
       "      <td>0.243051</td>\n",
       "      <td>0.247804</td>\n",
       "      <td>0.301743</td>\n",
       "      <td>0.166160</td>\n",
       "      <td>0.135582</td>\n",
       "      <td>17673.735088</td>\n",
       "      <td>0.032347</td>\n",
       "      <td>0.032342</td>\n",
       "      <td>292.120623</td>\n",
       "    </tr>\n",
       "    <tr>\n",
       "      <th>3820</th>\n",
       "      <td>2023-04-21</td>\n",
       "      <td>17639.750000</td>\n",
       "      <td>17663.199219</td>\n",
       "      <td>17553.949219</td>\n",
       "      <td>17624.050781</td>\n",
       "      <td>230200</td>\n",
       "      <td>2023-04-21</td>\n",
       "      <td>17624.050781</td>\n",
       "      <td>3.427689e+07</td>\n",
       "      <td>55675900</td>\n",
       "      <td>...</td>\n",
       "      <td>0.473601</td>\n",
       "      <td>0.289161</td>\n",
       "      <td>0.184440</td>\n",
       "      <td>-0.763339</td>\n",
       "      <td>-0.019740</td>\n",
       "      <td>-0.743600</td>\n",
       "      <td>17672.654467</td>\n",
       "      <td>-0.002261</td>\n",
       "      <td>-0.002261</td>\n",
       "      <td>292.111759</td>\n",
       "    </tr>\n",
       "    <tr>\n",
       "      <th>3821</th>\n",
       "      <td>2023-04-24</td>\n",
       "      <td>17707.550781</td>\n",
       "      <td>17754.500000</td>\n",
       "      <td>17612.500000</td>\n",
       "      <td>17743.400391</td>\n",
       "      <td>255700</td>\n",
       "      <td>2023-04-24</td>\n",
       "      <td>17743.400391</td>\n",
       "      <td>3.449262e+07</td>\n",
       "      <td>55931600</td>\n",
       "      <td>...</td>\n",
       "      <td>0.508770</td>\n",
       "      <td>0.333083</td>\n",
       "      <td>0.175687</td>\n",
       "      <td>-0.813675</td>\n",
       "      <td>-0.178527</td>\n",
       "      <td>-0.635149</td>\n",
       "      <td>17676.036596</td>\n",
       "      <td>0.677197</td>\n",
       "      <td>0.674915</td>\n",
       "      <td>294.767129</td>\n",
       "    </tr>\n",
       "    <tr>\n",
       "      <th>3822</th>\n",
       "      <td>2023-04-25</td>\n",
       "      <td>17761.550781</td>\n",
       "      <td>17807.449219</td>\n",
       "      <td>17716.849609</td>\n",
       "      <td>17769.250000</td>\n",
       "      <td>297400</td>\n",
       "      <td>2023-04-25</td>\n",
       "      <td>17769.250000</td>\n",
       "      <td>3.453923e+07</td>\n",
       "      <td>56229000</td>\n",
       "      <td>...</td>\n",
       "      <td>0.542102</td>\n",
       "      <td>0.374887</td>\n",
       "      <td>0.167215</td>\n",
       "      <td>0.428380</td>\n",
       "      <td>-0.057145</td>\n",
       "      <td>0.485526</td>\n",
       "      <td>17680.523582</td>\n",
       "      <td>0.145686</td>\n",
       "      <td>0.145580</td>\n",
       "      <td>295.342249</td>\n",
       "    </tr>\n",
       "  </tbody>\n",
       "</table>\n",
       "<p>3823 rows × 94 columns</p>\n",
       "</div>"
      ],
      "text/plain": [
       "            Date          Open          High           Low         Close  \\\n",
       "0     2007-09-17   4518.450195   4549.049805   4482.850098   4494.649902   \n",
       "1     2007-09-18   4494.100098   4551.799805   4481.549805   4546.200195   \n",
       "2     2007-09-19   4550.250000   4739.000000   4550.250000   4732.350098   \n",
       "3     2007-09-20   4734.850098   4760.850098   4721.149902   4747.549805   \n",
       "4     2007-09-21   4752.950195   4855.700195   4733.700195   4837.549805   \n",
       "...          ...           ...           ...           ...           ...   \n",
       "3818  2023-04-19  17653.349609  17666.150391  17579.849609  17618.750000   \n",
       "3819  2023-04-20  17638.599609  17684.449219  17584.349609  17624.449219   \n",
       "3820  2023-04-21  17639.750000  17663.199219  17553.949219  17624.050781   \n",
       "3821  2023-04-24  17707.550781  17754.500000  17612.500000  17743.400391   \n",
       "3822  2023-04-25  17761.550781  17807.449219  17716.849609  17769.250000   \n",
       "\n",
       "      Volume         ds             y    volume_adi  volume_obv  ...  \\\n",
       "0          0 2007-09-17   4494.649902 -0.000000e+00           0  ...   \n",
       "1          0 2007-09-18   4546.200195  0.000000e+00           0  ...   \n",
       "2          0 2007-09-19   4732.350098  0.000000e+00           0  ...   \n",
       "3          0 2007-09-20   4747.549805  0.000000e+00           0  ...   \n",
       "4          0 2007-09-21   4837.549805  0.000000e+00           0  ...   \n",
       "...      ...        ...           ...           ...         ...  ...   \n",
       "3818  281500 2023-04-19  17618.750000  3.425443e+07    55691000  ...   \n",
       "3819  215100 2023-04-20  17624.449219  3.421167e+07    55906100  ...   \n",
       "3820  230200 2023-04-21  17624.050781  3.427689e+07    55675900  ...   \n",
       "3821  255700 2023-04-24  17743.400391  3.449262e+07    55931600  ...   \n",
       "3822  297400 2023-04-25  17769.250000  3.453923e+07    56229000  ...   \n",
       "\n",
       "      momentum_ppo  momentum_ppo_signal  momentum_ppo_hist  momentum_pvo  \\\n",
       "0         0.000000             0.000000           0.000000      0.000000   \n",
       "1         0.091415             0.018283           0.073132      0.000000   \n",
       "2         0.490209             0.112668           0.377541      0.000000   \n",
       "3         0.821073             0.254349           0.566723      0.000000   \n",
       "4         1.224682             0.448416           0.776266      0.000000   \n",
       "...            ...                  ...                ...           ...   \n",
       "3818      0.505476             0.181100           0.324376      2.198453   \n",
       "3819      0.490856             0.243051           0.247804      0.301743   \n",
       "3820      0.473601             0.289161           0.184440     -0.763339   \n",
       "3821      0.508770             0.333083           0.175687     -0.813675   \n",
       "3822      0.542102             0.374887           0.167215      0.428380   \n",
       "\n",
       "      momentum_pvo_signal  momentum_pvo_hist  momentum_kama  others_dr  \\\n",
       "0                0.000000           0.000000    4494.649902 -50.000411   \n",
       "1                0.000000           0.000000    4516.715946   1.146926   \n",
       "2                0.000000           0.000000    4605.963404   4.094626   \n",
       "3                0.000000           0.000000    4664.368713   0.321187   \n",
       "4                0.000000           0.000000    4733.773643   1.895715   \n",
       "...                   ...                ...            ...        ...   \n",
       "3818             0.132265           2.066188   17677.796117  -0.234428   \n",
       "3819             0.166160           0.135582   17673.735088   0.032347   \n",
       "3820            -0.019740          -0.743600   17672.654467  -0.002261   \n",
       "3821            -0.178527          -0.635149   17676.036596   0.677197   \n",
       "3822            -0.057145           0.485526   17680.523582   0.145686   \n",
       "\n",
       "      others_dlr   others_cr  \n",
       "0       0.000000    0.000000  \n",
       "1       1.140398    1.146926  \n",
       "2       4.013017    5.288514  \n",
       "3       0.320673    5.626687  \n",
       "4       1.877970    7.629068  \n",
       "...          ...         ...  \n",
       "3818   -0.234704  291.993823  \n",
       "3819    0.032342  292.120623  \n",
       "3820   -0.002261  292.111759  \n",
       "3821    0.674915  294.767129  \n",
       "3822    0.145580  295.342249  \n",
       "\n",
       "[3823 rows x 94 columns]"
      ]
     },
     "execution_count": 8,
     "metadata": {},
     "output_type": "execute_result"
    }
   ],
   "source": [
    "training_set"
   ]
  },
  {
   "cell_type": "markdown",
   "metadata": {
    "id": "eOzPNoRySOA5"
   },
   "source": [
    "#Prophet"
   ]
  },
  {
   "cell_type": "code",
   "execution_count": 9,
   "metadata": {
    "colab": {
     "base_uri": "https://localhost:8080/"
    },
    "executionInfo": {
     "elapsed": 8952,
     "status": "ok",
     "timestamp": 1621008811464,
     "user": {
      "displayName": "Diogo Resende",
      "photoUrl": "https://lh3.googleusercontent.com/a-/AOh14GgH4DE06-yE1oiIzCiaAURCl1Escr4LXXiaSnbSaA=s64",
      "userId": "05706604408624562002"
     },
     "user_tz": -120
    },
    "id": "Ai7zk9f7SPVK",
    "outputId": "8bcef281-3d36-49f1-9c8b-c875beeb5658"
   },
   "outputs": [
    {
     "name": "stderr",
     "output_type": "stream",
     "text": [
      "10:09:40 - cmdstanpy - INFO - Chain [1] start processing\n",
      "10:09:46 - cmdstanpy - INFO - Chain [1] done processing\n"
     ]
    },
    {
     "data": {
      "text/plain": [
       "<prophet.forecaster.Prophet at 0x7fa33d6167c0>"
      ]
     },
     "execution_count": 9,
     "metadata": {},
     "output_type": "execute_result"
    }
   ],
   "source": [
    "m = Prophet(\n",
    "            #holidays = holidays,\n",
    "            #seasonality_mode = 'multiplicative',\n",
    "            #seasonality_prior_scale = 20,\n",
    "           # changepoint_prior_scale = 0.1,\n",
    "           # holidays_prior_scale = 10\n",
    "           )\n",
    "m.add_regressor('volume_adi')\n",
    "m.add_regressor('volume_obv')\n",
    "m.add_regressor('volume_cmf')\n",
    "m.add_regressor('others_dr')\n",
    "m.add_regressor('volume_adi')\n",
    "m.fit(training_set)\n"
   ]
  },
  {
   "cell_type": "code",
   "execution_count": 10,
   "metadata": {
    "executionInfo": {
     "elapsed": 938,
     "status": "ok",
     "timestamp": 1621009506406,
     "user": {
      "displayName": "Diogo Resende",
      "photoUrl": "https://lh3.googleusercontent.com/a-/AOh14GgH4DE06-yE1oiIzCiaAURCl1Escr4LXXiaSnbSaA=s64",
      "userId": "05706604408624562002"
     },
     "user_tz": -120
    },
    "id": "8-cqw_0isYEP"
   },
   "outputs": [],
   "source": [
    "future = pd.DataFrame({\"ds\" : data.ds})"
   ]
  },
  {
   "cell_type": "code",
   "execution_count": 11,
   "metadata": {
    "colab": {
     "base_uri": "https://localhost:8080/",
     "height": 309
    },
    "executionInfo": {
     "elapsed": 5052,
     "status": "ok",
     "timestamp": 1621009541010,
     "user": {
      "displayName": "Diogo Resende",
      "photoUrl": "https://lh3.googleusercontent.com/a-/AOh14GgH4DE06-yE1oiIzCiaAURCl1Escr4LXXiaSnbSaA=s64",
      "userId": "05706604408624562002"
     },
     "user_tz": -120
    },
    "id": "NaKE6JkDshxm",
    "outputId": "4c7aac39-520e-4944-a77b-e1d903925a7d"
   },
   "outputs": [
    {
     "data": {
      "text/html": [
       "<div>\n",
       "<style scoped>\n",
       "    .dataframe tbody tr th:only-of-type {\n",
       "        vertical-align: middle;\n",
       "    }\n",
       "\n",
       "    .dataframe tbody tr th {\n",
       "        vertical-align: top;\n",
       "    }\n",
       "\n",
       "    .dataframe thead th {\n",
       "        text-align: right;\n",
       "    }\n",
       "</style>\n",
       "<table border=\"1\" class=\"dataframe\">\n",
       "  <thead>\n",
       "    <tr style=\"text-align: right;\">\n",
       "      <th></th>\n",
       "      <th>ds</th>\n",
       "      <th>trend</th>\n",
       "      <th>yhat_lower</th>\n",
       "      <th>yhat_upper</th>\n",
       "      <th>trend_lower</th>\n",
       "      <th>trend_upper</th>\n",
       "      <th>additive_terms</th>\n",
       "      <th>additive_terms_lower</th>\n",
       "      <th>additive_terms_upper</th>\n",
       "      <th>extra_regressors_additive</th>\n",
       "      <th>...</th>\n",
       "      <th>weekly</th>\n",
       "      <th>weekly_lower</th>\n",
       "      <th>weekly_upper</th>\n",
       "      <th>yearly</th>\n",
       "      <th>yearly_lower</th>\n",
       "      <th>yearly_upper</th>\n",
       "      <th>multiplicative_terms</th>\n",
       "      <th>multiplicative_terms_lower</th>\n",
       "      <th>multiplicative_terms_upper</th>\n",
       "      <th>yhat</th>\n",
       "    </tr>\n",
       "  </thead>\n",
       "  <tbody>\n",
       "    <tr>\n",
       "      <th>3878</th>\n",
       "      <td>2023-07-12</td>\n",
       "      <td>9453.168474</td>\n",
       "      <td>18143.388435</td>\n",
       "      <td>19066.758968</td>\n",
       "      <td>9411.482166</td>\n",
       "      <td>9529.441466</td>\n",
       "      <td>9141.129899</td>\n",
       "      <td>9141.129899</td>\n",
       "      <td>9141.129899</td>\n",
       "      <td>8591.446221</td>\n",
       "      <td>...</td>\n",
       "      <td>565.728648</td>\n",
       "      <td>565.728648</td>\n",
       "      <td>565.728648</td>\n",
       "      <td>-16.044970</td>\n",
       "      <td>-16.044970</td>\n",
       "      <td>-16.044970</td>\n",
       "      <td>0.0</td>\n",
       "      <td>0.0</td>\n",
       "      <td>0.0</td>\n",
       "      <td>18594.298374</td>\n",
       "    </tr>\n",
       "    <tr>\n",
       "      <th>3879</th>\n",
       "      <td>2023-07-13</td>\n",
       "      <td>9453.782972</td>\n",
       "      <td>18146.964459</td>\n",
       "      <td>19074.419777</td>\n",
       "      <td>9410.510017</td>\n",
       "      <td>9536.881963</td>\n",
       "      <td>9159.452431</td>\n",
       "      <td>9159.452431</td>\n",
       "      <td>9159.452431</td>\n",
       "      <td>8593.726903</td>\n",
       "      <td>...</td>\n",
       "      <td>575.470236</td>\n",
       "      <td>575.470236</td>\n",
       "      <td>575.470236</td>\n",
       "      <td>-9.744709</td>\n",
       "      <td>-9.744709</td>\n",
       "      <td>-9.744709</td>\n",
       "      <td>0.0</td>\n",
       "      <td>0.0</td>\n",
       "      <td>0.0</td>\n",
       "      <td>18613.235403</td>\n",
       "    </tr>\n",
       "    <tr>\n",
       "      <th>3880</th>\n",
       "      <td>2023-07-14</td>\n",
       "      <td>9454.397471</td>\n",
       "      <td>18191.486105</td>\n",
       "      <td>19087.066530</td>\n",
       "      <td>9405.828237</td>\n",
       "      <td>9542.301282</td>\n",
       "      <td>9170.301193</td>\n",
       "      <td>9170.301193</td>\n",
       "      <td>9170.301193</td>\n",
       "      <td>8616.979401</td>\n",
       "      <td>...</td>\n",
       "      <td>556.782520</td>\n",
       "      <td>556.782520</td>\n",
       "      <td>556.782520</td>\n",
       "      <td>-3.460728</td>\n",
       "      <td>-3.460728</td>\n",
       "      <td>-3.460728</td>\n",
       "      <td>0.0</td>\n",
       "      <td>0.0</td>\n",
       "      <td>0.0</td>\n",
       "      <td>18624.698663</td>\n",
       "    </tr>\n",
       "    <tr>\n",
       "      <th>3881</th>\n",
       "      <td>2023-07-14</td>\n",
       "      <td>9454.397471</td>\n",
       "      <td>18204.598391</td>\n",
       "      <td>19088.267258</td>\n",
       "      <td>9401.070193</td>\n",
       "      <td>9547.860809</td>\n",
       "      <td>9205.879098</td>\n",
       "      <td>9205.879098</td>\n",
       "      <td>9205.879098</td>\n",
       "      <td>8652.557306</td>\n",
       "      <td>...</td>\n",
       "      <td>556.782520</td>\n",
       "      <td>556.782520</td>\n",
       "      <td>556.782520</td>\n",
       "      <td>-3.460728</td>\n",
       "      <td>-3.460728</td>\n",
       "      <td>-3.460728</td>\n",
       "      <td>0.0</td>\n",
       "      <td>0.0</td>\n",
       "      <td>0.0</td>\n",
       "      <td>18660.276569</td>\n",
       "    </tr>\n",
       "    <tr>\n",
       "      <th>3882</th>\n",
       "      <td>2023-07-14</td>\n",
       "      <td>9454.397471</td>\n",
       "      <td>18268.897923</td>\n",
       "      <td>19184.143752</td>\n",
       "      <td>9399.235091</td>\n",
       "      <td>9551.786188</td>\n",
       "      <td>9261.097257</td>\n",
       "      <td>9261.097257</td>\n",
       "      <td>9261.097257</td>\n",
       "      <td>8707.775466</td>\n",
       "      <td>...</td>\n",
       "      <td>556.782520</td>\n",
       "      <td>556.782520</td>\n",
       "      <td>556.782520</td>\n",
       "      <td>-3.460728</td>\n",
       "      <td>-3.460728</td>\n",
       "      <td>-3.460728</td>\n",
       "      <td>0.0</td>\n",
       "      <td>0.0</td>\n",
       "      <td>0.0</td>\n",
       "      <td>18715.494728</td>\n",
       "    </tr>\n",
       "  </tbody>\n",
       "</table>\n",
       "<p>5 rows × 34 columns</p>\n",
       "</div>"
      ],
      "text/plain": [
       "             ds        trend    yhat_lower    yhat_upper  trend_lower  \\\n",
       "3878 2023-07-12  9453.168474  18143.388435  19066.758968  9411.482166   \n",
       "3879 2023-07-13  9453.782972  18146.964459  19074.419777  9410.510017   \n",
       "3880 2023-07-14  9454.397471  18191.486105  19087.066530  9405.828237   \n",
       "3881 2023-07-14  9454.397471  18204.598391  19088.267258  9401.070193   \n",
       "3882 2023-07-14  9454.397471  18268.897923  19184.143752  9399.235091   \n",
       "\n",
       "      trend_upper  additive_terms  additive_terms_lower  additive_terms_upper  \\\n",
       "3878  9529.441466     9141.129899           9141.129899           9141.129899   \n",
       "3879  9536.881963     9159.452431           9159.452431           9159.452431   \n",
       "3880  9542.301282     9170.301193           9170.301193           9170.301193   \n",
       "3881  9547.860809     9205.879098           9205.879098           9205.879098   \n",
       "3882  9551.786188     9261.097257           9261.097257           9261.097257   \n",
       "\n",
       "      extra_regressors_additive  ...      weekly  weekly_lower  weekly_upper  \\\n",
       "3878                8591.446221  ...  565.728648    565.728648    565.728648   \n",
       "3879                8593.726903  ...  575.470236    575.470236    575.470236   \n",
       "3880                8616.979401  ...  556.782520    556.782520    556.782520   \n",
       "3881                8652.557306  ...  556.782520    556.782520    556.782520   \n",
       "3882                8707.775466  ...  556.782520    556.782520    556.782520   \n",
       "\n",
       "         yearly  yearly_lower  yearly_upper  multiplicative_terms  \\\n",
       "3878 -16.044970    -16.044970    -16.044970                   0.0   \n",
       "3879  -9.744709     -9.744709     -9.744709                   0.0   \n",
       "3880  -3.460728     -3.460728     -3.460728                   0.0   \n",
       "3881  -3.460728     -3.460728     -3.460728                   0.0   \n",
       "3882  -3.460728     -3.460728     -3.460728                   0.0   \n",
       "\n",
       "      multiplicative_terms_lower  multiplicative_terms_upper          yhat  \n",
       "3878                         0.0                         0.0  18594.298374  \n",
       "3879                         0.0                         0.0  18613.235403  \n",
       "3880                         0.0                         0.0  18624.698663  \n",
       "3881                         0.0                         0.0  18660.276569  \n",
       "3882                         0.0                         0.0  18715.494728  \n",
       "\n",
       "[5 rows x 34 columns]"
      ]
     },
     "execution_count": 11,
     "metadata": {},
     "output_type": "execute_result"
    }
   ],
   "source": [
    "#forecast\n",
    "forecast = m.predict(data)\n",
    "forecast.tail()"
   ]
  },
  {
   "cell_type": "code",
   "execution_count": 12,
   "metadata": {},
   "outputs": [
    {
     "data": {
      "image/png": "[encoded data removed]",
      "text/plain": [
       "<Figure size 1000x600 with 1 Axes>"
      ]
     },
     "metadata": {},
     "output_type": "display_data"
    }
   ],
   "source": [
    "m.plot(forecast);"
   ]
  },
  {
   "cell_type": "code",
   "execution_count": 12,
   "metadata": {},
   "outputs": [],
   "source": [
    "data = data.reset_index(level=None, drop=False, inplace=False, col_level=0, col_fill='')\n",
    "data = data.drop(\"index\",axis=1)"
   ]
  },
  {
   "cell_type": "code",
   "execution_count": 13,
   "metadata": {
    "colab": {
     "base_uri": "https://localhost:8080/",
     "height": 79
    },
    "executionInfo": {
     "elapsed": 789,
     "status": "ok",
     "timestamp": 1621009743333,
     "user": {
      "displayName": "Diogo Resende",
      "photoUrl": "https://lh3.googleusercontent.com/a-/AOh14GgH4DE06-yE1oiIzCiaAURCl1Escr4LXXiaSnbSaA=s64",
      "userId": "05706604408624562002"
     },
     "user_tz": -120
    },
    "id": "cHnEk0cMsrfG",
    "outputId": "0e18baad-9e68-4f94-bc48-c6509130f361"
   },
   "outputs": [
    {
     "data": {
      "text/html": [
       "<div>\n",
       "<style scoped>\n",
       "    .dataframe tbody tr th:only-of-type {\n",
       "        vertical-align: middle;\n",
       "    }\n",
       "\n",
       "    .dataframe tbody tr th {\n",
       "        vertical-align: top;\n",
       "    }\n",
       "\n",
       "    .dataframe thead th {\n",
       "        text-align: right;\n",
       "    }\n",
       "</style>\n",
       "<table border=\"1\" class=\"dataframe\">\n",
       "  <thead>\n",
       "    <tr style=\"text-align: right;\">\n",
       "      <th></th>\n",
       "      <th>Date</th>\n",
       "      <th>Open</th>\n",
       "      <th>High</th>\n",
       "      <th>Low</th>\n",
       "      <th>Close</th>\n",
       "      <th>Volume</th>\n",
       "      <th>ds</th>\n",
       "      <th>y</th>\n",
       "      <th>volume_adi</th>\n",
       "      <th>volume_obv</th>\n",
       "      <th>...</th>\n",
       "      <th>momentum_pvo_hist</th>\n",
       "      <th>momentum_kama</th>\n",
       "      <th>others_dr</th>\n",
       "      <th>others_dlr</th>\n",
       "      <th>others_cr</th>\n",
       "      <th>trend</th>\n",
       "      <th>weekly</th>\n",
       "      <th>multiplicative_terms</th>\n",
       "      <th>trend_upper</th>\n",
       "      <th>trend_lower</th>\n",
       "    </tr>\n",
       "  </thead>\n",
       "  <tbody>\n",
       "    <tr>\n",
       "      <th>0</th>\n",
       "      <td>2007-09-17</td>\n",
       "      <td>4518.450195</td>\n",
       "      <td>4549.049805</td>\n",
       "      <td>4482.850098</td>\n",
       "      <td>4494.649902</td>\n",
       "      <td>0</td>\n",
       "      <td>2007-09-17</td>\n",
       "      <td>4494.649902</td>\n",
       "      <td>-0.0</td>\n",
       "      <td>0</td>\n",
       "      <td>...</td>\n",
       "      <td>0.0</td>\n",
       "      <td>4494.649902</td>\n",
       "      <td>-50.000411</td>\n",
       "      <td>0.0</td>\n",
       "      <td>0.0</td>\n",
       "      <td>7282.582125</td>\n",
       "      <td>566.346317</td>\n",
       "      <td>0.0</td>\n",
       "      <td>7282.582125</td>\n",
       "      <td>7282.582125</td>\n",
       "    </tr>\n",
       "  </tbody>\n",
       "</table>\n",
       "<p>1 rows × 99 columns</p>\n",
       "</div>"
      ],
      "text/plain": [
       "         Date         Open         High          Low        Close  Volume  \\\n",
       "0  2007-09-17  4518.450195  4549.049805  4482.850098  4494.649902       0   \n",
       "\n",
       "          ds            y  volume_adi  volume_obv  ...  momentum_pvo_hist  \\\n",
       "0 2007-09-17  4494.649902        -0.0           0  ...                0.0   \n",
       "\n",
       "   momentum_kama  others_dr  others_dlr  others_cr        trend      weekly  \\\n",
       "0    4494.649902 -50.000411         0.0        0.0  7282.582125  566.346317   \n",
       "\n",
       "   multiplicative_terms  trend_upper  trend_lower  \n",
       "0                   0.0  7282.582125  7282.582125  \n",
       "\n",
       "[1 rows x 99 columns]"
      ]
     },
     "execution_count": 13,
     "metadata": {},
     "output_type": "execute_result"
    }
   ],
   "source": [
    "#get some variables\n",
    "prophet_variables = forecast.loc[:, [\"trend\", \"weekly\",  \"multiplicative_terms\",\"trend_upper\",\"trend_lower\"]]\n",
    "df_xgb = pd.concat([data, prophet_variables], axis = 1)\n",
    "df_xgb.head(1)"
   ]
  },
  {
   "cell_type": "code",
   "execution_count": 14,
   "metadata": {},
   "outputs": [
    {
     "name": "stderr",
     "output_type": "stream",
     "text": [
      "/Users/vipin/opt/anaconda3/envs/my_own/lib/python3.9/site-packages/ta/trend.py:780: RuntimeWarning: invalid value encountered in scalar divide\n",
      "  dip[idx] = 100 * (self._dip[idx] / value)\n",
      "/Users/vipin/opt/anaconda3/envs/my_own/lib/python3.9/site-packages/ta/trend.py:785: RuntimeWarning: invalid value encountered in scalar divide\n",
      "  din[idx] = 100 * (self._din[idx] / value)\n"
     ]
    }
   ],
   "source": [
    "df_xgb  = add_all_ta_features(df_xgb, open=\"Open\", high=\"High\", low=\"Low\", close=\"Close\", volume=\"Volume\", fillna=True)\n"
   ]
  },
  {
   "cell_type": "code",
   "execution_count": 15,
   "metadata": {},
   "outputs": [
    {
     "name": "stdout",
     "output_type": "stream",
     "text": [
      "Non-Stationary Features Found: 36\n"
     ]
    }
   ],
   "source": [
    "    \n",
    "non_stationaries = []\n",
    "for col in df_xgb.columns:\n",
    "    if col != \"multiplicative_terms\" and col != \"Date\" and col != \"ds\" :\n",
    "        #print(col)\n",
    "        dftest = adfuller(df_xgb[col].values)\n",
    "        p_value = dftest[1]\n",
    "        t_test = dftest[0] < dftest[4][\"1%\"]\n",
    "        if p_value > 0.05 or not t_test:\n",
    "            non_stationaries.append(col)\n",
    "print(f\"Non-Stationary Features Found: {len(non_stationaries)}\")"
   ]
  },
  {
   "cell_type": "code",
   "execution_count": 16,
   "metadata": {},
   "outputs": [
    {
     "data": {
      "text/html": [
       "<div>\n",
       "<style scoped>\n",
       "    .dataframe tbody tr th:only-of-type {\n",
       "        vertical-align: middle;\n",
       "    }\n",
       "\n",
       "    .dataframe tbody tr th {\n",
       "        vertical-align: top;\n",
       "    }\n",
       "\n",
       "    .dataframe thead th {\n",
       "        text-align: right;\n",
       "    }\n",
       "</style>\n",
       "<table border=\"1\" class=\"dataframe\">\n",
       "  <thead>\n",
       "    <tr style=\"text-align: right;\">\n",
       "      <th></th>\n",
       "      <th>Open</th>\n",
       "      <th>High</th>\n",
       "      <th>Low</th>\n",
       "      <th>Close</th>\n",
       "      <th>Volume</th>\n",
       "      <th>y</th>\n",
       "      <th>volume_adi</th>\n",
       "      <th>volume_obv</th>\n",
       "      <th>volume_cmf</th>\n",
       "      <th>volume_fi</th>\n",
       "      <th>...</th>\n",
       "      <th>momentum_pvo_hist</th>\n",
       "      <th>momentum_kama</th>\n",
       "      <th>others_dr</th>\n",
       "      <th>others_dlr</th>\n",
       "      <th>others_cr</th>\n",
       "      <th>trend</th>\n",
       "      <th>weekly</th>\n",
       "      <th>multiplicative_terms</th>\n",
       "      <th>trend_upper</th>\n",
       "      <th>trend_lower</th>\n",
       "    </tr>\n",
       "  </thead>\n",
       "  <tbody>\n",
       "    <tr>\n",
       "      <th>0</th>\n",
       "      <td>4518.450195</td>\n",
       "      <td>4549.049805</td>\n",
       "      <td>4482.850098</td>\n",
       "      <td>4494.649902</td>\n",
       "      <td>0</td>\n",
       "      <td>4494.649902</td>\n",
       "      <td>-0.000000e+00</td>\n",
       "      <td>0</td>\n",
       "      <td>0.000000</td>\n",
       "      <td>0.000000e+00</td>\n",
       "      <td>...</td>\n",
       "      <td>0.000000</td>\n",
       "      <td>4494.649902</td>\n",
       "      <td>-50.000411</td>\n",
       "      <td>0.000000</td>\n",
       "      <td>0.000000</td>\n",
       "      <td>7282.582125</td>\n",
       "      <td>566.346317</td>\n",
       "      <td>0.0</td>\n",
       "      <td>7282.582125</td>\n",
       "      <td>7282.582125</td>\n",
       "    </tr>\n",
       "    <tr>\n",
       "      <th>1</th>\n",
       "      <td>4494.100098</td>\n",
       "      <td>4551.799805</td>\n",
       "      <td>4481.549805</td>\n",
       "      <td>4546.200195</td>\n",
       "      <td>0</td>\n",
       "      <td>4546.200195</td>\n",
       "      <td>0.000000e+00</td>\n",
       "      <td>0</td>\n",
       "      <td>0.000000</td>\n",
       "      <td>0.000000e+00</td>\n",
       "      <td>...</td>\n",
       "      <td>0.000000</td>\n",
       "      <td>4516.715946</td>\n",
       "      <td>1.146926</td>\n",
       "      <td>1.140398</td>\n",
       "      <td>1.146926</td>\n",
       "      <td>7280.438893</td>\n",
       "      <td>566.452476</td>\n",
       "      <td>0.0</td>\n",
       "      <td>7280.438893</td>\n",
       "      <td>7280.438893</td>\n",
       "    </tr>\n",
       "    <tr>\n",
       "      <th>2</th>\n",
       "      <td>4550.250000</td>\n",
       "      <td>4739.000000</td>\n",
       "      <td>4550.250000</td>\n",
       "      <td>4732.350098</td>\n",
       "      <td>0</td>\n",
       "      <td>4732.350098</td>\n",
       "      <td>0.000000e+00</td>\n",
       "      <td>0</td>\n",
       "      <td>0.000000</td>\n",
       "      <td>0.000000e+00</td>\n",
       "      <td>...</td>\n",
       "      <td>0.000000</td>\n",
       "      <td>4605.963404</td>\n",
       "      <td>4.094626</td>\n",
       "      <td>4.013017</td>\n",
       "      <td>5.288514</td>\n",
       "      <td>7278.295661</td>\n",
       "      <td>565.728648</td>\n",
       "      <td>0.0</td>\n",
       "      <td>7278.295661</td>\n",
       "      <td>7278.295661</td>\n",
       "    </tr>\n",
       "    <tr>\n",
       "      <th>3</th>\n",
       "      <td>4734.850098</td>\n",
       "      <td>4760.850098</td>\n",
       "      <td>4721.149902</td>\n",
       "      <td>4747.549805</td>\n",
       "      <td>0</td>\n",
       "      <td>4747.549805</td>\n",
       "      <td>0.000000e+00</td>\n",
       "      <td>0</td>\n",
       "      <td>0.000000</td>\n",
       "      <td>0.000000e+00</td>\n",
       "      <td>...</td>\n",
       "      <td>0.000000</td>\n",
       "      <td>4664.368713</td>\n",
       "      <td>0.321187</td>\n",
       "      <td>0.320673</td>\n",
       "      <td>5.626687</td>\n",
       "      <td>7276.152429</td>\n",
       "      <td>575.470236</td>\n",
       "      <td>0.0</td>\n",
       "      <td>7276.152429</td>\n",
       "      <td>7276.152429</td>\n",
       "    </tr>\n",
       "    <tr>\n",
       "      <th>4</th>\n",
       "      <td>4752.950195</td>\n",
       "      <td>4855.700195</td>\n",
       "      <td>4733.700195</td>\n",
       "      <td>4837.549805</td>\n",
       "      <td>0</td>\n",
       "      <td>4837.549805</td>\n",
       "      <td>0.000000e+00</td>\n",
       "      <td>0</td>\n",
       "      <td>0.000000</td>\n",
       "      <td>0.000000e+00</td>\n",
       "      <td>...</td>\n",
       "      <td>0.000000</td>\n",
       "      <td>4733.773643</td>\n",
       "      <td>1.895715</td>\n",
       "      <td>1.877970</td>\n",
       "      <td>7.629068</td>\n",
       "      <td>7274.009197</td>\n",
       "      <td>556.782520</td>\n",
       "      <td>0.0</td>\n",
       "      <td>7274.009197</td>\n",
       "      <td>7274.009197</td>\n",
       "    </tr>\n",
       "    <tr>\n",
       "      <th>...</th>\n",
       "      <td>...</td>\n",
       "      <td>...</td>\n",
       "      <td>...</td>\n",
       "      <td>...</td>\n",
       "      <td>...</td>\n",
       "      <td>...</td>\n",
       "      <td>...</td>\n",
       "      <td>...</td>\n",
       "      <td>...</td>\n",
       "      <td>...</td>\n",
       "      <td>...</td>\n",
       "      <td>...</td>\n",
       "      <td>...</td>\n",
       "      <td>...</td>\n",
       "      <td>...</td>\n",
       "      <td>...</td>\n",
       "      <td>...</td>\n",
       "      <td>...</td>\n",
       "      <td>...</td>\n",
       "      <td>...</td>\n",
       "      <td>...</td>\n",
       "    </tr>\n",
       "    <tr>\n",
       "      <th>3878</th>\n",
       "      <td>19497.449219</td>\n",
       "      <td>19507.699219</td>\n",
       "      <td>19372.349609</td>\n",
       "      <td>19374.300781</td>\n",
       "      <td>0</td>\n",
       "      <td>19374.300781</td>\n",
       "      <td>3.615614e+07</td>\n",
       "      <td>60413400</td>\n",
       "      <td>0.247359</td>\n",
       "      <td>4.485237e+06</td>\n",
       "      <td>...</td>\n",
       "      <td>-18.380312</td>\n",
       "      <td>19295.914103</td>\n",
       "      <td>-0.081479</td>\n",
       "      <td>-0.081512</td>\n",
       "      <td>331.052500</td>\n",
       "      <td>9453.168474</td>\n",
       "      <td>565.728648</td>\n",
       "      <td>0.0</td>\n",
       "      <td>9529.441466</td>\n",
       "      <td>9411.482166</td>\n",
       "    </tr>\n",
       "    <tr>\n",
       "      <th>3879</th>\n",
       "      <td>19495.199219</td>\n",
       "      <td>19567.000000</td>\n",
       "      <td>19385.800781</td>\n",
       "      <td>19413.750000</td>\n",
       "      <td>0</td>\n",
       "      <td>19413.750000</td>\n",
       "      <td>3.615614e+07</td>\n",
       "      <td>60413400</td>\n",
       "      <td>0.226854</td>\n",
       "      <td>3.844489e+06</td>\n",
       "      <td>...</td>\n",
       "      <td>-19.041852</td>\n",
       "      <td>19298.947910</td>\n",
       "      <td>0.203616</td>\n",
       "      <td>0.203409</td>\n",
       "      <td>331.930193</td>\n",
       "      <td>9453.782972</td>\n",
       "      <td>575.470236</td>\n",
       "      <td>0.0</td>\n",
       "      <td>9536.881963</td>\n",
       "      <td>9410.510017</td>\n",
       "    </tr>\n",
       "    <tr>\n",
       "      <th>3880</th>\n",
       "      <td>19493.449219</td>\n",
       "      <td>19595.349609</td>\n",
       "      <td>19433.500000</td>\n",
       "      <td>19564.500000</td>\n",
       "      <td>0</td>\n",
       "      <td>19564.500000</td>\n",
       "      <td>3.615614e+07</td>\n",
       "      <td>60413400</td>\n",
       "      <td>0.281848</td>\n",
       "      <td>3.295276e+06</td>\n",
       "      <td>...</td>\n",
       "      <td>-19.197383</td>\n",
       "      <td>19312.443903</td>\n",
       "      <td>0.776511</td>\n",
       "      <td>0.773512</td>\n",
       "      <td>335.284181</td>\n",
       "      <td>9454.397471</td>\n",
       "      <td>556.782520</td>\n",
       "      <td>0.0</td>\n",
       "      <td>9542.301282</td>\n",
       "      <td>9405.828237</td>\n",
       "    </tr>\n",
       "    <tr>\n",
       "      <th>3881</th>\n",
       "      <td>19493.449219</td>\n",
       "      <td>19595.349609</td>\n",
       "      <td>19433.500000</td>\n",
       "      <td>19564.500000</td>\n",
       "      <td>291200</td>\n",
       "      <td>19564.500000</td>\n",
       "      <td>3.633633e+07</td>\n",
       "      <td>60704600</td>\n",
       "      <td>0.282011</td>\n",
       "      <td>2.824522e+06</td>\n",
       "      <td>...</td>\n",
       "      <td>-1.257535</td>\n",
       "      <td>19324.528527</td>\n",
       "      <td>0.000000</td>\n",
       "      <td>0.000000</td>\n",
       "      <td>335.284181</td>\n",
       "      <td>9454.397471</td>\n",
       "      <td>556.782520</td>\n",
       "      <td>0.0</td>\n",
       "      <td>9547.860809</td>\n",
       "      <td>9401.070193</td>\n",
       "    </tr>\n",
       "    <tr>\n",
       "      <th>3882</th>\n",
       "      <td>19493.449219</td>\n",
       "      <td>19595.349609</td>\n",
       "      <td>19433.500000</td>\n",
       "      <td>19564.500000</td>\n",
       "      <td>291200</td>\n",
       "      <td>19564.500000</td>\n",
       "      <td>3.651652e+07</td>\n",
       "      <td>60995800</td>\n",
       "      <td>0.295517</td>\n",
       "      <td>2.421019e+06</td>\n",
       "      <td>...</td>\n",
       "      <td>9.123640</td>\n",
       "      <td>19329.118566</td>\n",
       "      <td>0.000000</td>\n",
       "      <td>0.000000</td>\n",
       "      <td>335.284181</td>\n",
       "      <td>9454.397471</td>\n",
       "      <td>556.782520</td>\n",
       "      <td>0.0</td>\n",
       "      <td>9551.786188</td>\n",
       "      <td>9399.235091</td>\n",
       "    </tr>\n",
       "  </tbody>\n",
       "</table>\n",
       "<p>3883 rows × 97 columns</p>\n",
       "</div>"
      ],
      "text/plain": [
       "              Open          High           Low         Close  Volume  \\\n",
       "0      4518.450195   4549.049805   4482.850098   4494.649902       0   \n",
       "1      4494.100098   4551.799805   4481.549805   4546.200195       0   \n",
       "2      4550.250000   4739.000000   4550.250000   4732.350098       0   \n",
       "3      4734.850098   4760.850098   4721.149902   4747.549805       0   \n",
       "4      4752.950195   4855.700195   4733.700195   4837.549805       0   \n",
       "...            ...           ...           ...           ...     ...   \n",
       "3878  19497.449219  19507.699219  19372.349609  19374.300781       0   \n",
       "3879  19495.199219  19567.000000  19385.800781  19413.750000       0   \n",
       "3880  19493.449219  19595.349609  19433.500000  19564.500000       0   \n",
       "3881  19493.449219  19595.349609  19433.500000  19564.500000  291200   \n",
       "3882  19493.449219  19595.349609  19433.500000  19564.500000  291200   \n",
       "\n",
       "                 y    volume_adi  volume_obv  volume_cmf     volume_fi  ...  \\\n",
       "0      4494.649902 -0.000000e+00           0    0.000000  0.000000e+00  ...   \n",
       "1      4546.200195  0.000000e+00           0    0.000000  0.000000e+00  ...   \n",
       "2      4732.350098  0.000000e+00           0    0.000000  0.000000e+00  ...   \n",
       "3      4747.549805  0.000000e+00           0    0.000000  0.000000e+00  ...   \n",
       "4      4837.549805  0.000000e+00           0    0.000000  0.000000e+00  ...   \n",
       "...            ...           ...         ...         ...           ...  ...   \n",
       "3878  19374.300781  3.615614e+07    60413400    0.247359  4.485237e+06  ...   \n",
       "3879  19413.750000  3.615614e+07    60413400    0.226854  3.844489e+06  ...   \n",
       "3880  19564.500000  3.615614e+07    60413400    0.281848  3.295276e+06  ...   \n",
       "3881  19564.500000  3.633633e+07    60704600    0.282011  2.824522e+06  ...   \n",
       "3882  19564.500000  3.651652e+07    60995800    0.295517  2.421019e+06  ...   \n",
       "\n",
       "      momentum_pvo_hist  momentum_kama  others_dr  others_dlr   others_cr  \\\n",
       "0              0.000000    4494.649902 -50.000411    0.000000    0.000000   \n",
       "1              0.000000    4516.715946   1.146926    1.140398    1.146926   \n",
       "2              0.000000    4605.963404   4.094626    4.013017    5.288514   \n",
       "3              0.000000    4664.368713   0.321187    0.320673    5.626687   \n",
       "4              0.000000    4733.773643   1.895715    1.877970    7.629068   \n",
       "...                 ...            ...        ...         ...         ...   \n",
       "3878         -18.380312   19295.914103  -0.081479   -0.081512  331.052500   \n",
       "3879         -19.041852   19298.947910   0.203616    0.203409  331.930193   \n",
       "3880         -19.197383   19312.443903   0.776511    0.773512  335.284181   \n",
       "3881          -1.257535   19324.528527   0.000000    0.000000  335.284181   \n",
       "3882           9.123640   19329.118566   0.000000    0.000000  335.284181   \n",
       "\n",
       "            trend      weekly  multiplicative_terms  trend_upper  trend_lower  \n",
       "0     7282.582125  566.346317                   0.0  7282.582125  7282.582125  \n",
       "1     7280.438893  566.452476                   0.0  7280.438893  7280.438893  \n",
       "2     7278.295661  565.728648                   0.0  7278.295661  7278.295661  \n",
       "3     7276.152429  575.470236                   0.0  7276.152429  7276.152429  \n",
       "4     7274.009197  556.782520                   0.0  7274.009197  7274.009197  \n",
       "...           ...         ...                   ...          ...          ...  \n",
       "3878  9453.168474  565.728648                   0.0  9529.441466  9411.482166  \n",
       "3879  9453.782972  575.470236                   0.0  9536.881963  9410.510017  \n",
       "3880  9454.397471  556.782520                   0.0  9542.301282  9405.828237  \n",
       "3881  9454.397471  556.782520                   0.0  9547.860809  9401.070193  \n",
       "3882  9454.397471  556.782520                   0.0  9551.786188  9399.235091  \n",
       "\n",
       "[3883 rows x 97 columns]"
      ]
     },
     "execution_count": 16,
     "metadata": {},
     "output_type": "execute_result"
    }
   ],
   "source": [
    "df_stationary = df_xgb.copy()\n",
    "\n",
    "df_stationary = df_stationary.drop(columns=[\"Date\",\"ds\"])\n",
    "df_stationary"
   ]
  },
  {
   "cell_type": "code",
   "execution_count": 17,
   "metadata": {},
   "outputs": [],
   "source": [
    "df_stationary[non_stationaries] = df_stationary[non_stationaries].pct_change()"
   ]
  },
  {
   "cell_type": "markdown",
   "metadata": {
    "id": "lNUb5oO-tir_"
   },
   "source": [
    "#XGBoost preparation"
   ]
  },
  {
   "cell_type": "code",
   "execution_count": 18,
   "metadata": {
    "executionInfo": {
     "elapsed": 444,
     "status": "ok",
     "timestamp": 1621009798336,
     "user": {
      "displayName": "Diogo Resende",
      "photoUrl": "https://lh3.googleusercontent.com/a-/AOh14GgH4DE06-yE1oiIzCiaAURCl1Escr4LXXiaSnbSaA=s64",
      "userId": "05706604408624562002"
     },
     "user_tz": -120
    },
    "id": "YCd0qohrtkae"
   },
   "outputs": [],
   "source": [
    "#create training and test set\n",
    "test_days = 360\n",
    "training_set = df_xgb.iloc[:-test_days,:]\n",
    "test_set = df_xgb.iloc[-test_days:,:]\n"
   ]
  },
  {
   "cell_type": "code",
   "execution_count": 44,
   "metadata": {},
   "outputs": [
    {
     "data": {
      "text/html": [
       "<div>\n",
       "<style scoped>\n",
       "    .dataframe tbody tr th:only-of-type {\n",
       "        vertical-align: middle;\n",
       "    }\n",
       "\n",
       "    .dataframe tbody tr th {\n",
       "        vertical-align: top;\n",
       "    }\n",
       "\n",
       "    .dataframe thead th {\n",
       "        text-align: right;\n",
       "    }\n",
       "</style>\n",
       "<table border=\"1\" class=\"dataframe\">\n",
       "  <thead>\n",
       "    <tr style=\"text-align: right;\">\n",
       "      <th></th>\n",
       "      <th>Date</th>\n",
       "      <th>Open</th>\n",
       "      <th>High</th>\n",
       "      <th>Low</th>\n",
       "      <th>Close</th>\n",
       "      <th>Volume</th>\n",
       "      <th>ds</th>\n",
       "      <th>y</th>\n",
       "      <th>volume_adi</th>\n",
       "      <th>volume_obv</th>\n",
       "      <th>...</th>\n",
       "      <th>momentum_pvo_hist</th>\n",
       "      <th>momentum_kama</th>\n",
       "      <th>others_dr</th>\n",
       "      <th>others_dlr</th>\n",
       "      <th>others_cr</th>\n",
       "      <th>trend</th>\n",
       "      <th>weekly</th>\n",
       "      <th>multiplicative_terms</th>\n",
       "      <th>trend_upper</th>\n",
       "      <th>trend_lower</th>\n",
       "    </tr>\n",
       "    <tr>\n",
       "      <th>ds</th>\n",
       "      <th></th>\n",
       "      <th></th>\n",
       "      <th></th>\n",
       "      <th></th>\n",
       "      <th></th>\n",
       "      <th></th>\n",
       "      <th></th>\n",
       "      <th></th>\n",
       "      <th></th>\n",
       "      <th></th>\n",
       "      <th></th>\n",
       "      <th></th>\n",
       "      <th></th>\n",
       "      <th></th>\n",
       "      <th></th>\n",
       "      <th></th>\n",
       "      <th></th>\n",
       "      <th></th>\n",
       "      <th></th>\n",
       "      <th></th>\n",
       "      <th></th>\n",
       "    </tr>\n",
       "  </thead>\n",
       "  <tbody>\n",
       "    <tr>\n",
       "      <th>2007-09-17</th>\n",
       "      <td>2007-09-17</td>\n",
       "      <td>4518.450195</td>\n",
       "      <td>4549.049805</td>\n",
       "      <td>4482.850098</td>\n",
       "      <td>4494.649902</td>\n",
       "      <td>0</td>\n",
       "      <td>2007-09-17</td>\n",
       "      <td>4494.649902</td>\n",
       "      <td>-0.000000e+00</td>\n",
       "      <td>0</td>\n",
       "      <td>...</td>\n",
       "      <td>0.000000</td>\n",
       "      <td>4494.649902</td>\n",
       "      <td>-50.000411</td>\n",
       "      <td>0.000000</td>\n",
       "      <td>0.000000</td>\n",
       "      <td>7282.582125</td>\n",
       "      <td>566.346317</td>\n",
       "      <td>0.0</td>\n",
       "      <td>7282.582125</td>\n",
       "      <td>7282.582125</td>\n",
       "    </tr>\n",
       "    <tr>\n",
       "      <th>2007-09-18</th>\n",
       "      <td>2007-09-18</td>\n",
       "      <td>4494.100098</td>\n",
       "      <td>4551.799805</td>\n",
       "      <td>4481.549805</td>\n",
       "      <td>4546.200195</td>\n",
       "      <td>0</td>\n",
       "      <td>2007-09-18</td>\n",
       "      <td>4546.200195</td>\n",
       "      <td>0.000000e+00</td>\n",
       "      <td>0</td>\n",
       "      <td>...</td>\n",
       "      <td>0.000000</td>\n",
       "      <td>4516.715946</td>\n",
       "      <td>1.146926</td>\n",
       "      <td>1.140398</td>\n",
       "      <td>1.146926</td>\n",
       "      <td>7280.438893</td>\n",
       "      <td>566.452476</td>\n",
       "      <td>0.0</td>\n",
       "      <td>7280.438893</td>\n",
       "      <td>7280.438893</td>\n",
       "    </tr>\n",
       "    <tr>\n",
       "      <th>2007-09-19</th>\n",
       "      <td>2007-09-19</td>\n",
       "      <td>4550.250000</td>\n",
       "      <td>4739.000000</td>\n",
       "      <td>4550.250000</td>\n",
       "      <td>4732.350098</td>\n",
       "      <td>0</td>\n",
       "      <td>2007-09-19</td>\n",
       "      <td>4732.350098</td>\n",
       "      <td>0.000000e+00</td>\n",
       "      <td>0</td>\n",
       "      <td>...</td>\n",
       "      <td>0.000000</td>\n",
       "      <td>4605.963404</td>\n",
       "      <td>4.094626</td>\n",
       "      <td>4.013017</td>\n",
       "      <td>5.288514</td>\n",
       "      <td>7278.295661</td>\n",
       "      <td>565.728648</td>\n",
       "      <td>0.0</td>\n",
       "      <td>7278.295661</td>\n",
       "      <td>7278.295661</td>\n",
       "    </tr>\n",
       "    <tr>\n",
       "      <th>2007-09-20</th>\n",
       "      <td>2007-09-20</td>\n",
       "      <td>4734.850098</td>\n",
       "      <td>4760.850098</td>\n",
       "      <td>4721.149902</td>\n",
       "      <td>4747.549805</td>\n",
       "      <td>0</td>\n",
       "      <td>2007-09-20</td>\n",
       "      <td>4747.549805</td>\n",
       "      <td>0.000000e+00</td>\n",
       "      <td>0</td>\n",
       "      <td>...</td>\n",
       "      <td>0.000000</td>\n",
       "      <td>4664.368713</td>\n",
       "      <td>0.321187</td>\n",
       "      <td>0.320673</td>\n",
       "      <td>5.626687</td>\n",
       "      <td>7276.152429</td>\n",
       "      <td>575.470236</td>\n",
       "      <td>0.0</td>\n",
       "      <td>7276.152429</td>\n",
       "      <td>7276.152429</td>\n",
       "    </tr>\n",
       "    <tr>\n",
       "      <th>2007-09-21</th>\n",
       "      <td>2007-09-21</td>\n",
       "      <td>4752.950195</td>\n",
       "      <td>4855.700195</td>\n",
       "      <td>4733.700195</td>\n",
       "      <td>4837.549805</td>\n",
       "      <td>0</td>\n",
       "      <td>2007-09-21</td>\n",
       "      <td>4837.549805</td>\n",
       "      <td>0.000000e+00</td>\n",
       "      <td>0</td>\n",
       "      <td>...</td>\n",
       "      <td>0.000000</td>\n",
       "      <td>4733.773643</td>\n",
       "      <td>1.895715</td>\n",
       "      <td>1.877970</td>\n",
       "      <td>7.629068</td>\n",
       "      <td>7274.009197</td>\n",
       "      <td>556.782520</td>\n",
       "      <td>0.0</td>\n",
       "      <td>7274.009197</td>\n",
       "      <td>7274.009197</td>\n",
       "    </tr>\n",
       "    <tr>\n",
       "      <th>...</th>\n",
       "      <td>...</td>\n",
       "      <td>...</td>\n",
       "      <td>...</td>\n",
       "      <td>...</td>\n",
       "      <td>...</td>\n",
       "      <td>...</td>\n",
       "      <td>...</td>\n",
       "      <td>...</td>\n",
       "      <td>...</td>\n",
       "      <td>...</td>\n",
       "      <td>...</td>\n",
       "      <td>...</td>\n",
       "      <td>...</td>\n",
       "      <td>...</td>\n",
       "      <td>...</td>\n",
       "      <td>...</td>\n",
       "      <td>...</td>\n",
       "      <td>...</td>\n",
       "      <td>...</td>\n",
       "      <td>...</td>\n",
       "      <td>...</td>\n",
       "    </tr>\n",
       "    <tr>\n",
       "      <th>2022-01-31</th>\n",
       "      <td>2022-01-31</td>\n",
       "      <td>17301.050781</td>\n",
       "      <td>17410.000000</td>\n",
       "      <td>17264.150391</td>\n",
       "      <td>17339.849609</td>\n",
       "      <td>321700</td>\n",
       "      <td>2022-01-31</td>\n",
       "      <td>17339.849609</td>\n",
       "      <td>2.821675e+07</td>\n",
       "      <td>58978800</td>\n",
       "      <td>...</td>\n",
       "      <td>4.200475</td>\n",
       "      <td>17490.482243</td>\n",
       "      <td>1.391072</td>\n",
       "      <td>1.381485</td>\n",
       "      <td>285.788660</td>\n",
       "      <td>9129.327977</td>\n",
       "      <td>566.346317</td>\n",
       "      <td>0.0</td>\n",
       "      <td>9129.327977</td>\n",
       "      <td>9129.327977</td>\n",
       "    </tr>\n",
       "    <tr>\n",
       "      <th>2022-02-01</th>\n",
       "      <td>2022-02-01</td>\n",
       "      <td>17529.449219</td>\n",
       "      <td>17622.400391</td>\n",
       "      <td>17244.550781</td>\n",
       "      <td>17576.849609</td>\n",
       "      <td>386400</td>\n",
       "      <td>2022-02-01</td>\n",
       "      <td>17576.849609</td>\n",
       "      <td>2.850998e+07</td>\n",
       "      <td>59365200</td>\n",
       "      <td>...</td>\n",
       "      <td>4.442907</td>\n",
       "      <td>17497.827764</td>\n",
       "      <td>1.366794</td>\n",
       "      <td>1.357537</td>\n",
       "      <td>291.061595</td>\n",
       "      <td>9129.942475</td>\n",
       "      <td>566.452476</td>\n",
       "      <td>0.0</td>\n",
       "      <td>9129.942475</td>\n",
       "      <td>9129.942475</td>\n",
       "    </tr>\n",
       "    <tr>\n",
       "      <th>2022-02-02</th>\n",
       "      <td>2022-02-02</td>\n",
       "      <td>17706.199219</td>\n",
       "      <td>17794.599609</td>\n",
       "      <td>17674.800781</td>\n",
       "      <td>17780.000000</td>\n",
       "      <td>271200</td>\n",
       "      <td>2022-02-02</td>\n",
       "      <td>17780.000000</td>\n",
       "      <td>2.871508e+07</td>\n",
       "      <td>59636400</td>\n",
       "      <td>...</td>\n",
       "      <td>1.935797</td>\n",
       "      <td>17505.747004</td>\n",
       "      <td>1.155784</td>\n",
       "      <td>1.149156</td>\n",
       "      <td>295.581422</td>\n",
       "      <td>9130.556973</td>\n",
       "      <td>565.728648</td>\n",
       "      <td>0.0</td>\n",
       "      <td>9130.556973</td>\n",
       "      <td>9130.556973</td>\n",
       "    </tr>\n",
       "    <tr>\n",
       "      <th>2022-02-03</th>\n",
       "      <td>2022-02-03</td>\n",
       "      <td>17767.750000</td>\n",
       "      <td>17781.150391</td>\n",
       "      <td>17511.150391</td>\n",
       "      <td>17560.199219</td>\n",
       "      <td>226600</td>\n",
       "      <td>2022-02-03</td>\n",
       "      <td>17560.199219</td>\n",
       "      <td>2.857081e+07</td>\n",
       "      <td>59409800</td>\n",
       "      <td>...</td>\n",
       "      <td>-0.749217</td>\n",
       "      <td>17507.488596</td>\n",
       "      <td>-1.236225</td>\n",
       "      <td>-1.243930</td>\n",
       "      <td>290.691146</td>\n",
       "      <td>9131.171471</td>\n",
       "      <td>575.470236</td>\n",
       "      <td>0.0</td>\n",
       "      <td>9131.171471</td>\n",
       "      <td>9131.171471</td>\n",
       "    </tr>\n",
       "    <tr>\n",
       "      <th>2022-02-04</th>\n",
       "      <td>2022-02-04</td>\n",
       "      <td>17590.199219</td>\n",
       "      <td>17617.800781</td>\n",
       "      <td>17462.550781</td>\n",
       "      <td>17516.300781</td>\n",
       "      <td>261400</td>\n",
       "      <td>2022-02-04</td>\n",
       "      <td>17516.300781</td>\n",
       "      <td>2.849041e+07</td>\n",
       "      <td>59148400</td>\n",
       "      <td>...</td>\n",
       "      <td>-1.727344</td>\n",
       "      <td>17507.667967</td>\n",
       "      <td>-0.249988</td>\n",
       "      <td>-0.250301</td>\n",
       "      <td>289.714464</td>\n",
       "      <td>9131.785969</td>\n",
       "      <td>556.782520</td>\n",
       "      <td>0.0</td>\n",
       "      <td>9131.785969</td>\n",
       "      <td>9131.785969</td>\n",
       "    </tr>\n",
       "  </tbody>\n",
       "</table>\n",
       "<p>3523 rows × 99 columns</p>\n",
       "</div>"
      ],
      "text/plain": [
       "                  Date          Open          High           Low  \\\n",
       "ds                                                                 \n",
       "2007-09-17  2007-09-17   4518.450195   4549.049805   4482.850098   \n",
       "2007-09-18  2007-09-18   4494.100098   4551.799805   4481.549805   \n",
       "2007-09-19  2007-09-19   4550.250000   4739.000000   4550.250000   \n",
       "2007-09-20  2007-09-20   4734.850098   4760.850098   4721.149902   \n",
       "2007-09-21  2007-09-21   4752.950195   4855.700195   4733.700195   \n",
       "...                ...           ...           ...           ...   \n",
       "2022-01-31  2022-01-31  17301.050781  17410.000000  17264.150391   \n",
       "2022-02-01  2022-02-01  17529.449219  17622.400391  17244.550781   \n",
       "2022-02-02  2022-02-02  17706.199219  17794.599609  17674.800781   \n",
       "2022-02-03  2022-02-03  17767.750000  17781.150391  17511.150391   \n",
       "2022-02-04  2022-02-04  17590.199219  17617.800781  17462.550781   \n",
       "\n",
       "                   Close  Volume         ds             y    volume_adi  \\\n",
       "ds                                                                        \n",
       "2007-09-17   4494.649902       0 2007-09-17   4494.649902 -0.000000e+00   \n",
       "2007-09-18   4546.200195       0 2007-09-18   4546.200195  0.000000e+00   \n",
       "2007-09-19   4732.350098       0 2007-09-19   4732.350098  0.000000e+00   \n",
       "2007-09-20   4747.549805       0 2007-09-20   4747.549805  0.000000e+00   \n",
       "2007-09-21   4837.549805       0 2007-09-21   4837.549805  0.000000e+00   \n",
       "...                  ...     ...        ...           ...           ...   \n",
       "2022-01-31  17339.849609  321700 2022-01-31  17339.849609  2.821675e+07   \n",
       "2022-02-01  17576.849609  386400 2022-02-01  17576.849609  2.850998e+07   \n",
       "2022-02-02  17780.000000  271200 2022-02-02  17780.000000  2.871508e+07   \n",
       "2022-02-03  17560.199219  226600 2022-02-03  17560.199219  2.857081e+07   \n",
       "2022-02-04  17516.300781  261400 2022-02-04  17516.300781  2.849041e+07   \n",
       "\n",
       "            volume_obv  ...  momentum_pvo_hist  momentum_kama  others_dr  \\\n",
       "ds                      ...                                                \n",
       "2007-09-17           0  ...           0.000000    4494.649902 -50.000411   \n",
       "2007-09-18           0  ...           0.000000    4516.715946   1.146926   \n",
       "2007-09-19           0  ...           0.000000    4605.963404   4.094626   \n",
       "2007-09-20           0  ...           0.000000    4664.368713   0.321187   \n",
       "2007-09-21           0  ...           0.000000    4733.773643   1.895715   \n",
       "...                ...  ...                ...            ...        ...   \n",
       "2022-01-31    58978800  ...           4.200475   17490.482243   1.391072   \n",
       "2022-02-01    59365200  ...           4.442907   17497.827764   1.366794   \n",
       "2022-02-02    59636400  ...           1.935797   17505.747004   1.155784   \n",
       "2022-02-03    59409800  ...          -0.749217   17507.488596  -1.236225   \n",
       "2022-02-04    59148400  ...          -1.727344   17507.667967  -0.249988   \n",
       "\n",
       "            others_dlr   others_cr        trend      weekly  \\\n",
       "ds                                                            \n",
       "2007-09-17    0.000000    0.000000  7282.582125  566.346317   \n",
       "2007-09-18    1.140398    1.146926  7280.438893  566.452476   \n",
       "2007-09-19    4.013017    5.288514  7278.295661  565.728648   \n",
       "2007-09-20    0.320673    5.626687  7276.152429  575.470236   \n",
       "2007-09-21    1.877970    7.629068  7274.009197  556.782520   \n",
       "...                ...         ...          ...         ...   \n",
       "2022-01-31    1.381485  285.788660  9129.327977  566.346317   \n",
       "2022-02-01    1.357537  291.061595  9129.942475  566.452476   \n",
       "2022-02-02    1.149156  295.581422  9130.556973  565.728648   \n",
       "2022-02-03   -1.243930  290.691146  9131.171471  575.470236   \n",
       "2022-02-04   -0.250301  289.714464  9131.785969  556.782520   \n",
       "\n",
       "            multiplicative_terms  trend_upper  trend_lower  \n",
       "ds                                                          \n",
       "2007-09-17                   0.0  7282.582125  7282.582125  \n",
       "2007-09-18                   0.0  7280.438893  7280.438893  \n",
       "2007-09-19                   0.0  7278.295661  7278.295661  \n",
       "2007-09-20                   0.0  7276.152429  7276.152429  \n",
       "2007-09-21                   0.0  7274.009197  7274.009197  \n",
       "...                          ...          ...          ...  \n",
       "2022-01-31                   0.0  9129.327977  9129.327977  \n",
       "2022-02-01                   0.0  9129.942475  9129.942475  \n",
       "2022-02-02                   0.0  9130.556973  9130.556973  \n",
       "2022-02-03                   0.0  9131.171471  9131.171471  \n",
       "2022-02-04                   0.0  9131.785969  9131.785969  \n",
       "\n",
       "[3523 rows x 99 columns]"
      ]
     },
     "execution_count": 44,
     "metadata": {},
     "output_type": "execute_result"
    }
   ],
   "source": [
    "training_set"
   ]
  },
  {
   "cell_type": "code",
   "execution_count": 19,
   "metadata": {},
   "outputs": [],
   "source": [
    "train_y_c = []\n",
    "for i in range(0,len(training_set)):\n",
    "    if training_set.iloc[i].Open > training_set.iloc[i].Close:\n",
    "        train_y_c.append(0)\n",
    "    else:\n",
    "        train_y_c.append(1)\n",
    "\n"
   ]
  },
  {
   "cell_type": "code",
   "execution_count": 20,
   "metadata": {},
   "outputs": [],
   "source": [
    "test_y_c = []\n",
    "for j in range(0,len(test_set)):\n",
    "    if test_set.iloc[j].Open > test_set.iloc[j].Close:\n",
    "        test_y_c.append(0)\n",
    "    else:\n",
    "        test_y_c.append(1)\n",
    "        \n"
   ]
  },
  {
   "cell_type": "code",
   "execution_count": 21,
   "metadata": {},
   "outputs": [],
   "source": [
    "#isolate X and y\n",
    "y_train = train_y_c\n",
    "y_test = test_y_c \n",
    "\n",
    "X_train = training_set.iloc[:, 2:]\n",
    "\n",
    "X_test = test_set.iloc[:, 2:]\n"
   ]
  },
  {
   "cell_type": "code",
   "execution_count": 22,
   "metadata": {},
   "outputs": [],
   "source": [
    "X_train = X_train.drop(columns=[\"ds\"])\n",
    "X_test = X_test.drop(columns=[\"ds\"])"
   ]
  },
  {
   "cell_type": "code",
   "execution_count": 23,
   "metadata": {},
   "outputs": [],
   "source": [
    "import xgboost as xgb\n"
   ]
  },
  {
   "cell_type": "code",
   "execution_count": 24,
   "metadata": {},
   "outputs": [],
   "source": [
    "model_xgboost = xgb.XGBClassifier(learning_rate=0.1,\n",
    "                                      min_child_weight=1,\n",
    "                                      gamma=0,\n",
    "                                      max_depth=5,\n",
    "                                      n_estimators=5000,\n",
    "                                      subsample=0.5,\n",
    "                                      colsample_bytree=0.5,\n",
    "                                      eval_metric='auc',\n",
    "                                      verbosity=1)\n"
   ]
  },
  {
   "cell_type": "code",
   "execution_count": 26,
   "metadata": {},
   "outputs": [],
   "source": [
    "#y_train_pred = model_xgboost.predict_proba(X_train)[:,1]\n",
    "#y_valid_pred = model_xgboost.predict_proba(X_test)[:,1]\n",
    "\n",
    "#print(\"AUC Train: {:.4f}\\nAUC Valid: {:.4f}\".format(roc_auc_score(y_train, y_train_pred),\n",
    " #                                                   roc_auc_score(y_test, y_valid_pred)))"
   ]
  },
  {
   "cell_type": "code",
   "execution_count": 25,
   "metadata": {
    "executionInfo": {
     "elapsed": 801,
     "status": "ok",
     "timestamp": 1621009908956,
     "user": {
      "displayName": "Diogo Resende",
      "photoUrl": "https://lh3.googleusercontent.com/a-/AOh14GgH4DE06-yE1oiIzCiaAURCl1Escr4LXXiaSnbSaA=s64",
      "userId": "05706604408624562002"
     },
     "user_tz": -120
    },
    "id": "Hy7FFj2UtpKo"
   },
   "outputs": [
    {
     "name": "stdout",
     "output_type": "stream",
     "text": [
      "16\n"
     ]
    },
    {
     "data": {
      "text/plain": [
       "{'learning_rate': [0.02, 0.01],\n",
       " 'max_depth': [2, 3],\n",
       " 'n_estimators': [1000, 3000],\n",
       " 'min_child_weight': [0.8, 1]}"
      ]
     },
     "execution_count": 25,
     "metadata": {},
     "output_type": "execute_result"
    }
   ],
   "source": [
    "learning_rate_list = [0.02, 0.01]\n",
    "max_depth_list = [2, 3, ]\n",
    "n_estimators_list = [1000,  3000]\n",
    "colsample_bytree = [ 0.5, 1]\n",
    "sample_tree = [ 0.8, 1]\n",
    "min_child_weight = [0.8,1]\n",
    "\n",
    "params_dict = {\"learning_rate\": learning_rate_list,\n",
    "               \"max_depth\": max_depth_list,\n",
    "               \"n_estimators\": n_estimators_list,\n",
    "               # \"colsample_bytree\" : colsample_bytree,\n",
    "               #\"subsample\" :  sample_tree,\n",
    "               \"min_child_weight\" :min_child_weight\n",
    "              }\n",
    "\n",
    "num_combinations = 1\n",
    "for v in params_dict.values(): num_combinations *= len(v) \n",
    "\n",
    "print(num_combinations)\n",
    "params_dict\n"
   ]
  },
  {
   "cell_type": "code",
   "execution_count": 26,
   "metadata": {},
   "outputs": [
    {
     "name": "stderr",
     "output_type": "stream",
     "text": [
      "/Users/vipin/opt/anaconda3/envs/my_own/lib/python3.9/site-packages/xgboost/sklearn.py:1395: UserWarning: `use_label_encoder` is deprecated in 1.7.0.\n",
      "  warnings.warn(\"`use_label_encoder` is deprecated in 1.7.0.\")\n",
      "/Users/vipin/opt/anaconda3/envs/my_own/lib/python3.9/site-packages/xgboost/sklearn.py:1395: UserWarning: `use_label_encoder` is deprecated in 1.7.0.\n",
      "  warnings.warn(\"`use_label_encoder` is deprecated in 1.7.0.\")\n",
      "/Users/vipin/opt/anaconda3/envs/my_own/lib/python3.9/site-packages/xgboost/sklearn.py:1395: UserWarning: `use_label_encoder` is deprecated in 1.7.0.\n",
      "  warnings.warn(\"`use_label_encoder` is deprecated in 1.7.0.\")\n"
     ]
    },
    {
     "name": "stdout",
     "output_type": "stream",
     "text": [
      "Fitting 2 folds for each of 16 candidates, totalling 32 fits\n",
      "[CV 1/2] END learning_rate=0.02, max_depth=2, min_child_weight=0.8, n_estimators=1000;, score=(train=0.977, test=0.945) total time=   5.9s\n"
     ]
    },
    {
     "name": "stderr",
     "output_type": "stream",
     "text": [
      "/Users/vipin/opt/anaconda3/envs/my_own/lib/python3.9/site-packages/xgboost/sklearn.py:1395: UserWarning: `use_label_encoder` is deprecated in 1.7.0.\n",
      "  warnings.warn(\"`use_label_encoder` is deprecated in 1.7.0.\")\n"
     ]
    },
    {
     "name": "stdout",
     "output_type": "stream",
     "text": [
      "[CV 2/2] END learning_rate=0.02, max_depth=2, min_child_weight=0.8, n_estimators=1000;, score=(train=0.987, test=0.904) total time=   5.4s\n"
     ]
    },
    {
     "name": "stderr",
     "output_type": "stream",
     "text": [
      "/Users/vipin/opt/anaconda3/envs/my_own/lib/python3.9/site-packages/xgboost/sklearn.py:1395: UserWarning: `use_label_encoder` is deprecated in 1.7.0.\n",
      "  warnings.warn(\"`use_label_encoder` is deprecated in 1.7.0.\")\n"
     ]
    },
    {
     "name": "stdout",
     "output_type": "stream",
     "text": [
      "[CV 1/2] END learning_rate=0.02, max_depth=2, min_child_weight=0.8, n_estimators=3000;, score=(train=0.999, test=0.944) total time=  19.1s\n"
     ]
    },
    {
     "name": "stderr",
     "output_type": "stream",
     "text": [
      "/Users/vipin/opt/anaconda3/envs/my_own/lib/python3.9/site-packages/xgboost/sklearn.py:1395: UserWarning: `use_label_encoder` is deprecated in 1.7.0.\n",
      "  warnings.warn(\"`use_label_encoder` is deprecated in 1.7.0.\")\n"
     ]
    },
    {
     "name": "stdout",
     "output_type": "stream",
     "text": [
      "[CV 2/2] END learning_rate=0.02, max_depth=2, min_child_weight=0.8, n_estimators=3000;, score=(train=0.999, test=0.893) total time=  18.1s\n"
     ]
    },
    {
     "name": "stderr",
     "output_type": "stream",
     "text": [
      "/Users/vipin/opt/anaconda3/envs/my_own/lib/python3.9/site-packages/xgboost/sklearn.py:1395: UserWarning: `use_label_encoder` is deprecated in 1.7.0.\n",
      "  warnings.warn(\"`use_label_encoder` is deprecated in 1.7.0.\")\n"
     ]
    },
    {
     "name": "stdout",
     "output_type": "stream",
     "text": [
      "[CV 1/2] END learning_rate=0.02, max_depth=2, min_child_weight=1, n_estimators=1000;, score=(train=0.977, test=0.945) total time=   7.3s\n"
     ]
    },
    {
     "name": "stderr",
     "output_type": "stream",
     "text": [
      "/Users/vipin/opt/anaconda3/envs/my_own/lib/python3.9/site-packages/xgboost/sklearn.py:1395: UserWarning: `use_label_encoder` is deprecated in 1.7.0.\n",
      "  warnings.warn(\"`use_label_encoder` is deprecated in 1.7.0.\")\n"
     ]
    },
    {
     "name": "stdout",
     "output_type": "stream",
     "text": [
      "[CV 2/2] END learning_rate=0.02, max_depth=2, min_child_weight=1, n_estimators=1000;, score=(train=0.987, test=0.904) total time=   6.7s\n"
     ]
    },
    {
     "name": "stderr",
     "output_type": "stream",
     "text": [
      "/Users/vipin/opt/anaconda3/envs/my_own/lib/python3.9/site-packages/xgboost/sklearn.py:1395: UserWarning: `use_label_encoder` is deprecated in 1.7.0.\n",
      "  warnings.warn(\"`use_label_encoder` is deprecated in 1.7.0.\")\n"
     ]
    },
    {
     "name": "stdout",
     "output_type": "stream",
     "text": [
      "[CV 1/2] END learning_rate=0.02, max_depth=2, min_child_weight=1, n_estimators=3000;, score=(train=0.999, test=0.944) total time=  29.8s\n"
     ]
    },
    {
     "name": "stderr",
     "output_type": "stream",
     "text": [
      "/Users/vipin/opt/anaconda3/envs/my_own/lib/python3.9/site-packages/xgboost/sklearn.py:1395: UserWarning: `use_label_encoder` is deprecated in 1.7.0.\n",
      "  warnings.warn(\"`use_label_encoder` is deprecated in 1.7.0.\")\n"
     ]
    },
    {
     "name": "stdout",
     "output_type": "stream",
     "text": [
      "[CV 2/2] END learning_rate=0.02, max_depth=2, min_child_weight=1, n_estimators=3000;, score=(train=0.999, test=0.894) total time=  20.3s\n"
     ]
    },
    {
     "name": "stderr",
     "output_type": "stream",
     "text": [
      "/Users/vipin/opt/anaconda3/envs/my_own/lib/python3.9/site-packages/xgboost/sklearn.py:1395: UserWarning: `use_label_encoder` is deprecated in 1.7.0.\n",
      "  warnings.warn(\"`use_label_encoder` is deprecated in 1.7.0.\")\n"
     ]
    },
    {
     "name": "stdout",
     "output_type": "stream",
     "text": [
      "[CV 1/2] END learning_rate=0.02, max_depth=3, min_child_weight=0.8, n_estimators=1000;, score=(train=0.996, test=0.944) total time=   9.2s\n"
     ]
    },
    {
     "name": "stderr",
     "output_type": "stream",
     "text": [
      "/Users/vipin/opt/anaconda3/envs/my_own/lib/python3.9/site-packages/xgboost/sklearn.py:1395: UserWarning: `use_label_encoder` is deprecated in 1.7.0.\n",
      "  warnings.warn(\"`use_label_encoder` is deprecated in 1.7.0.\")\n"
     ]
    },
    {
     "name": "stdout",
     "output_type": "stream",
     "text": [
      "[CV 2/2] END learning_rate=0.02, max_depth=3, min_child_weight=0.8, n_estimators=1000;, score=(train=0.998, test=0.899) total time=   8.8s\n"
     ]
    },
    {
     "name": "stderr",
     "output_type": "stream",
     "text": [
      "/Users/vipin/opt/anaconda3/envs/my_own/lib/python3.9/site-packages/xgboost/sklearn.py:1395: UserWarning: `use_label_encoder` is deprecated in 1.7.0.\n",
      "  warnings.warn(\"`use_label_encoder` is deprecated in 1.7.0.\")\n"
     ]
    },
    {
     "name": "stdout",
     "output_type": "stream",
     "text": [
      "[CV 1/2] END learning_rate=0.02, max_depth=3, min_child_weight=0.8, n_estimators=3000;, score=(train=1.000, test=0.946) total time=  28.3s\n"
     ]
    },
    {
     "name": "stderr",
     "output_type": "stream",
     "text": [
      "/Users/vipin/opt/anaconda3/envs/my_own/lib/python3.9/site-packages/xgboost/sklearn.py:1395: UserWarning: `use_label_encoder` is deprecated in 1.7.0.\n",
      "  warnings.warn(\"`use_label_encoder` is deprecated in 1.7.0.\")\n"
     ]
    },
    {
     "name": "stdout",
     "output_type": "stream",
     "text": [
      "[CV 2/2] END learning_rate=0.02, max_depth=3, min_child_weight=0.8, n_estimators=3000;, score=(train=1.000, test=0.895) total time=  25.4s\n"
     ]
    },
    {
     "name": "stderr",
     "output_type": "stream",
     "text": [
      "/Users/vipin/opt/anaconda3/envs/my_own/lib/python3.9/site-packages/xgboost/sklearn.py:1395: UserWarning: `use_label_encoder` is deprecated in 1.7.0.\n",
      "  warnings.warn(\"`use_label_encoder` is deprecated in 1.7.0.\")\n"
     ]
    },
    {
     "name": "stdout",
     "output_type": "stream",
     "text": [
      "[CV 1/2] END learning_rate=0.02, max_depth=3, min_child_weight=1, n_estimators=1000;, score=(train=0.996, test=0.944) total time=  10.2s\n"
     ]
    },
    {
     "name": "stderr",
     "output_type": "stream",
     "text": [
      "/Users/vipin/opt/anaconda3/envs/my_own/lib/python3.9/site-packages/xgboost/sklearn.py:1395: UserWarning: `use_label_encoder` is deprecated in 1.7.0.\n",
      "  warnings.warn(\"`use_label_encoder` is deprecated in 1.7.0.\")\n"
     ]
    },
    {
     "name": "stdout",
     "output_type": "stream",
     "text": [
      "[CV 2/2] END learning_rate=0.02, max_depth=3, min_child_weight=1, n_estimators=1000;, score=(train=0.998, test=0.903) total time=   8.4s\n"
     ]
    },
    {
     "name": "stderr",
     "output_type": "stream",
     "text": [
      "/Users/vipin/opt/anaconda3/envs/my_own/lib/python3.9/site-packages/xgboost/sklearn.py:1395: UserWarning: `use_label_encoder` is deprecated in 1.7.0.\n",
      "  warnings.warn(\"`use_label_encoder` is deprecated in 1.7.0.\")\n"
     ]
    },
    {
     "name": "stdout",
     "output_type": "stream",
     "text": [
      "[CV 1/2] END learning_rate=0.02, max_depth=3, min_child_weight=1, n_estimators=3000;, score=(train=1.000, test=0.946) total time=  32.8s\n"
     ]
    },
    {
     "name": "stderr",
     "output_type": "stream",
     "text": [
      "/Users/vipin/opt/anaconda3/envs/my_own/lib/python3.9/site-packages/xgboost/sklearn.py:1395: UserWarning: `use_label_encoder` is deprecated in 1.7.0.\n",
      "  warnings.warn(\"`use_label_encoder` is deprecated in 1.7.0.\")\n"
     ]
    },
    {
     "name": "stdout",
     "output_type": "stream",
     "text": [
      "[CV 2/2] END learning_rate=0.02, max_depth=3, min_child_weight=1, n_estimators=3000;, score=(train=1.000, test=0.897) total time=  25.4s\n"
     ]
    },
    {
     "name": "stderr",
     "output_type": "stream",
     "text": [
      "/Users/vipin/opt/anaconda3/envs/my_own/lib/python3.9/site-packages/xgboost/sklearn.py:1395: UserWarning: `use_label_encoder` is deprecated in 1.7.0.\n",
      "  warnings.warn(\"`use_label_encoder` is deprecated in 1.7.0.\")\n"
     ]
    },
    {
     "name": "stdout",
     "output_type": "stream",
     "text": [
      "[CV 1/2] END learning_rate=0.01, max_depth=2, min_child_weight=0.8, n_estimators=1000;, score=(train=0.961, test=0.948) total time=   6.4s\n"
     ]
    },
    {
     "name": "stderr",
     "output_type": "stream",
     "text": [
      "/Users/vipin/opt/anaconda3/envs/my_own/lib/python3.9/site-packages/xgboost/sklearn.py:1395: UserWarning: `use_label_encoder` is deprecated in 1.7.0.\n",
      "  warnings.warn(\"`use_label_encoder` is deprecated in 1.7.0.\")\n"
     ]
    },
    {
     "name": "stdout",
     "output_type": "stream",
     "text": [
      "[CV 2/2] END learning_rate=0.01, max_depth=2, min_child_weight=0.8, n_estimators=1000;, score=(train=0.976, test=0.909) total time=   6.6s\n"
     ]
    },
    {
     "name": "stderr",
     "output_type": "stream",
     "text": [
      "/Users/vipin/opt/anaconda3/envs/my_own/lib/python3.9/site-packages/xgboost/sklearn.py:1395: UserWarning: `use_label_encoder` is deprecated in 1.7.0.\n",
      "  warnings.warn(\"`use_label_encoder` is deprecated in 1.7.0.\")\n"
     ]
    },
    {
     "name": "stdout",
     "output_type": "stream",
     "text": [
      "[CV 1/2] END learning_rate=0.01, max_depth=2, min_child_weight=0.8, n_estimators=3000;, score=(train=0.987, test=0.943) total time=  19.8s\n"
     ]
    },
    {
     "name": "stderr",
     "output_type": "stream",
     "text": [
      "/Users/vipin/opt/anaconda3/envs/my_own/lib/python3.9/site-packages/xgboost/sklearn.py:1395: UserWarning: `use_label_encoder` is deprecated in 1.7.0.\n",
      "  warnings.warn(\"`use_label_encoder` is deprecated in 1.7.0.\")\n"
     ]
    },
    {
     "name": "stdout",
     "output_type": "stream",
     "text": [
      "[CV 2/2] END learning_rate=0.01, max_depth=2, min_child_weight=0.8, n_estimators=3000;, score=(train=0.993, test=0.902) total time=  18.1s\n"
     ]
    },
    {
     "name": "stderr",
     "output_type": "stream",
     "text": [
      "/Users/vipin/opt/anaconda3/envs/my_own/lib/python3.9/site-packages/xgboost/sklearn.py:1395: UserWarning: `use_label_encoder` is deprecated in 1.7.0.\n",
      "  warnings.warn(\"`use_label_encoder` is deprecated in 1.7.0.\")\n"
     ]
    },
    {
     "name": "stdout",
     "output_type": "stream",
     "text": [
      "[CV 1/2] END learning_rate=0.01, max_depth=2, min_child_weight=1, n_estimators=1000;, score=(train=0.961, test=0.948) total time=   7.0s\n"
     ]
    },
    {
     "name": "stderr",
     "output_type": "stream",
     "text": [
      "/Users/vipin/opt/anaconda3/envs/my_own/lib/python3.9/site-packages/xgboost/sklearn.py:1395: UserWarning: `use_label_encoder` is deprecated in 1.7.0.\n",
      "  warnings.warn(\"`use_label_encoder` is deprecated in 1.7.0.\")\n"
     ]
    },
    {
     "name": "stdout",
     "output_type": "stream",
     "text": [
      "[CV 2/2] END learning_rate=0.01, max_depth=2, min_child_weight=1, n_estimators=1000;, score=(train=0.976, test=0.909) total time=   6.0s\n"
     ]
    },
    {
     "name": "stderr",
     "output_type": "stream",
     "text": [
      "/Users/vipin/opt/anaconda3/envs/my_own/lib/python3.9/site-packages/xgboost/sklearn.py:1395: UserWarning: `use_label_encoder` is deprecated in 1.7.0.\n",
      "  warnings.warn(\"`use_label_encoder` is deprecated in 1.7.0.\")\n"
     ]
    },
    {
     "name": "stdout",
     "output_type": "stream",
     "text": [
      "[CV 1/2] END learning_rate=0.01, max_depth=2, min_child_weight=1, n_estimators=3000;, score=(train=0.987, test=0.944) total time=  20.2s\n"
     ]
    },
    {
     "name": "stderr",
     "output_type": "stream",
     "text": [
      "/Users/vipin/opt/anaconda3/envs/my_own/lib/python3.9/site-packages/xgboost/sklearn.py:1395: UserWarning: `use_label_encoder` is deprecated in 1.7.0.\n",
      "  warnings.warn(\"`use_label_encoder` is deprecated in 1.7.0.\")\n"
     ]
    },
    {
     "name": "stdout",
     "output_type": "stream",
     "text": [
      "[CV 2/2] END learning_rate=0.01, max_depth=2, min_child_weight=1, n_estimators=3000;, score=(train=0.993, test=0.902) total time=  17.4s\n"
     ]
    },
    {
     "name": "stderr",
     "output_type": "stream",
     "text": [
      "/Users/vipin/opt/anaconda3/envs/my_own/lib/python3.9/site-packages/xgboost/sklearn.py:1395: UserWarning: `use_label_encoder` is deprecated in 1.7.0.\n",
      "  warnings.warn(\"`use_label_encoder` is deprecated in 1.7.0.\")\n"
     ]
    },
    {
     "name": "stdout",
     "output_type": "stream",
     "text": [
      "[CV 1/2] END learning_rate=0.01, max_depth=3, min_child_weight=0.8, n_estimators=1000;, score=(train=0.982, test=0.943) total time=   9.7s\n"
     ]
    },
    {
     "name": "stderr",
     "output_type": "stream",
     "text": [
      "/Users/vipin/opt/anaconda3/envs/my_own/lib/python3.9/site-packages/xgboost/sklearn.py:1395: UserWarning: `use_label_encoder` is deprecated in 1.7.0.\n",
      "  warnings.warn(\"`use_label_encoder` is deprecated in 1.7.0.\")\n"
     ]
    },
    {
     "name": "stdout",
     "output_type": "stream",
     "text": [
      "[CV 2/2] END learning_rate=0.01, max_depth=3, min_child_weight=0.8, n_estimators=1000;, score=(train=0.989, test=0.902) total time=   8.6s\n"
     ]
    },
    {
     "name": "stderr",
     "output_type": "stream",
     "text": [
      "/Users/vipin/opt/anaconda3/envs/my_own/lib/python3.9/site-packages/xgboost/sklearn.py:1395: UserWarning: `use_label_encoder` is deprecated in 1.7.0.\n",
      "  warnings.warn(\"`use_label_encoder` is deprecated in 1.7.0.\")\n"
     ]
    },
    {
     "name": "stdout",
     "output_type": "stream",
     "text": [
      "[CV 1/2] END learning_rate=0.01, max_depth=3, min_child_weight=0.8, n_estimators=3000;, score=(train=1.000, test=0.946) total time=  28.3s\n"
     ]
    },
    {
     "name": "stderr",
     "output_type": "stream",
     "text": [
      "/Users/vipin/opt/anaconda3/envs/my_own/lib/python3.9/site-packages/xgboost/sklearn.py:1395: UserWarning: `use_label_encoder` is deprecated in 1.7.0.\n",
      "  warnings.warn(\"`use_label_encoder` is deprecated in 1.7.0.\")\n"
     ]
    },
    {
     "name": "stdout",
     "output_type": "stream",
     "text": [
      "[CV 2/2] END learning_rate=0.01, max_depth=3, min_child_weight=0.8, n_estimators=3000;, score=(train=1.000, test=0.898) total time=  26.1s\n"
     ]
    },
    {
     "name": "stderr",
     "output_type": "stream",
     "text": [
      "/Users/vipin/opt/anaconda3/envs/my_own/lib/python3.9/site-packages/xgboost/sklearn.py:1395: UserWarning: `use_label_encoder` is deprecated in 1.7.0.\n",
      "  warnings.warn(\"`use_label_encoder` is deprecated in 1.7.0.\")\n"
     ]
    },
    {
     "name": "stdout",
     "output_type": "stream",
     "text": [
      "[CV 1/2] END learning_rate=0.01, max_depth=3, min_child_weight=1, n_estimators=1000;, score=(train=0.982, test=0.942) total time=   9.5s\n"
     ]
    },
    {
     "name": "stderr",
     "output_type": "stream",
     "text": [
      "/Users/vipin/opt/anaconda3/envs/my_own/lib/python3.9/site-packages/xgboost/sklearn.py:1395: UserWarning: `use_label_encoder` is deprecated in 1.7.0.\n",
      "  warnings.warn(\"`use_label_encoder` is deprecated in 1.7.0.\")\n"
     ]
    },
    {
     "name": "stdout",
     "output_type": "stream",
     "text": [
      "[CV 2/2] END learning_rate=0.01, max_depth=3, min_child_weight=1, n_estimators=1000;, score=(train=0.989, test=0.907) total time=   9.4s\n"
     ]
    },
    {
     "name": "stderr",
     "output_type": "stream",
     "text": [
      "/Users/vipin/opt/anaconda3/envs/my_own/lib/python3.9/site-packages/xgboost/sklearn.py:1395: UserWarning: `use_label_encoder` is deprecated in 1.7.0.\n",
      "  warnings.warn(\"`use_label_encoder` is deprecated in 1.7.0.\")\n"
     ]
    },
    {
     "name": "stdout",
     "output_type": "stream",
     "text": [
      "[CV 1/2] END learning_rate=0.01, max_depth=3, min_child_weight=1, n_estimators=3000;, score=(train=1.000, test=0.945) total time=  28.7s\n"
     ]
    },
    {
     "name": "stderr",
     "output_type": "stream",
     "text": [
      "/Users/vipin/opt/anaconda3/envs/my_own/lib/python3.9/site-packages/xgboost/sklearn.py:1395: UserWarning: `use_label_encoder` is deprecated in 1.7.0.\n",
      "  warnings.warn(\"`use_label_encoder` is deprecated in 1.7.0.\")\n"
     ]
    },
    {
     "name": "stdout",
     "output_type": "stream",
     "text": [
      "[CV 2/2] END learning_rate=0.01, max_depth=3, min_child_weight=1, n_estimators=3000;, score=(train=1.000, test=0.902) total time=  26.3s\n"
     ]
    },
    {
     "name": "stderr",
     "output_type": "stream",
     "text": [
      "/Users/vipin/opt/anaconda3/envs/my_own/lib/python3.9/site-packages/xgboost/sklearn.py:1395: UserWarning: `use_label_encoder` is deprecated in 1.7.0.\n",
      "  warnings.warn(\"`use_label_encoder` is deprecated in 1.7.0.\")\n"
     ]
    },
    {
     "data": {
      "text/html": [
       "<style>#sk-container-id-1 {color: black;}#sk-container-id-1 pre{padding: 0;}#sk-container-id-1 div.sk-toggleable {background-color: white;}#sk-container-id-1 label.sk-toggleable__label {cursor: pointer;display: block;width: 100%;margin-bottom: 0;padding: 0.3em;box-sizing: border-box;text-align: center;}#sk-container-id-1 label.sk-toggleable__label-arrow:before {content: \"▸\";float: left;margin-right: 0.25em;color: #696969;}#sk-container-id-1 label.sk-toggleable__label-arrow:hover:before {color: black;}#sk-container-id-1 div.sk-estimator:hover label.sk-toggleable__label-arrow:before {color: black;}#sk-container-id-1 div.sk-toggleable__content {max-height: 0;max-width: 0;overflow: hidden;text-align: left;background-color: #f0f8ff;}#sk-container-id-1 div.sk-toggleable__content pre {margin: 0.2em;color: black;border-radius: 0.25em;background-color: #f0f8ff;}#sk-container-id-1 input.sk-toggleable__control:checked~div.sk-toggleable__content {max-height: 200px;max-width: 100%;overflow: auto;}#sk-container-id-1 input.sk-toggleable__control:checked~label.sk-toggleable__label-arrow:before {content: \"▾\";}#sk-container-id-1 div.sk-estimator input.sk-toggleable__control:checked~label.sk-toggleable__label {background-color: #d4ebff;}#sk-container-id-1 div.sk-label input.sk-toggleable__control:checked~label.sk-toggleable__label {background-color: #d4ebff;}#sk-container-id-1 input.sk-hidden--visually {border: 0;clip: rect(1px 1px 1px 1px);clip: rect(1px, 1px, 1px, 1px);height: 1px;margin: -1px;overflow: hidden;padding: 0;position: absolute;width: 1px;}#sk-container-id-1 div.sk-estimator {font-family: monospace;background-color: #f0f8ff;border: 1px dotted black;border-radius: 0.25em;box-sizing: border-box;margin-bottom: 0.5em;}#sk-container-id-1 div.sk-estimator:hover {background-color: #d4ebff;}#sk-container-id-1 div.sk-parallel-item::after {content: \"\";width: 100%;border-bottom: 1px solid gray;flex-grow: 1;}#sk-container-id-1 div.sk-label:hover label.sk-toggleable__label {background-color: #d4ebff;}#sk-container-id-1 div.sk-serial::before {content: \"\";position: absolute;border-left: 1px solid gray;box-sizing: border-box;top: 0;bottom: 0;left: 50%;z-index: 0;}#sk-container-id-1 div.sk-serial {display: flex;flex-direction: column;align-items: center;background-color: white;padding-right: 0.2em;padding-left: 0.2em;position: relative;}#sk-container-id-1 div.sk-item {position: relative;z-index: 1;}#sk-container-id-1 div.sk-parallel {display: flex;align-items: stretch;justify-content: center;background-color: white;position: relative;}#sk-container-id-1 div.sk-item::before, #sk-container-id-1 div.sk-parallel-item::before {content: \"\";position: absolute;border-left: 1px solid gray;box-sizing: border-box;top: 0;bottom: 0;left: 50%;z-index: -1;}#sk-container-id-1 div.sk-parallel-item {display: flex;flex-direction: column;z-index: 1;position: relative;background-color: white;}#sk-container-id-1 div.sk-parallel-item:first-child::after {align-self: flex-end;width: 50%;}#sk-container-id-1 div.sk-parallel-item:last-child::after {align-self: flex-start;width: 50%;}#sk-container-id-1 div.sk-parallel-item:only-child::after {width: 0;}#sk-container-id-1 div.sk-dashed-wrapped {border: 1px dashed gray;margin: 0 0.4em 0.5em 0.4em;box-sizing: border-box;padding-bottom: 0.4em;background-color: white;}#sk-container-id-1 div.sk-label label {font-family: monospace;font-weight: bold;display: inline-block;line-height: 1.2em;}#sk-container-id-1 div.sk-label-container {text-align: center;}#sk-container-id-1 div.sk-container {/* jupyter's `normalize.less` sets `[hidden] { display: none; }` but bootstrap.min.css set `[hidden] { display: none !important; }` so we also need the `!important` here to be able to override the default hidden behavior on the sphinx rendered scikit-learn.org. See: https://github.com/scikit-learn/scikit-learn/issues/21755 */display: inline-block !important;position: relative;}#sk-container-id-1 div.sk-text-repr-fallback {display: none;}</style><div id=\"sk-container-id-1\" class=\"sk-top-container\"><div class=\"sk-text-repr-fallback\"><pre>GridSearchCV(cv=2,\n",
       "             estimator=XGBClassifier(base_score=None, booster=None,\n",
       "                                     callbacks=None, colsample_bylevel=None,\n",
       "                                     colsample_bynode=None,\n",
       "                                     colsample_bytree=None,\n",
       "                                     early_stopping_rounds=None,\n",
       "                                     enable_categorical=False,\n",
       "                                     eval_metric=&#x27;auc&#x27;, feature_types=None,\n",
       "                                     gamma=None, gpu_id=None, grow_policy=None,\n",
       "                                     importance_type=None,\n",
       "                                     interaction_constraints=None,\n",
       "                                     learning_rate=None...\n",
       "                                     max_leaves=None, min_child_weight=None,\n",
       "                                     missing=nan, monotone_constraints=None,\n",
       "                                     n_estimators=100, n_jobs=None,\n",
       "                                     num_parallel_tree=None, predictor=None,\n",
       "                                     random_state=None, ...),\n",
       "             param_grid={&#x27;learning_rate&#x27;: [0.02, 0.01], &#x27;max_depth&#x27;: [2, 3],\n",
       "                         &#x27;min_child_weight&#x27;: [0.8, 1],\n",
       "                         &#x27;n_estimators&#x27;: [1000, 3000]},\n",
       "             return_train_score=True,\n",
       "             scoring=&lt;function my_roc_auc_score at 0x7fa32848a040&gt;, verbose=4)</pre><b>In a Jupyter environment, please rerun this cell to show the HTML representation or trust the notebook. <br />On GitHub, the HTML representation is unable to render, please try loading this page with nbviewer.org.</b></div><div class=\"sk-container\" hidden><div class=\"sk-item sk-dashed-wrapped\"><div class=\"sk-label-container\"><div class=\"sk-label sk-toggleable\"><input class=\"sk-toggleable__control sk-hidden--visually\" id=\"sk-estimator-id-1\" type=\"checkbox\" ><label for=\"sk-estimator-id-1\" class=\"sk-toggleable__label sk-toggleable__label-arrow\">GridSearchCV</label><div class=\"sk-toggleable__content\"><pre>GridSearchCV(cv=2,\n",
       "             estimator=XGBClassifier(base_score=None, booster=None,\n",
       "                                     callbacks=None, colsample_bylevel=None,\n",
       "                                     colsample_bynode=None,\n",
       "                                     colsample_bytree=None,\n",
       "                                     early_stopping_rounds=None,\n",
       "                                     enable_categorical=False,\n",
       "                                     eval_metric=&#x27;auc&#x27;, feature_types=None,\n",
       "                                     gamma=None, gpu_id=None, grow_policy=None,\n",
       "                                     importance_type=None,\n",
       "                                     interaction_constraints=None,\n",
       "                                     learning_rate=None...\n",
       "                                     max_leaves=None, min_child_weight=None,\n",
       "                                     missing=nan, monotone_constraints=None,\n",
       "                                     n_estimators=100, n_jobs=None,\n",
       "                                     num_parallel_tree=None, predictor=None,\n",
       "                                     random_state=None, ...),\n",
       "             param_grid={&#x27;learning_rate&#x27;: [0.02, 0.01], &#x27;max_depth&#x27;: [2, 3],\n",
       "                         &#x27;min_child_weight&#x27;: [0.8, 1],\n",
       "                         &#x27;n_estimators&#x27;: [1000, 3000]},\n",
       "             return_train_score=True,\n",
       "             scoring=&lt;function my_roc_auc_score at 0x7fa32848a040&gt;, verbose=4)</pre></div></div></div><div class=\"sk-parallel\"><div class=\"sk-parallel-item\"><div class=\"sk-item\"><div class=\"sk-label-container\"><div class=\"sk-label sk-toggleable\"><input class=\"sk-toggleable__control sk-hidden--visually\" id=\"sk-estimator-id-2\" type=\"checkbox\" ><label for=\"sk-estimator-id-2\" class=\"sk-toggleable__label sk-toggleable__label-arrow\">estimator: XGBClassifier</label><div class=\"sk-toggleable__content\"><pre>XGBClassifier(base_score=None, booster=None, callbacks=None,\n",
       "              colsample_bylevel=None, colsample_bynode=None,\n",
       "              colsample_bytree=None, early_stopping_rounds=None,\n",
       "              enable_categorical=False, eval_metric=&#x27;auc&#x27;, feature_types=None,\n",
       "              gamma=None, gpu_id=None, grow_policy=None, importance_type=None,\n",
       "              interaction_constraints=None, learning_rate=None, max_bin=None,\n",
       "              max_cat_threshold=None, max_cat_to_onehot=None,\n",
       "              max_delta_step=None, max_depth=None, max_leaves=None,\n",
       "              min_child_weight=None, missing=nan, monotone_constraints=None,\n",
       "              n_estimators=100, n_jobs=None, num_parallel_tree=None,\n",
       "              predictor=None, random_state=None, ...)</pre></div></div></div><div class=\"sk-serial\"><div class=\"sk-item\"><div class=\"sk-estimator sk-toggleable\"><input class=\"sk-toggleable__control sk-hidden--visually\" id=\"sk-estimator-id-3\" type=\"checkbox\" ><label for=\"sk-estimator-id-3\" class=\"sk-toggleable__label sk-toggleable__label-arrow\">XGBClassifier</label><div class=\"sk-toggleable__content\"><pre>XGBClassifier(base_score=None, booster=None, callbacks=None,\n",
       "              colsample_bylevel=None, colsample_bynode=None,\n",
       "              colsample_bytree=None, early_stopping_rounds=None,\n",
       "              enable_categorical=False, eval_metric=&#x27;auc&#x27;, feature_types=None,\n",
       "              gamma=None, gpu_id=None, grow_policy=None, importance_type=None,\n",
       "              interaction_constraints=None, learning_rate=None, max_bin=None,\n",
       "              max_cat_threshold=None, max_cat_to_onehot=None,\n",
       "              max_delta_step=None, max_depth=None, max_leaves=None,\n",
       "              min_child_weight=None, missing=nan, monotone_constraints=None,\n",
       "              n_estimators=100, n_jobs=None, num_parallel_tree=None,\n",
       "              predictor=None, random_state=None, ...)</pre></div></div></div></div></div></div></div></div></div></div>"
      ],
      "text/plain": [
       "GridSearchCV(cv=2,\n",
       "             estimator=XGBClassifier(base_score=None, booster=None,\n",
       "                                     callbacks=None, colsample_bylevel=None,\n",
       "                                     colsample_bynode=None,\n",
       "                                     colsample_bytree=None,\n",
       "                                     early_stopping_rounds=None,\n",
       "                                     enable_categorical=False,\n",
       "                                     eval_metric='auc', feature_types=None,\n",
       "                                     gamma=None, gpu_id=None, grow_policy=None,\n",
       "                                     importance_type=None,\n",
       "                                     interaction_constraints=None,\n",
       "                                     learning_rate=None...\n",
       "                                     max_leaves=None, min_child_weight=None,\n",
       "                                     missing=nan, monotone_constraints=None,\n",
       "                                     n_estimators=100, n_jobs=None,\n",
       "                                     num_parallel_tree=None, predictor=None,\n",
       "                                     random_state=None, ...),\n",
       "             param_grid={'learning_rate': [0.02, 0.01], 'max_depth': [2, 3],\n",
       "                         'min_child_weight': [0.8, 1],\n",
       "                         'n_estimators': [1000, 3000]},\n",
       "             return_train_score=True,\n",
       "             scoring=<function my_roc_auc_score at 0x7fa32848a040>, verbose=4)"
      ]
     },
     "execution_count": 26,
     "metadata": {},
     "output_type": "execute_result"
    }
   ],
   "source": [
    "def my_roc_auc_score(model, X, y): return roc_auc_score(y, model.predict_proba(X)[:,1])\n",
    "\n",
    "model_xgboost_hp = GridSearchCV(estimator=xgb.XGBClassifier(\n",
    "                                                            eval_metric='auc',\n",
    "                                                                use_label_encoder=False),\n",
    "                                param_grid=params_dict,\n",
    "                                cv=2,\n",
    "                                scoring=my_roc_auc_score,\n",
    "                                return_train_score=True,\n",
    "                                verbose=4)\n",
    "\n",
    "model_xgboost_hp.fit(X_train, y_train)"
   ]
  },
  {
   "cell_type": "code",
   "execution_count": 27,
   "metadata": {},
   "outputs": [
    {
     "data": {
      "text/html": [
       "<div>\n",
       "<style scoped>\n",
       "    .dataframe tbody tr th:only-of-type {\n",
       "        vertical-align: middle;\n",
       "    }\n",
       "\n",
       "    .dataframe tbody tr th {\n",
       "        vertical-align: top;\n",
       "    }\n",
       "\n",
       "    .dataframe thead th {\n",
       "        text-align: right;\n",
       "    }\n",
       "</style>\n",
       "<table border=\"1\" class=\"dataframe\">\n",
       "  <thead>\n",
       "    <tr style=\"text-align: right;\">\n",
       "      <th></th>\n",
       "      <th>rank_test_score</th>\n",
       "      <th>mean_test_score</th>\n",
       "      <th>mean_train_score</th>\n",
       "      <th>param_learning_rate</th>\n",
       "      <th>param_max_depth</th>\n",
       "      <th>param_n_estimators</th>\n",
       "    </tr>\n",
       "  </thead>\n",
       "  <tbody>\n",
       "    <tr>\n",
       "      <th>8</th>\n",
       "      <td>1</td>\n",
       "      <td>0.928584</td>\n",
       "      <td>0.968516</td>\n",
       "      <td>0.01</td>\n",
       "      <td>2</td>\n",
       "      <td>1000</td>\n",
       "    </tr>\n",
       "    <tr>\n",
       "      <th>10</th>\n",
       "      <td>2</td>\n",
       "      <td>0.928565</td>\n",
       "      <td>0.968437</td>\n",
       "      <td>0.01</td>\n",
       "      <td>2</td>\n",
       "      <td>1000</td>\n",
       "    </tr>\n",
       "    <tr>\n",
       "      <th>2</th>\n",
       "      <td>3</td>\n",
       "      <td>0.924743</td>\n",
       "      <td>0.982109</td>\n",
       "      <td>0.02</td>\n",
       "      <td>2</td>\n",
       "      <td>1000</td>\n",
       "    </tr>\n",
       "    <tr>\n",
       "      <th>14</th>\n",
       "      <td>4</td>\n",
       "      <td>0.924657</td>\n",
       "      <td>0.985170</td>\n",
       "      <td>0.01</td>\n",
       "      <td>3</td>\n",
       "      <td>1000</td>\n",
       "    </tr>\n",
       "    <tr>\n",
       "      <th>0</th>\n",
       "      <td>5</td>\n",
       "      <td>0.924339</td>\n",
       "      <td>0.982095</td>\n",
       "      <td>0.02</td>\n",
       "      <td>2</td>\n",
       "      <td>1000</td>\n",
       "    </tr>\n",
       "    <tr>\n",
       "      <th>15</th>\n",
       "      <td>6</td>\n",
       "      <td>0.923574</td>\n",
       "      <td>0.999746</td>\n",
       "      <td>0.01</td>\n",
       "      <td>3</td>\n",
       "      <td>3000</td>\n",
       "    </tr>\n",
       "    <tr>\n",
       "      <th>6</th>\n",
       "      <td>7</td>\n",
       "      <td>0.923361</td>\n",
       "      <td>0.996946</td>\n",
       "      <td>0.02</td>\n",
       "      <td>3</td>\n",
       "      <td>1000</td>\n",
       "    </tr>\n",
       "    <tr>\n",
       "      <th>9</th>\n",
       "      <td>8</td>\n",
       "      <td>0.922711</td>\n",
       "      <td>0.989971</td>\n",
       "      <td>0.01</td>\n",
       "      <td>2</td>\n",
       "      <td>3000</td>\n",
       "    </tr>\n",
       "    <tr>\n",
       "      <th>11</th>\n",
       "      <td>9</td>\n",
       "      <td>0.922678</td>\n",
       "      <td>0.989864</td>\n",
       "      <td>0.01</td>\n",
       "      <td>2</td>\n",
       "      <td>3000</td>\n",
       "    </tr>\n",
       "    <tr>\n",
       "      <th>12</th>\n",
       "      <td>10</td>\n",
       "      <td>0.922249</td>\n",
       "      <td>0.985465</td>\n",
       "      <td>0.01</td>\n",
       "      <td>3</td>\n",
       "      <td>1000</td>\n",
       "    </tr>\n",
       "    <tr>\n",
       "      <th>7</th>\n",
       "      <td>11</td>\n",
       "      <td>0.921826</td>\n",
       "      <td>1.000000</td>\n",
       "      <td>0.02</td>\n",
       "      <td>3</td>\n",
       "      <td>3000</td>\n",
       "    </tr>\n",
       "    <tr>\n",
       "      <th>13</th>\n",
       "      <td>12</td>\n",
       "      <td>0.921703</td>\n",
       "      <td>0.999736</td>\n",
       "      <td>0.01</td>\n",
       "      <td>3</td>\n",
       "      <td>3000</td>\n",
       "    </tr>\n",
       "    <tr>\n",
       "      <th>4</th>\n",
       "      <td>13</td>\n",
       "      <td>0.921119</td>\n",
       "      <td>0.997011</td>\n",
       "      <td>0.02</td>\n",
       "      <td>3</td>\n",
       "      <td>1000</td>\n",
       "    </tr>\n",
       "    <tr>\n",
       "      <th>5</th>\n",
       "      <td>14</td>\n",
       "      <td>0.920367</td>\n",
       "      <td>1.000000</td>\n",
       "      <td>0.02</td>\n",
       "      <td>3</td>\n",
       "      <td>3000</td>\n",
       "    </tr>\n",
       "    <tr>\n",
       "      <th>3</th>\n",
       "      <td>15</td>\n",
       "      <td>0.919077</td>\n",
       "      <td>0.998960</td>\n",
       "      <td>0.02</td>\n",
       "      <td>2</td>\n",
       "      <td>3000</td>\n",
       "    </tr>\n",
       "    <tr>\n",
       "      <th>1</th>\n",
       "      <td>16</td>\n",
       "      <td>0.918269</td>\n",
       "      <td>0.998993</td>\n",
       "      <td>0.02</td>\n",
       "      <td>2</td>\n",
       "      <td>3000</td>\n",
       "    </tr>\n",
       "  </tbody>\n",
       "</table>\n",
       "</div>"
      ],
      "text/plain": [
       "    rank_test_score  mean_test_score  mean_train_score param_learning_rate  \\\n",
       "8                 1         0.928584          0.968516                0.01   \n",
       "10                2         0.928565          0.968437                0.01   \n",
       "2                 3         0.924743          0.982109                0.02   \n",
       "14                4         0.924657          0.985170                0.01   \n",
       "0                 5         0.924339          0.982095                0.02   \n",
       "15                6         0.923574          0.999746                0.01   \n",
       "6                 7         0.923361          0.996946                0.02   \n",
       "9                 8         0.922711          0.989971                0.01   \n",
       "11                9         0.922678          0.989864                0.01   \n",
       "12               10         0.922249          0.985465                0.01   \n",
       "7                11         0.921826          1.000000                0.02   \n",
       "13               12         0.921703          0.999736                0.01   \n",
       "4                13         0.921119          0.997011                0.02   \n",
       "5                14         0.920367          1.000000                0.02   \n",
       "3                15         0.919077          0.998960                0.02   \n",
       "1                16         0.918269          0.998993                0.02   \n",
       "\n",
       "   param_max_depth param_n_estimators  \n",
       "8                2               1000  \n",
       "10               2               1000  \n",
       "2                2               1000  \n",
       "14               3               1000  \n",
       "0                2               1000  \n",
       "15               3               3000  \n",
       "6                3               1000  \n",
       "9                2               3000  \n",
       "11               2               3000  \n",
       "12               3               1000  \n",
       "7                3               3000  \n",
       "13               3               3000  \n",
       "4                3               1000  \n",
       "5                3               3000  \n",
       "3                2               3000  \n",
       "1                2               3000  "
      ]
     },
     "execution_count": 27,
     "metadata": {},
     "output_type": "execute_result"
    }
   ],
   "source": [
    "df_cv_results = pd.DataFrame(model_xgboost_hp.cv_results_)\n",
    "df_cv_results = df_cv_results[['rank_test_score','mean_test_score','mean_train_score',\n",
    "                               'param_learning_rate', 'param_max_depth', 'param_n_estimators']]\n",
    "df_cv_results.sort_values(by='rank_test_score', inplace=True)\n",
    "df_cv_results"
   ]
  },
  {
   "cell_type": "code",
   "execution_count": 28,
   "metadata": {},
   "outputs": [
    {
     "data": {
      "text/plain": [
       "Text(0.5, 1.0, 'Performance wrt # of Trees and Depth')"
      ]
     },
     "execution_count": 28,
     "metadata": {},
     "output_type": "execute_result"
    },
    {
     "data": {
      "image/png": "[encoded data removed]",
      "text/plain": [
       "<Figure size 1000x500 with 1 Axes>"
      ]
     },
     "metadata": {},
     "output_type": "display_data"
    }
   ],
   "source": [
    "# First sort by number of estimators as that would be x-axis\n",
    "df_cv_results.sort_values(by='param_n_estimators', inplace=True)\n",
    "\n",
    "# Find values of AUC for learning rate of 0.05 and different values of depth\n",
    "lr_d2 = df_cv_results.loc[(df_cv_results['param_learning_rate']==0.05) & (df_cv_results['param_max_depth']==2),:]\n",
    "lr_d3 = df_cv_results.loc[(df_cv_results['param_learning_rate']==0.05) & (df_cv_results['param_max_depth']==3),:]\n",
    "lr_d5 = df_cv_results.loc[(df_cv_results['param_learning_rate']==0.05) & (df_cv_results['param_max_depth']==5),:]\n",
    "lr_d7 = df_cv_results.loc[(df_cv_results['param_learning_rate']==0.05) & (df_cv_results['param_max_depth']==7),:]\n",
    "\n",
    "# Let us plot now\n",
    "fig, ax = plt.subplots(figsize=(10,5))\n",
    "lr_d2.plot(x='param_n_estimators', y='mean_test_score', label='Depth=2', ax=ax)\n",
    "lr_d3.plot(x='param_n_estimators', y='mean_test_score', label='Depth=3', ax=ax)\n",
    "lr_d5.plot(x='param_n_estimators', y='mean_test_score', label='Depth=5', ax=ax)\n",
    "lr_d7.plot(x='param_n_estimators', y='mean_test_score', label='Depth=7', ax=ax)\n",
    "plt.ylabel('Mean Validation AUC')\n",
    "plt.title('Performance wrt # of Trees and Depth')"
   ]
  },
  {
   "cell_type": "code",
   "execution_count": 29,
   "metadata": {},
   "outputs": [
    {
     "data": {
      "text/plain": [
       "Text(0.5, 1.0, 'Performance wrt learning rate')"
      ]
     },
     "execution_count": 29,
     "metadata": {},
     "output_type": "execute_result"
    },
    {
     "data": {
      "image/png": "[encoded data removed]",
      "text/plain": [
       "<Figure size 1000x500 with 1 Axes>"
      ]
     },
     "metadata": {},
     "output_type": "display_data"
    }
   ],
   "source": [
    "# First sort by learning rate as that would be x-axis\n",
    "df_cv_results.sort_values(by='param_learning_rate', inplace=True)\n",
    "\n",
    "# Find values of AUC for learning rate of 0.05 and different values of depth\n",
    "lr_t3k_d2 = df_cv_results.loc[(df_cv_results['param_n_estimators']==500) & (df_cv_results['param_max_depth']==2),:]\n",
    "\n",
    "# Let us plot now\n",
    "fig, ax = plt.subplots(figsize=(10,5))\n",
    "lr_t3k_d2.plot(x='param_learning_rate', y='mean_test_score', label='Depth=2, Trees=3000', ax=ax)\n",
    "plt.ylabel('Mean Validation AUC')\n",
    "plt.title('Performance wrt learning rate')"
   ]
  },
  {
   "cell_type": "code",
   "execution_count": 30,
   "metadata": {},
   "outputs": [
    {
     "data": {
      "text/plain": [
       "rank_test_score              16\n",
       "mean_test_score        0.918269\n",
       "mean_train_score       0.998993\n",
       "param_learning_rate        0.02\n",
       "param_max_depth               2\n",
       "param_n_estimators         3000\n",
       "Name: 1, dtype: object"
      ]
     },
     "execution_count": 30,
     "metadata": {},
     "output_type": "execute_result"
    }
   ],
   "source": [
    "df_cv_results.iloc[-1]"
   ]
  },
  {
   "cell_type": "code",
   "execution_count": 31,
   "metadata": {},
   "outputs": [],
   "source": [
    "test =False\n",
    "if test == True:\n",
    "    lr = 0.2\n",
    "    max_depth = 2\n",
    "    n_estimators = 2000\n",
    "    subsample = 1\n",
    "    colsample_bytree = 1\n",
    "else:\n",
    "    lr = df_cv_results.iloc[-1].param_learning_rate\n",
    "    max_depth = df_cv_results.iloc[-1].param_max_depth\n",
    "    n_estimators = df_cv_results.iloc[-1].param_n_estimators\n",
    "    subsample = 1\n",
    "    colsample_bytree = 1\n",
    "    "
   ]
  },
  {
   "cell_type": "code",
   "execution_count": 32,
   "metadata": {},
   "outputs": [
    {
     "name": "stdout",
     "output_type": "stream",
     "text": [
      "[0]\tvalidation_0-auc:0.91477\tvalidation_1-auc:0.85705\n",
      "[1]\tvalidation_0-auc:0.91477\tvalidation_1-auc:0.85705\n",
      "[2]\tvalidation_0-auc:0.91477\tvalidation_1-auc:0.85705\n",
      "[3]\tvalidation_0-auc:0.91477\tvalidation_1-auc:0.85705\n",
      "[4]\tvalidation_0-auc:0.91477\tvalidation_1-auc:0.85705\n",
      "[5]\tvalidation_0-auc:0.91477\tvalidation_1-auc:0.85705\n"
     ]
    },
    {
     "name": "stderr",
     "output_type": "stream",
     "text": [
      "/Users/vipin/opt/anaconda3/envs/my_own/lib/python3.9/site-packages/xgboost/sklearn.py:1395: UserWarning: `use_label_encoder` is deprecated in 1.7.0.\n",
      "  warnings.warn(\"`use_label_encoder` is deprecated in 1.7.0.\")\n",
      "/Users/vipin/opt/anaconda3/envs/my_own/lib/python3.9/site-packages/xgboost/sklearn.py:835: UserWarning: `early_stopping_rounds` in `fit` method is deprecated for better compatibility with scikit-learn, use `early_stopping_rounds` in constructor or`set_params` instead.\n",
      "  warnings.warn(\n"
     ]
    },
    {
     "name": "stdout",
     "output_type": "stream",
     "text": [
      "[6]\tvalidation_0-auc:0.91477\tvalidation_1-auc:0.85705\n",
      "[7]\tvalidation_0-auc:0.91477\tvalidation_1-auc:0.85705\n",
      "[8]\tvalidation_0-auc:0.91477\tvalidation_1-auc:0.85705\n",
      "[9]\tvalidation_0-auc:0.91490\tvalidation_1-auc:0.85719\n",
      "[10]\tvalidation_0-auc:0.91490\tvalidation_1-auc:0.85719\n",
      "[11]\tvalidation_0-auc:0.91490\tvalidation_1-auc:0.85719\n",
      "[12]\tvalidation_0-auc:0.91490\tvalidation_1-auc:0.85719\n",
      "[13]\tvalidation_0-auc:0.91490\tvalidation_1-auc:0.85719\n",
      "[14]\tvalidation_0-auc:0.92067\tvalidation_1-auc:0.85969\n",
      "[15]\tvalidation_0-auc:0.92079\tvalidation_1-auc:0.85895\n",
      "[16]\tvalidation_0-auc:0.92079\tvalidation_1-auc:0.85895\n",
      "[17]\tvalidation_0-auc:0.92079\tvalidation_1-auc:0.85895\n",
      "[18]\tvalidation_0-auc:0.92079\tvalidation_1-auc:0.85895\n",
      "[19]\tvalidation_0-auc:0.92079\tvalidation_1-auc:0.85895\n",
      "[20]\tvalidation_0-auc:0.92079\tvalidation_1-auc:0.85895\n",
      "[21]\tvalidation_0-auc:0.92079\tvalidation_1-auc:0.85895\n",
      "[22]\tvalidation_0-auc:0.92079\tvalidation_1-auc:0.85895\n",
      "[23]\tvalidation_0-auc:0.92079\tvalidation_1-auc:0.85895\n",
      "[24]\tvalidation_0-auc:0.92079\tvalidation_1-auc:0.85895\n"
     ]
    },
    {
     "data": {
      "text/html": [
       "<style>#sk-container-id-2 {color: black;}#sk-container-id-2 pre{padding: 0;}#sk-container-id-2 div.sk-toggleable {background-color: white;}#sk-container-id-2 label.sk-toggleable__label {cursor: pointer;display: block;width: 100%;margin-bottom: 0;padding: 0.3em;box-sizing: border-box;text-align: center;}#sk-container-id-2 label.sk-toggleable__label-arrow:before {content: \"▸\";float: left;margin-right: 0.25em;color: #696969;}#sk-container-id-2 label.sk-toggleable__label-arrow:hover:before {color: black;}#sk-container-id-2 div.sk-estimator:hover label.sk-toggleable__label-arrow:before {color: black;}#sk-container-id-2 div.sk-toggleable__content {max-height: 0;max-width: 0;overflow: hidden;text-align: left;background-color: #f0f8ff;}#sk-container-id-2 div.sk-toggleable__content pre {margin: 0.2em;color: black;border-radius: 0.25em;background-color: #f0f8ff;}#sk-container-id-2 input.sk-toggleable__control:checked~div.sk-toggleable__content {max-height: 200px;max-width: 100%;overflow: auto;}#sk-container-id-2 input.sk-toggleable__control:checked~label.sk-toggleable__label-arrow:before {content: \"▾\";}#sk-container-id-2 div.sk-estimator input.sk-toggleable__control:checked~label.sk-toggleable__label {background-color: #d4ebff;}#sk-container-id-2 div.sk-label input.sk-toggleable__control:checked~label.sk-toggleable__label {background-color: #d4ebff;}#sk-container-id-2 input.sk-hidden--visually {border: 0;clip: rect(1px 1px 1px 1px);clip: rect(1px, 1px, 1px, 1px);height: 1px;margin: -1px;overflow: hidden;padding: 0;position: absolute;width: 1px;}#sk-container-id-2 div.sk-estimator {font-family: monospace;background-color: #f0f8ff;border: 1px dotted black;border-radius: 0.25em;box-sizing: border-box;margin-bottom: 0.5em;}#sk-container-id-2 div.sk-estimator:hover {background-color: #d4ebff;}#sk-container-id-2 div.sk-parallel-item::after {content: \"\";width: 100%;border-bottom: 1px solid gray;flex-grow: 1;}#sk-container-id-2 div.sk-label:hover label.sk-toggleable__label {background-color: #d4ebff;}#sk-container-id-2 div.sk-serial::before {content: \"\";position: absolute;border-left: 1px solid gray;box-sizing: border-box;top: 0;bottom: 0;left: 50%;z-index: 0;}#sk-container-id-2 div.sk-serial {display: flex;flex-direction: column;align-items: center;background-color: white;padding-right: 0.2em;padding-left: 0.2em;position: relative;}#sk-container-id-2 div.sk-item {position: relative;z-index: 1;}#sk-container-id-2 div.sk-parallel {display: flex;align-items: stretch;justify-content: center;background-color: white;position: relative;}#sk-container-id-2 div.sk-item::before, #sk-container-id-2 div.sk-parallel-item::before {content: \"\";position: absolute;border-left: 1px solid gray;box-sizing: border-box;top: 0;bottom: 0;left: 50%;z-index: -1;}#sk-container-id-2 div.sk-parallel-item {display: flex;flex-direction: column;z-index: 1;position: relative;background-color: white;}#sk-container-id-2 div.sk-parallel-item:first-child::after {align-self: flex-end;width: 50%;}#sk-container-id-2 div.sk-parallel-item:last-child::after {align-self: flex-start;width: 50%;}#sk-container-id-2 div.sk-parallel-item:only-child::after {width: 0;}#sk-container-id-2 div.sk-dashed-wrapped {border: 1px dashed gray;margin: 0 0.4em 0.5em 0.4em;box-sizing: border-box;padding-bottom: 0.4em;background-color: white;}#sk-container-id-2 div.sk-label label {font-family: monospace;font-weight: bold;display: inline-block;line-height: 1.2em;}#sk-container-id-2 div.sk-label-container {text-align: center;}#sk-container-id-2 div.sk-container {/* jupyter's `normalize.less` sets `[hidden] { display: none; }` but bootstrap.min.css set `[hidden] { display: none !important; }` so we also need the `!important` here to be able to override the default hidden behavior on the sphinx rendered scikit-learn.org. See: https://github.com/scikit-learn/scikit-learn/issues/21755 */display: inline-block !important;position: relative;}#sk-container-id-2 div.sk-text-repr-fallback {display: none;}</style><div id=\"sk-container-id-2\" class=\"sk-top-container\"><div class=\"sk-text-repr-fallback\"><pre>XGBClassifier(base_score=None, booster=None, callbacks=None,\n",
       "              colsample_bylevel=None, colsample_bynode=None, colsample_bytree=1,\n",
       "              early_stopping_rounds=None, enable_categorical=False,\n",
       "              eval_metric=&#x27;auc&#x27;, feature_types=None, gamma=None, gpu_id=None,\n",
       "              grow_policy=None, importance_type=None,\n",
       "              interaction_constraints=None, learning_rate=0.02, max_bin=None,\n",
       "              max_cat_threshold=None, max_cat_to_onehot=None,\n",
       "              max_delta_step=None, max_depth=2, max_leaves=None,\n",
       "              min_child_weight=None, missing=nan, monotone_constraints=None,\n",
       "              n_estimators=3000, n_jobs=None, num_parallel_tree=None,\n",
       "              predictor=None, random_state=None, ...)</pre><b>In a Jupyter environment, please rerun this cell to show the HTML representation or trust the notebook. <br />On GitHub, the HTML representation is unable to render, please try loading this page with nbviewer.org.</b></div><div class=\"sk-container\" hidden><div class=\"sk-item\"><div class=\"sk-estimator sk-toggleable\"><input class=\"sk-toggleable__control sk-hidden--visually\" id=\"sk-estimator-id-4\" type=\"checkbox\" checked><label for=\"sk-estimator-id-4\" class=\"sk-toggleable__label sk-toggleable__label-arrow\">XGBClassifier</label><div class=\"sk-toggleable__content\"><pre>XGBClassifier(base_score=None, booster=None, callbacks=None,\n",
       "              colsample_bylevel=None, colsample_bynode=None, colsample_bytree=1,\n",
       "              early_stopping_rounds=None, enable_categorical=False,\n",
       "              eval_metric=&#x27;auc&#x27;, feature_types=None, gamma=None, gpu_id=None,\n",
       "              grow_policy=None, importance_type=None,\n",
       "              interaction_constraints=None, learning_rate=0.02, max_bin=None,\n",
       "              max_cat_threshold=None, max_cat_to_onehot=None,\n",
       "              max_delta_step=None, max_depth=2, max_leaves=None,\n",
       "              min_child_weight=None, missing=nan, monotone_constraints=None,\n",
       "              n_estimators=3000, n_jobs=None, num_parallel_tree=None,\n",
       "              predictor=None, random_state=None, ...)</pre></div></div></div></div></div>"
      ],
      "text/plain": [
       "XGBClassifier(base_score=None, booster=None, callbacks=None,\n",
       "              colsample_bylevel=None, colsample_bynode=None, colsample_bytree=1,\n",
       "              early_stopping_rounds=None, enable_categorical=False,\n",
       "              eval_metric='auc', feature_types=None, gamma=None, gpu_id=None,\n",
       "              grow_policy=None, importance_type=None,\n",
       "              interaction_constraints=None, learning_rate=0.02, max_bin=None,\n",
       "              max_cat_threshold=None, max_cat_to_onehot=None,\n",
       "              max_delta_step=None, max_depth=2, max_leaves=None,\n",
       "              min_child_weight=None, missing=nan, monotone_constraints=None,\n",
       "              n_estimators=3000, n_jobs=None, num_parallel_tree=None,\n",
       "              predictor=None, random_state=None, ...)"
      ]
     },
     "execution_count": 32,
     "metadata": {},
     "output_type": "execute_result"
    }
   ],
   "source": [
    "model_xgboost_fin = xgb.XGBClassifier(learning_rate=lr,\n",
    "                                          max_depth= max_depth,\n",
    "                                          n_estimators= n_estimators,\n",
    "                                          subsample= subsample,\n",
    "                                          colsample_bytree = colsample_bytree,\n",
    "                                          eval_metric='auc',\n",
    "                                          verbosity=1,\n",
    "                                          use_label_encoder=False)\n",
    "\n",
    "# Passing both training and validation dataset as we want to plot AUC for both\n",
    "eval_set = [(X_train, y_train),(X_test, y_test)]\n",
    "\n",
    "model_xgboost_fin.fit(X_train,\n",
    "                  y_train,\n",
    "                  early_stopping_rounds=10,\n",
    "                  eval_set=eval_set,\n",
    "                  verbose=True)"
   ]
  },
  {
   "cell_type": "code",
   "execution_count": 33,
   "metadata": {},
   "outputs": [
    {
     "name": "stdout",
     "output_type": "stream",
     "text": [
      "AUC Train: 0.9207\n",
      "AUC Valid: 0.8597\n"
     ]
    }
   ],
   "source": [
    "y_train_pred = model_xgboost_fin.predict_proba(X_train)[:,1]\n",
    "y_valid_pred = model_xgboost_fin.predict_proba(X_test)[:,1]\n",
    "\n",
    "print(\"AUC Train: {:.4f}\\nAUC Valid: {:.4f}\".format(roc_auc_score(y_train, y_train_pred),\n",
    "                                                    roc_auc_score(y_test, y_valid_pred)))"
   ]
  },
  {
   "cell_type": "code",
   "execution_count": 43,
   "metadata": {},
   "outputs": [
    {
     "name": "stdout",
     "output_type": "stream",
     "text": [
      "AUC Train: 0.8702\n",
      "AUC Valid: 0.8111\n"
     ]
    }
   ],
   "source": []
  },
  {
   "cell_type": "code",
   "execution_count": 41,
   "metadata": {},
   "outputs": [
    {
     "data": {
      "text/plain": [
       "array([0, 1, 1, ..., 1, 0, 0])"
      ]
     },
     "execution_count": 41,
     "metadata": {},
     "output_type": "execute_result"
    }
   ],
   "source": []
  },
  {
   "cell_type": "code",
   "execution_count": 34,
   "metadata": {},
   "outputs": [
    {
     "data": {
      "image/png": "[encoded data removed]",
      "text/plain": [
       "<Figure size 1500x500 with 1 Axes>"
      ]
     },
     "metadata": {},
     "output_type": "display_data"
    }
   ],
   "source": [
    "evaluation_results = model_xgboost_fin.evals_result()\n",
    "\n",
    "# Index into each key to find AUC values for training and validation data after each tree\n",
    "train_auc_tree = evaluation_results['validation_0']['auc']\n",
    "valid_auc_tree = evaluation_results['validation_1']['auc']\n",
    "\n",
    "\n",
    "# Plotting Section\n",
    "plt.figure(figsize=(15,5))\n",
    "\n",
    "plt.plot(train_auc_tree, label='Train')\n",
    "plt.plot(valid_auc_tree, label='valid')\n",
    "\n",
    "plt.title(\"Train and validation AUC as number of trees increase\")\n",
    "plt.xlabel(\"Trees\")\n",
    "plt.ylabel(\"AUC\")\n",
    "plt.legend(loc='lower right')\n",
    "plt.show()"
   ]
  },
  {
   "cell_type": "code",
   "execution_count": 35,
   "metadata": {},
   "outputs": [
    {
     "data": {
      "text/html": [
       "<div>\n",
       "<style scoped>\n",
       "    .dataframe tbody tr th:only-of-type {\n",
       "        vertical-align: middle;\n",
       "    }\n",
       "\n",
       "    .dataframe tbody tr th {\n",
       "        vertical-align: top;\n",
       "    }\n",
       "\n",
       "    .dataframe thead th {\n",
       "        text-align: right;\n",
       "    }\n",
       "</style>\n",
       "<table border=\"1\" class=\"dataframe\">\n",
       "  <thead>\n",
       "    <tr style=\"text-align: right;\">\n",
       "      <th></th>\n",
       "      <th>Variable</th>\n",
       "      <th>Importance</th>\n",
       "    </tr>\n",
       "  </thead>\n",
       "  <tbody>\n",
       "    <tr>\n",
       "      <th>88</th>\n",
       "      <td>others_dr</td>\n",
       "      <td>1.0</td>\n",
       "    </tr>\n",
       "    <tr>\n",
       "      <th>0</th>\n",
       "      <td>High</td>\n",
       "      <td>0.0</td>\n",
       "    </tr>\n",
       "    <tr>\n",
       "      <th>60</th>\n",
       "      <td>trend_cci</td>\n",
       "      <td>0.0</td>\n",
       "    </tr>\n",
       "    <tr>\n",
       "      <th>69</th>\n",
       "      <td>trend_psar_down_indicator</td>\n",
       "      <td>0.0</td>\n",
       "    </tr>\n",
       "    <tr>\n",
       "      <th>68</th>\n",
       "      <td>trend_psar_up_indicator</td>\n",
       "      <td>0.0</td>\n",
       "    </tr>\n",
       "    <tr>\n",
       "      <th>67</th>\n",
       "      <td>trend_psar_down</td>\n",
       "      <td>0.0</td>\n",
       "    </tr>\n",
       "    <tr>\n",
       "      <th>66</th>\n",
       "      <td>trend_psar_up</td>\n",
       "      <td>0.0</td>\n",
       "    </tr>\n",
       "    <tr>\n",
       "      <th>65</th>\n",
       "      <td>trend_aroon_ind</td>\n",
       "      <td>0.0</td>\n",
       "    </tr>\n",
       "    <tr>\n",
       "      <th>64</th>\n",
       "      <td>trend_aroon_down</td>\n",
       "      <td>0.0</td>\n",
       "    </tr>\n",
       "    <tr>\n",
       "      <th>63</th>\n",
       "      <td>trend_aroon_up</td>\n",
       "      <td>0.0</td>\n",
       "    </tr>\n",
       "    <tr>\n",
       "      <th>62</th>\n",
       "      <td>trend_visual_ichimoku_b</td>\n",
       "      <td>0.0</td>\n",
       "    </tr>\n",
       "    <tr>\n",
       "      <th>61</th>\n",
       "      <td>trend_visual_ichimoku_a</td>\n",
       "      <td>0.0</td>\n",
       "    </tr>\n",
       "    <tr>\n",
       "      <th>59</th>\n",
       "      <td>trend_adx_neg</td>\n",
       "      <td>0.0</td>\n",
       "    </tr>\n",
       "    <tr>\n",
       "      <th>71</th>\n",
       "      <td>momentum_stoch_rsi</td>\n",
       "      <td>0.0</td>\n",
       "    </tr>\n",
       "    <tr>\n",
       "      <th>58</th>\n",
       "      <td>trend_adx_pos</td>\n",
       "      <td>0.0</td>\n",
       "    </tr>\n",
       "    <tr>\n",
       "      <th>57</th>\n",
       "      <td>trend_adx</td>\n",
       "      <td>0.0</td>\n",
       "    </tr>\n",
       "    <tr>\n",
       "      <th>56</th>\n",
       "      <td>trend_stc</td>\n",
       "      <td>0.0</td>\n",
       "    </tr>\n",
       "    <tr>\n",
       "      <th>55</th>\n",
       "      <td>trend_ichimoku_b</td>\n",
       "      <td>0.0</td>\n",
       "    </tr>\n",
       "    <tr>\n",
       "      <th>54</th>\n",
       "      <td>trend_ichimoku_a</td>\n",
       "      <td>0.0</td>\n",
       "    </tr>\n",
       "    <tr>\n",
       "      <th>53</th>\n",
       "      <td>trend_ichimoku_base</td>\n",
       "      <td>0.0</td>\n",
       "    </tr>\n",
       "  </tbody>\n",
       "</table>\n",
       "</div>"
      ],
      "text/plain": [
       "                     Variable  Importance\n",
       "88                  others_dr         1.0\n",
       "0                        High         0.0\n",
       "60                  trend_cci         0.0\n",
       "69  trend_psar_down_indicator         0.0\n",
       "68    trend_psar_up_indicator         0.0\n",
       "67            trend_psar_down         0.0\n",
       "66              trend_psar_up         0.0\n",
       "65            trend_aroon_ind         0.0\n",
       "64           trend_aroon_down         0.0\n",
       "63             trend_aroon_up         0.0\n",
       "62    trend_visual_ichimoku_b         0.0\n",
       "61    trend_visual_ichimoku_a         0.0\n",
       "59              trend_adx_neg         0.0\n",
       "71         momentum_stoch_rsi         0.0\n",
       "58              trend_adx_pos         0.0\n",
       "57                  trend_adx         0.0\n",
       "56                  trend_stc         0.0\n",
       "55           trend_ichimoku_b         0.0\n",
       "54           trend_ichimoku_a         0.0\n",
       "53        trend_ichimoku_base         0.0"
      ]
     },
     "execution_count": 35,
     "metadata": {},
     "output_type": "execute_result"
    }
   ],
   "source": [
    "df_var_imp = pd.DataFrame({\"Variable\": X_test.columns,\n",
    "                           \"Importance\": model_xgboost_fin.feature_importances_}) \\\n",
    "                        .sort_values(by='Importance', ascending=False)\n",
    "df_var_imp[:20]"
   ]
  },
  {
   "cell_type": "code",
   "execution_count": 36,
   "metadata": {
    "executionInfo": {
     "elapsed": 752,
     "status": "ok",
     "timestamp": 1621010365844,
     "user": {
      "displayName": "Diogo Resende",
      "photoUrl": "https://lh3.googleusercontent.com/a-/AOh14GgH4DE06-yE1oiIzCiaAURCl1Escr4LXXiaSnbSaA=s64",
      "userId": "05706604408624562002"
     },
     "user_tz": -120
    },
    "id": "R8azMDH1vkxr"
   },
   "outputs": [],
   "source": [
    "#Visualization\n",
    "training_set.index = training_set.ds\n",
    "test_set.index = test_set.ds"
   ]
  },
  {
   "cell_type": "code",
   "execution_count": 37,
   "metadata": {},
   "outputs": [
    {
     "data": {
      "image/png": "[encoded data removed]",
      "text/plain": [
       "<Figure size 1200x1200 with 1 Axes>"
      ]
     },
     "metadata": {},
     "output_type": "display_data"
    }
   ],
   "source": [
    "rcParams[\"figure.figsize\"] = 100, 50\n",
    "dir(model_xgboost_fin)\n",
    "tree_index = 0  # Index of the tree you want to plot\n",
    "fig, ax = plt.subplots(figsize=(12, 12))\n",
    "xgb.plot_tree(model_xgboost_fin, num_trees=tree_index, ax=ax)\n",
    "plt.show()"
   ]
  },
  {
   "cell_type": "code",
   "execution_count": 40,
   "metadata": {},
   "outputs": [],
   "source": [
    "# Save the trained model to a file\n",
    "\n",
    "with open('../TrainedModel/xg/{}_model_2.pkl'.format(symbol), 'wb') as f:\n",
    "    pickle.dump(model_xgboost_fin, f)"
   ]
  },
  {
   "cell_type": "code",
   "execution_count": 41,
   "metadata": {},
   "outputs": [],
   "source": [
    "# Save the trained model to a file\n",
    "\n",
    "with open('../TrainedModel/xg/{}_model_phrophet.pkl'.format(symbol), 'wb') as f:\n",
    "    pickle.dump(m, f)"
   ]
  }
 ],
 "metadata": {
  "colab": {
   "authorship_tag": "ABX9TyONf4Fw76cQlH82pdR3h9Fa",
   "mount_file_id": "182alF94XmFPfm3NMnYKs4Tu9b-3DTW7y",
   "name": "Facebook Prophet + XGBoost Challenge Template.ipynb",
   "provenance": []
  },
  "kernelspec": {
   "display_name": "Python 3 (ipykernel)",
   "language": "python",
   "name": "python3"
  },
  "language_info": {
   "codemirror_mode": {
    "name": "ipython",
    "version": 3
   },
   "file_extension": ".py",
   "mimetype": "text/x-python",
   "name": "python",
   "nbconvert_exporter": "python",
   "pygments_lexer": "ipython3",
   "version": "3.9.16"
  }
 },
 "nbformat": 4,
 "nbformat_minor": 1
}
