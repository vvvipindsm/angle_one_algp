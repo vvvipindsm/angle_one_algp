{
 "cells": [
  {
   "cell_type": "markdown",
   "id": "e3ce9aa2",
   "metadata": {},
   "source": [
    "### Imports"
   ]
  },
  {
   "cell_type": "code",
   "execution_count": 1,
   "id": "0fd807ac",
   "metadata": {},
   "outputs": [],
   "source": [
    "import numpy as np\n",
    "import pandas as pd\n",
    "from stratmanager import StrategyManager\n",
    "import sklearn.mixture as mix\n",
    "from ta.momentum import RSIIndicator\n",
    "import matplotlib.pyplot as plt\n",
    "import yfinance"
   ]
  },
  {
   "cell_type": "code",
   "execution_count": 2,
   "id": "db73b059",
   "metadata": {},
   "outputs": [
    {
     "name": "stdout",
     "output_type": "stream",
     "text": [
      "[*********************100%***********************]  1 of 1 completed\n",
      "[*********************100%***********************]  1 of 1 completed\n",
      "[*********************100%***********************]  1 of 1 completed\n",
      "[*********************100%***********************]  1 of 1 completed\n"
     ]
    }
   ],
   "source": [
    "#symbols = [\"OLECTRA.NS\",\"CONCOR.NS\",\"ELGIEQUIP.NS\",\"IOC.NS\",\"BEL.NS\",\"TATAELXSI.NS\",\"^NSEI\",\"HDFCBANK.NS\",\"TATAMOTORS.NS\",\n",
    "#\"SBIN.NS\",\"TCS.NS\",\"TITAN.NS\",\"SUNPHARMA.BO\",\"TECHM.NS\", \"ASIANPAINT.NS\",\"TATACONSUM.NS\"]\n",
    "\n",
    "stock = \"TATACONSUM.NS\"\n",
    "\n",
    "\n",
    "data3 = yfinance.download(tickers = stock,start=\"2022-01-01\",end=\"2022-06-01\",\n",
    "                        interval = \"1h\", group_by = 'ticker', auto_adjust = True)\n",
    "data3 = data3[[\"Open\", \"High\", \"Low\", \"Close\", \"Volume\"]]\n",
    "\n",
    "\n",
    "data4 = yfinance.download(tickers = stock,start=\"2022-06-01\",end=\"2023-01-01\",\n",
    "                        interval = \"1h\", group_by = 'ticker', auto_adjust = True)\n",
    "data4 = data4[[\"Open\", \"High\", \"Low\", \"Close\", \"Volume\"]]\n",
    "\n",
    "\n",
    "data5 = yfinance.download(tickers = stock,start=\"2023-01-01\",end=\"2023-06-01\",\n",
    "                        interval = \"1h\", group_by = 'ticker', auto_adjust = True)\n",
    "data5 = data5[[\"Open\", \"High\", \"Low\", \"Close\", \"Volume\"]]\n",
    "\n",
    "data6 = yfinance.download(tickers = stock,start=\"2023-06-01\",\n",
    "                        interval = \"1h\", group_by = 'ticker', auto_adjust = True)\n",
    "data6 = data6[[\"Open\", \"High\", \"Low\", \"Close\", \"Volume\"]]"
   ]
  },
  {
   "cell_type": "code",
   "execution_count": 3,
   "id": "d3da012c",
   "metadata": {},
   "outputs": [],
   "source": [
    "new_data = pd.concat([data3,data4,data5,data6])"
   ]
  },
  {
   "cell_type": "code",
   "execution_count": 4,
   "id": "e139f4d8",
   "metadata": {},
   "outputs": [
    {
     "data": {
      "text/plain": [
       "(2732, 5)"
      ]
     },
     "execution_count": 4,
     "metadata": {},
     "output_type": "execute_result"
    }
   ],
   "source": [
    "new_data.shape"
   ]
  },
  {
   "cell_type": "code",
   "execution_count": 5,
   "id": "1ef11d2b",
   "metadata": {},
   "outputs": [
    {
     "data": {
      "text/html": [
       "<div>\n",
       "<style scoped>\n",
       "    .dataframe tbody tr th:only-of-type {\n",
       "        vertical-align: middle;\n",
       "    }\n",
       "\n",
       "    .dataframe tbody tr th {\n",
       "        vertical-align: top;\n",
       "    }\n",
       "\n",
       "    .dataframe thead th {\n",
       "        text-align: right;\n",
       "    }\n",
       "</style>\n",
       "<table border=\"1\" class=\"dataframe\">\n",
       "  <thead>\n",
       "    <tr style=\"text-align: right;\">\n",
       "      <th></th>\n",
       "      <th>Open</th>\n",
       "      <th>High</th>\n",
       "      <th>Low</th>\n",
       "      <th>Close</th>\n",
       "      <th>Volume</th>\n",
       "    </tr>\n",
       "    <tr>\n",
       "      <th>Datetime</th>\n",
       "      <th></th>\n",
       "      <th></th>\n",
       "      <th></th>\n",
       "      <th></th>\n",
       "      <th></th>\n",
       "    </tr>\n",
       "  </thead>\n",
       "  <tbody>\n",
       "    <tr>\n",
       "      <th>2023-08-01 12:15:00+05:30</th>\n",
       "      <td>857.849976</td>\n",
       "      <td>859.500000</td>\n",
       "      <td>856.450012</td>\n",
       "      <td>856.799988</td>\n",
       "      <td>141777</td>\n",
       "    </tr>\n",
       "    <tr>\n",
       "      <th>2023-08-01 13:15:00+05:30</th>\n",
       "      <td>857.000000</td>\n",
       "      <td>858.250000</td>\n",
       "      <td>853.299988</td>\n",
       "      <td>857.500000</td>\n",
       "      <td>101718</td>\n",
       "    </tr>\n",
       "    <tr>\n",
       "      <th>2023-08-01 14:15:00+05:30</th>\n",
       "      <td>857.650024</td>\n",
       "      <td>858.299988</td>\n",
       "      <td>855.299988</td>\n",
       "      <td>856.849976</td>\n",
       "      <td>98784</td>\n",
       "    </tr>\n",
       "    <tr>\n",
       "      <th>2023-08-01 15:15:00+05:30</th>\n",
       "      <td>856.900024</td>\n",
       "      <td>857.849976</td>\n",
       "      <td>855.799988</td>\n",
       "      <td>856.049988</td>\n",
       "      <td>85333</td>\n",
       "    </tr>\n",
       "    <tr>\n",
       "      <th>2023-08-02 09:15:00+05:30</th>\n",
       "      <td>852.099976</td>\n",
       "      <td>852.099976</td>\n",
       "      <td>843.299988</td>\n",
       "      <td>844.250000</td>\n",
       "      <td>212060</td>\n",
       "    </tr>\n",
       "  </tbody>\n",
       "</table>\n",
       "</div>"
      ],
      "text/plain": [
       "                                 Open        High         Low       Close  \\\n",
       "Datetime                                                                    \n",
       "2023-08-01 12:15:00+05:30  857.849976  859.500000  856.450012  856.799988   \n",
       "2023-08-01 13:15:00+05:30  857.000000  858.250000  853.299988  857.500000   \n",
       "2023-08-01 14:15:00+05:30  857.650024  858.299988  855.299988  856.849976   \n",
       "2023-08-01 15:15:00+05:30  856.900024  857.849976  855.799988  856.049988   \n",
       "2023-08-02 09:15:00+05:30  852.099976  852.099976  843.299988  844.250000   \n",
       "\n",
       "                           Volume  \n",
       "Datetime                           \n",
       "2023-08-01 12:15:00+05:30  141777  \n",
       "2023-08-01 13:15:00+05:30  101718  \n",
       "2023-08-01 14:15:00+05:30   98784  \n",
       "2023-08-01 15:15:00+05:30   85333  \n",
       "2023-08-02 09:15:00+05:30  212060  "
      ]
     },
     "execution_count": 5,
     "metadata": {},
     "output_type": "execute_result"
    }
   ],
   "source": [
    "new_data.tail()"
   ]
  },
  {
   "cell_type": "code",
   "execution_count": 6,
   "id": "43e24ba3",
   "metadata": {},
   "outputs": [],
   "source": [
    "new_data.to_csv(f\"../../stock_historical_data/1h/{stock}_1h.csv\")"
   ]
  }
 ],
 "metadata": {
  "kernelspec": {
   "display_name": "Python 3 (ipykernel)",
   "language": "python",
   "name": "python3"
  },
  "language_info": {
   "codemirror_mode": {
    "name": "ipython",
    "version": 3
   },
   "file_extension": ".py",
   "mimetype": "text/x-python",
   "name": "python",
   "nbconvert_exporter": "python",
   "pygments_lexer": "ipython3",
   "version": "3.9.16"
  }
 },
 "nbformat": 4,
 "nbformat_minor": 5
}
