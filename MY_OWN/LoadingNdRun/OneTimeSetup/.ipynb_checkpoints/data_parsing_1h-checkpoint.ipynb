{
 "cells": [
  {
   "cell_type": "markdown",
   "id": "e3ce9aa2",
   "metadata": {},
   "source": [
    "### Imports"
   ]
  },
  {
   "cell_type": "code",
   "execution_count": 1,
   "id": "0fd807ac",
   "metadata": {},
   "outputs": [],
   "source": [
    "import numpy as np\n",
    "import pandas as pd\n",
    "from stratmanager import StrategyManager\n",
    "import sklearn.mixture as mix\n",
    "from ta.momentum import RSIIndicator\n",
    "import matplotlib.pyplot as plt\n",
    "import yfinance"
   ]
  },
  {
   "cell_type": "code",
   "execution_count": 2,
   "id": "db73b059",
   "metadata": {},
   "outputs": [
    {
     "name": "stdout",
     "output_type": "stream",
     "text": [
      "[*********************100%***********************]  1 of 1 completed\n",
      "[*********************100%***********************]  1 of 1 completed\n",
      "[*********************100%***********************]  1 of 1 completed\n",
      "[*********************100%***********************]  1 of 1 completed\n"
     ]
    }
   ],
   "source": [
    "#symbols = [\"OLECTRA.NS\",\"CONCOR.NS\",\"ELGIEQUIP.NS\",\"IOC.NS\",\"BEL.NS\",\"TATAELXSI.NS\",\"^NSEI\",\"HDFCBANK.NS\",\"TATAMOTORS.NS\",\n",
    "#\"SBIN.NS\",\"TCS.NS\",\"TITAN.NS\",\"SUNPHARMA.BO\",\"TECHM.NS\", \"ASIANPAINT.NS\",\"TATACONSUM.NS\"]\n",
    "\n",
    "stock = \"TATACONSUM.NS\"\n",
    "\n",
    "\n",
    "data3 = yfinance.download(tickers = stock,start=\"2022-01-01\",end=\"2022-06-01\",\n",
    "                        interval = \"1h\", group_by = 'ticker', auto_adjust = True)\n",
    "data3 = data3[[\"Open\", \"High\", \"Low\", \"Close\", \"Volume\"]]\n",
    "\n",
    "\n",
    "data4 = yfinance.download(tickers = stock,start=\"2022-06-01\",end=\"2023-01-01\",\n",
    "                        interval = \"1h\", group_by = 'ticker', auto_adjust = True)\n",
    "data4 = data4[[\"Open\", \"High\", \"Low\", \"Close\", \"Volume\"]]\n",
    "\n",
    "\n",
    "data5 = yfinance.download(tickers = stock,start=\"2023-01-01\",end=\"2023-06-01\",\n",
    "                        interval = \"1h\", group_by = 'ticker', auto_adjust = True)\n",
    "data5 = data5[[\"Open\", \"High\", \"Low\", \"Close\", \"Volume\"]]\n",
    "\n",
    "data6 = yfinance.download(tickers = stock,start=\"2023-06-01\",\n",
    "                        interval = \"1h\", group_by = 'ticker', auto_adjust = True)\n",
    "data6 = data6[[\"Open\", \"High\", \"Low\", \"Close\", \"Volume\"]]"
   ]
  },
  {
   "cell_type": "code",
   "execution_count": 3,
   "id": "d3da012c",
   "metadata": {},
   "outputs": [],
   "source": [
    "new_data = pd.concat([data3,data4,data5,data6])"
   ]
  },
  {
   "cell_type": "code",
   "execution_count": 4,
   "id": "e139f4d8",
   "metadata": {},
   "outputs": [
    {
     "data": {
      "text/plain": [
       "(2683, 5)"
      ]
     },
     "execution_count": 4,
     "metadata": {},
     "output_type": "execute_result"
    }
   ],
   "source": [
    "new_data.shape"
   ]
  },
  {
   "cell_type": "code",
   "execution_count": 5,
   "id": "9250f2ba",
   "metadata": {},
   "outputs": [
    {
     "data": {
      "text/html": [
       "<div>\n",
       "<style scoped>\n",
       "    .dataframe tbody tr th:only-of-type {\n",
       "        vertical-align: middle;\n",
       "    }\n",
       "\n",
       "    .dataframe tbody tr th {\n",
       "        vertical-align: top;\n",
       "    }\n",
       "\n",
       "    .dataframe thead th {\n",
       "        text-align: right;\n",
       "    }\n",
       "</style>\n",
       "<table border=\"1\" class=\"dataframe\">\n",
       "  <thead>\n",
       "    <tr style=\"text-align: right;\">\n",
       "      <th></th>\n",
       "      <th>Open</th>\n",
       "      <th>High</th>\n",
       "      <th>Low</th>\n",
       "      <th>Close</th>\n",
       "      <th>Volume</th>\n",
       "    </tr>\n",
       "    <tr>\n",
       "      <th>Datetime</th>\n",
       "      <th></th>\n",
       "      <th></th>\n",
       "      <th></th>\n",
       "      <th></th>\n",
       "      <th></th>\n",
       "    </tr>\n",
       "  </thead>\n",
       "  <tbody>\n",
       "    <tr>\n",
       "      <th>2023-08-01 12:15:00+05:30</th>\n",
       "      <td>3344.800049</td>\n",
       "      <td>3353.350098</td>\n",
       "      <td>3338.000000</td>\n",
       "      <td>3341.449951</td>\n",
       "      <td>128100</td>\n",
       "    </tr>\n",
       "    <tr>\n",
       "      <th>2023-08-01 13:15:00+05:30</th>\n",
       "      <td>3341.449951</td>\n",
       "      <td>3351.000000</td>\n",
       "      <td>3340.850098</td>\n",
       "      <td>3344.000000</td>\n",
       "      <td>75363</td>\n",
       "    </tr>\n",
       "    <tr>\n",
       "      <th>2023-08-01 14:15:00+05:30</th>\n",
       "      <td>3344.550049</td>\n",
       "      <td>3349.199951</td>\n",
       "      <td>3341.149902</td>\n",
       "      <td>3343.350098</td>\n",
       "      <td>117300</td>\n",
       "    </tr>\n",
       "    <tr>\n",
       "      <th>2023-08-01 15:15:00+05:30</th>\n",
       "      <td>3343.500000</td>\n",
       "      <td>3345.000000</td>\n",
       "      <td>3340.000000</td>\n",
       "      <td>3343.750000</td>\n",
       "      <td>87216</td>\n",
       "    </tr>\n",
       "    <tr>\n",
       "      <th>2023-08-02 09:15:00+05:30</th>\n",
       "      <td>3337.000000</td>\n",
       "      <td>3354.399902</td>\n",
       "      <td>3332.000000</td>\n",
       "      <td>3336.199951</td>\n",
       "      <td>75813</td>\n",
       "    </tr>\n",
       "  </tbody>\n",
       "</table>\n",
       "</div>"
      ],
      "text/plain": [
       "                                  Open         High          Low        Close  \\\n",
       "Datetime                                                                        \n",
       "2023-08-01 12:15:00+05:30  3344.800049  3353.350098  3338.000000  3341.449951   \n",
       "2023-08-01 13:15:00+05:30  3341.449951  3351.000000  3340.850098  3344.000000   \n",
       "2023-08-01 14:15:00+05:30  3344.550049  3349.199951  3341.149902  3343.350098   \n",
       "2023-08-01 15:15:00+05:30  3343.500000  3345.000000  3340.000000  3343.750000   \n",
       "2023-08-02 09:15:00+05:30  3337.000000  3354.399902  3332.000000  3336.199951   \n",
       "\n",
       "                           Volume  \n",
       "Datetime                           \n",
       "2023-08-01 12:15:00+05:30  128100  \n",
       "2023-08-01 13:15:00+05:30   75363  \n",
       "2023-08-01 14:15:00+05:30  117300  \n",
       "2023-08-01 15:15:00+05:30   87216  \n",
       "2023-08-02 09:15:00+05:30   75813  "
      ]
     },
     "execution_count": 5,
     "metadata": {},
     "output_type": "execute_result"
    }
   ],
   "source": [
    "new_data.tail()"
   ]
  },
  {
   "cell_type": "code",
   "execution_count": 6,
   "id": "43e24ba3",
   "metadata": {},
   "outputs": [],
   "source": [
    "new_data.to_csv(f\"../../stock_historical_data/1h/{stock}_1h.csv\")"
   ]
  }
 ],
 "metadata": {
  "kernelspec": {
   "display_name": "Python 3 (ipykernel)",
   "language": "python",
   "name": "python3"
  },
  "language_info": {
   "codemirror_mode": {
    "name": "ipython",
    "version": 3
   },
   "file_extension": ".py",
   "mimetype": "text/x-python",
   "name": "python",
   "nbconvert_exporter": "python",
   "pygments_lexer": "ipython3",
   "version": "3.9.16"
  }
 },
 "nbformat": 4,
 "nbformat_minor": 5
}
