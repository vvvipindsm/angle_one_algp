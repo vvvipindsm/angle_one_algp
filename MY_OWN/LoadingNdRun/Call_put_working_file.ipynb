{
 "cells": [
  {
   "cell_type": "code",
   "execution_count": 1,
   "id": "d2f8c049",
   "metadata": {},
   "outputs": [],
   "source": [
    "\n",
    "import requests\n",
    "from bs4 import BeautifulSoup\n",
    "from datetime import datetime\n",
    "\n",
    "from selenium import webdriver\n",
    "\n"
   ]
  },
  {
   "cell_type": "code",
   "execution_count": 2,
   "id": "dab40af1",
   "metadata": {},
   "outputs": [
    {
     "name": "stdout",
     "output_type": "stream",
     "text": [
      "Title: result\n"
     ]
    }
   ],
   "source": [
    "driver = webdriver.Chrome()\n",
    "driver.get(\"https://groww.in/options/nifty\")\n",
    "data = driver.execute_script('''\n",
    "   setTimeout(function() {\n",
    "          const o_t = document.querySelectorAll(\"table\")[0]\n",
    "            op_t_tbody = o_t.querySelector('tbody')\n",
    "        op_t_tbody_trs = op_t_tbody.querySelectorAll('tr')\n",
    "        let result = []\n",
    "        op_t_tbody_trs.forEach((data,x)=>{\n",
    "        let temp = {}\n",
    "       // console.log(x)\n",
    "        if( x < 53){\n",
    "        try{\n",
    "        console.log(x)\n",
    "        //console.log(op_t_tbody_trs[x])\n",
    "        tr = op_t_tbody_trs[x]\n",
    "        tds = tr.querySelectorAll('td')\n",
    "        //console.log(tds)\n",
    "        strike = tds[3]\n",
    "\n",
    "        strike_div = strike.querySelector('div')\n",
    "        strike_inner_div = strike_div.querySelector('div')\n",
    "        //console.log(strike_inner_div)\n",
    "        temp[\"strike\"] = strike_inner_div.innerText\n",
    "        //console.log(temp)\n",
    "        const current_date =new Date().toISOString()\n",
    "         //call price\n",
    "        call_pr = tds[2]\n",
    "        call_a = call_pr.querySelector('a')\n",
    "        temp[\"call_price\"] = call_a.innerText\n",
    "        temp[\"date\"] = current_date\n",
    "\n",
    "        //put price \n",
    "        put_pr = tds[4]\n",
    "        put_a = put_pr.querySelector('a')\n",
    "        temp[\"put_price\"] = put_a.innerText\n",
    "        //oi\n",
    "        divs = tds[1].querySelectorAll(\"div\")\n",
    "        innerDiv = divs[1].querySelector(\"div\")\n",
    "        innerDiv1 = innerDiv.querySelectorAll(\"div\")\n",
    "\n",
    "        temp[\"oi\"] = innerDiv1[0].innerText\n",
    "        temp[\"oi_p\"] = innerDiv1[1].innerText\n",
    "        //oi call\n",
    "        divs = tds[5].querySelectorAll(\"div\")\n",
    "        innerDiv = divs[1].querySelector(\"div\")\n",
    "        innerDiv1 = innerDiv.querySelectorAll(\"div\")\n",
    "\n",
    "        temp[\"oi_call\"] = innerDiv1[0].innerText\n",
    "        temp[\"oi_call_p\"] = innerDiv1[1].innerText\n",
    "        \n",
    "        //console.log(temp)\n",
    "        result.push(temp)\n",
    "        }catch(err){\n",
    "            console.log(\"err\")\n",
    "        }\n",
    "\n",
    "        }\n",
    "    })\n",
    "    document.title = JSON.stringify(result)\n",
    "    window.open(\"https://smarttradersclub.in/api_214124524/oi_runner.php?data=\"+JSON.stringify(result),'_blank');\n",
    "\n",
    "    return result\n",
    "  }, 2000);\n",
    "  return \"result\"\n",
    "''')\n",
    "\n",
    "#driver.quit()\n",
    "print(\"Title:\", data)\n"
   ]
  },
  {
   "cell_type": "code",
   "execution_count": null,
   "id": "0e3619e5",
   "metadata": {},
   "outputs": [],
   "source": []
  },
  {
   "cell_type": "code",
   "execution_count": null,
   "id": "5c502f26",
   "metadata": {},
   "outputs": [],
   "source": []
  },
  {
   "cell_type": "code",
   "execution_count": null,
   "id": "889cb08f",
   "metadata": {},
   "outputs": [],
   "source": []
  },
  {
   "cell_type": "code",
   "execution_count": null,
   "id": "8d955568",
   "metadata": {},
   "outputs": [],
   "source": []
  },
  {
   "cell_type": "code",
   "execution_count": null,
   "id": "c6b9ecc2",
   "metadata": {},
   "outputs": [],
   "source": []
  }
 ],
 "metadata": {
  "kernelspec": {
   "display_name": "Python 3 (ipykernel)",
   "language": "python",
   "name": "python3"
  },
  "language_info": {
   "codemirror_mode": {
    "name": "ipython",
    "version": 3
   },
   "file_extension": ".py",
   "mimetype": "text/x-python",
   "name": "python",
   "nbconvert_exporter": "python",
   "pygments_lexer": "ipython3",
   "version": "3.9.16"
  }
 },
 "nbformat": 4,
 "nbformat_minor": 5
}
