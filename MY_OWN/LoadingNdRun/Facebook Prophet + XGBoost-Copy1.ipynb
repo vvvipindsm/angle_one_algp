{
 "cells": [
  {
   "cell_type": "markdown",
   "metadata": {
    "id": "QZK36hW6M7cl"
   },
   "source": [
    "#Libraries and Data"
   ]
  },
  {
   "cell_type": "code",
   "execution_count": 1,
   "metadata": {
    "executionInfo": {
     "elapsed": 2554,
     "status": "ok",
     "timestamp": 1621008666318,
     "user": {
      "displayName": "Diogo Resende",
      "photoUrl": "https://lh3.googleusercontent.com/a-/AOh14GgH4DE06-yE1oiIzCiaAURCl1Escr4LXXiaSnbSaA=s64",
      "userId": "05706604408624562002"
     },
     "user_tz": -120
    },
    "id": "xBzm1qtYNE6M"
   },
   "outputs": [
    {
     "name": "stderr",
     "output_type": "stream",
     "text": [
      "/Users/vipin/opt/anaconda3/envs/my_own/lib/python3.9/site-packages/tqdm/auto.py:21: TqdmWarning: IProgress not found. Please update jupyter and ipywidgets. See https://ipywidgets.readthedocs.io/en/stable/user_install.html\n",
      "  from .autonotebook import tqdm as notebook_tqdm\n",
      "Importing plotly failed. Interactive plots will not work.\n"
     ]
    }
   ],
   "source": [
    "#import libraries\n",
    "import numpy as np\n",
    "import pandas as pd\n",
    "import itertools\n",
    "from prophet import Prophet\n",
    "import yfinance\n",
    "import pickle\n",
    "import xgboost as xgb\n",
    "\n",
    "def fbprobetModel(stock_name,input_data):\n",
    "    input_data[\"High\"]\n",
    "    # Load the saved model from the file\n",
    "    loaded_model = {}\n",
    "    with open('../TrainedModel/prophet/{}_prophet_model_1.pkl'.format(stock_name), 'rb') as f:\n",
    "        loaded_model = pickle.load(f)\n",
    "    \n",
    "    # Load the saved model from the file\n",
    "    loaded_model_prophet = {}\n",
    "    with open('../TrainedModel/prophet/{}prophet_model_2.pkl'.format(stock_name), 'rb') as f:\n",
    "        loaded_model_prophet = pickle.load(f)\n",
    "    \n",
    "    data = {\n",
    "    'ds' : [input_data[\"ds\"]]\n",
    "     }\n",
    "\n",
    "    # Create a new DataFrame object\n",
    "    data_fr = pd.DataFrame(data)\n",
    "    data_fr.head()\n",
    "    \n",
    "    forecast = loaded_model_prophet.predict(data_fr)\n",
    "    forecast\n",
    "    \n",
    "    #get some variables\n",
    "    df_xgb = forecast.loc[:, [\"trend\", \"weekly\",  \"multiplicative_terms\",\"yhat\"]]\n",
    "    # Create a dictionary with data\n",
    "    data = {\n",
    "        'High': [input_data[\"High\"]],\n",
    "        'Low': [input_data[\"Low\"]],\n",
    "        'y': [220.600006],\n",
    "        'Volume': [input_data[\"Volume\"]],\n",
    "        'trend': df_xgb.head(1).trend.values,\n",
    "        'weekly':df_xgb.head(1).weekly.values,\n",
    "        'multiplicative_terms': df_xgb.head(1).multiplicative_terms.values,\n",
    "    }\n",
    "\n",
    "    # Create a new DataFrame object\n",
    "    df = pd.DataFrame(data)\n",
    "    Future = xgb.DMatrix(df, label = df.y)\n",
    "\n",
    "    f_predictions = pd.Series(loaded_model.predict(Future), name = \"XGBoost\")\n",
    "    print(f_predictions)\n"
   ]
  },
  {
   "cell_type": "code",
   "execution_count": 29,
   "metadata": {},
   "outputs": [
    {
     "name": "stdout",
     "output_type": "stream",
     "text": [
      "[*********************100%***********************]  1 of 1 completed\n",
      "0    221.303223\n",
      "Name: XGBoost, dtype: float32\n"
     ]
    }
   ],
   "source": [
    "#load the datast\n",
    "stock_name = \"TATAPOWER\"\n",
    "data = yfinance.download (tickers = \"TATAPOWER.NS\",start=\"2023-06-06\",\n",
    "                               interval = \"1d\", group_by = 'ticker', auto_adjust = True)\n",
    "\n",
    "data[\"Data\"] = data.index\n",
    "datetime_obj = np.datetime_as_string(data.tail(1).Data.values[0], unit='D')\n",
    "\n",
    "input_data = {\"High\" : data.tail(1).High.values[0],\"Low\" : data.tail(1).Low.values[0], \n",
    "              \"Volume\" : data.tail(1).Volume.values[0],\n",
    "              'ds':datetime_obj}\n",
    "\n",
    "\n",
    "fbprobetModel(\"TATAPOWER\",input_data)\n"
   ]
  }
 ],
 "metadata": {
  "colab": {
   "authorship_tag": "ABX9TyONf4Fw76cQlH82pdR3h9Fa",
   "mount_file_id": "182alF94XmFPfm3NMnYKs4Tu9b-3DTW7y",
   "name": "Facebook Prophet + XGBoost Challenge Template.ipynb",
   "provenance": []
  },
  "kernelspec": {
   "display_name": "Python 3 (ipykernel)",
   "language": "python",
   "name": "python3"
  },
  "language_info": {
   "codemirror_mode": {
    "name": "ipython",
    "version": 3
   },
   "file_extension": ".py",
   "mimetype": "text/x-python",
   "name": "python",
   "nbconvert_exporter": "python",
   "pygments_lexer": "ipython3",
   "version": "3.9.16"
  }
 },
 "nbformat": 4,
 "nbformat_minor": 1
}
