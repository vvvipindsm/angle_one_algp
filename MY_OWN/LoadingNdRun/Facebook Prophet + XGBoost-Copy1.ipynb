{
 "cells": [
  {
   "cell_type": "markdown",
   "metadata": {
    "id": "QZK36hW6M7cl"
   },
   "source": [
    "#Libraries and Data"
   ]
  },
  {
   "cell_type": "code",
   "execution_count": 66,
   "metadata": {
    "executionInfo": {
     "elapsed": 2554,
     "status": "ok",
     "timestamp": 1621008666318,
     "user": {
      "displayName": "Diogo Resende",
      "photoUrl": "https://lh3.googleusercontent.com/a-/AOh14GgH4DE06-yE1oiIzCiaAURCl1Escr4LXXiaSnbSaA=s64",
      "userId": "05706604408624562002"
     },
     "user_tz": -120
    },
    "id": "xBzm1qtYNE6M"
   },
   "outputs": [],
   "source": [
    "#import libraries\n",
    "import numpy as np\n",
    "import pandas as pd\n",
    "import itertools\n",
    "from prophet import Prophet\n",
    "import yfinance\n",
    "import pickle\n",
    "import xgboost as xgb\n",
    "\n",
    "def fbprobetModel(input_data):\n",
    "    input_data[\"High\"]\n",
    "    # Load the saved model from the file\n",
    "    loaded_model = {}\n",
    "    with open('../TrainedModel/prophet/TATAPOWER_prophet_model_1.pkl', 'rb') as f:\n",
    "        loaded_model = pickle.load(f)\n",
    "    \n",
    "    # Load the saved model from the file\n",
    "    loaded_model_prophet = {}\n",
    "    with open('../TrainedModel/prophet/TATAPOWERprophet_model_2.pkl', 'rb') as f:\n",
    "        loaded_model_prophet = pickle.load(f)\n",
    "    \n",
    "    data = {\n",
    "    'ds' : [input_data[\"ds\"]]\n",
    "     }\n",
    "\n",
    "    # Create a new DataFrame object\n",
    "    data_fr = pd.DataFrame(data)\n",
    "    data_fr.head()\n",
    "    \n",
    "    forecast = loaded_model_prophet.predict(data_fr)\n",
    "    forecast\n",
    "    \n",
    "    #get some variables\n",
    "    df_xgb = forecast.loc[:, [\"trend\", \"weekly\",  \"multiplicative_terms\",\"yhat\"]]\n",
    "    # Create a dictionary with data\n",
    "    data = {\n",
    "        'High': [input_data[\"High\"]],\n",
    "        'Low': [input_data[\"Low\"]],\n",
    "        'y': [220.600006],\n",
    "        'Volume': [input_data[\"Volume\"]],\n",
    "        'trend': df_xgb.head(1).trend.values,\n",
    "        'weekly':df_xgb.head(1).weekly.values,\n",
    "        'multiplicative_terms': df_xgb.head(1).multiplicative_terms.values,\n",
    "    }\n",
    "\n",
    "    # Create a new DataFrame object\n",
    "    df = pd.DataFrame(data)\n",
    "    Future = xgb.DMatrix(df, label = df.y)\n",
    "\n",
    "    f_predictions = pd.Series(loaded_model.predict(Future), name = \"XGBoost\")\n",
    "    print(f_predictions)\n"
   ]
  },
  {
   "cell_type": "code",
   "execution_count": 67,
   "metadata": {},
   "outputs": [
    {
     "name": "stdout",
     "output_type": "stream",
     "text": [
      "0    221.303223\n",
      "Name: XGBoost, dtype: float32\n"
     ]
    }
   ],
   "source": [
    "input_data = {\"High\" : 222.123123,\"Low\" : 222.123123, \"Volume\" : 6857007,'ds':\"2023-06-20\"}\n",
    "\n",
    "fbprobetModel(input_data)"
   ]
  },
  {
   "cell_type": "code",
   "execution_count": 52,
   "metadata": {},
   "outputs": [
    {
     "data": {
      "text/plain": [
       "4.123123"
      ]
     },
     "execution_count": 52,
     "metadata": {},
     "output_type": "execute_result"
    }
   ],
   "source": [
    "#load the data\n",
    "\n",
    "#data = yfinance.download (tickers = \"TATAPOWER.NS\",start=\"2000-03-06\",\n",
    "                              # interval = \"1d\", group_by = 'ticker', auto_adjust = True)\n",
    "\n",
    "#data.tail()\n",
    "input_data = {\"High\" : 4.123123,\"Low\" : 4.123123, \"Volume\" : 4.123123}\n",
    "input_data[\"High\"]"
   ]
  },
  {
   "cell_type": "code",
   "execution_count": 32,
   "metadata": {},
   "outputs": [],
   "source": [
    "# Load the saved model from the file\n",
    "loaded_model = {}\n",
    "with open('../TrainedModel/prophet/TATAPOWER_prophet_model_1.pkl', 'rb') as f:\n",
    "    loaded_model = pickle.load(f)\n",
    "    "
   ]
  },
  {
   "cell_type": "code",
   "execution_count": 20,
   "metadata": {},
   "outputs": [],
   "source": [
    "# Load the saved model from the file\n",
    "loaded_model_prophet = {}\n",
    "with open('../TrainedModel/prophet/TATAPOWERprophet_model_2.pkl', 'rb') as f:\n",
    "    loaded_model_prophet = pickle.load(f)"
   ]
  },
  {
   "cell_type": "code",
   "execution_count": 28,
   "metadata": {},
   "outputs": [
    {
     "data": {
      "text/html": [
       "<div>\n",
       "<style scoped>\n",
       "    .dataframe tbody tr th:only-of-type {\n",
       "        vertical-align: middle;\n",
       "    }\n",
       "\n",
       "    .dataframe tbody tr th {\n",
       "        vertical-align: top;\n",
       "    }\n",
       "\n",
       "    .dataframe thead th {\n",
       "        text-align: right;\n",
       "    }\n",
       "</style>\n",
       "<table border=\"1\" class=\"dataframe\">\n",
       "  <thead>\n",
       "    <tr style=\"text-align: right;\">\n",
       "      <th></th>\n",
       "      <th>ds</th>\n",
       "    </tr>\n",
       "  </thead>\n",
       "  <tbody>\n",
       "    <tr>\n",
       "      <th>0</th>\n",
       "      <td>2023-06-20</td>\n",
       "    </tr>\n",
       "  </tbody>\n",
       "</table>\n",
       "</div>"
      ],
      "text/plain": [
       "           ds\n",
       "0  2023-06-20"
      ]
     },
     "execution_count": 28,
     "metadata": {},
     "output_type": "execute_result"
    }
   ],
   "source": [
    "data = {\n",
    "    'ds' : [\"2023-06-20\"]\n",
    " }\n",
    "\n",
    "# Create a new DataFrame object\n",
    "data_fr = pd.DataFrame(data)\n",
    "data_fr.head()"
   ]
  },
  {
   "cell_type": "code",
   "execution_count": 29,
   "metadata": {},
   "outputs": [
    {
     "data": {
      "text/html": [
       "<div>\n",
       "<style scoped>\n",
       "    .dataframe tbody tr th:only-of-type {\n",
       "        vertical-align: middle;\n",
       "    }\n",
       "\n",
       "    .dataframe tbody tr th {\n",
       "        vertical-align: top;\n",
       "    }\n",
       "\n",
       "    .dataframe thead th {\n",
       "        text-align: right;\n",
       "    }\n",
       "</style>\n",
       "<table border=\"1\" class=\"dataframe\">\n",
       "  <thead>\n",
       "    <tr style=\"text-align: right;\">\n",
       "      <th></th>\n",
       "      <th>ds</th>\n",
       "      <th>trend</th>\n",
       "      <th>yhat_lower</th>\n",
       "      <th>yhat_upper</th>\n",
       "      <th>trend_lower</th>\n",
       "      <th>trend_upper</th>\n",
       "      <th>multiplicative_terms</th>\n",
       "      <th>multiplicative_terms_lower</th>\n",
       "      <th>multiplicative_terms_upper</th>\n",
       "      <th>weekly</th>\n",
       "      <th>weekly_lower</th>\n",
       "      <th>weekly_upper</th>\n",
       "      <th>yearly</th>\n",
       "      <th>yearly_lower</th>\n",
       "      <th>yearly_upper</th>\n",
       "      <th>additive_terms</th>\n",
       "      <th>additive_terms_lower</th>\n",
       "      <th>additive_terms_upper</th>\n",
       "      <th>yhat</th>\n",
       "    </tr>\n",
       "  </thead>\n",
       "  <tbody>\n",
       "    <tr>\n",
       "      <th>0</th>\n",
       "      <td>2023-06-20</td>\n",
       "      <td>7.62343</td>\n",
       "      <td>36.034784</td>\n",
       "      <td>49.638076</td>\n",
       "      <td>7.62343</td>\n",
       "      <td>7.62343</td>\n",
       "      <td>4.612165</td>\n",
       "      <td>4.612165</td>\n",
       "      <td>4.612165</td>\n",
       "      <td>4.571913</td>\n",
       "      <td>4.571913</td>\n",
       "      <td>4.571913</td>\n",
       "      <td>0.040252</td>\n",
       "      <td>0.040252</td>\n",
       "      <td>0.040252</td>\n",
       "      <td>0.0</td>\n",
       "      <td>0.0</td>\n",
       "      <td>0.0</td>\n",
       "      <td>42.783946</td>\n",
       "    </tr>\n",
       "  </tbody>\n",
       "</table>\n",
       "</div>"
      ],
      "text/plain": [
       "          ds    trend  yhat_lower  yhat_upper  trend_lower  trend_upper  \\\n",
       "0 2023-06-20  7.62343   36.034784   49.638076      7.62343      7.62343   \n",
       "\n",
       "   multiplicative_terms  multiplicative_terms_lower  \\\n",
       "0              4.612165                    4.612165   \n",
       "\n",
       "   multiplicative_terms_upper    weekly  weekly_lower  weekly_upper    yearly  \\\n",
       "0                    4.612165  4.571913      4.571913      4.571913  0.040252   \n",
       "\n",
       "   yearly_lower  yearly_upper  additive_terms  additive_terms_lower  \\\n",
       "0      0.040252      0.040252             0.0                   0.0   \n",
       "\n",
       "   additive_terms_upper       yhat  \n",
       "0                   0.0  42.783946  "
      ]
     },
     "execution_count": 29,
     "metadata": {},
     "output_type": "execute_result"
    }
   ],
   "source": [
    "forecast = loaded_model_prophet.predict(data_fr)\n",
    "forecast"
   ]
  },
  {
   "cell_type": "code",
   "execution_count": 55,
   "metadata": {},
   "outputs": [],
   "source": [
    "#get some variables\n",
    "df_xgb = forecast.loc[:, [\"trend\", \"weekly\",  \"multiplicative_terms\",\"yhat\"]]\n"
   ]
  },
  {
   "cell_type": "code",
   "execution_count": null,
   "metadata": {},
   "outputs": [],
   "source": []
  },
  {
   "cell_type": "markdown",
   "metadata": {
    "id": "6RKxpqoBOSBX"
   },
   "source": [
    "#Data preparation"
   ]
  },
  {
   "cell_type": "markdown",
   "metadata": {},
   "source": [
    "#Future\n",
    "\n"
   ]
  },
  {
   "cell_type": "code",
   "execution_count": 56,
   "metadata": {},
   "outputs": [],
   "source": [
    "# Create a dictionary with data\n",
    "data = {\n",
    "    'High': [input_data[\"High\"]],\n",
    "    'Low': [input_data[\"Low\"]],\n",
    "    'y': df_xgb.head(1).yhat.values,\n",
    "    'Volume': [input_data[\"Volume\"]],\n",
    "    'trend': df_xgb.head(1).trend.values,\n",
    "    'weekly':df_xgb.head(1).weekly.values,\n",
    "    'multiplicative_terms': df_xgb.head(1).multiplicative_terms.values,\n",
    "    }\n",
    "\n",
    "# Create a new DataFrame object\n",
    "df = pd.DataFrame(data)\n"
   ]
  },
  {
   "cell_type": "code",
   "execution_count": 57,
   "metadata": {},
   "outputs": [
    {
     "data": {
      "text/plain": [
       "0    41.162369\n",
       "Name: XGBoost, dtype: float32"
      ]
     },
     "execution_count": 57,
     "metadata": {},
     "output_type": "execute_result"
    }
   ],
   "source": [
    "Future = xgb.DMatrix(df, label = df.y)\n",
    "\n",
    "f_predictions = pd.Series(loaded_model.predict(Future), name = \"XGBoost\")\n",
    "f_predictions"
   ]
  }
 ],
 "metadata": {
  "colab": {
   "authorship_tag": "ABX9TyONf4Fw76cQlH82pdR3h9Fa",
   "mount_file_id": "182alF94XmFPfm3NMnYKs4Tu9b-3DTW7y",
   "name": "Facebook Prophet + XGBoost Challenge Template.ipynb",
   "provenance": []
  },
  "kernelspec": {
   "display_name": "Python 3 (ipykernel)",
   "language": "python",
   "name": "python3"
  },
  "language_info": {
   "codemirror_mode": {
    "name": "ipython",
    "version": 3
   },
   "file_extension": ".py",
   "mimetype": "text/x-python",
   "name": "python",
   "nbconvert_exporter": "python",
   "pygments_lexer": "ipython3",
   "version": "3.9.16"
  }
 },
 "nbformat": 4,
 "nbformat_minor": 1
}
