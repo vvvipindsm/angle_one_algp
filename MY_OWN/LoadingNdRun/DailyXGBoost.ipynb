{
 "cells": [
  {
   "cell_type": "markdown",
   "metadata": {
    "id": "QZK36hW6M7cl"
   },
   "source": [
    "#Libraries and Data"
   ]
  },
  {
   "cell_type": "code",
   "execution_count": 1,
   "metadata": {
    "executionInfo": {
     "elapsed": 2554,
     "status": "ok",
     "timestamp": 1621008666318,
     "user": {
      "displayName": "Diogo Resende",
      "photoUrl": "https://lh3.googleusercontent.com/a-/AOh14GgH4DE06-yE1oiIzCiaAURCl1Escr4LXXiaSnbSaA=s64",
      "userId": "05706604408624562002"
     },
     "user_tz": -120
    },
    "id": "xBzm1qtYNE6M"
   },
   "outputs": [
    {
     "name": "stderr",
     "output_type": "stream",
     "text": [
      "/Users/vipin/opt/anaconda3/envs/my_own/lib/python3.9/site-packages/tqdm/auto.py:21: TqdmWarning: IProgress not found. Please update jupyter and ipywidgets. See https://ipywidgets.readthedocs.io/en/stable/user_install.html\n",
      "  from .autonotebook import tqdm as notebook_tqdm\n",
      "Importing plotly failed. Interactive plots will not work.\n"
     ]
    }
   ],
   "source": [
    "#import libraries\n",
    "import numpy as np\n",
    "import pandas as pd\n",
    "import itertools\n",
    "from prophet import Prophet\n",
    "import yfinance\n",
    "import pickle\n",
    "import xgboost as xgb\n",
    "from datetime import datetime\n",
    "\n",
    "from dataProcessing import DataProcessing\n",
    "# Remove Future Warnings\n",
    "import warnings\n",
    "warnings.simplefilter(action='ignore', category=FutureWarning)\n",
    "\n",
    "\n",
    "\n",
    "\n",
    "from sklearn.model_selection import train_test_split\n",
    "\n",
    "# Machine Learning\n",
    "from xgboost import XGBClassifier\n",
    "from sklearn.model_selection import RandomizedSearchCV, cross_val_score\n",
    "from sklearn.model_selection import RepeatedStratifiedKFold\n",
    "\n",
    "# Evaluation\n",
    "from sklearn.metrics import precision_score\n",
    "\n",
    "# Reporting\n",
    "import matplotlib.pyplot as plt"
   ]
  },
  {
   "cell_type": "code",
   "execution_count": 2,
   "metadata": {},
   "outputs": [],
   "source": [
    "def load_and_setup_data(sybmol,input_data):\n",
    "    df = pd.read_csv(\"../stock_historical_data/{}.csv\".format(sybmol))\n",
    "    df.set_index(\"Date\", inplace=True)\n",
    "    new_data = pd.DataFrame(input_data)\n",
    "    new_data.set_index(\"Date\", inplace=True)\n",
    "    concatenated_df = pd.concat([df,new_data])\n",
    "    return concatenated_df\n",
    "\n",
    "def fetch_stock_data(tickers):\n",
    "    data = yfinance.download(tickers,period='1d')\n",
    "    print(data)\n",
    "    return data\n",
    "    "
   ]
  },
  {
   "cell_type": "code",
   "execution_count": 17,
   "metadata": {},
   "outputs": [
    {
     "name": "stdout",
     "output_type": "stream",
     "text": [
      "[*********************100%***********************]  2 of 2 completed\n",
      "           Adj Close                Close                     High  \\\n",
      "              IOC.NS TATAMOTORS.NS IOC.NS TATAMOTORS.NS     IOC.NS   \n",
      "Date                                                                 \n",
      "2023-07-05      95.5        588.25   95.5        588.25  95.699997   \n",
      "\n",
      "                                Low                     Open                \\\n",
      "           TATAMOTORS.NS     IOC.NS TATAMOTORS.NS     IOC.NS TATAMOTORS.NS   \n",
      "Date                                                                         \n",
      "2023-07-05         593.0  93.400002    584.950012  95.150002         592.0   \n",
      "\n",
      "              Volume                \n",
      "              IOC.NS TATAMOTORS.NS  \n",
      "Date                                \n",
      "2023-07-05  14273978       8715228  \n",
      "           Adj Close                Close                     High  \\\n",
      "              IOC.NS TATAMOTORS.NS IOC.NS TATAMOTORS.NS     IOC.NS   \n",
      "Date                                                                 \n",
      "2023-07-05      95.5        588.25   95.5        588.25  95.699997   \n",
      "\n",
      "                                Low                     Open                \\\n",
      "           TATAMOTORS.NS     IOC.NS TATAMOTORS.NS     IOC.NS TATAMOTORS.NS   \n",
      "Date                                                                         \n",
      "2023-07-05         593.0  93.400002    584.950012  95.150002         592.0   \n",
      "\n",
      "              Volume                \n",
      "              IOC.NS TATAMOTORS.NS  \n",
      "Date                                \n",
      "2023-07-05  14273978       8715228  \n",
      "\n",
      "{'Open': [592.0], 'Close': [593.0], 'High': [593.0], 'Low': [584.9500122070312], 'Volume': [8715228], 'Date': ['2023-07-05']}\n",
      "['Range', 'RSI', 'RSI_Ret', 'Avg_Range']\n",
      "features  ['Range', 'RSI', 'RSI_Ret', 'Avg_Range']\n",
      "\n",
      "{'Open': [95.1500015258789], 'Close': [95.69999694824219], 'High': [95.69999694824219], 'Low': [93.4000015258789], 'Volume': [14273978], 'Date': ['2023-07-05']}\n",
      "['Range', 'RSI', 'RSI_Ret', 'Avg_Range']\n",
      "features  ['Range', 'RSI', 'RSI_Ret', 'Avg_Range']\n"
     ]
    }
   ],
   "source": [
    "symbols = [\"TATAMOTORS.NS\",\"IOC.NS\"]\n",
    "  # Add the tickers you want to fetch data for\n",
    "loaded_models = {}\n",
    "final_result = {}\n",
    "stock_data = fetch_stock_data(symbols)\n",
    "print(stock_data)\n",
    "finaldata = {}\n",
    "stock_name = \"TATAMOTORS\"\n",
    "for symbol in symbols:\n",
    "    print()\n",
    "    input_data = {\n",
    "                    # \"Open\" : stock_data.head(1).Open[ticker].values[0],\n",
    "                    \"Open\" : [stock_data.head(1).Open[symbol].values[0]],\n",
    "                    \"Close\" : [stock_data.head(1).High[symbol].values[0]],\n",
    "                    \"High\" : [stock_data.head(1).High[symbol].values[0]],\n",
    "                    \"Low\" : [stock_data.head(1).Low[symbol].values[0]], \n",
    "                    \"Volume\" : [stock_data.head(1).Volume[symbol].values[0]],\n",
    "                    \"Date\":[np.datetime_as_string(stock_data.index, unit='D')[0]]\n",
    "    }\n",
    "    print(input_data)\n",
    "    data = load_and_setup_data(symbol,input_data)\n",
    "    data.to_csv(f\"../stock_historical_data/{symbol}.csv\")\n",
    "    data = DataProcessing(symbol,data)\n",
    "    # Specify Target\n",
    "    data.df.loc[data.df[\"Range\"].shift(-1) > data.df[\"Avg_Range\"], \"TARGET\"] = 1\n",
    "    data.df.loc[data.df[\"Range\"].shift(-1) <= data.df[\"Avg_Range\"], \"TARGET\"] = 0\n",
    "    loaded_model = {}\n",
    "    feature_item = {}\n",
    "    with open('../TrainedModel/xg/{}_model_2.pkl'.format(symbol), 'rb') as f:\n",
    "        loaded_model = pickle.load(f)\n",
    "    with open('../TrainedModel/xg/{}_features.txt'.format(symbol), 'rb') as f:\n",
    "        feature_item = pickle.load(f)\n",
    "    print(feature_item)\n",
    "    #final training\n",
    "    loaded_models[symbol] = loaded_model\n",
    "    print(\"features \",feature_item)\n",
    "    df = data.df[feature_item]\n",
    "    finaldata[symbol]= df \n",
    "    train_yhat = loaded_model.predict(df[-1:])\n",
    "    train_yhat_proba = loaded_model.predict_proba(df[-1:])\n",
    "    final_result[symbol] = [train_yhat_proba,train_yhat]\n",
    "    \n",
    "\n"
   ]
  },
  {
   "cell_type": "code",
   "execution_count": 24,
   "metadata": {},
   "outputs": [
    {
     "name": "stdout",
     "output_type": "stream",
     "text": [
      "0\n",
      "[[0.7047337  0.29526627]]\n"
     ]
    }
   ],
   "source": [
    "prop = final_result[\"TATAMOTORS.NS\"][0]\n",
    "result = final_result[\"TATAMOTORS.NS\"][1]\n",
    "\n",
    "print(result[0])\n",
    "print(prop)"
   ]
  },
  {
   "cell_type": "code",
   "execution_count": null,
   "metadata": {},
   "outputs": [],
   "source": [
    "loaded_model = {}\n",
    "with open('../TrainedModel/xg/{}_model_2.pkl'.format(\"IOC.NS\"), 'rb') as f:\n",
    "    loaded_model = pickle.load(f)"
   ]
  },
  {
   "cell_type": "code",
   "execution_count": null,
   "metadata": {},
   "outputs": [],
   "source": [
    "# df_tts = finaldata[\"IOC.NS\"].iloc[:, : -1]\n",
    "df_tts\n",
    "train_yhat = loaded_model.predict(finaldata[\"IOC.NS\"])\n",
    "train_yhat_proba = loaded_model.predict_proba(finaldata[\"IOC.NS\"])"
   ]
  },
  {
   "cell_type": "code",
   "execution_count": null,
   "metadata": {},
   "outputs": [],
   "source": [
    "print(train_yhat,train_yhat_proba)"
   ]
  }
 ],
 "metadata": {
  "colab": {
   "authorship_tag": "ABX9TyONf4Fw76cQlH82pdR3h9Fa",
   "mount_file_id": "182alF94XmFPfm3NMnYKs4Tu9b-3DTW7y",
   "name": "Facebook Prophet + XGBoost Challenge Template.ipynb",
   "provenance": []
  },
  "kernelspec": {
   "display_name": "Python 3 (ipykernel)",
   "language": "python",
   "name": "python3"
  },
  "language_info": {
   "codemirror_mode": {
    "name": "ipython",
    "version": 3
   },
   "file_extension": ".py",
   "mimetype": "text/x-python",
   "name": "python",
   "nbconvert_exporter": "python",
   "pygments_lexer": "ipython3",
   "version": "3.9.16"
  }
 },
 "nbformat": 4,
 "nbformat_minor": 1
}
