{
 "cells": [
  {
   "cell_type": "code",
   "execution_count": null,
   "id": "52573497",
   "metadata": {},
   "outputs": [],
   "source": []
  },
  {
   "cell_type": "code",
   "execution_count": 12,
   "id": "6f44aad4",
   "metadata": {},
   "outputs": [],
   "source": [
    "import joblib\n",
    "import numpy as np\n",
    "\n",
    "import pandas as pd\n",
    "from sklearn.metrics import accuracy_score, precision_score, recall_score\n",
    "from time import time\n"
   ]
  },
  {
   "cell_type": "code",
   "execution_count": 6,
   "id": "6d4a2546",
   "metadata": {},
   "outputs": [],
   "source": [
    "nifty_read = pd.read_csv('../stock_historical_data/Nifty 50 Historical Data.csv')"
   ]
  },
  {
   "cell_type": "code",
   "execution_count": 7,
   "id": "c774f289",
   "metadata": {},
   "outputs": [],
   "source": [
    "fii_df = pd.read_csv(\"../stock_historical_data/fii/nifty.csv\")\n",
    "fii_df.drop(\"Unnamed: 0\",axis=1,inplace=True)\n"
   ]
  },
  {
   "cell_type": "code",
   "execution_count": 8,
   "id": "f08f65fd",
   "metadata": {},
   "outputs": [],
   "source": [
    "final_df =[]\n",
    "for i in range(0,len(nifty_read)-1):\n",
    "    if i > 1:\n",
    "        tempResult = {}\n",
    "        currentTym = nifty_read.iloc[i].Date\n",
    "        #print(currentTym)\n",
    "        d = currentTym.split(\"/\")\n",
    "        newDate = '{}-{}-{}'.format(d[2],d[0],d[1])\n",
    "        #print(newDate)\n",
    "        if nifty_read.iloc[i].Price < nifty_read.iloc[i-1].Price:\n",
    "            tempResult['label'] = 1\n",
    "        else:\n",
    "            tempResult['label'] = 0\n",
    "        #print(\"label current\",label,\"coming month\",labelT1)\n",
    "        fii_info = fii_df[fii_df['date'] == newDate]\n",
    "        tempResult['equity'] = fii_info.equity.values[0]\n",
    "        tempResult['date'] = fii_info.date.values[0]\n",
    "        final_df.append(tempResult)\n",
    "\n",
    "final_df = pd.DataFrame(final_df)\n"
   ]
  },
  {
   "cell_type": "code",
   "execution_count": 9,
   "id": "ff3cedda",
   "metadata": {},
   "outputs": [],
   "source": [
    "input_df = final_df[\"equity\"]\n",
    "label = final_df[\"label\"]\n",
    "inp_df = input_df.values.reshape(257,1)"
   ]
  },
  {
   "cell_type": "code",
   "execution_count": 3,
   "id": "28980610",
   "metadata": {},
   "outputs": [],
   "source": [
    "model = joblib.load('../TrainedModel/FII/fii.pkl')\n"
   ]
  },
  {
   "cell_type": "code",
   "execution_count": 4,
   "id": "3a5b005a",
   "metadata": {},
   "outputs": [],
   "source": [
    "def evaluate_model(model, features, labels):\n",
    "    start = time()\n",
    "    pred = model.predict(features)\n",
    "    end = time()\n",
    "    accuracy = round(accuracy_score(labels, pred), 3)\n",
    "    precision = round(precision_score(labels, pred), 3)\n",
    "    recall = round(recall_score(labels, pred), 3)\n",
    "    print('{} -- Accuracy: {} / Precision: {} / Recall: {} / Latency: {}ms'.format(str(model).split('(')[0],\n",
    "                                                                                   accuracy,\n",
    "                                                                                   precision,\n",
    "                                                                                   recall,\n",
    "                                                                                   round((end - start)*1000, 1)))"
   ]
  },
  {
   "cell_type": "code",
   "execution_count": 10,
   "id": "4475f46c",
   "metadata": {},
   "outputs": [
    {
     "name": "stdout",
     "output_type": "stream",
     "text": [
      "StackingClassifier -- Accuracy: 0.591 / Precision: 0.591 / Recall: 1.0 / Latency: 28.9ms\n"
     ]
    }
   ],
   "source": [
    "evaluate_model(model, inp_df, label.values.ravel())"
   ]
  },
  {
   "cell_type": "code",
   "execution_count": 16,
   "id": "c8ba00ce",
   "metadata": {},
   "outputs": [
    {
     "name": "stdout",
     "output_type": "stream",
     "text": [
      "[1]\n",
      "[[0.40605158 0.59394842]]\n"
     ]
    }
   ],
   "source": [
    "#predict future\n",
    "lastItem = np.array([47148.34,])\n",
    "df_last = pd.DataFrame(lastItem)\n",
    "mod_df = df_last.values.reshape(1,1)\n",
    "pred = model.predict(mod_df)\n",
    "prob = model.predict_proba(mod_df)\n",
    "\n",
    "print(pred)\n",
    "print(prob)"
   ]
  },
  {
   "cell_type": "code",
   "execution_count": 14,
   "id": "053c4929",
   "metadata": {},
   "outputs": [
    {
     "data": {
      "text/plain": [
       "['__abstractmethods__',\n",
       " '__annotations__',\n",
       " '__class__',\n",
       " '__delattr__',\n",
       " '__dict__',\n",
       " '__dir__',\n",
       " '__doc__',\n",
       " '__eq__',\n",
       " '__format__',\n",
       " '__ge__',\n",
       " '__getattribute__',\n",
       " '__getstate__',\n",
       " '__gt__',\n",
       " '__hash__',\n",
       " '__init__',\n",
       " '__init_subclass__',\n",
       " '__le__',\n",
       " '__lt__',\n",
       " '__module__',\n",
       " '__ne__',\n",
       " '__new__',\n",
       " '__reduce__',\n",
       " '__reduce_ex__',\n",
       " '__repr__',\n",
       " '__setattr__',\n",
       " '__setstate__',\n",
       " '__sizeof__',\n",
       " '__sklearn_clone__',\n",
       " '__str__',\n",
       " '__subclasshook__',\n",
       " '__weakref__',\n",
       " '_abc_impl',\n",
       " '_build_request_for_signature',\n",
       " '_check_feature_names',\n",
       " '_check_n_features',\n",
       " '_clone_final_estimator',\n",
       " '_concatenate_predictions',\n",
       " '_estimator_type',\n",
       " '_get_default_requests',\n",
       " '_get_metadata_request',\n",
       " '_get_param_names',\n",
       " '_get_params',\n",
       " '_get_tags',\n",
       " '_label_encoder',\n",
       " '_method_name',\n",
       " '_more_tags',\n",
       " '_n_feature_outs',\n",
       " '_parameter_constraints',\n",
       " '_replace_estimator',\n",
       " '_repr_html_',\n",
       " '_repr_html_inner',\n",
       " '_repr_mimebundle_',\n",
       " '_required_parameters',\n",
       " '_set_params',\n",
       " '_sk_visual_block_',\n",
       " '_sk_visual_block_with_final_estimator',\n",
       " '_sklearn_auto_wrap_output_keys',\n",
       " '_transform',\n",
       " '_validate_data',\n",
       " '_validate_estimators',\n",
       " '_validate_final_estimator',\n",
       " '_validate_names',\n",
       " '_validate_params',\n",
       " 'classes_',\n",
       " 'cv',\n",
       " 'decision_function',\n",
       " 'estimators',\n",
       " 'estimators_',\n",
       " 'final_estimator',\n",
       " 'final_estimator_',\n",
       " 'fit',\n",
       " 'fit_transform',\n",
       " 'get_feature_names_out',\n",
       " 'get_metadata_routing',\n",
       " 'get_params',\n",
       " 'n_features_in_',\n",
       " 'n_jobs',\n",
       " 'named_estimators',\n",
       " 'named_estimators_',\n",
       " 'passthrough',\n",
       " 'predict',\n",
       " 'predict_proba',\n",
       " 'score',\n",
       " 'set_fit_request',\n",
       " 'set_output',\n",
       " 'set_params',\n",
       " 'set_score_request',\n",
       " 'stack_method',\n",
       " 'stack_method_',\n",
       " 'transform',\n",
       " 'verbose']"
      ]
     },
     "execution_count": 14,
     "metadata": {},
     "output_type": "execute_result"
    }
   ],
   "source": [
    "dir(model)"
   ]
  }
 ],
 "metadata": {
  "kernelspec": {
   "display_name": "Python 3 (ipykernel)",
   "language": "python",
   "name": "python3"
  },
  "language_info": {
   "codemirror_mode": {
    "name": "ipython",
    "version": 3
   },
   "file_extension": ".py",
   "mimetype": "text/x-python",
   "name": "python",
   "nbconvert_exporter": "python",
   "pygments_lexer": "ipython3",
   "version": "3.9.16"
  }
 },
 "nbformat": 4,
 "nbformat_minor": 5
}
