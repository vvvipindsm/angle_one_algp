{
 "cells": [
  {
   "cell_type": "markdown",
   "metadata": {
    "id": "QZK36hW6M7cl"
   },
   "source": [
    "#Libraries and Data"
   ]
  },
  {
   "cell_type": "code",
   "execution_count": 1,
   "metadata": {
    "executionInfo": {
     "elapsed": 2554,
     "status": "ok",
     "timestamp": 1621008666318,
     "user": {
      "displayName": "Diogo Resende",
      "photoUrl": "https://lh3.googleusercontent.com/a-/AOh14GgH4DE06-yE1oiIzCiaAURCl1Escr4LXXiaSnbSaA=s64",
      "userId": "05706604408624562002"
     },
     "user_tz": -120
    },
    "id": "xBzm1qtYNE6M"
   },
   "outputs": [
    {
     "name": "stderr",
     "output_type": "stream",
     "text": [
      "/Users/vipin/opt/anaconda3/envs/my_own/lib/python3.9/site-packages/tqdm/auto.py:21: TqdmWarning: IProgress not found. Please update jupyter and ipywidgets. See https://ipywidgets.readthedocs.io/en/stable/user_install.html\n",
      "  from .autonotebook import tqdm as notebook_tqdm\n",
      "Importing plotly failed. Interactive plots will not work.\n"
     ]
    }
   ],
   "source": [
    "#import libraries\n",
    "import numpy as np\n",
    "import pandas as pd\n",
    "import itertools\n",
    "from prophet import Prophet\n",
    "import yfinance\n",
    "import pickle\n",
    "\n"
   ]
  },
  {
   "cell_type": "code",
   "execution_count": 2,
   "metadata": {},
   "outputs": [
    {
     "name": "stdout",
     "output_type": "stream",
     "text": [
      "[*********************100%***********************]  1 of 1 completed\n"
     ]
    },
    {
     "data": {
      "text/html": [
       "<div>\n",
       "<style scoped>\n",
       "    .dataframe tbody tr th:only-of-type {\n",
       "        vertical-align: middle;\n",
       "    }\n",
       "\n",
       "    .dataframe tbody tr th {\n",
       "        vertical-align: top;\n",
       "    }\n",
       "\n",
       "    .dataframe thead th {\n",
       "        text-align: right;\n",
       "    }\n",
       "</style>\n",
       "<table border=\"1\" class=\"dataframe\">\n",
       "  <thead>\n",
       "    <tr style=\"text-align: right;\">\n",
       "      <th></th>\n",
       "      <th>Open</th>\n",
       "      <th>High</th>\n",
       "      <th>Low</th>\n",
       "      <th>Close</th>\n",
       "      <th>Volume</th>\n",
       "    </tr>\n",
       "    <tr>\n",
       "      <th>Date</th>\n",
       "      <th></th>\n",
       "      <th></th>\n",
       "      <th></th>\n",
       "      <th></th>\n",
       "      <th></th>\n",
       "    </tr>\n",
       "  </thead>\n",
       "  <tbody>\n",
       "    <tr>\n",
       "      <th>2023-06-22</th>\n",
       "      <td>2394.600098</td>\n",
       "      <td>2424.000000</td>\n",
       "      <td>2380.000000</td>\n",
       "      <td>2416.250000</td>\n",
       "      <td>1741775</td>\n",
       "    </tr>\n",
       "    <tr>\n",
       "      <th>2023-06-23</th>\n",
       "      <td>2418.949951</td>\n",
       "      <td>2427.000000</td>\n",
       "      <td>2383.250000</td>\n",
       "      <td>2389.550049</td>\n",
       "      <td>1212955</td>\n",
       "    </tr>\n",
       "    <tr>\n",
       "      <th>2023-06-26</th>\n",
       "      <td>2398.100098</td>\n",
       "      <td>2403.850098</td>\n",
       "      <td>2367.949951</td>\n",
       "      <td>2377.550049</td>\n",
       "      <td>793572</td>\n",
       "    </tr>\n",
       "    <tr>\n",
       "      <th>2023-06-27</th>\n",
       "      <td>2387.449951</td>\n",
       "      <td>2396.949951</td>\n",
       "      <td>2371.550049</td>\n",
       "      <td>2388.050049</td>\n",
       "      <td>1012317</td>\n",
       "    </tr>\n",
       "    <tr>\n",
       "      <th>2023-06-30</th>\n",
       "      <td>2420.000000</td>\n",
       "      <td>2483.500000</td>\n",
       "      <td>2415.050049</td>\n",
       "      <td>2475.550049</td>\n",
       "      <td>2690469</td>\n",
       "    </tr>\n",
       "  </tbody>\n",
       "</table>\n",
       "</div>"
      ],
      "text/plain": [
       "                   Open         High          Low        Close   Volume\n",
       "Date                                                                   \n",
       "2023-06-22  2394.600098  2424.000000  2380.000000  2416.250000  1741775\n",
       "2023-06-23  2418.949951  2427.000000  2383.250000  2389.550049  1212955\n",
       "2023-06-26  2398.100098  2403.850098  2367.949951  2377.550049   793572\n",
       "2023-06-27  2387.449951  2396.949951  2371.550049  2388.050049  1012317\n",
       "2023-06-30  2420.000000  2483.500000  2415.050049  2475.550049  2690469"
      ]
     },
     "execution_count": 2,
     "metadata": {},
     "output_type": "execute_result"
    }
   ],
   "source": [
    "#load the datast\n",
    "#[OLECTRA,\"LT\"]\n",
    "stock_name = \"LT\"\n",
    "data = yfinance.download (tickers = \"{}.NS\".format(stock_name),start=\"2000-03-06\",\n",
    "                               interval = \"1d\", group_by = 'ticker', auto_adjust = True)\n",
    "\n",
    "data.tail()"
   ]
  },
  {
   "cell_type": "markdown",
   "metadata": {
    "id": "6RKxpqoBOSBX"
   },
   "source": [
    "#Data preparation"
   ]
  },
  {
   "cell_type": "code",
   "execution_count": 3,
   "metadata": {
    "colab": {
     "base_uri": "https://localhost:8080/"
    },
    "executionInfo": {
     "elapsed": 843,
     "status": "ok",
     "timestamp": 1621008673660,
     "user": {
      "displayName": "Diogo Resende",
      "photoUrl": "https://lh3.googleusercontent.com/a-/AOh14GgH4DE06-yE1oiIzCiaAURCl1Escr4LXXiaSnbSaA=s64",
      "userId": "05706604408624562002"
     },
     "user_tz": -120
    },
    "id": "o55_2auGOUm6",
    "outputId": "7b72e62e-b26c-451e-c930-f7e794b87c23"
   },
   "outputs": [
    {
     "data": {
      "text/plain": [
       "Date\n",
       "2002-07-01   2002-07-01\n",
       "2002-07-02   2002-07-02\n",
       "2002-07-03   2002-07-03\n",
       "2002-07-04   2002-07-04\n",
       "2002-07-05   2002-07-05\n",
       "                ...    \n",
       "2023-06-22   2023-06-22\n",
       "2023-06-23   2023-06-23\n",
       "2023-06-26   2023-06-26\n",
       "2023-06-27   2023-06-27\n",
       "2023-06-30   2023-06-30\n",
       "Name: Data, Length: 5219, dtype: datetime64[ns]"
      ]
     },
     "execution_count": 3,
     "metadata": {},
     "output_type": "execute_result"
    }
   ],
   "source": [
    "#transform the date variable\n",
    "data[\"Data\"] = pd.to_datetime(data.index, format = \"%m/%d/%Y\")\n",
    "data.Data"
   ]
  },
  {
   "cell_type": "code",
   "execution_count": 4,
   "metadata": {
    "colab": {
     "base_uri": "https://localhost:8080/",
     "height": 79
    },
    "executionInfo": {
     "elapsed": 744,
     "status": "ok",
     "timestamp": 1621008692325,
     "user": {
      "displayName": "Diogo Resende",
      "photoUrl": "https://lh3.googleusercontent.com/a-/AOh14GgH4DE06-yE1oiIzCiaAURCl1Escr4LXXiaSnbSaA=s64",
      "userId": "05706604408624562002"
     },
     "user_tz": -120
    },
    "id": "D3FRYUauQWkz",
    "outputId": "96122dd3-0ca2-496a-e72d-a04c87425033"
   },
   "outputs": [
    {
     "data": {
      "text/html": [
       "<div>\n",
       "<style scoped>\n",
       "    .dataframe tbody tr th:only-of-type {\n",
       "        vertical-align: middle;\n",
       "    }\n",
       "\n",
       "    .dataframe tbody tr th {\n",
       "        vertical-align: top;\n",
       "    }\n",
       "\n",
       "    .dataframe thead th {\n",
       "        text-align: right;\n",
       "    }\n",
       "</style>\n",
       "<table border=\"1\" class=\"dataframe\">\n",
       "  <thead>\n",
       "    <tr style=\"text-align: right;\">\n",
       "      <th></th>\n",
       "      <th>Open</th>\n",
       "      <th>High</th>\n",
       "      <th>Low</th>\n",
       "      <th>y</th>\n",
       "      <th>Volume</th>\n",
       "      <th>ds</th>\n",
       "    </tr>\n",
       "    <tr>\n",
       "      <th>Date</th>\n",
       "      <th></th>\n",
       "      <th></th>\n",
       "      <th></th>\n",
       "      <th></th>\n",
       "      <th></th>\n",
       "      <th></th>\n",
       "    </tr>\n",
       "  </thead>\n",
       "  <tbody>\n",
       "    <tr>\n",
       "      <th>2023-06-15</th>\n",
       "      <td>2355.000000</td>\n",
       "      <td>2369.500000</td>\n",
       "      <td>2349.000000</td>\n",
       "      <td>2361.300049</td>\n",
       "      <td>2561534</td>\n",
       "      <td>2023-06-15</td>\n",
       "    </tr>\n",
       "    <tr>\n",
       "      <th>2023-06-16</th>\n",
       "      <td>2363.750000</td>\n",
       "      <td>2380.000000</td>\n",
       "      <td>2352.250000</td>\n",
       "      <td>2366.800049</td>\n",
       "      <td>1794542</td>\n",
       "      <td>2023-06-16</td>\n",
       "    </tr>\n",
       "    <tr>\n",
       "      <th>2023-06-19</th>\n",
       "      <td>2379.000000</td>\n",
       "      <td>2419.899902</td>\n",
       "      <td>2361.000000</td>\n",
       "      <td>2366.350098</td>\n",
       "      <td>3111256</td>\n",
       "      <td>2023-06-19</td>\n",
       "    </tr>\n",
       "    <tr>\n",
       "      <th>2023-06-20</th>\n",
       "      <td>2364.949951</td>\n",
       "      <td>2389.649902</td>\n",
       "      <td>2354.449951</td>\n",
       "      <td>2382.000000</td>\n",
       "      <td>1771306</td>\n",
       "      <td>2023-06-20</td>\n",
       "    </tr>\n",
       "    <tr>\n",
       "      <th>2023-06-21</th>\n",
       "      <td>2382.000000</td>\n",
       "      <td>2412.000000</td>\n",
       "      <td>2382.000000</td>\n",
       "      <td>2394.449951</td>\n",
       "      <td>1607299</td>\n",
       "      <td>2023-06-21</td>\n",
       "    </tr>\n",
       "    <tr>\n",
       "      <th>2023-06-22</th>\n",
       "      <td>2394.600098</td>\n",
       "      <td>2424.000000</td>\n",
       "      <td>2380.000000</td>\n",
       "      <td>2416.250000</td>\n",
       "      <td>1741775</td>\n",
       "      <td>2023-06-22</td>\n",
       "    </tr>\n",
       "    <tr>\n",
       "      <th>2023-06-23</th>\n",
       "      <td>2418.949951</td>\n",
       "      <td>2427.000000</td>\n",
       "      <td>2383.250000</td>\n",
       "      <td>2389.550049</td>\n",
       "      <td>1212955</td>\n",
       "      <td>2023-06-23</td>\n",
       "    </tr>\n",
       "    <tr>\n",
       "      <th>2023-06-26</th>\n",
       "      <td>2398.100098</td>\n",
       "      <td>2403.850098</td>\n",
       "      <td>2367.949951</td>\n",
       "      <td>2377.550049</td>\n",
       "      <td>793572</td>\n",
       "      <td>2023-06-26</td>\n",
       "    </tr>\n",
       "    <tr>\n",
       "      <th>2023-06-27</th>\n",
       "      <td>2387.449951</td>\n",
       "      <td>2396.949951</td>\n",
       "      <td>2371.550049</td>\n",
       "      <td>2388.050049</td>\n",
       "      <td>1012317</td>\n",
       "      <td>2023-06-27</td>\n",
       "    </tr>\n",
       "    <tr>\n",
       "      <th>2023-06-30</th>\n",
       "      <td>2420.000000</td>\n",
       "      <td>2483.500000</td>\n",
       "      <td>2415.050049</td>\n",
       "      <td>2475.550049</td>\n",
       "      <td>2690469</td>\n",
       "      <td>2023-06-30</td>\n",
       "    </tr>\n",
       "  </tbody>\n",
       "</table>\n",
       "</div>"
      ],
      "text/plain": [
       "                   Open         High          Low            y   Volume  \\\n",
       "Date                                                                      \n",
       "2023-06-15  2355.000000  2369.500000  2349.000000  2361.300049  2561534   \n",
       "2023-06-16  2363.750000  2380.000000  2352.250000  2366.800049  1794542   \n",
       "2023-06-19  2379.000000  2419.899902  2361.000000  2366.350098  3111256   \n",
       "2023-06-20  2364.949951  2389.649902  2354.449951  2382.000000  1771306   \n",
       "2023-06-21  2382.000000  2412.000000  2382.000000  2394.449951  1607299   \n",
       "2023-06-22  2394.600098  2424.000000  2380.000000  2416.250000  1741775   \n",
       "2023-06-23  2418.949951  2427.000000  2383.250000  2389.550049  1212955   \n",
       "2023-06-26  2398.100098  2403.850098  2367.949951  2377.550049   793572   \n",
       "2023-06-27  2387.449951  2396.949951  2371.550049  2388.050049  1012317   \n",
       "2023-06-30  2420.000000  2483.500000  2415.050049  2475.550049  2690469   \n",
       "\n",
       "                   ds  \n",
       "Date                   \n",
       "2023-06-15 2023-06-15  \n",
       "2023-06-16 2023-06-16  \n",
       "2023-06-19 2023-06-19  \n",
       "2023-06-20 2023-06-20  \n",
       "2023-06-21 2023-06-21  \n",
       "2023-06-22 2023-06-22  \n",
       "2023-06-23 2023-06-23  \n",
       "2023-06-26 2023-06-26  \n",
       "2023-06-27 2023-06-27  \n",
       "2023-06-30 2023-06-30  "
      ]
     },
     "execution_count": 4,
     "metadata": {},
     "output_type": "execute_result"
    }
   ],
   "source": [
    "#renaming variables\n",
    "data = data.rename(columns = {'Close': 'y',\n",
    "                     'Data': 'ds'})\n",
    "data.tail(10)"
   ]
  },
  {
   "cell_type": "markdown",
   "metadata": {
    "id": "rbI03M5DQnf7"
   },
   "source": [
    "#Holidays"
   ]
  },
  {
   "cell_type": "code",
   "execution_count": 5,
   "metadata": {
    "colab": {
     "base_uri": "https://localhost:8080/",
     "height": 110
    },
    "executionInfo": {
     "elapsed": 900,
     "status": "ok",
     "timestamp": 1621008697487,
     "user": {
      "displayName": "Diogo Resende",
      "photoUrl": "https://lh3.googleusercontent.com/a-/AOh14GgH4DE06-yE1oiIzCiaAURCl1Escr4LXXiaSnbSaA=s64",
      "userId": "05706604408624562002"
     },
     "user_tz": -120
    },
    "id": "-iN1u_ZbQo_R",
    "outputId": "d90092f1-2873-4863-87cb-a967ca8aba9f"
   },
   "outputs": [],
   "source": [
    "#Easter\n",
    "#easter_dates = df[df.Easter == 1].ds\n",
    "#easter = pd.DataFrame({'holiday': 'easter',\n",
    "#                      'ds': pd.to_datetime(easter_dates),\n",
    "#                      'lower_window': -5,\n",
    "#                      'upper_window': 2})\n",
    "#easter.head(2)"
   ]
  },
  {
   "cell_type": "code",
   "execution_count": 6,
   "metadata": {
    "colab": {
     "base_uri": "https://localhost:8080/",
     "height": 110
    },
    "executionInfo": {
     "elapsed": 807,
     "status": "ok",
     "timestamp": 1621008701180,
     "user": {
      "displayName": "Diogo Resende",
      "photoUrl": "https://lh3.googleusercontent.com/a-/AOh14GgH4DE06-yE1oiIzCiaAURCl1Escr4LXXiaSnbSaA=s64",
      "userId": "05706604408624562002"
     },
     "user_tz": -120
    },
    "id": "PhOrTqnKRcFB",
    "outputId": "9ea09216-88c5-45e1-9de3-98ab6f27514c"
   },
   "outputs": [],
   "source": [
    "#Thanksgiving\n",
    "#thanksgiving_dates = df[df.Thanksgiving == 1].ds\n",
    "#thanksgiving = pd.DataFrame({'holiday': 'thanksgiving',\n",
    " #                      'ds': pd.to_datetime(thanksgiving_dates),\n",
    "  #                     'lower_window': -5,\n",
    "   #                    'upper_window': 2})\n",
    "#thanksgiving.head(2)"
   ]
  },
  {
   "cell_type": "code",
   "execution_count": 7,
   "metadata": {
    "colab": {
     "base_uri": "https://localhost:8080/",
     "height": 478
    },
    "executionInfo": {
     "elapsed": 735,
     "status": "ok",
     "timestamp": 1621008705120,
     "user": {
      "displayName": "Diogo Resende",
      "photoUrl": "https://lh3.googleusercontent.com/a-/AOh14GgH4DE06-yE1oiIzCiaAURCl1Escr4LXXiaSnbSaA=s64",
      "userId": "05706604408624562002"
     },
     "user_tz": -120
    },
    "id": "cmcQZKjgRp06",
    "outputId": "ae9ef015-e043-4654-d9a5-7d5a61f71a03"
   },
   "outputs": [],
   "source": [
    "#combining holidays\n",
    "#holidays = pd.concat([easter, thanksgiving])\n",
    "#holidays"
   ]
  },
  {
   "cell_type": "code",
   "execution_count": 8,
   "metadata": {
    "executionInfo": {
     "elapsed": 789,
     "status": "ok",
     "timestamp": 1621008765383,
     "user": {
      "displayName": "Diogo Resende",
      "photoUrl": "https://lh3.googleusercontent.com/a-/AOh14GgH4DE06-yE1oiIzCiaAURCl1Escr4LXXiaSnbSaA=s64",
      "userId": "05706604408624562002"
     },
     "user_tz": -120
    },
    "id": "-ReDePNYpfSD"
   },
   "outputs": [],
   "source": [
    "#create training and test set\n",
    "test_days = 2000\n",
    "training_set = data.iloc[:-test_days,:]\n",
    "test_set = data.iloc[-test_days:,:]"
   ]
  },
  {
   "cell_type": "code",
   "execution_count": 9,
   "metadata": {},
   "outputs": [
    {
     "data": {
      "text/html": [
       "<div>\n",
       "<style scoped>\n",
       "    .dataframe tbody tr th:only-of-type {\n",
       "        vertical-align: middle;\n",
       "    }\n",
       "\n",
       "    .dataframe tbody tr th {\n",
       "        vertical-align: top;\n",
       "    }\n",
       "\n",
       "    .dataframe thead th {\n",
       "        text-align: right;\n",
       "    }\n",
       "</style>\n",
       "<table border=\"1\" class=\"dataframe\">\n",
       "  <thead>\n",
       "    <tr style=\"text-align: right;\">\n",
       "      <th></th>\n",
       "      <th>Open</th>\n",
       "      <th>High</th>\n",
       "      <th>Low</th>\n",
       "      <th>y</th>\n",
       "      <th>Volume</th>\n",
       "      <th>ds</th>\n",
       "    </tr>\n",
       "    <tr>\n",
       "      <th>Date</th>\n",
       "      <th></th>\n",
       "      <th></th>\n",
       "      <th></th>\n",
       "      <th></th>\n",
       "      <th></th>\n",
       "      <th></th>\n",
       "    </tr>\n",
       "  </thead>\n",
       "  <tbody>\n",
       "    <tr>\n",
       "      <th>2015-05-26</th>\n",
       "      <td>950.466451</td>\n",
       "      <td>950.466451</td>\n",
       "      <td>934.090175</td>\n",
       "      <td>939.839294</td>\n",
       "      <td>2059530</td>\n",
       "      <td>2015-05-26</td>\n",
       "    </tr>\n",
       "  </tbody>\n",
       "</table>\n",
       "</div>"
      ],
      "text/plain": [
       "                  Open        High         Low           y   Volume         ds\n",
       "Date                                                                          \n",
       "2015-05-26  950.466451  950.466451  934.090175  939.839294  2059530 2015-05-26"
      ]
     },
     "execution_count": 9,
     "metadata": {},
     "output_type": "execute_result"
    }
   ],
   "source": [
    " training_set.tail(1)\n",
    "#test_set.tail(1)"
   ]
  },
  {
   "cell_type": "markdown",
   "metadata": {
    "id": "eOzPNoRySOA5"
   },
   "source": [
    "#Prophet"
   ]
  },
  {
   "cell_type": "code",
   "execution_count": 10,
   "metadata": {
    "colab": {
     "base_uri": "https://localhost:8080/"
    },
    "executionInfo": {
     "elapsed": 8952,
     "status": "ok",
     "timestamp": 1621008811464,
     "user": {
      "displayName": "Diogo Resende",
      "photoUrl": "https://lh3.googleusercontent.com/a-/AOh14GgH4DE06-yE1oiIzCiaAURCl1Escr4LXXiaSnbSaA=s64",
      "userId": "05706604408624562002"
     },
     "user_tz": -120
    },
    "id": "Ai7zk9f7SPVK",
    "outputId": "8bcef281-3d36-49f1-9c8b-c875beeb5658"
   },
   "outputs": [
    {
     "name": "stderr",
     "output_type": "stream",
     "text": [
      "17:12:37 - cmdstanpy - INFO - Chain [1] start processing\n",
      "17:12:44 - cmdstanpy - INFO - Chain [1] done processing\n"
     ]
    },
    {
     "data": {
      "text/plain": [
       "<prophet.forecaster.Prophet at 0x7fbfcbd89b50>"
      ]
     },
     "execution_count": 10,
     "metadata": {},
     "output_type": "execute_result"
    }
   ],
   "source": [
    "m = Prophet(\n",
    "            #holidays = holidays,\n",
    "            seasonality_mode = 'multiplicative',\n",
    "            seasonality_prior_scale = 20,\n",
    "            changepoint_prior_scale = 0.1,\n",
    "           # holidays_prior_scale = 10\n",
    "           )\n",
    "#m.add_regressor('Christmas')\n",
    "m.fit(training_set)\n"
   ]
  },
  {
   "cell_type": "code",
   "execution_count": 11,
   "metadata": {},
   "outputs": [
    {
     "name": "stderr",
     "output_type": "stream",
     "text": [
      "17:12:44 - cmdstanpy - INFO - Chain [1] start processing\n",
      "17:12:49 - cmdstanpy - INFO - Chain [1] done processing\n"
     ]
    },
    {
     "data": {
      "text/plain": [
       "<prophet.forecaster.Prophet at 0x7fbfcbe64d00>"
      ]
     },
     "execution_count": 11,
     "metadata": {},
     "output_type": "execute_result"
    }
   ],
   "source": [
    "mFullData = Prophet(\n",
    "            #holidays = holidays,\n",
    "            seasonality_mode = 'multiplicative',\n",
    "            seasonality_prior_scale = 20,\n",
    "            changepoint_prior_scale = 0.1,\n",
    "           # holidays_prior_scale = 10\n",
    "           )\n",
    "#m.add_regressor('Christmas')\n",
    "mFullData.fit(data)"
   ]
  },
  {
   "cell_type": "code",
   "execution_count": 12,
   "metadata": {},
   "outputs": [],
   "source": [
    "\n",
    "# Save the trained model to a file\n",
    "with open('./TrainedModel/prophet/{}prophet_model_2.pkl'.format(stock_name), 'wb') as f:\n",
    "    pickle.dump(mFullData, f)"
   ]
  },
  {
   "cell_type": "code",
   "execution_count": 24,
   "metadata": {
    "executionInfo": {
     "elapsed": 761,
     "status": "ok",
     "timestamp": 1621009466455,
     "user": {
      "displayName": "Diogo Resende",
      "photoUrl": "https://lh3.googleusercontent.com/a-/AOh14GgH4DE06-yE1oiIzCiaAURCl1Escr4LXXiaSnbSaA=s64",
      "userId": "05706604408624562002"
     },
     "user_tz": -120
    },
    "id": "vuYkMgKqsNiD"
   },
   "outputs": [],
   "source": [
    "#create future df\n",
    "future = m.make_future_dataframe(periods = test_days,\n",
    "                                 freq = \"B\")\n",
    "\n",
    "#create future df\n",
    "future_full = mFullData.make_future_dataframe(periods = 0,\n",
    "                                 freq = \"B\")"
   ]
  },
  {
   "cell_type": "code",
   "execution_count": 25,
   "metadata": {},
   "outputs": [
    {
     "data": {
      "text/html": [
       "<div>\n",
       "<style scoped>\n",
       "    .dataframe tbody tr th:only-of-type {\n",
       "        vertical-align: middle;\n",
       "    }\n",
       "\n",
       "    .dataframe tbody tr th {\n",
       "        vertical-align: top;\n",
       "    }\n",
       "\n",
       "    .dataframe thead th {\n",
       "        text-align: right;\n",
       "    }\n",
       "</style>\n",
       "<table border=\"1\" class=\"dataframe\">\n",
       "  <thead>\n",
       "    <tr style=\"text-align: right;\">\n",
       "      <th></th>\n",
       "      <th>ds</th>\n",
       "    </tr>\n",
       "  </thead>\n",
       "  <tbody>\n",
       "    <tr>\n",
       "      <th>5218</th>\n",
       "      <td>2023-06-30</td>\n",
       "    </tr>\n",
       "  </tbody>\n",
       "</table>\n",
       "</div>"
      ],
      "text/plain": [
       "             ds\n",
       "5218 2023-06-30"
      ]
     },
     "execution_count": 25,
     "metadata": {},
     "output_type": "execute_result"
    }
   ],
   "source": [
    "future_full.tail(1)"
   ]
  },
  {
   "cell_type": "code",
   "execution_count": 26,
   "metadata": {
    "executionInfo": {
     "elapsed": 938,
     "status": "ok",
     "timestamp": 1621009506406,
     "user": {
      "displayName": "Diogo Resende",
      "photoUrl": "https://lh3.googleusercontent.com/a-/AOh14GgH4DE06-yE1oiIzCiaAURCl1Escr4LXXiaSnbSaA=s64",
      "userId": "05706604408624562002"
     },
     "user_tz": -120
    },
    "id": "8-cqw_0isYEP"
   },
   "outputs": [],
   "source": [
    "future = pd.concat([future], axis = 1)\n",
    "future_full = pd.concat([future_full], axis = 1)\n",
    "\n",
    " "
   ]
  },
  {
   "cell_type": "code",
   "execution_count": 27,
   "metadata": {},
   "outputs": [
    {
     "data": {
      "text/html": [
       "<div>\n",
       "<style scoped>\n",
       "    .dataframe tbody tr th:only-of-type {\n",
       "        vertical-align: middle;\n",
       "    }\n",
       "\n",
       "    .dataframe tbody tr th {\n",
       "        vertical-align: top;\n",
       "    }\n",
       "\n",
       "    .dataframe thead th {\n",
       "        text-align: right;\n",
       "    }\n",
       "</style>\n",
       "<table border=\"1\" class=\"dataframe\">\n",
       "  <thead>\n",
       "    <tr style=\"text-align: right;\">\n",
       "      <th></th>\n",
       "      <th>ds</th>\n",
       "    </tr>\n",
       "  </thead>\n",
       "  <tbody>\n",
       "    <tr>\n",
       "      <th>0</th>\n",
       "      <td>2002-07-01</td>\n",
       "    </tr>\n",
       "    <tr>\n",
       "      <th>1</th>\n",
       "      <td>2002-07-02</td>\n",
       "    </tr>\n",
       "    <tr>\n",
       "      <th>2</th>\n",
       "      <td>2002-07-03</td>\n",
       "    </tr>\n",
       "    <tr>\n",
       "      <th>3</th>\n",
       "      <td>2002-07-04</td>\n",
       "    </tr>\n",
       "    <tr>\n",
       "      <th>4</th>\n",
       "      <td>2002-07-05</td>\n",
       "    </tr>\n",
       "    <tr>\n",
       "      <th>...</th>\n",
       "      <td>...</td>\n",
       "    </tr>\n",
       "    <tr>\n",
       "      <th>5214</th>\n",
       "      <td>2023-06-22</td>\n",
       "    </tr>\n",
       "    <tr>\n",
       "      <th>5215</th>\n",
       "      <td>2023-06-23</td>\n",
       "    </tr>\n",
       "    <tr>\n",
       "      <th>5216</th>\n",
       "      <td>2023-06-26</td>\n",
       "    </tr>\n",
       "    <tr>\n",
       "      <th>5217</th>\n",
       "      <td>2023-06-27</td>\n",
       "    </tr>\n",
       "    <tr>\n",
       "      <th>5218</th>\n",
       "      <td>2023-06-30</td>\n",
       "    </tr>\n",
       "  </tbody>\n",
       "</table>\n",
       "<p>5219 rows × 1 columns</p>\n",
       "</div>"
      ],
      "text/plain": [
       "             ds\n",
       "0    2002-07-01\n",
       "1    2002-07-02\n",
       "2    2002-07-03\n",
       "3    2002-07-04\n",
       "4    2002-07-05\n",
       "...         ...\n",
       "5214 2023-06-22\n",
       "5215 2023-06-23\n",
       "5216 2023-06-26\n",
       "5217 2023-06-27\n",
       "5218 2023-06-30\n",
       "\n",
       "[5219 rows x 1 columns]"
      ]
     },
     "execution_count": 27,
     "metadata": {},
     "output_type": "execute_result"
    }
   ],
   "source": [
    "future_full"
   ]
  },
  {
   "cell_type": "code",
   "execution_count": 28,
   "metadata": {
    "colab": {
     "base_uri": "https://localhost:8080/",
     "height": 309
    },
    "executionInfo": {
     "elapsed": 5052,
     "status": "ok",
     "timestamp": 1621009541010,
     "user": {
      "displayName": "Diogo Resende",
      "photoUrl": "https://lh3.googleusercontent.com/a-/AOh14GgH4DE06-yE1oiIzCiaAURCl1Escr4LXXiaSnbSaA=s64",
      "userId": "05706604408624562002"
     },
     "user_tz": -120
    },
    "id": "NaKE6JkDshxm",
    "outputId": "4c7aac39-520e-4944-a77b-e1d903925a7d"
   },
   "outputs": [
    {
     "data": {
      "text/html": [
       "<div>\n",
       "<style scoped>\n",
       "    .dataframe tbody tr th:only-of-type {\n",
       "        vertical-align: middle;\n",
       "    }\n",
       "\n",
       "    .dataframe tbody tr th {\n",
       "        vertical-align: top;\n",
       "    }\n",
       "\n",
       "    .dataframe thead th {\n",
       "        text-align: right;\n",
       "    }\n",
       "</style>\n",
       "<table border=\"1\" class=\"dataframe\">\n",
       "  <thead>\n",
       "    <tr style=\"text-align: right;\">\n",
       "      <th></th>\n",
       "      <th>ds</th>\n",
       "      <th>trend</th>\n",
       "      <th>yhat_lower</th>\n",
       "      <th>yhat_upper</th>\n",
       "      <th>trend_lower</th>\n",
       "      <th>trend_upper</th>\n",
       "      <th>multiplicative_terms</th>\n",
       "      <th>multiplicative_terms_lower</th>\n",
       "      <th>multiplicative_terms_upper</th>\n",
       "      <th>weekly</th>\n",
       "      <th>weekly_lower</th>\n",
       "      <th>weekly_upper</th>\n",
       "      <th>yearly</th>\n",
       "      <th>yearly_lower</th>\n",
       "      <th>yearly_upper</th>\n",
       "      <th>additive_terms</th>\n",
       "      <th>additive_terms_lower</th>\n",
       "      <th>additive_terms_upper</th>\n",
       "      <th>yhat</th>\n",
       "    </tr>\n",
       "  </thead>\n",
       "  <tbody>\n",
       "    <tr>\n",
       "      <th>5214</th>\n",
       "      <td>2023-06-22</td>\n",
       "      <td>1602.998768</td>\n",
       "      <td>1900.068086</td>\n",
       "      <td>2221.901538</td>\n",
       "      <td>1602.998768</td>\n",
       "      <td>1602.998768</td>\n",
       "      <td>0.287040</td>\n",
       "      <td>0.287040</td>\n",
       "      <td>0.287040</td>\n",
       "      <td>0.301416</td>\n",
       "      <td>0.301416</td>\n",
       "      <td>0.301416</td>\n",
       "      <td>-0.014376</td>\n",
       "      <td>-0.014376</td>\n",
       "      <td>-0.014376</td>\n",
       "      <td>0.0</td>\n",
       "      <td>0.0</td>\n",
       "      <td>0.0</td>\n",
       "      <td>2063.123441</td>\n",
       "    </tr>\n",
       "    <tr>\n",
       "      <th>5215</th>\n",
       "      <td>2023-06-23</td>\n",
       "      <td>1603.557307</td>\n",
       "      <td>1902.506365</td>\n",
       "      <td>2213.634046</td>\n",
       "      <td>1603.557307</td>\n",
       "      <td>1603.557307</td>\n",
       "      <td>0.284266</td>\n",
       "      <td>0.284266</td>\n",
       "      <td>0.284266</td>\n",
       "      <td>0.301576</td>\n",
       "      <td>0.301576</td>\n",
       "      <td>0.301576</td>\n",
       "      <td>-0.017310</td>\n",
       "      <td>-0.017310</td>\n",
       "      <td>-0.017310</td>\n",
       "      <td>0.0</td>\n",
       "      <td>0.0</td>\n",
       "      <td>0.0</td>\n",
       "      <td>2059.393563</td>\n",
       "    </tr>\n",
       "    <tr>\n",
       "      <th>5216</th>\n",
       "      <td>2023-06-26</td>\n",
       "      <td>1605.232922</td>\n",
       "      <td>1862.832475</td>\n",
       "      <td>2197.425073</td>\n",
       "      <td>1605.232922</td>\n",
       "      <td>1605.232922</td>\n",
       "      <td>0.273729</td>\n",
       "      <td>0.273729</td>\n",
       "      <td>0.273729</td>\n",
       "      <td>0.299639</td>\n",
       "      <td>0.299639</td>\n",
       "      <td>0.299639</td>\n",
       "      <td>-0.025910</td>\n",
       "      <td>-0.025910</td>\n",
       "      <td>-0.025910</td>\n",
       "      <td>0.0</td>\n",
       "      <td>0.0</td>\n",
       "      <td>0.0</td>\n",
       "      <td>2044.632101</td>\n",
       "    </tr>\n",
       "    <tr>\n",
       "      <th>5217</th>\n",
       "      <td>2023-06-27</td>\n",
       "      <td>1605.791461</td>\n",
       "      <td>1882.406846</td>\n",
       "      <td>2190.925001</td>\n",
       "      <td>1605.791461</td>\n",
       "      <td>1605.791461</td>\n",
       "      <td>0.272197</td>\n",
       "      <td>0.272197</td>\n",
       "      <td>0.272197</td>\n",
       "      <td>0.300756</td>\n",
       "      <td>0.300756</td>\n",
       "      <td>0.300756</td>\n",
       "      <td>-0.028559</td>\n",
       "      <td>-0.028559</td>\n",
       "      <td>-0.028559</td>\n",
       "      <td>0.0</td>\n",
       "      <td>0.0</td>\n",
       "      <td>0.0</td>\n",
       "      <td>2042.882961</td>\n",
       "    </tr>\n",
       "    <tr>\n",
       "      <th>5218</th>\n",
       "      <td>2023-06-30</td>\n",
       "      <td>1607.467076</td>\n",
       "      <td>1872.110542</td>\n",
       "      <td>2184.179084</td>\n",
       "      <td>1607.467076</td>\n",
       "      <td>1607.467076</td>\n",
       "      <td>0.266271</td>\n",
       "      <td>0.266271</td>\n",
       "      <td>0.266271</td>\n",
       "      <td>0.301576</td>\n",
       "      <td>0.301576</td>\n",
       "      <td>0.301576</td>\n",
       "      <td>-0.035305</td>\n",
       "      <td>-0.035305</td>\n",
       "      <td>-0.035305</td>\n",
       "      <td>0.0</td>\n",
       "      <td>0.0</td>\n",
       "      <td>0.0</td>\n",
       "      <td>2035.489454</td>\n",
       "    </tr>\n",
       "  </tbody>\n",
       "</table>\n",
       "</div>"
      ],
      "text/plain": [
       "             ds        trend   yhat_lower   yhat_upper  trend_lower  \\\n",
       "5214 2023-06-22  1602.998768  1900.068086  2221.901538  1602.998768   \n",
       "5215 2023-06-23  1603.557307  1902.506365  2213.634046  1603.557307   \n",
       "5216 2023-06-26  1605.232922  1862.832475  2197.425073  1605.232922   \n",
       "5217 2023-06-27  1605.791461  1882.406846  2190.925001  1605.791461   \n",
       "5218 2023-06-30  1607.467076  1872.110542  2184.179084  1607.467076   \n",
       "\n",
       "      trend_upper  multiplicative_terms  multiplicative_terms_lower  \\\n",
       "5214  1602.998768              0.287040                    0.287040   \n",
       "5215  1603.557307              0.284266                    0.284266   \n",
       "5216  1605.232922              0.273729                    0.273729   \n",
       "5217  1605.791461              0.272197                    0.272197   \n",
       "5218  1607.467076              0.266271                    0.266271   \n",
       "\n",
       "      multiplicative_terms_upper    weekly  weekly_lower  weekly_upper  \\\n",
       "5214                    0.287040  0.301416      0.301416      0.301416   \n",
       "5215                    0.284266  0.301576      0.301576      0.301576   \n",
       "5216                    0.273729  0.299639      0.299639      0.299639   \n",
       "5217                    0.272197  0.300756      0.300756      0.300756   \n",
       "5218                    0.266271  0.301576      0.301576      0.301576   \n",
       "\n",
       "        yearly  yearly_lower  yearly_upper  additive_terms  \\\n",
       "5214 -0.014376     -0.014376     -0.014376             0.0   \n",
       "5215 -0.017310     -0.017310     -0.017310             0.0   \n",
       "5216 -0.025910     -0.025910     -0.025910             0.0   \n",
       "5217 -0.028559     -0.028559     -0.028559             0.0   \n",
       "5218 -0.035305     -0.035305     -0.035305             0.0   \n",
       "\n",
       "      additive_terms_lower  additive_terms_upper         yhat  \n",
       "5214                   0.0                   0.0  2063.123441  \n",
       "5215                   0.0                   0.0  2059.393563  \n",
       "5216                   0.0                   0.0  2044.632101  \n",
       "5217                   0.0                   0.0  2042.882961  \n",
       "5218                   0.0                   0.0  2035.489454  "
      ]
     },
     "execution_count": 28,
     "metadata": {},
     "output_type": "execute_result"
    }
   ],
   "source": [
    "#forecast\n",
    "forecast = m.predict(future)\n",
    "forecast.tail()\n",
    "#forecast full data\n",
    "forecast_full = mFullData.predict(future_full)\n",
    "forecast_full.tail()"
   ]
  },
  {
   "cell_type": "code",
   "execution_count": 29,
   "metadata": {},
   "outputs": [
    {
     "data": {
      "text/html": [
       "<div>\n",
       "<style scoped>\n",
       "    .dataframe tbody tr th:only-of-type {\n",
       "        vertical-align: middle;\n",
       "    }\n",
       "\n",
       "    .dataframe tbody tr th {\n",
       "        vertical-align: top;\n",
       "    }\n",
       "\n",
       "    .dataframe thead th {\n",
       "        text-align: right;\n",
       "    }\n",
       "</style>\n",
       "<table border=\"1\" class=\"dataframe\">\n",
       "  <thead>\n",
       "    <tr style=\"text-align: right;\">\n",
       "      <th></th>\n",
       "      <th>index</th>\n",
       "      <th>Date</th>\n",
       "      <th>Open</th>\n",
       "      <th>High</th>\n",
       "      <th>Low</th>\n",
       "      <th>y</th>\n",
       "      <th>Volume</th>\n",
       "      <th>ds</th>\n",
       "    </tr>\n",
       "  </thead>\n",
       "  <tbody>\n",
       "    <tr>\n",
       "      <th>0</th>\n",
       "      <td>0</td>\n",
       "      <td>2002-07-01</td>\n",
       "      <td>30.711183</td>\n",
       "      <td>31.180785</td>\n",
       "      <td>30.711183</td>\n",
       "      <td>30.959595</td>\n",
       "      <td>3709080</td>\n",
       "      <td>2002-07-01</td>\n",
       "    </tr>\n",
       "    <tr>\n",
       "      <th>1</th>\n",
       "      <td>1</td>\n",
       "      <td>2002-07-02</td>\n",
       "      <td>31.051471</td>\n",
       "      <td>31.340720</td>\n",
       "      <td>30.966399</td>\n",
       "      <td>31.034458</td>\n",
       "      <td>2500024</td>\n",
       "      <td>2002-07-02</td>\n",
       "    </tr>\n",
       "    <tr>\n",
       "      <th>2</th>\n",
       "      <td>2</td>\n",
       "      <td>2002-07-03</td>\n",
       "      <td>31.153555</td>\n",
       "      <td>31.204597</td>\n",
       "      <td>30.643119</td>\n",
       "      <td>30.687359</td>\n",
       "      <td>1910772</td>\n",
       "      <td>2002-07-03</td>\n",
       "    </tr>\n",
       "    <tr>\n",
       "      <th>3</th>\n",
       "      <td>3</td>\n",
       "      <td>2002-07-04</td>\n",
       "      <td>30.813268</td>\n",
       "      <td>30.915353</td>\n",
       "      <td>30.500200</td>\n",
       "      <td>30.568256</td>\n",
       "      <td>1515924</td>\n",
       "      <td>2002-07-04</td>\n",
       "    </tr>\n",
       "    <tr>\n",
       "      <th>4</th>\n",
       "      <td>4</td>\n",
       "      <td>2002-07-05</td>\n",
       "      <td>30.472977</td>\n",
       "      <td>30.796253</td>\n",
       "      <td>30.472977</td>\n",
       "      <td>30.643122</td>\n",
       "      <td>1038928</td>\n",
       "      <td>2002-07-05</td>\n",
       "    </tr>\n",
       "    <tr>\n",
       "      <th>...</th>\n",
       "      <td>...</td>\n",
       "      <td>...</td>\n",
       "      <td>...</td>\n",
       "      <td>...</td>\n",
       "      <td>...</td>\n",
       "      <td>...</td>\n",
       "      <td>...</td>\n",
       "      <td>...</td>\n",
       "    </tr>\n",
       "    <tr>\n",
       "      <th>5214</th>\n",
       "      <td>5214</td>\n",
       "      <td>2023-06-22</td>\n",
       "      <td>2394.600098</td>\n",
       "      <td>2424.000000</td>\n",
       "      <td>2380.000000</td>\n",
       "      <td>2416.250000</td>\n",
       "      <td>1741775</td>\n",
       "      <td>2023-06-22</td>\n",
       "    </tr>\n",
       "    <tr>\n",
       "      <th>5215</th>\n",
       "      <td>5215</td>\n",
       "      <td>2023-06-23</td>\n",
       "      <td>2418.949951</td>\n",
       "      <td>2427.000000</td>\n",
       "      <td>2383.250000</td>\n",
       "      <td>2389.550049</td>\n",
       "      <td>1212955</td>\n",
       "      <td>2023-06-23</td>\n",
       "    </tr>\n",
       "    <tr>\n",
       "      <th>5216</th>\n",
       "      <td>5216</td>\n",
       "      <td>2023-06-26</td>\n",
       "      <td>2398.100098</td>\n",
       "      <td>2403.850098</td>\n",
       "      <td>2367.949951</td>\n",
       "      <td>2377.550049</td>\n",
       "      <td>793572</td>\n",
       "      <td>2023-06-26</td>\n",
       "    </tr>\n",
       "    <tr>\n",
       "      <th>5217</th>\n",
       "      <td>5217</td>\n",
       "      <td>2023-06-27</td>\n",
       "      <td>2387.449951</td>\n",
       "      <td>2396.949951</td>\n",
       "      <td>2371.550049</td>\n",
       "      <td>2388.050049</td>\n",
       "      <td>1012317</td>\n",
       "      <td>2023-06-27</td>\n",
       "    </tr>\n",
       "    <tr>\n",
       "      <th>5218</th>\n",
       "      <td>5218</td>\n",
       "      <td>2023-06-30</td>\n",
       "      <td>2420.000000</td>\n",
       "      <td>2483.500000</td>\n",
       "      <td>2415.050049</td>\n",
       "      <td>2475.550049</td>\n",
       "      <td>2690469</td>\n",
       "      <td>2023-06-30</td>\n",
       "    </tr>\n",
       "  </tbody>\n",
       "</table>\n",
       "<p>5219 rows × 8 columns</p>\n",
       "</div>"
      ],
      "text/plain": [
       "      index       Date         Open         High          Low            y  \\\n",
       "0         0 2002-07-01    30.711183    31.180785    30.711183    30.959595   \n",
       "1         1 2002-07-02    31.051471    31.340720    30.966399    31.034458   \n",
       "2         2 2002-07-03    31.153555    31.204597    30.643119    30.687359   \n",
       "3         3 2002-07-04    30.813268    30.915353    30.500200    30.568256   \n",
       "4         4 2002-07-05    30.472977    30.796253    30.472977    30.643122   \n",
       "...     ...        ...          ...          ...          ...          ...   \n",
       "5214   5214 2023-06-22  2394.600098  2424.000000  2380.000000  2416.250000   \n",
       "5215   5215 2023-06-23  2418.949951  2427.000000  2383.250000  2389.550049   \n",
       "5216   5216 2023-06-26  2398.100098  2403.850098  2367.949951  2377.550049   \n",
       "5217   5217 2023-06-27  2387.449951  2396.949951  2371.550049  2388.050049   \n",
       "5218   5218 2023-06-30  2420.000000  2483.500000  2415.050049  2475.550049   \n",
       "\n",
       "       Volume         ds  \n",
       "0     3709080 2002-07-01  \n",
       "1     2500024 2002-07-02  \n",
       "2     1910772 2002-07-03  \n",
       "3     1515924 2002-07-04  \n",
       "4     1038928 2002-07-05  \n",
       "...       ...        ...  \n",
       "5214  1741775 2023-06-22  \n",
       "5215  1212955 2023-06-23  \n",
       "5216   793572 2023-06-26  \n",
       "5217  1012317 2023-06-27  \n",
       "5218  2690469 2023-06-30  \n",
       "\n",
       "[5219 rows x 8 columns]"
      ]
     },
     "execution_count": 29,
     "metadata": {},
     "output_type": "execute_result"
    }
   ],
   "source": [
    "data = data.reset_index(level=None, drop=False, inplace=False, col_level=0, col_fill='')\n",
    "data"
   ]
  },
  {
   "cell_type": "code",
   "execution_count": 30,
   "metadata": {
    "colab": {
     "base_uri": "https://localhost:8080/",
     "height": 79
    },
    "executionInfo": {
     "elapsed": 789,
     "status": "ok",
     "timestamp": 1621009743333,
     "user": {
      "displayName": "Diogo Resende",
      "photoUrl": "https://lh3.googleusercontent.com/a-/AOh14GgH4DE06-yE1oiIzCiaAURCl1Escr4LXXiaSnbSaA=s64",
      "userId": "05706604408624562002"
     },
     "user_tz": -120
    },
    "id": "cHnEk0cMsrfG",
    "outputId": "0e18baad-9e68-4f94-bc48-c6509130f361"
   },
   "outputs": [
    {
     "data": {
      "text/html": [
       "<div>\n",
       "<style scoped>\n",
       "    .dataframe tbody tr th:only-of-type {\n",
       "        vertical-align: middle;\n",
       "    }\n",
       "\n",
       "    .dataframe tbody tr th {\n",
       "        vertical-align: top;\n",
       "    }\n",
       "\n",
       "    .dataframe thead th {\n",
       "        text-align: right;\n",
       "    }\n",
       "</style>\n",
       "<table border=\"1\" class=\"dataframe\">\n",
       "  <thead>\n",
       "    <tr style=\"text-align: right;\">\n",
       "      <th></th>\n",
       "      <th>index</th>\n",
       "      <th>Date</th>\n",
       "      <th>Open</th>\n",
       "      <th>High</th>\n",
       "      <th>Low</th>\n",
       "      <th>y</th>\n",
       "      <th>Volume</th>\n",
       "      <th>ds</th>\n",
       "      <th>trend</th>\n",
       "      <th>weekly</th>\n",
       "      <th>multiplicative_terms</th>\n",
       "    </tr>\n",
       "  </thead>\n",
       "  <tbody>\n",
       "    <tr>\n",
       "      <th>5218</th>\n",
       "      <td>5218</td>\n",
       "      <td>2023-06-30</td>\n",
       "      <td>2420.0</td>\n",
       "      <td>2483.5</td>\n",
       "      <td>2415.050049</td>\n",
       "      <td>2475.550049</td>\n",
       "      <td>2690469</td>\n",
       "      <td>2023-06-30</td>\n",
       "      <td>1607.467076</td>\n",
       "      <td>0.301576</td>\n",
       "      <td>0.266271</td>\n",
       "    </tr>\n",
       "  </tbody>\n",
       "</table>\n",
       "</div>"
      ],
      "text/plain": [
       "      index       Date    Open    High          Low            y   Volume  \\\n",
       "5218   5218 2023-06-30  2420.0  2483.5  2415.050049  2475.550049  2690469   \n",
       "\n",
       "             ds        trend    weekly  multiplicative_terms  \n",
       "5218 2023-06-30  1607.467076  0.301576              0.266271  "
      ]
     },
     "execution_count": 30,
     "metadata": {},
     "output_type": "execute_result"
    }
   ],
   "source": [
    "#get some variables\n",
    "prophet_variables = forecast.loc[:, [\"trend\", \"weekly\",  \"multiplicative_terms\"]]\n",
    "df_xgb = pd.concat([data, prophet_variables], axis = 1)\n",
    "df_xgb.tail(1)\n",
    "prophet_variables_full = forecast_full.loc[:, [\"trend\", \"weekly\",  \"multiplicative_terms\"]]\n",
    "df_xgb_full = pd.concat([data, prophet_variables_full], axis = 1)\n",
    "#df_xgb_full.tail(1)\n",
    "df_xgb_full.tail(1)\n"
   ]
  },
  {
   "cell_type": "markdown",
   "metadata": {
    "id": "lNUb5oO-tir_"
   },
   "source": [
    "#XGBoost preparation"
   ]
  },
  {
   "cell_type": "code",
   "execution_count": 31,
   "metadata": {
    "executionInfo": {
     "elapsed": 444,
     "status": "ok",
     "timestamp": 1621009798336,
     "user": {
      "displayName": "Diogo Resende",
      "photoUrl": "https://lh3.googleusercontent.com/a-/AOh14GgH4DE06-yE1oiIzCiaAURCl1Escr4LXXiaSnbSaA=s64",
      "userId": "05706604408624562002"
     },
     "user_tz": -120
    },
    "id": "YCd0qohrtkae"
   },
   "outputs": [],
   "source": [
    "#create training and test set\n",
    "test_days = 100\n",
    "training_set = df_xgb.iloc[:-test_days,:]\n",
    "test_set = df_xgb.iloc[-test_days:,:]"
   ]
  },
  {
   "cell_type": "code",
   "execution_count": 53,
   "metadata": {
    "executionInfo": {
     "elapsed": 801,
     "status": "ok",
     "timestamp": 1621009908956,
     "user": {
      "displayName": "Diogo Resende",
      "photoUrl": "https://lh3.googleusercontent.com/a-/AOh14GgH4DE06-yE1oiIzCiaAURCl1Escr4LXXiaSnbSaA=s64",
      "userId": "05706604408624562002"
     },
     "user_tz": -120
    },
    "id": "Hy7FFj2UtpKo"
   },
   "outputs": [],
   "source": [
    "#isolate X and y\n",
    "y_train = training_set.y\n",
    "y_test = test_set.y \n",
    "X_train = training_set.iloc[:, 2:]\n",
    "X_test = test_set.iloc[:, 2:]\n",
    "#full data \n",
    "y_train_full = df_xgb_full.y\n",
    "x_train_full = df_xgb_full.iloc[:, 2:]\n"
   ]
  },
  {
   "cell_type": "code",
   "execution_count": 56,
   "metadata": {},
   "outputs": [
    {
     "ename": "KeyError",
     "evalue": "\"['ds'] not found in axis\"",
     "output_type": "error",
     "traceback": [
      "\u001b[0;31m---------------------------------------------------------------------------\u001b[0m",
      "\u001b[0;31mKeyError\u001b[0m                                  Traceback (most recent call last)",
      "Cell \u001b[0;32mIn[56], line 2\u001b[0m\n\u001b[1;32m      1\u001b[0m x_train_full \u001b[38;5;241m=\u001b[39m x_train_full\u001b[38;5;241m.\u001b[39mdrop(columns\u001b[38;5;241m=\u001b[39m[\u001b[38;5;124m\"\u001b[39m\u001b[38;5;124mds\u001b[39m\u001b[38;5;124m\"\u001b[39m])\n\u001b[0;32m----> 2\u001b[0m X_train \u001b[38;5;241m=\u001b[39m \u001b[43mX_train\u001b[49m\u001b[38;5;241;43m.\u001b[39;49m\u001b[43mdrop\u001b[49m\u001b[43m(\u001b[49m\u001b[43mcolumns\u001b[49m\u001b[38;5;241;43m=\u001b[39;49m\u001b[43m[\u001b[49m\u001b[38;5;124;43m\"\u001b[39;49m\u001b[38;5;124;43mds\u001b[39;49m\u001b[38;5;124;43m\"\u001b[39;49m\u001b[43m]\u001b[49m\u001b[43m)\u001b[49m\n\u001b[1;32m      3\u001b[0m X_test \u001b[38;5;241m=\u001b[39m X_test\u001b[38;5;241m.\u001b[39mdrop(columns\u001b[38;5;241m=\u001b[39m[\u001b[38;5;124m\"\u001b[39m\u001b[38;5;124mds\u001b[39m\u001b[38;5;124m\"\u001b[39m])\n",
      "File \u001b[0;32m~/opt/anaconda3/envs/my_own/lib/python3.9/site-packages/pandas/core/frame.py:5258\u001b[0m, in \u001b[0;36mDataFrame.drop\u001b[0;34m(self, labels, axis, index, columns, level, inplace, errors)\u001b[0m\n\u001b[1;32m   5110\u001b[0m \u001b[38;5;28;01mdef\u001b[39;00m \u001b[38;5;21mdrop\u001b[39m(\n\u001b[1;32m   5111\u001b[0m     \u001b[38;5;28mself\u001b[39m,\n\u001b[1;32m   5112\u001b[0m     labels: IndexLabel \u001b[38;5;241m=\u001b[39m \u001b[38;5;28;01mNone\u001b[39;00m,\n\u001b[0;32m   (...)\u001b[0m\n\u001b[1;32m   5119\u001b[0m     errors: IgnoreRaise \u001b[38;5;241m=\u001b[39m \u001b[38;5;124m\"\u001b[39m\u001b[38;5;124mraise\u001b[39m\u001b[38;5;124m\"\u001b[39m,\n\u001b[1;32m   5120\u001b[0m ) \u001b[38;5;241m-\u001b[39m\u001b[38;5;241m>\u001b[39m DataFrame \u001b[38;5;241m|\u001b[39m \u001b[38;5;28;01mNone\u001b[39;00m:\n\u001b[1;32m   5121\u001b[0m \u001b[38;5;250m    \u001b[39m\u001b[38;5;124;03m\"\"\"\u001b[39;00m\n\u001b[1;32m   5122\u001b[0m \u001b[38;5;124;03m    Drop specified labels from rows or columns.\u001b[39;00m\n\u001b[1;32m   5123\u001b[0m \n\u001b[0;32m   (...)\u001b[0m\n\u001b[1;32m   5256\u001b[0m \u001b[38;5;124;03m            weight  1.0     0.8\u001b[39;00m\n\u001b[1;32m   5257\u001b[0m \u001b[38;5;124;03m    \"\"\"\u001b[39;00m\n\u001b[0;32m-> 5258\u001b[0m     \u001b[38;5;28;01mreturn\u001b[39;00m \u001b[38;5;28;43msuper\u001b[39;49m\u001b[43m(\u001b[49m\u001b[43m)\u001b[49m\u001b[38;5;241;43m.\u001b[39;49m\u001b[43mdrop\u001b[49m\u001b[43m(\u001b[49m\n\u001b[1;32m   5259\u001b[0m \u001b[43m        \u001b[49m\u001b[43mlabels\u001b[49m\u001b[38;5;241;43m=\u001b[39;49m\u001b[43mlabels\u001b[49m\u001b[43m,\u001b[49m\n\u001b[1;32m   5260\u001b[0m \u001b[43m        \u001b[49m\u001b[43maxis\u001b[49m\u001b[38;5;241;43m=\u001b[39;49m\u001b[43maxis\u001b[49m\u001b[43m,\u001b[49m\n\u001b[1;32m   5261\u001b[0m \u001b[43m        \u001b[49m\u001b[43mindex\u001b[49m\u001b[38;5;241;43m=\u001b[39;49m\u001b[43mindex\u001b[49m\u001b[43m,\u001b[49m\n\u001b[1;32m   5262\u001b[0m \u001b[43m        \u001b[49m\u001b[43mcolumns\u001b[49m\u001b[38;5;241;43m=\u001b[39;49m\u001b[43mcolumns\u001b[49m\u001b[43m,\u001b[49m\n\u001b[1;32m   5263\u001b[0m \u001b[43m        \u001b[49m\u001b[43mlevel\u001b[49m\u001b[38;5;241;43m=\u001b[39;49m\u001b[43mlevel\u001b[49m\u001b[43m,\u001b[49m\n\u001b[1;32m   5264\u001b[0m \u001b[43m        \u001b[49m\u001b[43minplace\u001b[49m\u001b[38;5;241;43m=\u001b[39;49m\u001b[43minplace\u001b[49m\u001b[43m,\u001b[49m\n\u001b[1;32m   5265\u001b[0m \u001b[43m        \u001b[49m\u001b[43merrors\u001b[49m\u001b[38;5;241;43m=\u001b[39;49m\u001b[43merrors\u001b[49m\u001b[43m,\u001b[49m\n\u001b[1;32m   5266\u001b[0m \u001b[43m    \u001b[49m\u001b[43m)\u001b[49m\n",
      "File \u001b[0;32m~/opt/anaconda3/envs/my_own/lib/python3.9/site-packages/pandas/core/generic.py:4549\u001b[0m, in \u001b[0;36mNDFrame.drop\u001b[0;34m(self, labels, axis, index, columns, level, inplace, errors)\u001b[0m\n\u001b[1;32m   4547\u001b[0m \u001b[38;5;28;01mfor\u001b[39;00m axis, labels \u001b[38;5;129;01min\u001b[39;00m axes\u001b[38;5;241m.\u001b[39mitems():\n\u001b[1;32m   4548\u001b[0m     \u001b[38;5;28;01mif\u001b[39;00m labels \u001b[38;5;129;01mis\u001b[39;00m \u001b[38;5;129;01mnot\u001b[39;00m \u001b[38;5;28;01mNone\u001b[39;00m:\n\u001b[0;32m-> 4549\u001b[0m         obj \u001b[38;5;241m=\u001b[39m \u001b[43mobj\u001b[49m\u001b[38;5;241;43m.\u001b[39;49m\u001b[43m_drop_axis\u001b[49m\u001b[43m(\u001b[49m\u001b[43mlabels\u001b[49m\u001b[43m,\u001b[49m\u001b[43m \u001b[49m\u001b[43maxis\u001b[49m\u001b[43m,\u001b[49m\u001b[43m \u001b[49m\u001b[43mlevel\u001b[49m\u001b[38;5;241;43m=\u001b[39;49m\u001b[43mlevel\u001b[49m\u001b[43m,\u001b[49m\u001b[43m \u001b[49m\u001b[43merrors\u001b[49m\u001b[38;5;241;43m=\u001b[39;49m\u001b[43merrors\u001b[49m\u001b[43m)\u001b[49m\n\u001b[1;32m   4551\u001b[0m \u001b[38;5;28;01mif\u001b[39;00m inplace:\n\u001b[1;32m   4552\u001b[0m     \u001b[38;5;28mself\u001b[39m\u001b[38;5;241m.\u001b[39m_update_inplace(obj)\n",
      "File \u001b[0;32m~/opt/anaconda3/envs/my_own/lib/python3.9/site-packages/pandas/core/generic.py:4591\u001b[0m, in \u001b[0;36mNDFrame._drop_axis\u001b[0;34m(self, labels, axis, level, errors, only_slice)\u001b[0m\n\u001b[1;32m   4589\u001b[0m         new_axis \u001b[38;5;241m=\u001b[39m axis\u001b[38;5;241m.\u001b[39mdrop(labels, level\u001b[38;5;241m=\u001b[39mlevel, errors\u001b[38;5;241m=\u001b[39merrors)\n\u001b[1;32m   4590\u001b[0m     \u001b[38;5;28;01melse\u001b[39;00m:\n\u001b[0;32m-> 4591\u001b[0m         new_axis \u001b[38;5;241m=\u001b[39m \u001b[43maxis\u001b[49m\u001b[38;5;241;43m.\u001b[39;49m\u001b[43mdrop\u001b[49m\u001b[43m(\u001b[49m\u001b[43mlabels\u001b[49m\u001b[43m,\u001b[49m\u001b[43m \u001b[49m\u001b[43merrors\u001b[49m\u001b[38;5;241;43m=\u001b[39;49m\u001b[43merrors\u001b[49m\u001b[43m)\u001b[49m\n\u001b[1;32m   4592\u001b[0m     indexer \u001b[38;5;241m=\u001b[39m axis\u001b[38;5;241m.\u001b[39mget_indexer(new_axis)\n\u001b[1;32m   4594\u001b[0m \u001b[38;5;66;03m# Case for non-unique axis\u001b[39;00m\n\u001b[1;32m   4595\u001b[0m \u001b[38;5;28;01melse\u001b[39;00m:\n",
      "File \u001b[0;32m~/opt/anaconda3/envs/my_own/lib/python3.9/site-packages/pandas/core/indexes/base.py:6696\u001b[0m, in \u001b[0;36mIndex.drop\u001b[0;34m(self, labels, errors)\u001b[0m\n\u001b[1;32m   6694\u001b[0m \u001b[38;5;28;01mif\u001b[39;00m mask\u001b[38;5;241m.\u001b[39many():\n\u001b[1;32m   6695\u001b[0m     \u001b[38;5;28;01mif\u001b[39;00m errors \u001b[38;5;241m!=\u001b[39m \u001b[38;5;124m\"\u001b[39m\u001b[38;5;124mignore\u001b[39m\u001b[38;5;124m\"\u001b[39m:\n\u001b[0;32m-> 6696\u001b[0m         \u001b[38;5;28;01mraise\u001b[39;00m \u001b[38;5;167;01mKeyError\u001b[39;00m(\u001b[38;5;124mf\u001b[39m\u001b[38;5;124m\"\u001b[39m\u001b[38;5;132;01m{\u001b[39;00m\u001b[38;5;28mlist\u001b[39m(labels[mask])\u001b[38;5;132;01m}\u001b[39;00m\u001b[38;5;124m not found in axis\u001b[39m\u001b[38;5;124m\"\u001b[39m)\n\u001b[1;32m   6697\u001b[0m     indexer \u001b[38;5;241m=\u001b[39m indexer[\u001b[38;5;241m~\u001b[39mmask]\n\u001b[1;32m   6698\u001b[0m \u001b[38;5;28;01mreturn\u001b[39;00m \u001b[38;5;28mself\u001b[39m\u001b[38;5;241m.\u001b[39mdelete(indexer)\n",
      "\u001b[0;31mKeyError\u001b[0m: \"['ds'] not found in axis\""
     ]
    }
   ],
   "source": [
    "x_train_full = x_train_full.drop(columns=[\"ds\"])\n",
    "X_train = X_train.drop(columns=[\"ds\"])\n",
    "X_test = X_test.drop(columns=[\"ds\"])\n",
    "#x_train_full = x_train_full.drop(columns=[\"ds\"])"
   ]
  },
  {
   "cell_type": "code",
   "execution_count": 46,
   "metadata": {
    "executionInfo": {
     "elapsed": 810,
     "status": "ok",
     "timestamp": 1621009964124,
     "user": {
      "displayName": "Diogo Resende",
      "photoUrl": "https://lh3.googleusercontent.com/a-/AOh14GgH4DE06-yE1oiIzCiaAURCl1Escr4LXXiaSnbSaA=s64",
      "userId": "05706604408624562002"
     },
     "user_tz": -120
    },
    "id": "N4DVh8ykuEzD"
   },
   "outputs": [],
   "source": [
    "#Matrices\n",
    "import xgboost as xgb\n",
    "Train = xgb.DMatrix(X_train, label = y_train)\n",
    "Test = xgb.DMatrix(X_test, label = y_test)"
   ]
  },
  {
   "cell_type": "code",
   "execution_count": 58,
   "metadata": {},
   "outputs": [],
   "source": [
    "#Matrices FULL DATA\n",
    "Train_full = xgb.DMatrix(x_train_full, label = y_train_full)\n"
   ]
  },
  {
   "cell_type": "code",
   "execution_count": 59,
   "metadata": {
    "executionInfo": {
     "elapsed": 755,
     "status": "ok",
     "timestamp": 1621010148513,
     "user": {
      "displayName": "Diogo Resende",
      "photoUrl": "https://lh3.googleusercontent.com/a-/AOh14GgH4DE06-yE1oiIzCiaAURCl1Escr4LXXiaSnbSaA=s64",
      "userId": "05706604408624562002"
     },
     "user_tz": -120
    },
    "id": "jMsbDX7huRjC"
   },
   "outputs": [],
   "source": [
    "#set the parameters\n",
    "parameters = {'learning_rate': 0.3,\n",
    "              'max_depth': 6,\n",
    "              'colsample_bytree': 1,\n",
    "              'subsample': 1,\n",
    "              'min_child_weight' : 1,\n",
    "              'gamma': 0,\n",
    "              'random_state': 1502,\n",
    "              'eval_metric': \"rmse\",\n",
    "              'objective': \"reg:squarederror\"}"
   ]
  },
  {
   "cell_type": "markdown",
   "metadata": {
    "id": "r_NPjTwvvAFw"
   },
   "source": [
    "#XGBoost"
   ]
  },
  {
   "cell_type": "code",
   "execution_count": 36,
   "metadata": {
    "colab": {
     "base_uri": "https://localhost:8080/"
    },
    "executionInfo": {
     "elapsed": 1270,
     "status": "ok",
     "timestamp": 1621010214611,
     "user": {
      "displayName": "Diogo Resende",
      "photoUrl": "https://lh3.googleusercontent.com/a-/AOh14GgH4DE06-yE1oiIzCiaAURCl1Escr4LXXiaSnbSaA=s64",
      "userId": "05706604408624562002"
     },
     "user_tz": -120
    },
    "id": "tbfqPArxu-lW",
    "outputId": "b813ebd1-a6fc-477b-9c35-86f6f2484af1"
   },
   "outputs": [
    {
     "name": "stdout",
     "output_type": "stream",
     "text": [
      "[0]\ty-rmse:1668.05514\n",
      "[1]\ty-rmse:1246.32480\n",
      "[2]\ty-rmse:927.36977\n",
      "[3]\ty-rmse:694.71970\n",
      "[4]\ty-rmse:522.26617\n",
      "[5]\ty-rmse:395.50700\n",
      "[6]\ty-rmse:310.54585\n",
      "[7]\ty-rmse:244.12195\n",
      "[8]\ty-rmse:195.46420\n",
      "[9]\ty-rmse:159.50553\n",
      "[10]\ty-rmse:136.43747\n",
      "[11]\ty-rmse:116.38773\n",
      "[12]\ty-rmse:101.89592\n",
      "[13]\ty-rmse:91.21236\n",
      "[14]\ty-rmse:83.32850\n",
      "[15]\ty-rmse:77.16417\n",
      "[16]\ty-rmse:72.30213\n",
      "[17]\ty-rmse:68.75701\n",
      "[18]\ty-rmse:65.56022\n",
      "[19]\ty-rmse:63.02276\n",
      "[20]\ty-rmse:61.03028\n",
      "[21]\ty-rmse:60.86885\n",
      "[22]\ty-rmse:59.33540\n",
      "[23]\ty-rmse:58.94215\n",
      "[24]\ty-rmse:57.96924\n",
      "[25]\ty-rmse:57.93085\n",
      "[26]\ty-rmse:57.88789\n",
      "[27]\ty-rmse:57.12010\n",
      "[28]\ty-rmse:56.88008\n",
      "[29]\ty-rmse:56.86753\n",
      "[30]\ty-rmse:56.83039\n",
      "[31]\ty-rmse:56.23099\n",
      "[32]\ty-rmse:56.14043\n",
      "[33]\ty-rmse:56.09959\n",
      "[34]\ty-rmse:56.09384\n",
      "[35]\ty-rmse:55.59942\n",
      "[36]\ty-rmse:55.18070\n",
      "[37]\ty-rmse:55.21513\n",
      "[38]\ty-rmse:55.20476\n",
      "[39]\ty-rmse:54.85375\n"
     ]
    }
   ],
   "source": [
    "model = xgb.train(params = parameters,\n",
    "                  dtrain = Train,\n",
    "                  num_boost_round = 40,\n",
    "                  evals = [(Test, \"y\")])"
   ]
  },
  {
   "cell_type": "code",
   "execution_count": 61,
   "metadata": {},
   "outputs": [
    {
     "name": "stdout",
     "output_type": "stream",
     "text": [
      "[0]\ty-rmse:1596.73475\n",
      "[1]\ty-rmse:1133.05514\n",
      "[2]\ty-rmse:803.13947\n",
      "[3]\ty-rmse:571.15815\n",
      "[4]\ty-rmse:406.90252\n",
      "[5]\ty-rmse:290.14213\n",
      "[6]\ty-rmse:208.57922\n",
      "[7]\ty-rmse:148.99581\n",
      "[8]\ty-rmse:106.47658\n",
      "[9]\ty-rmse:76.86734\n",
      "[10]\ty-rmse:55.65378\n",
      "[11]\ty-rmse:40.57601\n",
      "[12]\ty-rmse:30.20651\n",
      "[13]\ty-rmse:22.94605\n",
      "[14]\ty-rmse:20.63111\n",
      "[15]\ty-rmse:17.77038\n",
      "[16]\ty-rmse:17.27330\n",
      "[17]\ty-rmse:16.72810\n",
      "[18]\ty-rmse:16.18778\n",
      "[19]\ty-rmse:19.10234\n",
      "[20]\ty-rmse:20.80400\n",
      "[21]\ty-rmse:20.18981\n",
      "[22]\ty-rmse:18.66911\n",
      "[23]\ty-rmse:18.35916\n",
      "[24]\ty-rmse:18.06493\n",
      "[25]\ty-rmse:17.17612\n",
      "[26]\ty-rmse:20.38702\n",
      "[27]\ty-rmse:19.97485\n",
      "[28]\ty-rmse:19.77224\n",
      "[29]\ty-rmse:20.07630\n",
      "[30]\ty-rmse:20.04198\n",
      "[31]\ty-rmse:19.94121\n",
      "[32]\ty-rmse:19.70867\n",
      "[33]\ty-rmse:19.69589\n",
      "[34]\ty-rmse:22.79933\n",
      "[35]\ty-rmse:22.79956\n",
      "[36]\ty-rmse:22.75984\n",
      "[37]\ty-rmse:22.76039\n",
      "[38]\ty-rmse:22.76348\n",
      "[39]\ty-rmse:21.55643\n"
     ]
    }
   ],
   "source": [
    "#FULL\n",
    "model_full = xgb.train(params = parameters,\n",
    "                  dtrain = Train_full,\n",
    "                  num_boost_round = 40,\n",
    "                  evals = [(Test, \"y\")])"
   ]
  },
  {
   "cell_type": "code",
   "execution_count": 51,
   "metadata": {},
   "outputs": [
    {
     "data": {
      "text/plain": [
       "<xgboost.core.DMatrix at 0x7fbfaecd8c40>"
      ]
     },
     "execution_count": 51,
     "metadata": {},
     "output_type": "execute_result"
    }
   ],
   "source": [
    "Train_full"
   ]
  },
  {
   "cell_type": "code",
   "execution_count": 37,
   "metadata": {},
   "outputs": [],
   "source": [
    "#forecasting\n",
    "predictions = pd.Series(model.predict(Test), name = \"XGBoost\")\n",
    "predictions.index  =test_set.ds"
   ]
  },
  {
   "cell_type": "code",
   "execution_count": 62,
   "metadata": {},
   "outputs": [],
   "source": [
    "\n",
    "# Save the trained model to a file\n",
    "with open('./TrainedModel/prophet/{}_prophet_model_1.pkl'.format(stock_name), 'wb') as f:\n",
    "    pickle.dump(model_full, f)"
   ]
  },
  {
   "cell_type": "code",
   "execution_count": null,
   "metadata": {},
   "outputs": [],
   "source": [
    "#f_predictions = pd.Series(model.predict(Future), name = \"XGBoost\")\n",
    "#f_predictions"
   ]
  },
  {
   "cell_type": "code",
   "execution_count": null,
   "metadata": {},
   "outputs": [],
   "source": []
  },
  {
   "cell_type": "markdown",
   "metadata": {
    "id": "chgYCCqhvmiW"
   },
   "source": [
    "#VIZ and assessment"
   ]
  },
  {
   "cell_type": "code",
   "execution_count": 39,
   "metadata": {
    "executionInfo": {
     "elapsed": 752,
     "status": "ok",
     "timestamp": 1621010365844,
     "user": {
      "displayName": "Diogo Resende",
      "photoUrl": "https://lh3.googleusercontent.com/a-/AOh14GgH4DE06-yE1oiIzCiaAURCl1Escr4LXXiaSnbSaA=s64",
      "userId": "05706604408624562002"
     },
     "user_tz": -120
    },
    "id": "R8azMDH1vkxr"
   },
   "outputs": [],
   "source": [
    "#Visualization\n",
    "training_set.index = training_set.ds\n",
    "test_set.index = test_set.ds"
   ]
  },
  {
   "cell_type": "code",
   "execution_count": 40,
   "metadata": {},
   "outputs": [],
   "source": [
    "#forecasting\n",
    "predictions = pd.Series(model.predict(Test), name = \"XGBoost\")\n",
    "predictions.index  =test_set.ds"
   ]
  },
  {
   "cell_type": "code",
   "execution_count": 41,
   "metadata": {
    "colab": {
     "base_uri": "https://localhost:8080/",
     "height": 417
    },
    "executionInfo": {
     "elapsed": 1600,
     "status": "ok",
     "timestamp": 1621010431951,
     "user": {
      "displayName": "Diogo Resende",
      "photoUrl": "https://lh3.googleusercontent.com/a-/AOh14GgH4DE06-yE1oiIzCiaAURCl1Escr4LXXiaSnbSaA=s64",
      "userId": "05706604408624562002"
     },
     "user_tz": -120
    },
    "id": "KmUOTBaYvzQV",
    "outputId": "0ef89d8d-377d-43d6-fd82-62bf6f46c01e"
   },
   "outputs": [
    {
     "data": {
      "text/plain": [
       "<Axes: xlabel='ds'>"
      ]
     },
     "execution_count": 41,
     "metadata": {},
     "output_type": "execute_result"
    },
    {
     "data": {
      "image/png": "[encoded data removed]",
      "text/plain": [
       "<Figure size 900x600 with 1 Axes>"
      ]
     },
     "metadata": {},
     "output_type": "display_data"
    }
   ],
   "source": [
    "training_set.y['2020-01-01':].plot(figsize = (9,6), legend = True)\n",
    "test_set.y.plot(legend = True)\n",
    "predictions.plot(legend = True)"
   ]
  },
  {
   "cell_type": "code",
   "execution_count": null,
   "metadata": {
    "colab": {
     "base_uri": "https://localhost:8080/"
    },
    "executionInfo": {
     "elapsed": 972,
     "status": "ok",
     "timestamp": 1621010535824,
     "user": {
      "displayName": "Diogo Resende",
      "photoUrl": "https://lh3.googleusercontent.com/a-/AOh14GgH4DE06-yE1oiIzCiaAURCl1Escr4LXXiaSnbSaA=s64",
      "userId": "05706604408624562002"
     },
     "user_tz": -120
    },
    "id": "cWiOhRX-wJjT",
    "outputId": "8ae1a6f5-be12-4e69-e6ff-ccbacf38dca0"
   },
   "outputs": [],
   "source": [
    "#MAPE\n",
    "def MAPE(y_true, y_pred):\n",
    "  y_true, y_pred = np.array(y_true), np.array(y_pred)\n",
    "  return np.mean(np.abs((y_true - y_pred) / y_true)) * 100\n",
    "MAPE(test_set.y, predictions)"
   ]
  },
  {
   "cell_type": "markdown",
   "metadata": {},
   "source": [
    "#Future\n",
    "\n"
   ]
  },
  {
   "cell_type": "code",
   "execution_count": null,
   "metadata": {},
   "outputs": [],
   "source": [
    "# Create a dictionary with data\n",
    "data = {\n",
    "            'High': [4.123123],\n",
    "    'Low': [4.123123],\n",
    "    'y': [210.935516],\n",
    "    'Volume': [4.123123],\n",
    "        'trend': [8.12313],\n",
    "        'weekly': [4.123123],\n",
    "            'multiplicative_terms': [4.444],\n",
    "                \n",
    "\n",
    "                \n",
    "                }\n",
    "\n",
    "# Create a new DataFrame object\n",
    "df = pd.DataFrame(data)\n"
   ]
  },
  {
   "cell_type": "code",
   "execution_count": null,
   "metadata": {},
   "outputs": [],
   "source": [
    "Future = xgb.DMatrix(df, label = df.y)\n",
    "f_predictions = pd.Series(model.predict(Future), name = \"XGBoost\")\n",
    "f_predictions"
   ]
  }
 ],
 "metadata": {
  "colab": {
   "authorship_tag": "ABX9TyONf4Fw76cQlH82pdR3h9Fa",
   "mount_file_id": "182alF94XmFPfm3NMnYKs4Tu9b-3DTW7y",
   "name": "Facebook Prophet + XGBoost Challenge Template.ipynb",
   "provenance": []
  },
  "kernelspec": {
   "display_name": "Python 3 (ipykernel)",
   "language": "python",
   "name": "python3"
  },
  "language_info": {
   "codemirror_mode": {
    "name": "ipython",
    "version": 3
   },
   "file_extension": ".py",
   "mimetype": "text/x-python",
   "name": "python",
   "nbconvert_exporter": "python",
   "pygments_lexer": "ipython3",
   "version": "3.9.16"
  }
 },
 "nbformat": 4,
 "nbformat_minor": 1
}
