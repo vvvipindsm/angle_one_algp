{
 "cells": [
  {
   "cell_type": "code",
   "execution_count": 23,
   "id": "84060dda",
   "metadata": {},
   "outputs": [],
   "source": [
    "# Remove Future Warnings\n",
    "import warnings\n",
    "warnings.simplefilter(action='ignore', category=FutureWarning)\n",
    "\n",
    "# General\n",
    "import numpy as np\n",
    "from ta import add_all_ta_features\n",
    "\n",
    "# Data Management\n",
    "import pandas as pd\n",
    "from sklearn.model_selection import train_test_split\n",
    "\n",
    "# Machine Learning\n",
    "from xgboost import XGBClassifier\n",
    "from sklearn.model_selection import RandomizedSearchCV, cross_val_score\n",
    "from sklearn.model_selection import RepeatedStratifiedKFold\n",
    "\n",
    "# Binary Classification Specific Metrics\n",
    "#from sklearn.metrics import plot_roc_curve\n",
    "\n",
    "# General Metrics\n",
    "from sklearn.metrics import accuracy_score\n",
    "from sklearn.metrics import classification_report\n",
    "from sklearn.metrics import precision_score\n",
    "from sklearn.metrics import confusion_matrix\n",
    "from sklearn.metrics import ConfusionMatrixDisplay\n",
    "import statsmodels.graphics.tsaplots as sgt\n",
    "# Reporting\n",
    "import matplotlib.pyplot as plt\n",
    "from matplotlib.pylab import rcParams\n",
    "from xgboost import plot_tree\n",
    "from statsmodels.tsa.stattools import acf\n",
    "from ta.trend import MACD\n",
    "import yfinance"
   ]
  },
  {
   "cell_type": "markdown",
   "id": "81e31355",
   "metadata": {},
   "source": [
    "### Data Management"
   ]
  },
  {
   "cell_type": "code",
   "execution_count": 27,
   "id": "daa5675a",
   "metadata": {},
   "outputs": [
    {
     "name": "stdout",
     "output_type": "stream",
     "text": [
      "[*********************100%***********************]  1 of 1 completed\n"
     ]
    },
    {
     "data": {
      "text/html": [
       "<div>\n",
       "<style scoped>\n",
       "    .dataframe tbody tr th:only-of-type {\n",
       "        vertical-align: middle;\n",
       "    }\n",
       "\n",
       "    .dataframe tbody tr th {\n",
       "        vertical-align: top;\n",
       "    }\n",
       "\n",
       "    .dataframe thead th {\n",
       "        text-align: right;\n",
       "    }\n",
       "</style>\n",
       "<table border=\"1\" class=\"dataframe\">\n",
       "  <thead>\n",
       "    <tr style=\"text-align: right;\">\n",
       "      <th></th>\n",
       "      <th>Open</th>\n",
       "      <th>High</th>\n",
       "      <th>Low</th>\n",
       "      <th>Close</th>\n",
       "      <th>Volume</th>\n",
       "      <th>Returns</th>\n",
       "      <th>Range</th>\n",
       "      <th>Avg_Range</th>\n",
       "    </tr>\n",
       "    <tr>\n",
       "      <th>Date</th>\n",
       "      <th></th>\n",
       "      <th></th>\n",
       "      <th></th>\n",
       "      <th></th>\n",
       "      <th></th>\n",
       "      <th></th>\n",
       "      <th></th>\n",
       "      <th></th>\n",
       "    </tr>\n",
       "  </thead>\n",
       "  <tbody>\n",
       "    <tr>\n",
       "      <th>2023-07-28</th>\n",
       "      <td>854.250000</td>\n",
       "      <td>860.400024</td>\n",
       "      <td>842.000000</td>\n",
       "      <td>859.349976</td>\n",
       "      <td>2365708</td>\n",
       "      <td>0.010941</td>\n",
       "      <td>0.021853</td>\n",
       "      <td>0.019186</td>\n",
       "    </tr>\n",
       "    <tr>\n",
       "      <th>2023-07-31</th>\n",
       "      <td>859.349976</td>\n",
       "      <td>860.849976</td>\n",
       "      <td>852.500000</td>\n",
       "      <td>859.299988</td>\n",
       "      <td>1454789</td>\n",
       "      <td>-0.000058</td>\n",
       "      <td>0.009795</td>\n",
       "      <td>0.018793</td>\n",
       "    </tr>\n",
       "    <tr>\n",
       "      <th>2023-08-01</th>\n",
       "      <td>861.900024</td>\n",
       "      <td>863.299988</td>\n",
       "      <td>853.099976</td>\n",
       "      <td>856.750000</td>\n",
       "      <td>987812</td>\n",
       "      <td>-0.002968</td>\n",
       "      <td>0.011956</td>\n",
       "      <td>0.018600</td>\n",
       "    </tr>\n",
       "    <tr>\n",
       "      <th>2023-08-02</th>\n",
       "      <td>855.000000</td>\n",
       "      <td>855.000000</td>\n",
       "      <td>838.200012</td>\n",
       "      <td>843.049988</td>\n",
       "      <td>1604731</td>\n",
       "      <td>-0.015991</td>\n",
       "      <td>0.020043</td>\n",
       "      <td>0.018494</td>\n",
       "    </tr>\n",
       "    <tr>\n",
       "      <th>2023-08-03</th>\n",
       "      <td>840.000000</td>\n",
       "      <td>841.650024</td>\n",
       "      <td>832.549988</td>\n",
       "      <td>835.400024</td>\n",
       "      <td>1374979</td>\n",
       "      <td>-0.009074</td>\n",
       "      <td>0.010930</td>\n",
       "      <td>0.017914</td>\n",
       "    </tr>\n",
       "  </tbody>\n",
       "</table>\n",
       "</div>"
      ],
      "text/plain": [
       "                  Open        High         Low       Close   Volume   Returns  \\\n",
       "Date                                                                            \n",
       "2023-07-28  854.250000  860.400024  842.000000  859.349976  2365708  0.010941   \n",
       "2023-07-31  859.349976  860.849976  852.500000  859.299988  1454789 -0.000058   \n",
       "2023-08-01  861.900024  863.299988  853.099976  856.750000   987812 -0.002968   \n",
       "2023-08-02  855.000000  855.000000  838.200012  843.049988  1604731 -0.015991   \n",
       "2023-08-03  840.000000  841.650024  832.549988  835.400024  1374979 -0.009074   \n",
       "\n",
       "               Range  Avg_Range  \n",
       "Date                             \n",
       "2023-07-28  0.021853   0.019186  \n",
       "2023-07-31  0.009795   0.018793  \n",
       "2023-08-01  0.011956   0.018600  \n",
       "2023-08-02  0.020043   0.018494  \n",
       "2023-08-03  0.010930   0.017914  "
      ]
     },
     "execution_count": 27,
     "metadata": {},
     "output_type": "execute_result"
    }
   ],
   "source": [
    "# Data Extraction\n",
    "\n",
    "# Data Extraction\n",
    "symbol = \"TATACONSUM.NS\"\n",
    "\n",
    "#df = pd.read_csv(\"./stock_historical_data/{}.csv\".format(symbol))\n",
    "df = yfinance.download (tickers = \"{}\".format(symbol),start=\"2000-03-06\",\n",
    "                            interval = \"1d\", group_by = 'ticker', auto_adjust = True)\n",
    "\n",
    "\n",
    "\n",
    "df = df[[\"Open\", \"High\", \"Low\", \"Close\",\"Volume\"]]\n",
    "df[\"Returns\"] = df[\"Close\"].pct_change()\n",
    "df[\"Range\"] = df[\"High\"] / df[\"Low\"] - 1\n",
    "df[\"Avg_Range\"] = df[\"Range\"].rolling(window=30).mean()\n",
    "df.tail()"
   ]
  },
  {
   "cell_type": "code",
   "execution_count": 28,
   "id": "de5517be",
   "metadata": {},
   "outputs": [],
   "source": [
    "#adding nifty index\n",
    "#dfNifty = pd.read_csv(\"./stock_historical_data/{}.csv\".format(\"^NSEI\"))\n",
    "#dfNifty.set_index(\"Date\", inplace=True)\n"
   ]
  },
  {
   "cell_type": "code",
   "execution_count": 29,
   "id": "65c7d019",
   "metadata": {},
   "outputs": [
    {
     "name": "stderr",
     "output_type": "stream",
     "text": [
      "/Users/vipin/opt/anaconda3/envs/my_own/lib/python3.9/site-packages/ta/trend.py:780: RuntimeWarning: invalid value encountered in scalar divide\n",
      "  dip[idx] = 100 * (self._dip[idx] / value)\n",
      "/Users/vipin/opt/anaconda3/envs/my_own/lib/python3.9/site-packages/ta/trend.py:785: RuntimeWarning: invalid value encountered in scalar divide\n",
      "  din[idx] = 100 * (self._din[idx] / value)\n"
     ]
    },
    {
     "data": {
      "text/html": [
       "<div>\n",
       "<style scoped>\n",
       "    .dataframe tbody tr th:only-of-type {\n",
       "        vertical-align: middle;\n",
       "    }\n",
       "\n",
       "    .dataframe tbody tr th {\n",
       "        vertical-align: top;\n",
       "    }\n",
       "\n",
       "    .dataframe thead th {\n",
       "        text-align: right;\n",
       "    }\n",
       "</style>\n",
       "<table border=\"1\" class=\"dataframe\">\n",
       "  <thead>\n",
       "    <tr style=\"text-align: right;\">\n",
       "      <th></th>\n",
       "      <th>Open</th>\n",
       "      <th>High</th>\n",
       "      <th>Low</th>\n",
       "      <th>Close</th>\n",
       "      <th>Volume</th>\n",
       "      <th>Returns</th>\n",
       "      <th>Range</th>\n",
       "      <th>Avg_Range</th>\n",
       "      <th>volume_adi</th>\n",
       "      <th>volume_obv</th>\n",
       "      <th>...</th>\n",
       "      <th>momentum_ppo</th>\n",
       "      <th>momentum_ppo_signal</th>\n",
       "      <th>momentum_ppo_hist</th>\n",
       "      <th>momentum_pvo</th>\n",
       "      <th>momentum_pvo_signal</th>\n",
       "      <th>momentum_pvo_hist</th>\n",
       "      <th>momentum_kama</th>\n",
       "      <th>others_dr</th>\n",
       "      <th>others_dlr</th>\n",
       "      <th>others_cr</th>\n",
       "    </tr>\n",
       "    <tr>\n",
       "      <th>Date</th>\n",
       "      <th></th>\n",
       "      <th></th>\n",
       "      <th></th>\n",
       "      <th></th>\n",
       "      <th></th>\n",
       "      <th></th>\n",
       "      <th></th>\n",
       "      <th></th>\n",
       "      <th></th>\n",
       "      <th></th>\n",
       "      <th></th>\n",
       "      <th></th>\n",
       "      <th></th>\n",
       "      <th></th>\n",
       "      <th></th>\n",
       "      <th></th>\n",
       "      <th></th>\n",
       "      <th></th>\n",
       "      <th></th>\n",
       "      <th></th>\n",
       "      <th></th>\n",
       "    </tr>\n",
       "  </thead>\n",
       "  <tbody>\n",
       "    <tr>\n",
       "      <th>2000-04-14</th>\n",
       "      <td>21.458166</td>\n",
       "      <td>21.458166</td>\n",
       "      <td>21.458166</td>\n",
       "      <td>21.458166</td>\n",
       "      <td>0</td>\n",
       "      <td>0.000000</td>\n",
       "      <td>0.000000</td>\n",
       "      <td>0.059032</td>\n",
       "      <td>-1.320972e+06</td>\n",
       "      <td>-6711060</td>\n",
       "      <td>...</td>\n",
       "      <td>-3.828879</td>\n",
       "      <td>-3.589743</td>\n",
       "      <td>-0.239136</td>\n",
       "      <td>2.923967</td>\n",
       "      <td>9.222987</td>\n",
       "      <td>-6.299020</td>\n",
       "      <td>21.694149</td>\n",
       "      <td>0.000000</td>\n",
       "      <td>0.000000</td>\n",
       "      <td>-17.824914</td>\n",
       "    </tr>\n",
       "    <tr>\n",
       "      <th>2000-04-17</th>\n",
       "      <td>20.355819</td>\n",
       "      <td>22.923783</td>\n",
       "      <td>19.792120</td>\n",
       "      <td>21.780727</td>\n",
       "      <td>2360340</td>\n",
       "      <td>0.015032</td>\n",
       "      <td>0.158228</td>\n",
       "      <td>0.062463</td>\n",
       "      <td>-6.836782e+05</td>\n",
       "      <td>-4350720</td>\n",
       "      <td>...</td>\n",
       "      <td>-3.756459</td>\n",
       "      <td>-3.623086</td>\n",
       "      <td>-0.133373</td>\n",
       "      <td>14.012063</td>\n",
       "      <td>10.180802</td>\n",
       "      <td>3.831261</td>\n",
       "      <td>21.695661</td>\n",
       "      <td>1.503210</td>\n",
       "      <td>1.492024</td>\n",
       "      <td>-16.589650</td>\n",
       "    </tr>\n",
       "    <tr>\n",
       "      <th>2000-04-18</th>\n",
       "      <td>22.547988</td>\n",
       "      <td>23.174321</td>\n",
       "      <td>21.868418</td>\n",
       "      <td>22.676388</td>\n",
       "      <td>1372560</td>\n",
       "      <td>0.041122</td>\n",
       "      <td>0.059716</td>\n",
       "      <td>0.061454</td>\n",
       "      <td>-3.578167e+05</td>\n",
       "      <td>-2978160</td>\n",
       "      <td>...</td>\n",
       "      <td>-3.338820</td>\n",
       "      <td>-3.566233</td>\n",
       "      <td>0.227413</td>\n",
       "      <td>14.470666</td>\n",
       "      <td>11.038775</td>\n",
       "      <td>3.431891</td>\n",
       "      <td>21.752688</td>\n",
       "      <td>4.112169</td>\n",
       "      <td>4.029868</td>\n",
       "      <td>-13.159675</td>\n",
       "    </tr>\n",
       "    <tr>\n",
       "      <th>2000-04-19</th>\n",
       "      <td>22.861151</td>\n",
       "      <td>23.174317</td>\n",
       "      <td>21.921651</td>\n",
       "      <td>22.303715</td>\n",
       "      <td>1325680</td>\n",
       "      <td>-0.016434</td>\n",
       "      <td>0.057143</td>\n",
       "      <td>0.060966</td>\n",
       "      <td>-8.748311e+05</td>\n",
       "      <td>-4303840</td>\n",
       "      <td>...</td>\n",
       "      <td>-3.105907</td>\n",
       "      <td>-3.474168</td>\n",
       "      <td>0.368260</td>\n",
       "      <td>14.286776</td>\n",
       "      <td>11.688375</td>\n",
       "      <td>2.598401</td>\n",
       "      <td>21.785969</td>\n",
       "      <td>-1.643441</td>\n",
       "      <td>-1.657095</td>\n",
       "      <td>-14.586845</td>\n",
       "    </tr>\n",
       "    <tr>\n",
       "      <th>2000-04-20</th>\n",
       "      <td>21.671115</td>\n",
       "      <td>22.046916</td>\n",
       "      <td>21.608482</td>\n",
       "      <td>21.896595</td>\n",
       "      <td>1408250</td>\n",
       "      <td>-0.018253</td>\n",
       "      <td>0.020290</td>\n",
       "      <td>0.057517</td>\n",
       "      <td>-4.322439e+05</td>\n",
       "      <td>-5712090</td>\n",
       "      <td>...</td>\n",
       "      <td>-3.033481</td>\n",
       "      <td>-3.386030</td>\n",
       "      <td>0.352550</td>\n",
       "      <td>14.480662</td>\n",
       "      <td>12.246832</td>\n",
       "      <td>2.233829</td>\n",
       "      <td>21.789916</td>\n",
       "      <td>-1.825345</td>\n",
       "      <td>-1.842210</td>\n",
       "      <td>-16.145930</td>\n",
       "    </tr>\n",
       "  </tbody>\n",
       "</table>\n",
       "<p>5 rows × 94 columns</p>\n",
       "</div>"
      ],
      "text/plain": [
       "                 Open       High        Low      Close   Volume   Returns  \\\n",
       "Date                                                                        \n",
       "2000-04-14  21.458166  21.458166  21.458166  21.458166        0  0.000000   \n",
       "2000-04-17  20.355819  22.923783  19.792120  21.780727  2360340  0.015032   \n",
       "2000-04-18  22.547988  23.174321  21.868418  22.676388  1372560  0.041122   \n",
       "2000-04-19  22.861151  23.174317  21.921651  22.303715  1325680 -0.016434   \n",
       "2000-04-20  21.671115  22.046916  21.608482  21.896595  1408250 -0.018253   \n",
       "\n",
       "               Range  Avg_Range    volume_adi  volume_obv  ...  momentum_ppo  \\\n",
       "Date                                                       ...                 \n",
       "2000-04-14  0.000000   0.059032 -1.320972e+06    -6711060  ...     -3.828879   \n",
       "2000-04-17  0.158228   0.062463 -6.836782e+05    -4350720  ...     -3.756459   \n",
       "2000-04-18  0.059716   0.061454 -3.578167e+05    -2978160  ...     -3.338820   \n",
       "2000-04-19  0.057143   0.060966 -8.748311e+05    -4303840  ...     -3.105907   \n",
       "2000-04-20  0.020290   0.057517 -4.322439e+05    -5712090  ...     -3.033481   \n",
       "\n",
       "            momentum_ppo_signal  momentum_ppo_hist  momentum_pvo  \\\n",
       "Date                                                               \n",
       "2000-04-14            -3.589743          -0.239136      2.923967   \n",
       "2000-04-17            -3.623086          -0.133373     14.012063   \n",
       "2000-04-18            -3.566233           0.227413     14.470666   \n",
       "2000-04-19            -3.474168           0.368260     14.286776   \n",
       "2000-04-20            -3.386030           0.352550     14.480662   \n",
       "\n",
       "            momentum_pvo_signal  momentum_pvo_hist  momentum_kama  others_dr  \\\n",
       "Date                                                                           \n",
       "2000-04-14             9.222987          -6.299020      21.694149   0.000000   \n",
       "2000-04-17            10.180802           3.831261      21.695661   1.503210   \n",
       "2000-04-18            11.038775           3.431891      21.752688   4.112169   \n",
       "2000-04-19            11.688375           2.598401      21.785969  -1.643441   \n",
       "2000-04-20            12.246832           2.233829      21.789916  -1.825345   \n",
       "\n",
       "            others_dlr  others_cr  \n",
       "Date                               \n",
       "2000-04-14    0.000000 -17.824914  \n",
       "2000-04-17    1.492024 -16.589650  \n",
       "2000-04-18    4.029868 -13.159675  \n",
       "2000-04-19   -1.657095 -14.586845  \n",
       "2000-04-20   -1.842210 -16.145930  \n",
       "\n",
       "[5 rows x 94 columns]"
      ]
     },
     "execution_count": 29,
     "metadata": {},
     "output_type": "execute_result"
    }
   ],
   "source": [
    "df = add_all_ta_features(df, open=\"Open\", high=\"High\", low=\"Low\", close=\"Close\", volume=\"Volume\", fillna=True)\n",
    "df = df.dropna()\n",
    "df.head()"
   ]
  },
  {
   "cell_type": "code",
   "execution_count": 46,
   "id": "77f15919",
   "metadata": {},
   "outputs": [],
   "source": [
    "# Specify Target\n",
    "df.loc[df[\"Close\"].shift(-1) > df[\"Close\"], \"TARGET\"] = 1\n",
    "df.loc[df[\"Close\"].shift(-1) <= df[\"Close\"], \"TARGET\"] = 0"
   ]
  },
  {
   "cell_type": "code",
   "execution_count": 47,
   "id": "af090c92",
   "metadata": {},
   "outputs": [
    {
     "data": {
      "text/html": [
       "<div>\n",
       "<style scoped>\n",
       "    .dataframe tbody tr th:only-of-type {\n",
       "        vertical-align: middle;\n",
       "    }\n",
       "\n",
       "    .dataframe tbody tr th {\n",
       "        vertical-align: top;\n",
       "    }\n",
       "\n",
       "    .dataframe thead th {\n",
       "        text-align: right;\n",
       "    }\n",
       "</style>\n",
       "<table border=\"1\" class=\"dataframe\">\n",
       "  <thead>\n",
       "    <tr style=\"text-align: right;\">\n",
       "      <th></th>\n",
       "      <th>Open</th>\n",
       "      <th>High</th>\n",
       "      <th>Low</th>\n",
       "      <th>Close</th>\n",
       "      <th>Volume</th>\n",
       "      <th>Returns</th>\n",
       "      <th>Range</th>\n",
       "      <th>Avg_Range</th>\n",
       "      <th>volume_adi</th>\n",
       "      <th>volume_obv</th>\n",
       "      <th>...</th>\n",
       "      <th>momentum_ppo_signal</th>\n",
       "      <th>momentum_ppo_hist</th>\n",
       "      <th>momentum_pvo</th>\n",
       "      <th>momentum_pvo_signal</th>\n",
       "      <th>momentum_pvo_hist</th>\n",
       "      <th>momentum_kama</th>\n",
       "      <th>others_dr</th>\n",
       "      <th>others_dlr</th>\n",
       "      <th>others_cr</th>\n",
       "      <th>TARGET</th>\n",
       "    </tr>\n",
       "    <tr>\n",
       "      <th>Date</th>\n",
       "      <th></th>\n",
       "      <th></th>\n",
       "      <th></th>\n",
       "      <th></th>\n",
       "      <th></th>\n",
       "      <th></th>\n",
       "      <th></th>\n",
       "      <th></th>\n",
       "      <th></th>\n",
       "      <th></th>\n",
       "      <th></th>\n",
       "      <th></th>\n",
       "      <th></th>\n",
       "      <th></th>\n",
       "      <th></th>\n",
       "      <th></th>\n",
       "      <th></th>\n",
       "      <th></th>\n",
       "      <th></th>\n",
       "      <th></th>\n",
       "      <th></th>\n",
       "    </tr>\n",
       "  </thead>\n",
       "  <tbody>\n",
       "    <tr>\n",
       "      <th>2023-07-28</th>\n",
       "      <td>854.250000</td>\n",
       "      <td>860.400024</td>\n",
       "      <td>842.000000</td>\n",
       "      <td>859.349976</td>\n",
       "      <td>2365708</td>\n",
       "      <td>0.010941</td>\n",
       "      <td>0.021853</td>\n",
       "      <td>0.019186</td>\n",
       "      <td>-5.291164e+08</td>\n",
       "      <td>1800668583</td>\n",
       "      <td>...</td>\n",
       "      <td>1.103244</td>\n",
       "      <td>-0.122265</td>\n",
       "      <td>7.424660</td>\n",
       "      <td>-1.564023</td>\n",
       "      <td>8.988683</td>\n",
       "      <td>850.488485</td>\n",
       "      <td>1.094052</td>\n",
       "      <td>1.088110</td>\n",
       "      <td>3190.922324</td>\n",
       "      <td>0.0</td>\n",
       "    </tr>\n",
       "    <tr>\n",
       "      <th>2023-07-31</th>\n",
       "      <td>859.349976</td>\n",
       "      <td>860.849976</td>\n",
       "      <td>852.500000</td>\n",
       "      <td>859.299988</td>\n",
       "      <td>1454789</td>\n",
       "      <td>-0.000058</td>\n",
       "      <td>0.009795</td>\n",
       "      <td>0.018793</td>\n",
       "      <td>-5.282017e+08</td>\n",
       "      <td>1799213794</td>\n",
       "      <td>...</td>\n",
       "      <td>1.066462</td>\n",
       "      <td>-0.147129</td>\n",
       "      <td>5.406227</td>\n",
       "      <td>-0.169973</td>\n",
       "      <td>5.576200</td>\n",
       "      <td>850.588505</td>\n",
       "      <td>-0.005817</td>\n",
       "      <td>-0.005817</td>\n",
       "      <td>3190.730893</td>\n",
       "      <td>0.0</td>\n",
       "    </tr>\n",
       "    <tr>\n",
       "      <th>2023-08-01</th>\n",
       "      <td>861.900024</td>\n",
       "      <td>863.299988</td>\n",
       "      <td>853.099976</td>\n",
       "      <td>856.750000</td>\n",
       "      <td>987812</td>\n",
       "      <td>-0.002968</td>\n",
       "      <td>0.011956</td>\n",
       "      <td>0.018600</td>\n",
       "      <td>-5.284826e+08</td>\n",
       "      <td>1798225982</td>\n",
       "      <td>...</td>\n",
       "      <td>1.020533</td>\n",
       "      <td>-0.183715</td>\n",
       "      <td>1.471876</td>\n",
       "      <td>0.158397</td>\n",
       "      <td>1.313480</td>\n",
       "      <td>850.625242</td>\n",
       "      <td>-0.296752</td>\n",
       "      <td>-0.297193</td>\n",
       "      <td>3180.965591</td>\n",
       "      <td>0.0</td>\n",
       "    </tr>\n",
       "    <tr>\n",
       "      <th>2023-08-02</th>\n",
       "      <td>855.000000</td>\n",
       "      <td>855.000000</td>\n",
       "      <td>838.200012</td>\n",
       "      <td>843.049988</td>\n",
       "      <td>1604731</td>\n",
       "      <td>-0.015991</td>\n",
       "      <td>0.020043</td>\n",
       "      <td>0.018494</td>\n",
       "      <td>-5.291608e+08</td>\n",
       "      <td>1796621251</td>\n",
       "      <td>...</td>\n",
       "      <td>0.943431</td>\n",
       "      <td>-0.308407</td>\n",
       "      <td>1.352104</td>\n",
       "      <td>0.397138</td>\n",
       "      <td>0.954966</td>\n",
       "      <td>850.419319</td>\n",
       "      <td>-1.599068</td>\n",
       "      <td>-1.611991</td>\n",
       "      <td>3128.500731</td>\n",
       "      <td>0.0</td>\n",
       "    </tr>\n",
       "    <tr>\n",
       "      <th>2023-08-03</th>\n",
       "      <td>840.000000</td>\n",
       "      <td>841.650024</td>\n",
       "      <td>832.549988</td>\n",
       "      <td>835.400024</td>\n",
       "      <td>1374979</td>\n",
       "      <td>-0.009074</td>\n",
       "      <td>0.010930</td>\n",
       "      <td>0.017914</td>\n",
       "      <td>-5.296745e+08</td>\n",
       "      <td>1795246272</td>\n",
       "      <td>...</td>\n",
       "      <td>0.834342</td>\n",
       "      <td>-0.436356</td>\n",
       "      <td>0.088464</td>\n",
       "      <td>0.335404</td>\n",
       "      <td>-0.246939</td>\n",
       "      <td>849.130836</td>\n",
       "      <td>-0.907415</td>\n",
       "      <td>-0.911557</td>\n",
       "      <td>3099.204826</td>\n",
       "      <td>0.0</td>\n",
       "    </tr>\n",
       "  </tbody>\n",
       "</table>\n",
       "<p>5 rows × 95 columns</p>\n",
       "</div>"
      ],
      "text/plain": [
       "                  Open        High         Low       Close   Volume   Returns  \\\n",
       "Date                                                                            \n",
       "2023-07-28  854.250000  860.400024  842.000000  859.349976  2365708  0.010941   \n",
       "2023-07-31  859.349976  860.849976  852.500000  859.299988  1454789 -0.000058   \n",
       "2023-08-01  861.900024  863.299988  853.099976  856.750000   987812 -0.002968   \n",
       "2023-08-02  855.000000  855.000000  838.200012  843.049988  1604731 -0.015991   \n",
       "2023-08-03  840.000000  841.650024  832.549988  835.400024  1374979 -0.009074   \n",
       "\n",
       "               Range  Avg_Range    volume_adi  volume_obv  ...  \\\n",
       "Date                                                       ...   \n",
       "2023-07-28  0.021853   0.019186 -5.291164e+08  1800668583  ...   \n",
       "2023-07-31  0.009795   0.018793 -5.282017e+08  1799213794  ...   \n",
       "2023-08-01  0.011956   0.018600 -5.284826e+08  1798225982  ...   \n",
       "2023-08-02  0.020043   0.018494 -5.291608e+08  1796621251  ...   \n",
       "2023-08-03  0.010930   0.017914 -5.296745e+08  1795246272  ...   \n",
       "\n",
       "            momentum_ppo_signal  momentum_ppo_hist  momentum_pvo  \\\n",
       "Date                                                               \n",
       "2023-07-28             1.103244          -0.122265      7.424660   \n",
       "2023-07-31             1.066462          -0.147129      5.406227   \n",
       "2023-08-01             1.020533          -0.183715      1.471876   \n",
       "2023-08-02             0.943431          -0.308407      1.352104   \n",
       "2023-08-03             0.834342          -0.436356      0.088464   \n",
       "\n",
       "            momentum_pvo_signal  momentum_pvo_hist  momentum_kama  others_dr  \\\n",
       "Date                                                                           \n",
       "2023-07-28            -1.564023           8.988683     850.488485   1.094052   \n",
       "2023-07-31            -0.169973           5.576200     850.588505  -0.005817   \n",
       "2023-08-01             0.158397           1.313480     850.625242  -0.296752   \n",
       "2023-08-02             0.397138           0.954966     850.419319  -1.599068   \n",
       "2023-08-03             0.335404          -0.246939     849.130836  -0.907415   \n",
       "\n",
       "            others_dlr    others_cr  TARGET  \n",
       "Date                                         \n",
       "2023-07-28    1.088110  3190.922324     0.0  \n",
       "2023-07-31   -0.005817  3190.730893     0.0  \n",
       "2023-08-01   -0.297193  3180.965591     0.0  \n",
       "2023-08-02   -1.611991  3128.500731     0.0  \n",
       "2023-08-03   -0.911557  3099.204826     0.0  \n",
       "\n",
       "[5 rows x 95 columns]"
      ]
     },
     "execution_count": 47,
     "metadata": {},
     "output_type": "execute_result"
    }
   ],
   "source": [
    "# Fill NA\n",
    "df[\"TARGET\"].fillna(0, inplace=True)\n",
    "df.tail()"
   ]
  },
  {
   "cell_type": "markdown",
   "id": "655c84e8",
   "metadata": {},
   "source": [
    "### Train Test Split"
   ]
  },
  {
   "cell_type": "code",
   "execution_count": 48,
   "id": "74b15e25",
   "metadata": {},
   "outputs": [],
   "source": [
    "# Split into X and Y Data\n",
    "X = df.iloc[:, : -1]\n",
    "y = df.iloc[:, -1]"
   ]
  },
  {
   "cell_type": "code",
   "execution_count": 49,
   "id": "7764be22",
   "metadata": {},
   "outputs": [
    {
     "name": "stdout",
     "output_type": "stream",
     "text": [
      "Shape of X_train:  (4071, 94)\n",
      "Shape of y_train:  (4071,)\n",
      "Shape of X_test:  (1746, 94)\n",
      "Shape of y_test:  (1746,)\n",
      "Size Matches:  True\n"
     ]
    }
   ],
   "source": [
    "# Perform Train Test Split (Timeseries based method)\n",
    "train_size_rate = 0.7\n",
    "train_size = int(len(X) * train_size_rate)\n",
    "test_size = len(X) - train_size\n",
    "\n",
    "X_train = X.head(train_size)\n",
    "y_train = y.head(train_size)\n",
    "X_test = X.tail(test_size)\n",
    "y_test = y.tail(test_size)\n",
    "\n",
    "size_check = len(y_test) + len(y_train) == len(X)\n",
    "print(\"Shape of X_train: \", X_train.shape)\n",
    "print(\"Shape of y_train: \", y_train.shape)\n",
    "print(\"Shape of X_test: \", X_test.shape)\n",
    "print(\"Shape of y_test: \", y_test.shape)\n",
    "print(\"Size Matches: \", size_check)"
   ]
  },
  {
   "cell_type": "markdown",
   "id": "9f854033",
   "metadata": {},
   "source": [
    "### Build Model"
   ]
  },
  {
   "cell_type": "code",
   "execution_count": 50,
   "id": "ac98ab42",
   "metadata": {},
   "outputs": [],
   "source": [
    "# Select type of model to optimize for\n",
    "is_binary = True\n",
    "is_optimise_for_precision = True"
   ]
  },
  {
   "cell_type": "code",
   "execution_count": 51,
   "id": "798578ee",
   "metadata": {},
   "outputs": [],
   "source": [
    "# Determine Objective and Eval Metrics\n",
    "if is_binary:\n",
    "    objective = \"binary:logistic\"\n",
    "    eval_metric = \"logloss\"\n",
    "    eval_metric_list = [\"error\", \"logloss\", eval_metric]\n",
    "else:\n",
    "    objective = \"multi:softmax\"\n",
    "    eval_metric = \"mlogloss\"\n",
    "    eval_metric_list = [\"merror\", \"mlogloss\", eval_metric]"
   ]
  },
  {
   "cell_type": "code",
   "execution_count": 52,
   "id": "9bc99128",
   "metadata": {},
   "outputs": [],
   "source": [
    "# Refine Eval Metric\n",
    "if is_binary and is_optimise_for_precision:\n",
    "    eval_metric = \"aucpr\"\n",
    "    scoring = \"precision\"\n",
    "elif is_binary and not is_optimise_for_precision:\n",
    "    eval_metric = \"auc\"\n",
    "    scoring = \"f1\"\n",
    "else:\n",
    "    scoring = \"accuracy\""
   ]
  },
  {
   "cell_type": "code",
   "execution_count": 53,
   "id": "19284da7",
   "metadata": {},
   "outputs": [],
   "source": [
    "# Hyperparams: ne: 80, lr: 0.01 md: 3 gm: 6\n",
    "# ne: 1#15, lr: 0.2 md: 5 gm: 20\n",
    "#Recommended Params >> ne: 65, lr: 0.05 md: 1 gm: 20\n",
    "\n",
    "ne = 65\n",
    "lr = 0.05\n",
    "md = 1\n",
    "gm = 20"
   ]
  },
  {
   "cell_type": "code",
   "execution_count": 54,
   "id": "c16a677d",
   "metadata": {},
   "outputs": [
    {
     "name": "stderr",
     "output_type": "stream",
     "text": [
      "/Users/vipin/opt/anaconda3/envs/my_own/lib/python3.9/site-packages/xgboost/sklearn.py:1395: UserWarning: `use_label_encoder` is deprecated in 1.7.0.\n",
      "  warnings.warn(\"`use_label_encoder` is deprecated in 1.7.0.\")\n"
     ]
    }
   ],
   "source": [
    "# XGBOOST Classifier\n",
    "classifier = XGBClassifier(\n",
    "    objective=objective,\n",
    "    booster=\"gbtree\",\n",
    "    eval_metric=eval_metric,\n",
    "    n_estimators=ne,\n",
    "    learning_rate=lr,\n",
    "    max_depth=md,\n",
    "    gamma=gm,\n",
    "    subsample=0.8,\n",
    "    colsample_bytree=1,\n",
    "    random_state=1,\n",
    "    use_label_encoder=False\n",
    ")"
   ]
  },
  {
   "cell_type": "code",
   "execution_count": 55,
   "id": "58d02289",
   "metadata": {},
   "outputs": [
    {
     "data": {
      "text/html": [
       "<style>#sk-container-id-3 {color: black;}#sk-container-id-3 pre{padding: 0;}#sk-container-id-3 div.sk-toggleable {background-color: white;}#sk-container-id-3 label.sk-toggleable__label {cursor: pointer;display: block;width: 100%;margin-bottom: 0;padding: 0.3em;box-sizing: border-box;text-align: center;}#sk-container-id-3 label.sk-toggleable__label-arrow:before {content: \"▸\";float: left;margin-right: 0.25em;color: #696969;}#sk-container-id-3 label.sk-toggleable__label-arrow:hover:before {color: black;}#sk-container-id-3 div.sk-estimator:hover label.sk-toggleable__label-arrow:before {color: black;}#sk-container-id-3 div.sk-toggleable__content {max-height: 0;max-width: 0;overflow: hidden;text-align: left;background-color: #f0f8ff;}#sk-container-id-3 div.sk-toggleable__content pre {margin: 0.2em;color: black;border-radius: 0.25em;background-color: #f0f8ff;}#sk-container-id-3 input.sk-toggleable__control:checked~div.sk-toggleable__content {max-height: 200px;max-width: 100%;overflow: auto;}#sk-container-id-3 input.sk-toggleable__control:checked~label.sk-toggleable__label-arrow:before {content: \"▾\";}#sk-container-id-3 div.sk-estimator input.sk-toggleable__control:checked~label.sk-toggleable__label {background-color: #d4ebff;}#sk-container-id-3 div.sk-label input.sk-toggleable__control:checked~label.sk-toggleable__label {background-color: #d4ebff;}#sk-container-id-3 input.sk-hidden--visually {border: 0;clip: rect(1px 1px 1px 1px);clip: rect(1px, 1px, 1px, 1px);height: 1px;margin: -1px;overflow: hidden;padding: 0;position: absolute;width: 1px;}#sk-container-id-3 div.sk-estimator {font-family: monospace;background-color: #f0f8ff;border: 1px dotted black;border-radius: 0.25em;box-sizing: border-box;margin-bottom: 0.5em;}#sk-container-id-3 div.sk-estimator:hover {background-color: #d4ebff;}#sk-container-id-3 div.sk-parallel-item::after {content: \"\";width: 100%;border-bottom: 1px solid gray;flex-grow: 1;}#sk-container-id-3 div.sk-label:hover label.sk-toggleable__label {background-color: #d4ebff;}#sk-container-id-3 div.sk-serial::before {content: \"\";position: absolute;border-left: 1px solid gray;box-sizing: border-box;top: 0;bottom: 0;left: 50%;z-index: 0;}#sk-container-id-3 div.sk-serial {display: flex;flex-direction: column;align-items: center;background-color: white;padding-right: 0.2em;padding-left: 0.2em;position: relative;}#sk-container-id-3 div.sk-item {position: relative;z-index: 1;}#sk-container-id-3 div.sk-parallel {display: flex;align-items: stretch;justify-content: center;background-color: white;position: relative;}#sk-container-id-3 div.sk-item::before, #sk-container-id-3 div.sk-parallel-item::before {content: \"\";position: absolute;border-left: 1px solid gray;box-sizing: border-box;top: 0;bottom: 0;left: 50%;z-index: -1;}#sk-container-id-3 div.sk-parallel-item {display: flex;flex-direction: column;z-index: 1;position: relative;background-color: white;}#sk-container-id-3 div.sk-parallel-item:first-child::after {align-self: flex-end;width: 50%;}#sk-container-id-3 div.sk-parallel-item:last-child::after {align-self: flex-start;width: 50%;}#sk-container-id-3 div.sk-parallel-item:only-child::after {width: 0;}#sk-container-id-3 div.sk-dashed-wrapped {border: 1px dashed gray;margin: 0 0.4em 0.5em 0.4em;box-sizing: border-box;padding-bottom: 0.4em;background-color: white;}#sk-container-id-3 div.sk-label label {font-family: monospace;font-weight: bold;display: inline-block;line-height: 1.2em;}#sk-container-id-3 div.sk-label-container {text-align: center;}#sk-container-id-3 div.sk-container {/* jupyter's `normalize.less` sets `[hidden] { display: none; }` but bootstrap.min.css set `[hidden] { display: none !important; }` so we also need the `!important` here to be able to override the default hidden behavior on the sphinx rendered scikit-learn.org. See: https://github.com/scikit-learn/scikit-learn/issues/21755 */display: inline-block !important;position: relative;}#sk-container-id-3 div.sk-text-repr-fallback {display: none;}</style><div id=\"sk-container-id-3\" class=\"sk-top-container\"><div class=\"sk-text-repr-fallback\"><pre>XGBClassifier(base_score=None, booster=&#x27;gbtree&#x27;, callbacks=None,\n",
       "              colsample_bylevel=None, colsample_bynode=None, colsample_bytree=1,\n",
       "              early_stopping_rounds=None, enable_categorical=False,\n",
       "              eval_metric=[&#x27;error&#x27;, &#x27;logloss&#x27;, &#x27;logloss&#x27;], feature_types=None,\n",
       "              gamma=20, gpu_id=None, grow_policy=None, importance_type=None,\n",
       "              interaction_constraints=None, learning_rate=0.05, max_bin=None,\n",
       "              max_cat_threshold=None, max_cat_to_onehot=None,\n",
       "              max_delta_step=None, max_depth=1, max_leaves=None,\n",
       "              min_child_weight=None, missing=nan, monotone_constraints=None,\n",
       "              n_estimators=65, n_jobs=None, num_parallel_tree=None,\n",
       "              predictor=None, random_state=1, ...)</pre><b>In a Jupyter environment, please rerun this cell to show the HTML representation or trust the notebook. <br />On GitHub, the HTML representation is unable to render, please try loading this page with nbviewer.org.</b></div><div class=\"sk-container\" hidden><div class=\"sk-item\"><div class=\"sk-estimator sk-toggleable\"><input class=\"sk-toggleable__control sk-hidden--visually\" id=\"sk-estimator-id-3\" type=\"checkbox\" checked><label for=\"sk-estimator-id-3\" class=\"sk-toggleable__label sk-toggleable__label-arrow\">XGBClassifier</label><div class=\"sk-toggleable__content\"><pre>XGBClassifier(base_score=None, booster=&#x27;gbtree&#x27;, callbacks=None,\n",
       "              colsample_bylevel=None, colsample_bynode=None, colsample_bytree=1,\n",
       "              early_stopping_rounds=None, enable_categorical=False,\n",
       "              eval_metric=[&#x27;error&#x27;, &#x27;logloss&#x27;, &#x27;logloss&#x27;], feature_types=None,\n",
       "              gamma=20, gpu_id=None, grow_policy=None, importance_type=None,\n",
       "              interaction_constraints=None, learning_rate=0.05, max_bin=None,\n",
       "              max_cat_threshold=None, max_cat_to_onehot=None,\n",
       "              max_delta_step=None, max_depth=1, max_leaves=None,\n",
       "              min_child_weight=None, missing=nan, monotone_constraints=None,\n",
       "              n_estimators=65, n_jobs=None, num_parallel_tree=None,\n",
       "              predictor=None, random_state=1, ...)</pre></div></div></div></div></div>"
      ],
      "text/plain": [
       "XGBClassifier(base_score=None, booster='gbtree', callbacks=None,\n",
       "              colsample_bylevel=None, colsample_bynode=None, colsample_bytree=1,\n",
       "              early_stopping_rounds=None, enable_categorical=False,\n",
       "              eval_metric=['error', 'logloss', 'logloss'], feature_types=None,\n",
       "              gamma=20, gpu_id=None, grow_policy=None, importance_type=None,\n",
       "              interaction_constraints=None, learning_rate=0.05, max_bin=None,\n",
       "              max_cat_threshold=None, max_cat_to_onehot=None,\n",
       "              max_delta_step=None, max_depth=1, max_leaves=None,\n",
       "              min_child_weight=None, missing=nan, monotone_constraints=None,\n",
       "              n_estimators=65, n_jobs=None, num_parallel_tree=None,\n",
       "              predictor=None, random_state=1, ...)"
      ]
     },
     "execution_count": 55,
     "metadata": {},
     "output_type": "execute_result"
    }
   ],
   "source": [
    "# Fit Model\n",
    "eval_set = [(X_train, y_train), (X_test, y_test)]\n",
    "classifier.set_params(eval_metric=eval_metric_list)  # Example metric: 'error'\n",
    "\n",
    "classifier.fit(X_train, y_train, eval_set=eval_set, verbose=False)"
   ]
  },
  {
   "cell_type": "markdown",
   "id": "90fc92aa",
   "metadata": {},
   "source": [
    "### Make Predictions"
   ]
  },
  {
   "cell_type": "code",
   "execution_count": 56,
   "id": "cccfe06c",
   "metadata": {},
   "outputs": [
    {
     "name": "stdout",
     "output_type": "stream",
     "text": [
      "Preds Training Data: \n",
      " [0 0 0 0 0 0 0 0 0 0]\n",
      "Preds Probabilities Training Data: \n",
      " [[0.51079774 0.4892023 ]\n",
      " [0.51079774 0.4892023 ]\n",
      " [0.51079774 0.4892023 ]]\n"
     ]
    }
   ],
   "source": [
    "# Get Predictions Training\n",
    "train_yhat = classifier.predict(X_train)\n",
    "train_yhat_proba = classifier.predict_proba(X_train)\n",
    "print(\"Preds Training Data: \\n\", train_yhat[:10])\n",
    "print(\"Preds Probabilities Training Data: \\n\", train_yhat_proba[:3])"
   ]
  },
  {
   "cell_type": "code",
   "execution_count": 57,
   "id": "049133dd",
   "metadata": {},
   "outputs": [
    {
     "name": "stdout",
     "output_type": "stream",
     "text": [
      "Preds Test Data: \n",
      " [0 0 0 0 0 0 0 0 0 0]\n",
      "Preds Probabilities Training Data: \n",
      " [[0.51079774 0.4892023 ]\n",
      " [0.51079774 0.4892023 ]\n",
      " [0.51079774 0.4892023 ]]\n"
     ]
    }
   ],
   "source": [
    "# Get Predictions Test\n",
    "test_yhat = classifier.predict(X_test)\n",
    "test_yhat_proba = classifier.predict_proba(X_test)\n",
    "print(\"Preds Test Data: \\n\", test_yhat[:10])\n",
    "print(\"Preds Probabilities Training Data: \\n\", test_yhat_proba[:3])"
   ]
  },
  {
   "cell_type": "code",
   "execution_count": 58,
   "id": "b1768565",
   "metadata": {},
   "outputs": [],
   "source": [
    "# Set K-Fold Cross Validation Levels\n",
    "cv = RepeatedStratifiedKFold(n_splits=5, n_repeats=1, random_state=1)"
   ]
  },
  {
   "cell_type": "code",
   "execution_count": 43,
   "id": "2460f01d",
   "metadata": {},
   "outputs": [
    {
     "name": "stderr",
     "output_type": "stream",
     "text": [
      "/Users/vipin/opt/anaconda3/envs/my_own/lib/python3.9/site-packages/xgboost/sklearn.py:1395: UserWarning: `use_label_encoder` is deprecated in 1.7.0.\n",
      "  warnings.warn(\"`use_label_encoder` is deprecated in 1.7.0.\")\n",
      "/Users/vipin/opt/anaconda3/envs/my_own/lib/python3.9/site-packages/sklearn/metrics/_classification.py:1469: UndefinedMetricWarning: Precision is ill-defined and being set to 0.0 due to no predicted samples. Use `zero_division` parameter to control this behavior.\n",
      "  _warn_prf(average, modifier, msg_start, len(result))\n",
      "/Users/vipin/opt/anaconda3/envs/my_own/lib/python3.9/site-packages/xgboost/sklearn.py:1395: UserWarning: `use_label_encoder` is deprecated in 1.7.0.\n",
      "  warnings.warn(\"`use_label_encoder` is deprecated in 1.7.0.\")\n",
      "/Users/vipin/opt/anaconda3/envs/my_own/lib/python3.9/site-packages/sklearn/metrics/_classification.py:1469: UndefinedMetricWarning: Precision is ill-defined and being set to 0.0 due to no predicted samples. Use `zero_division` parameter to control this behavior.\n",
      "  _warn_prf(average, modifier, msg_start, len(result))\n",
      "/Users/vipin/opt/anaconda3/envs/my_own/lib/python3.9/site-packages/xgboost/sklearn.py:1395: UserWarning: `use_label_encoder` is deprecated in 1.7.0.\n",
      "  warnings.warn(\"`use_label_encoder` is deprecated in 1.7.0.\")\n",
      "/Users/vipin/opt/anaconda3/envs/my_own/lib/python3.9/site-packages/sklearn/metrics/_classification.py:1469: UndefinedMetricWarning: Precision is ill-defined and being set to 0.0 due to no predicted samples. Use `zero_division` parameter to control this behavior.\n",
      "  _warn_prf(average, modifier, msg_start, len(result))\n",
      "/Users/vipin/opt/anaconda3/envs/my_own/lib/python3.9/site-packages/xgboost/sklearn.py:1395: UserWarning: `use_label_encoder` is deprecated in 1.7.0.\n",
      "  warnings.warn(\"`use_label_encoder` is deprecated in 1.7.0.\")\n",
      "/Users/vipin/opt/anaconda3/envs/my_own/lib/python3.9/site-packages/sklearn/metrics/_classification.py:1469: UndefinedMetricWarning: Precision is ill-defined and being set to 0.0 due to no predicted samples. Use `zero_division` parameter to control this behavior.\n",
      "  _warn_prf(average, modifier, msg_start, len(result))\n",
      "/Users/vipin/opt/anaconda3/envs/my_own/lib/python3.9/site-packages/xgboost/sklearn.py:1395: UserWarning: `use_label_encoder` is deprecated in 1.7.0.\n",
      "  warnings.warn(\"`use_label_encoder` is deprecated in 1.7.0.\")\n",
      "/Users/vipin/opt/anaconda3/envs/my_own/lib/python3.9/site-packages/sklearn/metrics/_classification.py:1469: UndefinedMetricWarning: Precision is ill-defined and being set to 0.0 due to no predicted samples. Use `zero_division` parameter to control this behavior.\n",
      "  _warn_prf(average, modifier, msg_start, len(result))\n"
     ]
    }
   ],
   "source": [
    "# Training Results\n",
    "train_results = cross_val_score(classifier, X_train, y_train, scoring=scoring, cv=cv, n_jobs=1)"
   ]
  },
  {
   "cell_type": "markdown",
   "id": "21a3a789",
   "metadata": {},
   "source": [
    "### Evaluation Metrics  - Loss and Overfitting"
   ]
  },
  {
   "cell_type": "code",
   "execution_count": 59,
   "id": "2c61d3a6",
   "metadata": {},
   "outputs": [],
   "source": [
    "# Retrieve performance metrics\n",
    "results = classifier.evals_result()\n",
    "epochs = len(results[\"validation_0\"][\"error\"])\n",
    "x_axis = range(0, epochs)"
   ]
  },
  {
   "cell_type": "code",
   "execution_count": 45,
   "id": "3f38b97e",
   "metadata": {},
   "outputs": [
    {
     "data": {
      "image/png": "[encoded data removed]",
      "text/plain": [
       "<Figure size 640x480 with 1 Axes>"
      ]
     },
     "metadata": {},
     "output_type": "display_data"
    }
   ],
   "source": [
    "# Plot Log Loss\n",
    "fig, ax = plt.subplots()\n",
    "ax.plot(x_axis, results[\"validation_0\"][\"logloss\"], label=\"Train\")\n",
    "ax.plot(x_axis, results[\"validation_1\"][\"logloss\"], label=\"Test\")\n",
    "ax.legend()\n",
    "plt.ylabel(\"Logloss\")\n",
    "plt.title(\"XGB Logloss\")\n",
    "plt.show()"
   ]
  },
  {
   "cell_type": "code",
   "execution_count": 20,
   "id": "1db8bef1",
   "metadata": {},
   "outputs": [
    {
     "data": {
      "image/png": "[encoded data removed]",
      "text/plain": [
       "<Figure size 640x480 with 1 Axes>"
      ]
     },
     "metadata": {},
     "output_type": "display_data"
    }
   ],
   "source": [
    "# Plot Classification Error\n",
    "fig, ax = plt.subplots()\n",
    "ax.plot(x_axis, results[\"validation_0\"][\"error\"], label=\"Train\")\n",
    "ax.plot(x_axis, results[\"validation_1\"][\"error\"], label=\"Test\")\n",
    "ax.legend()\n",
    "plt.ylabel(\"Error\")\n",
    "plt.title(\"XGB Error\")\n",
    "plt.show()"
   ]
  },
  {
   "cell_type": "markdown",
   "id": "a8c8e014",
   "metadata": {},
   "source": [
    "### Evaluation Metrics - ROC Curve"
   ]
  },
  {
   "cell_type": "code",
   "execution_count": 22,
   "id": "f80a8a22",
   "metadata": {},
   "outputs": [],
   "source": [
    "# Plot Training ROC Curve\n",
    "#plot_roc_curve(classifier, X_train, y_train)"
   ]
  },
  {
   "cell_type": "code",
   "execution_count": 23,
   "id": "ae58cfcc",
   "metadata": {},
   "outputs": [],
   "source": [
    "# Plot Test ROC Curve\n",
    "#plot_roc_curve(classifier, X_test, y_test)"
   ]
  },
  {
   "cell_type": "markdown",
   "id": "183438d3",
   "metadata": {},
   "source": [
    "### Performance Evaluation Comparison"
   ]
  },
  {
   "cell_type": "code",
   "execution_count": 23,
   "id": "c5c8c2f3",
   "metadata": {},
   "outputs": [],
   "source": [
    "# Set K-Fold Cross Validation Levels\n",
    "cv = RepeatedStratifiedKFold(n_splits=5, n_repeats=1, random_state=1)"
   ]
  },
  {
   "cell_type": "code",
   "execution_count": 24,
   "id": "48e17a86",
   "metadata": {},
   "outputs": [
    {
     "name": "stderr",
     "output_type": "stream",
     "text": [
      "/Users/vipin/opt/anaconda3/envs/my_own/lib/python3.9/site-packages/xgboost/sklearn.py:1395: UserWarning: `use_label_encoder` is deprecated in 1.7.0.\n",
      "  warnings.warn(\"`use_label_encoder` is deprecated in 1.7.0.\")\n",
      "/Users/vipin/opt/anaconda3/envs/my_own/lib/python3.9/site-packages/sklearn/metrics/_classification.py:1469: UndefinedMetricWarning: Precision is ill-defined and being set to 0.0 due to no predicted samples. Use `zero_division` parameter to control this behavior.\n",
      "  _warn_prf(average, modifier, msg_start, len(result))\n",
      "/Users/vipin/opt/anaconda3/envs/my_own/lib/python3.9/site-packages/xgboost/sklearn.py:1395: UserWarning: `use_label_encoder` is deprecated in 1.7.0.\n",
      "  warnings.warn(\"`use_label_encoder` is deprecated in 1.7.0.\")\n"
     ]
    }
   ],
   "source": [
    "# Training and Test Results\n",
    "train_results = cross_val_score(classifier, X_train, y_train, scoring=scoring, cv=cv, n_jobs=-1)\n",
    "test_results = cross_val_score(classifier, X_test, y_test, scoring=scoring, cv=cv, n_jobs=-1)"
   ]
  },
  {
   "cell_type": "code",
   "execution_count": 60,
   "id": "0408fa59",
   "metadata": {},
   "outputs": [
    {
     "name": "stdout",
     "output_type": "stream",
     "text": [
      "TRAIN:\n",
      "Average Acc K-Fold 0.0\n",
      "Std Dev K-Fold 0.0\n",
      "Precision Score 0 0.512\n",
      "Precision Score 1 0.0\n",
      "----- ----- ----- ----- ----- ----- -----\n",
      "TEST:\n"
     ]
    },
    {
     "name": "stderr",
     "output_type": "stream",
     "text": [
      "/Users/vipin/opt/anaconda3/envs/my_own/lib/python3.9/site-packages/sklearn/metrics/_classification.py:1469: UndefinedMetricWarning: Precision is ill-defined and being set to 0.0 in labels with no predicted samples. Use `zero_division` parameter to control this behavior.\n",
      "  _warn_prf(average, modifier, msg_start, len(result))\n",
      "/Users/vipin/opt/anaconda3/envs/my_own/lib/python3.9/site-packages/sklearn/metrics/_classification.py:1469: UndefinedMetricWarning: Precision is ill-defined and being set to 0.0 in labels with no predicted samples. Use `zero_division` parameter to control this behavior.\n",
      "  _warn_prf(average, modifier, msg_start, len(result))\n"
     ]
    },
    {
     "ename": "NameError",
     "evalue": "name 'test_results' is not defined",
     "output_type": "error",
     "traceback": [
      "\u001b[0;31m---------------------------------------------------------------------------\u001b[0m",
      "\u001b[0;31mNameError\u001b[0m                                 Traceback (most recent call last)",
      "Cell \u001b[0;32mIn[60], line 9\u001b[0m\n\u001b[1;32m      7\u001b[0m \u001b[38;5;28mprint\u001b[39m(\u001b[38;5;124m\"\u001b[39m\u001b[38;5;124m----- ----- ----- ----- ----- ----- -----\u001b[39m\u001b[38;5;124m\"\u001b[39m)\n\u001b[1;32m      8\u001b[0m \u001b[38;5;28mprint\u001b[39m(\u001b[38;5;124m\"\u001b[39m\u001b[38;5;124mTEST:\u001b[39m\u001b[38;5;124m\"\u001b[39m)\n\u001b[0;32m----> 9\u001b[0m \u001b[38;5;28mprint\u001b[39m(\u001b[38;5;124m\"\u001b[39m\u001b[38;5;124mAverage Acc K-Fold\u001b[39m\u001b[38;5;124m\"\u001b[39m, \u001b[38;5;28mround\u001b[39m(\u001b[43mtest_results\u001b[49m\u001b[38;5;241m.\u001b[39mmean(), \u001b[38;5;241m2\u001b[39m))\n\u001b[1;32m     10\u001b[0m \u001b[38;5;28mprint\u001b[39m(\u001b[38;5;124m\"\u001b[39m\u001b[38;5;124mStd Dev K-Fold\u001b[39m\u001b[38;5;124m\"\u001b[39m, \u001b[38;5;28mround\u001b[39m(test_results\u001b[38;5;241m.\u001b[39mstd(), \u001b[38;5;241m2\u001b[39m))\n\u001b[1;32m     11\u001b[0m \u001b[38;5;28mprint\u001b[39m(\u001b[38;5;124m\"\u001b[39m\u001b[38;5;124mPrecision Score 0\u001b[39m\u001b[38;5;124m\"\u001b[39m, \u001b[38;5;28mround\u001b[39m(precision_score(y_test, test_yhat, average\u001b[38;5;241m=\u001b[39m\u001b[38;5;28;01mNone\u001b[39;00m)[\u001b[38;5;241m0\u001b[39m], \u001b[38;5;241m3\u001b[39m))\n",
      "\u001b[0;31mNameError\u001b[0m: name 'test_results' is not defined"
     ]
    }
   ],
   "source": [
    "# Comparison of Results\n",
    "print(\"TRAIN:\")\n",
    "print(\"Average Acc K-Fold\", round(train_results.mean(), 2))\n",
    "print(\"Std Dev K-Fold\", round(train_results.std(), 2))\n",
    "print(\"Precision Score 0\", round(precision_score(y_train, train_yhat, average=None)[0], 3))\n",
    "print(\"Precision Score 1\", round(precision_score(y_train, train_yhat, average=None)[1], 3))\n",
    "print(\"----- ----- ----- ----- ----- ----- -----\")\n",
    "print(\"TEST:\")\n",
    "print(\"Average Acc K-Fold\", round(test_results.mean(), 2))\n",
    "print(\"Std Dev K-Fold\", round(test_results.std(), 2))\n",
    "print(\"Precision Score 0\", round(precision_score(y_test, test_yhat, average=None)[0], 3))\n",
    "print(\"Precision Score 1\", round(precision_score(y_test, test_yhat, average=None)[1], 3))\n",
    "print(\"\")"
   ]
  },
  {
   "cell_type": "markdown",
   "id": "69d8b2bf",
   "metadata": {},
   "source": [
    "### Evaluation Metrics - Summary Report"
   ]
  },
  {
   "cell_type": "code",
   "execution_count": 61,
   "id": "1afce0b9",
   "metadata": {},
   "outputs": [
    {
     "name": "stdout",
     "output_type": "stream",
     "text": [
      "              precision    recall  f1-score   support\n",
      "\n",
      "         0.0       0.51      1.00      0.68      2084\n",
      "         1.0       0.00      0.00      0.00      1987\n",
      "\n",
      "    accuracy                           0.51      4071\n",
      "   macro avg       0.26      0.50      0.34      4071\n",
      "weighted avg       0.26      0.51      0.35      4071\n",
      "\n"
     ]
    },
    {
     "name": "stderr",
     "output_type": "stream",
     "text": [
      "/Users/vipin/opt/anaconda3/envs/my_own/lib/python3.9/site-packages/sklearn/metrics/_classification.py:1469: UndefinedMetricWarning: Precision and F-score are ill-defined and being set to 0.0 in labels with no predicted samples. Use `zero_division` parameter to control this behavior.\n",
      "  _warn_prf(average, modifier, msg_start, len(result))\n",
      "/Users/vipin/opt/anaconda3/envs/my_own/lib/python3.9/site-packages/sklearn/metrics/_classification.py:1469: UndefinedMetricWarning: Precision and F-score are ill-defined and being set to 0.0 in labels with no predicted samples. Use `zero_division` parameter to control this behavior.\n",
      "  _warn_prf(average, modifier, msg_start, len(result))\n",
      "/Users/vipin/opt/anaconda3/envs/my_own/lib/python3.9/site-packages/sklearn/metrics/_classification.py:1469: UndefinedMetricWarning: Precision and F-score are ill-defined and being set to 0.0 in labels with no predicted samples. Use `zero_division` parameter to control this behavior.\n",
      "  _warn_prf(average, modifier, msg_start, len(result))\n"
     ]
    }
   ],
   "source": [
    "# Show summary report - Training\n",
    "print(classification_report(y_train, train_yhat))"
   ]
  },
  {
   "cell_type": "code",
   "execution_count": 62,
   "id": "01f81ef8",
   "metadata": {},
   "outputs": [
    {
     "name": "stdout",
     "output_type": "stream",
     "text": [
      "              precision    recall  f1-score   support\n",
      "\n",
      "         0.0       0.48      1.00      0.65       843\n",
      "         1.0       0.00      0.00      0.00       903\n",
      "\n",
      "    accuracy                           0.48      1746\n",
      "   macro avg       0.24      0.50      0.33      1746\n",
      "weighted avg       0.23      0.48      0.31      1746\n",
      "\n"
     ]
    },
    {
     "name": "stderr",
     "output_type": "stream",
     "text": [
      "/Users/vipin/opt/anaconda3/envs/my_own/lib/python3.9/site-packages/sklearn/metrics/_classification.py:1469: UndefinedMetricWarning: Precision and F-score are ill-defined and being set to 0.0 in labels with no predicted samples. Use `zero_division` parameter to control this behavior.\n",
      "  _warn_prf(average, modifier, msg_start, len(result))\n",
      "/Users/vipin/opt/anaconda3/envs/my_own/lib/python3.9/site-packages/sklearn/metrics/_classification.py:1469: UndefinedMetricWarning: Precision and F-score are ill-defined and being set to 0.0 in labels with no predicted samples. Use `zero_division` parameter to control this behavior.\n",
      "  _warn_prf(average, modifier, msg_start, len(result))\n",
      "/Users/vipin/opt/anaconda3/envs/my_own/lib/python3.9/site-packages/sklearn/metrics/_classification.py:1469: UndefinedMetricWarning: Precision and F-score are ill-defined and being set to 0.0 in labels with no predicted samples. Use `zero_division` parameter to control this behavior.\n",
      "  _warn_prf(average, modifier, msg_start, len(result))\n"
     ]
    }
   ],
   "source": [
    "# Show summary report - Test\n",
    "print(classification_report(y_test, test_yhat))"
   ]
  },
  {
   "cell_type": "markdown",
   "id": "f6af4753",
   "metadata": {},
   "source": [
    "### Performance Evaluation - Confusion Matrix"
   ]
  },
  {
   "cell_type": "code",
   "execution_count": 28,
   "id": "bf851feb",
   "metadata": {},
   "outputs": [
    {
     "data": {
      "text/plain": [
       "<sklearn.metrics._plot.confusion_matrix.ConfusionMatrixDisplay at 0x7fe2e7c10be0>"
      ]
     },
     "execution_count": 28,
     "metadata": {},
     "output_type": "execute_result"
    },
    {
     "data": {
      "image/png": "[encoded data removed]",
      "text/plain": [
       "<Figure size 640x480 with 2 Axes>"
      ]
     },
     "metadata": {},
     "output_type": "display_data"
    }
   ],
   "source": [
    "# Training Confusion Matrix\n",
    "cm_train = confusion_matrix(y_train, train_yhat)\n",
    "ConfusionMatrixDisplay(cm_train).plot()"
   ]
  },
  {
   "cell_type": "code",
   "execution_count": 29,
   "id": "da09b2cd",
   "metadata": {},
   "outputs": [
    {
     "data": {
      "text/plain": [
       "<sklearn.metrics._plot.confusion_matrix.ConfusionMatrixDisplay at 0x7fe2e746b070>"
      ]
     },
     "execution_count": 29,
     "metadata": {},
     "output_type": "execute_result"
    },
    {
     "data": {
      "image/png": "[encoded data removed]",
      "text/plain": [
       "<Figure size 640x480 with 2 Axes>"
      ]
     },
     "metadata": {},
     "output_type": "display_data"
    }
   ],
   "source": [
    "# Test Confusion Matrix\n",
    "cm_test = confusion_matrix(y_test, test_yhat)\n",
    "ConfusionMatrixDisplay(cm_test).plot()"
   ]
  },
  {
   "cell_type": "markdown",
   "id": "b87fc129",
   "metadata": {},
   "source": [
    "### Feature Importance"
   ]
  },
  {
   "cell_type": "code",
   "execution_count": 63,
   "id": "664c7711",
   "metadata": {},
   "outputs": [
    {
     "data": {
      "image/png": "[encoded data removed]",
      "text/plain": [
       "<Figure size 2000x500 with 1 Axes>"
      ]
     },
     "metadata": {},
     "output_type": "display_data"
    }
   ],
   "source": [
    "# Plot Feature Importances\n",
    "fig = plt.figure(figsize=(20, 5))\n",
    "importance_labels = X.columns\n",
    "importance_features = classifier.feature_importances_\n",
    "\n",
    "plt.bar(importance_labels, importance_features)\n",
    "plt.show()"
   ]
  },
  {
   "cell_type": "code",
   "execution_count": 64,
   "id": "3823aabd",
   "metadata": {},
   "outputs": [
    {
     "name": "stdout",
     "output_type": "stream",
     "text": [
      "['Low', 'volatility_bbl', 'trend_ema_fast']\n"
     ]
    }
   ],
   "source": [
    "filtered_numbers = []\n",
    "filterd_labels = []\n",
    "filter_score = []\n",
    "for index,ddd in enumerate(importance_features):\n",
    "    if ddd > 0.05:\n",
    "        filter_score.append(ddd)\n",
    "        filterd_labels.append(importance_labels[index])\n",
    "       # print(importance_labels[index])\n",
    "print(filterd_labels)"
   ]
  },
  {
   "cell_type": "code",
   "execution_count": null,
   "id": "7015682e",
   "metadata": {},
   "outputs": [],
   "source": []
  },
  {
   "cell_type": "code",
   "execution_count": 65,
   "id": "a09b9eab",
   "metadata": {},
   "outputs": [
    {
     "data": {
      "image/png": "[encoded data removed]",
      "text/plain": [
       "<Figure size 2000x500 with 1 Axes>"
      ]
     },
     "metadata": {},
     "output_type": "display_data"
    }
   ],
   "source": [
    "# Plot Feature Importances\n",
    "fig = plt.figure(figsize=(20, 5))\n",
    "importance_labels = X.columns\n",
    "importance_features = classifier.feature_importances_\n",
    "\n",
    "plt.bar(filterd_labels, filter_score)\n",
    "plt.show()"
   ]
  },
  {
   "cell_type": "code",
   "execution_count": 32,
   "id": "48a61b94",
   "metadata": {},
   "outputs": [],
   "source": [
    "#conda install graphviz python-graphviz"
   ]
  },
  {
   "cell_type": "markdown",
   "id": "5e508674",
   "metadata": {},
   "source": [
    "### XGBOOST TREE"
   ]
  },
  {
   "cell_type": "code",
   "execution_count": 66,
   "id": "9d1295cc",
   "metadata": {},
   "outputs": [
    {
     "data": {
      "text/plain": [
       "<Axes: >"
      ]
     },
     "execution_count": 66,
     "metadata": {},
     "output_type": "execute_result"
    },
    {
     "data": {
      "image/png": "[encoded data removed]",
      "text/plain": [
       "<Figure size 8000x5000 with 1 Axes>"
      ]
     },
     "metadata": {},
     "output_type": "display_data"
    }
   ],
   "source": [
    "rcParams[\"figure.figsize\"] = 80, 50\n",
    "plot_tree(classifier)"
   ]
  },
  {
   "cell_type": "markdown",
   "id": "ece5d8b6",
   "metadata": {},
   "source": [
    "### Conclusion"
   ]
  },
  {
   "cell_type": "markdown",
   "id": "84871ce0",
   "metadata": {},
   "source": [
    "We feel that it is possible using Machine Learning, that we can forecast with better than 50/50 odds, whether the Range (our interpretation of volatility) for Bitcoin, can be predicted ahead of of time by at least 1 day into the future. This information could be valuable for MOVE based contracts trading."
   ]
  }
 ],
 "metadata": {
  "kernelspec": {
   "display_name": "Python 3 (ipykernel)",
   "language": "python",
   "name": "python3"
  },
  "language_info": {
   "codemirror_mode": {
    "name": "ipython",
    "version": 3
   },
   "file_extension": ".py",
   "mimetype": "text/x-python",
   "name": "python",
   "nbconvert_exporter": "python",
   "pygments_lexer": "ipython3",
   "version": "3.9.16"
  }
 },
 "nbformat": 4,
 "nbformat_minor": 5
}
