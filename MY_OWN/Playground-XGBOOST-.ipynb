{
 "cells": [
  {
   "cell_type": "code",
   "execution_count": 1,
   "id": "84060dda",
   "metadata": {},
   "outputs": [],
   "source": [
    "# Remove Future Warnings\n",
    "import warnings\n",
    "warnings.simplefilter(action='ignore', category=FutureWarning)\n",
    "\n",
    "# General\n",
    "import numpy as np\n",
    "from ta import add_all_ta_features\n",
    "\n",
    "# Data Management\n",
    "import pandas as pd\n",
    "from sklearn.model_selection import train_test_split\n",
    "\n",
    "# Machine Learning\n",
    "from xgboost import XGBClassifier\n",
    "from sklearn.model_selection import RandomizedSearchCV, cross_val_score\n",
    "from sklearn.model_selection import RepeatedStratifiedKFold\n",
    "\n",
    "# Binary Classification Specific Metrics\n",
    "#from sklearn.metrics import plot_roc_curve\n",
    "\n",
    "# General Metrics\n",
    "from sklearn.metrics import accuracy_score\n",
    "from sklearn.metrics import classification_report\n",
    "from sklearn.metrics import precision_score\n",
    "from sklearn.metrics import confusion_matrix\n",
    "from sklearn.metrics import ConfusionMatrixDisplay\n",
    "import statsmodels.graphics.tsaplots as sgt\n",
    "# Reporting\n",
    "import matplotlib.pyplot as plt\n",
    "from matplotlib.pylab import rcParams\n",
    "from xgboost import plot_tree\n",
    "from statsmodels.tsa.stattools import acf\n",
    "from ta.trend import MACD\n"
   ]
  },
  {
   "cell_type": "markdown",
   "id": "81e31355",
   "metadata": {},
   "source": [
    "### Data Management"
   ]
  },
  {
   "cell_type": "code",
   "execution_count": 2,
   "id": "daa5675a",
   "metadata": {},
   "outputs": [
    {
     "data": {
      "text/html": [
       "<div>\n",
       "<style scoped>\n",
       "    .dataframe tbody tr th:only-of-type {\n",
       "        vertical-align: middle;\n",
       "    }\n",
       "\n",
       "    .dataframe tbody tr th {\n",
       "        vertical-align: top;\n",
       "    }\n",
       "\n",
       "    .dataframe thead th {\n",
       "        text-align: right;\n",
       "    }\n",
       "</style>\n",
       "<table border=\"1\" class=\"dataframe\">\n",
       "  <thead>\n",
       "    <tr style=\"text-align: right;\">\n",
       "      <th></th>\n",
       "      <th>Open</th>\n",
       "      <th>High</th>\n",
       "      <th>Low</th>\n",
       "      <th>Close</th>\n",
       "      <th>Volume</th>\n",
       "      <th>Returns</th>\n",
       "      <th>Range</th>\n",
       "      <th>Avg_Range</th>\n",
       "    </tr>\n",
       "    <tr>\n",
       "      <th>Date</th>\n",
       "      <th></th>\n",
       "      <th></th>\n",
       "      <th></th>\n",
       "      <th></th>\n",
       "      <th></th>\n",
       "      <th></th>\n",
       "      <th></th>\n",
       "      <th></th>\n",
       "    </tr>\n",
       "  </thead>\n",
       "  <tbody>\n",
       "    <tr>\n",
       "      <th>2023-07-12</th>\n",
       "      <td>2480.300049</td>\n",
       "      <td>2485.949951</td>\n",
       "      <td>2451.100098</td>\n",
       "      <td>2472.500000</td>\n",
       "      <td>1081811</td>\n",
       "      <td>-0.000667</td>\n",
       "      <td>0.014218</td>\n",
       "      <td>0.014104</td>\n",
       "    </tr>\n",
       "    <tr>\n",
       "      <th>2023-07-12</th>\n",
       "      <td>2480.300049</td>\n",
       "      <td>2485.949951</td>\n",
       "      <td>2451.100098</td>\n",
       "      <td>2454.649902</td>\n",
       "      <td>1320558</td>\n",
       "      <td>-0.007219</td>\n",
       "      <td>0.014218</td>\n",
       "      <td>0.014214</td>\n",
       "    </tr>\n",
       "    <tr>\n",
       "      <th>2023-07-12</th>\n",
       "      <td>2480.300049</td>\n",
       "      <td>2485.949951</td>\n",
       "      <td>2451.100098</td>\n",
       "      <td>2455.649902</td>\n",
       "      <td>1439041</td>\n",
       "      <td>0.000407</td>\n",
       "      <td>0.014218</td>\n",
       "      <td>0.014388</td>\n",
       "    </tr>\n",
       "    <tr>\n",
       "      <th>2023-07-13</th>\n",
       "      <td>2466.000000</td>\n",
       "      <td>2484.899902</td>\n",
       "      <td>2446.250000</td>\n",
       "      <td>2450.149902</td>\n",
       "      <td>1141414</td>\n",
       "      <td>-0.002240</td>\n",
       "      <td>0.015800</td>\n",
       "      <td>0.014535</td>\n",
       "    </tr>\n",
       "    <tr>\n",
       "      <th>2023-07-14</th>\n",
       "      <td>2450.250000</td>\n",
       "      <td>2477.050049</td>\n",
       "      <td>2448.649902</td>\n",
       "      <td>2472.250000</td>\n",
       "      <td>845437</td>\n",
       "      <td>0.009020</td>\n",
       "      <td>0.011598</td>\n",
       "      <td>0.014434</td>\n",
       "    </tr>\n",
       "  </tbody>\n",
       "</table>\n",
       "</div>"
      ],
      "text/plain": [
       "                   Open         High          Low        Close   Volume  \\\n",
       "Date                                                                      \n",
       "2023-07-12  2480.300049  2485.949951  2451.100098  2472.500000  1081811   \n",
       "2023-07-12  2480.300049  2485.949951  2451.100098  2454.649902  1320558   \n",
       "2023-07-12  2480.300049  2485.949951  2451.100098  2455.649902  1439041   \n",
       "2023-07-13  2466.000000  2484.899902  2446.250000  2450.149902  1141414   \n",
       "2023-07-14  2450.250000  2477.050049  2448.649902  2472.250000   845437   \n",
       "\n",
       "             Returns     Range  Avg_Range  \n",
       "Date                                       \n",
       "2023-07-12 -0.000667  0.014218   0.014104  \n",
       "2023-07-12 -0.007219  0.014218   0.014214  \n",
       "2023-07-12  0.000407  0.014218   0.014388  \n",
       "2023-07-13 -0.002240  0.015800   0.014535  \n",
       "2023-07-14  0.009020  0.011598   0.014434  "
      ]
     },
     "execution_count": 2,
     "metadata": {},
     "output_type": "execute_result"
    }
   ],
   "source": [
    "# Data Extraction\n",
    "symbol = \"LT.NS\"\n",
    "\n",
    "df = pd.read_csv(\"./stock_historical_data/{}.csv\".format(symbol))\n",
    "df.set_index(\"Date\", inplace=True)\n",
    "\n",
    "df = df[[\"Open\", \"High\", \"Low\", \"Close\",\"Volume\"]]\n",
    "df[\"Returns\"] = df[\"Close\"].pct_change()\n",
    "df[\"Range\"] = df[\"High\"] / df[\"Low\"] - 1\n",
    "df[\"Avg_Range\"] = df[\"Range\"].rolling(window=30).mean()\n",
    "df.tail()"
   ]
  },
  {
   "cell_type": "code",
   "execution_count": 3,
   "id": "de5517be",
   "metadata": {},
   "outputs": [],
   "source": [
    "#adding nifty index\n",
    "dfNifty = pd.read_csv(\"./stock_historical_data/{}.csv\".format(\"^NSEI\"))\n",
    "dfNifty.set_index(\"Date\", inplace=True)\n"
   ]
  },
  {
   "cell_type": "code",
   "execution_count": 5,
   "id": "65c7d019",
   "metadata": {},
   "outputs": [
    {
     "name": "stderr",
     "output_type": "stream",
     "text": [
      "/Users/vipin/opt/anaconda3/envs/my_own/lib/python3.9/site-packages/ta/trend.py:780: RuntimeWarning: invalid value encountered in scalar divide\n",
      "  dip[idx] = 100 * (self._dip[idx] / value)\n",
      "/Users/vipin/opt/anaconda3/envs/my_own/lib/python3.9/site-packages/ta/trend.py:785: RuntimeWarning: invalid value encountered in scalar divide\n",
      "  din[idx] = 100 * (self._din[idx] / value)\n"
     ]
    },
    {
     "data": {
      "text/html": [
       "<div>\n",
       "<style scoped>\n",
       "    .dataframe tbody tr th:only-of-type {\n",
       "        vertical-align: middle;\n",
       "    }\n",
       "\n",
       "    .dataframe tbody tr th {\n",
       "        vertical-align: top;\n",
       "    }\n",
       "\n",
       "    .dataframe thead th {\n",
       "        text-align: right;\n",
       "    }\n",
       "</style>\n",
       "<table border=\"1\" class=\"dataframe\">\n",
       "  <thead>\n",
       "    <tr style=\"text-align: right;\">\n",
       "      <th></th>\n",
       "      <th>Open</th>\n",
       "      <th>High</th>\n",
       "      <th>Low</th>\n",
       "      <th>Close</th>\n",
       "      <th>Volume</th>\n",
       "      <th>Returns</th>\n",
       "      <th>Range</th>\n",
       "      <th>Avg_Range</th>\n",
       "      <th>volume_adi</th>\n",
       "      <th>volume_obv</th>\n",
       "      <th>...</th>\n",
       "      <th>momentum_ppo</th>\n",
       "      <th>momentum_ppo_signal</th>\n",
       "      <th>momentum_ppo_hist</th>\n",
       "      <th>momentum_pvo</th>\n",
       "      <th>momentum_pvo_signal</th>\n",
       "      <th>momentum_pvo_hist</th>\n",
       "      <th>momentum_kama</th>\n",
       "      <th>others_dr</th>\n",
       "      <th>others_dlr</th>\n",
       "      <th>others_cr</th>\n",
       "    </tr>\n",
       "    <tr>\n",
       "      <th>Date</th>\n",
       "      <th></th>\n",
       "      <th></th>\n",
       "      <th></th>\n",
       "      <th></th>\n",
       "      <th></th>\n",
       "      <th></th>\n",
       "      <th></th>\n",
       "      <th></th>\n",
       "      <th></th>\n",
       "      <th></th>\n",
       "      <th></th>\n",
       "      <th></th>\n",
       "      <th></th>\n",
       "      <th></th>\n",
       "      <th></th>\n",
       "      <th></th>\n",
       "      <th></th>\n",
       "      <th></th>\n",
       "      <th></th>\n",
       "      <th></th>\n",
       "      <th></th>\n",
       "    </tr>\n",
       "  </thead>\n",
       "  <tbody>\n",
       "    <tr>\n",
       "      <th>2005-02-15</th>\n",
       "      <td>88.210306</td>\n",
       "      <td>90.852489</td>\n",
       "      <td>86.463479</td>\n",
       "      <td>88.065468</td>\n",
       "      <td>4917447</td>\n",
       "      <td>0.001847</td>\n",
       "      <td>0.050761</td>\n",
       "      <td>0.033646</td>\n",
       "      <td>-2.920726e+06</td>\n",
       "      <td>12723759</td>\n",
       "      <td>...</td>\n",
       "      <td>1.245320</td>\n",
       "      <td>0.762783</td>\n",
       "      <td>0.482536</td>\n",
       "      <td>-0.144647</td>\n",
       "      <td>-2.259098</td>\n",
       "      <td>2.114451</td>\n",
       "      <td>84.437152</td>\n",
       "      <td>0.184731</td>\n",
       "      <td>0.184560</td>\n",
       "      <td>2.707811</td>\n",
       "    </tr>\n",
       "    <tr>\n",
       "      <th>2005-02-16</th>\n",
       "      <td>88.662377</td>\n",
       "      <td>90.299481</td>\n",
       "      <td>88.315645</td>\n",
       "      <td>88.930107</td>\n",
       "      <td>2766033</td>\n",
       "      <td>0.009818</td>\n",
       "      <td>0.022463</td>\n",
       "      <td>0.033244</td>\n",
       "      <td>-3.973289e+06</td>\n",
       "      <td>15489792</td>\n",
       "      <td>...</td>\n",
       "      <td>1.374610</td>\n",
       "      <td>0.885149</td>\n",
       "      <td>0.489462</td>\n",
       "      <td>-0.600870</td>\n",
       "      <td>-1.927453</td>\n",
       "      <td>1.326583</td>\n",
       "      <td>84.852261</td>\n",
       "      <td>0.981814</td>\n",
       "      <td>0.977026</td>\n",
       "      <td>3.716211</td>\n",
       "    </tr>\n",
       "    <tr>\n",
       "      <th>2005-02-17</th>\n",
       "      <td>88.657990</td>\n",
       "      <td>89.974691</td>\n",
       "      <td>87.889914</td>\n",
       "      <td>89.592850</td>\n",
       "      <td>3490200</td>\n",
       "      <td>0.007452</td>\n",
       "      <td>0.023720</td>\n",
       "      <td>0.033451</td>\n",
       "      <td>-1.761597e+06</td>\n",
       "      <td>18979992</td>\n",
       "      <td>...</td>\n",
       "      <td>1.519757</td>\n",
       "      <td>1.012070</td>\n",
       "      <td>0.507687</td>\n",
       "      <td>1.007361</td>\n",
       "      <td>-1.340490</td>\n",
       "      <td>2.347851</td>\n",
       "      <td>85.252210</td>\n",
       "      <td>0.745240</td>\n",
       "      <td>0.742477</td>\n",
       "      <td>4.489146</td>\n",
       "    </tr>\n",
       "    <tr>\n",
       "      <th>2005-02-18</th>\n",
       "      <td>89.974697</td>\n",
       "      <td>90.984170</td>\n",
       "      <td>89.382181</td>\n",
       "      <td>89.996643</td>\n",
       "      <td>2147148</td>\n",
       "      <td>0.004507</td>\n",
       "      <td>0.017923</td>\n",
       "      <td>0.032387</td>\n",
       "      <td>-2.261616e+06</td>\n",
       "      <td>21127140</td>\n",
       "      <td>...</td>\n",
       "      <td>1.651527</td>\n",
       "      <td>1.139962</td>\n",
       "      <td>0.511565</td>\n",
       "      <td>-1.386383</td>\n",
       "      <td>-1.349668</td>\n",
       "      <td>-0.036714</td>\n",
       "      <td>85.702805</td>\n",
       "      <td>0.450698</td>\n",
       "      <td>0.449686</td>\n",
       "      <td>4.960076</td>\n",
       "    </tr>\n",
       "    <tr>\n",
       "      <th>2005-02-21</th>\n",
       "      <td>88.745771</td>\n",
       "      <td>90.764711</td>\n",
       "      <td>88.657989</td>\n",
       "      <td>89.513847</td>\n",
       "      <td>1631817</td>\n",
       "      <td>-0.005365</td>\n",
       "      <td>0.023762</td>\n",
       "      <td>0.032343</td>\n",
       "      <td>-2.567578e+06</td>\n",
       "      <td>19495323</td>\n",
       "      <td>...</td>\n",
       "      <td>1.690725</td>\n",
       "      <td>1.250114</td>\n",
       "      <td>0.440611</td>\n",
       "      <td>-4.832844</td>\n",
       "      <td>-2.046304</td>\n",
       "      <td>-2.786541</td>\n",
       "      <td>86.253751</td>\n",
       "      <td>-0.536460</td>\n",
       "      <td>-0.537904</td>\n",
       "      <td>4.397008</td>\n",
       "    </tr>\n",
       "  </tbody>\n",
       "</table>\n",
       "<p>5 rows × 94 columns</p>\n",
       "</div>"
      ],
      "text/plain": [
       "                 Open       High        Low      Close   Volume   Returns  \\\n",
       "Date                                                                        \n",
       "2005-02-15  88.210306  90.852489  86.463479  88.065468  4917447  0.001847   \n",
       "2005-02-16  88.662377  90.299481  88.315645  88.930107  2766033  0.009818   \n",
       "2005-02-17  88.657990  89.974691  87.889914  89.592850  3490200  0.007452   \n",
       "2005-02-18  89.974697  90.984170  89.382181  89.996643  2147148  0.004507   \n",
       "2005-02-21  88.745771  90.764711  88.657989  89.513847  1631817 -0.005365   \n",
       "\n",
       "               Range  Avg_Range    volume_adi  volume_obv  ...  momentum_ppo  \\\n",
       "Date                                                       ...                 \n",
       "2005-02-15  0.050761   0.033646 -2.920726e+06    12723759  ...      1.245320   \n",
       "2005-02-16  0.022463   0.033244 -3.973289e+06    15489792  ...      1.374610   \n",
       "2005-02-17  0.023720   0.033451 -1.761597e+06    18979992  ...      1.519757   \n",
       "2005-02-18  0.017923   0.032387 -2.261616e+06    21127140  ...      1.651527   \n",
       "2005-02-21  0.023762   0.032343 -2.567578e+06    19495323  ...      1.690725   \n",
       "\n",
       "            momentum_ppo_signal  momentum_ppo_hist  momentum_pvo  \\\n",
       "Date                                                               \n",
       "2005-02-15             0.762783           0.482536     -0.144647   \n",
       "2005-02-16             0.885149           0.489462     -0.600870   \n",
       "2005-02-17             1.012070           0.507687      1.007361   \n",
       "2005-02-18             1.139962           0.511565     -1.386383   \n",
       "2005-02-21             1.250114           0.440611     -4.832844   \n",
       "\n",
       "            momentum_pvo_signal  momentum_pvo_hist  momentum_kama  others_dr  \\\n",
       "Date                                                                           \n",
       "2005-02-15            -2.259098           2.114451      84.437152   0.184731   \n",
       "2005-02-16            -1.927453           1.326583      84.852261   0.981814   \n",
       "2005-02-17            -1.340490           2.347851      85.252210   0.745240   \n",
       "2005-02-18            -1.349668          -0.036714      85.702805   0.450698   \n",
       "2005-02-21            -2.046304          -2.786541      86.253751  -0.536460   \n",
       "\n",
       "            others_dlr  others_cr  \n",
       "Date                               \n",
       "2005-02-15    0.184560   2.707811  \n",
       "2005-02-16    0.977026   3.716211  \n",
       "2005-02-17    0.742477   4.489146  \n",
       "2005-02-18    0.449686   4.960076  \n",
       "2005-02-21   -0.537904   4.397008  \n",
       "\n",
       "[5 rows x 94 columns]"
      ]
     },
     "execution_count": 5,
     "metadata": {},
     "output_type": "execute_result"
    }
   ],
   "source": [
    "df = add_all_ta_features(df, open=\"Open\", high=\"High\", low=\"Low\", close=\"Close\", volume=\"Volume\", fillna=True)\n",
    "df = df.dropna()\n",
    "df.head()"
   ]
  },
  {
   "cell_type": "code",
   "execution_count": 6,
   "id": "77f15919",
   "metadata": {},
   "outputs": [
    {
     "name": "stderr",
     "output_type": "stream",
     "text": [
      "/var/folders/4_/_fbkdkz531s_92lxx_c_x6n00000gn/T/ipykernel_1639/3055005805.py:2: SettingWithCopyWarning: \n",
      "A value is trying to be set on a copy of a slice from a DataFrame.\n",
      "Try using .loc[row_indexer,col_indexer] = value instead\n",
      "\n",
      "See the caveats in the documentation: https://pandas.pydata.org/pandas-docs/stable/user_guide/indexing.html#returning-a-view-versus-a-copy\n",
      "  df.loc[df[\"Close\"].shift(-1) > df[\"Close\"], \"TARGET\"] = 1\n"
     ]
    }
   ],
   "source": [
    "# Specify Target\n",
    "df.loc[df[\"Close\"].shift(-1) > df[\"Close\"], \"TARGET\"] = 1\n",
    "df.loc[df[\"Close\"].shift(-1) <= df[\"Close\"], \"TARGET\"] = 0"
   ]
  },
  {
   "cell_type": "code",
   "execution_count": 7,
   "id": "af090c92",
   "metadata": {},
   "outputs": [
    {
     "name": "stderr",
     "output_type": "stream",
     "text": [
      "/var/folders/4_/_fbkdkz531s_92lxx_c_x6n00000gn/T/ipykernel_1639/3458268455.py:2: SettingWithCopyWarning: \n",
      "A value is trying to be set on a copy of a slice from a DataFrame\n",
      "\n",
      "See the caveats in the documentation: https://pandas.pydata.org/pandas-docs/stable/user_guide/indexing.html#returning-a-view-versus-a-copy\n",
      "  df[\"TARGET\"].fillna(0, inplace=True)\n"
     ]
    },
    {
     "data": {
      "text/html": [
       "<div>\n",
       "<style scoped>\n",
       "    .dataframe tbody tr th:only-of-type {\n",
       "        vertical-align: middle;\n",
       "    }\n",
       "\n",
       "    .dataframe tbody tr th {\n",
       "        vertical-align: top;\n",
       "    }\n",
       "\n",
       "    .dataframe thead th {\n",
       "        text-align: right;\n",
       "    }\n",
       "</style>\n",
       "<table border=\"1\" class=\"dataframe\">\n",
       "  <thead>\n",
       "    <tr style=\"text-align: right;\">\n",
       "      <th></th>\n",
       "      <th>Open</th>\n",
       "      <th>High</th>\n",
       "      <th>Low</th>\n",
       "      <th>Close</th>\n",
       "      <th>Volume</th>\n",
       "      <th>Returns</th>\n",
       "      <th>Range</th>\n",
       "      <th>Avg_Range</th>\n",
       "      <th>volume_adi</th>\n",
       "      <th>volume_obv</th>\n",
       "      <th>...</th>\n",
       "      <th>momentum_ppo_signal</th>\n",
       "      <th>momentum_ppo_hist</th>\n",
       "      <th>momentum_pvo</th>\n",
       "      <th>momentum_pvo_signal</th>\n",
       "      <th>momentum_pvo_hist</th>\n",
       "      <th>momentum_kama</th>\n",
       "      <th>others_dr</th>\n",
       "      <th>others_dlr</th>\n",
       "      <th>others_cr</th>\n",
       "      <th>TARGET</th>\n",
       "    </tr>\n",
       "    <tr>\n",
       "      <th>Date</th>\n",
       "      <th></th>\n",
       "      <th></th>\n",
       "      <th></th>\n",
       "      <th></th>\n",
       "      <th></th>\n",
       "      <th></th>\n",
       "      <th></th>\n",
       "      <th></th>\n",
       "      <th></th>\n",
       "      <th></th>\n",
       "      <th></th>\n",
       "      <th></th>\n",
       "      <th></th>\n",
       "      <th></th>\n",
       "      <th></th>\n",
       "      <th></th>\n",
       "      <th></th>\n",
       "      <th></th>\n",
       "      <th></th>\n",
       "      <th></th>\n",
       "      <th></th>\n",
       "    </tr>\n",
       "  </thead>\n",
       "  <tbody>\n",
       "    <tr>\n",
       "      <th>2023-07-12</th>\n",
       "      <td>2480.300049</td>\n",
       "      <td>2485.949951</td>\n",
       "      <td>2451.100098</td>\n",
       "      <td>2472.500000</td>\n",
       "      <td>1081811</td>\n",
       "      <td>-0.000667</td>\n",
       "      <td>0.014218</td>\n",
       "      <td>0.014104</td>\n",
       "      <td>-3.908203e+08</td>\n",
       "      <td>659030014</td>\n",
       "      <td>...</td>\n",
       "      <td>1.830686</td>\n",
       "      <td>-0.008634</td>\n",
       "      <td>-12.166515</td>\n",
       "      <td>-10.712631</td>\n",
       "      <td>-1.453885</td>\n",
       "      <td>2431.607760</td>\n",
       "      <td>-0.066686</td>\n",
       "      <td>-0.066708</td>\n",
       "      <td>2783.594100</td>\n",
       "      <td>0.0</td>\n",
       "    </tr>\n",
       "    <tr>\n",
       "      <th>2023-07-12</th>\n",
       "      <td>2480.300049</td>\n",
       "      <td>2485.949951</td>\n",
       "      <td>2451.100098</td>\n",
       "      <td>2454.649902</td>\n",
       "      <td>1320558</td>\n",
       "      <td>-0.007219</td>\n",
       "      <td>0.014218</td>\n",
       "      <td>0.014214</td>\n",
       "      <td>-3.918718e+08</td>\n",
       "      <td>657709456</td>\n",
       "      <td>...</td>\n",
       "      <td>1.808396</td>\n",
       "      <td>-0.089158</td>\n",
       "      <td>-11.545000</td>\n",
       "      <td>-10.879104</td>\n",
       "      <td>-0.665896</td>\n",
       "      <td>2432.784941</td>\n",
       "      <td>-0.721945</td>\n",
       "      <td>-0.724564</td>\n",
       "      <td>2762.776128</td>\n",
       "      <td>1.0</td>\n",
       "    </tr>\n",
       "    <tr>\n",
       "      <th>2023-07-12</th>\n",
       "      <td>2480.300049</td>\n",
       "      <td>2485.949951</td>\n",
       "      <td>2451.100098</td>\n",
       "      <td>2455.649902</td>\n",
       "      <td>1439041</td>\n",
       "      <td>0.000407</td>\n",
       "      <td>0.014218</td>\n",
       "      <td>0.014388</td>\n",
       "      <td>-3.929351e+08</td>\n",
       "      <td>659148497</td>\n",
       "      <td>...</td>\n",
       "      <td>1.771165</td>\n",
       "      <td>-0.148928</td>\n",
       "      <td>-10.246010</td>\n",
       "      <td>-10.752486</td>\n",
       "      <td>0.506476</td>\n",
       "      <td>2433.224023</td>\n",
       "      <td>0.040739</td>\n",
       "      <td>0.040731</td>\n",
       "      <td>2763.942394</td>\n",
       "      <td>0.0</td>\n",
       "    </tr>\n",
       "    <tr>\n",
       "      <th>2023-07-13</th>\n",
       "      <td>2466.000000</td>\n",
       "      <td>2484.899902</td>\n",
       "      <td>2446.250000</td>\n",
       "      <td>2450.149902</td>\n",
       "      <td>1141414</td>\n",
       "      <td>-0.002240</td>\n",
       "      <td>0.015800</td>\n",
       "      <td>0.014535</td>\n",
       "      <td>-3.938462e+08</td>\n",
       "      <td>658007083</td>\n",
       "      <td>...</td>\n",
       "      <td>1.718873</td>\n",
       "      <td>-0.209165</td>\n",
       "      <td>-10.839266</td>\n",
       "      <td>-10.769842</td>\n",
       "      <td>-0.069424</td>\n",
       "      <td>2433.334044</td>\n",
       "      <td>-0.223973</td>\n",
       "      <td>-0.224224</td>\n",
       "      <td>2757.527928</td>\n",
       "      <td>1.0</td>\n",
       "    </tr>\n",
       "    <tr>\n",
       "      <th>2023-07-14</th>\n",
       "      <td>2450.250000</td>\n",
       "      <td>2477.050049</td>\n",
       "      <td>2448.649902</td>\n",
       "      <td>2472.250000</td>\n",
       "      <td>845437</td>\n",
       "      <td>0.009020</td>\n",
       "      <td>0.011598</td>\n",
       "      <td>0.014434</td>\n",
       "      <td>-3.932865e+08</td>\n",
       "      <td>658852520</td>\n",
       "      <td>...</td>\n",
       "      <td>1.670364</td>\n",
       "      <td>-0.194037</td>\n",
       "      <td>-13.034355</td>\n",
       "      <td>-11.222744</td>\n",
       "      <td>-1.811611</td>\n",
       "      <td>2433.751978</td>\n",
       "      <td>0.901990</td>\n",
       "      <td>0.897946</td>\n",
       "      <td>2783.302533</td>\n",
       "      <td>0.0</td>\n",
       "    </tr>\n",
       "  </tbody>\n",
       "</table>\n",
       "<p>5 rows × 95 columns</p>\n",
       "</div>"
      ],
      "text/plain": [
       "                   Open         High          Low        Close   Volume  \\\n",
       "Date                                                                      \n",
       "2023-07-12  2480.300049  2485.949951  2451.100098  2472.500000  1081811   \n",
       "2023-07-12  2480.300049  2485.949951  2451.100098  2454.649902  1320558   \n",
       "2023-07-12  2480.300049  2485.949951  2451.100098  2455.649902  1439041   \n",
       "2023-07-13  2466.000000  2484.899902  2446.250000  2450.149902  1141414   \n",
       "2023-07-14  2450.250000  2477.050049  2448.649902  2472.250000   845437   \n",
       "\n",
       "             Returns     Range  Avg_Range    volume_adi  volume_obv  ...  \\\n",
       "Date                                                                 ...   \n",
       "2023-07-12 -0.000667  0.014218   0.014104 -3.908203e+08   659030014  ...   \n",
       "2023-07-12 -0.007219  0.014218   0.014214 -3.918718e+08   657709456  ...   \n",
       "2023-07-12  0.000407  0.014218   0.014388 -3.929351e+08   659148497  ...   \n",
       "2023-07-13 -0.002240  0.015800   0.014535 -3.938462e+08   658007083  ...   \n",
       "2023-07-14  0.009020  0.011598   0.014434 -3.932865e+08   658852520  ...   \n",
       "\n",
       "            momentum_ppo_signal  momentum_ppo_hist  momentum_pvo  \\\n",
       "Date                                                               \n",
       "2023-07-12             1.830686          -0.008634    -12.166515   \n",
       "2023-07-12             1.808396          -0.089158    -11.545000   \n",
       "2023-07-12             1.771165          -0.148928    -10.246010   \n",
       "2023-07-13             1.718873          -0.209165    -10.839266   \n",
       "2023-07-14             1.670364          -0.194037    -13.034355   \n",
       "\n",
       "            momentum_pvo_signal  momentum_pvo_hist  momentum_kama  others_dr  \\\n",
       "Date                                                                           \n",
       "2023-07-12           -10.712631          -1.453885    2431.607760  -0.066686   \n",
       "2023-07-12           -10.879104          -0.665896    2432.784941  -0.721945   \n",
       "2023-07-12           -10.752486           0.506476    2433.224023   0.040739   \n",
       "2023-07-13           -10.769842          -0.069424    2433.334044  -0.223973   \n",
       "2023-07-14           -11.222744          -1.811611    2433.751978   0.901990   \n",
       "\n",
       "            others_dlr    others_cr  TARGET  \n",
       "Date                                         \n",
       "2023-07-12   -0.066708  2783.594100     0.0  \n",
       "2023-07-12   -0.724564  2762.776128     1.0  \n",
       "2023-07-12    0.040731  2763.942394     0.0  \n",
       "2023-07-13   -0.224224  2757.527928     1.0  \n",
       "2023-07-14    0.897946  2783.302533     0.0  \n",
       "\n",
       "[5 rows x 95 columns]"
      ]
     },
     "execution_count": 7,
     "metadata": {},
     "output_type": "execute_result"
    }
   ],
   "source": [
    "# Fill NA\n",
    "df[\"TARGET\"].fillna(0, inplace=True)\n",
    "df.tail()"
   ]
  },
  {
   "cell_type": "markdown",
   "id": "655c84e8",
   "metadata": {},
   "source": [
    "### Train Test Split"
   ]
  },
  {
   "cell_type": "code",
   "execution_count": 8,
   "id": "74b15e25",
   "metadata": {},
   "outputs": [],
   "source": [
    "# Split into X and Y Data\n",
    "X = df.iloc[:, : -1]\n",
    "y = df.iloc[:, -1]"
   ]
  },
  {
   "cell_type": "code",
   "execution_count": 9,
   "id": "7764be22",
   "metadata": {},
   "outputs": [
    {
     "name": "stdout",
     "output_type": "stream",
     "text": [
      "Shape of X_train:  (3183, 94)\n",
      "Shape of y_train:  (3183,)\n",
      "Shape of X_test:  (1365, 94)\n",
      "Shape of y_test:  (1365,)\n",
      "Size Matches:  True\n"
     ]
    }
   ],
   "source": [
    "# Perform Train Test Split (Timeseries based method)\n",
    "train_size_rate = 0.7\n",
    "train_size = int(len(X) * train_size_rate)\n",
    "test_size = len(X) - train_size\n",
    "\n",
    "X_train = X.head(train_size)\n",
    "y_train = y.head(train_size)\n",
    "X_test = X.tail(test_size)\n",
    "y_test = y.tail(test_size)\n",
    "\n",
    "size_check = len(y_test) + len(y_train) == len(X)\n",
    "print(\"Shape of X_train: \", X_train.shape)\n",
    "print(\"Shape of y_train: \", y_train.shape)\n",
    "print(\"Shape of X_test: \", X_test.shape)\n",
    "print(\"Shape of y_test: \", y_test.shape)\n",
    "print(\"Size Matches: \", size_check)"
   ]
  },
  {
   "cell_type": "markdown",
   "id": "9f854033",
   "metadata": {},
   "source": [
    "### Build Model"
   ]
  },
  {
   "cell_type": "code",
   "execution_count": 10,
   "id": "ac98ab42",
   "metadata": {},
   "outputs": [],
   "source": [
    "# Select type of model to optimize for\n",
    "is_binary = True\n",
    "is_optimise_for_precision = True"
   ]
  },
  {
   "cell_type": "code",
   "execution_count": 11,
   "id": "798578ee",
   "metadata": {},
   "outputs": [],
   "source": [
    "# Determine Objective and Eval Metrics\n",
    "if is_binary:\n",
    "    objective = \"binary:logistic\"\n",
    "    eval_metric = \"logloss\"\n",
    "    eval_metric_list = [\"error\", \"logloss\", eval_metric]\n",
    "else:\n",
    "    objective = \"multi:softmax\"\n",
    "    eval_metric = \"mlogloss\"\n",
    "    eval_metric_list = [\"merror\", \"mlogloss\", eval_metric]"
   ]
  },
  {
   "cell_type": "code",
   "execution_count": 12,
   "id": "9bc99128",
   "metadata": {},
   "outputs": [],
   "source": [
    "# Refine Eval Metric\n",
    "if is_binary and is_optimise_for_precision:\n",
    "    eval_metric = \"aucpr\"\n",
    "    scoring = \"precision\"\n",
    "elif is_binary and not is_optimise_for_precision:\n",
    "    eval_metric = \"auc\"\n",
    "    scoring = \"f1\"\n",
    "else:\n",
    "    scoring = \"accuracy\""
   ]
  },
  {
   "cell_type": "code",
   "execution_count": 13,
   "id": "19284da7",
   "metadata": {},
   "outputs": [],
   "source": [
    "# Hyperparams: ne: 80, lr: 0.01 md: 3 gm: 6\n",
    "# ne: 1#15, lr: 0.2 md: 5 gm: 20\n",
    "#Recommended Params >> ne: 65, lr: 0.05 md: 1 gm: 20\n",
    "\n",
    "ne = 65\n",
    "lr = 0.05\n",
    "md = 1\n",
    "gm = 20"
   ]
  },
  {
   "cell_type": "code",
   "execution_count": 14,
   "id": "c16a677d",
   "metadata": {},
   "outputs": [
    {
     "name": "stderr",
     "output_type": "stream",
     "text": [
      "/Users/vipin/opt/anaconda3/envs/my_own/lib/python3.9/site-packages/xgboost/sklearn.py:1395: UserWarning: `use_label_encoder` is deprecated in 1.7.0.\n",
      "  warnings.warn(\"`use_label_encoder` is deprecated in 1.7.0.\")\n"
     ]
    }
   ],
   "source": [
    "# XGBOOST Classifier\n",
    "classifier = XGBClassifier(\n",
    "    objective=objective,\n",
    "    booster=\"gbtree\",\n",
    "    eval_metric=eval_metric,\n",
    "    n_estimators=ne,\n",
    "    learning_rate=lr,\n",
    "    max_depth=md,\n",
    "    gamma=gm,\n",
    "    subsample=0.8,\n",
    "    colsample_bytree=1,\n",
    "    random_state=1,\n",
    "    use_label_encoder=False\n",
    ")"
   ]
  },
  {
   "cell_type": "code",
   "execution_count": 15,
   "id": "58d02289",
   "metadata": {},
   "outputs": [
    {
     "data": {
      "text/html": [
       "<style>#sk-container-id-1 {color: black;}#sk-container-id-1 pre{padding: 0;}#sk-container-id-1 div.sk-toggleable {background-color: white;}#sk-container-id-1 label.sk-toggleable__label {cursor: pointer;display: block;width: 100%;margin-bottom: 0;padding: 0.3em;box-sizing: border-box;text-align: center;}#sk-container-id-1 label.sk-toggleable__label-arrow:before {content: \"▸\";float: left;margin-right: 0.25em;color: #696969;}#sk-container-id-1 label.sk-toggleable__label-arrow:hover:before {color: black;}#sk-container-id-1 div.sk-estimator:hover label.sk-toggleable__label-arrow:before {color: black;}#sk-container-id-1 div.sk-toggleable__content {max-height: 0;max-width: 0;overflow: hidden;text-align: left;background-color: #f0f8ff;}#sk-container-id-1 div.sk-toggleable__content pre {margin: 0.2em;color: black;border-radius: 0.25em;background-color: #f0f8ff;}#sk-container-id-1 input.sk-toggleable__control:checked~div.sk-toggleable__content {max-height: 200px;max-width: 100%;overflow: auto;}#sk-container-id-1 input.sk-toggleable__control:checked~label.sk-toggleable__label-arrow:before {content: \"▾\";}#sk-container-id-1 div.sk-estimator input.sk-toggleable__control:checked~label.sk-toggleable__label {background-color: #d4ebff;}#sk-container-id-1 div.sk-label input.sk-toggleable__control:checked~label.sk-toggleable__label {background-color: #d4ebff;}#sk-container-id-1 input.sk-hidden--visually {border: 0;clip: rect(1px 1px 1px 1px);clip: rect(1px, 1px, 1px, 1px);height: 1px;margin: -1px;overflow: hidden;padding: 0;position: absolute;width: 1px;}#sk-container-id-1 div.sk-estimator {font-family: monospace;background-color: #f0f8ff;border: 1px dotted black;border-radius: 0.25em;box-sizing: border-box;margin-bottom: 0.5em;}#sk-container-id-1 div.sk-estimator:hover {background-color: #d4ebff;}#sk-container-id-1 div.sk-parallel-item::after {content: \"\";width: 100%;border-bottom: 1px solid gray;flex-grow: 1;}#sk-container-id-1 div.sk-label:hover label.sk-toggleable__label {background-color: #d4ebff;}#sk-container-id-1 div.sk-serial::before {content: \"\";position: absolute;border-left: 1px solid gray;box-sizing: border-box;top: 0;bottom: 0;left: 50%;z-index: 0;}#sk-container-id-1 div.sk-serial {display: flex;flex-direction: column;align-items: center;background-color: white;padding-right: 0.2em;padding-left: 0.2em;position: relative;}#sk-container-id-1 div.sk-item {position: relative;z-index: 1;}#sk-container-id-1 div.sk-parallel {display: flex;align-items: stretch;justify-content: center;background-color: white;position: relative;}#sk-container-id-1 div.sk-item::before, #sk-container-id-1 div.sk-parallel-item::before {content: \"\";position: absolute;border-left: 1px solid gray;box-sizing: border-box;top: 0;bottom: 0;left: 50%;z-index: -1;}#sk-container-id-1 div.sk-parallel-item {display: flex;flex-direction: column;z-index: 1;position: relative;background-color: white;}#sk-container-id-1 div.sk-parallel-item:first-child::after {align-self: flex-end;width: 50%;}#sk-container-id-1 div.sk-parallel-item:last-child::after {align-self: flex-start;width: 50%;}#sk-container-id-1 div.sk-parallel-item:only-child::after {width: 0;}#sk-container-id-1 div.sk-dashed-wrapped {border: 1px dashed gray;margin: 0 0.4em 0.5em 0.4em;box-sizing: border-box;padding-bottom: 0.4em;background-color: white;}#sk-container-id-1 div.sk-label label {font-family: monospace;font-weight: bold;display: inline-block;line-height: 1.2em;}#sk-container-id-1 div.sk-label-container {text-align: center;}#sk-container-id-1 div.sk-container {/* jupyter's `normalize.less` sets `[hidden] { display: none; }` but bootstrap.min.css set `[hidden] { display: none !important; }` so we also need the `!important` here to be able to override the default hidden behavior on the sphinx rendered scikit-learn.org. See: https://github.com/scikit-learn/scikit-learn/issues/21755 */display: inline-block !important;position: relative;}#sk-container-id-1 div.sk-text-repr-fallback {display: none;}</style><div id=\"sk-container-id-1\" class=\"sk-top-container\"><div class=\"sk-text-repr-fallback\"><pre>XGBClassifier(base_score=None, booster=&#x27;gbtree&#x27;, callbacks=None,\n",
       "              colsample_bylevel=None, colsample_bynode=None, colsample_bytree=1,\n",
       "              early_stopping_rounds=None, enable_categorical=False,\n",
       "              eval_metric=[&#x27;error&#x27;, &#x27;logloss&#x27;, &#x27;logloss&#x27;], feature_types=None,\n",
       "              gamma=20, gpu_id=None, grow_policy=None, importance_type=None,\n",
       "              interaction_constraints=None, learning_rate=0.05, max_bin=None,\n",
       "              max_cat_threshold=None, max_cat_to_onehot=None,\n",
       "              max_delta_step=None, max_depth=1, max_leaves=None,\n",
       "              min_child_weight=None, missing=nan, monotone_constraints=None,\n",
       "              n_estimators=65, n_jobs=None, num_parallel_tree=None,\n",
       "              predictor=None, random_state=1, ...)</pre><b>In a Jupyter environment, please rerun this cell to show the HTML representation or trust the notebook. <br />On GitHub, the HTML representation is unable to render, please try loading this page with nbviewer.org.</b></div><div class=\"sk-container\" hidden><div class=\"sk-item\"><div class=\"sk-estimator sk-toggleable\"><input class=\"sk-toggleable__control sk-hidden--visually\" id=\"sk-estimator-id-1\" type=\"checkbox\" checked><label for=\"sk-estimator-id-1\" class=\"sk-toggleable__label sk-toggleable__label-arrow\">XGBClassifier</label><div class=\"sk-toggleable__content\"><pre>XGBClassifier(base_score=None, booster=&#x27;gbtree&#x27;, callbacks=None,\n",
       "              colsample_bylevel=None, colsample_bynode=None, colsample_bytree=1,\n",
       "              early_stopping_rounds=None, enable_categorical=False,\n",
       "              eval_metric=[&#x27;error&#x27;, &#x27;logloss&#x27;, &#x27;logloss&#x27;], feature_types=None,\n",
       "              gamma=20, gpu_id=None, grow_policy=None, importance_type=None,\n",
       "              interaction_constraints=None, learning_rate=0.05, max_bin=None,\n",
       "              max_cat_threshold=None, max_cat_to_onehot=None,\n",
       "              max_delta_step=None, max_depth=1, max_leaves=None,\n",
       "              min_child_weight=None, missing=nan, monotone_constraints=None,\n",
       "              n_estimators=65, n_jobs=None, num_parallel_tree=None,\n",
       "              predictor=None, random_state=1, ...)</pre></div></div></div></div></div>"
      ],
      "text/plain": [
       "XGBClassifier(base_score=None, booster='gbtree', callbacks=None,\n",
       "              colsample_bylevel=None, colsample_bynode=None, colsample_bytree=1,\n",
       "              early_stopping_rounds=None, enable_categorical=False,\n",
       "              eval_metric=['error', 'logloss', 'logloss'], feature_types=None,\n",
       "              gamma=20, gpu_id=None, grow_policy=None, importance_type=None,\n",
       "              interaction_constraints=None, learning_rate=0.05, max_bin=None,\n",
       "              max_cat_threshold=None, max_cat_to_onehot=None,\n",
       "              max_delta_step=None, max_depth=1, max_leaves=None,\n",
       "              min_child_weight=None, missing=nan, monotone_constraints=None,\n",
       "              n_estimators=65, n_jobs=None, num_parallel_tree=None,\n",
       "              predictor=None, random_state=1, ...)"
      ]
     },
     "execution_count": 15,
     "metadata": {},
     "output_type": "execute_result"
    }
   ],
   "source": [
    "# Fit Model\n",
    "eval_set = [(X_train, y_train), (X_test, y_test)]\n",
    "classifier.set_params(eval_metric=eval_metric_list)  # Example metric: 'error'\n",
    "\n",
    "classifier.fit(X_train, y_train, eval_set=eval_set, verbose=False)"
   ]
  },
  {
   "cell_type": "markdown",
   "id": "90fc92aa",
   "metadata": {},
   "source": [
    "### Make Predictions"
   ]
  },
  {
   "cell_type": "code",
   "execution_count": 16,
   "id": "cccfe06c",
   "metadata": {},
   "outputs": [
    {
     "name": "stdout",
     "output_type": "stream",
     "text": [
      "Preds Training Data: \n",
      " [1 1 1 1 1 1 1 0 1 1]\n",
      "Preds Probabilities Training Data: \n",
      " [[0.496081 0.503919]\n",
      " [0.496081 0.503919]\n",
      " [0.496081 0.503919]]\n"
     ]
    }
   ],
   "source": [
    "# Get Predictions Training\n",
    "train_yhat = classifier.predict(X_train)\n",
    "train_yhat_proba = classifier.predict_proba(X_train)\n",
    "print(\"Preds Training Data: \\n\", train_yhat[:10])\n",
    "print(\"Preds Probabilities Training Data: \\n\", train_yhat_proba[:3])"
   ]
  },
  {
   "cell_type": "code",
   "execution_count": 17,
   "id": "049133dd",
   "metadata": {},
   "outputs": [
    {
     "name": "stdout",
     "output_type": "stream",
     "text": [
      "Preds Test Data: \n",
      " [1 0 0 0 0 0 0 1 0 0]\n",
      "Preds Probabilities Training Data: \n",
      " [[0.49601597 0.50398403]\n",
      " [0.50136375 0.49863628]\n",
      " [0.50136375 0.49863628]]\n"
     ]
    }
   ],
   "source": [
    "# Get Predictions Test\n",
    "test_yhat = classifier.predict(X_test)\n",
    "test_yhat_proba = classifier.predict_proba(X_test)\n",
    "print(\"Preds Test Data: \\n\", test_yhat[:10])\n",
    "print(\"Preds Probabilities Training Data: \\n\", test_yhat_proba[:3])"
   ]
  },
  {
   "cell_type": "code",
   "execution_count": 18,
   "id": "b1768565",
   "metadata": {},
   "outputs": [],
   "source": [
    "# Set K-Fold Cross Validation Levels\n",
    "cv = RepeatedStratifiedKFold(n_splits=5, n_repeats=1, random_state=1)"
   ]
  },
  {
   "cell_type": "code",
   "execution_count": 19,
   "id": "2460f01d",
   "metadata": {},
   "outputs": [
    {
     "name": "stderr",
     "output_type": "stream",
     "text": [
      "/Users/vipin/opt/anaconda3/envs/my_own/lib/python3.9/site-packages/xgboost/sklearn.py:1395: UserWarning: `use_label_encoder` is deprecated in 1.7.0.\n",
      "  warnings.warn(\"`use_label_encoder` is deprecated in 1.7.0.\")\n",
      "/Users/vipin/opt/anaconda3/envs/my_own/lib/python3.9/site-packages/xgboost/sklearn.py:1395: UserWarning: `use_label_encoder` is deprecated in 1.7.0.\n",
      "  warnings.warn(\"`use_label_encoder` is deprecated in 1.7.0.\")\n",
      "/Users/vipin/opt/anaconda3/envs/my_own/lib/python3.9/site-packages/xgboost/sklearn.py:1395: UserWarning: `use_label_encoder` is deprecated in 1.7.0.\n",
      "  warnings.warn(\"`use_label_encoder` is deprecated in 1.7.0.\")\n",
      "/Users/vipin/opt/anaconda3/envs/my_own/lib/python3.9/site-packages/xgboost/sklearn.py:1395: UserWarning: `use_label_encoder` is deprecated in 1.7.0.\n",
      "  warnings.warn(\"`use_label_encoder` is deprecated in 1.7.0.\")\n",
      "/Users/vipin/opt/anaconda3/envs/my_own/lib/python3.9/site-packages/sklearn/metrics/_classification.py:1469: UndefinedMetricWarning: Precision is ill-defined and being set to 0.0 due to no predicted samples. Use `zero_division` parameter to control this behavior.\n",
      "  _warn_prf(average, modifier, msg_start, len(result))\n",
      "/Users/vipin/opt/anaconda3/envs/my_own/lib/python3.9/site-packages/xgboost/sklearn.py:1395: UserWarning: `use_label_encoder` is deprecated in 1.7.0.\n",
      "  warnings.warn(\"`use_label_encoder` is deprecated in 1.7.0.\")\n"
     ]
    }
   ],
   "source": [
    "# Training Results\n",
    "train_results = cross_val_score(classifier, X_train, y_train, scoring=scoring, cv=cv, n_jobs=1)"
   ]
  },
  {
   "cell_type": "markdown",
   "id": "21a3a789",
   "metadata": {},
   "source": [
    "### Evaluation Metrics  - Loss and Overfitting"
   ]
  },
  {
   "cell_type": "code",
   "execution_count": 20,
   "id": "2c61d3a6",
   "metadata": {},
   "outputs": [],
   "source": [
    "# Retrieve performance metrics\n",
    "results = classifier.evals_result()\n",
    "epochs = len(results[\"validation_0\"][\"error\"])\n",
    "x_axis = range(0, epochs)"
   ]
  },
  {
   "cell_type": "code",
   "execution_count": 21,
   "id": "3f38b97e",
   "metadata": {},
   "outputs": [
    {
     "data": {
      "image/png": "[encoded data removed]",
      "text/plain": [
       "<Figure size 640x480 with 1 Axes>"
      ]
     },
     "metadata": {},
     "output_type": "display_data"
    }
   ],
   "source": [
    "# Plot Log Loss\n",
    "fig, ax = plt.subplots()\n",
    "ax.plot(x_axis, results[\"validation_0\"][\"logloss\"], label=\"Train\")\n",
    "ax.plot(x_axis, results[\"validation_1\"][\"logloss\"], label=\"Test\")\n",
    "ax.legend()\n",
    "plt.ylabel(\"Logloss\")\n",
    "plt.title(\"XGB Logloss\")\n",
    "plt.show()"
   ]
  },
  {
   "cell_type": "code",
   "execution_count": 22,
   "id": "1db8bef1",
   "metadata": {},
   "outputs": [
    {
     "data": {
      "image/png": "[encoded data removed]",
      "text/plain": [
       "<Figure size 640x480 with 1 Axes>"
      ]
     },
     "metadata": {},
     "output_type": "display_data"
    }
   ],
   "source": [
    "# Plot Classification Error\n",
    "fig, ax = plt.subplots()\n",
    "ax.plot(x_axis, results[\"validation_0\"][\"error\"], label=\"Train\")\n",
    "ax.plot(x_axis, results[\"validation_1\"][\"error\"], label=\"Test\")\n",
    "ax.legend()\n",
    "plt.ylabel(\"Error\")\n",
    "plt.title(\"XGB Error\")\n",
    "plt.show()"
   ]
  },
  {
   "cell_type": "markdown",
   "id": "a8c8e014",
   "metadata": {},
   "source": [
    "### Evaluation Metrics - ROC Curve"
   ]
  },
  {
   "cell_type": "code",
   "execution_count": 22,
   "id": "f80a8a22",
   "metadata": {},
   "outputs": [],
   "source": [
    "# Plot Training ROC Curve\n",
    "#plot_roc_curve(classifier, X_train, y_train)"
   ]
  },
  {
   "cell_type": "code",
   "execution_count": 23,
   "id": "ae58cfcc",
   "metadata": {},
   "outputs": [],
   "source": [
    "# Plot Test ROC Curve\n",
    "#plot_roc_curve(classifier, X_test, y_test)"
   ]
  },
  {
   "cell_type": "markdown",
   "id": "183438d3",
   "metadata": {},
   "source": [
    "### Performance Evaluation Comparison"
   ]
  },
  {
   "cell_type": "code",
   "execution_count": 23,
   "id": "c5c8c2f3",
   "metadata": {},
   "outputs": [],
   "source": [
    "# Set K-Fold Cross Validation Levels\n",
    "cv = RepeatedStratifiedKFold(n_splits=5, n_repeats=1, random_state=1)"
   ]
  },
  {
   "cell_type": "code",
   "execution_count": 24,
   "id": "48e17a86",
   "metadata": {},
   "outputs": [
    {
     "name": "stderr",
     "output_type": "stream",
     "text": [
      "/Users/vipin/opt/anaconda3/envs/my_own/lib/python3.9/site-packages/xgboost/sklearn.py:1395: UserWarning: `use_label_encoder` is deprecated in 1.7.0.\n",
      "  warnings.warn(\"`use_label_encoder` is deprecated in 1.7.0.\")\n",
      "/Users/vipin/opt/anaconda3/envs/my_own/lib/python3.9/site-packages/sklearn/metrics/_classification.py:1469: UndefinedMetricWarning: Precision is ill-defined and being set to 0.0 due to no predicted samples. Use `zero_division` parameter to control this behavior.\n",
      "  _warn_prf(average, modifier, msg_start, len(result))\n",
      "/Users/vipin/opt/anaconda3/envs/my_own/lib/python3.9/site-packages/xgboost/sklearn.py:1395: UserWarning: `use_label_encoder` is deprecated in 1.7.0.\n",
      "  warnings.warn(\"`use_label_encoder` is deprecated in 1.7.0.\")\n"
     ]
    }
   ],
   "source": [
    "# Training and Test Results\n",
    "train_results = cross_val_score(classifier, X_train, y_train, scoring=scoring, cv=cv, n_jobs=-1)\n",
    "test_results = cross_val_score(classifier, X_test, y_test, scoring=scoring, cv=cv, n_jobs=-1)"
   ]
  },
  {
   "cell_type": "code",
   "execution_count": 25,
   "id": "0408fa59",
   "metadata": {},
   "outputs": [
    {
     "name": "stdout",
     "output_type": "stream",
     "text": [
      "TRAIN:\n",
      "Average Acc K-Fold 0.4\n",
      "Std Dev K-Fold 0.2\n",
      "Precision Score 0 0.528\n",
      "Precision Score 1 0.557\n",
      "----- ----- ----- ----- ----- ----- -----\n",
      "TEST:\n",
      "Average Acc K-Fold 0.5\n",
      "Std Dev K-Fold 0.0\n",
      "Precision Score 0 0.494\n",
      "Precision Score 1 0.489\n",
      "\n"
     ]
    }
   ],
   "source": [
    "# Comparison of Results\n",
    "print(\"TRAIN:\")\n",
    "print(\"Average Acc K-Fold\", round(train_results.mean(), 2))\n",
    "print(\"Std Dev K-Fold\", round(train_results.std(), 2))\n",
    "print(\"Precision Score 0\", round(precision_score(y_train, train_yhat, average=None)[0], 3))\n",
    "print(\"Precision Score 1\", round(precision_score(y_train, train_yhat, average=None)[1], 3))\n",
    "print(\"----- ----- ----- ----- ----- ----- -----\")\n",
    "print(\"TEST:\")\n",
    "print(\"Average Acc K-Fold\", round(test_results.mean(), 2))\n",
    "print(\"Std Dev K-Fold\", round(test_results.std(), 2))\n",
    "print(\"Precision Score 0\", round(precision_score(y_test, test_yhat, average=None)[0], 3))\n",
    "print(\"Precision Score 1\", round(precision_score(y_test, test_yhat, average=None)[1], 3))\n",
    "print(\"\")"
   ]
  },
  {
   "cell_type": "markdown",
   "id": "69d8b2bf",
   "metadata": {},
   "source": [
    "### Evaluation Metrics - Summary Report"
   ]
  },
  {
   "cell_type": "code",
   "execution_count": 26,
   "id": "1afce0b9",
   "metadata": {},
   "outputs": [
    {
     "name": "stdout",
     "output_type": "stream",
     "text": [
      "              precision    recall  f1-score   support\n",
      "\n",
      "         0.0       0.53      0.70      0.60      1590\n",
      "         1.0       0.56      0.38      0.45      1593\n",
      "\n",
      "    accuracy                           0.54      3183\n",
      "   macro avg       0.54      0.54      0.53      3183\n",
      "weighted avg       0.54      0.54      0.53      3183\n",
      "\n"
     ]
    }
   ],
   "source": [
    "# Show summary report - Training\n",
    "print(classification_report(y_train, train_yhat))"
   ]
  },
  {
   "cell_type": "code",
   "execution_count": 27,
   "id": "01f81ef8",
   "metadata": {},
   "outputs": [
    {
     "name": "stdout",
     "output_type": "stream",
     "text": [
      "              precision    recall  f1-score   support\n",
      "\n",
      "         0.0       0.49      0.83      0.62       678\n",
      "         1.0       0.49      0.16      0.24       687\n",
      "\n",
      "    accuracy                           0.49      1365\n",
      "   macro avg       0.49      0.50      0.43      1365\n",
      "weighted avg       0.49      0.49      0.43      1365\n",
      "\n"
     ]
    }
   ],
   "source": [
    "# Show summary report - Test\n",
    "print(classification_report(y_test, test_yhat))"
   ]
  },
  {
   "cell_type": "markdown",
   "id": "f6af4753",
   "metadata": {},
   "source": [
    "### Performance Evaluation - Confusion Matrix"
   ]
  },
  {
   "cell_type": "code",
   "execution_count": 28,
   "id": "bf851feb",
   "metadata": {},
   "outputs": [
    {
     "data": {
      "text/plain": [
       "<sklearn.metrics._plot.confusion_matrix.ConfusionMatrixDisplay at 0x7fe2e7c10be0>"
      ]
     },
     "execution_count": 28,
     "metadata": {},
     "output_type": "execute_result"
    },
    {
     "data": {
      "image/png": "[encoded data removed]",
      "text/plain": [
       "<Figure size 640x480 with 2 Axes>"
      ]
     },
     "metadata": {},
     "output_type": "display_data"
    }
   ],
   "source": [
    "# Training Confusion Matrix\n",
    "cm_train = confusion_matrix(y_train, train_yhat)\n",
    "ConfusionMatrixDisplay(cm_train).plot()"
   ]
  },
  {
   "cell_type": "code",
   "execution_count": 29,
   "id": "da09b2cd",
   "metadata": {},
   "outputs": [
    {
     "data": {
      "text/plain": [
       "<sklearn.metrics._plot.confusion_matrix.ConfusionMatrixDisplay at 0x7fe2e746b070>"
      ]
     },
     "execution_count": 29,
     "metadata": {},
     "output_type": "execute_result"
    },
    {
     "data": {
      "image/png": "[encoded data removed]",
      "text/plain": [
       "<Figure size 640x480 with 2 Axes>"
      ]
     },
     "metadata": {},
     "output_type": "display_data"
    }
   ],
   "source": [
    "# Test Confusion Matrix\n",
    "cm_test = confusion_matrix(y_test, test_yhat)\n",
    "ConfusionMatrixDisplay(cm_test).plot()"
   ]
  },
  {
   "cell_type": "markdown",
   "id": "b87fc129",
   "metadata": {},
   "source": [
    "### Feature Importance"
   ]
  },
  {
   "cell_type": "code",
   "execution_count": 30,
   "id": "664c7711",
   "metadata": {},
   "outputs": [
    {
     "data": {
      "image/png": "[encoded data removed]",
      "text/plain": [
       "<Figure size 2000x500 with 1 Axes>"
      ]
     },
     "metadata": {},
     "output_type": "display_data"
    }
   ],
   "source": [
    "# Plot Feature Importances\n",
    "fig = plt.figure(figsize=(20, 5))\n",
    "importance_labels = X.columns\n",
    "importance_features = classifier.feature_importances_\n",
    "\n",
    "plt.bar(importance_labels, importance_features)\n",
    "plt.show()"
   ]
  },
  {
   "cell_type": "code",
   "execution_count": 31,
   "id": "3823aabd",
   "metadata": {},
   "outputs": [
    {
     "name": "stdout",
     "output_type": "stream",
     "text": [
      "['Returns', 'trend_sma_slow']\n"
     ]
    }
   ],
   "source": [
    "filtered_numbers = []\n",
    "filterd_labels = []\n",
    "filter_score = []\n",
    "for index,ddd in enumerate(importance_features):\n",
    "    if ddd > 0.05:\n",
    "        filter_score.append(ddd)\n",
    "        filterd_labels.append(importance_labels[index])\n",
    "       # print(importance_labels[index])\n",
    "print(filterd_labels)"
   ]
  },
  {
   "cell_type": "code",
   "execution_count": null,
   "id": "7015682e",
   "metadata": {},
   "outputs": [],
   "source": []
  },
  {
   "cell_type": "code",
   "execution_count": 32,
   "id": "a09b9eab",
   "metadata": {},
   "outputs": [
    {
     "data": {
      "image/png": "[encoded data removed]",
      "text/plain": [
       "<Figure size 2000x500 with 1 Axes>"
      ]
     },
     "metadata": {},
     "output_type": "display_data"
    }
   ],
   "source": [
    "# Plot Feature Importances\n",
    "fig = plt.figure(figsize=(20, 5))\n",
    "importance_labels = X.columns\n",
    "importance_features = classifier.feature_importances_\n",
    "\n",
    "plt.bar(filterd_labels, filter_score)\n",
    "plt.show()"
   ]
  },
  {
   "cell_type": "code",
   "execution_count": 32,
   "id": "48a61b94",
   "metadata": {},
   "outputs": [],
   "source": [
    "#conda install graphviz python-graphviz"
   ]
  },
  {
   "cell_type": "markdown",
   "id": "5e508674",
   "metadata": {},
   "source": [
    "### XGBOOST TREE"
   ]
  },
  {
   "cell_type": "code",
   "execution_count": 33,
   "id": "9d1295cc",
   "metadata": {},
   "outputs": [
    {
     "data": {
      "text/plain": [
       "<Axes: >"
      ]
     },
     "execution_count": 33,
     "metadata": {},
     "output_type": "execute_result"
    },
    {
     "data": {
      "image/png": "[encoded data removed]",
      "text/plain": [
       "<Figure size 8000x5000 with 1 Axes>"
      ]
     },
     "metadata": {},
     "output_type": "display_data"
    }
   ],
   "source": [
    "rcParams[\"figure.figsize\"] = 80, 50\n",
    "plot_tree(classifier)"
   ]
  },
  {
   "cell_type": "markdown",
   "id": "ece5d8b6",
   "metadata": {},
   "source": [
    "### Conclusion"
   ]
  },
  {
   "cell_type": "markdown",
   "id": "84871ce0",
   "metadata": {},
   "source": [
    "We feel that it is possible using Machine Learning, that we can forecast with better than 50/50 odds, whether the Range (our interpretation of volatility) for Bitcoin, can be predicted ahead of of time by at least 1 day into the future. This information could be valuable for MOVE based contracts trading."
   ]
  }
 ],
 "metadata": {
  "kernelspec": {
   "display_name": "Python 3 (ipykernel)",
   "language": "python",
   "name": "python3"
  },
  "language_info": {
   "codemirror_mode": {
    "name": "ipython",
    "version": 3
   },
   "file_extension": ".py",
   "mimetype": "text/x-python",
   "name": "python",
   "nbconvert_exporter": "python",
   "pygments_lexer": "ipython3",
   "version": "3.9.16"
  }
 },
 "nbformat": 4,
 "nbformat_minor": 5
}
