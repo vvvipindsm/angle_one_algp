{
 "cells": [
  {
   "cell_type": "markdown",
   "metadata": {
    "id": "QZK36hW6M7cl"
   },
   "source": [
    "#Libraries and Data"
   ]
  },
  {
   "cell_type": "code",
   "execution_count": 14,
   "metadata": {
    "executionInfo": {
     "elapsed": 2554,
     "status": "ok",
     "timestamp": 1621008666318,
     "user": {
      "displayName": "Diogo Resende",
      "photoUrl": "https://lh3.googleusercontent.com/a-/AOh14GgH4DE06-yE1oiIzCiaAURCl1Escr4LXXiaSnbSaA=s64",
      "userId": "05706604408624562002"
     },
     "user_tz": -120
    },
    "id": "xBzm1qtYNE6M"
   },
   "outputs": [],
   "source": [
    "#import libraries\n",
    "import numpy as np\n",
    "import pandas as pd\n",
    "import itertools\n",
    "from prophet import Prophet\n",
    "import yfinance\n",
    "import pickle"
   ]
  },
  {
   "cell_type": "code",
   "execution_count": 6,
   "metadata": {},
   "outputs": [
    {
     "name": "stdout",
     "output_type": "stream",
     "text": [
      "[*********************100%***********************]  1 of 1 completed\n"
     ]
    },
    {
     "data": {
      "text/html": [
       "<div>\n",
       "<style scoped>\n",
       "    .dataframe tbody tr th:only-of-type {\n",
       "        vertical-align: middle;\n",
       "    }\n",
       "\n",
       "    .dataframe tbody tr th {\n",
       "        vertical-align: top;\n",
       "    }\n",
       "\n",
       "    .dataframe thead th {\n",
       "        text-align: right;\n",
       "    }\n",
       "</style>\n",
       "<table border=\"1\" class=\"dataframe\">\n",
       "  <thead>\n",
       "    <tr style=\"text-align: right;\">\n",
       "      <th></th>\n",
       "      <th>Open</th>\n",
       "      <th>High</th>\n",
       "      <th>Low</th>\n",
       "      <th>Close</th>\n",
       "      <th>Volume</th>\n",
       "    </tr>\n",
       "    <tr>\n",
       "      <th>Date</th>\n",
       "      <th></th>\n",
       "      <th></th>\n",
       "      <th></th>\n",
       "      <th></th>\n",
       "      <th></th>\n",
       "    </tr>\n",
       "  </thead>\n",
       "  <tbody>\n",
       "    <tr>\n",
       "      <th>2023-08-02</th>\n",
       "      <td>855.000000</td>\n",
       "      <td>855.000000</td>\n",
       "      <td>838.200012</td>\n",
       "      <td>843.049988</td>\n",
       "      <td>1604731</td>\n",
       "    </tr>\n",
       "    <tr>\n",
       "      <th>2023-08-03</th>\n",
       "      <td>840.000000</td>\n",
       "      <td>841.650024</td>\n",
       "      <td>832.549988</td>\n",
       "      <td>835.400024</td>\n",
       "      <td>1375222</td>\n",
       "    </tr>\n",
       "    <tr>\n",
       "      <th>2023-08-04</th>\n",
       "      <td>837.049988</td>\n",
       "      <td>841.599976</td>\n",
       "      <td>832.299988</td>\n",
       "      <td>834.799988</td>\n",
       "      <td>887582</td>\n",
       "    </tr>\n",
       "    <tr>\n",
       "      <th>2023-08-07</th>\n",
       "      <td>836.950012</td>\n",
       "      <td>840.650024</td>\n",
       "      <td>829.500000</td>\n",
       "      <td>837.799988</td>\n",
       "      <td>1106208</td>\n",
       "    </tr>\n",
       "    <tr>\n",
       "      <th>2023-08-08</th>\n",
       "      <td>839.000000</td>\n",
       "      <td>839.849976</td>\n",
       "      <td>836.799988</td>\n",
       "      <td>837.900024</td>\n",
       "      <td>23611</td>\n",
       "    </tr>\n",
       "  </tbody>\n",
       "</table>\n",
       "</div>"
      ],
      "text/plain": [
       "                  Open        High         Low       Close   Volume\n",
       "Date                                                               \n",
       "2023-08-02  855.000000  855.000000  838.200012  843.049988  1604731\n",
       "2023-08-03  840.000000  841.650024  832.549988  835.400024  1375222\n",
       "2023-08-04  837.049988  841.599976  832.299988  834.799988   887582\n",
       "2023-08-07  836.950012  840.650024  829.500000  837.799988  1106208\n",
       "2023-08-08  839.000000  839.849976  836.799988  837.900024    23611"
      ]
     },
     "execution_count": 6,
     "metadata": {},
     "output_type": "execute_result"
    }
   ],
   "source": [
    "#load the datast\n",
    "#[OLECTRA,\"LT\",\"CONCOR\",\"ELGIEQUIP\",\"IOC\",\"BEL\",\"TATAELXSI\",\"^NSEI\"]\n",
    "#[\"RELI\",\"HDFCBANK.NS\",\"TATAMOTORS.NS\",\"SBIN.NS\",\"TCS.NS\",\"TITAN.NS\",\"SUNPHARMA.BO\",\"TECHM.NS\", \"ASIANPAINT.NS\",\"TATACONSUM.NS\"]\n",
    "\n",
    "stock_name = \"TATACONSUM.NS\"\n",
    "data = yfinance.download (tickers = \"{}\".format(stock_name),start=\"2000-03-06\",\n",
    "                               interval = \"1d\", group_by = 'ticker', auto_adjust = True)\n",
    "\n",
    "#data = pd.read_csv(\"./stock_historical_data/{}.csv\".format(stock_name))\n",
    "#data.set_index(\"Date\", inplace=True)\n",
    "data.tail()"
   ]
  },
  {
   "cell_type": "markdown",
   "metadata": {
    "id": "6RKxpqoBOSBX"
   },
   "source": [
    "#Data preparation"
   ]
  },
  {
   "cell_type": "code",
   "execution_count": 9,
   "metadata": {
    "colab": {
     "base_uri": "https://localhost:8080/"
    },
    "executionInfo": {
     "elapsed": 843,
     "status": "ok",
     "timestamp": 1621008673660,
     "user": {
      "displayName": "Diogo Resende",
      "photoUrl": "https://lh3.googleusercontent.com/a-/AOh14GgH4DE06-yE1oiIzCiaAURCl1Escr4LXXiaSnbSaA=s64",
      "userId": "05706604408624562002"
     },
     "user_tz": -120
    },
    "id": "o55_2auGOUm6",
    "outputId": "7b72e62e-b26c-451e-c930-f7e794b87c23"
   },
   "outputs": [],
   "source": [
    "#transform the date variable\n",
    "data[\"Date\"] = pd.to_datetime(data.index)\n",
    "#data.Date"
   ]
  },
  {
   "cell_type": "code",
   "execution_count": 10,
   "metadata": {
    "colab": {
     "base_uri": "https://localhost:8080/",
     "height": 79
    },
    "executionInfo": {
     "elapsed": 744,
     "status": "ok",
     "timestamp": 1621008692325,
     "user": {
      "displayName": "Diogo Resende",
      "photoUrl": "https://lh3.googleusercontent.com/a-/AOh14GgH4DE06-yE1oiIzCiaAURCl1Escr4LXXiaSnbSaA=s64",
      "userId": "05706604408624562002"
     },
     "user_tz": -120
    },
    "id": "D3FRYUauQWkz",
    "outputId": "96122dd3-0ca2-496a-e72d-a04c87425033"
   },
   "outputs": [
    {
     "data": {
      "text/html": [
       "<div>\n",
       "<style scoped>\n",
       "    .dataframe tbody tr th:only-of-type {\n",
       "        vertical-align: middle;\n",
       "    }\n",
       "\n",
       "    .dataframe tbody tr th {\n",
       "        vertical-align: top;\n",
       "    }\n",
       "\n",
       "    .dataframe thead th {\n",
       "        text-align: right;\n",
       "    }\n",
       "</style>\n",
       "<table border=\"1\" class=\"dataframe\">\n",
       "  <thead>\n",
       "    <tr style=\"text-align: right;\">\n",
       "      <th></th>\n",
       "      <th>Open</th>\n",
       "      <th>High</th>\n",
       "      <th>Low</th>\n",
       "      <th>y</th>\n",
       "      <th>Volume</th>\n",
       "      <th>ds</th>\n",
       "    </tr>\n",
       "    <tr>\n",
       "      <th>Date</th>\n",
       "      <th></th>\n",
       "      <th></th>\n",
       "      <th></th>\n",
       "      <th></th>\n",
       "      <th></th>\n",
       "      <th></th>\n",
       "    </tr>\n",
       "  </thead>\n",
       "  <tbody>\n",
       "    <tr>\n",
       "      <th>2023-07-26</th>\n",
       "      <td>873.950012</td>\n",
       "      <td>883.950012</td>\n",
       "      <td>869.549988</td>\n",
       "      <td>873.900024</td>\n",
       "      <td>1940116</td>\n",
       "      <td>2023-07-26</td>\n",
       "    </tr>\n",
       "    <tr>\n",
       "      <th>2023-07-27</th>\n",
       "      <td>875.950012</td>\n",
       "      <td>880.000000</td>\n",
       "      <td>847.700012</td>\n",
       "      <td>850.049988</td>\n",
       "      <td>3203072</td>\n",
       "      <td>2023-07-27</td>\n",
       "    </tr>\n",
       "    <tr>\n",
       "      <th>2023-07-28</th>\n",
       "      <td>854.250000</td>\n",
       "      <td>860.400024</td>\n",
       "      <td>842.000000</td>\n",
       "      <td>859.349976</td>\n",
       "      <td>2365708</td>\n",
       "      <td>2023-07-28</td>\n",
       "    </tr>\n",
       "    <tr>\n",
       "      <th>2023-07-31</th>\n",
       "      <td>859.349976</td>\n",
       "      <td>860.849976</td>\n",
       "      <td>852.500000</td>\n",
       "      <td>859.299988</td>\n",
       "      <td>1454789</td>\n",
       "      <td>2023-07-31</td>\n",
       "    </tr>\n",
       "    <tr>\n",
       "      <th>2023-08-01</th>\n",
       "      <td>861.900024</td>\n",
       "      <td>863.299988</td>\n",
       "      <td>853.099976</td>\n",
       "      <td>856.750000</td>\n",
       "      <td>987812</td>\n",
       "      <td>2023-08-01</td>\n",
       "    </tr>\n",
       "    <tr>\n",
       "      <th>2023-08-02</th>\n",
       "      <td>855.000000</td>\n",
       "      <td>855.000000</td>\n",
       "      <td>838.200012</td>\n",
       "      <td>843.049988</td>\n",
       "      <td>1604731</td>\n",
       "      <td>2023-08-02</td>\n",
       "    </tr>\n",
       "    <tr>\n",
       "      <th>2023-08-03</th>\n",
       "      <td>840.000000</td>\n",
       "      <td>841.650024</td>\n",
       "      <td>832.549988</td>\n",
       "      <td>835.400024</td>\n",
       "      <td>1375222</td>\n",
       "      <td>2023-08-03</td>\n",
       "    </tr>\n",
       "    <tr>\n",
       "      <th>2023-08-04</th>\n",
       "      <td>837.049988</td>\n",
       "      <td>841.599976</td>\n",
       "      <td>832.299988</td>\n",
       "      <td>834.799988</td>\n",
       "      <td>887582</td>\n",
       "      <td>2023-08-04</td>\n",
       "    </tr>\n",
       "    <tr>\n",
       "      <th>2023-08-07</th>\n",
       "      <td>836.950012</td>\n",
       "      <td>840.650024</td>\n",
       "      <td>829.500000</td>\n",
       "      <td>837.799988</td>\n",
       "      <td>1106208</td>\n",
       "      <td>2023-08-07</td>\n",
       "    </tr>\n",
       "    <tr>\n",
       "      <th>2023-08-08</th>\n",
       "      <td>839.000000</td>\n",
       "      <td>839.849976</td>\n",
       "      <td>836.799988</td>\n",
       "      <td>837.900024</td>\n",
       "      <td>23611</td>\n",
       "      <td>2023-08-08</td>\n",
       "    </tr>\n",
       "  </tbody>\n",
       "</table>\n",
       "</div>"
      ],
      "text/plain": [
       "                  Open        High         Low           y   Volume         ds\n",
       "Date                                                                          \n",
       "2023-07-26  873.950012  883.950012  869.549988  873.900024  1940116 2023-07-26\n",
       "2023-07-27  875.950012  880.000000  847.700012  850.049988  3203072 2023-07-27\n",
       "2023-07-28  854.250000  860.400024  842.000000  859.349976  2365708 2023-07-28\n",
       "2023-07-31  859.349976  860.849976  852.500000  859.299988  1454789 2023-07-31\n",
       "2023-08-01  861.900024  863.299988  853.099976  856.750000   987812 2023-08-01\n",
       "2023-08-02  855.000000  855.000000  838.200012  843.049988  1604731 2023-08-02\n",
       "2023-08-03  840.000000  841.650024  832.549988  835.400024  1375222 2023-08-03\n",
       "2023-08-04  837.049988  841.599976  832.299988  834.799988   887582 2023-08-04\n",
       "2023-08-07  836.950012  840.650024  829.500000  837.799988  1106208 2023-08-07\n",
       "2023-08-08  839.000000  839.849976  836.799988  837.900024    23611 2023-08-08"
      ]
     },
     "execution_count": 10,
     "metadata": {},
     "output_type": "execute_result"
    }
   ],
   "source": [
    "#renaming variables\n",
    "data = data.rename(columns = {'Close': 'y',\n",
    "                     'Date': 'ds'})\n",
    "data.tail(10)\n",
    "data"
   ]
  },
  {
   "cell_type": "markdown",
   "metadata": {
    "id": "rbI03M5DQnf7"
   },
   "source": [
    "#Holidays"
   ]
  },
  {
   "cell_type": "code",
   "execution_count": 5,
   "metadata": {
    "colab": {
     "base_uri": "https://localhost:8080/",
     "height": 110
    },
    "executionInfo": {
     "elapsed": 807,
     "status": "ok",
     "timestamp": 1621008701180,
     "user": {
      "displayName": "Diogo Resende",
      "photoUrl": "https://lh3.googleusercontent.com/a-/AOh14GgH4DE06-yE1oiIzCiaAURCl1Escr4LXXiaSnbSaA=s64",
      "userId": "05706604408624562002"
     },
     "user_tz": -120
    },
    "id": "PhOrTqnKRcFB",
    "outputId": "9ea09216-88c5-45e1-9de3-98ab6f27514c"
   },
   "outputs": [],
   "source": [
    "#Thanksgiving\n",
    "#thanksgiving_dates = df[df.Thanksgiving == 1].ds\n",
    "#thanksgiving = pd.DataFrame({'holiday': 'thanksgiving',\n",
    " #                      'ds': pd.to_datetime(thanksgiving_dates),\n",
    "  #                     'lower_window': -5,\n",
    "   #                    'upper_window': 2})\n",
    "#thanksgiving.head(2)"
   ]
  },
  {
   "cell_type": "code",
   "execution_count": 6,
   "metadata": {
    "colab": {
     "base_uri": "https://localhost:8080/",
     "height": 478
    },
    "executionInfo": {
     "elapsed": 735,
     "status": "ok",
     "timestamp": 1621008705120,
     "user": {
      "displayName": "Diogo Resende",
      "photoUrl": "https://lh3.googleusercontent.com/a-/AOh14GgH4DE06-yE1oiIzCiaAURCl1Escr4LXXiaSnbSaA=s64",
      "userId": "05706604408624562002"
     },
     "user_tz": -120
    },
    "id": "cmcQZKjgRp06",
    "outputId": "ae9ef015-e043-4654-d9a5-7d5a61f71a03"
   },
   "outputs": [],
   "source": [
    "#combining holidays\n",
    "#holidays = pd.concat([easter, thanksgiving])\n",
    "#holidays"
   ]
  },
  {
   "cell_type": "code",
   "execution_count": 11,
   "metadata": {
    "executionInfo": {
     "elapsed": 789,
     "status": "ok",
     "timestamp": 1621008765383,
     "user": {
      "displayName": "Diogo Resende",
      "photoUrl": "https://lh3.googleusercontent.com/a-/AOh14GgH4DE06-yE1oiIzCiaAURCl1Escr4LXXiaSnbSaA=s64",
      "userId": "05706604408624562002"
     },
     "user_tz": -120
    },
    "id": "-ReDePNYpfSD"
   },
   "outputs": [],
   "source": [
    "#create training and test set\n",
    "test_days = 360\n",
    "training_set = data.iloc[:-test_days,:]\n",
    "test_set = data.iloc[-test_days:,:]"
   ]
  },
  {
   "cell_type": "code",
   "execution_count": 12,
   "metadata": {},
   "outputs": [
    {
     "data": {
      "text/html": [
       "<div>\n",
       "<style scoped>\n",
       "    .dataframe tbody tr th:only-of-type {\n",
       "        vertical-align: middle;\n",
       "    }\n",
       "\n",
       "    .dataframe tbody tr th {\n",
       "        vertical-align: top;\n",
       "    }\n",
       "\n",
       "    .dataframe thead th {\n",
       "        text-align: right;\n",
       "    }\n",
       "</style>\n",
       "<table border=\"1\" class=\"dataframe\">\n",
       "  <thead>\n",
       "    <tr style=\"text-align: right;\">\n",
       "      <th></th>\n",
       "      <th>Open</th>\n",
       "      <th>High</th>\n",
       "      <th>Low</th>\n",
       "      <th>y</th>\n",
       "      <th>Volume</th>\n",
       "      <th>ds</th>\n",
       "    </tr>\n",
       "    <tr>\n",
       "      <th>Date</th>\n",
       "      <th></th>\n",
       "      <th></th>\n",
       "      <th></th>\n",
       "      <th></th>\n",
       "      <th></th>\n",
       "      <th></th>\n",
       "    </tr>\n",
       "  </thead>\n",
       "  <tbody>\n",
       "    <tr>\n",
       "      <th>2022-02-23</th>\n",
       "      <td>701.56626</td>\n",
       "      <td>717.461899</td>\n",
       "      <td>700.683145</td>\n",
       "      <td>709.661255</td>\n",
       "      <td>1816654</td>\n",
       "      <td>2022-02-23</td>\n",
       "    </tr>\n",
       "  </tbody>\n",
       "</table>\n",
       "</div>"
      ],
      "text/plain": [
       "                 Open        High         Low           y   Volume         ds\n",
       "Date                                                                         \n",
       "2022-02-23  701.56626  717.461899  700.683145  709.661255  1816654 2022-02-23"
      ]
     },
     "execution_count": 12,
     "metadata": {},
     "output_type": "execute_result"
    }
   ],
   "source": [
    "training_set.tail(1)\n",
    "#test_set.tail(1)"
   ]
  },
  {
   "cell_type": "markdown",
   "metadata": {
    "id": "eOzPNoRySOA5"
   },
   "source": [
    "#Prophet"
   ]
  },
  {
   "cell_type": "code",
   "execution_count": 13,
   "metadata": {
    "colab": {
     "base_uri": "https://localhost:8080/"
    },
    "executionInfo": {
     "elapsed": 8952,
     "status": "ok",
     "timestamp": 1621008811464,
     "user": {
      "displayName": "Diogo Resende",
      "photoUrl": "https://lh3.googleusercontent.com/a-/AOh14GgH4DE06-yE1oiIzCiaAURCl1Escr4LXXiaSnbSaA=s64",
      "userId": "05706604408624562002"
     },
     "user_tz": -120
    },
    "id": "Ai7zk9f7SPVK",
    "outputId": "8bcef281-3d36-49f1-9c8b-c875beeb5658"
   },
   "outputs": [
    {
     "name": "stderr",
     "output_type": "stream",
     "text": [
      "09:31:03 - cmdstanpy - INFO - Chain [1] start processing\n",
      "09:31:06 - cmdstanpy - INFO - Chain [1] done processing\n"
     ]
    },
    {
     "data": {
      "text/plain": [
       "<prophet.forecaster.Prophet at 0x7fd24b827880>"
      ]
     },
     "execution_count": 13,
     "metadata": {},
     "output_type": "execute_result"
    }
   ],
   "source": [
    "m = Prophet(\n",
    "            #holidays = holidays,\n",
    "            #seasonality_mode = 'multiplicative',\n",
    "           # seasonality_prior_scale = 20,\n",
    "            #changepoint_prior_scale = 0.1,\n",
    "           # holidays_prior_scale = 10\n",
    "           )\n",
    "#m.add_regressor('Christmas')\n",
    "m.fit(training_set)\n"
   ]
  },
  {
   "cell_type": "code",
   "execution_count": 10,
   "metadata": {},
   "outputs": [
    {
     "name": "stderr",
     "output_type": "stream",
     "text": [
      "09:50:19 - cmdstanpy - INFO - Chain [1] start processing\n",
      "09:50:25 - cmdstanpy - INFO - Chain [1] done processing\n"
     ]
    },
    {
     "data": {
      "text/plain": [
       "<prophet.forecaster.Prophet at 0x7ffea12b0fd0>"
      ]
     },
     "execution_count": 10,
     "metadata": {},
     "output_type": "execute_result"
    }
   ],
   "source": [
    "mFullData = Prophet(\n",
    "            #holidays = holidays,\n",
    "            #seasonality_mode = 'multiplicative',\n",
    "            #seasonality_prior_scale = 20,\n",
    "            #changepoint_prior_scale = 0.1,\n",
    "           # holidays_prior_scale = 10\n",
    "           )\n",
    "#m.add_regressor('Christmas')\n",
    "mFullData.fit(data)"
   ]
  },
  {
   "cell_type": "code",
   "execution_count": 11,
   "metadata": {},
   "outputs": [],
   "source": [
    "\n",
    "# Save the trained model to a file\n",
    "with open('./TrainedModel/prophet/{}prophet_model_2.pkl'.format(stock_name), 'wb') as f:\n",
    "    pickle.dump(mFullData, f)"
   ]
  },
  {
   "cell_type": "code",
   "execution_count": 12,
   "metadata": {
    "executionInfo": {
     "elapsed": 761,
     "status": "ok",
     "timestamp": 1621009466455,
     "user": {
      "displayName": "Diogo Resende",
      "photoUrl": "https://lh3.googleusercontent.com/a-/AOh14GgH4DE06-yE1oiIzCiaAURCl1Escr4LXXiaSnbSaA=s64",
      "userId": "05706604408624562002"
     },
     "user_tz": -120
    },
    "id": "vuYkMgKqsNiD"
   },
   "outputs": [],
   "source": [
    "#create future df\n",
    "future = m.make_future_dataframe(periods = test_days,\n",
    "                                 freq = \"B\")\n",
    "\n",
    "#create future df\n",
    "future_full = mFullData.make_future_dataframe(periods = 0,\n",
    "                                 freq = \"B\")"
   ]
  },
  {
   "cell_type": "code",
   "execution_count": 13,
   "metadata": {
    "executionInfo": {
     "elapsed": 938,
     "status": "ok",
     "timestamp": 1621009506406,
     "user": {
      "displayName": "Diogo Resende",
      "photoUrl": "https://lh3.googleusercontent.com/a-/AOh14GgH4DE06-yE1oiIzCiaAURCl1Escr4LXXiaSnbSaA=s64",
      "userId": "05706604408624562002"
     },
     "user_tz": -120
    },
    "id": "8-cqw_0isYEP"
   },
   "outputs": [],
   "source": [
    "future = pd.concat([future], axis = 1)\n",
    "future_full = pd.concat([future_full], axis = 1)\n",
    "\n",
    " "
   ]
  },
  {
   "cell_type": "code",
   "execution_count": 14,
   "metadata": {
    "colab": {
     "base_uri": "https://localhost:8080/",
     "height": 309
    },
    "executionInfo": {
     "elapsed": 5052,
     "status": "ok",
     "timestamp": 1621009541010,
     "user": {
      "displayName": "Diogo Resende",
      "photoUrl": "https://lh3.googleusercontent.com/a-/AOh14GgH4DE06-yE1oiIzCiaAURCl1Escr4LXXiaSnbSaA=s64",
      "userId": "05706604408624562002"
     },
     "user_tz": -120
    },
    "id": "NaKE6JkDshxm",
    "outputId": "4c7aac39-520e-4944-a77b-e1d903925a7d"
   },
   "outputs": [
    {
     "data": {
      "text/html": [
       "<div>\n",
       "<style scoped>\n",
       "    .dataframe tbody tr th:only-of-type {\n",
       "        vertical-align: middle;\n",
       "    }\n",
       "\n",
       "    .dataframe tbody tr th {\n",
       "        vertical-align: top;\n",
       "    }\n",
       "\n",
       "    .dataframe thead th {\n",
       "        text-align: right;\n",
       "    }\n",
       "</style>\n",
       "<table border=\"1\" class=\"dataframe\">\n",
       "  <thead>\n",
       "    <tr style=\"text-align: right;\">\n",
       "      <th></th>\n",
       "      <th>ds</th>\n",
       "      <th>trend</th>\n",
       "      <th>yhat_lower</th>\n",
       "      <th>yhat_upper</th>\n",
       "      <th>trend_lower</th>\n",
       "      <th>trend_upper</th>\n",
       "      <th>additive_terms</th>\n",
       "      <th>additive_terms_lower</th>\n",
       "      <th>additive_terms_upper</th>\n",
       "      <th>weekly</th>\n",
       "      <th>weekly_lower</th>\n",
       "      <th>weekly_upper</th>\n",
       "      <th>yearly</th>\n",
       "      <th>yearly_lower</th>\n",
       "      <th>yearly_upper</th>\n",
       "      <th>multiplicative_terms</th>\n",
       "      <th>multiplicative_terms_lower</th>\n",
       "      <th>multiplicative_terms_upper</th>\n",
       "      <th>yhat</th>\n",
       "    </tr>\n",
       "  </thead>\n",
       "  <tbody>\n",
       "    <tr>\n",
       "      <th>3336</th>\n",
       "      <td>2023-07-10</td>\n",
       "      <td>814.753270</td>\n",
       "      <td>794.266304</td>\n",
       "      <td>879.027814</td>\n",
       "      <td>814.753270</td>\n",
       "      <td>814.753270</td>\n",
       "      <td>23.124121</td>\n",
       "      <td>23.124121</td>\n",
       "      <td>23.124121</td>\n",
       "      <td>17.080508</td>\n",
       "      <td>17.080508</td>\n",
       "      <td>17.080508</td>\n",
       "      <td>6.043612</td>\n",
       "      <td>6.043612</td>\n",
       "      <td>6.043612</td>\n",
       "      <td>0.0</td>\n",
       "      <td>0.0</td>\n",
       "      <td>0.0</td>\n",
       "      <td>837.877391</td>\n",
       "    </tr>\n",
       "    <tr>\n",
       "      <th>3337</th>\n",
       "      <td>2023-07-11</td>\n",
       "      <td>814.985228</td>\n",
       "      <td>793.806903</td>\n",
       "      <td>881.694283</td>\n",
       "      <td>814.985228</td>\n",
       "      <td>814.985228</td>\n",
       "      <td>23.187585</td>\n",
       "      <td>23.187585</td>\n",
       "      <td>23.187585</td>\n",
       "      <td>17.039582</td>\n",
       "      <td>17.039582</td>\n",
       "      <td>17.039582</td>\n",
       "      <td>6.148003</td>\n",
       "      <td>6.148003</td>\n",
       "      <td>6.148003</td>\n",
       "      <td>0.0</td>\n",
       "      <td>0.0</td>\n",
       "      <td>0.0</td>\n",
       "      <td>838.172813</td>\n",
       "    </tr>\n",
       "    <tr>\n",
       "      <th>3338</th>\n",
       "      <td>2023-07-12</td>\n",
       "      <td>815.217186</td>\n",
       "      <td>792.721024</td>\n",
       "      <td>885.244271</td>\n",
       "      <td>815.217186</td>\n",
       "      <td>815.217186</td>\n",
       "      <td>23.311195</td>\n",
       "      <td>23.311195</td>\n",
       "      <td>23.311195</td>\n",
       "      <td>17.081369</td>\n",
       "      <td>17.081369</td>\n",
       "      <td>17.081369</td>\n",
       "      <td>6.229826</td>\n",
       "      <td>6.229826</td>\n",
       "      <td>6.229826</td>\n",
       "      <td>0.0</td>\n",
       "      <td>0.0</td>\n",
       "      <td>0.0</td>\n",
       "      <td>838.528381</td>\n",
       "    </tr>\n",
       "    <tr>\n",
       "      <th>3339</th>\n",
       "      <td>2023-07-13</td>\n",
       "      <td>815.449143</td>\n",
       "      <td>792.986673</td>\n",
       "      <td>880.430053</td>\n",
       "      <td>815.449143</td>\n",
       "      <td>815.449143</td>\n",
       "      <td>23.661454</td>\n",
       "      <td>23.661454</td>\n",
       "      <td>23.661454</td>\n",
       "      <td>17.373198</td>\n",
       "      <td>17.373198</td>\n",
       "      <td>17.373198</td>\n",
       "      <td>6.288256</td>\n",
       "      <td>6.288256</td>\n",
       "      <td>6.288256</td>\n",
       "      <td>0.0</td>\n",
       "      <td>0.0</td>\n",
       "      <td>0.0</td>\n",
       "      <td>839.110597</td>\n",
       "    </tr>\n",
       "    <tr>\n",
       "      <th>3340</th>\n",
       "      <td>2023-07-14</td>\n",
       "      <td>815.681101</td>\n",
       "      <td>796.990819</td>\n",
       "      <td>883.507899</td>\n",
       "      <td>815.681101</td>\n",
       "      <td>815.681101</td>\n",
       "      <td>22.791610</td>\n",
       "      <td>22.791610</td>\n",
       "      <td>22.791610</td>\n",
       "      <td>16.468550</td>\n",
       "      <td>16.468550</td>\n",
       "      <td>16.468550</td>\n",
       "      <td>6.323060</td>\n",
       "      <td>6.323060</td>\n",
       "      <td>6.323060</td>\n",
       "      <td>0.0</td>\n",
       "      <td>0.0</td>\n",
       "      <td>0.0</td>\n",
       "      <td>838.472711</td>\n",
       "    </tr>\n",
       "  </tbody>\n",
       "</table>\n",
       "</div>"
      ],
      "text/plain": [
       "             ds       trend  yhat_lower  yhat_upper  trend_lower  trend_upper  \\\n",
       "3336 2023-07-10  814.753270  794.266304  879.027814   814.753270   814.753270   \n",
       "3337 2023-07-11  814.985228  793.806903  881.694283   814.985228   814.985228   \n",
       "3338 2023-07-12  815.217186  792.721024  885.244271   815.217186   815.217186   \n",
       "3339 2023-07-13  815.449143  792.986673  880.430053   815.449143   815.449143   \n",
       "3340 2023-07-14  815.681101  796.990819  883.507899   815.681101   815.681101   \n",
       "\n",
       "      additive_terms  additive_terms_lower  additive_terms_upper     weekly  \\\n",
       "3336       23.124121             23.124121             23.124121  17.080508   \n",
       "3337       23.187585             23.187585             23.187585  17.039582   \n",
       "3338       23.311195             23.311195             23.311195  17.081369   \n",
       "3339       23.661454             23.661454             23.661454  17.373198   \n",
       "3340       22.791610             22.791610             22.791610  16.468550   \n",
       "\n",
       "      weekly_lower  weekly_upper    yearly  yearly_lower  yearly_upper  \\\n",
       "3336     17.080508     17.080508  6.043612      6.043612      6.043612   \n",
       "3337     17.039582     17.039582  6.148003      6.148003      6.148003   \n",
       "3338     17.081369     17.081369  6.229826      6.229826      6.229826   \n",
       "3339     17.373198     17.373198  6.288256      6.288256      6.288256   \n",
       "3340     16.468550     16.468550  6.323060      6.323060      6.323060   \n",
       "\n",
       "      multiplicative_terms  multiplicative_terms_lower  \\\n",
       "3336                   0.0                         0.0   \n",
       "3337                   0.0                         0.0   \n",
       "3338                   0.0                         0.0   \n",
       "3339                   0.0                         0.0   \n",
       "3340                   0.0                         0.0   \n",
       "\n",
       "      multiplicative_terms_upper        yhat  \n",
       "3336                         0.0  837.877391  \n",
       "3337                         0.0  838.172813  \n",
       "3338                         0.0  838.528381  \n",
       "3339                         0.0  839.110597  \n",
       "3340                         0.0  838.472711  "
      ]
     },
     "execution_count": 14,
     "metadata": {},
     "output_type": "execute_result"
    }
   ],
   "source": [
    "#forecast\n",
    "forecast = m.predict(future)\n",
    "forecast.tail()\n",
    "#forecast full data\n",
    "forecast_full = mFullData.predict(future_full)\n",
    "forecast_full.tail()"
   ]
  },
  {
   "cell_type": "code",
   "execution_count": 15,
   "metadata": {},
   "outputs": [
    {
     "data": {
      "image/png": "[encoded data removed]",
      "text/plain": [
       "<Figure size 900x900 with 3 Axes>"
      ]
     },
     "metadata": {},
     "output_type": "display_data"
    }
   ],
   "source": [
    "mFullData.plot_components(forecast_full);"
   ]
  },
  {
   "cell_type": "code",
   "execution_count": 16,
   "metadata": {},
   "outputs": [
    {
     "data": {
      "text/html": [
       "<div>\n",
       "<style scoped>\n",
       "    .dataframe tbody tr th:only-of-type {\n",
       "        vertical-align: middle;\n",
       "    }\n",
       "\n",
       "    .dataframe tbody tr th {\n",
       "        vertical-align: top;\n",
       "    }\n",
       "\n",
       "    .dataframe thead th {\n",
       "        text-align: right;\n",
       "    }\n",
       "</style>\n",
       "<table border=\"1\" class=\"dataframe\">\n",
       "  <thead>\n",
       "    <tr style=\"text-align: right;\">\n",
       "      <th></th>\n",
       "      <th>Date</th>\n",
       "      <th>Open</th>\n",
       "      <th>High</th>\n",
       "      <th>Low</th>\n",
       "      <th>y</th>\n",
       "      <th>Volume</th>\n",
       "      <th>ds</th>\n",
       "    </tr>\n",
       "  </thead>\n",
       "  <tbody>\n",
       "    <tr>\n",
       "      <th>0</th>\n",
       "      <td>2010-01-04</td>\n",
       "      <td>77.434599</td>\n",
       "      <td>78.254013</td>\n",
       "      <td>76.955243</td>\n",
       "      <td>77.782852</td>\n",
       "      <td>952740</td>\n",
       "      <td>2010-01-04</td>\n",
       "    </tr>\n",
       "    <tr>\n",
       "      <th>1</th>\n",
       "      <td>2010-01-05</td>\n",
       "      <td>78.254011</td>\n",
       "      <td>86.231004</td>\n",
       "      <td>77.926244</td>\n",
       "      <td>83.813736</td>\n",
       "      <td>7061550</td>\n",
       "      <td>2010-01-05</td>\n",
       "    </tr>\n",
       "    <tr>\n",
       "      <th>2</th>\n",
       "      <td>2010-01-06</td>\n",
       "      <td>84.563491</td>\n",
       "      <td>85.907329</td>\n",
       "      <td>82.285522</td>\n",
       "      <td>85.124794</td>\n",
       "      <td>2960980</td>\n",
       "      <td>2010-01-06</td>\n",
       "    </tr>\n",
       "    <tr>\n",
       "      <th>3</th>\n",
       "      <td>2010-01-07</td>\n",
       "      <td>86.030254</td>\n",
       "      <td>87.513397</td>\n",
       "      <td>84.645449</td>\n",
       "      <td>85.423889</td>\n",
       "      <td>3807800</td>\n",
       "      <td>2010-01-07</td>\n",
       "    </tr>\n",
       "    <tr>\n",
       "      <th>4</th>\n",
       "      <td>2010-01-08</td>\n",
       "      <td>85.792617</td>\n",
       "      <td>88.066491</td>\n",
       "      <td>85.309166</td>\n",
       "      <td>85.849976</td>\n",
       "      <td>2940330</td>\n",
       "      <td>2010-01-08</td>\n",
       "    </tr>\n",
       "    <tr>\n",
       "      <th>...</th>\n",
       "      <td>...</td>\n",
       "      <td>...</td>\n",
       "      <td>...</td>\n",
       "      <td>...</td>\n",
       "      <td>...</td>\n",
       "      <td>...</td>\n",
       "      <td>...</td>\n",
       "    </tr>\n",
       "    <tr>\n",
       "      <th>3336</th>\n",
       "      <td>2023-07-10</td>\n",
       "      <td>841.500000</td>\n",
       "      <td>841.500000</td>\n",
       "      <td>822.000000</td>\n",
       "      <td>825.650024</td>\n",
       "      <td>1177214</td>\n",
       "      <td>2023-07-10</td>\n",
       "    </tr>\n",
       "    <tr>\n",
       "      <th>3337</th>\n",
       "      <td>2023-07-11</td>\n",
       "      <td>826.000000</td>\n",
       "      <td>843.000000</td>\n",
       "      <td>825.750000</td>\n",
       "      <td>840.299988</td>\n",
       "      <td>2167322</td>\n",
       "      <td>2023-07-11</td>\n",
       "    </tr>\n",
       "    <tr>\n",
       "      <th>3338</th>\n",
       "      <td>2023-07-12</td>\n",
       "      <td>844.950012</td>\n",
       "      <td>847.799988</td>\n",
       "      <td>838.799988</td>\n",
       "      <td>843.250000</td>\n",
       "      <td>1435731</td>\n",
       "      <td>2023-07-12</td>\n",
       "    </tr>\n",
       "    <tr>\n",
       "      <th>3339</th>\n",
       "      <td>2023-07-13</td>\n",
       "      <td>847.000000</td>\n",
       "      <td>849.000000</td>\n",
       "      <td>835.200012</td>\n",
       "      <td>837.349976</td>\n",
       "      <td>985928</td>\n",
       "      <td>2023-07-13</td>\n",
       "    </tr>\n",
       "    <tr>\n",
       "      <th>3340</th>\n",
       "      <td>2023-07-14</td>\n",
       "      <td>838.950012</td>\n",
       "      <td>852.750000</td>\n",
       "      <td>833.599976</td>\n",
       "      <td>851.500000</td>\n",
       "      <td>1704921</td>\n",
       "      <td>2023-07-14</td>\n",
       "    </tr>\n",
       "  </tbody>\n",
       "</table>\n",
       "<p>3341 rows × 7 columns</p>\n",
       "</div>"
      ],
      "text/plain": [
       "            Date        Open        High         Low           y   Volume  \\\n",
       "0     2010-01-04   77.434599   78.254013   76.955243   77.782852   952740   \n",
       "1     2010-01-05   78.254011   86.231004   77.926244   83.813736  7061550   \n",
       "2     2010-01-06   84.563491   85.907329   82.285522   85.124794  2960980   \n",
       "3     2010-01-07   86.030254   87.513397   84.645449   85.423889  3807800   \n",
       "4     2010-01-08   85.792617   88.066491   85.309166   85.849976  2940330   \n",
       "...          ...         ...         ...         ...         ...      ...   \n",
       "3336  2023-07-10  841.500000  841.500000  822.000000  825.650024  1177214   \n",
       "3337  2023-07-11  826.000000  843.000000  825.750000  840.299988  2167322   \n",
       "3338  2023-07-12  844.950012  847.799988  838.799988  843.250000  1435731   \n",
       "3339  2023-07-13  847.000000  849.000000  835.200012  837.349976   985928   \n",
       "3340  2023-07-14  838.950012  852.750000  833.599976  851.500000  1704921   \n",
       "\n",
       "             ds  \n",
       "0    2010-01-04  \n",
       "1    2010-01-05  \n",
       "2    2010-01-06  \n",
       "3    2010-01-07  \n",
       "4    2010-01-08  \n",
       "...         ...  \n",
       "3336 2023-07-10  \n",
       "3337 2023-07-11  \n",
       "3338 2023-07-12  \n",
       "3339 2023-07-13  \n",
       "3340 2023-07-14  \n",
       "\n",
       "[3341 rows x 7 columns]"
      ]
     },
     "execution_count": 16,
     "metadata": {},
     "output_type": "execute_result"
    }
   ],
   "source": [
    "data = data.reset_index(level=None, drop=False, inplace=False, col_level=0, col_fill='')\n",
    "data"
   ]
  },
  {
   "cell_type": "code",
   "execution_count": 17,
   "metadata": {
    "colab": {
     "base_uri": "https://localhost:8080/",
     "height": 79
    },
    "executionInfo": {
     "elapsed": 789,
     "status": "ok",
     "timestamp": 1621009743333,
     "user": {
      "displayName": "Diogo Resende",
      "photoUrl": "https://lh3.googleusercontent.com/a-/AOh14GgH4DE06-yE1oiIzCiaAURCl1Escr4LXXiaSnbSaA=s64",
      "userId": "05706604408624562002"
     },
     "user_tz": -120
    },
    "id": "cHnEk0cMsrfG",
    "outputId": "0e18baad-9e68-4f94-bc48-c6509130f361"
   },
   "outputs": [
    {
     "data": {
      "text/html": [
       "<div>\n",
       "<style scoped>\n",
       "    .dataframe tbody tr th:only-of-type {\n",
       "        vertical-align: middle;\n",
       "    }\n",
       "\n",
       "    .dataframe tbody tr th {\n",
       "        vertical-align: top;\n",
       "    }\n",
       "\n",
       "    .dataframe thead th {\n",
       "        text-align: right;\n",
       "    }\n",
       "</style>\n",
       "<table border=\"1\" class=\"dataframe\">\n",
       "  <thead>\n",
       "    <tr style=\"text-align: right;\">\n",
       "      <th></th>\n",
       "      <th>Date</th>\n",
       "      <th>Open</th>\n",
       "      <th>High</th>\n",
       "      <th>Low</th>\n",
       "      <th>y</th>\n",
       "      <th>Volume</th>\n",
       "      <th>ds</th>\n",
       "      <th>trend</th>\n",
       "      <th>weekly</th>\n",
       "      <th>multiplicative_terms</th>\n",
       "    </tr>\n",
       "  </thead>\n",
       "  <tbody>\n",
       "    <tr>\n",
       "      <th>3340</th>\n",
       "      <td>2023-07-14</td>\n",
       "      <td>838.950012</td>\n",
       "      <td>852.75</td>\n",
       "      <td>833.599976</td>\n",
       "      <td>851.5</td>\n",
       "      <td>1704921</td>\n",
       "      <td>2023-07-14</td>\n",
       "      <td>815.681101</td>\n",
       "      <td>16.46855</td>\n",
       "      <td>0.0</td>\n",
       "    </tr>\n",
       "  </tbody>\n",
       "</table>\n",
       "</div>"
      ],
      "text/plain": [
       "            Date        Open    High         Low      y   Volume         ds  \\\n",
       "3340  2023-07-14  838.950012  852.75  833.599976  851.5  1704921 2023-07-14   \n",
       "\n",
       "           trend    weekly  multiplicative_terms  \n",
       "3340  815.681101  16.46855                   0.0  "
      ]
     },
     "execution_count": 17,
     "metadata": {},
     "output_type": "execute_result"
    }
   ],
   "source": [
    "#get some variables\n",
    "prophet_variables = forecast.loc[:, [\"trend\", \"weekly\",  \"multiplicative_terms\"]]\n",
    "df_xgb = pd.concat([data, prophet_variables], axis = 1)\n",
    "df_xgb.tail(1)\n",
    "prophet_variables_full = forecast_full.loc[:, [\"trend\", \"weekly\",  \"multiplicative_terms\"]]\n",
    "df_xgb_full = pd.concat([data, prophet_variables_full], axis = 1)\n",
    "#df_xgb_full.tail(1)\n",
    "df_xgb_full.tail(1)\n"
   ]
  },
  {
   "cell_type": "markdown",
   "metadata": {
    "id": "lNUb5oO-tir_"
   },
   "source": [
    "#XGBoost preparation"
   ]
  },
  {
   "cell_type": "code",
   "execution_count": 18,
   "metadata": {
    "executionInfo": {
     "elapsed": 444,
     "status": "ok",
     "timestamp": 1621009798336,
     "user": {
      "displayName": "Diogo Resende",
      "photoUrl": "https://lh3.googleusercontent.com/a-/AOh14GgH4DE06-yE1oiIzCiaAURCl1Escr4LXXiaSnbSaA=s64",
      "userId": "05706604408624562002"
     },
     "user_tz": -120
    },
    "id": "YCd0qohrtkae"
   },
   "outputs": [],
   "source": [
    "#create training and test set\n",
    "test_days = 100\n",
    "training_set = df_xgb.iloc[:-test_days,:]\n",
    "test_set = df_xgb.iloc[-test_days:,:]"
   ]
  },
  {
   "cell_type": "code",
   "execution_count": 19,
   "metadata": {
    "executionInfo": {
     "elapsed": 801,
     "status": "ok",
     "timestamp": 1621009908956,
     "user": {
      "displayName": "Diogo Resende",
      "photoUrl": "https://lh3.googleusercontent.com/a-/AOh14GgH4DE06-yE1oiIzCiaAURCl1Escr4LXXiaSnbSaA=s64",
      "userId": "05706604408624562002"
     },
     "user_tz": -120
    },
    "id": "Hy7FFj2UtpKo"
   },
   "outputs": [],
   "source": [
    "#isolate X and y\n",
    "y_train = training_set.y\n",
    "y_test = test_set.y \n",
    "X_train = training_set.iloc[:, 2:]\n",
    "X_test = test_set.iloc[:, 2:]\n",
    "#full data \n",
    "y_train_full = df_xgb_full.y\n",
    "x_train_full = df_xgb_full.iloc[:, 2:]\n"
   ]
  },
  {
   "cell_type": "code",
   "execution_count": 20,
   "metadata": {},
   "outputs": [],
   "source": [
    "x_train_full = x_train_full.drop(columns=[\"ds\"])\n",
    "X_train = X_train.drop(columns=[\"ds\"])\n",
    "X_test = X_test.drop(columns=[\"ds\"])\n",
    "#x_train_full = x_train_full.drop(columns=[\"ds\"])"
   ]
  },
  {
   "cell_type": "code",
   "execution_count": 21,
   "metadata": {
    "executionInfo": {
     "elapsed": 810,
     "status": "ok",
     "timestamp": 1621009964124,
     "user": {
      "displayName": "Diogo Resende",
      "photoUrl": "https://lh3.googleusercontent.com/a-/AOh14GgH4DE06-yE1oiIzCiaAURCl1Escr4LXXiaSnbSaA=s64",
      "userId": "05706604408624562002"
     },
     "user_tz": -120
    },
    "id": "N4DVh8ykuEzD"
   },
   "outputs": [],
   "source": [
    "#Matrices\n",
    "import xgboost as xgb\n",
    "Train = xgb.DMatrix(X_train, label = y_train)\n",
    "Test = xgb.DMatrix(X_test, label = y_test)"
   ]
  },
  {
   "cell_type": "code",
   "execution_count": 22,
   "metadata": {},
   "outputs": [],
   "source": [
    "#Matrices FULL DATA\n",
    "Train_full = xgb.DMatrix(x_train_full, label = y_train_full)"
   ]
  },
  {
   "cell_type": "code",
   "execution_count": 23,
   "metadata": {
    "executionInfo": {
     "elapsed": 755,
     "status": "ok",
     "timestamp": 1621010148513,
     "user": {
      "displayName": "Diogo Resende",
      "photoUrl": "https://lh3.googleusercontent.com/a-/AOh14GgH4DE06-yE1oiIzCiaAURCl1Escr4LXXiaSnbSaA=s64",
      "userId": "05706604408624562002"
     },
     "user_tz": -120
    },
    "id": "jMsbDX7huRjC"
   },
   "outputs": [],
   "source": [
    "#set the parameters\n",
    "parameters = {'learning_rate': 0.3,\n",
    "              'max_depth': 6,\n",
    "              'colsample_bytree': 1,\n",
    "              'subsample': 1,\n",
    "              'min_child_weight' : 1,\n",
    "              'gamma': 0,\n",
    "              'random_state': 1502,\n",
    "              'eval_metric': \"rmse\",\n",
    "              'objective': \"reg:squarederror\"}"
   ]
  },
  {
   "cell_type": "markdown",
   "metadata": {
    "id": "r_NPjTwvvAFw"
   },
   "source": [
    "#XGBoost"
   ]
  },
  {
   "cell_type": "code",
   "execution_count": 24,
   "metadata": {
    "colab": {
     "base_uri": "https://localhost:8080/"
    },
    "executionInfo": {
     "elapsed": 1270,
     "status": "ok",
     "timestamp": 1621010214611,
     "user": {
      "displayName": "Diogo Resende",
      "photoUrl": "https://lh3.googleusercontent.com/a-/AOh14GgH4DE06-yE1oiIzCiaAURCl1Escr4LXXiaSnbSaA=s64",
      "userId": "05706604408624562002"
     },
     "user_tz": -120
    },
    "id": "tbfqPArxu-lW",
    "outputId": "b813ebd1-a6fc-477b-9c35-86f6f2484af1"
   },
   "outputs": [
    {
     "name": "stdout",
     "output_type": "stream",
     "text": [
      "[0]\ty-rmse:537.89398\n",
      "[1]\ty-rmse:378.89856\n",
      "[2]\ty-rmse:268.60621\n",
      "[3]\ty-rmse:191.69862\n",
      "[4]\ty-rmse:136.73451\n",
      "[5]\ty-rmse:97.41297\n",
      "[6]\ty-rmse:70.75247\n",
      "[7]\ty-rmse:50.31676\n",
      "[8]\ty-rmse:36.34943\n",
      "[9]\ty-rmse:26.36421\n",
      "[10]\ty-rmse:19.39351\n",
      "[11]\ty-rmse:14.33492\n",
      "[12]\ty-rmse:10.76431\n",
      "[13]\ty-rmse:8.23586\n",
      "[14]\ty-rmse:6.51707\n",
      "[15]\ty-rmse:5.34328\n",
      "[16]\ty-rmse:4.35776\n",
      "[17]\ty-rmse:3.91586\n",
      "[18]\ty-rmse:3.32417\n",
      "[19]\ty-rmse:2.95377\n",
      "[20]\ty-rmse:2.75133\n",
      "[21]\ty-rmse:2.62494\n",
      "[22]\ty-rmse:2.53321\n",
      "[23]\ty-rmse:2.10143\n",
      "[24]\ty-rmse:2.05970\n",
      "[25]\ty-rmse:2.04655\n",
      "[26]\ty-rmse:2.01451\n",
      "[27]\ty-rmse:1.70608\n",
      "[28]\ty-rmse:1.70097\n",
      "[29]\ty-rmse:1.69966\n",
      "[30]\ty-rmse:1.64479\n",
      "[31]\ty-rmse:1.64265\n",
      "[32]\ty-rmse:1.57652\n",
      "[33]\ty-rmse:1.58571\n",
      "[34]\ty-rmse:1.56792\n",
      "[35]\ty-rmse:1.57056\n",
      "[36]\ty-rmse:1.47017\n",
      "[37]\ty-rmse:1.44860\n",
      "[38]\ty-rmse:1.44483\n",
      "[39]\ty-rmse:1.44337\n"
     ]
    }
   ],
   "source": [
    "model = xgb.train(params = parameters,\n",
    "                  dtrain = Train,\n",
    "                  num_boost_round = 40,\n",
    "                  evals = [(Test, \"y\")])"
   ]
  },
  {
   "cell_type": "code",
   "execution_count": 25,
   "metadata": {},
   "outputs": [
    {
     "name": "stdout",
     "output_type": "stream",
     "text": [
      "[0]\ty-rmse:535.99209\n",
      "[1]\ty-rmse:378.93446\n",
      "[2]\ty-rmse:266.79974\n",
      "[3]\ty-rmse:188.98193\n",
      "[4]\ty-rmse:133.12896\n",
      "[5]\ty-rmse:94.38031\n",
      "[6]\ty-rmse:66.34500\n",
      "[7]\ty-rmse:46.83807\n",
      "[8]\ty-rmse:33.35377\n",
      "[9]\ty-rmse:23.60982\n",
      "[10]\ty-rmse:16.74128\n",
      "[11]\ty-rmse:12.02254\n",
      "[12]\ty-rmse:8.67614\n",
      "[13]\ty-rmse:6.32735\n",
      "[14]\ty-rmse:4.70784\n",
      "[15]\ty-rmse:3.68795\n",
      "[16]\ty-rmse:3.01148\n",
      "[17]\ty-rmse:2.48717\n",
      "[18]\ty-rmse:2.24544\n",
      "[19]\ty-rmse:1.92061\n",
      "[20]\ty-rmse:1.77196\n",
      "[21]\ty-rmse:1.59322\n",
      "[22]\ty-rmse:1.58800\n",
      "[23]\ty-rmse:1.47791\n",
      "[24]\ty-rmse:1.46837\n",
      "[25]\ty-rmse:1.33428\n",
      "[26]\ty-rmse:1.34049\n",
      "[27]\ty-rmse:1.23563\n",
      "[28]\ty-rmse:1.23879\n",
      "[29]\ty-rmse:1.19936\n",
      "[30]\ty-rmse:1.30207\n",
      "[31]\ty-rmse:1.23473\n",
      "[32]\ty-rmse:1.23531\n",
      "[33]\ty-rmse:1.23750\n",
      "[34]\ty-rmse:1.35866\n",
      "[35]\ty-rmse:1.25784\n",
      "[36]\ty-rmse:1.25613\n",
      "[37]\ty-rmse:1.21690\n",
      "[38]\ty-rmse:1.22050\n",
      "[39]\ty-rmse:1.38242\n"
     ]
    }
   ],
   "source": [
    "#FULL\n",
    "model_full = xgb.train(params = parameters,\n",
    "                  dtrain = Train_full,\n",
    "                  num_boost_round = 40,\n",
    "                  evals = [(Test, \"y\")])"
   ]
  },
  {
   "cell_type": "code",
   "execution_count": 26,
   "metadata": {},
   "outputs": [
    {
     "data": {
      "text/plain": [
       "<xgboost.core.DMatrix at 0x7ffea140a4c0>"
      ]
     },
     "execution_count": 26,
     "metadata": {},
     "output_type": "execute_result"
    }
   ],
   "source": [
    "Train_full"
   ]
  },
  {
   "cell_type": "code",
   "execution_count": 27,
   "metadata": {},
   "outputs": [],
   "source": [
    "#forecasting\n",
    "predictions = pd.Series(model.predict(Test), name = \"XGBoost\")\n",
    "predictions.index  =test_set.ds"
   ]
  },
  {
   "cell_type": "code",
   "execution_count": 28,
   "metadata": {},
   "outputs": [],
   "source": [
    "\n",
    "# Save the trained model to a file\n",
    "#with open('./TrainedModel/prophet/{}_prophet_model_1.pkl'.format(stock_name), 'wb') as f:\n",
    "#    pickle.dump(model_full, f)"
   ]
  },
  {
   "cell_type": "code",
   "execution_count": 29,
   "metadata": {},
   "outputs": [],
   "source": [
    "#f_predictions = pd.Series(model.predict(Future), name = \"XGBoost\")\n",
    "#f_predictions"
   ]
  },
  {
   "cell_type": "code",
   "execution_count": null,
   "metadata": {},
   "outputs": [],
   "source": []
  },
  {
   "cell_type": "markdown",
   "metadata": {
    "id": "chgYCCqhvmiW"
   },
   "source": [
    "#VIZ and assessment"
   ]
  },
  {
   "cell_type": "code",
   "execution_count": 30,
   "metadata": {
    "executionInfo": {
     "elapsed": 752,
     "status": "ok",
     "timestamp": 1621010365844,
     "user": {
      "displayName": "Diogo Resende",
      "photoUrl": "https://lh3.googleusercontent.com/a-/AOh14GgH4DE06-yE1oiIzCiaAURCl1Escr4LXXiaSnbSaA=s64",
      "userId": "05706604408624562002"
     },
     "user_tz": -120
    },
    "id": "R8azMDH1vkxr"
   },
   "outputs": [],
   "source": [
    "#Visualization\n",
    "training_set.index = training_set.ds\n",
    "test_set.index = test_set.ds"
   ]
  },
  {
   "cell_type": "code",
   "execution_count": 31,
   "metadata": {},
   "outputs": [],
   "source": [
    "#forecasting\n",
    "predictions = pd.Series(model.predict(Test), name = \"XGBoost\")\n",
    "predictions.index  =test_set.ds"
   ]
  },
  {
   "cell_type": "code",
   "execution_count": 32,
   "metadata": {
    "colab": {
     "base_uri": "https://localhost:8080/",
     "height": 417
    },
    "executionInfo": {
     "elapsed": 1600,
     "status": "ok",
     "timestamp": 1621010431951,
     "user": {
      "displayName": "Diogo Resende",
      "photoUrl": "https://lh3.googleusercontent.com/a-/AOh14GgH4DE06-yE1oiIzCiaAURCl1Escr4LXXiaSnbSaA=s64",
      "userId": "05706604408624562002"
     },
     "user_tz": -120
    },
    "id": "KmUOTBaYvzQV",
    "outputId": "0ef89d8d-377d-43d6-fd82-62bf6f46c01e"
   },
   "outputs": [
    {
     "data": {
      "text/plain": [
       "<Axes: xlabel='ds'>"
      ]
     },
     "execution_count": 32,
     "metadata": {},
     "output_type": "execute_result"
    },
    {
     "data": {
      "image/png": "[encoded data removed]",
      "text/plain": [
       "<Figure size 900x600 with 1 Axes>"
      ]
     },
     "metadata": {},
     "output_type": "display_data"
    }
   ],
   "source": [
    "training_set.y['2020-01-01':].plot(figsize = (9,6), legend = True)\n",
    "test_set.y.plot(legend = True)\n",
    "predictions.plot(legend = True)"
   ]
  },
  {
   "cell_type": "code",
   "execution_count": 33,
   "metadata": {
    "colab": {
     "base_uri": "https://localhost:8080/"
    },
    "executionInfo": {
     "elapsed": 972,
     "status": "ok",
     "timestamp": 1621010535824,
     "user": {
      "displayName": "Diogo Resende",
      "photoUrl": "https://lh3.googleusercontent.com/a-/AOh14GgH4DE06-yE1oiIzCiaAURCl1Escr4LXXiaSnbSaA=s64",
      "userId": "05706604408624562002"
     },
     "user_tz": -120
    },
    "id": "cWiOhRX-wJjT",
    "outputId": "8ae1a6f5-be12-4e69-e6ff-ccbacf38dca0"
   },
   "outputs": [
    {
     "data": {
      "text/plain": [
       "0.14602204668363108"
      ]
     },
     "execution_count": 33,
     "metadata": {},
     "output_type": "execute_result"
    }
   ],
   "source": [
    "#MAPE\n",
    "def MAPE(y_true, y_pred):\n",
    "  y_true, y_pred = np.array(y_true), np.array(y_pred)\n",
    "  return np.mean(np.abs((y_true - y_pred) / y_true)) * 100\n",
    "MAPE(test_set.y, predictions)"
   ]
  },
  {
   "cell_type": "markdown",
   "metadata": {},
   "source": [
    "#Future\n",
    "\n"
   ]
  },
  {
   "cell_type": "code",
   "execution_count": 34,
   "metadata": {},
   "outputs": [],
   "source": [
    "# Create a dictionary with data\n",
    "data = {\n",
    "            'High': [4.123123],\n",
    "    'Low': [4.123123],\n",
    "    'y': [210.935516],\n",
    "    'Volume': [4.123123],\n",
    "        'trend': [8.12313],\n",
    "        'weekly': [4.123123],\n",
    "            'multiplicative_terms': [4.444],\n",
    "                \n",
    "\n",
    "                \n",
    "                }\n",
    "\n",
    "# Create a new DataFrame object\n",
    "df = pd.DataFrame(data)\n"
   ]
  },
  {
   "cell_type": "code",
   "execution_count": 35,
   "metadata": {},
   "outputs": [
    {
     "data": {
      "text/plain": [
       "0    190.656113\n",
       "Name: XGBoost, dtype: float32"
      ]
     },
     "execution_count": 35,
     "metadata": {},
     "output_type": "execute_result"
    }
   ],
   "source": [
    "Future = xgb.DMatrix(df, label = df.y)\n",
    "f_predictions = pd.Series(model.predict(Future), name = \"XGBoost\")\n",
    "f_predictions"
   ]
  }
 ],
 "metadata": {
  "colab": {
   "authorship_tag": "ABX9TyONf4Fw76cQlH82pdR3h9Fa",
   "mount_file_id": "182alF94XmFPfm3NMnYKs4Tu9b-3DTW7y",
   "name": "Facebook Prophet + XGBoost Challenge Template.ipynb",
   "provenance": []
  },
  "kernelspec": {
   "display_name": "Python 3 (ipykernel)",
   "language": "python",
   "name": "python3"
  },
  "language_info": {
   "codemirror_mode": {
    "name": "ipython",
    "version": 3
   },
   "file_extension": ".py",
   "mimetype": "text/x-python",
   "name": "python",
   "nbconvert_exporter": "python",
   "pygments_lexer": "ipython3",
   "version": "3.9.16"
  }
 },
 "nbformat": 4,
 "nbformat_minor": 1
}
