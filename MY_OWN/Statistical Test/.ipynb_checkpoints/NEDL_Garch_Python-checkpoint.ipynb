{
 "cells": [
  {
   "cell_type": "code",
   "execution_count": 1,
   "metadata": {},
   "outputs": [],
   "source": [
    "#importing packages\n",
    "import numpy as np\n",
    "import pandas as pd\n",
    "import yfinance as yf\n",
    "import matplotlib.pyplot as plt\n",
    "import scipy.optimize as spop"
   ]
  },
  {
   "cell_type": "code",
   "execution_count": 3,
   "metadata": {},
   "outputs": [
    {
     "name": "stdout",
     "output_type": "stream",
     "text": [
      "[*********************100%***********************]  1 of 1 completed\n"
     ]
    }
   ],
   "source": [
    "#specifying the sample\n",
    "ticker = '^NSEI'\n",
    "start = '2015-12-31'\n",
    "#end = '2021-06-25'\n",
    "#downloading data\n",
    "prices = yf.download(ticker, start)['Close']\n"
   ]
  },
  {
   "cell_type": "code",
   "execution_count": 5,
   "metadata": {},
   "outputs": [
    {
     "name": "stdout",
     "output_type": "stream",
     "text": [
      "Means:  0.0005409014789532249 Std : 0.00011908318013926377\n"
     ]
    }
   ],
   "source": [
    "#calculating returns\n",
    "returns = np.array(prices)[1:]/np.array(prices)[:-1] - 1\n",
    "#starting parameter values - sample mean and variance\n",
    "mean = np.average(returns)\n",
    "var = np.std(returns)**2\n",
    "print(\"Means: \",mean,\"Std :\",var)"
   ]
  },
  {
   "cell_type": "code",
   "execution_count": null,
   "metadata": {},
   "outputs": [],
   "source": [
    "def garch_mle(params):\n",
    "    #specifying model parameters\n",
    "    mu = params[0]\n",
    "    omega = params[1]\n",
    "    alpha = params[2]\n",
    "    beta = params[3]\n",
    "    #calculating long-run volatility\n",
    "    long_run = (omega/(1 - alpha - beta))**(1/2)\n",
    "    #calculating realised and conditional volatility\n",
    "    resid = returns - mu\n",
    "    realised = abs(resid)\n",
    "    conditional = np.zeros(len(returns))\n",
    "    conditional[0] =  long_run\n",
    "    for t in range(1,len(returns)):\n",
    "        conditional[t] = (omega + alpha*resid[t-1]**2 + beta*conditional[t-1]**2)**(1/2)\n",
    "    #calculating log-likelihood\n",
    "    likelihood = 1/((2*np.pi)**(1/2)*conditional)*np.exp(-realised**2/(2*conditional**2))\n",
    "    log_likelihood = np.sum(np.log(likelihood))\n",
    "    return -log_likelihood\n",
    "#maximising log-likelihood\n",
    "res = spop.minimize(garch_mle, [mean, var, 0, 0], method='Nelder-Mead')\n",
    "#retrieving optimal parameters\n",
    "params = res.x\n",
    "mu = res.x[0]\n",
    "omega = res.x[1]\n",
    "alpha = res.x[2]\n",
    "beta = res.x[3]\n",
    "log_likelihood = -float(res.fun)\n",
    "#calculating realised and conditional volatility for optimal parameters\n",
    "long_run = (omega/(1 - alpha - beta))**(1/2)\n",
    "resid = returns - mu\n",
    "realised = abs(resid)\n",
    "conditional = np.zeros(len(returns))\n",
    "conditional[0] =  long_run\n",
    "for t in range(1,len(returns)):\n",
    "    conditional[t] = (omega + alpha*resid[t-1]**2 + beta*conditional[t-1]**2)**(1/2)\n",
    "#printing optimal parameters\n",
    "print('GARCH model parameters')\n",
    "print('')\n",
    "print('mu '+str(round(mu, 6)))\n",
    "print('omega '+str(round(omega, 6)))\n",
    "print('alpha '+str(round(alpha, 4)))\n",
    "print('beta '+str(round(beta, 4)))\n",
    "print('long-run volatility '+str(round(long_run, 4)))\n",
    "print('log-likelihood '+str(round(log_likelihood, 4)))\n",
    "#visualising the results\n",
    "plt.figure(1)\n",
    "plt.rc('xtick', labelsize = 10)\n",
    "plt.plot(prices.index[1:],realised)\n",
    "plt.plot(prices.index[1:],conditional)\n",
    "plt.show()"
   ]
  }
 ],
 "metadata": {
  "kernelspec": {
   "display_name": "Python 3 (ipykernel)",
   "language": "python",
   "name": "python3"
  },
  "language_info": {
   "codemirror_mode": {
    "name": "ipython",
    "version": 3
   },
   "file_extension": ".py",
   "mimetype": "text/x-python",
   "name": "python",
   "nbconvert_exporter": "python",
   "pygments_lexer": "ipython3",
   "version": "3.9.16"
  }
 },
 "nbformat": 4,
 "nbformat_minor": 2
}
