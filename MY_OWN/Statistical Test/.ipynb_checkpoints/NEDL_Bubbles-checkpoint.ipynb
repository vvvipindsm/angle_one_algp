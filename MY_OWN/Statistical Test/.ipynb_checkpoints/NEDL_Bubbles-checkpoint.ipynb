{
 "cells": [
  {
   "cell_type": "code",
   "execution_count": 1,
   "metadata": {},
   "outputs": [],
   "source": [
    "#importing packages\n",
    "import numpy as np\n",
    "import pandas as pd\n",
    "import yfinance as yf\n",
    "import statsmodels.api as sm\n",
    "import matplotlib.pyplot as plt"
   ]
  },
  {
   "cell_type": "code",
   "execution_count": 2,
   "metadata": {},
   "outputs": [
    {
     "name": "stdout",
     "output_type": "stream",
     "text": [
      "[*********************100%***********************]  1 of 1 completed\n",
      "Date\n",
      "2020-09-01    56.433334\n",
      "2020-09-02    56.866665\n",
      "2020-09-03    56.733334\n",
      "2020-09-04    55.933334\n",
      "2020-09-07    55.866665\n",
      "                ...    \n",
      "2021-06-08    77.800003\n",
      "2021-06-09    76.633331\n",
      "2021-06-10    77.300003\n",
      "2021-06-11    76.733330\n",
      "2021-06-14    76.500000\n",
      "Name: Close, Length: 195, dtype: float64\n"
     ]
    }
   ],
   "source": [
    "#this is a bubble detecting algorithm developed by Phillips and Yu (2011) and Phillips et al. (2015) \n",
    "#it is based on the augmented Dickey-Fuller test\n",
    "\n",
    "#downloading data\n",
    "ticker = 'IOC.NS'\n",
    "start = '2020-09-01'\n",
    "end = '2021-06-15'\n",
    "prices = yf.download(ticker, start, end)['Close']\n",
    "print(prices)\n"
   ]
  },
  {
   "cell_type": "code",
   "execution_count": null,
   "metadata": {},
   "outputs": [],
   "source": [
    "#inputting the parameters\n",
    "r0 = int(len(prices)*0.1)\n",
    "#specify lags for the augmented Dickey-Fuller (ADF) test\n",
    "adf_lags = 3\n",
    "#critical value of the right-tailed ADF-test (95%) from Phillips et al. (2015)\n",
    "crit = 1.49\n",
    "#transforming data\n",
    "log_prices = np.array(np.log(prices))\n",
    "delta_log_prices = log_prices[1:] - log_prices[:-1]\n",
    "n = len(delta_log_prices)\n",
    "BSADF = np.array([])\n",
    "#calculating ADF stats\n",
    "for r2 in range(r0,n):\n",
    "    ADFS = np.array([])\n",
    "    for r1 in range(0,r2-r0+1):\n",
    "        X0 = log_prices[r1:r2+1]\n",
    "        X = pd.DataFrame()\n",
    "        X[0] = X0\n",
    "        for j in range(1,adf_lags+1):\n",
    "            X[j] = np.append(np.zeros(j),delta_log_prices[r1:r2+1-j])\n",
    "        X = np.array(X)\n",
    "        Y = delta_log_prices[r1:r2+1]\n",
    "        reg = sm.OLS(Y,sm.add_constant(X))\n",
    "        res = reg.fit()\n",
    "        ADFS = np.append(ADFS, res.params[1]/res.bse[1])\n",
    "    BSADF = np.append(BSADF, max(ADFS))\n",
    "#visualising the results\n",
    "plt.rc('xtick',labelsize = 8)\n",
    "plt.plot(prices.index[r0+1:],BSADF)\n",
    "plt.plot(prices.index[r0+1:],np.ones(len(BSADF))*crit)\n",
    "#printing dates when bubbles were detected\n",
    "print(prices.index[r0+1:][BSADF > crit])"
   ]
  },
  {
   "cell_type": "code",
   "execution_count": null,
   "metadata": {},
   "outputs": [],
   "source": []
  },
  {
   "cell_type": "code",
   "execution_count": null,
   "metadata": {},
   "outputs": [],
   "source": []
  },
  {
   "cell_type": "code",
   "execution_count": null,
   "metadata": {},
   "outputs": [],
   "source": []
  },
  {
   "cell_type": "code",
   "execution_count": null,
   "metadata": {},
   "outputs": [],
   "source": []
  },
  {
   "cell_type": "code",
   "execution_count": null,
   "metadata": {},
   "outputs": [],
   "source": []
  },
  {
   "cell_type": "code",
   "execution_count": null,
   "metadata": {},
   "outputs": [],
   "source": []
  },
  {
   "cell_type": "code",
   "execution_count": null,
   "metadata": {},
   "outputs": [],
   "source": []
  },
  {
   "cell_type": "code",
   "execution_count": null,
   "metadata": {},
   "outputs": [],
   "source": []
  },
  {
   "cell_type": "code",
   "execution_count": null,
   "metadata": {},
   "outputs": [],
   "source": []
  },
  {
   "cell_type": "code",
   "execution_count": null,
   "metadata": {},
   "outputs": [],
   "source": []
  },
  {
   "cell_type": "code",
   "execution_count": null,
   "metadata": {},
   "outputs": [],
   "source": []
  }
 ],
 "metadata": {
  "kernelspec": {
   "display_name": "Python 3 (ipykernel)",
   "language": "python",
   "name": "python3"
  },
  "language_info": {
   "codemirror_mode": {
    "name": "ipython",
    "version": 3
   },
   "file_extension": ".py",
   "mimetype": "text/x-python",
   "name": "python",
   "nbconvert_exporter": "python",
   "pygments_lexer": "ipython3",
   "version": "3.9.16"
  }
 },
 "nbformat": 4,
 "nbformat_minor": 2
}
