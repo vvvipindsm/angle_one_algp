{
 "cells": [
  {
   "cell_type": "markdown",
   "id": "2f7aba52",
   "metadata": {},
   "source": [
    "### Case Study"
   ]
  },
  {
   "cell_type": "markdown",
   "id": "c1d1b8b9",
   "metadata": {},
   "source": [
    "The VIX is a measure of the implied volatility for the S&P500. The higher the \"Close\" of the VIX, the higher the uncertainty in the market. Fortunately, there are ways of capitlizing on the predictability of the VIX. Being able to predict implied volatility for the market with any degree of certainty better than 50/50 can give an options trader of ETF trader (VIX tracking ETF's) an edge.\n",
    "\n",
    "There could be many, many features that impact whether a stock price goes up or down. Predicting directionality for stocks, the VIX, commodities, FX etc represents a huge potential gain for every small percentage increment in forecast ability.\n",
    "\n",
    "However, having so many features allows room for noise and can create adverse impacts to your supervised learning. Therefore, we will explore deplying PCA (Principle Component Analysis) as a tool to find useful information within a vast array of indicators and features to help with our supervised learning later on.\n",
    "\n",
    "PCA can equally be extremely good at helping to understand correlations too and further study on PCS (based on articles and papers below) is encorouged."
   ]
  },
  {
   "cell_type": "markdown",
   "id": "44b4b74f",
   "metadata": {},
   "source": [
    "### Imports"
   ]
  },
  {
   "cell_type": "code",
   "execution_count": 5,
   "id": "23d0372c",
   "metadata": {},
   "outputs": [],
   "source": [
    "# Remove unwanted warnings\n",
    "import warnings\n",
    "warnings.simplefilter(action='ignore', category=FutureWarning)\n",
    "warnings.simplefilter(action='ignore', category=RuntimeWarning)\n",
    "\n",
    "# Data Management\n",
    "import pandas as pd\n",
    "import numpy as np\n",
    "\n",
    "from ta import add_all_ta_features\n",
    "\n",
    "# Statistics\n",
    "from statsmodels.tsa.stattools import adfuller\n",
    "\n",
    "# Unsupervised Machine Learning\n",
    "from sklearn.decomposition import PCA\n",
    "\n",
    "# Supervised Machine Learning\n",
    "from sklearn.preprocessing import StandardScaler\n",
    "from sklearn.model_selection import train_test_split\n",
    "from sklearn.ensemble import RandomForestClassifier\n",
    "from sklearn.metrics import accuracy_score\n",
    "from sklearn.metrics import precision_score\n",
    "import pickle\n",
    "\n",
    "# Reporting\n",
    "import matplotlib.pyplot as plt\n",
    "import yfinance"
   ]
  },
  {
   "cell_type": "code",
   "execution_count": 39,
   "id": "c0641108",
   "metadata": {},
   "outputs": [
    {
     "name": "stdout",
     "output_type": "stream",
     "text": [
      "['Low', 'Close', 'volume_adi', 'volume_obv', 'volume_em', 'volume_vpt', 'volume_nvi', 'volatility_kcp', 'trend_ema_fast', 'momentum_stoch_rsi_k', 'momentum_kama', 'others_dr', 'others_dlr', 'others_cr']\n"
     ]
    }
   ],
   "source": [
    "findFeature = False\n",
    "#[OLECTRA,\"LT\",\"CONCOR\",\"ELGIEQUIP\",\"IOC\",\"BEL\",\"TATAELXSI\",\"^NSEI\"]\n",
    "stock_name = \"CONCOR.NS\"\n",
    "disableStationaryCheck = False\n",
    "features = []\n",
    "if findFeature == False:\n",
    "    with open('./TrainedModel/indicator/{}_features.txt'.format(stock_name), 'rb') as f:\n",
    "            features = pickle.load(f)\n",
    "            print(feature_item)\n",
    "            features.append(\"TARGET\")\n",
    "\n"
   ]
  },
  {
   "cell_type": "markdown",
   "id": "339f3702",
   "metadata": {},
   "source": [
    "### Initial Data Extraction"
   ]
  },
  {
   "cell_type": "code",
   "execution_count": 42,
   "id": "91083209",
   "metadata": {},
   "outputs": [
    {
     "data": {
      "text/html": [
       "<div>\n",
       "<style scoped>\n",
       "    .dataframe tbody tr th:only-of-type {\n",
       "        vertical-align: middle;\n",
       "    }\n",
       "\n",
       "    .dataframe tbody tr th {\n",
       "        vertical-align: top;\n",
       "    }\n",
       "\n",
       "    .dataframe thead th {\n",
       "        text-align: right;\n",
       "    }\n",
       "</style>\n",
       "<table border=\"1\" class=\"dataframe\">\n",
       "  <thead>\n",
       "    <tr style=\"text-align: right;\">\n",
       "      <th></th>\n",
       "      <th>Open</th>\n",
       "      <th>High</th>\n",
       "      <th>Low</th>\n",
       "      <th>Close</th>\n",
       "      <th>Volume</th>\n",
       "    </tr>\n",
       "    <tr>\n",
       "      <th>Date</th>\n",
       "      <th></th>\n",
       "      <th></th>\n",
       "      <th></th>\n",
       "      <th></th>\n",
       "      <th></th>\n",
       "    </tr>\n",
       "  </thead>\n",
       "  <tbody>\n",
       "    <tr>\n",
       "      <th>2023-07-03</th>\n",
       "      <td>667.000000</td>\n",
       "      <td>677.349976</td>\n",
       "      <td>655.349976</td>\n",
       "      <td>657.049988</td>\n",
       "      <td>1034099</td>\n",
       "    </tr>\n",
       "    <tr>\n",
       "      <th>2023-07-04</th>\n",
       "      <td>666.000000</td>\n",
       "      <td>666.500000</td>\n",
       "      <td>655.799988</td>\n",
       "      <td>664.700012</td>\n",
       "      <td>1051281</td>\n",
       "    </tr>\n",
       "    <tr>\n",
       "      <th>2023-07-05</th>\n",
       "      <td>665.000000</td>\n",
       "      <td>674.900024</td>\n",
       "      <td>658.400024</td>\n",
       "      <td>673.049988</td>\n",
       "      <td>1193025</td>\n",
       "    </tr>\n",
       "    <tr>\n",
       "      <th>2023-07-06</th>\n",
       "      <td>674.000000</td>\n",
       "      <td>691.549988</td>\n",
       "      <td>671.000000</td>\n",
       "      <td>690.000000</td>\n",
       "      <td>1338976</td>\n",
       "    </tr>\n",
       "    <tr>\n",
       "      <th>2023-07-07</th>\n",
       "      <td>692.450012</td>\n",
       "      <td>692.599976</td>\n",
       "      <td>666.000000</td>\n",
       "      <td>670.650024</td>\n",
       "      <td>781925</td>\n",
       "    </tr>\n",
       "  </tbody>\n",
       "</table>\n",
       "</div>"
      ],
      "text/plain": [
       "                  Open        High         Low       Close   Volume\n",
       "Date                                                               \n",
       "2023-07-03  667.000000  677.349976  655.349976  657.049988  1034099\n",
       "2023-07-04  666.000000  666.500000  655.799988  664.700012  1051281\n",
       "2023-07-05  665.000000  674.900024  658.400024  673.049988  1193025\n",
       "2023-07-06  674.000000  691.549988  671.000000  690.000000  1338976\n",
       "2023-07-07  692.450012  692.599976  666.000000  670.650024   781925"
      ]
     },
     "execution_count": 42,
     "metadata": {},
     "output_type": "execute_result"
    }
   ],
   "source": [
    "\n",
    "\n",
    "# Data Extraction\n",
    "start_date = \"2017-01-01\"\n",
    "end_date = \"2022-06-01\"\n",
    "#symbol = \"IOC.NS\"\n",
    "\n",
    "#df = yfinance.download(tickers = stock_name,start=\"2010-03-06\",\n",
    " #                              interval = \"1d\", group_by = 'ticker', auto_adjust = True)\n",
    "\n",
    "df = pd.read_csv(\"./stock_historical_data/{}.csv\".format(stock_name))\n",
    "df.set_index(\"Date\", inplace=True)\n",
    "\n",
    "df = df[[\"Open\", \"High\", \"Low\", \"Close\",\"Volume\"]]\n",
    "df.tail()"
   ]
  },
  {
   "cell_type": "code",
   "execution_count": 43,
   "id": "f478c54f",
   "metadata": {},
   "outputs": [],
   "source": [
    "# Add TA\n",
    "df = add_all_ta_features(df, open=\"Open\", high=\"High\", low=\"Low\", close=\"Close\", volume=\"Volume\", fillna=True)\n"
   ]
  },
  {
   "cell_type": "markdown",
   "id": "3d287d20",
   "metadata": {},
   "source": [
    "### Data Preprocessing - Stationarity"
   ]
  },
  {
   "cell_type": "code",
   "execution_count": 44,
   "id": "306d5a74",
   "metadata": {},
   "outputs": [
    {
     "name": "stdout",
     "output_type": "stream",
     "text": [
      "Non-Stationary Features Found: 31\n"
     ]
    }
   ],
   "source": [
    "# Identify non-stationary columns\n",
    "\n",
    "non_stationaries = []\n",
    "for col in df.columns:\n",
    "    dftest = adfuller(df[col].values)\n",
    "    p_value = dftest[1]\n",
    "    t_test = dftest[0] < dftest[4][\"1%\"]\n",
    "    if p_value > 0.05 or not t_test:\n",
    "        non_stationaries.append(col)\n",
    "print(f\"Non-Stationary Features Found: {len(non_stationaries)}\")"
   ]
  },
  {
   "cell_type": "code",
   "execution_count": 45,
   "id": "2ca5bc27",
   "metadata": {},
   "outputs": [],
   "source": [
    "df_stationary = df.copy()\n",
    "df_stationary[non_stationaries] = df_stationary[non_stationaries].pct_change()\n",
    "df_stationary = df_stationary.iloc[1:]"
   ]
  },
  {
   "cell_type": "code",
   "execution_count": 46,
   "id": "53b760a8",
   "metadata": {},
   "outputs": [],
   "source": [
    "# Find NaN Rows\n",
    "na_list = df_stationary.columns[df_stationary.isna().any().tolist()]\n",
    "df_stationary.drop(columns=na_list, inplace=True)"
   ]
  },
  {
   "cell_type": "code",
   "execution_count": 47,
   "id": "5882ede1",
   "metadata": {},
   "outputs": [
    {
     "data": {
      "text/html": [
       "<div>\n",
       "<style scoped>\n",
       "    .dataframe tbody tr th:only-of-type {\n",
       "        vertical-align: middle;\n",
       "    }\n",
       "\n",
       "    .dataframe tbody tr th {\n",
       "        vertical-align: top;\n",
       "    }\n",
       "\n",
       "    .dataframe thead th {\n",
       "        text-align: right;\n",
       "    }\n",
       "</style>\n",
       "<table border=\"1\" class=\"dataframe\">\n",
       "  <thead>\n",
       "    <tr style=\"text-align: right;\">\n",
       "      <th></th>\n",
       "      <th>Open</th>\n",
       "      <th>High</th>\n",
       "      <th>Low</th>\n",
       "      <th>Close</th>\n",
       "      <th>Volume</th>\n",
       "      <th>volume_adi</th>\n",
       "      <th>volume_obv</th>\n",
       "      <th>volume_cmf</th>\n",
       "      <th>volume_fi</th>\n",
       "      <th>volume_em</th>\n",
       "      <th>...</th>\n",
       "      <th>momentum_ppo</th>\n",
       "      <th>momentum_ppo_signal</th>\n",
       "      <th>momentum_ppo_hist</th>\n",
       "      <th>momentum_pvo</th>\n",
       "      <th>momentum_pvo_signal</th>\n",
       "      <th>momentum_pvo_hist</th>\n",
       "      <th>momentum_kama</th>\n",
       "      <th>others_dr</th>\n",
       "      <th>others_dlr</th>\n",
       "      <th>others_cr</th>\n",
       "    </tr>\n",
       "    <tr>\n",
       "      <th>Date</th>\n",
       "      <th></th>\n",
       "      <th></th>\n",
       "      <th></th>\n",
       "      <th></th>\n",
       "      <th></th>\n",
       "      <th></th>\n",
       "      <th></th>\n",
       "      <th></th>\n",
       "      <th></th>\n",
       "      <th></th>\n",
       "      <th></th>\n",
       "      <th></th>\n",
       "      <th></th>\n",
       "      <th></th>\n",
       "      <th></th>\n",
       "      <th></th>\n",
       "      <th></th>\n",
       "      <th></th>\n",
       "      <th></th>\n",
       "      <th></th>\n",
       "      <th></th>\n",
       "    </tr>\n",
       "  </thead>\n",
       "  <tbody>\n",
       "    <tr>\n",
       "      <th>2005-01-04</th>\n",
       "      <td>-0.023352</td>\n",
       "      <td>-0.013883</td>\n",
       "      <td>-0.005707</td>\n",
       "      <td>-0.012297</td>\n",
       "      <td>18075</td>\n",
       "      <td>2.376360</td>\n",
       "      <td>-1.301858</td>\n",
       "      <td>-0.669955</td>\n",
       "      <td>-16270.975113</td>\n",
       "      <td>-6744.090828</td>\n",
       "      <td>...</td>\n",
       "      <td>-0.098181</td>\n",
       "      <td>-0.019636</td>\n",
       "      <td>-0.078545</td>\n",
       "      <td>2.355321</td>\n",
       "      <td>0.471064</td>\n",
       "      <td>1.884257</td>\n",
       "      <td>-0.005127</td>\n",
       "      <td>-1.229654</td>\n",
       "      <td>-1.237276</td>\n",
       "      <td>0.000000</td>\n",
       "    </tr>\n",
       "    <tr>\n",
       "      <th>2005-01-05</th>\n",
       "      <td>-0.011002</td>\n",
       "      <td>-0.002211</td>\n",
       "      <td>-0.012032</td>\n",
       "      <td>-0.000055</td>\n",
       "      <td>168093</td>\n",
       "      <td>1.234050</td>\n",
       "      <td>40.108089</td>\n",
       "      <td>-0.239105</td>\n",
       "      <td>-14041.817649</td>\n",
       "      <td>-730.918430</td>\n",
       "      <td>...</td>\n",
       "      <td>-0.174566</td>\n",
       "      <td>-0.050622</td>\n",
       "      <td>-0.123944</td>\n",
       "      <td>49.072175</td>\n",
       "      <td>10.191286</td>\n",
       "      <td>38.880889</td>\n",
       "      <td>-0.003017</td>\n",
       "      <td>-0.005487</td>\n",
       "      <td>-0.005487</td>\n",
       "      <td>0.004407</td>\n",
       "    </tr>\n",
       "    <tr>\n",
       "      <th>2005-01-06</th>\n",
       "      <td>-0.019716</td>\n",
       "      <td>-0.026922</td>\n",
       "      <td>-0.022347</td>\n",
       "      <td>-0.013277</td>\n",
       "      <td>224990</td>\n",
       "      <td>-3.029111</td>\n",
       "      <td>1.305925</td>\n",
       "      <td>0.228352</td>\n",
       "      <td>-42890.604823</td>\n",
       "      <td>-1583.133616</td>\n",
       "      <td>...</td>\n",
       "      <td>-0.337741</td>\n",
       "      <td>-0.108046</td>\n",
       "      <td>-0.229695</td>\n",
       "      <td>65.735283</td>\n",
       "      <td>21.300086</td>\n",
       "      <td>44.435197</td>\n",
       "      <td>-0.007263</td>\n",
       "      <td>-1.327706</td>\n",
       "      <td>-1.336598</td>\n",
       "      <td>1.061725</td>\n",
       "    </tr>\n",
       "    <tr>\n",
       "      <th>2005-01-07</th>\n",
       "      <td>-0.033708</td>\n",
       "      <td>-0.000111</td>\n",
       "      <td>-0.017143</td>\n",
       "      <td>-0.018480</td>\n",
       "      <td>19715</td>\n",
       "      <td>-0.009672</td>\n",
       "      <td>0.049626</td>\n",
       "      <td>0.216119</td>\n",
       "      <td>-40476.655450</td>\n",
       "      <td>-9697.282309</td>\n",
       "      <td>...</td>\n",
       "      <td>-0.607473</td>\n",
       "      <td>-0.207931</td>\n",
       "      <td>-0.399542</td>\n",
       "      <td>53.571278</td>\n",
       "      <td>27.754324</td>\n",
       "      <td>25.816954</td>\n",
       "      <td>-0.012366</td>\n",
       "      <td>-1.848028</td>\n",
       "      <td>-1.865317</td>\n",
       "      <td>0.707267</td>\n",
       "    </tr>\n",
       "    <tr>\n",
       "      <th>2005-01-10</th>\n",
       "      <td>0.045349</td>\n",
       "      <td>-0.001000</td>\n",
       "      <td>0.000058</td>\n",
       "      <td>0.006200</td>\n",
       "      <td>75646</td>\n",
       "      <td>0.199020</td>\n",
       "      <td>-0.181410</td>\n",
       "      <td>0.221464</td>\n",
       "      <td>-30002.265805</td>\n",
       "      <td>-138.810261</td>\n",
       "      <td>...</td>\n",
       "      <td>-0.765243</td>\n",
       "      <td>-0.319394</td>\n",
       "      <td>-0.445849</td>\n",
       "      <td>49.421016</td>\n",
       "      <td>32.087663</td>\n",
       "      <td>17.333354</td>\n",
       "      <td>-0.004388</td>\n",
       "      <td>0.620043</td>\n",
       "      <td>0.618128</td>\n",
       "      <td>-0.136425</td>\n",
       "    </tr>\n",
       "  </tbody>\n",
       "</table>\n",
       "<p>5 rows × 91 columns</p>\n",
       "</div>"
      ],
      "text/plain": [
       "                Open      High       Low     Close  Volume  volume_adi  \\\n",
       "Date                                                                     \n",
       "2005-01-04 -0.023352 -0.013883 -0.005707 -0.012297   18075    2.376360   \n",
       "2005-01-05 -0.011002 -0.002211 -0.012032 -0.000055  168093    1.234050   \n",
       "2005-01-06 -0.019716 -0.026922 -0.022347 -0.013277  224990   -3.029111   \n",
       "2005-01-07 -0.033708 -0.000111 -0.017143 -0.018480   19715   -0.009672   \n",
       "2005-01-10  0.045349 -0.001000  0.000058  0.006200   75646    0.199020   \n",
       "\n",
       "            volume_obv  volume_cmf     volume_fi    volume_em  ...  \\\n",
       "Date                                                           ...   \n",
       "2005-01-04   -1.301858   -0.669955 -16270.975113 -6744.090828  ...   \n",
       "2005-01-05   40.108089   -0.239105 -14041.817649  -730.918430  ...   \n",
       "2005-01-06    1.305925    0.228352 -42890.604823 -1583.133616  ...   \n",
       "2005-01-07    0.049626    0.216119 -40476.655450 -9697.282309  ...   \n",
       "2005-01-10   -0.181410    0.221464 -30002.265805  -138.810261  ...   \n",
       "\n",
       "            momentum_ppo  momentum_ppo_signal  momentum_ppo_hist  \\\n",
       "Date                                                               \n",
       "2005-01-04     -0.098181            -0.019636          -0.078545   \n",
       "2005-01-05     -0.174566            -0.050622          -0.123944   \n",
       "2005-01-06     -0.337741            -0.108046          -0.229695   \n",
       "2005-01-07     -0.607473            -0.207931          -0.399542   \n",
       "2005-01-10     -0.765243            -0.319394          -0.445849   \n",
       "\n",
       "            momentum_pvo  momentum_pvo_signal  momentum_pvo_hist  \\\n",
       "Date                                                               \n",
       "2005-01-04      2.355321             0.471064           1.884257   \n",
       "2005-01-05     49.072175            10.191286          38.880889   \n",
       "2005-01-06     65.735283            21.300086          44.435197   \n",
       "2005-01-07     53.571278            27.754324          25.816954   \n",
       "2005-01-10     49.421016            32.087663          17.333354   \n",
       "\n",
       "            momentum_kama  others_dr  others_dlr  others_cr  \n",
       "Date                                                         \n",
       "2005-01-04      -0.005127  -1.229654   -1.237276   0.000000  \n",
       "2005-01-05      -0.003017  -0.005487   -0.005487   0.004407  \n",
       "2005-01-06      -0.007263  -1.327706   -1.336598   1.061725  \n",
       "2005-01-07      -0.012366  -1.848028   -1.865317   0.707267  \n",
       "2005-01-10      -0.004388   0.620043    0.618128  -0.136425  \n",
       "\n",
       "[5 rows x 91 columns]"
      ]
     },
     "execution_count": 47,
     "metadata": {},
     "output_type": "execute_result"
    }
   ],
   "source": [
    "# Handle inf values\n",
    "df_stationary.replace([np.inf, -np.inf], 0, inplace=True)\n",
    "df_stationary.head()"
   ]
  },
  {
   "cell_type": "markdown",
   "id": "46f532a5",
   "metadata": {},
   "source": [
    "### Data Preprocessing - Scaling and Target Setting"
   ]
  },
  {
   "cell_type": "code",
   "execution_count": 48,
   "id": "016e14d3",
   "metadata": {},
   "outputs": [],
   "source": [
    "# Set Target (for Supervised ML later on)\n",
    "df_stationary[\"TARGET\"] = -1\n",
    "df_stationary.loc[df_stationary[\"Close\"].shift(-1) > df_stationary[\"Close\"], \"TARGET\"] = 1\n",
    "df_stationary.dropna(inplace=True)"
   ]
  },
  {
   "cell_type": "code",
   "execution_count": 49,
   "id": "8fb53476",
   "metadata": {},
   "outputs": [
    {
     "data": {
      "text/plain": [
       "['Low',\n",
       " 'Close',\n",
       " 'volume_adi',\n",
       " 'volume_obv',\n",
       " 'volume_em',\n",
       " 'volume_vpt',\n",
       " 'volume_nvi',\n",
       " 'volatility_kcp',\n",
       " 'trend_ema_fast',\n",
       " 'momentum_stoch_rsi_k',\n",
       " 'momentum_kama',\n",
       " 'others_dr',\n",
       " 'others_dlr',\n",
       " 'others_cr',\n",
       " 'TARGET']"
      ]
     },
     "execution_count": 49,
     "metadata": {},
     "output_type": "execute_result"
    }
   ],
   "source": [
    "features"
   ]
  },
  {
   "cell_type": "code",
   "execution_count": 50,
   "id": "600358a1",
   "metadata": {},
   "outputs": [
    {
     "name": "stdout",
     "output_type": "stream",
     "text": [
      "                 Low     Close  volume_adi  volume_obv     volume_em  \\\n",
      "Date                                                                   \n",
      "2005-01-04 -0.005707 -0.012297    2.376360   -1.301858  -6744.090828   \n",
      "2005-01-05 -0.012032 -0.000055    1.234050   40.108089   -730.918430   \n",
      "2005-01-06 -0.022347 -0.013277   -3.029111    1.305925  -1583.133616   \n",
      "2005-01-07 -0.017143 -0.018480   -0.009672    0.049626  -9697.282309   \n",
      "2005-01-10  0.000058  0.006200    0.199020   -0.181410   -138.810261   \n",
      "...              ...       ...         ...         ...           ...   \n",
      "2023-07-03  0.004753 -0.007177    0.005351   -0.002743  17923.789835   \n",
      "2023-07-04  0.000687  0.011643   -0.004247    0.002797  -5292.578060   \n",
      "2023-07-05  0.003965  0.012562   -0.005659    0.003165   7606.756232   \n",
      "2023-07-06  0.019137  0.025184   -0.006991    0.003541  22445.730494   \n",
      "2023-07-07 -0.007452 -0.028043    0.003149   -0.002061  -6718.689661   \n",
      "\n",
      "              volume_vpt  volume_nvi  volatility_kcp  trend_ema_fast  \\\n",
      "Date                                                                   \n",
      "2005-01-04 -10955.862878    0.000000        0.284285       -0.001892   \n",
      "2005-01-05   -231.482719    0.000000        0.354627       -0.001612   \n",
      "2005-01-06  -2996.427653    0.000000        0.242488       -0.003391   \n",
      "2005-01-07  -3351.543501   -0.018480        0.082613       -0.005669   \n",
      "2005-01-10    104.698769    0.000000        0.254220       -0.003900   \n",
      "...                  ...         ...             ...             ...   \n",
      "2023-07-03   4259.930342    0.000000        0.727369        0.000842   \n",
      "2023-07-04   4817.913821    0.000000        0.996482        0.002511   \n",
      "2023-07-05  27226.856169    0.000000        1.222823        0.004079   \n",
      "2023-07-06  48707.420282    0.000000        1.672578        0.007398   \n",
      "2023-07-07  11792.745973   -0.028043        0.853281        0.001725   \n",
      "\n",
      "            momentum_stoch_rsi_k  momentum_kama  others_dr  others_dlr  \\\n",
      "Date                                                                     \n",
      "2005-01-04              0.000000      -0.005127  -1.229654   -1.237276   \n",
      "2005-01-05              0.000000      -0.003017  -0.005487   -0.005487   \n",
      "2005-01-06              0.000000      -0.007263  -1.327706   -1.336598   \n",
      "2005-01-07              0.000000      -0.012366  -1.848028   -1.865317   \n",
      "2005-01-10              0.000000      -0.004388   0.620043    0.618128   \n",
      "...                          ...            ...        ...         ...   \n",
      "2023-07-03              0.597497       0.000104  -0.717740   -0.720328   \n",
      "2023-07-04              0.793680       0.000137   1.164299    1.157573   \n",
      "2023-07-05              0.852250       0.004252   1.256202    1.248377   \n",
      "2023-07-06              0.961922       0.007392   2.518388    2.487199   \n",
      "2023-07-07              0.861615       0.001084  -2.804344   -2.844417   \n",
      "\n",
      "            others_cr  TARGET  \n",
      "Date                           \n",
      "2005-01-04   0.000000       1  \n",
      "2005-01-05   0.004407      -1  \n",
      "2005-01-06   1.061725      -1  \n",
      "2005-01-07   0.707267       1  \n",
      "2005-01-10  -0.136425      -1  \n",
      "...               ...     ...  \n",
      "2023-07-03  -0.008070       1  \n",
      "2023-07-04   0.013103       1  \n",
      "2023-07-05   0.014117       1  \n",
      "2023-07-06   0.028257      -1  \n",
      "2023-07-07  -0.031372      -1  \n",
      "\n",
      "[4569 rows x 15 columns]\n"
     ]
    }
   ],
   "source": [
    "# Convert non-stationaries to stationary\n",
    "if findFeature == False:\n",
    "    df_stationary = df_stationary[features]\n",
    "print(df_stationary)"
   ]
  },
  {
   "cell_type": "code",
   "execution_count": 51,
   "id": "2a0b2c5d",
   "metadata": {},
   "outputs": [],
   "source": [
    "# Split Target from Featureset\n",
    "X = df_stationary.iloc[:, :-1]\n",
    "y = df_stationary.iloc[:, -1]"
   ]
  },
  {
   "cell_type": "code",
   "execution_count": 52,
   "id": "678f80f5",
   "metadata": {},
   "outputs": [],
   "source": [
    "# Feature Scaling\n",
    "df_sc = df_stationary.copy()\n",
    "X_fs = StandardScaler().fit_transform(X)"
   ]
  },
  {
   "cell_type": "code",
   "execution_count": 53,
   "id": "23b28081",
   "metadata": {},
   "outputs": [],
   "source": [
    "# Train Test Split\n",
    "X_train, X_test, y_train, y_test = train_test_split(X_fs, y, test_size=0.7, random_state=42)"
   ]
  },
  {
   "cell_type": "markdown",
   "id": "152ffbef",
   "metadata": {},
   "source": [
    "### Unsupervised ML - PCA Dimensionality Reduction"
   ]
  },
  {
   "cell_type": "markdown",
   "id": "e4127102",
   "metadata": {},
   "source": [
    "### Supervised ML - Random Forest Classification"
   ]
  },
  {
   "cell_type": "code",
   "execution_count": 54,
   "id": "ce3f0210",
   "metadata": {},
   "outputs": [
    {
     "name": "stdout",
     "output_type": "stream",
     "text": [
      "Test Accuracy: 0.7302281963113473\n",
      "Test Precision: 0.7019064124783362\n"
     ]
    }
   ],
   "source": [
    "classifier = RandomForestClassifier(n_estimators=12, max_depth=2, random_state=0)\n",
    "classifier.fit(X_train, y_train)\n",
    "y_pred = classifier.predict(X_test)\n",
    "accuracy = accuracy_score(y_test, y_pred)\n",
    "precision = precision_score(y_test, y_pred)\n",
    "print(f\"Test Accuracy: {accuracy}\")\n",
    "print(f\"Test Precision: {precision}\")"
   ]
  },
  {
   "cell_type": "code",
   "execution_count": 55,
   "id": "87c5bfbd",
   "metadata": {},
   "outputs": [
    {
     "data": {
      "image/png": "[encoded data removed]",
      "text/plain": [
       "<Figure size 2200x500 with 1 Axes>"
      ]
     },
     "metadata": {},
     "output_type": "display_data"
    }
   ],
   "source": [
    "# Plot Feature Importances\n",
    "fig = plt.figure(figsize=(22, 5))\n",
    "importance_labels = X.columns\n",
    "importance_features = classifier.feature_importances_\n",
    "plt.bar(importance_labels, importance_features)\n",
    "plt.show()"
   ]
  },
  {
   "cell_type": "code",
   "execution_count": 56,
   "id": "7337c97b",
   "metadata": {},
   "outputs": [],
   "source": [
    "# Select Best Features\n",
    "mean_feature_importance = importance_features.mean()\n",
    "i = 0\n",
    "recommended_feature_labels = []\n",
    "recommended_feature_score = []\n",
    "for fi in importance_features:\n",
    "    if fi > mean_feature_importance:\n",
    "        recommended_feature_labels.append(importance_labels[i])\n",
    "        recommended_feature_score.append(fi)\n",
    "    i += 1"
   ]
  },
  {
   "cell_type": "code",
   "execution_count": 57,
   "id": "3af08c7c",
   "metadata": {},
   "outputs": [
    {
     "name": "stderr",
     "output_type": "stream",
     "text": [
      "/var/folders/4_/_fbkdkz531s_92lxx_c_x6n00000gn/T/ipykernel_858/3002898103.py:4: UserWarning: Matplotlib is currently using module://matplotlib_inline.backend_inline, which is a non-GUI backend, so cannot show the figure.\n",
      "  fig.show()\n"
     ]
    },
    {
     "data": {
      "image/png": "[encoded data removed]",
      "text/plain": [
       "<Figure size 3500x600 with 1 Axes>"
      ]
     },
     "metadata": {},
     "output_type": "display_data"
    }
   ],
   "source": [
    "fig, ax = plt.subplots(figsize=(35, 6))\n",
    "\n",
    "ax.bar(recommended_feature_labels, recommended_feature_score)\n",
    "fig.show()"
   ]
  },
  {
   "cell_type": "code",
   "execution_count": 58,
   "id": "5c73e15a",
   "metadata": {},
   "outputs": [
    {
     "data": {
      "text/plain": [
       "array([[0.8517541 , 0.1482459 ],\n",
       "       [0.4265174 , 0.5734826 ],\n",
       "       [0.85693522, 0.14306478],\n",
       "       ...,\n",
       "       [0.1771659 , 0.8228341 ],\n",
       "       [0.74027412, 0.25972588],\n",
       "       [0.31075724, 0.68924276]])"
      ]
     },
     "execution_count": 58,
     "metadata": {},
     "output_type": "execute_result"
    }
   ],
   "source": [
    "y_pred_proba = classifier.predict_proba(X_test)\n",
    "y_pred_proba"
   ]
  },
  {
   "cell_type": "code",
   "execution_count": 61,
   "id": "21709847",
   "metadata": {},
   "outputs": [],
   "source": [
    "# Test for Overfitting\n",
    "train_scores, test_scores = list(), list()\n",
    "\n",
    "values = [i for i in range(1, 200)]\n",
    "for i in values:\n",
    "    classifier = {}\n",
    "    classifier = RandomForestClassifier(n_estimators=i, max_depth=2, random_state=0)\n",
    "   \n",
    "    #with open('./TrainedModel/indicator/{}_model_2.pkl'.format(stock_name), 'rb') as f:\n",
    "     #   classifier = pickle.load(f)\n",
    "        \n",
    "    classifier.fit(X_train, y_train)\n",
    "    \n",
    "    # Training Data\n",
    "    y_train_pred = classifier.predict(X_train)\n",
    "    accuracy_train = accuracy_score(y_train, y_train_pred)\n",
    "    train_scores.append(accuracy_train)\n",
    "    \n",
    "    # Test Data\n",
    "    y_test_pred = classifier.predict(X_test)\n",
    "    accuracy_test = accuracy_score(y_test, y_test_pred)\n",
    "    test_scores.append(accuracy_test)"
   ]
  },
  {
   "cell_type": "code",
   "execution_count": 62,
   "id": "8061a7ac",
   "metadata": {},
   "outputs": [
    {
     "data": {
      "text/plain": [
       "[0.7258518286964677,\n",
       " 0.7261644263832447,\n",
       " 0.7277274148171303,\n",
       " 0.7289778055642389,\n",
       " 0.7296030009377931,\n",
       " 0.7292904032510159,\n",
       " 0.7289778055642389,\n",
       " 0.7305407939981244,\n",
       " 0.7302281963113473,\n",
       " 0.7302281963113473,\n",
       " 0.7302281963113473,\n",
       " 0.7302281963113473,\n",
       " 0.7302281963113473,\n",
       " 0.7302281963113473,\n",
       " 0.7305407939981244,\n",
       " 0.7308533916849015,\n",
       " 0.7302281963113473,\n",
       " 0.7302281963113473,\n",
       " 0.7302281963113473,\n",
       " 0.7302281963113473,\n",
       " 0.7305407939981244,\n",
       " 0.7302281963113473,\n",
       " 0.7302281963113473,\n",
       " 0.7305407939981244,\n",
       " 0.7302281963113473,\n",
       " 0.7302281963113473,\n",
       " 0.7302281963113473,\n",
       " 0.7302281963113473,\n",
       " 0.7302281963113473,\n",
       " 0.7305407939981244,\n",
       " 0.7302281963113473,\n",
       " 0.7302281963113473,\n",
       " 0.7302281963113473,\n",
       " 0.7302281963113473,\n",
       " 0.7302281963113473,\n",
       " 0.7302281963113473,\n",
       " 0.7302281963113473,\n",
       " 0.7302281963113473,\n",
       " 0.7302281963113473,\n",
       " 0.7302281963113473,\n",
       " 0.7302281963113473,\n",
       " 0.7302281963113473,\n",
       " 0.7302281963113473,\n",
       " 0.7302281963113473,\n",
       " 0.7302281963113473,\n",
       " 0.7302281963113473,\n",
       " 0.7302281963113473,\n",
       " 0.7302281963113473,\n",
       " 0.7302281963113473,\n",
       " 0.7302281963113473,\n",
       " 0.7299155986245702,\n",
       " 0.7302281963113473,\n",
       " 0.7302281963113473,\n",
       " 0.7302281963113473,\n",
       " 0.7302281963113473,\n",
       " 0.7302281963113473,\n",
       " 0.7302281963113473,\n",
       " 0.7302281963113473,\n",
       " 0.7302281963113473,\n",
       " 0.7302281963113473,\n",
       " 0.7302281963113473,\n",
       " 0.7302281963113473,\n",
       " 0.7302281963113473,\n",
       " 0.7302281963113473,\n",
       " 0.7302281963113473,\n",
       " 0.7302281963113473,\n",
       " 0.7302281963113473,\n",
       " 0.7302281963113473,\n",
       " 0.7302281963113473,\n",
       " 0.7302281963113473,\n",
       " 0.7302281963113473,\n",
       " 0.7302281963113473,\n",
       " 0.7302281963113473,\n",
       " 0.7302281963113473,\n",
       " 0.7302281963113473,\n",
       " 0.7302281963113473,\n",
       " 0.7302281963113473,\n",
       " 0.7302281963113473,\n",
       " 0.7302281963113473,\n",
       " 0.7302281963113473,\n",
       " 0.7302281963113473,\n",
       " 0.7302281963113473,\n",
       " 0.7302281963113473,\n",
       " 0.7302281963113473,\n",
       " 0.7302281963113473,\n",
       " 0.7302281963113473,\n",
       " 0.7302281963113473,\n",
       " 0.7302281963113473,\n",
       " 0.7299155986245702,\n",
       " 0.7299155986245702,\n",
       " 0.7299155986245702,\n",
       " 0.7299155986245702,\n",
       " 0.7299155986245702,\n",
       " 0.7299155986245702,\n",
       " 0.7299155986245702,\n",
       " 0.7299155986245702,\n",
       " 0.7299155986245702,\n",
       " 0.7299155986245702,\n",
       " 0.7299155986245702,\n",
       " 0.7299155986245702,\n",
       " 0.7299155986245702,\n",
       " 0.7299155986245702,\n",
       " 0.7299155986245702,\n",
       " 0.7299155986245702,\n",
       " 0.7299155986245702,\n",
       " 0.7299155986245702,\n",
       " 0.7299155986245702,\n",
       " 0.7299155986245702,\n",
       " 0.7299155986245702,\n",
       " 0.7299155986245702,\n",
       " 0.7299155986245702,\n",
       " 0.7299155986245702,\n",
       " 0.7299155986245702,\n",
       " 0.7299155986245702,\n",
       " 0.7299155986245702,\n",
       " 0.7299155986245702,\n",
       " 0.7299155986245702,\n",
       " 0.7299155986245702,\n",
       " 0.7299155986245702,\n",
       " 0.7299155986245702,\n",
       " 0.7299155986245702,\n",
       " 0.7299155986245702,\n",
       " 0.7299155986245702,\n",
       " 0.7299155986245702,\n",
       " 0.7299155986245702,\n",
       " 0.7299155986245702,\n",
       " 0.7299155986245702,\n",
       " 0.7299155986245702,\n",
       " 0.7299155986245702,\n",
       " 0.7299155986245702,\n",
       " 0.7299155986245702,\n",
       " 0.7299155986245702,\n",
       " 0.7299155986245702,\n",
       " 0.7299155986245702,\n",
       " 0.7299155986245702,\n",
       " 0.7299155986245702,\n",
       " 0.7299155986245702,\n",
       " 0.7299155986245702,\n",
       " 0.7299155986245702,\n",
       " 0.7299155986245702,\n",
       " 0.7299155986245702,\n",
       " 0.7299155986245702,\n",
       " 0.7299155986245702,\n",
       " 0.7299155986245702,\n",
       " 0.7299155986245702,\n",
       " 0.7299155986245702,\n",
       " 0.7299155986245702,\n",
       " 0.7299155986245702,\n",
       " 0.7299155986245702,\n",
       " 0.7299155986245702,\n",
       " 0.7299155986245702,\n",
       " 0.7299155986245702,\n",
       " 0.7299155986245702,\n",
       " 0.7299155986245702,\n",
       " 0.7299155986245702,\n",
       " 0.7299155986245702,\n",
       " 0.7299155986245702,\n",
       " 0.7299155986245702,\n",
       " 0.7299155986245702,\n",
       " 0.7299155986245702,\n",
       " 0.7299155986245702,\n",
       " 0.7299155986245702,\n",
       " 0.7299155986245702,\n",
       " 0.7299155986245702,\n",
       " 0.7299155986245702,\n",
       " 0.7299155986245702,\n",
       " 0.7299155986245702,\n",
       " 0.7299155986245702,\n",
       " 0.7299155986245702,\n",
       " 0.7299155986245702,\n",
       " 0.7299155986245702,\n",
       " 0.7299155986245702,\n",
       " 0.7299155986245702,\n",
       " 0.7299155986245702,\n",
       " 0.7299155986245702,\n",
       " 0.7299155986245702,\n",
       " 0.7299155986245702,\n",
       " 0.7299155986245702,\n",
       " 0.7299155986245702,\n",
       " 0.7299155986245702,\n",
       " 0.7299155986245702,\n",
       " 0.7299155986245702,\n",
       " 0.7299155986245702,\n",
       " 0.7299155986245702,\n",
       " 0.7299155986245702,\n",
       " 0.7299155986245702,\n",
       " 0.7299155986245702,\n",
       " 0.7299155986245702,\n",
       " 0.7299155986245702,\n",
       " 0.7299155986245702,\n",
       " 0.7299155986245702,\n",
       " 0.7299155986245702,\n",
       " 0.7299155986245702,\n",
       " 0.7299155986245702,\n",
       " 0.7299155986245702,\n",
       " 0.7299155986245702,\n",
       " 0.7299155986245702,\n",
       " 0.7299155986245702,\n",
       " 0.7299155986245702]"
      ]
     },
     "execution_count": 62,
     "metadata": {},
     "output_type": "execute_result"
    }
   ],
   "source": [
    "test_scores"
   ]
  },
  {
   "cell_type": "code",
   "execution_count": 21,
   "id": "df954346",
   "metadata": {},
   "outputs": [
    {
     "data": {
      "image/png": "[encoded data removed]",
      "text/plain": [
       "<Figure size 640x480 with 1 Axes>"
      ]
     },
     "metadata": {},
     "output_type": "display_data"
    }
   ],
   "source": [
    "# Plot Results\n",
    "plt.plot(train_scores)\n",
    "plt.plot(test_scores)\n",
    "plt.show()"
   ]
  },
  {
   "cell_type": "code",
   "execution_count": 22,
   "id": "463da955",
   "metadata": {},
   "outputs": [],
   "source": [
    "# Save the trained model to a file\n",
    "import pickle\n",
    "\n",
    "if findFeature == False:\n",
    "    with open('./TrainedModel/indicator/{}_model_2.pkl'.format(stock_name), 'wb') as f:\n",
    "        pickle.dump(classifier, f)"
   ]
  },
  {
   "cell_type": "code",
   "execution_count": 23,
   "id": "ccb735f2",
   "metadata": {},
   "outputs": [],
   "source": [
    "# Save the trained model to a file\n",
    "if findFeature == True:\n",
    "    print(recommended_feature_labels)\n",
    "    with open('./TrainedModel/indicator/{}_features.txt'.format(stock_name), 'wb') as f:\n",
    "        pickle.dump(recommended_feature_labels, f)"
   ]
  },
  {
   "cell_type": "markdown",
   "id": "f4486b59",
   "metadata": {},
   "source": [
    "### Conclusion"
   ]
  },
  {
   "cell_type": "markdown",
   "id": "c39ee733",
   "metadata": {},
   "source": [
    "We have seen that by introducing PCA, we can dramatically reduce the amount of data required to train our supervised machine learning model (in this case Random Forest). One could further explore information provided by PCA by running K-Means clusters on the PCA data to find certain regimes in the data.\n",
    "\n",
    "This is the fun part about machine learning, there are many ways to combine methods in the aim to optimize your strategy."
   ]
  },
  {
   "cell_type": "markdown",
   "id": "9aae8402",
   "metadata": {},
   "source": [
    "### Useful Resources and Reading"
   ]
  },
  {
   "cell_type": "markdown",
   "id": "5a0e8826",
   "metadata": {},
   "source": [
    "Use Case in Correlation for Stock Analysis: https://python.plainenglish.io/applying-pca-to-stocks-fbad2e51573f\n",
    "\n",
    "Understanding the VIX: https://www.investopedia.com/stock-analysis/2012/4-ways-to-trade-the-vix-vxx-vxz-tvix-xxv0504.aspx\n",
    "\n",
    "Using PCA in Forex Trading: \n",
    "https://deanstreetlab.github.io/papers/papers/FX%20Trading/Using%20a%20Principal%20Component%20Analysis%20for%20Multi-Currencies-Trading%20in%20the%20Foreign%20Exchange%20Market.pdf"
   ]
  }
 ],
 "metadata": {
  "kernelspec": {
   "display_name": "Python 3 (ipykernel)",
   "language": "python",
   "name": "python3"
  },
  "language_info": {
   "codemirror_mode": {
    "name": "ipython",
    "version": 3
   },
   "file_extension": ".py",
   "mimetype": "text/x-python",
   "name": "python",
   "nbconvert_exporter": "python",
   "pygments_lexer": "ipython3",
   "version": "3.9.16"
  }
 },
 "nbformat": 4,
 "nbformat_minor": 5
}
