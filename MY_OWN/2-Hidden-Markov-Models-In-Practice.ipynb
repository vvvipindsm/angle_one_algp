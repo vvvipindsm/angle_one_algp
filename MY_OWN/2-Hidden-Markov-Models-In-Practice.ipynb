{
 "cells": [
  {
   "cell_type": "markdown",
   "id": "bf64a4aa",
   "metadata": {},
   "source": [
    "### Case Study"
   ]
  },
  {
   "cell_type": "markdown",
   "id": "fdad9608",
   "metadata": {},
   "source": [
    "Continuation on from the previous notebook, we are now going to take a very basic moving average cross-over strategy and see if we can improve upon the returns by selecting only favourable HMM states which are generated as out-of-sample data for maximum caution.\n",
    "\n",
    "We will also see how a quick backtest can be constructed and Equity curves along with Sharpe Ratios etc created."
   ]
  },
  {
   "cell_type": "markdown",
   "id": "e1abbf9e",
   "metadata": {},
   "source": [
    "### Imports"
   ]
  },
  {
   "cell_type": "markdown",
   "id": "b97c0207",
   "metadata": {},
   "source": [
    "### Structure Data"
   ]
  },
  {
   "cell_type": "code",
   "execution_count": 1,
   "id": "a4ff2ad2",
   "metadata": {},
   "outputs": [],
   "source": [
    "import pandas as pd\n",
    "import numpy as np\n",
    "\n",
    "from pyhhmm.gaussian import GaussianHMM\n",
    "from pyhhmm.gaussian import GaussianHMM\n",
    "\n",
    "import matplotlib.pyplot as plt   \n",
    "\n",
    "import yfinance"
   ]
  },
  {
   "cell_type": "code",
   "execution_count": 3,
   "id": "eb544055",
   "metadata": {},
   "outputs": [
    {
     "name": "stdout",
     "output_type": "stream",
     "text": [
      "[*********************100%***********************]  1 of 1 completed\n"
     ]
    },
    {
     "data": {
      "text/html": [
       "<div>\n",
       "<style scoped>\n",
       "    .dataframe tbody tr th:only-of-type {\n",
       "        vertical-align: middle;\n",
       "    }\n",
       "\n",
       "    .dataframe tbody tr th {\n",
       "        vertical-align: top;\n",
       "    }\n",
       "\n",
       "    .dataframe thead th {\n",
       "        text-align: right;\n",
       "    }\n",
       "</style>\n",
       "<table border=\"1\" class=\"dataframe\">\n",
       "  <thead>\n",
       "    <tr style=\"text-align: right;\">\n",
       "      <th></th>\n",
       "      <th>Open</th>\n",
       "      <th>High</th>\n",
       "      <th>Low</th>\n",
       "      <th>Close</th>\n",
       "      <th>Volume</th>\n",
       "    </tr>\n",
       "    <tr>\n",
       "      <th>Date</th>\n",
       "      <th></th>\n",
       "      <th></th>\n",
       "      <th></th>\n",
       "      <th></th>\n",
       "      <th></th>\n",
       "    </tr>\n",
       "  </thead>\n",
       "  <tbody>\n",
       "    <tr>\n",
       "      <th>2023-06-30</th>\n",
       "      <td>960.500000</td>\n",
       "      <td>1006.849976</td>\n",
       "      <td>960.000000</td>\n",
       "      <td>972.200012</td>\n",
       "      <td>3398740</td>\n",
       "    </tr>\n",
       "    <tr>\n",
       "      <th>2023-07-03</th>\n",
       "      <td>980.000000</td>\n",
       "      <td>999.000000</td>\n",
       "      <td>958.150024</td>\n",
       "      <td>988.000000</td>\n",
       "      <td>1829257</td>\n",
       "    </tr>\n",
       "    <tr>\n",
       "      <th>2023-07-04</th>\n",
       "      <td>998.000000</td>\n",
       "      <td>1007.650024</td>\n",
       "      <td>975.000000</td>\n",
       "      <td>989.450012</td>\n",
       "      <td>1626222</td>\n",
       "    </tr>\n",
       "    <tr>\n",
       "      <th>2023-07-05</th>\n",
       "      <td>991.500000</td>\n",
       "      <td>996.000000</td>\n",
       "      <td>976.500000</td>\n",
       "      <td>988.450012</td>\n",
       "      <td>1320942</td>\n",
       "    </tr>\n",
       "    <tr>\n",
       "      <th>2023-07-06</th>\n",
       "      <td>989.900024</td>\n",
       "      <td>1077.000000</td>\n",
       "      <td>985.099976</td>\n",
       "      <td>1044.400024</td>\n",
       "      <td>6961886</td>\n",
       "    </tr>\n",
       "  </tbody>\n",
       "</table>\n",
       "</div>"
      ],
      "text/plain": [
       "                  Open         High         Low        Close   Volume\n",
       "Date                                                                 \n",
       "2023-06-30  960.500000  1006.849976  960.000000   972.200012  3398740\n",
       "2023-07-03  980.000000   999.000000  958.150024   988.000000  1829257\n",
       "2023-07-04  998.000000  1007.650024  975.000000   989.450012  1626222\n",
       "2023-07-05  991.500000   996.000000  976.500000   988.450012  1320942\n",
       "2023-07-06  989.900024  1077.000000  985.099976  1044.400024  6961886"
      ]
     },
     "execution_count": 3,
     "metadata": {},
     "output_type": "execute_result"
    }
   ],
   "source": [
    "# Data Extraction\n",
    "start_date = \"2017-01-1\"\n",
    "end_date = \"2022-06-1\"\n",
    "#[OLECTRA,\"LT\",\"CONCOR\",\"ELGIEQUIP\",\"IOC\",\"BEL\",\"TATAELXSI\",\"^NSEI\"]\n",
    "stock_name = \"OLECTRA.NS\"\n",
    "data = yfinance.download (tickers = stock_name,start=\"2005-03-06\",\n",
    "                               interval = \"1d\", group_by = 'ticker', auto_adjust = True)\n",
    "\n",
    "data.tail()\n"
   ]
  },
  {
   "cell_type": "code",
   "execution_count": 4,
   "id": "dbe8e79d",
   "metadata": {},
   "outputs": [
    {
     "name": "stdout",
     "output_type": "stream",
     "text": [
      "Length:  4524\n"
     ]
    },
    {
     "data": {
      "text/html": [
       "<div>\n",
       "<style scoped>\n",
       "    .dataframe tbody tr th:only-of-type {\n",
       "        vertical-align: middle;\n",
       "    }\n",
       "\n",
       "    .dataframe tbody tr th {\n",
       "        vertical-align: top;\n",
       "    }\n",
       "\n",
       "    .dataframe thead th {\n",
       "        text-align: right;\n",
       "    }\n",
       "</style>\n",
       "<table border=\"1\" class=\"dataframe\">\n",
       "  <thead>\n",
       "    <tr style=\"text-align: right;\">\n",
       "      <th></th>\n",
       "      <th>Open</th>\n",
       "      <th>High</th>\n",
       "      <th>Low</th>\n",
       "      <th>Close</th>\n",
       "      <th>Volume</th>\n",
       "      <th>Returns</th>\n",
       "      <th>Range</th>\n",
       "    </tr>\n",
       "    <tr>\n",
       "      <th>Date</th>\n",
       "      <th></th>\n",
       "      <th></th>\n",
       "      <th></th>\n",
       "      <th></th>\n",
       "      <th></th>\n",
       "      <th></th>\n",
       "      <th></th>\n",
       "    </tr>\n",
       "  </thead>\n",
       "  <tbody>\n",
       "    <tr>\n",
       "      <th>2005-03-08</th>\n",
       "      <td>17.158432</td>\n",
       "      <td>17.204805</td>\n",
       "      <td>14.097738</td>\n",
       "      <td>17.204805</td>\n",
       "      <td>607700</td>\n",
       "      <td>0.100890</td>\n",
       "      <td>0.220395</td>\n",
       "    </tr>\n",
       "    <tr>\n",
       "      <th>2005-03-09</th>\n",
       "      <td>18.132288</td>\n",
       "      <td>18.735153</td>\n",
       "      <td>15.488964</td>\n",
       "      <td>17.668547</td>\n",
       "      <td>406600</td>\n",
       "      <td>0.026954</td>\n",
       "      <td>0.209581</td>\n",
       "    </tr>\n",
       "    <tr>\n",
       "      <th>2005-03-10</th>\n",
       "      <td>17.622173</td>\n",
       "      <td>18.178663</td>\n",
       "      <td>16.926561</td>\n",
       "      <td>17.854044</td>\n",
       "      <td>150258</td>\n",
       "      <td>0.010499</td>\n",
       "      <td>0.073973</td>\n",
       "    </tr>\n",
       "    <tr>\n",
       "      <th>2005-03-11</th>\n",
       "      <td>17.622175</td>\n",
       "      <td>19.662638</td>\n",
       "      <td>17.204807</td>\n",
       "      <td>19.662638</td>\n",
       "      <td>236300</td>\n",
       "      <td>0.101299</td>\n",
       "      <td>0.142857</td>\n",
       "    </tr>\n",
       "    <tr>\n",
       "      <th>2005-03-14</th>\n",
       "      <td>20.358248</td>\n",
       "      <td>20.358248</td>\n",
       "      <td>18.688778</td>\n",
       "      <td>18.688778</td>\n",
       "      <td>41100</td>\n",
       "      <td>-0.049528</td>\n",
       "      <td>0.089330</td>\n",
       "    </tr>\n",
       "  </tbody>\n",
       "</table>\n",
       "</div>"
      ],
      "text/plain": [
       "                 Open       High        Low      Close  Volume   Returns  \\\n",
       "Date                                                                       \n",
       "2005-03-08  17.158432  17.204805  14.097738  17.204805  607700  0.100890   \n",
       "2005-03-09  18.132288  18.735153  15.488964  17.668547  406600  0.026954   \n",
       "2005-03-10  17.622173  18.178663  16.926561  17.854044  150258  0.010499   \n",
       "2005-03-11  17.622175  19.662638  17.204807  19.662638  236300  0.101299   \n",
       "2005-03-14  20.358248  20.358248  18.688778  18.688778   41100 -0.049528   \n",
       "\n",
       "               Range  \n",
       "Date                  \n",
       "2005-03-08  0.220395  \n",
       "2005-03-09  0.209581  \n",
       "2005-03-10  0.073973  \n",
       "2005-03-11  0.142857  \n",
       "2005-03-14  0.089330  "
      ]
     },
     "execution_count": 4,
     "metadata": {},
     "output_type": "execute_result"
    }
   ],
   "source": [
    "# Add Returns and Range\n",
    "df = data.copy()\n",
    "df[\"Returns\"] = (df[\"Close\"] / df[\"Close\"].shift(1)) - 1\n",
    "df[\"Range\"] = (df[\"High\"] / df[\"Low\"]) - 1\n",
    "df.dropna(inplace=True)\n",
    "print(\"Length: \", len(df))\n",
    "df.head()"
   ]
  },
  {
   "cell_type": "code",
   "execution_count": 5,
   "id": "3a3f105f",
   "metadata": {},
   "outputs": [],
   "source": [
    "# Add Moving Average\n",
    "df[\"MA_12\"] = df[\"Close\"].rolling(window=12).mean()\n",
    "df[\"MA_21\"] = df[\"Close\"].rolling(window=21).mean()"
   ]
  },
  {
   "cell_type": "code",
   "execution_count": 6,
   "id": "f0482185",
   "metadata": {},
   "outputs": [
    {
     "name": "stdout",
     "output_type": "stream",
     "text": [
      "Train Length:  500\n",
      "Test Length:  4024\n",
      "X_train From:  2005-03-08 00:00:00\n",
      "X_train To:  2007-03-12 00:00:00\n",
      "X_test From:  2007-03-13 00:00:00\n",
      "X_test To:  2023-07-06 00:00:00\n"
     ]
    }
   ],
   "source": [
    "# Structure Data\n",
    "X_train = df[[\"Returns\", \"Range\"]].iloc[:500]\n",
    "X_test = df[[\"Returns\", \"Range\"]].iloc[500:]\n",
    "save_df = df.iloc[500:]\n",
    "\n",
    "print(\"Train Length: \", len(X_train))\n",
    "print(\"Test Length: \", len(X_test))\n",
    "print(\"X_train From: \", X_train.head(1).index.item())\n",
    "print(\"X_train To: \", X_train.tail(1).index.item())\n",
    "print(\"X_test From: \", X_test.head(1).index.item())\n",
    "print(\"X_test To: \", X_test.tail(1).index.item())"
   ]
  },
  {
   "cell_type": "markdown",
   "id": "e7d99158",
   "metadata": {},
   "source": [
    "### Train HMM"
   ]
  },
  {
   "cell_type": "code",
   "execution_count": 7,
   "id": "5289b9ae",
   "metadata": {},
   "outputs": [
    {
     "name": "stderr",
     "output_type": "stream",
     "text": [
      "/Users/vipin/opt/anaconda3/envs/my_own/lib/python3.9/site-packages/sklearn/cluster/_kmeans.py:1412: FutureWarning: The default value of `n_init` will change from 10 to 'auto' in 1.4. Set the value of `n_init` explicitly to suppress the warning\n",
      "  super()._check_params_vs_input(X, default_n_init=10)\n"
     ]
    },
    {
     "data": {
      "text/plain": [
       "array([1, 1, 1, 1, 2, 3, 0, 3, 0, 3], dtype=int32)"
      ]
     },
     "execution_count": 7,
     "metadata": {},
     "output_type": "execute_result"
    }
   ],
   "source": [
    "# Train HMM\n",
    "model = GaussianHMM(n_states=4, covariance_type='full', n_emissions=2)\n",
    "model.train([np.array(X_train.values)])\n",
    "model.predict([X_train.values])[0][:10]"
   ]
  },
  {
   "cell_type": "code",
   "execution_count": 8,
   "id": "23746516",
   "metadata": {},
   "outputs": [
    {
     "data": {
      "text/html": [
       "<div>\n",
       "<style scoped>\n",
       "    .dataframe tbody tr th:only-of-type {\n",
       "        vertical-align: middle;\n",
       "    }\n",
       "\n",
       "    .dataframe tbody tr th {\n",
       "        vertical-align: top;\n",
       "    }\n",
       "\n",
       "    .dataframe thead th {\n",
       "        text-align: right;\n",
       "    }\n",
       "</style>\n",
       "<table border=\"1\" class=\"dataframe\">\n",
       "  <thead>\n",
       "    <tr style=\"text-align: right;\">\n",
       "      <th></th>\n",
       "      <th>Open</th>\n",
       "      <th>Close</th>\n",
       "      <th>Volume</th>\n",
       "      <th>Returns</th>\n",
       "      <th>Range</th>\n",
       "      <th>MA_12</th>\n",
       "      <th>MA_21</th>\n",
       "      <th>HMM</th>\n",
       "    </tr>\n",
       "    <tr>\n",
       "      <th>Date</th>\n",
       "      <th></th>\n",
       "      <th></th>\n",
       "      <th></th>\n",
       "      <th></th>\n",
       "      <th></th>\n",
       "      <th></th>\n",
       "      <th></th>\n",
       "      <th></th>\n",
       "    </tr>\n",
       "  </thead>\n",
       "  <tbody>\n",
       "    <tr>\n",
       "      <th>2007-03-13</th>\n",
       "      <td>20.636496</td>\n",
       "      <td>20.636496</td>\n",
       "      <td>9800</td>\n",
       "      <td>0.052010</td>\n",
       "      <td>0.000000</td>\n",
       "      <td>18.321650</td>\n",
       "      <td>19.289434</td>\n",
       "      <td>1</td>\n",
       "    </tr>\n",
       "    <tr>\n",
       "      <th>2007-03-14</th>\n",
       "      <td>21.610350</td>\n",
       "      <td>21.703098</td>\n",
       "      <td>218400</td>\n",
       "      <td>0.051685</td>\n",
       "      <td>0.106383</td>\n",
       "      <td>18.592166</td>\n",
       "      <td>19.265143</td>\n",
       "      <td>1</td>\n",
       "    </tr>\n",
       "    <tr>\n",
       "      <th>2007-03-15</th>\n",
       "      <td>22.723326</td>\n",
       "      <td>21.610346</td>\n",
       "      <td>54400</td>\n",
       "      <td>-0.004274</td>\n",
       "      <td>0.088889</td>\n",
       "      <td>18.808578</td>\n",
       "      <td>19.289434</td>\n",
       "      <td>2</td>\n",
       "    </tr>\n",
       "    <tr>\n",
       "      <th>2007-03-16</th>\n",
       "      <td>22.027716</td>\n",
       "      <td>20.543743</td>\n",
       "      <td>20300</td>\n",
       "      <td>-0.049356</td>\n",
       "      <td>0.072235</td>\n",
       "      <td>19.009533</td>\n",
       "      <td>19.302684</td>\n",
       "      <td>0</td>\n",
       "    </tr>\n",
       "    <tr>\n",
       "      <th>2007-03-19</th>\n",
       "      <td>20.543741</td>\n",
       "      <td>21.610346</td>\n",
       "      <td>47900</td>\n",
       "      <td>0.051919</td>\n",
       "      <td>0.106888</td>\n",
       "      <td>19.338016</td>\n",
       "      <td>19.318142</td>\n",
       "      <td>3</td>\n",
       "    </tr>\n",
       "  </tbody>\n",
       "</table>\n",
       "</div>"
      ],
      "text/plain": [
       "                 Open      Close  Volume   Returns     Range      MA_12  \\\n",
       "Date                                                                      \n",
       "2007-03-13  20.636496  20.636496    9800  0.052010  0.000000  18.321650   \n",
       "2007-03-14  21.610350  21.703098  218400  0.051685  0.106383  18.592166   \n",
       "2007-03-15  22.723326  21.610346   54400 -0.004274  0.088889  18.808578   \n",
       "2007-03-16  22.027716  20.543743   20300 -0.049356  0.072235  19.009533   \n",
       "2007-03-19  20.543741  21.610346   47900  0.051919  0.106888  19.338016   \n",
       "\n",
       "                MA_21  HMM  \n",
       "Date                        \n",
       "2007-03-13  19.289434    1  \n",
       "2007-03-14  19.265143    1  \n",
       "2007-03-15  19.289434    2  \n",
       "2007-03-16  19.302684    0  \n",
       "2007-03-19  19.318142    3  "
      ]
     },
     "execution_count": 8,
     "metadata": {},
     "output_type": "execute_result"
    }
   ],
   "source": [
    "# Make Prediction on Test Data\n",
    "df_main = save_df.copy()\n",
    "df_main.drop(columns=[\"High\", \"Low\"], inplace=True)\n",
    "\n",
    "hmm_results = model.predict([X_test.values])[0]\n",
    "df_main[\"HMM\"] = hmm_results\n",
    "df_main.head()"
   ]
  },
  {
   "cell_type": "code",
   "execution_count": null,
   "id": "32ac109b",
   "metadata": {},
   "outputs": [],
   "source": []
  },
  {
   "cell_type": "markdown",
   "id": "d86676a1",
   "metadata": {},
   "source": [
    "### Run Backtest"
   ]
  },
  {
   "cell_type": "code",
   "execution_count": 10,
   "id": "9314180e",
   "metadata": {},
   "outputs": [],
   "source": [
    "# Add MA Signals\n",
    "df_main.loc[df_main[\"MA_12\"] > df_main[\"MA_21\"], \"MA_Signal\"] = 1\n",
    "df_main.loc[df_main[\"MA_12\"] <= df_main[\"MA_21\"], \"MA_Signal\"] = 0"
   ]
  },
  {
   "cell_type": "code",
   "execution_count": 11,
   "id": "b2099627",
   "metadata": {},
   "outputs": [],
   "source": [
    "# Add HMM Signals\n",
    "favourable_states = [0, 1]\n",
    "hmm_values = df_main[\"HMM\"].values\n",
    "hmm_values = [1 if x in favourable_states else 0 for x in hmm_values]\n",
    "df_main[\"HMM_Signal\"] = hmm_values"
   ]
  },
  {
   "cell_type": "code",
   "execution_count": 12,
   "id": "97bb42c7",
   "metadata": {},
   "outputs": [],
   "source": [
    "# Add Combined Signal\n",
    "df_main[\"Main_Signal\"] = 0\n",
    "df_main.loc[(df_main[\"MA_Signal\"] == 1) & (df_main[\"HMM_Signal\"] == 1), \"Main_Signal\"] = 1\n",
    "df_main[\"Main_Signal\"] = df_main[\"Main_Signal\"].shift(1)"
   ]
  },
  {
   "cell_type": "code",
   "execution_count": 13,
   "id": "418d4b5f",
   "metadata": {},
   "outputs": [],
   "source": [
    "# Benchmark Returns\n",
    "df_main[\"lrets_bench\"] = np.log(df_main[\"Close\"] / df_main[\"Close\"].shift(1))\n",
    "df_main[\"bench_prod\"] = df_main[\"lrets_bench\"].cumsum()\n",
    "df_main[\"bench_prod_exp\"] = np.exp(df_main[\"bench_prod\"]) - 1"
   ]
  },
  {
   "cell_type": "code",
   "execution_count": 14,
   "id": "1d94f2a3",
   "metadata": {},
   "outputs": [],
   "source": [
    "# Strategy Returns\n",
    "df_main[\"lrets_strat\"] = np.log(df_main[\"Open\"].shift(-1) / df_main[\"Open\"]) * df_main[\"Main_Signal\"]\n",
    "df_main[\"lrets_prod\"] = df_main[\"lrets_strat\"].cumsum()\n",
    "df_main[\"strat_prod_exp\"] = np.exp(df_main[\"lrets_prod\"]) - 1"
   ]
  },
  {
   "cell_type": "code",
   "execution_count": 15,
   "id": "da290628",
   "metadata": {},
   "outputs": [
    {
     "data": {
      "text/html": [
       "<div>\n",
       "<style scoped>\n",
       "    .dataframe tbody tr th:only-of-type {\n",
       "        vertical-align: middle;\n",
       "    }\n",
       "\n",
       "    .dataframe tbody tr th {\n",
       "        vertical-align: top;\n",
       "    }\n",
       "\n",
       "    .dataframe thead th {\n",
       "        text-align: right;\n",
       "    }\n",
       "</style>\n",
       "<table border=\"1\" class=\"dataframe\">\n",
       "  <thead>\n",
       "    <tr style=\"text-align: right;\">\n",
       "      <th></th>\n",
       "      <th>Open</th>\n",
       "      <th>Close</th>\n",
       "      <th>Volume</th>\n",
       "      <th>Returns</th>\n",
       "      <th>Range</th>\n",
       "      <th>MA_12</th>\n",
       "      <th>MA_21</th>\n",
       "      <th>HMM</th>\n",
       "      <th>MA_Signal</th>\n",
       "      <th>HMM_Signal</th>\n",
       "      <th>Main_Signal</th>\n",
       "      <th>lrets_bench</th>\n",
       "      <th>bench_prod</th>\n",
       "      <th>bench_prod_exp</th>\n",
       "      <th>lrets_strat</th>\n",
       "      <th>lrets_prod</th>\n",
       "      <th>strat_prod_exp</th>\n",
       "    </tr>\n",
       "    <tr>\n",
       "      <th>Date</th>\n",
       "      <th></th>\n",
       "      <th></th>\n",
       "      <th></th>\n",
       "      <th></th>\n",
       "      <th></th>\n",
       "      <th></th>\n",
       "      <th></th>\n",
       "      <th></th>\n",
       "      <th></th>\n",
       "      <th></th>\n",
       "      <th></th>\n",
       "      <th></th>\n",
       "      <th></th>\n",
       "      <th></th>\n",
       "      <th></th>\n",
       "      <th></th>\n",
       "      <th></th>\n",
       "    </tr>\n",
       "  </thead>\n",
       "  <tbody>\n",
       "    <tr>\n",
       "      <th>2023-06-28</th>\n",
       "      <td>952.299988</td>\n",
       "      <td>952.299988</td>\n",
       "      <td>0</td>\n",
       "      <td>0.000000</td>\n",
       "      <td>0.000000</td>\n",
       "      <td>940.241664</td>\n",
       "      <td>874.785708</td>\n",
       "      <td>0</td>\n",
       "      <td>1.0</td>\n",
       "      <td>1</td>\n",
       "      <td>0.0</td>\n",
       "      <td>0.000000</td>\n",
       "      <td>3.831819</td>\n",
       "      <td>45.146400</td>\n",
       "      <td>0.000000</td>\n",
       "      <td>6.691787</td>\n",
       "      <td>804.761201</td>\n",
       "    </tr>\n",
       "    <tr>\n",
       "      <th>2023-06-30</th>\n",
       "      <td>960.500000</td>\n",
       "      <td>972.200012</td>\n",
       "      <td>3398740</td>\n",
       "      <td>0.020897</td>\n",
       "      <td>0.048802</td>\n",
       "      <td>945.524999</td>\n",
       "      <td>886.095232</td>\n",
       "      <td>3</td>\n",
       "      <td>1.0</td>\n",
       "      <td>0</td>\n",
       "      <td>1.0</td>\n",
       "      <td>0.020681</td>\n",
       "      <td>3.852500</td>\n",
       "      <td>46.110713</td>\n",
       "      <td>0.020099</td>\n",
       "      <td>6.711886</td>\n",
       "      <td>821.119705</td>\n",
       "    </tr>\n",
       "    <tr>\n",
       "      <th>2023-07-03</th>\n",
       "      <td>980.000000</td>\n",
       "      <td>988.000000</td>\n",
       "      <td>1829257</td>\n",
       "      <td>0.016252</td>\n",
       "      <td>0.042634</td>\n",
       "      <td>951.662501</td>\n",
       "      <td>896.866661</td>\n",
       "      <td>0</td>\n",
       "      <td>1.0</td>\n",
       "      <td>1</td>\n",
       "      <td>0.0</td>\n",
       "      <td>0.016121</td>\n",
       "      <td>3.868622</td>\n",
       "      <td>46.876346</td>\n",
       "      <td>0.000000</td>\n",
       "      <td>6.711886</td>\n",
       "      <td>821.119705</td>\n",
       "    </tr>\n",
       "    <tr>\n",
       "      <th>2023-07-04</th>\n",
       "      <td>998.000000</td>\n",
       "      <td>989.450012</td>\n",
       "      <td>1626222</td>\n",
       "      <td>0.001468</td>\n",
       "      <td>0.033487</td>\n",
       "      <td>954.591670</td>\n",
       "      <td>907.326186</td>\n",
       "      <td>3</td>\n",
       "      <td>1.0</td>\n",
       "      <td>0</td>\n",
       "      <td>1.0</td>\n",
       "      <td>0.001467</td>\n",
       "      <td>3.870088</td>\n",
       "      <td>46.946610</td>\n",
       "      <td>-0.006534</td>\n",
       "      <td>6.705352</td>\n",
       "      <td>815.765218</td>\n",
       "    </tr>\n",
       "    <tr>\n",
       "      <th>2023-07-05</th>\n",
       "      <td>991.500000</td>\n",
       "      <td>988.450012</td>\n",
       "      <td>1320942</td>\n",
       "      <td>-0.001011</td>\n",
       "      <td>0.019969</td>\n",
       "      <td>959.779170</td>\n",
       "      <td>916.690473</td>\n",
       "      <td>0</td>\n",
       "      <td>1.0</td>\n",
       "      <td>1</td>\n",
       "      <td>0.0</td>\n",
       "      <td>-0.001011</td>\n",
       "      <td>3.869077</td>\n",
       "      <td>46.898152</td>\n",
       "      <td>-0.000000</td>\n",
       "      <td>6.705352</td>\n",
       "      <td>815.765218</td>\n",
       "    </tr>\n",
       "  </tbody>\n",
       "</table>\n",
       "</div>"
      ],
      "text/plain": [
       "                  Open       Close   Volume   Returns     Range       MA_12  \\\n",
       "Date                                                                          \n",
       "2023-06-28  952.299988  952.299988        0  0.000000  0.000000  940.241664   \n",
       "2023-06-30  960.500000  972.200012  3398740  0.020897  0.048802  945.524999   \n",
       "2023-07-03  980.000000  988.000000  1829257  0.016252  0.042634  951.662501   \n",
       "2023-07-04  998.000000  989.450012  1626222  0.001468  0.033487  954.591670   \n",
       "2023-07-05  991.500000  988.450012  1320942 -0.001011  0.019969  959.779170   \n",
       "\n",
       "                 MA_21  HMM  MA_Signal  HMM_Signal  Main_Signal  lrets_bench  \\\n",
       "Date                                                                           \n",
       "2023-06-28  874.785708    0        1.0           1          0.0     0.000000   \n",
       "2023-06-30  886.095232    3        1.0           0          1.0     0.020681   \n",
       "2023-07-03  896.866661    0        1.0           1          0.0     0.016121   \n",
       "2023-07-04  907.326186    3        1.0           0          1.0     0.001467   \n",
       "2023-07-05  916.690473    0        1.0           1          0.0    -0.001011   \n",
       "\n",
       "            bench_prod  bench_prod_exp  lrets_strat  lrets_prod  \\\n",
       "Date                                                              \n",
       "2023-06-28    3.831819       45.146400     0.000000    6.691787   \n",
       "2023-06-30    3.852500       46.110713     0.020099    6.711886   \n",
       "2023-07-03    3.868622       46.876346     0.000000    6.711886   \n",
       "2023-07-04    3.870088       46.946610    -0.006534    6.705352   \n",
       "2023-07-05    3.869077       46.898152    -0.000000    6.705352   \n",
       "\n",
       "            strat_prod_exp  \n",
       "Date                        \n",
       "2023-06-28      804.761201  \n",
       "2023-06-30      821.119705  \n",
       "2023-07-03      821.119705  \n",
       "2023-07-04      815.765218  \n",
       "2023-07-05      815.765218  "
      ]
     },
     "execution_count": 15,
     "metadata": {},
     "output_type": "execute_result"
    }
   ],
   "source": [
    "# Review Results Table\n",
    "df_main.dropna(inplace=True)\n",
    "df_main.tail()"
   ]
  },
  {
   "cell_type": "code",
   "execution_count": null,
   "id": "d2cfe8c1",
   "metadata": {},
   "outputs": [],
   "source": []
  },
  {
   "cell_type": "markdown",
   "id": "f2633ff5",
   "metadata": {},
   "source": [
    "### Calculate Metrics"
   ]
  },
  {
   "cell_type": "code",
   "execution_count": 16,
   "id": "18b5b297",
   "metadata": {},
   "outputs": [],
   "source": [
    "# Sharpe Ratio Function\n",
    "def sharpe_ratio(returns_series):\n",
    "    N = 255\n",
    "    NSQRT = np.sqrt(N)\n",
    "    rf = 0.01\n",
    "    mean = returns_series.mean() * N\n",
    "    sigma = returns_series.std() * NSQRT\n",
    "    sharpe_ratio = round((mean - rf) / sigma, 2)\n",
    "    return sharpe_ratio"
   ]
  },
  {
   "cell_type": "code",
   "execution_count": 17,
   "id": "f241e439",
   "metadata": {},
   "outputs": [],
   "source": [
    "# Metrics\n",
    "bench_rets = round(df_main[\"bench_prod_exp\"].values[-1] * 100, 1)\n",
    "strat_rets = round(df_main[\"strat_prod_exp\"].values[-1] * 100, 1)\n",
    "\n",
    "bench_sharpe = sharpe_ratio(df_main[\"lrets_bench\"].values)\n",
    "strat_sharpe = sharpe_ratio(df_main[\"lrets_strat\"].values)"
   ]
  },
  {
   "cell_type": "code",
   "execution_count": 18,
   "id": "271cc940",
   "metadata": {},
   "outputs": [
    {
     "name": "stdout",
     "output_type": "stream",
     "text": [
      "Returns Benchmark: 4689.8%\n",
      "Returns Strategy: 81576.5%\n",
      "---- ---- ---- ---- ---- ----\n",
      "Sharpe Benchmark: 0.43\n",
      "Sharpe Strategy: 1.08\n"
     ]
    }
   ],
   "source": [
    "# Print Metrics\n",
    "print(f\"Returns Benchmark: {bench_rets}%\")\n",
    "print(f\"Returns Strategy: {strat_rets}%\")\n",
    "print(\"---- ---- ---- ---- ---- ----\")\n",
    "print(f\"Sharpe Benchmark: {bench_sharpe}\")\n",
    "print(f\"Sharpe Strategy: {strat_sharpe}\")"
   ]
  },
  {
   "cell_type": "markdown",
   "id": "b494dc6a",
   "metadata": {},
   "source": [
    "### Plot Results"
   ]
  },
  {
   "cell_type": "code",
   "execution_count": 19,
   "id": "9c2c03e3",
   "metadata": {},
   "outputs": [
    {
     "data": {
      "image/png": "[encoded data removed]",
      "text/plain": [
       "<Figure size 1800x1000 with 1 Axes>"
      ]
     },
     "metadata": {},
     "output_type": "display_data"
    }
   ],
   "source": [
    "# Plot Equity Curves\n",
    "fig = plt.figure(figsize = (18, 10))\n",
    "plt.plot(df_main[\"bench_prod_exp\"])\n",
    "plt.plot(df_main[\"strat_prod_exp\"])\n",
    "plt.show()"
   ]
  },
  {
   "cell_type": "markdown",
   "id": "fcff1dc2",
   "metadata": {},
   "source": [
    "### Save Data"
   ]
  },
  {
   "cell_type": "code",
   "execution_count": 18,
   "id": "3f4c70ef",
   "metadata": {},
   "outputs": [],
   "source": [
    "# Save Data\n",
    "df_main.to_csv(\"data/HMM-SPY.csv\")"
   ]
  },
  {
   "cell_type": "markdown",
   "id": "3a93ca0d",
   "metadata": {},
   "source": [
    "### Conclusion"
   ]
  },
  {
   "cell_type": "markdown",
   "id": "ddc70509",
   "metadata": {},
   "source": [
    "It is clear that the moving average cross-over strategy performs vastly better in both returns and Sharpe Ratio, when trading only in favourable hidden states determined by the Hidden Markov Model unsupervised learning method.\n",
    "\n",
    "CAUTION: Backtesting is fraught with areas of inconsitency. The price assumptions made in our strategy for backtesting are highly unlikely going to be like prices based on a real trading environment. \"Backtesting is not a research tool. Feature Importance is\". - Marcos Lopez De Prado (Author of Advances in Financial Machine Learning)."
   ]
  }
 ],
 "metadata": {
  "kernelspec": {
   "display_name": "Python 3 (ipykernel)",
   "language": "python",
   "name": "python3"
  },
  "language_info": {
   "codemirror_mode": {
    "name": "ipython",
    "version": 3
   },
   "file_extension": ".py",
   "mimetype": "text/x-python",
   "name": "python",
   "nbconvert_exporter": "python",
   "pygments_lexer": "ipython3",
   "version": "3.9.16"
  }
 },
 "nbformat": 4,
 "nbformat_minor": 5
}
