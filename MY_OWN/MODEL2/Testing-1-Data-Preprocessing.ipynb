{
 "cells": [
  {
   "cell_type": "markdown",
   "id": "d5823f28",
   "metadata": {},
   "source": [
    "### Case Study"
   ]
  },
  {
   "cell_type": "markdown",
   "id": "951cca79",
   "metadata": {},
   "source": [
    "FTX allows customers to trade based on the size of Move for Bitcoin. If we can determine a model, which can forecast better than 50/50 accuracy, whether or not Bitcoins move will likely be above it's average, then we have an edge.\n",
    "\n",
    "The catch is, how to predict whether future volatility will be above or below the rolling average (assuming that the rolling average is where the market adjusts to). Regardless, this will be a significant challenge and we will need state-of-the-art methods, whilst making sure we do not overfit."
   ]
  },
  {
   "cell_type": "markdown",
   "id": "e3ce9aa2",
   "metadata": {},
   "source": [
    "### Imports"
   ]
  },
  {
   "cell_type": "code",
   "execution_count": 1,
   "id": "0fd807ac",
   "metadata": {},
   "outputs": [],
   "source": [
    "import numpy as np\n",
    "import pandas as pd\n",
    "from stratmanagerDaily import StrategyManager\n",
    "import sklearn.mixture as mix\n",
    "from ta.momentum import RSIIndicator\n",
    "import matplotlib.pyplot as plt\n",
    "import yfinance"
   ]
  },
  {
   "cell_type": "markdown",
   "id": "79547611",
   "metadata": {},
   "source": [
    "### Data Extraction and Returns Overview"
   ]
  },
  {
   "cell_type": "code",
   "execution_count": 3,
   "id": "7a2dbedc",
   "metadata": {},
   "outputs": [
    {
     "name": "stderr",
     "output_type": "stream",
     "text": [
      "/Users/vipin/workspace/ai/my_own/MY_OWN/MODEL2/stratmanagerDaily.py:21: SettingWithCopyWarning: \n",
      "A value is trying to be set on a copy of a slice from a DataFrame.\n",
      "Try using .loc[row_indexer,col_indexer] = value instead\n",
      "\n",
      "See the caveats in the documentation: https://pandas.pydata.org/pandas-docs/stable/user_guide/indexing.html#returning-a-view-versus-a-copy\n",
      "  df[\"Returns\"] = df[\"Close\"].pct_change()\n",
      "/Users/vipin/workspace/ai/my_own/MY_OWN/MODEL2/stratmanagerDaily.py:22: SettingWithCopyWarning: \n",
      "A value is trying to be set on a copy of a slice from a DataFrame.\n",
      "Try using .loc[row_indexer,col_indexer] = value instead\n",
      "\n",
      "See the caveats in the documentation: https://pandas.pydata.org/pandas-docs/stable/user_guide/indexing.html#returning-a-view-versus-a-copy\n",
      "  df[\"Range\"] = df[\"High\"] / df[\"Low\"] - 1\n",
      "/Users/vipin/workspace/ai/my_own/MY_OWN/MODEL2/stratmanagerDaily.py:23: SettingWithCopyWarning: \n",
      "A value is trying to be set on a copy of a slice from a DataFrame.\n",
      "Try using .loc[row_indexer,col_indexer] = value instead\n",
      "\n",
      "See the caveats in the documentation: https://pandas.pydata.org/pandas-docs/stable/user_guide/indexing.html#returning-a-view-versus-a-copy\n",
      "  df[\"Bench_C_Rets\"], sharpe = self._calculate_returns(df, True)\n",
      "/Users/vipin/workspace/ai/my_own/MY_OWN/MODEL2/stratmanagerDaily.py:25: SettingWithCopyWarning: \n",
      "A value is trying to be set on a copy of a slice from a DataFrame\n",
      "\n",
      "See the caveats in the documentation: https://pandas.pydata.org/pandas-docs/stable/user_guide/indexing.html#returning-a-view-versus-a-copy\n",
      "  df.dropna(inplace=True)\n"
     ]
    },
    {
     "data": {
      "text/html": [
       "<div>\n",
       "<style scoped>\n",
       "    .dataframe tbody tr th:only-of-type {\n",
       "        vertical-align: middle;\n",
       "    }\n",
       "\n",
       "    .dataframe tbody tr th {\n",
       "        vertical-align: top;\n",
       "    }\n",
       "\n",
       "    .dataframe thead th {\n",
       "        text-align: right;\n",
       "    }\n",
       "</style>\n",
       "<table border=\"1\" class=\"dataframe\">\n",
       "  <thead>\n",
       "    <tr style=\"text-align: right;\">\n",
       "      <th></th>\n",
       "      <th>Open</th>\n",
       "      <th>High</th>\n",
       "      <th>Low</th>\n",
       "      <th>Close</th>\n",
       "      <th>Volume</th>\n",
       "      <th>Returns</th>\n",
       "      <th>Range</th>\n",
       "      <th>Bench_C_Rets</th>\n",
       "    </tr>\n",
       "    <tr>\n",
       "      <th>Date</th>\n",
       "      <th></th>\n",
       "      <th></th>\n",
       "      <th></th>\n",
       "      <th></th>\n",
       "      <th></th>\n",
       "      <th></th>\n",
       "      <th></th>\n",
       "      <th></th>\n",
       "    </tr>\n",
       "  </thead>\n",
       "  <tbody>\n",
       "    <tr>\n",
       "      <th>2017-12-28</th>\n",
       "      <td>100</td>\n",
       "      <td>111</td>\n",
       "      <td>99</td>\n",
       "      <td>100</td>\n",
       "      <td>2001</td>\n",
       "      <td>0.010101</td>\n",
       "      <td>0.121212</td>\n",
       "      <td>0.121212</td>\n",
       "    </tr>\n",
       "  </tbody>\n",
       "</table>\n",
       "</div>"
      ],
      "text/plain": [
       "            Open  High  Low  Close  Volume   Returns     Range  Bench_C_Rets\n",
       "Date                                                                        \n",
       "2017-12-28   100   111   99    100    2001  0.010101  0.121212      0.121212"
      ]
     },
     "execution_count": 3,
     "metadata": {},
     "output_type": "execute_result"
    }
   ],
   "source": [
    "# Extract Data\n",
    "start_date = \"2005-01-1\"\n",
    "end_date = \"2022-06-1\"\n",
    "    \n",
    "symbol = \"TATAMOTORS.NS\"\n",
    "input_dataa = {\n",
    "                    'Close' : [99,100,111],\n",
    "                    'Open' :  [99,100,111],\n",
    "                    'Date' :[\"2017-12-27\",\"2017-12-28\",\"2017-12-27\"],\n",
    "                    'High' : [100,111,120],\n",
    "                    'Low' : [98,99,90], \n",
    "                    'Volume' : [2000,2001,2002]\n",
    "                    \n",
    "            }\n",
    "\n",
    "dff = pd.DataFrame(input_dataa)\n",
    "dff.set_index(\"Date\", inplace=True)\n",
    "\n",
    "strat_mgr = StrategyManager(symbol, start_date, end_date,dff)\n",
    "df = strat_mgr.df.copy()\n",
    "df.head()"
   ]
  },
  {
   "cell_type": "code",
   "execution_count": 4,
   "id": "77376584",
   "metadata": {},
   "outputs": [
    {
     "data": {
      "image/png": "[encoded data removed]",
      "text/plain": [
       "<Figure size 1500x300 with 1 Axes>"
      ]
     },
     "metadata": {},
     "output_type": "display_data"
    }
   ],
   "source": [
    "# Benchmark Returns Profile\n",
    "fig = plt.figure(figsize = (15, 3))\n",
    "plt.plot(df[\"Bench_C_Rets\"].values)\n",
    "plt.show()"
   ]
  },
  {
   "cell_type": "code",
   "execution_count": 5,
   "id": "b2982e16",
   "metadata": {},
   "outputs": [
    {
     "data": {
      "image/png": "[encoded data removed]",
      "text/plain": [
       "<Figure size 1500x200 with 1 Axes>"
      ]
     },
     "metadata": {},
     "output_type": "display_data"
    }
   ],
   "source": [
    "# Benchmark Returns Profile\n",
    "fig = plt.figure(figsize = (15, 2))\n",
    "plt.plot(df[\"Returns\"].values)\n",
    "plt.show()"
   ]
  },
  {
   "cell_type": "code",
   "execution_count": 5,
   "id": "6afbc71d",
   "metadata": {},
   "outputs": [],
   "source": [
    "# Benchmark Range Profile\n",
    "fig = plt.figure(figsize = (15, 2))\n",
    "plt.plot(df[\"Range\"].values)\n",
    "plt.show()"
   ]
  },
  {
   "cell_type": "markdown",
   "id": "4af8f50c",
   "metadata": {},
   "source": [
    "### Feature Engineering - Feature Expansion"
   ]
  },
  {
   "cell_type": "code",
   "execution_count": 6,
   "id": "fd920cf7",
   "metadata": {},
   "outputs": [],
   "source": [
    "# Create a copy\n",
    "df_fe = df.copy()"
   ]
  },
  {
   "cell_type": "markdown",
   "id": "86151ea0",
   "metadata": {},
   "source": [
    "##### Indicators"
   ]
  },
  {
   "cell_type": "code",
   "execution_count": 7,
   "id": "639c7ad2",
   "metadata": {},
   "outputs": [],
   "source": [
    "# Add RSI\n",
    "rsi = RSIIndicator(close=df_fe[\"Close\"], window=14).rsi()\n",
    "df_fe[\"RSI\"] = rsi\n",
    "df_fe[\"RSI_Ret\"] = df_fe[\"RSI\"] / df_fe[\"RSI\"].shift(1)"
   ]
  },
  {
   "cell_type": "code",
   "execution_count": 8,
   "id": "6d82ee51",
   "metadata": {},
   "outputs": [],
   "source": [
    "# Add Moving Average\n",
    "df_fe[\"MA_12\"] = df_fe[\"Close\"].rolling(window=12).mean()\n",
    "df_fe[\"MA_21\"] = df_fe[\"Close\"].rolling(window=21).mean()"
   ]
  },
  {
   "cell_type": "code",
   "execution_count": 9,
   "id": "484538c4",
   "metadata": {},
   "outputs": [],
   "source": [
    "# Day of Week\n",
    "df_fe[\"DOW\"] = df_fe.index.dayofweek"
   ]
  },
  {
   "cell_type": "code",
   "execution_count": null,
   "id": "8ab543a7",
   "metadata": {},
   "outputs": [],
   "source": [
    "# Rolling Cumulative Returns\n",
    "df_fe[\"Roll_Rets\"] = df_fe[\"Returns\"].rolling(window=30).sum()"
   ]
  },
  {
   "cell_type": "code",
   "execution_count": null,
   "id": "ecb004a5",
   "metadata": {},
   "outputs": [],
   "source": [
    "# Rolling Cumulative Range\n",
    "df_fe[\"Avg_Range\"] = df_fe[\"Range\"].rolling(window=30).mean()"
   ]
  },
  {
   "cell_type": "markdown",
   "id": "74695be3",
   "metadata": {},
   "source": [
    "##### Time Intervals"
   ]
  },
  {
   "cell_type": "code",
   "execution_count": null,
   "id": "8ea292f6",
   "metadata": {},
   "outputs": [],
   "source": [
    "# Add Time Intervals\n",
    "t_steps = [1, 2]\n",
    "t_features = [\"Returns\", \"Range\", \"RSI_Ret\"]\n",
    "for ts in t_steps:\n",
    "    for tf in t_features:\n",
    "        df_fe[f\"{tf}_T{ts}\"] = df_fe[tf].shift(ts)"
   ]
  },
  {
   "cell_type": "code",
   "execution_count": null,
   "id": "2affb9ff",
   "metadata": {},
   "outputs": [],
   "source": [
    "# Show DataFrame\n",
    "df_fe.tail(3)"
   ]
  },
  {
   "cell_type": "markdown",
   "id": "fd079acf",
   "metadata": {},
   "source": [
    "### Feature Engineering - Feature Scaling"
   ]
  },
  {
   "cell_type": "code",
   "execution_count": null,
   "id": "90546ad0",
   "metadata": {},
   "outputs": [],
   "source": [
    "# Correct for Stationarity\n",
    "df_fs = df_fe.copy()\n",
    "df_fs[[\"Open\", \"High\", \"Low\", \"Volume\"]] = df_fs[[\"Open\", \"High\", \"Low\", \"Volume\"]].pct_change()\n",
    "df_fs"
   ]
  },
  {
   "cell_type": "markdown",
   "id": "04964323",
   "metadata": {},
   "source": [
    "### Assess Data for ML Readiness"
   ]
  },
  {
   "cell_type": "code",
   "execution_count": null,
   "id": "ce912eb2",
   "metadata": {},
   "outputs": [],
   "source": [
    "# Check for NaN\n",
    "df_fs.dropna(inplace=True)\n",
    "print(df_fs.isnull().values.any())"
   ]
  },
  {
   "cell_type": "code",
   "execution_count": null,
   "id": "2f0e83c9",
   "metadata": {},
   "outputs": [],
   "source": [
    "# Check for Inf values\n",
    "dfobj = df_fs.isin([np.inf, -np.inf])\n",
    "count = np.isinf(dfobj).values.sum()\n",
    "count"
   ]
  },
  {
   "cell_type": "code",
   "execution_count": null,
   "id": "fbebe7c6",
   "metadata": {},
   "outputs": [],
   "source": [
    "# Check for non-numerical objects\n",
    "df_fs.info()"
   ]
  },
  {
   "cell_type": "code",
   "execution_count": null,
   "id": "1bb9fcec",
   "metadata": {},
   "outputs": [],
   "source": [
    "# Describe DataFrame\n",
    "df_fs.describe()"
   ]
  },
  {
   "cell_type": "markdown",
   "id": "c027a0be",
   "metadata": {},
   "source": [
    "### Save Data"
   ]
  },
  {
   "cell_type": "code",
   "execution_count": null,
   "id": "4030e3b1",
   "metadata": {},
   "outputs": [],
   "source": [
    "# Save DataFrame\n",
    "df_fs.to_csv(f\"data/{symbol}.csv\")"
   ]
  },
  {
   "cell_type": "code",
   "execution_count": null,
   "id": "70c11c12",
   "metadata": {},
   "outputs": [],
   "source": []
  }
 ],
 "metadata": {
  "kernelspec": {
   "display_name": "Python 3 (ipykernel)",
   "language": "python",
   "name": "python3"
  },
  "language_info": {
   "codemirror_mode": {
    "name": "ipython",
    "version": 3
   },
   "file_extension": ".py",
   "mimetype": "text/x-python",
   "name": "python",
   "nbconvert_exporter": "python",
   "pygments_lexer": "ipython3",
   "version": "3.9.16"
  }
 },
 "nbformat": 4,
 "nbformat_minor": 5
}
