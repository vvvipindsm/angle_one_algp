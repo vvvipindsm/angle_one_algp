{
 "cells": [
  {
   "cell_type": "code",
   "execution_count": 32,
   "id": "6f2a58d6",
   "metadata": {},
   "outputs": [],
   "source": [
    "import pandas as pd\n",
    "import numpy as np\n",
    "import pandas as pd\n",
    "import xgboost\n",
    "from sklearn.model_selection import train_test_split\n",
    "from sklearn.model_selection import GridSearchCV\n",
    "from sklearn.metrics import roc_auc_score\n",
    "import matplotlib.pyplot as plt\n",
    "import seaborn as sns\n"
   ]
  },
  {
   "cell_type": "code",
   "execution_count": 3,
   "id": "f8bbefe3",
   "metadata": {},
   "outputs": [],
   "source": [
    "df = pd.read_csv(\"../stock_historical_data/{}.csv\".format(\"LT.NS\"))\n",
    "df.set_index(\"Date\", inplace=True)\n",
    "df[\"date\"] = df.index"
   ]
  },
  {
   "cell_type": "code",
   "execution_count": 4,
   "id": "9b101cf2",
   "metadata": {},
   "outputs": [],
   "source": [
    "new_df = pd.DataFrame(df.Close)\n",
    "new_df.reset_index(inplace=True)"
   ]
  },
  {
   "cell_type": "code",
   "execution_count": 5,
   "id": "3f87082d",
   "metadata": {},
   "outputs": [],
   "source": [
    "new_df = new_df.drop(\"Date\",axis=1)"
   ]
  },
  {
   "cell_type": "code",
   "execution_count": 6,
   "id": "8d4f9ce9",
   "metadata": {},
   "outputs": [
    {
     "data": {
      "text/html": [
       "<div>\n",
       "<style scoped>\n",
       "    .dataframe tbody tr th:only-of-type {\n",
       "        vertical-align: middle;\n",
       "    }\n",
       "\n",
       "    .dataframe tbody tr th {\n",
       "        vertical-align: top;\n",
       "    }\n",
       "\n",
       "    .dataframe thead th {\n",
       "        text-align: right;\n",
       "    }\n",
       "</style>\n",
       "<table border=\"1\" class=\"dataframe\">\n",
       "  <thead>\n",
       "    <tr style=\"text-align: right;\">\n",
       "      <th></th>\n",
       "      <th>Close</th>\n",
       "    </tr>\n",
       "  </thead>\n",
       "  <tbody>\n",
       "    <tr>\n",
       "      <th>0</th>\n",
       "      <td>1212.869873</td>\n",
       "    </tr>\n",
       "    <tr>\n",
       "      <th>1</th>\n",
       "      <td>1245.600220</td>\n",
       "    </tr>\n",
       "    <tr>\n",
       "      <th>2</th>\n",
       "      <td>1236.109985</td>\n",
       "    </tr>\n",
       "    <tr>\n",
       "      <th>3</th>\n",
       "      <td>1219.166016</td>\n",
       "    </tr>\n",
       "    <tr>\n",
       "      <th>4</th>\n",
       "      <td>1222.638184</td>\n",
       "    </tr>\n",
       "    <tr>\n",
       "      <th>...</th>\n",
       "      <td>...</td>\n",
       "    </tr>\n",
       "    <tr>\n",
       "      <th>905</th>\n",
       "      <td>2717.600098</td>\n",
       "    </tr>\n",
       "    <tr>\n",
       "      <th>906</th>\n",
       "      <td>2688.149902</td>\n",
       "    </tr>\n",
       "    <tr>\n",
       "      <th>907</th>\n",
       "      <td>2638.399902</td>\n",
       "    </tr>\n",
       "    <tr>\n",
       "      <th>908</th>\n",
       "      <td>2695.350098</td>\n",
       "    </tr>\n",
       "    <tr>\n",
       "      <th>909</th>\n",
       "      <td>2703.449951</td>\n",
       "    </tr>\n",
       "  </tbody>\n",
       "</table>\n",
       "<p>910 rows × 1 columns</p>\n",
       "</div>"
      ],
      "text/plain": [
       "           Close\n",
       "0    1212.869873\n",
       "1    1245.600220\n",
       "2    1236.109985\n",
       "3    1219.166016\n",
       "4    1222.638184\n",
       "..           ...\n",
       "905  2717.600098\n",
       "906  2688.149902\n",
       "907  2638.399902\n",
       "908  2695.350098\n",
       "909  2703.449951\n",
       "\n",
       "[910 rows x 1 columns]"
      ]
     },
     "execution_count": 6,
     "metadata": {},
     "output_type": "execute_result"
    }
   ],
   "source": [
    "new_df"
   ]
  },
  {
   "cell_type": "code",
   "execution_count": 7,
   "id": "4017c991",
   "metadata": {},
   "outputs": [],
   "source": [
    "#scaling fream\n",
    "from sklearn.preprocessing import MinMaxScaler\n",
    "scaler=MinMaxScaler(feature_range=(0,1))\n",
    "new_df = scaler.fit_transform(np.array(new_df).reshape(-1,1))"
   ]
  },
  {
   "cell_type": "code",
   "execution_count": 8,
   "id": "bd1f850c",
   "metadata": {},
   "outputs": [],
   "source": [
    "##splitting dataset into train and test split\n",
    "training_size = int(len(new_df)*0.8)\n",
    "test_size     = len(new_df) - training_size\n",
    "train_data,test_data = new_df[0:training_size,:],new_df[training_size:len(new_df),:1]"
   ]
  },
  {
   "cell_type": "code",
   "execution_count": 9,
   "id": "2053bb7c",
   "metadata": {},
   "outputs": [
    {
     "data": {
      "text/plain": [
       "((910, 1), (728, 1), (182, 1))"
      ]
     },
     "execution_count": 9,
     "metadata": {},
     "output_type": "execute_result"
    }
   ],
   "source": [
    "new_df.shape,train_data.shape,test_data.shape"
   ]
  },
  {
   "cell_type": "code",
   "execution_count": 10,
   "id": "86e2d900",
   "metadata": {},
   "outputs": [
    {
     "data": {
      "text/plain": [
       "((728, 1), (182, 1))"
      ]
     },
     "execution_count": 10,
     "metadata": {},
     "output_type": "execute_result"
    }
   ],
   "source": [
    "train_data.shape , test_data.shape"
   ]
  },
  {
   "cell_type": "code",
   "execution_count": 11,
   "id": "a0975fb4",
   "metadata": {},
   "outputs": [],
   "source": [
    "import numpy\n",
    "# convert an array of values into a dataset matrix\n",
    "def create_dataset(dataset, time_step=1):\n",
    "    dataX, dataY = [], []\n",
    "    for i in range(len(dataset)-time_step-1):\n",
    "        a = dataset[i:(i+time_step), 0]   \n",
    "        dataX.append(a)\n",
    "        dataY.append(dataset[(i+time_step)+1][0])\n",
    "\n",
    "    return numpy.array(dataX), numpy.array(dataY)"
   ]
  },
  {
   "cell_type": "code",
   "execution_count": 12,
   "id": "141bb98e",
   "metadata": {},
   "outputs": [],
   "source": [
    "# reshape into X=t,t+1,t+2,t+3 and Y=t+4\n",
    "time_step = 100\n",
    "X_train, y_train = create_dataset(train_data, time_step)\n",
    "X_test, ytest    = create_dataset(test_data, time_step)"
   ]
  },
  {
   "cell_type": "code",
   "execution_count": 13,
   "id": "3eca9617",
   "metadata": {},
   "outputs": [
    {
     "data": {
      "text/plain": [
       "((627, 100), (627,), (81, 100), (81,))"
      ]
     },
     "execution_count": 13,
     "metadata": {},
     "output_type": "execute_result"
    }
   ],
   "source": [
    "X_train.shape,y_train.shape,X_test.shape,ytest.shape"
   ]
  },
  {
   "cell_type": "code",
   "execution_count": 14,
   "id": "d8445b5d",
   "metadata": {},
   "outputs": [],
   "source": [
    "# reshape input to be [samples, time steps, features] which is required for LSTM\n",
    "X_train = X_train.reshape(X_train.shape[0],X_train.shape[1] , 1)\n",
    "X_test = X_test.reshape(X_test.shape[0],X_test.shape[1] , 1)"
   ]
  },
  {
   "cell_type": "code",
   "execution_count": 15,
   "id": "06cfc801",
   "metadata": {},
   "outputs": [
    {
     "data": {
      "text/plain": [
       "(81, 100, 1)"
      ]
     },
     "execution_count": 15,
     "metadata": {},
     "output_type": "execute_result"
    }
   ],
   "source": [
    "X_test.shape"
   ]
  },
  {
   "cell_type": "code",
   "execution_count": 16,
   "id": "8cff5254",
   "metadata": {},
   "outputs": [
    {
     "name": "stderr",
     "output_type": "stream",
     "text": [
      "2023-08-30 17:56:35.433655: I tensorflow/core/platform/cpu_feature_guard.cc:182] This TensorFlow binary is optimized to use available CPU instructions in performance-critical operations.\n",
      "To enable the following instructions: AVX2 FMA, in other operations, rebuild TensorFlow with the appropriate compiler flags.\n"
     ]
    }
   ],
   "source": [
    "### Create the Stacked LSTM model\n",
    "from tensorflow.keras.models import Sequential\n",
    "from tensorflow.keras.layers import Dense\n",
    "from tensorflow.keras.layers import LSTM"
   ]
  },
  {
   "cell_type": "code",
   "execution_count": 18,
   "id": "a7c8be1d",
   "metadata": {},
   "outputs": [],
   "source": [
    "model=Sequential()\n",
    "model.add(LSTM(50,return_sequences=True,input_shape=(100,1)))\n",
    "model.add(LSTM(50,return_sequences=True))\n",
    "model.add(LSTM(50))\n",
    "model.add(Dense(1))\n",
    "\n",
    "model.compile(loss='mean_squared_error',optimizer='adam')"
   ]
  },
  {
   "cell_type": "code",
   "execution_count": 19,
   "id": "bd1269c6",
   "metadata": {},
   "outputs": [
    {
     "name": "stdout",
     "output_type": "stream",
     "text": [
      "Model: \"sequential_1\"\n",
      "_________________________________________________________________\n",
      " Layer (type)                Output Shape              Param #   \n",
      "=================================================================\n",
      " lstm_3 (LSTM)               (None, 100, 50)           10400     \n",
      "                                                                 \n",
      " lstm_4 (LSTM)               (None, 100, 50)           20200     \n",
      "                                                                 \n",
      " lstm_5 (LSTM)               (None, 50)                20200     \n",
      "                                                                 \n",
      " dense_1 (Dense)             (None, 1)                 51        \n",
      "                                                                 \n",
      "=================================================================\n",
      "Total params: 50851 (198.64 KB)\n",
      "Trainable params: 50851 (198.64 KB)\n",
      "Non-trainable params: 0 (0.00 Byte)\n",
      "_________________________________________________________________\n"
     ]
    }
   ],
   "source": [
    "model.summary()"
   ]
  },
  {
   "cell_type": "code",
   "execution_count": 20,
   "id": "4ede7334",
   "metadata": {},
   "outputs": [
    {
     "name": "stdout",
     "output_type": "stream",
     "text": [
      "Epoch 1/2\n",
      "10/10 [==============================] - 10s 344ms/step - loss: 0.0702 - val_loss: 0.0118\n",
      "Epoch 2/2\n",
      "10/10 [==============================] - 2s 160ms/step - loss: 0.0098 - val_loss: 0.0446\n"
     ]
    },
    {
     "data": {
      "text/plain": [
       "<keras.src.callbacks.History at 0x7f9fdb65de50>"
      ]
     },
     "execution_count": 20,
     "metadata": {},
     "output_type": "execute_result"
    }
   ],
   "source": [
    "model.fit(X_train,y_train,validation_data=(X_test,ytest),epochs=2,batch_size=64,verbose=1)"
   ]
  },
  {
   "cell_type": "code",
   "execution_count": 21,
   "id": "9836d7ec",
   "metadata": {},
   "outputs": [],
   "source": [
    "import tensorflow as tf"
   ]
  },
  {
   "cell_type": "code",
   "execution_count": 22,
   "id": "e7c99cc3",
   "metadata": {},
   "outputs": [
    {
     "name": "stdout",
     "output_type": "stream",
     "text": [
      "20/20 [==============================] - 2s 41ms/step\n",
      "3/3 [==============================] - 0s 38ms/step\n"
     ]
    }
   ],
   "source": [
    "### Lets Do the prediction and check performance metrics\n",
    "train_predict =  model.predict(X_train)\n",
    "test_predict  =  model.predict(X_test)"
   ]
  },
  {
   "cell_type": "code",
   "execution_count": 23,
   "id": "1999a35c",
   "metadata": {},
   "outputs": [],
   "source": [
    "##Transformback to original form\n",
    "train_predict = scaler.inverse_transform(train_predict)\n",
    "test_predict  = scaler.inverse_transform(test_predict)"
   ]
  },
  {
   "cell_type": "code",
   "execution_count": 24,
   "id": "7bead721",
   "metadata": {},
   "outputs": [
    {
     "data": {
      "text/plain": [
       "array([[1937.2294],\n",
       "       [1940.6997],\n",
       "       [1944.583 ],\n",
       "       [1948.7588],\n",
       "       [1953.1338],\n",
       "       [1957.577 ],\n",
       "       [1961.599 ],\n",
       "       [1964.8484],\n",
       "       [1967.2316],\n",
       "       [1968.6848],\n",
       "       [1969.2112],\n",
       "       [1968.7838],\n",
       "       [1967.4701],\n",
       "       [1965.4695],\n",
       "       [1962.9095],\n",
       "       [1959.8882],\n",
       "       [1956.5785],\n",
       "       [1953.1708],\n",
       "       [1949.8271],\n",
       "       [1946.6184],\n",
       "       [1943.5782],\n",
       "       [1940.7384],\n",
       "       [1938.2028],\n",
       "       [1936.1323],\n",
       "       [1934.6307],\n",
       "       [1933.8447],\n",
       "       [1933.8884],\n",
       "       [1934.8383],\n",
       "       [1936.589 ],\n",
       "       [1939.0487],\n",
       "       [1942.0917],\n",
       "       [1945.5958],\n",
       "       [1949.4471],\n",
       "       [1953.5237],\n",
       "       [1957.7584],\n",
       "       [1962.1106],\n",
       "       [1966.588 ],\n",
       "       [1971.0753],\n",
       "       [1975.4397],\n",
       "       [1979.6163],\n",
       "       [1983.555 ],\n",
       "       [1987.4893],\n",
       "       [1991.4684],\n",
       "       [1995.521 ],\n",
       "       [1999.6592],\n",
       "       [2003.9121],\n",
       "       [2008.1426],\n",
       "       [2012.2124],\n",
       "       [2016.134 ],\n",
       "       [2019.8417],\n",
       "       [2023.278 ],\n",
       "       [2026.474 ],\n",
       "       [2029.4381],\n",
       "       [2032.1935],\n",
       "       [2034.8119],\n",
       "       [2037.3181],\n",
       "       [2040.0085],\n",
       "       [2043.0839],\n",
       "       [2046.4836],\n",
       "       [2050.378 ],\n",
       "       [2054.8403],\n",
       "       [2059.8108],\n",
       "       [2065.2715],\n",
       "       [2071.164 ],\n",
       "       [2077.2664],\n",
       "       [2083.3215],\n",
       "       [2089.2253],\n",
       "       [2094.9155],\n",
       "       [2100.3262],\n",
       "       [2105.464 ],\n",
       "       [2110.2979],\n",
       "       [2114.791 ],\n",
       "       [2118.9827],\n",
       "       [2122.983 ],\n",
       "       [2126.7366],\n",
       "       [2130.179 ],\n",
       "       [2133.3333],\n",
       "       [2136.2627],\n",
       "       [2139.1145],\n",
       "       [2141.8806],\n",
       "       [2144.4058]], dtype=float32)"
      ]
     },
     "execution_count": 24,
     "metadata": {},
     "output_type": "execute_result"
    }
   ],
   "source": [
    "test_predict"
   ]
  },
  {
   "cell_type": "code",
   "execution_count": 25,
   "id": "0b39de45",
   "metadata": {},
   "outputs": [
    {
     "data": {
      "text/plain": [
       "((708, 1), (627, 1))"
      ]
     },
     "execution_count": 25,
     "metadata": {},
     "output_type": "execute_result"
    }
   ],
   "source": [
    "train_predict.shape,test_predict.shape\n",
    "result = np.concatenate((train_predict, test_predict), axis=0)\n",
    "result.shape,train_predict.shape"
   ]
  },
  {
   "cell_type": "code",
   "execution_count": 26,
   "id": "2b3553fa",
   "metadata": {},
   "outputs": [
    {
     "data": {
      "text/plain": [
       "1490.3271586301373"
      ]
     },
     "execution_count": 26,
     "metadata": {},
     "output_type": "execute_result"
    }
   ],
   "source": [
    "### Calculate RMSE performance metrics\n",
    "import math\n",
    "from sklearn.metrics import mean_squared_error\n",
    "math.sqrt(mean_squared_error(y_train,train_predict))"
   ]
  },
  {
   "cell_type": "code",
   "execution_count": 27,
   "id": "cb8d18fc",
   "metadata": {},
   "outputs": [
    {
     "data": {
      "text/plain": [
       "2009.1332549009828"
      ]
     },
     "execution_count": 27,
     "metadata": {},
     "output_type": "execute_result"
    }
   ],
   "source": [
    "### Test Data RMSE\n",
    "math.sqrt(mean_squared_error(ytest,test_predict))"
   ]
  },
  {
   "cell_type": "code",
   "execution_count": 33,
   "id": "8cbbef6e",
   "metadata": {},
   "outputs": [
    {
     "data": {
      "image/png": "[encoded data removed]",
      "text/plain": [
       "<Figure size 640x480 with 1 Axes>"
      ]
     },
     "metadata": {},
     "output_type": "display_data"
    }
   ],
   "source": [
    "### Plotting \n",
    "# shift train predictions for plotting\n",
    "look_back=100\n",
    "#trainPredictPlot = numpy.empty_like(df1)\n",
    "#trainPredictPlot[:, :] = np.nan\n",
    "#trainPredictPlot[look_back:len(train_predict)+look_back, :] = train_predict\n",
    "# shift test predictions for plotting\n",
    "#testPredictPlot = numpy.empty_like(df1)\n",
    "#testPredictPlot[:, :] = numpy.nan\n",
    "#testPredictPlot[len(train_predict)+(look_back*2)+1:len(df1)-1, :] = test_predict\n",
    "# plot baseline and predictions\n",
    "plt.plot(scaler.inverse_transform(new_df))\n",
    "plt.plot(result)\n",
    "plt.plot(train_predict)\n",
    "plt.show()"
   ]
  },
  {
   "cell_type": "code",
   "execution_count": 31,
   "id": "a10056bf",
   "metadata": {},
   "outputs": [
    {
     "ename": "NameError",
     "evalue": "name 'trainPredictPlot' is not defined",
     "output_type": "error",
     "traceback": [
      "\u001b[0;31m---------------------------------------------------------------------------\u001b[0m",
      "\u001b[0;31mNameError\u001b[0m                                 Traceback (most recent call last)",
      "Cell \u001b[0;32mIn[31], line 1\u001b[0m\n\u001b[0;32m----> 1\u001b[0m new_df\u001b[38;5;241m.\u001b[39mshape,\u001b[43mtrainPredictPlot\u001b[49m\u001b[38;5;241m.\u001b[39mshape,testPredictPlot\u001b[38;5;241m.\u001b[39mshape\n",
      "\u001b[0;31mNameError\u001b[0m: name 'trainPredictPlot' is not defined"
     ]
    }
   ],
   "source": [
    "new_df.shape,trainPredictPlot.shape,testPredictPlot.shape"
   ]
  }
 ],
 "metadata": {
  "kernelspec": {
   "display_name": "Python 3 (ipykernel)",
   "language": "python",
   "name": "python3"
  },
  "language_info": {
   "codemirror_mode": {
    "name": "ipython",
    "version": 3
   },
   "file_extension": ".py",
   "mimetype": "text/x-python",
   "name": "python",
   "nbconvert_exporter": "python",
   "pygments_lexer": "ipython3",
   "version": "3.9.16"
  }
 },
 "nbformat": 4,
 "nbformat_minor": 5
}
