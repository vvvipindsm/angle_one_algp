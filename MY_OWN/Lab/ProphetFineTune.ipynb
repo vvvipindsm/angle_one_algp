{
 "cells": [
  {
   "cell_type": "markdown",
   "metadata": {
    "id": "QZK36hW6M7cl"
   },
   "source": [
    "#Libraries and Data"
   ]
  },
  {
   "cell_type": "code",
   "execution_count": 10,
   "metadata": {
    "executionInfo": {
     "elapsed": 2554,
     "status": "ok",
     "timestamp": 1621008666318,
     "user": {
      "displayName": "Diogo Resende",
      "photoUrl": "https://lh3.googleusercontent.com/a-/AOh14GgH4DE06-yE1oiIzCiaAURCl1Escr4LXXiaSnbSaA=s64",
      "userId": "05706604408624562002"
     },
     "user_tz": -120
    },
    "id": "xBzm1qtYNE6M"
   },
   "outputs": [
    {
     "ename": "ModuleNotFoundError",
     "evalue": "No module named 'pmdarima'",
     "output_type": "error",
     "traceback": [
      "\u001b[0;31m---------------------------------------------------------------------------\u001b[0m",
      "\u001b[0;31mModuleNotFoundError\u001b[0m                       Traceback (most recent call last)",
      "Cell \u001b[0;32mIn[10], line 16\u001b[0m\n\u001b[1;32m     14\u001b[0m \u001b[38;5;28;01mfrom\u001b[39;00m \u001b[38;5;21;01msklearn\u001b[39;00m\u001b[38;5;21;01m.\u001b[39;00m\u001b[38;5;21;01mmetrics\u001b[39;00m \u001b[38;5;28;01mimport\u001b[39;00m roc_auc_score\n\u001b[1;32m     15\u001b[0m \u001b[38;5;28;01mimport\u001b[39;00m \u001b[38;5;21;01mmatplotlib\u001b[39;00m\u001b[38;5;21;01m.\u001b[39;00m\u001b[38;5;21;01mpyplot\u001b[39;00m \u001b[38;5;28;01mas\u001b[39;00m \u001b[38;5;21;01mplt\u001b[39;00m\n\u001b[0;32m---> 16\u001b[0m \u001b[38;5;28;01mfrom\u001b[39;00m \u001b[38;5;21;01mpmdarima\u001b[39;00m\u001b[38;5;21;01m.\u001b[39;00m\u001b[38;5;21;01marima\u001b[39;00m \u001b[38;5;28;01mimport\u001b[39;00m auto_arima\n",
      "\u001b[0;31mModuleNotFoundError\u001b[0m: No module named 'pmdarima'"
     ]
    }
   ],
   "source": [
    "#import libraries\n",
    "import numpy as np\n",
    "import pandas as pd\n",
    "import itertools\n",
    "from prophet import Prophet\n",
    "import yfinance\n",
    "import pickle\n",
    "from ta import add_all_ta_features\n",
    "from sklearn.model_selection import GridSearchCV\n",
    "from sklearn.preprocessing import StandardScaler\n",
    "from statsmodels.tsa.stattools import adfuller\n",
    "from matplotlib.pylab import rcParams\n",
    "from sklearn import tree\n",
    "from sklearn.metrics import roc_auc_score\n",
    "import matplotlib.pyplot as plt\n",
    "from pmdarima.arima import auto_arima\n"
   ]
  },
  {
   "cell_type": "code",
   "execution_count": 2,
   "metadata": {},
   "outputs": [
    {
     "name": "stdout",
     "output_type": "stream",
     "text": [
      "[*********************100%***********************]  1 of 1 completed\n"
     ]
    },
    {
     "data": {
      "text/html": [
       "<div>\n",
       "<style scoped>\n",
       "    .dataframe tbody tr th:only-of-type {\n",
       "        vertical-align: middle;\n",
       "    }\n",
       "\n",
       "    .dataframe tbody tr th {\n",
       "        vertical-align: top;\n",
       "    }\n",
       "\n",
       "    .dataframe thead th {\n",
       "        text-align: right;\n",
       "    }\n",
       "</style>\n",
       "<table border=\"1\" class=\"dataframe\">\n",
       "  <thead>\n",
       "    <tr style=\"text-align: right;\">\n",
       "      <th></th>\n",
       "      <th>Open</th>\n",
       "      <th>High</th>\n",
       "      <th>Low</th>\n",
       "      <th>Close</th>\n",
       "      <th>Volume</th>\n",
       "    </tr>\n",
       "    <tr>\n",
       "      <th>Date</th>\n",
       "      <th></th>\n",
       "      <th></th>\n",
       "      <th></th>\n",
       "      <th></th>\n",
       "      <th></th>\n",
       "    </tr>\n",
       "  </thead>\n",
       "  <tbody>\n",
       "    <tr>\n",
       "      <th>2023-07-10</th>\n",
       "      <td>101.000000</td>\n",
       "      <td>101.449997</td>\n",
       "      <td>97.099998</td>\n",
       "      <td>97.400002</td>\n",
       "      <td>24042759</td>\n",
       "    </tr>\n",
       "    <tr>\n",
       "      <th>2023-07-11</th>\n",
       "      <td>97.800003</td>\n",
       "      <td>98.900002</td>\n",
       "      <td>96.900002</td>\n",
       "      <td>98.099998</td>\n",
       "      <td>17508261</td>\n",
       "    </tr>\n",
       "    <tr>\n",
       "      <th>2023-07-12</th>\n",
       "      <td>98.250000</td>\n",
       "      <td>99.349998</td>\n",
       "      <td>97.699997</td>\n",
       "      <td>97.900002</td>\n",
       "      <td>14979586</td>\n",
       "    </tr>\n",
       "    <tr>\n",
       "      <th>2023-07-13</th>\n",
       "      <td>98.400002</td>\n",
       "      <td>98.699997</td>\n",
       "      <td>96.000000</td>\n",
       "      <td>96.199997</td>\n",
       "      <td>11491737</td>\n",
       "    </tr>\n",
       "    <tr>\n",
       "      <th>2023-07-14</th>\n",
       "      <td>96.500000</td>\n",
       "      <td>97.650002</td>\n",
       "      <td>95.800003</td>\n",
       "      <td>96.500000</td>\n",
       "      <td>17975077</td>\n",
       "    </tr>\n",
       "  </tbody>\n",
       "</table>\n",
       "</div>"
      ],
      "text/plain": [
       "                  Open        High        Low      Close    Volume\n",
       "Date                                                              \n",
       "2023-07-10  101.000000  101.449997  97.099998  97.400002  24042759\n",
       "2023-07-11   97.800003   98.900002  96.900002  98.099998  17508261\n",
       "2023-07-12   98.250000   99.349998  97.699997  97.900002  14979586\n",
       "2023-07-13   98.400002   98.699997  96.000000  96.199997  11491737\n",
       "2023-07-14   96.500000   97.650002  95.800003  96.500000  17975077"
      ]
     },
     "execution_count": 2,
     "metadata": {},
     "output_type": "execute_result"
    }
   ],
   "source": [
    "#load the data\n",
    "\n",
    "data = yfinance.download (tickers = \"IOC.NS\",start=\"2010-03-06\",\n",
    "                               interval = \"1d\", group_by = 'ticker', auto_adjust = True)\n",
    "\n",
    "data.tail()"
   ]
  },
  {
   "cell_type": "markdown",
   "metadata": {
    "id": "6RKxpqoBOSBX"
   },
   "source": [
    "#Data preparation"
   ]
  },
  {
   "cell_type": "code",
   "execution_count": 3,
   "metadata": {
    "colab": {
     "base_uri": "https://localhost:8080/"
    },
    "executionInfo": {
     "elapsed": 843,
     "status": "ok",
     "timestamp": 1621008673660,
     "user": {
      "displayName": "Diogo Resende",
      "photoUrl": "https://lh3.googleusercontent.com/a-/AOh14GgH4DE06-yE1oiIzCiaAURCl1Escr4LXXiaSnbSaA=s64",
      "userId": "05706604408624562002"
     },
     "user_tz": -120
    },
    "id": "o55_2auGOUm6",
    "outputId": "7b72e62e-b26c-451e-c930-f7e794b87c23"
   },
   "outputs": [],
   "source": [
    "#transform the date variable\n",
    "data[\"Date\"] = pd.to_datetime(data.index, format = \"%m/%d/%Y\")\n"
   ]
  },
  {
   "cell_type": "code",
   "execution_count": 4,
   "metadata": {
    "colab": {
     "base_uri": "https://localhost:8080/",
     "height": 79
    },
    "executionInfo": {
     "elapsed": 744,
     "status": "ok",
     "timestamp": 1621008692325,
     "user": {
      "displayName": "Diogo Resende",
      "photoUrl": "https://lh3.googleusercontent.com/a-/AOh14GgH4DE06-yE1oiIzCiaAURCl1Escr4LXXiaSnbSaA=s64",
      "userId": "05706604408624562002"
     },
     "user_tz": -120
    },
    "id": "D3FRYUauQWkz",
    "outputId": "96122dd3-0ca2-496a-e72d-a04c87425033"
   },
   "outputs": [],
   "source": [
    "#renaming variables\n",
    "data[\"y\"] = data[\"Close\"]\n",
    "data = data.rename(columns = {\n",
    "                     'Date': 'ds'})\n",
    "data.head(10)\n",
    "data = data.reset_index()"
   ]
  },
  {
   "cell_type": "code",
   "execution_count": 5,
   "metadata": {},
   "outputs": [
    {
     "name": "stdout",
     "output_type": "stream",
     "text": [
      "Length of dataset : 3299\n"
     ]
    }
   ],
   "source": [
    "print(\"Length of dataset :\",len(data))"
   ]
  },
  {
   "cell_type": "code",
   "execution_count": 6,
   "metadata": {
    "executionInfo": {
     "elapsed": 789,
     "status": "ok",
     "timestamp": 1621008765383,
     "user": {
      "displayName": "Diogo Resende",
      "photoUrl": "https://lh3.googleusercontent.com/a-/AOh14GgH4DE06-yE1oiIzCiaAURCl1Escr4LXXiaSnbSaA=s64",
      "userId": "05706604408624562002"
     },
     "user_tz": -120
    },
    "id": "-ReDePNYpfSD"
   },
   "outputs": [],
   "source": [
    "#create training and test set\n",
    "test_days = 360 \n",
    "training_set = data.iloc[:-test_days,:]\n",
    "test_set = data.iloc[-test_days:,:]"
   ]
  },
  {
   "cell_type": "code",
   "execution_count": 7,
   "metadata": {},
   "outputs": [
    {
     "name": "stdout",
     "output_type": "stream",
     "text": [
      "Length of Test dataset : 360 Length of Training set : 2939\n"
     ]
    }
   ],
   "source": [
    "print(\"Length of Test dataset :\", len(test_set),\"Length of Training set :\",len(training_set))"
   ]
  },
  {
   "cell_type": "code",
   "execution_count": 8,
   "metadata": {},
   "outputs": [
    {
     "data": {
      "text/html": [
       "<div>\n",
       "<style scoped>\n",
       "    .dataframe tbody tr th:only-of-type {\n",
       "        vertical-align: middle;\n",
       "    }\n",
       "\n",
       "    .dataframe tbody tr th {\n",
       "        vertical-align: top;\n",
       "    }\n",
       "\n",
       "    .dataframe thead th {\n",
       "        text-align: right;\n",
       "    }\n",
       "</style>\n",
       "<table border=\"1\" class=\"dataframe\">\n",
       "  <thead>\n",
       "    <tr style=\"text-align: right;\">\n",
       "      <th></th>\n",
       "      <th>Date</th>\n",
       "      <th>Open</th>\n",
       "      <th>High</th>\n",
       "      <th>Low</th>\n",
       "      <th>Close</th>\n",
       "      <th>Volume</th>\n",
       "      <th>ds</th>\n",
       "      <th>y</th>\n",
       "    </tr>\n",
       "  </thead>\n",
       "  <tbody>\n",
       "    <tr>\n",
       "      <th>2939</th>\n",
       "      <td>2022-02-01</td>\n",
       "      <td>78.542124</td>\n",
       "      <td>78.542124</td>\n",
       "      <td>74.490345</td>\n",
       "      <td>75.892883</td>\n",
       "      <td>34627617</td>\n",
       "      <td>2022-02-01</td>\n",
       "      <td>75.892883</td>\n",
       "    </tr>\n",
       "    <tr>\n",
       "      <th>2940</th>\n",
       "      <td>2022-02-02</td>\n",
       "      <td>76.360392</td>\n",
       "      <td>77.887605</td>\n",
       "      <td>76.173390</td>\n",
       "      <td>77.575928</td>\n",
       "      <td>14749194</td>\n",
       "      <td>2022-02-02</td>\n",
       "      <td>77.575928</td>\n",
       "    </tr>\n",
       "    <tr>\n",
       "      <th>2941</th>\n",
       "      <td>2022-02-03</td>\n",
       "      <td>78.168105</td>\n",
       "      <td>78.448615</td>\n",
       "      <td>77.388915</td>\n",
       "      <td>77.700592</td>\n",
       "      <td>13117138</td>\n",
       "      <td>2022-02-03</td>\n",
       "      <td>77.700592</td>\n",
       "    </tr>\n",
       "    <tr>\n",
       "      <th>2942</th>\n",
       "      <td>2022-02-04</td>\n",
       "      <td>77.856429</td>\n",
       "      <td>78.136939</td>\n",
       "      <td>77.108413</td>\n",
       "      <td>77.388916</td>\n",
       "      <td>10723602</td>\n",
       "      <td>2022-02-04</td>\n",
       "      <td>77.388916</td>\n",
       "    </tr>\n",
       "    <tr>\n",
       "      <th>2943</th>\n",
       "      <td>2022-02-07</td>\n",
       "      <td>77.607093</td>\n",
       "      <td>77.669427</td>\n",
       "      <td>76.360390</td>\n",
       "      <td>76.609734</td>\n",
       "      <td>13452373</td>\n",
       "      <td>2022-02-07</td>\n",
       "      <td>76.609734</td>\n",
       "    </tr>\n",
       "    <tr>\n",
       "      <th>...</th>\n",
       "      <td>...</td>\n",
       "      <td>...</td>\n",
       "      <td>...</td>\n",
       "      <td>...</td>\n",
       "      <td>...</td>\n",
       "      <td>...</td>\n",
       "      <td>...</td>\n",
       "      <td>...</td>\n",
       "    </tr>\n",
       "    <tr>\n",
       "      <th>3294</th>\n",
       "      <td>2023-07-10</td>\n",
       "      <td>101.000000</td>\n",
       "      <td>101.449997</td>\n",
       "      <td>97.099998</td>\n",
       "      <td>97.400002</td>\n",
       "      <td>24042759</td>\n",
       "      <td>2023-07-10</td>\n",
       "      <td>97.400002</td>\n",
       "    </tr>\n",
       "    <tr>\n",
       "      <th>3295</th>\n",
       "      <td>2023-07-11</td>\n",
       "      <td>97.800003</td>\n",
       "      <td>98.900002</td>\n",
       "      <td>96.900002</td>\n",
       "      <td>98.099998</td>\n",
       "      <td>17508261</td>\n",
       "      <td>2023-07-11</td>\n",
       "      <td>98.099998</td>\n",
       "    </tr>\n",
       "    <tr>\n",
       "      <th>3296</th>\n",
       "      <td>2023-07-12</td>\n",
       "      <td>98.250000</td>\n",
       "      <td>99.349998</td>\n",
       "      <td>97.699997</td>\n",
       "      <td>97.900002</td>\n",
       "      <td>14979586</td>\n",
       "      <td>2023-07-12</td>\n",
       "      <td>97.900002</td>\n",
       "    </tr>\n",
       "    <tr>\n",
       "      <th>3297</th>\n",
       "      <td>2023-07-13</td>\n",
       "      <td>98.400002</td>\n",
       "      <td>98.699997</td>\n",
       "      <td>96.000000</td>\n",
       "      <td>96.199997</td>\n",
       "      <td>11491737</td>\n",
       "      <td>2023-07-13</td>\n",
       "      <td>96.199997</td>\n",
       "    </tr>\n",
       "    <tr>\n",
       "      <th>3298</th>\n",
       "      <td>2023-07-14</td>\n",
       "      <td>96.500000</td>\n",
       "      <td>97.650002</td>\n",
       "      <td>95.800003</td>\n",
       "      <td>96.500000</td>\n",
       "      <td>17975077</td>\n",
       "      <td>2023-07-14</td>\n",
       "      <td>96.500000</td>\n",
       "    </tr>\n",
       "  </tbody>\n",
       "</table>\n",
       "<p>360 rows × 8 columns</p>\n",
       "</div>"
      ],
      "text/plain": [
       "           Date        Open        High        Low      Close    Volume  \\\n",
       "2939 2022-02-01   78.542124   78.542124  74.490345  75.892883  34627617   \n",
       "2940 2022-02-02   76.360392   77.887605  76.173390  77.575928  14749194   \n",
       "2941 2022-02-03   78.168105   78.448615  77.388915  77.700592  13117138   \n",
       "2942 2022-02-04   77.856429   78.136939  77.108413  77.388916  10723602   \n",
       "2943 2022-02-07   77.607093   77.669427  76.360390  76.609734  13452373   \n",
       "...         ...         ...         ...        ...        ...       ...   \n",
       "3294 2023-07-10  101.000000  101.449997  97.099998  97.400002  24042759   \n",
       "3295 2023-07-11   97.800003   98.900002  96.900002  98.099998  17508261   \n",
       "3296 2023-07-12   98.250000   99.349998  97.699997  97.900002  14979586   \n",
       "3297 2023-07-13   98.400002   98.699997  96.000000  96.199997  11491737   \n",
       "3298 2023-07-14   96.500000   97.650002  95.800003  96.500000  17975077   \n",
       "\n",
       "             ds          y  \n",
       "2939 2022-02-01  75.892883  \n",
       "2940 2022-02-02  77.575928  \n",
       "2941 2022-02-03  77.700592  \n",
       "2942 2022-02-04  77.388916  \n",
       "2943 2022-02-07  76.609734  \n",
       "...         ...        ...  \n",
       "3294 2023-07-10  97.400002  \n",
       "3295 2023-07-11  98.099998  \n",
       "3296 2023-07-12  97.900002  \n",
       "3297 2023-07-13  96.199997  \n",
       "3298 2023-07-14  96.500000  \n",
       "\n",
       "[360 rows x 8 columns]"
      ]
     },
     "execution_count": 8,
     "metadata": {},
     "output_type": "execute_result"
    }
   ],
   "source": [
    "test_set"
   ]
  },
  {
   "cell_type": "markdown",
   "metadata": {
    "id": "eOzPNoRySOA5"
   },
   "source": [
    "#Prophet"
   ]
  },
  {
   "cell_type": "code",
   "execution_count": 9,
   "metadata": {
    "colab": {
     "base_uri": "https://localhost:8080/"
    },
    "executionInfo": {
     "elapsed": 8952,
     "status": "ok",
     "timestamp": 1621008811464,
     "user": {
      "displayName": "Diogo Resende",
      "photoUrl": "https://lh3.googleusercontent.com/a-/AOh14GgH4DE06-yE1oiIzCiaAURCl1Escr4LXXiaSnbSaA=s64",
      "userId": "05706604408624562002"
     },
     "user_tz": -120
    },
    "id": "Ai7zk9f7SPVK",
    "outputId": "8bcef281-3d36-49f1-9c8b-c875beeb5658"
   },
   "outputs": [
    {
     "name": "stderr",
     "output_type": "stream",
     "text": [
      "14:09:25 - cmdstanpy - INFO - Chain [1] start processing\n",
      "14:09:27 - cmdstanpy - INFO - Chain [1] done processing\n"
     ]
    },
    {
     "name": "stdout",
     "output_type": "stream",
     "text": [
      "Length of forscast: 3299\n",
      "Length of forscast: 3299 Len of test : 3299\n"
     ]
    },
    {
     "data": {
      "text/plain": [
       "Text(0.5, 1.0, '')"
      ]
     },
     "execution_count": 9,
     "metadata": {},
     "output_type": "execute_result"
    },
    {
     "data": {
      "image/png": "[encoded data removed]",
      "text/plain": [
       "<Figure size 1000x500 with 1 Axes>"
      ]
     },
     "metadata": {},
     "output_type": "display_data"
    }
   ],
   "source": [
    "m = Prophet(\n",
    "            #holidays = holidays,\n",
    "            #seasonality_mode = 'additive',\n",
    "            #weekly_seasonality=True,\n",
    "            #seasonality_prior_scale = 20,\n",
    "            #yearly_seasonality=True,\n",
    "            #changepoint_prior_scale = 0.1,\n",
    "           # holidays_prior_scale = 10\n",
    "           )\n",
    "#m.add_regressor('volume_adi')\n",
    "#m.add_regressor('volume_obv')\n",
    "#m.add_regressor('volume_cmf')\n",
    "#m.add_regressor('others_dr')\n",
    "#m.add_regressor('volume_adi')\n",
    "m.fit(training_set)\n",
    "\n",
    "future = pd.DataFrame({\"ds\" : data.ds})\n",
    "#forecast\n",
    "forecast = m.predict(m.make_future_dataframe(periods=test_days))\n",
    "forecast.tail()\n",
    "print(\"Length of forscast:\",len(forecast))\n",
    "print(\"Length of forscast:\",len(forecast),\"Len of test :\",len(data))\n",
    "new_df = pd.DataFrame({\"forecast\" : forecast.yhat,\"ds\":forecast.ds })\n",
    "new_df.set_index('ds', inplace=True)\n",
    "\n",
    "merged_df = pd.merge(new_df, data, on='ds' ,how='inner')\n",
    "\n",
    "merged_df\n",
    "\n",
    "# Let us plot now\n",
    "fig, ax = plt.subplots(figsize=(10,5))\n",
    "merged_df.forecast.plot(x='param_n_estimators', y='mean_test_score', label='Depth=2', ax=ax)\n",
    "\n",
    "merged_df.forecast.plot(x='param_n_estimators', y='mean_test_score', label='Depth=2', ax=ax)\n",
    "merged_df.y.plot(x='param_n_estimators', y='mean_test_score', label='Depth=2', ax=ax)\n",
    "\n",
    "#training_set.y.plot(x='param_n_estimators', y='mean_test_score', label='Depth=2', ax=ax)\n",
    "\n",
    "plt.title('')"
   ]
  }
 ],
 "metadata": {
  "colab": {
   "authorship_tag": "ABX9TyONf4Fw76cQlH82pdR3h9Fa",
   "mount_file_id": "182alF94XmFPfm3NMnYKs4Tu9b-3DTW7y",
   "name": "Facebook Prophet + XGBoost Challenge Template.ipynb",
   "provenance": []
  },
  "kernelspec": {
   "display_name": "Python 3 (ipykernel)",
   "language": "python",
   "name": "python3"
  },
  "language_info": {
   "codemirror_mode": {
    "name": "ipython",
    "version": 3
   },
   "file_extension": ".py",
   "mimetype": "text/x-python",
   "name": "python",
   "nbconvert_exporter": "python",
   "pygments_lexer": "ipython3",
   "version": "3.9.16"
  }
 },
 "nbformat": 4,
 "nbformat_minor": 1
}
