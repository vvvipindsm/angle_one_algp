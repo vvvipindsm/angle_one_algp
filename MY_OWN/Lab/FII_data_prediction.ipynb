{
 "cells": [
  {
   "cell_type": "code",
   "execution_count": 61,
   "id": "12552e5e",
   "metadata": {},
   "outputs": [],
   "source": [
    "#!pip install investpy\n",
    "import pandas as pd\n",
    "import yfinance\n",
    "import investpy\n",
    "import requests\n",
    "import numpy as np\n",
    "#https://www.cdslindia.com/Publications/FIIFPIYrWiseInvstmntDtls.aspx\n",
    "import joblib\n",
    "import pandas as pd\n",
    "from sklearn.ensemble import StackingClassifier, GradientBoostingClassifier, RandomForestClassifier\n",
    "from sklearn.linear_model import LogisticRegression\n",
    "from sklearn.model_selection import GridSearchCV\n",
    "from time import time\n",
    "from sklearn.metrics import accuracy_score, precision_score, recall_score\n"
   ]
  },
  {
   "cell_type": "code",
   "execution_count": 62,
   "id": "8231e2e5",
   "metadata": {},
   "outputs": [],
   "source": [
    "def evaluate_model(model, features, labels):\n",
    "    start = time()\n",
    "    pred = model.predict(features)\n",
    "    end = time()\n",
    "    accuracy = round(accuracy_score(labels, pred), 3)\n",
    "    precision = round(precision_score(labels, pred), 3)\n",
    "    recall = round(recall_score(labels, pred), 3)\n",
    "    print('{} -- Accuracy: {} / Precision: {} / Recall: {} / Latency: {}ms'.format(str(model).split('(')[0],\n",
    "                                                                                   accuracy,\n",
    "                                                                                   precision,\n",
    "                                                                                   recall,\n",
    "                                                                                   round((end - start)*1000, 1)))"
   ]
  },
  {
   "cell_type": "code",
   "execution_count": 63,
   "id": "9cbe890d",
   "metadata": {},
   "outputs": [],
   "source": [
    "nifty_read = pd.read_csv('../stock_historical_data/Nifty 50 Historical Data.csv')"
   ]
  },
  {
   "cell_type": "code",
   "execution_count": 64,
   "id": "2e7be1f6",
   "metadata": {},
   "outputs": [],
   "source": [
    "fii_df = pd.read_csv(\"../stock_historical_data/fii/nifty.csv\")\n",
    "fii_df.drop(\"Unnamed: 0\",axis=1,inplace=True)\n"
   ]
  },
  {
   "cell_type": "code",
   "execution_count": 65,
   "id": "7e397cbd",
   "metadata": {},
   "outputs": [
    {
     "data": {
      "text/html": [
       "<div>\n",
       "<style scoped>\n",
       "    .dataframe tbody tr th:only-of-type {\n",
       "        vertical-align: middle;\n",
       "    }\n",
       "\n",
       "    .dataframe tbody tr th {\n",
       "        vertical-align: top;\n",
       "    }\n",
       "\n",
       "    .dataframe thead th {\n",
       "        text-align: right;\n",
       "    }\n",
       "</style>\n",
       "<table border=\"1\" class=\"dataframe\">\n",
       "  <thead>\n",
       "    <tr style=\"text-align: right;\">\n",
       "      <th></th>\n",
       "      <th>Date</th>\n",
       "      <th>Price</th>\n",
       "      <th>Open</th>\n",
       "      <th>High</th>\n",
       "      <th>Low</th>\n",
       "      <th>Vol.</th>\n",
       "      <th>Change %</th>\n",
       "    </tr>\n",
       "  </thead>\n",
       "  <tbody>\n",
       "    <tr>\n",
       "      <th>0</th>\n",
       "      <td>08/01/2023</td>\n",
       "      <td>19,510.80</td>\n",
       "      <td>19,785.65</td>\n",
       "      <td>19,789.25</td>\n",
       "      <td>19,425.10</td>\n",
       "      <td>588.71B</td>\n",
       "      <td>-1.23%</td>\n",
       "    </tr>\n",
       "    <tr>\n",
       "      <th>1</th>\n",
       "      <td>07/01/2023</td>\n",
       "      <td>19,753.80</td>\n",
       "      <td>19,246.50</td>\n",
       "      <td>19,991.85</td>\n",
       "      <td>19,234.40</td>\n",
       "      <td>5,802.27B</td>\n",
       "      <td>2.94%</td>\n",
       "    </tr>\n",
       "    <tr>\n",
       "      <th>2</th>\n",
       "      <td>06/01/2023</td>\n",
       "      <td>19,189.05</td>\n",
       "      <td>18,579.40</td>\n",
       "      <td>19,201.70</td>\n",
       "      <td>18,464.55</td>\n",
       "      <td>5,144.19B</td>\n",
       "      <td>3.53%</td>\n",
       "    </tr>\n",
       "    <tr>\n",
       "      <th>3</th>\n",
       "      <td>05/01/2023</td>\n",
       "      <td>18,534.40</td>\n",
       "      <td>18,124.80</td>\n",
       "      <td>18,662.45</td>\n",
       "      <td>18,042.40</td>\n",
       "      <td>5,737.40B</td>\n",
       "      <td>2.60%</td>\n",
       "    </tr>\n",
       "    <tr>\n",
       "      <th>4</th>\n",
       "      <td>04/01/2023</td>\n",
       "      <td>18,065.00</td>\n",
       "      <td>17,427.95</td>\n",
       "      <td>18,089.15</td>\n",
       "      <td>17,312.75</td>\n",
       "      <td>4,459.76B</td>\n",
       "      <td>4.06%</td>\n",
       "    </tr>\n",
       "    <tr>\n",
       "      <th>...</th>\n",
       "      <td>...</td>\n",
       "      <td>...</td>\n",
       "      <td>...</td>\n",
       "      <td>...</td>\n",
       "      <td>...</td>\n",
       "      <td>...</td>\n",
       "      <td>...</td>\n",
       "    </tr>\n",
       "    <tr>\n",
       "      <th>255</th>\n",
       "      <td>05/01/2002</td>\n",
       "      <td>1,028.80</td>\n",
       "      <td>1,084.80</td>\n",
       "      <td>1,136.55</td>\n",
       "      <td>1,020.10</td>\n",
       "      <td>1,009.14B</td>\n",
       "      <td>-5.14%</td>\n",
       "    </tr>\n",
       "    <tr>\n",
       "      <th>256</th>\n",
       "      <td>04/01/2002</td>\n",
       "      <td>1,084.50</td>\n",
       "      <td>1,129.85</td>\n",
       "      <td>1,153.30</td>\n",
       "      <td>1,073.30</td>\n",
       "      <td>874.09B</td>\n",
       "      <td>-3.99%</td>\n",
       "    </tr>\n",
       "    <tr>\n",
       "      <th>257</th>\n",
       "      <td>03/01/2002</td>\n",
       "      <td>1,129.55</td>\n",
       "      <td>1,142.05</td>\n",
       "      <td>1,201.10</td>\n",
       "      <td>1,117.85</td>\n",
       "      <td>929.78B</td>\n",
       "      <td>-1.09%</td>\n",
       "    </tr>\n",
       "    <tr>\n",
       "      <th>258</th>\n",
       "      <td>02/01/2002</td>\n",
       "      <td>1,142.05</td>\n",
       "      <td>1,076.95</td>\n",
       "      <td>1,205.95</td>\n",
       "      <td>1,069.40</td>\n",
       "      <td>1,285.57B</td>\n",
       "      <td>6.20%</td>\n",
       "    </tr>\n",
       "    <tr>\n",
       "      <th>259</th>\n",
       "      <td>01/01/2002</td>\n",
       "      <td>1,075.40</td>\n",
       "      <td>1,058.85</td>\n",
       "      <td>1,121.75</td>\n",
       "      <td>1,052.05</td>\n",
       "      <td>1,424.41B</td>\n",
       "      <td>1.54%</td>\n",
       "    </tr>\n",
       "  </tbody>\n",
       "</table>\n",
       "<p>260 rows × 7 columns</p>\n",
       "</div>"
      ],
      "text/plain": [
       "           Date      Price       Open       High        Low       Vol.  \\\n",
       "0    08/01/2023  19,510.80  19,785.65  19,789.25  19,425.10    588.71B   \n",
       "1    07/01/2023  19,753.80  19,246.50  19,991.85  19,234.40  5,802.27B   \n",
       "2    06/01/2023  19,189.05  18,579.40  19,201.70  18,464.55  5,144.19B   \n",
       "3    05/01/2023  18,534.40  18,124.80  18,662.45  18,042.40  5,737.40B   \n",
       "4    04/01/2023  18,065.00  17,427.95  18,089.15  17,312.75  4,459.76B   \n",
       "..          ...        ...        ...        ...        ...        ...   \n",
       "255  05/01/2002   1,028.80   1,084.80   1,136.55   1,020.10  1,009.14B   \n",
       "256  04/01/2002   1,084.50   1,129.85   1,153.30   1,073.30    874.09B   \n",
       "257  03/01/2002   1,129.55   1,142.05   1,201.10   1,117.85    929.78B   \n",
       "258  02/01/2002   1,142.05   1,076.95   1,205.95   1,069.40  1,285.57B   \n",
       "259  01/01/2002   1,075.40   1,058.85   1,121.75   1,052.05  1,424.41B   \n",
       "\n",
       "    Change %  \n",
       "0     -1.23%  \n",
       "1      2.94%  \n",
       "2      3.53%  \n",
       "3      2.60%  \n",
       "4      4.06%  \n",
       "..       ...  \n",
       "255   -5.14%  \n",
       "256   -3.99%  \n",
       "257   -1.09%  \n",
       "258    6.20%  \n",
       "259    1.54%  \n",
       "\n",
       "[260 rows x 7 columns]"
      ]
     },
     "execution_count": 65,
     "metadata": {},
     "output_type": "execute_result"
    }
   ],
   "source": [
    "nifty_read"
   ]
  },
  {
   "cell_type": "code",
   "execution_count": 66,
   "id": "2811b21b",
   "metadata": {},
   "outputs": [],
   "source": [
    "\n",
    "final_df =[]\n",
    "for i in range(0,len(nifty_read)-1):\n",
    "    if i > 1:\n",
    "        tempResult = {}\n",
    "        currentTym = nifty_read.iloc[i].Date\n",
    "        #print(currentTym)\n",
    "        d = currentTym.split(\"/\")\n",
    "        newDate = '{}-{}-{}'.format(d[2],d[0],d[1])\n",
    "        #print(newDate)\n",
    "        if nifty_read.iloc[i].Price < nifty_read.iloc[i-1].Price:\n",
    "            tempResult['label'] = 1\n",
    "        else:\n",
    "            tempResult['label'] = 0\n",
    "        #print(\"label current\",label,\"coming month\",labelT1)\n",
    "        fii_info = fii_df[fii_df['date'] == newDate]\n",
    "        tempResult['equity'] = fii_info.equity.values[0]\n",
    "        tempResult['date'] = fii_info.date.values[0]\n",
    "        final_df.append(tempResult)\n",
    "\n",
    "final_df = pd.DataFrame(final_df)\n"
   ]
  },
  {
   "cell_type": "code",
   "execution_count": 67,
   "id": "058ebbbc",
   "metadata": {},
   "outputs": [],
   "source": [
    "input_df = final_df[\"equity\"]"
   ]
  },
  {
   "cell_type": "code",
   "execution_count": 68,
   "id": "ec91d7e6",
   "metadata": {},
   "outputs": [],
   "source": [
    "estimators = [('rf', RandomForestClassifier()),\n",
    "              ('gb', GradientBoostingClassifier())]\n",
    "\n",
    "sc = StackingClassifier(estimators=estimators)\n",
    "#sc.get_params()"
   ]
  },
  {
   "cell_type": "code",
   "execution_count": 69,
   "id": "a316fbcd",
   "metadata": {},
   "outputs": [],
   "source": [
    "label = final_df[\"label\"]"
   ]
  },
  {
   "cell_type": "code",
   "execution_count": 70,
   "id": "fb323e26",
   "metadata": {},
   "outputs": [],
   "source": [
    "inp_df = input_df.values.reshape(257,1)"
   ]
  },
  {
   "cell_type": "code",
   "execution_count": 71,
   "id": "45ea680e",
   "metadata": {},
   "outputs": [],
   "source": [
    "def print_results(results):\n",
    "    print('BEST PARAMS: {}\\n'.format(results.best_params_))\n",
    "\n",
    "    means = results.cv_results_['mean_test_score']\n",
    "    stds = results.cv_results_['std_test_score']\n",
    "    for mean, std, params in zip(means, stds, results.cv_results_['params']):\n",
    "        print('{} (+/-{}) for {}'.format(round(mean, 3), round(std * 2, 3), params))"
   ]
  },
  {
   "cell_type": "code",
   "execution_count": 72,
   "id": "b660c185",
   "metadata": {},
   "outputs": [
    {
     "name": "stdout",
     "output_type": "stream",
     "text": [
      "BEST PARAMS: {'final_estimator': LogisticRegression(C=1), 'gb__n_estimators': 100, 'passthrough': False, 'rf__n_estimators': 50}\n",
      "\n",
      "0.544 (+/-0.092) for {'final_estimator': LogisticRegression(C=0.1), 'gb__n_estimators': 50, 'passthrough': True, 'rf__n_estimators': 50}\n",
      "0.544 (+/-0.092) for {'final_estimator': LogisticRegression(C=0.1), 'gb__n_estimators': 50, 'passthrough': True, 'rf__n_estimators': 100}\n",
      "0.591 (+/-0.008) for {'final_estimator': LogisticRegression(C=0.1), 'gb__n_estimators': 50, 'passthrough': False, 'rf__n_estimators': 50}\n",
      "0.591 (+/-0.008) for {'final_estimator': LogisticRegression(C=0.1), 'gb__n_estimators': 50, 'passthrough': False, 'rf__n_estimators': 100}\n",
      "0.544 (+/-0.092) for {'final_estimator': LogisticRegression(C=0.1), 'gb__n_estimators': 100, 'passthrough': True, 'rf__n_estimators': 50}\n",
      "0.544 (+/-0.092) for {'final_estimator': LogisticRegression(C=0.1), 'gb__n_estimators': 100, 'passthrough': True, 'rf__n_estimators': 100}\n",
      "0.591 (+/-0.008) for {'final_estimator': LogisticRegression(C=0.1), 'gb__n_estimators': 100, 'passthrough': False, 'rf__n_estimators': 50}\n",
      "0.591 (+/-0.008) for {'final_estimator': LogisticRegression(C=0.1), 'gb__n_estimators': 100, 'passthrough': False, 'rf__n_estimators': 100}\n",
      "0.544 (+/-0.092) for {'final_estimator': LogisticRegression(C=1), 'gb__n_estimators': 50, 'passthrough': True, 'rf__n_estimators': 50}\n",
      "0.544 (+/-0.092) for {'final_estimator': LogisticRegression(C=1), 'gb__n_estimators': 50, 'passthrough': True, 'rf__n_estimators': 100}\n",
      "0.591 (+/-0.008) for {'final_estimator': LogisticRegression(C=1), 'gb__n_estimators': 50, 'passthrough': False, 'rf__n_estimators': 50}\n",
      "0.595 (+/-0.014) for {'final_estimator': LogisticRegression(C=1), 'gb__n_estimators': 50, 'passthrough': False, 'rf__n_estimators': 100}\n",
      "0.544 (+/-0.092) for {'final_estimator': LogisticRegression(C=1), 'gb__n_estimators': 100, 'passthrough': True, 'rf__n_estimators': 50}\n",
      "0.544 (+/-0.092) for {'final_estimator': LogisticRegression(C=1), 'gb__n_estimators': 100, 'passthrough': True, 'rf__n_estimators': 100}\n",
      "0.599 (+/-0.029) for {'final_estimator': LogisticRegression(C=1), 'gb__n_estimators': 100, 'passthrough': False, 'rf__n_estimators': 50}\n",
      "0.591 (+/-0.008) for {'final_estimator': LogisticRegression(C=1), 'gb__n_estimators': 100, 'passthrough': False, 'rf__n_estimators': 100}\n",
      "0.544 (+/-0.092) for {'final_estimator': LogisticRegression(C=10), 'gb__n_estimators': 50, 'passthrough': True, 'rf__n_estimators': 50}\n",
      "0.544 (+/-0.092) for {'final_estimator': LogisticRegression(C=10), 'gb__n_estimators': 50, 'passthrough': True, 'rf__n_estimators': 100}\n",
      "0.587 (+/-0.02) for {'final_estimator': LogisticRegression(C=10), 'gb__n_estimators': 50, 'passthrough': False, 'rf__n_estimators': 50}\n",
      "0.591 (+/-0.008) for {'final_estimator': LogisticRegression(C=10), 'gb__n_estimators': 50, 'passthrough': False, 'rf__n_estimators': 100}\n",
      "0.544 (+/-0.092) for {'final_estimator': LogisticRegression(C=10), 'gb__n_estimators': 100, 'passthrough': True, 'rf__n_estimators': 50}\n",
      "0.544 (+/-0.092) for {'final_estimator': LogisticRegression(C=10), 'gb__n_estimators': 100, 'passthrough': True, 'rf__n_estimators': 100}\n",
      "0.587 (+/-0.035) for {'final_estimator': LogisticRegression(C=10), 'gb__n_estimators': 100, 'passthrough': False, 'rf__n_estimators': 50}\n",
      "0.587 (+/-0.043) for {'final_estimator': LogisticRegression(C=10), 'gb__n_estimators': 100, 'passthrough': False, 'rf__n_estimators': 100}\n"
     ]
    }
   ],
   "source": [
    "parameters = {\n",
    "    'gb__n_estimators': [50, 100],\n",
    "    'rf__n_estimators': [50, 100],\n",
    "    'final_estimator': [LogisticRegression(C=0.1),\n",
    "                        LogisticRegression(C=1),\n",
    "                        LogisticRegression(C=10)],\n",
    "    'passthrough': [True, False]\n",
    "}\n",
    "cv = GridSearchCV(sc, parameters, cv=5)\n",
    "cv.fit(inp_df, label.values.ravel())\n",
    "\n",
    "print_results(cv)"
   ]
  },
  {
   "cell_type": "code",
   "execution_count": 73,
   "id": "cb7e24f7",
   "metadata": {},
   "outputs": [
    {
     "data": {
      "text/plain": [
       "['../TrainedModel/FII/fii.pkl']"
      ]
     },
     "execution_count": 73,
     "metadata": {},
     "output_type": "execute_result"
    }
   ],
   "source": [
    "joblib.dump(cv.best_estimator_, '../TrainedModel/FII/fii.pkl')"
   ]
  },
  {
   "cell_type": "code",
   "execution_count": 55,
   "id": "34d358fe",
   "metadata": {},
   "outputs": [],
   "source": [
    "def evaluate_model(model, features, labels):\n",
    "    start = time()\n",
    "    pred = model.predict(features)\n",
    "    end = time()\n",
    "    accuracy = round(accuracy_score(labels, pred), 3)\n",
    "    precision = round(precision_score(labels, pred), 3)\n",
    "    recall = round(recall_score(labels, pred), 3)\n",
    "    print('{} -- Accuracy: {} / Precision: {} / Recall: {} / Latency: {}ms'.format(str(model).split('(')[0],\n",
    "                                                                                   accuracy,\n",
    "                                                                                   precision,\n",
    "                                                                                   recall,\n",
    "                                                                                   round((end - start)*1000, 1)))"
   ]
  },
  {
   "cell_type": "code",
   "execution_count": 56,
   "id": "77cad445",
   "metadata": {},
   "outputs": [],
   "source": [
    "model = cv.best_estimator_"
   ]
  },
  {
   "cell_type": "code",
   "execution_count": 57,
   "id": "128ec0e5",
   "metadata": {},
   "outputs": [
    {
     "name": "stdout",
     "output_type": "stream",
     "text": [
      "StackingClassifier -- Accuracy: 0.591 / Precision: 0.591 / Recall: 1.0 / Latency: 43.9ms\n"
     ]
    }
   ],
   "source": [
    "evaluate_model(model, inp_df, label.values.ravel())"
   ]
  },
  {
   "cell_type": "code",
   "execution_count": 58,
   "id": "7953a725",
   "metadata": {},
   "outputs": [
    {
     "data": {
      "text/plain": [
       "array([1])"
      ]
     },
     "execution_count": 58,
     "metadata": {},
     "output_type": "execute_result"
    }
   ],
   "source": [
    "#predict future\n",
    "lastItem = np.array([47148.34,])\n",
    "df_last = pd.DataFrame(lastItem)\n",
    "mod_df = df_last.values.reshape(1,1)\n",
    "pred = model.predict(mod_df)\n",
    "pred"
   ]
  }
 ],
 "metadata": {
  "kernelspec": {
   "display_name": "Python 3 (ipykernel)",
   "language": "python",
   "name": "python3"
  },
  "language_info": {
   "codemirror_mode": {
    "name": "ipython",
    "version": 3
   },
   "file_extension": ".py",
   "mimetype": "text/x-python",
   "name": "python",
   "nbconvert_exporter": "python",
   "pygments_lexer": "ipython3",
   "version": "3.9.16"
  }
 },
 "nbformat": 4,
 "nbformat_minor": 5
}
