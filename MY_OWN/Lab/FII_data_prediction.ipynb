{
 "cells": [
  {
   "cell_type": "code",
   "execution_count": 25,
   "id": "12552e5e",
   "metadata": {},
   "outputs": [],
   "source": [
    "import pandas as pd\n",
    "import yfinance\n",
    "#https://www.cdslindia.com/Publications/FIIFPIYrWiseInvstmntDtls.aspx"
   ]
  },
  {
   "cell_type": "code",
   "execution_count": 58,
   "id": "b8e9d6bd",
   "metadata": {},
   "outputs": [
    {
     "name": "stdout",
     "output_type": "stream",
     "text": [
      "[*********************100%***********************]  1 of 1 completed\n"
     ]
    }
   ],
   "source": [
    "nifty_m1 = yfinance.download(tickers=\"^NSEI\",interval='1mo',start=\"2002-01-01\", \n",
    "                             group_by = 'ticker', auto_adjust = True)\n",
    "\n"
   ]
  },
  {
   "cell_type": "code",
   "execution_count": 23,
   "id": "2e7be1f6",
   "metadata": {},
   "outputs": [],
   "source": [
    "fii_df = pd.read_csv(\"../stock_historical_data/fii/nifty.csv\")\n",
    "fii_df.drop(\"Unnamed: 0\",axis=1,inplace=True)\n"
   ]
  },
  {
   "cell_type": "code",
   "execution_count": 47,
   "id": "168e2cd7",
   "metadata": {},
   "outputs": [
    {
     "data": {
      "text/html": [
       "<div>\n",
       "<style scoped>\n",
       "    .dataframe tbody tr th:only-of-type {\n",
       "        vertical-align: middle;\n",
       "    }\n",
       "\n",
       "    .dataframe tbody tr th {\n",
       "        vertical-align: top;\n",
       "    }\n",
       "\n",
       "    .dataframe thead th {\n",
       "        text-align: right;\n",
       "    }\n",
       "</style>\n",
       "<table border=\"1\" class=\"dataframe\">\n",
       "  <thead>\n",
       "    <tr style=\"text-align: right;\">\n",
       "      <th></th>\n",
       "      <th>date</th>\n",
       "      <th>equity</th>\n",
       "    </tr>\n",
       "  </thead>\n",
       "  <tbody>\n",
       "    <tr>\n",
       "      <th>0</th>\n",
       "      <td>2002-01-01</td>\n",
       "      <td>423.3</td>\n",
       "    </tr>\n",
       "    <tr>\n",
       "      <th>1</th>\n",
       "      <td>2002-02-01</td>\n",
       "      <td>1966.3</td>\n",
       "    </tr>\n",
       "    <tr>\n",
       "      <th>2</th>\n",
       "      <td>2002-03-01</td>\n",
       "      <td>391.4</td>\n",
       "    </tr>\n",
       "    <tr>\n",
       "      <th>3</th>\n",
       "      <td>2002-04-01</td>\n",
       "      <td>11.7</td>\n",
       "    </tr>\n",
       "    <tr>\n",
       "      <th>4</th>\n",
       "      <td>2002-05-01</td>\n",
       "      <td>-56.0</td>\n",
       "    </tr>\n",
       "  </tbody>\n",
       "</table>\n",
       "</div>"
      ],
      "text/plain": [
       "         date  equity\n",
       "0  2002-01-01   423.3\n",
       "1  2002-02-01  1966.3\n",
       "2  2002-03-01   391.4\n",
       "3  2002-04-01    11.7\n",
       "4  2002-05-01   -56.0"
      ]
     },
     "execution_count": 47,
     "metadata": {},
     "output_type": "execute_result"
    }
   ],
   "source": [
    "fii_df.head()"
   ]
  },
  {
   "cell_type": "code",
   "execution_count": 59,
   "id": "d1ed8fd4",
   "metadata": {},
   "outputs": [],
   "source": [
    "nifty_m1[\"date\"] = nifty_m1.index\n"
   ]
  },
  {
   "cell_type": "code",
   "execution_count": 104,
   "id": "2811b21b",
   "metadata": {},
   "outputs": [
    {
     "data": {
      "text/html": [
       "<div>\n",
       "<style scoped>\n",
       "    .dataframe tbody tr th:only-of-type {\n",
       "        vertical-align: middle;\n",
       "    }\n",
       "\n",
       "    .dataframe tbody tr th {\n",
       "        vertical-align: top;\n",
       "    }\n",
       "\n",
       "    .dataframe thead th {\n",
       "        text-align: right;\n",
       "    }\n",
       "</style>\n",
       "<table border=\"1\" class=\"dataframe\">\n",
       "  <thead>\n",
       "    <tr style=\"text-align: right;\">\n",
       "      <th></th>\n",
       "      <th>label</th>\n",
       "      <th>equity</th>\n",
       "      <th>date</th>\n",
       "    </tr>\n",
       "  </thead>\n",
       "  <tbody>\n",
       "    <tr>\n",
       "      <th>0</th>\n",
       "      <td>0</td>\n",
       "      <td>20590.90</td>\n",
       "      <td>2007-10-01</td>\n",
       "    </tr>\n",
       "    <tr>\n",
       "      <th>1</th>\n",
       "      <td>1</td>\n",
       "      <td>-5849.90</td>\n",
       "      <td>2007-11-01</td>\n",
       "    </tr>\n",
       "    <tr>\n",
       "      <th>2</th>\n",
       "      <td>0</td>\n",
       "      <td>5579.10</td>\n",
       "      <td>2007-12-01</td>\n",
       "    </tr>\n",
       "    <tr>\n",
       "      <th>3</th>\n",
       "      <td>1</td>\n",
       "      <td>-13035.70</td>\n",
       "      <td>2008-01-01</td>\n",
       "    </tr>\n",
       "    <tr>\n",
       "      <th>4</th>\n",
       "      <td>0</td>\n",
       "      <td>1733.30</td>\n",
       "      <td>2008-02-01</td>\n",
       "    </tr>\n",
       "    <tr>\n",
       "      <th>...</th>\n",
       "      <td>...</td>\n",
       "      <td>...</td>\n",
       "      <td>...</td>\n",
       "    </tr>\n",
       "    <tr>\n",
       "      <th>185</th>\n",
       "      <td>1</td>\n",
       "      <td>7935.63</td>\n",
       "      <td>2023-03-01</td>\n",
       "    </tr>\n",
       "    <tr>\n",
       "      <th>186</th>\n",
       "      <td>1</td>\n",
       "      <td>11630.82</td>\n",
       "      <td>2023-04-01</td>\n",
       "    </tr>\n",
       "    <tr>\n",
       "      <th>187</th>\n",
       "      <td>1</td>\n",
       "      <td>43838.11</td>\n",
       "      <td>2023-05-01</td>\n",
       "    </tr>\n",
       "    <tr>\n",
       "      <th>188</th>\n",
       "      <td>1</td>\n",
       "      <td>47148.34</td>\n",
       "      <td>2023-06-01</td>\n",
       "    </tr>\n",
       "    <tr>\n",
       "      <th>189</th>\n",
       "      <td>0</td>\n",
       "      <td>46617.76</td>\n",
       "      <td>2023-07-01</td>\n",
       "    </tr>\n",
       "  </tbody>\n",
       "</table>\n",
       "<p>190 rows × 3 columns</p>\n",
       "</div>"
      ],
      "text/plain": [
       "     label    equity        date\n",
       "0        0  20590.90  2007-10-01\n",
       "1        1  -5849.90  2007-11-01\n",
       "2        0   5579.10  2007-12-01\n",
       "3        1 -13035.70  2008-01-01\n",
       "4        0   1733.30  2008-02-01\n",
       "..     ...       ...         ...\n",
       "185      1   7935.63  2023-03-01\n",
       "186      1  11630.82  2023-04-01\n",
       "187      1  43838.11  2023-05-01\n",
       "188      1  47148.34  2023-06-01\n",
       "189      0  46617.76  2023-07-01\n",
       "\n",
       "[190 rows x 3 columns]"
      ]
     },
     "execution_count": 104,
     "metadata": {},
     "output_type": "execute_result"
    }
   ],
   "source": [
    "\n",
    "final_df =[]\n",
    "for i in range(0,len(nifty_m1)-1):\n",
    "    if 1 == 1:\n",
    "        tempResult = {}\n",
    "        currentTym = nifty_m1.iloc[i].date.strftime(\"%Y-%m-%d\")\n",
    "       # print(currentTym)\n",
    "        if nifty_m1.iloc[i].Close < nifty_m1.iloc[i+1].Close:\n",
    "            tempResult['label'] = 1\n",
    "        else:\n",
    "            tempResult['label'] = 0\n",
    "        #print(\"label current\",label,\"coming month\",labelT1)\n",
    "        fii_info = fii_df[fii_df['date'] == currentTym]\n",
    "        tempResult['equity'] = fii_info.equity.values[0]\n",
    "        tempResult['date'] = fii_info.date.values[0]\n",
    "        final_df.append(tempResult)\n",
    "\n",
    "final_df = pd.DataFrame(final_df)\n"
   ]
  }
 ],
 "metadata": {
  "kernelspec": {
   "display_name": "Python 3 (ipykernel)",
   "language": "python",
   "name": "python3"
  },
  "language_info": {
   "codemirror_mode": {
    "name": "ipython",
    "version": 3
   },
   "file_extension": ".py",
   "mimetype": "text/x-python",
   "name": "python",
   "nbconvert_exporter": "python",
   "pygments_lexer": "ipython3",
   "version": "3.9.16"
  }
 },
 "nbformat": 4,
 "nbformat_minor": 5
}
