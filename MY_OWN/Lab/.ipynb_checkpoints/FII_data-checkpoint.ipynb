{
 "cells": [
  {
   "cell_type": "code",
   "execution_count": 22,
   "id": "28d53267",
   "metadata": {},
   "outputs": [
    {
     "name": "stdout",
     "output_type": "stream",
     "text": [
      "8,674.23\n",
      "{'fii_purchase': '8,674.23', 'fii_sell': '9,230.55', 'fii_gross': '-556.32', 'dii_purchase': '8,378.65', 'dii_sell': '8,012.04', 'dii_gross': '366.61', 'date': '04-Aug-2023'}\n"
     ]
    }
   ],
   "source": [
    "import requests\n",
    "from bs4 import BeautifulSoup\n",
    "\n",
    "def scrape_website(url):\n",
    "    # Send an HTTP GET request to the website\n",
    "    response = requests.get(url)\n",
    "\n",
    "    # Check if the request was successful\n",
    "    if response.status_code == 200:\n",
    "        result = {}\n",
    "        # Parse the HTML content using BeautifulSoup\n",
    "        soup = BeautifulSoup(response.content, 'html.parser')\n",
    "        # Find the tables containing FII and DII data (update the class names as per the website)\n",
    "        fii_table = soup.find_all('table', class_='mctable1 tble1')\n",
    "        fii_table_t_body = fii_table[0].find('tbody')\n",
    "        fii_table_body_tr = fii_table_t_body.find('tr')\n",
    "        fii_table_body_tr_td = fii_table_t_body.find_all('td')[1]\n",
    "    \n",
    "\n",
    "        fii_table_body_date = fii_table_body_tr.find('span', class_='desk-hide').text.strip()\n",
    "        result[\"fii_purchase\"] = fii_table_body_tr_td.text.strip()\n",
    "        result[\"fii_sell\"] = fii_table_t_body.find_all('td')[2].text.strip()\n",
    "        result[\"fii_gross\"] = fii_table_t_body.find_all('td')[3].text.strip()\n",
    "        \n",
    "        result[\"dii_purchase\"] =fii_table_t_body.find_all('td')[4].text.strip()\n",
    "        result[\"dii_sell\"] = fii_table_t_body.find_all('td')[5].text.strip()\n",
    "        result[\"dii_gross\"] = fii_table_t_body.find_all('td')[6].text.strip()\n",
    "\n",
    "\n",
    "        result[\"date\"] = fii_table_body_date\n",
    "\n",
    "        print(fii_table_body_tr_td.text.strip())\n",
    "        return result\n",
    "    else:\n",
    "        print(f\"Failed to fetch data. Status Code: {response.status_code}\")\n",
    "\n",
    "    return None\n",
    "\n",
    "# URL of the website from which you want to scrape data\n",
    "target_url = 'https://www.moneycontrol.com/stocks/marketstats/fii_dii_activity/index.php'\n",
    "\n",
    "# Fetch FII and DII data from the website\n",
    "data = scrape_website(target_url)\n",
    "\n",
    "# Display the extracted data\n",
    "print(data)\n"
   ]
  },
  {
   "cell_type": "code",
   "execution_count": null,
   "id": "dbaeb8a7",
   "metadata": {},
   "outputs": [],
   "source": [
    "import requests\n",
    "import json\n",
    "\n",
    "url = \"https://website-development-kerala.com/api_214124524/fii_runner.php\"\n",
    "\n",
    "response = requests.post(url, json=data)\n",
    "print(response.status_code)\n",
    "print(response)"
   ]
  }
 ],
 "metadata": {
  "kernelspec": {
   "display_name": "Python 3 (ipykernel)",
   "language": "python",
   "name": "python3"
  },
  "language_info": {
   "codemirror_mode": {
    "name": "ipython",
    "version": 3
   },
   "file_extension": ".py",
   "mimetype": "text/x-python",
   "name": "python",
   "nbconvert_exporter": "python",
   "pygments_lexer": "ipython3",
   "version": "3.9.16"
  }
 },
 "nbformat": 4,
 "nbformat_minor": 5
}
