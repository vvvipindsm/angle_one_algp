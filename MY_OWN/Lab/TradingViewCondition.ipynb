{
 "cells": [
  {
   "cell_type": "code",
   "execution_count": 36,
   "id": "84060dda",
   "metadata": {},
   "outputs": [],
   "source": [
    "# Remove Future Warnings\n",
    "import warnings\n",
    "warnings.simplefilter(action='ignore', category=FutureWarning)\n",
    "from ta.momentum import RSIIndicator\n",
    "\n",
    "# General\n",
    "import numpy as np\n",
    "\n",
    "# Data Management\n",
    "import pandas as pd\n",
    "from sklearn.model_selection import train_test_split\n",
    "\n",
    "# Machine Learning\n",
    "from xgboost import XGBClassifier\n",
    "from sklearn.model_selection import RandomizedSearchCV, cross_val_score\n",
    "from sklearn.model_selection import RepeatedStratifiedKFold\n",
    "\n",
    "# Binary Classification Specific Metrics\n",
    "#from sklearn.metrics import plot_roc_curve\n",
    "\n",
    "# General Metrics\n",
    "from sklearn.metrics import accuracy_score\n",
    "from sklearn.metrics import classification_report\n",
    "from sklearn.metrics import precision_score\n",
    "from sklearn.metrics import confusion_matrix\n",
    "from sklearn.metrics import ConfusionMatrixDisplay\n",
    "\n",
    "# Reporting\n",
    "import matplotlib.pyplot as plt\n",
    "from matplotlib.pylab import rcParams\n",
    "from sklearn import tree\n"
   ]
  },
  {
   "cell_type": "markdown",
   "id": "81e31355",
   "metadata": {},
   "source": [
    "### Data Management"
   ]
  },
  {
   "cell_type": "code",
   "execution_count": 2,
   "id": "daa5675a",
   "metadata": {},
   "outputs": [],
   "source": [
    "# Data Extraction\n",
    "symbol = \"TATAMOTORS.NS\"\n",
    "\n",
    "df = pd.read_csv(\"../stock_historical_data/{}.csv\".format(symbol))\n",
    "df.set_index(\"Date\", inplace=True)\n"
   ]
  },
  {
   "cell_type": "code",
   "execution_count": 3,
   "id": "59b20833",
   "metadata": {},
   "outputs": [
    {
     "data": {
      "text/html": [
       "<div>\n",
       "<style scoped>\n",
       "    .dataframe tbody tr th:only-of-type {\n",
       "        vertical-align: middle;\n",
       "    }\n",
       "\n",
       "    .dataframe tbody tr th {\n",
       "        vertical-align: top;\n",
       "    }\n",
       "\n",
       "    .dataframe thead th {\n",
       "        text-align: right;\n",
       "    }\n",
       "</style>\n",
       "<table border=\"1\" class=\"dataframe\">\n",
       "  <thead>\n",
       "    <tr style=\"text-align: right;\">\n",
       "      <th></th>\n",
       "      <th>Open</th>\n",
       "      <th>High</th>\n",
       "      <th>Low</th>\n",
       "      <th>Close</th>\n",
       "      <th>Volume</th>\n",
       "    </tr>\n",
       "  </thead>\n",
       "  <tbody>\n",
       "    <tr>\n",
       "      <th>count</th>\n",
       "      <td>892.000000</td>\n",
       "      <td>892.000000</td>\n",
       "      <td>892.000000</td>\n",
       "      <td>892.000000</td>\n",
       "      <td>8.920000e+02</td>\n",
       "    </tr>\n",
       "    <tr>\n",
       "      <th>mean</th>\n",
       "      <td>334.666449</td>\n",
       "      <td>339.496231</td>\n",
       "      <td>329.334522</td>\n",
       "      <td>334.187235</td>\n",
       "      <td>4.105141e+07</td>\n",
       "    </tr>\n",
       "    <tr>\n",
       "      <th>std</th>\n",
       "      <td>149.662591</td>\n",
       "      <td>150.887877</td>\n",
       "      <td>148.079047</td>\n",
       "      <td>149.434955</td>\n",
       "      <td>4.062217e+07</td>\n",
       "    </tr>\n",
       "    <tr>\n",
       "      <th>min</th>\n",
       "      <td>66.293381</td>\n",
       "      <td>66.692142</td>\n",
       "      <td>63.302708</td>\n",
       "      <td>65.097115</td>\n",
       "      <td>0.000000e+00</td>\n",
       "    </tr>\n",
       "    <tr>\n",
       "      <th>25%</th>\n",
       "      <td>183.403383</td>\n",
       "      <td>185.721156</td>\n",
       "      <td>179.789643</td>\n",
       "      <td>182.693100</td>\n",
       "      <td>1.430685e+07</td>\n",
       "    </tr>\n",
       "    <tr>\n",
       "      <th>50%</th>\n",
       "      <td>385.473601</td>\n",
       "      <td>389.137180</td>\n",
       "      <td>376.102793</td>\n",
       "      <td>382.682297</td>\n",
       "      <td>2.756312e+07</td>\n",
       "    </tr>\n",
       "    <tr>\n",
       "      <th>75%</th>\n",
       "      <td>444.140742</td>\n",
       "      <td>449.399332</td>\n",
       "      <td>438.732612</td>\n",
       "      <td>444.103363</td>\n",
       "      <td>5.525996e+07</td>\n",
       "    </tr>\n",
       "    <tr>\n",
       "      <th>max</th>\n",
       "      <td>646.000000</td>\n",
       "      <td>663.332642</td>\n",
       "      <td>642.000000</td>\n",
       "      <td>644.299988</td>\n",
       "      <td>3.905778e+08</td>\n",
       "    </tr>\n",
       "  </tbody>\n",
       "</table>\n",
       "</div>"
      ],
      "text/plain": [
       "             Open        High         Low       Close        Volume\n",
       "count  892.000000  892.000000  892.000000  892.000000  8.920000e+02\n",
       "mean   334.666449  339.496231  329.334522  334.187235  4.105141e+07\n",
       "std    149.662591  150.887877  148.079047  149.434955  4.062217e+07\n",
       "min     66.293381   66.692142   63.302708   65.097115  0.000000e+00\n",
       "25%    183.403383  185.721156  179.789643  182.693100  1.430685e+07\n",
       "50%    385.473601  389.137180  376.102793  382.682297  2.756312e+07\n",
       "75%    444.140742  449.399332  438.732612  444.103363  5.525996e+07\n",
       "max    646.000000  663.332642  642.000000  644.299988  3.905778e+08"
      ]
     },
     "execution_count": 3,
     "metadata": {},
     "output_type": "execute_result"
    }
   ],
   "source": [
    "df.describe()"
   ]
  },
  {
   "cell_type": "code",
   "execution_count": 4,
   "id": "deb68baf",
   "metadata": {},
   "outputs": [],
   "source": [
    "df[\"Returns\"] = df[\"Close\"].pct_change()\n",
    "df[\"RSI\"] =  RSIIndicator(close=df[\"Close\"], window=14).rsi()\n",
    "df[\"Range\"] = df[\"High\"] / df[\"Low\"] - 1\n",
    "df[\"MA_50\"] = df[\"Close\"].rolling(window=50).mean()\n",
    "df[\"MA_20\"] = df[\"Close\"].rolling(window=20).mean()\n",
    "df[\"MA_200\"] = df[\"Close\"].rolling(window=200).mean()\n",
    "df[\"Avg_Range\"] = df[\"Range\"].rolling(window=30).mean()\n",
    "df[\"\"]\n",
    "df.dropna(inplace=True)"
   ]
  },
  {
   "cell_type": "code",
   "execution_count": 5,
   "id": "77f15919",
   "metadata": {},
   "outputs": [],
   "source": [
    "# Specify Target\n",
    "df.loc[df[\"Close\"].shift(-1) > df[\"Close\"], \"TARGET\"] = 1\n",
    "df.loc[df[\"Close\"].shift(-1) <= df[\"Close\"], \"TARGET\"] = 0"
   ]
  },
  {
   "cell_type": "code",
   "execution_count": 6,
   "id": "af090c92",
   "metadata": {},
   "outputs": [
    {
     "data": {
      "text/html": [
       "<div>\n",
       "<style scoped>\n",
       "    .dataframe tbody tr th:only-of-type {\n",
       "        vertical-align: middle;\n",
       "    }\n",
       "\n",
       "    .dataframe tbody tr th {\n",
       "        vertical-align: top;\n",
       "    }\n",
       "\n",
       "    .dataframe thead th {\n",
       "        text-align: right;\n",
       "    }\n",
       "</style>\n",
       "<table border=\"1\" class=\"dataframe\">\n",
       "  <thead>\n",
       "    <tr style=\"text-align: right;\">\n",
       "      <th></th>\n",
       "      <th>Open</th>\n",
       "      <th>High</th>\n",
       "      <th>Low</th>\n",
       "      <th>Close</th>\n",
       "      <th>Volume</th>\n",
       "      <th>Returns</th>\n",
       "      <th>RSI</th>\n",
       "      <th>Range</th>\n",
       "      <th>MA_50</th>\n",
       "      <th>MA_20</th>\n",
       "      <th>MA_200</th>\n",
       "      <th>Avg_Range</th>\n",
       "      <th>TARGET</th>\n",
       "    </tr>\n",
       "    <tr>\n",
       "      <th>Date</th>\n",
       "      <th></th>\n",
       "      <th></th>\n",
       "      <th></th>\n",
       "      <th></th>\n",
       "      <th></th>\n",
       "      <th></th>\n",
       "      <th></th>\n",
       "      <th></th>\n",
       "      <th></th>\n",
       "      <th></th>\n",
       "      <th></th>\n",
       "      <th></th>\n",
       "      <th></th>\n",
       "    </tr>\n",
       "  </thead>\n",
       "  <tbody>\n",
       "    <tr>\n",
       "      <th>2023-07-27</th>\n",
       "      <td>644.989747</td>\n",
       "      <td>646.435254</td>\n",
       "      <td>634.771594</td>\n",
       "      <td>641.700012</td>\n",
       "      <td>11696851.0</td>\n",
       "      <td>0.004056</td>\n",
       "      <td>74.551979</td>\n",
       "      <td>0.018375</td>\n",
       "      <td>574.757653</td>\n",
       "      <td>615.646219</td>\n",
       "      <td>465.389025</td>\n",
       "      <td>0.020203</td>\n",
       "      <td>0.0</td>\n",
       "    </tr>\n",
       "    <tr>\n",
       "      <th>2023-07-28</th>\n",
       "      <td>646.000000</td>\n",
       "      <td>646.000000</td>\n",
       "      <td>631.799988</td>\n",
       "      <td>635.299988</td>\n",
       "      <td>9299530.0</td>\n",
       "      <td>-0.009974</td>\n",
       "      <td>68.617054</td>\n",
       "      <td>0.022475</td>\n",
       "      <td>577.326248</td>\n",
       "      <td>617.726239</td>\n",
       "      <td>466.511177</td>\n",
       "      <td>0.020527</td>\n",
       "      <td>1.0</td>\n",
       "    </tr>\n",
       "    <tr>\n",
       "      <th>2023-07-31</th>\n",
       "      <td>640.200012</td>\n",
       "      <td>645.549988</td>\n",
       "      <td>635.900024</td>\n",
       "      <td>644.299988</td>\n",
       "      <td>7498265.0</td>\n",
       "      <td>0.014167</td>\n",
       "      <td>71.993505</td>\n",
       "      <td>0.015175</td>\n",
       "      <td>579.745868</td>\n",
       "      <td>620.493021</td>\n",
       "      <td>467.759078</td>\n",
       "      <td>0.020671</td>\n",
       "      <td>0.0</td>\n",
       "    </tr>\n",
       "    <tr>\n",
       "      <th>2023-07-31</th>\n",
       "      <td>645.000000</td>\n",
       "      <td>652.900024</td>\n",
       "      <td>642.000000</td>\n",
       "      <td>643.650024</td>\n",
       "      <td>8922021.0</td>\n",
       "      <td>-0.001009</td>\n",
       "      <td>71.396095</td>\n",
       "      <td>0.016978</td>\n",
       "      <td>582.201337</td>\n",
       "      <td>623.194904</td>\n",
       "      <td>469.016689</td>\n",
       "      <td>0.020705</td>\n",
       "      <td>0.0</td>\n",
       "    </tr>\n",
       "    <tr>\n",
       "      <th>2023-08-01</th>\n",
       "      <td>644.000000</td>\n",
       "      <td>644.299988</td>\n",
       "      <td>616.450012</td>\n",
       "      <td>622.650024</td>\n",
       "      <td>15757048.0</td>\n",
       "      <td>-0.032626</td>\n",
       "      <td>55.400293</td>\n",
       "      <td>0.045178</td>\n",
       "      <td>584.117178</td>\n",
       "      <td>625.006290</td>\n",
       "      <td>470.153350</td>\n",
       "      <td>0.020940</td>\n",
       "      <td>0.0</td>\n",
       "    </tr>\n",
       "  </tbody>\n",
       "</table>\n",
       "</div>"
      ],
      "text/plain": [
       "                  Open        High         Low       Close      Volume  \\\n",
       "Date                                                                     \n",
       "2023-07-27  644.989747  646.435254  634.771594  641.700012  11696851.0   \n",
       "2023-07-28  646.000000  646.000000  631.799988  635.299988   9299530.0   \n",
       "2023-07-31  640.200012  645.549988  635.900024  644.299988   7498265.0   \n",
       "2023-07-31  645.000000  652.900024  642.000000  643.650024   8922021.0   \n",
       "2023-08-01  644.000000  644.299988  616.450012  622.650024  15757048.0   \n",
       "\n",
       "             Returns        RSI     Range       MA_50       MA_20      MA_200  \\\n",
       "Date                                                                            \n",
       "2023-07-27  0.004056  74.551979  0.018375  574.757653  615.646219  465.389025   \n",
       "2023-07-28 -0.009974  68.617054  0.022475  577.326248  617.726239  466.511177   \n",
       "2023-07-31  0.014167  71.993505  0.015175  579.745868  620.493021  467.759078   \n",
       "2023-07-31 -0.001009  71.396095  0.016978  582.201337  623.194904  469.016689   \n",
       "2023-08-01 -0.032626  55.400293  0.045178  584.117178  625.006290  470.153350   \n",
       "\n",
       "            Avg_Range  TARGET  \n",
       "Date                           \n",
       "2023-07-27   0.020203     0.0  \n",
       "2023-07-28   0.020527     1.0  \n",
       "2023-07-31   0.020671     0.0  \n",
       "2023-07-31   0.020705     0.0  \n",
       "2023-08-01   0.020940     0.0  "
      ]
     },
     "execution_count": 6,
     "metadata": {},
     "output_type": "execute_result"
    }
   ],
   "source": [
    "# Fill NA\n",
    "df[\"TARGET\"].fillna(0, inplace=True)\n",
    "df.tail()"
   ]
  },
  {
   "cell_type": "code",
   "execution_count": 7,
   "id": "92b56ef1",
   "metadata": {},
   "outputs": [
    {
     "data": {
      "text/html": [
       "<div>\n",
       "<style scoped>\n",
       "    .dataframe tbody tr th:only-of-type {\n",
       "        vertical-align: middle;\n",
       "    }\n",
       "\n",
       "    .dataframe tbody tr th {\n",
       "        vertical-align: top;\n",
       "    }\n",
       "\n",
       "    .dataframe thead th {\n",
       "        text-align: right;\n",
       "    }\n",
       "</style>\n",
       "<table border=\"1\" class=\"dataframe\">\n",
       "  <thead>\n",
       "    <tr style=\"text-align: right;\">\n",
       "      <th></th>\n",
       "      <th>Open</th>\n",
       "      <th>High</th>\n",
       "      <th>Low</th>\n",
       "      <th>Close</th>\n",
       "      <th>Volume</th>\n",
       "      <th>Returns</th>\n",
       "      <th>RSI</th>\n",
       "      <th>Range</th>\n",
       "      <th>MA_50</th>\n",
       "      <th>MA_20</th>\n",
       "      <th>MA_200</th>\n",
       "      <th>Avg_Range</th>\n",
       "      <th>TARGET</th>\n",
       "    </tr>\n",
       "  </thead>\n",
       "  <tbody>\n",
       "    <tr>\n",
       "      <th>count</th>\n",
       "      <td>693.000000</td>\n",
       "      <td>693.000000</td>\n",
       "      <td>693.000000</td>\n",
       "      <td>693.000000</td>\n",
       "      <td>6.930000e+02</td>\n",
       "      <td>693.000000</td>\n",
       "      <td>693.000000</td>\n",
       "      <td>693.000000</td>\n",
       "      <td>693.000000</td>\n",
       "      <td>693.000000</td>\n",
       "      <td>693.000000</td>\n",
       "      <td>693.000000</td>\n",
       "      <td>693.000000</td>\n",
       "    </tr>\n",
       "    <tr>\n",
       "      <th>mean</th>\n",
       "      <td>395.895589</td>\n",
       "      <td>401.344469</td>\n",
       "      <td>389.914371</td>\n",
       "      <td>395.411541</td>\n",
       "      <td>3.373807e+07</td>\n",
       "      <td>0.002617</td>\n",
       "      <td>55.158816</td>\n",
       "      <td>0.030717</td>\n",
       "      <td>378.806978</td>\n",
       "      <td>388.597716</td>\n",
       "      <td>339.180082</td>\n",
       "      <td>0.031184</td>\n",
       "      <td>0.551227</td>\n",
       "    </tr>\n",
       "    <tr>\n",
       "      <th>std</th>\n",
       "      <td>107.786811</td>\n",
       "      <td>108.380519</td>\n",
       "      <td>106.676768</td>\n",
       "      <td>107.417074</td>\n",
       "      <td>3.909990e+07</td>\n",
       "      <td>0.025718</td>\n",
       "      <td>12.949607</td>\n",
       "      <td>0.018956</td>\n",
       "      <td>105.255890</td>\n",
       "      <td>106.504440</td>\n",
       "      <td>116.430063</td>\n",
       "      <td>0.009683</td>\n",
       "      <td>0.497728</td>\n",
       "    </tr>\n",
       "    <tr>\n",
       "      <th>min</th>\n",
       "      <td>127.702005</td>\n",
       "      <td>129.895167</td>\n",
       "      <td>125.957435</td>\n",
       "      <td>127.851524</td>\n",
       "      <td>0.000000e+00</td>\n",
       "      <td>-0.102830</td>\n",
       "      <td>23.031074</td>\n",
       "      <td>0.000000</td>\n",
       "      <td>135.253456</td>\n",
       "      <td>132.357481</td>\n",
       "      <td>115.528682</td>\n",
       "      <td>0.018395</td>\n",
       "      <td>0.000000</td>\n",
       "    </tr>\n",
       "    <tr>\n",
       "      <th>25%</th>\n",
       "      <td>316.064905</td>\n",
       "      <td>322.843812</td>\n",
       "      <td>311.130311</td>\n",
       "      <td>316.563354</td>\n",
       "      <td>1.248894e+07</td>\n",
       "      <td>-0.010692</td>\n",
       "      <td>45.883678</td>\n",
       "      <td>0.018671</td>\n",
       "      <td>310.379642</td>\n",
       "      <td>311.987636</td>\n",
       "      <td>245.628949</td>\n",
       "      <td>0.023758</td>\n",
       "      <td>0.000000</td>\n",
       "    </tr>\n",
       "    <tr>\n",
       "      <th>50%</th>\n",
       "      <td>418.645214</td>\n",
       "      <td>422.682614</td>\n",
       "      <td>412.314945</td>\n",
       "      <td>416.850800</td>\n",
       "      <td>1.976672e+07</td>\n",
       "      <td>0.002223</td>\n",
       "      <td>53.962433</td>\n",
       "      <td>0.025319</td>\n",
       "      <td>416.458030</td>\n",
       "      <td>418.797235</td>\n",
       "      <td>402.324080</td>\n",
       "      <td>0.027863</td>\n",
       "      <td>1.000000</td>\n",
       "    </tr>\n",
       "    <tr>\n",
       "      <th>75%</th>\n",
       "      <td>466.396405</td>\n",
       "      <td>472.477443</td>\n",
       "      <td>458.720303</td>\n",
       "      <td>466.795135</td>\n",
       "      <td>3.926740e+07</td>\n",
       "      <td>0.013415</td>\n",
       "      <td>65.145159</td>\n",
       "      <td>0.036333</td>\n",
       "      <td>447.654795</td>\n",
       "      <td>458.844920</td>\n",
       "      <td>433.157481</td>\n",
       "      <td>0.037532</td>\n",
       "      <td>1.000000</td>\n",
       "    </tr>\n",
       "    <tr>\n",
       "      <th>max</th>\n",
       "      <td>646.000000</td>\n",
       "      <td>663.332642</td>\n",
       "      <td>642.000000</td>\n",
       "      <td>644.299988</td>\n",
       "      <td>3.905778e+08</td>\n",
       "      <td>0.204467</td>\n",
       "      <td>91.791636</td>\n",
       "      <td>0.149920</td>\n",
       "      <td>584.117178</td>\n",
       "      <td>625.006290</td>\n",
       "      <td>470.153350</td>\n",
       "      <td>0.062478</td>\n",
       "      <td>1.000000</td>\n",
       "    </tr>\n",
       "  </tbody>\n",
       "</table>\n",
       "</div>"
      ],
      "text/plain": [
       "             Open        High         Low       Close        Volume  \\\n",
       "count  693.000000  693.000000  693.000000  693.000000  6.930000e+02   \n",
       "mean   395.895589  401.344469  389.914371  395.411541  3.373807e+07   \n",
       "std    107.786811  108.380519  106.676768  107.417074  3.909990e+07   \n",
       "min    127.702005  129.895167  125.957435  127.851524  0.000000e+00   \n",
       "25%    316.064905  322.843812  311.130311  316.563354  1.248894e+07   \n",
       "50%    418.645214  422.682614  412.314945  416.850800  1.976672e+07   \n",
       "75%    466.396405  472.477443  458.720303  466.795135  3.926740e+07   \n",
       "max    646.000000  663.332642  642.000000  644.299988  3.905778e+08   \n",
       "\n",
       "          Returns         RSI       Range       MA_50       MA_20      MA_200  \\\n",
       "count  693.000000  693.000000  693.000000  693.000000  693.000000  693.000000   \n",
       "mean     0.002617   55.158816    0.030717  378.806978  388.597716  339.180082   \n",
       "std      0.025718   12.949607    0.018956  105.255890  106.504440  116.430063   \n",
       "min     -0.102830   23.031074    0.000000  135.253456  132.357481  115.528682   \n",
       "25%     -0.010692   45.883678    0.018671  310.379642  311.987636  245.628949   \n",
       "50%      0.002223   53.962433    0.025319  416.458030  418.797235  402.324080   \n",
       "75%      0.013415   65.145159    0.036333  447.654795  458.844920  433.157481   \n",
       "max      0.204467   91.791636    0.149920  584.117178  625.006290  470.153350   \n",
       "\n",
       "        Avg_Range      TARGET  \n",
       "count  693.000000  693.000000  \n",
       "mean     0.031184    0.551227  \n",
       "std      0.009683    0.497728  \n",
       "min      0.018395    0.000000  \n",
       "25%      0.023758    0.000000  \n",
       "50%      0.027863    1.000000  \n",
       "75%      0.037532    1.000000  \n",
       "max      0.062478    1.000000  "
      ]
     },
     "execution_count": 7,
     "metadata": {},
     "output_type": "execute_result"
    }
   ],
   "source": [
    "df.describe()"
   ]
  },
  {
   "cell_type": "markdown",
   "id": "655c84e8",
   "metadata": {},
   "source": [
    "### Train Test Split"
   ]
  },
  {
   "cell_type": "code",
   "execution_count": 8,
   "id": "b5594c66",
   "metadata": {},
   "outputs": [],
   "source": [
    "# Feature Selection\n",
    "df_tts = df.copy()\n",
    "#df_tts = df_tts[[ \"Range\", \"RSI\", \"RSI_Ret\", \"Avg_Range\", \"RSI_Ret_T1\", \"TARGET\"]]"
   ]
  },
  {
   "cell_type": "code",
   "execution_count": 9,
   "id": "74b15e25",
   "metadata": {},
   "outputs": [],
   "source": [
    "# Split into X and Y Data\n",
    "X = df_tts.iloc[:, : -1]\n",
    "y = df_tts.iloc[:, -1]"
   ]
  },
  {
   "cell_type": "code",
   "execution_count": 10,
   "id": "7764be22",
   "metadata": {},
   "outputs": [
    {
     "name": "stdout",
     "output_type": "stream",
     "text": [
      "Shape of X_train:  (485, 12)\n",
      "Shape of y_train:  (485,)\n",
      "Shape of X_test:  (208, 12)\n",
      "Shape of y_test:  (208,)\n",
      "Size Matches:  True\n"
     ]
    }
   ],
   "source": [
    "# Perform Train Test Split (Timeseries based method)\n",
    "train_size_rate = 0.7\n",
    "train_size = int(len(X) * train_size_rate)\n",
    "test_size = len(X) - train_size\n",
    "\n",
    "X_train = X.head(train_size)\n",
    "y_train = y.head(train_size)\n",
    "X_test = X.tail(test_size)\n",
    "y_test = y.tail(test_size)\n",
    "\n",
    "size_check = len(y_test) + len(y_train) == len(X)\n",
    "print(\"Shape of X_train: \", X_train.shape)\n",
    "print(\"Shape of y_train: \", y_train.shape)\n",
    "print(\"Shape of X_test: \", X_test.shape)\n",
    "print(\"Shape of y_test: \", y_test.shape)\n",
    "print(\"Size Matches: \", size_check)"
   ]
  },
  {
   "cell_type": "markdown",
   "id": "9f854033",
   "metadata": {},
   "source": [
    "### Build Model"
   ]
  },
  {
   "cell_type": "code",
   "execution_count": 11,
   "id": "ac98ab42",
   "metadata": {},
   "outputs": [],
   "source": [
    "# Select type of model to optimize for\n",
    "is_binary = True\n",
    "is_optimise_for_precision = True"
   ]
  },
  {
   "cell_type": "code",
   "execution_count": 12,
   "id": "798578ee",
   "metadata": {},
   "outputs": [],
   "source": [
    "# Determine Objective and Eval Metrics\n",
    "if is_binary:\n",
    "    objective = \"binary:logistic\"\n",
    "    eval_metric = \"logloss\"\n",
    "    eval_metric_list = [\"error\", \"logloss\", eval_metric]\n",
    "else:\n",
    "    objective = \"multi:softmax\"\n",
    "    eval_metric = \"mlogloss\"\n",
    "    eval_metric_list = [\"merror\", \"mlogloss\", eval_metric]"
   ]
  },
  {
   "cell_type": "code",
   "execution_count": 13,
   "id": "9bc99128",
   "metadata": {},
   "outputs": [],
   "source": [
    "# Refine Eval Metric\n",
    "if is_binary and is_optimise_for_precision:\n",
    "    eval_metric = \"aucpr\"\n",
    "    scoring = \"precision\"\n",
    "elif is_binary and not is_optimise_for_precision:\n",
    "    eval_metric = \"auc\"\n",
    "    scoring = \"f1\"\n",
    "else:\n",
    "    scoring = \"accuracy\""
   ]
  },
  {
   "cell_type": "code",
   "execution_count": 14,
   "id": "19284da7",
   "metadata": {},
   "outputs": [],
   "source": [
    "# Hyperparams: ne: 80, lr: 0.01 md: 3 gm: 6\n",
    "# ne: 1#15, lr: 0.2 md: 5 gm: 20\n",
    "#Recommended Params >> ne: 65, lr: 0.05 md: 1 gm: 20\n",
    "\n",
    "ne = 65\n",
    "lr = 0.05\n",
    "md = 1\n",
    "gm = 20"
   ]
  },
  {
   "cell_type": "code",
   "execution_count": 15,
   "id": "c16a677d",
   "metadata": {},
   "outputs": [
    {
     "name": "stderr",
     "output_type": "stream",
     "text": [
      "/Users/vipin/opt/anaconda3/envs/my_own/lib/python3.9/site-packages/xgboost/sklearn.py:1395: UserWarning: `use_label_encoder` is deprecated in 1.7.0.\n",
      "  warnings.warn(\"`use_label_encoder` is deprecated in 1.7.0.\")\n"
     ]
    }
   ],
   "source": [
    "# XGBOOST Classifier\n",
    "classifier = XGBClassifier(\n",
    "    objective=objective,\n",
    "    booster=\"gbtree\",\n",
    "    eval_metric=eval_metric,\n",
    "    n_estimators=ne,\n",
    "    learning_rate=lr,\n",
    "    max_depth=md,\n",
    "    gamma=gm,\n",
    "    subsample=0.8,\n",
    "    colsample_bytree=1,\n",
    "    random_state=1,\n",
    "    use_label_encoder=False\n",
    ")"
   ]
  },
  {
   "cell_type": "code",
   "execution_count": 16,
   "id": "58d02289",
   "metadata": {},
   "outputs": [
    {
     "data": {
      "text/html": [
       "<style>#sk-container-id-1 {color: black;}#sk-container-id-1 pre{padding: 0;}#sk-container-id-1 div.sk-toggleable {background-color: white;}#sk-container-id-1 label.sk-toggleable__label {cursor: pointer;display: block;width: 100%;margin-bottom: 0;padding: 0.3em;box-sizing: border-box;text-align: center;}#sk-container-id-1 label.sk-toggleable__label-arrow:before {content: \"▸\";float: left;margin-right: 0.25em;color: #696969;}#sk-container-id-1 label.sk-toggleable__label-arrow:hover:before {color: black;}#sk-container-id-1 div.sk-estimator:hover label.sk-toggleable__label-arrow:before {color: black;}#sk-container-id-1 div.sk-toggleable__content {max-height: 0;max-width: 0;overflow: hidden;text-align: left;background-color: #f0f8ff;}#sk-container-id-1 div.sk-toggleable__content pre {margin: 0.2em;color: black;border-radius: 0.25em;background-color: #f0f8ff;}#sk-container-id-1 input.sk-toggleable__control:checked~div.sk-toggleable__content {max-height: 200px;max-width: 100%;overflow: auto;}#sk-container-id-1 input.sk-toggleable__control:checked~label.sk-toggleable__label-arrow:before {content: \"▾\";}#sk-container-id-1 div.sk-estimator input.sk-toggleable__control:checked~label.sk-toggleable__label {background-color: #d4ebff;}#sk-container-id-1 div.sk-label input.sk-toggleable__control:checked~label.sk-toggleable__label {background-color: #d4ebff;}#sk-container-id-1 input.sk-hidden--visually {border: 0;clip: rect(1px 1px 1px 1px);clip: rect(1px, 1px, 1px, 1px);height: 1px;margin: -1px;overflow: hidden;padding: 0;position: absolute;width: 1px;}#sk-container-id-1 div.sk-estimator {font-family: monospace;background-color: #f0f8ff;border: 1px dotted black;border-radius: 0.25em;box-sizing: border-box;margin-bottom: 0.5em;}#sk-container-id-1 div.sk-estimator:hover {background-color: #d4ebff;}#sk-container-id-1 div.sk-parallel-item::after {content: \"\";width: 100%;border-bottom: 1px solid gray;flex-grow: 1;}#sk-container-id-1 div.sk-label:hover label.sk-toggleable__label {background-color: #d4ebff;}#sk-container-id-1 div.sk-serial::before {content: \"\";position: absolute;border-left: 1px solid gray;box-sizing: border-box;top: 0;bottom: 0;left: 50%;z-index: 0;}#sk-container-id-1 div.sk-serial {display: flex;flex-direction: column;align-items: center;background-color: white;padding-right: 0.2em;padding-left: 0.2em;position: relative;}#sk-container-id-1 div.sk-item {position: relative;z-index: 1;}#sk-container-id-1 div.sk-parallel {display: flex;align-items: stretch;justify-content: center;background-color: white;position: relative;}#sk-container-id-1 div.sk-item::before, #sk-container-id-1 div.sk-parallel-item::before {content: \"\";position: absolute;border-left: 1px solid gray;box-sizing: border-box;top: 0;bottom: 0;left: 50%;z-index: -1;}#sk-container-id-1 div.sk-parallel-item {display: flex;flex-direction: column;z-index: 1;position: relative;background-color: white;}#sk-container-id-1 div.sk-parallel-item:first-child::after {align-self: flex-end;width: 50%;}#sk-container-id-1 div.sk-parallel-item:last-child::after {align-self: flex-start;width: 50%;}#sk-container-id-1 div.sk-parallel-item:only-child::after {width: 0;}#sk-container-id-1 div.sk-dashed-wrapped {border: 1px dashed gray;margin: 0 0.4em 0.5em 0.4em;box-sizing: border-box;padding-bottom: 0.4em;background-color: white;}#sk-container-id-1 div.sk-label label {font-family: monospace;font-weight: bold;display: inline-block;line-height: 1.2em;}#sk-container-id-1 div.sk-label-container {text-align: center;}#sk-container-id-1 div.sk-container {/* jupyter's `normalize.less` sets `[hidden] { display: none; }` but bootstrap.min.css set `[hidden] { display: none !important; }` so we also need the `!important` here to be able to override the default hidden behavior on the sphinx rendered scikit-learn.org. See: https://github.com/scikit-learn/scikit-learn/issues/21755 */display: inline-block !important;position: relative;}#sk-container-id-1 div.sk-text-repr-fallback {display: none;}</style><div id=\"sk-container-id-1\" class=\"sk-top-container\"><div class=\"sk-text-repr-fallback\"><pre>XGBClassifier(base_score=None, booster=&#x27;gbtree&#x27;, callbacks=None,\n",
       "              colsample_bylevel=None, colsample_bynode=None, colsample_bytree=1,\n",
       "              early_stopping_rounds=None, enable_categorical=False,\n",
       "              eval_metric=[&#x27;error&#x27;, &#x27;logloss&#x27;, &#x27;logloss&#x27;], feature_types=None,\n",
       "              gamma=20, gpu_id=None, grow_policy=None, importance_type=None,\n",
       "              interaction_constraints=None, learning_rate=0.05, max_bin=None,\n",
       "              max_cat_threshold=None, max_cat_to_onehot=None,\n",
       "              max_delta_step=None, max_depth=1, max_leaves=None,\n",
       "              min_child_weight=None, missing=nan, monotone_constraints=None,\n",
       "              n_estimators=65, n_jobs=None, num_parallel_tree=None,\n",
       "              predictor=None, random_state=1, ...)</pre><b>In a Jupyter environment, please rerun this cell to show the HTML representation or trust the notebook. <br />On GitHub, the HTML representation is unable to render, please try loading this page with nbviewer.org.</b></div><div class=\"sk-container\" hidden><div class=\"sk-item\"><div class=\"sk-estimator sk-toggleable\"><input class=\"sk-toggleable__control sk-hidden--visually\" id=\"sk-estimator-id-1\" type=\"checkbox\" checked><label for=\"sk-estimator-id-1\" class=\"sk-toggleable__label sk-toggleable__label-arrow\">XGBClassifier</label><div class=\"sk-toggleable__content\"><pre>XGBClassifier(base_score=None, booster=&#x27;gbtree&#x27;, callbacks=None,\n",
       "              colsample_bylevel=None, colsample_bynode=None, colsample_bytree=1,\n",
       "              early_stopping_rounds=None, enable_categorical=False,\n",
       "              eval_metric=[&#x27;error&#x27;, &#x27;logloss&#x27;, &#x27;logloss&#x27;], feature_types=None,\n",
       "              gamma=20, gpu_id=None, grow_policy=None, importance_type=None,\n",
       "              interaction_constraints=None, learning_rate=0.05, max_bin=None,\n",
       "              max_cat_threshold=None, max_cat_to_onehot=None,\n",
       "              max_delta_step=None, max_depth=1, max_leaves=None,\n",
       "              min_child_weight=None, missing=nan, monotone_constraints=None,\n",
       "              n_estimators=65, n_jobs=None, num_parallel_tree=None,\n",
       "              predictor=None, random_state=1, ...)</pre></div></div></div></div></div>"
      ],
      "text/plain": [
       "XGBClassifier(base_score=None, booster='gbtree', callbacks=None,\n",
       "              colsample_bylevel=None, colsample_bynode=None, colsample_bytree=1,\n",
       "              early_stopping_rounds=None, enable_categorical=False,\n",
       "              eval_metric=['error', 'logloss', 'logloss'], feature_types=None,\n",
       "              gamma=20, gpu_id=None, grow_policy=None, importance_type=None,\n",
       "              interaction_constraints=None, learning_rate=0.05, max_bin=None,\n",
       "              max_cat_threshold=None, max_cat_to_onehot=None,\n",
       "              max_delta_step=None, max_depth=1, max_leaves=None,\n",
       "              min_child_weight=None, missing=nan, monotone_constraints=None,\n",
       "              n_estimators=65, n_jobs=None, num_parallel_tree=None,\n",
       "              predictor=None, random_state=1, ...)"
      ]
     },
     "execution_count": 16,
     "metadata": {},
     "output_type": "execute_result"
    }
   ],
   "source": [
    "# Fit Model\n",
    "eval_set = [(X_train, y_train), (X_test, y_test)]\n",
    "classifier.set_params(eval_metric=eval_metric_list)  # Example metric: 'error'\n",
    "\n",
    "classifier.fit(X_train, y_train, eval_set=eval_set, verbose=False)"
   ]
  },
  {
   "cell_type": "markdown",
   "id": "90fc92aa",
   "metadata": {},
   "source": [
    "### Make Predictions"
   ]
  },
  {
   "cell_type": "code",
   "execution_count": 17,
   "id": "cccfe06c",
   "metadata": {},
   "outputs": [
    {
     "name": "stdout",
     "output_type": "stream",
     "text": [
      "Preds Training Data: \n",
      " [1 1 1 1 1 1 1 1 1 1]\n",
      "Preds Probabilities Training Data: \n",
      " [[0.44031203 0.559688  ]\n",
      " [0.44031203 0.559688  ]\n",
      " [0.44031203 0.559688  ]]\n"
     ]
    }
   ],
   "source": [
    "# Get Predictions Training\n",
    "train_yhat = classifier.predict(X_train)\n",
    "train_yhat_proba = classifier.predict_proba(X_train)\n",
    "print(\"Preds Training Data: \\n\", train_yhat[:10])\n",
    "print(\"Preds Probabilities Training Data: \\n\", train_yhat_proba[:3])"
   ]
  },
  {
   "cell_type": "code",
   "execution_count": 18,
   "id": "049133dd",
   "metadata": {},
   "outputs": [
    {
     "name": "stdout",
     "output_type": "stream",
     "text": [
      "Preds Test Data: \n",
      " [1 1 1 1 1 1 1 1 1 1]\n",
      "Preds Probabilities Training Data: \n",
      " [[0.44031203 0.559688  ]\n",
      " [0.44031203 0.559688  ]\n",
      " [0.44031203 0.559688  ]]\n"
     ]
    }
   ],
   "source": [
    "# Get Predictions Test\n",
    "test_yhat = classifier.predict(X_test)\n",
    "test_yhat_proba = classifier.predict_proba(X_test)\n",
    "print(\"Preds Test Data: \\n\", test_yhat[:10])\n",
    "print(\"Preds Probabilities Training Data: \\n\", test_yhat_proba[:3])"
   ]
  },
  {
   "cell_type": "code",
   "execution_count": 19,
   "id": "b1768565",
   "metadata": {},
   "outputs": [],
   "source": [
    "# Set K-Fold Cross Validation Levels\n",
    "cv = RepeatedStratifiedKFold(n_splits=5, n_repeats=1, random_state=1)"
   ]
  },
  {
   "cell_type": "code",
   "execution_count": 20,
   "id": "2460f01d",
   "metadata": {},
   "outputs": [
    {
     "name": "stderr",
     "output_type": "stream",
     "text": [
      "/Users/vipin/opt/anaconda3/envs/my_own/lib/python3.9/site-packages/xgboost/sklearn.py:1395: UserWarning: `use_label_encoder` is deprecated in 1.7.0.\n",
      "  warnings.warn(\"`use_label_encoder` is deprecated in 1.7.0.\")\n",
      "/Users/vipin/opt/anaconda3/envs/my_own/lib/python3.9/site-packages/xgboost/sklearn.py:1395: UserWarning: `use_label_encoder` is deprecated in 1.7.0.\n",
      "  warnings.warn(\"`use_label_encoder` is deprecated in 1.7.0.\")\n",
      "/Users/vipin/opt/anaconda3/envs/my_own/lib/python3.9/site-packages/xgboost/sklearn.py:1395: UserWarning: `use_label_encoder` is deprecated in 1.7.0.\n",
      "  warnings.warn(\"`use_label_encoder` is deprecated in 1.7.0.\")\n",
      "/Users/vipin/opt/anaconda3/envs/my_own/lib/python3.9/site-packages/xgboost/sklearn.py:1395: UserWarning: `use_label_encoder` is deprecated in 1.7.0.\n",
      "  warnings.warn(\"`use_label_encoder` is deprecated in 1.7.0.\")\n",
      "/Users/vipin/opt/anaconda3/envs/my_own/lib/python3.9/site-packages/xgboost/sklearn.py:1395: UserWarning: `use_label_encoder` is deprecated in 1.7.0.\n",
      "  warnings.warn(\"`use_label_encoder` is deprecated in 1.7.0.\")\n"
     ]
    }
   ],
   "source": [
    "# Training Results\n",
    "train_results = cross_val_score(classifier, X_train, y_train, scoring=scoring, cv=cv, n_jobs=1)"
   ]
  },
  {
   "cell_type": "markdown",
   "id": "21a3a789",
   "metadata": {},
   "source": [
    "### Evaluation Metrics  - Loss and Overfitting"
   ]
  },
  {
   "cell_type": "code",
   "execution_count": 21,
   "id": "2c61d3a6",
   "metadata": {},
   "outputs": [],
   "source": [
    "# Retrieve performance metrics\n",
    "results = classifier.evals_result()\n",
    "epochs = len(results[\"validation_0\"][\"error\"])\n",
    "x_axis = range(0, epochs)"
   ]
  },
  {
   "cell_type": "code",
   "execution_count": 22,
   "id": "3f38b97e",
   "metadata": {},
   "outputs": [
    {
     "data": {
      "image/png": "[encoded data removed]",
      "text/plain": [
       "<Figure size 640x480 with 1 Axes>"
      ]
     },
     "metadata": {},
     "output_type": "display_data"
    }
   ],
   "source": [
    "# Plot Log Loss\n",
    "fig, ax = plt.subplots()\n",
    "ax.plot(x_axis, results[\"validation_0\"][\"logloss\"], label=\"Train\")\n",
    "ax.plot(x_axis, results[\"validation_1\"][\"logloss\"], label=\"Test\")\n",
    "ax.legend()\n",
    "plt.ylabel(\"Logloss\")\n",
    "plt.title(\"XGB Logloss\")\n",
    "plt.show()"
   ]
  },
  {
   "cell_type": "code",
   "execution_count": 23,
   "id": "1db8bef1",
   "metadata": {},
   "outputs": [
    {
     "data": {
      "image/png": "[encoded data removed]",
      "text/plain": [
       "<Figure size 640x480 with 1 Axes>"
      ]
     },
     "metadata": {},
     "output_type": "display_data"
    }
   ],
   "source": [
    "# Plot Classification Error\n",
    "fig, ax = plt.subplots()\n",
    "ax.plot(x_axis, results[\"validation_0\"][\"error\"], label=\"Train\")\n",
    "ax.plot(x_axis, results[\"validation_1\"][\"error\"], label=\"Test\")\n",
    "ax.legend()\n",
    "plt.ylabel(\"Error\")\n",
    "plt.title(\"XGB Error\")\n",
    "plt.show()"
   ]
  },
  {
   "cell_type": "markdown",
   "id": "a8c8e014",
   "metadata": {},
   "source": [
    "### Evaluation Metrics - ROC Curve"
   ]
  },
  {
   "cell_type": "code",
   "execution_count": 24,
   "id": "f80a8a22",
   "metadata": {},
   "outputs": [],
   "source": [
    "# Plot Training ROC Curve\n",
    "#plot_roc_curve(classifier, X_train, y_train)"
   ]
  },
  {
   "cell_type": "code",
   "execution_count": 25,
   "id": "ae58cfcc",
   "metadata": {},
   "outputs": [],
   "source": [
    "# Plot Test ROC Curve\n",
    "#plot_roc_curve(classifier, X_test, y_test)"
   ]
  },
  {
   "cell_type": "markdown",
   "id": "183438d3",
   "metadata": {},
   "source": [
    "### Performance Evaluation Comparison"
   ]
  },
  {
   "cell_type": "code",
   "execution_count": 26,
   "id": "c5c8c2f3",
   "metadata": {},
   "outputs": [],
   "source": [
    "# Set K-Fold Cross Validation Levels\n",
    "cv = RepeatedStratifiedKFold(n_splits=5, n_repeats=1, random_state=1)"
   ]
  },
  {
   "cell_type": "code",
   "execution_count": 27,
   "id": "48e17a86",
   "metadata": {},
   "outputs": [
    {
     "name": "stderr",
     "output_type": "stream",
     "text": [
      "/Users/vipin/opt/anaconda3/envs/my_own/lib/python3.9/site-packages/xgboost/sklearn.py:1395: UserWarning: `use_label_encoder` is deprecated in 1.7.0.\n",
      "  warnings.warn(\"`use_label_encoder` is deprecated in 1.7.0.\")\n",
      "/Users/vipin/opt/anaconda3/envs/my_own/lib/python3.9/site-packages/xgboost/sklearn.py:1395: UserWarning: `use_label_encoder` is deprecated in 1.7.0.\n",
      "  warnings.warn(\"`use_label_encoder` is deprecated in 1.7.0.\")\n"
     ]
    }
   ],
   "source": [
    "# Training and Test Results\n",
    "train_results = cross_val_score(classifier, X_train, y_train, scoring=scoring, cv=cv, n_jobs=-1)\n",
    "test_results = cross_val_score(classifier, X_test, y_test, scoring=scoring, cv=cv, n_jobs=-1)"
   ]
  },
  {
   "cell_type": "code",
   "execution_count": 28,
   "id": "0408fa59",
   "metadata": {},
   "outputs": [
    {
     "name": "stdout",
     "output_type": "stream",
     "text": [
      "TRAIN:\n",
      "Average Acc K-Fold 0.56\n",
      "Std Dev K-Fold 0.01\n",
      "Precision Score 0 0.0\n",
      "Precision Score 1 0.561\n",
      "----- ----- ----- ----- ----- ----- -----\n",
      "TEST:\n",
      "Average Acc K-Fold 0.53\n",
      "Std Dev K-Fold 0.01\n",
      "Precision Score 0 0.0\n",
      "Precision Score 1 0.529\n",
      "\n"
     ]
    },
    {
     "name": "stderr",
     "output_type": "stream",
     "text": [
      "/Users/vipin/opt/anaconda3/envs/my_own/lib/python3.9/site-packages/sklearn/metrics/_classification.py:1469: UndefinedMetricWarning: Precision is ill-defined and being set to 0.0 in labels with no predicted samples. Use `zero_division` parameter to control this behavior.\n",
      "  _warn_prf(average, modifier, msg_start, len(result))\n",
      "/Users/vipin/opt/anaconda3/envs/my_own/lib/python3.9/site-packages/sklearn/metrics/_classification.py:1469: UndefinedMetricWarning: Precision is ill-defined and being set to 0.0 in labels with no predicted samples. Use `zero_division` parameter to control this behavior.\n",
      "  _warn_prf(average, modifier, msg_start, len(result))\n",
      "/Users/vipin/opt/anaconda3/envs/my_own/lib/python3.9/site-packages/sklearn/metrics/_classification.py:1469: UndefinedMetricWarning: Precision is ill-defined and being set to 0.0 in labels with no predicted samples. Use `zero_division` parameter to control this behavior.\n",
      "  _warn_prf(average, modifier, msg_start, len(result))\n",
      "/Users/vipin/opt/anaconda3/envs/my_own/lib/python3.9/site-packages/sklearn/metrics/_classification.py:1469: UndefinedMetricWarning: Precision is ill-defined and being set to 0.0 in labels with no predicted samples. Use `zero_division` parameter to control this behavior.\n",
      "  _warn_prf(average, modifier, msg_start, len(result))\n"
     ]
    }
   ],
   "source": [
    "# Comparison of Results\n",
    "print(\"TRAIN:\")\n",
    "print(\"Average Acc K-Fold\", round(train_results.mean(), 2))\n",
    "print(\"Std Dev K-Fold\", round(train_results.std(), 2))\n",
    "print(\"Precision Score 0\", round(precision_score(y_train, train_yhat, average=None)[0], 3))\n",
    "print(\"Precision Score 1\", round(precision_score(y_train, train_yhat, average=None)[1], 3))\n",
    "print(\"----- ----- ----- ----- ----- ----- -----\")\n",
    "print(\"TEST:\")\n",
    "print(\"Average Acc K-Fold\", round(test_results.mean(), 2))\n",
    "print(\"Std Dev K-Fold\", round(test_results.std(), 2))\n",
    "print(\"Precision Score 0\", round(precision_score(y_test, test_yhat, average=None)[0], 3))\n",
    "print(\"Precision Score 1\", round(precision_score(y_test, test_yhat, average=None)[1], 3))\n",
    "print(\"\")"
   ]
  },
  {
   "cell_type": "markdown",
   "id": "69d8b2bf",
   "metadata": {},
   "source": [
    "### Evaluation Metrics - Summary Report"
   ]
  },
  {
   "cell_type": "code",
   "execution_count": 29,
   "id": "1afce0b9",
   "metadata": {},
   "outputs": [
    {
     "name": "stdout",
     "output_type": "stream",
     "text": [
      "              precision    recall  f1-score   support\n",
      "\n",
      "         0.0       0.00      0.00      0.00       213\n",
      "         1.0       0.56      1.00      0.72       272\n",
      "\n",
      "    accuracy                           0.56       485\n",
      "   macro avg       0.28      0.50      0.36       485\n",
      "weighted avg       0.31      0.56      0.40       485\n",
      "\n"
     ]
    },
    {
     "name": "stderr",
     "output_type": "stream",
     "text": [
      "/Users/vipin/opt/anaconda3/envs/my_own/lib/python3.9/site-packages/sklearn/metrics/_classification.py:1469: UndefinedMetricWarning: Precision and F-score are ill-defined and being set to 0.0 in labels with no predicted samples. Use `zero_division` parameter to control this behavior.\n",
      "  _warn_prf(average, modifier, msg_start, len(result))\n",
      "/Users/vipin/opt/anaconda3/envs/my_own/lib/python3.9/site-packages/sklearn/metrics/_classification.py:1469: UndefinedMetricWarning: Precision and F-score are ill-defined and being set to 0.0 in labels with no predicted samples. Use `zero_division` parameter to control this behavior.\n",
      "  _warn_prf(average, modifier, msg_start, len(result))\n",
      "/Users/vipin/opt/anaconda3/envs/my_own/lib/python3.9/site-packages/sklearn/metrics/_classification.py:1469: UndefinedMetricWarning: Precision and F-score are ill-defined and being set to 0.0 in labels with no predicted samples. Use `zero_division` parameter to control this behavior.\n",
      "  _warn_prf(average, modifier, msg_start, len(result))\n"
     ]
    }
   ],
   "source": [
    "# Show summary report - Training\n",
    "print(classification_report(y_train, train_yhat))"
   ]
  },
  {
   "cell_type": "code",
   "execution_count": 30,
   "id": "01f81ef8",
   "metadata": {},
   "outputs": [
    {
     "name": "stdout",
     "output_type": "stream",
     "text": [
      "              precision    recall  f1-score   support\n",
      "\n",
      "         0.0       0.00      0.00      0.00        98\n",
      "         1.0       0.53      1.00      0.69       110\n",
      "\n",
      "    accuracy                           0.53       208\n",
      "   macro avg       0.26      0.50      0.35       208\n",
      "weighted avg       0.28      0.53      0.37       208\n",
      "\n"
     ]
    },
    {
     "name": "stderr",
     "output_type": "stream",
     "text": [
      "/Users/vipin/opt/anaconda3/envs/my_own/lib/python3.9/site-packages/sklearn/metrics/_classification.py:1469: UndefinedMetricWarning: Precision and F-score are ill-defined and being set to 0.0 in labels with no predicted samples. Use `zero_division` parameter to control this behavior.\n",
      "  _warn_prf(average, modifier, msg_start, len(result))\n",
      "/Users/vipin/opt/anaconda3/envs/my_own/lib/python3.9/site-packages/sklearn/metrics/_classification.py:1469: UndefinedMetricWarning: Precision and F-score are ill-defined and being set to 0.0 in labels with no predicted samples. Use `zero_division` parameter to control this behavior.\n",
      "  _warn_prf(average, modifier, msg_start, len(result))\n",
      "/Users/vipin/opt/anaconda3/envs/my_own/lib/python3.9/site-packages/sklearn/metrics/_classification.py:1469: UndefinedMetricWarning: Precision and F-score are ill-defined and being set to 0.0 in labels with no predicted samples. Use `zero_division` parameter to control this behavior.\n",
      "  _warn_prf(average, modifier, msg_start, len(result))\n"
     ]
    }
   ],
   "source": [
    "# Show summary report - Test\n",
    "print(classification_report(y_test, test_yhat))"
   ]
  },
  {
   "cell_type": "markdown",
   "id": "f6af4753",
   "metadata": {},
   "source": [
    "### Performance Evaluation - Confusion Matrix"
   ]
  },
  {
   "cell_type": "code",
   "execution_count": 31,
   "id": "bf851feb",
   "metadata": {},
   "outputs": [
    {
     "data": {
      "text/plain": [
       "<sklearn.metrics._plot.confusion_matrix.ConfusionMatrixDisplay at 0x7f8a657397f0>"
      ]
     },
     "execution_count": 31,
     "metadata": {},
     "output_type": "execute_result"
    },
    {
     "data": {
      "image/png": "[encoded data removed]",
      "text/plain": [
       "<Figure size 640x480 with 2 Axes>"
      ]
     },
     "metadata": {},
     "output_type": "display_data"
    }
   ],
   "source": [
    "# Training Confusion Matrix\n",
    "cm_train = confusion_matrix(y_train, train_yhat)\n",
    "ConfusionMatrixDisplay(cm_train).plot()"
   ]
  },
  {
   "cell_type": "code",
   "execution_count": 32,
   "id": "da09b2cd",
   "metadata": {},
   "outputs": [
    {
     "data": {
      "text/plain": [
       "<sklearn.metrics._plot.confusion_matrix.ConfusionMatrixDisplay at 0x7f8a6582a550>"
      ]
     },
     "execution_count": 32,
     "metadata": {},
     "output_type": "execute_result"
    },
    {
     "data": {
      "image/png": "[encoded data removed]",
      "text/plain": [
       "<Figure size 640x480 with 2 Axes>"
      ]
     },
     "metadata": {},
     "output_type": "display_data"
    }
   ],
   "source": [
    "# Test Confusion Matrix\n",
    "cm_test = confusion_matrix(y_test, test_yhat)\n",
    "ConfusionMatrixDisplay(cm_test).plot()"
   ]
  },
  {
   "cell_type": "markdown",
   "id": "b87fc129",
   "metadata": {},
   "source": [
    "### Feature Importance"
   ]
  },
  {
   "cell_type": "code",
   "execution_count": 33,
   "id": "664c7711",
   "metadata": {},
   "outputs": [
    {
     "data": {
      "image/png": "[encoded data removed]",
      "text/plain": [
       "<Figure size 2200x500 with 1 Axes>"
      ]
     },
     "metadata": {},
     "output_type": "display_data"
    }
   ],
   "source": [
    "# Plot Feature Importances\n",
    "fig = plt.figure(figsize=(22, 5))\n",
    "importance_labels = X.columns\n",
    "importance_features = classifier.feature_importances_\n",
    "plt.bar(importance_labels, importance_features)\n",
    "plt.show()"
   ]
  },
  {
   "cell_type": "code",
   "execution_count": 34,
   "id": "48a61b94",
   "metadata": {},
   "outputs": [],
   "source": [
    "#conda install graphviz python-graphviz"
   ]
  },
  {
   "cell_type": "markdown",
   "id": "5e508674",
   "metadata": {},
   "source": [
    "### XGBOOST TREE"
   ]
  },
  {
   "cell_type": "code",
   "execution_count": 38,
   "id": "9d1295cc",
   "metadata": {},
   "outputs": [
    {
     "ename": "InvalidParameterError",
     "evalue": "The 'decision_tree' parameter of plot_tree must be an instance of 'sklearn.tree._classes.DecisionTreeClassifier' or an instance of 'sklearn.tree._classes.DecisionTreeRegressor'. Got XGBClassifier(base_score=None, booster='gbtree', callbacks=None,\n              colsample_bylevel=None, colsample_bynode=None, colsample_bytree=1,\n              early_stopping_rounds=None, enable_categorical=False,\n              eval_metric=['error', 'logloss', 'logloss'], feature_types=None,\n              gamma=20, gpu_id=None, grow_policy=None, importance_type=None,\n              interaction_constraints=None, learning_rate=0.05, max_bin=None,\n              max_cat_threshold=None, max_cat_to_onehot=None,\n              max_delta_step=None, max_depth=1, max_leaves=None,\n              min_child_weight=None, missing=nan, monotone_constraints=None,\n              n_estimators=65, n_jobs=None, num_parallel_tree=None,\n              predictor=None, random_state=1, ...) instead.",
     "output_type": "error",
     "traceback": [
      "\u001b[0;31m---------------------------------------------------------------------------\u001b[0m",
      "\u001b[0;31mInvalidParameterError\u001b[0m                     Traceback (most recent call last)",
      "Cell \u001b[0;32mIn[38], line 2\u001b[0m\n\u001b[1;32m      1\u001b[0m rcParams[\u001b[38;5;124m\"\u001b[39m\u001b[38;5;124mfigure.figsize\u001b[39m\u001b[38;5;124m\"\u001b[39m] \u001b[38;5;241m=\u001b[39m \u001b[38;5;241m80\u001b[39m, \u001b[38;5;241m50\u001b[39m\n\u001b[0;32m----> 2\u001b[0m \u001b[43mtree\u001b[49m\u001b[38;5;241;43m.\u001b[39;49m\u001b[43mplot_tree\u001b[49m\u001b[43m(\u001b[49m\u001b[43mclassifier\u001b[49m\u001b[43m)\u001b[49m\n",
      "File \u001b[0;32m~/opt/anaconda3/envs/my_own/lib/python3.9/site-packages/sklearn/utils/_param_validation.py:201\u001b[0m, in \u001b[0;36mvalidate_params.<locals>.decorator.<locals>.wrapper\u001b[0;34m(*args, **kwargs)\u001b[0m\n\u001b[1;32m    198\u001b[0m to_ignore \u001b[38;5;241m+\u001b[39m\u001b[38;5;241m=\u001b[39m [\u001b[38;5;124m\"\u001b[39m\u001b[38;5;124mself\u001b[39m\u001b[38;5;124m\"\u001b[39m, \u001b[38;5;124m\"\u001b[39m\u001b[38;5;124mcls\u001b[39m\u001b[38;5;124m\"\u001b[39m]\n\u001b[1;32m    199\u001b[0m params \u001b[38;5;241m=\u001b[39m {k: v \u001b[38;5;28;01mfor\u001b[39;00m k, v \u001b[38;5;129;01min\u001b[39;00m params\u001b[38;5;241m.\u001b[39marguments\u001b[38;5;241m.\u001b[39mitems() \u001b[38;5;28;01mif\u001b[39;00m k \u001b[38;5;129;01mnot\u001b[39;00m \u001b[38;5;129;01min\u001b[39;00m to_ignore}\n\u001b[0;32m--> 201\u001b[0m \u001b[43mvalidate_parameter_constraints\u001b[49m\u001b[43m(\u001b[49m\n\u001b[1;32m    202\u001b[0m \u001b[43m    \u001b[49m\u001b[43mparameter_constraints\u001b[49m\u001b[43m,\u001b[49m\u001b[43m \u001b[49m\u001b[43mparams\u001b[49m\u001b[43m,\u001b[49m\u001b[43m \u001b[49m\u001b[43mcaller_name\u001b[49m\u001b[38;5;241;43m=\u001b[39;49m\u001b[43mfunc\u001b[49m\u001b[38;5;241;43m.\u001b[39;49m\u001b[38;5;18;43m__qualname__\u001b[39;49m\n\u001b[1;32m    203\u001b[0m \u001b[43m\u001b[49m\u001b[43m)\u001b[49m\n\u001b[1;32m    205\u001b[0m \u001b[38;5;28;01mtry\u001b[39;00m:\n\u001b[1;32m    206\u001b[0m     \u001b[38;5;28;01mwith\u001b[39;00m config_context(\n\u001b[1;32m    207\u001b[0m         skip_parameter_validation\u001b[38;5;241m=\u001b[39m(\n\u001b[1;32m    208\u001b[0m             prefer_skip_nested_validation \u001b[38;5;129;01mor\u001b[39;00m global_skip_validation\n\u001b[1;32m    209\u001b[0m         )\n\u001b[1;32m    210\u001b[0m     ):\n",
      "File \u001b[0;32m~/opt/anaconda3/envs/my_own/lib/python3.9/site-packages/sklearn/utils/_param_validation.py:95\u001b[0m, in \u001b[0;36mvalidate_parameter_constraints\u001b[0;34m(parameter_constraints, params, caller_name)\u001b[0m\n\u001b[1;32m     89\u001b[0m \u001b[38;5;28;01melse\u001b[39;00m:\n\u001b[1;32m     90\u001b[0m     constraints_str \u001b[38;5;241m=\u001b[39m (\n\u001b[1;32m     91\u001b[0m         \u001b[38;5;124mf\u001b[39m\u001b[38;5;124m\"\u001b[39m\u001b[38;5;132;01m{\u001b[39;00m\u001b[38;5;124m'\u001b[39m\u001b[38;5;124m, \u001b[39m\u001b[38;5;124m'\u001b[39m\u001b[38;5;241m.\u001b[39mjoin([\u001b[38;5;28mstr\u001b[39m(c)\u001b[38;5;250m \u001b[39m\u001b[38;5;28;01mfor\u001b[39;00m\u001b[38;5;250m \u001b[39mc\u001b[38;5;250m \u001b[39m\u001b[38;5;129;01min\u001b[39;00m\u001b[38;5;250m \u001b[39mconstraints[:\u001b[38;5;241m-\u001b[39m\u001b[38;5;241m1\u001b[39m]])\u001b[38;5;132;01m}\u001b[39;00m\u001b[38;5;124m or\u001b[39m\u001b[38;5;124m\"\u001b[39m\n\u001b[1;32m     92\u001b[0m         \u001b[38;5;124mf\u001b[39m\u001b[38;5;124m\"\u001b[39m\u001b[38;5;124m \u001b[39m\u001b[38;5;132;01m{\u001b[39;00mconstraints[\u001b[38;5;241m-\u001b[39m\u001b[38;5;241m1\u001b[39m]\u001b[38;5;132;01m}\u001b[39;00m\u001b[38;5;124m\"\u001b[39m\n\u001b[1;32m     93\u001b[0m     )\n\u001b[0;32m---> 95\u001b[0m \u001b[38;5;28;01mraise\u001b[39;00m InvalidParameterError(\n\u001b[1;32m     96\u001b[0m     \u001b[38;5;124mf\u001b[39m\u001b[38;5;124m\"\u001b[39m\u001b[38;5;124mThe \u001b[39m\u001b[38;5;132;01m{\u001b[39;00mparam_name\u001b[38;5;132;01m!r}\u001b[39;00m\u001b[38;5;124m parameter of \u001b[39m\u001b[38;5;132;01m{\u001b[39;00mcaller_name\u001b[38;5;132;01m}\u001b[39;00m\u001b[38;5;124m must be\u001b[39m\u001b[38;5;124m\"\u001b[39m\n\u001b[1;32m     97\u001b[0m     \u001b[38;5;124mf\u001b[39m\u001b[38;5;124m\"\u001b[39m\u001b[38;5;124m \u001b[39m\u001b[38;5;132;01m{\u001b[39;00mconstraints_str\u001b[38;5;132;01m}\u001b[39;00m\u001b[38;5;124m. Got \u001b[39m\u001b[38;5;132;01m{\u001b[39;00mparam_val\u001b[38;5;132;01m!r}\u001b[39;00m\u001b[38;5;124m instead.\u001b[39m\u001b[38;5;124m\"\u001b[39m\n\u001b[1;32m     98\u001b[0m )\n",
      "\u001b[0;31mInvalidParameterError\u001b[0m: The 'decision_tree' parameter of plot_tree must be an instance of 'sklearn.tree._classes.DecisionTreeClassifier' or an instance of 'sklearn.tree._classes.DecisionTreeRegressor'. Got XGBClassifier(base_score=None, booster='gbtree', callbacks=None,\n              colsample_bylevel=None, colsample_bynode=None, colsample_bytree=1,\n              early_stopping_rounds=None, enable_categorical=False,\n              eval_metric=['error', 'logloss', 'logloss'], feature_types=None,\n              gamma=20, gpu_id=None, grow_policy=None, importance_type=None,\n              interaction_constraints=None, learning_rate=0.05, max_bin=None,\n              max_cat_threshold=None, max_cat_to_onehot=None,\n              max_delta_step=None, max_depth=1, max_leaves=None,\n              min_child_weight=None, missing=nan, monotone_constraints=None,\n              n_estimators=65, n_jobs=None, num_parallel_tree=None,\n              predictor=None, random_state=1, ...) instead."
     ]
    }
   ],
   "source": [
    "rcParams[\"figure.figsize\"] = 80, 50\n",
    "tree.plot_tree(classifier)"
   ]
  },
  {
   "cell_type": "markdown",
   "id": "ece5d8b6",
   "metadata": {},
   "source": [
    "### Conclusion"
   ]
  },
  {
   "cell_type": "markdown",
   "id": "84871ce0",
   "metadata": {},
   "source": [
    "We feel that it is possible using Machine Learning, that we can forecast with better than 50/50 odds, whether the Range (our interpretation of volatility) for Bitcoin, can be predicted ahead of of time by at least 1 day into the future. This information could be valuable for MOVE based contracts trading."
   ]
  }
 ],
 "metadata": {
  "kernelspec": {
   "display_name": "Python 3 (ipykernel)",
   "language": "python",
   "name": "python3"
  },
  "language_info": {
   "codemirror_mode": {
    "name": "ipython",
    "version": 3
   },
   "file_extension": ".py",
   "mimetype": "text/x-python",
   "name": "python",
   "nbconvert_exporter": "python",
   "pygments_lexer": "ipython3",
   "version": "3.9.16"
  }
 },
 "nbformat": 4,
 "nbformat_minor": 5
}
