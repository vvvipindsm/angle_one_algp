{
 "cells": [
  {
   "cell_type": "code",
   "execution_count": 21,
   "id": "3b505cea",
   "metadata": {},
   "outputs": [],
   "source": [
    "%run Common.ipynb"
   ]
  },
  {
   "cell_type": "code",
   "execution_count": 16,
   "id": "deb71a04",
   "metadata": {},
   "outputs": [
    {
     "name": "stdout",
     "output_type": "stream",
     "text": [
      "[*********************100%***********************]  1 of 1 completed\n",
      "(2724, 10, 2) (682, 10, 2) (2724, 2) (682, 2)\n"
     ]
    }
   ],
   "source": [
    "x_train,x_test,y_train,y_test = get_data(\"AAPL\",\"2010-01-01\")"
   ]
  },
  {
   "cell_type": "code",
   "execution_count": 17,
   "id": "7ad2dd8c",
   "metadata": {},
   "outputs": [
    {
     "data": {
      "text/plain": [
       "((2724, 10, 2), (682, 10, 2), (2724, 2), (682, 2))"
      ]
     },
     "execution_count": 17,
     "metadata": {},
     "output_type": "execute_result"
    }
   ],
   "source": [
    "x_train.shape,x_test.shape,y_train.shape,y_test.shape"
   ]
  },
  {
   "cell_type": "code",
   "execution_count": 3,
   "id": "b3293171",
   "metadata": {},
   "outputs": [],
   "source": [
    "model_config = base_model_config()\n"
   ]
  },
  {
   "cell_type": "code",
   "execution_count": 22,
   "id": "623496d1",
   "metadata": {},
   "outputs": [
    {
     "name": "stdout",
     "output_type": "stream",
     "text": [
      "\n",
      "******************************************************\n",
      "Model: \"Production\"\n",
      "_________________________________________________________________\n",
      " Layer (type)                Output Shape              Param #   \n",
      "=================================================================\n",
      " Dense-Layer-0 (Dense)       (None, 32)                672       \n",
      "                                                                 \n",
      " batch_normalization_1 (Bat  (None, 32)                128       \n",
      " chNormalization)                                                \n",
      "                                                                 \n",
      " Dense-Layer-1 (Dense)       (None, 64)                2112      \n",
      "                                                                 \n",
      " Output-Layer (Dense)        (None, 2)                 130       \n",
      "                                                                 \n",
      "=================================================================\n",
      "Total params: 3042 (11.88 KB)\n",
      "Trainable params: 2978 (11.63 KB)\n",
      "Non-trainable params: 64 (256.00 Byte)\n",
      "_________________________________________________________________\n"
     ]
    }
   ],
   "source": [
    "model  = create_and_run_model(model_config,x_train,y_train,\"Production\",x_test,x_train,True)\n"
   ]
  },
  {
   "cell_type": "code",
   "execution_count": 13,
   "id": "949d0ff6",
   "metadata": {},
   "outputs": [
    {
     "data": {
      "text/plain": [
       "682"
      ]
     },
     "execution_count": 13,
     "metadata": {},
     "output_type": "execute_result"
    }
   ],
   "source": [
    "x_test"
   ]
  },
  {
   "cell_type": "code",
   "execution_count": 23,
   "id": "66b8057a",
   "metadata": {},
   "outputs": [],
   "source": [
    "input_dim = x_train.shape[1] * x_train.shape[2] \n",
    "\n",
    "history=model.fit(x_train.reshape(-1, input_dim),\n",
    "          y_train,\n",
    "          batch_size=model_config[\"BATCH_SIZE\"],\n",
    "          epochs=model_config[\"EPOCHS\"],\n",
    "          verbose=model_config[\"VERBOSE\"],\n",
    "          validation_data= (x_test.reshape(-1, input_dim), y_test))\n",
    "    "
   ]
  },
  {
   "cell_type": "code",
   "execution_count": 24,
   "id": "16d9b6b9",
   "metadata": {},
   "outputs": [
    {
     "name": "stdout",
     "output_type": "stream",
     "text": [
      "[0.5903083682060242, 0.5844346284866333, 0.5950807929039001, 0.615638792514801, 0.5980176329612732, 0.6075624227523804, 0.6152716875076294, 0.6288546323776245, 0.6240822076797485, 0.6354625821113586]\n"
     ]
    }
   ],
   "source": [
    "print(history.history[\"accuracy\"])"
   ]
  },
  {
   "cell_type": "code",
   "execution_count": null,
   "id": "5124edc9",
   "metadata": {},
   "outputs": [],
   "source": []
  },
  {
   "cell_type": "code",
   "execution_count": null,
   "id": "24b57e5c",
   "metadata": {},
   "outputs": [],
   "source": []
  },
  {
   "cell_type": "code",
   "execution_count": null,
   "id": "24ae8576",
   "metadata": {},
   "outputs": [],
   "source": []
  }
 ],
 "metadata": {
  "kernelspec": {
   "display_name": "Python 3 (ipykernel)",
   "language": "python",
   "name": "python3"
  },
  "language_info": {
   "codemirror_mode": {
    "name": "ipython",
    "version": 3
   },
   "file_extension": ".py",
   "mimetype": "text/x-python",
   "name": "python",
   "nbconvert_exporter": "python",
   "pygments_lexer": "ipython3",
   "version": "3.9.16"
  }
 },
 "nbformat": 4,
 "nbformat_minor": 5
}
