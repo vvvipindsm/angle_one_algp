{
 "cells": [
  {
   "cell_type": "code",
   "execution_count": 49,
   "id": "5344be04",
   "metadata": {},
   "outputs": [],
   "source": [
    "import numpy as np\n",
    "import pandas as pd\n",
    "import yfinance as yf\n",
    "from sklearn.preprocessing import MinMaxScaler\n",
    "from keras.models import Sequential\n",
    "from keras.layers import Dense, LSTM\n",
    "import matplotlib.pyplot as plt\n",
    "import tensorflow as tf"
   ]
  },
  {
   "cell_type": "code",
   "execution_count": null,
   "id": "ec374c3c",
   "metadata": {},
   "outputs": [],
   "source": [
    "get_data()"
   ]
  },
  {
   "cell_type": "code",
   "execution_count": 71,
   "id": "0f3c1f23",
   "metadata": {},
   "outputs": [],
   "source": [
    "# Function to get historical stock data from Yahoo Finance API\n",
    "def get_stock_data(ticker, start_date):\n",
    "    data = yf.download(ticker, start=start_date)\n",
    "    return data"
   ]
  },
  {
   "cell_type": "code",
   "execution_count": 72,
   "id": "ae295d0e",
   "metadata": {},
   "outputs": [],
   "source": [
    "# Function to create sequences for time series prediction\n",
    "def create_sequences(data, sequence_length):\n",
    "    sequences = []\n",
    "    for i in range(len(data) - sequence_length):\n",
    "        seq = data[i : i + sequence_length]\n",
    "        sequences.append(seq)\n",
    "    return np.array(sequences)"
   ]
  },
  {
   "cell_type": "code",
   "execution_count": 51,
   "id": "d6981bc7",
   "metadata": {},
   "outputs": [],
   "source": [
    "# Function to build and train the ANN model\n",
    "def build_ann_model(input_dim):\n",
    "    model = Sequential()\n",
    "    model.add(Dense(64, input_dim=input_dim, activation='relu'))\n",
    "    model.add(Dense(32, activation='relu'))\n",
    "    model.add(Dense(2, activation='sigmoid'))\n",
    "    #model.compile(loss='mean_squared_error', optimizer='adam')\n",
    "    model.compile(loss='binary_crossentropy', optimizer='adam', metrics=['accuracy'])\n",
    "    return model"
   ]
  },
  {
   "cell_type": "code",
   "execution_count": 73,
   "id": "7a692b0d",
   "metadata": {},
   "outputs": [
    {
     "name": "stdout",
     "output_type": "stream",
     "text": [
      "[*********************100%***********************]  1 of 1 completed\n"
     ]
    }
   ],
   "source": [
    "stock_ticker = \"AAPL\"  # Apple Inc. stock ticker\n",
    "start_date = \"2010-01-01\"\n",
    "end_date = \"2021-12-31\"\n",
    "sequence_length = 10\n",
    "\n",
    "# Get stock data\n",
    "data = get_stock_data(stock_ticker, start_date)"
   ]
  },
  {
   "cell_type": "code",
   "execution_count": 74,
   "id": "32ba301b",
   "metadata": {},
   "outputs": [],
   "source": [
    "scaler = MinMaxScaler(feature_range=(0, 1))\n",
    "scaled_close_dime = scaler.fit_transform(data[['Close', 'High']])\n",
    "scaled_data = MinMaxScaler(feature_range=(0, 1))\n",
    "scaled_close_data = scaled_data.fit_transform(data[['Close']])"
   ]
  },
  {
   "cell_type": "code",
   "execution_count": 75,
   "id": "a6e58d9a",
   "metadata": {},
   "outputs": [],
   "source": [
    "sequences = create_sequences(scaled_close_dime, sequence_length)"
   ]
  },
  {
   "cell_type": "code",
   "execution_count": 76,
   "id": "3edc80c8",
   "metadata": {},
   "outputs": [],
   "source": [
    "# Split data into training and testing sets\n",
    "train_size = int(len(sequences) * 0.8)\n",
    "test_size = len(sequences) - train_size\n",
    "train_data, test_data = sequences[:train_size], sequences[train_size:]"
   ]
  },
  {
   "cell_type": "code",
   "execution_count": 77,
   "id": "84c0658f",
   "metadata": {},
   "outputs": [],
   "source": [
    "def handleData(data):\n",
    "    lendf = data.shape[0] -1 \n",
    "    if data[lendf - 1][0] > data[lendf][0]:\n",
    "        return 1\n",
    "    else:\n",
    "        return 0\n",
    "    return 0\n",
    "\n",
    "trained_data_list = list(map(handleData, train_data))\n",
    "y_train = np.array(trained_data_list)\n",
    "\n",
    "test_data_list = list(map(handleData, test_data))\n",
    "y_test = np.array(test_data_list)"
   ]
  },
  {
   "cell_type": "code",
   "execution_count": 57,
   "id": "f581bd90",
   "metadata": {},
   "outputs": [],
   "source": [
    "# Separate input (X) and output (y) variables\n",
    "X_train  = train_data[:, :-1]\n",
    "X_test = test_data[:, :-1]"
   ]
  },
  {
   "cell_type": "code",
   "execution_count": 58,
   "id": "c5957f97",
   "metadata": {},
   "outputs": [
    {
     "data": {
      "text/plain": [
       "((2724, 9, 2), (681, 9, 2), (2724,), (681,))"
      ]
     },
     "execution_count": 58,
     "metadata": {},
     "output_type": "execute_result"
    }
   ],
   "source": [
    "X_train.shape,X_test.shape,y_train.shape,y_test.shape"
   ]
  },
  {
   "cell_type": "code",
   "execution_count": 59,
   "id": "76852d09",
   "metadata": {},
   "outputs": [],
   "source": [
    "y_test = tf.keras.utils.to_categorical(y_test,2)\n",
    "y_train = tf.keras.utils.to_categorical(y_train,2)"
   ]
  },
  {
   "cell_type": "code",
   "execution_count": 60,
   "id": "1956e2c9",
   "metadata": {},
   "outputs": [
    {
     "data": {
      "text/plain": [
       "18"
      ]
     },
     "execution_count": 60,
     "metadata": {},
     "output_type": "execute_result"
    }
   ],
   "source": [
    "input_dim = X_train.shape[1] * X_train.shape[2] \n",
    "input_dim"
   ]
  },
  {
   "cell_type": "code",
   "execution_count": 61,
   "id": "c89af8af",
   "metadata": {},
   "outputs": [
    {
     "name": "stdout",
     "output_type": "stream",
     "text": [
      "Epoch 1/10\n",
      "86/86 [==============================] - 1s 2ms/step - loss: 0.6919 - accuracy: 0.5301\n",
      "Epoch 2/10\n",
      "86/86 [==============================] - 0s 2ms/step - loss: 0.6914 - accuracy: 0.5316\n",
      "Epoch 3/10\n",
      "86/86 [==============================] - 0s 2ms/step - loss: 0.6919 - accuracy: 0.5316\n",
      "Epoch 4/10\n",
      "86/86 [==============================] - 0s 2ms/step - loss: 0.6916 - accuracy: 0.5316\n",
      "Epoch 5/10\n",
      "86/86 [==============================] - 0s 2ms/step - loss: 0.6913 - accuracy: 0.5316\n",
      "Epoch 6/10\n",
      "86/86 [==============================] - 0s 3ms/step - loss: 0.6916 - accuracy: 0.5316\n",
      "Epoch 7/10\n",
      "86/86 [==============================] - 0s 2ms/step - loss: 0.6912 - accuracy: 0.5316\n",
      "Epoch 8/10\n",
      "86/86 [==============================] - 0s 2ms/step - loss: 0.6911 - accuracy: 0.5316\n",
      "Epoch 9/10\n",
      "86/86 [==============================] - 0s 2ms/step - loss: 0.6912 - accuracy: 0.5316\n",
      "Epoch 10/10\n",
      "86/86 [==============================] - 0s 3ms/step - loss: 0.6913 - accuracy: 0.5316\n"
     ]
    },
    {
     "data": {
      "text/plain": [
       "<keras.src.callbacks.History at 0x7fd0babbdd90>"
      ]
     },
     "execution_count": 61,
     "metadata": {},
     "output_type": "execute_result"
    }
   ],
   "source": [
    "model = build_ann_model(input_dim)\n",
    "model.fit(X_train.reshape(-1, input_dim), y_train, epochs=10, batch_size=32, verbose=1)"
   ]
  },
  {
   "cell_type": "code",
   "execution_count": 62,
   "id": "04457d42",
   "metadata": {},
   "outputs": [
    {
     "name": "stdout",
     "output_type": "stream",
     "text": [
      "Train Loss: [0.6908527612686157, 0.5315712094306946]\n"
     ]
    }
   ],
   "source": [
    "#Evaluate the model\n",
    "train_loss = model.evaluate(X_train.reshape(-1, input_dim), y_train, verbose=0)\n",
    "#test_loss = model.evaluate(X_test.reshape(-1, input_dim), y_test, verbose=0)\n",
    "print(\"Train Loss:\", train_loss)\n",
    "#print(\"Test Loss:\", test_loss)"
   ]
  },
  {
   "cell_type": "code",
   "execution_count": 67,
   "id": "20d88b97",
   "metadata": {},
   "outputs": [
    {
     "name": "stdout",
     "output_type": "stream",
     "text": [
      "86/86 [==============================] - 0s 1ms/step\n",
      "22/22 [==============================] - 0s 1ms/step\n"
     ]
    }
   ],
   "source": [
    "# Make predictions\n",
    "train_predict = model.predict(X_train.reshape(-1, input_dim))\n",
    "test_predict = model.predict(X_test.reshape(-1, input_dim))"
   ]
  },
  {
   "cell_type": "code",
   "execution_count": 68,
   "id": "b35ec2c9",
   "metadata": {},
   "outputs": [
    {
     "data": {
      "text/plain": [
       "array([[0.53924704, 0.46297994],\n",
       "       [0.5393448 , 0.462927  ],\n",
       "       [0.53931046, 0.4629337 ],\n",
       "       ...,\n",
       "       [0.5551101 , 0.44751638],\n",
       "       [0.5564118 , 0.44640124],\n",
       "       [0.55708665, 0.44555962]], dtype=float32)"
      ]
     },
     "execution_count": 68,
     "metadata": {},
     "output_type": "execute_result"
    }
   ],
   "source": [
    "train_predict"
   ]
  },
  {
   "cell_type": "code",
   "execution_count": 69,
   "id": "7df4ff18",
   "metadata": {},
   "outputs": [
    {
     "data": {
      "text/plain": [
       "array([[0.55873764, 0.44488272],\n",
       "       [0.55901176, 0.44464418],\n",
       "       [0.5583258 , 0.4454103 ],\n",
       "       ...,\n",
       "       [0.58531564, 0.4215148 ],\n",
       "       [0.5848371 , 0.42187127],\n",
       "       [0.58487785, 0.42196938]], dtype=float32)"
      ]
     },
     "execution_count": 69,
     "metadata": {},
     "output_type": "execute_result"
    }
   ],
   "source": [
    "test_predict"
   ]
  },
  {
   "cell_type": "code",
   "execution_count": 70,
   "id": "907b975f",
   "metadata": {},
   "outputs": [
    {
     "ename": "NameError",
     "evalue": "name 'predication' is not defined",
     "output_type": "error",
     "traceback": [
      "\u001b[0;31m---------------------------------------------------------------------------\u001b[0m",
      "\u001b[0;31mNameError\u001b[0m                                 Traceback (most recent call last)",
      "Cell \u001b[0;32mIn[70], line 1\u001b[0m\n\u001b[0;32m----> 1\u001b[0m result_df \u001b[38;5;241m=\u001b[39m pd\u001b[38;5;241m.\u001b[39mDataFrame({ \u001b[38;5;124m\"\u001b[39m\u001b[38;5;124mreal\u001b[39m\u001b[38;5;124m\"\u001b[39m : y_test , \u001b[38;5;124m\"\u001b[39m\u001b[38;5;124mpred\u001b[39m\u001b[38;5;124m\"\u001b[39m :  \u001b[43mpredication\u001b[49m})\n\u001b[1;32m      2\u001b[0m result_df\n",
      "\u001b[0;31mNameError\u001b[0m: name 'predication' is not defined"
     ]
    }
   ],
   "source": [
    "result_df = pd.DataFrame({ \"real\" : y_test , \"pred\" :  predication})\n",
    "result_df"
   ]
  },
  {
   "cell_type": "code",
   "execution_count": 31,
   "id": "74151950",
   "metadata": {},
   "outputs": [
    {
     "data": {
      "text/plain": [
       "((681, 1), (681,))"
      ]
     },
     "execution_count": 31,
     "metadata": {},
     "output_type": "execute_result"
    }
   ],
   "source": [
    "test_predict.shape,y_test.shape"
   ]
  },
  {
   "cell_type": "code",
   "execution_count": null,
   "id": "8289bc8e",
   "metadata": {},
   "outputs": [],
   "source": []
  },
  {
   "cell_type": "code",
   "execution_count": null,
   "id": "842c2dfe",
   "metadata": {},
   "outputs": [],
   "source": []
  },
  {
   "cell_type": "code",
   "execution_count": null,
   "id": "d60664a0",
   "metadata": {},
   "outputs": [],
   "source": []
  },
  {
   "cell_type": "code",
   "execution_count": null,
   "id": "ebbbaa96",
   "metadata": {},
   "outputs": [],
   "source": [
    "last_day = X_test[-1]\n",
    "\n",
    "\n",
    "test_predict = model.predict(X_test.reshape(-1, input_dim))\n",
    "\n",
    "#print(test_predict)\n",
    "last_predict = scaled_data.inverse_transform(test_predict)\n",
    "#print(last_predict)"
   ]
  },
  {
   "cell_type": "code",
   "execution_count": null,
   "id": "162aec23",
   "metadata": {},
   "outputs": [],
   "source": [
    "data.tail()"
   ]
  }
 ],
 "metadata": {
  "kernelspec": {
   "display_name": "Python 3 (ipykernel)",
   "language": "python",
   "name": "python3"
  },
  "language_info": {
   "codemirror_mode": {
    "name": "ipython",
    "version": 3
   },
   "file_extension": ".py",
   "mimetype": "text/x-python",
   "name": "python",
   "nbconvert_exporter": "python",
   "pygments_lexer": "ipython3",
   "version": "3.9.16"
  }
 },
 "nbformat": 4,
 "nbformat_minor": 5
}
