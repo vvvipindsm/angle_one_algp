{
 "cells": [
  {
   "cell_type": "markdown",
   "metadata": {},
   "source": [
    "### Stock Market Prediction And Forecasting Using Stacked LSTM"
   ]
  },
  {
   "cell_type": "code",
   "execution_count": 1,
   "metadata": {},
   "outputs": [
    {
     "name": "stdout",
     "output_type": "stream",
     "text": [
      "[*********************100%***********************]  1 of 1 completed\n"
     ]
    },
    {
     "data": {
      "text/html": [
       "<div>\n",
       "<style scoped>\n",
       "    .dataframe tbody tr th:only-of-type {\n",
       "        vertical-align: middle;\n",
       "    }\n",
       "\n",
       "    .dataframe tbody tr th {\n",
       "        vertical-align: top;\n",
       "    }\n",
       "\n",
       "    .dataframe thead th {\n",
       "        text-align: right;\n",
       "    }\n",
       "</style>\n",
       "<table border=\"1\" class=\"dataframe\">\n",
       "  <thead>\n",
       "    <tr style=\"text-align: right;\">\n",
       "      <th></th>\n",
       "      <th>Open</th>\n",
       "      <th>High</th>\n",
       "      <th>Low</th>\n",
       "      <th>Close</th>\n",
       "      <th>Volume</th>\n",
       "    </tr>\n",
       "    <tr>\n",
       "      <th>Date</th>\n",
       "      <th></th>\n",
       "      <th></th>\n",
       "      <th></th>\n",
       "      <th></th>\n",
       "      <th></th>\n",
       "    </tr>\n",
       "  </thead>\n",
       "  <tbody>\n",
       "    <tr>\n",
       "      <th>2010-03-08</th>\n",
       "      <td>26.707159</td>\n",
       "      <td>26.767476</td>\n",
       "      <td>26.375420</td>\n",
       "      <td>26.508978</td>\n",
       "      <td>3420936</td>\n",
       "    </tr>\n",
       "    <tr>\n",
       "      <th>2010-03-09</th>\n",
       "      <td>26.590840</td>\n",
       "      <td>26.668389</td>\n",
       "      <td>26.207400</td>\n",
       "      <td>26.315109</td>\n",
       "      <td>2820648</td>\n",
       "    </tr>\n",
       "    <tr>\n",
       "      <th>2010-03-10</th>\n",
       "      <td>26.160012</td>\n",
       "      <td>26.444362</td>\n",
       "      <td>26.069539</td>\n",
       "      <td>26.349579</td>\n",
       "      <td>2508072</td>\n",
       "    </tr>\n",
       "    <tr>\n",
       "      <th>2010-03-11</th>\n",
       "      <td>26.452974</td>\n",
       "      <td>26.625308</td>\n",
       "      <td>25.983369</td>\n",
       "      <td>26.220327</td>\n",
       "      <td>3387942</td>\n",
       "    </tr>\n",
       "    <tr>\n",
       "      <th>2010-03-12</th>\n",
       "      <td>26.280642</td>\n",
       "      <td>26.323725</td>\n",
       "      <td>26.030761</td>\n",
       "      <td>26.172935</td>\n",
       "      <td>1900506</td>\n",
       "    </tr>\n",
       "    <tr>\n",
       "      <th>...</th>\n",
       "      <td>...</td>\n",
       "      <td>...</td>\n",
       "      <td>...</td>\n",
       "      <td>...</td>\n",
       "      <td>...</td>\n",
       "    </tr>\n",
       "    <tr>\n",
       "      <th>2023-08-01</th>\n",
       "      <td>93.800003</td>\n",
       "      <td>94.750000</td>\n",
       "      <td>93.300003</td>\n",
       "      <td>94.000000</td>\n",
       "      <td>16132927</td>\n",
       "    </tr>\n",
       "    <tr>\n",
       "      <th>2023-08-02</th>\n",
       "      <td>94.400002</td>\n",
       "      <td>94.650002</td>\n",
       "      <td>93.000000</td>\n",
       "      <td>93.849998</td>\n",
       "      <td>16780965</td>\n",
       "    </tr>\n",
       "    <tr>\n",
       "      <th>2023-08-03</th>\n",
       "      <td>93.900002</td>\n",
       "      <td>94.199997</td>\n",
       "      <td>93.150002</td>\n",
       "      <td>93.500000</td>\n",
       "      <td>8703991</td>\n",
       "    </tr>\n",
       "    <tr>\n",
       "      <th>2023-08-04</th>\n",
       "      <td>93.550003</td>\n",
       "      <td>93.900002</td>\n",
       "      <td>92.050003</td>\n",
       "      <td>92.300003</td>\n",
       "      <td>10743670</td>\n",
       "    </tr>\n",
       "    <tr>\n",
       "      <th>2023-08-07</th>\n",
       "      <td>92.449997</td>\n",
       "      <td>93.000000</td>\n",
       "      <td>92.000000</td>\n",
       "      <td>92.849998</td>\n",
       "      <td>6944776</td>\n",
       "    </tr>\n",
       "  </tbody>\n",
       "</table>\n",
       "<p>3315 rows × 5 columns</p>\n",
       "</div>"
      ],
      "text/plain": [
       "                 Open       High        Low      Close    Volume\n",
       "Date                                                            \n",
       "2010-03-08  26.707159  26.767476  26.375420  26.508978   3420936\n",
       "2010-03-09  26.590840  26.668389  26.207400  26.315109   2820648\n",
       "2010-03-10  26.160012  26.444362  26.069539  26.349579   2508072\n",
       "2010-03-11  26.452974  26.625308  25.983369  26.220327   3387942\n",
       "2010-03-12  26.280642  26.323725  26.030761  26.172935   1900506\n",
       "...               ...        ...        ...        ...       ...\n",
       "2023-08-01  93.800003  94.750000  93.300003  94.000000  16132927\n",
       "2023-08-02  94.400002  94.650002  93.000000  93.849998  16780965\n",
       "2023-08-03  93.900002  94.199997  93.150002  93.500000   8703991\n",
       "2023-08-04  93.550003  93.900002  92.050003  92.300003  10743670\n",
       "2023-08-07  92.449997  93.000000  92.000000  92.849998   6944776\n",
       "\n",
       "[3315 rows x 5 columns]"
      ]
     },
     "execution_count": 1,
     "metadata": {},
     "output_type": "execute_result"
    }
   ],
   "source": [
    "import yfinance\n",
    "start_date = \"2017-01-01\"\n",
    "end_date = \"2022-06-01\"\n",
    "symbol = \"IOC.NS\"\n",
    "\n",
    "df = yfinance.download(tickers = symbol,start=\"2010-03-06\",\n",
    "                               interval = \"1d\", group_by = 'ticker', auto_adjust = True)\n",
    "df"
   ]
  },
  {
   "cell_type": "code",
   "execution_count": 2,
   "metadata": {},
   "outputs": [],
   "source": [
    "import pandas as pd"
   ]
  },
  {
   "cell_type": "code",
   "execution_count": 3,
   "metadata": {},
   "outputs": [
    {
     "data": {
      "text/html": [
       "<div>\n",
       "<style scoped>\n",
       "    .dataframe tbody tr th:only-of-type {\n",
       "        vertical-align: middle;\n",
       "    }\n",
       "\n",
       "    .dataframe tbody tr th {\n",
       "        vertical-align: top;\n",
       "    }\n",
       "\n",
       "    .dataframe thead th {\n",
       "        text-align: right;\n",
       "    }\n",
       "</style>\n",
       "<table border=\"1\" class=\"dataframe\">\n",
       "  <thead>\n",
       "    <tr style=\"text-align: right;\">\n",
       "      <th></th>\n",
       "      <th>Open</th>\n",
       "      <th>High</th>\n",
       "      <th>Low</th>\n",
       "      <th>Close</th>\n",
       "      <th>Volume</th>\n",
       "    </tr>\n",
       "    <tr>\n",
       "      <th>Date</th>\n",
       "      <th></th>\n",
       "      <th></th>\n",
       "      <th></th>\n",
       "      <th></th>\n",
       "      <th></th>\n",
       "    </tr>\n",
       "  </thead>\n",
       "  <tbody>\n",
       "    <tr>\n",
       "      <th>2010-03-08</th>\n",
       "      <td>26.707159</td>\n",
       "      <td>26.767476</td>\n",
       "      <td>26.375420</td>\n",
       "      <td>26.508978</td>\n",
       "      <td>3420936</td>\n",
       "    </tr>\n",
       "    <tr>\n",
       "      <th>2010-03-09</th>\n",
       "      <td>26.590840</td>\n",
       "      <td>26.668389</td>\n",
       "      <td>26.207400</td>\n",
       "      <td>26.315109</td>\n",
       "      <td>2820648</td>\n",
       "    </tr>\n",
       "    <tr>\n",
       "      <th>2010-03-10</th>\n",
       "      <td>26.160012</td>\n",
       "      <td>26.444362</td>\n",
       "      <td>26.069539</td>\n",
       "      <td>26.349579</td>\n",
       "      <td>2508072</td>\n",
       "    </tr>\n",
       "    <tr>\n",
       "      <th>2010-03-11</th>\n",
       "      <td>26.452974</td>\n",
       "      <td>26.625308</td>\n",
       "      <td>25.983369</td>\n",
       "      <td>26.220327</td>\n",
       "      <td>3387942</td>\n",
       "    </tr>\n",
       "    <tr>\n",
       "      <th>2010-03-12</th>\n",
       "      <td>26.280642</td>\n",
       "      <td>26.323725</td>\n",
       "      <td>26.030761</td>\n",
       "      <td>26.172935</td>\n",
       "      <td>1900506</td>\n",
       "    </tr>\n",
       "  </tbody>\n",
       "</table>\n",
       "</div>"
      ],
      "text/plain": [
       "                 Open       High        Low      Close   Volume\n",
       "Date                                                           \n",
       "2010-03-08  26.707159  26.767476  26.375420  26.508978  3420936\n",
       "2010-03-09  26.590840  26.668389  26.207400  26.315109  2820648\n",
       "2010-03-10  26.160012  26.444362  26.069539  26.349579  2508072\n",
       "2010-03-11  26.452974  26.625308  25.983369  26.220327  3387942\n",
       "2010-03-12  26.280642  26.323725  26.030761  26.172935  1900506"
      ]
     },
     "execution_count": 3,
     "metadata": {},
     "output_type": "execute_result"
    }
   ],
   "source": [
    "df.head()"
   ]
  },
  {
   "cell_type": "code",
   "execution_count": 4,
   "metadata": {},
   "outputs": [
    {
     "data": {
      "text/html": [
       "<div>\n",
       "<style scoped>\n",
       "    .dataframe tbody tr th:only-of-type {\n",
       "        vertical-align: middle;\n",
       "    }\n",
       "\n",
       "    .dataframe tbody tr th {\n",
       "        vertical-align: top;\n",
       "    }\n",
       "\n",
       "    .dataframe thead th {\n",
       "        text-align: right;\n",
       "    }\n",
       "</style>\n",
       "<table border=\"1\" class=\"dataframe\">\n",
       "  <thead>\n",
       "    <tr style=\"text-align: right;\">\n",
       "      <th></th>\n",
       "      <th>Open</th>\n",
       "      <th>High</th>\n",
       "      <th>Low</th>\n",
       "      <th>Close</th>\n",
       "      <th>Volume</th>\n",
       "    </tr>\n",
       "    <tr>\n",
       "      <th>Date</th>\n",
       "      <th></th>\n",
       "      <th></th>\n",
       "      <th></th>\n",
       "      <th></th>\n",
       "      <th></th>\n",
       "    </tr>\n",
       "  </thead>\n",
       "  <tbody>\n",
       "    <tr>\n",
       "      <th>2023-08-01</th>\n",
       "      <td>93.800003</td>\n",
       "      <td>94.750000</td>\n",
       "      <td>93.300003</td>\n",
       "      <td>94.000000</td>\n",
       "      <td>16132927</td>\n",
       "    </tr>\n",
       "    <tr>\n",
       "      <th>2023-08-02</th>\n",
       "      <td>94.400002</td>\n",
       "      <td>94.650002</td>\n",
       "      <td>93.000000</td>\n",
       "      <td>93.849998</td>\n",
       "      <td>16780965</td>\n",
       "    </tr>\n",
       "    <tr>\n",
       "      <th>2023-08-03</th>\n",
       "      <td>93.900002</td>\n",
       "      <td>94.199997</td>\n",
       "      <td>93.150002</td>\n",
       "      <td>93.500000</td>\n",
       "      <td>8703991</td>\n",
       "    </tr>\n",
       "    <tr>\n",
       "      <th>2023-08-04</th>\n",
       "      <td>93.550003</td>\n",
       "      <td>93.900002</td>\n",
       "      <td>92.050003</td>\n",
       "      <td>92.300003</td>\n",
       "      <td>10743670</td>\n",
       "    </tr>\n",
       "    <tr>\n",
       "      <th>2023-08-07</th>\n",
       "      <td>92.449997</td>\n",
       "      <td>93.000000</td>\n",
       "      <td>92.000000</td>\n",
       "      <td>92.849998</td>\n",
       "      <td>6944776</td>\n",
       "    </tr>\n",
       "  </tbody>\n",
       "</table>\n",
       "</div>"
      ],
      "text/plain": [
       "                 Open       High        Low      Close    Volume\n",
       "Date                                                            \n",
       "2023-08-01  93.800003  94.750000  93.300003  94.000000  16132927\n",
       "2023-08-02  94.400002  94.650002  93.000000  93.849998  16780965\n",
       "2023-08-03  93.900002  94.199997  93.150002  93.500000   8703991\n",
       "2023-08-04  93.550003  93.900002  92.050003  92.300003  10743670\n",
       "2023-08-07  92.449997  93.000000  92.000000  92.849998   6944776"
      ]
     },
     "execution_count": 4,
     "metadata": {},
     "output_type": "execute_result"
    }
   ],
   "source": [
    "df.tail()"
   ]
  },
  {
   "cell_type": "code",
   "execution_count": 5,
   "metadata": {},
   "outputs": [],
   "source": [
    "df1=df.reset_index()['Close']"
   ]
  },
  {
   "cell_type": "code",
   "execution_count": 6,
   "metadata": {},
   "outputs": [
    {
     "data": {
      "text/plain": [
       "0       26.508978\n",
       "1       26.315109\n",
       "2       26.349579\n",
       "3       26.220327\n",
       "4       26.172935\n",
       "          ...    \n",
       "3310    94.000000\n",
       "3311    93.849998\n",
       "3312    93.500000\n",
       "3313    92.300003\n",
       "3314    92.849998\n",
       "Name: Close, Length: 3315, dtype: float64"
      ]
     },
     "execution_count": 6,
     "metadata": {},
     "output_type": "execute_result"
    }
   ],
   "source": [
    "df1"
   ]
  },
  {
   "cell_type": "code",
   "execution_count": 7,
   "metadata": {},
   "outputs": [
    {
     "data": {
      "text/plain": [
       "[<matplotlib.lines.Line2D at 0x7f87e8ce7d30>]"
      ]
     },
     "execution_count": 7,
     "metadata": {},
     "output_type": "execute_result"
    },
    {
     "data": {
      "image/png": "[encoded data removed]",
      "text/plain": [
       "<Figure size 640x480 with 1 Axes>"
      ]
     },
     "metadata": {},
     "output_type": "display_data"
    }
   ],
   "source": [
    "import matplotlib.pyplot as plt\n",
    "plt.plot(df1)"
   ]
  },
  {
   "cell_type": "code",
   "execution_count": 291,
   "metadata": {},
   "outputs": [],
   "source": [
    "### LSTM are sensitive to the scale of the data. so we apply MinMax scaler "
   ]
  },
  {
   "cell_type": "code",
   "execution_count": 9,
   "metadata": {},
   "outputs": [],
   "source": [
    "import numpy as np"
   ]
  },
  {
   "cell_type": "code",
   "execution_count": 10,
   "metadata": {},
   "outputs": [
    {
     "data": {
      "text/plain": [
       "0       26.508978\n",
       "1       26.315109\n",
       "2       26.349579\n",
       "3       26.220327\n",
       "4       26.172935\n",
       "          ...    \n",
       "3310    94.000000\n",
       "3311    93.849998\n",
       "3312    93.500000\n",
       "3313    92.300003\n",
       "3314    92.849998\n",
       "Name: Close, Length: 3315, dtype: float64"
      ]
     },
     "execution_count": 10,
     "metadata": {},
     "output_type": "execute_result"
    }
   ],
   "source": [
    "df1"
   ]
  },
  {
   "cell_type": "code",
   "execution_count": 11,
   "metadata": {},
   "outputs": [],
   "source": [
    "from sklearn.preprocessing import MinMaxScaler\n",
    "scaler=MinMaxScaler(feature_range=(0,1))\n",
    "df1=scaler.fit_transform(np.array(df1).reshape(-1,1))"
   ]
  },
  {
   "cell_type": "code",
   "execution_count": 12,
   "metadata": {},
   "outputs": [
    {
     "name": "stdout",
     "output_type": "stream",
     "text": [
      "[[0.10480766]\n",
      " [0.10240899]\n",
      " [0.10283547]\n",
      " ...\n",
      " [0.93366488]\n",
      " [0.91881772]\n",
      " [0.92562263]]\n"
     ]
    }
   ],
   "source": [
    "print(df1)"
   ]
  },
  {
   "cell_type": "code",
   "execution_count": 13,
   "metadata": {},
   "outputs": [],
   "source": [
    "##splitting dataset into train and test split\n",
    "training_size=int(len(df1)*0.65)\n",
    "test_size=len(df1)-training_size\n",
    "train_data,test_data=df1[0:training_size,:],df1[training_size:len(df1),:1]"
   ]
  },
  {
   "cell_type": "code",
   "execution_count": 14,
   "metadata": {},
   "outputs": [
    {
     "data": {
      "text/plain": [
       "(2154, 1161)"
      ]
     },
     "execution_count": 14,
     "metadata": {},
     "output_type": "execute_result"
    }
   ],
   "source": [
    "training_size,test_size"
   ]
  },
  {
   "cell_type": "code",
   "execution_count": 15,
   "metadata": {},
   "outputs": [
    {
     "data": {
      "text/plain": [
       "array([[0.10480766],\n",
       "       [0.10240899],\n",
       "       [0.10283547],\n",
       "       ...,\n",
       "       [0.56717123],\n",
       "       [0.55973935],\n",
       "       [0.56831451]])"
      ]
     },
     "execution_count": 15,
     "metadata": {},
     "output_type": "execute_result"
    }
   ],
   "source": [
    "train_data"
   ]
  },
  {
   "cell_type": "code",
   "execution_count": 16,
   "metadata": {},
   "outputs": [],
   "source": [
    "import numpy\n",
    "# convert an array of values into a dataset matrix\n",
    "def create_dataset(dataset, time_step=1):\n",
    "    dataX, dataY = [], []\n",
    "    for i in range(len(dataset)-time_step-1):\n",
    "        a = dataset[i:(i+time_step), 0]   ###i=0, 0,1,2,3-----99   100 \n",
    "        dataX.append(a)\n",
    "        dataY.append(dataset[i + time_step, 0])\n",
    "    return numpy.array(dataX), numpy.array(dataY)"
   ]
  },
  {
   "cell_type": "code",
   "execution_count": 17,
   "metadata": {},
   "outputs": [],
   "source": [
    "# reshape into X=t,t+1,t+2,t+3 and Y=t+4\n",
    "time_step = 100\n",
    "X_train, y_train = create_dataset(train_data, time_step)\n",
    "X_test, ytest = create_dataset(test_data, time_step)"
   ]
  },
  {
   "cell_type": "code",
   "execution_count": 18,
   "metadata": {},
   "outputs": [
    {
     "name": "stdout",
     "output_type": "stream",
     "text": [
      "(2053, 100)\n",
      "(1060,)\n"
     ]
    },
    {
     "data": {
      "text/plain": [
       "(None, None)"
      ]
     },
     "execution_count": 18,
     "metadata": {},
     "output_type": "execute_result"
    }
   ],
   "source": [
    "print(X_train.shape), print(ytest.shape)"
   ]
  },
  {
   "cell_type": "code",
   "execution_count": 19,
   "metadata": {},
   "outputs": [
    {
     "name": "stdout",
     "output_type": "stream",
     "text": [
      "(1060, 100)\n",
      "(1060,)\n"
     ]
    },
    {
     "data": {
      "text/plain": [
       "(None, None)"
      ]
     },
     "execution_count": 19,
     "metadata": {},
     "output_type": "execute_result"
    }
   ],
   "source": [
    "print(X_test.shape), print(ytest.shape)"
   ]
  },
  {
   "cell_type": "code",
   "execution_count": 20,
   "metadata": {},
   "outputs": [],
   "source": [
    "# reshape input to be [samples, time steps, features] which is required for LSTM\n",
    "X_train =X_train.reshape(X_train.shape[0],X_train.shape[1] , 1)\n",
    "X_test = X_test.reshape(X_test.shape[0],X_test.shape[1] , 1)"
   ]
  },
  {
   "cell_type": "code",
   "execution_count": 21,
   "metadata": {},
   "outputs": [
    {
     "name": "stderr",
     "output_type": "stream",
     "text": [
      "2023-08-07 17:00:30.424301: I tensorflow/core/platform/cpu_feature_guard.cc:182] This TensorFlow binary is optimized to use available CPU instructions in performance-critical operations.\n",
      "To enable the following instructions: AVX2 FMA, in other operations, rebuild TensorFlow with the appropriate compiler flags.\n"
     ]
    }
   ],
   "source": [
    "### Create the Stacked LSTM model\n",
    "from tensorflow.keras.models import Sequential\n",
    "from tensorflow.keras.layers import Dense\n",
    "from tensorflow.keras.layers import LSTM"
   ]
  },
  {
   "cell_type": "code",
   "execution_count": 34,
   "metadata": {},
   "outputs": [],
   "source": [
    "model=Sequential()\n",
    "model.add(LSTM(50,return_sequences=True,input_shape=(100,1)))\n",
    "model.add(LSTM(50,return_sequences=True))\n",
    "model.add(LSTM(50))\n",
    "model.add(Dense(1))\n",
    "model.compile(loss='mean_squared_error',optimizer='adam')\n"
   ]
  },
  {
   "cell_type": "code",
   "execution_count": 23,
   "metadata": {},
   "outputs": [
    {
     "name": "stdout",
     "output_type": "stream",
     "text": [
      "Model: \"sequential\"\n",
      "_________________________________________________________________\n",
      " Layer (type)                Output Shape              Param #   \n",
      "=================================================================\n",
      " lstm (LSTM)                 (None, 100, 50)           10400     \n",
      "                                                                 \n",
      " lstm_1 (LSTM)               (None, 100, 50)           20200     \n",
      "                                                                 \n",
      " lstm_2 (LSTM)               (None, 50)                20200     \n",
      "                                                                 \n",
      " dense (Dense)               (None, 1)                 51        \n",
      "                                                                 \n",
      "=================================================================\n",
      "Total params: 50851 (198.64 KB)\n",
      "Trainable params: 50851 (198.64 KB)\n",
      "Non-trainable params: 0 (0.00 Byte)\n",
      "_________________________________________________________________\n"
     ]
    }
   ],
   "source": [
    "model.summary()"
   ]
  },
  {
   "cell_type": "code",
   "execution_count": 24,
   "metadata": {},
   "outputs": [
    {
     "name": "stdout",
     "output_type": "stream",
     "text": [
      "Model: \"sequential\"\n",
      "_________________________________________________________________\n",
      " Layer (type)                Output Shape              Param #   \n",
      "=================================================================\n",
      " lstm (LSTM)                 (None, 100, 50)           10400     \n",
      "                                                                 \n",
      " lstm_1 (LSTM)               (None, 100, 50)           20200     \n",
      "                                                                 \n",
      " lstm_2 (LSTM)               (None, 50)                20200     \n",
      "                                                                 \n",
      " dense (Dense)               (None, 1)                 51        \n",
      "                                                                 \n",
      "=================================================================\n",
      "Total params: 50851 (198.64 KB)\n",
      "Trainable params: 50851 (198.64 KB)\n",
      "Non-trainable params: 0 (0.00 Byte)\n",
      "_________________________________________________________________\n"
     ]
    }
   ],
   "source": [
    "model.summary()"
   ]
  },
  {
   "cell_type": "code",
   "execution_count": null,
   "metadata": {},
   "outputs": [],
   "source": []
  },
  {
   "cell_type": "code",
   "execution_count": 25,
   "metadata": {},
   "outputs": [
    {
     "name": "stdout",
     "output_type": "stream",
     "text": [
      "Epoch 1/100\n",
      "33/33 [==============================] - 15s 235ms/step - loss: 0.0273 - val_loss: 0.0054\n",
      "Epoch 2/100\n",
      "33/33 [==============================] - 6s 193ms/step - loss: 0.0014 - val_loss: 0.0018\n",
      "Epoch 3/100\n",
      "33/33 [==============================] - 6s 194ms/step - loss: 0.0010 - val_loss: 0.0018\n",
      "Epoch 4/100\n",
      "33/33 [==============================] - 6s 190ms/step - loss: 9.7460e-04 - val_loss: 0.0017\n",
      "Epoch 5/100\n",
      "33/33 [==============================] - 6s 193ms/step - loss: 9.6714e-04 - val_loss: 0.0016\n",
      "Epoch 6/100\n",
      "33/33 [==============================] - 7s 206ms/step - loss: 9.9845e-04 - val_loss: 0.0015\n",
      "Epoch 7/100\n",
      "33/33 [==============================] - 7s 209ms/step - loss: 8.8017e-04 - val_loss: 0.0019\n",
      "Epoch 8/100\n",
      "33/33 [==============================] - 6s 194ms/step - loss: 9.1777e-04 - val_loss: 0.0014\n",
      "Epoch 9/100\n",
      "33/33 [==============================] - 6s 194ms/step - loss: 8.4911e-04 - val_loss: 0.0015\n",
      "Epoch 10/100\n",
      "33/33 [==============================] - 7s 207ms/step - loss: 8.2905e-04 - val_loss: 0.0013\n",
      "Epoch 11/100\n",
      "33/33 [==============================] - 7s 226ms/step - loss: 8.8580e-04 - val_loss: 0.0013\n",
      "Epoch 12/100\n",
      "33/33 [==============================] - 9s 275ms/step - loss: 7.5370e-04 - val_loss: 0.0018\n",
      "Epoch 13/100\n",
      "33/33 [==============================] - 9s 272ms/step - loss: 8.6479e-04 - val_loss: 0.0014\n",
      "Epoch 14/100\n",
      "33/33 [==============================] - 9s 282ms/step - loss: 6.9348e-04 - val_loss: 0.0011\n",
      "Epoch 15/100\n",
      "33/33 [==============================] - 10s 291ms/step - loss: 6.6021e-04 - val_loss: 9.8794e-04\n",
      "Epoch 16/100\n",
      "33/33 [==============================] - 7s 224ms/step - loss: 6.2979e-04 - val_loss: 9.0847e-04\n",
      "Epoch 17/100\n",
      "33/33 [==============================] - 7s 212ms/step - loss: 6.7461e-04 - val_loss: 0.0010\n",
      "Epoch 18/100\n",
      "33/33 [==============================] - 8s 228ms/step - loss: 6.8733e-04 - val_loss: 0.0017\n",
      "Epoch 19/100\n",
      "33/33 [==============================] - 8s 232ms/step - loss: 6.4129e-04 - val_loss: 0.0011\n",
      "Epoch 20/100\n",
      "33/33 [==============================] - 7s 205ms/step - loss: 6.3565e-04 - val_loss: 7.8675e-04\n",
      "Epoch 21/100\n",
      "33/33 [==============================] - 7s 221ms/step - loss: 6.2220e-04 - val_loss: 0.0010\n",
      "Epoch 22/100\n",
      "33/33 [==============================] - 8s 234ms/step - loss: 5.4683e-04 - val_loss: 0.0019\n",
      "Epoch 23/100\n",
      "33/33 [==============================] - 7s 213ms/step - loss: 7.2991e-04 - val_loss: 7.4235e-04\n",
      "Epoch 24/100\n",
      "33/33 [==============================] - 7s 220ms/step - loss: 4.8806e-04 - val_loss: 6.8068e-04\n",
      "Epoch 25/100\n",
      "33/33 [==============================] - 8s 245ms/step - loss: 4.7243e-04 - val_loss: 7.9093e-04\n",
      "Epoch 26/100\n",
      "33/33 [==============================] - 8s 244ms/step - loss: 5.0231e-04 - val_loss: 7.2116e-04\n",
      "Epoch 27/100\n",
      "33/33 [==============================] - 8s 246ms/step - loss: 4.4812e-04 - val_loss: 7.7332e-04\n",
      "Epoch 28/100\n",
      "33/33 [==============================] - 8s 236ms/step - loss: 4.4899e-04 - val_loss: 7.6001e-04\n",
      "Epoch 29/100\n",
      "33/33 [==============================] - 8s 255ms/step - loss: 4.0059e-04 - val_loss: 6.6222e-04\n",
      "Epoch 30/100\n",
      "33/33 [==============================] - 8s 247ms/step - loss: 3.8536e-04 - val_loss: 6.4056e-04\n",
      "Epoch 31/100\n",
      "33/33 [==============================] - 7s 223ms/step - loss: 4.5422e-04 - val_loss: 5.0114e-04\n",
      "Epoch 32/100\n",
      "33/33 [==============================] - 8s 237ms/step - loss: 4.5507e-04 - val_loss: 5.7984e-04\n",
      "Epoch 33/100\n",
      "33/33 [==============================] - 8s 233ms/step - loss: 3.9980e-04 - val_loss: 4.5901e-04\n",
      "Epoch 34/100\n",
      "33/33 [==============================] - 8s 253ms/step - loss: 3.4470e-04 - val_loss: 0.0025\n",
      "Epoch 35/100\n",
      "33/33 [==============================] - 7s 228ms/step - loss: 5.3868e-04 - val_loss: 4.5608e-04\n",
      "Epoch 36/100\n",
      "33/33 [==============================] - 8s 239ms/step - loss: 3.3450e-04 - val_loss: 4.2529e-04\n",
      "Epoch 37/100\n",
      "33/33 [==============================] - 8s 239ms/step - loss: 3.3693e-04 - val_loss: 4.7711e-04\n",
      "Epoch 38/100\n",
      "33/33 [==============================] - 7s 227ms/step - loss: 3.2139e-04 - val_loss: 6.6939e-04\n",
      "Epoch 39/100\n",
      "33/33 [==============================] - 8s 243ms/step - loss: 4.1277e-04 - val_loss: 3.8860e-04\n",
      "Epoch 40/100\n",
      "33/33 [==============================] - 8s 242ms/step - loss: 3.1042e-04 - val_loss: 6.6420e-04\n",
      "Epoch 41/100\n",
      "33/33 [==============================] - 7s 222ms/step - loss: 3.2752e-04 - val_loss: 0.0011\n",
      "Epoch 42/100\n",
      "33/33 [==============================] - 7s 220ms/step - loss: 4.7327e-04 - val_loss: 4.5314e-04\n",
      "Epoch 43/100\n",
      "33/33 [==============================] - 8s 243ms/step - loss: 3.0898e-04 - val_loss: 4.2538e-04\n",
      "Epoch 44/100\n",
      "33/33 [==============================] - 8s 256ms/step - loss: 3.7944e-04 - val_loss: 7.4458e-04\n",
      "Epoch 45/100\n",
      "33/33 [==============================] - 7s 220ms/step - loss: 3.5532e-04 - val_loss: 5.1073e-04\n",
      "Epoch 46/100\n",
      "33/33 [==============================] - 7s 221ms/step - loss: 3.0608e-04 - val_loss: 3.2744e-04\n",
      "Epoch 47/100\n",
      "33/33 [==============================] - 8s 238ms/step - loss: 2.7782e-04 - val_loss: 4.3503e-04\n",
      "Epoch 48/100\n",
      "33/33 [==============================] - 7s 219ms/step - loss: 3.4314e-04 - val_loss: 3.2370e-04\n",
      "Epoch 49/100\n",
      "33/33 [==============================] - 7s 218ms/step - loss: 2.9022e-04 - val_loss: 3.1623e-04\n",
      "Epoch 50/100\n",
      "33/33 [==============================] - 7s 211ms/step - loss: 2.8779e-04 - val_loss: 3.0152e-04\n",
      "Epoch 51/100\n",
      "33/33 [==============================] - 8s 232ms/step - loss: 2.8137e-04 - val_loss: 3.0910e-04\n",
      "Epoch 52/100\n",
      "33/33 [==============================] - 7s 212ms/step - loss: 2.5241e-04 - val_loss: 2.8936e-04\n",
      "Epoch 53/100\n",
      "33/33 [==============================] - 8s 240ms/step - loss: 3.0816e-04 - val_loss: 0.0011\n",
      "Epoch 54/100\n",
      "33/33 [==============================] - 8s 233ms/step - loss: 2.9582e-04 - val_loss: 2.8786e-04\n",
      "Epoch 55/100\n",
      "33/33 [==============================] - 7s 217ms/step - loss: 2.6592e-04 - val_loss: 4.4087e-04\n",
      "Epoch 56/100\n",
      "33/33 [==============================] - 7s 209ms/step - loss: 2.5760e-04 - val_loss: 2.8982e-04\n",
      "Epoch 57/100\n",
      "33/33 [==============================] - 7s 207ms/step - loss: 2.4061e-04 - val_loss: 2.8517e-04\n",
      "Epoch 58/100\n",
      "33/33 [==============================] - 8s 229ms/step - loss: 2.6502e-04 - val_loss: 3.4463e-04\n",
      "Epoch 59/100\n",
      "33/33 [==============================] - 7s 213ms/step - loss: 2.6921e-04 - val_loss: 4.0180e-04\n",
      "Epoch 60/100\n",
      "33/33 [==============================] - 7s 224ms/step - loss: 2.5089e-04 - val_loss: 2.6552e-04\n",
      "Epoch 61/100\n",
      "33/33 [==============================] - 7s 211ms/step - loss: 2.2589e-04 - val_loss: 3.0268e-04\n",
      "Epoch 62/100\n",
      "33/33 [==============================] - 7s 211ms/step - loss: 2.3308e-04 - val_loss: 5.4696e-04\n",
      "Epoch 63/100\n",
      "33/33 [==============================] - 7s 216ms/step - loss: 2.6601e-04 - val_loss: 3.8344e-04\n",
      "Epoch 64/100\n",
      "33/33 [==============================] - 7s 224ms/step - loss: 2.2623e-04 - val_loss: 2.5312e-04\n",
      "Epoch 65/100\n",
      "33/33 [==============================] - 7s 205ms/step - loss: 2.7307e-04 - val_loss: 7.8374e-04\n",
      "Epoch 66/100\n",
      "33/33 [==============================] - 7s 217ms/step - loss: 2.5751e-04 - val_loss: 2.7412e-04\n",
      "Epoch 67/100\n",
      "33/33 [==============================] - 8s 244ms/step - loss: 2.2728e-04 - val_loss: 4.7433e-04\n",
      "Epoch 68/100\n",
      "33/33 [==============================] - 7s 226ms/step - loss: 2.3028e-04 - val_loss: 2.5011e-04\n",
      "Epoch 69/100\n",
      "33/33 [==============================] - 7s 199ms/step - loss: 2.2289e-04 - val_loss: 2.8488e-04\n",
      "Epoch 70/100\n",
      "33/33 [==============================] - 6s 197ms/step - loss: 2.0656e-04 - val_loss: 3.4261e-04\n",
      "Epoch 71/100\n",
      "33/33 [==============================] - 7s 221ms/step - loss: 2.0346e-04 - val_loss: 2.6745e-04\n",
      "Epoch 72/100\n",
      "33/33 [==============================] - 7s 201ms/step - loss: 1.9825e-04 - val_loss: 2.6061e-04\n",
      "Epoch 73/100\n",
      "33/33 [==============================] - 6s 197ms/step - loss: 1.9676e-04 - val_loss: 2.3518e-04\n",
      "Epoch 74/100\n",
      "33/33 [==============================] - 7s 213ms/step - loss: 2.2247e-04 - val_loss: 3.3807e-04\n",
      "Epoch 75/100\n",
      "33/33 [==============================] - 7s 198ms/step - loss: 2.1072e-04 - val_loss: 2.2019e-04\n",
      "Epoch 76/100\n"
     ]
    },
    {
     "name": "stdout",
     "output_type": "stream",
     "text": [
      "33/33 [==============================] - 7s 208ms/step - loss: 1.9576e-04 - val_loss: 2.7022e-04\n",
      "Epoch 77/100\n",
      "33/33 [==============================] - 6s 196ms/step - loss: 1.8754e-04 - val_loss: 2.4272e-04\n",
      "Epoch 78/100\n",
      "33/33 [==============================] - 6s 197ms/step - loss: 1.9247e-04 - val_loss: 4.9274e-04\n",
      "Epoch 79/100\n",
      "33/33 [==============================] - 7s 215ms/step - loss: 1.9977e-04 - val_loss: 2.1096e-04\n",
      "Epoch 80/100\n",
      "33/33 [==============================] - 7s 209ms/step - loss: 1.9150e-04 - val_loss: 2.1195e-04\n",
      "Epoch 81/100\n",
      "33/33 [==============================] - 6s 193ms/step - loss: 1.8930e-04 - val_loss: 5.2760e-04\n",
      "Epoch 82/100\n",
      "33/33 [==============================] - 6s 194ms/step - loss: 2.3586e-04 - val_loss: 2.2384e-04\n",
      "Epoch 83/100\n",
      "33/33 [==============================] - 7s 211ms/step - loss: 1.7343e-04 - val_loss: 3.4999e-04\n",
      "Epoch 84/100\n",
      "33/33 [==============================] - 7s 205ms/step - loss: 2.1941e-04 - val_loss: 2.0603e-04\n",
      "Epoch 85/100\n",
      "33/33 [==============================] - 7s 222ms/step - loss: 1.8527e-04 - val_loss: 4.9983e-04\n",
      "Epoch 86/100\n",
      "33/33 [==============================] - 7s 210ms/step - loss: 2.1960e-04 - val_loss: 3.1337e-04\n",
      "Epoch 87/100\n",
      "33/33 [==============================] - 7s 202ms/step - loss: 2.2153e-04 - val_loss: 6.1193e-04\n",
      "Epoch 88/100\n",
      "33/33 [==============================] - 7s 216ms/step - loss: 2.0744e-04 - val_loss: 2.2621e-04\n",
      "Epoch 89/100\n",
      "33/33 [==============================] - 7s 204ms/step - loss: 1.7916e-04 - val_loss: 2.1392e-04\n",
      "Epoch 90/100\n",
      "33/33 [==============================] - 7s 208ms/step - loss: 1.7641e-04 - val_loss: 9.1408e-04\n",
      "Epoch 91/100\n",
      "33/33 [==============================] - 7s 215ms/step - loss: 2.0921e-04 - val_loss: 2.6528e-04\n",
      "Epoch 92/100\n",
      "33/33 [==============================] - 7s 218ms/step - loss: 1.7848e-04 - val_loss: 2.7158e-04\n",
      "Epoch 93/100\n",
      "33/33 [==============================] - 7s 204ms/step - loss: 2.0414e-04 - val_loss: 0.0010\n",
      "Epoch 94/100\n",
      "33/33 [==============================] - 7s 198ms/step - loss: 2.8954e-04 - val_loss: 2.0555e-04\n",
      "Epoch 95/100\n",
      "33/33 [==============================] - 7s 221ms/step - loss: 1.6653e-04 - val_loss: 3.2696e-04\n",
      "Epoch 96/100\n",
      "33/33 [==============================] - 7s 202ms/step - loss: 1.9248e-04 - val_loss: 5.2573e-04\n",
      "Epoch 97/100\n",
      "33/33 [==============================] - 7s 209ms/step - loss: 2.4677e-04 - val_loss: 6.5566e-04\n",
      "Epoch 98/100\n",
      "33/33 [==============================] - 7s 206ms/step - loss: 2.0688e-04 - val_loss: 2.3467e-04\n",
      "Epoch 99/100\n",
      "33/33 [==============================] - 7s 199ms/step - loss: 1.7352e-04 - val_loss: 2.1183e-04\n",
      "Epoch 100/100\n",
      "33/33 [==============================] - 7s 216ms/step - loss: 1.8118e-04 - val_loss: 3.1072e-04\n"
     ]
    },
    {
     "data": {
      "text/plain": [
       "<keras.src.callbacks.History at 0x7f87d33260d0>"
      ]
     },
     "execution_count": 25,
     "metadata": {},
     "output_type": "execute_result"
    }
   ],
   "source": [
    "model.fit(X_train,y_train,validation_data=(X_test,ytest),epochs=100,batch_size=64,verbose=1)"
   ]
  },
  {
   "cell_type": "code",
   "execution_count": 26,
   "metadata": {},
   "outputs": [],
   "source": [
    "import tensorflow as tf"
   ]
  },
  {
   "cell_type": "code",
   "execution_count": 24,
   "metadata": {},
   "outputs": [
    {
     "data": {
      "text/plain": [
       "'2.13.0'"
      ]
     },
     "execution_count": 24,
     "metadata": {},
     "output_type": "execute_result"
    }
   ],
   "source": [
    "tf.__version__"
   ]
  },
  {
   "cell_type": "code",
   "execution_count": 27,
   "metadata": {},
   "outputs": [
    {
     "name": "stdout",
     "output_type": "stream",
     "text": [
      "65/65 [==============================] - 4s 39ms/step\n",
      "34/34 [==============================] - 1s 40ms/step\n"
     ]
    }
   ],
   "source": [
    "### Lets Do the prediction and check performance metrics\n",
    "train_predict=model.predict(X_train)\n",
    "test_predict=model.predict(X_test)"
   ]
  },
  {
   "cell_type": "code",
   "execution_count": 44,
   "metadata": {},
   "outputs": [
    {
     "data": {
      "text/plain": [
       "array([[495296.25],\n",
       "       [495663.06],\n",
       "       [512321.5 ],\n",
       "       ...,\n",
       "       [624691.75],\n",
       "       [621754.7 ],\n",
       "       [619168.44]], dtype=float32)"
      ]
     },
     "execution_count": 44,
     "metadata": {},
     "output_type": "execute_result"
    }
   ],
   "source": [
    "test_predict"
   ]
  },
  {
   "cell_type": "code",
   "execution_count": 35,
   "metadata": {},
   "outputs": [],
   "source": [
    "##Transformback to original form\n",
    "train_predict = scaler.inverse_transform(train_predict)\n",
    "test_predict  = scaler.inverse_transform(test_predict)"
   ]
  },
  {
   "cell_type": "code",
   "execution_count": 43,
   "metadata": {},
   "outputs": [
    {
     "data": {
      "text/plain": [
       "array([[495296.25],\n",
       "       [495663.06],\n",
       "       [512321.5 ],\n",
       "       ...,\n",
       "       [624691.75],\n",
       "       [621754.7 ],\n",
       "       [619168.44]], dtype=float32)"
      ]
     },
     "execution_count": 43,
     "metadata": {},
     "output_type": "execute_result"
    }
   ],
   "source": [
    "test_predict"
   ]
  },
  {
   "cell_type": "code",
   "execution_count": 30,
   "metadata": {},
   "outputs": [
    {
     "data": {
      "text/plain": [
       "4039.9624692322936"
      ]
     },
     "execution_count": 30,
     "metadata": {},
     "output_type": "execute_result"
    }
   ],
   "source": [
    "### Calculate RMSE performance metrics\n",
    "import math\n",
    "from sklearn.metrics import mean_squared_error\n",
    "math.sqrt(mean_squared_error(y_train,train_predict))"
   ]
  },
  {
   "cell_type": "code",
   "execution_count": 31,
   "metadata": {},
   "outputs": [
    {
     "data": {
      "text/plain": [
       "5412.696124942508"
      ]
     },
     "execution_count": 31,
     "metadata": {},
     "output_type": "execute_result"
    }
   ],
   "source": [
    "### Test Data RMSE\n",
    "math.sqrt(mean_squared_error(ytest,test_predict))"
   ]
  },
  {
   "cell_type": "code",
   "execution_count": 37,
   "metadata": {},
   "outputs": [],
   "source": [
    "indexs = df.index"
   ]
  },
  {
   "cell_type": "code",
   "execution_count": 42,
   "metadata": {},
   "outputs": [
    {
     "name": "stderr",
     "output_type": "stream",
     "text": [
      "No artists with labels found to put in legend.  Note that artists whose label start with an underscore are ignored when legend() is called with no argument.\n"
     ]
    },
    {
     "data": {
      "image/png": "[encoded data removed]",
      "text/plain": [
       "<Figure size 1200x600 with 1 Axes>"
      ]
     },
     "metadata": {},
     "output_type": "display_data"
    }
   ],
   "source": [
    "# shift test predictions for plotting\n",
    "look_back =100\n",
    "testPredictPlot = numpy.empty_like(df1)\n",
    "testPredictPlot[:, :] = numpy.nan\n",
    "testPredictPlot[len(train_predict)+(look_back*2)+1:len(df1)-1, :] = test_predict\n",
    "\n",
    "test_df = pd.DataFrame({\"close\" :testPredictPlot[:,0] ,\"date\" : indexs })\n",
    "test_df['date'] = pd.to_datetime(test_df['date'])\n",
    "\n",
    "# Set the 'Date' column as the index\n",
    "test_df.set_index('date', inplace=True)\n",
    "#test_df.plot(figsize=(12, 6))\n",
    "\n",
    "\n",
    "plt.figure(figsize=(12, 6))  # Width: 8 inches, Height: 6 inches\n",
    "plt.plot(test_df)\n",
    "#plt.plot(trained_df)\n",
    "plt.plot(df[[\"Close\"]])\n",
    "\n",
    "\n",
    "plt.title('Market Prediction')\n",
    "\n",
    "plt.xlabel('Date')\n",
    "plt.ylabel('Value')\n",
    "plt.legend()  # Show legend with labels\n",
    "plt.show()"
   ]
  },
  {
   "cell_type": "code",
   "execution_count": 38,
   "metadata": {},
   "outputs": [
    {
     "data": {
      "text/plain": [
       "1160"
      ]
     },
     "execution_count": 38,
     "metadata": {},
     "output_type": "execute_result"
    }
   ],
   "source": [
    "len(test_data)"
   ]
  },
  {
   "cell_type": "code",
   "execution_count": 39,
   "metadata": {},
   "outputs": [
    {
     "data": {
      "text/plain": [
       "(1, 819)"
      ]
     },
     "execution_count": 39,
     "metadata": {},
     "output_type": "execute_result"
    }
   ],
   "source": [
    "x_input=test_data[341:].reshape(1,-1)\n",
    "x_input.shape\n"
   ]
  },
  {
   "cell_type": "code",
   "execution_count": null,
   "metadata": {},
   "outputs": [],
   "source": []
  },
  {
   "cell_type": "code",
   "execution_count": null,
   "metadata": {},
   "outputs": [],
   "source": []
  },
  {
   "cell_type": "code",
   "execution_count": 40,
   "metadata": {},
   "outputs": [],
   "source": [
    "temp_input=list(x_input)\n",
    "temp_input=temp_input[0].tolist()"
   ]
  },
  {
   "cell_type": "code",
   "execution_count": 41,
   "metadata": {},
   "outputs": [
    {
     "data": {
      "text/plain": [
       "[0.3082821188259639,\n",
       " 0.29804931771571685,\n",
       " 0.29804931771571685,\n",
       " 0.2862178272739647,\n",
       " 0.29165394681620493,\n",
       " 0.3153171164915528,\n",
       " 0.28685735964411985,\n",
       " 0.28014222255953036,\n",
       " 0.2663919934134302,\n",
       " 0.2612756872542284,\n",
       " 0.25232195088429155,\n",
       " 0.2587175105756471,\n",
       " 0.2558395205140273,\n",
       " 0.2628744709816553,\n",
       " 0.2574383042414542,\n",
       " 0.25967671473495796,\n",
       " 0.23441480853014413,\n",
       " 0.23761251757888052,\n",
       " 0.2507231199589038,\n",
       " 0.25296153045240755,\n",
       " 0.25967671473495796,\n",
       " 0.27022928203028257,\n",
       " 0.272787411510903,\n",
       " 0.27374671006613566,\n",
       " 0.3089216983940799,\n",
       " 0.3277882808973427,\n",
       " 0.3255498232058781,\n",
       " 0.33322435324162203,\n",
       " 0.3261894027739941,\n",
       " 0.34857341331311,\n",
       " 0.372236535790497,\n",
       " 0.35656775673189234,\n",
       " 0.35209088854692394,\n",
       " 0.3418582290305595,\n",
       " 0.3415384156475211,\n",
       " 0.32810804708242025,\n",
       " 0.3194741240955219,\n",
       " 0.31627646224474637,\n",
       " 0.3194741240955219,\n",
       " 0.3223520669591807,\n",
       " 0.33993958472213337,\n",
       " 0.3482536471280324,\n",
       " 0.33386388561177716,\n",
       " 0.320753236033793,\n",
       " 0.34697462958568304,\n",
       " 0.33386388561177716,\n",
       " 0.32267188034221916,\n",
       " 0.3245905246506454,\n",
       " 0.3418582290305595,\n",
       " 0.3386605199818231,\n",
       " 0.33930005235197824,\n",
       " 0.3277882808973427,\n",
       " 0.33290463425450534,\n",
       " 0.33002659699492476,\n",
       " 0.3277882808973427,\n",
       " 0.3357824827222424,\n",
       " 0.32938706462476963,\n",
       " 0.3245905246506454,\n",
       " 0.31563688267663037,\n",
       " 0.3325848208714669,\n",
       " 0.3415384156475211,\n",
       " 0.3744749462840007,\n",
       " 0.3652015381249081,\n",
       " 0.37991101862828003,\n",
       " 0.3703179386800316,\n",
       " 0.37639354339446607,\n",
       " 0.37415513290096225,\n",
       " 0.3690387795437996,\n",
       " 0.3431372465729089,\n",
       " 0.3424976670047929,\n",
       " 0.32810804708242025,\n",
       " 0.33290463425450534,\n",
       " 0.33066617656304076,\n",
       " 0.3345034179819323,\n",
       " 0.32938706462476963,\n",
       " 0.33386388561177716,\n",
       " 0.3335441194266996,\n",
       " 0.32586963658891654,\n",
       " 0.33226505468638934,\n",
       " 0.3191544051084052,\n",
       " 0.3367417812774751,\n",
       " 0.33322435324162203,\n",
       " 0.33961977133909493,\n",
       " 0.34633500281960616,\n",
       " 0.34505589088133504,\n",
       " 0.3418582290305595,\n",
       " 0.3415384156475211,\n",
       " 0.3389802389689398,\n",
       " 0.3345034179819323,\n",
       " 0.3383407065987847,\n",
       " 0.3255498232058781,\n",
       " 0.31819505935521164,\n",
       " 0.3223520669591807,\n",
       " 0.3210730022188706,\n",
       " 0.31339847218312655,\n",
       " 0.31275889261501055,\n",
       " 0.3060437083324602,\n",
       " 0.29197380739720424,\n",
       " 0.31116006168962285,\n",
       " 0.3082821188259639,\n",
       " 0.30572394214738263,\n",
       " 0.30284604648168467,\n",
       " 0.30572394214738263,\n",
       " 0.299968009222104,\n",
       " 0.29293310595243693,\n",
       " 0.27374671006613566,\n",
       " 0.2638337695368879,\n",
       " 0.26255465759861685,\n",
       " 0.23729275139380296,\n",
       " 0.2507231199589038,\n",
       " 0.2606360604881515,\n",
       " 0.25551970713098887,\n",
       " 0.24944410241655446,\n",
       " 0.2507231199589038,\n",
       " 0.2599965281179964,\n",
       " 0.2587175105756471,\n",
       " 0.25775816482245356,\n",
       " 0.25967671473495796,\n",
       " 0.2660722272283526,\n",
       " 0.26095587387118996,\n",
       " 0.2635140505497713,\n",
       " 0.25424068958863955,\n",
       " 0.2536011572184845,\n",
       " 0.2513626995270198,\n",
       " 0.26799082433881793,\n",
       " 0.25679886626722087,\n",
       " 0.2628744709816553,\n",
       " 0.27374671006613566,\n",
       " 0.27726423249791055,\n",
       " 0.2763049339426779,\n",
       " 0.2763049339426779,\n",
       " 0.2759851205596394,\n",
       " 0.2782235782511041,\n",
       " 0.28557834210177047,\n",
       " 0.276944466312833,\n",
       " 0.275665307176601,\n",
       " 0.2753456353874452,\n",
       " 0.2871771730271583,\n",
       " 0.2900551158908171,\n",
       " 0.29613076780321246,\n",
       " 0.31563688267663037,\n",
       " 0.3204334226507546,\n",
       " 0.3223520669591807,\n",
       " 0.31883459172536677,\n",
       " 0.3309859899460792,\n",
       " 0.320113656465677,\n",
       " 0.32203230077410316,\n",
       " 0.3185148255402892,\n",
       " 0.3194741240955219,\n",
       " 0.3297068308098472,\n",
       " 0.3277882808973427,\n",
       " 0.32523005702080054,\n",
       " 0.324270711267607,\n",
       " 0.31787534036809506,\n",
       " 0.32586963658891654,\n",
       " 0.34217790081971533,\n",
       " 0.35177116955980725,\n",
       " 0.35496887860854365,\n",
       " 0.3632829410144428,\n",
       " 0.35912588621251273,\n",
       " 0.3776726553327371,\n",
       " 0.36807943379060604,\n",
       " 0.37703312296258207,\n",
       " 0.39206241684899235,\n",
       " 0.3872657824789464,\n",
       " 0.39302166820626416,\n",
       " 0.3869461106897907,\n",
       " 0.3776726553327371,\n",
       " 0.33386388561177716,\n",
       " 0.33930005235197824,\n",
       " 0.3405790698943275,\n",
       " 0.3540094856573892,\n",
       " 0.3632829410144428,\n",
       " 0.3600852319657063,\n",
       " 0.3581665404593193,\n",
       " 0.3584863538423577,\n",
       " 0.36200387627413255,\n",
       " 0.37703312296258207,\n",
       " 0.37159700342034185,\n",
       " 0.37863204828389163,\n",
       " 0.38119017776451203,\n",
       " 0.3917426034659539,\n",
       " 0.39078330491072133,\n",
       " 0.40325442211855034,\n",
       " 0.4224407236089298,\n",
       " 0.4368304851251851,\n",
       " 0.4246791341024335,\n",
       " 0.40549278541409317,\n",
       " 0.40709166353744186,\n",
       " 0.40549278541409317,\n",
       " 0.39526012589772885,\n",
       " 0.3888646606022951,\n",
       " 0.3744749462840007,\n",
       " 0.3613642495080557,\n",
       " 0.3690387795437996,\n",
       " 0.37319583434572956,\n",
       " 0.3895042401704111,\n",
       " 0.4086905888587514,\n",
       " 0.42819670373216934,\n",
       " 0.4393887090017272,\n",
       " 0.4317141317680224,\n",
       " 0.4425864180504637,\n",
       " 0.45016754332159237,\n",
       " 0.443620147790031,\n",
       " 0.44189723342544485,\n",
       " 0.4322483654874162,\n",
       " 0.4257009699558548,\n",
       " 0.4356943358104711,\n",
       " 0.4315592280603583,\n",
       " 0.4591271322386805,\n",
       " 0.4491337663840641,\n",
       " 0.4360389753209414,\n",
       " 0.4498229038111221,\n",
       " 0.45189055208210027,\n",
       " 0.4722218289058814,\n",
       " 0.45257973670711915,\n",
       " 0.47084345965584384,\n",
       " 0.4811814178229695,\n",
       " 0.48393829791692744,\n",
       " 0.4760123915414458,\n",
       " 0.4760123915414458,\n",
       " 0.4908302385630373,\n",
       " 0.4698096827183156,\n",
       " 0.4580933081031914,\n",
       " 0.4749786618018784,\n",
       " 0.4732557474372924,\n",
       " 0.46877585858282644,\n",
       " 0.4536135608426082,\n",
       " 0.44706611811308594,\n",
       " 0.4574041234781725,\n",
       " 0.46016095637416954,\n",
       " 0.4644251033493749,\n",
       " 0.44878964605116367,\n",
       " 0.4228490331686502,\n",
       " 0.4228490331686502,\n",
       " 0.4274686279873713,\n",
       " 0.42960079587089584,\n",
       " 0.4388398439144554,\n",
       " 0.4217829728258684,\n",
       " 0.4246258004066199,\n",
       " 0.43564171008407093,\n",
       " 0.43741843012407966,\n",
       " 0.4285346883301532,\n",
       " 0.39513174744408885,\n",
       " 0.40792432996358774,\n",
       " 0.4171634252051082,\n",
       " 0.417518825850663,\n",
       " 0.4029493816972727,\n",
       " 0.40081730820967,\n",
       " 0.40117266165726384,\n",
       " 0.4025940754476396,\n",
       " 0.4036600885924605,\n",
       " 0.4082796834111817,\n",
       " 0.4121884769387931,\n",
       " 0.40863503685877556,\n",
       " 0.4224936797210562,\n",
       " 0.42675796829014434,\n",
       " 0.4264025676445895,\n",
       " 0.4320881756081316,\n",
       " 0.434931003188883,\n",
       " 0.44985575359190644,\n",
       " 0.4814819744379619,\n",
       " 0.5138188077832836,\n",
       " 0.5074225401225145,\n",
       " 0.4949853110506096,\n",
       " 0.5017369793569334,\n",
       " 0.52696693254222,\n",
       " 0.538693454718937,\n",
       " 0.520926018329045,\n",
       " 0.5180830963523717,\n",
       " 0.5546842182667814,\n",
       " 0.5607252268758782,\n",
       " 0.572807196896111,\n",
       " 0.5603698262303234,\n",
       " 0.557526951451611,\n",
       " 0.5532629460702884,\n",
       " 0.5578823520971659,\n",
       " 0.5646340204034898,\n",
       " 0.5760053307264955,\n",
       " 0.5912854817750738,\n",
       " 0.5919961886702616,\n",
       " 0.6062101377821754,\n",
       " 0.5937729087102704,\n",
       " 0.6008797888703055,\n",
       " 0.5948389218550914,\n",
       " 0.5923514949198947,\n",
       " 0.599458280684008,\n",
       " 0.6005244826206725,\n",
       " 0.5912854817750738,\n",
       " 0.5749392231857529,\n",
       " 0.5774267445168713,\n",
       " 0.5859551328632039,\n",
       " 0.5792033701609582,\n",
       " 0.5688982617746169,\n",
       " 0.5685429083270229,\n",
       " 0.5646340204034898,\n",
       " 0.5454451230252609,\n",
       " 0.5436684029852521,\n",
       " 0.5411809760500556,\n",
       " 0.5475773853047072,\n",
       " 0.550064717843982,\n",
       " 0.5472218902632305,\n",
       " 0.5440237564328461,\n",
       " 0.5411809760500556,\n",
       " 0.539404161614125,\n",
       " 0.538693454718937,\n",
       " 0.5429576960900643,\n",
       " 0.5379827950217101,\n",
       " 0.5322971398602072,\n",
       " 0.5308756788718706,\n",
       " 0.5298096185290888,\n",
       " 0.5273223331877748,\n",
       " 0.5351399674409587,\n",
       " 0.5301650191746436,\n",
       " 0.5205705232875683,\n",
       " 0.5155957166151359,\n",
       " 0.515950975666808,\n",
       " 0.5152402215736593,\n",
       " 0.5099099670577112,\n",
       " 0.526611626292587,\n",
       " 0.5312309851215036,\n",
       " 0.5251901653042503,\n",
       " 0.5262716593802454,\n",
       " 0.5403305631906123,\n",
       " 0.5295160000143482,\n",
       " 0.5140150569046935,\n",
       " 0.531318395745085,\n",
       " 0.527353011862358,\n",
       " 0.531318395745085,\n",
       " 0.5497031814635106,\n",
       " 0.5388886654852073,\n",
       " 0.5424935041446417,\n",
       " 0.5230271771522601,\n",
       " 0.5194222912948647,\n",
       " 0.5403305631906123,\n",
       " 0.5417724608960174,\n",
       " 0.5381677166325047,\n",
       " 0.5406909668200223,\n",
       " 0.5507846283415448,\n",
       " 0.5760186405514686,\n",
       " 0.5752976445008051,\n",
       " 0.5709718569886681,\n",
       " 0.5922404853158648,\n",
       " 0.5814260165355224,\n",
       " 0.583228506662181,\n",
       " 0.5886356938543913,\n",
       " 0.5900775915597963,\n",
       " 0.598729260979992,\n",
       " 0.6077415228214412,\n",
       " 0.6160325998203835,\n",
       " 0.630091645224633,\n",
       " 0.6293706491739696,\n",
       " 0.6030552372839726,\n",
       " 0.6059390326947827,\n",
       " 0.6163930978457152,\n",
       " 0.627568159047311,\n",
       " 0.6221608774591789,\n",
       " 0.6322545389807015,\n",
       " 0.663256330804089,\n",
       " 0.6957001147288033,\n",
       " 0.6801990772232269,\n",
       " 0.6953396167034717,\n",
       " 0.6870483509126859,\n",
       " 0.7133639515945265,\n",
       " 0.7148058492999315,\n",
       " 0.7303066980136643,\n",
       " 0.7270623101816007,\n",
       " 0.725259914450864,\n",
       " 0.7230970206947955,\n",
       " 0.7230970206947955,\n",
       " 0.745807641123319,\n",
       " 0.7598665921316469,\n",
       " 0.7414817592152603,\n",
       " 0.7180501427360734,\n",
       " 0.7259810048974492,\n",
       " 0.7191316368120685,\n",
       " 0.7173291466854099,\n",
       " 0.7248994164255322,\n",
       " 0.7198526328627319,\n",
       " 0.7043515953571554,\n",
       " 0.6993050005861987,\n",
       " 0.7259810048974492,\n",
       " 0.7198526328627319,\n",
       " 0.7324696861656547,\n",
       " 0.7476100368540558,\n",
       " 0.7894263918537076,\n",
       " 0.7840191102655755,\n",
       " 0.7822167145348385,\n",
       " 0.7736171516634732,\n",
       " 0.770999835939888,\n",
       " 0.7702521258433568,\n",
       " 0.7564182147125861,\n",
       " 0.7373496721346449,\n",
       " 0.744079629378956,\n",
       " 0.7078121498501276,\n",
       " 0.7201505463919141,\n",
       " 0.7309934283447166,\n",
       " 0.7164116183255712,\n",
       " 0.6812657511395004,\n",
       " 0.6651885209272926,\n",
       " 0.6663102276659721,\n",
       " 0.6569628603021538,\n",
       " 0.6790225264539851,\n",
       " 0.6906131185033186,\n",
       " 0.6812657511395004,\n",
       " 0.6786486242077586,\n",
       " 0.6771530152228528,\n",
       " 0.6719185725675256,\n",
       " 0.6745356994992674,\n",
       " 0.6614496872568715,\n",
       " 0.6584584692870596,\n",
       " 0.6420070536408602,\n",
       " 0.6423810502830084,\n",
       " 0.6206952863774036,\n",
       " 0.5900362461460505,\n",
       " 0.595644591047604,\n",
       " 0.5922795652274876,\n",
       " 0.6154608437220765,\n",
       " 0.6012529359491576,\n",
       " 0.6049918640155005,\n",
       " 0.6165825504607559,\n",
       " 0.6106003033129759,\n",
       " 0.6034962550305947,\n",
       " 0.6106003033129759,\n",
       " 0.6214431852657784,\n",
       " 0.6296687514949955,\n",
       " 0.6535977400861155,\n",
       " 0.6535977400861155,\n",
       " 0.6629451074499338,\n",
       " 0.6719185725675256,\n",
       " 0.6636929119423868,\n",
       " 0.6678056478590344,\n",
       " 0.6827613601244062,\n",
       " 0.6988387791284576,\n",
       " 0.702203804948574,\n",
       " 0.7036993195375582,\n",
       " 0.7122989768048453,\n",
       " 0.7152899115868917,\n",
       " 0.6868741904369757,\n",
       " 0.6767791129766263,\n",
       " 0.6850047736017651,\n",
       " 0.6943520465696617,\n",
       " 0.7048210262762375,\n",
       " 0.7130467812972983,\n",
       " 0.6872481870791239,\n",
       " 0.7074383419998229,\n",
       " 0.708933856588807,\n",
       " 0.7051948341265423,\n",
       " 0.6958476555545675,\n",
       " 0.684257063505234,\n",
       " 0.7128679954214202,\n",
       " 0.7043621677003964,\n",
       " 0.7206008149388721,\n",
       " 0.6780707323745351,\n",
       " 0.6950827654002698,\n",
       " 0.7163478066824384,\n",
       " 0.7155745152911009,\n",
       " 0.7136412868127576,\n",
       " 0.698562576661288,\n",
       " 0.6823238350268905,\n",
       " 0.6827103863266375,\n",
       " 0.6274213733889212,\n",
       " 0.645593343501662,\n",
       " 0.6660849989965714,\n",
       " 0.6448200521103247,\n",
       " 0.6633785735228124,\n",
       " 0.6525527772318547,\n",
       " 0.6448200521103247,\n",
       " 0.6819371893312219,\n",
       " 0.6811638979398845,\n",
       " 0.7120947984260046,\n",
       " 0.7333598397081731,\n",
       " 0.7109349557349204,\n",
       " 0.6970159938786132,\n",
       " 0.7198275235475347,\n",
       " 0.7151878695954323,\n",
       " 0.6892832687570832,\n",
       " 0.7097749242519925,\n",
       " 0.7178942950691912,\n",
       " 0.7093883729522457,\n",
       " 0.6954694110959385,\n",
       " 0.7043621677003964,\n",
       " 0.6916030485351735,\n",
       " 0.6830970320223061,\n",
       " 0.6966293481829445,\n",
       " 0.7209874606345407,\n",
       " 0.7225340434172154,\n",
       " 0.7252403744950526,\n",
       " 0.7515317154249922,\n",
       " 0.7321999026211671,\n",
       " 0.7584911491551848,\n",
       " 0.7731833080069075,\n",
       " 0.7515317154249922,\n",
       " 0.7658372285810462,\n",
       " 0.7673838113637209,\n",
       " 0.7843958443894558,\n",
       " 0.8083673111453832,\n",
       " 0.8211263359146842,\n",
       " 0.8157133905712445,\n",
       " 0.7646773858899619,\n",
       " 0.7747299851855041,\n",
       " 0.7615842203246125,\n",
       " 0.781689324519775,\n",
       " 0.7511451641252452,\n",
       " 0.7561714637730164,\n",
       " 0.7499851326423175,\n",
       " 0.7488252899512332,\n",
       " 0.7530782038117451,\n",
       " 0.7356796194862634,\n",
       " 0.7202141692432034,\n",
       " 0.7082284358652396,\n",
       " 0.7209874606345407,\n",
       " 0.7148012238997636,\n",
       " 0.7209874606345407,\n",
       " 0.7387727850516128,\n",
       " 0.6896698200568301,\n",
       " 0.6834836777179748,\n",
       " 0.6811638979398845,\n",
       " 0.686963488978993,\n",
       " 0.6946961197046012,\n",
       " 0.6645385106098184,\n",
       " 0.6598988566577161,\n",
       " 0.6595122109620474,\n",
       " 0.6745910155094388,\n",
       " 0.6738178185140232,\n",
       " 0.690829851539758,\n",
       " 0.6865767488874025,\n",
       " 0.6916030485351735,\n",
       " 0.6858035518919869,\n",
       " 0.690829851539758,\n",
       " 0.6892832687570832,\n",
       " 0.6916030485351735,\n",
       " 0.6834836777179748,\n",
       " 0.6552592027056137,\n",
       " 0.6293546018672647,\n",
       " 0.621235231050066,\n",
       " 0.6131158602328672,\n",
       " 0.582571511046494,\n",
       " 0.5736789432338797,\n",
       " 0.5945573388203795,\n",
       " 0.5930107560377047,\n",
       " 0.6065430721983432,\n",
       " 0.6158222857066261,\n",
       " 0.6239417509197467,\n",
       " 0.6142757029239514,\n",
       " 0.6258747906062465,\n",
       " 0.6380539412279663,\n",
       " 0.6415336580930627,\n",
       " 0.6392137839190506,\n",
       " 0.6305145389542707,\n",
       " 0.6189154512719756,\n",
       " 0.6200752939630598,\n",
       " 0.6200752939630598,\n",
       " 0.6183354827284726,\n",
       " 0.5962971500549668,\n",
       " 0.5933974017333734,\n",
       " 0.5974570871419728,\n",
       " 0.5928174331898705,\n",
       " 0.6020967410940752,\n",
       " 0.611956017541783,\n",
       " 0.6160156085544605,\n",
       " 0.6183354827284726,\n",
       " 0.6136958287763702,\n",
       " 0.6131158602328672,\n",
       " 0.6078962377372618,\n",
       " 0.6131158602328672,\n",
       " 0.6125358916893642,\n",
       " 0.6229750422846532,\n",
       " 0.6015167725505721,\n",
       " 0.6113759546023582,\n",
       " 0.6003569298594879,\n",
       " 0.6026766152416564,\n",
       " 0.6247149479151622,\n",
       " 0.6276146962367556,\n",
       " 0.6177555141849695,\n",
       " 0.6279522560530912,\n",
       " 0.635150039485814,\n",
       " 0.654343939847898,\n",
       " 0.6567432009921389,\n",
       " 0.6483458341852565,\n",
       " 0.6423477285226151,\n",
       " 0.6321509866544933,\n",
       " 0.6291519338231727,\n",
       " 0.6231538281605312,\n",
       " 0.6339503617157327,\n",
       " 0.6393486756912944,\n",
       " 0.6291519338231727,\n",
       " 0.6345502477987343,\n",
       " 0.6303515171973322,\n",
       " 0.6321509866544933,\n",
       " 0.6279522560530912,\n",
       " 0.6249532032217706,\n",
       " 0.6333505700286529,\n",
       " 0.6531443564737384,\n",
       " 0.647146250811097,\n",
       " 0.6483458341852565,\n",
       " 0.6435474062926965,\n",
       " 0.6381490923171348,\n",
       " 0.635150039485814,\n",
       " 0.6159560447278084,\n",
       " 0.6123572002094079,\n",
       " 0.6057593028596867,\n",
       " 0.5979617277398841,\n",
       " 0.5901642470160033,\n",
       " 0.5859655164146013,\n",
       " 0.5691708771967583,\n",
       " 0.5775682440036407,\n",
       " 0.5655719854803969,\n",
       " 0.567371454937558,\n",
       " 0.5799674107519598,\n",
       " 0.576968357920639,\n",
       " 0.5841661413533619,\n",
       " 0.5895644553289235,\n",
       " 0.5859655164146013,\n",
       " 0.5871651941846826,\n",
       " 0.567971199426677,\n",
       " 0.5835663496662821,\n",
       " 0.5787678273778002,\n",
       " 0.572169930028079,\n",
       " 0.5691708771967583,\n",
       " 0.576968357920639,\n",
       " 0.5805672968349613,\n",
       " 0.5907640387030831,\n",
       " 0.5865654024976028,\n",
       " 0.5931632998473241,\n",
       " 0.5913638303901629,\n",
       " 0.5961623526786447,\n",
       " 0.5979617277398841,\n",
       " 0.595562560991565,\n",
       " 0.5985616138228856,\n",
       " 0.5997611971970452,\n",
       " 0.6009607805712048,\n",
       " 0.5985616138228856,\n",
       " 0.6177555141849695,\n",
       " 0.6111576168352484,\n",
       " 0.6117574085223282,\n",
       " 0.6135568779794893,\n",
       " 0.6099579390651669,\n",
       " 0.6117574085223282,\n",
       " 0.6081585640039276,\n",
       " 0.6057593028596867,\n",
       " 0.6075587723168479,\n",
       " 0.6171557224978897,\n",
       " 0.61655593081081,\n",
       " 0.6153562530407286,\n",
       " 0.6411481451484555,\n",
       " 0.6567432009921389,\n",
       " 0.6909323655108264,\n",
       " 0.6801358319556249,\n",
       " 0.696330679486388,\n",
       " 0.6909323655108264,\n",
       " 0.7005294100877901,\n",
       " 0.7011292017748699,\n",
       " 0.6861339376182662,\n",
       " 0.6969304711734678,\n",
       " 0.6975303572564694,\n",
       " 0.7005294100877901,\n",
       " 0.7233221549682745,\n",
       " 0.7095265685817522,\n",
       " 0.7143249964743124,\n",
       " 0.7137252047872326,\n",
       " 0.6999295240047885,\n",
       " 0.7119257353300714,\n",
       " 0.710126360268832,\n",
       " 0.6933316266550673,\n",
       " 0.6777365708113839,\n",
       " 0.6525445647866586,\n",
       " 0.6693392040045015,\n",
       " 0.6777365708113839,\n",
       " 0.6741377262929834,\n",
       " 0.6735379346059036,\n",
       " 0.6945313044251487,\n",
       " 0.712525621413073,\n",
       " 0.7185237270757144,\n",
       " 0.7137252047872326,\n",
       " 0.7257214161125154,\n",
       " 0.7371178357507185,\n",
       " 0.7377176274377982,\n",
       " 0.7437157331004397,\n",
       " 0.7791045753892086,\n",
       " 0.7557119444257225,\n",
       " 0.764109311232605,\n",
       " 0.7635095195455252,\n",
       " 0.7557119444257225,\n",
       " 0.7623098417754438,\n",
       " 0.7755057308708081,\n",
       " 0.771307000269406,\n",
       " 0.7779048976191273,\n",
       " 0.7743060531007266,\n",
       " 0.7665085723768459,\n",
       " 0.7485142553889216,\n",
       " 0.7575114138828838,\n",
       " 0.7575114138828838,\n",
       " 0.7341187829193978,\n",
       " 0.7191235187627942,\n",
       " 0.7179238409927128,\n",
       " 0.7275208855696765,\n",
       " 0.7251216244254356,\n",
       " 0.7275208855696765,\n",
       " 0.7317195217751569,\n",
       " 0.7341187829193978,\n",
       " 0.7305199384009973,\n",
       " 0.7263212077995952,\n",
       " 0.7305199384009973,\n",
       " 0.7341187829193978,\n",
       " 0.7431159414133599,\n",
       " 0.7311197300880771,\n",
       " 0.726920999486675,\n",
       " 0.7041282546061906,\n",
       " 0.7029285768361092,\n",
       " 0.7047280462932703,\n",
       " 0.698729940630629,\n",
       " 0.689132990449587,\n",
       " 0.6999295240047885,\n",
       " 0.7113259436429916,\n",
       " 0.7149247881613922,\n",
       " 0.7275208855696765,\n",
       " 0.726920999486675,\n",
       " 0.7209228938240335,\n",
       " 0.7233221549682745,\n",
       " 0.710126360268832,\n",
       " 0.7089266824987507,\n",
       " 0.7197233104498739,\n",
       " 0.7353183662935574,\n",
       " 0.7281206772567563,\n",
       " 0.7437157331004397,\n",
       " 0.7311197300880771,\n",
       " 0.7317195217751569,\n",
       " 0.7245218327383558,\n",
       " 0.7173240493056331,\n",
       " 0.7017289934619496,\n",
       " 0.6993297323177088,\n",
       " 0.6993297323177088,\n",
       " 0.7113259436429916,\n",
       " 0.7065275157504315,\n",
       " 0.7023287851490294,\n",
       " 0.7089266824987507,\n",
       " 0.710126360268832,\n",
       " 0.7113259436429916,\n",
       " 0.712525621413073,\n",
       " 0.7029285768361092,\n",
       " 0.7035284629191109,\n",
       " 0.712525621413073,\n",
       " 0.7191235187627942,\n",
       " 0.7149247881613922,\n",
       " 0.7155246742443937,\n",
       " 0.7155246742443937,\n",
       " 0.7179238409927128,\n",
       " 0.7179238409927128,\n",
       " 0.7419162636432786,\n",
       " 0.7533126832814817,\n",
       " 0.7623098417754438,\n",
       " 0.7689077391251651,\n",
       " 0.7761055225578878,\n",
       " 0.7701074168952464,\n",
       " 0.7755057308708081,\n",
       " 0.7845028893647702,\n",
       " 0.7875019421960908,\n",
       " 0.7839030032817685,\n",
       " 0.7791045753892086,\n",
       " 0.7869020561130894,\n",
       " 0.8204915233406188,\n",
       " 0.82708942069034,\n",
       " 0.8084953120153359,\n",
       " 0.8090951037024158,\n",
       " 0.8222908984018581,\n",
       " 0.8444839459911845,\n",
       " 0.8522814267150652,\n",
       " 0.846283321052424,\n",
       " 0.8588793240647866,\n",
       " 0.8570799490035471,\n",
       " 0.860079001834868,\n",
       " 0.8564801573164674,\n",
       " 0.8624782629791089,\n",
       " 0.8540808961722265,\n",
       " 0.8474829988225053,\n",
       " 0.8492823738837446,\n",
       " 0.8666768991845891,\n",
       " 0.8570799490035471,\n",
       " 0.860079001834868,\n",
       " 0.8786731105098721,\n",
       " 0.8792729965928735,\n",
       " 0.8942682607494773,\n",
       " 0.8912692079181564,\n",
       " 0.8822720494241943,\n",
       " 0.8792729965928735,\n",
       " 0.8792729965928735,\n",
       " 0.8804725799670331,\n",
       " 0.8804725799670331,\n",
       " 0.848082790509585,\n",
       " 0.8510818433409059,\n",
       " 0.8486825821966649,\n",
       " 0.8486825821966649,\n",
       " 0.8720752131601509,\n",
       " 0.9194602667742026,\n",
       " 0.9122625777374015,\n",
       " 0.9224593196055232,\n",
       " 0.9596475369555314,\n",
       " 0.9668452259923325,\n",
       " 0.9452521588819295,\n",
       " 0.9536494312928899,\n",
       " 0.9512502645445707,\n",
       " 0.9308565920164839,\n",
       " 0.9356551143049657,\n",
       " 0.9446522727989278,\n",
       " 0.9476513256302485,\n",
       " 0.9554489007500512,\n",
       " 0.9614470064126927,\n",
       " 0.9686446954494935,\n",
       " 0.974642801112135,\n",
       " 0.9644460592440133,\n",
       " 0.9716437482808143,\n",
       " 0.9596475369555314,\n",
       " 0.9553171240432264,\n",
       " 0.9367581306511298,\n",
       " 0.9398512962164792,\n",
       " 0.9379953779980853,\n",
       " 0.9336649650857803,\n",
       " 0.9188178081304718]"
      ]
     },
     "execution_count": 41,
     "metadata": {},
     "output_type": "execute_result"
    }
   ],
   "source": [
    "temp_input"
   ]
  },
  {
   "cell_type": "code",
   "execution_count": 33,
   "metadata": {},
   "outputs": [
    {
     "ename": "NameError",
     "evalue": "name 'temp_input' is not defined",
     "output_type": "error",
     "traceback": [
      "\u001b[0;31m---------------------------------------------------------------------------\u001b[0m",
      "\u001b[0;31mNameError\u001b[0m                                 Traceback (most recent call last)",
      "Cell \u001b[0;32mIn[33], line 9\u001b[0m\n\u001b[1;32m      6\u001b[0m i\u001b[38;5;241m=\u001b[39m\u001b[38;5;241m0\u001b[39m\n\u001b[1;32m      7\u001b[0m \u001b[38;5;28;01mwhile\u001b[39;00m(i\u001b[38;5;241m<\u001b[39m\u001b[38;5;241m30\u001b[39m):\n\u001b[0;32m----> 9\u001b[0m     \u001b[38;5;28;01mif\u001b[39;00m(\u001b[38;5;28mlen\u001b[39m(\u001b[43mtemp_input\u001b[49m)\u001b[38;5;241m>\u001b[39m\u001b[38;5;241m100\u001b[39m):\n\u001b[1;32m     10\u001b[0m         \u001b[38;5;66;03m#print(temp_input)\u001b[39;00m\n\u001b[1;32m     11\u001b[0m         x_input\u001b[38;5;241m=\u001b[39mnp\u001b[38;5;241m.\u001b[39marray(temp_input[\u001b[38;5;241m1\u001b[39m:])\n\u001b[1;32m     12\u001b[0m         \u001b[38;5;28mprint\u001b[39m(\u001b[38;5;124m\"\u001b[39m\u001b[38;5;132;01m{}\u001b[39;00m\u001b[38;5;124m day input \u001b[39m\u001b[38;5;132;01m{}\u001b[39;00m\u001b[38;5;124m\"\u001b[39m\u001b[38;5;241m.\u001b[39mformat(i,x_input))\n",
      "\u001b[0;31mNameError\u001b[0m: name 'temp_input' is not defined"
     ]
    }
   ],
   "source": [
    "# demonstrate prediction for next 10 days\n",
    "from numpy import array\n",
    "\n",
    "lst_output=[]\n",
    "n_steps=100\n",
    "i=0\n",
    "while(i<30):\n",
    "    \n",
    "    if(len(temp_input)>100):\n",
    "        #print(temp_input)\n",
    "        x_input=np.array(temp_input[1:])\n",
    "        print(\"{} day input {}\".format(i,x_input))\n",
    "        x_input=x_input.reshape(1,-1)\n",
    "        x_input = x_input.reshape((1, n_steps, 1))\n",
    "        #print(x_input)\n",
    "        yhat = model.predict(x_input, verbose=0)\n",
    "        print(\"{} day output {}\".format(i,yhat))\n",
    "        temp_input.extend(yhat[0].tolist())\n",
    "        temp_input=temp_input[1:]\n",
    "        #print(temp_input)\n",
    "        lst_output.extend(yhat.tolist())\n",
    "        i=i+1\n",
    "    else:\n",
    "        x_input = x_input.reshape((1, n_steps,1))\n",
    "        yhat = model.predict(x_input, verbose=0)\n",
    "        print(yhat[0])\n",
    "        temp_input.extend(yhat[0].tolist())\n",
    "        print(len(temp_input))\n",
    "        lst_output.extend(yhat.tolist())\n",
    "        i=i+1\n",
    "    \n",
    "\n",
    "print(lst_output)"
   ]
  },
  {
   "cell_type": "code",
   "execution_count": 43,
   "metadata": {},
   "outputs": [],
   "source": [
    "day_new=np.arange(1,101)\n",
    "day_pred=np.arange(101,131)"
   ]
  },
  {
   "cell_type": "code",
   "execution_count": 44,
   "metadata": {},
   "outputs": [],
   "source": [
    "import matplotlib.pyplot as plt"
   ]
  },
  {
   "cell_type": "code",
   "execution_count": 45,
   "metadata": {},
   "outputs": [
    {
     "data": {
      "text/plain": [
       "3314"
      ]
     },
     "execution_count": 45,
     "metadata": {},
     "output_type": "execute_result"
    }
   ],
   "source": [
    "len(df1)"
   ]
  },
  {
   "cell_type": "code",
   "execution_count": 392,
   "metadata": {},
   "outputs": [],
   "source": []
  },
  {
   "cell_type": "code",
   "execution_count": 46,
   "metadata": {},
   "outputs": [
    {
     "ename": "ValueError",
     "evalue": "x and y must have same first dimension, but have shapes (100,) and (2156, 1)",
     "output_type": "error",
     "traceback": [
      "\u001b[0;31m---------------------------------------------------------------------------\u001b[0m",
      "\u001b[0;31mValueError\u001b[0m                                Traceback (most recent call last)",
      "Cell \u001b[0;32mIn[46], line 1\u001b[0m\n\u001b[0;32m----> 1\u001b[0m \u001b[43mplt\u001b[49m\u001b[38;5;241;43m.\u001b[39;49m\u001b[43mplot\u001b[49m\u001b[43m(\u001b[49m\u001b[43mday_new\u001b[49m\u001b[43m,\u001b[49m\u001b[43mscaler\u001b[49m\u001b[38;5;241;43m.\u001b[39;49m\u001b[43minverse_transform\u001b[49m\u001b[43m(\u001b[49m\u001b[43mdf1\u001b[49m\u001b[43m[\u001b[49m\u001b[38;5;241;43m1158\u001b[39;49m\u001b[43m:\u001b[49m\u001b[43m]\u001b[49m\u001b[43m)\u001b[49m\u001b[43m)\u001b[49m\n\u001b[1;32m      2\u001b[0m plt\u001b[38;5;241m.\u001b[39mplot(day_pred,scaler\u001b[38;5;241m.\u001b[39minverse_transform(lst_output))\n",
      "File \u001b[0;32m~/opt/anaconda3/envs/my_own/lib/python3.9/site-packages/matplotlib/pyplot.py:2812\u001b[0m, in \u001b[0;36mplot\u001b[0;34m(scalex, scaley, data, *args, **kwargs)\u001b[0m\n\u001b[1;32m   2810\u001b[0m \u001b[38;5;129m@_copy_docstring_and_deprecators\u001b[39m(Axes\u001b[38;5;241m.\u001b[39mplot)\n\u001b[1;32m   2811\u001b[0m \u001b[38;5;28;01mdef\u001b[39;00m \u001b[38;5;21mplot\u001b[39m(\u001b[38;5;241m*\u001b[39margs, scalex\u001b[38;5;241m=\u001b[39m\u001b[38;5;28;01mTrue\u001b[39;00m, scaley\u001b[38;5;241m=\u001b[39m\u001b[38;5;28;01mTrue\u001b[39;00m, data\u001b[38;5;241m=\u001b[39m\u001b[38;5;28;01mNone\u001b[39;00m, \u001b[38;5;241m*\u001b[39m\u001b[38;5;241m*\u001b[39mkwargs):\n\u001b[0;32m-> 2812\u001b[0m     \u001b[38;5;28;01mreturn\u001b[39;00m \u001b[43mgca\u001b[49m\u001b[43m(\u001b[49m\u001b[43m)\u001b[49m\u001b[38;5;241;43m.\u001b[39;49m\u001b[43mplot\u001b[49m\u001b[43m(\u001b[49m\n\u001b[1;32m   2813\u001b[0m \u001b[43m        \u001b[49m\u001b[38;5;241;43m*\u001b[39;49m\u001b[43margs\u001b[49m\u001b[43m,\u001b[49m\u001b[43m \u001b[49m\u001b[43mscalex\u001b[49m\u001b[38;5;241;43m=\u001b[39;49m\u001b[43mscalex\u001b[49m\u001b[43m,\u001b[49m\u001b[43m \u001b[49m\u001b[43mscaley\u001b[49m\u001b[38;5;241;43m=\u001b[39;49m\u001b[43mscaley\u001b[49m\u001b[43m,\u001b[49m\n\u001b[1;32m   2814\u001b[0m \u001b[43m        \u001b[49m\u001b[38;5;241;43m*\u001b[39;49m\u001b[38;5;241;43m*\u001b[39;49m\u001b[43m(\u001b[49m\u001b[43m{\u001b[49m\u001b[38;5;124;43m\"\u001b[39;49m\u001b[38;5;124;43mdata\u001b[39;49m\u001b[38;5;124;43m\"\u001b[39;49m\u001b[43m:\u001b[49m\u001b[43m \u001b[49m\u001b[43mdata\u001b[49m\u001b[43m}\u001b[49m\u001b[43m \u001b[49m\u001b[38;5;28;43;01mif\u001b[39;49;00m\u001b[43m \u001b[49m\u001b[43mdata\u001b[49m\u001b[43m \u001b[49m\u001b[38;5;129;43;01mis\u001b[39;49;00m\u001b[43m \u001b[49m\u001b[38;5;129;43;01mnot\u001b[39;49;00m\u001b[43m \u001b[49m\u001b[38;5;28;43;01mNone\u001b[39;49;00m\u001b[43m \u001b[49m\u001b[38;5;28;43;01melse\u001b[39;49;00m\u001b[43m \u001b[49m\u001b[43m{\u001b[49m\u001b[43m}\u001b[49m\u001b[43m)\u001b[49m\u001b[43m,\u001b[49m\u001b[43m \u001b[49m\u001b[38;5;241;43m*\u001b[39;49m\u001b[38;5;241;43m*\u001b[39;49m\u001b[43mkwargs\u001b[49m\u001b[43m)\u001b[49m\n",
      "File \u001b[0;32m~/opt/anaconda3/envs/my_own/lib/python3.9/site-packages/matplotlib/axes/_axes.py:1688\u001b[0m, in \u001b[0;36mAxes.plot\u001b[0;34m(self, scalex, scaley, data, *args, **kwargs)\u001b[0m\n\u001b[1;32m   1445\u001b[0m \u001b[38;5;250m\u001b[39m\u001b[38;5;124;03m\"\"\"\u001b[39;00m\n\u001b[1;32m   1446\u001b[0m \u001b[38;5;124;03mPlot y versus x as lines and/or markers.\u001b[39;00m\n\u001b[1;32m   1447\u001b[0m \n\u001b[0;32m   (...)\u001b[0m\n\u001b[1;32m   1685\u001b[0m \u001b[38;5;124;03m(``'green'``) or hex strings (``'#008000'``).\u001b[39;00m\n\u001b[1;32m   1686\u001b[0m \u001b[38;5;124;03m\"\"\"\u001b[39;00m\n\u001b[1;32m   1687\u001b[0m kwargs \u001b[38;5;241m=\u001b[39m cbook\u001b[38;5;241m.\u001b[39mnormalize_kwargs(kwargs, mlines\u001b[38;5;241m.\u001b[39mLine2D)\n\u001b[0;32m-> 1688\u001b[0m lines \u001b[38;5;241m=\u001b[39m [\u001b[38;5;241m*\u001b[39m\u001b[38;5;28mself\u001b[39m\u001b[38;5;241m.\u001b[39m_get_lines(\u001b[38;5;241m*\u001b[39margs, data\u001b[38;5;241m=\u001b[39mdata, \u001b[38;5;241m*\u001b[39m\u001b[38;5;241m*\u001b[39mkwargs)]\n\u001b[1;32m   1689\u001b[0m \u001b[38;5;28;01mfor\u001b[39;00m line \u001b[38;5;129;01min\u001b[39;00m lines:\n\u001b[1;32m   1690\u001b[0m     \u001b[38;5;28mself\u001b[39m\u001b[38;5;241m.\u001b[39madd_line(line)\n",
      "File \u001b[0;32m~/opt/anaconda3/envs/my_own/lib/python3.9/site-packages/matplotlib/axes/_base.py:311\u001b[0m, in \u001b[0;36m_process_plot_var_args.__call__\u001b[0;34m(self, data, *args, **kwargs)\u001b[0m\n\u001b[1;32m    309\u001b[0m     this \u001b[38;5;241m+\u001b[39m\u001b[38;5;241m=\u001b[39m args[\u001b[38;5;241m0\u001b[39m],\n\u001b[1;32m    310\u001b[0m     args \u001b[38;5;241m=\u001b[39m args[\u001b[38;5;241m1\u001b[39m:]\n\u001b[0;32m--> 311\u001b[0m \u001b[38;5;28;01myield from\u001b[39;00m \u001b[38;5;28;43mself\u001b[39;49m\u001b[38;5;241;43m.\u001b[39;49m\u001b[43m_plot_args\u001b[49m\u001b[43m(\u001b[49m\n\u001b[1;32m    312\u001b[0m \u001b[43m    \u001b[49m\u001b[43mthis\u001b[49m\u001b[43m,\u001b[49m\u001b[43m \u001b[49m\u001b[43mkwargs\u001b[49m\u001b[43m,\u001b[49m\u001b[43m \u001b[49m\u001b[43mambiguous_fmt_datakey\u001b[49m\u001b[38;5;241;43m=\u001b[39;49m\u001b[43mambiguous_fmt_datakey\u001b[49m\u001b[43m)\u001b[49m\n",
      "File \u001b[0;32m~/opt/anaconda3/envs/my_own/lib/python3.9/site-packages/matplotlib/axes/_base.py:504\u001b[0m, in \u001b[0;36m_process_plot_var_args._plot_args\u001b[0;34m(self, tup, kwargs, return_kwargs, ambiguous_fmt_datakey)\u001b[0m\n\u001b[1;32m    501\u001b[0m     \u001b[38;5;28mself\u001b[39m\u001b[38;5;241m.\u001b[39maxes\u001b[38;5;241m.\u001b[39myaxis\u001b[38;5;241m.\u001b[39mupdate_units(y)\n\u001b[1;32m    503\u001b[0m \u001b[38;5;28;01mif\u001b[39;00m x\u001b[38;5;241m.\u001b[39mshape[\u001b[38;5;241m0\u001b[39m] \u001b[38;5;241m!=\u001b[39m y\u001b[38;5;241m.\u001b[39mshape[\u001b[38;5;241m0\u001b[39m]:\n\u001b[0;32m--> 504\u001b[0m     \u001b[38;5;28;01mraise\u001b[39;00m \u001b[38;5;167;01mValueError\u001b[39;00m(\u001b[38;5;124mf\u001b[39m\u001b[38;5;124m\"\u001b[39m\u001b[38;5;124mx and y must have same first dimension, but \u001b[39m\u001b[38;5;124m\"\u001b[39m\n\u001b[1;32m    505\u001b[0m                      \u001b[38;5;124mf\u001b[39m\u001b[38;5;124m\"\u001b[39m\u001b[38;5;124mhave shapes \u001b[39m\u001b[38;5;132;01m{\u001b[39;00mx\u001b[38;5;241m.\u001b[39mshape\u001b[38;5;132;01m}\u001b[39;00m\u001b[38;5;124m and \u001b[39m\u001b[38;5;132;01m{\u001b[39;00my\u001b[38;5;241m.\u001b[39mshape\u001b[38;5;132;01m}\u001b[39;00m\u001b[38;5;124m\"\u001b[39m)\n\u001b[1;32m    506\u001b[0m \u001b[38;5;28;01mif\u001b[39;00m x\u001b[38;5;241m.\u001b[39mndim \u001b[38;5;241m>\u001b[39m \u001b[38;5;241m2\u001b[39m \u001b[38;5;129;01mor\u001b[39;00m y\u001b[38;5;241m.\u001b[39mndim \u001b[38;5;241m>\u001b[39m \u001b[38;5;241m2\u001b[39m:\n\u001b[1;32m    507\u001b[0m     \u001b[38;5;28;01mraise\u001b[39;00m \u001b[38;5;167;01mValueError\u001b[39;00m(\u001b[38;5;124mf\u001b[39m\u001b[38;5;124m\"\u001b[39m\u001b[38;5;124mx and y can be no greater than 2D, but have \u001b[39m\u001b[38;5;124m\"\u001b[39m\n\u001b[1;32m    508\u001b[0m                      \u001b[38;5;124mf\u001b[39m\u001b[38;5;124m\"\u001b[39m\u001b[38;5;124mshapes \u001b[39m\u001b[38;5;132;01m{\u001b[39;00mx\u001b[38;5;241m.\u001b[39mshape\u001b[38;5;132;01m}\u001b[39;00m\u001b[38;5;124m and \u001b[39m\u001b[38;5;132;01m{\u001b[39;00my\u001b[38;5;241m.\u001b[39mshape\u001b[38;5;132;01m}\u001b[39;00m\u001b[38;5;124m\"\u001b[39m)\n",
      "\u001b[0;31mValueError\u001b[0m: x and y must have same first dimension, but have shapes (100,) and (2156, 1)"
     ]
    },
    {
     "data": {
      "image/png": "[encoded data removed]",
      "text/plain": [
       "<Figure size 640x480 with 1 Axes>"
      ]
     },
     "metadata": {},
     "output_type": "display_data"
    }
   ],
   "source": [
    "plt.plot(day_new,scaler.inverse_transform(df1[1158:]))\n",
    "plt.plot(day_pred,scaler.inverse_transform(lst_output))"
   ]
  },
  {
   "cell_type": "code",
   "execution_count": 446,
   "metadata": {},
   "outputs": [
    {
     "data": {
      "text/plain": [
       "[<matplotlib.lines.Line2D at 0x2d1b0f55ac8>]"
      ]
     },
     "execution_count": 446,
     "metadata": {},
     "output_type": "execute_result"
    },
    {
     "data": {
      "image/png": "[encoded data removed]",
      "text/plain": [
       "<Figure size 432x288 with 1 Axes>"
      ]
     },
     "metadata": {
      "needs_background": "light"
     },
     "output_type": "display_data"
    }
   ],
   "source": [
    "df3=df1.tolist()\n",
    "df3.extend(lst_output)\n",
    "plt.plot(df3[1200:])"
   ]
  },
  {
   "cell_type": "code",
   "execution_count": 395,
   "metadata": {},
   "outputs": [],
   "source": [
    "df3=scaler.inverse_transform(df3).tolist()"
   ]
  },
  {
   "cell_type": "code",
   "execution_count": 396,
   "metadata": {},
   "outputs": [
    {
     "data": {
      "text/plain": [
       "[<matplotlib.lines.Line2D at 0x2d1a904c470>]"
      ]
     },
     "execution_count": 396,
     "metadata": {},
     "output_type": "execute_result"
    },
    {
     "data": {
      "image/png": "[encoded data removed]",
      "text/plain": [
       "<Figure size 432x288 with 1 Axes>"
      ]
     },
     "metadata": {
      "needs_background": "light"
     },
     "output_type": "display_data"
    }
   ],
   "source": [
    "plt.plot(df3)"
   ]
  },
  {
   "cell_type": "code",
   "execution_count": null,
   "metadata": {},
   "outputs": [],
   "source": []
  }
 ],
 "metadata": {
  "kernelspec": {
   "display_name": "Python 3 (ipykernel)",
   "language": "python",
   "name": "python3"
  },
  "language_info": {
   "codemirror_mode": {
    "name": "ipython",
    "version": 3
   },
   "file_extension": ".py",
   "mimetype": "text/x-python",
   "name": "python",
   "nbconvert_exporter": "python",
   "pygments_lexer": "ipython3",
   "version": "3.9.16"
  }
 },
 "nbformat": 4,
 "nbformat_minor": 2
}
