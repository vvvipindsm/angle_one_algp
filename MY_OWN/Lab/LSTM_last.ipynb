{
 "cells": [
  {
   "cell_type": "markdown",
   "metadata": {},
   "source": [
    "### Stock Market Prediction And Forecasting Using Stacked LSTM"
   ]
  },
  {
   "cell_type": "code",
   "execution_count": 1,
   "metadata": {},
   "outputs": [
    {
     "name": "stdout",
     "output_type": "stream",
     "text": [
      "[*********************100%***********************]  1 of 1 completed\n"
     ]
    },
    {
     "data": {
      "text/html": [
       "<div>\n",
       "<style scoped>\n",
       "    .dataframe tbody tr th:only-of-type {\n",
       "        vertical-align: middle;\n",
       "    }\n",
       "\n",
       "    .dataframe tbody tr th {\n",
       "        vertical-align: top;\n",
       "    }\n",
       "\n",
       "    .dataframe thead th {\n",
       "        text-align: right;\n",
       "    }\n",
       "</style>\n",
       "<table border=\"1\" class=\"dataframe\">\n",
       "  <thead>\n",
       "    <tr style=\"text-align: right;\">\n",
       "      <th></th>\n",
       "      <th>Open</th>\n",
       "      <th>High</th>\n",
       "      <th>Low</th>\n",
       "      <th>Close</th>\n",
       "      <th>Volume</th>\n",
       "    </tr>\n",
       "    <tr>\n",
       "      <th>Date</th>\n",
       "      <th></th>\n",
       "      <th></th>\n",
       "      <th></th>\n",
       "      <th></th>\n",
       "      <th></th>\n",
       "    </tr>\n",
       "  </thead>\n",
       "  <tbody>\n",
       "    <tr>\n",
       "      <th>2010-03-08</th>\n",
       "      <td>26.707164</td>\n",
       "      <td>26.767482</td>\n",
       "      <td>26.375425</td>\n",
       "      <td>26.508984</td>\n",
       "      <td>3420936</td>\n",
       "    </tr>\n",
       "    <tr>\n",
       "      <th>2010-03-09</th>\n",
       "      <td>26.590840</td>\n",
       "      <td>26.668389</td>\n",
       "      <td>26.207400</td>\n",
       "      <td>26.315109</td>\n",
       "      <td>2820648</td>\n",
       "    </tr>\n",
       "    <tr>\n",
       "      <th>2010-03-10</th>\n",
       "      <td>26.160011</td>\n",
       "      <td>26.444360</td>\n",
       "      <td>26.069537</td>\n",
       "      <td>26.349577</td>\n",
       "      <td>2508072</td>\n",
       "    </tr>\n",
       "    <tr>\n",
       "      <th>2010-03-11</th>\n",
       "      <td>26.452974</td>\n",
       "      <td>26.625308</td>\n",
       "      <td>25.983369</td>\n",
       "      <td>26.220327</td>\n",
       "      <td>3387942</td>\n",
       "    </tr>\n",
       "    <tr>\n",
       "      <th>2010-03-12</th>\n",
       "      <td>26.280639</td>\n",
       "      <td>26.323721</td>\n",
       "      <td>26.030757</td>\n",
       "      <td>26.172932</td>\n",
       "      <td>1900506</td>\n",
       "    </tr>\n",
       "    <tr>\n",
       "      <th>...</th>\n",
       "      <td>...</td>\n",
       "      <td>...</td>\n",
       "      <td>...</td>\n",
       "      <td>...</td>\n",
       "      <td>...</td>\n",
       "    </tr>\n",
       "    <tr>\n",
       "      <th>2023-08-25</th>\n",
       "      <td>91.949997</td>\n",
       "      <td>93.199997</td>\n",
       "      <td>91.650002</td>\n",
       "      <td>91.800003</td>\n",
       "      <td>7021529</td>\n",
       "    </tr>\n",
       "    <tr>\n",
       "      <th>2023-08-28</th>\n",
       "      <td>92.250000</td>\n",
       "      <td>92.500000</td>\n",
       "      <td>91.699997</td>\n",
       "      <td>91.900002</td>\n",
       "      <td>6866040</td>\n",
       "    </tr>\n",
       "    <tr>\n",
       "      <th>2023-08-29</th>\n",
       "      <td>92.050003</td>\n",
       "      <td>92.400002</td>\n",
       "      <td>91.599998</td>\n",
       "      <td>91.900002</td>\n",
       "      <td>6510089</td>\n",
       "    </tr>\n",
       "    <tr>\n",
       "      <th>2023-08-30</th>\n",
       "      <td>91.500000</td>\n",
       "      <td>91.500000</td>\n",
       "      <td>90.599998</td>\n",
       "      <td>90.750000</td>\n",
       "      <td>10926964</td>\n",
       "    </tr>\n",
       "    <tr>\n",
       "      <th>2023-08-31</th>\n",
       "      <td>90.750000</td>\n",
       "      <td>91.550003</td>\n",
       "      <td>89.500000</td>\n",
       "      <td>89.500000</td>\n",
       "      <td>5718710</td>\n",
       "    </tr>\n",
       "  </tbody>\n",
       "</table>\n",
       "<p>3332 rows × 5 columns</p>\n",
       "</div>"
      ],
      "text/plain": [
       "                 Open       High        Low      Close    Volume\n",
       "Date                                                            \n",
       "2010-03-08  26.707164  26.767482  26.375425  26.508984   3420936\n",
       "2010-03-09  26.590840  26.668389  26.207400  26.315109   2820648\n",
       "2010-03-10  26.160011  26.444360  26.069537  26.349577   2508072\n",
       "2010-03-11  26.452974  26.625308  25.983369  26.220327   3387942\n",
       "2010-03-12  26.280639  26.323721  26.030757  26.172932   1900506\n",
       "...               ...        ...        ...        ...       ...\n",
       "2023-08-25  91.949997  93.199997  91.650002  91.800003   7021529\n",
       "2023-08-28  92.250000  92.500000  91.699997  91.900002   6866040\n",
       "2023-08-29  92.050003  92.400002  91.599998  91.900002   6510089\n",
       "2023-08-30  91.500000  91.500000  90.599998  90.750000  10926964\n",
       "2023-08-31  90.750000  91.550003  89.500000  89.500000   5718710\n",
       "\n",
       "[3332 rows x 5 columns]"
      ]
     },
     "execution_count": 1,
     "metadata": {},
     "output_type": "execute_result"
    }
   ],
   "source": [
    "import yfinance\n",
    "import matplotlib.pyplot as plt\n",
    "\n",
    "start_date = \"2017-01-01\"\n",
    "end_date = \"2023-06-01\"\n",
    "symbol = \"IOC.NS\"\n",
    "\n",
    "df = yfinance.download(tickers = symbol,start=\"2010-03-06\",\n",
    "                               interval = \"1d\", group_by = 'ticker', auto_adjust = True)\n",
    "df"
   ]
  },
  {
   "cell_type": "code",
   "execution_count": 2,
   "metadata": {},
   "outputs": [],
   "source": [
    "import pandas as pd"
   ]
  },
  {
   "cell_type": "code",
   "execution_count": 3,
   "metadata": {},
   "outputs": [
    {
     "data": {
      "text/html": [
       "<div>\n",
       "<style scoped>\n",
       "    .dataframe tbody tr th:only-of-type {\n",
       "        vertical-align: middle;\n",
       "    }\n",
       "\n",
       "    .dataframe tbody tr th {\n",
       "        vertical-align: top;\n",
       "    }\n",
       "\n",
       "    .dataframe thead th {\n",
       "        text-align: right;\n",
       "    }\n",
       "</style>\n",
       "<table border=\"1\" class=\"dataframe\">\n",
       "  <thead>\n",
       "    <tr style=\"text-align: right;\">\n",
       "      <th></th>\n",
       "      <th>count</th>\n",
       "      <th>mean</th>\n",
       "      <th>std</th>\n",
       "      <th>min</th>\n",
       "      <th>25%</th>\n",
       "      <th>50%</th>\n",
       "      <th>75%</th>\n",
       "      <th>max</th>\n",
       "    </tr>\n",
       "  </thead>\n",
       "  <tbody>\n",
       "    <tr>\n",
       "      <th>Open</th>\n",
       "      <td>3332.0</td>\n",
       "      <td>5.102892e+01</td>\n",
       "      <td>2.250705e+01</td>\n",
       "      <td>17.818321</td>\n",
       "      <td>2.974539e+01</td>\n",
       "      <td>4.440179e+01</td>\n",
       "      <td>7.188525e+01</td>\n",
       "      <td>9.968763e+01</td>\n",
       "    </tr>\n",
       "    <tr>\n",
       "      <th>High</th>\n",
       "      <td>3332.0</td>\n",
       "      <td>5.168276e+01</td>\n",
       "      <td>2.270372e+01</td>\n",
       "      <td>18.271844</td>\n",
       "      <td>3.018795e+01</td>\n",
       "      <td>4.508030e+01</td>\n",
       "      <td>7.281437e+01</td>\n",
       "      <td>1.006552e+02</td>\n",
       "    </tr>\n",
       "    <tr>\n",
       "      <th>Low</th>\n",
       "      <td>3332.0</td>\n",
       "      <td>5.029449e+01</td>\n",
       "      <td>2.221799e+01</td>\n",
       "      <td>17.392853</td>\n",
       "      <td>2.922373e+01</td>\n",
       "      <td>4.373218e+01</td>\n",
       "      <td>7.080743e+01</td>\n",
       "      <td>9.741558e+01</td>\n",
       "    </tr>\n",
       "    <tr>\n",
       "      <th>Close</th>\n",
       "      <td>3332.0</td>\n",
       "      <td>5.092838e+01</td>\n",
       "      <td>2.243970e+01</td>\n",
       "      <td>18.038071</td>\n",
       "      <td>2.970037e+01</td>\n",
       "      <td>4.435009e+01</td>\n",
       "      <td>7.171185e+01</td>\n",
       "      <td>9.886143e+01</td>\n",
       "    </tr>\n",
       "    <tr>\n",
       "      <th>Volume</th>\n",
       "      <td>3332.0</td>\n",
       "      <td>1.315732e+07</td>\n",
       "      <td>1.503976e+07</td>\n",
       "      <td>0.000000</td>\n",
       "      <td>4.272738e+06</td>\n",
       "      <td>9.178098e+06</td>\n",
       "      <td>1.661632e+07</td>\n",
       "      <td>3.148937e+08</td>\n",
       "    </tr>\n",
       "  </tbody>\n",
       "</table>\n",
       "</div>"
      ],
      "text/plain": [
       "         count          mean           std        min           25%  \\\n",
       "Open    3332.0  5.102892e+01  2.250705e+01  17.818321  2.974539e+01   \n",
       "High    3332.0  5.168276e+01  2.270372e+01  18.271844  3.018795e+01   \n",
       "Low     3332.0  5.029449e+01  2.221799e+01  17.392853  2.922373e+01   \n",
       "Close   3332.0  5.092838e+01  2.243970e+01  18.038071  2.970037e+01   \n",
       "Volume  3332.0  1.315732e+07  1.503976e+07   0.000000  4.272738e+06   \n",
       "\n",
       "                 50%           75%           max  \n",
       "Open    4.440179e+01  7.188525e+01  9.968763e+01  \n",
       "High    4.508030e+01  7.281437e+01  1.006552e+02  \n",
       "Low     4.373218e+01  7.080743e+01  9.741558e+01  \n",
       "Close   4.435009e+01  7.171185e+01  9.886143e+01  \n",
       "Volume  9.178098e+06  1.661632e+07  3.148937e+08  "
      ]
     },
     "execution_count": 3,
     "metadata": {},
     "output_type": "execute_result"
    }
   ],
   "source": [
    "df.describe().T"
   ]
  },
  {
   "cell_type": "code",
   "execution_count": 4,
   "metadata": {},
   "outputs": [],
   "source": [
    "df1 = df.reset_index()['Close']"
   ]
  },
  {
   "cell_type": "code",
   "execution_count": 5,
   "metadata": {},
   "outputs": [
    {
     "data": {
      "text/plain": [
       "0       26.508984\n",
       "1       26.315109\n",
       "2       26.349577\n",
       "3       26.220327\n",
       "4       26.172932\n",
       "          ...    \n",
       "3327    91.800003\n",
       "3328    91.900002\n",
       "3329    91.900002\n",
       "3330    90.750000\n",
       "3331    89.500000\n",
       "Name: Close, Length: 3332, dtype: float64"
      ]
     },
     "execution_count": 5,
     "metadata": {},
     "output_type": "execute_result"
    }
   ],
   "source": [
    "df1"
   ]
  },
  {
   "cell_type": "code",
   "execution_count": 6,
   "metadata": {},
   "outputs": [
    {
     "data": {
      "text/plain": [
       "[<matplotlib.lines.Line2D at 0x7f81f4e50700>]"
      ]
     },
     "execution_count": 6,
     "metadata": {},
     "output_type": "execute_result"
    },
    {
     "data": {
      "image/png": "[encoded data removed]",
      "text/plain": [
       "<Figure size 640x480 with 1 Axes>"
      ]
     },
     "metadata": {},
     "output_type": "display_data"
    }
   ],
   "source": [
    "import matplotlib.pyplot as plt\n",
    "plt.plot(df1)"
   ]
  },
  {
   "cell_type": "code",
   "execution_count": 7,
   "metadata": {},
   "outputs": [],
   "source": [
    "### LSTM are sensitive to the scale of the data. so we apply MinMax scaler "
   ]
  },
  {
   "cell_type": "code",
   "execution_count": 7,
   "metadata": {},
   "outputs": [],
   "source": [
    "import numpy as np"
   ]
  },
  {
   "cell_type": "code",
   "execution_count": 8,
   "metadata": {},
   "outputs": [],
   "source": [
    "from sklearn.preprocessing import MinMaxScaler\n",
    "scaler=MinMaxScaler(feature_range=(0,1))\n",
    "df1=scaler.fit_transform(np.array(df1).reshape(-1,1))"
   ]
  },
  {
   "cell_type": "code",
   "execution_count": 9,
   "metadata": {},
   "outputs": [
    {
     "name": "stdout",
     "output_type": "stream",
     "text": [
      "[[0.10480773]\n",
      " [0.10240899]\n",
      " [0.10283545]\n",
      " ...\n",
      " [0.91386864]\n",
      " [0.89964006]\n",
      " [0.88417423]]\n"
     ]
    }
   ],
   "source": [
    "print(df1)"
   ]
  },
  {
   "cell_type": "code",
   "execution_count": 10,
   "metadata": {},
   "outputs": [],
   "source": [
    "##splitting dataset into train and test split\n",
    "training_size=int(len(df1)*0.65)\n",
    "test_size= len(df1) - training_size\n",
    "train_data,test_data= df1[0:training_size,:] , df1[training_size:len(df1),:1]"
   ]
  },
  {
   "cell_type": "code",
   "execution_count": 11,
   "metadata": {},
   "outputs": [
    {
     "data": {
      "text/plain": [
       "(2165, 1167)"
      ]
     },
     "execution_count": 11,
     "metadata": {},
     "output_type": "execute_result"
    }
   ],
   "source": [
    "training_size,test_size"
   ]
  },
  {
   "cell_type": "code",
   "execution_count": 12,
   "metadata": {},
   "outputs": [],
   "source": [
    "import numpy\n",
    "# convert an array of values into a dataset matrix\n",
    "def create_dataset(dataset, time_step=1):\n",
    "    dataX, dataY = [], []\n",
    "    for i in range(len(dataset)-time_step-1):\n",
    "        a = dataset[i:(i+time_step), 0]   ###i=0, 0,1,2,3-----99   100 \n",
    "        dataX.append(a)\n",
    "        dataY.append(dataset[i + time_step, 0])\n",
    "    return numpy.array(dataX), numpy.array(dataY)"
   ]
  },
  {
   "cell_type": "code",
   "execution_count": 13,
   "metadata": {},
   "outputs": [],
   "source": [
    "# reshape into X=t,t+1,t+2,t+3 and Y=t+4\n",
    "time_step = 100\n",
    "X_train, y_train = create_dataset(train_data, time_step)\n",
    "X_test, ytest = create_dataset(test_data, time_step)"
   ]
  },
  {
   "cell_type": "code",
   "execution_count": 14,
   "metadata": {},
   "outputs": [
    {
     "name": "stdout",
     "output_type": "stream",
     "text": [
      "(1066, 100)\n",
      "(1066,)\n"
     ]
    },
    {
     "data": {
      "text/plain": [
       "(None, None)"
      ]
     },
     "execution_count": 14,
     "metadata": {},
     "output_type": "execute_result"
    }
   ],
   "source": [
    "print(X_test.shape), print(ytest.shape)"
   ]
  },
  {
   "cell_type": "code",
   "execution_count": 15,
   "metadata": {},
   "outputs": [],
   "source": [
    "# reshape input to be [samples, time steps, features] which is required for LSTM\n",
    "X_train =X_train.reshape(X_train.shape[0],X_train.shape[1] , 1)\n",
    "X_test = X_test.reshape(X_test.shape[0],X_test.shape[1] , 1)"
   ]
  },
  {
   "cell_type": "code",
   "execution_count": 16,
   "metadata": {},
   "outputs": [
    {
     "name": "stderr",
     "output_type": "stream",
     "text": [
      "2023-08-31 12:14:46.088584: I tensorflow/core/platform/cpu_feature_guard.cc:182] This TensorFlow binary is optimized to use available CPU instructions in performance-critical operations.\n",
      "To enable the following instructions: AVX2 FMA, in other operations, rebuild TensorFlow with the appropriate compiler flags.\n"
     ]
    }
   ],
   "source": [
    "### Create the Stacked LSTM model\n",
    "from tensorflow.keras.models import Sequential\n",
    "from tensorflow.keras.layers import Dense\n",
    "from tensorflow.keras.layers import LSTM"
   ]
  },
  {
   "cell_type": "code",
   "execution_count": 18,
   "metadata": {},
   "outputs": [],
   "source": [
    "model=Sequential()\n",
    "model.add(LSTM(50,return_sequences=True,input_shape=(100,1)))\n",
    "model.add(LSTM(50,return_sequences=True))\n",
    "model.add(LSTM(50))\n",
    "model.add(Dense(1))\n",
    "model.compile(loss='mean_squared_error',optimizer='adam')"
   ]
  },
  {
   "cell_type": "code",
   "execution_count": 19,
   "metadata": {},
   "outputs": [
    {
     "name": "stdout",
     "output_type": "stream",
     "text": [
      "Model: \"sequential\"\n",
      "_________________________________________________________________\n",
      " Layer (type)                Output Shape              Param #   \n",
      "=================================================================\n",
      " lstm (LSTM)                 (None, 100, 50)           10400     \n",
      "                                                                 \n",
      " lstm_1 (LSTM)               (None, 100, 50)           20200     \n",
      "                                                                 \n",
      " lstm_2 (LSTM)               (None, 50)                20200     \n",
      "                                                                 \n",
      " dense (Dense)               (None, 1)                 51        \n",
      "                                                                 \n",
      "=================================================================\n",
      "Total params: 50851 (198.64 KB)\n",
      "Trainable params: 50851 (198.64 KB)\n",
      "Non-trainable params: 0 (0.00 Byte)\n",
      "_________________________________________________________________\n"
     ]
    }
   ],
   "source": [
    "model.summary()"
   ]
  },
  {
   "cell_type": "code",
   "execution_count": 21,
   "metadata": {},
   "outputs": [
    {
     "name": "stdout",
     "output_type": "stream",
     "text": [
      "Epoch 1/10\n",
      "33/33 [==============================] - 12s 232ms/step - loss: 0.0237 - val_loss: 0.0036\n",
      "Epoch 2/10\n",
      "33/33 [==============================] - 7s 201ms/step - loss: 0.0015 - val_loss: 9.6555e-04\n",
      "Epoch 3/10\n",
      "33/33 [==============================] - 6s 196ms/step - loss: 9.3509e-04 - val_loss: 9.0063e-04\n",
      "Epoch 4/10\n",
      "33/33 [==============================] - 6s 189ms/step - loss: 9.1304e-04 - val_loss: 9.0680e-04\n",
      "Epoch 5/10\n",
      "33/33 [==============================] - 7s 224ms/step - loss: 9.0197e-04 - val_loss: 8.5295e-04\n",
      "Epoch 6/10\n",
      "33/33 [==============================] - 7s 214ms/step - loss: 8.6489e-04 - val_loss: 9.4421e-04\n",
      "Epoch 7/10\n",
      "33/33 [==============================] - 7s 205ms/step - loss: 8.3827e-04 - val_loss: 8.0059e-04\n",
      "Epoch 8/10\n",
      "33/33 [==============================] - 6s 196ms/step - loss: 8.9606e-04 - val_loss: 9.9811e-04\n",
      "Epoch 9/10\n",
      "33/33 [==============================] - 8s 254ms/step - loss: 8.3202e-04 - val_loss: 7.5366e-04\n",
      "Epoch 10/10\n",
      "33/33 [==============================] - 11s 343ms/step - loss: 7.8107e-04 - val_loss: 7.4021e-04\n"
     ]
    },
    {
     "data": {
      "text/plain": [
       "<keras.src.callbacks.History at 0x7f81e3781610>"
      ]
     },
     "execution_count": 21,
     "metadata": {},
     "output_type": "execute_result"
    }
   ],
   "source": [
    "model.fit(X_train,y_train,validation_data=(X_train,y_train),epochs=10,batch_size=64,verbose=1)"
   ]
  },
  {
   "cell_type": "code",
   "execution_count": 22,
   "metadata": {},
   "outputs": [],
   "source": [
    "import tensorflow as tf"
   ]
  },
  {
   "cell_type": "code",
   "execution_count": 23,
   "metadata": {},
   "outputs": [
    {
     "name": "stdout",
     "output_type": "stream",
     "text": [
      "65/65 [==============================] - 7s 78ms/step\n",
      "34/34 [==============================] - 3s 88ms/step\n"
     ]
    }
   ],
   "source": [
    "### Lets Do the prediction and check performance metrics\n",
    "train_predict=model.predict(X_train)\n",
    "test_predict=model.predict(X_test)"
   ]
  },
  {
   "cell_type": "code",
   "execution_count": 24,
   "metadata": {},
   "outputs": [],
   "source": [
    "##Transformback to original form\n",
    "train_predict = scaler.inverse_transform(train_predict)\n",
    "test_predict  = scaler.inverse_transform(test_predict)"
   ]
  },
  {
   "cell_type": "code",
   "execution_count": 25,
   "metadata": {},
   "outputs": [
    {
     "data": {
      "text/plain": [
       "49.42487779095012"
      ]
     },
     "execution_count": 25,
     "metadata": {},
     "output_type": "execute_result"
    }
   ],
   "source": [
    "### Calculate RMSE performance metrics\n",
    "import math\n",
    "from sklearn.metrics import mean_squared_error\n",
    "math.sqrt(mean_squared_error(y_train,train_predict))"
   ]
  },
  {
   "cell_type": "code",
   "execution_count": 27,
   "metadata": {},
   "outputs": [
    {
     "data": {
      "text/plain": [
       "66.63568562536813"
      ]
     },
     "execution_count": 27,
     "metadata": {},
     "output_type": "execute_result"
    }
   ],
   "source": [
    "### Test Data RMSE\n",
    "math.sqrt(mean_squared_error(ytest,test_predict))"
   ]
  },
  {
   "cell_type": "code",
   "execution_count": 29,
   "metadata": {},
   "outputs": [],
   "source": [
    "indexs = df.index"
   ]
  },
  {
   "cell_type": "code",
   "execution_count": 30,
   "metadata": {},
   "outputs": [
    {
     "name": "stderr",
     "output_type": "stream",
     "text": [
      "No artists with labels found to put in legend.  Note that artists whose label start with an underscore are ignored when legend() is called with no argument.\n"
     ]
    },
    {
     "data": {
      "image/png": "[encoded data removed]",
      "text/plain": [
       "<Figure size 1200x600 with 1 Axes>"
      ]
     },
     "metadata": {},
     "output_type": "display_data"
    }
   ],
   "source": [
    "# shift test predictions for plotting\n",
    "look_back =100\n",
    "testPredictPlot = numpy.empty_like(df1)\n",
    "testPredictPlot[:, :] = numpy.nan\n",
    "testPredictPlot[len(train_predict)+(look_back*2)+1:len(df1)-1, :] = test_predict\n",
    "\n",
    "test_df = pd.DataFrame({\"close\" :testPredictPlot[:,0] ,\"date\" : indexs })\n",
    "test_df['date'] = pd.to_datetime(test_df['date'])\n",
    "\n",
    "# Set the 'Date' column as the index\n",
    "test_df.set_index('date', inplace=True)\n",
    "#test_df.plot(figsize=(12, 6))\n",
    "\n",
    "\n",
    "plt.figure(figsize=(12, 6))  # Width: 8 inches, Height: 6 inches\n",
    "plt.plot(test_df)\n",
    "#plt.plot(trained_df)\n",
    "plt.plot(df[[\"Close\"]])\n",
    "\n",
    "\n",
    "plt.title('Market Prediction')\n",
    "\n",
    "plt.xlabel('Date')\n",
    "plt.ylabel('Value')\n",
    "plt.legend()  # Show legend with labels\n",
    "plt.show()"
   ]
  },
  {
   "cell_type": "code",
   "execution_count": 33,
   "metadata": {},
   "outputs": [
    {
     "data": {
      "text/html": [
       "<div>\n",
       "<style scoped>\n",
       "    .dataframe tbody tr th:only-of-type {\n",
       "        vertical-align: middle;\n",
       "    }\n",
       "\n",
       "    .dataframe tbody tr th {\n",
       "        vertical-align: top;\n",
       "    }\n",
       "\n",
       "    .dataframe thead th {\n",
       "        text-align: right;\n",
       "    }\n",
       "</style>\n",
       "<table border=\"1\" class=\"dataframe\">\n",
       "  <thead>\n",
       "    <tr style=\"text-align: right;\">\n",
       "      <th></th>\n",
       "      <th>close</th>\n",
       "    </tr>\n",
       "    <tr>\n",
       "      <th>date</th>\n",
       "      <th></th>\n",
       "    </tr>\n",
       "  </thead>\n",
       "  <tbody>\n",
       "    <tr>\n",
       "      <th>2023-08-31</th>\n",
       "      <td>NaN</td>\n",
       "    </tr>\n",
       "  </tbody>\n",
       "</table>\n",
       "</div>"
      ],
      "text/plain": [
       "            close\n",
       "date             \n",
       "2023-08-31    NaN"
      ]
     },
     "execution_count": 33,
     "metadata": {},
     "output_type": "execute_result"
    }
   ],
   "source": [
    "test_df.tail(1)"
   ]
  },
  {
   "cell_type": "code",
   "execution_count": null,
   "metadata": {},
   "outputs": [],
   "source": [
    "len(test_data)"
   ]
  },
  {
   "cell_type": "code",
   "execution_count": null,
   "metadata": {},
   "outputs": [],
   "source": [
    "x_input=test_data[341:].reshape(1,-1)\n",
    "x_input.shape\n"
   ]
  },
  {
   "cell_type": "code",
   "execution_count": null,
   "metadata": {},
   "outputs": [],
   "source": []
  },
  {
   "cell_type": "code",
   "execution_count": null,
   "metadata": {},
   "outputs": [],
   "source": []
  },
  {
   "cell_type": "code",
   "execution_count": null,
   "metadata": {},
   "outputs": [],
   "source": [
    "temp_input=list(x_input)\n",
    "temp_input=temp_input[0].tolist()"
   ]
  },
  {
   "cell_type": "code",
   "execution_count": null,
   "metadata": {},
   "outputs": [],
   "source": [
    "temp_input"
   ]
  },
  {
   "cell_type": "code",
   "execution_count": null,
   "metadata": {},
   "outputs": [],
   "source": [
    "# demonstrate prediction for next 10 days\n",
    "from numpy import array\n",
    "\n",
    "lst_output=[]\n",
    "n_steps=100\n",
    "i=0\n",
    "while(i<30):\n",
    "    \n",
    "    if(len(temp_input)>100):\n",
    "        #print(temp_input)\n",
    "        x_input=np.array(temp_input[1:])\n",
    "        print(\"{} day input {}\".format(i,x_input))\n",
    "        x_input=x_input.reshape(1,-1)\n",
    "        x_input = x_input.reshape((1, n_steps, 1))\n",
    "        #print(x_input)\n",
    "        yhat = model.predict(x_input, verbose=0)\n",
    "        print(\"{} day output {}\".format(i,yhat))\n",
    "        temp_input.extend(yhat[0].tolist())\n",
    "        temp_input=temp_input[1:]\n",
    "        #print(temp_input)\n",
    "        lst_output.extend(yhat.tolist())\n",
    "        i=i+1\n",
    "    else:\n",
    "        x_input = x_input.reshape((1, n_steps,1))\n",
    "        yhat = model.predict(x_input, verbose=0)\n",
    "        print(yhat[0])\n",
    "        temp_input.extend(yhat[0].tolist())\n",
    "        print(len(temp_input))\n",
    "        lst_output.extend(yhat.tolist())\n",
    "        i=i+1\n",
    "    \n",
    "\n",
    "print(lst_output)"
   ]
  },
  {
   "cell_type": "code",
   "execution_count": null,
   "metadata": {},
   "outputs": [],
   "source": [
    "day_new=np.arange(1,101)\n",
    "day_pred=np.arange(101,131)"
   ]
  },
  {
   "cell_type": "code",
   "execution_count": null,
   "metadata": {},
   "outputs": [],
   "source": [
    "import matplotlib.pyplot as plt"
   ]
  },
  {
   "cell_type": "code",
   "execution_count": null,
   "metadata": {},
   "outputs": [],
   "source": [
    "len(df1)"
   ]
  },
  {
   "cell_type": "code",
   "execution_count": null,
   "metadata": {},
   "outputs": [],
   "source": []
  },
  {
   "cell_type": "code",
   "execution_count": null,
   "metadata": {},
   "outputs": [],
   "source": [
    "plt.plot(day_new,scaler.inverse_transform(df1[1158:]))\n",
    "plt.plot(day_pred,scaler.inverse_transform(lst_output))"
   ]
  },
  {
   "cell_type": "code",
   "execution_count": null,
   "metadata": {},
   "outputs": [],
   "source": [
    "df3=df1.tolist()\n",
    "df3.extend(lst_output)\n",
    "plt.plot(df3[1200:])"
   ]
  },
  {
   "cell_type": "code",
   "execution_count": null,
   "metadata": {},
   "outputs": [],
   "source": [
    "df3=scaler.inverse_transform(df3).tolist()"
   ]
  },
  {
   "cell_type": "code",
   "execution_count": null,
   "metadata": {},
   "outputs": [],
   "source": [
    "plt.plot(df3)"
   ]
  },
  {
   "cell_type": "code",
   "execution_count": null,
   "metadata": {},
   "outputs": [],
   "source": []
  }
 ],
 "metadata": {
  "kernelspec": {
   "display_name": "Python 3 (ipykernel)",
   "language": "python",
   "name": "python3"
  },
  "language_info": {
   "codemirror_mode": {
    "name": "ipython",
    "version": 3
   },
   "file_extension": ".py",
   "mimetype": "text/x-python",
   "name": "python",
   "nbconvert_exporter": "python",
   "pygments_lexer": "ipython3",
   "version": "3.9.16"
  }
 },
 "nbformat": 4,
 "nbformat_minor": 2
}
