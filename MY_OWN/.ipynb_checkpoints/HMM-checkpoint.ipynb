{
 "cells": [
  {
   "cell_type": "markdown",
   "id": "65ad176b",
   "metadata": {},
   "source": [
    "### Case Study"
   ]
  },
  {
   "cell_type": "markdown",
   "id": "2a4028a5",
   "metadata": {},
   "source": [
    "Many strategies can be highly profitable depending on whether you are in an upward trending, downward trending or oscillating market. However, how can you tell what market you are in and in addition do this without an subjective bias?\n",
    "\n",
    "Hidden Markov Models allow us to determine any number of states we like, given inputs such as returns and volatility (or any inputs of your choosing), to help ascertain what state - or regime - the market is in. This is part of a type of analysis known as Regime identification."
   ]
  },
  {
   "cell_type": "markdown",
   "id": "2195863e",
   "metadata": {},
   "source": [
    "### Imports"
   ]
  },
  {
   "cell_type": "code",
   "execution_count": 1,
   "id": "a0b3e65c",
   "metadata": {},
   "outputs": [
    {
     "name": "stderr",
     "output_type": "stream",
     "text": [
      "/Users/vipin/opt/anaconda3/envs/my_own/lib/python3.9/site-packages/fix_yahoo_finance/__init__.py:0: DeprecationWarning: \n",
      "\n",
      "*** `fix_yahoo_finance` was renamed to `yfinance`. ***\n",
      "Please install and use `yfinance` directly using `pip install yfinance -U`\n",
      "\n",
      "More information: https://github.com/ranaroussi/yfinance\n",
      "\n"
     ]
    }
   ],
   "source": [
    "\n",
    "import pandas as pd\n",
    "import numpy as np\n",
    "\n",
    "from pyhhmm.gaussian import GaussianHMM\n",
    "\n",
    "\n",
    "import matplotlib.pyplot as plt\n",
    "import fix_yahoo_finance\n",
    "import yfinance"
   ]
  },
  {
   "cell_type": "markdown",
   "id": "bf480094",
   "metadata": {},
   "source": [
    "### Data Management"
   ]
  },
  {
   "cell_type": "code",
   "execution_count": 4,
   "id": "3bd8b57c",
   "metadata": {},
   "outputs": [
    {
     "name": "stdout",
     "output_type": "stream",
     "text": [
      "[*********************100%***********************]  1 of 1 completed\n"
     ]
    }
   ],
   "source": [
    "# Data Extraction\n",
    "start_date = \"2017-01-1\"\n",
    "end_date = \"2022-06-1\"\n",
    "symbol = \"SPY\"\n",
    "\n",
    "data = yfinance.download(tickers = \"IOC.NS\",start=\"2010-03-06\",\n",
    "                               interval = \"1d\", group_by = 'ticker', auto_adjust = True)\n",
    "\n",
    "\n",
    "\n",
    "data = data[[\"Open\", \"High\", \"Low\", \"Close\",\"Volume\"]]\n"
   ]
  },
  {
   "cell_type": "code",
   "execution_count": 5,
   "id": "3c5b9a47",
   "metadata": {},
   "outputs": [
    {
     "data": {
      "text/html": [
       "<div>\n",
       "<style scoped>\n",
       "    .dataframe tbody tr th:only-of-type {\n",
       "        vertical-align: middle;\n",
       "    }\n",
       "\n",
       "    .dataframe tbody tr th {\n",
       "        vertical-align: top;\n",
       "    }\n",
       "\n",
       "    .dataframe thead th {\n",
       "        text-align: right;\n",
       "    }\n",
       "</style>\n",
       "<table border=\"1\" class=\"dataframe\">\n",
       "  <thead>\n",
       "    <tr style=\"text-align: right;\">\n",
       "      <th></th>\n",
       "      <th>Open</th>\n",
       "      <th>High</th>\n",
       "      <th>Low</th>\n",
       "      <th>Close</th>\n",
       "      <th>Volume</th>\n",
       "      <th>Returns</th>\n",
       "      <th>Range</th>\n",
       "    </tr>\n",
       "    <tr>\n",
       "      <th>Date</th>\n",
       "      <th></th>\n",
       "      <th></th>\n",
       "      <th></th>\n",
       "      <th></th>\n",
       "      <th></th>\n",
       "      <th></th>\n",
       "      <th></th>\n",
       "    </tr>\n",
       "  </thead>\n",
       "  <tbody>\n",
       "    <tr>\n",
       "      <th>2010-03-09</th>\n",
       "      <td>27.425285</td>\n",
       "      <td>27.505267</td>\n",
       "      <td>27.029813</td>\n",
       "      <td>27.140902</td>\n",
       "      <td>2820648</td>\n",
       "      <td>-0.007313</td>\n",
       "      <td>0.017590</td>\n",
       "    </tr>\n",
       "    <tr>\n",
       "      <th>2010-03-10</th>\n",
       "      <td>26.980930</td>\n",
       "      <td>27.274203</td>\n",
       "      <td>26.887617</td>\n",
       "      <td>27.176445</td>\n",
       "      <td>2508072</td>\n",
       "      <td>0.001310</td>\n",
       "      <td>0.014378</td>\n",
       "    </tr>\n",
       "    <tr>\n",
       "      <th>2010-03-11</th>\n",
       "      <td>27.283092</td>\n",
       "      <td>27.460833</td>\n",
       "      <td>26.798750</td>\n",
       "      <td>27.043144</td>\n",
       "      <td>3387942</td>\n",
       "      <td>-0.004905</td>\n",
       "      <td>0.024706</td>\n",
       "    </tr>\n",
       "    <tr>\n",
       "      <th>2010-03-12</th>\n",
       "      <td>27.105348</td>\n",
       "      <td>27.149782</td>\n",
       "      <td>26.847624</td>\n",
       "      <td>26.994261</td>\n",
       "      <td>1900506</td>\n",
       "      <td>-0.001808</td>\n",
       "      <td>0.011255</td>\n",
       "    </tr>\n",
       "    <tr>\n",
       "      <th>2010-03-15</th>\n",
       "      <td>27.016477</td>\n",
       "      <td>27.087574</td>\n",
       "      <td>26.216647</td>\n",
       "      <td>26.425493</td>\n",
       "      <td>2753304</td>\n",
       "      <td>-0.021070</td>\n",
       "      <td>0.033220</td>\n",
       "    </tr>\n",
       "  </tbody>\n",
       "</table>\n",
       "</div>"
      ],
      "text/plain": [
       "                 Open       High        Low      Close   Volume   Returns  \\\n",
       "Date                                                                        \n",
       "2010-03-09  27.425285  27.505267  27.029813  27.140902  2820648 -0.007313   \n",
       "2010-03-10  26.980930  27.274203  26.887617  27.176445  2508072  0.001310   \n",
       "2010-03-11  27.283092  27.460833  26.798750  27.043144  3387942 -0.004905   \n",
       "2010-03-12  27.105348  27.149782  26.847624  26.994261  1900506 -0.001808   \n",
       "2010-03-15  27.016477  27.087574  26.216647  26.425493  2753304 -0.021070   \n",
       "\n",
       "               Range  \n",
       "Date                  \n",
       "2010-03-09  0.017590  \n",
       "2010-03-10  0.014378  \n",
       "2010-03-11  0.024706  \n",
       "2010-03-12  0.011255  \n",
       "2010-03-15  0.033220  "
      ]
     },
     "execution_count": 5,
     "metadata": {},
     "output_type": "execute_result"
    }
   ],
   "source": [
    "# Add Returns and Range\n",
    "df = data.copy()\n",
    "df[\"Returns\"] = (df[\"Close\"] / df[\"Close\"].shift(1)) - 1\n",
    "df[\"Range\"] = (df[\"High\"] / df[\"Low\"]) - 1\n",
    "df.dropna(inplace=True)\n",
    "df.head()"
   ]
  },
  {
   "cell_type": "code",
   "execution_count": 6,
   "id": "257e5cd2",
   "metadata": {},
   "outputs": [
    {
     "data": {
      "text/html": [
       "<div>\n",
       "<style scoped>\n",
       "    .dataframe tbody tr th:only-of-type {\n",
       "        vertical-align: middle;\n",
       "    }\n",
       "\n",
       "    .dataframe tbody tr th {\n",
       "        vertical-align: top;\n",
       "    }\n",
       "\n",
       "    .dataframe thead th {\n",
       "        text-align: right;\n",
       "    }\n",
       "</style>\n",
       "<table border=\"1\" class=\"dataframe\">\n",
       "  <thead>\n",
       "    <tr style=\"text-align: right;\">\n",
       "      <th></th>\n",
       "      <th>Returns</th>\n",
       "      <th>Range</th>\n",
       "    </tr>\n",
       "    <tr>\n",
       "      <th>Date</th>\n",
       "      <th></th>\n",
       "      <th></th>\n",
       "    </tr>\n",
       "  </thead>\n",
       "  <tbody>\n",
       "    <tr>\n",
       "      <th>2010-03-09</th>\n",
       "      <td>-0.007313</td>\n",
       "      <td>0.017590</td>\n",
       "    </tr>\n",
       "    <tr>\n",
       "      <th>2010-03-10</th>\n",
       "      <td>0.001310</td>\n",
       "      <td>0.014378</td>\n",
       "    </tr>\n",
       "    <tr>\n",
       "      <th>2010-03-11</th>\n",
       "      <td>-0.004905</td>\n",
       "      <td>0.024706</td>\n",
       "    </tr>\n",
       "    <tr>\n",
       "      <th>2010-03-12</th>\n",
       "      <td>-0.001808</td>\n",
       "      <td>0.011255</td>\n",
       "    </tr>\n",
       "    <tr>\n",
       "      <th>2010-03-15</th>\n",
       "      <td>-0.021070</td>\n",
       "      <td>0.033220</td>\n",
       "    </tr>\n",
       "  </tbody>\n",
       "</table>\n",
       "</div>"
      ],
      "text/plain": [
       "             Returns     Range\n",
       "Date                          \n",
       "2010-03-09 -0.007313  0.017590\n",
       "2010-03-10  0.001310  0.014378\n",
       "2010-03-11 -0.004905  0.024706\n",
       "2010-03-12 -0.001808  0.011255\n",
       "2010-03-15 -0.021070  0.033220"
      ]
     },
     "execution_count": 6,
     "metadata": {},
     "output_type": "execute_result"
    }
   ],
   "source": [
    "# Structure Data\n",
    "X_train = df[[\"Returns\", \"Range\"]]\n",
    "X_train.head()"
   ]
  },
  {
   "cell_type": "markdown",
   "id": "221fc31e",
   "metadata": {},
   "source": [
    "### HMM Learning"
   ]
  },
  {
   "cell_type": "code",
   "execution_count": 7,
   "id": "112f7d54",
   "metadata": {},
   "outputs": [
    {
     "name": "stderr",
     "output_type": "stream",
     "text": [
      "/Users/vipin/opt/anaconda3/envs/my_own/lib/python3.9/site-packages/sklearn/cluster/_kmeans.py:1412: FutureWarning: The default value of `n_init` will change from 10 to 'auto' in 1.4. Set the value of `n_init` explicitly to suppress the warning\n",
      "  super()._check_params_vs_input(X, default_n_init=10)\n"
     ]
    },
    {
     "data": {
      "text/plain": [
       "(<pyhhmm.gaussian.GaussianHMM at 0x7fe067c11670>, 19003.577313985268)"
      ]
     },
     "execution_count": 7,
     "metadata": {},
     "output_type": "execute_result"
    }
   ],
   "source": [
    "# Train Model\n",
    "model = GaussianHMM(n_states=3, covariance_type='full', n_emissions=3)\n",
    "model.train([np.array(X_train.values)])"
   ]
  },
  {
   "cell_type": "code",
   "execution_count": 13,
   "id": "9127c7e9",
   "metadata": {},
   "outputs": [
    {
     "name": "stdout",
     "output_type": "stream",
     "text": [
      "[2 2 2 2 2 1 2 2 2 2 2 2 2 1 2 2 1 2 2 2 2 2 2 2 2 2 2 2 2 2 2 2 2 2 0 3 3\n",
      " 0 2 1]\n"
     ]
    },
    {
     "data": {
      "text/plain": [
       "3293"
      ]
     },
     "execution_count": 13,
     "metadata": {},
     "output_type": "execute_result"
    }
   ],
   "source": [
    "# Check Results\n",
    "hidden_states = model.predict([X_train.values])[0]\n",
    "print(hidden_states[:40])\n",
    "len(hidden_states)"
   ]
  },
  {
   "cell_type": "code",
   "execution_count": 14,
   "id": "731a5ff4",
   "metadata": {},
   "outputs": [
    {
     "data": {
      "text/plain": [
       "array([[-0.01838655,  0.03829334],\n",
       "       [ 0.01066606,  0.02656772],\n",
       "       [-0.00193708,  0.02086038],\n",
       "       [ 0.01299883,  0.07016452]])"
      ]
     },
     "execution_count": 14,
     "metadata": {},
     "output_type": "execute_result"
    }
   ],
   "source": [
    "# Regime state means for each feature\n",
    "model.means"
   ]
  },
  {
   "cell_type": "code",
   "execution_count": 10,
   "id": "e746c3f2",
   "metadata": {},
   "outputs": [
    {
     "data": {
      "text/plain": [
       "array([[[ 2.29468546e-04, -7.43041467e-05],\n",
       "        [-7.43041467e-05,  1.63317830e-04]],\n",
       "\n",
       "       [[ 2.09885749e-04,  9.75856122e-05],\n",
       "        [ 9.75856122e-05,  1.15490718e-04]],\n",
       "\n",
       "       [[ 1.03859157e-04, -1.73020359e-05],\n",
       "        [-1.73020359e-05,  5.60838019e-05]],\n",
       "\n",
       "       [[ 1.89460054e-03, -9.07138089e-05],\n",
       "        [-9.07138089e-05,  1.15306299e-03]]])"
      ]
     },
     "execution_count": 10,
     "metadata": {},
     "output_type": "execute_result"
    }
   ],
   "source": [
    "# Regime state covars for each feature\n",
    "model.covars"
   ]
  },
  {
   "cell_type": "markdown",
   "id": "9180c723",
   "metadata": {},
   "source": [
    "### Data Visualization"
   ]
  },
  {
   "cell_type": "code",
   "execution_count": 15,
   "id": "e43f0eb8",
   "metadata": {},
   "outputs": [
    {
     "name": "stdout",
     "output_type": "stream",
     "text": [
      "Correct number of rows:  True\n"
     ]
    }
   ],
   "source": [
    "# Structure the prices for plotting\n",
    "i = 0\n",
    "labels_0 = []\n",
    "labels_1 = []\n",
    "labels_2 = []\n",
    "labels_3 = []\n",
    "prices = df[\"Close\"].values.astype(float)\n",
    "print(\"Correct number of rows: \", len(prices) == len(hidden_states))\n",
    "for s in hidden_states:\n",
    "    if s == 0:\n",
    "        labels_0.append(prices[i])\n",
    "        labels_1.append(float('nan'))\n",
    "        labels_2.append(float('nan'))\n",
    "        labels_3.append(float('nan'))\n",
    "    if s == 1:\n",
    "        labels_0.append(float('nan'))\n",
    "        labels_1.append(prices[i])\n",
    "        labels_2.append(float('nan'))\n",
    "        labels_3.append(float('nan'))\n",
    "    if s == 2:\n",
    "        labels_0.append(float('nan'))\n",
    "        labels_1.append(float('nan'))\n",
    "        labels_2.append(prices[i])\n",
    "        labels_3.append(float('nan'))\n",
    "    if s == 3:\n",
    "        labels_0.append(float('nan'))\n",
    "        labels_1.append(float('nan'))\n",
    "        labels_2.append(float('nan'))\n",
    "        labels_3.append(prices[i])\n",
    "    i += 1"
   ]
  },
  {
   "cell_type": "code",
   "execution_count": 16,
   "id": "743cd96e",
   "metadata": {},
   "outputs": [
    {
     "data": {
      "image/png": "[encoded data removed]",
      "text/plain": [
       "<Figure size 1800x800 with 1 Axes>"
      ]
     },
     "metadata": {},
     "output_type": "display_data"
    }
   ],
   "source": [
    "# Plot Chart\n",
    "fig = plt.figure(figsize= (18, 8))\n",
    "plt.plot(labels_0, color=\"green\")\n",
    "plt.plot(labels_1, color=\"red\")\n",
    "plt.plot(labels_2, color=\"orange\")\n",
    "plt.plot(labels_3, color=\"black\")\n",
    "plt.show()"
   ]
  },
  {
   "cell_type": "markdown",
   "id": "6bbeec1c",
   "metadata": {},
   "source": [
    "### Conclusion"
   ]
  },
  {
   "cell_type": "markdown",
   "id": "2c95a23f",
   "metadata": {},
   "source": [
    "Although work is still yet to be done in the following notebook, we can cleary see from the chart above, that the Hidden Markov Model has been able to identify market regimes based on returns and volatility behaviour."
   ]
  },
  {
   "cell_type": "markdown",
   "id": "4b39b06e",
   "metadata": {},
   "source": [
    "### Useful Resources"
   ]
  },
  {
   "cell_type": "markdown",
   "id": "430a1628",
   "metadata": {},
   "source": [
    "HMM Colab Version with Backtest: https://colab.research.google.com/drive/12qzR8SrhfhQDBImKYQqUKdj6n60E9jNp?usp=sharing"
   ]
  }
 ],
 "metadata": {
  "kernelspec": {
   "display_name": "Python 3 (ipykernel)",
   "language": "python",
   "name": "python3"
  },
  "language_info": {
   "codemirror_mode": {
    "name": "ipython",
    "version": 3
   },
   "file_extension": ".py",
   "mimetype": "text/x-python",
   "name": "python",
   "nbconvert_exporter": "python",
   "pygments_lexer": "ipython3",
   "version": "3.9.16"
  }
 },
 "nbformat": 4,
 "nbformat_minor": 5
}
