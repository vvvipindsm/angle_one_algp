{
 "cells": [
  {
   "cell_type": "markdown",
   "id": "44b4b74f",
   "metadata": {},
   "source": [
    "### Imports"
   ]
  },
  {
   "cell_type": "code",
   "execution_count": 1,
   "id": "23d0372c",
   "metadata": {},
   "outputs": [],
   "source": [
    "# Remove unwanted warnings\n",
    "import warnings\n",
    "warnings.simplefilter(action='ignore', category=FutureWarning)\n",
    "warnings.simplefilter(action='ignore', category=RuntimeWarning)\n",
    "\n",
    "# Data Management\n",
    "import pandas as pd\n",
    "import numpy as np\n",
    "\n",
    "from ta import add_all_ta_features\n",
    "\n",
    "# Statistics\n",
    "from statsmodels.tsa.stattools import adfuller\n",
    "\n",
    "# Unsupervised Machine Learning\n",
    "from sklearn.decomposition import PCA\n",
    "\n",
    "# Supervised Machine Learning\n",
    "from sklearn.preprocessing import StandardScaler\n",
    "from sklearn.model_selection import train_test_split\n",
    "from sklearn.ensemble import RandomForestClassifier\n",
    "from sklearn.metrics import accuracy_score\n",
    "from sklearn.metrics import precision_score\n",
    "import pickle \n",
    "\n",
    "\n",
    "# Reporting\n",
    "import matplotlib.pyplot as plt\n",
    "import yfinance"
   ]
  },
  {
   "cell_type": "code",
   "execution_count": 2,
   "id": "c0641108",
   "metadata": {},
   "outputs": [],
   "source": [
    "findFeature = False\n",
    "#[OLECTRA,\"LT\",\"CONCOR\",\"ELGIEQUIP\",\"IOC\",\"BEL\",\"TATAELXSI\",\"^NSEI\"]\n",
    "#[\"RELI\",\"HDFCBANK.NS\",\"TATAMOTORS.NS\",\"SBIN.NS\",\"TCS.NS\",\"TITAN.NS\",\"SUNPHARMA.BO\",\"TECHM.NS\", \"ASIANPAINT.NS\",\"TATACONSUM.NS\"]\n",
    "stock_name = \"ASIANPAINT.NS\"\n",
    "isForex = False\n",
    "disableStationaryCheck = False\n",
    "features = []\n",
    "if findFeature == False:\n",
    "    with open('./TrainedModel/indicator/{}_features.txt'.format(stock_name), 'rb') as f:\n",
    "            features = pickle.load(f)\n",
    "           # print(feature_item)\n",
    "            features.append(\"TARGET\")\n",
    "\n"
   ]
  },
  {
   "cell_type": "markdown",
   "id": "339f3702",
   "metadata": {},
   "source": [
    "### Initial Data Extraction"
   ]
  },
  {
   "cell_type": "code",
   "execution_count": 3,
   "id": "91083209",
   "metadata": {},
   "outputs": [
    {
     "data": {
      "text/html": [
       "<div>\n",
       "<style scoped>\n",
       "    .dataframe tbody tr th:only-of-type {\n",
       "        vertical-align: middle;\n",
       "    }\n",
       "\n",
       "    .dataframe tbody tr th {\n",
       "        vertical-align: top;\n",
       "    }\n",
       "\n",
       "    .dataframe thead th {\n",
       "        text-align: right;\n",
       "    }\n",
       "</style>\n",
       "<table border=\"1\" class=\"dataframe\">\n",
       "  <thead>\n",
       "    <tr style=\"text-align: right;\">\n",
       "      <th></th>\n",
       "      <th>Open</th>\n",
       "      <th>High</th>\n",
       "      <th>Low</th>\n",
       "      <th>Close</th>\n",
       "      <th>Volume</th>\n",
       "    </tr>\n",
       "    <tr>\n",
       "      <th>Date</th>\n",
       "      <th></th>\n",
       "      <th></th>\n",
       "      <th></th>\n",
       "      <th></th>\n",
       "      <th></th>\n",
       "    </tr>\n",
       "  </thead>\n",
       "  <tbody>\n",
       "    <tr>\n",
       "      <th>2023-07-10</th>\n",
       "      <td>3345.000000</td>\n",
       "      <td>3372.050049</td>\n",
       "      <td>3293.949951</td>\n",
       "      <td>3343.149902</td>\n",
       "      <td>548838</td>\n",
       "    </tr>\n",
       "    <tr>\n",
       "      <th>2023-07-11</th>\n",
       "      <td>3349.949951</td>\n",
       "      <td>3399.949951</td>\n",
       "      <td>3345.000000</td>\n",
       "      <td>3392.550049</td>\n",
       "      <td>772158</td>\n",
       "    </tr>\n",
       "    <tr>\n",
       "      <th>2023-07-12</th>\n",
       "      <td>3408.000000</td>\n",
       "      <td>3414.399902</td>\n",
       "      <td>3362.250000</td>\n",
       "      <td>3406.750000</td>\n",
       "      <td>1025127</td>\n",
       "    </tr>\n",
       "    <tr>\n",
       "      <th>2023-07-13</th>\n",
       "      <td>3425.000000</td>\n",
       "      <td>3425.000000</td>\n",
       "      <td>3384.350098</td>\n",
       "      <td>3398.550049</td>\n",
       "      <td>750126</td>\n",
       "    </tr>\n",
       "    <tr>\n",
       "      <th>2023-07-14</th>\n",
       "      <td>3398.550049</td>\n",
       "      <td>3439.000000</td>\n",
       "      <td>3387.000000</td>\n",
       "      <td>3429.750000</td>\n",
       "      <td>832715</td>\n",
       "    </tr>\n",
       "  </tbody>\n",
       "</table>\n",
       "</div>"
      ],
      "text/plain": [
       "                   Open         High          Low        Close   Volume\n",
       "Date                                                                   \n",
       "2023-07-10  3345.000000  3372.050049  3293.949951  3343.149902   548838\n",
       "2023-07-11  3349.949951  3399.949951  3345.000000  3392.550049   772158\n",
       "2023-07-12  3408.000000  3414.399902  3362.250000  3406.750000  1025127\n",
       "2023-07-13  3425.000000  3425.000000  3384.350098  3398.550049   750126\n",
       "2023-07-14  3398.550049  3439.000000  3387.000000  3429.750000   832715"
      ]
     },
     "execution_count": 3,
     "metadata": {},
     "output_type": "execute_result"
    }
   ],
   "source": [
    "\n",
    "\n",
    "# Data Extraction\n",
    "start_date = \"2017-01-01\"\n",
    "end_date = \"2022-06-01\"\n",
    "#symbol = \"IOC.NS\"\n",
    "\n",
    "#df = yfinance.download(tickers = stock_name,start=\"2010-03-06\",\n",
    " #                              interval = \"1d\", group_by = 'ticker', auto_adjust = True)\n",
    "\n",
    "df = pd.read_csv(\"./stock_historical_data/{}_15.csv\".format(stock_name))\n",
    "df.set_index(\"Date\", inplace=True)\n",
    "\n",
    "df = df[[\"Open\", \"High\", \"Low\", \"Close\",\"Volume\"]]\n",
    "df.tail()"
   ]
  },
  {
   "cell_type": "code",
   "execution_count": 4,
   "id": "f478c54f",
   "metadata": {},
   "outputs": [],
   "source": [
    "# Add TA\n",
    "df = add_all_ta_features(df, open=\"Open\", high=\"High\", low=\"Low\", close=\"Close\", volume=\"Volume\", fillna=True)\n"
   ]
  },
  {
   "cell_type": "code",
   "execution_count": 5,
   "id": "4ddf9de3",
   "metadata": {},
   "outputs": [],
   "source": [
    "df['date'] = pd.to_datetime(df.index)\n"
   ]
  },
  {
   "cell_type": "code",
   "execution_count": 6,
   "id": "08bd2995",
   "metadata": {},
   "outputs": [],
   "source": [
    "df['weekday'] = df['date'].dt.weekday\n",
    "df = df.drop('date', axis=1)\n"
   ]
  },
  {
   "cell_type": "markdown",
   "id": "3d287d20",
   "metadata": {},
   "source": [
    "### Data Preprocessing - Stationarity"
   ]
  },
  {
   "cell_type": "code",
   "execution_count": 7,
   "id": "306d5a74",
   "metadata": {},
   "outputs": [
    {
     "name": "stdout",
     "output_type": "stream",
     "text": [
      "Non-Stationary Features Found: 32\n"
     ]
    }
   ],
   "source": [
    "# Identify non-stationary columns\n",
    "if isForex == True:\n",
    "    needToRmv =[\"Volume\",\"volume_nvi\",\"momentum_pvo\",\"momentum_pvo_signal\",\"momentum_pvo_hist\"\n",
    "    ,\"volume_adi\",\"volume_obv\",\"volume_cmf\",\"volume_fi\",\"volume_em\",\"volume_sma_em\",\"volume_vpt\",\"volume_vwap\",\"volume_mfi\"]\n",
    "    df= df.drop(needToRmv,axis=1)\n",
    "\n",
    "    \n",
    "non_stationaries = []\n",
    "for col in df.columns:\n",
    "    #print(col)\n",
    "    dftest = adfuller(df[col].values)\n",
    "    p_value = dftest[1]\n",
    "    t_test = dftest[0] < dftest[4][\"1%\"]\n",
    "    if p_value > 0.05 or not t_test:\n",
    "        non_stationaries.append(col)\n",
    "print(f\"Non-Stationary Features Found: {len(non_stationaries)}\")"
   ]
  },
  {
   "cell_type": "code",
   "execution_count": 8,
   "id": "2ca5bc27",
   "metadata": {},
   "outputs": [],
   "source": [
    "df_stationary = df.copy()\n",
    "df_stationary[non_stationaries] = df_stationary[non_stationaries].pct_change()\n",
    "df_stationary = df_stationary.iloc[1:]"
   ]
  },
  {
   "cell_type": "code",
   "execution_count": 9,
   "id": "53b760a8",
   "metadata": {},
   "outputs": [],
   "source": [
    "# Find NaN Rows\n",
    "na_list = df_stationary.columns[df_stationary.isna().any().tolist()]\n",
    "df_stationary.drop(columns=na_list, inplace=True)"
   ]
  },
  {
   "cell_type": "code",
   "execution_count": 10,
   "id": "5882ede1",
   "metadata": {},
   "outputs": [
    {
     "data": {
      "text/html": [
       "<div>\n",
       "<style scoped>\n",
       "    .dataframe tbody tr th:only-of-type {\n",
       "        vertical-align: middle;\n",
       "    }\n",
       "\n",
       "    .dataframe tbody tr th {\n",
       "        vertical-align: top;\n",
       "    }\n",
       "\n",
       "    .dataframe thead th {\n",
       "        text-align: right;\n",
       "    }\n",
       "</style>\n",
       "<table border=\"1\" class=\"dataframe\">\n",
       "  <thead>\n",
       "    <tr style=\"text-align: right;\">\n",
       "      <th></th>\n",
       "      <th>Open</th>\n",
       "      <th>High</th>\n",
       "      <th>Low</th>\n",
       "      <th>Close</th>\n",
       "      <th>Volume</th>\n",
       "      <th>volume_adi</th>\n",
       "      <th>volume_obv</th>\n",
       "      <th>volume_cmf</th>\n",
       "      <th>volume_fi</th>\n",
       "      <th>volume_em</th>\n",
       "      <th>...</th>\n",
       "      <th>momentum_ppo_signal</th>\n",
       "      <th>momentum_ppo_hist</th>\n",
       "      <th>momentum_pvo</th>\n",
       "      <th>momentum_pvo_signal</th>\n",
       "      <th>momentum_pvo_hist</th>\n",
       "      <th>momentum_kama</th>\n",
       "      <th>others_dr</th>\n",
       "      <th>others_dlr</th>\n",
       "      <th>others_cr</th>\n",
       "      <th>weekday</th>\n",
       "    </tr>\n",
       "    <tr>\n",
       "      <th>Date</th>\n",
       "      <th></th>\n",
       "      <th></th>\n",
       "      <th></th>\n",
       "      <th></th>\n",
       "      <th></th>\n",
       "      <th></th>\n",
       "      <th></th>\n",
       "      <th></th>\n",
       "      <th></th>\n",
       "      <th></th>\n",
       "      <th></th>\n",
       "      <th></th>\n",
       "      <th></th>\n",
       "      <th></th>\n",
       "      <th></th>\n",
       "      <th></th>\n",
       "      <th></th>\n",
       "      <th></th>\n",
       "      <th></th>\n",
       "      <th></th>\n",
       "      <th></th>\n",
       "    </tr>\n",
       "  </thead>\n",
       "  <tbody>\n",
       "    <tr>\n",
       "      <th>2010-01-05</th>\n",
       "      <td>0.003908</td>\n",
       "      <td>0.002806</td>\n",
       "      <td>0.002809</td>\n",
       "      <td>0.003159</td>\n",
       "      <td>849100</td>\n",
       "      <td>5.473768</td>\n",
       "      <td>10.567517</td>\n",
       "      <td>-0.073118</td>\n",
       "      <td>428359.133911</td>\n",
       "      <td>94.130003</td>\n",
       "      <td>...</td>\n",
       "      <td>0.005039</td>\n",
       "      <td>0.020154</td>\n",
       "      <td>44.666619</td>\n",
       "      <td>8.933324</td>\n",
       "      <td>35.733295</td>\n",
       "      <td>0.001340</td>\n",
       "      <td>0.315880</td>\n",
       "      <td>0.315382</td>\n",
       "      <td>0.000000</td>\n",
       "      <td>1</td>\n",
       "    </tr>\n",
       "    <tr>\n",
       "      <th>2010-01-06</th>\n",
       "      <td>0.009316</td>\n",
       "      <td>0.005430</td>\n",
       "      <td>-0.002241</td>\n",
       "      <td>-0.003010</td>\n",
       "      <td>73450</td>\n",
       "      <td>0.574821</td>\n",
       "      <td>-0.079025</td>\n",
       "      <td>-0.106715</td>\n",
       "      <td>362105.709948</td>\n",
       "      <td>1062.405399</td>\n",
       "      <td>...</td>\n",
       "      <td>0.008144</td>\n",
       "      <td>0.012422</td>\n",
       "      <td>35.301263</td>\n",
       "      <td>14.206912</td>\n",
       "      <td>21.094352</td>\n",
       "      <td>-0.000516</td>\n",
       "      <td>-0.300952</td>\n",
       "      <td>-0.301405</td>\n",
       "      <td>-0.955750</td>\n",
       "      <td>2</td>\n",
       "    </tr>\n",
       "    <tr>\n",
       "      <th>2010-01-07</th>\n",
       "      <td>-0.008817</td>\n",
       "      <td>-0.008817</td>\n",
       "      <td>-0.006738</td>\n",
       "      <td>-0.010202</td>\n",
       "      <td>240320</td>\n",
       "      <td>1.996373</td>\n",
       "      <td>-0.280748</td>\n",
       "      <td>-0.257948</td>\n",
       "      <td>254431.118432</td>\n",
       "      <td>-1381.788564</td>\n",
       "      <td>...</td>\n",
       "      <td>-0.006429</td>\n",
       "      <td>-0.058291</td>\n",
       "      <td>34.289904</td>\n",
       "      <td>18.223510</td>\n",
       "      <td>16.066394</td>\n",
       "      <td>-0.004751</td>\n",
       "      <td>-1.020195</td>\n",
       "      <td>-1.025435</td>\n",
       "      <td>-72.997266</td>\n",
       "      <td>3</td>\n",
       "    </tr>\n",
       "    <tr>\n",
       "      <th>2010-01-08</th>\n",
       "      <td>-0.013481</td>\n",
       "      <td>0.019597</td>\n",
       "      <td>0.000933</td>\n",
       "      <td>0.016520</td>\n",
       "      <td>711310</td>\n",
       "      <td>0.169809</td>\n",
       "      <td>1.155324</td>\n",
       "      <td>-0.191934</td>\n",
       "      <td>483479.203372</td>\n",
       "      <td>1310.069561</td>\n",
       "      <td>...</td>\n",
       "      <td>-0.005201</td>\n",
       "      <td>0.004912</td>\n",
       "      <td>47.208886</td>\n",
       "      <td>24.020585</td>\n",
       "      <td>23.188301</td>\n",
       "      <td>0.004332</td>\n",
       "      <td>1.651954</td>\n",
       "      <td>1.638458</td>\n",
       "      <td>-1.624995</td>\n",
       "      <td>4</td>\n",
       "    </tr>\n",
       "    <tr>\n",
       "      <th>2010-01-11</th>\n",
       "      <td>0.003100</td>\n",
       "      <td>-0.007688</td>\n",
       "      <td>0.002485</td>\n",
       "      <td>-0.001694</td>\n",
       "      <td>173420</td>\n",
       "      <td>0.012886</td>\n",
       "      <td>-0.130687</td>\n",
       "      <td>-0.178564</td>\n",
       "      <td>407664.122866</td>\n",
       "      <td>-999.965496</td>\n",
       "      <td>...</td>\n",
       "      <td>0.003150</td>\n",
       "      <td>0.033403</td>\n",
       "      <td>39.686820</td>\n",
       "      <td>27.153832</td>\n",
       "      <td>12.532988</td>\n",
       "      <td>0.001772</td>\n",
       "      <td>-0.169447</td>\n",
       "      <td>-0.169591</td>\n",
       "      <td>-0.271099</td>\n",
       "      <td>0</td>\n",
       "    </tr>\n",
       "  </tbody>\n",
       "</table>\n",
       "<p>5 rows × 91 columns</p>\n",
       "</div>"
      ],
      "text/plain": [
       "                Open      High       Low     Close  Volume  volume_adi  \\\n",
       "Date                                                                     \n",
       "2010-01-05  0.003908  0.002806  0.002809  0.003159  849100    5.473768   \n",
       "2010-01-06  0.009316  0.005430 -0.002241 -0.003010   73450    0.574821   \n",
       "2010-01-07 -0.008817 -0.008817 -0.006738 -0.010202  240320    1.996373   \n",
       "2010-01-08 -0.013481  0.019597  0.000933  0.016520  711310    0.169809   \n",
       "2010-01-11  0.003100 -0.007688  0.002485 -0.001694  173420    0.012886   \n",
       "\n",
       "            volume_obv  volume_cmf      volume_fi    volume_em  ...  \\\n",
       "Date                                                            ...   \n",
       "2010-01-05   10.567517   -0.073118  428359.133911    94.130003  ...   \n",
       "2010-01-06   -0.079025   -0.106715  362105.709948  1062.405399  ...   \n",
       "2010-01-07   -0.280748   -0.257948  254431.118432 -1381.788564  ...   \n",
       "2010-01-08    1.155324   -0.191934  483479.203372  1310.069561  ...   \n",
       "2010-01-11   -0.130687   -0.178564  407664.122866  -999.965496  ...   \n",
       "\n",
       "            momentum_ppo_signal  momentum_ppo_hist  momentum_pvo  \\\n",
       "Date                                                               \n",
       "2010-01-05             0.005039           0.020154     44.666619   \n",
       "2010-01-06             0.008144           0.012422     35.301263   \n",
       "2010-01-07            -0.006429          -0.058291     34.289904   \n",
       "2010-01-08            -0.005201           0.004912     47.208886   \n",
       "2010-01-11             0.003150           0.033403     39.686820   \n",
       "\n",
       "            momentum_pvo_signal  momentum_pvo_hist  momentum_kama  others_dr  \\\n",
       "Date                                                                           \n",
       "2010-01-05             8.933324          35.733295       0.001340   0.315880   \n",
       "2010-01-06            14.206912          21.094352      -0.000516  -0.300952   \n",
       "2010-01-07            18.223510          16.066394      -0.004751  -1.020195   \n",
       "2010-01-08            24.020585          23.188301       0.004332   1.651954   \n",
       "2010-01-11            27.153832          12.532988       0.001772  -0.169447   \n",
       "\n",
       "            others_dlr  others_cr  weekday  \n",
       "Date                                        \n",
       "2010-01-05    0.315382   0.000000        1  \n",
       "2010-01-06   -0.301405  -0.955750        2  \n",
       "2010-01-07   -1.025435 -72.997266        3  \n",
       "2010-01-08    1.638458  -1.624995        4  \n",
       "2010-01-11   -0.169591  -0.271099        0  \n",
       "\n",
       "[5 rows x 91 columns]"
      ]
     },
     "execution_count": 10,
     "metadata": {},
     "output_type": "execute_result"
    }
   ],
   "source": [
    "# Handle inf values\n",
    "df_stationary.replace([np.inf, -np.inf], 0, inplace=True)\n",
    "df_stationary.head()"
   ]
  },
  {
   "cell_type": "markdown",
   "id": "46f532a5",
   "metadata": {},
   "source": [
    "### Data Preprocessing - Scaling and Target Setting"
   ]
  },
  {
   "cell_type": "code",
   "execution_count": 11,
   "id": "016e14d3",
   "metadata": {},
   "outputs": [],
   "source": [
    "# Set Target (for Supervised ML later on)\n",
    "df_stationary[\"TARGET\"] = -1\n",
    "df_stationary.loc[df_stationary[\"Close\"].shift(-1) > df_stationary[\"Close\"], \"TARGET\"] = 1\n",
    "df_stationary.dropna(inplace=True)"
   ]
  },
  {
   "cell_type": "code",
   "execution_count": 12,
   "id": "8fb53476",
   "metadata": {},
   "outputs": [
    {
     "data": {
      "text/plain": [
       "[]"
      ]
     },
     "execution_count": 12,
     "metadata": {},
     "output_type": "execute_result"
    }
   ],
   "source": [
    "features"
   ]
  },
  {
   "cell_type": "code",
   "execution_count": 13,
   "id": "600358a1",
   "metadata": {},
   "outputs": [
    {
     "name": "stdout",
     "output_type": "stream",
     "text": [
      "                Open      High       Low     Close   Volume  volume_adi  \\\n",
      "Date                                                                      \n",
      "2010-01-05  0.003908  0.002806  0.002809  0.003159   849100    5.473768   \n",
      "2010-01-06  0.009316  0.005430 -0.002241 -0.003010    73450    0.574821   \n",
      "2010-01-07 -0.008817 -0.008817 -0.006738 -0.010202   240320    1.996373   \n",
      "2010-01-08 -0.013481  0.019597  0.000933  0.016520   711310    0.169809   \n",
      "2010-01-11  0.003100 -0.007688  0.002485 -0.001694   173420    0.012886   \n",
      "...              ...       ...       ...       ...      ...         ...   \n",
      "2023-07-10 -0.011817 -0.012288 -0.012945 -0.000165   548838   -0.004295   \n",
      "2023-07-11  0.001480  0.008274  0.015498  0.014777   772158   -0.017061   \n",
      "2023-07-12  0.017329  0.004250  0.005157  0.004186  1025127   -0.022285   \n",
      "2023-07-13  0.004988  0.003105  0.006573 -0.002407   750126    0.007113   \n",
      "2023-07-14 -0.007723  0.004088  0.000783  0.009180   832715   -0.016761   \n",
      "\n",
      "            volume_obv  volume_cmf     volume_fi      volume_em  ...  \\\n",
      "Date                                                             ...   \n",
      "2010-01-05   10.567517   -0.073118  4.283591e+05      94.130003  ...   \n",
      "2010-01-06   -0.079025   -0.106715  3.621057e+05    1062.405399  ...   \n",
      "2010-01-07   -0.280748   -0.257948  2.544311e+05   -1381.788564  ...   \n",
      "2010-01-08    1.155324   -0.191934  4.834792e+05    1310.069561  ...   \n",
      "2010-01-11   -0.130687   -0.178564  4.076641e+05    -999.965496  ...   \n",
      "...                ...         ...           ...            ...  ...   \n",
      "2023-07-10   -0.001580    0.189421  4.851750e+06 -605845.047944  ...   \n",
      "2023-07-11    0.002226    0.182298  9.607888e+06  280920.223705  ...   \n",
      "2023-07-12    0.002949    0.160116  1.031487e+07   80631.441661  ...   \n",
      "2023-07-13   -0.002151    0.148292  7.962602e+06   88602.431197  ...   \n",
      "2023-07-14    0.002393    0.163869  1.053661e+07   51986.269124  ...   \n",
      "\n",
      "            momentum_ppo_hist  momentum_pvo  momentum_pvo_signal  \\\n",
      "Date                                                               \n",
      "2010-01-05           0.020154     44.666619             8.933324   \n",
      "2010-01-06           0.012422     35.301263            14.206912   \n",
      "2010-01-07          -0.058291     34.289904            18.223510   \n",
      "2010-01-08           0.004912     47.208886            24.020585   \n",
      "2010-01-11           0.033403     39.686820            27.153832   \n",
      "...                       ...           ...                  ...   \n",
      "2023-07-10          -0.191350    -10.156716            -7.232054   \n",
      "2023-07-11          -0.149194     -8.410588            -7.467761   \n",
      "2023-07-12          -0.105101     -4.184581            -6.811125   \n",
      "2023-07-13          -0.104553     -3.827152            -6.214331   \n",
      "2023-07-14          -0.056176     -2.630540            -5.497572   \n",
      "\n",
      "            momentum_pvo_hist  momentum_kama  others_dr  others_dlr  \\\n",
      "Date                                                                  \n",
      "2010-01-05          35.733295       0.001340   0.315880    0.315382   \n",
      "2010-01-06          21.094352      -0.000516  -0.300952   -0.301405   \n",
      "2010-01-07          16.066394      -0.004751  -1.020195   -1.025435   \n",
      "2010-01-08          23.188301       0.004332   1.651954    1.638458   \n",
      "2010-01-11          12.532988       0.001772  -0.169447   -0.169591   \n",
      "...                       ...            ...        ...         ...   \n",
      "2023-07-10          -2.924661       0.000525  -0.016450   -0.016452   \n",
      "2023-07-11          -0.942827       0.002199   1.477653    1.466842   \n",
      "2023-07-12           2.626544       0.002270   0.418563    0.417689   \n",
      "2023-07-13           2.387178       0.001515  -0.240697   -0.240987   \n",
      "2023-07-14           2.867033       0.001883   0.918037    0.913849   \n",
      "\n",
      "            others_cr  weekday  TARGET  \n",
      "Date                                    \n",
      "2010-01-05   0.000000        1      -1  \n",
      "2010-01-06  -0.955750        2      -1  \n",
      "2010-01-07 -72.997266        3       1  \n",
      "2010-01-08  -1.624995        4      -1  \n",
      "2010-01-11  -0.271099        0       1  \n",
      "...               ...      ...     ...  \n",
      "2023-07-10  -0.000173        0       1  \n",
      "2023-07-11   0.015518        1      -1  \n",
      "2023-07-12   0.004392        2      -1  \n",
      "2023-07-13  -0.002525        3       1  \n",
      "2023-07-14   0.009633        4      -1  \n",
      "\n",
      "[3340 rows x 92 columns]\n"
     ]
    }
   ],
   "source": [
    "# Convert non-stationaries to stationary\n",
    "if findFeature == False:\n",
    "    df_stationary = df_stationary[features]\n",
    "print(df_stationary)"
   ]
  },
  {
   "cell_type": "code",
   "execution_count": 14,
   "id": "2a0b2c5d",
   "metadata": {},
   "outputs": [],
   "source": [
    "# Split Target from Featureset\n",
    "X = df_stationary.iloc[:, :-1]\n",
    "y = df_stationary.iloc[:, -1]"
   ]
  },
  {
   "cell_type": "code",
   "execution_count": 15,
   "id": "678f80f5",
   "metadata": {},
   "outputs": [],
   "source": [
    "# Feature Scaling\n",
    "df_sc = df_stationary.copy()\n",
    "X_fs = StandardScaler().fit_transform(X)"
   ]
  },
  {
   "cell_type": "code",
   "execution_count": 16,
   "id": "23b28081",
   "metadata": {},
   "outputs": [],
   "source": [
    "# Train Test Split\n",
    "X_train, X_test, y_train, y_test = train_test_split(X_fs, y, test_size=0.7, random_state=42)"
   ]
  },
  {
   "cell_type": "code",
   "execution_count": 17,
   "id": "57dc6fc3",
   "metadata": {},
   "outputs": [
    {
     "name": "stdout",
     "output_type": "stream",
     "text": [
      "1002 Y test : 2338\n"
     ]
    }
   ],
   "source": [
    "print(len(X_train),\"Y test :\",len(y_test))"
   ]
  },
  {
   "cell_type": "markdown",
   "id": "152ffbef",
   "metadata": {},
   "source": [
    "### Unsupervised ML - PCA Dimensionality Reduction"
   ]
  },
  {
   "cell_type": "markdown",
   "id": "e4127102",
   "metadata": {},
   "source": [
    "### Supervised ML - Random Forest Classification"
   ]
  },
  {
   "cell_type": "code",
   "execution_count": 18,
   "id": "ce3f0210",
   "metadata": {},
   "outputs": [
    {
     "name": "stdout",
     "output_type": "stream",
     "text": [
      "Test Accuracy: 0.7566295979469632\n",
      "Test Precision: 0.7553832902670112\n"
     ]
    }
   ],
   "source": [
    "classifier = RandomForestClassifier(n_estimators=12, max_depth=2, random_state=0)\n",
    "classifier.fit(X_train, y_train)\n",
    "y_pred = classifier.predict(X_test)\n",
    "accuracy = accuracy_score(y_test, y_pred)\n",
    "precision = precision_score(y_test, y_pred)\n",
    "print(f\"Test Accuracy: {accuracy}\")\n",
    "print(f\"Test Precision: {precision}\")"
   ]
  },
  {
   "cell_type": "code",
   "execution_count": 19,
   "id": "87c5bfbd",
   "metadata": {},
   "outputs": [
    {
     "data": {
      "image/png": "[encoded data removed]",
      "text/plain": [
       "<Figure size 2200x500 with 1 Axes>"
      ]
     },
     "metadata": {},
     "output_type": "display_data"
    }
   ],
   "source": [
    "# Plot Feature Importances\n",
    "fig = plt.figure(figsize=(22, 5))\n",
    "importance_labels = X.columns\n",
    "importance_features = classifier.feature_importances_\n",
    "plt.bar(importance_labels, importance_features)\n",
    "plt.show()"
   ]
  },
  {
   "cell_type": "code",
   "execution_count": 20,
   "id": "7337c97b",
   "metadata": {},
   "outputs": [],
   "source": [
    "# Select Best Features\n",
    "mean_feature_importance = importance_features.mean()\n",
    "i = 0\n",
    "recommended_feature_labels = []\n",
    "recommended_feature_score = []\n",
    "for fi in importance_features:\n",
    "    if fi > mean_feature_importance:\n",
    "        recommended_feature_labels.append(importance_labels[i])\n",
    "        recommended_feature_score.append(fi)\n",
    "    i += 1"
   ]
  },
  {
   "cell_type": "code",
   "execution_count": 21,
   "id": "3af08c7c",
   "metadata": {},
   "outputs": [
    {
     "name": "stderr",
     "output_type": "stream",
     "text": [
      "/var/folders/4_/_fbkdkz531s_92lxx_c_x6n00000gn/T/ipykernel_2306/3002898103.py:4: UserWarning: Matplotlib is currently using module://matplotlib_inline.backend_inline, which is a non-GUI backend, so cannot show the figure.\n",
      "  fig.show()\n"
     ]
    },
    {
     "data": {
      "image/png": "[encoded data removed]",
      "text/plain": [
       "<Figure size 3500x600 with 1 Axes>"
      ]
     },
     "metadata": {},
     "output_type": "display_data"
    }
   ],
   "source": [
    "fig, ax = plt.subplots(figsize=(35, 6))\n",
    "\n",
    "ax.bar(recommended_feature_labels, recommended_feature_score)\n",
    "fig.show()"
   ]
  },
  {
   "cell_type": "code",
   "execution_count": 22,
   "id": "5c73e15a",
   "metadata": {},
   "outputs": [
    {
     "data": {
      "text/plain": [
       "array([[0.41292626, 0.58707374],\n",
       "       [0.34613459, 0.65386541],\n",
       "       [0.70443235, 0.29556765],\n",
       "       ...,\n",
       "       [0.30818447, 0.69181553],\n",
       "       [0.32347183, 0.67652817],\n",
       "       [0.28686141, 0.71313859]])"
      ]
     },
     "execution_count": 22,
     "metadata": {},
     "output_type": "execute_result"
    }
   ],
   "source": [
    "y_pred_proba = classifier.predict_proba(X_test)\n",
    "y_pred_proba"
   ]
  },
  {
   "cell_type": "code",
   "execution_count": 23,
   "id": "21709847",
   "metadata": {},
   "outputs": [],
   "source": [
    "# Test for Overfitting\n",
    "train_scores, test_scores = list(), list()\n",
    "\n",
    "values = [i for i in range(1, 200)]\n",
    "for i in values:\n",
    "    classifier = {}\n",
    "    classifier = RandomForestClassifier(n_estimators=i, max_depth=2, random_state=0)\n",
    "   \n",
    "    #with open('./TrainedModel/indicator/{}_model_2.pkl'.format(stock_name), 'rb') as f:\n",
    "     #   classifier = pickle.load(f)\n",
    "        \n",
    "    classifier.fit(X_train, y_train)\n",
    "    \n",
    "    # Training Data\n",
    "    y_train_pred = classifier.predict(X_train)\n",
    "    accuracy_train = accuracy_score(y_train, y_train_pred)\n",
    "    train_scores.append(accuracy_train)\n",
    "    \n",
    "    # Test Data\n",
    "    y_test_pred = classifier.predict(X_test)\n",
    "    accuracy_test = accuracy_score(y_test, y_test_pred)\n",
    "    test_scores.append(accuracy_test)"
   ]
  },
  {
   "cell_type": "code",
   "execution_count": 24,
   "id": "8061a7ac",
   "metadata": {},
   "outputs": [
    {
     "data": {
      "text/plain": [
       "[0.5637296834901625,\n",
       " 0.7523524379811805,\n",
       " 0.7360992301112061,\n",
       " 0.7574850299401198,\n",
       " 0.743798118049615,\n",
       " 0.7536355859709153,\n",
       " 0.7553464499572284,\n",
       " 0.7557741659538066,\n",
       " 0.7514970059880239,\n",
       " 0.7536355859709153,\n",
       " 0.7536355859709153,\n",
       " 0.7566295979469632,\n",
       " 0.756201881950385,\n",
       " 0.7583404619332763,\n",
       " 0.757912745936698,\n",
       " 0.7587681779298546,\n",
       " 0.7583404619332763,\n",
       " 0.7553464499572284,\n",
       " 0.7566295979469632,\n",
       " 0.7574850299401198,\n",
       " 0.7570573139435415,\n",
       " 0.7553464499572284,\n",
       " 0.7566295979469632,\n",
       " 0.7566295979469632,\n",
       " 0.7574850299401198,\n",
       " 0.7570573139435415,\n",
       " 0.757912745936698,\n",
       " 0.7566295979469632,\n",
       " 0.7574850299401198,\n",
       " 0.7553464499572284,\n",
       " 0.7566295979469632,\n",
       " 0.7566295979469632,\n",
       " 0.7566295979469632,\n",
       " 0.7553464499572284,\n",
       " 0.7566295979469632,\n",
       " 0.7557741659538066,\n",
       " 0.756201881950385,\n",
       " 0.7557741659538066,\n",
       " 0.756201881950385,\n",
       " 0.7557741659538066,\n",
       " 0.756201881950385,\n",
       " 0.7557741659538066,\n",
       " 0.7566295979469632,\n",
       " 0.7570573139435415,\n",
       " 0.7570573139435415,\n",
       " 0.7574850299401198,\n",
       " 0.7570573139435415,\n",
       " 0.7566295979469632,\n",
       " 0.7566295979469632,\n",
       " 0.7570573139435415,\n",
       " 0.7566295979469632,\n",
       " 0.7570573139435415,\n",
       " 0.7566295979469632,\n",
       " 0.7570573139435415,\n",
       " 0.7570573139435415,\n",
       " 0.7570573139435415,\n",
       " 0.7570573139435415,\n",
       " 0.7570573139435415,\n",
       " 0.7574850299401198,\n",
       " 0.7574850299401198,\n",
       " 0.7570573139435415,\n",
       " 0.7574850299401198,\n",
       " 0.757912745936698,\n",
       " 0.757912745936698,\n",
       " 0.757912745936698,\n",
       " 0.757912745936698,\n",
       " 0.757912745936698,\n",
       " 0.7574850299401198,\n",
       " 0.7574850299401198,\n",
       " 0.757912745936698,\n",
       " 0.757912745936698,\n",
       " 0.757912745936698,\n",
       " 0.7574850299401198,\n",
       " 0.7574850299401198,\n",
       " 0.7574850299401198,\n",
       " 0.7574850299401198,\n",
       " 0.7574850299401198,\n",
       " 0.7574850299401198,\n",
       " 0.7583404619332763,\n",
       " 0.757912745936698,\n",
       " 0.757912745936698,\n",
       " 0.7583404619332763,\n",
       " 0.7583404619332763,\n",
       " 0.757912745936698,\n",
       " 0.7570573139435415,\n",
       " 0.7574850299401198,\n",
       " 0.757912745936698,\n",
       " 0.757912745936698,\n",
       " 0.757912745936698,\n",
       " 0.7574850299401198,\n",
       " 0.757912745936698,\n",
       " 0.757912745936698,\n",
       " 0.757912745936698,\n",
       " 0.7574850299401198,\n",
       " 0.7574850299401198,\n",
       " 0.7574850299401198,\n",
       " 0.7574850299401198,\n",
       " 0.7574850299401198,\n",
       " 0.7574850299401198,\n",
       " 0.7574850299401198,\n",
       " 0.7574850299401198,\n",
       " 0.7574850299401198,\n",
       " 0.7574850299401198,\n",
       " 0.7574850299401198,\n",
       " 0.7574850299401198,\n",
       " 0.7574850299401198,\n",
       " 0.7574850299401198,\n",
       " 0.7574850299401198,\n",
       " 0.7574850299401198,\n",
       " 0.7574850299401198,\n",
       " 0.7570573139435415,\n",
       " 0.7570573139435415,\n",
       " 0.7570573139435415,\n",
       " 0.7570573139435415,\n",
       " 0.7570573139435415,\n",
       " 0.7570573139435415,\n",
       " 0.7570573139435415,\n",
       " 0.756201881950385,\n",
       " 0.7566295979469632,\n",
       " 0.7557741659538066,\n",
       " 0.7566295979469632,\n",
       " 0.7566295979469632,\n",
       " 0.756201881950385,\n",
       " 0.756201881950385,\n",
       " 0.756201881950385,\n",
       " 0.7570573139435415,\n",
       " 0.756201881950385,\n",
       " 0.7566295979469632,\n",
       " 0.7566295979469632,\n",
       " 0.7570573139435415,\n",
       " 0.756201881950385,\n",
       " 0.7566295979469632,\n",
       " 0.756201881950385,\n",
       " 0.7566295979469632,\n",
       " 0.7566295979469632,\n",
       " 0.7566295979469632,\n",
       " 0.7566295979469632,\n",
       " 0.7557741659538066,\n",
       " 0.7557741659538066,\n",
       " 0.7566295979469632,\n",
       " 0.7557741659538066,\n",
       " 0.7557741659538066,\n",
       " 0.756201881950385,\n",
       " 0.7557741659538066,\n",
       " 0.756201881950385,\n",
       " 0.756201881950385,\n",
       " 0.756201881950385,\n",
       " 0.7570573139435415,\n",
       " 0.7566295979469632,\n",
       " 0.7570573139435415,\n",
       " 0.7570573139435415,\n",
       " 0.7574850299401198,\n",
       " 0.7574850299401198,\n",
       " 0.7570573139435415,\n",
       " 0.7570573139435415,\n",
       " 0.7566295979469632,\n",
       " 0.7566295979469632,\n",
       " 0.7566295979469632,\n",
       " 0.7570573139435415,\n",
       " 0.7566295979469632,\n",
       " 0.7566295979469632,\n",
       " 0.7566295979469632,\n",
       " 0.7566295979469632,\n",
       " 0.7566295979469632,\n",
       " 0.7566295979469632,\n",
       " 0.7570573139435415,\n",
       " 0.7566295979469632,\n",
       " 0.7566295979469632,\n",
       " 0.7570573139435415,\n",
       " 0.7570573139435415,\n",
       " 0.7570573139435415,\n",
       " 0.7570573139435415,\n",
       " 0.7574850299401198,\n",
       " 0.7574850299401198,\n",
       " 0.7574850299401198,\n",
       " 0.7574850299401198,\n",
       " 0.7574850299401198,\n",
       " 0.7574850299401198,\n",
       " 0.7574850299401198,\n",
       " 0.7570573139435415,\n",
       " 0.7570573139435415,\n",
       " 0.7566295979469632,\n",
       " 0.7570573139435415,\n",
       " 0.7570573139435415,\n",
       " 0.7570573139435415,\n",
       " 0.7570573139435415,\n",
       " 0.7570573139435415,\n",
       " 0.7570573139435415,\n",
       " 0.7570573139435415,\n",
       " 0.7570573139435415,\n",
       " 0.7566295979469632,\n",
       " 0.7570573139435415,\n",
       " 0.7570573139435415,\n",
       " 0.7566295979469632,\n",
       " 0.7566295979469632,\n",
       " 0.7566295979469632,\n",
       " 0.7566295979469632,\n",
       " 0.7566295979469632,\n",
       " 0.7566295979469632]"
      ]
     },
     "execution_count": 24,
     "metadata": {},
     "output_type": "execute_result"
    }
   ],
   "source": [
    "test_scores"
   ]
  },
  {
   "cell_type": "code",
   "execution_count": 25,
   "id": "df954346",
   "metadata": {},
   "outputs": [
    {
     "data": {
      "image/png": "[encoded data removed]",
      "text/plain": [
       "<Figure size 640x480 with 1 Axes>"
      ]
     },
     "metadata": {},
     "output_type": "display_data"
    }
   ],
   "source": [
    "# Plot Results\n",
    "plt.plot(train_scores)\n",
    "plt.plot(test_scores)\n",
    "plt.show()"
   ]
  },
  {
   "cell_type": "code",
   "execution_count": 26,
   "id": "463da955",
   "metadata": {},
   "outputs": [],
   "source": [
    "# Save the trained model to a file\n",
    "import pickle\n",
    "\n",
    "if findFeature == False:\n",
    "    with open('./TrainedModel/indicator/{}_model_2.pkl'.format(stock_name), 'wb') as f:\n",
    "        pickle.dump(classifier, f)"
   ]
  },
  {
   "cell_type": "code",
   "execution_count": 27,
   "id": "ccb735f2",
   "metadata": {},
   "outputs": [
    {
     "name": "stdout",
     "output_type": "stream",
     "text": [
      "['Open', 'Low', 'Close', 'volume_adi', 'volume_obv', 'volume_em', 'volume_vpt', 'volatility_kcp', 'volatility_kcli', 'volatility_dcm', 'volatility_dcp', 'trend_ema_fast', 'momentum_ppo_hist', 'momentum_kama', 'others_dr', 'others_dlr', 'others_cr']\n"
     ]
    }
   ],
   "source": [
    "# Save the trained model to a file\n",
    "if findFeature == True:\n",
    "    print(recommended_feature_labels)\n",
    "    with open('./TrainedModel/indicator/{}_features.txt'.format(stock_name), 'wb') as f:\n",
    "        pickle.dump(recommended_feature_labels, f)"
   ]
  }
 ],
 "metadata": {
  "kernelspec": {
   "display_name": "Python 3 (ipykernel)",
   "language": "python",
   "name": "python3"
  },
  "language_info": {
   "codemirror_mode": {
    "name": "ipython",
    "version": 3
   },
   "file_extension": ".py",
   "mimetype": "text/x-python",
   "name": "python",
   "nbconvert_exporter": "python",
   "pygments_lexer": "ipython3",
   "version": "3.9.16"
  }
 },
 "nbformat": 4,
 "nbformat_minor": 5
}
