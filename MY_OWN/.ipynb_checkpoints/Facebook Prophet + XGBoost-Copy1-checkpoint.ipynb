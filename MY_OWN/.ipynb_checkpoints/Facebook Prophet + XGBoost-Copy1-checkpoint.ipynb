{
 "cells": [
  {
   "cell_type": "markdown",
   "metadata": {
    "id": "QZK36hW6M7cl"
   },
   "source": [
    "#Libraries and Data"
   ]
  },
  {
   "cell_type": "code",
   "execution_count": 1,
   "metadata": {
    "executionInfo": {
     "elapsed": 2554,
     "status": "ok",
     "timestamp": 1621008666318,
     "user": {
      "displayName": "Diogo Resende",
      "photoUrl": "https://lh3.googleusercontent.com/a-/AOh14GgH4DE06-yE1oiIzCiaAURCl1Escr4LXXiaSnbSaA=s64",
      "userId": "05706604408624562002"
     },
     "user_tz": -120
    },
    "id": "xBzm1qtYNE6M"
   },
   "outputs": [
    {
     "name": "stderr",
     "output_type": "stream",
     "text": [
      "/Users/vipin/opt/anaconda3/envs/my_own/lib/python3.9/site-packages/tqdm/auto.py:21: TqdmWarning: IProgress not found. Please update jupyter and ipywidgets. See https://ipywidgets.readthedocs.io/en/stable/user_install.html\n",
      "  from .autonotebook import tqdm as notebook_tqdm\n",
      "Importing plotly failed. Interactive plots will not work.\n"
     ]
    }
   ],
   "source": [
    "#import libraries\n",
    "import numpy as np\n",
    "import pandas as pd\n",
    "import itertools\n",
    "from prophet import Prophet\n",
    "import yfinance\n",
    "import pickle"
   ]
  },
  {
   "cell_type": "code",
   "execution_count": 3,
   "metadata": {},
   "outputs": [
    {
     "data": {
      "text/html": [
       "<div>\n",
       "<style scoped>\n",
       "    .dataframe tbody tr th:only-of-type {\n",
       "        vertical-align: middle;\n",
       "    }\n",
       "\n",
       "    .dataframe tbody tr th {\n",
       "        vertical-align: top;\n",
       "    }\n",
       "\n",
       "    .dataframe thead th {\n",
       "        text-align: right;\n",
       "    }\n",
       "</style>\n",
       "<table border=\"1\" class=\"dataframe\">\n",
       "  <thead>\n",
       "    <tr style=\"text-align: right;\">\n",
       "      <th></th>\n",
       "      <th>Open</th>\n",
       "      <th>High</th>\n",
       "      <th>Low</th>\n",
       "      <th>Close</th>\n",
       "      <th>Volume</th>\n",
       "    </tr>\n",
       "    <tr>\n",
       "      <th>Date</th>\n",
       "      <th></th>\n",
       "      <th></th>\n",
       "      <th></th>\n",
       "      <th></th>\n",
       "      <th></th>\n",
       "    </tr>\n",
       "  </thead>\n",
       "  <tbody>\n",
       "    <tr>\n",
       "      <th>2023-07-10</th>\n",
       "      <td>4.72</td>\n",
       "      <td>4.92</td>\n",
       "      <td>4.7100</td>\n",
       "      <td>4.79</td>\n",
       "      <td>20600</td>\n",
       "    </tr>\n",
       "    <tr>\n",
       "      <th>2023-07-11</th>\n",
       "      <td>4.74</td>\n",
       "      <td>4.84</td>\n",
       "      <td>4.6800</td>\n",
       "      <td>4.72</td>\n",
       "      <td>26200</td>\n",
       "    </tr>\n",
       "    <tr>\n",
       "      <th>2023-07-12</th>\n",
       "      <td>4.80</td>\n",
       "      <td>4.80</td>\n",
       "      <td>4.4300</td>\n",
       "      <td>4.43</td>\n",
       "      <td>39800</td>\n",
       "    </tr>\n",
       "    <tr>\n",
       "      <th>2023-07-13</th>\n",
       "      <td>4.62</td>\n",
       "      <td>4.65</td>\n",
       "      <td>4.4000</td>\n",
       "      <td>4.49</td>\n",
       "      <td>8600</td>\n",
       "    </tr>\n",
       "    <tr>\n",
       "      <th>2023-07-14</th>\n",
       "      <td>4.49</td>\n",
       "      <td>4.66</td>\n",
       "      <td>4.1158</td>\n",
       "      <td>4.20</td>\n",
       "      <td>21853</td>\n",
       "    </tr>\n",
       "  </tbody>\n",
       "</table>\n",
       "</div>"
      ],
      "text/plain": [
       "            Open  High     Low  Close  Volume\n",
       "Date                                         \n",
       "2023-07-10  4.72  4.92  4.7100   4.79   20600\n",
       "2023-07-11  4.74  4.84  4.6800   4.72   26200\n",
       "2023-07-12  4.80  4.80  4.4300   4.43   39800\n",
       "2023-07-13  4.62  4.65  4.4000   4.49    8600\n",
       "2023-07-14  4.49  4.66  4.1158   4.20   21853"
      ]
     },
     "execution_count": 3,
     "metadata": {},
     "output_type": "execute_result"
    }
   ],
   "source": [
    "#load the datast\n",
    "#[OLECTRA,\"LT\",\"CONCOR\",\"ELGIEQUIP\",\"IOC\",\"BEL\",\"TATAELXSI\",\"^NSEI\"]\n",
    "#[\"RELI\",\"HDFCBANK.NS\",\"TATAMOTORS.NS\",\"SBIN.NS\",\"TCS.NS\",\"TITAN.NS\",\"SUNPHARMA.BO\",\"TECHM.NS\", \"ASIANPAINT.NS\",\"TATACONSUM.NS\"]\n",
    "\n",
    "stock_name = \"HDFCBANK.NS\"\n",
    "#data = yfinance.download (tickers = \"{}.NS\".format(stock_name),start=\"2000-03-06\",\n",
    " #                              interval = \"1d\", group_by = 'ticker', auto_adjust = True)\n",
    "\n",
    "data = pd.read_csv(\"./stock_historical_data/{}_15.csv\".format(stock_name))\n",
    "data.set_index(\"Date\", inplace=True)\n",
    "data.tail()"
   ]
  },
  {
   "cell_type": "markdown",
   "metadata": {
    "id": "6RKxpqoBOSBX"
   },
   "source": [
    "#Data preparation"
   ]
  },
  {
   "cell_type": "code",
   "execution_count": 10,
   "metadata": {
    "colab": {
     "base_uri": "https://localhost:8080/"
    },
    "executionInfo": {
     "elapsed": 843,
     "status": "ok",
     "timestamp": 1621008673660,
     "user": {
      "displayName": "Diogo Resende",
      "photoUrl": "https://lh3.googleusercontent.com/a-/AOh14GgH4DE06-yE1oiIzCiaAURCl1Escr4LXXiaSnbSaA=s64",
      "userId": "05706604408624562002"
     },
     "user_tz": -120
    },
    "id": "o55_2auGOUm6",
    "outputId": "7b72e62e-b26c-451e-c930-f7e794b87c23"
   },
   "outputs": [],
   "source": [
    "#transform the date variable\n",
    "data[\"Date\"] = pd.to_datetime(data.index)\n",
    "#data.Date"
   ]
  },
  {
   "cell_type": "code",
   "execution_count": 11,
   "metadata": {
    "colab": {
     "base_uri": "https://localhost:8080/",
     "height": 79
    },
    "executionInfo": {
     "elapsed": 744,
     "status": "ok",
     "timestamp": 1621008692325,
     "user": {
      "displayName": "Diogo Resende",
      "photoUrl": "https://lh3.googleusercontent.com/a-/AOh14GgH4DE06-yE1oiIzCiaAURCl1Escr4LXXiaSnbSaA=s64",
      "userId": "05706604408624562002"
     },
     "user_tz": -120
    },
    "id": "D3FRYUauQWkz",
    "outputId": "96122dd3-0ca2-496a-e72d-a04c87425033"
   },
   "outputs": [
    {
     "data": {
      "text/html": [
       "<div>\n",
       "<style scoped>\n",
       "    .dataframe tbody tr th:only-of-type {\n",
       "        vertical-align: middle;\n",
       "    }\n",
       "\n",
       "    .dataframe tbody tr th {\n",
       "        vertical-align: top;\n",
       "    }\n",
       "\n",
       "    .dataframe thead th {\n",
       "        text-align: right;\n",
       "    }\n",
       "</style>\n",
       "<table border=\"1\" class=\"dataframe\">\n",
       "  <thead>\n",
       "    <tr style=\"text-align: right;\">\n",
       "      <th></th>\n",
       "      <th>Open</th>\n",
       "      <th>High</th>\n",
       "      <th>Low</th>\n",
       "      <th>y</th>\n",
       "      <th>Volume</th>\n",
       "      <th>ds</th>\n",
       "    </tr>\n",
       "    <tr>\n",
       "      <th>Date</th>\n",
       "      <th></th>\n",
       "      <th></th>\n",
       "      <th></th>\n",
       "      <th></th>\n",
       "      <th></th>\n",
       "      <th></th>\n",
       "    </tr>\n",
       "  </thead>\n",
       "  <tbody>\n",
       "    <tr>\n",
       "      <th>2023-06-30</th>\n",
       "      <td>4.67</td>\n",
       "      <td>4.909</td>\n",
       "      <td>4.6000</td>\n",
       "      <td>4.710</td>\n",
       "      <td>35500</td>\n",
       "      <td>2023-06-30</td>\n",
       "    </tr>\n",
       "    <tr>\n",
       "      <th>2023-07-03</th>\n",
       "      <td>4.97</td>\n",
       "      <td>4.970</td>\n",
       "      <td>4.6500</td>\n",
       "      <td>4.760</td>\n",
       "      <td>15700</td>\n",
       "      <td>2023-07-03</td>\n",
       "    </tr>\n",
       "    <tr>\n",
       "      <th>2023-07-05</th>\n",
       "      <td>4.80</td>\n",
       "      <td>4.870</td>\n",
       "      <td>4.6600</td>\n",
       "      <td>4.678</td>\n",
       "      <td>9200</td>\n",
       "      <td>2023-07-05</td>\n",
       "    </tr>\n",
       "    <tr>\n",
       "      <th>2023-07-06</th>\n",
       "      <td>4.83</td>\n",
       "      <td>4.830</td>\n",
       "      <td>4.5500</td>\n",
       "      <td>4.640</td>\n",
       "      <td>20700</td>\n",
       "      <td>2023-07-06</td>\n",
       "    </tr>\n",
       "    <tr>\n",
       "      <th>2023-07-07</th>\n",
       "      <td>4.75</td>\n",
       "      <td>5.070</td>\n",
       "      <td>4.6800</td>\n",
       "      <td>4.870</td>\n",
       "      <td>66500</td>\n",
       "      <td>2023-07-07</td>\n",
       "    </tr>\n",
       "    <tr>\n",
       "      <th>2023-07-10</th>\n",
       "      <td>4.72</td>\n",
       "      <td>4.920</td>\n",
       "      <td>4.7100</td>\n",
       "      <td>4.790</td>\n",
       "      <td>20600</td>\n",
       "      <td>2023-07-10</td>\n",
       "    </tr>\n",
       "    <tr>\n",
       "      <th>2023-07-11</th>\n",
       "      <td>4.74</td>\n",
       "      <td>4.840</td>\n",
       "      <td>4.6800</td>\n",
       "      <td>4.720</td>\n",
       "      <td>26200</td>\n",
       "      <td>2023-07-11</td>\n",
       "    </tr>\n",
       "    <tr>\n",
       "      <th>2023-07-12</th>\n",
       "      <td>4.80</td>\n",
       "      <td>4.800</td>\n",
       "      <td>4.4300</td>\n",
       "      <td>4.430</td>\n",
       "      <td>39800</td>\n",
       "      <td>2023-07-12</td>\n",
       "    </tr>\n",
       "    <tr>\n",
       "      <th>2023-07-13</th>\n",
       "      <td>4.62</td>\n",
       "      <td>4.650</td>\n",
       "      <td>4.4000</td>\n",
       "      <td>4.490</td>\n",
       "      <td>8600</td>\n",
       "      <td>2023-07-13</td>\n",
       "    </tr>\n",
       "    <tr>\n",
       "      <th>2023-07-14</th>\n",
       "      <td>4.49</td>\n",
       "      <td>4.660</td>\n",
       "      <td>4.1158</td>\n",
       "      <td>4.200</td>\n",
       "      <td>21853</td>\n",
       "      <td>2023-07-14</td>\n",
       "    </tr>\n",
       "  </tbody>\n",
       "</table>\n",
       "</div>"
      ],
      "text/plain": [
       "            Open   High     Low      y  Volume         ds\n",
       "Date                                                     \n",
       "2023-06-30  4.67  4.909  4.6000  4.710   35500 2023-06-30\n",
       "2023-07-03  4.97  4.970  4.6500  4.760   15700 2023-07-03\n",
       "2023-07-05  4.80  4.870  4.6600  4.678    9200 2023-07-05\n",
       "2023-07-06  4.83  4.830  4.5500  4.640   20700 2023-07-06\n",
       "2023-07-07  4.75  5.070  4.6800  4.870   66500 2023-07-07\n",
       "2023-07-10  4.72  4.920  4.7100  4.790   20600 2023-07-10\n",
       "2023-07-11  4.74  4.840  4.6800  4.720   26200 2023-07-11\n",
       "2023-07-12  4.80  4.800  4.4300  4.430   39800 2023-07-12\n",
       "2023-07-13  4.62  4.650  4.4000  4.490    8600 2023-07-13\n",
       "2023-07-14  4.49  4.660  4.1158  4.200   21853 2023-07-14"
      ]
     },
     "execution_count": 11,
     "metadata": {},
     "output_type": "execute_result"
    }
   ],
   "source": [
    "#renaming variables\n",
    "data = data.rename(columns = {'Close': 'y',\n",
    "                     'Date': 'ds'})\n",
    "data.tail(10)"
   ]
  },
  {
   "cell_type": "markdown",
   "metadata": {
    "id": "rbI03M5DQnf7"
   },
   "source": [
    "#Holidays"
   ]
  },
  {
   "cell_type": "code",
   "execution_count": 5,
   "metadata": {
    "colab": {
     "base_uri": "https://localhost:8080/",
     "height": 110
    },
    "executionInfo": {
     "elapsed": 807,
     "status": "ok",
     "timestamp": 1621008701180,
     "user": {
      "displayName": "Diogo Resende",
      "photoUrl": "https://lh3.googleusercontent.com/a-/AOh14GgH4DE06-yE1oiIzCiaAURCl1Escr4LXXiaSnbSaA=s64",
      "userId": "05706604408624562002"
     },
     "user_tz": -120
    },
    "id": "PhOrTqnKRcFB",
    "outputId": "9ea09216-88c5-45e1-9de3-98ab6f27514c"
   },
   "outputs": [],
   "source": [
    "#Thanksgiving\n",
    "#thanksgiving_dates = df[df.Thanksgiving == 1].ds\n",
    "#thanksgiving = pd.DataFrame({'holiday': 'thanksgiving',\n",
    " #                      'ds': pd.to_datetime(thanksgiving_dates),\n",
    "  #                     'lower_window': -5,\n",
    "   #                    'upper_window': 2})\n",
    "#thanksgiving.head(2)"
   ]
  },
  {
   "cell_type": "code",
   "execution_count": 6,
   "metadata": {
    "colab": {
     "base_uri": "https://localhost:8080/",
     "height": 478
    },
    "executionInfo": {
     "elapsed": 735,
     "status": "ok",
     "timestamp": 1621008705120,
     "user": {
      "displayName": "Diogo Resende",
      "photoUrl": "https://lh3.googleusercontent.com/a-/AOh14GgH4DE06-yE1oiIzCiaAURCl1Escr4LXXiaSnbSaA=s64",
      "userId": "05706604408624562002"
     },
     "user_tz": -120
    },
    "id": "cmcQZKjgRp06",
    "outputId": "ae9ef015-e043-4654-d9a5-7d5a61f71a03"
   },
   "outputs": [],
   "source": [
    "#combining holidays\n",
    "#holidays = pd.concat([easter, thanksgiving])\n",
    "#holidays"
   ]
  },
  {
   "cell_type": "code",
   "execution_count": 12,
   "metadata": {
    "executionInfo": {
     "elapsed": 789,
     "status": "ok",
     "timestamp": 1621008765383,
     "user": {
      "displayName": "Diogo Resende",
      "photoUrl": "https://lh3.googleusercontent.com/a-/AOh14GgH4DE06-yE1oiIzCiaAURCl1Escr4LXXiaSnbSaA=s64",
      "userId": "05706604408624562002"
     },
     "user_tz": -120
    },
    "id": "-ReDePNYpfSD"
   },
   "outputs": [],
   "source": [
    "#create training and test set\n",
    "test_days = 360\n",
    "training_set = data.iloc[:-test_days,:]\n",
    "test_set = data.iloc[-test_days:,:]"
   ]
  },
  {
   "cell_type": "code",
   "execution_count": 13,
   "metadata": {},
   "outputs": [
    {
     "data": {
      "text/html": [
       "<div>\n",
       "<style scoped>\n",
       "    .dataframe tbody tr th:only-of-type {\n",
       "        vertical-align: middle;\n",
       "    }\n",
       "\n",
       "    .dataframe tbody tr th {\n",
       "        vertical-align: top;\n",
       "    }\n",
       "\n",
       "    .dataframe thead th {\n",
       "        text-align: right;\n",
       "    }\n",
       "</style>\n",
       "<table border=\"1\" class=\"dataframe\">\n",
       "  <thead>\n",
       "    <tr style=\"text-align: right;\">\n",
       "      <th></th>\n",
       "      <th>Open</th>\n",
       "      <th>High</th>\n",
       "      <th>Low</th>\n",
       "      <th>y</th>\n",
       "      <th>Volume</th>\n",
       "      <th>ds</th>\n",
       "    </tr>\n",
       "    <tr>\n",
       "      <th>Date</th>\n",
       "      <th></th>\n",
       "      <th></th>\n",
       "      <th></th>\n",
       "      <th></th>\n",
       "      <th></th>\n",
       "      <th></th>\n",
       "    </tr>\n",
       "  </thead>\n",
       "  <tbody>\n",
       "    <tr>\n",
       "      <th>2022-02-04</th>\n",
       "      <td>76.050003</td>\n",
       "      <td>78.900002</td>\n",
       "      <td>66.75</td>\n",
       "      <td>67.650002</td>\n",
       "      <td>85860</td>\n",
       "      <td>2022-02-04</td>\n",
       "    </tr>\n",
       "  </tbody>\n",
       "</table>\n",
       "</div>"
      ],
      "text/plain": [
       "                 Open       High    Low          y  Volume         ds\n",
       "Date                                                                 \n",
       "2022-02-04  76.050003  78.900002  66.75  67.650002   85860 2022-02-04"
      ]
     },
     "execution_count": 13,
     "metadata": {},
     "output_type": "execute_result"
    }
   ],
   "source": [
    "training_set.tail(1)\n",
    "#test_set.tail(1)"
   ]
  },
  {
   "cell_type": "markdown",
   "metadata": {
    "id": "eOzPNoRySOA5"
   },
   "source": [
    "#Prophet"
   ]
  },
  {
   "cell_type": "code",
   "execution_count": 14,
   "metadata": {
    "colab": {
     "base_uri": "https://localhost:8080/"
    },
    "executionInfo": {
     "elapsed": 8952,
     "status": "ok",
     "timestamp": 1621008811464,
     "user": {
      "displayName": "Diogo Resende",
      "photoUrl": "https://lh3.googleusercontent.com/a-/AOh14GgH4DE06-yE1oiIzCiaAURCl1Escr4LXXiaSnbSaA=s64",
      "userId": "05706604408624562002"
     },
     "user_tz": -120
    },
    "id": "Ai7zk9f7SPVK",
    "outputId": "8bcef281-3d36-49f1-9c8b-c875beeb5658"
   },
   "outputs": [
    {
     "name": "stderr",
     "output_type": "stream",
     "text": [
      "09:34:16 - cmdstanpy - INFO - Chain [1] start processing\n",
      "09:34:16 - cmdstanpy - INFO - Chain [1] done processing\n"
     ]
    },
    {
     "data": {
      "text/plain": [
       "<prophet.forecaster.Prophet at 0x7fb35d3e7fd0>"
      ]
     },
     "execution_count": 14,
     "metadata": {},
     "output_type": "execute_result"
    }
   ],
   "source": [
    "m = Prophet(\n",
    "            #holidays = holidays,\n",
    "            #seasonality_mode = 'multiplicative',\n",
    "           # seasonality_prior_scale = 20,\n",
    "            #changepoint_prior_scale = 0.1,\n",
    "           # holidays_prior_scale = 10\n",
    "           )\n",
    "#m.add_regressor('Christmas')\n",
    "m.fit(training_set)\n"
   ]
  },
  {
   "cell_type": "code",
   "execution_count": 15,
   "metadata": {},
   "outputs": [
    {
     "name": "stderr",
     "output_type": "stream",
     "text": [
      "09:34:20 - cmdstanpy - INFO - Chain [1] start processing\n",
      "09:34:20 - cmdstanpy - INFO - Chain [1] done processing\n"
     ]
    },
    {
     "data": {
      "text/plain": [
       "<prophet.forecaster.Prophet at 0x7fb35f20b2b0>"
      ]
     },
     "execution_count": 15,
     "metadata": {},
     "output_type": "execute_result"
    }
   ],
   "source": [
    "mFullData = Prophet(\n",
    "            #holidays = holidays,\n",
    "            #seasonality_mode = 'multiplicative',\n",
    "            #seasonality_prior_scale = 20,\n",
    "            #changepoint_prior_scale = 0.1,\n",
    "           # holidays_prior_scale = 10\n",
    "           )\n",
    "#m.add_regressor('Christmas')\n",
    "mFullData.fit(data)"
   ]
  },
  {
   "cell_type": "code",
   "execution_count": 16,
   "metadata": {},
   "outputs": [],
   "source": [
    "\n",
    "# Save the trained model to a file\n",
    "with open('./TrainedModel/prophet/{}prophet_model_2.pkl'.format(stock_name), 'wb') as f:\n",
    "    pickle.dump(mFullData, f)"
   ]
  },
  {
   "cell_type": "code",
   "execution_count": 19,
   "metadata": {
    "executionInfo": {
     "elapsed": 761,
     "status": "ok",
     "timestamp": 1621009466455,
     "user": {
      "displayName": "Diogo Resende",
      "photoUrl": "https://lh3.googleusercontent.com/a-/AOh14GgH4DE06-yE1oiIzCiaAURCl1Escr4LXXiaSnbSaA=s64",
      "userId": "05706604408624562002"
     },
     "user_tz": -120
    },
    "id": "vuYkMgKqsNiD"
   },
   "outputs": [],
   "source": [
    "#create future df\n",
    "future = m.make_future_dataframe(periods = test_days,\n",
    "                                 freq = \"B\")\n",
    "\n",
    "#create future df\n",
    "future_full = mFullData.make_future_dataframe(periods = 0,\n",
    "                                 freq = \"B\")"
   ]
  },
  {
   "cell_type": "code",
   "execution_count": 22,
   "metadata": {
    "executionInfo": {
     "elapsed": 938,
     "status": "ok",
     "timestamp": 1621009506406,
     "user": {
      "displayName": "Diogo Resende",
      "photoUrl": "https://lh3.googleusercontent.com/a-/AOh14GgH4DE06-yE1oiIzCiaAURCl1Escr4LXXiaSnbSaA=s64",
      "userId": "05706604408624562002"
     },
     "user_tz": -120
    },
    "id": "8-cqw_0isYEP"
   },
   "outputs": [],
   "source": [
    "future = pd.concat([future], axis = 1)\n",
    "future_full = pd.concat([future_full], axis = 1)\n",
    "\n",
    " "
   ]
  },
  {
   "cell_type": "code",
   "execution_count": 23,
   "metadata": {
    "colab": {
     "base_uri": "https://localhost:8080/",
     "height": 309
    },
    "executionInfo": {
     "elapsed": 5052,
     "status": "ok",
     "timestamp": 1621009541010,
     "user": {
      "displayName": "Diogo Resende",
      "photoUrl": "https://lh3.googleusercontent.com/a-/AOh14GgH4DE06-yE1oiIzCiaAURCl1Escr4LXXiaSnbSaA=s64",
      "userId": "05706604408624562002"
     },
     "user_tz": -120
    },
    "id": "NaKE6JkDshxm",
    "outputId": "4c7aac39-520e-4944-a77b-e1d903925a7d"
   },
   "outputs": [
    {
     "data": {
      "text/html": [
       "<div>\n",
       "<style scoped>\n",
       "    .dataframe tbody tr th:only-of-type {\n",
       "        vertical-align: middle;\n",
       "    }\n",
       "\n",
       "    .dataframe tbody tr th {\n",
       "        vertical-align: top;\n",
       "    }\n",
       "\n",
       "    .dataframe thead th {\n",
       "        text-align: right;\n",
       "    }\n",
       "</style>\n",
       "<table border=\"1\" class=\"dataframe\">\n",
       "  <thead>\n",
       "    <tr style=\"text-align: right;\">\n",
       "      <th></th>\n",
       "      <th>ds</th>\n",
       "      <th>trend</th>\n",
       "      <th>yhat_lower</th>\n",
       "      <th>yhat_upper</th>\n",
       "      <th>trend_lower</th>\n",
       "      <th>trend_upper</th>\n",
       "      <th>additive_terms</th>\n",
       "      <th>additive_terms_lower</th>\n",
       "      <th>additive_terms_upper</th>\n",
       "      <th>weekly</th>\n",
       "      <th>weekly_lower</th>\n",
       "      <th>weekly_upper</th>\n",
       "      <th>yearly</th>\n",
       "      <th>yearly_lower</th>\n",
       "      <th>yearly_upper</th>\n",
       "      <th>multiplicative_terms</th>\n",
       "      <th>multiplicative_terms_lower</th>\n",
       "      <th>multiplicative_terms_upper</th>\n",
       "      <th>yhat</th>\n",
       "    </tr>\n",
       "  </thead>\n",
       "  <tbody>\n",
       "    <tr>\n",
       "      <th>606</th>\n",
       "      <td>2023-07-10</td>\n",
       "      <td>11.092409</td>\n",
       "      <td>-10.077769</td>\n",
       "      <td>11.986325</td>\n",
       "      <td>11.092409</td>\n",
       "      <td>11.092409</td>\n",
       "      <td>-10.278906</td>\n",
       "      <td>-10.278906</td>\n",
       "      <td>-10.278906</td>\n",
       "      <td>-4.934688</td>\n",
       "      <td>-4.934688</td>\n",
       "      <td>-4.934688</td>\n",
       "      <td>-5.344218</td>\n",
       "      <td>-5.344218</td>\n",
       "      <td>-5.344218</td>\n",
       "      <td>0.0</td>\n",
       "      <td>0.0</td>\n",
       "      <td>0.0</td>\n",
       "      <td>0.813503</td>\n",
       "    </tr>\n",
       "    <tr>\n",
       "      <th>607</th>\n",
       "      <td>2023-07-11</td>\n",
       "      <td>11.152471</td>\n",
       "      <td>-10.348263</td>\n",
       "      <td>12.583973</td>\n",
       "      <td>11.152471</td>\n",
       "      <td>11.152471</td>\n",
       "      <td>-10.337595</td>\n",
       "      <td>-10.337595</td>\n",
       "      <td>-10.337595</td>\n",
       "      <td>-4.533607</td>\n",
       "      <td>-4.533607</td>\n",
       "      <td>-4.533607</td>\n",
       "      <td>-5.803988</td>\n",
       "      <td>-5.803988</td>\n",
       "      <td>-5.803988</td>\n",
       "      <td>0.0</td>\n",
       "      <td>0.0</td>\n",
       "      <td>0.0</td>\n",
       "      <td>0.814876</td>\n",
       "    </tr>\n",
       "    <tr>\n",
       "      <th>608</th>\n",
       "      <td>2023-07-12</td>\n",
       "      <td>11.212534</td>\n",
       "      <td>-11.766323</td>\n",
       "      <td>11.388861</td>\n",
       "      <td>11.212534</td>\n",
       "      <td>11.212534</td>\n",
       "      <td>-11.061876</td>\n",
       "      <td>-11.061876</td>\n",
       "      <td>-11.061876</td>\n",
       "      <td>-4.781188</td>\n",
       "      <td>-4.781188</td>\n",
       "      <td>-4.781188</td>\n",
       "      <td>-6.280688</td>\n",
       "      <td>-6.280688</td>\n",
       "      <td>-6.280688</td>\n",
       "      <td>0.0</td>\n",
       "      <td>0.0</td>\n",
       "      <td>0.0</td>\n",
       "      <td>0.150657</td>\n",
       "    </tr>\n",
       "    <tr>\n",
       "      <th>609</th>\n",
       "      <td>2023-07-13</td>\n",
       "      <td>11.272596</td>\n",
       "      <td>-11.668296</td>\n",
       "      <td>10.840249</td>\n",
       "      <td>11.272596</td>\n",
       "      <td>11.272596</td>\n",
       "      <td>-12.000259</td>\n",
       "      <td>-12.000259</td>\n",
       "      <td>-12.000259</td>\n",
       "      <td>-5.229918</td>\n",
       "      <td>-5.229918</td>\n",
       "      <td>-5.229918</td>\n",
       "      <td>-6.770341</td>\n",
       "      <td>-6.770341</td>\n",
       "      <td>-6.770341</td>\n",
       "      <td>0.0</td>\n",
       "      <td>0.0</td>\n",
       "      <td>0.0</td>\n",
       "      <td>-0.727663</td>\n",
       "    </tr>\n",
       "    <tr>\n",
       "      <th>610</th>\n",
       "      <td>2023-07-14</td>\n",
       "      <td>11.332658</td>\n",
       "      <td>-12.287628</td>\n",
       "      <td>10.073973</td>\n",
       "      <td>11.332658</td>\n",
       "      <td>11.332658</td>\n",
       "      <td>-12.986293</td>\n",
       "      <td>-12.986293</td>\n",
       "      <td>-12.986293</td>\n",
       "      <td>-5.717875</td>\n",
       "      <td>-5.717875</td>\n",
       "      <td>-5.717875</td>\n",
       "      <td>-7.268417</td>\n",
       "      <td>-7.268417</td>\n",
       "      <td>-7.268417</td>\n",
       "      <td>0.0</td>\n",
       "      <td>0.0</td>\n",
       "      <td>0.0</td>\n",
       "      <td>-1.653634</td>\n",
       "    </tr>\n",
       "  </tbody>\n",
       "</table>\n",
       "</div>"
      ],
      "text/plain": [
       "            ds      trend  yhat_lower  yhat_upper  trend_lower  trend_upper  \\\n",
       "606 2023-07-10  11.092409  -10.077769   11.986325    11.092409    11.092409   \n",
       "607 2023-07-11  11.152471  -10.348263   12.583973    11.152471    11.152471   \n",
       "608 2023-07-12  11.212534  -11.766323   11.388861    11.212534    11.212534   \n",
       "609 2023-07-13  11.272596  -11.668296   10.840249    11.272596    11.272596   \n",
       "610 2023-07-14  11.332658  -12.287628   10.073973    11.332658    11.332658   \n",
       "\n",
       "     additive_terms  additive_terms_lower  additive_terms_upper    weekly  \\\n",
       "606      -10.278906            -10.278906            -10.278906 -4.934688   \n",
       "607      -10.337595            -10.337595            -10.337595 -4.533607   \n",
       "608      -11.061876            -11.061876            -11.061876 -4.781188   \n",
       "609      -12.000259            -12.000259            -12.000259 -5.229918   \n",
       "610      -12.986293            -12.986293            -12.986293 -5.717875   \n",
       "\n",
       "     weekly_lower  weekly_upper    yearly  yearly_lower  yearly_upper  \\\n",
       "606     -4.934688     -4.934688 -5.344218     -5.344218     -5.344218   \n",
       "607     -4.533607     -4.533607 -5.803988     -5.803988     -5.803988   \n",
       "608     -4.781188     -4.781188 -6.280688     -6.280688     -6.280688   \n",
       "609     -5.229918     -5.229918 -6.770341     -6.770341     -6.770341   \n",
       "610     -5.717875     -5.717875 -7.268417     -7.268417     -7.268417   \n",
       "\n",
       "     multiplicative_terms  multiplicative_terms_lower  \\\n",
       "606                   0.0                         0.0   \n",
       "607                   0.0                         0.0   \n",
       "608                   0.0                         0.0   \n",
       "609                   0.0                         0.0   \n",
       "610                   0.0                         0.0   \n",
       "\n",
       "     multiplicative_terms_upper      yhat  \n",
       "606                         0.0  0.813503  \n",
       "607                         0.0  0.814876  \n",
       "608                         0.0  0.150657  \n",
       "609                         0.0 -0.727663  \n",
       "610                         0.0 -1.653634  "
      ]
     },
     "execution_count": 23,
     "metadata": {},
     "output_type": "execute_result"
    }
   ],
   "source": [
    "#forecast\n",
    "forecast = m.predict(future)\n",
    "forecast.tail()\n",
    "#forecast full data\n",
    "forecast_full = mFullData.predict(future_full)\n",
    "forecast_full.tail()"
   ]
  },
  {
   "cell_type": "code",
   "execution_count": 24,
   "metadata": {},
   "outputs": [
    {
     "data": {
      "image/png": "[encoded data removed]",
      "text/plain": [
       "<Figure size 900x900 with 3 Axes>"
      ]
     },
     "execution_count": 24,
     "metadata": {},
     "output_type": "execute_result"
    },
    {
     "data": {
      "image/png": "[encoded data removed]",
      "text/plain": [
       "<Figure size 900x900 with 3 Axes>"
      ]
     },
     "metadata": {},
     "output_type": "display_data"
    }
   ],
   "source": [
    "mFullData.plot_components(forecast_full)"
   ]
  },
  {
   "cell_type": "code",
   "execution_count": 17,
   "metadata": {},
   "outputs": [
    {
     "data": {
      "text/html": [
       "<div>\n",
       "<style scoped>\n",
       "    .dataframe tbody tr th:only-of-type {\n",
       "        vertical-align: middle;\n",
       "    }\n",
       "\n",
       "    .dataframe tbody tr th {\n",
       "        vertical-align: top;\n",
       "    }\n",
       "\n",
       "    .dataframe thead th {\n",
       "        text-align: right;\n",
       "    }\n",
       "</style>\n",
       "<table border=\"1\" class=\"dataframe\">\n",
       "  <thead>\n",
       "    <tr style=\"text-align: right;\">\n",
       "      <th></th>\n",
       "      <th>Date</th>\n",
       "      <th>Open</th>\n",
       "      <th>High</th>\n",
       "      <th>Low</th>\n",
       "      <th>y</th>\n",
       "      <th>Volume</th>\n",
       "      <th>ds</th>\n",
       "    </tr>\n",
       "  </thead>\n",
       "  <tbody>\n",
       "    <tr>\n",
       "      <th>0</th>\n",
       "      <td>2002-07-01</td>\n",
       "      <td>1.387645</td>\n",
       "      <td>1.442695</td>\n",
       "      <td>1.377240</td>\n",
       "      <td>1.428596</td>\n",
       "      <td>66107844</td>\n",
       "      <td>2002-07-01</td>\n",
       "    </tr>\n",
       "    <tr>\n",
       "      <th>1</th>\n",
       "      <td>2002-07-02</td>\n",
       "      <td>1.427925</td>\n",
       "      <td>1.448736</td>\n",
       "      <td>1.401408</td>\n",
       "      <td>1.407785</td>\n",
       "      <td>53452773</td>\n",
       "      <td>2002-07-02</td>\n",
       "    </tr>\n",
       "    <tr>\n",
       "      <th>2</th>\n",
       "      <td>2002-07-03</td>\n",
       "      <td>1.415506</td>\n",
       "      <td>1.415506</td>\n",
       "      <td>1.364149</td>\n",
       "      <td>1.376569</td>\n",
       "      <td>25342020</td>\n",
       "      <td>2002-07-03</td>\n",
       "    </tr>\n",
       "    <tr>\n",
       "      <th>3</th>\n",
       "      <td>2002-07-04</td>\n",
       "      <td>1.370191</td>\n",
       "      <td>1.395030</td>\n",
       "      <td>1.356429</td>\n",
       "      <td>1.369856</td>\n",
       "      <td>18499041</td>\n",
       "      <td>2002-07-04</td>\n",
       "    </tr>\n",
       "    <tr>\n",
       "      <th>4</th>\n",
       "      <td>2002-07-05</td>\n",
       "      <td>1.364484</td>\n",
       "      <td>1.389660</td>\n",
       "      <td>1.364484</td>\n",
       "      <td>1.378247</td>\n",
       "      <td>16883757</td>\n",
       "      <td>2002-07-05</td>\n",
       "    </tr>\n",
       "    <tr>\n",
       "      <th>...</th>\n",
       "      <td>...</td>\n",
       "      <td>...</td>\n",
       "      <td>...</td>\n",
       "      <td>...</td>\n",
       "      <td>...</td>\n",
       "      <td>...</td>\n",
       "      <td>...</td>\n",
       "    </tr>\n",
       "    <tr>\n",
       "      <th>5219</th>\n",
       "      <td>2023-07-05</td>\n",
       "      <td>122.550003</td>\n",
       "      <td>123.750000</td>\n",
       "      <td>121.050003</td>\n",
       "      <td>121.750000</td>\n",
       "      <td>15615891</td>\n",
       "      <td>2023-07-05</td>\n",
       "    </tr>\n",
       "    <tr>\n",
       "      <th>5220</th>\n",
       "      <td>2023-07-06</td>\n",
       "      <td>122.300003</td>\n",
       "      <td>125.099998</td>\n",
       "      <td>121.900002</td>\n",
       "      <td>124.800003</td>\n",
       "      <td>16906327</td>\n",
       "      <td>2023-07-06</td>\n",
       "    </tr>\n",
       "    <tr>\n",
       "      <th>5221</th>\n",
       "      <td>2023-07-07</td>\n",
       "      <td>124.349998</td>\n",
       "      <td>125.900002</td>\n",
       "      <td>123.650002</td>\n",
       "      <td>124.050003</td>\n",
       "      <td>22837962</td>\n",
       "      <td>2023-07-07</td>\n",
       "    </tr>\n",
       "    <tr>\n",
       "      <th>5222</th>\n",
       "      <td>2023-07-10</td>\n",
       "      <td>124.199997</td>\n",
       "      <td>124.650002</td>\n",
       "      <td>122.500000</td>\n",
       "      <td>123.000000</td>\n",
       "      <td>9068813</td>\n",
       "      <td>2023-07-10</td>\n",
       "    </tr>\n",
       "    <tr>\n",
       "      <th>5223</th>\n",
       "      <td>2023-07-12</td>\n",
       "      <td>128.300003</td>\n",
       "      <td>128.500000</td>\n",
       "      <td>126.550003</td>\n",
       "      <td>127.650002</td>\n",
       "      <td>18020824</td>\n",
       "      <td>2023-07-12</td>\n",
       "    </tr>\n",
       "  </tbody>\n",
       "</table>\n",
       "<p>5224 rows × 7 columns</p>\n",
       "</div>"
      ],
      "text/plain": [
       "           Date        Open        High         Low           y    Volume  \\\n",
       "0    2002-07-01    1.387645    1.442695    1.377240    1.428596  66107844   \n",
       "1    2002-07-02    1.427925    1.448736    1.401408    1.407785  53452773   \n",
       "2    2002-07-03    1.415506    1.415506    1.364149    1.376569  25342020   \n",
       "3    2002-07-04    1.370191    1.395030    1.356429    1.369856  18499041   \n",
       "4    2002-07-05    1.364484    1.389660    1.364484    1.378247  16883757   \n",
       "...         ...         ...         ...         ...         ...       ...   \n",
       "5219 2023-07-05  122.550003  123.750000  121.050003  121.750000  15615891   \n",
       "5220 2023-07-06  122.300003  125.099998  121.900002  124.800003  16906327   \n",
       "5221 2023-07-07  124.349998  125.900002  123.650002  124.050003  22837962   \n",
       "5222 2023-07-10  124.199997  124.650002  122.500000  123.000000   9068813   \n",
       "5223 2023-07-12  128.300003  128.500000  126.550003  127.650002  18020824   \n",
       "\n",
       "             ds  \n",
       "0    2002-07-01  \n",
       "1    2002-07-02  \n",
       "2    2002-07-03  \n",
       "3    2002-07-04  \n",
       "4    2002-07-05  \n",
       "...         ...  \n",
       "5219 2023-07-05  \n",
       "5220 2023-07-06  \n",
       "5221 2023-07-07  \n",
       "5222 2023-07-10  \n",
       "5223 2023-07-12  \n",
       "\n",
       "[5224 rows x 7 columns]"
      ]
     },
     "execution_count": 17,
     "metadata": {},
     "output_type": "execute_result"
    }
   ],
   "source": [
    "data = data.reset_index(level=None, drop=False, inplace=False, col_level=0, col_fill='')\n",
    "data"
   ]
  },
  {
   "cell_type": "code",
   "execution_count": 18,
   "metadata": {
    "colab": {
     "base_uri": "https://localhost:8080/",
     "height": 79
    },
    "executionInfo": {
     "elapsed": 789,
     "status": "ok",
     "timestamp": 1621009743333,
     "user": {
      "displayName": "Diogo Resende",
      "photoUrl": "https://lh3.googleusercontent.com/a-/AOh14GgH4DE06-yE1oiIzCiaAURCl1Escr4LXXiaSnbSaA=s64",
      "userId": "05706604408624562002"
     },
     "user_tz": -120
    },
    "id": "cHnEk0cMsrfG",
    "outputId": "0e18baad-9e68-4f94-bc48-c6509130f361"
   },
   "outputs": [
    {
     "data": {
      "text/html": [
       "<div>\n",
       "<style scoped>\n",
       "    .dataframe tbody tr th:only-of-type {\n",
       "        vertical-align: middle;\n",
       "    }\n",
       "\n",
       "    .dataframe tbody tr th {\n",
       "        vertical-align: top;\n",
       "    }\n",
       "\n",
       "    .dataframe thead th {\n",
       "        text-align: right;\n",
       "    }\n",
       "</style>\n",
       "<table border=\"1\" class=\"dataframe\">\n",
       "  <thead>\n",
       "    <tr style=\"text-align: right;\">\n",
       "      <th></th>\n",
       "      <th>Date</th>\n",
       "      <th>Open</th>\n",
       "      <th>High</th>\n",
       "      <th>Low</th>\n",
       "      <th>y</th>\n",
       "      <th>Volume</th>\n",
       "      <th>ds</th>\n",
       "      <th>trend</th>\n",
       "      <th>weekly</th>\n",
       "      <th>multiplicative_terms</th>\n",
       "    </tr>\n",
       "  </thead>\n",
       "  <tbody>\n",
       "    <tr>\n",
       "      <th>5223</th>\n",
       "      <td>2023-07-12</td>\n",
       "      <td>128.300003</td>\n",
       "      <td>128.5</td>\n",
       "      <td>126.550003</td>\n",
       "      <td>127.650002</td>\n",
       "      <td>18020824</td>\n",
       "      <td>2023-07-12</td>\n",
       "      <td>103.917392</td>\n",
       "      <td>0.58513</td>\n",
       "      <td>0.0</td>\n",
       "    </tr>\n",
       "  </tbody>\n",
       "</table>\n",
       "</div>"
      ],
      "text/plain": [
       "           Date        Open   High         Low           y    Volume  \\\n",
       "5223 2023-07-12  128.300003  128.5  126.550003  127.650002  18020824   \n",
       "\n",
       "             ds       trend   weekly  multiplicative_terms  \n",
       "5223 2023-07-12  103.917392  0.58513                   0.0  "
      ]
     },
     "execution_count": 18,
     "metadata": {},
     "output_type": "execute_result"
    }
   ],
   "source": [
    "#get some variables\n",
    "prophet_variables = forecast.loc[:, [\"trend\", \"weekly\",  \"multiplicative_terms\"]]\n",
    "df_xgb = pd.concat([data, prophet_variables], axis = 1)\n",
    "df_xgb.tail(1)\n",
    "prophet_variables_full = forecast_full.loc[:, [\"trend\", \"weekly\",  \"multiplicative_terms\"]]\n",
    "df_xgb_full = pd.concat([data, prophet_variables_full], axis = 1)\n",
    "#df_xgb_full.tail(1)\n",
    "df_xgb_full.tail(1)\n"
   ]
  },
  {
   "cell_type": "markdown",
   "metadata": {
    "id": "lNUb5oO-tir_"
   },
   "source": [
    "#XGBoost preparation"
   ]
  },
  {
   "cell_type": "code",
   "execution_count": 19,
   "metadata": {
    "executionInfo": {
     "elapsed": 444,
     "status": "ok",
     "timestamp": 1621009798336,
     "user": {
      "displayName": "Diogo Resende",
      "photoUrl": "https://lh3.googleusercontent.com/a-/AOh14GgH4DE06-yE1oiIzCiaAURCl1Escr4LXXiaSnbSaA=s64",
      "userId": "05706604408624562002"
     },
     "user_tz": -120
    },
    "id": "YCd0qohrtkae"
   },
   "outputs": [],
   "source": [
    "#create training and test set\n",
    "test_days = 100\n",
    "training_set = df_xgb.iloc[:-test_days,:]\n",
    "test_set = df_xgb.iloc[-test_days:,:]"
   ]
  },
  {
   "cell_type": "code",
   "execution_count": 20,
   "metadata": {
    "executionInfo": {
     "elapsed": 801,
     "status": "ok",
     "timestamp": 1621009908956,
     "user": {
      "displayName": "Diogo Resende",
      "photoUrl": "https://lh3.googleusercontent.com/a-/AOh14GgH4DE06-yE1oiIzCiaAURCl1Escr4LXXiaSnbSaA=s64",
      "userId": "05706604408624562002"
     },
     "user_tz": -120
    },
    "id": "Hy7FFj2UtpKo"
   },
   "outputs": [],
   "source": [
    "#isolate X and y\n",
    "y_train = training_set.y\n",
    "y_test = test_set.y \n",
    "X_train = training_set.iloc[:, 2:]\n",
    "X_test = test_set.iloc[:, 2:]\n",
    "#full data \n",
    "y_train_full = df_xgb_full.y\n",
    "x_train_full = df_xgb_full.iloc[:, 2:]\n"
   ]
  },
  {
   "cell_type": "code",
   "execution_count": 21,
   "metadata": {},
   "outputs": [],
   "source": [
    "x_train_full = x_train_full.drop(columns=[\"ds\"])\n",
    "X_train = X_train.drop(columns=[\"ds\"])\n",
    "X_test = X_test.drop(columns=[\"ds\"])\n",
    "#x_train_full = x_train_full.drop(columns=[\"ds\"])"
   ]
  },
  {
   "cell_type": "code",
   "execution_count": 22,
   "metadata": {
    "executionInfo": {
     "elapsed": 810,
     "status": "ok",
     "timestamp": 1621009964124,
     "user": {
      "displayName": "Diogo Resende",
      "photoUrl": "https://lh3.googleusercontent.com/a-/AOh14GgH4DE06-yE1oiIzCiaAURCl1Escr4LXXiaSnbSaA=s64",
      "userId": "05706604408624562002"
     },
     "user_tz": -120
    },
    "id": "N4DVh8ykuEzD"
   },
   "outputs": [],
   "source": [
    "#Matrices\n",
    "import xgboost as xgb\n",
    "Train = xgb.DMatrix(X_train, label = y_train)\n",
    "Test = xgb.DMatrix(X_test, label = y_test)"
   ]
  },
  {
   "cell_type": "code",
   "execution_count": 23,
   "metadata": {},
   "outputs": [],
   "source": [
    "#Matrices FULL DATA\n",
    "Train_full = xgb.DMatrix(x_train_full, label = y_train_full)"
   ]
  },
  {
   "cell_type": "code",
   "execution_count": 24,
   "metadata": {
    "executionInfo": {
     "elapsed": 755,
     "status": "ok",
     "timestamp": 1621010148513,
     "user": {
      "displayName": "Diogo Resende",
      "photoUrl": "https://lh3.googleusercontent.com/a-/AOh14GgH4DE06-yE1oiIzCiaAURCl1Escr4LXXiaSnbSaA=s64",
      "userId": "05706604408624562002"
     },
     "user_tz": -120
    },
    "id": "jMsbDX7huRjC"
   },
   "outputs": [],
   "source": [
    "#set the parameters\n",
    "parameters = {'learning_rate': 0.3,\n",
    "              'max_depth': 6,\n",
    "              'colsample_bytree': 1,\n",
    "              'subsample': 1,\n",
    "              'min_child_weight' : 1,\n",
    "              'gamma': 0,\n",
    "              'random_state': 1502,\n",
    "              'eval_metric': \"rmse\",\n",
    "              'objective': \"reg:squarederror\"}"
   ]
  },
  {
   "cell_type": "markdown",
   "metadata": {
    "id": "r_NPjTwvvAFw"
   },
   "source": [
    "#XGBoost"
   ]
  },
  {
   "cell_type": "code",
   "execution_count": 25,
   "metadata": {
    "colab": {
     "base_uri": "https://localhost:8080/"
    },
    "executionInfo": {
     "elapsed": 1270,
     "status": "ok",
     "timestamp": 1621010214611,
     "user": {
      "displayName": "Diogo Resende",
      "photoUrl": "https://lh3.googleusercontent.com/a-/AOh14GgH4DE06-yE1oiIzCiaAURCl1Escr4LXXiaSnbSaA=s64",
      "userId": "05706604408624562002"
     },
     "user_tz": -120
    },
    "id": "tbfqPArxu-lW",
    "outputId": "b813ebd1-a6fc-477b-9c35-86f6f2484af1"
   },
   "outputs": [
    {
     "name": "stdout",
     "output_type": "stream",
     "text": [
      "[0]\ty-rmse:76.10205\n",
      "[1]\ty-rmse:55.71619\n",
      "[2]\ty-rmse:40.87499\n",
      "[3]\ty-rmse:30.40357\n",
      "[4]\ty-rmse:23.43300\n",
      "[5]\ty-rmse:18.68178\n",
      "[6]\ty-rmse:15.07602\n",
      "[7]\ty-rmse:12.51770\n",
      "[8]\ty-rmse:10.73319\n",
      "[9]\ty-rmse:9.56699\n",
      "[10]\ty-rmse:8.87445\n",
      "[11]\ty-rmse:8.19330\n",
      "[12]\ty-rmse:7.68487\n",
      "[13]\ty-rmse:7.28774\n",
      "[14]\ty-rmse:6.96547\n",
      "[15]\ty-rmse:6.72499\n",
      "[16]\ty-rmse:6.53179\n",
      "[17]\ty-rmse:6.38739\n",
      "[18]\ty-rmse:6.35399\n",
      "[19]\ty-rmse:6.30426\n",
      "[20]\ty-rmse:6.27733\n",
      "[21]\ty-rmse:6.26173\n",
      "[22]\ty-rmse:6.17514\n",
      "[23]\ty-rmse:6.09362\n",
      "[24]\ty-rmse:6.02510\n",
      "[25]\ty-rmse:6.00953\n",
      "[26]\ty-rmse:5.95652\n",
      "[27]\ty-rmse:5.91202\n",
      "[28]\ty-rmse:5.87477\n",
      "[29]\ty-rmse:5.84201\n",
      "[30]\ty-rmse:5.81519\n",
      "[31]\ty-rmse:5.78539\n",
      "[32]\ty-rmse:5.76577\n",
      "[33]\ty-rmse:5.74909\n",
      "[34]\ty-rmse:5.73494\n",
      "[35]\ty-rmse:5.72202\n",
      "[36]\ty-rmse:5.71172\n",
      "[37]\ty-rmse:5.70157\n",
      "[38]\ty-rmse:5.69442\n",
      "[39]\ty-rmse:5.68816\n"
     ]
    }
   ],
   "source": [
    "model = xgb.train(params = parameters,\n",
    "                  dtrain = Train,\n",
    "                  num_boost_round = 40,\n",
    "                  evals = [(Test, \"y\")])"
   ]
  },
  {
   "cell_type": "code",
   "execution_count": 26,
   "metadata": {},
   "outputs": [
    {
     "name": "stdout",
     "output_type": "stream",
     "text": [
      "[0]\ty-rmse:75.43816\n",
      "[1]\ty-rmse:53.01247\n",
      "[2]\ty-rmse:37.13306\n",
      "[3]\ty-rmse:26.36880\n",
      "[4]\ty-rmse:18.52264\n",
      "[5]\ty-rmse:12.94427\n",
      "[6]\ty-rmse:9.16882\n",
      "[7]\ty-rmse:6.55834\n",
      "[8]\ty-rmse:4.72814\n",
      "[9]\ty-rmse:4.03380\n",
      "[10]\ty-rmse:3.52893\n",
      "[11]\ty-rmse:2.87760\n",
      "[12]\ty-rmse:2.50577\n",
      "[13]\ty-rmse:2.16786\n",
      "[14]\ty-rmse:1.92714\n",
      "[15]\ty-rmse:1.75487\n",
      "[16]\ty-rmse:1.63177\n",
      "[17]\ty-rmse:1.53251\n",
      "[18]\ty-rmse:1.47806\n",
      "[19]\ty-rmse:1.39823\n",
      "[20]\ty-rmse:1.37041\n",
      "[21]\ty-rmse:1.34075\n",
      "[22]\ty-rmse:1.32565\n",
      "[23]\ty-rmse:1.30080\n",
      "[24]\ty-rmse:1.28242\n",
      "[25]\ty-rmse:1.23808\n",
      "[26]\ty-rmse:1.22982\n",
      "[27]\ty-rmse:1.21971\n",
      "[28]\ty-rmse:1.20994\n",
      "[29]\ty-rmse:1.21032\n",
      "[30]\ty-rmse:1.20117\n",
      "[31]\ty-rmse:1.19666\n",
      "[32]\ty-rmse:1.19646\n",
      "[33]\ty-rmse:1.19550\n",
      "[34]\ty-rmse:1.18956\n",
      "[35]\ty-rmse:1.18346\n",
      "[36]\ty-rmse:1.18254\n",
      "[37]\ty-rmse:1.18154\n",
      "[38]\ty-rmse:1.18293\n",
      "[39]\ty-rmse:1.17731\n"
     ]
    }
   ],
   "source": [
    "#FULL\n",
    "model_full = xgb.train(params = parameters,\n",
    "                  dtrain = Train_full,\n",
    "                  num_boost_round = 40,\n",
    "                  evals = [(Test, \"y\")])"
   ]
  },
  {
   "cell_type": "code",
   "execution_count": 27,
   "metadata": {},
   "outputs": [
    {
     "data": {
      "text/plain": [
       "<xgboost.core.DMatrix at 0x7fabff9203a0>"
      ]
     },
     "execution_count": 27,
     "metadata": {},
     "output_type": "execute_result"
    }
   ],
   "source": [
    "Train_full"
   ]
  },
  {
   "cell_type": "code",
   "execution_count": 28,
   "metadata": {},
   "outputs": [],
   "source": [
    "#forecasting\n",
    "predictions = pd.Series(model.predict(Test), name = \"XGBoost\")\n",
    "predictions.index  =test_set.ds"
   ]
  },
  {
   "cell_type": "code",
   "execution_count": 38,
   "metadata": {},
   "outputs": [],
   "source": [
    "\n",
    "# Save the trained model to a file\n",
    "#with open('./TrainedModel/prophet/{}_prophet_model_1.pkl'.format(stock_name), 'wb') as f:\n",
    "#    pickle.dump(model_full, f)"
   ]
  },
  {
   "cell_type": "code",
   "execution_count": 30,
   "metadata": {},
   "outputs": [],
   "source": [
    "#f_predictions = pd.Series(model.predict(Future), name = \"XGBoost\")\n",
    "#f_predictions"
   ]
  },
  {
   "cell_type": "code",
   "execution_count": null,
   "metadata": {},
   "outputs": [],
   "source": []
  },
  {
   "cell_type": "markdown",
   "metadata": {
    "id": "chgYCCqhvmiW"
   },
   "source": [
    "#VIZ and assessment"
   ]
  },
  {
   "cell_type": "code",
   "execution_count": 39,
   "metadata": {
    "executionInfo": {
     "elapsed": 752,
     "status": "ok",
     "timestamp": 1621010365844,
     "user": {
      "displayName": "Diogo Resende",
      "photoUrl": "https://lh3.googleusercontent.com/a-/AOh14GgH4DE06-yE1oiIzCiaAURCl1Escr4LXXiaSnbSaA=s64",
      "userId": "05706604408624562002"
     },
     "user_tz": -120
    },
    "id": "R8azMDH1vkxr"
   },
   "outputs": [],
   "source": [
    "#Visualization\n",
    "training_set.index = training_set.ds\n",
    "test_set.index = test_set.ds"
   ]
  },
  {
   "cell_type": "code",
   "execution_count": 40,
   "metadata": {},
   "outputs": [],
   "source": [
    "#forecasting\n",
    "predictions = pd.Series(model.predict(Test), name = \"XGBoost\")\n",
    "predictions.index  =test_set.ds"
   ]
  },
  {
   "cell_type": "code",
   "execution_count": 41,
   "metadata": {
    "colab": {
     "base_uri": "https://localhost:8080/",
     "height": 417
    },
    "executionInfo": {
     "elapsed": 1600,
     "status": "ok",
     "timestamp": 1621010431951,
     "user": {
      "displayName": "Diogo Resende",
      "photoUrl": "https://lh3.googleusercontent.com/a-/AOh14GgH4DE06-yE1oiIzCiaAURCl1Escr4LXXiaSnbSaA=s64",
      "userId": "05706604408624562002"
     },
     "user_tz": -120
    },
    "id": "KmUOTBaYvzQV",
    "outputId": "0ef89d8d-377d-43d6-fd82-62bf6f46c01e"
   },
   "outputs": [
    {
     "data": {
      "text/plain": [
       "<Axes: xlabel='ds'>"
      ]
     },
     "execution_count": 41,
     "metadata": {},
     "output_type": "execute_result"
    },
    {
     "data": {
      "image/png": "[encoded data removed]",
      "text/plain": [
       "<Figure size 900x600 with 1 Axes>"
      ]
     },
     "metadata": {},
     "output_type": "display_data"
    }
   ],
   "source": [
    "training_set.y['2020-01-01':].plot(figsize = (9,6), legend = True)\n",
    "test_set.y.plot(legend = True)\n",
    "predictions.plot(legend = True)"
   ]
  },
  {
   "cell_type": "code",
   "execution_count": 34,
   "metadata": {
    "colab": {
     "base_uri": "https://localhost:8080/"
    },
    "executionInfo": {
     "elapsed": 972,
     "status": "ok",
     "timestamp": 1621010535824,
     "user": {
      "displayName": "Diogo Resende",
      "photoUrl": "https://lh3.googleusercontent.com/a-/AOh14GgH4DE06-yE1oiIzCiaAURCl1Escr4LXXiaSnbSaA=s64",
      "userId": "05706604408624562002"
     },
     "user_tz": -120
    },
    "id": "cWiOhRX-wJjT",
    "outputId": "8ae1a6f5-be12-4e69-e6ff-ccbacf38dca0"
   },
   "outputs": [
    {
     "data": {
      "text/plain": [
       "2.8094033777516727"
      ]
     },
     "execution_count": 34,
     "metadata": {},
     "output_type": "execute_result"
    }
   ],
   "source": [
    "#MAPE\n",
    "def MAPE(y_true, y_pred):\n",
    "  y_true, y_pred = np.array(y_true), np.array(y_pred)\n",
    "  return np.mean(np.abs((y_true - y_pred) / y_true)) * 100\n",
    "MAPE(test_set.y, predictions)"
   ]
  },
  {
   "cell_type": "markdown",
   "metadata": {},
   "source": [
    "#Future\n",
    "\n"
   ]
  },
  {
   "cell_type": "code",
   "execution_count": 35,
   "metadata": {},
   "outputs": [],
   "source": [
    "# Create a dictionary with data\n",
    "data = {\n",
    "            'High': [4.123123],\n",
    "    'Low': [4.123123],\n",
    "    'y': [210.935516],\n",
    "    'Volume': [4.123123],\n",
    "        'trend': [8.12313],\n",
    "        'weekly': [4.123123],\n",
    "            'multiplicative_terms': [4.444],\n",
    "                \n",
    "\n",
    "                \n",
    "                }\n",
    "\n",
    "# Create a new DataFrame object\n",
    "df = pd.DataFrame(data)\n"
   ]
  },
  {
   "cell_type": "code",
   "execution_count": 36,
   "metadata": {},
   "outputs": [
    {
     "data": {
      "text/plain": [
       "0    103.24366\n",
       "Name: XGBoost, dtype: float32"
      ]
     },
     "execution_count": 36,
     "metadata": {},
     "output_type": "execute_result"
    }
   ],
   "source": [
    "Future = xgb.DMatrix(df, label = df.y)\n",
    "f_predictions = pd.Series(model.predict(Future), name = \"XGBoost\")\n",
    "f_predictions"
   ]
  }
 ],
 "metadata": {
  "colab": {
   "authorship_tag": "ABX9TyONf4Fw76cQlH82pdR3h9Fa",
   "mount_file_id": "182alF94XmFPfm3NMnYKs4Tu9b-3DTW7y",
   "name": "Facebook Prophet + XGBoost Challenge Template.ipynb",
   "provenance": []
  },
  "kernelspec": {
   "display_name": "Python 3 (ipykernel)",
   "language": "python",
   "name": "python3"
  },
  "language_info": {
   "codemirror_mode": {
    "name": "ipython",
    "version": 3
   },
   "file_extension": ".py",
   "mimetype": "text/x-python",
   "name": "python",
   "nbconvert_exporter": "python",
   "pygments_lexer": "ipython3",
   "version": "3.9.16"
  }
 },
 "nbformat": 4,
 "nbformat_minor": 1
}
