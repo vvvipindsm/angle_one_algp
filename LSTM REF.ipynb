{
 "cells": [
  {
   "cell_type": "markdown",
   "metadata": {},
   "source": [
    "### Stock Market Prediction And Forecasting Using Stacked LSTM"
   ]
  },
  {
   "cell_type": "code",
   "execution_count": 1,
   "metadata": {},
   "outputs": [
    {
     "name": "stdout",
     "output_type": "stream",
     "text": [
      "[*********************100%***********************]  1 of 1 completed\n"
     ]
    },
    {
     "data": {
      "text/html": [
       "<div>\n",
       "<style scoped>\n",
       "    .dataframe tbody tr th:only-of-type {\n",
       "        vertical-align: middle;\n",
       "    }\n",
       "\n",
       "    .dataframe tbody tr th {\n",
       "        vertical-align: top;\n",
       "    }\n",
       "\n",
       "    .dataframe thead th {\n",
       "        text-align: right;\n",
       "    }\n",
       "</style>\n",
       "<table border=\"1\" class=\"dataframe\">\n",
       "  <thead>\n",
       "    <tr style=\"text-align: right;\">\n",
       "      <th></th>\n",
       "      <th>Open</th>\n",
       "      <th>High</th>\n",
       "      <th>Low</th>\n",
       "      <th>Close</th>\n",
       "      <th>Volume</th>\n",
       "    </tr>\n",
       "    <tr>\n",
       "      <th>Date</th>\n",
       "      <th></th>\n",
       "      <th></th>\n",
       "      <th></th>\n",
       "      <th></th>\n",
       "      <th></th>\n",
       "    </tr>\n",
       "  </thead>\n",
       "  <tbody>\n",
       "    <tr>\n",
       "      <th>2010-03-08</th>\n",
       "      <td>26.707163</td>\n",
       "      <td>26.767480</td>\n",
       "      <td>26.375423</td>\n",
       "      <td>26.508982</td>\n",
       "      <td>3420936</td>\n",
       "    </tr>\n",
       "    <tr>\n",
       "      <th>2010-03-09</th>\n",
       "      <td>26.590842</td>\n",
       "      <td>26.668391</td>\n",
       "      <td>26.207402</td>\n",
       "      <td>26.315111</td>\n",
       "      <td>2820648</td>\n",
       "    </tr>\n",
       "    <tr>\n",
       "      <th>2010-03-10</th>\n",
       "      <td>26.160012</td>\n",
       "      <td>26.444362</td>\n",
       "      <td>26.069539</td>\n",
       "      <td>26.349579</td>\n",
       "      <td>2508072</td>\n",
       "    </tr>\n",
       "    <tr>\n",
       "      <th>2010-03-11</th>\n",
       "      <td>26.452976</td>\n",
       "      <td>26.625309</td>\n",
       "      <td>25.983371</td>\n",
       "      <td>26.220329</td>\n",
       "      <td>3387942</td>\n",
       "    </tr>\n",
       "    <tr>\n",
       "      <th>2010-03-12</th>\n",
       "      <td>26.280640</td>\n",
       "      <td>26.323723</td>\n",
       "      <td>26.030759</td>\n",
       "      <td>26.172934</td>\n",
       "      <td>1900506</td>\n",
       "    </tr>\n",
       "    <tr>\n",
       "      <th>...</th>\n",
       "      <td>...</td>\n",
       "      <td>...</td>\n",
       "      <td>...</td>\n",
       "      <td>...</td>\n",
       "      <td>...</td>\n",
       "    </tr>\n",
       "    <tr>\n",
       "      <th>2023-08-24</th>\n",
       "      <td>91.699997</td>\n",
       "      <td>93.250000</td>\n",
       "      <td>91.550003</td>\n",
       "      <td>92.250000</td>\n",
       "      <td>9936618</td>\n",
       "    </tr>\n",
       "    <tr>\n",
       "      <th>2023-08-25</th>\n",
       "      <td>91.949997</td>\n",
       "      <td>93.199997</td>\n",
       "      <td>91.650002</td>\n",
       "      <td>91.800003</td>\n",
       "      <td>7021529</td>\n",
       "    </tr>\n",
       "    <tr>\n",
       "      <th>2023-08-28</th>\n",
       "      <td>92.250000</td>\n",
       "      <td>92.500000</td>\n",
       "      <td>91.699997</td>\n",
       "      <td>91.900002</td>\n",
       "      <td>6866040</td>\n",
       "    </tr>\n",
       "    <tr>\n",
       "      <th>2023-08-29</th>\n",
       "      <td>92.050003</td>\n",
       "      <td>92.400002</td>\n",
       "      <td>91.599998</td>\n",
       "      <td>91.900002</td>\n",
       "      <td>6510089</td>\n",
       "    </tr>\n",
       "    <tr>\n",
       "      <th>2023-08-30</th>\n",
       "      <td>91.500000</td>\n",
       "      <td>91.500000</td>\n",
       "      <td>90.599998</td>\n",
       "      <td>90.750000</td>\n",
       "      <td>10911480</td>\n",
       "    </tr>\n",
       "  </tbody>\n",
       "</table>\n",
       "<p>3331 rows × 5 columns</p>\n",
       "</div>"
      ],
      "text/plain": [
       "                 Open       High        Low      Close    Volume\n",
       "Date                                                            \n",
       "2010-03-08  26.707163  26.767480  26.375423  26.508982   3420936\n",
       "2010-03-09  26.590842  26.668391  26.207402  26.315111   2820648\n",
       "2010-03-10  26.160012  26.444362  26.069539  26.349579   2508072\n",
       "2010-03-11  26.452976  26.625309  25.983371  26.220329   3387942\n",
       "2010-03-12  26.280640  26.323723  26.030759  26.172934   1900506\n",
       "...               ...        ...        ...        ...       ...\n",
       "2023-08-24  91.699997  93.250000  91.550003  92.250000   9936618\n",
       "2023-08-25  91.949997  93.199997  91.650002  91.800003   7021529\n",
       "2023-08-28  92.250000  92.500000  91.699997  91.900002   6866040\n",
       "2023-08-29  92.050003  92.400002  91.599998  91.900002   6510089\n",
       "2023-08-30  91.500000  91.500000  90.599998  90.750000  10911480\n",
       "\n",
       "[3331 rows x 5 columns]"
      ]
     },
     "execution_count": 1,
     "metadata": {},
     "output_type": "execute_result"
    }
   ],
   "source": [
    "import yfinance\n",
    "start_date = \"2017-01-01\"\n",
    "end_date = \"2023-06-01\"\n",
    "symbol = \"IOC.NS\"\n",
    "\n",
    "df = yfinance.download(tickers = symbol,start=\"2010-03-06\",\n",
    "                               interval = \"1d\", group_by = 'ticker', auto_adjust = True)\n",
    "df"
   ]
  },
  {
   "cell_type": "code",
   "execution_count": 2,
   "metadata": {},
   "outputs": [],
   "source": [
    "import pandas as pd\n",
    "import seaborn as sns"
   ]
  },
  {
   "cell_type": "code",
   "execution_count": 31,
   "metadata": {},
   "outputs": [
    {
     "data": {
      "text/html": [
       "<div>\n",
       "<style scoped>\n",
       "    .dataframe tbody tr th:only-of-type {\n",
       "        vertical-align: middle;\n",
       "    }\n",
       "\n",
       "    .dataframe tbody tr th {\n",
       "        vertical-align: top;\n",
       "    }\n",
       "\n",
       "    .dataframe thead th {\n",
       "        text-align: right;\n",
       "    }\n",
       "</style>\n",
       "<table border=\"1\" class=\"dataframe\">\n",
       "  <thead>\n",
       "    <tr style=\"text-align: right;\">\n",
       "      <th></th>\n",
       "      <th>Open</th>\n",
       "      <th>High</th>\n",
       "      <th>Low</th>\n",
       "      <th>Close</th>\n",
       "      <th>Volume</th>\n",
       "    </tr>\n",
       "    <tr>\n",
       "      <th>Date</th>\n",
       "      <th></th>\n",
       "      <th></th>\n",
       "      <th></th>\n",
       "      <th></th>\n",
       "      <th></th>\n",
       "    </tr>\n",
       "  </thead>\n",
       "  <tbody>\n",
       "    <tr>\n",
       "      <th>2010-03-08</th>\n",
       "      <td>26.707163</td>\n",
       "      <td>26.767480</td>\n",
       "      <td>26.375423</td>\n",
       "      <td>26.508982</td>\n",
       "      <td>3420936</td>\n",
       "    </tr>\n",
       "    <tr>\n",
       "      <th>2010-03-09</th>\n",
       "      <td>26.590842</td>\n",
       "      <td>26.668391</td>\n",
       "      <td>26.207402</td>\n",
       "      <td>26.315111</td>\n",
       "      <td>2820648</td>\n",
       "    </tr>\n",
       "    <tr>\n",
       "      <th>2010-03-10</th>\n",
       "      <td>26.160012</td>\n",
       "      <td>26.444362</td>\n",
       "      <td>26.069539</td>\n",
       "      <td>26.349579</td>\n",
       "      <td>2508072</td>\n",
       "    </tr>\n",
       "    <tr>\n",
       "      <th>2010-03-11</th>\n",
       "      <td>26.452976</td>\n",
       "      <td>26.625309</td>\n",
       "      <td>25.983371</td>\n",
       "      <td>26.220329</td>\n",
       "      <td>3387942</td>\n",
       "    </tr>\n",
       "    <tr>\n",
       "      <th>2010-03-12</th>\n",
       "      <td>26.280640</td>\n",
       "      <td>26.323723</td>\n",
       "      <td>26.030759</td>\n",
       "      <td>26.172934</td>\n",
       "      <td>1900506</td>\n",
       "    </tr>\n",
       "  </tbody>\n",
       "</table>\n",
       "</div>"
      ],
      "text/plain": [
       "                 Open       High        Low      Close   Volume\n",
       "Date                                                           \n",
       "2010-03-08  26.707163  26.767480  26.375423  26.508982  3420936\n",
       "2010-03-09  26.590842  26.668391  26.207402  26.315111  2820648\n",
       "2010-03-10  26.160012  26.444362  26.069539  26.349579  2508072\n",
       "2010-03-11  26.452976  26.625309  25.983371  26.220329  3387942\n",
       "2010-03-12  26.280640  26.323723  26.030759  26.172934  1900506"
      ]
     },
     "execution_count": 31,
     "metadata": {},
     "output_type": "execute_result"
    }
   ],
   "source": [
    "df.head()"
   ]
  },
  {
   "cell_type": "code",
   "execution_count": 32,
   "metadata": {},
   "outputs": [
    {
     "data": {
      "text/html": [
       "<div>\n",
       "<style scoped>\n",
       "    .dataframe tbody tr th:only-of-type {\n",
       "        vertical-align: middle;\n",
       "    }\n",
       "\n",
       "    .dataframe tbody tr th {\n",
       "        vertical-align: top;\n",
       "    }\n",
       "\n",
       "    .dataframe thead th {\n",
       "        text-align: right;\n",
       "    }\n",
       "</style>\n",
       "<table border=\"1\" class=\"dataframe\">\n",
       "  <thead>\n",
       "    <tr style=\"text-align: right;\">\n",
       "      <th></th>\n",
       "      <th>Open</th>\n",
       "      <th>High</th>\n",
       "      <th>Low</th>\n",
       "      <th>Close</th>\n",
       "      <th>Volume</th>\n",
       "    </tr>\n",
       "    <tr>\n",
       "      <th>Date</th>\n",
       "      <th></th>\n",
       "      <th></th>\n",
       "      <th></th>\n",
       "      <th></th>\n",
       "      <th></th>\n",
       "    </tr>\n",
       "  </thead>\n",
       "  <tbody>\n",
       "    <tr>\n",
       "      <th>2023-08-24</th>\n",
       "      <td>91.699997</td>\n",
       "      <td>93.250000</td>\n",
       "      <td>91.550003</td>\n",
       "      <td>92.250000</td>\n",
       "      <td>9936618</td>\n",
       "    </tr>\n",
       "    <tr>\n",
       "      <th>2023-08-25</th>\n",
       "      <td>91.949997</td>\n",
       "      <td>93.199997</td>\n",
       "      <td>91.650002</td>\n",
       "      <td>91.800003</td>\n",
       "      <td>7021529</td>\n",
       "    </tr>\n",
       "    <tr>\n",
       "      <th>2023-08-28</th>\n",
       "      <td>92.250000</td>\n",
       "      <td>92.500000</td>\n",
       "      <td>91.699997</td>\n",
       "      <td>91.900002</td>\n",
       "      <td>6866040</td>\n",
       "    </tr>\n",
       "    <tr>\n",
       "      <th>2023-08-29</th>\n",
       "      <td>92.050003</td>\n",
       "      <td>92.400002</td>\n",
       "      <td>91.599998</td>\n",
       "      <td>91.900002</td>\n",
       "      <td>6510089</td>\n",
       "    </tr>\n",
       "    <tr>\n",
       "      <th>2023-08-30</th>\n",
       "      <td>91.500000</td>\n",
       "      <td>91.500000</td>\n",
       "      <td>90.599998</td>\n",
       "      <td>90.750000</td>\n",
       "      <td>10911480</td>\n",
       "    </tr>\n",
       "  </tbody>\n",
       "</table>\n",
       "</div>"
      ],
      "text/plain": [
       "                 Open       High        Low      Close    Volume\n",
       "Date                                                            \n",
       "2023-08-24  91.699997  93.250000  91.550003  92.250000   9936618\n",
       "2023-08-25  91.949997  93.199997  91.650002  91.800003   7021529\n",
       "2023-08-28  92.250000  92.500000  91.699997  91.900002   6866040\n",
       "2023-08-29  92.050003  92.400002  91.599998  91.900002   6510089\n",
       "2023-08-30  91.500000  91.500000  90.599998  90.750000  10911480"
      ]
     },
     "execution_count": 32,
     "metadata": {},
     "output_type": "execute_result"
    }
   ],
   "source": [
    "df.tail()"
   ]
  },
  {
   "cell_type": "code",
   "execution_count": 33,
   "metadata": {},
   "outputs": [],
   "source": [
    "df1 = df.reset_index()['Close']"
   ]
  },
  {
   "cell_type": "code",
   "execution_count": 34,
   "metadata": {},
   "outputs": [
    {
     "data": {
      "text/plain": [
       "[<matplotlib.lines.Line2D at 0x7fc9526f5be0>]"
      ]
     },
     "execution_count": 34,
     "metadata": {},
     "output_type": "execute_result"
    },
    {
     "data": {
      "image/png": "[encoded data removed]",
      "text/plain": [
       "<Figure size 640x480 with 1 Axes>"
      ]
     },
     "metadata": {},
     "output_type": "display_data"
    }
   ],
   "source": [
    "import matplotlib.pyplot as plt\n",
    "plt.plot(df1)"
   ]
  },
  {
   "cell_type": "code",
   "execution_count": 22,
   "metadata": {},
   "outputs": [
    {
     "data": {
      "text/plain": [
       "<Axes: xlabel='Close'>"
      ]
     },
     "execution_count": 22,
     "metadata": {},
     "output_type": "execute_result"
    },
    {
     "data": {
      "image/png": "[encoded data removed]",
      "text/plain": [
       "<Figure size 640x480 with 1 Axes>"
      ]
     },
     "metadata": {},
     "output_type": "display_data"
    }
   ],
   "source": [
    "sns.boxplot(x=\"Close\",data=df)"
   ]
  },
  {
   "cell_type": "code",
   "execution_count": 35,
   "metadata": {},
   "outputs": [],
   "source": [
    "import numpy as np"
   ]
  },
  {
   "cell_type": "code",
   "execution_count": 41,
   "metadata": {},
   "outputs": [
    {
     "ename": "NotFittedError",
     "evalue": "This MinMaxScaler instance is not fitted yet. Call 'fit' with appropriate arguments before using this estimator.",
     "output_type": "error",
     "traceback": [
      "\u001b[0;31m---------------------------------------------------------------------------\u001b[0m",
      "\u001b[0;31mNotFittedError\u001b[0m                            Traceback (most recent call last)",
      "Cell \u001b[0;32mIn[41], line 4\u001b[0m\n\u001b[1;32m      1\u001b[0m \u001b[38;5;28;01mfrom\u001b[39;00m \u001b[38;5;21;01msklearn\u001b[39;00m\u001b[38;5;21;01m.\u001b[39;00m\u001b[38;5;21;01mpreprocessing\u001b[39;00m \u001b[38;5;28;01mimport\u001b[39;00m MinMaxScaler\n\u001b[1;32m      3\u001b[0m scaler \u001b[38;5;241m=\u001b[39m  MinMaxScaler()\n\u001b[0;32m----> 4\u001b[0m df1    \u001b[38;5;241m=\u001b[39m  \u001b[43mscaler\u001b[49m\u001b[38;5;241;43m.\u001b[39;49m\u001b[43mtransform\u001b[49m\u001b[43m(\u001b[49m\u001b[43mdf1\u001b[49m\u001b[43m)\u001b[49m\n",
      "File \u001b[0;32m~/opt/anaconda3/envs/my_own/lib/python3.9/site-packages/sklearn/utils/_set_output.py:140\u001b[0m, in \u001b[0;36m_wrap_method_output.<locals>.wrapped\u001b[0;34m(self, X, *args, **kwargs)\u001b[0m\n\u001b[1;32m    138\u001b[0m \u001b[38;5;129m@wraps\u001b[39m(f)\n\u001b[1;32m    139\u001b[0m \u001b[38;5;28;01mdef\u001b[39;00m \u001b[38;5;21mwrapped\u001b[39m(\u001b[38;5;28mself\u001b[39m, X, \u001b[38;5;241m*\u001b[39margs, \u001b[38;5;241m*\u001b[39m\u001b[38;5;241m*\u001b[39mkwargs):\n\u001b[0;32m--> 140\u001b[0m     data_to_wrap \u001b[38;5;241m=\u001b[39m \u001b[43mf\u001b[49m\u001b[43m(\u001b[49m\u001b[38;5;28;43mself\u001b[39;49m\u001b[43m,\u001b[49m\u001b[43m \u001b[49m\u001b[43mX\u001b[49m\u001b[43m,\u001b[49m\u001b[43m \u001b[49m\u001b[38;5;241;43m*\u001b[39;49m\u001b[43margs\u001b[49m\u001b[43m,\u001b[49m\u001b[43m \u001b[49m\u001b[38;5;241;43m*\u001b[39;49m\u001b[38;5;241;43m*\u001b[39;49m\u001b[43mkwargs\u001b[49m\u001b[43m)\u001b[49m\n\u001b[1;32m    141\u001b[0m     \u001b[38;5;28;01mif\u001b[39;00m \u001b[38;5;28misinstance\u001b[39m(data_to_wrap, \u001b[38;5;28mtuple\u001b[39m):\n\u001b[1;32m    142\u001b[0m         \u001b[38;5;66;03m# only wrap the first output for cross decomposition\u001b[39;00m\n\u001b[1;32m    143\u001b[0m         return_tuple \u001b[38;5;241m=\u001b[39m (\n\u001b[1;32m    144\u001b[0m             _wrap_data_with_container(method, data_to_wrap[\u001b[38;5;241m0\u001b[39m], X, \u001b[38;5;28mself\u001b[39m),\n\u001b[1;32m    145\u001b[0m             \u001b[38;5;241m*\u001b[39mdata_to_wrap[\u001b[38;5;241m1\u001b[39m:],\n\u001b[1;32m    146\u001b[0m         )\n",
      "File \u001b[0;32m~/opt/anaconda3/envs/my_own/lib/python3.9/site-packages/sklearn/preprocessing/_data.py:512\u001b[0m, in \u001b[0;36mMinMaxScaler.transform\u001b[0;34m(self, X)\u001b[0m\n\u001b[1;32m    499\u001b[0m \u001b[38;5;28;01mdef\u001b[39;00m \u001b[38;5;21mtransform\u001b[39m(\u001b[38;5;28mself\u001b[39m, X):\n\u001b[1;32m    500\u001b[0m \u001b[38;5;250m    \u001b[39m\u001b[38;5;124;03m\"\"\"Scale features of X according to feature_range.\u001b[39;00m\n\u001b[1;32m    501\u001b[0m \n\u001b[1;32m    502\u001b[0m \u001b[38;5;124;03m    Parameters\u001b[39;00m\n\u001b[0;32m   (...)\u001b[0m\n\u001b[1;32m    510\u001b[0m \u001b[38;5;124;03m        Transformed data.\u001b[39;00m\n\u001b[1;32m    511\u001b[0m \u001b[38;5;124;03m    \"\"\"\u001b[39;00m\n\u001b[0;32m--> 512\u001b[0m     \u001b[43mcheck_is_fitted\u001b[49m\u001b[43m(\u001b[49m\u001b[38;5;28;43mself\u001b[39;49m\u001b[43m)\u001b[49m\n\u001b[1;32m    514\u001b[0m     X \u001b[38;5;241m=\u001b[39m \u001b[38;5;28mself\u001b[39m\u001b[38;5;241m.\u001b[39m_validate_data(\n\u001b[1;32m    515\u001b[0m         X,\n\u001b[1;32m    516\u001b[0m         copy\u001b[38;5;241m=\u001b[39m\u001b[38;5;28mself\u001b[39m\u001b[38;5;241m.\u001b[39mcopy,\n\u001b[0;32m   (...)\u001b[0m\n\u001b[1;32m    519\u001b[0m         reset\u001b[38;5;241m=\u001b[39m\u001b[38;5;28;01mFalse\u001b[39;00m,\n\u001b[1;32m    520\u001b[0m     )\n\u001b[1;32m    522\u001b[0m     X \u001b[38;5;241m*\u001b[39m\u001b[38;5;241m=\u001b[39m \u001b[38;5;28mself\u001b[39m\u001b[38;5;241m.\u001b[39mscale_\n",
      "File \u001b[0;32m~/opt/anaconda3/envs/my_own/lib/python3.9/site-packages/sklearn/utils/validation.py:1462\u001b[0m, in \u001b[0;36mcheck_is_fitted\u001b[0;34m(estimator, attributes, msg, all_or_any)\u001b[0m\n\u001b[1;32m   1459\u001b[0m     \u001b[38;5;28;01mraise\u001b[39;00m \u001b[38;5;167;01mTypeError\u001b[39;00m(\u001b[38;5;124m\"\u001b[39m\u001b[38;5;132;01m%s\u001b[39;00m\u001b[38;5;124m is not an estimator instance.\u001b[39m\u001b[38;5;124m\"\u001b[39m \u001b[38;5;241m%\u001b[39m (estimator))\n\u001b[1;32m   1461\u001b[0m \u001b[38;5;28;01mif\u001b[39;00m \u001b[38;5;129;01mnot\u001b[39;00m _is_fitted(estimator, attributes, all_or_any):\n\u001b[0;32m-> 1462\u001b[0m     \u001b[38;5;28;01mraise\u001b[39;00m NotFittedError(msg \u001b[38;5;241m%\u001b[39m {\u001b[38;5;124m\"\u001b[39m\u001b[38;5;124mname\u001b[39m\u001b[38;5;124m\"\u001b[39m: \u001b[38;5;28mtype\u001b[39m(estimator)\u001b[38;5;241m.\u001b[39m\u001b[38;5;18m__name__\u001b[39m})\n",
      "\u001b[0;31mNotFittedError\u001b[0m: This MinMaxScaler instance is not fitted yet. Call 'fit' with appropriate arguments before using this estimator."
     ]
    }
   ],
   "source": [
    "from sklearn.preprocessing import MinMaxScaler\n",
    "\n",
    "scaler =  MinMaxScaler()\n",
    "df1    =  scaler.transform(df1)"
   ]
  },
  {
   "cell_type": "code",
   "execution_count": 27,
   "metadata": {},
   "outputs": [],
   "source": [
    "##splitting dataset into train and test split\n",
    "training_size=int(len(df1)*0.65)\n",
    "test_size=len(df1)-training_size\n",
    "train_data,test_data=df1[0:training_size],df1[training_size:len(df1)]"
   ]
  },
  {
   "cell_type": "code",
   "execution_count": 28,
   "metadata": {},
   "outputs": [
    {
     "data": {
      "text/plain": [
       "(2165, 1166)"
      ]
     },
     "execution_count": 28,
     "metadata": {},
     "output_type": "execute_result"
    }
   ],
   "source": [
    "training_size,test_size"
   ]
  },
  {
   "cell_type": "code",
   "execution_count": 29,
   "metadata": {},
   "outputs": [
    {
     "data": {
      "text/plain": [
       "(2165,)"
      ]
     },
     "execution_count": 29,
     "metadata": {},
     "output_type": "execute_result"
    }
   ],
   "source": [
    "train_data.shape"
   ]
  },
  {
   "cell_type": "code",
   "execution_count": 13,
   "metadata": {},
   "outputs": [],
   "source": [
    "import numpy\n",
    "# convert an array of values into a dataset matrix\n",
    "def create_dataset(dataset, time_step=1):\n",
    "    dataX, dataY = [], []\n",
    "    print(len(dataset)-time_step-1)\n",
    "    for i in range(len(dataset)-time_step-1):\n",
    "        a = dataset[i:(i+time_step)]   ###i=0, 0,1,2,3-----99   100 \n",
    "        dataX.append(a)\n",
    "        dataY.append(dataset[i + time_step])\n",
    "    return numpy.array(dataX), numpy.array(dataY)"
   ]
  },
  {
   "cell_type": "code",
   "execution_count": 30,
   "metadata": {},
   "outputs": [
    {
     "name": "stdout",
     "output_type": "stream",
     "text": [
      "2134\n",
      "1135\n"
     ]
    },
    {
     "ename": "KeyError",
     "evalue": "30",
     "output_type": "error",
     "traceback": [
      "\u001b[0;31m---------------------------------------------------------------------------\u001b[0m",
      "\u001b[0;31mValueError\u001b[0m                                Traceback (most recent call last)",
      "File \u001b[0;32m~/opt/anaconda3/envs/my_own/lib/python3.9/site-packages/pandas/core/indexes/range.py:345\u001b[0m, in \u001b[0;36mRangeIndex.get_loc\u001b[0;34m(self, key)\u001b[0m\n\u001b[1;32m    344\u001b[0m \u001b[38;5;28;01mtry\u001b[39;00m:\n\u001b[0;32m--> 345\u001b[0m     \u001b[38;5;28;01mreturn\u001b[39;00m \u001b[38;5;28;43mself\u001b[39;49m\u001b[38;5;241;43m.\u001b[39;49m\u001b[43m_range\u001b[49m\u001b[38;5;241;43m.\u001b[39;49m\u001b[43mindex\u001b[49m\u001b[43m(\u001b[49m\u001b[43mnew_key\u001b[49m\u001b[43m)\u001b[49m\n\u001b[1;32m    346\u001b[0m \u001b[38;5;28;01mexcept\u001b[39;00m \u001b[38;5;167;01mValueError\u001b[39;00m \u001b[38;5;28;01mas\u001b[39;00m err:\n",
      "\u001b[0;31mValueError\u001b[0m: 30 is not in range",
      "\nThe above exception was the direct cause of the following exception:\n",
      "\u001b[0;31mKeyError\u001b[0m                                  Traceback (most recent call last)",
      "Cell \u001b[0;32mIn[30], line 4\u001b[0m\n\u001b[1;32m      2\u001b[0m time_step \u001b[38;5;241m=\u001b[39m \u001b[38;5;241m30\u001b[39m\n\u001b[1;32m      3\u001b[0m X_train, y_train \u001b[38;5;241m=\u001b[39m create_dataset(train_data, time_step)\n\u001b[0;32m----> 4\u001b[0m X_test, ytest \u001b[38;5;241m=\u001b[39m \u001b[43mcreate_dataset\u001b[49m\u001b[43m(\u001b[49m\u001b[43mtest_data\u001b[49m\u001b[43m,\u001b[49m\u001b[43m \u001b[49m\u001b[43mtime_step\u001b[49m\u001b[43m)\u001b[49m\n",
      "Cell \u001b[0;32mIn[13], line 9\u001b[0m, in \u001b[0;36mcreate_dataset\u001b[0;34m(dataset, time_step)\u001b[0m\n\u001b[1;32m      7\u001b[0m     a \u001b[38;5;241m=\u001b[39m dataset[i:(i\u001b[38;5;241m+\u001b[39mtime_step)]   \u001b[38;5;66;03m###i=0, 0,1,2,3-----99   100 \u001b[39;00m\n\u001b[1;32m      8\u001b[0m     dataX\u001b[38;5;241m.\u001b[39mappend(a)\n\u001b[0;32m----> 9\u001b[0m     dataY\u001b[38;5;241m.\u001b[39mappend(\u001b[43mdataset\u001b[49m\u001b[43m[\u001b[49m\u001b[43mi\u001b[49m\u001b[43m \u001b[49m\u001b[38;5;241;43m+\u001b[39;49m\u001b[43m \u001b[49m\u001b[43mtime_step\u001b[49m\u001b[43m]\u001b[49m)\n\u001b[1;32m     10\u001b[0m \u001b[38;5;28;01mreturn\u001b[39;00m numpy\u001b[38;5;241m.\u001b[39marray(dataX), numpy\u001b[38;5;241m.\u001b[39marray(dataY)\n",
      "File \u001b[0;32m~/opt/anaconda3/envs/my_own/lib/python3.9/site-packages/pandas/core/series.py:1007\u001b[0m, in \u001b[0;36mSeries.__getitem__\u001b[0;34m(self, key)\u001b[0m\n\u001b[1;32m   1004\u001b[0m     \u001b[38;5;28;01mreturn\u001b[39;00m \u001b[38;5;28mself\u001b[39m\u001b[38;5;241m.\u001b[39m_values[key]\n\u001b[1;32m   1006\u001b[0m \u001b[38;5;28;01melif\u001b[39;00m key_is_scalar:\n\u001b[0;32m-> 1007\u001b[0m     \u001b[38;5;28;01mreturn\u001b[39;00m \u001b[38;5;28;43mself\u001b[39;49m\u001b[38;5;241;43m.\u001b[39;49m\u001b[43m_get_value\u001b[49m\u001b[43m(\u001b[49m\u001b[43mkey\u001b[49m\u001b[43m)\u001b[49m\n\u001b[1;32m   1009\u001b[0m \u001b[38;5;28;01mif\u001b[39;00m is_hashable(key):\n\u001b[1;32m   1010\u001b[0m     \u001b[38;5;66;03m# Otherwise index.get_value will raise InvalidIndexError\u001b[39;00m\n\u001b[1;32m   1011\u001b[0m     \u001b[38;5;28;01mtry\u001b[39;00m:\n\u001b[1;32m   1012\u001b[0m         \u001b[38;5;66;03m# For labels that don't resolve as scalars like tuples and frozensets\u001b[39;00m\n",
      "File \u001b[0;32m~/opt/anaconda3/envs/my_own/lib/python3.9/site-packages/pandas/core/series.py:1116\u001b[0m, in \u001b[0;36mSeries._get_value\u001b[0;34m(self, label, takeable)\u001b[0m\n\u001b[1;32m   1113\u001b[0m     \u001b[38;5;28;01mreturn\u001b[39;00m \u001b[38;5;28mself\u001b[39m\u001b[38;5;241m.\u001b[39m_values[label]\n\u001b[1;32m   1115\u001b[0m \u001b[38;5;66;03m# Similar to Index.get_value, but we do not fall back to positional\u001b[39;00m\n\u001b[0;32m-> 1116\u001b[0m loc \u001b[38;5;241m=\u001b[39m \u001b[38;5;28;43mself\u001b[39;49m\u001b[38;5;241;43m.\u001b[39;49m\u001b[43mindex\u001b[49m\u001b[38;5;241;43m.\u001b[39;49m\u001b[43mget_loc\u001b[49m\u001b[43m(\u001b[49m\u001b[43mlabel\u001b[49m\u001b[43m)\u001b[49m\n\u001b[1;32m   1118\u001b[0m \u001b[38;5;28;01mif\u001b[39;00m is_integer(loc):\n\u001b[1;32m   1119\u001b[0m     \u001b[38;5;28;01mreturn\u001b[39;00m \u001b[38;5;28mself\u001b[39m\u001b[38;5;241m.\u001b[39m_values[loc]\n",
      "File \u001b[0;32m~/opt/anaconda3/envs/my_own/lib/python3.9/site-packages/pandas/core/indexes/range.py:347\u001b[0m, in \u001b[0;36mRangeIndex.get_loc\u001b[0;34m(self, key)\u001b[0m\n\u001b[1;32m    345\u001b[0m         \u001b[38;5;28;01mreturn\u001b[39;00m \u001b[38;5;28mself\u001b[39m\u001b[38;5;241m.\u001b[39m_range\u001b[38;5;241m.\u001b[39mindex(new_key)\n\u001b[1;32m    346\u001b[0m     \u001b[38;5;28;01mexcept\u001b[39;00m \u001b[38;5;167;01mValueError\u001b[39;00m \u001b[38;5;28;01mas\u001b[39;00m err:\n\u001b[0;32m--> 347\u001b[0m         \u001b[38;5;28;01mraise\u001b[39;00m \u001b[38;5;167;01mKeyError\u001b[39;00m(key) \u001b[38;5;28;01mfrom\u001b[39;00m \u001b[38;5;21;01merr\u001b[39;00m\n\u001b[1;32m    348\u001b[0m \u001b[38;5;28;01mif\u001b[39;00m \u001b[38;5;28misinstance\u001b[39m(key, Hashable):\n\u001b[1;32m    349\u001b[0m     \u001b[38;5;28;01mraise\u001b[39;00m \u001b[38;5;167;01mKeyError\u001b[39;00m(key)\n",
      "\u001b[0;31mKeyError\u001b[0m: 30"
     ]
    }
   ],
   "source": [
    "# reshape into X=t,t+1,t+2,t+3 and Y=t+4\n",
    "time_step = 30\n",
    "X_train, y_train = create_dataset(train_data, time_step)\n",
    "X_test, ytest = create_dataset(test_data, time_step)"
   ]
  },
  {
   "cell_type": "code",
   "execution_count": 16,
   "metadata": {},
   "outputs": [
    {
     "name": "stdout",
     "output_type": "stream",
     "text": [
      "(2134, 30)\n",
      "(2134,)\n"
     ]
    },
    {
     "data": {
      "text/plain": [
       "(None, None)"
      ]
     },
     "execution_count": 16,
     "metadata": {},
     "output_type": "execute_result"
    }
   ],
   "source": [
    "print(X_train.shape), print(y_train.shape)"
   ]
  },
  {
   "cell_type": "code",
   "execution_count": 17,
   "metadata": {},
   "outputs": [
    {
     "ename": "NameError",
     "evalue": "name 'X_test' is not defined",
     "output_type": "error",
     "traceback": [
      "\u001b[0;31m---------------------------------------------------------------------------\u001b[0m",
      "\u001b[0;31mNameError\u001b[0m                                 Traceback (most recent call last)",
      "Cell \u001b[0;32mIn[17], line 1\u001b[0m\n\u001b[0;32m----> 1\u001b[0m \u001b[38;5;28mprint\u001b[39m(\u001b[43mX_test\u001b[49m\u001b[38;5;241m.\u001b[39mshape), \u001b[38;5;28mprint\u001b[39m(ytest\u001b[38;5;241m.\u001b[39mshape)\n",
      "\u001b[0;31mNameError\u001b[0m: name 'X_test' is not defined"
     ]
    }
   ],
   "source": [
    "print(X_test.shape), print(ytest.shape)"
   ]
  },
  {
   "cell_type": "code",
   "execution_count": 78,
   "metadata": {},
   "outputs": [],
   "source": [
    "# reshape input to be [samples, time steps, features] which is required for LSTM\n",
    "X_train =X_train.reshape(X_train.shape[0],X_train.shape[1] , 1)\n",
    "X_test = X_test.reshape(X_test.shape[0],X_test.shape[1] , 1)"
   ]
  },
  {
   "cell_type": "code",
   "execution_count": 79,
   "metadata": {},
   "outputs": [],
   "source": [
    "### Create the Stacked LSTM model\n",
    "from tensorflow.keras.models import Sequential\n",
    "from tensorflow.keras.layers import Dense\n",
    "from tensorflow.keras.layers import LSTM"
   ]
  },
  {
   "cell_type": "code",
   "execution_count": 80,
   "metadata": {},
   "outputs": [],
   "source": [
    "model=Sequential()\n",
    "model.add(LSTM(50,return_sequences=True,input_shape=(100,1)))\n",
    "model.add(LSTM(50,return_sequences=True))\n",
    "model.add(LSTM(50))\n",
    "model.add(Dense(1))\n",
    "model.compile(loss='mean_squared_error',optimizer='adam')\n"
   ]
  },
  {
   "cell_type": "code",
   "execution_count": 81,
   "metadata": {},
   "outputs": [
    {
     "name": "stdout",
     "output_type": "stream",
     "text": [
      "Model: \"sequential_2\"\n",
      "_________________________________________________________________\n",
      " Layer (type)                Output Shape              Param #   \n",
      "=================================================================\n",
      " lstm_6 (LSTM)               (None, 100, 50)           10400     \n",
      "                                                                 \n",
      " lstm_7 (LSTM)               (None, 100, 50)           20200     \n",
      "                                                                 \n",
      " lstm_8 (LSTM)               (None, 50)                20200     \n",
      "                                                                 \n",
      " dense_2 (Dense)             (None, 1)                 51        \n",
      "                                                                 \n",
      "=================================================================\n",
      "Total params: 50851 (198.64 KB)\n",
      "Trainable params: 50851 (198.64 KB)\n",
      "Non-trainable params: 0 (0.00 Byte)\n",
      "_________________________________________________________________\n"
     ]
    }
   ],
   "source": [
    "model.summary()"
   ]
  },
  {
   "cell_type": "code",
   "execution_count": 82,
   "metadata": {},
   "outputs": [
    {
     "name": "stdout",
     "output_type": "stream",
     "text": [
      "Model: \"sequential_2\"\n",
      "_________________________________________________________________\n",
      " Layer (type)                Output Shape              Param #   \n",
      "=================================================================\n",
      " lstm_6 (LSTM)               (None, 100, 50)           10400     \n",
      "                                                                 \n",
      " lstm_7 (LSTM)               (None, 100, 50)           20200     \n",
      "                                                                 \n",
      " lstm_8 (LSTM)               (None, 50)                20200     \n",
      "                                                                 \n",
      " dense_2 (Dense)             (None, 1)                 51        \n",
      "                                                                 \n",
      "=================================================================\n",
      "Total params: 50851 (198.64 KB)\n",
      "Trainable params: 50851 (198.64 KB)\n",
      "Non-trainable params: 0 (0.00 Byte)\n",
      "_________________________________________________________________\n"
     ]
    }
   ],
   "source": [
    "model.summary()"
   ]
  },
  {
   "cell_type": "code",
   "execution_count": 30,
   "metadata": {},
   "outputs": [
    {
     "name": "stdout",
     "output_type": "stream",
     "text": [
      "Epoch 1/100\n",
      "33/33 [==============================] - 13s 222ms/step - loss: 0.0219 - val_loss: 0.0026\n",
      "Epoch 2/100\n",
      "33/33 [==============================] - 7s 208ms/step - loss: 0.0012 - val_loss: 0.0020\n",
      "Epoch 3/100\n",
      "33/33 [==============================] - 6s 170ms/step - loss: 0.0011 - val_loss: 0.0021\n",
      "Epoch 4/100\n",
      "33/33 [==============================] - 6s 168ms/step - loss: 0.0011 - val_loss: 0.0019\n",
      "Epoch 5/100\n",
      "33/33 [==============================] - 6s 179ms/step - loss: 0.0010 - val_loss: 0.0018\n",
      "Epoch 6/100\n",
      "33/33 [==============================] - 6s 170ms/step - loss: 9.9904e-04 - val_loss: 0.0020\n",
      "Epoch 7/100\n",
      "33/33 [==============================] - 6s 187ms/step - loss: 9.3254e-04 - val_loss: 0.0015\n",
      "Epoch 8/100\n",
      "33/33 [==============================] - 6s 175ms/step - loss: 8.6687e-04 - val_loss: 0.0014\n",
      "Epoch 9/100\n",
      "33/33 [==============================] - 6s 171ms/step - loss: 9.2572e-04 - val_loss: 0.0014\n",
      "Epoch 10/100\n",
      "33/33 [==============================] - 6s 170ms/step - loss: 8.8667e-04 - val_loss: 0.0013\n",
      "Epoch 11/100\n",
      "33/33 [==============================] - 6s 176ms/step - loss: 7.5939e-04 - val_loss: 0.0015\n",
      "Epoch 12/100\n",
      "33/33 [==============================] - 6s 182ms/step - loss: 7.6150e-04 - val_loss: 0.0011\n",
      "Epoch 13/100\n",
      "33/33 [==============================] - 6s 168ms/step - loss: 7.1797e-04 - val_loss: 0.0010\n",
      "Epoch 14/100\n",
      "33/33 [==============================] - 5s 167ms/step - loss: 6.4780e-04 - val_loss: 0.0010\n",
      "Epoch 15/100\n",
      "33/33 [==============================] - 6s 169ms/step - loss: 6.1001e-04 - val_loss: 0.0012\n",
      "Epoch 16/100\n",
      "33/33 [==============================] - 6s 182ms/step - loss: 7.0705e-04 - val_loss: 9.0804e-04\n",
      "Epoch 17/100\n",
      "33/33 [==============================] - 6s 171ms/step - loss: 6.4729e-04 - val_loss: 9.7174e-04\n",
      "Epoch 18/100\n",
      "33/33 [==============================] - 6s 195ms/step - loss: 6.1743e-04 - val_loss: 9.2657e-04\n",
      "Epoch 19/100\n",
      "33/33 [==============================] - 6s 189ms/step - loss: 5.5570e-04 - val_loss: 7.7747e-04\n",
      "Epoch 20/100\n",
      "33/33 [==============================] - 6s 188ms/step - loss: 5.4364e-04 - val_loss: 7.4981e-04\n",
      "Epoch 21/100\n",
      "33/33 [==============================] - 7s 202ms/step - loss: 5.0859e-04 - val_loss: 7.1950e-04\n",
      "Epoch 22/100\n",
      "33/33 [==============================] - 6s 191ms/step - loss: 5.3077e-04 - val_loss: 0.0012\n",
      "Epoch 23/100\n",
      "33/33 [==============================] - 8s 259ms/step - loss: 5.9785e-04 - val_loss: 0.0010\n",
      "Epoch 24/100\n",
      "33/33 [==============================] - 6s 179ms/step - loss: 5.0322e-04 - val_loss: 8.1723e-04\n",
      "Epoch 25/100\n",
      "33/33 [==============================] - 6s 183ms/step - loss: 4.8162e-04 - val_loss: 0.0013\n",
      "Epoch 26/100\n",
      "33/33 [==============================] - 6s 179ms/step - loss: 7.5183e-04 - val_loss: 8.5022e-04\n",
      "Epoch 27/100\n",
      "33/33 [==============================] - 6s 176ms/step - loss: 4.8188e-04 - val_loss: 6.0811e-04\n",
      "Epoch 28/100\n",
      "33/33 [==============================] - 6s 174ms/step - loss: 4.5297e-04 - val_loss: 6.8009e-04\n",
      "Epoch 29/100\n",
      "33/33 [==============================] - 6s 197ms/step - loss: 4.4266e-04 - val_loss: 5.6326e-04\n",
      "Epoch 30/100\n",
      "33/33 [==============================] - 6s 178ms/step - loss: 4.2182e-04 - val_loss: 7.8370e-04\n",
      "Epoch 31/100\n",
      "33/33 [==============================] - 6s 183ms/step - loss: 4.2047e-04 - val_loss: 6.0148e-04\n",
      "Epoch 32/100\n",
      "33/33 [==============================] - 6s 176ms/step - loss: 4.3745e-04 - val_loss: 5.1340e-04\n",
      "Epoch 33/100\n",
      "33/33 [==============================] - 6s 174ms/step - loss: 4.0275e-04 - val_loss: 6.2405e-04\n",
      "Epoch 34/100\n",
      "33/33 [==============================] - 6s 191ms/step - loss: 4.2816e-04 - val_loss: 9.1674e-04\n",
      "Epoch 35/100\n",
      "33/33 [==============================] - 6s 182ms/step - loss: 4.0957e-04 - val_loss: 8.0963e-04\n",
      "Epoch 36/100\n",
      "33/33 [==============================] - 6s 189ms/step - loss: 4.0890e-04 - val_loss: 4.6824e-04\n",
      "Epoch 37/100\n",
      "33/33 [==============================] - 6s 175ms/step - loss: 3.5887e-04 - val_loss: 0.0013\n",
      "Epoch 38/100\n",
      "33/33 [==============================] - 6s 176ms/step - loss: 4.0545e-04 - val_loss: 0.0016\n",
      "Epoch 39/100\n",
      "33/33 [==============================] - 6s 193ms/step - loss: 5.5115e-04 - val_loss: 4.6222e-04\n",
      "Epoch 40/100\n",
      "33/33 [==============================] - 6s 179ms/step - loss: 3.7139e-04 - val_loss: 4.6089e-04\n",
      "Epoch 41/100\n",
      "33/33 [==============================] - 6s 195ms/step - loss: 4.4817e-04 - val_loss: 0.0017\n",
      "Epoch 42/100\n",
      "33/33 [==============================] - 6s 178ms/step - loss: 3.9539e-04 - val_loss: 4.1829e-04\n",
      "Epoch 43/100\n",
      "33/33 [==============================] - 6s 179ms/step - loss: 3.1839e-04 - val_loss: 4.8367e-04\n",
      "Epoch 44/100\n",
      "33/33 [==============================] - 6s 198ms/step - loss: 3.2330e-04 - val_loss: 3.8618e-04\n",
      "Epoch 45/100\n",
      "33/33 [==============================] - 6s 195ms/step - loss: 3.4121e-04 - val_loss: 3.6782e-04\n",
      "Epoch 46/100\n",
      "33/33 [==============================] - 7s 200ms/step - loss: 3.3753e-04 - val_loss: 4.0473e-04\n",
      "Epoch 47/100\n",
      "33/33 [==============================] - 7s 197ms/step - loss: 3.3781e-04 - val_loss: 0.0016\n",
      "Epoch 48/100\n",
      "33/33 [==============================] - 6s 178ms/step - loss: 4.2169e-04 - val_loss: 3.6054e-04\n",
      "Epoch 49/100\n",
      "33/33 [==============================] - 6s 192ms/step - loss: 3.6551e-04 - val_loss: 3.5698e-04\n",
      "Epoch 50/100\n",
      "33/33 [==============================] - 6s 178ms/step - loss: 3.6135e-04 - val_loss: 3.8751e-04\n",
      "Epoch 51/100\n",
      "33/33 [==============================] - 6s 195ms/step - loss: 2.8747e-04 - val_loss: 6.4551e-04\n",
      "Epoch 52/100\n",
      "33/33 [==============================] - 6s 180ms/step - loss: 3.0723e-04 - val_loss: 3.3747e-04\n",
      "Epoch 53/100\n",
      "33/33 [==============================] - 6s 173ms/step - loss: 3.0151e-04 - val_loss: 3.8301e-04\n",
      "Epoch 54/100\n",
      "33/33 [==============================] - 6s 182ms/step - loss: 3.1748e-04 - val_loss: 4.3508e-04\n",
      "Epoch 55/100\n",
      "33/33 [==============================] - 6s 168ms/step - loss: 2.9714e-04 - val_loss: 4.4140e-04\n",
      "Epoch 56/100\n",
      "33/33 [==============================] - 8s 232ms/step - loss: 3.2547e-04 - val_loss: 5.4688e-04\n",
      "Epoch 57/100\n",
      "33/33 [==============================] - 6s 188ms/step - loss: 3.0678e-04 - val_loss: 3.2666e-04\n",
      "Epoch 58/100\n",
      "33/33 [==============================] - 6s 174ms/step - loss: 2.7881e-04 - val_loss: 2.9702e-04\n",
      "Epoch 59/100\n",
      "33/33 [==============================] - 6s 194ms/step - loss: 2.5536e-04 - val_loss: 6.5577e-04\n",
      "Epoch 60/100\n",
      "33/33 [==============================] - 6s 171ms/step - loss: 2.7931e-04 - val_loss: 5.7393e-04\n",
      "Epoch 61/100\n",
      "33/33 [==============================] - 6s 173ms/step - loss: 2.6827e-04 - val_loss: 3.5212e-04\n",
      "Epoch 62/100\n",
      "33/33 [==============================] - 6s 171ms/step - loss: 2.6191e-04 - val_loss: 3.1373e-04\n",
      "Epoch 63/100\n",
      "33/33 [==============================] - 6s 193ms/step - loss: 2.4327e-04 - val_loss: 6.9147e-04\n",
      "Epoch 64/100\n",
      "33/33 [==============================] - 6s 177ms/step - loss: 3.0886e-04 - val_loss: 2.7784e-04\n",
      "Epoch 65/100\n",
      "33/33 [==============================] - 6s 177ms/step - loss: 2.5007e-04 - val_loss: 2.6832e-04\n",
      "Epoch 66/100\n",
      "33/33 [==============================] - 6s 172ms/step - loss: 2.4344e-04 - val_loss: 2.6461e-04\n",
      "Epoch 67/100\n",
      "33/33 [==============================] - 6s 172ms/step - loss: 2.7630e-04 - val_loss: 3.1602e-04\n",
      "Epoch 68/100\n",
      "33/33 [==============================] - 6s 183ms/step - loss: 2.6798e-04 - val_loss: 3.2538e-04\n",
      "Epoch 69/100\n",
      "33/33 [==============================] - 6s 179ms/step - loss: 2.4093e-04 - val_loss: 2.9352e-04\n",
      "Epoch 70/100\n",
      "33/33 [==============================] - 6s 182ms/step - loss: 2.5220e-04 - val_loss: 4.9314e-04\n",
      "Epoch 71/100\n",
      "33/33 [==============================] - 7s 203ms/step - loss: 2.2434e-04 - val_loss: 2.7170e-04\n",
      "Epoch 72/100\n",
      "33/33 [==============================] - 6s 177ms/step - loss: 2.2251e-04 - val_loss: 4.6513e-04\n",
      "Epoch 73/100\n",
      "33/33 [==============================] - 6s 192ms/step - loss: 2.4259e-04 - val_loss: 7.9969e-04\n",
      "Epoch 74/100\n",
      "33/33 [==============================] - 6s 175ms/step - loss: 2.6571e-04 - val_loss: 0.0011\n",
      "Epoch 75/100\n",
      "33/33 [==============================] - 6s 185ms/step - loss: 3.5702e-04 - val_loss: 2.4436e-04\n",
      "Epoch 76/100\n",
      "33/33 [==============================] - 6s 176ms/step - loss: 2.0189e-04 - val_loss: 4.8725e-04\n",
      "Epoch 77/100\n",
      "33/33 [==============================] - 6s 184ms/step - loss: 2.0672e-04 - val_loss: 4.1539e-04\n",
      "Epoch 78/100\n",
      "33/33 [==============================] - 6s 184ms/step - loss: 2.1919e-04 - val_loss: 2.6145e-04\n",
      "Epoch 79/100\n",
      "33/33 [==============================] - 6s 174ms/step - loss: 2.2704e-04 - val_loss: 2.2617e-04\n",
      "Epoch 80/100\n",
      "33/33 [==============================] - 6s 173ms/step - loss: 1.9973e-04 - val_loss: 2.2256e-04\n",
      "Epoch 81/100\n",
      "33/33 [==============================] - 6s 173ms/step - loss: 1.9129e-04 - val_loss: 2.9129e-04\n",
      "Epoch 82/100\n",
      "33/33 [==============================] - 6s 190ms/step - loss: 2.2546e-04 - val_loss: 4.1100e-04\n",
      "Epoch 83/100\n",
      "33/33 [==============================] - 6s 172ms/step - loss: 2.3752e-04 - val_loss: 2.1799e-04\n",
      "Epoch 84/100\n",
      "33/33 [==============================] - 6s 189ms/step - loss: 2.0371e-04 - val_loss: 0.0010\n",
      "Epoch 85/100\n",
      "33/33 [==============================] - 6s 173ms/step - loss: 2.7416e-04 - val_loss: 2.7893e-04\n",
      "Epoch 86/100\n",
      "33/33 [==============================] - 6s 174ms/step - loss: 1.9783e-04 - val_loss: 2.1679e-04\n",
      "Epoch 87/100\n",
      "33/33 [==============================] - 6s 197ms/step - loss: 2.2170e-04 - val_loss: 4.9693e-04\n",
      "Epoch 88/100\n",
      "33/33 [==============================] - 6s 174ms/step - loss: 2.5079e-04 - val_loss: 3.3107e-04\n",
      "Epoch 89/100\n",
      "33/33 [==============================] - 6s 194ms/step - loss: 2.2113e-04 - val_loss: 2.3118e-04\n",
      "Epoch 90/100\n",
      "33/33 [==============================] - 6s 177ms/step - loss: 1.9570e-04 - val_loss: 6.4736e-04\n",
      "Epoch 91/100\n",
      "33/33 [==============================] - 6s 181ms/step - loss: 1.9401e-04 - val_loss: 4.3266e-04\n",
      "Epoch 92/100\n",
      "33/33 [==============================] - 6s 193ms/step - loss: 2.2719e-04 - val_loss: 4.7761e-04\n",
      "Epoch 93/100\n",
      "33/33 [==============================] - 6s 179ms/step - loss: 2.0119e-04 - val_loss: 2.4888e-04\n",
      "Epoch 94/100\n",
      "33/33 [==============================] - 6s 180ms/step - loss: 2.0049e-04 - val_loss: 2.8313e-04\n",
      "Epoch 95/100\n",
      "33/33 [==============================] - 6s 183ms/step - loss: 1.7871e-04 - val_loss: 4.6615e-04\n",
      "Epoch 96/100\n",
      "33/33 [==============================] - 6s 187ms/step - loss: 2.0696e-04 - val_loss: 2.1246e-04\n",
      "Epoch 97/100\n",
      "33/33 [==============================] - 6s 189ms/step - loss: 1.7661e-04 - val_loss: 3.3761e-04\n",
      "Epoch 98/100\n",
      "33/33 [==============================] - 6s 180ms/step - loss: 1.7850e-04 - val_loss: 2.9125e-04\n",
      "Epoch 99/100\n",
      "33/33 [==============================] - 6s 176ms/step - loss: 1.9793e-04 - val_loss: 2.0153e-04\n",
      "Epoch 100/100\n",
      "33/33 [==============================] - 6s 183ms/step - loss: 2.4980e-04 - val_loss: 2.3154e-04\n"
     ]
    },
    {
     "data": {
      "text/plain": [
       "<keras.src.callbacks.History at 0x7f88e517a100>"
      ]
     },
     "execution_count": 30,
     "metadata": {},
     "output_type": "execute_result"
    }
   ],
   "source": [
    "model.fit(X_train,y_train,validation_data=(X_test,ytest),epochs=100,batch_size=64,verbose=1)"
   ]
  },
  {
   "cell_type": "code",
   "execution_count": 83,
   "metadata": {},
   "outputs": [],
   "source": [
    "import tensorflow as tf"
   ]
  },
  {
   "cell_type": "code",
   "execution_count": 32,
   "metadata": {},
   "outputs": [
    {
     "data": {
      "text/plain": [
       "'2.13.0'"
      ]
     },
     "execution_count": 32,
     "metadata": {},
     "output_type": "execute_result"
    }
   ],
   "source": [
    "tf.__version__"
   ]
  },
  {
   "cell_type": "code",
   "execution_count": 84,
   "metadata": {},
   "outputs": [
    {
     "name": "stdout",
     "output_type": "stream",
     "text": [
      "65/65 [==============================] - 4s 42ms/step\n",
      "34/34 [==============================] - 1s 40ms/step\n"
     ]
    }
   ],
   "source": [
    "### Lets Do the prediction and check performance metrics\n",
    "train_predict=model.predict(X_train)\n",
    "test_predict=model.predict(X_test)"
   ]
  },
  {
   "cell_type": "code",
   "execution_count": 107,
   "metadata": {},
   "outputs": [
    {
     "data": {
      "text/plain": [
       "array([[0.10480769],\n",
       "       [0.10240888],\n",
       "       [0.10283531],\n",
       "       ...,\n",
       "       [0.93799529],\n",
       "       [0.93366487],\n",
       "       [0.91881772]])"
      ]
     },
     "execution_count": 107,
     "metadata": {},
     "output_type": "execute_result"
    }
   ],
   "source": [
    "d =scaler.inverse_transform(df1)\n",
    "d"
   ]
  },
  {
   "cell_type": "code",
   "execution_count": 70,
   "metadata": {},
   "outputs": [],
   "source": [
    "##Transformback to original form\n",
    "train_predict=scaler.inverse_transform(train_predict)\n",
    "test_predict=scaler.inverse_transform(test_predict)"
   ]
  },
  {
   "cell_type": "code",
   "execution_count": 103,
   "metadata": {},
   "outputs": [
    {
     "data": {
      "text/plain": [
       "array([[0.00242133],\n",
       "       [0.00235525],\n",
       "       [0.00228556],\n",
       "       ...,\n",
       "       [0.00851637],\n",
       "       [0.00858371],\n",
       "       [0.00864911]], dtype=float32)"
      ]
     },
     "execution_count": 103,
     "metadata": {},
     "output_type": "execute_result"
    }
   ],
   "source": [
    "train_predict"
   ]
  },
  {
   "cell_type": "code",
   "execution_count": 85,
   "metadata": {},
   "outputs": [
    {
     "data": {
      "text/plain": [
       "0.4189252597609577"
      ]
     },
     "execution_count": 85,
     "metadata": {},
     "output_type": "execute_result"
    }
   ],
   "source": [
    "### Calculate RMSE performance metrics\n",
    "import math\n",
    "from sklearn.metrics import mean_squared_error\n",
    "math.sqrt(mean_squared_error(y_train,train_predict))"
   ]
  },
  {
   "cell_type": "code",
   "execution_count": 86,
   "metadata": {},
   "outputs": [
    {
     "data": {
      "text/plain": [
       "0.5896942062759852"
      ]
     },
     "execution_count": 86,
     "metadata": {},
     "output_type": "execute_result"
    }
   ],
   "source": [
    "### Test Data RMSE\n",
    "math.sqrt(mean_squared_error(ytest,test_predict))"
   ]
  },
  {
   "cell_type": "code",
   "execution_count": null,
   "metadata": {},
   "outputs": [],
   "source": []
  },
  {
   "cell_type": "code",
   "execution_count": 101,
   "metadata": {},
   "outputs": [
    {
     "data": {
      "image/png": "[encoded data removed]",
      "text/plain": [
       "<Figure size 640x480 with 1 Axes>"
      ]
     },
     "metadata": {},
     "output_type": "display_data"
    }
   ],
   "source": [
    "### Plotting \n",
    "# shift train predictions for plotting\n",
    "look_back=100\n",
    "trainPredictPlot = numpy.empty_like(df1)\n",
    "trainPredictPlot[:, :] = np.nan\n",
    "trainPredictPlot[look_back:len(train_predict)+look_back, :] = train_predict\n",
    "# shift test predictions for plotting\n",
    "testPredictPlot = numpy.empty_like(df1)\n",
    "testPredictPlot[:, :] = numpy.nan\n",
    "testPredictPlot[len(train_predict)+(look_back*2)+1:len(df1)-1, :] = test_predict\n",
    "# plot baseline and predictions\n",
    "plt.plot(scaler.inverse_transform(df1))\n",
    "plt.plot(trainPredictPlot)\n",
    "plt.plot(testPredictPlot)\n",
    "plt.show()"
   ]
  },
  {
   "cell_type": "code",
   "execution_count": 38,
   "metadata": {},
   "outputs": [
    {
     "data": {
      "text/plain": [
       "1160"
      ]
     },
     "execution_count": 38,
     "metadata": {},
     "output_type": "execute_result"
    }
   ],
   "source": [
    "len(test_data)"
   ]
  },
  {
   "cell_type": "code",
   "execution_count": 39,
   "metadata": {},
   "outputs": [
    {
     "data": {
      "text/plain": [
       "(1, 819)"
      ]
     },
     "execution_count": 39,
     "metadata": {},
     "output_type": "execute_result"
    }
   ],
   "source": [
    "x_input=test_data[341:].reshape(1,-1)\n",
    "x_input.shape\n"
   ]
  },
  {
   "cell_type": "code",
   "execution_count": null,
   "metadata": {},
   "outputs": [],
   "source": []
  },
  {
   "cell_type": "code",
   "execution_count": null,
   "metadata": {},
   "outputs": [],
   "source": []
  },
  {
   "cell_type": "code",
   "execution_count": 40,
   "metadata": {},
   "outputs": [],
   "source": [
    "temp_input=list(x_input)\n",
    "temp_input=temp_input[0].tolist()"
   ]
  },
  {
   "cell_type": "code",
   "execution_count": 440,
   "metadata": {},
   "outputs": [
    {
     "data": {
      "text/plain": [
       "[0.8583551465000423,\n",
       " 0.8866418981676942,\n",
       " 0.8743139407244789,\n",
       " 0.8843198513890065,\n",
       " 0.8783669678290975,\n",
       " 0.8986321033521913,\n",
       " 0.925821160179009,\n",
       " 0.9287764924427933,\n",
       " 0.9567677108840666,\n",
       " 0.9386979650426415,\n",
       " 0.933040614709111,\n",
       " 0.9495060373216249,\n",
       " 0.9642404796082076,\n",
       " 0.9551211686228154,\n",
       " 0.9598919192772104,\n",
       " 0.9663514312251966,\n",
       " 0.9624672802499368,\n",
       " 0.9229502659799038,\n",
       " 0.9598497002448705,\n",
       " 0.9879253567508233,\n",
       " 0.985941062230854,\n",
       " 0.9253145317909315,\n",
       " 0.9217259140420504,\n",
       " 0.964747107996285,\n",
       " 0.9757240564046274,\n",
       " 0.9915984125643842,\n",
       " 0.9697289538123788,\n",
       " 0.9761462467280253,\n",
       " 0.9679557544541082,\n",
       " 1.0000000000000002,\n",
       " 0.9901629654648318,\n",
       " 0.9905007177235499,\n",
       " 0.9653803934813816,\n",
       " 0.9848855864223593,\n",
       " 0.9708688676855528,\n",
       " 0.9402600692392133,\n",
       " 0.8774803681499621,\n",
       " 0.8348391454867856,\n",
       " 0.8541332432660644,\n",
       " 0.7733682344000676,\n",
       " 0.7726927298826314,\n",
       " 0.8801401671873683,\n",
       " 0.8400743054969182,\n",
       " 0.8967322468969012,\n",
       " 0.8552731571392387,\n",
       " 0.8388499535590646,\n",
       " 0.7423372456303303,\n",
       " 0.8232711306256861,\n",
       " 0.7814320695769654,\n",
       " 0.6665963016127672,\n",
       " 0.7921557037912694,\n",
       " 0.6411804441442204,\n",
       " 0.6861437135860848,\n",
       " 0.6600101325677616,\n",
       " 0.6520307354555435,\n",
       " 0.5864223591995272,\n",
       " 0.5658616904500551,\n",
       " 0.660896732246897,\n",
       " 0.6551549438486872,\n",
       " 0.7097019336316812,\n",
       " 0.664527569028118,\n",
       " 0.6943764248923416,\n",
       " 0.692181035210673,\n",
       " 0.6356919699400492,\n",
       " 0.6526640209406402,\n",
       " 0.637802921557038,\n",
       " 0.7267162036646122,\n",
       " 0.7138816178333194,\n",
       " 0.7419150553069325,\n",
       " 0.7500211095161702,\n",
       " 0.7722283205268936,\n",
       " 0.8304905851557884,\n",
       " 0.8194291986827664,\n",
       " 0.8289706999915563,\n",
       " 0.8125474964113824,\n",
       " 0.7877649244279323,\n",
       " 0.7516254327450818,\n",
       " 0.7842607447437306,\n",
       " 0.7797433082833742,\n",
       " 0.8132652199611587,\n",
       " 0.8141096006079542,\n",
       " 0.7947310647639958,\n",
       " 0.8333614793548934,\n",
       " 0.8589884319851391,\n",
       " 0.8390188296884238,\n",
       " 0.8562864139153934,\n",
       " 0.8748627881448958,\n",
       " 0.887824031073208,\n",
       " 0.9009541501308793,\n",
       " 0.9279321117959978,\n",
       " 0.9485349995778098,\n",
       " 0.9333361479354896,\n",
       " 0.9174617917757326,\n",
       " 0.925441188887951,\n",
       " 0.9177151059697712,\n",
       " 0.9483239044161109,\n",
       " 0.9406400405302711,\n",
       " 0.9663514312251966,\n",
       " 0.9563033015283293,\n",
       " 0.964915984125644]"
      ]
     },
     "execution_count": 440,
     "metadata": {},
     "output_type": "execute_result"
    }
   ],
   "source": [
    "temp_input"
   ]
  },
  {
   "cell_type": "code",
   "execution_count": 41,
   "metadata": {},
   "outputs": [
    {
     "name": "stdout",
     "output_type": "stream",
     "text": [
      "0 day input [0.2980493  0.2980493  0.28621777 0.29165389 0.31531701 0.2868573\n",
      " 0.28014216 0.26639193 0.26127558 0.25232194 0.25871736 0.25583951\n",
      " 0.26287446 0.25743824 0.2596767  0.2344147  0.23761246 0.25072316\n",
      " 0.25296152 0.2596767  0.27022922 0.2727874  0.27374665 0.30892164\n",
      " 0.32778817 0.32554976 0.33322429 0.32618929 0.34857335 0.37223647\n",
      " 0.3565676  0.35209087 0.34185812 0.34153831 0.32810794 0.31947411\n",
      " 0.31627631 0.31947411 0.32235205 0.33993952 0.34825358 0.33386382\n",
      " 0.32075317 0.34697447 0.33386382 0.32267187 0.32459046 0.34185812\n",
      " 0.33866046 0.33929999 0.32778817 0.33290452 0.33002649 0.32778817\n",
      " 0.33578251 0.329387   0.32459046 0.31563682 0.33258476 0.34153831\n",
      " 0.37447483 0.36520152 0.379911   0.37031778 0.37639353 0.37415512\n",
      " 0.36903871 0.34313723 0.34249765 0.32810794 0.33290452 0.33066607\n",
      " 0.33450335 0.329387   0.33386382 0.3335441  0.32586953 0.33226499\n",
      " 0.31915434 0.33674177 0.33322429 0.33961976 0.34633489 0.34505583\n",
      " 0.34185812 0.34153831 0.33898018 0.33450335 0.33834069 0.32554976\n",
      " 0.31819504 0.32235205 0.32107294 0.31339846 0.31275883 0.30604365\n",
      " 0.29197375 0.31116    0.30828215 0.30572388 0.30284589 0.30572388\n",
      " 0.29996804 0.292933   0.27374665 0.2638338  0.26255465 0.23729269\n",
      " 0.25072316 0.26063605 0.2555197  0.24944404 0.25072316 0.25999647\n",
      " 0.25871736 0.25775806 0.2596767  0.26607217 0.26095577 0.26351394\n",
      " 0.25424063 0.2536011  0.25136264 0.26799081 0.25679871 0.26287446\n",
      " 0.27374665 0.27726417 0.27630487 0.27630487 0.27598506 0.27822347\n",
      " 0.28557828 0.27694441 0.27566529 0.27534558 0.28717707 0.2900551\n",
      " 0.29613071 0.31563682 0.32043341 0.32235205 0.31883453 0.33098588\n",
      " 0.32011359 0.32203224 0.31851476 0.31947411 0.32970682 0.32778817\n",
      " 0.32522995 0.3242707  0.31787528 0.32586953 0.34217788 0.35177111\n",
      " 0.35496881 0.36328288 0.35912582 0.37767264 0.36807946 0.37703301\n",
      " 0.39206235 0.38726576 0.3930216  0.38694595 0.37767264 0.33386382\n",
      " 0.33929999 0.34057905 0.35400947 0.36328288 0.36008512 0.35816648\n",
      " 0.35848634 0.36200376 0.37703301 0.37159684 0.37863194 0.38119011\n",
      " 0.39174254 0.39078319 0.4032544  0.42244066 0.43683046 0.42467907\n",
      " 0.40549277 0.4070916  0.40549277 0.39526006 0.38886464 0.37447483\n",
      " 0.36136423 0.36903871 0.37319577 0.38950408 0.40869043 0.42819659\n",
      " 0.43938869 0.43171406 0.4425863  0.45016747 0.44362008 0.44189712\n",
      " 0.43224835 0.42570095 0.43569432 0.43155907 0.45912706 0.44913365\n",
      " 0.43603891 0.44982284 0.45189058 0.47222176 0.45257967 0.47084344\n",
      " 0.4811814  0.48393823 0.47601237 0.47601237 0.49083017 0.46980966\n",
      " 0.45809329 0.47497859 0.47325568 0.46877579 0.4536134  0.44706605\n",
      " 0.4574041  0.46016084 0.46442508 0.44878962 0.42284901 0.42284901\n",
      " 0.42746856 0.42960068 0.43883978 0.42178295 0.42462573 0.43564155\n",
      " 0.43741836 0.42853462 0.39513163 0.40792422 0.41716336 0.41751876\n",
      " 0.40294932 0.40081724 0.4011726  0.40259401 0.40366002 0.40827962\n",
      " 0.41218846 0.40863492 0.42249366 0.4267579  0.4264025  0.43208816\n",
      " 0.43493094 0.44985569 0.48148186 0.51381888 0.50742247 0.49498524\n",
      " 0.50173686 0.52696681 0.53869343 0.52092585 0.51808298 0.5546841\n",
      " 0.56072506 0.57280703 0.56036975 0.55752693 0.55326287 0.55788233\n",
      " 0.56463399 0.57600526 0.59128522 0.59199602 0.60621016 0.59377274\n",
      " 0.60087981 0.59483875 0.59235133 0.59945839 0.60052441 0.59128522\n",
      " 0.57493924 0.57742667 0.58595506 0.57920348 0.56889828 0.56854288\n",
      " 0.56463399 0.5454451  0.54366838 0.54118086 0.54757722 0.55006455\n",
      " 0.54722182 0.54402368 0.54118086 0.53940404 0.53869343 0.54295767\n",
      " 0.53798272 0.53229711 0.53087565 0.52980959 0.52732217 0.53513989\n",
      " 0.53016495 0.5205704  0.51559565 0.5159509  0.51524015 0.50990994\n",
      " 0.52661146 0.53123096 0.52519    0.52627159 0.54033044 0.52951588\n",
      " 0.51401494 0.53131828 0.52735299 0.53131828 0.54970316 0.53888859\n",
      " 0.54249343 0.5230272  0.51942231 0.54033044 0.54177244 0.5381676\n",
      " 0.54069094 0.55078465 0.57601866 0.57529766 0.57097178 0.5922405\n",
      " 0.58142585 0.58322834 0.58863562 0.59007761 0.59872919 0.60774145\n",
      " 0.61603252 0.63009147 0.62937057 0.60305497 0.60593886 0.61639312\n",
      " 0.62756808 0.6221608  0.63225437 0.66325625 0.69570003 0.680199\n",
      " 0.69533954 0.68704827 0.71336387 0.71480577 0.73030652 0.72706223\n",
      " 0.72525983 0.72309694 0.72309694 0.74580756 0.75986651 0.74148168\n",
      " 0.71805016 0.72598083 0.71913156 0.71732916 0.72489934 0.71985255\n",
      " 0.70435161 0.69930483 0.72598083 0.71985255 0.7324696  0.74760995\n",
      " 0.7894264  0.78401903 0.78221663 0.77361707 0.77099985 0.77025204\n",
      " 0.75641813 0.7373495  0.74407955 0.70781207 0.72015047 0.73099335\n",
      " 0.71641163 0.68126577 0.66518835 0.66631005 0.65696278 0.67902245\n",
      " 0.69061313 0.68126577 0.67864854 0.67715294 0.67191849 0.67453562\n",
      " 0.66144951 0.65845839 0.64200707 0.64238097 0.62069521 0.59003617\n",
      " 0.59564452 0.59227949 0.61546077 0.60125286 0.60499179 0.61658247\n",
      " 0.61060013 0.60349618 0.61060013 0.62144311 0.62966858 0.65359776\n",
      " 0.65359776 0.66294503 0.67191849 0.66369283 0.66780566 0.68276128\n",
      " 0.6988386  0.70220372 0.70369924 0.7122989  0.71528993 0.68687421\n",
      " 0.67677903 0.68500469 0.69435197 0.70482085 0.71304661 0.68724801\n",
      " 0.70743826 0.70893368 0.70519485 0.69584748 0.68425698 0.71286801\n",
      " 0.70436199 0.72060073 0.67807075 0.69508269 0.71634773 0.71557443\n",
      " 0.71364121 0.6985624  0.68232376 0.68271031 0.6274213  0.64559327\n",
      " 0.66608492 0.64481997 0.66337859 0.6525527  0.64481997 0.68193702\n",
      " 0.68116382 0.71209472 0.73335976 0.71093478 0.69701601 0.71982744\n",
      " 0.71518788 0.68928309 0.70977494 0.71789431 0.70938829 0.69546933\n",
      " 0.70436199 0.69160297 0.68309695 0.69662927 0.72098738 0.72253387\n",
      " 0.72524039 0.75153163 0.73219982 0.75849107 0.77318332 0.75153163\n",
      " 0.76583715 0.76738382 0.78439576 0.80836723 0.82112625 0.8157133\n",
      " 0.76467721 0.7747299  0.76158423 0.78168924 0.75114499 0.75617129\n",
      " 0.74998514 0.74882521 0.75307812 0.73567954 0.72021418 0.70822836\n",
      " 0.72098738 0.71480124 0.72098738 0.73877261 0.68966983 0.6834836\n",
      " 0.68116382 0.68696331 0.69469604 0.66453843 0.65989878 0.65951213\n",
      " 0.67459094 0.67381774 0.69082977 0.68657676 0.69160297 0.68580347\n",
      " 0.69082977 0.68928309 0.69160297 0.6834836  0.65525912 0.62935452\n",
      " 0.62123515 0.61311578 0.58257144 0.57367877 0.59455726 0.59301068\n",
      " 0.6065429  0.61582221 0.62394158 0.61427572 0.62587481 0.63805386\n",
      " 0.64153358 0.63921371 0.63051437 0.61891528 0.62007522 0.62007522\n",
      " 0.61833541 0.59629707 0.59339733 0.59745701 0.59281736 0.60209667\n",
      " 0.61195585 0.61601553 0.61833541 0.61369575 0.61311578 0.60789616\n",
      " 0.61311578 0.61253591 0.62297506 0.6015167  0.61137588 0.60035676\n",
      " 0.60267663 0.62471487 0.62761462 0.61775544 0.62795218 0.63514996\n",
      " 0.65434386 0.65674312 0.64834576 0.64234765 0.63215091 0.62915186\n",
      " 0.62315375 0.63395028 0.6393486  0.62915186 0.63455017 0.63035144\n",
      " 0.63215091 0.62795218 0.62495313 0.63335049 0.65314428 0.64714617\n",
      " 0.64834576 0.64354733 0.63814901 0.63514996 0.61595597 0.61235712\n",
      " 0.60575923 0.59796165 0.59016417 0.58596544 0.5691708  0.57756817\n",
      " 0.56557191 0.56737138 0.57996734 0.57696828 0.58416607 0.58956438\n",
      " 0.58596544 0.58716512 0.56797113 0.58356627 0.57876775 0.57216986\n",
      " 0.5691708  0.57696828 0.58056722 0.59076396 0.58656533 0.59316322\n",
      " 0.59136376 0.59616228 0.59796165 0.59556249 0.59856154 0.59976112\n",
      " 0.60096071 0.59856154 0.61775544 0.61115754 0.61175733 0.6135568\n",
      " 0.60995786 0.61175733 0.60815849 0.60575923 0.6075587  0.61715565\n",
      " 0.61655585 0.61535618 0.64114807 0.65674312 0.69093229 0.68013575\n",
      " 0.6963306  0.69093229 0.70052933 0.70112912 0.68613386 0.69693039\n",
      " 0.69753028 0.70052933 0.72332207 0.70952649 0.71432492 0.71372512\n",
      " 0.69992944 0.71192565 0.71012628 0.69333155 0.67773649 0.65254449\n",
      " 0.66933913 0.67773649 0.67413765 0.67353786 0.69453122 0.71252554\n",
      " 0.71852365 0.71372512 0.72572133 0.73711775 0.73771755 0.74371565\n",
      " 0.77910449 0.75571186 0.76410923 0.76350944 0.75571186 0.76230976\n",
      " 0.77550565 0.77130692 0.77790481 0.77430597 0.76650849 0.74851417\n",
      " 0.75751133 0.75751133 0.7341187  0.71912344 0.71792376 0.7275208\n",
      " 0.72512154 0.7275208  0.73171944 0.7341187  0.73051986 0.72632113\n",
      " 0.73051986 0.7341187  0.74311586 0.73111965 0.72692092 0.70412817\n",
      " 0.7029285  0.70472797 0.69872986 0.68913291 0.69992944 0.71132586\n",
      " 0.71492471 0.7275208  0.72692092 0.72092281 0.72332207 0.71012628\n",
      " 0.7089266  0.71972323 0.73531828 0.7281206  0.74371565 0.73111965\n",
      " 0.73171944 0.72452175 0.71732397 0.70172891 0.69932965 0.69932965\n",
      " 0.71132586 0.70652744 0.7023287  0.7089266  0.71012628 0.71132586\n",
      " 0.71252554 0.7029285  0.70352838 0.71252554 0.71912344 0.71492471\n",
      " 0.71552459 0.71552459 0.71792376 0.71792376 0.74191618 0.7533126\n",
      " 0.76230976 0.76890766 0.77610544 0.77010733 0.77550565 0.78450281\n",
      " 0.78750186 0.78390292 0.77910449 0.78690197 0.82049144 0.82708933\n",
      " 0.80849523 0.80909502 0.82229081 0.84448386 0.85228134 0.84628323\n",
      " 0.85887924 0.85707986 0.86007891 0.85648007 0.86247818 0.85408081\n",
      " 0.84748291 0.84928229 0.86667681 0.85707986 0.86007891 0.87867302\n",
      " 0.87927291 0.89426817 0.89126912 0.88227196 0.87927291 0.87927291\n",
      " 0.88047249 0.88047249 0.8480827  0.85108176 0.84868249 0.84868249\n",
      " 0.87207512 0.91946018 0.91226249 0.92245923 0.95964744 0.96684513\n",
      " 0.94525207 0.95364934 0.95125017 0.9308565  0.93565502 0.94465218\n",
      " 0.94765123 0.95544881 0.96144691 0.9686446  0.97464271 0.96444597\n",
      " 0.97164366 0.95964744 0.95531703 0.93675804 0.9398512  0.93799529\n",
      " 0.93366487 0.91881772]\n"
     ]
    },
    {
     "ename": "ValueError",
     "evalue": "cannot reshape array of size 818 into shape (1,100,1)",
     "output_type": "error",
     "traceback": [
      "\u001b[0;31m---------------------------------------------------------------------------\u001b[0m",
      "\u001b[0;31mValueError\u001b[0m                                Traceback (most recent call last)",
      "Cell \u001b[0;32mIn[41], line 14\u001b[0m\n\u001b[1;32m     12\u001b[0m \u001b[38;5;28mprint\u001b[39m(\u001b[38;5;124m\"\u001b[39m\u001b[38;5;132;01m{}\u001b[39;00m\u001b[38;5;124m day input \u001b[39m\u001b[38;5;132;01m{}\u001b[39;00m\u001b[38;5;124m\"\u001b[39m\u001b[38;5;241m.\u001b[39mformat(i,x_input))\n\u001b[1;32m     13\u001b[0m x_input\u001b[38;5;241m=\u001b[39mx_input\u001b[38;5;241m.\u001b[39mreshape(\u001b[38;5;241m1\u001b[39m,\u001b[38;5;241m-\u001b[39m\u001b[38;5;241m1\u001b[39m)\n\u001b[0;32m---> 14\u001b[0m x_input \u001b[38;5;241m=\u001b[39m \u001b[43mx_input\u001b[49m\u001b[38;5;241;43m.\u001b[39;49m\u001b[43mreshape\u001b[49m\u001b[43m(\u001b[49m\u001b[43m(\u001b[49m\u001b[38;5;241;43m1\u001b[39;49m\u001b[43m,\u001b[49m\u001b[43m \u001b[49m\u001b[43mn_steps\u001b[49m\u001b[43m,\u001b[49m\u001b[43m \u001b[49m\u001b[38;5;241;43m1\u001b[39;49m\u001b[43m)\u001b[49m\u001b[43m)\u001b[49m\n\u001b[1;32m     15\u001b[0m \u001b[38;5;66;03m#print(x_input)\u001b[39;00m\n\u001b[1;32m     16\u001b[0m yhat \u001b[38;5;241m=\u001b[39m model\u001b[38;5;241m.\u001b[39mpredict(x_input, verbose\u001b[38;5;241m=\u001b[39m\u001b[38;5;241m0\u001b[39m)\n",
      "\u001b[0;31mValueError\u001b[0m: cannot reshape array of size 818 into shape (1,100,1)"
     ]
    }
   ],
   "source": [
    "# demonstrate prediction for next 10 days\n",
    "from numpy import array\n",
    "\n",
    "lst_output=[]\n",
    "n_steps=100\n",
    "i=0\n",
    "while(i<30):\n",
    "    \n",
    "    if(len(temp_input)>100):\n",
    "        #print(temp_input)\n",
    "        x_input=np.array(temp_input[1:])\n",
    "        print(\"{} day input {}\".format(i,x_input))\n",
    "        x_input=x_input.reshape(1,-1)\n",
    "        x_input = x_input.reshape((1, n_steps, 1))\n",
    "        #print(x_input)\n",
    "        yhat = model.predict(x_input, verbose=0)\n",
    "        print(\"{} day output {}\".format(i,yhat))\n",
    "        temp_input.extend(yhat[0].tolist())\n",
    "        temp_input=temp_input[1:]\n",
    "        #print(temp_input)\n",
    "        lst_output.extend(yhat.tolist())\n",
    "        i=i+1\n",
    "    else:\n",
    "        x_input = x_input.reshape((1, n_steps,1))\n",
    "        yhat = model.predict(x_input, verbose=0)\n",
    "        print(yhat[0])\n",
    "        temp_input.extend(yhat[0].tolist())\n",
    "        print(len(temp_input))\n",
    "        lst_output.extend(yhat.tolist())\n",
    "        i=i+1\n",
    "    \n",
    "\n",
    "print(lst_output)"
   ]
  },
  {
   "cell_type": "code",
   "execution_count": 46,
   "metadata": {},
   "outputs": [],
   "source": [
    "day_new=np.arange(1,101)\n",
    "day_pred=np.arange(101,131)"
   ]
  },
  {
   "cell_type": "code",
   "execution_count": 47,
   "metadata": {},
   "outputs": [],
   "source": [
    "import matplotlib.pyplot as plt"
   ]
  },
  {
   "cell_type": "code",
   "execution_count": 44,
   "metadata": {},
   "outputs": [
    {
     "data": {
      "text/plain": [
       "3314"
      ]
     },
     "execution_count": 44,
     "metadata": {},
     "output_type": "execute_result"
    }
   ],
   "source": [
    "len(df1)"
   ]
  },
  {
   "cell_type": "code",
   "execution_count": 392,
   "metadata": {},
   "outputs": [],
   "source": []
  },
  {
   "cell_type": "code",
   "execution_count": 48,
   "metadata": {},
   "outputs": [
    {
     "ename": "ValueError",
     "evalue": "x and y must have same first dimension, but have shapes (100,) and (2156, 1)",
     "output_type": "error",
     "traceback": [
      "\u001b[0;31m---------------------------------------------------------------------------\u001b[0m",
      "\u001b[0;31mValueError\u001b[0m                                Traceback (most recent call last)",
      "Cell \u001b[0;32mIn[48], line 1\u001b[0m\n\u001b[0;32m----> 1\u001b[0m \u001b[43mplt\u001b[49m\u001b[38;5;241;43m.\u001b[39;49m\u001b[43mplot\u001b[49m\u001b[43m(\u001b[49m\u001b[43mday_new\u001b[49m\u001b[43m,\u001b[49m\u001b[43mscaler\u001b[49m\u001b[38;5;241;43m.\u001b[39;49m\u001b[43minverse_transform\u001b[49m\u001b[43m(\u001b[49m\u001b[43mdf1\u001b[49m\u001b[43m[\u001b[49m\u001b[38;5;241;43m1158\u001b[39;49m\u001b[43m:\u001b[49m\u001b[43m]\u001b[49m\u001b[43m)\u001b[49m\u001b[43m)\u001b[49m\n\u001b[1;32m      2\u001b[0m plt\u001b[38;5;241m.\u001b[39mplot(day_pred,scaler\u001b[38;5;241m.\u001b[39minverse_transform(lst_output))\n",
      "File \u001b[0;32m~/opt/anaconda3/envs/my_own/lib/python3.9/site-packages/matplotlib/pyplot.py:2812\u001b[0m, in \u001b[0;36mplot\u001b[0;34m(scalex, scaley, data, *args, **kwargs)\u001b[0m\n\u001b[1;32m   2810\u001b[0m \u001b[38;5;129m@_copy_docstring_and_deprecators\u001b[39m(Axes\u001b[38;5;241m.\u001b[39mplot)\n\u001b[1;32m   2811\u001b[0m \u001b[38;5;28;01mdef\u001b[39;00m \u001b[38;5;21mplot\u001b[39m(\u001b[38;5;241m*\u001b[39margs, scalex\u001b[38;5;241m=\u001b[39m\u001b[38;5;28;01mTrue\u001b[39;00m, scaley\u001b[38;5;241m=\u001b[39m\u001b[38;5;28;01mTrue\u001b[39;00m, data\u001b[38;5;241m=\u001b[39m\u001b[38;5;28;01mNone\u001b[39;00m, \u001b[38;5;241m*\u001b[39m\u001b[38;5;241m*\u001b[39mkwargs):\n\u001b[0;32m-> 2812\u001b[0m     \u001b[38;5;28;01mreturn\u001b[39;00m \u001b[43mgca\u001b[49m\u001b[43m(\u001b[49m\u001b[43m)\u001b[49m\u001b[38;5;241;43m.\u001b[39;49m\u001b[43mplot\u001b[49m\u001b[43m(\u001b[49m\n\u001b[1;32m   2813\u001b[0m \u001b[43m        \u001b[49m\u001b[38;5;241;43m*\u001b[39;49m\u001b[43margs\u001b[49m\u001b[43m,\u001b[49m\u001b[43m \u001b[49m\u001b[43mscalex\u001b[49m\u001b[38;5;241;43m=\u001b[39;49m\u001b[43mscalex\u001b[49m\u001b[43m,\u001b[49m\u001b[43m \u001b[49m\u001b[43mscaley\u001b[49m\u001b[38;5;241;43m=\u001b[39;49m\u001b[43mscaley\u001b[49m\u001b[43m,\u001b[49m\n\u001b[1;32m   2814\u001b[0m \u001b[43m        \u001b[49m\u001b[38;5;241;43m*\u001b[39;49m\u001b[38;5;241;43m*\u001b[39;49m\u001b[43m(\u001b[49m\u001b[43m{\u001b[49m\u001b[38;5;124;43m\"\u001b[39;49m\u001b[38;5;124;43mdata\u001b[39;49m\u001b[38;5;124;43m\"\u001b[39;49m\u001b[43m:\u001b[49m\u001b[43m \u001b[49m\u001b[43mdata\u001b[49m\u001b[43m}\u001b[49m\u001b[43m \u001b[49m\u001b[38;5;28;43;01mif\u001b[39;49;00m\u001b[43m \u001b[49m\u001b[43mdata\u001b[49m\u001b[43m \u001b[49m\u001b[38;5;129;43;01mis\u001b[39;49;00m\u001b[43m \u001b[49m\u001b[38;5;129;43;01mnot\u001b[39;49;00m\u001b[43m \u001b[49m\u001b[38;5;28;43;01mNone\u001b[39;49;00m\u001b[43m \u001b[49m\u001b[38;5;28;43;01melse\u001b[39;49;00m\u001b[43m \u001b[49m\u001b[43m{\u001b[49m\u001b[43m}\u001b[49m\u001b[43m)\u001b[49m\u001b[43m,\u001b[49m\u001b[43m \u001b[49m\u001b[38;5;241;43m*\u001b[39;49m\u001b[38;5;241;43m*\u001b[39;49m\u001b[43mkwargs\u001b[49m\u001b[43m)\u001b[49m\n",
      "File \u001b[0;32m~/opt/anaconda3/envs/my_own/lib/python3.9/site-packages/matplotlib/axes/_axes.py:1688\u001b[0m, in \u001b[0;36mAxes.plot\u001b[0;34m(self, scalex, scaley, data, *args, **kwargs)\u001b[0m\n\u001b[1;32m   1445\u001b[0m \u001b[38;5;250m\u001b[39m\u001b[38;5;124;03m\"\"\"\u001b[39;00m\n\u001b[1;32m   1446\u001b[0m \u001b[38;5;124;03mPlot y versus x as lines and/or markers.\u001b[39;00m\n\u001b[1;32m   1447\u001b[0m \n\u001b[0;32m   (...)\u001b[0m\n\u001b[1;32m   1685\u001b[0m \u001b[38;5;124;03m(``'green'``) or hex strings (``'#008000'``).\u001b[39;00m\n\u001b[1;32m   1686\u001b[0m \u001b[38;5;124;03m\"\"\"\u001b[39;00m\n\u001b[1;32m   1687\u001b[0m kwargs \u001b[38;5;241m=\u001b[39m cbook\u001b[38;5;241m.\u001b[39mnormalize_kwargs(kwargs, mlines\u001b[38;5;241m.\u001b[39mLine2D)\n\u001b[0;32m-> 1688\u001b[0m lines \u001b[38;5;241m=\u001b[39m [\u001b[38;5;241m*\u001b[39m\u001b[38;5;28mself\u001b[39m\u001b[38;5;241m.\u001b[39m_get_lines(\u001b[38;5;241m*\u001b[39margs, data\u001b[38;5;241m=\u001b[39mdata, \u001b[38;5;241m*\u001b[39m\u001b[38;5;241m*\u001b[39mkwargs)]\n\u001b[1;32m   1689\u001b[0m \u001b[38;5;28;01mfor\u001b[39;00m line \u001b[38;5;129;01min\u001b[39;00m lines:\n\u001b[1;32m   1690\u001b[0m     \u001b[38;5;28mself\u001b[39m\u001b[38;5;241m.\u001b[39madd_line(line)\n",
      "File \u001b[0;32m~/opt/anaconda3/envs/my_own/lib/python3.9/site-packages/matplotlib/axes/_base.py:311\u001b[0m, in \u001b[0;36m_process_plot_var_args.__call__\u001b[0;34m(self, data, *args, **kwargs)\u001b[0m\n\u001b[1;32m    309\u001b[0m     this \u001b[38;5;241m+\u001b[39m\u001b[38;5;241m=\u001b[39m args[\u001b[38;5;241m0\u001b[39m],\n\u001b[1;32m    310\u001b[0m     args \u001b[38;5;241m=\u001b[39m args[\u001b[38;5;241m1\u001b[39m:]\n\u001b[0;32m--> 311\u001b[0m \u001b[38;5;28;01myield from\u001b[39;00m \u001b[38;5;28;43mself\u001b[39;49m\u001b[38;5;241;43m.\u001b[39;49m\u001b[43m_plot_args\u001b[49m\u001b[43m(\u001b[49m\n\u001b[1;32m    312\u001b[0m \u001b[43m    \u001b[49m\u001b[43mthis\u001b[49m\u001b[43m,\u001b[49m\u001b[43m \u001b[49m\u001b[43mkwargs\u001b[49m\u001b[43m,\u001b[49m\u001b[43m \u001b[49m\u001b[43mambiguous_fmt_datakey\u001b[49m\u001b[38;5;241;43m=\u001b[39;49m\u001b[43mambiguous_fmt_datakey\u001b[49m\u001b[43m)\u001b[49m\n",
      "File \u001b[0;32m~/opt/anaconda3/envs/my_own/lib/python3.9/site-packages/matplotlib/axes/_base.py:504\u001b[0m, in \u001b[0;36m_process_plot_var_args._plot_args\u001b[0;34m(self, tup, kwargs, return_kwargs, ambiguous_fmt_datakey)\u001b[0m\n\u001b[1;32m    501\u001b[0m     \u001b[38;5;28mself\u001b[39m\u001b[38;5;241m.\u001b[39maxes\u001b[38;5;241m.\u001b[39myaxis\u001b[38;5;241m.\u001b[39mupdate_units(y)\n\u001b[1;32m    503\u001b[0m \u001b[38;5;28;01mif\u001b[39;00m x\u001b[38;5;241m.\u001b[39mshape[\u001b[38;5;241m0\u001b[39m] \u001b[38;5;241m!=\u001b[39m y\u001b[38;5;241m.\u001b[39mshape[\u001b[38;5;241m0\u001b[39m]:\n\u001b[0;32m--> 504\u001b[0m     \u001b[38;5;28;01mraise\u001b[39;00m \u001b[38;5;167;01mValueError\u001b[39;00m(\u001b[38;5;124mf\u001b[39m\u001b[38;5;124m\"\u001b[39m\u001b[38;5;124mx and y must have same first dimension, but \u001b[39m\u001b[38;5;124m\"\u001b[39m\n\u001b[1;32m    505\u001b[0m                      \u001b[38;5;124mf\u001b[39m\u001b[38;5;124m\"\u001b[39m\u001b[38;5;124mhave shapes \u001b[39m\u001b[38;5;132;01m{\u001b[39;00mx\u001b[38;5;241m.\u001b[39mshape\u001b[38;5;132;01m}\u001b[39;00m\u001b[38;5;124m and \u001b[39m\u001b[38;5;132;01m{\u001b[39;00my\u001b[38;5;241m.\u001b[39mshape\u001b[38;5;132;01m}\u001b[39;00m\u001b[38;5;124m\"\u001b[39m)\n\u001b[1;32m    506\u001b[0m \u001b[38;5;28;01mif\u001b[39;00m x\u001b[38;5;241m.\u001b[39mndim \u001b[38;5;241m>\u001b[39m \u001b[38;5;241m2\u001b[39m \u001b[38;5;129;01mor\u001b[39;00m y\u001b[38;5;241m.\u001b[39mndim \u001b[38;5;241m>\u001b[39m \u001b[38;5;241m2\u001b[39m:\n\u001b[1;32m    507\u001b[0m     \u001b[38;5;28;01mraise\u001b[39;00m \u001b[38;5;167;01mValueError\u001b[39;00m(\u001b[38;5;124mf\u001b[39m\u001b[38;5;124m\"\u001b[39m\u001b[38;5;124mx and y can be no greater than 2D, but have \u001b[39m\u001b[38;5;124m\"\u001b[39m\n\u001b[1;32m    508\u001b[0m                      \u001b[38;5;124mf\u001b[39m\u001b[38;5;124m\"\u001b[39m\u001b[38;5;124mshapes \u001b[39m\u001b[38;5;132;01m{\u001b[39;00mx\u001b[38;5;241m.\u001b[39mshape\u001b[38;5;132;01m}\u001b[39;00m\u001b[38;5;124m and \u001b[39m\u001b[38;5;132;01m{\u001b[39;00my\u001b[38;5;241m.\u001b[39mshape\u001b[38;5;132;01m}\u001b[39;00m\u001b[38;5;124m\"\u001b[39m)\n",
      "\u001b[0;31mValueError\u001b[0m: x and y must have same first dimension, but have shapes (100,) and (2156, 1)"
     ]
    },
    {
     "data": {
      "image/png": "[encoded data removed]",
      "text/plain": [
       "<Figure size 640x480 with 1 Axes>"
      ]
     },
     "metadata": {},
     "output_type": "display_data"
    }
   ],
   "source": [
    "plt.plot(day_new,scaler.inverse_transform(df1[1158:]))\n",
    "plt.plot(day_pred,scaler.inverse_transform(lst_output))"
   ]
  },
  {
   "cell_type": "code",
   "execution_count": 49,
   "metadata": {},
   "outputs": [
    {
     "data": {
      "text/plain": [
       "[<matplotlib.lines.Line2D at 0x7f88d4310d30>]"
      ]
     },
     "execution_count": 49,
     "metadata": {},
     "output_type": "execute_result"
    },
    {
     "data": {
      "image/png": "[encoded data removed]",
      "text/plain": [
       "<Figure size 640x480 with 1 Axes>"
      ]
     },
     "metadata": {},
     "output_type": "display_data"
    }
   ],
   "source": [
    "df3=df1.tolist()\n",
    "df3.extend(lst_output)\n",
    "plt.plot(df3[1200:])"
   ]
  },
  {
   "cell_type": "code",
   "execution_count": 50,
   "metadata": {},
   "outputs": [],
   "source": [
    "df3=scaler.inverse_transform(df3).tolist()"
   ]
  },
  {
   "cell_type": "code",
   "execution_count": 51,
   "metadata": {},
   "outputs": [
    {
     "data": {
      "text/plain": [
       "[<matplotlib.lines.Line2D at 0x7f88d426f820>]"
      ]
     },
     "execution_count": 51,
     "metadata": {},
     "output_type": "execute_result"
    },
    {
     "data": {
      "image/png": "[encoded data removed]",
      "text/plain": [
       "<Figure size 640x480 with 1 Axes>"
      ]
     },
     "metadata": {},
     "output_type": "display_data"
    }
   ],
   "source": [
    "plt.plot(df3)"
   ]
  },
  {
   "cell_type": "code",
   "execution_count": null,
   "metadata": {},
   "outputs": [],
   "source": []
  }
 ],
 "metadata": {
  "kernelspec": {
   "display_name": "Python 3 (ipykernel)",
   "language": "python",
   "name": "python3"
  },
  "language_info": {
   "codemirror_mode": {
    "name": "ipython",
    "version": 3
   },
   "file_extension": ".py",
   "mimetype": "text/x-python",
   "name": "python",
   "nbconvert_exporter": "python",
   "pygments_lexer": "ipython3",
   "version": "3.9.16"
  }
 },
 "nbformat": 4,
 "nbformat_minor": 2
}
